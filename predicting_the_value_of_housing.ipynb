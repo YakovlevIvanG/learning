{
  "cells": [
    {
      "cell_type": "markdown",
      "id": "GEqQaHzsZ_bA",
      "metadata": {
        "id": "GEqQaHzsZ_bA"
      },
      "source": [
        "# Предсказание стоимости жилья"
      ]
    },
    {
      "cell_type": "markdown",
      "id": "42a72168",
      "metadata": {
        "id": "42a72168"
      },
      "source": [
        "## Введение\n",
        "\n",
        "**Цель работы:** разработать две модели для предсказания медианной стоимости дома в жилом массиве. Первая модель со всеми данными, вторая - только с числовыми.\n",
        "\n",
        "**Задачи:**\n",
        "1. Обработать пропуски в данных.\n",
        "2. Подготовить данные для моделей.\n",
        "3. Обучить модели.\n",
        "4. Оценить качество моделей по метрикам RMSE, MAE, R2.\n",
        "5. Все работы проводить с помощью библиотеки Mlib в Spark.\n",
        "\n",
        "**План работы:**\n",
        "1. Загрузить данные.\n",
        "2. Обработать пропуски.\n",
        "3. Выполнить кодирование категориальных признаков.\n",
        "4. Выполнить масштабирование числовых признаков.\n",
        "5. Объединить обработанные данные.\n",
        "6. Разделить данные на обучающую и тестовую выборки.\n",
        "6. Обучить модели.\n",
        "7. Получить получить предсказание моделей на тестовой выборке.\n",
        "8. Рассчитать метрики RMSE, MAE, R2.\n",
        "9. Сделать выводы по работе.\n",
        "\n",
        "**Описание предоставленных данных**\n",
        "\n",
        "В работе необходимо обучить модель линейной регрессии на данных о жилье в Калифорнии в 1990 году.\n",
        "В колонках датасета содержатся следующие данные:\n",
        "- longitude — долгота;\n",
        "- latitude — ширина;\n",
        "- housing_median_age — медианный возраст жителей жилого массива;\n",
        "- total_rooms — общее количество комнат в домах жилого массива;\n",
        "- total_bedrooms — общее количество спален в домах жилого массива;\n",
        "- population — количество человек, которые проживают в жилом массиве;\n",
        "- households — количество домовладений в жилом массиве;\n",
        "- median_income — медианный доход жителей жилого массива;\n",
        "- median_house_value — медианная стоимость дома в жилом массиве;\n",
        "- ocean_proximity — близость к океану;\n",
        "- rooms_per_household — отношение количества комнат total_rooms к количеству домовладений households (синтетический признак);\n",
        "- population_in_household — отношение количества жителей population к количеству домовладений households (синтетический признак);\n",
        "- bedroom_index — отношение количества спален total_bedrooms к общему количеству комнат total_rooms (синтетический признак)."
      ]
    },
    {
      "cell_type": "markdown",
      "id": "dd8a2c35",
      "metadata": {
        "id": "dd8a2c35"
      },
      "source": [
        "## Подготовка данных"
      ]
    },
    {
      "cell_type": "markdown",
      "id": "5cc1e2f2",
      "metadata": {
        "id": "5cc1e2f2"
      },
      "source": [
        "### Предварительная подготовка"
      ]
    },
    {
      "cell_type": "markdown",
      "id": "0fe828d3",
      "metadata": {
        "id": "0fe828d3"
      },
      "source": [
        "Загрузим необходимые библиотеки и функции:"
      ]
    },
    {
      "cell_type": "code",
      "execution_count": null,
      "id": "9480930b",
      "metadata": {
        "id": "9480930b"
      },
      "outputs": [],
      "source": [
        "import pandas as pd\n",
        "import numpy as np\n",
        "\n",
        "import pyspark\n",
        "from pyspark.sql import SparkSession\n",
        "from pyspark.sql.types import *\n",
        "import pyspark.sql.functions as F\n",
        "\n",
        "from pyspark.ml.feature import (StringIndexer,\n",
        "                                VectorAssembler,\n",
        "                                StandardScaler,\n",
        "                                Imputer)\n",
        "from pyspark.ml.regression import LinearRegression\n",
        "from pyspark.ml.evaluation import (BinaryClassificationEvaluator,\n",
        "                                   MulticlassClassificationEvaluator,\n",
        "                                   RegressionEvaluator)\n",
        "\n",
        "pyspark_version = pyspark.__version__\n",
        "if int(pyspark_version[:1]) == 3:\n",
        "    from pyspark.ml.feature import OneHotEncoder\n",
        "elif int(pyspark_version[:1]) == 2:\n",
        "    from pyspark.ml.feature import OneHotEncodeEstimator\n",
        "\n",
        "RANDOM_SEED = 2022"
      ]
    },
    {
      "cell_type": "code",
      "execution_count": null,
      "id": "cbc706b8",
      "metadata": {
        "id": "cbc706b8"
      },
      "outputs": [],
      "source": [
        "spark = SparkSession.builder \\\n",
        "                    .master(\"local\") \\\n",
        "                    .appName(\"California - Linear Regression\") \\\n",
        "                    .getOrCreate()"
      ]
    },
    {
      "cell_type": "markdown",
      "id": "3410ef47",
      "metadata": {
        "id": "3410ef47"
      },
      "source": [
        "Загрузим данные о жилье в Калифорнии"
      ]
    },
    {
      "cell_type": "markdown",
      "id": "bfffc0d0",
      "metadata": {
        "id": "bfffc0d0"
      },
      "source": [
        "Загрузим таблицу:"
      ]
    },
    {
      "cell_type": "code",
      "execution_count": null,
      "id": "13c07f6c",
      "metadata": {
        "scrolled": true,
        "id": "13c07f6c"
      },
      "outputs": [],
      "source": [
        "df_house = spark.read.option('header', 'true').csv('/datasets/housing.csv', inferSchema = True)"
      ]
    },
    {
      "cell_type": "markdown",
      "id": "6074a967",
      "metadata": {
        "id": "6074a967"
      },
      "source": [
        "Добавим новые признаки:"
      ]
    },
    {
      "cell_type": "code",
      "execution_count": null,
      "id": "b5999d33",
      "metadata": {
        "id": "b5999d33"
      },
      "outputs": [],
      "source": [
        "df_house = df_house.withColumn('rooms_per_household', F.col('total_rooms') / F.col('households'))\n",
        "df_house = df_house.withColumn('population_in_household', F.col('population') / F.col('households'))\n",
        "df_house = df_house.withColumn('bedroom_index', F.col('total_bedrooms') / F.col('total_rooms'))"
      ]
    },
    {
      "cell_type": "markdown",
      "id": "1b898501",
      "metadata": {
        "id": "1b898501"
      },
      "source": [
        "Удалим ненужные признаки и сохраним датафрейм:"
      ]
    },
    {
      "cell_type": "code",
      "execution_count": null,
      "id": "31018d66",
      "metadata": {
        "id": "31018d66"
      },
      "outputs": [],
      "source": [
        "exclude = ['longitude', 'latitude']\n",
        "selected_columns = [col for col in df_house.columns if col not in exclude]\n",
        "df_house = df_house.select(selected_columns)"
      ]
    },
    {
      "cell_type": "markdown",
      "id": "8edd840e",
      "metadata": {
        "id": "8edd840e"
      },
      "source": [
        "Оценим типы данных в предоставленной таблице."
      ]
    },
    {
      "cell_type": "code",
      "execution_count": null,
      "id": "4214bf18",
      "metadata": {
        "id": "4214bf18",
        "outputId": "5e61a3ce-bc8b-4843-e80b-d08483e99d7f"
      },
      "outputs": [
        {
          "name": "stdout",
          "output_type": "stream",
          "text": [
            "root\n",
            " |-- housing_median_age: double (nullable = true)\n",
            " |-- total_rooms: double (nullable = true)\n",
            " |-- total_bedrooms: double (nullable = true)\n",
            " |-- population: double (nullable = true)\n",
            " |-- households: double (nullable = true)\n",
            " |-- median_income: double (nullable = true)\n",
            " |-- median_house_value: double (nullable = true)\n",
            " |-- ocean_proximity: string (nullable = true)\n",
            " |-- rooms_per_household: double (nullable = true)\n",
            " |-- population_in_household: double (nullable = true)\n",
            " |-- bedroom_index: double (nullable = true)\n",
            "\n"
          ]
        }
      ],
      "source": [
        "df_house.printSchema()"
      ]
    },
    {
      "cell_type": "markdown",
      "id": "8fab8eec",
      "metadata": {
        "id": "8fab8eec"
      },
      "source": [
        "Посмотрим на первые 5 строчек в таблице:"
      ]
    },
    {
      "cell_type": "code",
      "execution_count": null,
      "id": "63940e12",
      "metadata": {
        "scrolled": true,
        "id": "63940e12",
        "outputId": "04a0860f-e045-49c9-e88b-52802db9fe8c"
      },
      "outputs": [
        {
          "data": {
            "text/html": [
              "<div>\n",
              "<style scoped>\n",
              "    .dataframe tbody tr th:only-of-type {\n",
              "        vertical-align: middle;\n",
              "    }\n",
              "\n",
              "    .dataframe tbody tr th {\n",
              "        vertical-align: top;\n",
              "    }\n",
              "\n",
              "    .dataframe thead th {\n",
              "        text-align: right;\n",
              "    }\n",
              "</style>\n",
              "<table border=\"1\" class=\"dataframe\">\n",
              "  <thead>\n",
              "    <tr style=\"text-align: right;\">\n",
              "      <th></th>\n",
              "      <th>housing_median_age</th>\n",
              "      <th>total_rooms</th>\n",
              "      <th>total_bedrooms</th>\n",
              "      <th>population</th>\n",
              "      <th>households</th>\n",
              "      <th>median_income</th>\n",
              "      <th>median_house_value</th>\n",
              "      <th>ocean_proximity</th>\n",
              "      <th>rooms_per_household</th>\n",
              "      <th>population_in_household</th>\n",
              "      <th>bedroom_index</th>\n",
              "    </tr>\n",
              "  </thead>\n",
              "  <tbody>\n",
              "    <tr>\n",
              "      <th>0</th>\n",
              "      <td>41.0</td>\n",
              "      <td>880.0</td>\n",
              "      <td>129.0</td>\n",
              "      <td>322.0</td>\n",
              "      <td>126.0</td>\n",
              "      <td>8.3252</td>\n",
              "      <td>452600.0</td>\n",
              "      <td>NEAR BAY</td>\n",
              "      <td>6.984127</td>\n",
              "      <td>2.555556</td>\n",
              "      <td>0.146591</td>\n",
              "    </tr>\n",
              "    <tr>\n",
              "      <th>1</th>\n",
              "      <td>21.0</td>\n",
              "      <td>7099.0</td>\n",
              "      <td>1106.0</td>\n",
              "      <td>2401.0</td>\n",
              "      <td>1138.0</td>\n",
              "      <td>8.3014</td>\n",
              "      <td>358500.0</td>\n",
              "      <td>NEAR BAY</td>\n",
              "      <td>6.238137</td>\n",
              "      <td>2.109842</td>\n",
              "      <td>0.155797</td>\n",
              "    </tr>\n",
              "    <tr>\n",
              "      <th>2</th>\n",
              "      <td>52.0</td>\n",
              "      <td>1467.0</td>\n",
              "      <td>190.0</td>\n",
              "      <td>496.0</td>\n",
              "      <td>177.0</td>\n",
              "      <td>7.2574</td>\n",
              "      <td>352100.0</td>\n",
              "      <td>NEAR BAY</td>\n",
              "      <td>8.288136</td>\n",
              "      <td>2.802260</td>\n",
              "      <td>0.129516</td>\n",
              "    </tr>\n",
              "    <tr>\n",
              "      <th>3</th>\n",
              "      <td>52.0</td>\n",
              "      <td>1274.0</td>\n",
              "      <td>235.0</td>\n",
              "      <td>558.0</td>\n",
              "      <td>219.0</td>\n",
              "      <td>5.6431</td>\n",
              "      <td>341300.0</td>\n",
              "      <td>NEAR BAY</td>\n",
              "      <td>5.817352</td>\n",
              "      <td>2.547945</td>\n",
              "      <td>0.184458</td>\n",
              "    </tr>\n",
              "    <tr>\n",
              "      <th>4</th>\n",
              "      <td>52.0</td>\n",
              "      <td>1627.0</td>\n",
              "      <td>280.0</td>\n",
              "      <td>565.0</td>\n",
              "      <td>259.0</td>\n",
              "      <td>3.8462</td>\n",
              "      <td>342200.0</td>\n",
              "      <td>NEAR BAY</td>\n",
              "      <td>6.281853</td>\n",
              "      <td>2.181467</td>\n",
              "      <td>0.172096</td>\n",
              "    </tr>\n",
              "  </tbody>\n",
              "</table>\n",
              "</div>"
            ],
            "text/plain": [
              "   housing_median_age  total_rooms  total_bedrooms  population  households  \\\n",
              "0                41.0        880.0           129.0       322.0       126.0   \n",
              "1                21.0       7099.0          1106.0      2401.0      1138.0   \n",
              "2                52.0       1467.0           190.0       496.0       177.0   \n",
              "3                52.0       1274.0           235.0       558.0       219.0   \n",
              "4                52.0       1627.0           280.0       565.0       259.0   \n",
              "\n",
              "   median_income  median_house_value ocean_proximity  rooms_per_household  \\\n",
              "0         8.3252            452600.0        NEAR BAY             6.984127   \n",
              "1         8.3014            358500.0        NEAR BAY             6.238137   \n",
              "2         7.2574            352100.0        NEAR BAY             8.288136   \n",
              "3         5.6431            341300.0        NEAR BAY             5.817352   \n",
              "4         3.8462            342200.0        NEAR BAY             6.281853   \n",
              "\n",
              "   population_in_household  bedroom_index  \n",
              "0                 2.555556       0.146591  \n",
              "1                 2.109842       0.155797  \n",
              "2                 2.802260       0.129516  \n",
              "3                 2.547945       0.184458  \n",
              "4                 2.181467       0.172096  "
            ]
          },
          "execution_count": 144,
          "metadata": {},
          "output_type": "execute_result"
        }
      ],
      "source": [
        "df_house.limit(5).toPandas()"
      ]
    },
    {
      "cell_type": "markdown",
      "id": "4b822d37",
      "metadata": {
        "id": "4b822d37"
      },
      "source": [
        "Посмотрим на количество пропусков в данных"
      ]
    },
    {
      "cell_type": "code",
      "execution_count": null,
      "id": "eba6665e",
      "metadata": {
        "id": "eba6665e",
        "outputId": "70545218-1182-48e6-8f75-5a105df4152c"
      },
      "outputs": [
        {
          "data": {
            "text/html": [
              "<div>\n",
              "<style scoped>\n",
              "    .dataframe tbody tr th:only-of-type {\n",
              "        vertical-align: middle;\n",
              "    }\n",
              "\n",
              "    .dataframe tbody tr th {\n",
              "        vertical-align: top;\n",
              "    }\n",
              "\n",
              "    .dataframe thead th {\n",
              "        text-align: right;\n",
              "    }\n",
              "</style>\n",
              "<table border=\"1\" class=\"dataframe\">\n",
              "  <thead>\n",
              "    <tr style=\"text-align: right;\">\n",
              "      <th></th>\n",
              "      <th>summary</th>\n",
              "      <th>housing_median_age</th>\n",
              "      <th>total_rooms</th>\n",
              "      <th>total_bedrooms</th>\n",
              "      <th>population</th>\n",
              "      <th>households</th>\n",
              "      <th>median_income</th>\n",
              "      <th>median_house_value</th>\n",
              "      <th>ocean_proximity</th>\n",
              "      <th>rooms_per_household</th>\n",
              "      <th>population_in_household</th>\n",
              "      <th>bedroom_index</th>\n",
              "    </tr>\n",
              "  </thead>\n",
              "  <tbody>\n",
              "    <tr>\n",
              "      <th>0</th>\n",
              "      <td>count</td>\n",
              "      <td>20640</td>\n",
              "      <td>20640</td>\n",
              "      <td>20433</td>\n",
              "      <td>20640</td>\n",
              "      <td>20640</td>\n",
              "      <td>20640</td>\n",
              "      <td>20640</td>\n",
              "      <td>20640</td>\n",
              "      <td>20640</td>\n",
              "      <td>20640</td>\n",
              "      <td>20433</td>\n",
              "    </tr>\n",
              "    <tr>\n",
              "      <th>1</th>\n",
              "      <td>mean</td>\n",
              "      <td>28.639486434108527</td>\n",
              "      <td>2635.7630813953488</td>\n",
              "      <td>537.8705525375618</td>\n",
              "      <td>1425.4767441860465</td>\n",
              "      <td>499.5396802325581</td>\n",
              "      <td>3.8706710029070246</td>\n",
              "      <td>206855.81690891474</td>\n",
              "      <td>None</td>\n",
              "      <td>5.428999742190365</td>\n",
              "      <td>3.070655159436382</td>\n",
              "      <td>0.21303883048085015</td>\n",
              "    </tr>\n",
              "    <tr>\n",
              "      <th>2</th>\n",
              "      <td>stddev</td>\n",
              "      <td>12.58555761211163</td>\n",
              "      <td>2181.6152515827944</td>\n",
              "      <td>421.38507007403115</td>\n",
              "      <td>1132.46212176534</td>\n",
              "      <td>382.3297528316098</td>\n",
              "      <td>1.899821717945263</td>\n",
              "      <td>115395.61587441359</td>\n",
              "      <td>None</td>\n",
              "      <td>2.4741731394243205</td>\n",
              "      <td>10.38604956221361</td>\n",
              "      <td>0.05798267408098222</td>\n",
              "    </tr>\n",
              "    <tr>\n",
              "      <th>3</th>\n",
              "      <td>min</td>\n",
              "      <td>1.0</td>\n",
              "      <td>2.0</td>\n",
              "      <td>1.0</td>\n",
              "      <td>3.0</td>\n",
              "      <td>1.0</td>\n",
              "      <td>0.4999</td>\n",
              "      <td>14999.0</td>\n",
              "      <td>&lt;1H OCEAN</td>\n",
              "      <td>0.8461538461538461</td>\n",
              "      <td>0.6923076923076923</td>\n",
              "      <td>0.1</td>\n",
              "    </tr>\n",
              "    <tr>\n",
              "      <th>4</th>\n",
              "      <td>max</td>\n",
              "      <td>52.0</td>\n",
              "      <td>39320.0</td>\n",
              "      <td>6445.0</td>\n",
              "      <td>35682.0</td>\n",
              "      <td>6082.0</td>\n",
              "      <td>15.0001</td>\n",
              "      <td>500001.0</td>\n",
              "      <td>NEAR OCEAN</td>\n",
              "      <td>141.9090909090909</td>\n",
              "      <td>1243.3333333333333</td>\n",
              "      <td>1.0</td>\n",
              "    </tr>\n",
              "  </tbody>\n",
              "</table>\n",
              "</div>"
            ],
            "text/plain": [
              "  summary  housing_median_age         total_rooms      total_bedrooms  \\\n",
              "0   count               20640               20640               20433   \n",
              "1    mean  28.639486434108527  2635.7630813953488   537.8705525375618   \n",
              "2  stddev   12.58555761211163  2181.6152515827944  421.38507007403115   \n",
              "3     min                 1.0                 2.0                 1.0   \n",
              "4     max                52.0             39320.0              6445.0   \n",
              "\n",
              "           population         households       median_income  \\\n",
              "0               20640              20640               20640   \n",
              "1  1425.4767441860465  499.5396802325581  3.8706710029070246   \n",
              "2    1132.46212176534  382.3297528316098   1.899821717945263   \n",
              "3                 3.0                1.0              0.4999   \n",
              "4             35682.0             6082.0             15.0001   \n",
              "\n",
              "   median_house_value ocean_proximity rooms_per_household  \\\n",
              "0               20640           20640               20640   \n",
              "1  206855.81690891474            None   5.428999742190365   \n",
              "2  115395.61587441359            None  2.4741731394243205   \n",
              "3             14999.0       <1H OCEAN  0.8461538461538461   \n",
              "4            500001.0      NEAR OCEAN   141.9090909090909   \n",
              "\n",
              "  population_in_household        bedroom_index  \n",
              "0                   20640                20433  \n",
              "1       3.070655159436382  0.21303883048085015  \n",
              "2       10.38604956221361  0.05798267408098222  \n",
              "3      0.6923076923076923                  0.1  \n",
              "4      1243.3333333333333                  1.0  "
            ]
          },
          "execution_count": 145,
          "metadata": {},
          "output_type": "execute_result"
        }
      ],
      "source": [
        "df_house.describe().toPandas()"
      ]
    },
    {
      "cell_type": "markdown",
      "id": "b0efb4eb",
      "metadata": {
        "id": "b0efb4eb"
      },
      "source": [
        "Как видно из таблицы, пропуски есть только в столбце \"total bedrooms\" и соответственно в \"bedroom_index\". Их относительно немного, всего 207. Заполним пропуски после разделения на выборки."
      ]
    },
    {
      "cell_type": "markdown",
      "id": "0d3a8f80",
      "metadata": {
        "id": "0d3a8f80"
      },
      "source": [
        "Так как нам нужно обучить две модели, выделим отдельно датафрейм без категориального признака."
      ]
    },
    {
      "cell_type": "code",
      "execution_count": null,
      "id": "06f9c82e",
      "metadata": {
        "id": "06f9c82e"
      },
      "outputs": [],
      "source": [
        "df_house_num = df_house.select('housing_median_age',\n",
        "                               'total_rooms',\n",
        "                               'total_bedrooms',\n",
        "                               'population',\n",
        "                               'households',\n",
        "                               'median_income',\n",
        "                               'median_house_value',\n",
        "                               'rooms_per_household',\n",
        "                               'population_in_household',\n",
        "                               'bedroom_index'\n",
        "                              )"
      ]
    },
    {
      "cell_type": "markdown",
      "id": "f02a4836",
      "metadata": {
        "id": "f02a4836"
      },
      "source": [
        "### Обработка данных"
      ]
    },
    {
      "cell_type": "markdown",
      "id": "e26ea408",
      "metadata": {
        "id": "e26ea408"
      },
      "source": [
        "#### Данные для полного датафрейма."
      ]
    },
    {
      "cell_type": "markdown",
      "id": "9e5eda18",
      "metadata": {
        "id": "9e5eda18"
      },
      "source": [
        "Сперва подготовим данные для полного датафрейма."
      ]
    },
    {
      "cell_type": "markdown",
      "id": "ef0cea47",
      "metadata": {
        "id": "ef0cea47"
      },
      "source": [
        "Выделим отдельно числовые данные и колонку с целевым признаком."
      ]
    },
    {
      "cell_type": "code",
      "execution_count": null,
      "id": "2f611445",
      "metadata": {
        "id": "2f611445"
      },
      "outputs": [],
      "source": [
        "categorical_cols = ['ocean_proximity']\n",
        "numerical_cols  = ['housing_median_age',\n",
        "                   'total_rooms',\n",
        "                   'total_bedrooms',\n",
        "                   'population',\n",
        "                   'households',\n",
        "                   'median_income',\n",
        "                   'rooms_per_household',\n",
        "                  'population_in_household',\n",
        "                  'bedroom_index']\n",
        "target = 'median_house_value'"
      ]
    },
    {
      "cell_type": "markdown",
      "id": "147304f2",
      "metadata": {
        "id": "147304f2"
      },
      "source": [
        "##### Обработка строковых данных"
      ]
    },
    {
      "cell_type": "markdown",
      "id": "f90253cc",
      "metadata": {
        "id": "f90253cc"
      },
      "source": [
        "Разделим данные на тренировочную и тестовые выборки."
      ]
    },
    {
      "cell_type": "code",
      "execution_count": null,
      "id": "9c71ba1f",
      "metadata": {
        "id": "9c71ba1f",
        "outputId": "d699fe1e-ab59-4f12-a64f-c149d65dd6e8"
      },
      "outputs": [
        {
          "name": "stdout",
          "output_type": "stream",
          "text": [
            "16418 4222\n"
          ]
        }
      ],
      "source": [
        "train_data, test_data = df_house.randomSplit([.8,.2], seed=RANDOM_SEED)\n",
        "print(train_data.count(), test_data.count())"
      ]
    },
    {
      "cell_type": "markdown",
      "id": "fcf09b74",
      "metadata": {
        "id": "fcf09b74"
      },
      "source": [
        "<span style=\"color: purple; font-weight: bold\">Комментарий студента</span>\n",
        "Спасибо!  "
      ]
    },
    {
      "cell_type": "markdown",
      "id": "b7bcc26f",
      "metadata": {
        "id": "b7bcc26f"
      },
      "source": [
        "В данных у нас были пропуски. Заполним их."
      ]
    },
    {
      "cell_type": "code",
      "execution_count": null,
      "id": "51b1cc40",
      "metadata": {
        "id": "51b1cc40"
      },
      "outputs": [],
      "source": [
        "col_nan = ['total_bedrooms', 'bedroom_index']"
      ]
    },
    {
      "cell_type": "markdown",
      "id": "72086dbc",
      "metadata": {
        "id": "72086dbc"
      },
      "source": [
        "Иницииализируем Imputer:"
      ]
    },
    {
      "cell_type": "code",
      "execution_count": null,
      "id": "6c525e19",
      "metadata": {
        "id": "6c525e19"
      },
      "outputs": [],
      "source": [
        "imputer = Imputer(\n",
        "    inputCols= col_nan,\n",
        "    outputCols=col_nan,\n",
        "    strategy=\"mean\")"
      ]
    },
    {
      "cell_type": "markdown",
      "id": "ce4d60d2",
      "metadata": {
        "id": "ce4d60d2"
      },
      "source": [
        "Обучим модель, заполним пропуски и оценим результат."
      ]
    },
    {
      "cell_type": "code",
      "execution_count": null,
      "id": "bd54ccf3",
      "metadata": {
        "scrolled": true,
        "id": "bd54ccf3",
        "outputId": "6a6ce262-d324-4413-b723-48b4a1be152b"
      },
      "outputs": [
        {
          "data": {
            "text/html": [
              "<div>\n",
              "<style scoped>\n",
              "    .dataframe tbody tr th:only-of-type {\n",
              "        vertical-align: middle;\n",
              "    }\n",
              "\n",
              "    .dataframe tbody tr th {\n",
              "        vertical-align: top;\n",
              "    }\n",
              "\n",
              "    .dataframe thead th {\n",
              "        text-align: right;\n",
              "    }\n",
              "</style>\n",
              "<table border=\"1\" class=\"dataframe\">\n",
              "  <thead>\n",
              "    <tr style=\"text-align: right;\">\n",
              "      <th></th>\n",
              "      <th>summary</th>\n",
              "      <th>housing_median_age</th>\n",
              "      <th>total_rooms</th>\n",
              "      <th>total_bedrooms</th>\n",
              "      <th>population</th>\n",
              "      <th>households</th>\n",
              "      <th>median_income</th>\n",
              "      <th>median_house_value</th>\n",
              "      <th>ocean_proximity</th>\n",
              "      <th>rooms_per_household</th>\n",
              "      <th>population_in_household</th>\n",
              "      <th>bedroom_index</th>\n",
              "    </tr>\n",
              "  </thead>\n",
              "  <tbody>\n",
              "    <tr>\n",
              "      <th>0</th>\n",
              "      <td>count</td>\n",
              "      <td>16418</td>\n",
              "      <td>16418</td>\n",
              "      <td>16418</td>\n",
              "      <td>16418</td>\n",
              "      <td>16418</td>\n",
              "      <td>16418</td>\n",
              "      <td>16418</td>\n",
              "      <td>16418</td>\n",
              "      <td>16418</td>\n",
              "      <td>16418</td>\n",
              "      <td>16418</td>\n",
              "    </tr>\n",
              "    <tr>\n",
              "      <th>1</th>\n",
              "      <td>mean</td>\n",
              "      <td>28.668169082714094</td>\n",
              "      <td>2632.2636131075647</td>\n",
              "      <td>537.3726081338816</td>\n",
              "      <td>1425.112681203557</td>\n",
              "      <td>498.68467535631623</td>\n",
              "      <td>3.862157820684621</td>\n",
              "      <td>206350.16134730174</td>\n",
              "      <td>None</td>\n",
              "      <td>5.431607696045633</td>\n",
              "      <td>3.0729293103710242</td>\n",
              "      <td>0.21317633730988578</td>\n",
              "    </tr>\n",
              "    <tr>\n",
              "      <th>2</th>\n",
              "      <td>stddev</td>\n",
              "      <td>12.637572573609434</td>\n",
              "      <td>2176.0356764859694</td>\n",
              "      <td>417.6006629159667</td>\n",
              "      <td>1137.2136474890342</td>\n",
              "      <td>379.7323946053574</td>\n",
              "      <td>1.9014322167050353</td>\n",
              "      <td>114986.77557779055</td>\n",
              "      <td>None</td>\n",
              "      <td>2.592331306041628</td>\n",
              "      <td>10.664926971799298</td>\n",
              "      <td>0.05791713129245083</td>\n",
              "    </tr>\n",
              "    <tr>\n",
              "      <th>3</th>\n",
              "      <td>min</td>\n",
              "      <td>1.0</td>\n",
              "      <td>2.0</td>\n",
              "      <td>1.0</td>\n",
              "      <td>3.0</td>\n",
              "      <td>1.0</td>\n",
              "      <td>0.4999</td>\n",
              "      <td>14999.0</td>\n",
              "      <td>&lt;1H OCEAN</td>\n",
              "      <td>0.8461538461538461</td>\n",
              "      <td>0.6923076923076923</td>\n",
              "      <td>0.1</td>\n",
              "    </tr>\n",
              "    <tr>\n",
              "      <th>4</th>\n",
              "      <td>max</td>\n",
              "      <td>52.0</td>\n",
              "      <td>39320.0</td>\n",
              "      <td>6445.0</td>\n",
              "      <td>35682.0</td>\n",
              "      <td>6082.0</td>\n",
              "      <td>15.0001</td>\n",
              "      <td>500001.0</td>\n",
              "      <td>NEAR OCEAN</td>\n",
              "      <td>141.9090909090909</td>\n",
              "      <td>1243.3333333333333</td>\n",
              "      <td>1.0</td>\n",
              "    </tr>\n",
              "  </tbody>\n",
              "</table>\n",
              "</div>"
            ],
            "text/plain": [
              "  summary  housing_median_age         total_rooms     total_bedrooms  \\\n",
              "0   count               16418               16418              16418   \n",
              "1    mean  28.668169082714094  2632.2636131075647  537.3726081338816   \n",
              "2  stddev  12.637572573609434  2176.0356764859694  417.6006629159667   \n",
              "3     min                 1.0                 2.0                1.0   \n",
              "4     max                52.0             39320.0             6445.0   \n",
              "\n",
              "           population          households       median_income  \\\n",
              "0               16418               16418               16418   \n",
              "1   1425.112681203557  498.68467535631623   3.862157820684621   \n",
              "2  1137.2136474890342   379.7323946053574  1.9014322167050353   \n",
              "3                 3.0                 1.0              0.4999   \n",
              "4             35682.0              6082.0             15.0001   \n",
              "\n",
              "   median_house_value ocean_proximity rooms_per_household  \\\n",
              "0               16418           16418               16418   \n",
              "1  206350.16134730174            None   5.431607696045633   \n",
              "2  114986.77557779055            None   2.592331306041628   \n",
              "3             14999.0       <1H OCEAN  0.8461538461538461   \n",
              "4            500001.0      NEAR OCEAN   141.9090909090909   \n",
              "\n",
              "  population_in_household        bedroom_index  \n",
              "0                   16418                16418  \n",
              "1      3.0729293103710242  0.21317633730988578  \n",
              "2      10.664926971799298  0.05791713129245083  \n",
              "3      0.6923076923076923                  0.1  \n",
              "4      1243.3333333333333                  1.0  "
            ]
          },
          "execution_count": 152,
          "metadata": {},
          "output_type": "execute_result"
        }
      ],
      "source": [
        "model_nan = imputer.fit(train_data)\n",
        "\n",
        "train_data = model_nan.transform(train_data)\n",
        "\n",
        "train_data.describe().toPandas()"
      ]
    },
    {
      "cell_type": "code",
      "execution_count": null,
      "id": "c2ef8b71",
      "metadata": {
        "scrolled": true,
        "id": "c2ef8b71",
        "outputId": "f4e2de62-2ca1-4f81-8cf4-c5517002b25c"
      },
      "outputs": [
        {
          "data": {
            "text/html": [
              "<div>\n",
              "<style scoped>\n",
              "    .dataframe tbody tr th:only-of-type {\n",
              "        vertical-align: middle;\n",
              "    }\n",
              "\n",
              "    .dataframe tbody tr th {\n",
              "        vertical-align: top;\n",
              "    }\n",
              "\n",
              "    .dataframe thead th {\n",
              "        text-align: right;\n",
              "    }\n",
              "</style>\n",
              "<table border=\"1\" class=\"dataframe\">\n",
              "  <thead>\n",
              "    <tr style=\"text-align: right;\">\n",
              "      <th></th>\n",
              "      <th>summary</th>\n",
              "      <th>housing_median_age</th>\n",
              "      <th>total_rooms</th>\n",
              "      <th>total_bedrooms</th>\n",
              "      <th>population</th>\n",
              "      <th>households</th>\n",
              "      <th>median_income</th>\n",
              "      <th>median_house_value</th>\n",
              "      <th>ocean_proximity</th>\n",
              "      <th>rooms_per_household</th>\n",
              "      <th>population_in_household</th>\n",
              "      <th>bedroom_index</th>\n",
              "    </tr>\n",
              "  </thead>\n",
              "  <tbody>\n",
              "    <tr>\n",
              "      <th>0</th>\n",
              "      <td>count</td>\n",
              "      <td>4222</td>\n",
              "      <td>4222</td>\n",
              "      <td>4222</td>\n",
              "      <td>4222</td>\n",
              "      <td>4222</td>\n",
              "      <td>4222</td>\n",
              "      <td>4222</td>\n",
              "      <td>4222</td>\n",
              "      <td>4222</td>\n",
              "      <td>4222</td>\n",
              "      <td>4222</td>\n",
              "    </tr>\n",
              "    <tr>\n",
              "      <th>1</th>\n",
              "      <td>mean</td>\n",
              "      <td>28.527948839412602</td>\n",
              "      <td>2649.371387967788</td>\n",
              "      <td>539.7824844958841</td>\n",
              "      <td>1426.8924680246328</td>\n",
              "      <td>502.8645191852203</td>\n",
              "      <td>3.9037760303173825</td>\n",
              "      <td>208822.14874467076</td>\n",
              "      <td>None</td>\n",
              "      <td>5.418858248491711</td>\n",
              "      <td>3.061811717928805</td>\n",
              "      <td>0.21251085245965048</td>\n",
              "    </tr>\n",
              "    <tr>\n",
              "      <th>2</th>\n",
              "      <td>stddev</td>\n",
              "      <td>12.382058632796495</td>\n",
              "      <td>2203.384930352895</td>\n",
              "      <td>425.72751010375214</td>\n",
              "      <td>1113.9242505690397</td>\n",
              "      <td>392.29475369314537</td>\n",
              "      <td>1.8934067713363394</td>\n",
              "      <td>116964.86027913938</td>\n",
              "      <td>None</td>\n",
              "      <td>1.9479453366920383</td>\n",
              "      <td>9.222929437408906</td>\n",
              "      <td>0.05680763106513954</td>\n",
              "    </tr>\n",
              "    <tr>\n",
              "      <th>3</th>\n",
              "      <td>min</td>\n",
              "      <td>1.0</td>\n",
              "      <td>12.0</td>\n",
              "      <td>3.0</td>\n",
              "      <td>18.0</td>\n",
              "      <td>7.0</td>\n",
              "      <td>0.4999</td>\n",
              "      <td>14999.0</td>\n",
              "      <td>&lt;1H OCEAN</td>\n",
              "      <td>0.8888888888888888</td>\n",
              "      <td>0.9705882352941176</td>\n",
              "      <td>0.1</td>\n",
              "    </tr>\n",
              "    <tr>\n",
              "      <th>4</th>\n",
              "      <td>max</td>\n",
              "      <td>52.0</td>\n",
              "      <td>30405.0</td>\n",
              "      <td>4457.0</td>\n",
              "      <td>12873.0</td>\n",
              "      <td>4204.0</td>\n",
              "      <td>15.0001</td>\n",
              "      <td>500001.0</td>\n",
              "      <td>NEAR OCEAN</td>\n",
              "      <td>41.333333333333336</td>\n",
              "      <td>599.7142857142857</td>\n",
              "      <td>0.896551724137931</td>\n",
              "    </tr>\n",
              "  </tbody>\n",
              "</table>\n",
              "</div>"
            ],
            "text/plain": [
              "  summary  housing_median_age        total_rooms      total_bedrooms  \\\n",
              "0   count                4222               4222                4222   \n",
              "1    mean  28.527948839412602  2649.371387967788   539.7824844958841   \n",
              "2  stddev  12.382058632796495  2203.384930352895  425.72751010375214   \n",
              "3     min                 1.0               12.0                 3.0   \n",
              "4     max                52.0            30405.0              4457.0   \n",
              "\n",
              "           population          households       median_income  \\\n",
              "0                4222                4222                4222   \n",
              "1  1426.8924680246328   502.8645191852203  3.9037760303173825   \n",
              "2  1113.9242505690397  392.29475369314537  1.8934067713363394   \n",
              "3                18.0                 7.0              0.4999   \n",
              "4             12873.0              4204.0             15.0001   \n",
              "\n",
              "   median_house_value ocean_proximity rooms_per_household  \\\n",
              "0                4222            4222                4222   \n",
              "1  208822.14874467076            None   5.418858248491711   \n",
              "2  116964.86027913938            None  1.9479453366920383   \n",
              "3             14999.0       <1H OCEAN  0.8888888888888888   \n",
              "4            500001.0      NEAR OCEAN  41.333333333333336   \n",
              "\n",
              "  population_in_household        bedroom_index  \n",
              "0                    4222                 4222  \n",
              "1       3.061811717928805  0.21251085245965048  \n",
              "2       9.222929437408906  0.05680763106513954  \n",
              "3      0.9705882352941176                  0.1  \n",
              "4       599.7142857142857    0.896551724137931  "
            ]
          },
          "execution_count": 153,
          "metadata": {},
          "output_type": "execute_result"
        }
      ],
      "source": [
        "test_data = model_nan.transform(test_data)\n",
        "test_data.describe().toPandas()"
      ]
    },
    {
      "cell_type": "markdown",
      "id": "1e60dc01",
      "metadata": {
        "id": "1e60dc01"
      },
      "source": [
        "Пропуски заполнены."
      ]
    },
    {
      "cell_type": "markdown",
      "id": "978ddd41",
      "metadata": {
        "id": "978ddd41"
      },
      "source": [
        "Преобразуем строковые данные в числовые в тренеровочной выборке и в тестовой выборке:"
      ]
    },
    {
      "cell_type": "code",
      "execution_count": null,
      "id": "6ffe0bf6",
      "metadata": {
        "id": "6ffe0bf6"
      },
      "outputs": [],
      "source": [
        "indexer = StringIndexer(inputCols=categorical_cols,\n",
        "                        outputCols=[c+'_idx' for c in categorical_cols])"
      ]
    },
    {
      "cell_type": "code",
      "execution_count": null,
      "id": "23caca66",
      "metadata": {
        "id": "23caca66"
      },
      "outputs": [],
      "source": [
        "model_index = indexer.fit(train_data)"
      ]
    },
    {
      "cell_type": "code",
      "execution_count": null,
      "id": "f58f9dcf",
      "metadata": {
        "id": "f58f9dcf",
        "outputId": "3a216846-544a-402b-aa16-0a6e340ba144"
      },
      "outputs": [
        {
          "name": "stdout",
          "output_type": "stream",
          "text": [
            "+---------------+-------------------+\n",
            "|ocean_proximity|ocean_proximity_idx|\n",
            "+---------------+-------------------+\n",
            "|         INLAND|                1.0|\n",
            "|         INLAND|                1.0|\n",
            "|         INLAND|                1.0|\n",
            "+---------------+-------------------+\n",
            "only showing top 3 rows\n",
            "\n"
          ]
        }
      ],
      "source": [
        "train_data = model_index.transform(train_data)\n",
        "cols = [c for c in train_data.columns for i in categorical_cols if (c.startswith(i))]\n",
        "train_data.select(cols).show(3)"
      ]
    },
    {
      "cell_type": "code",
      "execution_count": null,
      "id": "e4986059",
      "metadata": {
        "id": "e4986059",
        "outputId": "23a9683a-484e-4745-b618-8afbdf524e4d"
      },
      "outputs": [
        {
          "name": "stdout",
          "output_type": "stream",
          "text": [
            "+---------------+-------------------+\n",
            "|ocean_proximity|ocean_proximity_idx|\n",
            "+---------------+-------------------+\n",
            "|         INLAND|                1.0|\n",
            "|      <1H OCEAN|                0.0|\n",
            "|      <1H OCEAN|                0.0|\n",
            "+---------------+-------------------+\n",
            "only showing top 3 rows\n",
            "\n"
          ]
        }
      ],
      "source": [
        "test_data = model_index.transform(test_data)\n",
        "cols = [c for c in test_data.columns for i in categorical_cols if (c.startswith(i))]\n",
        "test_data.select(cols).show(3)"
      ]
    },
    {
      "cell_type": "markdown",
      "id": "c964e2a5",
      "metadata": {
        "id": "c964e2a5"
      },
      "source": [
        "<span style=\"color: purple; font-weight: bold\">Комментарий студента</span>\n",
        "Спасибо!"
      ]
    },
    {
      "cell_type": "markdown",
      "id": "0af0b140",
      "metadata": {
        "id": "0af0b140"
      },
      "source": [
        "Закодируем преобразованные данные:"
      ]
    },
    {
      "cell_type": "code",
      "execution_count": null,
      "id": "30528238",
      "metadata": {
        "id": "30528238"
      },
      "outputs": [],
      "source": [
        "encoder = OneHotEncoder(inputCols=[c+'_idx' for c in categorical_cols],\n",
        "                        outputCols=[c+'_ohe' for c in categorical_cols])"
      ]
    },
    {
      "cell_type": "code",
      "execution_count": null,
      "id": "04e4189f",
      "metadata": {
        "id": "04e4189f"
      },
      "outputs": [],
      "source": [
        "model_encoder = encoder.fit(train_data)"
      ]
    },
    {
      "cell_type": "code",
      "execution_count": null,
      "id": "0640070b",
      "metadata": {
        "id": "0640070b",
        "outputId": "416b1f98-7452-418c-fd3c-83030ab96edf"
      },
      "outputs": [
        {
          "name": "stdout",
          "output_type": "stream",
          "text": [
            "+---------------+-------------------+-------------------+\n",
            "|ocean_proximity|ocean_proximity_idx|ocean_proximity_ohe|\n",
            "+---------------+-------------------+-------------------+\n",
            "|         INLAND|                1.0|      (4,[1],[1.0])|\n",
            "|         INLAND|                1.0|      (4,[1],[1.0])|\n",
            "|         INLAND|                1.0|      (4,[1],[1.0])|\n",
            "+---------------+-------------------+-------------------+\n",
            "only showing top 3 rows\n",
            "\n"
          ]
        }
      ],
      "source": [
        "train_data = model_encoder.transform(train_data)\n",
        "cols = [c for c in train_data.columns for i in categorical_cols if (c.startswith(i))]\n",
        "train_data.select(cols).show(3)"
      ]
    },
    {
      "cell_type": "code",
      "execution_count": null,
      "id": "32620b3b",
      "metadata": {
        "id": "32620b3b",
        "outputId": "421d417b-f6e8-40d1-a9ec-15a8cdf35556"
      },
      "outputs": [
        {
          "name": "stdout",
          "output_type": "stream",
          "text": [
            "+---------------+-------------------+-------------------+\n",
            "|ocean_proximity|ocean_proximity_idx|ocean_proximity_ohe|\n",
            "+---------------+-------------------+-------------------+\n",
            "|         INLAND|                1.0|      (4,[1],[1.0])|\n",
            "|      <1H OCEAN|                0.0|      (4,[0],[1.0])|\n",
            "|      <1H OCEAN|                0.0|      (4,[0],[1.0])|\n",
            "+---------------+-------------------+-------------------+\n",
            "only showing top 3 rows\n",
            "\n"
          ]
        }
      ],
      "source": [
        "test_data = model_encoder.transform(test_data)\n",
        "cols = [c for c in test_data.columns for i in categorical_cols if (c.startswith(i))]\n",
        "test_data.select(cols).show(3)"
      ]
    },
    {
      "cell_type": "markdown",
      "id": "578ec5c6",
      "metadata": {
        "id": "578ec5c6"
      },
      "source": [
        "Соберём признаки в один вектор:"
      ]
    },
    {
      "cell_type": "code",
      "execution_count": null,
      "id": "70339b2c",
      "metadata": {
        "id": "70339b2c"
      },
      "outputs": [],
      "source": [
        "categorical_assembler = \\\n",
        "        VectorAssembler(inputCols=[c+'_ohe' for c in categorical_cols],\n",
        "                                        outputCol=\"categorical_features\")\n",
        "train_data = categorical_assembler.transform(train_data)"
      ]
    },
    {
      "cell_type": "code",
      "execution_count": null,
      "id": "15c74357",
      "metadata": {
        "id": "15c74357"
      },
      "outputs": [],
      "source": [
        "test_data = categorical_assembler.transform(test_data)"
      ]
    },
    {
      "cell_type": "markdown",
      "id": "7a60bd47",
      "metadata": {
        "id": "7a60bd47"
      },
      "source": [
        "Категориальные признаки обработаны."
      ]
    },
    {
      "cell_type": "markdown",
      "id": "2d212ec5",
      "metadata": {
        "id": "2d212ec5"
      },
      "source": [
        "##### Обработка числовых данных"
      ]
    },
    {
      "cell_type": "markdown",
      "id": "3e35f516",
      "metadata": {
        "id": "3e35f516"
      },
      "source": [
        "Теперь масштабируем числовые данные:"
      ]
    },
    {
      "cell_type": "code",
      "execution_count": null,
      "id": "fda8ca78",
      "metadata": {
        "id": "fda8ca78"
      },
      "outputs": [],
      "source": [
        "numerical_assembler = VectorAssembler(inputCols=numerical_cols, outputCol=\"numerical_features\")\n",
        "train_data = numerical_assembler.transform(train_data)\n",
        "test_data = numerical_assembler.transform(test_data)"
      ]
    },
    {
      "cell_type": "code",
      "execution_count": null,
      "id": "756a7afd",
      "metadata": {
        "id": "756a7afd"
      },
      "outputs": [],
      "source": [
        "standardScaler = StandardScaler(inputCol='numerical_features', outputCol=\"numerical_features_scaled\")"
      ]
    },
    {
      "cell_type": "code",
      "execution_count": null,
      "id": "678dd6a5",
      "metadata": {
        "id": "678dd6a5"
      },
      "outputs": [],
      "source": [
        "model_scaler = standardScaler.fit(train_data)"
      ]
    },
    {
      "cell_type": "code",
      "execution_count": null,
      "id": "26a74cee",
      "metadata": {
        "id": "26a74cee"
      },
      "outputs": [],
      "source": [
        "train_data = model_scaler.transform(train_data)"
      ]
    },
    {
      "cell_type": "code",
      "execution_count": null,
      "id": "aa0dc555",
      "metadata": {
        "id": "aa0dc555"
      },
      "outputs": [],
      "source": [
        "test_data = model_scaler.transform(test_data)"
      ]
    },
    {
      "cell_type": "markdown",
      "id": "780c0bdc",
      "metadata": {
        "id": "780c0bdc"
      },
      "source": [
        "Масштабирование проведено."
      ]
    },
    {
      "cell_type": "markdown",
      "id": "4e70e260",
      "metadata": {
        "id": "4e70e260"
      },
      "source": [
        "##### Сбор всех данных"
      ]
    },
    {
      "cell_type": "markdown",
      "id": "185316ac",
      "metadata": {
        "id": "185316ac"
      },
      "source": [
        "Сперва ознакомимся с перечнем полученных столбцов:"
      ]
    },
    {
      "cell_type": "code",
      "execution_count": null,
      "id": "60e3210c",
      "metadata": {
        "id": "60e3210c",
        "outputId": "bb7ad340-e47d-445b-fcf0-9e362e664d4c"
      },
      "outputs": [
        {
          "name": "stdout",
          "output_type": "stream",
          "text": [
            "['housing_median_age', 'total_rooms', 'total_bedrooms', 'population', 'households', 'median_income', 'median_house_value', 'ocean_proximity', 'rooms_per_household', 'population_in_household', 'bedroom_index', 'ocean_proximity_idx', 'ocean_proximity_ohe', 'categorical_features', 'numerical_features', 'numerical_features_scaled']\n"
          ]
        }
      ],
      "source": [
        "print(train_data.columns)"
      ]
    },
    {
      "cell_type": "code",
      "execution_count": null,
      "id": "80989b28",
      "metadata": {
        "id": "80989b28",
        "outputId": "34e295cf-8709-4b1c-c0ff-67b576744875"
      },
      "outputs": [
        {
          "name": "stdout",
          "output_type": "stream",
          "text": [
            "['housing_median_age', 'total_rooms', 'total_bedrooms', 'population', 'households', 'median_income', 'median_house_value', 'ocean_proximity', 'rooms_per_household', 'population_in_household', 'bedroom_index', 'ocean_proximity_idx', 'ocean_proximity_ohe', 'categorical_features', 'numerical_features', 'numerical_features_scaled']\n"
          ]
        }
      ],
      "source": [
        "print(test_data.columns)"
      ]
    },
    {
      "cell_type": "markdown",
      "id": "d7e9ceef",
      "metadata": {
        "id": "d7e9ceef"
      },
      "source": [
        "Теперь соберем данные в одну таблицу:"
      ]
    },
    {
      "cell_type": "code",
      "execution_count": null,
      "id": "6fae71bf",
      "metadata": {
        "scrolled": false,
        "id": "6fae71bf",
        "outputId": "3848f568-5811-4a92-be26-91d60fc5fc8b"
      },
      "outputs": [
        {
          "name": "stdout",
          "output_type": "stream",
          "text": [
            "+--------------------+-------------------------+\n",
            "|categorical_features|numerical_features_scaled|\n",
            "+--------------------+-------------------------+\n",
            "|       (4,[1],[1.0])|     [0.07912912026224...|\n",
            "|       (4,[1],[1.0])|     [0.07912912026224...|\n",
            "|       (4,[1],[1.0])|     [0.07912912026224...|\n",
            "+--------------------+-------------------------+\n",
            "only showing top 3 rows\n",
            "\n"
          ]
        }
      ],
      "source": [
        "all_features = ['categorical_features','numerical_features_scaled']\n",
        "\n",
        "final_assembler = VectorAssembler(inputCols=all_features,\n",
        "                                  outputCol=\"features\")\n",
        "train_data = final_assembler.transform(train_data)\n",
        "\n",
        "train_data.select(all_features).show(3)"
      ]
    },
    {
      "cell_type": "code",
      "execution_count": null,
      "id": "c275ab16",
      "metadata": {
        "id": "c275ab16",
        "outputId": "8cfb8311-665d-4e38-8b5a-995c8c422d54"
      },
      "outputs": [
        {
          "name": "stdout",
          "output_type": "stream",
          "text": [
            "+--------------------+-------------------------+\n",
            "|categorical_features|numerical_features_scaled|\n",
            "+--------------------+-------------------------+\n",
            "|       (4,[1],[1.0])|     [0.07912912026224...|\n",
            "|       (4,[0],[1.0])|     [0.15825824052449...|\n",
            "|       (4,[0],[1.0])|     [0.15825824052449...|\n",
            "+--------------------+-------------------------+\n",
            "only showing top 3 rows\n",
            "\n"
          ]
        }
      ],
      "source": [
        "test_data = final_assembler.transform(test_data)\n",
        "\n",
        "test_data.select(all_features).show(3)"
      ]
    },
    {
      "cell_type": "markdown",
      "id": "16cc8f21",
      "metadata": {
        "id": "16cc8f21"
      },
      "source": [
        "Данные собраны и подготовлены."
      ]
    },
    {
      "cell_type": "markdown",
      "id": "ed9d463d",
      "metadata": {
        "id": "ed9d463d"
      },
      "source": [
        "#### Данные для датафрейма без категориального признака"
      ]
    },
    {
      "cell_type": "markdown",
      "id": "5369fab9",
      "metadata": {
        "id": "5369fab9"
      },
      "source": [
        "Теперь подготовим данные для датафрейма без категориального признака."
      ]
    },
    {
      "cell_type": "markdown",
      "id": "cd34902c",
      "metadata": {
        "id": "cd34902c"
      },
      "source": [
        "Выделим отдельно числовые данные и колонку с целевым признаком."
      ]
    },
    {
      "cell_type": "code",
      "execution_count": null,
      "id": "4fb613f0",
      "metadata": {
        "id": "4fb613f0"
      },
      "outputs": [],
      "source": [
        "numerical_cols_num  = ['housing_median_age',\n",
        "                   'total_rooms',\n",
        "                   'total_bedrooms',\n",
        "                   'population',\n",
        "                   'households',\n",
        "                   'median_income',\n",
        "                   'rooms_per_household',\n",
        "                  'population_in_household',\n",
        "                  'bedroom_index']\n",
        "target_num = 'median_house_value'"
      ]
    },
    {
      "cell_type": "markdown",
      "id": "8476b963",
      "metadata": {
        "id": "8476b963"
      },
      "source": [
        "Разобьём данные на тренеровочную и тестовую выборки:"
      ]
    },
    {
      "cell_type": "code",
      "execution_count": null,
      "id": "3ebae3b0",
      "metadata": {
        "id": "3ebae3b0",
        "outputId": "ee04a31f-eb22-489c-fa0e-4d2461936160"
      },
      "outputs": [
        {
          "name": "stdout",
          "output_type": "stream",
          "text": [
            "16418 4222\n"
          ]
        }
      ],
      "source": [
        "train_data_num, test_data_num = df_house_num.randomSplit([.8,.2], seed=RANDOM_SEED)\n",
        "print(train_data_num.count(), test_data_num.count())"
      ]
    },
    {
      "cell_type": "markdown",
      "id": "ce361209",
      "metadata": {
        "id": "ce361209"
      },
      "source": [
        "В данных были пропуски. Заполним их."
      ]
    },
    {
      "cell_type": "code",
      "execution_count": null,
      "id": "75ab5c5c",
      "metadata": {
        "scrolled": true,
        "id": "75ab5c5c",
        "outputId": "c2465493-0c83-446c-b86d-a064b508e675"
      },
      "outputs": [
        {
          "data": {
            "text/html": [
              "<div>\n",
              "<style scoped>\n",
              "    .dataframe tbody tr th:only-of-type {\n",
              "        vertical-align: middle;\n",
              "    }\n",
              "\n",
              "    .dataframe tbody tr th {\n",
              "        vertical-align: top;\n",
              "    }\n",
              "\n",
              "    .dataframe thead th {\n",
              "        text-align: right;\n",
              "    }\n",
              "</style>\n",
              "<table border=\"1\" class=\"dataframe\">\n",
              "  <thead>\n",
              "    <tr style=\"text-align: right;\">\n",
              "      <th></th>\n",
              "      <th>summary</th>\n",
              "      <th>housing_median_age</th>\n",
              "      <th>total_rooms</th>\n",
              "      <th>total_bedrooms</th>\n",
              "      <th>population</th>\n",
              "      <th>households</th>\n",
              "      <th>median_income</th>\n",
              "      <th>median_house_value</th>\n",
              "      <th>rooms_per_household</th>\n",
              "      <th>population_in_household</th>\n",
              "      <th>bedroom_index</th>\n",
              "    </tr>\n",
              "  </thead>\n",
              "  <tbody>\n",
              "    <tr>\n",
              "      <th>0</th>\n",
              "      <td>count</td>\n",
              "      <td>16418</td>\n",
              "      <td>16418</td>\n",
              "      <td>16418</td>\n",
              "      <td>16418</td>\n",
              "      <td>16418</td>\n",
              "      <td>16418</td>\n",
              "      <td>16418</td>\n",
              "      <td>16418</td>\n",
              "      <td>16418</td>\n",
              "      <td>16418</td>\n",
              "    </tr>\n",
              "    <tr>\n",
              "      <th>1</th>\n",
              "      <td>mean</td>\n",
              "      <td>28.668169082714094</td>\n",
              "      <td>2632.2636131075647</td>\n",
              "      <td>537.3726081338816</td>\n",
              "      <td>1425.112681203557</td>\n",
              "      <td>498.68467535631623</td>\n",
              "      <td>3.862157820684621</td>\n",
              "      <td>206350.16134730174</td>\n",
              "      <td>5.431607696045633</td>\n",
              "      <td>3.0729293103710242</td>\n",
              "      <td>0.21317633730988578</td>\n",
              "    </tr>\n",
              "    <tr>\n",
              "      <th>2</th>\n",
              "      <td>stddev</td>\n",
              "      <td>12.637572573609434</td>\n",
              "      <td>2176.0356764859694</td>\n",
              "      <td>417.6006629159667</td>\n",
              "      <td>1137.2136474890342</td>\n",
              "      <td>379.7323946053574</td>\n",
              "      <td>1.9014322167050353</td>\n",
              "      <td>114986.77557779055</td>\n",
              "      <td>2.592331306041628</td>\n",
              "      <td>10.664926971799298</td>\n",
              "      <td>0.05791713129245083</td>\n",
              "    </tr>\n",
              "    <tr>\n",
              "      <th>3</th>\n",
              "      <td>min</td>\n",
              "      <td>1.0</td>\n",
              "      <td>2.0</td>\n",
              "      <td>1.0</td>\n",
              "      <td>3.0</td>\n",
              "      <td>1.0</td>\n",
              "      <td>0.4999</td>\n",
              "      <td>14999.0</td>\n",
              "      <td>0.8461538461538461</td>\n",
              "      <td>0.6923076923076923</td>\n",
              "      <td>0.1</td>\n",
              "    </tr>\n",
              "    <tr>\n",
              "      <th>4</th>\n",
              "      <td>max</td>\n",
              "      <td>52.0</td>\n",
              "      <td>39320.0</td>\n",
              "      <td>6445.0</td>\n",
              "      <td>35682.0</td>\n",
              "      <td>6082.0</td>\n",
              "      <td>15.0001</td>\n",
              "      <td>500001.0</td>\n",
              "      <td>141.9090909090909</td>\n",
              "      <td>1243.3333333333333</td>\n",
              "      <td>1.0</td>\n",
              "    </tr>\n",
              "  </tbody>\n",
              "</table>\n",
              "</div>"
            ],
            "text/plain": [
              "  summary  housing_median_age         total_rooms     total_bedrooms  \\\n",
              "0   count               16418               16418              16418   \n",
              "1    mean  28.668169082714094  2632.2636131075647  537.3726081338816   \n",
              "2  stddev  12.637572573609434  2176.0356764859694  417.6006629159667   \n",
              "3     min                 1.0                 2.0                1.0   \n",
              "4     max                52.0             39320.0             6445.0   \n",
              "\n",
              "           population          households       median_income  \\\n",
              "0               16418               16418               16418   \n",
              "1   1425.112681203557  498.68467535631623   3.862157820684621   \n",
              "2  1137.2136474890342   379.7323946053574  1.9014322167050353   \n",
              "3                 3.0                 1.0              0.4999   \n",
              "4             35682.0              6082.0             15.0001   \n",
              "\n",
              "   median_house_value rooms_per_household population_in_household  \\\n",
              "0               16418               16418                   16418   \n",
              "1  206350.16134730174   5.431607696045633      3.0729293103710242   \n",
              "2  114986.77557779055   2.592331306041628      10.664926971799298   \n",
              "3             14999.0  0.8461538461538461      0.6923076923076923   \n",
              "4            500001.0   141.9090909090909      1243.3333333333333   \n",
              "\n",
              "         bedroom_index  \n",
              "0                16418  \n",
              "1  0.21317633730988578  \n",
              "2  0.05791713129245083  \n",
              "3                  0.1  \n",
              "4                  1.0  "
            ]
          },
          "execution_count": 175,
          "metadata": {},
          "output_type": "execute_result"
        }
      ],
      "source": [
        "model_nan = imputer.fit(train_data_num)\n",
        "\n",
        "train_data_num = model_nan.transform(train_data_num)\n",
        "\n",
        "train_data_num.describe().toPandas()"
      ]
    },
    {
      "cell_type": "code",
      "execution_count": null,
      "id": "e2999470",
      "metadata": {
        "scrolled": false,
        "id": "e2999470",
        "outputId": "6c7c41a0-9d86-427f-c0d8-730dd3beba2d"
      },
      "outputs": [
        {
          "data": {
            "text/html": [
              "<div>\n",
              "<style scoped>\n",
              "    .dataframe tbody tr th:only-of-type {\n",
              "        vertical-align: middle;\n",
              "    }\n",
              "\n",
              "    .dataframe tbody tr th {\n",
              "        vertical-align: top;\n",
              "    }\n",
              "\n",
              "    .dataframe thead th {\n",
              "        text-align: right;\n",
              "    }\n",
              "</style>\n",
              "<table border=\"1\" class=\"dataframe\">\n",
              "  <thead>\n",
              "    <tr style=\"text-align: right;\">\n",
              "      <th></th>\n",
              "      <th>summary</th>\n",
              "      <th>housing_median_age</th>\n",
              "      <th>total_rooms</th>\n",
              "      <th>total_bedrooms</th>\n",
              "      <th>population</th>\n",
              "      <th>households</th>\n",
              "      <th>median_income</th>\n",
              "      <th>median_house_value</th>\n",
              "      <th>rooms_per_household</th>\n",
              "      <th>population_in_household</th>\n",
              "      <th>bedroom_index</th>\n",
              "    </tr>\n",
              "  </thead>\n",
              "  <tbody>\n",
              "    <tr>\n",
              "      <th>0</th>\n",
              "      <td>count</td>\n",
              "      <td>4222</td>\n",
              "      <td>4222</td>\n",
              "      <td>4222</td>\n",
              "      <td>4222</td>\n",
              "      <td>4222</td>\n",
              "      <td>4222</td>\n",
              "      <td>4222</td>\n",
              "      <td>4222</td>\n",
              "      <td>4222</td>\n",
              "      <td>4222</td>\n",
              "    </tr>\n",
              "    <tr>\n",
              "      <th>1</th>\n",
              "      <td>mean</td>\n",
              "      <td>28.527948839412602</td>\n",
              "      <td>2649.371387967788</td>\n",
              "      <td>539.7824844958841</td>\n",
              "      <td>1426.8924680246328</td>\n",
              "      <td>502.8645191852203</td>\n",
              "      <td>3.9037760303173825</td>\n",
              "      <td>208822.14874467076</td>\n",
              "      <td>5.418858248491711</td>\n",
              "      <td>3.061811717928805</td>\n",
              "      <td>0.21251085245965048</td>\n",
              "    </tr>\n",
              "    <tr>\n",
              "      <th>2</th>\n",
              "      <td>stddev</td>\n",
              "      <td>12.382058632796495</td>\n",
              "      <td>2203.384930352895</td>\n",
              "      <td>425.72751010375214</td>\n",
              "      <td>1113.9242505690397</td>\n",
              "      <td>392.29475369314537</td>\n",
              "      <td>1.8934067713363394</td>\n",
              "      <td>116964.86027913938</td>\n",
              "      <td>1.9479453366920383</td>\n",
              "      <td>9.222929437408906</td>\n",
              "      <td>0.05680763106513954</td>\n",
              "    </tr>\n",
              "    <tr>\n",
              "      <th>3</th>\n",
              "      <td>min</td>\n",
              "      <td>1.0</td>\n",
              "      <td>12.0</td>\n",
              "      <td>3.0</td>\n",
              "      <td>18.0</td>\n",
              "      <td>7.0</td>\n",
              "      <td>0.4999</td>\n",
              "      <td>14999.0</td>\n",
              "      <td>0.8888888888888888</td>\n",
              "      <td>0.9705882352941176</td>\n",
              "      <td>0.1</td>\n",
              "    </tr>\n",
              "    <tr>\n",
              "      <th>4</th>\n",
              "      <td>max</td>\n",
              "      <td>52.0</td>\n",
              "      <td>30405.0</td>\n",
              "      <td>4457.0</td>\n",
              "      <td>12873.0</td>\n",
              "      <td>4204.0</td>\n",
              "      <td>15.0001</td>\n",
              "      <td>500001.0</td>\n",
              "      <td>41.333333333333336</td>\n",
              "      <td>599.7142857142857</td>\n",
              "      <td>0.896551724137931</td>\n",
              "    </tr>\n",
              "  </tbody>\n",
              "</table>\n",
              "</div>"
            ],
            "text/plain": [
              "  summary  housing_median_age        total_rooms      total_bedrooms  \\\n",
              "0   count                4222               4222                4222   \n",
              "1    mean  28.527948839412602  2649.371387967788   539.7824844958841   \n",
              "2  stddev  12.382058632796495  2203.384930352895  425.72751010375214   \n",
              "3     min                 1.0               12.0                 3.0   \n",
              "4     max                52.0            30405.0              4457.0   \n",
              "\n",
              "           population          households       median_income  \\\n",
              "0                4222                4222                4222   \n",
              "1  1426.8924680246328   502.8645191852203  3.9037760303173825   \n",
              "2  1113.9242505690397  392.29475369314537  1.8934067713363394   \n",
              "3                18.0                 7.0              0.4999   \n",
              "4             12873.0              4204.0             15.0001   \n",
              "\n",
              "   median_house_value rooms_per_household population_in_household  \\\n",
              "0                4222                4222                    4222   \n",
              "1  208822.14874467076   5.418858248491711       3.061811717928805   \n",
              "2  116964.86027913938  1.9479453366920383       9.222929437408906   \n",
              "3             14999.0  0.8888888888888888      0.9705882352941176   \n",
              "4            500001.0  41.333333333333336       599.7142857142857   \n",
              "\n",
              "         bedroom_index  \n",
              "0                 4222  \n",
              "1  0.21251085245965048  \n",
              "2  0.05680763106513954  \n",
              "3                  0.1  \n",
              "4    0.896551724137931  "
            ]
          },
          "execution_count": 176,
          "metadata": {},
          "output_type": "execute_result"
        }
      ],
      "source": [
        "test_data_num = model_nan.transform(test_data_num)\n",
        "test_data_num.describe().toPandas()"
      ]
    },
    {
      "cell_type": "markdown",
      "id": "8614e17b",
      "metadata": {
        "id": "8614e17b"
      },
      "source": [
        "Пропуски обработаны."
      ]
    },
    {
      "cell_type": "markdown",
      "id": "4f6472b1",
      "metadata": {
        "id": "4f6472b1"
      },
      "source": [
        "##### Обработка числовых данных"
      ]
    },
    {
      "cell_type": "markdown",
      "id": "b876883c",
      "metadata": {
        "id": "b876883c"
      },
      "source": [
        "Масштабируем числовые данные:"
      ]
    },
    {
      "cell_type": "code",
      "execution_count": null,
      "id": "700dec49",
      "metadata": {
        "id": "700dec49"
      },
      "outputs": [],
      "source": [
        "numerical_assembler_num = VectorAssembler(inputCols=numerical_cols_num, outputCol=\"numerical_features\")\n",
        "train_data_num = numerical_assembler_num.transform(train_data_num)\n",
        "test_data_num = numerical_assembler_num.transform(test_data_num)"
      ]
    },
    {
      "cell_type": "code",
      "execution_count": null,
      "id": "7bd43e23",
      "metadata": {
        "id": "7bd43e23"
      },
      "outputs": [],
      "source": [
        "standardScalerNum = StandardScaler(inputCol='numerical_features', outputCol=\"numerical_features_scaled\")"
      ]
    },
    {
      "cell_type": "code",
      "execution_count": null,
      "id": "840d0d46",
      "metadata": {
        "id": "840d0d46"
      },
      "outputs": [],
      "source": [
        "model_scaler_num = standardScalerNum.fit(train_data_num)"
      ]
    },
    {
      "cell_type": "code",
      "execution_count": null,
      "id": "50da5f68",
      "metadata": {
        "id": "50da5f68"
      },
      "outputs": [],
      "source": [
        "train_data_num = model_scaler_num.transform(train_data_num)"
      ]
    },
    {
      "cell_type": "code",
      "execution_count": null,
      "id": "f80cb65e",
      "metadata": {
        "id": "f80cb65e"
      },
      "outputs": [],
      "source": [
        "test_data_num = model_scaler_num.transform(test_data_num)"
      ]
    },
    {
      "cell_type": "markdown",
      "id": "f8c7aed2",
      "metadata": {
        "id": "f8c7aed2"
      },
      "source": [
        "Масштабирование проведено."
      ]
    },
    {
      "cell_type": "markdown",
      "id": "54f72b3f",
      "metadata": {
        "id": "54f72b3f"
      },
      "source": [
        "##### Сбор всех данных"
      ]
    },
    {
      "cell_type": "markdown",
      "id": "987fe36d",
      "metadata": {
        "id": "987fe36d"
      },
      "source": [
        "Сперва ознакомимся с перечнем полученных столбцов:"
      ]
    },
    {
      "cell_type": "code",
      "execution_count": null,
      "id": "09bd4e6f",
      "metadata": {
        "id": "09bd4e6f",
        "outputId": "dc9c6384-a491-447a-af1b-94199f74b1d0"
      },
      "outputs": [
        {
          "name": "stdout",
          "output_type": "stream",
          "text": [
            "['housing_median_age', 'total_rooms', 'total_bedrooms', 'population', 'households', 'median_income', 'median_house_value', 'rooms_per_household', 'population_in_household', 'bedroom_index', 'numerical_features', 'numerical_features_scaled']\n"
          ]
        }
      ],
      "source": [
        "print(train_data_num.columns)"
      ]
    },
    {
      "cell_type": "code",
      "execution_count": null,
      "id": "fa6497b0",
      "metadata": {
        "id": "fa6497b0",
        "outputId": "a7ff91b2-15ff-4dab-d1d7-ffd622b2ba47"
      },
      "outputs": [
        {
          "name": "stdout",
          "output_type": "stream",
          "text": [
            "['housing_median_age', 'total_rooms', 'total_bedrooms', 'population', 'households', 'median_income', 'median_house_value', 'rooms_per_household', 'population_in_household', 'bedroom_index', 'numerical_features', 'numerical_features_scaled']\n"
          ]
        }
      ],
      "source": [
        "print(test_data_num.columns)"
      ]
    },
    {
      "cell_type": "markdown",
      "id": "213ad959",
      "metadata": {
        "id": "213ad959"
      },
      "source": [
        "Теперь соберем данные в таблицу:"
      ]
    },
    {
      "cell_type": "code",
      "execution_count": null,
      "id": "749aad89",
      "metadata": {
        "scrolled": false,
        "id": "749aad89",
        "outputId": "0bbcab65-d401-4bdd-dca5-483c1ce39166"
      },
      "outputs": [
        {
          "name": "stdout",
          "output_type": "stream",
          "text": [
            "+-------------------------+\n",
            "|numerical_features_scaled|\n",
            "+-------------------------+\n",
            "|     [0.07912912026224...|\n",
            "|     [0.07912912026224...|\n",
            "|     [0.07912912026224...|\n",
            "+-------------------------+\n",
            "only showing top 3 rows\n",
            "\n"
          ]
        }
      ],
      "source": [
        "all_features_num = ['numerical_features_scaled']\n",
        "\n",
        "final_assembler_num = VectorAssembler(inputCols=all_features_num,\n",
        "                                  outputCol=\"features\")\n",
        "train_data_num = final_assembler_num.transform(train_data_num)\n",
        "\n",
        "train_data_num.select(all_features_num).show(3)"
      ]
    },
    {
      "cell_type": "code",
      "execution_count": null,
      "id": "7eb63a49",
      "metadata": {
        "id": "7eb63a49",
        "outputId": "f329abc2-9756-4f92-d946-0309381eb240"
      },
      "outputs": [
        {
          "name": "stdout",
          "output_type": "stream",
          "text": [
            "+-------------------------+\n",
            "|numerical_features_scaled|\n",
            "+-------------------------+\n",
            "|     [0.07912912026224...|\n",
            "|     [0.15825824052449...|\n",
            "|     [0.15825824052449...|\n",
            "+-------------------------+\n",
            "only showing top 3 rows\n",
            "\n"
          ]
        }
      ],
      "source": [
        "test_data_num = final_assembler_num.transform(test_data_num)\n",
        "\n",
        "test_data_num.select(all_features_num).show(3)"
      ]
    },
    {
      "cell_type": "markdown",
      "id": "c34d6a5a",
      "metadata": {
        "id": "c34d6a5a"
      },
      "source": [
        "Данные собраны и подготовлены."
      ]
    },
    {
      "cell_type": "markdown",
      "id": "f7bb2264",
      "metadata": {
        "id": "f7bb2264"
      },
      "source": [
        "## Обучение моделей"
      ]
    },
    {
      "cell_type": "markdown",
      "id": "f2ccbe0f",
      "metadata": {
        "id": "f2ccbe0f"
      },
      "source": [
        "### Модель на полных данных"
      ]
    },
    {
      "cell_type": "markdown",
      "id": "644b8f31",
      "metadata": {
        "id": "644b8f31"
      },
      "source": [
        "Инициируем и обучем модель линейной регрессии:"
      ]
    },
    {
      "cell_type": "code",
      "execution_count": null,
      "id": "05e1cb03",
      "metadata": {
        "scrolled": true,
        "id": "05e1cb03",
        "outputId": "698ea265-d2b2-477f-d087-7f47a8c12495"
      },
      "outputs": [
        {
          "name": "stderr",
          "output_type": "stream",
          "text": [
            "24/08/29 03:44:57 WARN Instrumentation: [ba58489c] regParam is zero, which might cause numerical instability and overfitting.\n"
          ]
        }
      ],
      "source": [
        "lr = LinearRegression(labelCol=target, featuresCol='features')\n",
        "\n",
        "model = lr.fit(train_data)"
      ]
    },
    {
      "cell_type": "markdown",
      "id": "f7e18fa9",
      "metadata": {
        "id": "f7e18fa9"
      },
      "source": [
        "Получим предсказание модели на тестовой выборке:"
      ]
    },
    {
      "cell_type": "code",
      "execution_count": null,
      "id": "e4ce0877",
      "metadata": {
        "scrolled": true,
        "id": "e4ce0877",
        "outputId": "7c30ec93-8b5c-4ad6-e03d-159d78ff8a64"
      },
      "outputs": [
        {
          "name": "stdout",
          "output_type": "stream",
          "text": [
            "+------------------+------------------+\n",
            "|median_house_value|        prediction|\n",
            "+------------------+------------------+\n",
            "|          191300.0| 171277.9575259618|\n",
            "|          434700.0|138596.42735805726|\n",
            "|          500001.0| 303974.9308022256|\n",
            "|          315000.0|128695.08583627353|\n",
            "|          100000.0|122034.22057770431|\n",
            "|          136700.0| 168877.5521691165|\n",
            "|          145600.0|198673.46251940067|\n",
            "|          158500.0|233314.92089465223|\n",
            "|          196700.0| 203176.1177894658|\n",
            "|           96500.0|145857.13767816994|\n",
            "|          111500.0|137865.33034596068|\n",
            "|          137900.0| 135683.2909791577|\n",
            "|          500001.0| 453030.0577048657|\n",
            "|          204400.0| 241916.7338659679|\n",
            "|          222500.0| 234452.9044352407|\n",
            "|          187800.0|180648.87053012435|\n",
            "|          220800.0|213189.77947124199|\n",
            "|          151300.0| 188116.0217669895|\n",
            "|          163500.0|117197.00666717239|\n",
            "|          500001.0|  343253.709809841|\n",
            "+------------------+------------------+\n",
            "only showing top 20 rows\n",
            "\n"
          ]
        }
      ],
      "source": [
        "predictions = model.transform(test_data)\n",
        "\n",
        "predictedLabes = predictions.select('median_house_value', \"prediction\")\n",
        "predictedLabes.show()"
      ]
    },
    {
      "cell_type": "markdown",
      "id": "0fbad7ba",
      "metadata": {
        "id": "0fbad7ba"
      },
      "source": [
        "Предсказания получены."
      ]
    },
    {
      "cell_type": "markdown",
      "id": "ac505bb3",
      "metadata": {
        "id": "ac505bb3"
      },
      "source": [
        "### Модель на данных без категориального признака"
      ]
    },
    {
      "cell_type": "markdown",
      "id": "f2c6321e",
      "metadata": {
        "id": "f2c6321e"
      },
      "source": [
        "Инициируем и обучем модель линейной регрессии:"
      ]
    },
    {
      "cell_type": "code",
      "execution_count": null,
      "id": "b1bffd8c",
      "metadata": {
        "scrolled": true,
        "id": "b1bffd8c",
        "outputId": "3569457a-c197-45ae-f5e9-597ed5bcd2c5"
      },
      "outputs": [
        {
          "name": "stderr",
          "output_type": "stream",
          "text": [
            "24/08/29 03:44:58 WARN Instrumentation: [42448d8a] regParam is zero, which might cause numerical instability and overfitting.\n"
          ]
        }
      ],
      "source": [
        "lr_num = LinearRegression(labelCol=target_num, featuresCol='features')\n",
        "\n",
        "model_num = lr_num.fit(train_data_num)"
      ]
    },
    {
      "cell_type": "markdown",
      "id": "899d20cf",
      "metadata": {
        "id": "899d20cf"
      },
      "source": [
        "Получим предсказание модели на тестовой выборке:"
      ]
    },
    {
      "cell_type": "code",
      "execution_count": null,
      "id": "95e50801",
      "metadata": {
        "scrolled": true,
        "id": "95e50801",
        "outputId": "954d5e89-9dd5-4363-e35c-d6194e1da4cd"
      },
      "outputs": [
        {
          "name": "stdout",
          "output_type": "stream",
          "text": [
            "+------------------+------------------+\n",
            "|median_house_value|        prediction|\n",
            "+------------------+------------------+\n",
            "|          191300.0|197626.37817900072|\n",
            "|          434700.0| 86459.77837511533|\n",
            "|          500001.0|274651.90501669364|\n",
            "|          315000.0|133919.41642179058|\n",
            "|          100000.0|141340.61950717217|\n",
            "|          136700.0| 201797.9226816326|\n",
            "|          145600.0|156676.05673911664|\n",
            "|          158500.0|186729.71034591817|\n",
            "|          196700.0|228194.95897920468|\n",
            "|           96500.0|170584.82150010506|\n",
            "|          111500.0|161844.62563444293|\n",
            "|          137900.0| 159863.4813369382|\n",
            "|          500001.0|  443096.304980543|\n",
            "|          204400.0| 268803.9943450091|\n",
            "|          222500.0|255669.73348247228|\n",
            "|          187800.0|189103.97565617485|\n",
            "|          220800.0| 234188.7192496979|\n",
            "|          151300.0| 196987.2843804744|\n",
            "|          163500.0|134214.84810127472|\n",
            "|          500001.0|324097.61486691074|\n",
            "+------------------+------------------+\n",
            "only showing top 20 rows\n",
            "\n"
          ]
        }
      ],
      "source": [
        "predictions_num = model_num.transform(test_data_num)\n",
        "\n",
        "predictedLabes_num = predictions_num.select('median_house_value', \"prediction\")\n",
        "predictedLabes_num.show()"
      ]
    },
    {
      "cell_type": "markdown",
      "id": "e624c498",
      "metadata": {
        "id": "e624c498"
      },
      "source": [
        "Предсказания получены."
      ]
    },
    {
      "cell_type": "markdown",
      "id": "757fd103",
      "metadata": {
        "id": "757fd103"
      },
      "source": [
        "## Анализ результатов"
      ]
    },
    {
      "cell_type": "markdown",
      "id": "6f990ec6",
      "metadata": {
        "id": "6f990ec6"
      },
      "source": [
        "Теперь оценим результаты работы модели по метрикам RMSE, MAE и R2. Сперва инициируем расчет метрик."
      ]
    },
    {
      "cell_type": "code",
      "execution_count": null,
      "id": "ca849360",
      "metadata": {
        "id": "ca849360"
      },
      "outputs": [],
      "source": [
        "rmse_evaluator = RegressionEvaluator(\n",
        "    metricName=\"rmse\", predictionCol=\"prediction\", labelCol='median_house_value')\n",
        "mae_evaluator = RegressionEvaluator(\n",
        "    metricName=\"mae\", predictionCol=\"prediction\", labelCol='median_house_value')\n",
        "r2_evaluator = RegressionEvaluator(\n",
        "    metricName=\"r2\", predictionCol=\"prediction\", labelCol='median_house_value')"
      ]
    },
    {
      "cell_type": "markdown",
      "id": "7b0f4358",
      "metadata": {
        "id": "7b0f4358"
      },
      "source": [
        "Теперь посчитаем метрики для моделей. RMSE:"
      ]
    },
    {
      "cell_type": "code",
      "execution_count": null,
      "id": "a39cfdd3",
      "metadata": {
        "scrolled": true,
        "id": "a39cfdd3",
        "outputId": "c9d31fb0-010d-426f-b7fd-137c98570e01"
      },
      "outputs": [
        {
          "name": "stdout",
          "output_type": "stream",
          "text": [
            "RMSE для модели на полных данных:68885.09.\n",
            "RMSE для модели без категориального признака:73954.32.\n"
          ]
        }
      ],
      "source": [
        "rmse = rmse_evaluator.evaluate(predictions)\n",
        "rmse_num = rmse_evaluator.evaluate(predictions_num)\n",
        "print(f'RMSE для модели на полных данных:{round(rmse,2)}.')\n",
        "print(f'RMSE для модели без категориального признака:{round(rmse_num,2)}.')"
      ]
    },
    {
      "cell_type": "markdown",
      "id": "06c6b833",
      "metadata": {
        "id": "06c6b833"
      },
      "source": [
        "MAE:"
      ]
    },
    {
      "cell_type": "code",
      "execution_count": null,
      "id": "b3c5aded",
      "metadata": {
        "id": "b3c5aded",
        "outputId": "a8664f5f-5b4f-4791-8af8-49c54971eb75"
      },
      "outputs": [
        {
          "name": "stdout",
          "output_type": "stream",
          "text": [
            "MAE для модели на полных данных:50094.75.\n",
            "MAE для модели без категориального признака:54597.28.\n"
          ]
        }
      ],
      "source": [
        "mae = mae_evaluator.evaluate(predictions)\n",
        "mae_num = mae_evaluator.evaluate(predictions_num)\n",
        "print(f'MAE для модели на полных данных:{round(mae,2)}.')\n",
        "print(f'MAE для модели без категориального признака:{round(mae_num,2)}.')"
      ]
    },
    {
      "cell_type": "markdown",
      "id": "ac5ec30b",
      "metadata": {
        "id": "ac5ec30b"
      },
      "source": [
        "Метрика R2:"
      ]
    },
    {
      "cell_type": "code",
      "execution_count": null,
      "id": "45f4f118",
      "metadata": {
        "id": "45f4f118",
        "outputId": "0a5fe336-e7ad-45a5-9dc4-a6273b590508"
      },
      "outputs": [
        {
          "name": "stdout",
          "output_type": "stream",
          "text": [
            "R2 для модели на полных данных:0.65.\n",
            "R2 для модели без категориального признака:0.6.\n"
          ]
        }
      ],
      "source": [
        "r2 = r2_evaluator.evaluate(predictions)\n",
        "r2_num = r2_evaluator.evaluate(predictions_num)\n",
        "print(f'R2 для модели на полных данных:{round(r2,2)}.')\n",
        "print(f'R2 для модели без категориального признака:{round(r2_num,2)}.')"
      ]
    },
    {
      "cell_type": "code",
      "execution_count": null,
      "id": "00651d64",
      "metadata": {
        "id": "00651d64"
      },
      "outputs": [],
      "source": [
        "spark.stop()"
      ]
    },
    {
      "cell_type": "markdown",
      "id": "83d09fc0",
      "metadata": {
        "id": "83d09fc0"
      },
      "source": [
        "## Выводы"
      ]
    },
    {
      "cell_type": "markdown",
      "id": "8a09c47e",
      "metadata": {
        "id": "8a09c47e"
      },
      "source": [
        "**В рамках работы сделано следующее:**\n",
        "\n",
        "1. Обработаны пропуски в данных.\n",
        "2. Подготовлены данные для моделей. Категориальные признаки закодированы, числовые признаки были масштабированы.\n",
        "3. Обучены две модели: одна модель на полных данных, вторая модель на данных без категориальных признаков.\n",
        "4. Работа моделей проанализирована по метрикам RMSE, MAE, R2.\n",
        "Все работы проводили с помощью библиотеки Mlib в Spark. Необходимо отметить, что для обучения моделей использовались данные с синтетическими признаками: rooms_per_household, population_in_household, bedroom_index.\n",
        "\n",
        "**Результаты работы:**  \n",
        "Все три метрики у модели без категориального признака хуже, чем у модели, обученной на всех данных. Очевидно, учёт близости к океану играет важную роль в предсказании медианной стоимости дома в Калифорнии. Так, R2 у модели без категориального признака составляет 0,6, у модели на полных данных - 0,65.  \n",
        "\n",
        "**Рекомендации:**  \n",
        "Для улучшения точности предсказания рекомедуется добавить дополнительные признаки, к примеру:\n",
        "- удаление от центра города;\n",
        "- наличие объектов инфраструктуры;\n",
        "- наличие метро, трамваем или другого общественного транспорта;\n",
        "- другие особенности объектов недвижимости.\n"
      ]
    }
  ],
  "metadata": {
    "ExecuteTimeLog": [
      {
        "duration": 728,
        "start_time": "2024-08-26T03:06:52.898Z"
      },
      {
        "duration": 22140,
        "start_time": "2024-08-26T03:07:39.013Z"
      },
      {
        "duration": 830,
        "start_time": "2024-08-26T03:10:32.952Z"
      },
      {
        "duration": 3,
        "start_time": "2024-08-26T03:10:36.531Z"
      },
      {
        "duration": 646,
        "start_time": "2024-08-26T03:10:38.810Z"
      },
      {
        "duration": 4,
        "start_time": "2024-08-26T03:10:43.354Z"
      },
      {
        "duration": 603,
        "start_time": "2024-08-26T03:10:50.265Z"
      },
      {
        "duration": 445,
        "start_time": "2024-08-26T03:11:05.130Z"
      },
      {
        "duration": 249,
        "start_time": "2024-08-26T03:11:53.617Z"
      },
      {
        "duration": 3441,
        "start_time": "2024-08-26T03:12:07.249Z"
      },
      {
        "duration": 4,
        "start_time": "2024-08-26T03:21:41.304Z"
      },
      {
        "duration": 1661,
        "start_time": "2024-08-26T03:21:55.498Z"
      },
      {
        "duration": 1126,
        "start_time": "2024-08-26T03:22:08.130Z"
      },
      {
        "duration": 1250,
        "start_time": "2024-08-26T03:28:07.917Z"
      },
      {
        "duration": 732,
        "start_time": "2024-08-26T03:30:26.331Z"
      },
      {
        "duration": 233,
        "start_time": "2024-08-26T03:30:39.336Z"
      },
      {
        "duration": 504,
        "start_time": "2024-08-26T03:30:51.058Z"
      },
      {
        "duration": 3,
        "start_time": "2024-08-26T03:34:43.901Z"
      },
      {
        "duration": 5,
        "start_time": "2024-08-26T07:07:36.634Z"
      },
      {
        "duration": 3,
        "start_time": "2024-08-26T07:08:36.998Z"
      },
      {
        "duration": 67,
        "start_time": "2024-08-26T07:09:52.253Z"
      },
      {
        "duration": 2,
        "start_time": "2024-08-26T07:10:11.765Z"
      },
      {
        "duration": 18,
        "start_time": "2024-08-26T07:10:16.101Z"
      },
      {
        "duration": 184,
        "start_time": "2024-08-26T07:26:27.401Z"
      },
      {
        "duration": 22,
        "start_time": "2024-08-26T07:27:03.192Z"
      },
      {
        "duration": 3,
        "start_time": "2024-08-26T07:27:16.865Z"
      },
      {
        "duration": 106,
        "start_time": "2024-08-26T07:27:18.544Z"
      },
      {
        "duration": 119,
        "start_time": "2024-08-26T07:28:50.992Z"
      },
      {
        "duration": 2094,
        "start_time": "2024-08-26T07:29:56.782Z"
      },
      {
        "duration": 504,
        "start_time": "2024-08-26T07:33:11.959Z"
      },
      {
        "duration": 47,
        "start_time": "2024-08-26T07:34:32.394Z"
      },
      {
        "duration": 44,
        "start_time": "2024-08-26T07:47:45.776Z"
      },
      {
        "duration": 1339,
        "start_time": "2024-08-26T07:48:16.423Z"
      },
      {
        "duration": 12,
        "start_time": "2024-08-26T07:48:41.824Z"
      },
      {
        "duration": 408,
        "start_time": "2024-08-26T07:49:22.383Z"
      },
      {
        "duration": 3026,
        "start_time": "2024-08-26T08:18:54.529Z"
      },
      {
        "duration": 4213,
        "start_time": "2024-08-26T08:22:25.067Z"
      },
      {
        "duration": 223,
        "start_time": "2024-08-26T08:23:26.748Z"
      },
      {
        "duration": 1061,
        "start_time": "2024-08-26T08:24:34.695Z"
      },
      {
        "duration": 5,
        "start_time": "2024-08-26T08:34:40.452Z"
      },
      {
        "duration": 1128,
        "start_time": "2024-08-26T08:36:14.339Z"
      },
      {
        "duration": 817,
        "start_time": "2024-08-26T08:38:20.344Z"
      },
      {
        "duration": 476,
        "start_time": "2024-08-26T08:38:55.184Z"
      },
      {
        "duration": 621,
        "start_time": "2024-08-26T08:39:21.584Z"
      },
      {
        "duration": 5242,
        "start_time": "2024-08-26T10:25:11.047Z"
      },
      {
        "duration": 2911,
        "start_time": "2024-08-26T10:41:08.923Z"
      },
      {
        "duration": 6,
        "start_time": "2024-08-26T10:58:35.181Z"
      },
      {
        "duration": 7,
        "start_time": "2024-08-26T10:58:37.853Z"
      },
      {
        "duration": 602,
        "start_time": "2024-08-26T10:58:40.093Z"
      },
      {
        "duration": 12,
        "start_time": "2024-08-26T10:58:42.549Z"
      },
      {
        "duration": 626,
        "start_time": "2024-08-26T10:59:48.844Z"
      },
      {
        "duration": 4,
        "start_time": "2024-08-26T10:59:51.572Z"
      },
      {
        "duration": 32,
        "start_time": "2024-08-26T11:19:24.240Z"
      },
      {
        "duration": 1029,
        "start_time": "2024-08-26T11:19:51.046Z"
      },
      {
        "duration": 761,
        "start_time": "2024-08-27T03:41:14.342Z"
      },
      {
        "duration": 16344,
        "start_time": "2024-08-27T03:41:16.242Z"
      },
      {
        "duration": 10697,
        "start_time": "2024-08-27T03:41:34.073Z"
      },
      {
        "duration": 17,
        "start_time": "2024-08-27T03:41:48.040Z"
      },
      {
        "duration": 2081,
        "start_time": "2024-08-27T03:42:18.393Z"
      },
      {
        "duration": 5051,
        "start_time": "2024-08-27T03:42:23.416Z"
      },
      {
        "duration": 19,
        "start_time": "2024-08-27T03:43:01.896Z"
      },
      {
        "duration": 2016,
        "start_time": "2024-08-27T03:43:07.463Z"
      },
      {
        "duration": 34,
        "start_time": "2024-08-27T03:45:27.854Z"
      },
      {
        "duration": 3,
        "start_time": "2024-08-27T03:45:37.126Z"
      },
      {
        "duration": 4,
        "start_time": "2024-08-27T03:45:46.299Z"
      },
      {
        "duration": 2522,
        "start_time": "2024-08-27T03:45:47.438Z"
      },
      {
        "duration": 3,
        "start_time": "2024-08-27T03:46:14.374Z"
      },
      {
        "duration": 251,
        "start_time": "2024-08-27T03:46:15.502Z"
      },
      {
        "duration": 8,
        "start_time": "2024-08-27T03:46:51.755Z"
      },
      {
        "duration": 4,
        "start_time": "2024-08-27T03:46:54.232Z"
      },
      {
        "duration": 3,
        "start_time": "2024-08-27T03:46:57.222Z"
      },
      {
        "duration": 919,
        "start_time": "2024-08-27T03:46:57.551Z"
      },
      {
        "duration": 3,
        "start_time": "2024-08-27T03:46:59.583Z"
      },
      {
        "duration": 700,
        "start_time": "2024-08-27T03:47:00.956Z"
      },
      {
        "duration": 1536,
        "start_time": "2024-08-27T03:47:03.059Z"
      },
      {
        "duration": 10,
        "start_time": "2024-08-27T03:47:05.783Z"
      },
      {
        "duration": 1408,
        "start_time": "2024-08-27T03:47:07.367Z"
      },
      {
        "duration": 30,
        "start_time": "2024-08-27T03:47:10.311Z"
      },
      {
        "duration": 3,
        "start_time": "2024-08-27T03:47:12.847Z"
      },
      {
        "duration": 865,
        "start_time": "2024-08-27T03:47:15.400Z"
      },
      {
        "duration": 292,
        "start_time": "2024-08-27T03:47:17.974Z"
      },
      {
        "duration": 128,
        "start_time": "2024-08-27T03:47:32.670Z"
      },
      {
        "duration": 99,
        "start_time": "2024-08-27T03:48:07.568Z"
      },
      {
        "duration": 289,
        "start_time": "2024-08-27T03:48:14.230Z"
      },
      {
        "duration": 3,
        "start_time": "2024-08-27T03:49:38.949Z"
      },
      {
        "duration": 107,
        "start_time": "2024-08-27T03:49:42.405Z"
      },
      {
        "duration": 125,
        "start_time": "2024-08-27T03:50:03.133Z"
      },
      {
        "duration": 105,
        "start_time": "2024-08-27T03:50:09.444Z"
      },
      {
        "duration": 35,
        "start_time": "2024-08-27T03:50:20.428Z"
      },
      {
        "duration": 1416,
        "start_time": "2024-08-27T03:50:22.341Z"
      },
      {
        "duration": 11,
        "start_time": "2024-08-27T03:50:27.860Z"
      },
      {
        "duration": 479,
        "start_time": "2024-08-27T03:50:30.213Z"
      },
      {
        "duration": 3,
        "start_time": "2024-08-27T03:53:19.395Z"
      },
      {
        "duration": 3,
        "start_time": "2024-08-27T03:54:07.014Z"
      },
      {
        "duration": 30,
        "start_time": "2024-08-27T03:54:51.784Z"
      },
      {
        "duration": 647,
        "start_time": "2024-08-27T03:55:43.833Z"
      },
      {
        "duration": 4,
        "start_time": "2024-08-27T03:55:50.152Z"
      },
      {
        "duration": 126,
        "start_time": "2024-08-27T03:56:50.642Z"
      },
      {
        "duration": 326,
        "start_time": "2024-08-27T03:57:18.415Z"
      },
      {
        "duration": 3025,
        "start_time": "2024-08-27T04:11:42.541Z"
      },
      {
        "duration": 4342,
        "start_time": "2024-08-27T04:16:57.847Z"
      },
      {
        "duration": 1122,
        "start_time": "2024-08-27T04:17:29.951Z"
      },
      {
        "duration": 22,
        "start_time": "2024-08-27T04:21:25.284Z"
      },
      {
        "duration": 13,
        "start_time": "2024-08-27T04:23:24.083Z"
      },
      {
        "duration": 983,
        "start_time": "2024-08-27T04:23:36.920Z"
      },
      {
        "duration": 6,
        "start_time": "2024-08-27T04:26:14.911Z"
      },
      {
        "duration": 16,
        "start_time": "2024-08-27T04:26:14.919Z"
      },
      {
        "duration": 17,
        "start_time": "2024-08-27T04:26:14.938Z"
      },
      {
        "duration": 714,
        "start_time": "2024-08-27T04:26:14.957Z"
      },
      {
        "duration": 3,
        "start_time": "2024-08-27T04:26:15.674Z"
      },
      {
        "duration": 894,
        "start_time": "2024-08-27T04:26:15.679Z"
      },
      {
        "duration": 1027,
        "start_time": "2024-08-27T04:26:16.575Z"
      },
      {
        "duration": 51,
        "start_time": "2024-08-27T04:26:17.604Z"
      },
      {
        "duration": 1037,
        "start_time": "2024-08-27T04:26:17.658Z"
      },
      {
        "duration": 24,
        "start_time": "2024-08-27T04:26:18.757Z"
      },
      {
        "duration": 4,
        "start_time": "2024-08-27T04:26:18.784Z"
      },
      {
        "duration": 1050,
        "start_time": "2024-08-27T04:26:18.790Z"
      },
      {
        "duration": 41,
        "start_time": "2024-08-27T04:26:19.841Z"
      },
      {
        "duration": 0,
        "start_time": "2024-08-27T04:26:19.885Z"
      },
      {
        "duration": 0,
        "start_time": "2024-08-27T04:26:19.886Z"
      },
      {
        "duration": 0,
        "start_time": "2024-08-27T04:26:19.887Z"
      },
      {
        "duration": 0,
        "start_time": "2024-08-27T04:26:19.889Z"
      },
      {
        "duration": 0,
        "start_time": "2024-08-27T04:26:19.890Z"
      },
      {
        "duration": 0,
        "start_time": "2024-08-27T04:26:19.892Z"
      },
      {
        "duration": 0,
        "start_time": "2024-08-27T04:26:19.893Z"
      },
      {
        "duration": 0,
        "start_time": "2024-08-27T04:26:19.895Z"
      },
      {
        "duration": 0,
        "start_time": "2024-08-27T04:26:19.956Z"
      },
      {
        "duration": 0,
        "start_time": "2024-08-27T04:26:19.958Z"
      },
      {
        "duration": 0,
        "start_time": "2024-08-27T04:26:19.960Z"
      },
      {
        "duration": 0,
        "start_time": "2024-08-27T04:26:19.961Z"
      },
      {
        "duration": 0,
        "start_time": "2024-08-27T04:26:19.963Z"
      },
      {
        "duration": 0,
        "start_time": "2024-08-27T04:26:19.965Z"
      },
      {
        "duration": 0,
        "start_time": "2024-08-27T04:26:19.966Z"
      },
      {
        "duration": 0,
        "start_time": "2024-08-27T04:26:19.968Z"
      },
      {
        "duration": 0,
        "start_time": "2024-08-27T04:26:19.969Z"
      },
      {
        "duration": 0,
        "start_time": "2024-08-27T04:26:19.971Z"
      },
      {
        "duration": 0,
        "start_time": "2024-08-27T04:26:19.972Z"
      },
      {
        "duration": 0,
        "start_time": "2024-08-27T04:26:19.974Z"
      },
      {
        "duration": 0,
        "start_time": "2024-08-27T04:26:19.975Z"
      },
      {
        "duration": 0,
        "start_time": "2024-08-27T04:26:19.977Z"
      },
      {
        "duration": 0,
        "start_time": "2024-08-27T04:26:19.978Z"
      },
      {
        "duration": 0,
        "start_time": "2024-08-27T04:26:19.980Z"
      },
      {
        "duration": 6,
        "start_time": "2024-08-27T04:27:16.475Z"
      },
      {
        "duration": 24,
        "start_time": "2024-08-27T04:27:16.483Z"
      },
      {
        "duration": 26,
        "start_time": "2024-08-27T04:27:16.509Z"
      },
      {
        "duration": 494,
        "start_time": "2024-08-27T04:27:16.536Z"
      },
      {
        "duration": 4,
        "start_time": "2024-08-27T04:27:17.032Z"
      },
      {
        "duration": 588,
        "start_time": "2024-08-27T04:27:17.056Z"
      },
      {
        "duration": 1020,
        "start_time": "2024-08-27T04:27:17.646Z"
      },
      {
        "duration": 11,
        "start_time": "2024-08-27T04:27:18.668Z"
      },
      {
        "duration": 976,
        "start_time": "2024-08-27T04:27:18.681Z"
      },
      {
        "duration": 27,
        "start_time": "2024-08-27T04:27:19.660Z"
      },
      {
        "duration": 66,
        "start_time": "2024-08-27T04:27:19.690Z"
      },
      {
        "duration": 655,
        "start_time": "2024-08-27T04:27:19.759Z"
      },
      {
        "duration": 294,
        "start_time": "2024-08-27T04:27:20.416Z"
      },
      {
        "duration": 62,
        "start_time": "2024-08-27T04:27:20.714Z"
      },
      {
        "duration": 97,
        "start_time": "2024-08-27T04:27:20.778Z"
      },
      {
        "duration": 611,
        "start_time": "2024-08-27T04:27:20.877Z"
      },
      {
        "duration": 65,
        "start_time": "2024-08-27T04:27:21.490Z"
      },
      {
        "duration": 250,
        "start_time": "2024-08-27T04:27:21.558Z"
      },
      {
        "duration": 3,
        "start_time": "2024-08-27T04:27:21.810Z"
      },
      {
        "duration": 55,
        "start_time": "2024-08-27T04:27:21.815Z"
      },
      {
        "duration": 436,
        "start_time": "2024-08-27T04:27:21.872Z"
      },
      {
        "duration": 47,
        "start_time": "2024-08-27T04:27:22.309Z"
      },
      {
        "duration": 271,
        "start_time": "2024-08-27T04:27:22.357Z"
      },
      {
        "duration": 3058,
        "start_time": "2024-08-27T04:27:22.630Z"
      },
      {
        "duration": 4939,
        "start_time": "2024-08-27T04:27:25.690Z"
      },
      {
        "duration": 3393,
        "start_time": "2024-08-27T04:27:30.631Z"
      },
      {
        "duration": 975,
        "start_time": "2024-08-27T04:27:34.026Z"
      },
      {
        "duration": 1105,
        "start_time": "2024-08-27T04:27:35.004Z"
      },
      {
        "duration": 1664,
        "start_time": "2024-08-27T04:27:36.154Z"
      },
      {
        "duration": 627,
        "start_time": "2024-08-27T04:27:37.823Z"
      },
      {
        "duration": 22,
        "start_time": "2024-08-27T04:27:38.456Z"
      },
      {
        "duration": 1485,
        "start_time": "2024-08-27T04:27:38.479Z"
      },
      {
        "duration": 1719,
        "start_time": "2024-08-27T04:27:39.968Z"
      },
      {
        "duration": 1271,
        "start_time": "2024-08-27T04:27:41.689Z"
      },
      {
        "duration": 803,
        "start_time": "2024-08-27T04:27:42.962Z"
      },
      {
        "duration": 1031,
        "start_time": "2024-08-27T04:27:43.767Z"
      },
      {
        "duration": 744,
        "start_time": "2024-08-27T04:27:44.800Z"
      },
      {
        "duration": 992,
        "start_time": "2024-08-27T04:29:24.286Z"
      },
      {
        "duration": 1019,
        "start_time": "2024-08-27T04:29:35.470Z"
      },
      {
        "duration": 810,
        "start_time": "2024-08-27T04:29:54.749Z"
      },
      {
        "duration": 818,
        "start_time": "2024-08-27T04:30:13.621Z"
      },
      {
        "duration": 5,
        "start_time": "2024-08-27T04:58:27.324Z"
      },
      {
        "duration": 7,
        "start_time": "2024-08-27T04:58:27.332Z"
      },
      {
        "duration": 7,
        "start_time": "2024-08-27T04:58:27.341Z"
      },
      {
        "duration": 806,
        "start_time": "2024-08-27T04:58:27.350Z"
      },
      {
        "duration": 10,
        "start_time": "2024-08-27T04:58:28.159Z"
      },
      {
        "duration": 610,
        "start_time": "2024-08-27T04:58:28.171Z"
      },
      {
        "duration": 680,
        "start_time": "2024-08-27T04:58:28.783Z"
      },
      {
        "duration": 8,
        "start_time": "2024-08-27T04:58:29.465Z"
      },
      {
        "duration": 903,
        "start_time": "2024-08-27T04:58:29.475Z"
      },
      {
        "duration": 23,
        "start_time": "2024-08-27T04:58:30.380Z"
      },
      {
        "duration": 4,
        "start_time": "2024-08-27T04:58:30.405Z"
      },
      {
        "duration": 632,
        "start_time": "2024-08-27T04:58:30.412Z"
      },
      {
        "duration": 252,
        "start_time": "2024-08-27T04:58:31.046Z"
      },
      {
        "duration": 26,
        "start_time": "2024-08-27T04:58:31.302Z"
      },
      {
        "duration": 47,
        "start_time": "2024-08-27T04:58:31.330Z"
      },
      {
        "duration": 405,
        "start_time": "2024-08-27T04:58:31.379Z"
      },
      {
        "duration": 4,
        "start_time": "2024-08-27T04:58:31.785Z"
      },
      {
        "duration": 258,
        "start_time": "2024-08-27T04:58:31.791Z"
      },
      {
        "duration": 17,
        "start_time": "2024-08-27T04:58:32.051Z"
      },
      {
        "duration": 27,
        "start_time": "2024-08-27T04:58:32.070Z"
      },
      {
        "duration": 566,
        "start_time": "2024-08-27T04:58:32.099Z"
      },
      {
        "duration": 6,
        "start_time": "2024-08-27T04:58:32.668Z"
      },
      {
        "duration": 369,
        "start_time": "2024-08-27T04:58:32.676Z"
      },
      {
        "duration": 1337,
        "start_time": "2024-08-27T04:58:33.046Z"
      },
      {
        "duration": 2082,
        "start_time": "2024-08-27T04:58:34.386Z"
      },
      {
        "duration": 738,
        "start_time": "2024-08-27T04:58:36.470Z"
      },
      {
        "duration": 1169,
        "start_time": "2024-08-27T04:58:37.210Z"
      },
      {
        "duration": 1686,
        "start_time": "2024-08-27T04:58:38.381Z"
      },
      {
        "duration": 723,
        "start_time": "2024-08-27T04:58:40.069Z"
      },
      {
        "duration": 14,
        "start_time": "2024-08-27T04:58:40.793Z"
      },
      {
        "duration": 1212,
        "start_time": "2024-08-27T04:58:40.808Z"
      },
      {
        "duration": 965,
        "start_time": "2024-08-27T04:58:42.021Z"
      },
      {
        "duration": 812,
        "start_time": "2024-08-27T04:58:42.988Z"
      },
      {
        "duration": 721,
        "start_time": "2024-08-28T02:55:39.867Z"
      },
      {
        "duration": 15384,
        "start_time": "2024-08-28T02:55:43.584Z"
      },
      {
        "duration": 7703,
        "start_time": "2024-08-28T03:03:51.472Z"
      },
      {
        "duration": 70,
        "start_time": "2024-08-28T03:04:02.803Z"
      },
      {
        "duration": 107,
        "start_time": "2024-08-28T03:04:04.353Z"
      },
      {
        "duration": 5,
        "start_time": "2024-08-28T03:05:47.549Z"
      },
      {
        "duration": 643,
        "start_time": "2024-08-28T03:06:00.720Z"
      },
      {
        "duration": 83,
        "start_time": "2024-08-28T03:16:16.110Z"
      },
      {
        "duration": 7,
        "start_time": "2024-08-28T03:16:21.580Z"
      },
      {
        "duration": 29,
        "start_time": "2024-08-28T03:16:33.624Z"
      },
      {
        "duration": 19,
        "start_time": "2024-08-28T03:16:43.751Z"
      },
      {
        "duration": 57,
        "start_time": "2024-08-28T03:21:00.580Z"
      },
      {
        "duration": 9,
        "start_time": "2024-08-28T03:21:29.371Z"
      },
      {
        "duration": 21,
        "start_time": "2024-08-28T03:21:56.523Z"
      },
      {
        "duration": 13,
        "start_time": "2024-08-28T03:22:43.794Z"
      },
      {
        "duration": 12,
        "start_time": "2024-08-28T03:22:50.090Z"
      },
      {
        "duration": 9,
        "start_time": "2024-08-28T03:22:57.090Z"
      },
      {
        "duration": 1162,
        "start_time": "2024-08-28T03:25:19.704Z"
      },
      {
        "duration": 38,
        "start_time": "2024-08-28T03:26:08.191Z"
      },
      {
        "duration": 29,
        "start_time": "2024-08-28T03:31:34.633Z"
      },
      {
        "duration": 27,
        "start_time": "2024-08-28T03:31:54.259Z"
      },
      {
        "duration": 23,
        "start_time": "2024-08-28T03:32:20.202Z"
      },
      {
        "duration": 13,
        "start_time": "2024-08-28T03:32:37.419Z"
      },
      {
        "duration": 13,
        "start_time": "2024-08-28T03:35:29.488Z"
      },
      {
        "duration": 39,
        "start_time": "2024-08-28T03:35:49.936Z"
      },
      {
        "duration": 13,
        "start_time": "2024-08-28T03:36:02.199Z"
      },
      {
        "duration": 29,
        "start_time": "2024-08-28T03:36:05.567Z"
      },
      {
        "duration": 71,
        "start_time": "2024-08-28T03:37:10.367Z"
      },
      {
        "duration": 20,
        "start_time": "2024-08-28T03:37:14.246Z"
      },
      {
        "duration": 19,
        "start_time": "2024-08-28T03:37:22.247Z"
      },
      {
        "duration": 21,
        "start_time": "2024-08-28T03:38:23.933Z"
      },
      {
        "duration": 7,
        "start_time": "2024-08-28T03:39:21.795Z"
      },
      {
        "duration": 8,
        "start_time": "2024-08-28T03:40:11.044Z"
      },
      {
        "duration": 3,
        "start_time": "2024-08-28T03:40:14.084Z"
      },
      {
        "duration": 33,
        "start_time": "2024-08-28T03:40:14.788Z"
      },
      {
        "duration": 4421,
        "start_time": "2024-08-28T03:41:47.362Z"
      },
      {
        "duration": 5,
        "start_time": "2024-08-28T03:42:49.130Z"
      },
      {
        "duration": 3,
        "start_time": "2024-08-28T03:44:26.289Z"
      },
      {
        "duration": 2,
        "start_time": "2024-08-28T03:44:41.064Z"
      },
      {
        "duration": 2,
        "start_time": "2024-08-28T03:44:43.248Z"
      },
      {
        "duration": 8,
        "start_time": "2024-08-28T03:45:58.280Z"
      },
      {
        "duration": 7,
        "start_time": "2024-08-28T03:46:36.204Z"
      },
      {
        "duration": 2341,
        "start_time": "2024-08-28T03:46:37.535Z"
      },
      {
        "duration": 70,
        "start_time": "2024-08-28T03:47:55.629Z"
      },
      {
        "duration": 5,
        "start_time": "2024-08-28T08:33:11.301Z"
      },
      {
        "duration": 24,
        "start_time": "2024-08-28T08:33:11.308Z"
      },
      {
        "duration": 3,
        "start_time": "2024-08-28T08:33:11.334Z"
      },
      {
        "duration": 1170,
        "start_time": "2024-08-28T08:33:11.338Z"
      },
      {
        "duration": 67,
        "start_time": "2024-08-28T08:33:12.511Z"
      },
      {
        "duration": 108,
        "start_time": "2024-08-28T08:33:12.580Z"
      },
      {
        "duration": 3,
        "start_time": "2024-08-28T08:33:12.690Z"
      },
      {
        "duration": 361,
        "start_time": "2024-08-28T08:33:12.695Z"
      },
      {
        "duration": 1901,
        "start_time": "2024-08-28T08:33:13.058Z"
      },
      {
        "duration": 4,
        "start_time": "2024-08-28T08:33:14.964Z"
      },
      {
        "duration": 20,
        "start_time": "2024-08-28T08:33:14.971Z"
      },
      {
        "duration": 65,
        "start_time": "2024-08-28T08:33:14.993Z"
      },
      {
        "duration": 2214,
        "start_time": "2024-08-28T08:33:15.061Z"
      },
      {
        "duration": 102,
        "start_time": "2024-08-28T08:33:17.284Z"
      },
      {
        "duration": 4,
        "start_time": "2024-08-28T08:33:17.387Z"
      },
      {
        "duration": 1873,
        "start_time": "2024-08-28T08:33:21.997Z"
      },
      {
        "duration": 3002,
        "start_time": "2024-08-28T08:34:25.872Z"
      },
      {
        "duration": 125,
        "start_time": "2024-08-28T08:36:07.863Z"
      },
      {
        "duration": 9,
        "start_time": "2024-08-28T08:36:22.751Z"
      },
      {
        "duration": 13,
        "start_time": "2024-08-28T08:36:22.764Z"
      },
      {
        "duration": 12,
        "start_time": "2024-08-28T08:36:22.778Z"
      },
      {
        "duration": 507,
        "start_time": "2024-08-28T08:36:22.792Z"
      },
      {
        "duration": 88,
        "start_time": "2024-08-28T08:36:23.301Z"
      },
      {
        "duration": 92,
        "start_time": "2024-08-28T08:36:23.391Z"
      },
      {
        "duration": 5,
        "start_time": "2024-08-28T08:36:23.484Z"
      },
      {
        "duration": 293,
        "start_time": "2024-08-28T08:36:23.491Z"
      },
      {
        "duration": 1100,
        "start_time": "2024-08-28T08:36:23.786Z"
      },
      {
        "duration": 2,
        "start_time": "2024-08-28T08:36:24.888Z"
      },
      {
        "duration": 62,
        "start_time": "2024-08-28T08:36:24.891Z"
      },
      {
        "duration": 11,
        "start_time": "2024-08-28T08:36:24.956Z"
      },
      {
        "duration": 1585,
        "start_time": "2024-08-28T08:36:24.970Z"
      },
      {
        "duration": 38,
        "start_time": "2024-08-28T08:36:26.559Z"
      },
      {
        "duration": 4,
        "start_time": "2024-08-28T08:36:26.655Z"
      },
      {
        "duration": 891,
        "start_time": "2024-08-28T08:36:41.182Z"
      },
      {
        "duration": 658,
        "start_time": "2024-08-28T08:36:45.005Z"
      },
      {
        "duration": 216,
        "start_time": "2024-08-28T08:37:29.105Z"
      },
      {
        "duration": 4,
        "start_time": "2024-08-28T08:37:37.881Z"
      },
      {
        "duration": 31,
        "start_time": "2024-08-28T08:37:37.887Z"
      },
      {
        "duration": 55,
        "start_time": "2024-08-28T08:37:37.919Z"
      },
      {
        "duration": 616,
        "start_time": "2024-08-28T08:37:37.976Z"
      },
      {
        "duration": 89,
        "start_time": "2024-08-28T08:37:38.593Z"
      },
      {
        "duration": 168,
        "start_time": "2024-08-28T08:37:38.684Z"
      },
      {
        "duration": 6,
        "start_time": "2024-08-28T08:37:38.854Z"
      },
      {
        "duration": 191,
        "start_time": "2024-08-28T08:37:38.862Z"
      },
      {
        "duration": 1030,
        "start_time": "2024-08-28T08:37:39.056Z"
      },
      {
        "duration": 4,
        "start_time": "2024-08-28T08:37:40.088Z"
      },
      {
        "duration": 7,
        "start_time": "2024-08-28T08:37:40.093Z"
      },
      {
        "duration": 15,
        "start_time": "2024-08-28T08:37:40.101Z"
      },
      {
        "duration": 1357,
        "start_time": "2024-08-28T08:37:40.118Z"
      },
      {
        "duration": 93,
        "start_time": "2024-08-28T08:37:41.478Z"
      },
      {
        "duration": 4,
        "start_time": "2024-08-28T08:37:41.573Z"
      },
      {
        "duration": 698,
        "start_time": "2024-08-28T08:37:53.470Z"
      },
      {
        "duration": 525,
        "start_time": "2024-08-28T08:37:56.558Z"
      },
      {
        "duration": 5,
        "start_time": "2024-08-28T08:38:47.209Z"
      },
      {
        "duration": 8,
        "start_time": "2024-08-28T08:38:47.216Z"
      },
      {
        "duration": 3,
        "start_time": "2024-08-28T08:38:47.226Z"
      },
      {
        "duration": 329,
        "start_time": "2024-08-28T08:38:47.231Z"
      },
      {
        "duration": 32,
        "start_time": "2024-08-28T08:38:47.562Z"
      },
      {
        "duration": 87,
        "start_time": "2024-08-28T08:38:47.596Z"
      },
      {
        "duration": 4,
        "start_time": "2024-08-28T08:38:47.685Z"
      },
      {
        "duration": 263,
        "start_time": "2024-08-28T08:38:47.691Z"
      },
      {
        "duration": 1097,
        "start_time": "2024-08-28T08:38:47.956Z"
      },
      {
        "duration": 3,
        "start_time": "2024-08-28T08:38:49.057Z"
      },
      {
        "duration": 12,
        "start_time": "2024-08-28T08:38:49.061Z"
      },
      {
        "duration": 9,
        "start_time": "2024-08-28T08:38:49.075Z"
      },
      {
        "duration": 1408,
        "start_time": "2024-08-28T08:38:49.085Z"
      },
      {
        "duration": 66,
        "start_time": "2024-08-28T08:38:50.495Z"
      },
      {
        "duration": 4,
        "start_time": "2024-08-28T08:38:50.565Z"
      },
      {
        "duration": 688,
        "start_time": "2024-08-28T08:38:50.572Z"
      },
      {
        "duration": 772,
        "start_time": "2024-08-28T08:38:54.492Z"
      },
      {
        "duration": 8,
        "start_time": "2024-08-28T08:38:57.636Z"
      },
      {
        "duration": 849,
        "start_time": "2024-08-28T08:45:18.961Z"
      },
      {
        "duration": 46,
        "start_time": "2024-08-28T08:45:55.231Z"
      },
      {
        "duration": 109,
        "start_time": "2024-08-28T08:46:09.607Z"
      },
      {
        "duration": 14,
        "start_time": "2024-08-28T08:47:21.414Z"
      },
      {
        "duration": 8,
        "start_time": "2024-08-28T08:51:01.691Z"
      },
      {
        "duration": 4,
        "start_time": "2024-08-28T08:51:37.432Z"
      },
      {
        "duration": 26,
        "start_time": "2024-08-28T08:51:37.438Z"
      },
      {
        "duration": 4,
        "start_time": "2024-08-28T08:51:37.467Z"
      },
      {
        "duration": 505,
        "start_time": "2024-08-28T08:51:37.474Z"
      },
      {
        "duration": 19,
        "start_time": "2024-08-28T08:51:37.981Z"
      },
      {
        "duration": 81,
        "start_time": "2024-08-28T08:51:38.001Z"
      },
      {
        "duration": 4,
        "start_time": "2024-08-28T08:51:38.084Z"
      },
      {
        "duration": 126,
        "start_time": "2024-08-28T08:51:38.090Z"
      },
      {
        "duration": 792,
        "start_time": "2024-08-28T08:51:38.218Z"
      },
      {
        "duration": 3,
        "start_time": "2024-08-28T08:51:39.053Z"
      },
      {
        "duration": 14,
        "start_time": "2024-08-28T08:51:39.058Z"
      },
      {
        "duration": 15,
        "start_time": "2024-08-28T08:51:39.074Z"
      },
      {
        "duration": 1190,
        "start_time": "2024-08-28T08:51:39.091Z"
      },
      {
        "duration": 97,
        "start_time": "2024-08-28T08:51:40.283Z"
      },
      {
        "duration": 3,
        "start_time": "2024-08-28T08:51:40.382Z"
      },
      {
        "duration": 666,
        "start_time": "2024-08-28T08:51:40.387Z"
      },
      {
        "duration": 9,
        "start_time": "2024-08-28T08:52:06.114Z"
      },
      {
        "duration": 345,
        "start_time": "2024-08-28T08:52:13.834Z"
      },
      {
        "duration": 14,
        "start_time": "2024-08-28T08:52:56.802Z"
      },
      {
        "duration": 40,
        "start_time": "2024-08-28T09:15:03.436Z"
      },
      {
        "duration": 312,
        "start_time": "2024-08-28T09:15:17.777Z"
      },
      {
        "duration": 349,
        "start_time": "2024-08-28T09:15:39.976Z"
      },
      {
        "duration": 12,
        "start_time": "2024-08-28T09:26:37.049Z"
      },
      {
        "duration": 5,
        "start_time": "2024-08-28T09:47:58.878Z"
      },
      {
        "duration": 28,
        "start_time": "2024-08-28T09:47:58.886Z"
      },
      {
        "duration": 15,
        "start_time": "2024-08-28T09:47:58.915Z"
      },
      {
        "duration": 461,
        "start_time": "2024-08-28T09:47:58.932Z"
      },
      {
        "duration": 24,
        "start_time": "2024-08-28T09:47:59.396Z"
      },
      {
        "duration": 135,
        "start_time": "2024-08-28T09:47:59.421Z"
      },
      {
        "duration": 6,
        "start_time": "2024-08-28T09:47:59.559Z"
      },
      {
        "duration": 237,
        "start_time": "2024-08-28T09:47:59.568Z"
      },
      {
        "duration": 859,
        "start_time": "2024-08-28T09:47:59.853Z"
      },
      {
        "duration": 3,
        "start_time": "2024-08-28T09:48:00.713Z"
      },
      {
        "duration": 28,
        "start_time": "2024-08-28T09:48:00.755Z"
      },
      {
        "duration": 12,
        "start_time": "2024-08-28T09:48:00.785Z"
      },
      {
        "duration": 1087,
        "start_time": "2024-08-28T09:48:00.800Z"
      },
      {
        "duration": 22,
        "start_time": "2024-08-28T09:48:01.888Z"
      },
      {
        "duration": 3,
        "start_time": "2024-08-28T09:48:01.911Z"
      },
      {
        "duration": 648,
        "start_time": "2024-08-28T09:48:01.915Z"
      },
      {
        "duration": 7,
        "start_time": "2024-08-28T09:48:06.971Z"
      },
      {
        "duration": 431,
        "start_time": "2024-08-28T09:48:09.625Z"
      },
      {
        "duration": 13,
        "start_time": "2024-08-28T09:48:11.280Z"
      },
      {
        "duration": 229,
        "start_time": "2024-08-28T09:48:13.199Z"
      },
      {
        "duration": 14,
        "start_time": "2024-08-28T09:48:15.287Z"
      },
      {
        "duration": 302,
        "start_time": "2024-08-28T09:48:16.233Z"
      },
      {
        "duration": 6,
        "start_time": "2024-08-28T09:48:19.680Z"
      },
      {
        "duration": 11,
        "start_time": "2024-08-28T09:48:20.903Z"
      },
      {
        "duration": 330,
        "start_time": "2024-08-28T09:48:28.576Z"
      },
      {
        "duration": 413,
        "start_time": "2024-08-28T09:48:33.800Z"
      },
      {
        "duration": 30,
        "start_time": "2024-08-28T09:48:40.056Z"
      },
      {
        "duration": 17,
        "start_time": "2024-08-28T09:48:43.767Z"
      },
      {
        "duration": 27,
        "start_time": "2024-08-28T09:49:51.406Z"
      },
      {
        "duration": 20,
        "start_time": "2024-08-28T09:50:17.664Z"
      },
      {
        "duration": 10,
        "start_time": "2024-08-28T09:50:31.502Z"
      },
      {
        "duration": 1203,
        "start_time": "2024-08-28T09:51:01.875Z"
      },
      {
        "duration": 24,
        "start_time": "2024-08-28T09:51:39.765Z"
      },
      {
        "duration": 17,
        "start_time": "2024-08-28T09:52:10.532Z"
      },
      {
        "duration": 10,
        "start_time": "2024-08-28T09:52:32.620Z"
      },
      {
        "duration": 5,
        "start_time": "2024-08-28T09:52:45.786Z"
      },
      {
        "duration": 700,
        "start_time": "2024-08-28T09:53:12.996Z"
      },
      {
        "duration": 465,
        "start_time": "2024-08-28T09:53:36.289Z"
      },
      {
        "duration": 3563,
        "start_time": "2024-08-28T09:54:21.827Z"
      },
      {
        "duration": 517,
        "start_time": "2024-08-28T09:54:31.475Z"
      },
      {
        "duration": 22,
        "start_time": "2024-08-28T09:54:48.251Z"
      },
      {
        "duration": 702,
        "start_time": "2024-08-28T09:54:55.284Z"
      },
      {
        "duration": 3,
        "start_time": "2024-08-28T09:56:50.129Z"
      },
      {
        "duration": 950,
        "start_time": "2024-08-28T09:57:30.617Z"
      },
      {
        "duration": 13,
        "start_time": "2024-08-28T09:57:52.266Z"
      },
      {
        "duration": 35,
        "start_time": "2024-08-28T09:58:49.832Z"
      },
      {
        "duration": 8,
        "start_time": "2024-08-28T09:59:25.214Z"
      },
      {
        "duration": 7,
        "start_time": "2024-08-28T09:59:36.535Z"
      },
      {
        "duration": 656,
        "start_time": "2024-08-28T09:59:38.007Z"
      },
      {
        "duration": 13,
        "start_time": "2024-08-28T10:00:01.582Z"
      },
      {
        "duration": 12,
        "start_time": "2024-08-28T10:00:17.318Z"
      },
      {
        "duration": 8,
        "start_time": "2024-08-28T10:00:30.846Z"
      },
      {
        "duration": 7,
        "start_time": "2024-08-28T10:00:40.566Z"
      },
      {
        "duration": 379,
        "start_time": "2024-08-28T10:01:28.566Z"
      },
      {
        "duration": 388,
        "start_time": "2024-08-28T10:01:48.454Z"
      },
      {
        "duration": 2217,
        "start_time": "2024-08-28T10:02:02.157Z"
      },
      {
        "duration": 315,
        "start_time": "2024-08-28T10:02:11.196Z"
      },
      {
        "duration": 906,
        "start_time": "2024-08-28T10:02:15.789Z"
      },
      {
        "duration": 953,
        "start_time": "2024-08-28T10:02:19.541Z"
      },
      {
        "duration": 596,
        "start_time": "2024-08-28T10:02:23.597Z"
      },
      {
        "duration": 174,
        "start_time": "2024-08-28T10:02:33.333Z"
      },
      {
        "duration": 6,
        "start_time": "2024-08-28T10:13:09.298Z"
      },
      {
        "duration": 398,
        "start_time": "2024-08-28T10:13:20.684Z"
      },
      {
        "duration": 3,
        "start_time": "2024-08-28T10:13:24.412Z"
      },
      {
        "duration": 299,
        "start_time": "2024-08-28T10:13:29.765Z"
      },
      {
        "duration": 24,
        "start_time": "2024-08-28T10:13:32.277Z"
      },
      {
        "duration": 28,
        "start_time": "2024-08-28T10:13:33.187Z"
      },
      {
        "duration": 3,
        "start_time": "2024-08-28T10:13:34.380Z"
      },
      {
        "duration": 100,
        "start_time": "2024-08-28T10:13:36.628Z"
      },
      {
        "duration": 705,
        "start_time": "2024-08-28T10:13:40.977Z"
      },
      {
        "duration": 2,
        "start_time": "2024-08-28T10:13:44.341Z"
      },
      {
        "duration": 3,
        "start_time": "2024-08-28T10:14:05.372Z"
      },
      {
        "duration": 7,
        "start_time": "2024-08-28T10:14:06.924Z"
      },
      {
        "duration": 927,
        "start_time": "2024-08-28T10:14:11.196Z"
      },
      {
        "duration": 18,
        "start_time": "2024-08-28T10:14:24.196Z"
      },
      {
        "duration": 4,
        "start_time": "2024-08-28T10:14:32.859Z"
      },
      {
        "duration": 660,
        "start_time": "2024-08-28T10:14:40.506Z"
      },
      {
        "duration": 6,
        "start_time": "2024-08-28T10:14:44.411Z"
      },
      {
        "duration": 515,
        "start_time": "2024-08-28T10:14:45.157Z"
      },
      {
        "duration": 282,
        "start_time": "2024-08-28T10:14:45.675Z"
      },
      {
        "duration": 246,
        "start_time": "2024-08-28T10:14:47.883Z"
      },
      {
        "duration": 7,
        "start_time": "2024-08-28T10:14:49.683Z"
      },
      {
        "duration": 11,
        "start_time": "2024-08-28T10:14:51.347Z"
      },
      {
        "duration": 299,
        "start_time": "2024-08-28T10:14:51.955Z"
      },
      {
        "duration": 232,
        "start_time": "2024-08-28T10:14:53.835Z"
      },
      {
        "duration": 18,
        "start_time": "2024-08-28T10:14:57.875Z"
      },
      {
        "duration": 15,
        "start_time": "2024-08-28T10:14:58.538Z"
      },
      {
        "duration": 30,
        "start_time": "2024-08-28T10:15:01.017Z"
      },
      {
        "duration": 12,
        "start_time": "2024-08-28T10:15:01.756Z"
      },
      {
        "duration": 395,
        "start_time": "2024-08-28T10:15:02.371Z"
      },
      {
        "duration": 27,
        "start_time": "2024-08-28T10:15:04.298Z"
      },
      {
        "duration": 13,
        "start_time": "2024-08-28T10:15:04.915Z"
      },
      {
        "duration": 4,
        "start_time": "2024-08-28T10:15:06.548Z"
      },
      {
        "duration": 8,
        "start_time": "2024-08-28T10:15:07.155Z"
      },
      {
        "duration": 451,
        "start_time": "2024-08-28T10:15:09.565Z"
      },
      {
        "duration": 331,
        "start_time": "2024-08-28T10:15:12.635Z"
      },
      {
        "duration": 4,
        "start_time": "2024-08-28T10:15:15.972Z"
      },
      {
        "duration": 706,
        "start_time": "2024-08-28T10:15:16.979Z"
      },
      {
        "duration": 67,
        "start_time": "2024-08-28T10:15:37.415Z"
      },
      {
        "duration": 7,
        "start_time": "2024-08-28T10:15:38.102Z"
      },
      {
        "duration": 671,
        "start_time": "2024-08-28T10:15:38.612Z"
      },
      {
        "duration": 72,
        "start_time": "2024-08-28T10:15:39.285Z"
      },
      {
        "duration": 30,
        "start_time": "2024-08-28T10:15:39.435Z"
      },
      {
        "duration": 4,
        "start_time": "2024-08-28T10:15:42.338Z"
      },
      {
        "duration": 7,
        "start_time": "2024-08-28T10:15:42.852Z"
      },
      {
        "duration": 247,
        "start_time": "2024-08-28T10:15:46.098Z"
      },
      {
        "duration": 267,
        "start_time": "2024-08-28T10:15:46.915Z"
      },
      {
        "duration": 1692,
        "start_time": "2024-08-28T10:16:14.563Z"
      },
      {
        "duration": 250,
        "start_time": "2024-08-28T10:16:18.498Z"
      },
      {
        "duration": 1282,
        "start_time": "2024-08-28T10:16:21.729Z"
      },
      {
        "duration": 262,
        "start_time": "2024-08-28T10:16:23.178Z"
      },
      {
        "duration": 15,
        "start_time": "2024-08-28T10:16:26.074Z"
      },
      {
        "duration": 512,
        "start_time": "2024-08-28T10:16:27.001Z"
      },
      {
        "duration": 511,
        "start_time": "2024-08-28T10:16:29.281Z"
      },
      {
        "duration": 484,
        "start_time": "2024-08-28T10:16:32.385Z"
      },
      {
        "duration": 567,
        "start_time": "2024-08-28T10:16:37.147Z"
      },
      {
        "duration": 5,
        "start_time": "2024-08-28T10:32:12.665Z"
      },
      {
        "duration": 313,
        "start_time": "2024-08-28T10:32:12.672Z"
      },
      {
        "duration": 3,
        "start_time": "2024-08-28T10:32:12.986Z"
      },
      {
        "duration": 327,
        "start_time": "2024-08-28T10:32:12.990Z"
      },
      {
        "duration": 40,
        "start_time": "2024-08-28T10:32:13.319Z"
      },
      {
        "duration": 25,
        "start_time": "2024-08-28T10:32:13.361Z"
      },
      {
        "duration": 8,
        "start_time": "2024-08-28T10:32:13.389Z"
      },
      {
        "duration": 155,
        "start_time": "2024-08-28T10:32:13.399Z"
      },
      {
        "duration": 524,
        "start_time": "2024-08-28T10:32:13.556Z"
      },
      {
        "duration": 2,
        "start_time": "2024-08-28T10:32:14.081Z"
      },
      {
        "duration": 7,
        "start_time": "2024-08-28T10:32:14.085Z"
      },
      {
        "duration": 8,
        "start_time": "2024-08-28T10:32:14.094Z"
      },
      {
        "duration": 809,
        "start_time": "2024-08-28T10:32:14.104Z"
      },
      {
        "duration": 38,
        "start_time": "2024-08-28T10:32:14.915Z"
      },
      {
        "duration": 3,
        "start_time": "2024-08-28T10:32:14.955Z"
      },
      {
        "duration": 448,
        "start_time": "2024-08-28T10:32:14.959Z"
      },
      {
        "duration": 8,
        "start_time": "2024-08-28T10:32:15.409Z"
      },
      {
        "duration": 337,
        "start_time": "2024-08-28T10:32:15.419Z"
      },
      {
        "duration": 244,
        "start_time": "2024-08-28T10:32:15.759Z"
      },
      {
        "duration": 215,
        "start_time": "2024-08-28T10:32:16.004Z"
      },
      {
        "duration": 7,
        "start_time": "2024-08-28T10:32:16.221Z"
      },
      {
        "duration": 221,
        "start_time": "2024-08-28T10:32:16.230Z"
      },
      {
        "duration": 321,
        "start_time": "2024-08-28T10:32:16.453Z"
      },
      {
        "duration": 300,
        "start_time": "2024-08-28T10:32:16.779Z"
      },
      {
        "duration": 17,
        "start_time": "2024-08-28T10:32:17.081Z"
      },
      {
        "duration": 15,
        "start_time": "2024-08-28T10:32:17.099Z"
      },
      {
        "duration": 32,
        "start_time": "2024-08-28T10:32:17.154Z"
      },
      {
        "duration": 14,
        "start_time": "2024-08-28T10:32:17.188Z"
      },
      {
        "duration": 377,
        "start_time": "2024-08-28T10:32:17.204Z"
      },
      {
        "duration": 70,
        "start_time": "2024-08-28T10:32:17.583Z"
      },
      {
        "duration": 13,
        "start_time": "2024-08-28T10:32:17.655Z"
      },
      {
        "duration": 4,
        "start_time": "2024-08-28T10:32:17.670Z"
      },
      {
        "duration": 11,
        "start_time": "2024-08-28T10:32:17.675Z"
      },
      {
        "duration": 312,
        "start_time": "2024-08-28T10:32:17.687Z"
      },
      {
        "duration": 268,
        "start_time": "2024-08-28T10:32:18.001Z"
      },
      {
        "duration": 3,
        "start_time": "2024-08-28T10:32:18.271Z"
      },
      {
        "duration": 757,
        "start_time": "2024-08-28T10:32:18.276Z"
      },
      {
        "duration": 51,
        "start_time": "2024-08-28T10:32:19.035Z"
      },
      {
        "duration": 65,
        "start_time": "2024-08-28T10:32:19.088Z"
      },
      {
        "duration": 400,
        "start_time": "2024-08-28T10:32:19.155Z"
      },
      {
        "duration": 11,
        "start_time": "2024-08-28T10:32:19.557Z"
      },
      {
        "duration": 14,
        "start_time": "2024-08-28T10:32:19.570Z"
      },
      {
        "duration": 4,
        "start_time": "2024-08-28T10:32:19.586Z"
      },
      {
        "duration": 64,
        "start_time": "2024-08-28T10:32:19.592Z"
      },
      {
        "duration": 225,
        "start_time": "2024-08-28T10:32:19.658Z"
      },
      {
        "duration": 233,
        "start_time": "2024-08-28T10:32:19.886Z"
      },
      {
        "duration": 1335,
        "start_time": "2024-08-28T10:32:20.121Z"
      },
      {
        "duration": 292,
        "start_time": "2024-08-28T10:32:21.467Z"
      },
      {
        "duration": 1142,
        "start_time": "2024-08-28T10:32:21.760Z"
      },
      {
        "duration": 249,
        "start_time": "2024-08-28T10:32:22.904Z"
      },
      {
        "duration": 14,
        "start_time": "2024-08-28T10:32:23.156Z"
      },
      {
        "duration": 505,
        "start_time": "2024-08-28T10:32:23.171Z"
      },
      {
        "duration": 474,
        "start_time": "2024-08-28T10:32:23.677Z"
      },
      {
        "duration": 409,
        "start_time": "2024-08-28T10:32:24.152Z"
      },
      {
        "duration": 342,
        "start_time": "2024-08-28T10:32:24.563Z"
      },
      {
        "duration": 705,
        "start_time": "2024-08-29T03:10:33.865Z"
      },
      {
        "duration": 14587,
        "start_time": "2024-08-29T03:10:52.740Z"
      },
      {
        "duration": 2,
        "start_time": "2024-08-29T03:11:10.939Z"
      },
      {
        "duration": 7809,
        "start_time": "2024-08-29T03:11:15.531Z"
      },
      {
        "duration": 187,
        "start_time": "2024-08-29T03:11:23.342Z"
      },
      {
        "duration": 119,
        "start_time": "2024-08-29T03:11:23.531Z"
      },
      {
        "duration": 4,
        "start_time": "2024-08-29T03:11:26.356Z"
      },
      {
        "duration": 531,
        "start_time": "2024-08-29T03:11:55.546Z"
      },
      {
        "duration": 26,
        "start_time": "2024-08-29T03:14:08.918Z"
      },
      {
        "duration": 3,
        "start_time": "2024-08-29T03:14:11.601Z"
      },
      {
        "duration": 2671,
        "start_time": "2024-08-29T03:14:14.576Z"
      },
      {
        "duration": 3,
        "start_time": "2024-08-29T03:14:20.792Z"
      },
      {
        "duration": 24,
        "start_time": "2024-08-29T03:14:23.201Z"
      },
      {
        "duration": 4738,
        "start_time": "2024-08-29T03:14:57.622Z"
      },
      {
        "duration": 1249,
        "start_time": "2024-08-29T03:15:47.215Z"
      },
      {
        "duration": 77,
        "start_time": "2024-08-29T03:18:53.883Z"
      },
      {
        "duration": 1255,
        "start_time": "2024-08-29T03:18:58.893Z"
      },
      {
        "duration": 2108,
        "start_time": "2024-08-29T03:19:02.133Z"
      },
      {
        "duration": 1062,
        "start_time": "2024-08-29T03:19:20.389Z"
      },
      {
        "duration": 5,
        "start_time": "2024-08-29T03:31:08.816Z"
      },
      {
        "duration": 9,
        "start_time": "2024-08-29T03:31:08.823Z"
      },
      {
        "duration": 3,
        "start_time": "2024-08-29T03:31:08.834Z"
      },
      {
        "duration": 615,
        "start_time": "2024-08-29T03:31:08.839Z"
      },
      {
        "duration": 85,
        "start_time": "2024-08-29T03:31:09.456Z"
      },
      {
        "duration": 104,
        "start_time": "2024-08-29T03:31:09.543Z"
      },
      {
        "duration": 4,
        "start_time": "2024-08-29T03:31:09.649Z"
      },
      {
        "duration": 224,
        "start_time": "2024-08-29T03:31:09.654Z"
      },
      {
        "duration": 1273,
        "start_time": "2024-08-29T03:31:09.880Z"
      },
      {
        "duration": 3,
        "start_time": "2024-08-29T03:31:11.155Z"
      },
      {
        "duration": 80,
        "start_time": "2024-08-29T03:31:11.159Z"
      },
      {
        "duration": 3,
        "start_time": "2024-08-29T03:31:11.241Z"
      },
      {
        "duration": 909,
        "start_time": "2024-08-29T03:31:11.245Z"
      },
      {
        "duration": 3,
        "start_time": "2024-08-29T03:31:12.156Z"
      },
      {
        "duration": 70,
        "start_time": "2024-08-29T03:31:12.160Z"
      },
      {
        "duration": 1724,
        "start_time": "2024-08-29T03:31:12.232Z"
      },
      {
        "duration": 1069,
        "start_time": "2024-08-29T03:31:13.958Z"
      },
      {
        "duration": 12,
        "start_time": "2024-08-29T03:31:15.028Z"
      },
      {
        "duration": 1205,
        "start_time": "2024-08-29T03:31:15.042Z"
      },
      {
        "duration": 690,
        "start_time": "2024-08-29T03:31:16.249Z"
      },
      {
        "duration": 427,
        "start_time": "2024-08-29T03:31:16.941Z"
      },
      {
        "duration": 11,
        "start_time": "2024-08-29T03:31:17.426Z"
      },
      {
        "duration": 286,
        "start_time": "2024-08-29T03:31:17.439Z"
      },
      {
        "duration": 616,
        "start_time": "2024-08-29T03:31:17.729Z"
      },
      {
        "duration": 506,
        "start_time": "2024-08-29T03:31:18.347Z"
      },
      {
        "duration": 95,
        "start_time": "2024-08-29T03:31:18.859Z"
      },
      {
        "duration": 75,
        "start_time": "2024-08-29T03:31:18.955Z"
      },
      {
        "duration": 110,
        "start_time": "2024-08-29T03:31:19.031Z"
      },
      {
        "duration": 9,
        "start_time": "2024-08-29T03:31:19.143Z"
      },
      {
        "duration": 1175,
        "start_time": "2024-08-29T03:31:19.153Z"
      },
      {
        "duration": 23,
        "start_time": "2024-08-29T03:31:20.329Z"
      },
      {
        "duration": 81,
        "start_time": "2024-08-29T03:31:20.353Z"
      },
      {
        "duration": 7,
        "start_time": "2024-08-29T03:31:20.435Z"
      },
      {
        "duration": 81,
        "start_time": "2024-08-29T03:31:20.444Z"
      },
      {
        "duration": 599,
        "start_time": "2024-08-29T03:31:20.527Z"
      },
      {
        "duration": 520,
        "start_time": "2024-08-29T03:31:21.128Z"
      },
      {
        "duration": 2,
        "start_time": "2024-08-29T03:31:21.650Z"
      },
      {
        "duration": 879,
        "start_time": "2024-08-29T03:31:21.654Z"
      },
      {
        "duration": 1397,
        "start_time": "2024-08-29T03:31:22.535Z"
      },
      {
        "duration": 813,
        "start_time": "2024-08-29T03:31:23.934Z"
      },
      {
        "duration": 95,
        "start_time": "2024-08-29T03:31:24.748Z"
      },
      {
        "duration": 15,
        "start_time": "2024-08-29T03:31:24.845Z"
      },
      {
        "duration": 773,
        "start_time": "2024-08-29T03:31:24.862Z"
      },
      {
        "duration": 14,
        "start_time": "2024-08-29T03:31:25.637Z"
      },
      {
        "duration": 82,
        "start_time": "2024-08-29T03:31:25.652Z"
      },
      {
        "duration": 4,
        "start_time": "2024-08-29T03:31:25.735Z"
      },
      {
        "duration": 4,
        "start_time": "2024-08-29T03:31:25.740Z"
      },
      {
        "duration": 479,
        "start_time": "2024-08-29T03:31:25.746Z"
      },
      {
        "duration": 428,
        "start_time": "2024-08-29T03:31:26.227Z"
      },
      {
        "duration": 3297,
        "start_time": "2024-08-29T03:31:26.657Z"
      },
      {
        "duration": 586,
        "start_time": "2024-08-29T03:31:29.956Z"
      },
      {
        "duration": 1707,
        "start_time": "2024-08-29T03:31:30.544Z"
      },
      {
        "duration": 490,
        "start_time": "2024-08-29T03:31:32.253Z"
      },
      {
        "duration": 23,
        "start_time": "2024-08-29T03:31:32.745Z"
      },
      {
        "duration": 962,
        "start_time": "2024-08-29T03:31:32.770Z"
      },
      {
        "duration": 710,
        "start_time": "2024-08-29T03:31:33.733Z"
      },
      {
        "duration": 905,
        "start_time": "2024-08-29T03:31:34.445Z"
      },
      {
        "duration": 306,
        "start_time": "2024-08-29T03:31:35.351Z"
      },
      {
        "duration": 80,
        "start_time": "2024-08-29T03:39:14.260Z"
      },
      {
        "duration": 5,
        "start_time": "2024-08-29T03:43:22.680Z"
      },
      {
        "duration": 343,
        "start_time": "2024-08-29T03:43:22.687Z"
      },
      {
        "duration": 3,
        "start_time": "2024-08-29T03:43:23.031Z"
      },
      {
        "duration": 602,
        "start_time": "2024-08-29T03:43:23.036Z"
      },
      {
        "duration": 24,
        "start_time": "2024-08-29T03:43:23.640Z"
      },
      {
        "duration": 86,
        "start_time": "2024-08-29T03:43:23.665Z"
      },
      {
        "duration": 9,
        "start_time": "2024-08-29T03:43:23.753Z"
      },
      {
        "duration": 185,
        "start_time": "2024-08-29T03:43:23.764Z"
      },
      {
        "duration": 900,
        "start_time": "2024-08-29T03:43:23.951Z"
      },
      {
        "duration": 2,
        "start_time": "2024-08-29T03:43:24.853Z"
      },
      {
        "duration": 80,
        "start_time": "2024-08-29T03:43:24.857Z"
      },
      {
        "duration": 3,
        "start_time": "2024-08-29T03:43:24.938Z"
      },
      {
        "duration": 740,
        "start_time": "2024-08-29T03:43:24.943Z"
      },
      {
        "duration": 4,
        "start_time": "2024-08-29T03:43:25.726Z"
      },
      {
        "duration": 15,
        "start_time": "2024-08-29T03:43:25.731Z"
      },
      {
        "duration": 1380,
        "start_time": "2024-08-29T03:43:25.748Z"
      },
      {
        "duration": 933,
        "start_time": "2024-08-29T03:43:27.129Z"
      },
      {
        "duration": 7,
        "start_time": "2024-08-29T03:43:28.063Z"
      },
      {
        "duration": 468,
        "start_time": "2024-08-29T03:43:28.072Z"
      },
      {
        "duration": 350,
        "start_time": "2024-08-29T03:43:28.542Z"
      },
      {
        "duration": 305,
        "start_time": "2024-08-29T03:43:28.894Z"
      },
      {
        "duration": 29,
        "start_time": "2024-08-29T03:43:29.201Z"
      },
      {
        "duration": 12,
        "start_time": "2024-08-29T03:43:29.232Z"
      },
      {
        "duration": 310,
        "start_time": "2024-08-29T03:43:29.248Z"
      },
      {
        "duration": 299,
        "start_time": "2024-08-29T03:43:29.560Z"
      },
      {
        "duration": 17,
        "start_time": "2024-08-29T03:43:29.861Z"
      },
      {
        "duration": 48,
        "start_time": "2024-08-29T03:43:29.880Z"
      },
      {
        "duration": 28,
        "start_time": "2024-08-29T03:43:29.930Z"
      },
      {
        "duration": 6,
        "start_time": "2024-08-29T03:43:29.960Z"
      },
      {
        "duration": 485,
        "start_time": "2024-08-29T03:43:29.968Z"
      },
      {
        "duration": 86,
        "start_time": "2024-08-29T03:43:30.455Z"
      },
      {
        "duration": 36,
        "start_time": "2024-08-29T03:43:30.543Z"
      },
      {
        "duration": 29,
        "start_time": "2024-08-29T03:43:30.581Z"
      },
      {
        "duration": 16,
        "start_time": "2024-08-29T03:43:30.612Z"
      },
      {
        "duration": 355,
        "start_time": "2024-08-29T03:43:30.630Z"
      },
      {
        "duration": 282,
        "start_time": "2024-08-29T03:43:30.986Z"
      },
      {
        "duration": 3,
        "start_time": "2024-08-29T03:43:31.270Z"
      },
      {
        "duration": 584,
        "start_time": "2024-08-29T03:43:31.275Z"
      },
      {
        "duration": 1202,
        "start_time": "2024-08-29T03:43:31.861Z"
      },
      {
        "duration": 673,
        "start_time": "2024-08-29T03:43:33.065Z"
      },
      {
        "duration": 32,
        "start_time": "2024-08-29T03:43:33.739Z"
      },
      {
        "duration": 7,
        "start_time": "2024-08-29T03:43:33.825Z"
      },
      {
        "duration": 394,
        "start_time": "2024-08-29T03:43:33.834Z"
      },
      {
        "duration": 16,
        "start_time": "2024-08-29T03:43:34.230Z"
      },
      {
        "duration": 15,
        "start_time": "2024-08-29T03:43:34.248Z"
      },
      {
        "duration": 62,
        "start_time": "2024-08-29T03:43:34.264Z"
      },
      {
        "duration": 4,
        "start_time": "2024-08-29T03:43:34.328Z"
      },
      {
        "duration": 327,
        "start_time": "2024-08-29T03:43:34.333Z"
      },
      {
        "duration": 231,
        "start_time": "2024-08-29T03:43:34.661Z"
      },
      {
        "duration": 1356,
        "start_time": "2024-08-29T03:43:34.893Z"
      },
      {
        "duration": 417,
        "start_time": "2024-08-29T03:43:36.251Z"
      },
      {
        "duration": 1153,
        "start_time": "2024-08-29T03:43:36.725Z"
      },
      {
        "duration": 256,
        "start_time": "2024-08-29T03:43:37.926Z"
      },
      {
        "duration": 14,
        "start_time": "2024-08-29T03:43:38.184Z"
      },
      {
        "duration": 740,
        "start_time": "2024-08-29T03:43:38.200Z"
      },
      {
        "duration": 534,
        "start_time": "2024-08-29T03:43:38.941Z"
      },
      {
        "duration": 489,
        "start_time": "2024-08-29T03:43:39.476Z"
      },
      {
        "duration": 503,
        "start_time": "2024-08-29T03:43:39.967Z"
      },
      {
        "duration": 7,
        "start_time": "2024-08-29T03:44:46.507Z"
      },
      {
        "duration": 330,
        "start_time": "2024-08-29T03:44:46.516Z"
      },
      {
        "duration": 3,
        "start_time": "2024-08-29T03:44:46.848Z"
      },
      {
        "duration": 421,
        "start_time": "2024-08-29T03:44:46.853Z"
      },
      {
        "duration": 50,
        "start_time": "2024-08-29T03:44:47.275Z"
      },
      {
        "duration": 32,
        "start_time": "2024-08-29T03:44:47.327Z"
      },
      {
        "duration": 4,
        "start_time": "2024-08-29T03:44:47.361Z"
      },
      {
        "duration": 144,
        "start_time": "2024-08-29T03:44:47.366Z"
      },
      {
        "duration": 945,
        "start_time": "2024-08-29T03:44:47.512Z"
      },
      {
        "duration": 67,
        "start_time": "2024-08-29T03:44:48.459Z"
      },
      {
        "duration": 23,
        "start_time": "2024-08-29T03:44:48.529Z"
      },
      {
        "duration": 4,
        "start_time": "2024-08-29T03:44:48.554Z"
      },
      {
        "duration": 540,
        "start_time": "2024-08-29T03:44:48.560Z"
      },
      {
        "duration": 24,
        "start_time": "2024-08-29T03:44:49.102Z"
      },
      {
        "duration": 10,
        "start_time": "2024-08-29T03:44:49.128Z"
      },
      {
        "duration": 1094,
        "start_time": "2024-08-29T03:44:49.139Z"
      },
      {
        "duration": 631,
        "start_time": "2024-08-29T03:44:50.238Z"
      },
      {
        "duration": 7,
        "start_time": "2024-08-29T03:44:50.871Z"
      },
      {
        "duration": 357,
        "start_time": "2024-08-29T03:44:50.879Z"
      },
      {
        "duration": 245,
        "start_time": "2024-08-29T03:44:51.238Z"
      },
      {
        "duration": 222,
        "start_time": "2024-08-29T03:44:51.485Z"
      },
      {
        "duration": 22,
        "start_time": "2024-08-29T03:44:51.708Z"
      },
      {
        "duration": 39,
        "start_time": "2024-08-29T03:44:51.732Z"
      },
      {
        "duration": 304,
        "start_time": "2024-08-29T03:44:51.774Z"
      },
      {
        "duration": 221,
        "start_time": "2024-08-29T03:44:52.079Z"
      },
      {
        "duration": 38,
        "start_time": "2024-08-29T03:44:52.301Z"
      },
      {
        "duration": 13,
        "start_time": "2024-08-29T03:44:52.340Z"
      },
      {
        "duration": 82,
        "start_time": "2024-08-29T03:44:52.354Z"
      },
      {
        "duration": 9,
        "start_time": "2024-08-29T03:44:52.437Z"
      },
      {
        "duration": 397,
        "start_time": "2024-08-29T03:44:52.447Z"
      },
      {
        "duration": 15,
        "start_time": "2024-08-29T03:44:52.846Z"
      },
      {
        "duration": 74,
        "start_time": "2024-08-29T03:44:52.863Z"
      },
      {
        "duration": 31,
        "start_time": "2024-08-29T03:44:52.938Z"
      },
      {
        "duration": 13,
        "start_time": "2024-08-29T03:44:52.971Z"
      },
      {
        "duration": 363,
        "start_time": "2024-08-29T03:44:52.986Z"
      },
      {
        "duration": 401,
        "start_time": "2024-08-29T03:44:53.351Z"
      },
      {
        "duration": 2,
        "start_time": "2024-08-29T03:44:53.754Z"
      },
      {
        "duration": 698,
        "start_time": "2024-08-29T03:44:53.758Z"
      },
      {
        "duration": 905,
        "start_time": "2024-08-29T03:44:54.458Z"
      },
      {
        "duration": 586,
        "start_time": "2024-08-29T03:44:55.365Z"
      },
      {
        "duration": 26,
        "start_time": "2024-08-29T03:44:55.953Z"
      },
      {
        "duration": 46,
        "start_time": "2024-08-29T03:44:55.981Z"
      },
      {
        "duration": 529,
        "start_time": "2024-08-29T03:44:56.029Z"
      },
      {
        "duration": 76,
        "start_time": "2024-08-29T03:44:56.561Z"
      },
      {
        "duration": 12,
        "start_time": "2024-08-29T03:44:56.638Z"
      },
      {
        "duration": 6,
        "start_time": "2024-08-29T03:44:56.652Z"
      },
      {
        "duration": 3,
        "start_time": "2024-08-29T03:44:56.660Z"
      },
      {
        "duration": 302,
        "start_time": "2024-08-29T03:44:56.665Z"
      },
      {
        "duration": 287,
        "start_time": "2024-08-29T03:44:56.969Z"
      },
      {
        "duration": 977,
        "start_time": "2024-08-29T03:44:57.257Z"
      },
      {
        "duration": 332,
        "start_time": "2024-08-29T03:44:58.235Z"
      },
      {
        "duration": 970,
        "start_time": "2024-08-29T03:44:58.569Z"
      },
      {
        "duration": 245,
        "start_time": "2024-08-29T03:44:59.540Z"
      },
      {
        "duration": 53,
        "start_time": "2024-08-29T03:44:59.787Z"
      },
      {
        "duration": 457,
        "start_time": "2024-08-29T03:44:59.842Z"
      },
      {
        "duration": 549,
        "start_time": "2024-08-29T03:45:00.301Z"
      },
      {
        "duration": 470,
        "start_time": "2024-08-29T03:45:00.852Z"
      },
      {
        "duration": 521,
        "start_time": "2024-08-29T03:45:01.324Z"
      }
    ],
    "colab": {
      "provenance": []
    },
    "kernelspec": {
      "display_name": "Python 3 (ipykernel)",
      "language": "python",
      "name": "python3"
    },
    "language_info": {
      "codemirror_mode": {
        "name": "ipython",
        "version": 3
      },
      "file_extension": ".py",
      "mimetype": "text/x-python",
      "name": "python",
      "nbconvert_exporter": "python",
      "pygments_lexer": "ipython3",
      "version": "3.9.5"
    },
    "toc": {
      "base_numbering": 1,
      "nav_menu": {},
      "number_sections": true,
      "sideBar": true,
      "skip_h1_title": true,
      "title_cell": "Table of Contents",
      "title_sidebar": "Contents",
      "toc_cell": false,
      "toc_position": {},
      "toc_section_display": true,
      "toc_window_display": true
    }
  },
  "nbformat": 4,
  "nbformat_minor": 5
}