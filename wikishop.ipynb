{
  "cells": [
    {
      "cell_type": "markdown",
      "metadata": {
        "id": "5Y-bJa6F41PX"
      },
      "source": [
        "<h1>Содержание<span class=\"tocSkip\"></span></h1>\n",
        "<div class=\"toc\"><ul class=\"toc-item\"><li><span><a href=\"#Введение\" data-toc-modified-id=\"Введение-1\"><span class=\"toc-item-num\">1&nbsp;&nbsp;</span>Введение</a></span></li><li><span><a href=\"#Подготовка\" data-toc-modified-id=\"Подготовка-2\"><span class=\"toc-item-num\">2&nbsp;&nbsp;</span>Подготовка</a></span><ul class=\"toc-item\"><li><span><a href=\"#Подготовки-библиотек-и-функций\" data-toc-modified-id=\"Подготовки-библиотек-и-функций-2.1\"><span class=\"toc-item-num\">2.1&nbsp;&nbsp;</span>Подготовки библиотек и функций</a></span></li><li><span><a href=\"#Подготовка-данных\" data-toc-modified-id=\"Подготовка-данных-2.2\"><span class=\"toc-item-num\">2.2&nbsp;&nbsp;</span>Подготовка данных</a></span><ul class=\"toc-item\"><li><span><a href=\"#Датасет-для-обучения\" data-toc-modified-id=\"Датасет-для-обучения-2.2.1\"><span class=\"toc-item-num\">2.2.1&nbsp;&nbsp;</span>Датасет для обучения</a></span></li><li><span><a href=\"#Отложенные-датасет\" data-toc-modified-id=\"Отложенные-датасет-2.2.2\"><span class=\"toc-item-num\">2.2.2&nbsp;&nbsp;</span>Отложенные датасет</a></span></li></ul></li><li><span><a href=\"#Получение-эмбеддингов\" data-toc-modified-id=\"Получение-эмбеддингов-2.3\"><span class=\"toc-item-num\">2.3&nbsp;&nbsp;</span>Получение эмбеддингов</a></span></li></ul></li><li><span><a href=\"#Обучение\" data-toc-modified-id=\"Обучение-3\"><span class=\"toc-item-num\">3&nbsp;&nbsp;</span>Обучение</a></span></li><li><span><a href=\"#Оценка-качества-модели\" data-toc-modified-id=\"Оценка-качества-модели-4\"><span class=\"toc-item-num\">4&nbsp;&nbsp;</span>Оценка качества модели</a></span></li><li><span><a href=\"#Выводы\" data-toc-modified-id=\"Выводы-5\"><span class=\"toc-item-num\">5&nbsp;&nbsp;</span>Выводы</a></span></li><li><span><a href=\"#Чек-лист-проверки\" data-toc-modified-id=\"Чек-лист-проверки-6\"><span class=\"toc-item-num\">6&nbsp;&nbsp;</span>Чек-лист проверки</a></span></li></ul></div>"
      ]
    },
    {
      "cell_type": "markdown",
      "metadata": {
        "id": "KmJEMxVQ41PX"
      },
      "source": [
        "# Проект для «Викишоп»"
      ]
    },
    {
      "cell_type": "markdown",
      "metadata": {
        "id": "XsBoBKnr41PX"
      },
      "source": [
        "Интернет-магазин «Викишоп» запускает новый сервис. Теперь пользователи могут редактировать и дополнять описания товаров, как в вики-сообществах. То есть клиенты предлагают свои правки и комментируют изменения других. Магазину нужен инструмент, который будет искать токсичные комментарии и отправлять их на модерацию.\n",
        "\n",
        "Обучите модель классифицировать комментарии на позитивные и негативные. В вашем распоряжении набор данных с разметкой о токсичности правок.\n",
        "\n",
        "Постройте модель со значением метрики качества *F1* не меньше 0.75.\n",
        "\n",
        "**Инструкция по выполнению проекта**\n",
        "\n",
        "1. Загрузите и подготовьте данные.\n",
        "2. Обучите разные модели.\n",
        "3. Сделайте выводы.\n",
        "\n",
        "Для выполнения проекта применять *BERT* необязательно, но вы можете попробовать.\n",
        "\n",
        "**Описание данных**\n",
        "\n",
        "Данные находятся в файле `toxic_comments.csv`. Столбец *text* в нём содержит текст комментария, а *toxic* — целевой признак."
      ]
    },
    {
      "cell_type": "markdown",
      "metadata": {
        "id": "IsimlQvf41PX"
      },
      "source": [
        "## Введение\n",
        "**Цель работы**: разработать модель, способную классифицировать твиты на токсичные и нетоксичные. Полученная модель должна иметь метрику качества F1 не ниже 0.75.\n",
        "\n",
        "**Задачи, решаемые в работе:**\n",
        "1. Подготовка данных для прогнозирования.\n",
        "2. Обучение нескольких моделей и выбор лучшей.\n",
        "3. Оценка качества работы модели.\n",
        "\n",
        "**План работы**:\n",
        "1. Загрузка данных и разбиение их на выборки.\n",
        "2. Очистка и подготовка данных.\n",
        "3. Получение эмбреддингов.\n",
        "4. Формирование pipeline для обучения нескольких моделей.\n",
        "5. Оценка качества лучшей модели.\n",
        "\n",
        "**Описание работы:**\n",
        "Интернет-магазин «Викишоп» запускает новый сервис. Теперь пользователи могут редактировать и дополнять описания товаров, как в вики-сообществах. То есть клиенты предлагают свои правки и комментируют изменения других. Магазину нужен инструмент, который будет искать токсичные комментарии и отправлять их на модерацию.\n"
      ]
    },
    {
      "cell_type": "markdown",
      "metadata": {
        "id": "RZMnO2fk41PY"
      },
      "source": [
        "## Подготовка"
      ]
    },
    {
      "cell_type": "markdown",
      "metadata": {
        "id": "39mbXyhh41PY"
      },
      "source": [
        "### Подготовки библиотек и функций"
      ]
    },
    {
      "cell_type": "markdown",
      "metadata": {
        "id": "6HR5ZwgF41PY"
      },
      "source": [
        "Сперва загрузим нужные модули:"
      ]
    },
    {
      "cell_type": "code",
      "execution_count": null,
      "metadata": {
        "id": "cDTZV50N41PY"
      },
      "outputs": [],
      "source": [
        "!pip install pymystem3 -q\n",
        "!pip install torch -q\n",
        "!pip install lightgbm -q\n",
        "!pip install catboost -q\n",
        "!pip install xgboost -q\n",
        "!pip install Pillow==8.0.0 -q\n",
        "!pip install wordcloud -q"
      ]
    },
    {
      "cell_type": "markdown",
      "metadata": {
        "id": "4uDxC6MD41PY"
      },
      "source": [
        "Теперь загрузим нужные библиотеки"
      ]
    },
    {
      "cell_type": "code",
      "execution_count": null,
      "metadata": {
        "id": "2vVpiCNg41PZ"
      },
      "outputs": [],
      "source": [
        "#Общие библиотеки\n",
        "import numpy as np\n",
        "import pandas as pd\n",
        "import os\n",
        "import torch\n",
        "import transformers\n",
        "from tqdm import notebook\n",
        "\n",
        "# Библиотеки для работы с моделями\n",
        "from catboost import CatBoostClassifier\n",
        "import lightgbm as lgb\n",
        "from lightgbm import LGBMClassifier\n",
        "from xgboost import XGBClassifier\n",
        "from sklearn.compose import ColumnTransformer\n",
        "from sklearn.impute import SimpleImputer\n",
        "from sklearn.linear_model import LogisticRegression\n",
        "from sklearn.model_selection import (train_test_split,\n",
        "                                     GridSearchCV,\n",
        "                                     StratifiedShuffleSplit,\n",
        "                                     StratifiedKFold)\n",
        "from sklearn.pipeline import Pipeline\n",
        "from sklearn.preprocessing import StandardScaler, MinMaxScaler\n",
        "from transformers import BertTokenizer, BertModel\n",
        "\n",
        "# Библиотеки для работы с текстом\n",
        "from nltk.corpus import stopwords\n",
        "import nltk\n",
        "nltk.download('stopwords')\n",
        "from pymystem3 import Mystem\n",
        "import re\n",
        "from sklearn.feature_extraction.text import TfidfVectorizer\n",
        "from wordcloud import WordCloud\n",
        "\n",
        "# Библиотеки для оценки качества\n",
        "from sklearn.metrics import f1_score, confusion_matrix\n",
        "from sklearn.model_selection import cross_val_score\n",
        "\n",
        "# Библиотеки для графиков\n",
        "import matplotlib.pyplot as plt\n",
        "import seaborn as sns"
      ]
    },
    {
      "cell_type": "markdown",
      "metadata": {
        "id": "87gDlbNS41PZ"
      },
      "source": [
        "Заранее подготовим необходимые функции"
      ]
    },
    {
      "cell_type": "code",
      "execution_count": null,
      "metadata": {
        "id": "1ofm71hp7FIu"
      },
      "outputs": [],
      "source": [
        "def is_running_in_colab():\n",
        "    \"\"\"Проверяет, выполняется ли код в Google Colab\"\"\"\n",
        "    try:\n",
        "        import google.colab\n",
        "        return True\n",
        "    except ImportError:\n",
        "        return False"
      ]
    },
    {
      "cell_type": "code",
      "execution_count": null,
      "metadata": {
        "id": "X882ia6V7JEd"
      },
      "outputs": [],
      "source": [
        "def load_dataframe():\n",
        "    # Попытка загрузить локальный файл\n",
        "    try:\n",
        "        df = pd.read_csv('F:\\\\Загрузки\\\\toxic_comments.csv')\n",
        "        print(\"Файл успешно загружен из локального источника\")\n",
        "        return df\n",
        "    except FileNotFoundError:\n",
        "        print(\"Локальный файл не найден, пробую загрузить с платформы...\")\n",
        "    except Exception as e:\n",
        "        print(f\"Ошибка при загрузке локального файла: {str(e)}\")\n",
        "\n",
        "    # Попытка загрузить файл с платформы\n",
        "    try:\n",
        "        df = pd.read_csv('/datasets/toxic_comments.csv')\n",
        "        print(\"Файл успешно загружен с платформы\")\n",
        "        return df\n",
        "    except FileNotFoundError:\n",
        "        print(\"Файл не найден на платформе\")\n",
        "    except Exception as e:\n",
        "        print(f\"Ошибка при загрузке файла с платформы: {str(e)}\")\n",
        "\n",
        "    # Попытка загрузить с Google Drive (Colab)\n",
        "    if is_running_in_colab():\n",
        "        try:\n",
        "            from google.colab import drive\n",
        "            drive.mount('/content/drive')\n",
        "            drive_path = '/content/drive/MyDrive/Colab Notebooks/toxic_comments.csv'\n",
        "            df = pd.read_csv(drive_path)\n",
        "            print(\"Файл успешно загружен с Google Drive\")\n",
        "            return df\n",
        "        except Exception as e:\n",
        "            print(f\"Ошибка при загрузке файла с Google Drive: {str(e)}\")\n",
        "\n",
        "    # Если все попытки не удались\n",
        "    raise Exception(\"Не удалось загрузить файл ни из одного источника\")"
      ]
    },
    {
      "cell_type": "code",
      "execution_count": null,
      "metadata": {
        "id": "nWBWYjY241PZ"
      },
      "outputs": [],
      "source": [
        "# Функция для очистки текста\n",
        "def clean_text(text):\n",
        "    text = text.lower()\n",
        "    text = re.sub(r'[^\\w\\s]', '', text)\n",
        "    text = re.sub(r'\\d+', '', text)\n",
        "    return text"
      ]
    },
    {
      "cell_type": "code",
      "execution_count": null,
      "metadata": {
        "id": "MLIO7he141PZ"
      },
      "outputs": [],
      "source": [
        "# Функция для создания дополнительный признаков\n",
        "def add_features(df):\n",
        "    df['text_length'] = df['text'].str.len()\n",
        "    df['word_count'] = df['text'].str.split().str.len()\n",
        "    df['unique_words'] = df['text'].apply(lambda x: len(set(str(x).split())))\n",
        "    df['caps_count'] = df['text'].apply(lambda x: sum(1 for c in str(x) if c.isupper()))\n",
        "    df['special_char_count'] = df['text'].apply(lambda x: len(re.findall('[^A-Za-z0-9 ]', str(x))))\n",
        "    return df"
      ]
    },
    {
      "cell_type": "code",
      "execution_count": null,
      "metadata": {
        "id": "BYZ43AL3jH2f"
      },
      "outputs": [],
      "source": [
        "# Функция для удаления стоп-слов\n",
        "def remove_stopwords(text):\n",
        "    words = text.split()\n",
        "    filtered_words = [word for word in words if word.lower() not in stop_words]\n",
        "    return ' '.join(filtered_words)"
      ]
    },
    {
      "cell_type": "markdown",
      "metadata": {
        "id": "PCRGJqAs41PZ"
      },
      "source": [
        "\n",
        "<div class=\"alert alert-block alert-success\">\n",
        "<b>Успех:</b> Импорты и функции помощники на месте\n",
        "</div>\n"
      ]
    },
    {
      "cell_type": "markdown",
      "metadata": {
        "id": "UTAKNoHD41PZ"
      },
      "source": [
        "Создадим константы:"
      ]
    },
    {
      "cell_type": "code",
      "execution_count": null,
      "metadata": {
        "id": "sQUBEVDQ41PZ"
      },
      "outputs": [],
      "source": [
        "MAX_LEN = 128 # Для токенизатора\n",
        "RANDOM_STATE = 42 # Для перемешивания выборок\n",
        "TEST_SIZE = 0.25 # Для разделения выборок"
      ]
    },
    {
      "cell_type": "markdown",
      "metadata": {
        "id": "pWUtE2fj41PZ"
      },
      "source": [
        "### Подготовка данных"
      ]
    },
    {
      "cell_type": "markdown",
      "metadata": {
        "id": "iYLCdXEn41PZ"
      },
      "source": [
        "Загрузим данные:"
      ]
    },
    {
      "cell_type": "code",
      "execution_count": null,
      "metadata": {
        "id": "lUf0638P6CTk"
      },
      "outputs": [],
      "source": [
        "try:\n",
        "    df = load_dataframe()\n",
        "except Exception as e:\n",
        "    print(f\"Итоговая ошибка: {str(e)}\")"
      ]
    },
    {
      "cell_type": "code",
      "execution_count": null,
      "metadata": {
        "id": "teLzxmsN41PZ"
      },
      "outputs": [],
      "source": [
        "df.head()"
      ]
    },
    {
      "cell_type": "code",
      "execution_count": null,
      "metadata": {
        "id": "h-GDYlQU41Pa",
        "scrolled": true
      },
      "outputs": [],
      "source": [
        "df.info()"
      ]
    },
    {
      "cell_type": "markdown",
      "metadata": {
        "id": "H8X8cx1V41Pa"
      },
      "source": [
        "Данные загружены, типы столбцов определились верно, пропусков нет."
      ]
    },
    {
      "cell_type": "markdown",
      "metadata": {
        "id": "Kga-kTta41Pa"
      },
      "source": [
        "#### Датасет для обучения"
      ]
    },
    {
      "cell_type": "markdown",
      "metadata": {
        "id": "JjMo_4P0-r3F"
      },
      "source": [
        "Датасет слишком большой. Поэтому выделим из него выборку. Сперва посмотрим на баланс классов в общей датафрейме:"
      ]
    },
    {
      "cell_type": "code",
      "execution_count": null,
      "metadata": {
        "id": "T44LTuqK-qe5"
      },
      "outputs": [],
      "source": [
        "plt.pie(df['toxic'].value_counts(), labels=df['toxic'].value_counts().index.tolist(), colors=sns.color_palette('bright'), autopct='%.0f%%')\n",
        "plt.title(f'Круговая диаграмма для признака toxic во всём датафрейме')\n",
        "plt.show()"
      ]
    },
    {
      "cell_type": "markdown",
      "metadata": {
        "id": "xjs5VXZ--9mr"
      },
      "source": [
        "Соотношение классов в целом столбце: 90/10. Выделим выборку из датафрейма, сохранив соотношение."
      ]
    },
    {
      "cell_type": "code",
      "execution_count": null,
      "metadata": {
        "id": "a9oBzEDJ-F4x"
      },
      "outputs": [],
      "source": [
        "split = StratifiedShuffleSplit(n_splits=1, test_size=0.1, random_state=42)\n",
        "\n",
        "for _, sample_idx in split.split(df, df['toxic']):\n",
        "    sample_df = df.iloc[sample_idx]"
      ]
    },
    {
      "cell_type": "code",
      "execution_count": null,
      "metadata": {
        "id": "gNSCrxf39mvz"
      },
      "outputs": [],
      "source": [
        "sample_df.info()"
      ]
    },
    {
      "cell_type": "markdown",
      "metadata": {
        "id": "R5rqlW3v41Pb"
      },
      "source": [
        "Очистим данные от лишних символов:"
      ]
    },
    {
      "cell_type": "code",
      "execution_count": null,
      "metadata": {
        "id": "ihRs5kl641Pb"
      },
      "outputs": [],
      "source": [
        "sample_df['text'] = sample_df['text'].apply(clean_text)"
      ]
    },
    {
      "cell_type": "markdown",
      "metadata": {
        "id": "-x06dO6N41Pb"
      },
      "source": [
        "Создадим новые признаки:"
      ]
    },
    {
      "cell_type": "code",
      "execution_count": null,
      "metadata": {
        "id": "H0sqkzyH41Pb"
      },
      "outputs": [],
      "source": [
        "sample_df = add_features(sample_df)"
      ]
    },
    {
      "cell_type": "code",
      "execution_count": null,
      "metadata": {
        "id": "rwnOD8IK41Pc"
      },
      "outputs": [],
      "source": [
        "sample_df.info()"
      ]
    },
    {
      "cell_type": "code",
      "execution_count": null,
      "metadata": {
        "id": "bL1MFR5W41Pc"
      },
      "outputs": [],
      "source": [
        "plt.pie(sample_df['toxic'].value_counts(), labels=sample_df['toxic'].value_counts().index.tolist(), colors=sns.color_palette('bright'), autopct='%.0f%%')\n",
        "plt.title(f'Круговая диаграмма для признака toxic')\n",
        "plt.show()"
      ]
    },
    {
      "cell_type": "markdown",
      "metadata": {
        "id": "TkDAAKcn_Pix"
      },
      "source": [
        "Признаки созданы, баланс классов сохранен."
      ]
    },
    {
      "cell_type": "markdown",
      "metadata": {
        "id": "5mMs4TGujH2q"
      },
      "source": [
        "Построим теперь облако слов, чтобы оценить, какие слова чаще всего встречаются."
      ]
    },
    {
      "cell_type": "code",
      "execution_count": null,
      "metadata": {
        "id": "FjlijFxVjH2q"
      },
      "outputs": [],
      "source": [
        "stop_words = set(stopwords.words('english'))"
      ]
    },
    {
      "cell_type": "code",
      "execution_count": null,
      "metadata": {
        "scrolled": true,
        "id": "Tf_7xFIejH2r"
      },
      "outputs": [],
      "source": [
        "sample_df['text_graph'] = sample_df['text'].apply(remove_stopwords)"
      ]
    },
    {
      "cell_type": "code",
      "execution_count": null,
      "metadata": {
        "id": "2lewTc4vjH2r"
      },
      "outputs": [],
      "source": [
        "text = ' '.join(sample_df['text_graph'].astype(str))"
      ]
    },
    {
      "cell_type": "code",
      "execution_count": null,
      "metadata": {
        "id": "dJoifABcjH2r"
      },
      "outputs": [],
      "source": [
        "wordcloud = WordCloud(width=800, height=400, background_color='white').generate(text)"
      ]
    },
    {
      "cell_type": "code",
      "execution_count": null,
      "metadata": {
        "id": "Nb-Ch9pljH2r"
      },
      "outputs": [],
      "source": [
        "plt.figure(figsize=(10, 5))\n",
        "plt.imshow(wordcloud, interpolation='bilinear')\n",
        "plt.axis('off')\n",
        "plt.title('Облако слов в датафрейме sample_df')\n",
        "plt.show()"
      ]
    },
    {
      "cell_type": "markdown",
      "metadata": {
        "id": "1bRrM9cI41Pc"
      },
      "source": [
        "Датасет для обучения подготовлен. Как видно, из облака слов, наиболее частовстречающиеся слова - article, one, think, wikipedia."
      ]
    },
    {
      "cell_type": "markdown",
      "metadata": {
        "id": "nUJivd3w41Pc"
      },
      "source": [
        "#### Отложенные датасет"
      ]
    },
    {
      "cell_type": "markdown",
      "metadata": {
        "id": "FCldekZD41Pc"
      },
      "source": [
        "Создадим отложенный датасет для оценки качества модели"
      ]
    },
    {
      "cell_type": "code",
      "execution_count": null,
      "metadata": {
        "id": "_fQz35VE41Pc"
      },
      "outputs": [],
      "source": [
        "df_valid = df.sample(15000).reset_index(drop=True)"
      ]
    },
    {
      "cell_type": "code",
      "execution_count": null,
      "metadata": {
        "id": "g7ukU3T241Pc"
      },
      "outputs": [],
      "source": [
        "df_valid['text'] = df_valid['text'].apply(clean_text)"
      ]
    },
    {
      "cell_type": "code",
      "execution_count": null,
      "metadata": {
        "id": "mjsUAKNQ41Pc"
      },
      "outputs": [],
      "source": [
        "df_valid = add_features(df_valid)"
      ]
    },
    {
      "cell_type": "markdown",
      "metadata": {
        "id": "yyZc0R7c41Pc"
      },
      "source": [
        "Соотношение классов в отложенной выборке следующее:"
      ]
    },
    {
      "cell_type": "code",
      "execution_count": null,
      "metadata": {
        "id": "48Gvtg5x41Pc",
        "scrolled": true
      },
      "outputs": [],
      "source": [
        "plt.pie(df_valid['toxic'].value_counts(), labels=sample_df['toxic'].value_counts().index.tolist(), colors=sns.color_palette('bright'), autopct='%.0f%%')\n",
        "plt.title(f'Круговая диаграмма для признака toxic')\n",
        "plt.show()"
      ]
    },
    {
      "cell_type": "markdown",
      "metadata": {
        "id": "mUuVok8f41Pd"
      },
      "source": [
        "### Получение эмбеддингов"
      ]
    },
    {
      "cell_type": "markdown",
      "metadata": {
        "id": "i1Fjf0Tr41Pd"
      },
      "source": [
        "Для работы будем использовать модель Bert."
      ]
    },
    {
      "cell_type": "code",
      "execution_count": null,
      "metadata": {
        "id": "dWgRbT5K41Pd"
      },
      "outputs": [],
      "source": [
        "# Установка устройства (GPU если доступно)\n",
        "device = torch.device(\"cuda\" if torch.cuda.is_available() else \"cpu\")"
      ]
    },
    {
      "cell_type": "code",
      "execution_count": null,
      "metadata": {
        "id": "BM2WK6Hs41Pd",
        "scrolled": true
      },
      "outputs": [],
      "source": [
        "# Инициализация токенизатора и модели\n",
        "tokenizer = BertTokenizer.from_pretrained('unitary/toxic-bert')\n",
        "model = BertModel.from_pretrained('unitary/toxic-bert')\n",
        "model = model.to(device)\n",
        "model.eval()"
      ]
    },
    {
      "cell_type": "markdown",
      "metadata": {
        "id": "vLEB7ANP41Pd"
      },
      "source": [
        "Установим размер батча."
      ]
    },
    {
      "cell_type": "code",
      "execution_count": null,
      "metadata": {
        "id": "rO185ldy41Pd"
      },
      "outputs": [],
      "source": [
        "batch_size = 128"
      ]
    },
    {
      "cell_type": "markdown",
      "metadata": {
        "id": "FVKi0QaJ41Pd"
      },
      "source": [
        "Проведем токенизацию"
      ]
    },
    {
      "cell_type": "code",
      "execution_count": null,
      "metadata": {
        "id": "5fPgGKhc41Pd"
      },
      "outputs": [],
      "source": [
        "# Токенизация\n",
        "encoded = tokenizer(\n",
        "    sample_df['text'].tolist(),\n",
        "    padding='max_length',\n",
        "    truncation=True,\n",
        "    max_length=MAX_LEN,\n",
        "    return_tensors='pt'\n",
        ")"
      ]
    },
    {
      "cell_type": "markdown",
      "metadata": {
        "id": "1_tHWg4F41Pd"
      },
      "source": [
        "\n",
        "<div class=\"alert alert-block alert-success\">\n",
        "<b>Успех:</b> Настройки токенизации корректно определены\n",
        "</div>\n"
      ]
    },
    {
      "cell_type": "markdown",
      "metadata": {
        "id": "XdMS_kGM41Pd"
      },
      "source": [
        "Получим эмбреддинги"
      ]
    },
    {
      "cell_type": "code",
      "execution_count": null,
      "metadata": {
        "id": "UgpVdRyO41Pd"
      },
      "outputs": [],
      "source": [
        "# Получение эмбеддингов\n",
        "embeddings = []\n",
        "n_batches = len(sample_df) // batch_size + (1 if len(sample_df) % batch_size != 0 else 0)\n",
        "\n",
        "for i in notebook.tqdm(range(n_batches)):\n",
        "    start_idx = i * batch_size\n",
        "    end_idx = min((i + 1) * batch_size, len(sample_df))\n",
        "\n",
        "    batch = {\n",
        "        'input_ids': encoded['input_ids'][start_idx:end_idx].to(device),\n",
        "        'attention_mask': encoded['attention_mask'][start_idx:end_idx].to(device)\n",
        "    }\n",
        "\n",
        "    with torch.no_grad():\n",
        "        outputs = model(**batch)\n",
        "        batch_embeddings = outputs.last_hidden_state[:, 0, :].cpu().numpy()\n",
        "        embeddings.append(batch_embeddings)"
      ]
    },
    {
      "cell_type": "markdown",
      "metadata": {
        "id": "pqx1AE4O41Pe"
      },
      "source": [
        "Объединим эмбеддинги"
      ]
    },
    {
      "cell_type": "code",
      "execution_count": null,
      "metadata": {
        "id": "jKzRPdqm41Pe"
      },
      "outputs": [],
      "source": [
        "features = np.concatenate(embeddings)\n",
        "features_df = pd.DataFrame(\n",
        "    features,\n",
        "    columns=[f'bert_feature_{i}' for i in range(features.shape[1])]\n",
        ")"
      ]
    },
    {
      "cell_type": "markdown",
      "metadata": {
        "id": "zLBNdjFO41Pe"
      },
      "source": [
        "Объединим с исходным датафреймом"
      ]
    },
    {
      "cell_type": "code",
      "execution_count": null,
      "metadata": {
        "id": "0bche6ZK41Pe"
      },
      "outputs": [],
      "source": [
        "sample_df = pd.concat([sample_df.reset_index(drop=True), features_df], axis=1)"
      ]
    },
    {
      "cell_type": "markdown",
      "metadata": {
        "id": "PTfs4GQ341Pe"
      },
      "source": [
        "Посмотрим на результат"
      ]
    },
    {
      "cell_type": "code",
      "execution_count": null,
      "metadata": {
        "id": "Y5sWEtuR41Pe"
      },
      "outputs": [],
      "source": [
        "sample_df.head()"
      ]
    },
    {
      "cell_type": "markdown",
      "metadata": {
        "id": "eDPGiBxs41Pe"
      },
      "source": [
        "Эмбреддинги получены и добавлены в датасет."
      ]
    },
    {
      "cell_type": "markdown",
      "metadata": {
        "id": "XotlmvZE41Pe"
      },
      "source": [
        "\n",
        "<div class=\"alert alert-block alert-success\">\n",
        "<b>Успех:</b> Эмбеддинги успешно получены\n",
        "</div>\n"
      ]
    },
    {
      "cell_type": "markdown",
      "metadata": {
        "id": "h5eyqwMN41Pe"
      },
      "source": [
        "## Обучение"
      ]
    },
    {
      "cell_type": "markdown",
      "metadata": {
        "id": "g6njOcLD41Pe"
      },
      "source": [
        "Теперь приступим к обучению. Разделим данные на выборки и сформируем pipeline."
      ]
    },
    {
      "cell_type": "code",
      "execution_count": null,
      "metadata": {
        "id": "1y0GfxPM41Pe"
      },
      "outputs": [],
      "source": [
        "X_train, X_test, y_train, y_test = train_test_split(\n",
        "    sample_df.drop(['text', 'Unnamed: 0', 'toxic', 'text_graph'], axis=1),\n",
        "    sample_df['toxic'],\n",
        "    test_size = TEST_SIZE,\n",
        "    random_state = RANDOM_STATE,\n",
        "    stratify = sample_df['toxic']\n",
        ")\n",
        "\n",
        "X_train.shape, X_test.shape"
      ]
    },
    {
      "cell_type": "code",
      "execution_count": null,
      "metadata": {
        "id": "UUYUNcRG41Pe"
      },
      "outputs": [],
      "source": [
        "num_columns = sample_df.drop(['text', 'Unnamed: 0', 'toxic', 'text_graph'], axis=1).columns"
      ]
    },
    {
      "cell_type": "code",
      "execution_count": null,
      "metadata": {
        "id": "3e_wsHRx41Pf"
      },
      "outputs": [],
      "source": [
        "data_preprocessor = ColumnTransformer(\n",
        "    [\n",
        "     ('num', MinMaxScaler(), num_columns)\n",
        "    ],\n",
        "    remainder='passthrough'\n",
        ")"
      ]
    },
    {
      "cell_type": "code",
      "execution_count": null,
      "metadata": {
        "id": "3TNXMb8d41Pf"
      },
      "outputs": [],
      "source": [
        "pipe_final = Pipeline([\n",
        "    ('preprocessor', data_preprocessor),\n",
        "    ('models', LogisticRegression(random_state=RANDOM_STATE))\n",
        "])\n",
        "\n",
        "param_grid = [\n",
        "    # словарь для модели LogisticRegression()\n",
        "    {\n",
        "        'models': [LogisticRegression(\n",
        "            random_state=RANDOM_STATE,\n",
        "            penalty='l2'\n",
        "        )],\n",
        "        'models__solver':['liblinear'],\n",
        "        'models__C': [0.1, 1, 10],\n",
        "        'models__class_weight': ['balanced', None],\n",
        "        'preprocessor__num': [StandardScaler(), MinMaxScaler(), 'passthrough']\n",
        "    },\n",
        "\n",
        "    # словарь для модели LGBMClassifier\n",
        "    {\n",
        "        'models': [LGBMClassifier(random_state=RANDOM_STATE)],\n",
        "        'preprocessor__num': [StandardScaler(), MinMaxScaler(), 'passthrough']\n",
        "    },\n",
        "    {\n",
        "        'models': [CatBoostClassifier(random_state=RANDOM_STATE)],\n",
        "        'preprocessor__num': [StandardScaler(), MinMaxScaler(), 'passthrough']\n",
        "    },\n",
        "    {\n",
        "        'models': [XGBClassifier(random_state=RANDOM_STATE)],\n",
        "        'preprocessor__num': [StandardScaler(), MinMaxScaler(), 'passthrough']\n",
        "    }\n",
        "]\n"
      ]
    },
    {
      "cell_type": "code",
      "execution_count": null,
      "metadata": {
        "colab": {
          "background_save": true
        },
        "id": "lhY4AX0641Pf"
      },
      "outputs": [],
      "source": [
        "%%time\n",
        "# Ячейка выполняется около часа.\n",
        "cv = StratifiedKFold(n_splits=10, shuffle=True, random_state=42)\n",
        "\n",
        "grid_search = GridSearchCV(\n",
        "    pipe_final,\n",
        "    param_grid,\n",
        "    cv=cv,\n",
        "    scoring='f1',\n",
        "    n_jobs=-1\n",
        ")\n",
        "\n",
        "grid_search.fit(X_train, y_train)\n",
        "\n",
        "print('Лучшая модель и её параметры:\\n\\n',grid_search.best_estimator_)\n",
        "print ('Метрика лучшей модели на кросс-валидационной выборке:', grid_search.best_score_)\n",
        "\n",
        "# проверка работы модели на тестовой выборке\n",
        "pred = grid_search.predict(X_test)\n",
        "print(f'Метрика F1 на тестовой выборке: {f1_score(y_test, pred)}')"
      ]
    },
    {
      "cell_type": "markdown",
      "metadata": {
        "id": "TeUfo-iP41Pf"
      },
      "source": [
        "Выгрузим из пайплайна наилучшую модель"
      ]
    },
    {
      "cell_type": "code",
      "execution_count": null,
      "metadata": {
        "id": "UPOc75t241Pf"
      },
      "outputs": [],
      "source": [
        "model_toxic = grid_search.best_estimator_.named_steps['models']"
      ]
    },
    {
      "cell_type": "code",
      "execution_count": null,
      "metadata": {
        "id": "vnEXOqml41Pf"
      },
      "outputs": [],
      "source": [
        "preprocessor = grid_search.best_estimator_.named_steps['preprocessor']"
      ]
    },
    {
      "cell_type": "markdown",
      "metadata": {
        "id": "kmdXchua41Pf"
      },
      "source": [
        "## Оценка качества модели"
      ]
    },
    {
      "cell_type": "markdown",
      "metadata": {
        "id": "VAQjsZKO41Pf"
      },
      "source": [
        "Добавим эмбреддинги в отложенный датафрейм:"
      ]
    },
    {
      "cell_type": "code",
      "execution_count": null,
      "metadata": {
        "id": "xKo-iwgB41Pf"
      },
      "outputs": [],
      "source": [
        "# Токенизация\n",
        "encoded = tokenizer(\n",
        "    df_valid['text'].tolist(),\n",
        "    padding='max_length',\n",
        "    truncation=True,\n",
        "    max_length=MAX_LEN,\n",
        "    return_tensors='pt'\n",
        ")"
      ]
    },
    {
      "cell_type": "code",
      "execution_count": null,
      "metadata": {
        "id": "3R7G1hcf41Pf"
      },
      "outputs": [],
      "source": [
        "# Получение эмбеддингов\n",
        "embeddings = []\n",
        "n_batches = len(df_valid) // batch_size + (1 if len(df_valid) % batch_size != 0 else 0)\n",
        "\n",
        "for i in notebook.tqdm(range(n_batches)):\n",
        "    start_idx = i * batch_size\n",
        "    end_idx = min((i + 1) * batch_size, len(df_valid))\n",
        "\n",
        "    batch = {\n",
        "        'input_ids': encoded['input_ids'][start_idx:end_idx].to(device),\n",
        "        'attention_mask': encoded['attention_mask'][start_idx:end_idx].to(device)\n",
        "    }\n",
        "\n",
        "    with torch.no_grad():\n",
        "        outputs = model(**batch)\n",
        "        batch_embeddings = outputs.last_hidden_state[:, 0, :].cpu().numpy()\n",
        "        embeddings.append(batch_embeddings)"
      ]
    },
    {
      "cell_type": "code",
      "execution_count": null,
      "metadata": {
        "id": "-zAJk50h41Pg"
      },
      "outputs": [],
      "source": [
        "features = np.concatenate(embeddings)\n",
        "features_df = pd.DataFrame(\n",
        "    features,\n",
        "    columns=[f'bert_feature_{i}' for i in range(features.shape[1])]\n",
        ")"
      ]
    },
    {
      "cell_type": "code",
      "execution_count": null,
      "metadata": {
        "id": "J8TeJoD541Pg"
      },
      "outputs": [],
      "source": [
        "df_valid = pd.concat([df_valid.reset_index(drop=True), features_df], axis=1)"
      ]
    },
    {
      "cell_type": "markdown",
      "metadata": {
        "id": "lahq1j2t41Pg"
      },
      "source": [
        "Отложенный датасет подготовлен, получим предсказания:"
      ]
    },
    {
      "cell_type": "code",
      "execution_count": null,
      "metadata": {
        "id": "--9DE0a141Pg"
      },
      "outputs": [],
      "source": [
        "X_valid_preprocessed = preprocessor.transform(df_valid.drop(['text', 'Unnamed: 0', 'toxic'], axis=1))"
      ]
    },
    {
      "cell_type": "code",
      "execution_count": null,
      "metadata": {
        "id": "MeQEYA5V41Pg"
      },
      "outputs": [],
      "source": [
        "y_pred_valid = model_toxic.predict(X_valid_preprocessed)"
      ]
    },
    {
      "cell_type": "markdown",
      "metadata": {
        "id": "qED2sINu41Pg"
      },
      "source": [
        "Оценим качество предсказанного:"
      ]
    },
    {
      "cell_type": "code",
      "execution_count": null,
      "metadata": {
        "id": "lEVCoXRN41Pg"
      },
      "outputs": [],
      "source": [
        "f1_score(df_valid['toxic'], y_pred_valid)"
      ]
    },
    {
      "cell_type": "markdown",
      "metadata": {
        "id": "Eqle2w1djH21"
      },
      "source": [
        "Метрика соответствует требованиям задания."
      ]
    },
    {
      "cell_type": "markdown",
      "metadata": {
        "id": "J2NnQhda41Pg"
      },
      "source": [
        "Метрика получилась ниже, чем на датасете для обучения. Посмотрим на матрицу ошибок."
      ]
    },
    {
      "cell_type": "code",
      "execution_count": null,
      "metadata": {
        "id": "J9teal4H41Pg"
      },
      "outputs": [],
      "source": [
        "cm = confusion_matrix(df_valid['toxic'], y_pred_valid)\n",
        "\n",
        "sns.heatmap(cm, annot=True, fmt='d', cmap='Blues_r')\n",
        "plt.title('Матрица ошибок')\n",
        "plt.xlabel('Предсказанные значения')\n",
        "plt.ylabel('Правильные значения')\n",
        "plt.show()"
      ]
    },
    {
      "cell_type": "markdown",
      "metadata": {
        "id": "f9odZgQV41Ph"
      },
      "source": [
        "Как видно из матрицы ошибок, модель чаще ошибается с категорией 1, чем с категорией 0. Но в обоих случаях величина ошибки небольшая."
      ]
    },
    {
      "cell_type": "markdown",
      "metadata": {
        "id": "a64Otu0641Ph"
      },
      "source": [
        "## Выводы"
      ]
    },
    {
      "cell_type": "markdown",
      "metadata": {
        "id": "2AuwJOaX41Ph"
      },
      "source": [
        "**В рамках работы сделано:**\n",
        "1. Загружены данные.\n",
        "2. Датасет разделен на обучающий и отложенный.\n",
        "3. Получены эмбреддинги с помощью модели Bert.\n",
        "4. Обучены несколько моделей, такие как LogisticRegression, LGBMClassifier, CatBoostClassifier, XGBClassifier.\n",
        "5. Выполнена оценка качества наилучшей модели.\n",
        "\n",
        "**Достигнутые результаты:**\n",
        "1. Наилучшей моделью стала LogisticRegression с метрикой F1 на обучеющем датасете 0.91.\n",
        "2. Метрика F1 на отложенном датасете составила 0,91.\n",
        "3. Чаще всего модель ошибается с категорией 1, ошибочно присваивая ей категорию 0 (нетоксично).\n",
        "\n",
        "**Рекомендации для улучшения прогноза:**    \n",
        "Предоставить дополнительную информацию о твитах, такую как дата твита, время, userid для распределения твитов по пользователям."
      ]
    },
    {
      "cell_type": "markdown",
      "metadata": {
        "id": "pMt5hUXC41Ph"
      },
      "source": [
        "## Чек-лист проверки"
      ]
    },
    {
      "cell_type": "markdown",
      "metadata": {
        "id": "GPXYGhwy41Ph"
      },
      "source": [
        "- [x]  Jupyter Notebook открыт\n",
        "- [x]  Весь код выполняется без ошибок\n",
        "- [x]  Ячейки с кодом расположены в порядке исполнения\n",
        "- [x]  Данные загружены и подготовлены\n",
        "- [x]  Модели обучены\n",
        "- [x]  Значение метрики *F1* не меньше 0.75\n",
        "- [x]  Выводы написаны"
      ]
    },
    {
      "cell_type": "code",
      "execution_count": null,
      "metadata": {
        "id": "iMkyfxmh41Ph"
      },
      "outputs": [],
      "source": [
        "#pip freeze > requirements.txt"
      ]
    },
    {
      "cell_type": "markdown",
      "metadata": {
        "id": "geu_CDmu41Ph"
      },
      "source": [
        "Содержание файла requirements.txt"
      ]
    },
    {
      "cell_type": "code",
      "execution_count": null,
      "metadata": {
        "id": "pDw78_ze41Ph",
        "scrolled": true
      },
      "outputs": [],
      "source": [
        "'''\n",
        "aiobotocore @ file:///C:/b/abs_1c1a_vjay2/croot/aiobotocore_1682537737724/work\n",
        "aiofiles @ file:///C:/b/abs_9ex6mi6b56/croot/aiofiles_1683773603390/work\n",
        "aiohttp @ file:///C:/b/abs_b78zt6vo64/croot/aiohttp_1694181126607/work\n",
        "aioitertools @ file:///tmp/build/80754af9/aioitertools_1607109665762/work\n",
        "aiosignal @ file:///tmp/build/80754af9/aiosignal_1637843061372/work\n",
        "aiosqlite @ file:///C:/b/abs_9djc_0pyi3/croot/aiosqlite_1683773915844/work\n",
        "alabaster @ file:///home/ktietz/src/ci/alabaster_1611921544520/work\n",
        "anaconda-anon-usage @ file:///C:/b/abs_f4tsjyl9va/croot/anaconda-anon-usage_1695310457827/work\n",
        "anaconda-catalogs @ file:///C:/b/abs_8btyy0o8s8/croot/anaconda-catalogs_1685727315626/work\n",
        "anaconda-client @ file:///C:/b/abs_80wttmgui4/croot/anaconda-client_1694625288614/work\n",
        "anaconda-cloud-auth @ file:///C:/b/abs_5cjpnu6wjb/croot/anaconda-cloud-auth_1694462130037/work\n",
        "anaconda-navigator @ file:///C:/b/abs_ab00e0_u7e/croot/anaconda-navigator_1695238210954/work\n",
        "anaconda-project @ file:///C:/ci_311/anaconda-project_1676458365912/work\n",
        "anyio @ file:///C:/ci_311/anyio_1676425491996/work/dist\n",
        "appdirs==1.4.4\n",
        "argon2-cffi @ file:///opt/conda/conda-bld/argon2-cffi_1645000214183/work\n",
        "argon2-cffi-bindings @ file:///C:/ci_311/argon2-cffi-bindings_1676424443321/work\n",
        "arrow @ file:///C:/ci_311/arrow_1678249767083/work\n",
        "astroid @ file:///C:/ci_311/astroid_1678740610167/work\n",
        "astropy @ file:///C:/ci_311_rebuilds/astropy_1678996071858/work\n",
        "asttokens @ file:///opt/conda/conda-bld/asttokens_1646925590279/work\n",
        "async-timeout @ file:///C:/ci_311/async-timeout_1676431518331/work\n",
        "atomicwrites==1.4.0\n",
        "attrs @ file:///C:/ci_311/attrs_1676422272484/work\n",
        "Automat @ file:///tmp/build/80754af9/automat_1600298431173/work\n",
        "autopep8 @ file:///opt/conda/conda-bld/autopep8_1650463822033/work\n",
        "Babel @ file:///C:/ci_311/babel_1676427169844/work\n",
        "backcall @ file:///home/ktietz/src/ci/backcall_1611930011877/work\n",
        "backports.functools-lru-cache @ file:///tmp/build/80754af9/backports.functools_lru_cache_1618170165463/work\n",
        "backports.tempfile @ file:///home/linux1/recipes/ci/backports.tempfile_1610991236607/work\n",
        "backports.weakref==1.0.post1\n",
        "bcrypt @ file:///C:/ci_311/bcrypt_1676435170049/work\n",
        "beautifulsoup4 @ file:///C:/b/abs_0agyz1wsr4/croot/beautifulsoup4-split_1681493048687/work\n",
        "binaryornot @ file:///tmp/build/80754af9/binaryornot_1617751525010/work\n",
        "black @ file:///C:/b/abs_620t6ndje8/croot/black_1680737261963/work\n",
        "bleach @ file:///opt/conda/conda-bld/bleach_1641577558959/work\n",
        "bokeh @ file:///C:/b/abs_e5qs_0dl2w/croot/bokeh_1690546119144/work\n",
        "boltons @ file:///C:/ci_311/boltons_1677729932371/work\n",
        "botocore @ file:///C:/b/abs_01gwdn34ju/croot/botocore_1682528022942/work\n",
        "Bottleneck @ file:///C:/ci_311/bottleneck_1676500016583/work\n",
        "brotlipy==0.7.0\n",
        "catboost==1.2.7\n",
        "certifi @ file:///C:/b/abs_36eb5mzhph/croot/certifi_1690232276943/work/certifi\n",
        "cffi @ file:///C:/ci_311/cffi_1676423759166/work\n",
        "chardet @ file:///C:/ci_311/chardet_1676436134885/work\n",
        "charset-normalizer @ file:///tmp/build/80754af9/charset-normalizer_1630003229654/work\n",
        "click @ file:///C:/ci_311/click_1676433091657/work\n",
        "cloudpickle @ file:///C:/b/abs_3796yxesic/croot/cloudpickle_1683040098851/work\n",
        "clyent==1.2.2\n",
        "colorama @ file:///C:/ci_311/colorama_1676422310965/work\n",
        "colorcet @ file:///C:/ci_311/colorcet_1676440389947/work\n",
        "comm @ file:///C:/ci_311/comm_1678376562840/work\n",
        "conda @ file:///C:/b/abs_3eb7ewgq2c/croot/conda_1694545461647/work\n",
        "conda-build @ file:///C:/b/abs_8di4gx5nj5/croot/conda-build_1692366837286/work\n",
        "conda-content-trust @ file:///C:/b/abs_e3bcpyv7sw/croot/conda-content-trust_1693490654398/work\n",
        "conda-libmamba-solver @ file:///C:/b/abs_016p0csqp7/croot/conda-libmamba-solver_1691418958509/work/src\n",
        "conda-pack @ file:///tmp/build/80754af9/conda-pack_1611163042455/work\n",
        "conda-package-handling @ file:///C:/b/abs_b9wp3lr1gn/croot/conda-package-handling_1691008700066/work\n",
        "conda-repo-cli==1.0.75\n",
        "conda-token @ file:///Users/paulyim/miniconda3/envs/c3i/conda-bld/conda-token_1662660369760/work\n",
        "conda-verify==3.4.2\n",
        "conda_index @ file:///C:/b/abs_50towt3zan/croot/conda-index_1695311135992/work\n",
        "conda_package_streaming @ file:///C:/b/abs_6c28n38aaj/croot/conda-package-streaming_1690988019210/work\n",
        "constantly==15.1.0\n",
        "contourpy @ file:///C:/ci_311/contourpy_1676431756017/work\n",
        "cookiecutter @ file:///opt/conda/conda-bld/cookiecutter_1649151442564/work\n",
        "cryptography @ file:///C:/b/abs_f4do8t8jfs/croot/cryptography_1694444424531/work\n",
        "cssselect==1.1.0\n",
        "cycler @ file:///tmp/build/80754af9/cycler_1637851556182/work\n",
        "cytoolz @ file:///C:/ci_311/cytoolz_1676436342770/work\n",
        "daal4py==2023.1.1\n",
        "dask @ file:///C:/b/abs_23lvfodys3/croot/dask-core_1686782960052/work\n",
        "datasets @ file:///C:/b/abs_a3jy4vrfuo/croot/datasets_1684484478038/work\n",
        "datashader @ file:///C:/b/abs_8323862uxi/croot/datashader_1692372298149/work\n",
        "datashape==0.5.4\n",
        "debugpy @ file:///C:/b/abs_c0y1fjipt2/croot/debugpy_1690906864587/work\n",
        "decorator @ file:///opt/conda/conda-bld/decorator_1643638310831/work\n",
        "defusedxml @ file:///tmp/build/80754af9/defusedxml_1615228127516/work\n",
        "diff-match-patch @ file:///Users/ktietz/demo/mc3/conda-bld/diff-match-patch_1630511840874/work\n",
        "dill @ file:///C:/ci_311/dill_1676433323862/work\n",
        "distributed @ file:///C:/b/abs_7509xfv227/croot/distributed_1686866088894/work\n",
        "docstring-to-markdown @ file:///C:/ci_311/docstring-to-markdown_1677742566583/work\n",
        "docutils @ file:///C:/ci_311/docutils_1676428078664/work\n",
        "entrypoints @ file:///C:/ci_311/entrypoints_1676423328987/work\n",
        "et-xmlfile==1.1.0\n",
        "executing @ file:///opt/conda/conda-bld/executing_1646925071911/work\n",
        "fastjsonschema @ file:///C:/ci_311/python-fastjsonschema_1679500568724/work\n",
        "filelock @ file:///C:/ci_311/filelock_1676427284139/work\n",
        "flake8 @ file:///C:/ci_311/flake8_1678376624746/work\n",
        "Flask @ file:///C:/ci_311/flask_1676436667658/work\n",
        "fonttools==4.25.0\n",
        "frozenlist @ file:///C:/ci_311/frozenlist_1676428131576/work\n",
        "fsspec @ file:///C:/b/abs_f9arcwflp9/croot/fsspec_1682526006955/work\n",
        "future @ file:///C:/ci_311_rebuilds/future_1678998246262/work\n",
        "gensim @ file:///C:/ci_311/gensim_1677743037820/work\n",
        "glob2 @ file:///home/linux1/recipes/ci/glob2_1610991677669/work\n",
        "graphviz==0.20.3\n",
        "greenlet @ file:///C:/ci_311/greenlet_1676436788118/work\n",
        "h5py @ file:///C:/b/abs_17fav01gwy/croot/h5py_1691589733413/work\n",
        "HeapDict @ file:///Users/ktietz/demo/mc3/conda-bld/heapdict_1630598515714/work\n",
        "holoviews @ file:///C:/b/abs_fa7afixkhc/croot/holoviews_1693378101313/work\n",
        "huggingface-hub @ file:///C:/b/abs_46tn6fu5ho/croot/huggingface_hub_1686693723427/work\n",
        "hvplot @ file:///C:/b/abs_2b13wifauw/croot/hvplot_1685998632349/work\n",
        "hyperlink @ file:///tmp/build/80754af9/hyperlink_1610130746837/work\n",
        "idna @ file:///C:/ci_311/idna_1676424932545/work\n",
        "imagecodecs @ file:///C:/b/abs_e2g5zbs1q0/croot/imagecodecs_1695065012000/work\n",
        "imageio @ file:///C:/ci_311/imageio_1678373794394/work\n",
        "imagesize @ file:///C:/ci_311/imagesize_1676431905616/work\n",
        "imbalanced-learn @ file:///C:/b/abs_275a0acaq2/croot/imbalanced-learn_1685025644593/work\n",
        "importlib-metadata @ file:///C:/b/abs_20ndzb2j6v/croot/importlib-metadata_1678997085534/work\n",
        "incremental @ file:///tmp/build/80754af9/incremental_1636629750599/work\n",
        "inflection==0.5.1\n",
        "iniconfig @ file:///home/linux1/recipes/ci/iniconfig_1610983019677/work\n",
        "intake @ file:///C:/ci_311_rebuilds/intake_1678999914269/work\n",
        "intervaltree @ file:///Users/ktietz/demo/mc3/conda-bld/intervaltree_1630511889664/work\n",
        "ipykernel @ file:///C:/b/abs_07rkft_vaz/croot/ipykernel_1691121700587/work\n",
        "ipython @ file:///C:/b/abs_e5729i179y/croot/ipython_1694181400005/work\n",
        "ipython-genutils @ file:///tmp/build/80754af9/ipython_genutils_1606773439826/work\n",
        "ipywidgets @ file:///C:/b/abs_5awapknmz_/croot/ipywidgets_1679394824767/work\n",
        "isort @ file:///tmp/build/80754af9/isort_1628603791788/work\n",
        "itemadapter @ file:///tmp/build/80754af9/itemadapter_1626442940632/work\n",
        "itemloaders @ file:///opt/conda/conda-bld/itemloaders_1646805235997/work\n",
        "itsdangerous @ file:///tmp/build/80754af9/itsdangerous_1621432558163/work\n",
        "jaraco.classes @ file:///tmp/build/80754af9/jaraco.classes_1620983179379/work\n",
        "jedi @ file:///C:/ci_311/jedi_1679427407646/work\n",
        "jellyfish @ file:///C:/b/abs_50kgvtnrbj/croot/jellyfish_1695193564091/work\n",
        "Jinja2 @ file:///C:/ci_311/jinja2_1676424968965/work\n",
        "jinja2-time @ file:///opt/conda/conda-bld/jinja2-time_1649251842261/work\n",
        "jmespath @ file:///Users/ktietz/demo/mc3/conda-bld/jmespath_1630583964805/work\n",
        "joblib @ file:///C:/b/abs_1anqjntpan/croot/joblib_1685113317150/work\n",
        "json5 @ file:///tmp/build/80754af9/json5_1624432770122/work\n",
        "jsonpatch @ file:///tmp/build/80754af9/jsonpatch_1615747632069/work\n",
        "jsonpointer==2.1\n",
        "jsonschema @ file:///C:/b/abs_d40z05b6r1/croot/jsonschema_1678983446576/work\n",
        "jupyter @ file:///C:/ci_311/jupyter_1678249952587/work\n",
        "jupyter-console @ file:///C:/b/abs_82xaa6i2y4/croot/jupyter_console_1680000189372/work\n",
        "jupyter-events @ file:///C:/b/abs_4cak_28ewz/croot/jupyter_events_1684268050893/work\n",
        "jupyter-server @ file:///C:/ci_311/jupyter_server_1678228762759/work\n",
        "jupyter-ydoc @ file:///C:/b/abs_e7m6nh5lao/croot/jupyter_ydoc_1683747253535/work\n",
        "jupyter_client @ file:///C:/ci_311/jupyter_client_1676424009414/work\n",
        "jupyter_core @ file:///C:/b/abs_9d0ttho3bs/croot/jupyter_core_1679906581955/work\n",
        "jupyter_server_fileid @ file:///C:/b/abs_f1yjnmiq_6/croot/jupyter_server_fileid_1684273602142/work\n",
        "jupyter_server_ydoc @ file:///C:/b/abs_8ai39bligw/croot/jupyter_server_ydoc_1686767445888/work\n",
        "jupyterlab @ file:///C:/b/abs_c1msr8zz3y/croot/jupyterlab_1686179674844/work\n",
        "jupyterlab-pygments @ file:///tmp/build/80754af9/jupyterlab_pygments_1601490720602/work\n",
        "jupyterlab-widgets @ file:///C:/b/abs_38ad427jkz/croot/jupyterlab_widgets_1679055289211/work\n",
        "jupyterlab_server @ file:///C:/b/abs_e0qqsihjvl/croot/jupyterlab_server_1680792526136/work\n",
        "kaleido @ file:///C:/b/abs_60smvjz1os/croot/python-kaleido_1689927138239/work\n",
        "keyring @ file:///C:/b/abs_dbjc7g0dh2/croot/keyring_1678999228878/work\n",
        "kiwisolver @ file:///C:/ci_311/kiwisolver_1676431979301/work\n",
        "lazy-object-proxy @ file:///C:/ci_311/lazy-object-proxy_1676432050939/work\n",
        "lazy_loader @ file:///C:/b/abs_c9jlw06oq1/croot/lazy_loader_1687266162676/work\n",
        "libarchive-c @ file:///tmp/build/80754af9/python-libarchive-c_1617780486945/work\n",
        "libmambapy @ file:///C:/b/abs_71g8gec0dd/croot/mamba-split_1694187821755/work/libmambapy\n",
        "lightgbm==4.5.0\n",
        "linkify-it-py @ file:///C:/ci_311/linkify-it-py_1676474436187/work\n",
        "llvmlite @ file:///C:/b/abs_a8i9keuf6p/croot/llvmlite_1683555140340/work\n",
        "lmdb @ file:///C:/b/abs_556ronuvb2/croot/python-lmdb_1682522366268/work\n",
        "locket @ file:///C:/ci_311/locket_1676428325082/work\n",
        "lxml @ file:///C:/b/abs_9e7tpg2vv9/croot/lxml_1695058219431/work\n",
        "lz4 @ file:///C:/b/abs_064u6aszy3/croot/lz4_1686057967376/work\n",
        "Markdown @ file:///C:/ci_311/markdown_1676437912393/work\n",
        "markdown-it-py @ file:///C:/b/abs_a5bfngz6fu/croot/markdown-it-py_1684279915556/work\n",
        "MarkupSafe @ file:///C:/ci_311/markupsafe_1676424152318/work\n",
        "matplotlib @ file:///C:/b/abs_085jhivdha/croot/matplotlib-suite_1693812524572/work\n",
        "matplotlib-inline @ file:///C:/ci_311/matplotlib-inline_1676425798036/work\n",
        "mccabe @ file:///opt/conda/conda-bld/mccabe_1644221741721/work\n",
        "mdit-py-plugins @ file:///C:/ci_311/mdit-py-plugins_1676481827414/work\n",
        "mdurl @ file:///C:/ci_311/mdurl_1676442676678/work\n",
        "menuinst @ file:///C:/ci_311/menuinst_1678730372782/work\n",
        "mistune @ file:///C:/ci_311/mistune_1676425149302/work\n",
        "mkl-fft @ file:///C:/b/abs_19i1y8ykas/croot/mkl_fft_1695058226480/work\n",
        "mkl-random @ file:///C:/b/abs_edwkj1_o69/croot/mkl_random_1695059866750/work\n",
        "mkl-service==2.4.0\n",
        "more-itertools @ file:///tmp/build/80754af9/more-itertools_1637733554872/work\n",
        "mpmath @ file:///C:/b/abs_7833jrbiox/croot/mpmath_1690848321154/work\n",
        "msgpack @ file:///C:/ci_311/msgpack-python_1676427482892/work\n",
        "multidict @ file:///C:/ci_311/multidict_1676428396308/work\n",
        "multipledispatch @ file:///C:/ci_311/multipledispatch_1676442767760/work\n",
        "multiprocess @ file:///C:/ci_311/multiprocess_1676442808395/work\n",
        "munkres==1.1.4\n",
        "mypy-extensions @ file:///C:/b/abs_8f7xiidjya/croot/mypy_extensions_1695131051147/work\n",
        "navigator-updater @ file:///C:/b/abs_895otdwmo9/croot/navigator-updater_1695210220239/work\n",
        "nbclassic @ file:///C:/b/abs_c8_rs7b3zw/croot/nbclassic_1681756186106/work\n",
        "nbclient @ file:///C:/ci_311/nbclient_1676425195918/work\n",
        "nbconvert @ file:///C:/ci_311/nbconvert_1676425836196/work\n",
        "nbformat @ file:///C:/b/abs_5a2nea1iu2/croot/nbformat_1694616866197/work\n",
        "nest-asyncio @ file:///C:/ci_311/nest-asyncio_1676423519896/work\n",
        "networkx @ file:///C:/b/abs_e6gi1go5op/croot/networkx_1690562046966/work\n",
        "nltk @ file:///C:/b/abs_a638z6l1z0/croot/nltk_1688114186909/work\n",
        "notebook @ file:///C:/b/abs_e2qn6c85jb/croot/notebook_1690985290943/work\n",
        "notebook_shim @ file:///C:/ci_311/notebook-shim_1678144850856/work\n",
        "numba @ file:///C:/b/abs_00f2z7znbq/croot/numba_1690878309825/work\n",
        "numexpr @ file:///C:/b/abs_afm0oewmmt/croot/numexpr_1683221839116/work\n",
        "numpy @ file:///C:/Users/dev-admin/mkl/numpy_and_numpy_base_1682982345978/work\n",
        "numpydoc @ file:///C:/ci_311/numpydoc_1676453412027/work\n",
        "openpyxl==3.0.10\n",
        "packaging @ file:///C:/b/abs_28t5mcoltc/croot/packaging_1693575224052/work\n",
        "pandas @ file:///C:/miniconda3/conda-bld/pandas_1692298018988/work\n",
        "pandocfilters @ file:///opt/conda/conda-bld/pandocfilters_1643405455980/work\n",
        "panel @ file:///C:/b/abs_a4rd7zrkc6/croot/panel_1695145945642/work\n",
        "param @ file:///C:/b/abs_f5xzp6ism6/croot/param_1684915326009/work\n",
        "paramiko @ file:///opt/conda/conda-bld/paramiko_1640109032755/work\n",
        "parsel @ file:///C:/ci_311/parsel_1676443327188/work\n",
        "parso @ file:///opt/conda/conda-bld/parso_1641458642106/work\n",
        "partd @ file:///C:/b/abs_4e2m_ds81n/croot/partd_1693937921136/work\n",
        "pathlib @ file:///Users/ktietz/demo/mc3/conda-bld/pathlib_1629713961906/work\n",
        "pathspec @ file:///C:/ci_311/pathspec_1679427644142/work\n",
        "patsy==0.5.3\n",
        "pep8==1.7.1\n",
        "pexpect @ file:///tmp/build/80754af9/pexpect_1605563209008/work\n",
        "phik==0.12.4\n",
        "pickleshare @ file:///tmp/build/80754af9/pickleshare_1606932040724/work\n",
        "Pillow @ file:///C:/b/abs_153xikw91n/croot/pillow_1695134603563/work\n",
        "pkce @ file:///C:/b/abs_d0z4444tb0/croot/pkce_1690384879799/work\n",
        "pkginfo @ file:///C:/b/abs_d18srtr68x/croot/pkginfo_1679431192239/work\n",
        "platformdirs @ file:///C:/b/abs_b6z_yqw_ii/croot/platformdirs_1692205479426/work\n",
        "plotly @ file:///C:/ci_311/plotly_1676443558683/work\n",
        "pluggy @ file:///C:/ci_311/pluggy_1676422178143/work\n",
        "ply==3.11\n",
        "poyo @ file:///tmp/build/80754af9/poyo_1617751526755/work\n",
        "prometheus-client @ file:///C:/ci_311/prometheus_client_1679591942558/work\n",
        "prompt-toolkit @ file:///C:/ci_311/prompt-toolkit_1676425940920/work\n",
        "Protego @ file:///tmp/build/80754af9/protego_1598657180827/work\n",
        "psutil @ file:///C:/ci_311_rebuilds/psutil_1679005906571/work\n",
        "ptyprocess @ file:///tmp/build/80754af9/ptyprocess_1609355006118/work/dist/ptyprocess-0.7.0-py2.py3-none-any.whl\n",
        "pure-eval @ file:///opt/conda/conda-bld/pure_eval_1646925070566/work\n",
        "py-cpuinfo @ file:///Users/ktietz/demo/mc3/conda-bld/py-cpuinfo_1629480366017/work\n",
        "pyarrow==11.0.0\n",
        "pyasn1 @ file:///Users/ktietz/demo/mc3/conda-bld/pyasn1_1629708007385/work\n",
        "pyasn1-modules==0.2.8\n",
        "pycodestyle @ file:///C:/ci_311/pycodestyle_1678376707834/work\n",
        "pycosat @ file:///C:/ci_311/pycosat_1676438455539/work\n",
        "pycparser @ file:///tmp/build/80754af9/pycparser_1636541352034/work\n",
        "pyct @ file:///C:/ci_311/pyct_1676438538057/work\n",
        "pycurl==7.45.2\n",
        "pydantic @ file:///C:/b/abs_4bum6ajkso/croot/pydantic_1686125732638/work\n",
        "PyDispatcher==2.0.5\n",
        "pydocstyle @ file:///C:/ci_311/pydocstyle_1678402028085/work\n",
        "pyerfa @ file:///C:/ci_311/pyerfa_1676503994641/work\n",
        "pyflakes @ file:///C:/ci_311/pyflakes_1678402101687/work\n",
        "Pygments @ file:///C:/b/abs_fay9dpq4n_/croot/pygments_1684279990574/work\n",
        "PyJWT @ file:///C:/ci_311/pyjwt_1676438890509/work\n",
        "pylint @ file:///C:/ci_311/pylint_1678740302984/work\n",
        "pylint-venv @ file:///C:/ci_311/pylint-venv_1678402170638/work\n",
        "pyls-spyder==0.4.0\n",
        "pymystem3==0.2.0\n",
        "PyNaCl @ file:///C:/ci_311/pynacl_1676445861112/work\n",
        "pyodbc @ file:///C:/ci_311/pyodbc_1676489976744/work\n",
        "pyOpenSSL @ file:///C:/b/abs_08f38zyck4/croot/pyopenssl_1690225407403/work\n",
        "pyparsing @ file:///C:/ci_311/pyparsing_1678502182533/work\n",
        "PyQt5==5.15.7\n",
        "PyQt5-sip @ file:///C:/ci_311/pyqt-split_1676428895938/work/pyqt_sip\n",
        "PyQtWebEngine==5.15.4\n",
        "pyrsistent @ file:///C:/ci_311/pyrsistent_1676422695500/work\n",
        "PySocks @ file:///C:/ci_311/pysocks_1676425991111/work\n",
        "pytest @ file:///C:/b/abs_48heoo_k8y/croot/pytest_1690475385915/work\n",
        "python-dateutil @ file:///tmp/build/80754af9/python-dateutil_1626374649649/work\n",
        "python-dotenv @ file:///C:/ci_311/python-dotenv_1676455170580/work\n",
        "python-json-logger @ file:///C:/b/abs_cblnsm6puj/croot/python-json-logger_1683824130469/work\n",
        "python-lsp-black @ file:///C:/ci_311/python-lsp-black_1678721855627/work\n",
        "python-lsp-jsonrpc==1.0.0\n",
        "python-lsp-server @ file:///C:/b/abs_catecj7fv1/croot/python-lsp-server_1681930405912/work\n",
        "python-slugify @ file:///tmp/build/80754af9/python-slugify_1620405669636/work\n",
        "python-snappy @ file:///C:/ci_311/python-snappy_1676446060182/work\n",
        "pytoolconfig @ file:///C:/ci_311/pytoolconfig_1678402262175/work\n",
        "pytz @ file:///C:/b/abs_19q3ljkez4/croot/pytz_1695131651401/work\n",
        "pyviz-comms @ file:///C:/b/abs_6cq38vhwa5/croot/pyviz_comms_1685030740344/work\n",
        "PyWavelets @ file:///C:/ci_311/pywavelets_1676504105729/work\n",
        "pywin32==305.1\n",
        "pywin32-ctypes @ file:///C:/ci_311/pywin32-ctypes_1676427747089/work\n",
        "pywinpty @ file:///C:/ci_311/pywinpty_1677707791185/work/target/wheels/pywinpty-2.0.10-cp311-none-win_amd64.whl\n",
        "PyYAML @ file:///C:/ci_311/pyyaml_1676432488822/work\n",
        "pyzmq @ file:///C:/ci_311/pyzmq_1676423601304/work\n",
        "QDarkStyle @ file:///tmp/build/80754af9/qdarkstyle_1617386714626/work\n",
        "qstylizer @ file:///C:/ci_311/qstylizer_1678502012152/work/dist/qstylizer-0.2.2-py2.py3-none-any.whl\n",
        "QtAwesome @ file:///C:/ci_311/qtawesome_1678402331535/work\n",
        "qtconsole @ file:///C:/b/abs_eb4u9jg07y/croot/qtconsole_1681402843494/work\n",
        "QtPy @ file:///C:/ci_311/qtpy_1676432558504/work\n",
        "queuelib==1.5.0\n",
        "regex @ file:///C:/ci_311_rebuilds/regex_1679006156792/work\n",
        "requests @ file:///C:/b/abs_316c2inijk/croot/requests_1690400295842/work\n",
        "requests-file @ file:///Users/ktietz/demo/mc3/conda-bld/requests-file_1629455781986/work\n",
        "requests-toolbelt @ file:///C:/b/abs_2fsmts66wp/croot/requests-toolbelt_1690874051210/work\n",
        "responses @ file:///tmp/build/80754af9/responses_1619800270522/work\n",
        "rfc3339-validator @ file:///C:/b/abs_ddfmseb_vm/croot/rfc3339-validator_1683077054906/work\n",
        "rfc3986-validator @ file:///C:/b/abs_6e9azihr8o/croot/rfc3986-validator_1683059049737/work\n",
        "rope @ file:///C:/ci_311/rope_1678402524346/work\n",
        "Rtree @ file:///C:/ci_311/rtree_1676455758391/work\n",
        "ruamel-yaml-conda @ file:///C:/ci_311/ruamel_yaml_1676455799258/work\n",
        "ruamel.yaml @ file:///C:/ci_311/ruamel.yaml_1676439214109/work\n",
        "s3fs @ file:///C:/b/abs_adfhcfx438/croot/s3fs_1682551489845/work\n",
        "safetensors @ file:///C:/b/abs_a8nnkwknpv/croot/safetensors_1692949064285/work\n",
        "scikit-image @ file:///C:/b/abs_2075zg1pia/croot/scikit-image_1682528361447/work\n",
        "scikit-learn @ file:///C:/b/abs_55olq_4gzc/croot/scikit-learn_1690978955123/work\n",
        "scikit-learn-intelex==20230426.121932\n",
        "scipy==1.11.1\n",
        "Scrapy @ file:///C:/ci_311/scrapy_1678502587780/work\n",
        "seaborn @ file:///C:/ci_311/seaborn_1676446547861/work\n",
        "Send2Trash @ file:///tmp/build/80754af9/send2trash_1632406701022/work\n",
        "service-identity @ file:///Users/ktietz/demo/mc3/conda-bld/service_identity_1629460757137/work\n",
        "shap==0.46.0\n",
        "sip @ file:///C:/ci_311/sip_1676427825172/work\n",
        "six @ file:///tmp/build/80754af9/six_1644875935023/work\n",
        "slicer==0.0.8\n",
        "smart-open @ file:///C:/ci_311/smart_open_1676439339434/work\n",
        "sniffio @ file:///C:/ci_311/sniffio_1676425339093/work\n",
        "snowballstemmer @ file:///tmp/build/80754af9/snowballstemmer_1637937080595/work\n",
        "sortedcontainers @ file:///tmp/build/80754af9/sortedcontainers_1623949099177/work\n",
        "soupsieve @ file:///C:/b/abs_a989exj3q6/croot/soupsieve_1680518492466/work\n",
        "Sphinx @ file:///C:/ci_311/sphinx_1676434546244/work\n",
        "sphinxcontrib-applehelp @ file:///home/ktietz/src/ci/sphinxcontrib-applehelp_1611920841464/work\n",
        "sphinxcontrib-devhelp @ file:///home/ktietz/src/ci/sphinxcontrib-devhelp_1611920923094/work\n",
        "sphinxcontrib-htmlhelp @ file:///tmp/build/80754af9/sphinxcontrib-htmlhelp_1623945626792/work\n",
        "sphinxcontrib-jsmath @ file:///home/ktietz/src/ci/sphinxcontrib-jsmath_1611920942228/work\n",
        "sphinxcontrib-qthelp @ file:///home/ktietz/src/ci/sphinxcontrib-qthelp_1611921055322/work\n",
        "sphinxcontrib-serializinghtml @ file:///tmp/build/80754af9/sphinxcontrib-serializinghtml_1624451540180/work\n",
        "spyder @ file:///C:/b/abs_e99kl7d8t0/croot/spyder_1681934304813/work\n",
        "spyder-kernels @ file:///C:/b/abs_e788a8_4y9/croot/spyder-kernels_1691599588437/work\n",
        "SQLAlchemy @ file:///C:/ci_311/sqlalchemy_1676446707912/work\n",
        "stack-data @ file:///opt/conda/conda-bld/stack_data_1646927590127/work\n",
        "statsmodels @ file:///C:/b/abs_7bth810rna/croot/statsmodels_1689937298619/work\n",
        "sympy==1.13.1\n",
        "tables @ file:///C:/b/abs_0626auep9v/croot/pytables_1691623892917/work\n",
        "tabulate @ file:///C:/ci_311/tabulate_1676494503192/work\n",
        "TBB==0.2\n",
        "tblib @ file:///Users/ktietz/demo/mc3/conda-bld/tblib_1629402031467/work\n",
        "tenacity @ file:///C:/b/abs_ddkoa9nju6/croot/tenacity_1682972298929/work\n",
        "terminado @ file:///C:/ci_311/terminado_1678228513830/work\n",
        "text-unidecode @ file:///Users/ktietz/demo/mc3/conda-bld/text-unidecode_1629401354553/work\n",
        "textdistance @ file:///tmp/build/80754af9/textdistance_1612461398012/work\n",
        "threadpoolctl @ file:///Users/ktietz/demo/mc3/conda-bld/threadpoolctl_1629802263681/work\n",
        "three-merge @ file:///tmp/build/80754af9/three-merge_1607553261110/work\n",
        "tifffile @ file:///C:/b/abs_45o5chuqwt/croot/tifffile_1695107511025/work\n",
        "tinycss2 @ file:///C:/ci_311/tinycss2_1676425376744/work\n",
        "tldextract @ file:///opt/conda/conda-bld/tldextract_1646638314385/work\n",
        "tokenizers @ file:///C:/b/abs_e34f9vyhry/croot/tokenizers_1687191954304/work\n",
        "toml @ file:///tmp/build/80754af9/toml_1616166611790/work\n",
        "tomlkit @ file:///C:/ci_311/tomlkit_1676425418821/work\n",
        "toolz @ file:///C:/ci_311/toolz_1676431406517/work\n",
        "torch==2.5.1\n",
        "tornado @ file:///C:/b/abs_61jhmrrua1/croot/tornado_1690848767317/work\n",
        "tqdm @ file:///C:/b/abs_f76j9hg7pv/croot/tqdm_1679561871187/work\n",
        "traitlets @ file:///C:/ci_311/traitlets_1676423290727/work\n",
        "transformers @ file:///C:/b/abs_375hgbdwge/croot/transformers_1693308365188/work\n",
        "Twisted @ file:///C:/b/abs_f1pc_rieoy/croot/twisted_1683796899561/work\n",
        "twisted-iocpsupport @ file:///C:/ci_311/twisted-iocpsupport_1676447612160/work\n",
        "typing_extensions==4.12.2\n",
        "tzdata @ file:///croot/python-tzdata_1690578112552/work\n",
        "uc-micro-py @ file:///C:/ci_311/uc-micro-py_1676457695423/work\n",
        "ujson @ file:///C:/ci_311/ujson_1676434714224/work\n",
        "Unidecode @ file:///tmp/build/80754af9/unidecode_1614712377438/work\n",
        "urllib3 @ file:///C:/b/abs_889_loyqv4/croot/urllib3_1686163174463/work\n",
        "w3lib @ file:///Users/ktietz/demo/mc3/conda-bld/w3lib_1629359764703/work\n",
        "watchdog @ file:///C:/ci_311/watchdog_1676457923624/work\n",
        "wcwidth @ file:///Users/ktietz/demo/mc3/conda-bld/wcwidth_1629357192024/work\n",
        "webencodings==0.5.1\n",
        "websocket-client @ file:///C:/ci_311/websocket-client_1676426063281/work\n",
        "Werkzeug @ file:///C:/b/abs_8578rs2ra_/croot/werkzeug_1679489759009/work\n",
        "whatthepatch @ file:///C:/ci_311/whatthepatch_1678402578113/work\n",
        "widgetsnbextension @ file:///C:/b/abs_882k4_4kdf/croot/widgetsnbextension_1679313880295/work\n",
        "win-inet-pton @ file:///C:/ci_311/win_inet_pton_1676425458225/work\n",
        "wrapt @ file:///C:/ci_311/wrapt_1676432805090/work\n",
        "xarray @ file:///C:/b/abs_5bkjiynp4e/croot/xarray_1689041498548/work\n",
        "xgboost==2.1.3\n",
        "xlwings @ file:///C:/ci_311_rebuilds/xlwings_1679013429160/work\n",
        "xxhash @ file:///C:/ci_311/python-xxhash_1676446168786/work\n",
        "xyzservices @ file:///C:/ci_311/xyzservices_1676434829315/work\n",
        "y-py @ file:///C:/b/abs_b7f5go6r0j/croot/y-py_1683662173571/work\n",
        "yapf @ file:///tmp/build/80754af9/yapf_1615749224965/work\n",
        "yarl @ file:///C:/ci_311/yarl_1676432870023/work\n",
        "ypy-websocket @ file:///C:/b/abs_4e65ywlnv8/croot/ypy-websocket_1684172103529/work\n",
        "zict @ file:///C:/b/abs_fc7elavmem/croot/zict_1682698759288/work\n",
        "zipp @ file:///C:/ci_311/zipp_1676426100491/work\n",
        "zope.interface @ file:///C:/ci_311/zope.interface_1676439868776/work\n",
        "zstandard==0.19.0\n",
        "'''"
      ]
    },
    {
      "cell_type": "code",
      "execution_count": null,
      "metadata": {
        "id": "VziMD-mr41Pi"
      },
      "outputs": [],
      "source": []
    }
  ],
  "metadata": {
    "ExecuteTimeLog": [
      {
        "duration": 373,
        "start_time": "2024-12-26T10:48:28.173Z"
      },
      {
        "duration": 1298,
        "start_time": "2024-12-26T10:49:27.369Z"
      },
      {
        "duration": 14,
        "start_time": "2024-12-26T10:49:45.198Z"
      },
      {
        "duration": 33,
        "start_time": "2024-12-26T10:49:52.349Z"
      },
      {
        "duration": 1416,
        "start_time": "2024-12-26T10:50:16.382Z"
      },
      {
        "duration": 11,
        "start_time": "2024-12-26T10:50:31.425Z"
      },
      {
        "duration": 1034,
        "start_time": "2024-12-26T10:54:19.365Z"
      },
      {
        "duration": 4,
        "start_time": "2024-12-26T10:54:46.964Z"
      },
      {
        "duration": 3,
        "start_time": "2024-12-26T10:54:55.923Z"
      },
      {
        "duration": 2,
        "start_time": "2024-12-26T10:56:12.540Z"
      },
      {
        "duration": 3,
        "start_time": "2024-12-26T10:56:25.077Z"
      },
      {
        "duration": 6,
        "start_time": "2024-12-26T10:57:26.678Z"
      },
      {
        "duration": 2121,
        "start_time": "2024-12-26T10:58:05.718Z"
      },
      {
        "duration": 3,
        "start_time": "2024-12-26T10:59:51.992Z"
      },
      {
        "duration": 66,
        "start_time": "2024-12-26T11:00:47.329Z"
      },
      {
        "duration": 1604,
        "start_time": "2024-12-30T08:41:51.556Z"
      },
      {
        "duration": 1306,
        "start_time": "2024-12-30T08:41:54.948Z"
      },
      {
        "duration": 18,
        "start_time": "2024-12-30T08:41:57.380Z"
      },
      {
        "duration": 85,
        "start_time": "2024-12-30T08:41:57.400Z"
      },
      {
        "duration": 33,
        "start_time": "2024-12-30T08:42:27.951Z"
      },
      {
        "duration": 128,
        "start_time": "2024-12-30T08:42:43.996Z"
      },
      {
        "duration": 5,
        "start_time": "2024-12-30T08:43:07.983Z"
      },
      {
        "duration": 6,
        "start_time": "2024-12-30T08:43:10.735Z"
      },
      {
        "duration": 760,
        "start_time": "2024-12-30T08:44:07.571Z"
      },
      {
        "duration": 2124,
        "start_time": "2024-12-30T08:46:49.726Z"
      },
      {
        "duration": 5,
        "start_time": "2024-12-30T08:46:59.059Z"
      },
      {
        "duration": 20,
        "start_time": "2024-12-30T08:47:42.158Z"
      },
      {
        "duration": 2,
        "start_time": "2024-12-30T08:48:56.738Z"
      },
      {
        "duration": 1429,
        "start_time": "2024-12-30T12:52:22.692Z"
      },
      {
        "duration": 1075,
        "start_time": "2024-12-30T12:52:27.514Z"
      },
      {
        "duration": 14,
        "start_time": "2024-12-30T12:52:29.161Z"
      },
      {
        "duration": 35,
        "start_time": "2024-12-30T12:52:30.383Z"
      },
      {
        "duration": 32,
        "start_time": "2024-12-30T12:52:33.556Z"
      },
      {
        "duration": 56,
        "start_time": "2024-12-30T12:52:42.811Z"
      },
      {
        "duration": 743,
        "start_time": "2024-12-30T12:53:00.254Z"
      },
      {
        "duration": 3,
        "start_time": "2024-12-30T12:53:08.542Z"
      },
      {
        "duration": 1526,
        "start_time": "2024-12-30T13:21:48.271Z"
      },
      {
        "duration": 1041,
        "start_time": "2024-12-30T13:21:50.600Z"
      },
      {
        "duration": 14,
        "start_time": "2024-12-30T13:21:51.643Z"
      },
      {
        "duration": 41,
        "start_time": "2024-12-30T13:21:51.942Z"
      },
      {
        "duration": 2,
        "start_time": "2024-12-30T13:22:05.446Z"
      },
      {
        "duration": 35,
        "start_time": "2024-12-30T13:22:06.312Z"
      },
      {
        "duration": 42,
        "start_time": "2024-12-30T13:23:36.885Z"
      },
      {
        "duration": 4306,
        "start_time": "2024-12-30T13:23:46.848Z"
      },
      {
        "duration": 1507,
        "start_time": "2024-12-30T15:27:08.234Z"
      },
      {
        "duration": 1418,
        "start_time": "2024-12-30T15:27:11.572Z"
      },
      {
        "duration": 15,
        "start_time": "2024-12-30T15:27:13.643Z"
      },
      {
        "duration": 33,
        "start_time": "2024-12-30T15:27:14.487Z"
      },
      {
        "duration": 15,
        "start_time": "2024-12-30T15:28:27.727Z"
      },
      {
        "duration": 2,
        "start_time": "2024-12-30T15:29:15.887Z"
      },
      {
        "duration": 61,
        "start_time": "2024-12-30T15:29:27.367Z"
      },
      {
        "duration": 10,
        "start_time": "2024-12-30T15:29:33.942Z"
      },
      {
        "duration": 11,
        "start_time": "2024-12-30T15:30:00.135Z"
      },
      {
        "duration": 15,
        "start_time": "2024-12-30T15:30:05.979Z"
      },
      {
        "duration": 3,
        "start_time": "2024-12-30T15:30:26.452Z"
      },
      {
        "duration": 22,
        "start_time": "2024-12-30T15:30:39.028Z"
      },
      {
        "duration": 47,
        "start_time": "2024-12-30T15:30:39.744Z"
      },
      {
        "duration": 452,
        "start_time": "2024-12-30T15:30:52.476Z"
      },
      {
        "duration": 13781,
        "start_time": "2024-12-30T15:30:57.120Z"
      },
      {
        "duration": 13,
        "start_time": "2024-12-30T15:31:17.890Z"
      },
      {
        "duration": 418,
        "start_time": "2024-12-30T15:32:22.765Z"
      },
      {
        "duration": 4,
        "start_time": "2024-12-30T15:32:36.414Z"
      },
      {
        "duration": 7312,
        "start_time": "2024-12-30T15:32:39.364Z"
      },
      {
        "duration": 20,
        "start_time": "2024-12-30T15:32:55.289Z"
      },
      {
        "duration": 5,
        "start_time": "2024-12-30T15:33:32.704Z"
      },
      {
        "duration": 19,
        "start_time": "2024-12-30T15:33:37.926Z"
      },
      {
        "duration": 8,
        "start_time": "2024-12-30T15:34:10.894Z"
      },
      {
        "duration": 5,
        "start_time": "2024-12-30T15:34:47.122Z"
      },
      {
        "duration": 14,
        "start_time": "2024-12-30T15:34:53.328Z"
      },
      {
        "duration": 5,
        "start_time": "2024-12-30T15:35:36.455Z"
      },
      {
        "duration": 6,
        "start_time": "2024-12-30T15:35:45.616Z"
      },
      {
        "duration": 12,
        "start_time": "2024-12-30T15:36:23.629Z"
      },
      {
        "duration": 20,
        "start_time": "2024-12-30T15:36:31.027Z"
      },
      {
        "duration": 18,
        "start_time": "2024-12-30T15:36:55.798Z"
      },
      {
        "duration": 1541,
        "start_time": "2024-12-31T06:16:08.733Z"
      },
      {
        "duration": 1448,
        "start_time": "2024-12-31T06:16:10.277Z"
      },
      {
        "duration": 18,
        "start_time": "2024-12-31T06:16:11.727Z"
      },
      {
        "duration": 35,
        "start_time": "2024-12-31T06:16:11.748Z"
      },
      {
        "duration": 3,
        "start_time": "2024-12-31T06:16:12.953Z"
      },
      {
        "duration": 72,
        "start_time": "2024-12-31T06:16:13.442Z"
      },
      {
        "duration": 15,
        "start_time": "2024-12-31T06:16:15.078Z"
      },
      {
        "duration": 2,
        "start_time": "2024-12-31T06:16:16.228Z"
      },
      {
        "duration": 8,
        "start_time": "2024-12-31T06:16:17.991Z"
      },
      {
        "duration": 757,
        "start_time": "2024-12-31T06:16:18.404Z"
      },
      {
        "duration": 3,
        "start_time": "2024-12-31T06:16:21.726Z"
      },
      {
        "duration": 7249,
        "start_time": "2024-12-31T06:16:22.092Z"
      },
      {
        "duration": 7,
        "start_time": "2024-12-31T06:16:29.344Z"
      },
      {
        "duration": 17,
        "start_time": "2024-12-31T06:16:29.352Z"
      },
      {
        "duration": 9,
        "start_time": "2024-12-31T06:16:29.372Z"
      },
      {
        "duration": 8,
        "start_time": "2024-12-31T06:16:29.382Z"
      },
      {
        "duration": 5,
        "start_time": "2024-12-31T06:16:29.391Z"
      },
      {
        "duration": 17,
        "start_time": "2024-12-31T06:16:29.398Z"
      },
      {
        "duration": 18,
        "start_time": "2024-12-31T06:16:29.416Z"
      },
      {
        "duration": 17,
        "start_time": "2024-12-31T06:16:29.435Z"
      },
      {
        "duration": 19,
        "start_time": "2024-12-31T06:16:29.455Z"
      },
      {
        "duration": 4,
        "start_time": "2024-12-31T06:18:12.701Z"
      },
      {
        "duration": 2,
        "start_time": "2024-12-31T06:18:14.086Z"
      },
      {
        "duration": 3,
        "start_time": "2024-12-31T06:18:22.640Z"
      },
      {
        "duration": 1465,
        "start_time": "2024-12-31T06:18:48.926Z"
      },
      {
        "duration": 804,
        "start_time": "2024-12-31T06:19:03.879Z"
      },
      {
        "duration": 4,
        "start_time": "2024-12-31T06:19:14.914Z"
      },
      {
        "duration": 10,
        "start_time": "2024-12-31T06:19:41.626Z"
      },
      {
        "duration": 51,
        "start_time": "2024-12-31T06:19:48.207Z"
      },
      {
        "duration": 1705,
        "start_time": "2024-12-31T06:20:00.854Z"
      },
      {
        "duration": 1559,
        "start_time": "2024-12-31T06:21:09.295Z"
      },
      {
        "duration": 1400,
        "start_time": "2024-12-31T06:21:10.856Z"
      },
      {
        "duration": 15,
        "start_time": "2024-12-31T06:21:12.257Z"
      },
      {
        "duration": 51,
        "start_time": "2024-12-31T06:21:12.274Z"
      },
      {
        "duration": 5,
        "start_time": "2024-12-31T06:21:12.328Z"
      },
      {
        "duration": 101,
        "start_time": "2024-12-31T06:21:12.334Z"
      },
      {
        "duration": 21,
        "start_time": "2024-12-31T06:21:12.440Z"
      },
      {
        "duration": 5,
        "start_time": "2024-12-31T06:21:12.463Z"
      },
      {
        "duration": 11,
        "start_time": "2024-12-31T06:21:12.469Z"
      },
      {
        "duration": 781,
        "start_time": "2024-12-31T06:21:12.482Z"
      },
      {
        "duration": 3,
        "start_time": "2024-12-31T06:21:13.265Z"
      },
      {
        "duration": 7332,
        "start_time": "2024-12-31T06:21:13.269Z"
      },
      {
        "duration": 5,
        "start_time": "2024-12-31T06:21:20.603Z"
      },
      {
        "duration": 4,
        "start_time": "2024-12-31T06:21:20.612Z"
      },
      {
        "duration": 26,
        "start_time": "2024-12-31T06:21:20.618Z"
      },
      {
        "duration": 64,
        "start_time": "2024-12-31T06:21:20.647Z"
      },
      {
        "duration": 35,
        "start_time": "2024-12-31T06:21:20.713Z"
      },
      {
        "duration": 23,
        "start_time": "2024-12-31T06:21:20.751Z"
      },
      {
        "duration": 18,
        "start_time": "2024-12-31T06:21:20.775Z"
      },
      {
        "duration": 22,
        "start_time": "2024-12-31T06:21:20.795Z"
      },
      {
        "duration": 30,
        "start_time": "2024-12-31T06:21:20.818Z"
      },
      {
        "duration": 7,
        "start_time": "2024-12-31T06:21:20.851Z"
      },
      {
        "duration": 4,
        "start_time": "2024-12-31T06:21:20.859Z"
      },
      {
        "duration": 10,
        "start_time": "2024-12-31T06:21:20.864Z"
      },
      {
        "duration": 795,
        "start_time": "2024-12-31T06:21:20.876Z"
      },
      {
        "duration": 5,
        "start_time": "2024-12-31T06:21:21.673Z"
      },
      {
        "duration": 85,
        "start_time": "2024-12-31T06:21:21.680Z"
      },
      {
        "duration": 1656,
        "start_time": "2024-12-31T06:21:52.058Z"
      },
      {
        "duration": 1993,
        "start_time": "2024-12-31T06:22:05.163Z"
      },
      {
        "duration": 1566,
        "start_time": "2024-12-31T06:23:30.013Z"
      },
      {
        "duration": 1060,
        "start_time": "2024-12-31T06:23:31.581Z"
      },
      {
        "duration": 26,
        "start_time": "2024-12-31T06:23:32.643Z"
      },
      {
        "duration": 33,
        "start_time": "2024-12-31T06:23:32.671Z"
      },
      {
        "duration": 8,
        "start_time": "2024-12-31T06:23:32.706Z"
      },
      {
        "duration": 81,
        "start_time": "2024-12-31T06:23:32.716Z"
      },
      {
        "duration": 14,
        "start_time": "2024-12-31T06:23:36.304Z"
      },
      {
        "duration": 664,
        "start_time": "2024-12-31T06:24:02.862Z"
      },
      {
        "duration": 3,
        "start_time": "2024-12-31T06:30:17.520Z"
      },
      {
        "duration": 132,
        "start_time": "2024-12-31T06:30:18.190Z"
      },
      {
        "duration": 27,
        "start_time": "2024-12-31T06:30:18.978Z"
      },
      {
        "duration": 138,
        "start_time": "2024-12-31T06:30:21.484Z"
      },
      {
        "duration": 3,
        "start_time": "2024-12-31T06:30:32.088Z"
      },
      {
        "duration": 74,
        "start_time": "2024-12-31T06:30:32.611Z"
      },
      {
        "duration": 12,
        "start_time": "2024-12-31T06:30:33.158Z"
      },
      {
        "duration": 133,
        "start_time": "2024-12-31T06:30:34.280Z"
      },
      {
        "duration": 6,
        "start_time": "2024-12-31T06:30:47.844Z"
      },
      {
        "duration": 5,
        "start_time": "2024-12-31T06:30:48.372Z"
      },
      {
        "duration": 771,
        "start_time": "2024-12-31T06:30:48.915Z"
      },
      {
        "duration": 3,
        "start_time": "2024-12-31T06:30:53.167Z"
      },
      {
        "duration": 3160,
        "start_time": "2024-12-31T06:30:53.512Z"
      },
      {
        "duration": 5,
        "start_time": "2024-12-31T06:30:56.674Z"
      },
      {
        "duration": 22,
        "start_time": "2024-12-31T06:30:56.680Z"
      },
      {
        "duration": 9,
        "start_time": "2024-12-31T06:30:56.704Z"
      },
      {
        "duration": 9,
        "start_time": "2024-12-31T06:30:56.715Z"
      },
      {
        "duration": 15,
        "start_time": "2024-12-31T06:30:56.726Z"
      },
      {
        "duration": 8,
        "start_time": "2024-12-31T06:30:57.353Z"
      },
      {
        "duration": 5,
        "start_time": "2024-12-31T06:30:57.774Z"
      },
      {
        "duration": 8,
        "start_time": "2024-12-31T06:30:59.380Z"
      },
      {
        "duration": 15,
        "start_time": "2024-12-31T06:30:59.714Z"
      },
      {
        "duration": 5,
        "start_time": "2024-12-31T06:31:01.498Z"
      },
      {
        "duration": 2,
        "start_time": "2024-12-31T06:31:02.980Z"
      },
      {
        "duration": 8,
        "start_time": "2024-12-31T06:31:03.335Z"
      },
      {
        "duration": 373,
        "start_time": "2024-12-31T06:31:03.722Z"
      },
      {
        "duration": 6,
        "start_time": "2024-12-31T06:31:04.136Z"
      },
      {
        "duration": 19,
        "start_time": "2024-12-31T06:31:04.691Z"
      },
      {
        "duration": 655,
        "start_time": "2024-12-31T06:31:05.335Z"
      },
      {
        "duration": 1326,
        "start_time": "2024-12-31T06:31:07.986Z"
      },
      {
        "duration": 4007,
        "start_time": "2024-12-31T06:31:10.314Z"
      },
      {
        "duration": 31,
        "start_time": "2024-12-31T06:32:01.409Z"
      },
      {
        "duration": 1802,
        "start_time": "2024-12-31T06:33:14.924Z"
      },
      {
        "duration": 1561,
        "start_time": "2024-12-31T06:33:16.729Z"
      },
      {
        "duration": 18,
        "start_time": "2024-12-31T06:33:18.293Z"
      },
      {
        "duration": 41,
        "start_time": "2024-12-31T06:33:18.314Z"
      },
      {
        "duration": 5,
        "start_time": "2024-12-31T06:33:18.358Z"
      },
      {
        "duration": 97,
        "start_time": "2024-12-31T06:33:18.365Z"
      },
      {
        "duration": 18,
        "start_time": "2024-12-31T06:33:18.465Z"
      },
      {
        "duration": 422,
        "start_time": "2024-12-31T06:33:18.485Z"
      },
      {
        "duration": 3,
        "start_time": "2024-12-31T06:33:18.908Z"
      },
      {
        "duration": 10,
        "start_time": "2024-12-31T06:33:18.912Z"
      },
      {
        "duration": 790,
        "start_time": "2024-12-31T06:33:18.923Z"
      },
      {
        "duration": 3,
        "start_time": "2024-12-31T06:33:19.715Z"
      },
      {
        "duration": 3167,
        "start_time": "2024-12-31T06:33:19.719Z"
      },
      {
        "duration": 3,
        "start_time": "2024-12-31T06:33:22.889Z"
      },
      {
        "duration": 13,
        "start_time": "2024-12-31T06:33:22.894Z"
      },
      {
        "duration": 11,
        "start_time": "2024-12-31T06:33:22.908Z"
      },
      {
        "duration": 18,
        "start_time": "2024-12-31T06:33:22.921Z"
      },
      {
        "duration": 9,
        "start_time": "2024-12-31T06:33:22.944Z"
      },
      {
        "duration": 12,
        "start_time": "2024-12-31T06:33:22.956Z"
      },
      {
        "duration": 4,
        "start_time": "2024-12-31T06:33:22.970Z"
      },
      {
        "duration": 8,
        "start_time": "2024-12-31T06:33:22.976Z"
      },
      {
        "duration": 33,
        "start_time": "2024-12-31T06:33:22.985Z"
      },
      {
        "duration": 12,
        "start_time": "2024-12-31T06:33:23.020Z"
      },
      {
        "duration": 20,
        "start_time": "2024-12-31T06:33:23.033Z"
      },
      {
        "duration": 13,
        "start_time": "2024-12-31T06:33:23.055Z"
      },
      {
        "duration": 340,
        "start_time": "2024-12-31T06:33:23.069Z"
      },
      {
        "duration": 4,
        "start_time": "2024-12-31T06:33:23.410Z"
      },
      {
        "duration": 45,
        "start_time": "2024-12-31T06:33:23.415Z"
      },
      {
        "duration": 565,
        "start_time": "2024-12-31T06:33:23.463Z"
      },
      {
        "duration": 1269,
        "start_time": "2024-12-31T06:33:24.030Z"
      },
      {
        "duration": 2982,
        "start_time": "2024-12-31T06:33:25.300Z"
      },
      {
        "duration": 35,
        "start_time": "2024-12-31T06:33:28.284Z"
      },
      {
        "duration": 1625,
        "start_time": "2024-12-31T06:33:58.069Z"
      },
      {
        "duration": 1363,
        "start_time": "2024-12-31T06:33:59.695Z"
      },
      {
        "duration": 14,
        "start_time": "2024-12-31T06:34:01.059Z"
      },
      {
        "duration": 38,
        "start_time": "2024-12-31T06:34:01.075Z"
      },
      {
        "duration": 3,
        "start_time": "2024-12-31T06:34:01.116Z"
      },
      {
        "duration": 79,
        "start_time": "2024-12-31T06:34:01.121Z"
      },
      {
        "duration": 11,
        "start_time": "2024-12-31T06:34:01.202Z"
      },
      {
        "duration": 386,
        "start_time": "2024-12-31T06:34:01.214Z"
      },
      {
        "duration": 3,
        "start_time": "2024-12-31T06:34:01.602Z"
      },
      {
        "duration": 21,
        "start_time": "2024-12-31T06:34:01.606Z"
      },
      {
        "duration": 751,
        "start_time": "2024-12-31T06:34:01.629Z"
      },
      {
        "duration": 3,
        "start_time": "2024-12-31T06:34:02.382Z"
      },
      {
        "duration": 2403,
        "start_time": "2024-12-31T06:34:02.386Z"
      },
      {
        "duration": 4,
        "start_time": "2024-12-31T06:34:04.791Z"
      },
      {
        "duration": 21,
        "start_time": "2024-12-31T06:34:04.797Z"
      },
      {
        "duration": 13,
        "start_time": "2024-12-31T06:34:04.819Z"
      },
      {
        "duration": 41,
        "start_time": "2024-12-31T06:34:04.833Z"
      },
      {
        "duration": 12,
        "start_time": "2024-12-31T06:34:04.876Z"
      },
      {
        "duration": 8,
        "start_time": "2024-12-31T06:34:04.889Z"
      },
      {
        "duration": 13,
        "start_time": "2024-12-31T06:34:04.899Z"
      },
      {
        "duration": 9,
        "start_time": "2024-12-31T06:34:04.914Z"
      },
      {
        "duration": 25,
        "start_time": "2024-12-31T06:34:04.924Z"
      },
      {
        "duration": 29,
        "start_time": "2024-12-31T06:34:04.951Z"
      },
      {
        "duration": 9,
        "start_time": "2024-12-31T06:34:04.981Z"
      },
      {
        "duration": 3,
        "start_time": "2024-12-31T06:34:04.992Z"
      },
      {
        "duration": 261,
        "start_time": "2024-12-31T06:34:04.996Z"
      },
      {
        "duration": 4,
        "start_time": "2024-12-31T06:34:05.258Z"
      },
      {
        "duration": 16,
        "start_time": "2024-12-31T06:34:05.263Z"
      },
      {
        "duration": 468,
        "start_time": "2024-12-31T06:34:05.280Z"
      },
      {
        "duration": 994,
        "start_time": "2024-12-31T06:34:05.750Z"
      },
      {
        "duration": 2115,
        "start_time": "2024-12-31T06:34:06.746Z"
      },
      {
        "duration": 25,
        "start_time": "2024-12-31T06:34:08.863Z"
      },
      {
        "duration": 1018,
        "start_time": "2024-12-31T06:34:08.890Z"
      },
      {
        "duration": 7,
        "start_time": "2024-12-31T06:34:26.907Z"
      },
      {
        "duration": 1697,
        "start_time": "2024-12-31T06:34:42.228Z"
      },
      {
        "duration": 11,
        "start_time": "2024-12-31T06:35:40.170Z"
      },
      {
        "duration": 1513,
        "start_time": "2024-12-31T06:36:57.354Z"
      },
      {
        "duration": 1364,
        "start_time": "2024-12-31T06:36:58.869Z"
      },
      {
        "duration": 21,
        "start_time": "2024-12-31T06:37:00.235Z"
      },
      {
        "duration": 70,
        "start_time": "2024-12-31T06:37:00.259Z"
      },
      {
        "duration": 20,
        "start_time": "2024-12-31T06:37:00.330Z"
      },
      {
        "duration": 75,
        "start_time": "2024-12-31T06:37:00.352Z"
      },
      {
        "duration": 14,
        "start_time": "2024-12-31T06:37:00.429Z"
      },
      {
        "duration": 458,
        "start_time": "2024-12-31T06:37:00.445Z"
      },
      {
        "duration": 2,
        "start_time": "2024-12-31T06:37:00.905Z"
      },
      {
        "duration": 10,
        "start_time": "2024-12-31T06:37:00.910Z"
      },
      {
        "duration": 767,
        "start_time": "2024-12-31T06:37:00.921Z"
      },
      {
        "duration": 3,
        "start_time": "2024-12-31T06:37:01.690Z"
      },
      {
        "duration": 2487,
        "start_time": "2024-12-31T06:37:01.694Z"
      },
      {
        "duration": 4,
        "start_time": "2024-12-31T06:37:04.182Z"
      },
      {
        "duration": 64,
        "start_time": "2024-12-31T06:37:04.188Z"
      },
      {
        "duration": 19,
        "start_time": "2024-12-31T06:37:04.254Z"
      },
      {
        "duration": 9,
        "start_time": "2024-12-31T06:37:04.275Z"
      },
      {
        "duration": 3,
        "start_time": "2024-12-31T06:37:04.286Z"
      },
      {
        "duration": 11,
        "start_time": "2024-12-31T06:37:04.291Z"
      },
      {
        "duration": 13,
        "start_time": "2024-12-31T06:37:04.303Z"
      },
      {
        "duration": 10,
        "start_time": "2024-12-31T06:37:04.318Z"
      },
      {
        "duration": 36,
        "start_time": "2024-12-31T06:37:04.330Z"
      },
      {
        "duration": 10,
        "start_time": "2024-12-31T06:37:04.368Z"
      },
      {
        "duration": 6,
        "start_time": "2024-12-31T06:37:04.379Z"
      },
      {
        "duration": 9,
        "start_time": "2024-12-31T06:37:04.386Z"
      },
      {
        "duration": 280,
        "start_time": "2024-12-31T06:37:04.396Z"
      },
      {
        "duration": 5,
        "start_time": "2024-12-31T06:37:04.677Z"
      },
      {
        "duration": 33,
        "start_time": "2024-12-31T06:37:04.686Z"
      },
      {
        "duration": 450,
        "start_time": "2024-12-31T06:37:04.721Z"
      },
      {
        "duration": 1011,
        "start_time": "2024-12-31T06:37:05.173Z"
      },
      {
        "duration": 2107,
        "start_time": "2024-12-31T06:37:06.186Z"
      },
      {
        "duration": 26,
        "start_time": "2024-12-31T06:37:08.295Z"
      },
      {
        "duration": 1019,
        "start_time": "2024-12-31T06:37:08.323Z"
      },
      {
        "duration": 3,
        "start_time": "2024-12-31T06:37:12.902Z"
      },
      {
        "duration": 10,
        "start_time": "2024-12-31T06:37:13.909Z"
      },
      {
        "duration": 6,
        "start_time": "2024-12-31T06:39:28.250Z"
      },
      {
        "duration": 904,
        "start_time": "2024-12-31T06:39:28.259Z"
      },
      {
        "duration": 7,
        "start_time": "2024-12-31T06:39:29.165Z"
      },
      {
        "duration": 33,
        "start_time": "2024-12-31T06:39:29.173Z"
      },
      {
        "duration": 6,
        "start_time": "2024-12-31T06:39:29.209Z"
      },
      {
        "duration": 98,
        "start_time": "2024-12-31T06:39:29.217Z"
      },
      {
        "duration": 28,
        "start_time": "2024-12-31T06:39:29.317Z"
      },
      {
        "duration": 133,
        "start_time": "2024-12-31T06:39:29.346Z"
      },
      {
        "duration": 20,
        "start_time": "2024-12-31T06:39:29.480Z"
      },
      {
        "duration": 5,
        "start_time": "2024-12-31T06:39:29.502Z"
      },
      {
        "duration": 741,
        "start_time": "2024-12-31T06:39:29.508Z"
      },
      {
        "duration": 4,
        "start_time": "2024-12-31T06:39:30.252Z"
      },
      {
        "duration": 2260,
        "start_time": "2024-12-31T06:39:30.257Z"
      },
      {
        "duration": 5,
        "start_time": "2024-12-31T06:39:32.519Z"
      },
      {
        "duration": 79,
        "start_time": "2024-12-31T06:39:32.537Z"
      },
      {
        "duration": 45,
        "start_time": "2024-12-31T06:39:32.618Z"
      },
      {
        "duration": 38,
        "start_time": "2024-12-31T06:39:32.665Z"
      },
      {
        "duration": 53,
        "start_time": "2024-12-31T06:39:32.705Z"
      },
      {
        "duration": 47,
        "start_time": "2024-12-31T06:39:32.760Z"
      },
      {
        "duration": 53,
        "start_time": "2024-12-31T06:39:32.809Z"
      },
      {
        "duration": 26,
        "start_time": "2024-12-31T06:39:32.864Z"
      },
      {
        "duration": 8,
        "start_time": "2024-12-31T06:39:36.198Z"
      },
      {
        "duration": 13,
        "start_time": "2024-12-31T06:39:38.964Z"
      },
      {
        "duration": 3,
        "start_time": "2024-12-31T06:39:40.554Z"
      },
      {
        "duration": 2,
        "start_time": "2024-12-31T06:39:41.002Z"
      },
      {
        "duration": 4,
        "start_time": "2024-12-31T06:39:42.742Z"
      },
      {
        "duration": 235,
        "start_time": "2024-12-31T06:39:43.142Z"
      },
      {
        "duration": 4,
        "start_time": "2024-12-31T06:39:43.562Z"
      },
      {
        "duration": 15,
        "start_time": "2024-12-31T06:39:44.098Z"
      },
      {
        "duration": 457,
        "start_time": "2024-12-31T06:39:44.562Z"
      },
      {
        "duration": 886,
        "start_time": "2024-12-31T06:39:46.268Z"
      },
      {
        "duration": 2039,
        "start_time": "2024-12-31T06:39:47.156Z"
      },
      {
        "duration": 23,
        "start_time": "2024-12-31T06:39:49.197Z"
      },
      {
        "duration": 1521,
        "start_time": "2024-12-31T06:40:15.853Z"
      },
      {
        "duration": 1314,
        "start_time": "2024-12-31T06:40:17.376Z"
      },
      {
        "duration": 15,
        "start_time": "2024-12-31T06:40:18.691Z"
      },
      {
        "duration": 35,
        "start_time": "2024-12-31T06:40:18.708Z"
      },
      {
        "duration": 3,
        "start_time": "2024-12-31T06:40:18.745Z"
      },
      {
        "duration": 63,
        "start_time": "2024-12-31T06:40:18.749Z"
      },
      {
        "duration": 23,
        "start_time": "2024-12-31T06:40:18.814Z"
      },
      {
        "duration": 334,
        "start_time": "2024-12-31T06:40:18.838Z"
      },
      {
        "duration": 2,
        "start_time": "2024-12-31T06:40:19.174Z"
      },
      {
        "duration": 6,
        "start_time": "2024-12-31T06:40:19.178Z"
      },
      {
        "duration": 704,
        "start_time": "2024-12-31T06:40:19.185Z"
      },
      {
        "duration": 3,
        "start_time": "2024-12-31T06:40:19.892Z"
      },
      {
        "duration": 2160,
        "start_time": "2024-12-31T06:40:19.896Z"
      },
      {
        "duration": 4,
        "start_time": "2024-12-31T06:40:22.059Z"
      },
      {
        "duration": 11,
        "start_time": "2024-12-31T06:40:22.065Z"
      },
      {
        "duration": 8,
        "start_time": "2024-12-31T06:40:22.078Z"
      },
      {
        "duration": 9,
        "start_time": "2024-12-31T06:40:22.088Z"
      },
      {
        "duration": 3,
        "start_time": "2024-12-31T06:40:22.098Z"
      },
      {
        "duration": 7,
        "start_time": "2024-12-31T06:40:22.103Z"
      },
      {
        "duration": 28,
        "start_time": "2024-12-31T06:40:22.112Z"
      },
      {
        "duration": 6,
        "start_time": "2024-12-31T06:40:22.141Z"
      },
      {
        "duration": 7,
        "start_time": "2024-12-31T06:40:22.148Z"
      },
      {
        "duration": 12,
        "start_time": "2024-12-31T06:40:22.156Z"
      },
      {
        "duration": 4,
        "start_time": "2024-12-31T06:40:22.169Z"
      },
      {
        "duration": 5,
        "start_time": "2024-12-31T06:40:22.175Z"
      },
      {
        "duration": 4,
        "start_time": "2024-12-31T06:40:22.181Z"
      },
      {
        "duration": 264,
        "start_time": "2024-12-31T06:40:22.186Z"
      },
      {
        "duration": 4,
        "start_time": "2024-12-31T06:40:22.452Z"
      },
      {
        "duration": 47,
        "start_time": "2024-12-31T06:40:22.457Z"
      },
      {
        "duration": 442,
        "start_time": "2024-12-31T06:40:22.506Z"
      },
      {
        "duration": 889,
        "start_time": "2024-12-31T06:40:22.949Z"
      },
      {
        "duration": 1937,
        "start_time": "2024-12-31T06:40:23.840Z"
      },
      {
        "duration": 23,
        "start_time": "2024-12-31T06:40:25.779Z"
      },
      {
        "duration": 939,
        "start_time": "2024-12-31T06:40:25.803Z"
      },
      {
        "duration": 3,
        "start_time": "2024-12-31T06:40:26.743Z"
      },
      {
        "duration": 3,
        "start_time": "2024-12-31T06:40:34.337Z"
      },
      {
        "duration": 5,
        "start_time": "2024-12-31T06:40:34.862Z"
      },
      {
        "duration": 19682,
        "start_time": "2024-12-31T06:40:37.562Z"
      },
      {
        "duration": 123,
        "start_time": "2024-12-31T06:41:09.331Z"
      },
      {
        "duration": 6,
        "start_time": "2024-12-31T06:42:08.847Z"
      },
      {
        "duration": 6,
        "start_time": "2024-12-31T06:42:14.690Z"
      },
      {
        "duration": 1548,
        "start_time": "2024-12-31T06:44:16.859Z"
      },
      {
        "duration": 954,
        "start_time": "2024-12-31T06:44:18.409Z"
      },
      {
        "duration": 14,
        "start_time": "2024-12-31T06:44:19.364Z"
      },
      {
        "duration": 33,
        "start_time": "2024-12-31T06:44:19.380Z"
      },
      {
        "duration": 3,
        "start_time": "2024-12-31T06:44:19.415Z"
      },
      {
        "duration": 61,
        "start_time": "2024-12-31T06:44:19.437Z"
      },
      {
        "duration": 11,
        "start_time": "2024-12-31T06:44:19.500Z"
      },
      {
        "duration": 340,
        "start_time": "2024-12-31T06:44:19.513Z"
      },
      {
        "duration": 3,
        "start_time": "2024-12-31T06:44:19.855Z"
      },
      {
        "duration": 22,
        "start_time": "2024-12-31T06:44:19.859Z"
      },
      {
        "duration": 722,
        "start_time": "2024-12-31T06:44:19.883Z"
      },
      {
        "duration": 3,
        "start_time": "2024-12-31T06:44:20.607Z"
      },
      {
        "duration": 2151,
        "start_time": "2024-12-31T06:44:20.611Z"
      },
      {
        "duration": 4,
        "start_time": "2024-12-31T06:44:22.765Z"
      },
      {
        "duration": 5,
        "start_time": "2024-12-31T06:44:22.771Z"
      },
      {
        "duration": 8,
        "start_time": "2024-12-31T06:44:22.777Z"
      },
      {
        "duration": 14,
        "start_time": "2024-12-31T06:44:22.786Z"
      },
      {
        "duration": 18,
        "start_time": "2024-12-31T06:44:22.802Z"
      },
      {
        "duration": 25,
        "start_time": "2024-12-31T06:44:22.822Z"
      },
      {
        "duration": 16,
        "start_time": "2024-12-31T06:44:22.848Z"
      },
      {
        "duration": 17,
        "start_time": "2024-12-31T06:44:22.866Z"
      },
      {
        "duration": 15,
        "start_time": "2024-12-31T06:44:22.885Z"
      },
      {
        "duration": 16,
        "start_time": "2024-12-31T06:44:22.902Z"
      },
      {
        "duration": 11,
        "start_time": "2024-12-31T06:44:22.919Z"
      },
      {
        "duration": 10,
        "start_time": "2024-12-31T06:44:22.931Z"
      },
      {
        "duration": 3,
        "start_time": "2024-12-31T06:44:22.942Z"
      },
      {
        "duration": 237,
        "start_time": "2024-12-31T06:44:22.947Z"
      },
      {
        "duration": 4,
        "start_time": "2024-12-31T06:44:23.185Z"
      },
      {
        "duration": 23,
        "start_time": "2024-12-31T06:44:23.190Z"
      },
      {
        "duration": 423,
        "start_time": "2024-12-31T06:44:23.214Z"
      },
      {
        "duration": 895,
        "start_time": "2024-12-31T06:44:23.639Z"
      },
      {
        "duration": 1929,
        "start_time": "2024-12-31T06:44:24.536Z"
      },
      {
        "duration": 25,
        "start_time": "2024-12-31T06:44:26.467Z"
      },
      {
        "duration": 954,
        "start_time": "2024-12-31T06:44:26.494Z"
      },
      {
        "duration": 2,
        "start_time": "2024-12-31T06:44:27.450Z"
      },
      {
        "duration": 13,
        "start_time": "2024-12-31T06:44:27.453Z"
      },
      {
        "duration": 17577,
        "start_time": "2024-12-31T06:44:27.467Z"
      },
      {
        "duration": 297,
        "start_time": "2024-12-31T06:44:45.046Z"
      },
      {
        "duration": 98,
        "start_time": "2024-12-31T06:44:45.345Z"
      },
      {
        "duration": 2718,
        "start_time": "2024-12-31T15:19:29.429Z"
      },
      {
        "duration": 1207,
        "start_time": "2024-12-31T15:19:57.696Z"
      },
      {
        "duration": 14,
        "start_time": "2024-12-31T15:19:59.415Z"
      },
      {
        "duration": 35,
        "start_time": "2024-12-31T15:20:00.009Z"
      },
      {
        "duration": 2,
        "start_time": "2024-12-31T15:20:02.367Z"
      },
      {
        "duration": 60,
        "start_time": "2024-12-31T15:20:04.269Z"
      },
      {
        "duration": 12,
        "start_time": "2024-12-31T15:20:05.328Z"
      },
      {
        "duration": 522,
        "start_time": "2024-12-31T15:20:07.019Z"
      },
      {
        "duration": 9414,
        "start_time": "2024-12-31T15:20:08.134Z"
      },
      {
        "duration": 5,
        "start_time": "2024-12-31T15:20:33.711Z"
      },
      {
        "duration": 8534,
        "start_time": "2024-12-31T15:20:37.113Z"
      },
      {
        "duration": 2634,
        "start_time": "2024-12-31T15:21:04.831Z"
      },
      {
        "duration": 51,
        "start_time": "2024-12-31T15:21:29.674Z"
      },
      {
        "duration": 237,
        "start_time": "2024-12-31T15:35:56.123Z"
      },
      {
        "duration": 3,
        "start_time": "2024-12-31T15:36:05.674Z"
      },
      {
        "duration": 7277,
        "start_time": "2024-12-31T15:36:28.504Z"
      },
      {
        "duration": 299,
        "start_time": "2024-12-31T15:36:45.912Z"
      },
      {
        "duration": 15,
        "start_time": "2024-12-31T15:36:55.760Z"
      },
      {
        "duration": 2711,
        "start_time": "2024-12-31T15:37:25.095Z"
      },
      {
        "duration": 1207,
        "start_time": "2024-12-31T15:37:27.807Z"
      },
      {
        "duration": 13,
        "start_time": "2024-12-31T15:37:29.016Z"
      },
      {
        "duration": 34,
        "start_time": "2024-12-31T15:37:29.032Z"
      },
      {
        "duration": 2,
        "start_time": "2024-12-31T15:37:29.068Z"
      },
      {
        "duration": 81,
        "start_time": "2024-12-31T15:37:29.072Z"
      },
      {
        "duration": 12,
        "start_time": "2024-12-31T15:37:29.154Z"
      },
      {
        "duration": 343,
        "start_time": "2024-12-31T15:37:29.167Z"
      },
      {
        "duration": 1804,
        "start_time": "2024-12-31T15:37:29.511Z"
      },
      {
        "duration": 3,
        "start_time": "2024-12-31T15:37:31.318Z"
      },
      {
        "duration": 7259,
        "start_time": "2024-12-31T15:37:31.323Z"
      },
      {
        "duration": 250,
        "start_time": "2024-12-31T15:37:38.584Z"
      },
      {
        "duration": 34,
        "start_time": "2024-12-31T15:37:38.835Z"
      },
      {
        "duration": 5124,
        "start_time": "2024-12-31T15:37:41.538Z"
      },
      {
        "duration": 2737,
        "start_time": "2024-12-31T15:38:27.674Z"
      },
      {
        "duration": 1225,
        "start_time": "2024-12-31T15:38:30.413Z"
      },
      {
        "duration": 14,
        "start_time": "2024-12-31T15:38:31.639Z"
      },
      {
        "duration": 52,
        "start_time": "2024-12-31T15:38:31.654Z"
      },
      {
        "duration": 2,
        "start_time": "2024-12-31T15:38:31.709Z"
      },
      {
        "duration": 69,
        "start_time": "2024-12-31T15:38:31.713Z"
      },
      {
        "duration": 11,
        "start_time": "2024-12-31T15:38:31.783Z"
      },
      {
        "duration": 376,
        "start_time": "2024-12-31T15:38:31.796Z"
      },
      {
        "duration": 1805,
        "start_time": "2024-12-31T15:38:32.175Z"
      },
      {
        "duration": 2,
        "start_time": "2024-12-31T15:38:33.982Z"
      },
      {
        "duration": 713,
        "start_time": "2024-12-31T15:38:33.986Z"
      },
      {
        "duration": 31,
        "start_time": "2024-12-31T15:38:34.700Z"
      },
      {
        "duration": 7,
        "start_time": "2024-12-31T15:38:34.732Z"
      },
      {
        "duration": 4850,
        "start_time": "2024-12-31T15:38:34.741Z"
      },
      {
        "duration": 51,
        "start_time": "2024-12-31T15:38:47.527Z"
      },
      {
        "duration": 2720,
        "start_time": "2024-12-31T15:38:55.148Z"
      },
      {
        "duration": 1204,
        "start_time": "2024-12-31T15:38:57.870Z"
      },
      {
        "duration": 15,
        "start_time": "2024-12-31T15:38:59.075Z"
      },
      {
        "duration": 38,
        "start_time": "2024-12-31T15:38:59.092Z"
      },
      {
        "duration": 4,
        "start_time": "2024-12-31T15:38:59.132Z"
      },
      {
        "duration": 78,
        "start_time": "2024-12-31T15:38:59.138Z"
      },
      {
        "duration": 11,
        "start_time": "2024-12-31T15:38:59.218Z"
      },
      {
        "duration": 376,
        "start_time": "2024-12-31T15:38:59.230Z"
      },
      {
        "duration": 1828,
        "start_time": "2024-12-31T15:38:59.607Z"
      },
      {
        "duration": 3,
        "start_time": "2024-12-31T15:39:01.436Z"
      },
      {
        "duration": 746,
        "start_time": "2024-12-31T15:39:01.440Z"
      },
      {
        "duration": 24,
        "start_time": "2024-12-31T15:39:02.188Z"
      },
      {
        "duration": 133,
        "start_time": "2024-12-31T15:39:02.214Z"
      },
      {
        "duration": 4955,
        "start_time": "2024-12-31T15:39:02.350Z"
      },
      {
        "duration": 2662,
        "start_time": "2024-12-31T15:39:21.049Z"
      },
      {
        "duration": 1212,
        "start_time": "2024-12-31T15:39:23.714Z"
      },
      {
        "duration": 14,
        "start_time": "2024-12-31T15:39:24.928Z"
      },
      {
        "duration": 34,
        "start_time": "2024-12-31T15:39:24.944Z"
      },
      {
        "duration": 4,
        "start_time": "2024-12-31T15:39:24.979Z"
      },
      {
        "duration": 80,
        "start_time": "2024-12-31T15:39:24.985Z"
      },
      {
        "duration": 11,
        "start_time": "2024-12-31T15:39:25.067Z"
      },
      {
        "duration": 340,
        "start_time": "2024-12-31T15:39:25.079Z"
      },
      {
        "duration": 1837,
        "start_time": "2024-12-31T15:39:25.421Z"
      },
      {
        "duration": 3,
        "start_time": "2024-12-31T15:39:27.260Z"
      },
      {
        "duration": 734,
        "start_time": "2024-12-31T15:39:27.264Z"
      },
      {
        "duration": 9,
        "start_time": "2024-12-31T15:39:28.000Z"
      },
      {
        "duration": 18,
        "start_time": "2024-12-31T15:39:28.010Z"
      },
      {
        "duration": 4926,
        "start_time": "2024-12-31T15:39:28.030Z"
      },
      {
        "duration": 199472,
        "start_time": "2024-12-31T15:39:32.958Z"
      },
      {
        "duration": 4,
        "start_time": "2024-12-31T15:43:05.953Z"
      },
      {
        "duration": 3,
        "start_time": "2024-12-31T15:43:21.888Z"
      },
      {
        "duration": 8,
        "start_time": "2024-12-31T15:43:44.220Z"
      },
      {
        "duration": 23,
        "start_time": "2024-12-31T15:44:11.528Z"
      },
      {
        "duration": 11,
        "start_time": "2024-12-31T15:45:11.938Z"
      },
      {
        "duration": 32,
        "start_time": "2024-12-31T15:45:27.732Z"
      },
      {
        "duration": 328,
        "start_time": "2024-12-31T15:45:41.304Z"
      },
      {
        "duration": 4,
        "start_time": "2024-12-31T15:46:20.956Z"
      },
      {
        "duration": 27,
        "start_time": "2024-12-31T15:46:21.471Z"
      },
      {
        "duration": 9,
        "start_time": "2024-12-31T15:46:24.379Z"
      },
      {
        "duration": 3,
        "start_time": "2024-12-31T15:46:25.354Z"
      },
      {
        "duration": 76,
        "start_time": "2024-12-31T15:46:26.056Z"
      },
      {
        "duration": 9,
        "start_time": "2024-12-31T15:46:38.540Z"
      },
      {
        "duration": 6,
        "start_time": "2024-12-31T15:46:53.294Z"
      }
    ],
    "colab": {
      "provenance": []
    },
    "kernelspec": {
      "display_name": "Python 3 (ipykernel)",
      "language": "python",
      "name": "python3"
    },
    "language_info": {
      "codemirror_mode": {
        "name": "ipython",
        "version": 3
      },
      "file_extension": ".py",
      "mimetype": "text/x-python",
      "name": "python",
      "nbconvert_exporter": "python",
      "pygments_lexer": "ipython3",
      "version": "3.9.5"
    },
    "toc": {
      "base_numbering": 1,
      "nav_menu": {},
      "number_sections": true,
      "sideBar": true,
      "skip_h1_title": true,
      "title_cell": "Содержание",
      "title_sidebar": "Contents",
      "toc_cell": true,
      "toc_position": {
        "height": "calc(100% - 180px)",
        "left": "10px",
        "top": "150px",
        "width": "302.391px"
      },
      "toc_section_display": true,
      "toc_window_display": false
    }
  },
  "nbformat": 4,
  "nbformat_minor": 0
}