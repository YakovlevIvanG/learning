{
 "cells": [
  {
   "cell_type": "markdown",
   "metadata": {},
   "source": [
    "# Компания «ГлавРосГосНефть»: выбор скважин для разработки\n",
    "##  Введение\n",
    "**Цель работы:**\n",
    "Определить в каком из регионов прибыль от разработки нефтяных скважин будет наибольшая.\n",
    "\n",
    "**Задачи, направленные для достижения цели:**\n",
    "1. Построить модель и оценить её качество. Проанализировать модель.\n",
    "2. На основании предоставленных данных и прогноза модели отобрать в каждом регионе 500 скважин для разработки.\n",
    "3. Посчитать прибыль в каждом регионе и определить наиболее оптимальный.\n",
    "\n",
    "**План работы:**\n",
    "\n",
    "1. Загрузить данные.\n",
    "2. Проверить данные на наличие пропусков и дубликатов.\n",
    "3. Сформировать и обучить модель для прогноза запасов в каждой скважине.\n",
    "4. Проверить качество работы модели по метрике RMSE.\n",
    "5. Отобрать 500 скважин в каждом регионе с наибольшим запасом сырья.\n",
    "6. Посчитать прибыль в каждом регионе методом Bootstrap, формируя выборки по 200 скважин.\n",
    "7. Сделать выводы о наиболее оптимальном регионе для разработки.\n",
    "\n",
    "**Описание предоставленных данных**\n",
    "Предоставлено 3 таблицы с данными геологоразведки трёх регионов:\n",
    "- geo_data_0.csv;\n",
    "- geo_data_1.csv;\n",
    "- geo_data_2.csv.\n",
    "В каждой таблице присутствуют следующие столбцы:\n",
    "- id — уникальный идентификатор скважины;\n",
    "- f0, f1, f2 — три геологических признака скважины;\n",
    "- product — объём запасов в скважине (тыс. баррелей).\n",
    "\n",
    "**Пояснение к работе**\n",
    "- При разведке региона исследуют 500 точек, из которых выбирают 200 лучших для разработки.\n",
    "- Бюджет на разработку скважин в регионе — 10 млрд рублей.\n",
    "- При нынешних ценах один баррель сырья приносит 450 рублей дохода. Доход с каждой единицы продукта в скважине составляет 450 тыс. рублей, поскольку объём указан в тысячах баррелей.\n",
    "- После оценки рисков нужно оставить лишь те регионы, в которых вероятность убытков меньше 2.5%. Среди них выбирают регион с наибольшей средней прибылью.\n",
    "- Данные синтетические: детали контрактов, характеристики месторождений, стоимости сырья и разработки не разглашаются."
   ]
  },
  {
   "cell_type": "markdown",
   "metadata": {},
   "source": [
    "## Загрузка и подготовка данных"
   ]
  },
  {
   "cell_type": "markdown",
   "metadata": {},
   "source": [
    "### Библиотеки"
   ]
  },
  {
   "cell_type": "markdown",
   "metadata": {},
   "source": [
    "Установим нужные библиотеки и загрузим их."
   ]
  },
  {
   "cell_type": "code",
   "execution_count": 3,
   "metadata": {},
   "outputs": [
    {
     "name": "stdout",
     "output_type": "stream",
     "text": [
      "Requirement already satisfied: shap in f:\\anakonda\\lib\\site-packages (0.46.0)\n",
      "Requirement already satisfied: numpy in f:\\anakonda\\lib\\site-packages (from shap) (1.24.3)\n",
      "Requirement already satisfied: scipy in f:\\anakonda\\lib\\site-packages (from shap) (1.11.1)\n",
      "Requirement already satisfied: scikit-learn in f:\\anakonda\\lib\\site-packages (from shap) (1.3.0)\n",
      "Requirement already satisfied: pandas in f:\\anakonda\\lib\\site-packages (from shap) (2.0.3)\n",
      "Requirement already satisfied: tqdm>=4.27.0 in f:\\anakonda\\lib\\site-packages (from shap) (4.65.0)\n",
      "Requirement already satisfied: packaging>20.9 in f:\\anakonda\\lib\\site-packages (from shap) (23.1)\n",
      "Requirement already satisfied: slicer==0.0.8 in f:\\anakonda\\lib\\site-packages (from shap) (0.0.8)\n",
      "Requirement already satisfied: numba in f:\\anakonda\\lib\\site-packages (from shap) (0.57.1)\n",
      "Requirement already satisfied: cloudpickle in f:\\anakonda\\lib\\site-packages (from shap) (2.2.1)\n",
      "Requirement already satisfied: colorama in f:\\anakonda\\lib\\site-packages (from tqdm>=4.27.0->shap) (0.4.6)\n",
      "Requirement already satisfied: llvmlite<0.41,>=0.40.0dev0 in f:\\anakonda\\lib\\site-packages (from numba->shap) (0.40.0)\n",
      "Requirement already satisfied: python-dateutil>=2.8.2 in f:\\anakonda\\lib\\site-packages (from pandas->shap) (2.8.2)\n",
      "Requirement already satisfied: pytz>=2020.1 in f:\\anakonda\\lib\\site-packages (from pandas->shap) (2023.3.post1)\n",
      "Requirement already satisfied: tzdata>=2022.1 in f:\\anakonda\\lib\\site-packages (from pandas->shap) (2023.3)\n",
      "Requirement already satisfied: joblib>=1.1.1 in f:\\anakonda\\lib\\site-packages (from scikit-learn->shap) (1.2.0)\n",
      "Requirement already satisfied: threadpoolctl>=2.0.0 in f:\\anakonda\\lib\\site-packages (from scikit-learn->shap) (2.2.0)\n",
      "Requirement already satisfied: six>=1.5 in f:\\anakonda\\lib\\site-packages (from python-dateutil>=2.8.2->pandas->shap) (1.16.0)\n",
      "Requirement already satisfied: phik in f:\\anakonda\\lib\\site-packages (0.12.4)\n",
      "Requirement already satisfied: numpy>=1.18.0 in f:\\anakonda\\lib\\site-packages (from phik) (1.24.3)\n",
      "Requirement already satisfied: scipy>=1.5.2 in f:\\anakonda\\lib\\site-packages (from phik) (1.11.1)\n",
      "Requirement already satisfied: pandas>=0.25.1 in f:\\anakonda\\lib\\site-packages (from phik) (2.0.3)\n",
      "Requirement already satisfied: matplotlib>=2.2.3 in f:\\anakonda\\lib\\site-packages (from phik) (3.7.2)\n",
      "Requirement already satisfied: joblib>=0.14.1 in f:\\anakonda\\lib\\site-packages (from phik) (1.2.0)\n",
      "Requirement already satisfied: contourpy>=1.0.1 in f:\\anakonda\\lib\\site-packages (from matplotlib>=2.2.3->phik) (1.0.5)\n",
      "Requirement already satisfied: cycler>=0.10 in f:\\anakonda\\lib\\site-packages (from matplotlib>=2.2.3->phik) (0.11.0)\n",
      "Requirement already satisfied: fonttools>=4.22.0 in f:\\anakonda\\lib\\site-packages (from matplotlib>=2.2.3->phik) (4.25.0)\n",
      "Requirement already satisfied: kiwisolver>=1.0.1 in f:\\anakonda\\lib\\site-packages (from matplotlib>=2.2.3->phik) (1.4.4)\n",
      "Requirement already satisfied: packaging>=20.0 in f:\\anakonda\\lib\\site-packages (from matplotlib>=2.2.3->phik) (23.1)\n",
      "Requirement already satisfied: pillow>=6.2.0 in f:\\anakonda\\lib\\site-packages (from matplotlib>=2.2.3->phik) (9.4.0)\n",
      "Requirement already satisfied: pyparsing<3.1,>=2.3.1 in f:\\anakonda\\lib\\site-packages (from matplotlib>=2.2.3->phik) (3.0.9)\n",
      "Requirement already satisfied: python-dateutil>=2.7 in f:\\anakonda\\lib\\site-packages (from matplotlib>=2.2.3->phik) (2.8.2)\n",
      "Requirement already satisfied: pytz>=2020.1 in f:\\anakonda\\lib\\site-packages (from pandas>=0.25.1->phik) (2023.3.post1)\n",
      "Requirement already satisfied: tzdata>=2022.1 in f:\\anakonda\\lib\\site-packages (from pandas>=0.25.1->phik) (2023.3)\n",
      "Requirement already satisfied: six>=1.5 in f:\\anakonda\\lib\\site-packages (from python-dateutil>=2.7->matplotlib>=2.2.3->phik) (1.16.0)\n"
     ]
    }
   ],
   "source": [
    "!pip install shap\n",
    "!pip install phik"
   ]
  },
  {
   "cell_type": "code",
   "execution_count": 4,
   "metadata": {},
   "outputs": [],
   "source": [
    "# Общие библиотеки\n",
    "import pandas as pd\n",
    "import numpy as np\n",
    "from math import sqrt\n",
    "\n",
    "# Библиотеки для построения графиков\n",
    "import seaborn as sns\n",
    "import matplotlib.pyplot as plt\n",
    "\n",
    "# Библиотеки для работы с моделями\n",
    "from sklearn.compose import ColumnTransformer\n",
    "from sklearn.linear_model import LinearRegression\n",
    "from sklearn.metrics import mean_squared_error\n",
    "from sklearn.model_selection import train_test_split, GridSearchCV\n",
    "from sklearn.pipeline import Pipeline\n",
    "from sklearn.preprocessing import (\n",
    "    StandardScaler, \n",
    "    MinMaxScaler\n",
    ")\n",
    "\n",
    "# Библиотеки для оценки качества и анализа\n",
    "import shap\n",
    "from scipy import stats as st\n",
    "import phik\n",
    "from phik.report import plot_correlation_matrix\n",
    "from phik import report\n",
    "\n",
    "\n",
    "# Обработка ошибок\n",
    "import warnings\n",
    "warnings.filterwarnings(\"ignore\")"
   ]
  },
  {
   "cell_type": "markdown",
   "metadata": {},
   "source": [
    "### Функции"
   ]
  },
  {
   "cell_type": "markdown",
   "metadata": {},
   "source": [
    "Подготовим функции, которые будут использоваться в работе:"
   ]
  },
  {
   "cell_type": "code",
   "execution_count": 5,
   "metadata": {},
   "outputs": [],
   "source": [
    "# Функция проверки значений\n",
    "def data_review(list_df):\n",
    "    for i in range(len(list_df)):\n",
    "        print(f'Общая информация в датафрейме region_{i}:\\n')\n",
    "        print(f'{list_df[i].info()}\\n\\n Первые пять строк датафрейма region_{i}:\\n\\n {list_df[i].head()}\\n')"
   ]
  },
  {
   "cell_type": "code",
   "execution_count": 6,
   "metadata": {},
   "outputs": [],
   "source": [
    "# Функция поиска дубликатов\n",
    "def duplicates_in_dataframe(list_df, columns):\n",
    "    for i in range(len(list_df)):\n",
    "        print(f'Количество полных дубликатов в датафрейме region_{i}: {list_df[i].duplicated().sum()}')\n",
    "        for column in columns:\n",
    "            print (f'Количество дубликатов в столбце {column}: {list_df[i][column].duplicated().sum()}')"
   ]
  },
  {
   "cell_type": "code",
   "execution_count": 7,
   "metadata": {},
   "outputs": [],
   "source": [
    "def lunge_analysis(df, columns):\n",
    "    \"\"\"\n",
    "    Функция строит боксплоты и гистограммы по переданному списку столбцов.\n",
    "\n",
    "    Параметры:\n",
    "        df: датафрейм с нужными значениями.\n",
    "        columns: список названий столбцов, по которым надо построить диаграммы.\n",
    "\n",
    "    Возвращает:\n",
    "        Оформленные боксплоты и гистограммы.\n",
    "\n",
    "    \"\"\"\n",
    "    for column in columns:\n",
    "        f, ax = plt.subplots(1, 2, figsize=(15, 5))\n",
    "        ax_1 = sns.histplot(data=df, x=column, ax=ax[0])\n",
    "        ax_1.set (xlabel=column, ylabel='Количество', title=f'Гистограмма по столбцу {column}')\n",
    "        ax_2 = sns.boxplot(data=df, y=column, ax=ax[1], width=.2)\n",
    "        ax_2.set (xlabel=column, ylabel='Значение', title=f'Диаграмма размаха признака {column}')\n",
    "        plt.show()"
   ]
  },
  {
   "cell_type": "code",
   "execution_count": 8,
   "metadata": {},
   "outputs": [],
   "source": [
    "def model_train(df):\n",
    "    \"\"\"\n",
    "    Функция подбирает в Pipeline наилучшую модель и возращает 5 переменных.\n",
    "\n",
    "    Параметры:\n",
    "        df: датафрейм с нужными значениями.\n",
    "\n",
    "    Возвращает:\n",
    "        массив предсказанных значений.\n",
    "        значение метрики RMSE на валидационной выборке,\n",
    "        подобранную модель,\n",
    "        подобранную подготовку данных,\n",
    "        исходную валидационную выборку\n",
    "\n",
    "    \"\"\"    \n",
    "    X_train, X_test, y_train, y_test = train_test_split(\n",
    "        df.drop(['id', 'product'], axis=1),\n",
    "        df['product'],\n",
    "        test_size = TEST_SIZE, \n",
    "        random_state = RANDOM_STATE)\n",
    "    grid_search.fit(X_train, y_train)\n",
    "    print('Лучшая модель и её параметры:\\n\\n', grid_search.best_estimator_)\n",
    "    print('Метрика лучшей модели на кросс-валидационной выборке:', grid_search.best_score_)\n",
    "# проверим работу модели на тестовой выборке\n",
    "# рассчитаем прогноз на тестовых данных\n",
    "    y_test_pred = grid_search.predict(X_test)\n",
    "    rmse = mean_squared_error(y_test, y_test_pred, squared=False)\n",
    "    model = grid_search.best_estimator_.named_steps['models']\n",
    "    preprocessor = grid_search.best_estimator_.named_steps['preprocessor']\n",
    "    return y_test_pred, rmse, model, preprocessor, X_test"
   ]
  },
  {
   "cell_type": "code",
   "execution_count": 9,
   "metadata": {},
   "outputs": [],
   "source": [
    "def analysis_model(model, preprocessor, X_test):\n",
    "    \"\"\"\n",
    "    Функция анализирует результаты работы модели методом SHAP.\n",
    "\n",
    "    Параметры:\n",
    "        model: модель, которую необходимо интерпретировать.\n",
    "        preprocessor: метод подготовки данных.\n",
    "        X_test: данные для прогнозирования, на основе которых модель будет интерпретироваться.\n",
    "\n",
    "    Возвращает:\n",
    "        График summary_plot, построенный по результатам интерпретации.\n",
    "    \"\"\"     \n",
    "    X_test_preprocessed = preprocessor.transform(X_test)\n",
    "    shap_sample = shap.sample(X_test_preprocessed, 1)\n",
    "    explainer = shap.KernelExplainer(model.predict, shap_sample)\n",
    "    shap_values = explainer(X_test_preprocessed)\n",
    "    shap.summary_plot(shap_values, X_test_preprocessed, plot_type=\"bar\", feature_names=['f0', 'f1', 'f2'])"
   ]
  },
  {
   "cell_type": "code",
   "execution_count": 10,
   "metadata": {},
   "outputs": [],
   "source": [
    "# Функция по расчету прибыли в каждой скважине\n",
    "def calc_profit_well(df):\n",
    "    return df['pred_product'] * price_product - target_cost_well"
   ]
  },
  {
   "cell_type": "code",
   "execution_count": 11,
   "metadata": {},
   "outputs": [],
   "source": [
    "def bootstrap_method_real_product(df):\n",
    "    \"\"\"\n",
    "    Функция методом bootstrap делает выборки из датафрейма и определяет доверительный интервал.\n",
    "\n",
    "    Параметры:\n",
    "        df: датафрейм, из которого методом Bootstrap будут делаться выборки.\n",
    "\n",
    "    Возвращает:\n",
    "        значения выборок и расчет доверительного интервала.\n",
    "    \"\"\"           \n",
    "    values = []\n",
    "    for i in range(1000):\n",
    "        # Сэмплирую датафрейм, сортирую по предсказанным значениям, сбрасываю индексы, чтобы корретно отобрать 200 наилучших.\n",
    "        subsample = df.sample(n=500, replace=True, random_state=state).sort_values(by='pred_product', ascending=False).reset_index(drop=True)[0:200]\n",
    "        # Используя реальный product считаю прибыль. Вычисления не сложные, поэтому не использую отдельную функцию.\n",
    "        subsample['profit'] = subsample['product'] * PRICE_PRODUCT - TARGET_COST_WELL\n",
    "        values.append(subsample['profit'].sum())\n",
    "\n",
    "\n",
    "    values = pd.Series(values)\n",
    "\n",
    "    lower = values.quantile(0.025)\n",
    "    upper = values.quantile(0.975)\n",
    "    average_profit = sum(values) / len(values)\n",
    "    print(f'Доверительный 95% интервал прибыли: {round(lower / 1000000, 2)} - {round(upper / 1000000, 2)} млн. рублей.')\n",
    "    print(f'Средняя прибыль составляет {round(average_profit / 1000000, 2)} млн. рублей.')\n",
    "    return values"
   ]
  },
  {
   "cell_type": "markdown",
   "metadata": {},
   "source": [
    "### Загрузка данных"
   ]
  },
  {
   "cell_type": "markdown",
   "metadata": {},
   "source": [
    "Теперь можно загрузить данные:"
   ]
  },
  {
   "cell_type": "code",
   "execution_count": 13,
   "metadata": {},
   "outputs": [],
   "source": [
    "region_0 = pd.read_csv(\"F:\\Yandex_Practicum\\Projects\\Project_7\\geo_data_0.csv\")\n",
    "region_1 = pd.read_csv(\"F:\\Yandex_Practicum\\Projects\\Project_7\\geo_data_1.csv\")\n",
    "region_2 = pd.read_csv(\"F:\\Yandex_Practicum\\Projects\\Project_7\\geo_data_2.csv\")"
   ]
  },
  {
   "cell_type": "markdown",
   "metadata": {},
   "source": [
    "Подготовим список датафреймов для работы функций:"
   ]
  },
  {
   "cell_type": "code",
   "execution_count": 14,
   "metadata": {},
   "outputs": [],
   "source": [
    "list_dataframe = [region_0, region_1, region_2]"
   ]
  },
  {
   "cell_type": "markdown",
   "metadata": {},
   "source": [
    "Познакомимся с данными:"
   ]
  },
  {
   "cell_type": "code",
   "execution_count": 15,
   "metadata": {},
   "outputs": [
    {
     "name": "stdout",
     "output_type": "stream",
     "text": [
      "Общая информация в датафрейме region_0:\n",
      "\n",
      "<class 'pandas.core.frame.DataFrame'>\n",
      "RangeIndex: 100000 entries, 0 to 99999\n",
      "Data columns (total 5 columns):\n",
      " #   Column   Non-Null Count   Dtype  \n",
      "---  ------   --------------   -----  \n",
      " 0   id       100000 non-null  object \n",
      " 1   f0       100000 non-null  float64\n",
      " 2   f1       100000 non-null  float64\n",
      " 3   f2       100000 non-null  float64\n",
      " 4   product  100000 non-null  float64\n",
      "dtypes: float64(4), object(1)\n",
      "memory usage: 3.8+ MB\n",
      "None\n",
      "\n",
      " Первые пять строк датафрейма region_0:\n",
      "\n",
      "       id        f0        f1        f2     product\n",
      "0  txEyH  0.705745 -0.497823  1.221170  105.280062\n",
      "1  2acmU  1.334711 -0.340164  4.365080   73.037750\n",
      "2  409Wp  1.022732  0.151990  1.419926   85.265647\n",
      "3  iJLyR -0.032172  0.139033  2.978566  168.620776\n",
      "4  Xdl7t  1.988431  0.155413  4.751769  154.036647\n",
      "\n",
      "Общая информация в датафрейме region_1:\n",
      "\n",
      "<class 'pandas.core.frame.DataFrame'>\n",
      "RangeIndex: 100000 entries, 0 to 99999\n",
      "Data columns (total 5 columns):\n",
      " #   Column   Non-Null Count   Dtype  \n",
      "---  ------   --------------   -----  \n",
      " 0   id       100000 non-null  object \n",
      " 1   f0       100000 non-null  float64\n",
      " 2   f1       100000 non-null  float64\n",
      " 3   f2       100000 non-null  float64\n",
      " 4   product  100000 non-null  float64\n",
      "dtypes: float64(4), object(1)\n",
      "memory usage: 3.8+ MB\n",
      "None\n",
      "\n",
      " Первые пять строк датафрейма region_1:\n",
      "\n",
      "       id         f0         f1        f2     product\n",
      "0  kBEdx -15.001348  -8.276000 -0.005876    3.179103\n",
      "1  62mP7  14.272088  -3.475083  0.999183   26.953261\n",
      "2  vyE1P   6.263187  -5.948386  5.001160  134.766305\n",
      "3  KcrkZ -13.081196 -11.506057  4.999415  137.945408\n",
      "4  AHL4O  12.702195  -8.147433  5.004363  134.766305\n",
      "\n",
      "Общая информация в датафрейме region_2:\n",
      "\n",
      "<class 'pandas.core.frame.DataFrame'>\n",
      "RangeIndex: 100000 entries, 0 to 99999\n",
      "Data columns (total 5 columns):\n",
      " #   Column   Non-Null Count   Dtype  \n",
      "---  ------   --------------   -----  \n",
      " 0   id       100000 non-null  object \n",
      " 1   f0       100000 non-null  float64\n",
      " 2   f1       100000 non-null  float64\n",
      " 3   f2       100000 non-null  float64\n",
      " 4   product  100000 non-null  float64\n",
      "dtypes: float64(4), object(1)\n",
      "memory usage: 3.8+ MB\n",
      "None\n",
      "\n",
      " Первые пять строк датафрейма region_2:\n",
      "\n",
      "       id        f0        f1        f2     product\n",
      "0  fwXo0 -1.146987  0.963328 -0.828965   27.758673\n",
      "1  WJtFt  0.262778  0.269839 -2.530187   56.069697\n",
      "2  ovLUW  0.194587  0.289035 -5.586433   62.871910\n",
      "3  q6cA6  2.236060 -0.553760  0.930038  114.572842\n",
      "4  WPMUX -0.515993  1.716266  5.899011  149.600746\n",
      "\n"
     ]
    }
   ],
   "source": [
    "data_review(list_dataframe)"
   ]
  },
  {
   "cell_type": "markdown",
   "metadata": {},
   "source": [
    "### Проверка наличия дубликатов и выбросов"
   ]
  },
  {
   "cell_type": "markdown",
   "metadata": {},
   "source": [
    "Проверим наличие дубликатов"
   ]
  },
  {
   "cell_type": "code",
   "execution_count": 16,
   "metadata": {},
   "outputs": [
    {
     "name": "stdout",
     "output_type": "stream",
     "text": [
      "Количество полных дубликатов в датафрейме region_0: 0\n",
      "Количество дубликатов в столбце id: 10\n",
      "Количество полных дубликатов в датафрейме region_1: 0\n",
      "Количество дубликатов в столбце id: 4\n",
      "Количество полных дубликатов в датафрейме region_2: 0\n",
      "Количество дубликатов в столбце id: 4\n"
     ]
    }
   ],
   "source": [
    "duplicates_in_dataframe(list_dataframe, ['id'])"
   ]
  },
  {
   "cell_type": "markdown",
   "metadata": {},
   "source": [
    "Так как природа значений, указанных в столбцах f0, f1, f2 неизвестна, то их анализировать на выбросы не будем. Посмотрим на выбросы и распределение столбец product."
   ]
  },
  {
   "cell_type": "markdown",
   "metadata": {},
   "source": [
    "**Анализ данных региона 0**"
   ]
  },
  {
   "cell_type": "code",
   "execution_count": 17,
   "metadata": {},
   "outputs": [
    {
     "data": {
      "image/png": "[encoded data removed]",
      "text/plain": [
       "<Figure size 1500x500 with 2 Axes>"
      ]
     },
     "metadata": {},
     "output_type": "display_data"
    }
   ],
   "source": [
    "lunge_analysis(region_0, ['product'])"
   ]
  },
  {
   "cell_type": "markdown",
   "metadata": {},
   "source": [
    "**Анализ данных региона 1**"
   ]
  },
  {
   "cell_type": "code",
   "execution_count": 18,
   "metadata": {},
   "outputs": [
    {
     "data": {
      "image/png": "[encoded data removed]",
      "text/plain": [
       "<Figure size 1500x500 with 2 Axes>"
      ]
     },
     "metadata": {},
     "output_type": "display_data"
    }
   ],
   "source": [
    "lunge_analysis(region_1, ['product'])"
   ]
  },
  {
   "cell_type": "markdown",
   "metadata": {},
   "source": [
    "**Анализ данных региона 2**"
   ]
  },
  {
   "cell_type": "code",
   "execution_count": 19,
   "metadata": {},
   "outputs": [
    {
     "data": {
      "image/png": "[encoded data removed]",
      "text/plain": [
       "<Figure size 1500x500 with 2 Axes>"
      ]
     },
     "metadata": {},
     "output_type": "display_data"
    }
   ],
   "source": [
    "lunge_analysis(region_2, ['product'])"
   ]
  },
  {
   "cell_type": "markdown",
   "metadata": {},
   "source": [
    "**Итого:**\n",
    "1. Везде типы переменных определены верно.\n",
    "2. Пропусков нет.\n",
    "3. В данных некоторые скважины записаны несколько раз. Их количество очень небольшое, удалять не требуется. \n",
    "4. Выбросов нет ни в одном регионе.\n",
    "5. Распределение в регионах 0 и 2 близко к нормальному, в том же время в регионе 1 очень сильно отличается. Видно, что очень много скважин, где нет продукта совсем или где его очень много."
   ]
  },
  {
   "cell_type": "markdown",
   "metadata": {},
   "source": [
    "### Анализ корреляции между признаками"
   ]
  },
  {
   "cell_type": "markdown",
   "metadata": {},
   "source": [
    "Проанализируем как коррелируют признаки между собой:"
   ]
  },
  {
   "cell_type": "markdown",
   "metadata": {},
   "source": [
    "**Регион 0:**"
   ]
  },
  {
   "cell_type": "code",
   "execution_count": 20,
   "metadata": {},
   "outputs": [
    {
     "data": {
      "image/png": "[encoded data removed]",
      "text/plain": [
       "<Figure size 600x600 with 2 Axes>"
      ]
     },
     "metadata": {},
     "output_type": "display_data"
    }
   ],
   "source": [
    "phik_overview = region_0.drop(['id'], axis=1).phik_matrix(interval_cols=['f0', 'f1', 'f2', 'product'])\n",
    "phik_overview.round(2)\n",
    "\n",
    "plot_correlation_matrix(phik_overview.values, \n",
    "                        x_labels=phik_overview.columns, \n",
    "                        y_labels=phik_overview.index, \n",
    "                        vmin=0, vmax=1, color_map=\"coolwarm\", \n",
    "                        title=\"Тепловая карта коэффициентов корреляции таблицы region_0\", \n",
    "                        fontsize_factor=1,\n",
    "                        figsize=(6, 6))\n",
    "plt.tight_layout()\n",
    "plt.show()"
   ]
  },
  {
   "cell_type": "markdown",
   "metadata": {},
   "source": [
    "Наблюдается высокая корреляция между признакми f1 и f0."
   ]
  },
  {
   "cell_type": "markdown",
   "metadata": {},
   "source": [
    "**Регион 1:**"
   ]
  },
  {
   "cell_type": "code",
   "execution_count": 21,
   "metadata": {},
   "outputs": [
    {
     "data": {
      "image/png": "[encoded data removed]",
      "text/plain": [
       "<Figure size 600x600 with 2 Axes>"
      ]
     },
     "metadata": {},
     "output_type": "display_data"
    }
   ],
   "source": [
    "phik_overview = region_1.drop(['id'], axis=1).phik_matrix(interval_cols=['f0', 'f1', 'f2', 'product'])\n",
    "phik_overview.round(2)\n",
    "\n",
    "plot_correlation_matrix(phik_overview.values, \n",
    "                        x_labels=phik_overview.columns, \n",
    "                        y_labels=phik_overview.index, \n",
    "                        vmin=0, vmax=1, color_map=\"coolwarm\", \n",
    "                        title=\"Тепловая карта коэффициентов корреляции таблицы region_1\", \n",
    "                        fontsize_factor=1,\n",
    "                        figsize=(6, 6))\n",
    "plt.tight_layout()\n",
    "plt.show()"
   ]
  },
  {
   "cell_type": "markdown",
   "metadata": {},
   "source": [
    "На основе анализа корреляции можно сделать следующие выводы:\n",
    "1. Наблюдается мультиколлениарность между признакми f2 и product.\n",
    "2. Высокий уровень корреляции между признаками f0 и product.  \n",
    "\n",
    "Возможно, параметр f2 по физической сущности близок к product, но так как нет информации, какой именно признак зашифрован в f2, утверждать однозначно нельзя.\n"
   ]
  },
  {
   "cell_type": "markdown",
   "metadata": {},
   "source": [
    "**Регион 2:**"
   ]
  },
  {
   "cell_type": "code",
   "execution_count": 22,
   "metadata": {},
   "outputs": [
    {
     "data": {
      "image/png": "[encoded data removed]",
      "text/plain": [
       "<Figure size 600x600 with 2 Axes>"
      ]
     },
     "metadata": {},
     "output_type": "display_data"
    }
   ],
   "source": [
    "phik_overview = region_2.drop(['id'], axis=1).phik_matrix(interval_cols=['f0', 'f1', 'f2', 'product'])\n",
    "phik_overview.round(2)\n",
    "\n",
    "plot_correlation_matrix(phik_overview.values, \n",
    "                        x_labels=phik_overview.columns, \n",
    "                        y_labels=phik_overview.index, \n",
    "                        vmin=0, vmax=1, color_map=\"coolwarm\", \n",
    "                        title=\"Тепловая карта коэффициентов корреляции таблицы region_2\", \n",
    "                        fontsize_factor=1,\n",
    "                        figsize=(6, 6))\n",
    "plt.tight_layout()\n",
    "plt.show()"
   ]
  },
  {
   "cell_type": "markdown",
   "metadata": {},
   "source": [
    "Сильной корреляции в этом регионе не обнаружено."
   ]
  },
  {
   "cell_type": "markdown",
   "metadata": {},
   "source": [
    "**Итого:**  \n",
    "Среди данных есть сильная корреляция, в том числе мультиколлениарность."
   ]
  },
  {
   "cell_type": "markdown",
   "metadata": {},
   "source": [
    "## Обучение и проверка модели"
   ]
  },
  {
   "cell_type": "markdown",
   "metadata": {},
   "source": [
    "Приступим к формированию моделей. Сперва зададим константы, методы подготовки данных и варианты перебора."
   ]
  },
  {
   "cell_type": "code",
   "execution_count": 23,
   "metadata": {},
   "outputs": [],
   "source": [
    "RANDOM_STATE = 42\n",
    "TEST_SIZE = 0.25"
   ]
  },
  {
   "cell_type": "code",
   "execution_count": 24,
   "metadata": {},
   "outputs": [],
   "source": [
    "# сформируем списки с названиями признаков\n",
    "num_columns = ['f0',\n",
    "                'f1',\n",
    "                'f2'\n",
    "              ]\n",
    "\n",
    "# сформируем общий пайплайн для подготовки данных\n",
    "data_preprocessor = ColumnTransformer(\n",
    "    [\n",
    "        ('num', MinMaxScaler(), num_columns)\n",
    "    ], \n",
    "    remainder='passthrough'\n",
    ")\n",
    "\n",
    "# сформируем итоговый пайплайн: подготовка данных и модель\n",
    "pipe_final = Pipeline([\n",
    "    ('preprocessor', data_preprocessor),\n",
    "    ('models', LinearRegression())\n",
    "])\n",
    "\n",
    "param_grid = [\n",
    "    # словарь для модели LinearRegression()\n",
    "    {\n",
    "        'models': [LinearRegression()],\n",
    "        'preprocessor__num': [StandardScaler(), MinMaxScaler(), 'passthrough']  \n",
    "    }\n",
    "]\n",
    "\n",
    "    \n",
    "grid_search = GridSearchCV(\n",
    "    pipe_final, \n",
    "    param_grid, \n",
    "    cv=5,\n",
    "    scoring='neg_root_mean_squared_error',\n",
    "    n_jobs=-1\n",
    ")"
   ]
  },
  {
   "cell_type": "markdown",
   "metadata": {},
   "source": [
    "### Модель для региона 0"
   ]
  },
  {
   "cell_type": "code",
   "execution_count": 25,
   "metadata": {},
   "outputs": [
    {
     "name": "stdout",
     "output_type": "stream",
     "text": [
      "Лучшая модель и её параметры:\n",
      "\n",
      " Pipeline(steps=[('preprocessor',\n",
      "                 ColumnTransformer(remainder='passthrough',\n",
      "                                   transformers=[('num', StandardScaler(),\n",
      "                                                  ['f0', 'f1', 'f2'])])),\n",
      "                ('models', LinearRegression())])\n",
      "Метрика лучшей модели на кросс-валидационной выборке: -37.67200536313506\n"
     ]
    }
   ],
   "source": [
    "y_test_pred_region_0, rmse_region_0, model_region_0, preprocessor_region_0, X_test_0 = model_train(region_0)"
   ]
  },
  {
   "cell_type": "markdown",
   "metadata": {},
   "source": [
    "Посчитаем средний запас предсказанного сырья на валидационной выборке и выведем RMSE:"
   ]
  },
  {
   "cell_type": "code",
   "execution_count": 26,
   "metadata": {},
   "outputs": [
    {
     "name": "stdout",
     "output_type": "stream",
     "text": [
      "Средний запас сырья на валидационной выборке из региона 0: 92.4\n"
     ]
    }
   ],
   "source": [
    "print(f'Средний запас сырья на валидационной выборке из региона 0: {round(sum(y_test_pred_region_0) / len(y_test_pred_region_0), 2)}')"
   ]
  },
  {
   "cell_type": "code",
   "execution_count": 27,
   "metadata": {},
   "outputs": [
    {
     "name": "stdout",
     "output_type": "stream",
     "text": [
      "Метрика RMSE на валидационной выборке из региона 0: 37.75660035026169\n"
     ]
    }
   ],
   "source": [
    "print(f'Метрика RMSE на валидационной выборке из региона 0: {rmse_region_0}')"
   ]
  },
  {
   "cell_type": "markdown",
   "metadata": {},
   "source": [
    "Проанализируем модель"
   ]
  },
  {
   "cell_type": "code",
   "execution_count": 28,
   "metadata": {},
   "outputs": [
    {
     "data": {
      "application/vnd.jupyter.widget-view+json": {
       "model_id": "73b0f07549aa45eea6d02003d4ecb6c2",
       "version_major": 2,
       "version_minor": 0
      },
      "text/plain": [
       "  0%|          | 0/25000 [00:00<?, ?it/s]"
      ]
     },
     "metadata": {},
     "output_type": "display_data"
    },
    {
     "data": {
      "image/png": "[encoded data removed]",
      "text/plain": [
       "<Figure size 800x270 with 1 Axes>"
      ]
     },
     "metadata": {},
     "output_type": "display_data"
    }
   ],
   "source": [
    "analysis_model(model_region_0, preprocessor_region_0, X_test_0)"
   ]
  },
  {
   "cell_type": "markdown",
   "metadata": {},
   "source": [
    "**Итого:**\n",
    "1. RMSE равен 37.75.\n",
    "2. Наибольший вклад имеет признак f2."
   ]
  },
  {
   "cell_type": "markdown",
   "metadata": {},
   "source": [
    "### Модель для региона 1"
   ]
  },
  {
   "cell_type": "markdown",
   "metadata": {},
   "source": [
    "Теперь обучим модель для регион 1."
   ]
  },
  {
   "cell_type": "code",
   "execution_count": 29,
   "metadata": {},
   "outputs": [
    {
     "name": "stdout",
     "output_type": "stream",
     "text": [
      "Лучшая модель и её параметры:\n",
      "\n",
      " Pipeline(steps=[('preprocessor',\n",
      "                 ColumnTransformer(remainder='passthrough',\n",
      "                                   transformers=[('num', MinMaxScaler(),\n",
      "                                                  ['f0', 'f1', 'f2'])])),\n",
      "                ('models', LinearRegression())])\n",
      "Метрика лучшей модели на кросс-валидационной выборке: -0.8904559629285673\n"
     ]
    }
   ],
   "source": [
    "y_test_pred_region_1, rmse_region_1, model_region_1, preprocessor_region_1, X_test_1 = model_train(region_1)"
   ]
  },
  {
   "cell_type": "markdown",
   "metadata": {},
   "source": [
    "Посчитаем средний запас предсказанного сырья на валидационной выборке и выведем метрику RMSE."
   ]
  },
  {
   "cell_type": "code",
   "execution_count": 30,
   "metadata": {},
   "outputs": [
    {
     "name": "stdout",
     "output_type": "stream",
     "text": [
      "Средний запас сырья на валидационной выборке из региона 1: 68.71\n"
     ]
    }
   ],
   "source": [
    "print(f'Средний запас сырья на валидационной выборке из региона 1: {round(sum(y_test_pred_region_1) / len(y_test_pred_region_1), 2)}')"
   ]
  },
  {
   "cell_type": "code",
   "execution_count": 31,
   "metadata": {},
   "outputs": [
    {
     "name": "stdout",
     "output_type": "stream",
     "text": [
      "Метрика RMSE на валидационной выборке из региона 1: 0.89\n"
     ]
    }
   ],
   "source": [
    "print(f'Метрика RMSE на валидационной выборке из региона 1: {round(rmse_region_1, 2)}')"
   ]
  },
  {
   "cell_type": "markdown",
   "metadata": {},
   "source": [
    "Проанализируем результаты модели."
   ]
  },
  {
   "cell_type": "code",
   "execution_count": 32,
   "metadata": {},
   "outputs": [
    {
     "data": {
      "application/vnd.jupyter.widget-view+json": {
       "model_id": "d15a2e52153f42fa8d1dfdeb422e52c0",
       "version_major": 2,
       "version_minor": 0
      },
      "text/plain": [
       "  0%|          | 0/25000 [00:00<?, ?it/s]"
      ]
     },
     "metadata": {},
     "output_type": "display_data"
    },
    {
     "data": {
      "image/png": "[encoded data removed]",
      "text/plain": [
       "<Figure size 800x270 with 1 Axes>"
      ]
     },
     "metadata": {},
     "output_type": "display_data"
    }
   ],
   "source": [
    "analysis_model(model_region_1, preprocessor_region_1, X_test_1)"
   ]
  },
  {
   "cell_type": "markdown",
   "metadata": {},
   "source": [
    "**Итого:**\n",
    "\n",
    "1. RMSE равен 0,89.\n",
    "2. Наибольший вклад имеет признак f2."
   ]
  },
  {
   "cell_type": "markdown",
   "metadata": {},
   "source": [
    "### Модель для региона 2"
   ]
  },
  {
   "cell_type": "markdown",
   "metadata": {},
   "source": [
    "Теперь обучим модель для региона 2."
   ]
  },
  {
   "cell_type": "code",
   "execution_count": 33,
   "metadata": {},
   "outputs": [
    {
     "name": "stdout",
     "output_type": "stream",
     "text": [
      "Лучшая модель и её параметры:\n",
      "\n",
      " Pipeline(steps=[('preprocessor',\n",
      "                 ColumnTransformer(remainder='passthrough',\n",
      "                                   transformers=[('num', StandardScaler(),\n",
      "                                                  ['f0', 'f1', 'f2'])])),\n",
      "                ('models', LinearRegression())])\n",
      "Метрика лучшей модели на кросс-валидационной выборке: -40.02698159997838\n"
     ]
    }
   ],
   "source": [
    "y_test_pred_region_2, rmse_region_2, model_region_2, preprocessor_region_2, X_test_2 = model_train(region_2)"
   ]
  },
  {
   "cell_type": "markdown",
   "metadata": {},
   "source": [
    "Посчитаем средний запас предсказанного сырья на валидационной выборке и выведем метрику RMSE."
   ]
  },
  {
   "cell_type": "code",
   "execution_count": 34,
   "metadata": {},
   "outputs": [
    {
     "name": "stdout",
     "output_type": "stream",
     "text": [
      "Средний запас сырья на валидационной выборке из региона 2: 94.77\n"
     ]
    }
   ],
   "source": [
    "print(f'Средний запас сырья на валидационной выборке из региона 2: {round(sum(y_test_pred_region_2) / len(y_test_pred_region_2), 2)}')"
   ]
  },
  {
   "cell_type": "code",
   "execution_count": 35,
   "metadata": {},
   "outputs": [
    {
     "name": "stdout",
     "output_type": "stream",
     "text": [
      "Метрика RMSE на валидационной выборке из региона 2: 40.145872311342174\n"
     ]
    }
   ],
   "source": [
    "print(f'Метрика RMSE на валидационной выборке из региона 2: {rmse_region_2}')"
   ]
  },
  {
   "cell_type": "markdown",
   "metadata": {},
   "source": [
    "Проанализируем модель"
   ]
  },
  {
   "cell_type": "code",
   "execution_count": 36,
   "metadata": {},
   "outputs": [
    {
     "data": {
      "application/vnd.jupyter.widget-view+json": {
       "model_id": "34f4b611eb9c4e92bb9ee7c9d7a60044",
       "version_major": 2,
       "version_minor": 0
      },
      "text/plain": [
       "  0%|          | 0/25000 [00:00<?, ?it/s]"
      ]
     },
     "metadata": {},
     "output_type": "display_data"
    },
    {
     "data": {
      "image/png": "[encoded data removed]",
      "text/plain": [
       "<Figure size 800x270 with 1 Axes>"
      ]
     },
     "metadata": {},
     "output_type": "display_data"
    }
   ],
   "source": [
    "analysis_model(model_region_2, preprocessor_region_2, X_test_2)"
   ]
  },
  {
   "cell_type": "markdown",
   "metadata": {},
   "source": [
    "**Итого:**\n",
    "\n",
    "1. RMSE равен 40.15.\n",
    "2. Наибольший вклад имеет признак f2."
   ]
  },
  {
   "cell_type": "markdown",
   "metadata": {},
   "source": [
    "### Общая модель для всех регионов"
   ]
  },
  {
   "cell_type": "markdown",
   "metadata": {},
   "source": [
    "Теперь обучим модель на всех данных, которые у нас есть. Сперва объединим данные:"
   ]
  },
  {
   "cell_type": "code",
   "execution_count": 37,
   "metadata": {},
   "outputs": [],
   "source": [
    "all_region = pd.concat([region_0, region_1, region_2], ignore_index=True)"
   ]
  },
  {
   "cell_type": "markdown",
   "metadata": {},
   "source": [
    "Проверим корректность объединения:"
   ]
  },
  {
   "cell_type": "code",
   "execution_count": 38,
   "metadata": {
    "scrolled": false
   },
   "outputs": [
    {
     "name": "stdout",
     "output_type": "stream",
     "text": [
      "<class 'pandas.core.frame.DataFrame'>\n",
      "RangeIndex: 300000 entries, 0 to 299999\n",
      "Data columns (total 5 columns):\n",
      " #   Column   Non-Null Count   Dtype  \n",
      "---  ------   --------------   -----  \n",
      " 0   id       300000 non-null  object \n",
      " 1   f0       300000 non-null  float64\n",
      " 2   f1       300000 non-null  float64\n",
      " 3   f2       300000 non-null  float64\n",
      " 4   product  300000 non-null  float64\n",
      "dtypes: float64(4), object(1)\n",
      "memory usage: 11.4+ MB\n"
     ]
    }
   ],
   "source": [
    "all_region.info()"
   ]
  },
  {
   "cell_type": "markdown",
   "metadata": {},
   "source": [
    "Теперь обучим модель:"
   ]
  },
  {
   "cell_type": "code",
   "execution_count": 39,
   "metadata": {},
   "outputs": [
    {
     "name": "stdout",
     "output_type": "stream",
     "text": [
      "Лучшая модель и её параметры:\n",
      "\n",
      " Pipeline(steps=[('preprocessor',\n",
      "                 ColumnTransformer(remainder='passthrough',\n",
      "                                   transformers=[('num', 'passthrough',\n",
      "                                                  ['f0', 'f1', 'f2'])])),\n",
      "                ('models', LinearRegression())])\n",
      "Метрика лучшей модели на кросс-валидационной выборке: -38.78824438070539\n"
     ]
    }
   ],
   "source": [
    "y_test_pred_all_region, rmse_all_region, model_all_region, preprocessor_all_region, X_test_all_region = model_train(all_region)"
   ]
  },
  {
   "cell_type": "markdown",
   "metadata": {},
   "source": [
    "Посчитаем средний запас предсказанного сырья на валидационной выборке и метрику RMSE."
   ]
  },
  {
   "cell_type": "code",
   "execution_count": 40,
   "metadata": {},
   "outputs": [
    {
     "name": "stdout",
     "output_type": "stream",
     "text": [
      "Средний запас сырья на валидационной выборке по всем регионам: 85.6\n"
     ]
    }
   ],
   "source": [
    "print(f'Средний запас сырья на валидационной выборке по всем регионам: {round(sum(y_test_pred_all_region) / len(y_test_pred_all_region), 2)}')"
   ]
  },
  {
   "cell_type": "code",
   "execution_count": 41,
   "metadata": {
    "scrolled": true
   },
   "outputs": [
    {
     "name": "stdout",
     "output_type": "stream",
     "text": [
      "Метрика RMSE на валидационной выборке по всем регионам: 38.73428082522169\n"
     ]
    }
   ],
   "source": [
    "print(f'Метрика RMSE на валидационной выборке по всем регионам: {rmse_all_region}')"
   ]
  },
  {
   "cell_type": "markdown",
   "metadata": {},
   "source": [
    "Проанализируем модель."
   ]
  },
  {
   "cell_type": "code",
   "execution_count": 42,
   "metadata": {},
   "outputs": [
    {
     "data": {
      "application/vnd.jupyter.widget-view+json": {
       "model_id": "7be34d875ad44d30baf100c4bbda1a0a",
       "version_major": 2,
       "version_minor": 0
      },
      "text/plain": [
       "  0%|          | 0/75000 [00:00<?, ?it/s]"
      ]
     },
     "metadata": {},
     "output_type": "display_data"
    },
    {
     "data": {
      "image/png": "[encoded data removed]",
      "text/plain": [
       "<Figure size 800x270 with 1 Axes>"
      ]
     },
     "metadata": {},
     "output_type": "display_data"
    }
   ],
   "source": [
    "analysis_model(model_all_region, preprocessor_all_region, X_test_all_region)"
   ]
  },
  {
   "cell_type": "markdown",
   "metadata": {},
   "source": [
    "**Итого:**\n",
    "\n",
    "1. RMSE равен 38.73.\n",
    "2. Наибольший вклад имеет признак f2."
   ]
  },
  {
   "cell_type": "markdown",
   "metadata": {},
   "source": [
    "### Сравнение всех моделей"
   ]
  },
  {
   "cell_type": "markdown",
   "metadata": {},
   "source": [
    "Выведем на экраны метрики всех моделей:"
   ]
  },
  {
   "cell_type": "code",
   "execution_count": 43,
   "metadata": {},
   "outputs": [
    {
     "name": "stdout",
     "output_type": "stream",
     "text": [
      "RMSE модели для региона 0 равно 37.76.\n",
      "RMSE модели для региона 1 равно 0.89.\n",
      "RMSE модели для региона 2 равно 40.15.\n",
      "RMSE модели для всех регионов равно 38.73.\n"
     ]
    }
   ],
   "source": [
    "print(f'RMSE модели для региона 0 равно {round(rmse_region_0, 2)}.')\n",
    "print(f'RMSE модели для региона 1 равно {round(rmse_region_1, 2)}.')\n",
    "print(f'RMSE модели для региона 2 равно {round(rmse_region_2, 2)}.')\n",
    "print(f'RMSE модели для всех регионов равно {round(rmse_all_region, 2)}.')"
   ]
  },
  {
   "cell_type": "markdown",
   "metadata": {},
   "source": [
    "Как видно, наименьшее, а значит наилучшее значение RMSE, у модели региона 1. Однако данный регион не типичный, его распределение сильно отличается от других и к тому же присутствует мультиколлениарность."
   ]
  },
  {
   "cell_type": "markdown",
   "metadata": {},
   "source": [
    "## Подготовка к расчёту прибыли"
   ]
  },
  {
   "cell_type": "markdown",
   "metadata": {},
   "source": [
    "### Расчёт необходимого объёма сырья в скважине"
   ]
  },
  {
   "cell_type": "markdown",
   "metadata": {},
   "source": [
    "Рассчитаем, какой объём должен быть в регионе, чтобы считаться безубыточным."
   ]
  },
  {
   "cell_type": "markdown",
   "metadata": {},
   "source": [
    "Просвоим имена константам из условия:"
   ]
  },
  {
   "cell_type": "code",
   "execution_count": 44,
   "metadata": {},
   "outputs": [],
   "source": [
    "PRICE_PRODUCT = 450_000  # Стоимость тысячи баррелей в рублях"
   ]
  },
  {
   "cell_type": "code",
   "execution_count": 45,
   "metadata": {},
   "outputs": [],
   "source": [
    "WELLS_COST = 10_000_000_000  # Стоимость разработки скважин в регионе в рублях"
   ]
  },
  {
   "cell_type": "code",
   "execution_count": 46,
   "metadata": {},
   "outputs": [],
   "source": [
    "NUMBER_WELLS = 200  # Планируемое количество скважин к разработке"
   ]
  },
  {
   "cell_type": "markdown",
   "metadata": {},
   "source": [
    "Теперь рассчитаем стоимость разработки одной скважины, разделив общий бюджет на количество планируемых скважин:"
   ]
  },
  {
   "cell_type": "code",
   "execution_count": 47,
   "metadata": {},
   "outputs": [
    {
     "data": {
      "text/plain": [
       "50000000.0"
      ]
     },
     "execution_count": 47,
     "metadata": {},
     "output_type": "execute_result"
    }
   ],
   "source": [
    "TARGET_COST_WELL = WELLS_COST / NUMBER_WELLS\n",
    "TARGET_COST_WELL"
   ]
  },
  {
   "cell_type": "markdown",
   "metadata": {},
   "source": [
    "Стоимость разработки одной скважины составляет 50 000 000 млн. рублей. Посчитаем объем, который должен давать регион:"
   ]
  },
  {
   "cell_type": "code",
   "execution_count": 48,
   "metadata": {},
   "outputs": [
    {
     "data": {
      "text/plain": [
       "22222.22"
      ]
     },
     "execution_count": 48,
     "metadata": {},
     "output_type": "execute_result"
    }
   ],
   "source": [
    "TARGET_VOLUME_REGION = WELLS_COST / PRICE_PRODUCT\n",
    "round(TARGET_VOLUME_REGION, 2)"
   ]
  },
  {
   "cell_type": "markdown",
   "metadata": {},
   "source": [
    "Регион должен иметь объём не менее 22 222 тысяч баррелей. Известно, что в регионе планируется разработать только 200 скважин. Тогда посчитаем среднее значение объема на одну скважину:"
   ]
  },
  {
   "cell_type": "code",
   "execution_count": 49,
   "metadata": {},
   "outputs": [
    {
     "data": {
      "text/plain": [
       "111.11"
      ]
     },
     "execution_count": 49,
     "metadata": {},
     "output_type": "execute_result"
    }
   ],
   "source": [
    "TARGET_VOLUME_WELL = TARGET_VOLUME_REGION / NUMBER_WELLS\n",
    "round(TARGET_VOLUME_WELL, 2)"
   ]
  },
  {
   "cell_type": "markdown",
   "metadata": {},
   "source": [
    "**Итого:**  \n",
    "111 баррелей в среднем должна приносить скважина в регионе."
   ]
  },
  {
   "cell_type": "markdown",
   "metadata": {},
   "source": [
    "### Расчёт среднего объёма сырья в регионах"
   ]
  },
  {
   "cell_type": "markdown",
   "metadata": {},
   "source": [
    "Сохраним нужную информацию в отдельные переменные:"
   ]
  },
  {
   "cell_type": "code",
   "execution_count": 50,
   "metadata": {},
   "outputs": [],
   "source": [
    "production_region_0 = region_0.loc[:, ['id', 'product']]\n",
    "production_region_1 = region_1.loc[:, ['id', 'product']]\n",
    "production_region_2 = region_2.loc[:, ['id', 'product']]"
   ]
  },
  {
   "cell_type": "markdown",
   "metadata": {},
   "source": [
    "Разрабатывать будут только 200 скважин, следовательно, нужно отобрать 200 самых прибыльных. Для этого отсортируем данные по возрастанию и сбросим индексы."
   ]
  },
  {
   "cell_type": "code",
   "execution_count": 51,
   "metadata": {},
   "outputs": [],
   "source": [
    "production_region_0 = production_region_0.sort_values(by=['product'], ascending=False)\n",
    "production_region_0 = production_region_0.reset_index(drop=True)"
   ]
  },
  {
   "cell_type": "code",
   "execution_count": 52,
   "metadata": {},
   "outputs": [],
   "source": [
    "production_region_1 = production_region_1.sort_values(by=['product'], ascending=False)\n",
    "production_region_1 = production_region_1.reset_index(drop=True)"
   ]
  },
  {
   "cell_type": "code",
   "execution_count": 53,
   "metadata": {},
   "outputs": [],
   "source": [
    "production_region_2 = production_region_2.sort_values(by=['product'], ascending=False)\n",
    "production_region_2 = production_region_2.reset_index(drop=True)"
   ]
  },
  {
   "cell_type": "markdown",
   "metadata": {},
   "source": [
    "Посчитаем по каждому региону среднее для лучших 200 скважин."
   ]
  },
  {
   "cell_type": "code",
   "execution_count": 54,
   "metadata": {},
   "outputs": [
    {
     "data": {
      "text/plain": [
       "count    200.000000\n",
       "mean     184.833740\n",
       "std        0.313843\n",
       "min      184.356455\n",
       "25%      184.556307\n",
       "50%      184.798678\n",
       "75%      185.117594\n",
       "max      185.364347\n",
       "Name: product, dtype: float64"
      ]
     },
     "execution_count": 54,
     "metadata": {},
     "output_type": "execute_result"
    }
   ],
   "source": [
    "production_region_0.loc[:199]['product'].describe()"
   ]
  },
  {
   "cell_type": "code",
   "execution_count": 55,
   "metadata": {},
   "outputs": [
    {
     "data": {
      "text/plain": [
       "count    2.000000e+02\n",
       "mean     1.379454e+02\n",
       "std      4.843815e-13\n",
       "min      1.379454e+02\n",
       "25%      1.379454e+02\n",
       "50%      1.379454e+02\n",
       "75%      1.379454e+02\n",
       "max      1.379454e+02\n",
       "Name: product, dtype: float64"
      ]
     },
     "execution_count": 55,
     "metadata": {},
     "output_type": "execute_result"
    }
   ],
   "source": [
    "production_region_1.loc[:199]['product'].describe()"
   ]
  },
  {
   "cell_type": "code",
   "execution_count": 56,
   "metadata": {},
   "outputs": [
    {
     "data": {
      "text/plain": [
       "count    200.000000\n",
       "mean     189.551477\n",
       "std        0.305075\n",
       "min      189.024253\n",
       "25%      189.296699\n",
       "50%      189.560329\n",
       "75%      189.826425\n",
       "max      190.029838\n",
       "Name: product, dtype: float64"
      ]
     },
     "execution_count": 56,
     "metadata": {},
     "output_type": "execute_result"
    }
   ],
   "source": [
    "production_region_2.loc[:199]['product'].describe()"
   ]
  },
  {
   "cell_type": "markdown",
   "metadata": {},
   "source": [
    "Из данных видно, что в регионе 1 наименьшее среднее количество сырья на скважину. Наибольшее среднее - в регионе 2.  \n",
    "Теперь проведем анализ вероятности убытков, то есть в каких регионах есть большие шансы набрать в среднем 111 баррелей на скважину. Сформируем нулевую и альтернативную гипотезы.  \n",
    "**Нулевая гипотеза** - добыча в регионе будет 111,1 баррель на скважину или меньше.  \n",
    "**Альтернативная гипотеза** - добыча в регионе будет больше 111,11 баррель.  \n",
    "Уровень значимости установим в 0,025.  \n",
    "Для проверки гипотезы воспользуемся одновыборочным t-тестом."
   ]
  },
  {
   "cell_type": "markdown",
   "metadata": {},
   "source": [
    "### Анализ региона 0"
   ]
  },
  {
   "cell_type": "code",
   "execution_count": 57,
   "metadata": {},
   "outputs": [
    {
     "name": "stdout",
     "output_type": "stream",
     "text": [
      "Отвергаем гипотезу.\n"
     ]
    }
   ],
   "source": [
    "alpha = 0.025\n",
    "\n",
    "results_product = st.ttest_1samp(\n",
    "    production_region_0.loc[:199]['product'], TARGET_VOLUME_WELL,\n",
    "    alternative='greater')\n",
    "\n",
    "if results_product.pvalue < alpha:\n",
    "     print('Отвергаем гипотезу.')\n",
    "else:\n",
    "    print('Не получилось отвергнуть нулевую гипотезу.')"
   ]
  },
  {
   "cell_type": "markdown",
   "metadata": {},
   "source": [
    "В регионе 0 вероятность убытков меньше, чем 2,5%."
   ]
  },
  {
   "cell_type": "markdown",
   "metadata": {},
   "source": [
    "### Анализ региона 1"
   ]
  },
  {
   "cell_type": "code",
   "execution_count": 58,
   "metadata": {},
   "outputs": [
    {
     "name": "stdout",
     "output_type": "stream",
     "text": [
      "Отвергаем гипотезу.\n"
     ]
    }
   ],
   "source": [
    "alpha = 0.025\n",
    "\n",
    "results_product = st.ttest_1samp(\n",
    "    production_region_1.loc[:199]['product'], TARGET_VOLUME_WELL,\n",
    "    alternative='greater')\n",
    "\n",
    "if results_product.pvalue < alpha:\n",
    "     print('Отвергаем гипотезу.')\n",
    "else:\n",
    "    print('Не получилось отвергнуть нулевую гипотезу.')"
   ]
  },
  {
   "cell_type": "markdown",
   "metadata": {},
   "source": [
    "В регионе 1 вероятность убытков меньше, чем 2,5%."
   ]
  },
  {
   "cell_type": "markdown",
   "metadata": {},
   "source": [
    "### Анализ региона 2"
   ]
  },
  {
   "cell_type": "code",
   "execution_count": 59,
   "metadata": {},
   "outputs": [
    {
     "name": "stdout",
     "output_type": "stream",
     "text": [
      "Отвергаем гипотезу.\n"
     ]
    }
   ],
   "source": [
    "alpha = 0.025\n",
    "\n",
    "results_product = st.ttest_1samp(\n",
    "    production_region_2.loc[:199]['product'], TARGET_VOLUME_WELL,\n",
    "    alternative='greater')\n",
    "\n",
    "if results_product.pvalue < alpha:\n",
    "     print('Отвергаем гипотезу.')\n",
    "else:\n",
    "    print('Не получилось отвергнуть нулевую гипотезу.')"
   ]
  },
  {
   "cell_type": "markdown",
   "metadata": {},
   "source": [
    "В регионе 2 вероятность убытков меньше, чем 2,5%."
   ]
  },
  {
   "cell_type": "markdown",
   "metadata": {},
   "source": [
    "### Выводы по разделу 4"
   ]
  },
  {
   "cell_type": "markdown",
   "metadata": {},
   "source": [
    "1. Если взять 200 самых прибыльных скважин, то в каждом регионе вероятность убытков ниже 2,5%.\n",
    "2. Необходимый объём в скважине должен быть в среднем не менее 111 тыс. баррелей."
   ]
  },
  {
   "cell_type": "markdown",
   "metadata": {},
   "source": [
    "## Расчёт прибыли и рисков "
   ]
  },
  {
   "cell_type": "markdown",
   "metadata": {},
   "source": [
    "Ранее уже получили предсказания для каждого региона на валидационной выборке. Преобразуем их в датафреймы и добавим дополнительные признаки."
   ]
  },
  {
   "cell_type": "markdown",
   "metadata": {},
   "source": [
    "Данные по региону 0:"
   ]
  },
  {
   "cell_type": "code",
   "execution_count": 60,
   "metadata": {},
   "outputs": [],
   "source": [
    "X_test_0 = X_test_0.merge(region_0[['id','product']], how='left', left_index=True, right_index=True)\n",
    "y_test_pred_region_0 = pd.DataFrame(y_test_pred_region_0)\n",
    "valid_region_0 = X_test_0.reset_index(drop=True).join(y_test_pred_region_0).rename(columns={0:'pred_product'})"
   ]
  },
  {
   "cell_type": "markdown",
   "metadata": {},
   "source": [
    "Данные по региону 1:"
   ]
  },
  {
   "cell_type": "code",
   "execution_count": 61,
   "metadata": {},
   "outputs": [],
   "source": [
    "X_test_1 = X_test_1.merge(region_1[['id','product']], how='left', left_index=True, right_index=True)\n",
    "y_test_pred_region_1 = pd.DataFrame(y_test_pred_region_1)\n",
    "valid_region_1 = X_test_1.reset_index(drop=True).join(y_test_pred_region_1).rename(columns={0:'pred_product'})"
   ]
  },
  {
   "cell_type": "markdown",
   "metadata": {},
   "source": [
    "Данные по региону 2:"
   ]
  },
  {
   "cell_type": "code",
   "execution_count": 62,
   "metadata": {},
   "outputs": [],
   "source": [
    "X_test_2 = X_test_2.merge(region_2[['id','product']], how='left', left_index=True, right_index=True)\n",
    "y_test_pred_region_2 = pd.DataFrame(y_test_pred_region_2)\n",
    "valid_region_2 = X_test_2.reset_index(drop=True).join(y_test_pred_region_2).rename(columns={0:'pred_product'})"
   ]
  },
  {
   "cell_type": "markdown",
   "metadata": {},
   "source": [
    "Данные для каждого региона готовы."
   ]
  },
  {
   "cell_type": "markdown",
   "metadata": {},
   "source": [
    "### Расчёт доверительного интервала методом Bootstrap"
   ]
  },
  {
   "cell_type": "markdown",
   "metadata": {},
   "source": [
    "Применим bootstrap метод для региона 0:"
   ]
  },
  {
   "cell_type": "code",
   "execution_count": 63,
   "metadata": {},
   "outputs": [],
   "source": [
    "state = np.random.RandomState(12345)"
   ]
  },
  {
   "cell_type": "code",
   "execution_count": 64,
   "metadata": {},
   "outputs": [
    {
     "name": "stdout",
     "output_type": "stream",
     "text": [
      "Доверительный 95% интервал прибыли: -117.74 - 911.74 млн. рублей.\n",
      "Средняя прибыль составляет 406.28 млн. рублей.\n"
     ]
    }
   ],
   "source": [
    "values_region_0 = bootstrap_method_real_product(valid_region_0)"
   ]
  },
  {
   "cell_type": "markdown",
   "metadata": {},
   "source": [
    "Для региона 1:"
   ]
  },
  {
   "cell_type": "code",
   "execution_count": 65,
   "metadata": {},
   "outputs": [
    {
     "name": "stdout",
     "output_type": "stream",
     "text": [
      "Доверительный 95% интервал прибыли: 35.73 - 828.01 млн. рублей.\n",
      "Средняя прибыль составляет 441.5 млн. рублей.\n"
     ]
    }
   ],
   "source": [
    "values_region_1 = bootstrap_method_real_product(valid_region_1)"
   ]
  },
  {
   "cell_type": "markdown",
   "metadata": {},
   "source": [
    "Для региона 2:"
   ]
  },
  {
   "cell_type": "code",
   "execution_count": 66,
   "metadata": {},
   "outputs": [
    {
     "name": "stdout",
     "output_type": "stream",
     "text": [
      "Доверительный 95% интервал прибыли: -164.79 - 888.21 млн. рублей.\n",
      "Средняя прибыль составляет 385.21 млн. рублей.\n"
     ]
    }
   ],
   "source": [
    "values_region_2 = bootstrap_method_real_product(valid_region_2)"
   ]
  },
  {
   "cell_type": "markdown",
   "metadata": {},
   "source": [
    "### Оценка рисков по данным Bootstrap"
   ]
  },
  {
   "cell_type": "markdown",
   "metadata": {},
   "source": [
    "Посмотрим на количество отрицательных значений в каждом распределении прибыли."
   ]
  },
  {
   "cell_type": "markdown",
   "metadata": {},
   "source": [
    "В регионе 0 доля отрицательных значений:"
   ]
  },
  {
   "cell_type": "code",
   "execution_count": 67,
   "metadata": {},
   "outputs": [
    {
     "data": {
      "text/plain": [
       "0.067"
      ]
     },
     "execution_count": 67,
     "metadata": {},
     "output_type": "execute_result"
    }
   ],
   "source": [
    "values_region_0.loc[values_region_0 <= 0].count() / values_region_0.count()"
   ]
  },
  {
   "cell_type": "markdown",
   "metadata": {},
   "source": [
    "В регионе 1 доля отрицательных значений:"
   ]
  },
  {
   "cell_type": "code",
   "execution_count": 68,
   "metadata": {},
   "outputs": [
    {
     "data": {
      "text/plain": [
       "0.016"
      ]
     },
     "execution_count": 68,
     "metadata": {},
     "output_type": "execute_result"
    }
   ],
   "source": [
    "values_region_1.loc[values_region_1 <= 0].count() / values_region_1.count()"
   ]
  },
  {
   "cell_type": "markdown",
   "metadata": {},
   "source": [
    "В регионе 2 доля отрицательных значений:"
   ]
  },
  {
   "cell_type": "code",
   "execution_count": 69,
   "metadata": {},
   "outputs": [
    {
     "data": {
      "text/plain": [
       "0.078"
      ]
     },
     "execution_count": 69,
     "metadata": {},
     "output_type": "execute_result"
    }
   ],
   "source": [
    "values_region_2.loc[values_region_2 <= 0].count() / values_region_2.count()"
   ]
  },
  {
   "cell_type": "markdown",
   "metadata": {},
   "source": [
    "Очевидно, что наименьшая доля отрицательных значений в регионе 1, наибольшая - в регион 2."
   ]
  },
  {
   "cell_type": "markdown",
   "metadata": {},
   "source": [
    "### Вывод по разделу 5\n",
    "\n",
    "Как видно из данных анализа, в регионе 1 самая большая средняя возможная прибыль и риск получить убыток там ниже. В связи с этим наилучшим регионом для разработки является регион 1."
   ]
  },
  {
   "cell_type": "markdown",
   "metadata": {},
   "source": [
    "## Выводы"
   ]
  },
  {
   "cell_type": "markdown",
   "metadata": {},
   "source": [
    "**В рамках работы выполнено:**\n",
    "\n",
    "1. Загружены и обработаны предоставленные данные.\n",
    "2. Проведен анализ данных на наличие дубликатов, пропусков, аномальный и выпадающих значений.\n",
    "3. Составлены и обучены ряд моделей для прогнозирования объёма сырья в скважине. \n",
    "4. Проанализированы признаки, на которых обучалась модель и установлены те, которые имеют наибольший вклад в конечный результат.\n",
    "5. На основании результатов моделирования была посчитана ожидаемая прибыль в каждом регионе и вероятность возникновения убытков.\n",
    "\n",
    "**Основные результаты работы:**\n",
    "1. На основании предоставленных данных установлено, что в **регионе 1** наибольший средний объём на скважину. Следовательно, в этом регионе ожидаемая прибыль также наибольшая. Ожидаемая прибыль составляет 35.73 - 828.01 млн. рублей на весь регион. Указанный регион рекомендуется для разработки.\n",
    "2. На результат прогноза модели наибольшее влияние оказывает показатель f2. \n",
    "3. Только в регионе 1 вероятность убытков ниже 2,5%, в других регионах она значительно выше.\n",
    "\n",
    "\n",
    "**Рекомендации для улучшение качество прогноза:**\n",
    "\n",
    "1. Предоставить данные по другим регионам для уточнения модели.\n",
    "2. По возможности предоставить другие показатели к скважинам. Возможно, есть какие-то признаки, которые позволят уточнить расчет."
   ]
  }
 ],
 "metadata": {
  "ExecuteTimeLog": [
   {
    "duration": 405,
    "start_time": "2024-06-06T04:40:18.372Z"
   },
   {
    "duration": 344,
    "start_time": "2024-06-09T07:36:42.330Z"
   },
   {
    "duration": 552,
    "start_time": "2024-06-09T07:37:50.555Z"
   },
   {
    "duration": 2,
    "start_time": "2024-06-09T07:40:32.128Z"
   },
   {
    "duration": 18,
    "start_time": "2024-06-09T07:40:44.160Z"
   },
   {
    "duration": 8,
    "start_time": "2024-06-09T07:41:22.791Z"
   },
   {
    "duration": 15,
    "start_time": "2024-06-09T07:41:40.003Z"
   },
   {
    "duration": 2,
    "start_time": "2024-06-09T07:42:08.405Z"
   },
   {
    "duration": 3,
    "start_time": "2024-06-09T07:42:17.191Z"
   },
   {
    "duration": 11,
    "start_time": "2024-06-09T07:42:19.309Z"
   },
   {
    "duration": 3,
    "start_time": "2024-06-09T07:42:46.045Z"
   },
   {
    "duration": 13,
    "start_time": "2024-06-09T07:42:47.797Z"
   },
   {
    "duration": 12,
    "start_time": "2024-06-09T07:43:02.017Z"
   },
   {
    "duration": 2,
    "start_time": "2024-06-09T07:44:38.050Z"
   },
   {
    "duration": 59,
    "start_time": "2024-06-09T07:45:07.026Z"
   },
   {
    "duration": 33,
    "start_time": "2024-06-09T07:45:18.066Z"
   },
   {
    "duration": 5,
    "start_time": "2024-06-09T07:49:10.662Z"
   },
   {
    "duration": 6,
    "start_time": "2024-06-09T07:52:02.971Z"
   },
   {
    "duration": 75,
    "start_time": "2024-06-09T07:53:29.233Z"
   },
   {
    "duration": 66,
    "start_time": "2024-06-09T07:53:44.544Z"
   },
   {
    "duration": 74,
    "start_time": "2024-06-09T07:54:25.560Z"
   },
   {
    "duration": 56,
    "start_time": "2024-06-09T07:54:39.240Z"
   },
   {
    "duration": 3,
    "start_time": "2024-06-09T07:56:01.407Z"
   },
   {
    "duration": 32,
    "start_time": "2024-06-09T07:56:04.792Z"
   },
   {
    "duration": 3,
    "start_time": "2024-06-09T08:00:17.505Z"
   },
   {
    "duration": 38,
    "start_time": "2024-06-09T08:00:19.649Z"
   },
   {
    "duration": 60,
    "start_time": "2024-06-09T08:01:47.801Z"
   },
   {
    "duration": 3,
    "start_time": "2024-06-09T08:01:57.178Z"
   },
   {
    "duration": 7,
    "start_time": "2024-06-09T08:02:00.768Z"
   },
   {
    "duration": 2,
    "start_time": "2024-06-09T08:02:05.928Z"
   },
   {
    "duration": 34,
    "start_time": "2024-06-09T08:02:07.999Z"
   },
   {
    "duration": 3,
    "start_time": "2024-06-09T08:02:25.319Z"
   },
   {
    "duration": 32,
    "start_time": "2024-06-09T08:02:28.135Z"
   },
   {
    "duration": 2,
    "start_time": "2024-06-09T08:11:10.566Z"
   },
   {
    "duration": 33,
    "start_time": "2024-06-09T08:11:12.653Z"
   },
   {
    "duration": 3,
    "start_time": "2024-06-09T08:11:35.917Z"
   },
   {
    "duration": 3,
    "start_time": "2024-06-09T08:11:39.605Z"
   },
   {
    "duration": 36,
    "start_time": "2024-06-09T08:11:41.478Z"
   },
   {
    "duration": 3,
    "start_time": "2024-06-09T08:11:53.909Z"
   },
   {
    "duration": 32,
    "start_time": "2024-06-09T08:11:55.933Z"
   },
   {
    "duration": 3,
    "start_time": "2024-06-09T08:12:15.749Z"
   },
   {
    "duration": 32,
    "start_time": "2024-06-09T08:12:17.741Z"
   },
   {
    "duration": 3,
    "start_time": "2024-06-09T08:15:50.352Z"
   },
   {
    "duration": 33,
    "start_time": "2024-06-09T08:16:01.201Z"
   },
   {
    "duration": 2,
    "start_time": "2024-06-09T08:18:48.182Z"
   },
   {
    "duration": 7,
    "start_time": "2024-06-09T08:19:12.358Z"
   },
   {
    "duration": 3,
    "start_time": "2024-06-09T08:19:41.158Z"
   },
   {
    "duration": 8,
    "start_time": "2024-06-09T08:19:44.573Z"
   },
   {
    "duration": 3,
    "start_time": "2024-06-09T08:21:54.209Z"
   },
   {
    "duration": 143,
    "start_time": "2024-06-09T08:21:57.874Z"
   },
   {
    "duration": 81,
    "start_time": "2024-06-09T08:25:18.942Z"
   },
   {
    "duration": 74,
    "start_time": "2024-06-09T08:25:26.910Z"
   },
   {
    "duration": 3,
    "start_time": "2024-06-09T08:25:31.598Z"
   },
   {
    "duration": 981,
    "start_time": "2024-06-09T08:25:36.662Z"
   },
   {
    "duration": 3,
    "start_time": "2024-06-09T08:26:26.278Z"
   },
   {
    "duration": 1030,
    "start_time": "2024-06-09T08:26:29.470Z"
   },
   {
    "duration": 3,
    "start_time": "2024-06-09T08:28:09.632Z"
   },
   {
    "duration": 4,
    "start_time": "2024-06-09T08:28:32.975Z"
   },
   {
    "duration": 49,
    "start_time": "2024-06-09T08:28:36.479Z"
   },
   {
    "duration": 3,
    "start_time": "2024-06-09T08:29:27.795Z"
   },
   {
    "duration": 116,
    "start_time": "2024-06-09T08:29:31.176Z"
   },
   {
    "duration": 3,
    "start_time": "2024-06-09T08:29:56.569Z"
   },
   {
    "duration": 129,
    "start_time": "2024-06-09T08:30:00.578Z"
   },
   {
    "duration": 330,
    "start_time": "2024-06-10T03:04:23.447Z"
   },
   {
    "duration": 2,
    "start_time": "2024-06-10T03:04:23.843Z"
   },
   {
    "duration": 4,
    "start_time": "2024-06-10T03:04:24.215Z"
   },
   {
    "duration": 688,
    "start_time": "2024-06-10T03:04:24.579Z"
   },
   {
    "duration": 3,
    "start_time": "2024-06-10T03:04:26.979Z"
   },
   {
    "duration": 52,
    "start_time": "2024-06-10T03:04:28.475Z"
   },
   {
    "duration": 159,
    "start_time": "2024-06-10T03:04:31.923Z"
   },
   {
    "duration": 2,
    "start_time": "2024-06-10T03:08:11.655Z"
   },
   {
    "duration": 124,
    "start_time": "2024-06-10T03:08:16.023Z"
   },
   {
    "duration": 3,
    "start_time": "2024-06-10T03:08:37.448Z"
   },
   {
    "duration": 46,
    "start_time": "2024-06-10T03:08:40.088Z"
   },
   {
    "duration": 51,
    "start_time": "2024-06-17T05:34:57.695Z"
   },
   {
    "duration": 411,
    "start_time": "2024-06-17T05:35:02.118Z"
   },
   {
    "duration": 14,
    "start_time": "2024-06-17T05:35:02.531Z"
   },
   {
    "duration": 621,
    "start_time": "2024-06-17T05:35:02.547Z"
   },
   {
    "duration": 769,
    "start_time": "2024-06-17T05:35:03.170Z"
   },
   {
    "duration": 3,
    "start_time": "2024-06-17T05:35:03.941Z"
   },
   {
    "duration": 56,
    "start_time": "2024-06-17T05:35:03.945Z"
   },
   {
    "duration": 174,
    "start_time": "2024-06-17T05:35:04.003Z"
   },
   {
    "duration": 15,
    "start_time": "2024-06-17T05:35:09.824Z"
   },
   {
    "duration": 847,
    "start_time": "2024-06-17T06:00:13.236Z"
   },
   {
    "duration": 11,
    "start_time": "2024-06-17T06:05:56.166Z"
   },
   {
    "duration": 8,
    "start_time": "2024-06-17T06:06:55.880Z"
   },
   {
    "duration": 4,
    "start_time": "2024-06-17T06:07:14.993Z"
   },
   {
    "duration": 4,
    "start_time": "2024-06-17T06:07:17.592Z"
   },
   {
    "duration": 11,
    "start_time": "2024-06-17T06:07:39.520Z"
   },
   {
    "duration": 3,
    "start_time": "2024-06-17T06:12:16.936Z"
   },
   {
    "duration": 32,
    "start_time": "2024-06-17T08:36:05.001Z"
   },
   {
    "duration": 108,
    "start_time": "2024-06-17T08:36:55.682Z"
   },
   {
    "duration": 2213,
    "start_time": "2024-06-17T08:37:13.954Z"
   },
   {
    "duration": 2005,
    "start_time": "2024-06-17T08:38:32.964Z"
   },
   {
    "duration": 2108,
    "start_time": "2024-06-17T08:39:44.750Z"
   },
   {
    "duration": 2,
    "start_time": "2024-06-17T08:46:40.184Z"
   },
   {
    "duration": 3,
    "start_time": "2024-06-17T08:47:17.776Z"
   },
   {
    "duration": 4,
    "start_time": "2024-06-17T08:47:18.337Z"
   },
   {
    "duration": 1865,
    "start_time": "2024-06-17T08:55:58.793Z"
   },
   {
    "duration": 2,
    "start_time": "2024-06-17T08:56:06.506Z"
   },
   {
    "duration": 3,
    "start_time": "2024-06-17T08:56:06.920Z"
   },
   {
    "duration": 2029,
    "start_time": "2024-06-17T08:56:37.432Z"
   },
   {
    "duration": 14,
    "start_time": "2024-06-17T08:56:52.863Z"
   },
   {
    "duration": 5,
    "start_time": "2024-06-17T08:56:56.452Z"
   },
   {
    "duration": 11,
    "start_time": "2024-06-17T08:58:45.709Z"
   },
   {
    "duration": 6,
    "start_time": "2024-06-17T08:58:55.018Z"
   },
   {
    "duration": 9,
    "start_time": "2024-06-17T09:00:00.953Z"
   },
   {
    "duration": 8,
    "start_time": "2024-06-17T09:00:25.204Z"
   },
   {
    "duration": 8,
    "start_time": "2024-06-17T09:00:38.780Z"
   },
   {
    "duration": 3,
    "start_time": "2024-06-17T09:01:38.057Z"
   },
   {
    "duration": 4,
    "start_time": "2024-06-17T09:03:09.831Z"
   },
   {
    "duration": 1962,
    "start_time": "2024-06-17T09:03:32.699Z"
   },
   {
    "duration": 5,
    "start_time": "2024-06-17T09:06:39.957Z"
   },
   {
    "duration": 2364,
    "start_time": "2024-06-17T09:22:46.697Z"
   },
   {
    "duration": 3,
    "start_time": "2024-06-17T09:22:53.652Z"
   },
   {
    "duration": 3,
    "start_time": "2024-06-17T09:22:54.087Z"
   },
   {
    "duration": 6,
    "start_time": "2024-06-17T09:22:59.015Z"
   },
   {
    "duration": 4,
    "start_time": "2024-06-17T09:22:59.635Z"
   },
   {
    "duration": 2427,
    "start_time": "2024-06-17T09:24:03.722Z"
   },
   {
    "duration": 2320,
    "start_time": "2024-06-17T09:24:12.444Z"
   },
   {
    "duration": 4,
    "start_time": "2024-06-17T09:25:07.361Z"
   },
   {
    "duration": 3,
    "start_time": "2024-06-17T09:25:17.001Z"
   },
   {
    "duration": 6,
    "start_time": "2024-06-17T09:25:52.390Z"
   },
   {
    "duration": 3,
    "start_time": "2024-06-17T09:26:08.010Z"
   },
   {
    "duration": 4,
    "start_time": "2024-06-17T09:26:14.501Z"
   },
   {
    "duration": 1789,
    "start_time": "2024-06-17T09:30:43.660Z"
   },
   {
    "duration": 3,
    "start_time": "2024-06-17T09:31:44.748Z"
   },
   {
    "duration": 3,
    "start_time": "2024-06-17T09:31:56.906Z"
   },
   {
    "duration": 8,
    "start_time": "2024-06-17T09:32:24.901Z"
   },
   {
    "duration": 3,
    "start_time": "2024-06-17T09:32:46.110Z"
   },
   {
    "duration": 4492,
    "start_time": "2024-06-17T09:33:30.436Z"
   },
   {
    "duration": 6,
    "start_time": "2024-06-17T09:35:36.794Z"
   },
   {
    "duration": 2444,
    "start_time": "2024-06-17T09:35:37.313Z"
   },
   {
    "duration": 3,
    "start_time": "2024-06-17T09:35:42.300Z"
   },
   {
    "duration": 3,
    "start_time": "2024-06-17T09:35:42.737Z"
   },
   {
    "duration": 6,
    "start_time": "2024-06-17T09:35:45.834Z"
   },
   {
    "duration": 3,
    "start_time": "2024-06-17T09:35:46.462Z"
   },
   {
    "duration": 6,
    "start_time": "2024-06-17T09:35:50.006Z"
   },
   {
    "duration": 19,
    "start_time": "2024-06-17T09:36:35.417Z"
   },
   {
    "duration": 1030,
    "start_time": "2024-06-17T09:37:00.244Z"
   },
   {
    "duration": 65,
    "start_time": "2024-06-17T09:37:09.946Z"
   },
   {
    "duration": 0,
    "start_time": "2024-06-17T09:39:05.695Z"
   },
   {
    "duration": 0,
    "start_time": "2024-06-17T09:39:05.696Z"
   },
   {
    "duration": 0,
    "start_time": "2024-06-17T09:39:05.697Z"
   },
   {
    "duration": 0,
    "start_time": "2024-06-17T09:39:05.699Z"
   },
   {
    "duration": 0,
    "start_time": "2024-06-17T09:39:05.699Z"
   },
   {
    "duration": 0,
    "start_time": "2024-06-17T09:39:05.701Z"
   },
   {
    "duration": 0,
    "start_time": "2024-06-17T09:39:05.702Z"
   },
   {
    "duration": 0,
    "start_time": "2024-06-17T09:39:05.746Z"
   },
   {
    "duration": 0,
    "start_time": "2024-06-17T09:39:05.747Z"
   },
   {
    "duration": 0,
    "start_time": "2024-06-17T09:39:05.748Z"
   },
   {
    "duration": 0,
    "start_time": "2024-06-17T09:39:05.749Z"
   },
   {
    "duration": 0,
    "start_time": "2024-06-17T09:39:05.750Z"
   },
   {
    "duration": 0,
    "start_time": "2024-06-17T09:39:05.752Z"
   },
   {
    "duration": 0,
    "start_time": "2024-06-17T09:39:05.753Z"
   },
   {
    "duration": 0,
    "start_time": "2024-06-17T09:39:05.754Z"
   },
   {
    "duration": 0,
    "start_time": "2024-06-17T09:39:05.755Z"
   },
   {
    "duration": 0,
    "start_time": "2024-06-17T09:39:05.756Z"
   },
   {
    "duration": 4364,
    "start_time": "2024-06-17T09:39:12.178Z"
   },
   {
    "duration": 2638,
    "start_time": "2024-06-17T09:39:23.476Z"
   },
   {
    "duration": 4,
    "start_time": "2024-06-17T09:39:26.117Z"
   },
   {
    "duration": 42,
    "start_time": "2024-06-17T09:39:26.122Z"
   },
   {
    "duration": 0,
    "start_time": "2024-06-17T09:39:26.165Z"
   },
   {
    "duration": 0,
    "start_time": "2024-06-17T09:39:26.167Z"
   },
   {
    "duration": 0,
    "start_time": "2024-06-17T09:39:26.168Z"
   },
   {
    "duration": 0,
    "start_time": "2024-06-17T09:39:26.169Z"
   },
   {
    "duration": 0,
    "start_time": "2024-06-17T09:39:26.170Z"
   },
   {
    "duration": 0,
    "start_time": "2024-06-17T09:39:26.171Z"
   },
   {
    "duration": 0,
    "start_time": "2024-06-17T09:39:26.172Z"
   },
   {
    "duration": 0,
    "start_time": "2024-06-17T09:39:26.173Z"
   },
   {
    "duration": 0,
    "start_time": "2024-06-17T09:39:26.174Z"
   },
   {
    "duration": 0,
    "start_time": "2024-06-17T09:39:26.175Z"
   },
   {
    "duration": 0,
    "start_time": "2024-06-17T09:39:26.176Z"
   },
   {
    "duration": 0,
    "start_time": "2024-06-17T09:39:26.177Z"
   },
   {
    "duration": 0,
    "start_time": "2024-06-17T09:39:26.178Z"
   },
   {
    "duration": 0,
    "start_time": "2024-06-17T09:39:26.179Z"
   },
   {
    "duration": 4,
    "start_time": "2024-06-17T09:39:36.945Z"
   },
   {
    "duration": 3,
    "start_time": "2024-06-17T09:39:37.313Z"
   },
   {
    "duration": 432,
    "start_time": "2024-06-17T09:39:37.678Z"
   },
   {
    "duration": 3,
    "start_time": "2024-06-17T09:39:38.111Z"
   },
   {
    "duration": 65,
    "start_time": "2024-06-17T09:39:38.514Z"
   },
   {
    "duration": 175,
    "start_time": "2024-06-17T09:39:42.261Z"
   },
   {
    "duration": 12,
    "start_time": "2024-06-17T09:39:42.613Z"
   },
   {
    "duration": 4,
    "start_time": "2024-06-17T09:39:43.829Z"
   },
   {
    "duration": 6,
    "start_time": "2024-06-17T09:39:45.263Z"
   },
   {
    "duration": 2612,
    "start_time": "2024-06-17T09:39:45.649Z"
   },
   {
    "duration": 4,
    "start_time": "2024-06-17T09:39:51.736Z"
   },
   {
    "duration": 2,
    "start_time": "2024-06-17T09:39:52.452Z"
   },
   {
    "duration": 6,
    "start_time": "2024-06-17T09:39:54.786Z"
   },
   {
    "duration": 3,
    "start_time": "2024-06-17T09:39:55.603Z"
   },
   {
    "duration": 7,
    "start_time": "2024-06-17T09:39:58.480Z"
   },
   {
    "duration": 5,
    "start_time": "2024-06-17T09:40:57.387Z"
   },
   {
    "duration": 31099,
    "start_time": "2024-06-17T09:41:19.466Z"
   },
   {
    "duration": 235,
    "start_time": "2024-06-17T09:43:07.770Z"
   },
   {
    "duration": 1234,
    "start_time": "2024-06-17T09:44:13.832Z"
   },
   {
    "duration": 218,
    "start_time": "2024-06-17T09:44:52.260Z"
   },
   {
    "duration": 3889,
    "start_time": "2024-06-17T11:18:06.055Z"
   },
   {
    "duration": 1588,
    "start_time": "2024-06-17T11:18:09.945Z"
   },
   {
    "duration": 3,
    "start_time": "2024-06-17T11:18:11.534Z"
   },
   {
    "duration": 15,
    "start_time": "2024-06-17T11:18:11.538Z"
   },
   {
    "duration": 1466,
    "start_time": "2024-06-17T11:18:11.555Z"
   },
   {
    "duration": 2,
    "start_time": "2024-06-17T11:18:13.022Z"
   },
   {
    "duration": 50,
    "start_time": "2024-06-17T11:18:13.025Z"
   },
   {
    "duration": 115,
    "start_time": "2024-06-17T11:18:13.076Z"
   },
   {
    "duration": 10,
    "start_time": "2024-06-17T11:18:13.192Z"
   },
   {
    "duration": 4,
    "start_time": "2024-06-17T11:18:13.203Z"
   },
   {
    "duration": 8,
    "start_time": "2024-06-17T11:18:13.209Z"
   },
   {
    "duration": 1873,
    "start_time": "2024-06-17T11:18:13.218Z"
   },
   {
    "duration": 3,
    "start_time": "2024-06-17T11:18:15.093Z"
   },
   {
    "duration": 115,
    "start_time": "2024-06-17T11:18:15.098Z"
   },
   {
    "duration": 31,
    "start_time": "2024-06-17T11:18:15.214Z"
   },
   {
    "duration": 60,
    "start_time": "2024-06-17T11:18:15.247Z"
   },
   {
    "duration": 34,
    "start_time": "2024-06-17T11:18:15.309Z"
   },
   {
    "duration": 33,
    "start_time": "2024-06-17T11:18:15.345Z"
   },
   {
    "duration": 20300,
    "start_time": "2024-06-17T11:18:15.380Z"
   },
   {
    "duration": 850,
    "start_time": "2024-06-17T11:18:35.681Z"
   },
   {
    "duration": 798,
    "start_time": "2024-06-17T11:18:38.834Z"
   },
   {
    "duration": 209,
    "start_time": "2024-06-17T11:18:40.197Z"
   },
   {
    "duration": 1315,
    "start_time": "2024-06-17T11:18:44.180Z"
   },
   {
    "duration": 2,
    "start_time": "2024-06-17T11:18:47.044Z"
   },
   {
    "duration": 2,
    "start_time": "2024-06-17T11:18:47.520Z"
   },
   {
    "duration": 6,
    "start_time": "2024-06-17T11:18:49.394Z"
   },
   {
    "duration": 2,
    "start_time": "2024-06-17T11:18:53.705Z"
   },
   {
    "duration": 5,
    "start_time": "2024-06-17T11:19:58.445Z"
   },
   {
    "duration": 4,
    "start_time": "2024-06-17T11:19:59.171Z"
   },
   {
    "duration": 20810,
    "start_time": "2024-06-17T11:20:00.007Z"
   },
   {
    "duration": 987,
    "start_time": "2024-06-17T11:20:21.678Z"
   },
   {
    "duration": 187,
    "start_time": "2024-06-17T11:20:24.710Z"
   },
   {
    "duration": 1482,
    "start_time": "2024-06-17T11:20:34.709Z"
   },
   {
    "duration": 2,
    "start_time": "2024-06-17T11:20:38.410Z"
   },
   {
    "duration": 2,
    "start_time": "2024-06-17T11:20:38.837Z"
   },
   {
    "duration": 4,
    "start_time": "2024-06-17T11:20:39.690Z"
   },
   {
    "duration": 3,
    "start_time": "2024-06-17T11:20:40.874Z"
   },
   {
    "duration": 5,
    "start_time": "2024-06-17T11:21:20.465Z"
   },
   {
    "duration": 4,
    "start_time": "2024-06-17T11:21:21.682Z"
   },
   {
    "duration": 20702,
    "start_time": "2024-06-17T11:21:25.257Z"
   },
   {
    "duration": 824,
    "start_time": "2024-06-17T11:21:46.916Z"
   },
   {
    "duration": 212,
    "start_time": "2024-06-17T11:21:49.985Z"
   },
   {
    "duration": 61,
    "start_time": "2024-06-17T11:26:31.254Z"
   },
   {
    "duration": 3,
    "start_time": "2024-06-17T11:26:49.157Z"
   },
   {
    "duration": 126,
    "start_time": "2024-06-17T11:30:35.430Z"
   },
   {
    "duration": 3,
    "start_time": "2024-06-17T11:30:40.477Z"
   },
   {
    "duration": 3,
    "start_time": "2024-06-17T11:30:43.441Z"
   },
   {
    "duration": 4594,
    "start_time": "2024-06-18T11:14:29.247Z"
   },
   {
    "duration": 2051,
    "start_time": "2024-06-18T11:14:33.844Z"
   },
   {
    "duration": 5,
    "start_time": "2024-06-18T11:14:35.897Z"
   },
   {
    "duration": 21,
    "start_time": "2024-06-18T11:14:35.903Z"
   },
   {
    "duration": 713,
    "start_time": "2024-06-18T11:14:35.926Z"
   },
   {
    "duration": 3,
    "start_time": "2024-06-18T11:14:36.641Z"
   },
   {
    "duration": 55,
    "start_time": "2024-06-18T11:14:36.645Z"
   },
   {
    "duration": 175,
    "start_time": "2024-06-18T11:14:36.702Z"
   },
   {
    "duration": 12,
    "start_time": "2024-06-18T11:14:36.879Z"
   },
   {
    "duration": 6,
    "start_time": "2024-06-18T11:14:36.893Z"
   },
   {
    "duration": 12,
    "start_time": "2024-06-18T11:14:36.900Z"
   },
   {
    "duration": 2650,
    "start_time": "2024-06-18T11:14:36.913Z"
   },
   {
    "duration": 3,
    "start_time": "2024-06-18T11:14:39.565Z"
   },
   {
    "duration": 187,
    "start_time": "2024-06-18T11:14:39.571Z"
   },
   {
    "duration": 17,
    "start_time": "2024-06-18T11:14:39.760Z"
   },
   {
    "duration": 26,
    "start_time": "2024-06-18T11:14:39.779Z"
   },
   {
    "duration": 16,
    "start_time": "2024-06-18T11:14:39.806Z"
   },
   {
    "duration": 17,
    "start_time": "2024-06-18T11:14:39.824Z"
   },
   {
    "duration": 30642,
    "start_time": "2024-06-18T11:14:39.843Z"
   },
   {
    "duration": 1099,
    "start_time": "2024-06-18T11:15:10.487Z"
   },
   {
    "duration": 278,
    "start_time": "2024-06-18T11:15:11.588Z"
   },
   {
    "duration": 2096,
    "start_time": "2024-06-18T11:15:11.868Z"
   },
   {
    "duration": 4,
    "start_time": "2024-06-18T11:15:13.966Z"
   },
   {
    "duration": 197,
    "start_time": "2024-06-18T11:15:13.972Z"
   },
   {
    "duration": 18,
    "start_time": "2024-06-18T11:15:14.171Z"
   },
   {
    "duration": 8,
    "start_time": "2024-06-18T11:15:14.191Z"
   },
   {
    "duration": 7,
    "start_time": "2024-06-18T11:15:14.200Z"
   },
   {
    "duration": 9,
    "start_time": "2024-06-18T11:15:14.208Z"
   },
   {
    "duration": 30468,
    "start_time": "2024-06-18T11:15:14.219Z"
   },
   {
    "duration": 1023,
    "start_time": "2024-06-18T11:15:44.689Z"
   },
   {
    "duration": 272,
    "start_time": "2024-06-18T11:15:45.714Z"
   },
   {
    "duration": 2171,
    "start_time": "2024-06-18T11:15:45.988Z"
   },
   {
    "duration": 5,
    "start_time": "2024-06-18T11:15:48.161Z"
   },
   {
    "duration": 102,
    "start_time": "2024-06-18T11:15:48.168Z"
   },
   {
    "duration": 9,
    "start_time": "2024-06-18T11:15:48.272Z"
   },
   {
    "duration": 6,
    "start_time": "2024-06-18T11:15:48.283Z"
   },
   {
    "duration": 9,
    "start_time": "2024-06-18T11:15:48.291Z"
   },
   {
    "duration": 8,
    "start_time": "2024-06-18T11:15:48.301Z"
   },
   {
    "duration": 31029,
    "start_time": "2024-06-18T11:15:48.311Z"
   },
   {
    "duration": 1055,
    "start_time": "2024-06-18T11:16:19.342Z"
   },
   {
    "duration": 265,
    "start_time": "2024-06-18T11:16:20.402Z"
   },
   {
    "duration": 2,
    "start_time": "2024-06-18T11:16:20.669Z"
   },
   {
    "duration": 3,
    "start_time": "2024-06-18T11:16:27.244Z"
   },
   {
    "duration": 8,
    "start_time": "2024-06-18T11:27:25.617Z"
   },
   {
    "duration": 5,
    "start_time": "2024-06-18T11:27:39.972Z"
   },
   {
    "duration": 9,
    "start_time": "2024-06-18T11:27:53.206Z"
   },
   {
    "duration": 15,
    "start_time": "2024-06-18T11:28:42.495Z"
   },
   {
    "duration": 17,
    "start_time": "2024-06-18T11:29:46.980Z"
   },
   {
    "duration": 141,
    "start_time": "2024-06-18T11:30:13.574Z"
   },
   {
    "duration": 14,
    "start_time": "2024-06-18T11:30:20.581Z"
   },
   {
    "duration": 12,
    "start_time": "2024-06-18T11:30:31.346Z"
   },
   {
    "duration": 14,
    "start_time": "2024-06-18T11:30:39.542Z"
   },
   {
    "duration": 5,
    "start_time": "2024-06-18T11:33:28.073Z"
   },
   {
    "duration": 5,
    "start_time": "2024-06-18T11:34:37.949Z"
   },
   {
    "duration": 5,
    "start_time": "2024-06-18T11:35:43.384Z"
   },
   {
    "duration": 5,
    "start_time": "2024-06-18T11:35:57.998Z"
   },
   {
    "duration": 4,
    "start_time": "2024-06-18T11:38:23.571Z"
   },
   {
    "duration": 6,
    "start_time": "2024-06-18T11:38:29.050Z"
   },
   {
    "duration": 6,
    "start_time": "2024-06-18T11:38:30.990Z"
   },
   {
    "duration": 5,
    "start_time": "2024-06-18T11:38:32.516Z"
   },
   {
    "duration": 4,
    "start_time": "2024-06-18T11:39:02.991Z"
   },
   {
    "duration": 5,
    "start_time": "2024-06-18T11:39:08.679Z"
   },
   {
    "duration": 5,
    "start_time": "2024-06-18T11:39:09.777Z"
   },
   {
    "duration": 5,
    "start_time": "2024-06-18T11:39:10.349Z"
   },
   {
    "duration": 24,
    "start_time": "2024-06-18T11:48:22.257Z"
   },
   {
    "duration": 8,
    "start_time": "2024-06-18T11:48:23.310Z"
   },
   {
    "duration": 3,
    "start_time": "2024-06-18T11:50:37.583Z"
   },
   {
    "duration": 12,
    "start_time": "2024-06-18T11:50:38.712Z"
   },
   {
    "duration": 3,
    "start_time": "2024-06-18T11:50:52.215Z"
   },
   {
    "duration": 3,
    "start_time": "2024-06-18T11:50:54.263Z"
   },
   {
    "duration": 2742,
    "start_time": "2024-06-18T11:52:17.354Z"
   },
   {
    "duration": 7,
    "start_time": "2024-06-18T11:52:20.098Z"
   },
   {
    "duration": 15,
    "start_time": "2024-06-18T11:52:20.108Z"
   },
   {
    "duration": 5,
    "start_time": "2024-06-18T11:52:20.125Z"
   },
   {
    "duration": 467,
    "start_time": "2024-06-18T11:52:20.132Z"
   },
   {
    "duration": 11,
    "start_time": "2024-06-18T11:52:20.601Z"
   },
   {
    "duration": 84,
    "start_time": "2024-06-18T11:52:20.614Z"
   },
   {
    "duration": 184,
    "start_time": "2024-06-18T11:52:20.700Z"
   },
   {
    "duration": 10,
    "start_time": "2024-06-18T11:52:20.886Z"
   },
   {
    "duration": 29,
    "start_time": "2024-06-18T11:52:20.898Z"
   },
   {
    "duration": 20,
    "start_time": "2024-06-18T11:52:20.928Z"
   },
   {
    "duration": 2224,
    "start_time": "2024-06-18T11:52:20.950Z"
   },
   {
    "duration": 8,
    "start_time": "2024-06-18T11:52:23.258Z"
   },
   {
    "duration": 139,
    "start_time": "2024-06-18T11:52:23.272Z"
   },
   {
    "duration": 88,
    "start_time": "2024-06-18T11:52:23.413Z"
   },
   {
    "duration": 39,
    "start_time": "2024-06-18T11:52:23.503Z"
   },
   {
    "duration": 27,
    "start_time": "2024-06-18T11:52:23.545Z"
   },
   {
    "duration": 22,
    "start_time": "2024-06-18T11:52:23.573Z"
   },
   {
    "duration": 32478,
    "start_time": "2024-06-18T11:52:23.596Z"
   },
   {
    "duration": 1274,
    "start_time": "2024-06-18T11:52:56.076Z"
   },
   {
    "duration": 314,
    "start_time": "2024-06-18T11:52:57.352Z"
   },
   {
    "duration": 1707,
    "start_time": "2024-06-18T11:52:57.672Z"
   },
   {
    "duration": 80,
    "start_time": "2024-06-18T11:52:59.382Z"
   },
   {
    "duration": 105,
    "start_time": "2024-06-18T11:52:59.464Z"
   },
   {
    "duration": 6,
    "start_time": "2024-06-18T11:52:59.574Z"
   },
   {
    "duration": 5,
    "start_time": "2024-06-18T11:52:59.582Z"
   },
   {
    "duration": 19,
    "start_time": "2024-06-18T11:52:59.589Z"
   },
   {
    "duration": 9,
    "start_time": "2024-06-18T11:52:59.610Z"
   },
   {
    "duration": 32849,
    "start_time": "2024-06-18T11:52:59.620Z"
   },
   {
    "duration": 1134,
    "start_time": "2024-06-18T11:53:32.471Z"
   },
   {
    "duration": 286,
    "start_time": "2024-06-18T11:53:33.606Z"
   },
   {
    "duration": 1584,
    "start_time": "2024-06-18T11:53:33.893Z"
   },
   {
    "duration": 83,
    "start_time": "2024-06-18T11:53:35.480Z"
   },
   {
    "duration": 106,
    "start_time": "2024-06-18T11:53:35.565Z"
   },
   {
    "duration": 36,
    "start_time": "2024-06-18T11:53:35.673Z"
   },
   {
    "duration": 15,
    "start_time": "2024-06-18T11:53:35.711Z"
   },
   {
    "duration": 18,
    "start_time": "2024-06-18T11:53:35.728Z"
   },
   {
    "duration": 23,
    "start_time": "2024-06-18T11:53:35.747Z"
   },
   {
    "duration": 33021,
    "start_time": "2024-06-18T11:53:35.771Z"
   },
   {
    "duration": 1111,
    "start_time": "2024-06-18T11:54:08.793Z"
   },
   {
    "duration": 283,
    "start_time": "2024-06-18T11:54:09.908Z"
   },
   {
    "duration": 3,
    "start_time": "2024-06-18T11:54:10.192Z"
   },
   {
    "duration": 6,
    "start_time": "2024-06-18T11:54:10.197Z"
   },
   {
    "duration": 27,
    "start_time": "2024-06-18T11:54:10.205Z"
   },
   {
    "duration": 47,
    "start_time": "2024-06-18T11:54:10.234Z"
   },
   {
    "duration": 26,
    "start_time": "2024-06-18T11:54:17.851Z"
   },
   {
    "duration": 6,
    "start_time": "2024-06-18T11:54:19.308Z"
   },
   {
    "duration": 16,
    "start_time": "2024-06-18T11:54:19.850Z"
   },
   {
    "duration": 5,
    "start_time": "2024-06-18T11:55:43.783Z"
   },
   {
    "duration": 17,
    "start_time": "2024-06-18T11:57:24.541Z"
   },
   {
    "duration": 7,
    "start_time": "2024-06-18T11:57:48.369Z"
   },
   {
    "duration": 29,
    "start_time": "2024-06-18T11:57:55.335Z"
   },
   {
    "duration": 9,
    "start_time": "2024-06-18T11:58:43.118Z"
   },
   {
    "duration": 7,
    "start_time": "2024-06-18T11:58:52.366Z"
   },
   {
    "duration": 8,
    "start_time": "2024-06-18T11:59:05.265Z"
   },
   {
    "duration": 5,
    "start_time": "2024-06-18T11:59:18.100Z"
   },
   {
    "duration": 5,
    "start_time": "2024-06-18T11:59:23.669Z"
   },
   {
    "duration": 6,
    "start_time": "2024-06-18T12:01:07.605Z"
   },
   {
    "duration": 6,
    "start_time": "2024-06-18T12:01:11.762Z"
   },
   {
    "duration": 4408,
    "start_time": "2024-06-18T14:07:54.060Z"
   },
   {
    "duration": 2093,
    "start_time": "2024-06-18T14:07:58.471Z"
   },
   {
    "duration": 3,
    "start_time": "2024-06-18T14:08:00.566Z"
   },
   {
    "duration": 86,
    "start_time": "2024-06-18T14:08:00.571Z"
   },
   {
    "duration": 738,
    "start_time": "2024-06-18T14:08:00.659Z"
   },
   {
    "duration": 3,
    "start_time": "2024-06-18T14:08:01.398Z"
   },
   {
    "duration": 91,
    "start_time": "2024-06-18T14:08:01.403Z"
   },
   {
    "duration": 206,
    "start_time": "2024-06-18T14:08:01.496Z"
   },
   {
    "duration": 14,
    "start_time": "2024-06-18T14:08:01.703Z"
   },
   {
    "duration": 176,
    "start_time": "2024-06-18T14:08:01.718Z"
   },
   {
    "duration": 114,
    "start_time": "2024-06-18T14:08:01.896Z"
   },
   {
    "duration": 2659,
    "start_time": "2024-06-18T14:08:02.012Z"
   },
   {
    "duration": 4,
    "start_time": "2024-06-18T14:08:04.673Z"
   },
   {
    "duration": 100,
    "start_time": "2024-06-18T14:08:04.769Z"
   },
   {
    "duration": 12,
    "start_time": "2024-06-18T14:08:04.871Z"
   },
   {
    "duration": 18,
    "start_time": "2024-06-18T14:08:04.885Z"
   },
   {
    "duration": 12,
    "start_time": "2024-06-18T14:08:04.905Z"
   },
   {
    "duration": 7,
    "start_time": "2024-06-18T14:08:04.919Z"
   },
   {
    "duration": 31476,
    "start_time": "2024-06-18T14:08:04.928Z"
   },
   {
    "duration": 1042,
    "start_time": "2024-06-18T14:08:36.405Z"
   },
   {
    "duration": 315,
    "start_time": "2024-06-18T14:08:37.448Z"
   },
   {
    "duration": 2102,
    "start_time": "2024-06-18T14:08:37.764Z"
   },
   {
    "duration": 3,
    "start_time": "2024-06-18T14:08:39.868Z"
   },
   {
    "duration": 192,
    "start_time": "2024-06-18T14:08:39.873Z"
   },
   {
    "duration": 6,
    "start_time": "2024-06-18T14:08:40.067Z"
   },
   {
    "duration": 7,
    "start_time": "2024-06-18T14:08:40.075Z"
   },
   {
    "duration": 17,
    "start_time": "2024-06-18T14:08:40.083Z"
   },
   {
    "duration": 4,
    "start_time": "2024-06-18T14:08:40.102Z"
   },
   {
    "duration": 31335,
    "start_time": "2024-06-18T14:08:40.107Z"
   },
   {
    "duration": 1123,
    "start_time": "2024-06-18T14:09:11.444Z"
   },
   {
    "duration": 310,
    "start_time": "2024-06-18T14:09:12.568Z"
   },
   {
    "duration": 2186,
    "start_time": "2024-06-18T14:09:12.879Z"
   },
   {
    "duration": 4,
    "start_time": "2024-06-18T14:09:15.068Z"
   },
   {
    "duration": 200,
    "start_time": "2024-06-18T14:09:15.073Z"
   },
   {
    "duration": 18,
    "start_time": "2024-06-18T14:09:15.274Z"
   },
   {
    "duration": 19,
    "start_time": "2024-06-18T14:09:15.294Z"
   },
   {
    "duration": 19,
    "start_time": "2024-06-18T14:09:15.314Z"
   },
   {
    "duration": 5,
    "start_time": "2024-06-18T14:09:15.334Z"
   },
   {
    "duration": 32061,
    "start_time": "2024-06-18T14:09:15.341Z"
   },
   {
    "duration": 1065,
    "start_time": "2024-06-18T14:09:47.404Z"
   },
   {
    "duration": 290,
    "start_time": "2024-06-18T14:09:48.473Z"
   },
   {
    "duration": 2,
    "start_time": "2024-06-18T14:09:48.765Z"
   },
   {
    "duration": 68,
    "start_time": "2024-06-18T14:09:48.769Z"
   },
   {
    "duration": 10,
    "start_time": "2024-06-18T14:09:48.840Z"
   },
   {
    "duration": 13,
    "start_time": "2024-06-18T14:09:48.852Z"
   },
   {
    "duration": 25,
    "start_time": "2024-06-18T14:09:48.867Z"
   },
   {
    "duration": 6,
    "start_time": "2024-06-18T14:09:48.894Z"
   },
   {
    "duration": 22,
    "start_time": "2024-06-18T14:09:48.902Z"
   },
   {
    "duration": 43,
    "start_time": "2024-06-18T14:09:48.926Z"
   },
   {
    "duration": 8,
    "start_time": "2024-06-18T14:09:48.971Z"
   },
   {
    "duration": 9,
    "start_time": "2024-06-18T14:09:48.981Z"
   },
   {
    "duration": 17,
    "start_time": "2024-06-18T14:09:48.992Z"
   },
   {
    "duration": 11,
    "start_time": "2024-06-18T14:09:49.012Z"
   },
   {
    "duration": 6,
    "start_time": "2024-06-18T14:09:49.026Z"
   },
   {
    "duration": 5,
    "start_time": "2024-06-18T14:09:49.062Z"
   },
   {
    "duration": 7,
    "start_time": "2024-06-18T14:09:49.068Z"
   },
   {
    "duration": 162,
    "start_time": "2024-06-18T14:15:41.391Z"
   },
   {
    "duration": 38,
    "start_time": "2024-06-18T14:18:36.206Z"
   },
   {
    "duration": 15,
    "start_time": "2024-06-18T14:18:57.751Z"
   },
   {
    "duration": 15,
    "start_time": "2024-06-18T14:19:24.641Z"
   },
   {
    "duration": 13,
    "start_time": "2024-06-18T14:21:27.211Z"
   },
   {
    "duration": 18,
    "start_time": "2024-06-18T14:21:38.925Z"
   },
   {
    "duration": 18,
    "start_time": "2024-06-18T14:22:00.109Z"
   },
   {
    "duration": 13,
    "start_time": "2024-06-18T14:24:34.708Z"
   },
   {
    "duration": 14,
    "start_time": "2024-06-18T14:24:38.433Z"
   },
   {
    "duration": 26,
    "start_time": "2024-06-18T14:24:40.500Z"
   },
   {
    "duration": 3049,
    "start_time": "2024-06-18T14:25:45.738Z"
   },
   {
    "duration": 4,
    "start_time": "2024-06-18T14:26:50.273Z"
   },
   {
    "duration": 2,
    "start_time": "2024-06-18T14:26:57.304Z"
   },
   {
    "duration": 3054,
    "start_time": "2024-06-18T14:27:30.628Z"
   },
   {
    "duration": 3,
    "start_time": "2024-06-18T14:27:36.967Z"
   },
   {
    "duration": 4,
    "start_time": "2024-06-18T14:27:37.617Z"
   },
   {
    "duration": 9,
    "start_time": "2024-06-18T14:27:54.606Z"
   },
   {
    "duration": 4,
    "start_time": "2024-06-18T14:28:03.554Z"
   },
   {
    "duration": 7,
    "start_time": "2024-06-18T14:28:17.343Z"
   },
   {
    "duration": 5,
    "start_time": "2024-06-18T14:28:33.395Z"
   },
   {
    "duration": 94247,
    "start_time": "2024-06-18T14:28:52.142Z"
   },
   {
    "duration": 200,
    "start_time": "2024-06-18T14:32:20.023Z"
   },
   {
    "duration": 2029,
    "start_time": "2024-06-18T14:32:33.239Z"
   },
   {
    "duration": 308,
    "start_time": "2024-06-18T14:32:41.070Z"
   },
   {
    "duration": 4146,
    "start_time": "2024-06-18T16:58:46.370Z"
   },
   {
    "duration": 2144,
    "start_time": "2024-06-18T16:58:50.518Z"
   },
   {
    "duration": 4,
    "start_time": "2024-06-18T16:58:52.664Z"
   },
   {
    "duration": 14,
    "start_time": "2024-06-18T16:58:52.670Z"
   },
   {
    "duration": 707,
    "start_time": "2024-06-18T16:58:52.687Z"
   },
   {
    "duration": 2,
    "start_time": "2024-06-18T16:58:53.396Z"
   },
   {
    "duration": 77,
    "start_time": "2024-06-18T16:58:53.400Z"
   },
   {
    "duration": 199,
    "start_time": "2024-06-18T16:58:53.479Z"
   },
   {
    "duration": 12,
    "start_time": "2024-06-18T16:58:53.680Z"
   },
   {
    "duration": 11,
    "start_time": "2024-06-18T16:58:53.693Z"
   },
   {
    "duration": 14,
    "start_time": "2024-06-18T16:58:53.705Z"
   },
   {
    "duration": 2751,
    "start_time": "2024-06-18T16:58:53.721Z"
   },
   {
    "duration": 86,
    "start_time": "2024-06-18T16:58:56.475Z"
   },
   {
    "duration": 17,
    "start_time": "2024-06-18T16:58:56.565Z"
   },
   {
    "duration": 16,
    "start_time": "2024-06-18T16:58:56.584Z"
   },
   {
    "duration": 10,
    "start_time": "2024-06-18T16:58:56.602Z"
   },
   {
    "duration": 7,
    "start_time": "2024-06-18T16:58:56.613Z"
   },
   {
    "duration": 9,
    "start_time": "2024-06-18T16:58:56.622Z"
   },
   {
    "duration": 31451,
    "start_time": "2024-06-18T16:58:56.633Z"
   },
   {
    "duration": 1113,
    "start_time": "2024-06-18T16:59:28.086Z"
   },
   {
    "duration": 269,
    "start_time": "2024-06-18T16:59:29.201Z"
   },
   {
    "duration": 2203,
    "start_time": "2024-06-18T16:59:29.472Z"
   },
   {
    "duration": 4,
    "start_time": "2024-06-18T16:59:31.679Z"
   },
   {
    "duration": 9,
    "start_time": "2024-06-18T16:59:31.762Z"
   },
   {
    "duration": 102,
    "start_time": "2024-06-18T16:59:31.773Z"
   },
   {
    "duration": 17,
    "start_time": "2024-06-18T16:59:31.878Z"
   },
   {
    "duration": 15,
    "start_time": "2024-06-18T16:59:31.897Z"
   },
   {
    "duration": 4,
    "start_time": "2024-06-18T16:59:31.915Z"
   },
   {
    "duration": 32314,
    "start_time": "2024-06-18T16:59:31.921Z"
   },
   {
    "duration": 1130,
    "start_time": "2024-06-18T17:00:04.237Z"
   },
   {
    "duration": 307,
    "start_time": "2024-06-18T17:00:05.369Z"
   },
   {
    "duration": 2392,
    "start_time": "2024-06-18T17:00:05.678Z"
   },
   {
    "duration": 87,
    "start_time": "2024-06-18T17:00:08.078Z"
   },
   {
    "duration": 96,
    "start_time": "2024-06-18T17:00:08.174Z"
   },
   {
    "duration": 38,
    "start_time": "2024-06-18T17:00:08.272Z"
   },
   {
    "duration": 56,
    "start_time": "2024-06-18T17:00:08.314Z"
   },
   {
    "duration": 30,
    "start_time": "2024-06-18T17:00:08.372Z"
   },
   {
    "duration": 31,
    "start_time": "2024-06-18T17:00:08.404Z"
   },
   {
    "duration": 32235,
    "start_time": "2024-06-18T17:00:08.438Z"
   },
   {
    "duration": 1063,
    "start_time": "2024-06-18T17:00:40.675Z"
   },
   {
    "duration": 275,
    "start_time": "2024-06-18T17:00:41.743Z"
   },
   {
    "duration": 13,
    "start_time": "2024-06-18T17:00:42.020Z"
   },
   {
    "duration": 47,
    "start_time": "2024-06-18T17:00:42.035Z"
   },
   {
    "duration": 3106,
    "start_time": "2024-06-18T17:00:42.083Z"
   },
   {
    "duration": 71,
    "start_time": "2024-06-18T17:00:45.191Z"
   },
   {
    "duration": 133,
    "start_time": "2024-06-18T17:00:45.265Z"
   },
   {
    "duration": 36,
    "start_time": "2024-06-18T17:00:45.400Z"
   },
   {
    "duration": 20,
    "start_time": "2024-06-18T17:00:45.438Z"
   },
   {
    "duration": 105,
    "start_time": "2024-06-18T17:00:45.459Z"
   },
   {
    "duration": 18,
    "start_time": "2024-06-18T17:00:45.566Z"
   },
   {
    "duration": 94509,
    "start_time": "2024-06-18T17:00:45.585Z"
   },
   {
    "duration": 1940,
    "start_time": "2024-06-18T17:02:20.095Z"
   },
   {
    "duration": 433,
    "start_time": "2024-06-18T17:02:22.037Z"
   },
   {
    "duration": 3,
    "start_time": "2024-06-18T17:02:22.472Z"
   },
   {
    "duration": 17,
    "start_time": "2024-06-18T17:02:22.476Z"
   },
   {
    "duration": 17,
    "start_time": "2024-06-18T17:02:22.495Z"
   },
   {
    "duration": 14,
    "start_time": "2024-06-18T17:02:22.514Z"
   },
   {
    "duration": 37,
    "start_time": "2024-06-18T17:02:22.530Z"
   },
   {
    "duration": 5,
    "start_time": "2024-06-18T17:02:22.569Z"
   },
   {
    "duration": 37,
    "start_time": "2024-06-18T17:02:22.575Z"
   },
   {
    "duration": 33,
    "start_time": "2024-06-18T17:02:22.614Z"
   },
   {
    "duration": 8,
    "start_time": "2024-06-18T17:02:22.648Z"
   },
   {
    "duration": 13,
    "start_time": "2024-06-18T17:02:22.658Z"
   },
   {
    "duration": 28,
    "start_time": "2024-06-18T17:02:22.672Z"
   },
   {
    "duration": 12,
    "start_time": "2024-06-18T17:02:22.701Z"
   },
   {
    "duration": 16,
    "start_time": "2024-06-18T17:02:22.715Z"
   },
   {
    "duration": 37,
    "start_time": "2024-06-18T17:02:22.732Z"
   },
   {
    "duration": 13,
    "start_time": "2024-06-18T17:02:22.771Z"
   },
   {
    "duration": 4336,
    "start_time": "2024-06-18T18:50:38.650Z"
   },
   {
    "duration": 1850,
    "start_time": "2024-06-18T18:50:42.988Z"
   },
   {
    "duration": 2,
    "start_time": "2024-06-18T18:50:44.840Z"
   },
   {
    "duration": 10,
    "start_time": "2024-06-18T18:50:44.844Z"
   },
   {
    "duration": 1552,
    "start_time": "2024-06-18T18:50:44.856Z"
   },
   {
    "duration": 3,
    "start_time": "2024-06-18T18:50:46.409Z"
   },
   {
    "duration": 101,
    "start_time": "2024-06-18T18:50:46.413Z"
   },
   {
    "duration": 162,
    "start_time": "2024-06-18T18:50:46.516Z"
   },
   {
    "duration": 10,
    "start_time": "2024-06-18T18:50:46.679Z"
   },
   {
    "duration": 2,
    "start_time": "2024-06-18T18:50:46.690Z"
   },
   {
    "duration": 11,
    "start_time": "2024-06-18T18:50:46.694Z"
   },
   {
    "duration": 2215,
    "start_time": "2024-06-18T18:50:46.707Z"
   },
   {
    "duration": 3,
    "start_time": "2024-06-18T18:50:48.924Z"
   },
   {
    "duration": 91,
    "start_time": "2024-06-18T18:50:48.930Z"
   },
   {
    "duration": 9,
    "start_time": "2024-06-18T18:50:49.023Z"
   },
   {
    "duration": 5,
    "start_time": "2024-06-18T18:50:49.033Z"
   },
   {
    "duration": 85,
    "start_time": "2024-06-18T18:50:49.039Z"
   },
   {
    "duration": 5,
    "start_time": "2024-06-18T18:50:49.125Z"
   },
   {
    "duration": 22257,
    "start_time": "2024-06-18T18:50:49.131Z"
   },
   {
    "duration": 915,
    "start_time": "2024-06-18T18:51:11.390Z"
   },
   {
    "duration": 225,
    "start_time": "2024-06-18T18:51:12.307Z"
   },
   {
    "duration": 1789,
    "start_time": "2024-06-18T18:51:12.533Z"
   },
   {
    "duration": 2,
    "start_time": "2024-06-18T18:51:14.324Z"
   },
   {
    "duration": 95,
    "start_time": "2024-06-18T18:51:14.328Z"
   },
   {
    "duration": 10,
    "start_time": "2024-06-18T18:51:14.425Z"
   },
   {
    "duration": 16,
    "start_time": "2024-06-18T18:51:14.436Z"
   },
   {
    "duration": 22,
    "start_time": "2024-06-18T18:51:14.453Z"
   },
   {
    "duration": 15,
    "start_time": "2024-06-18T18:51:14.476Z"
   },
   {
    "duration": 22641,
    "start_time": "2024-06-18T18:51:14.492Z"
   },
   {
    "duration": 978,
    "start_time": "2024-06-18T18:51:37.135Z"
   },
   {
    "duration": 216,
    "start_time": "2024-06-18T18:51:38.120Z"
   },
   {
    "duration": 1487,
    "start_time": "2024-06-18T18:51:38.337Z"
   },
   {
    "duration": 3,
    "start_time": "2024-06-18T18:51:39.828Z"
   },
   {
    "duration": 89,
    "start_time": "2024-06-18T18:51:39.832Z"
   },
   {
    "duration": 8,
    "start_time": "2024-06-18T18:51:39.923Z"
   },
   {
    "duration": 89,
    "start_time": "2024-06-18T18:51:39.933Z"
   },
   {
    "duration": 21,
    "start_time": "2024-06-18T18:51:40.023Z"
   },
   {
    "duration": 5,
    "start_time": "2024-06-18T18:51:40.046Z"
   },
   {
    "duration": 22815,
    "start_time": "2024-06-18T18:51:40.053Z"
   },
   {
    "duration": 1015,
    "start_time": "2024-06-18T18:52:02.869Z"
   },
   {
    "duration": 250,
    "start_time": "2024-06-18T18:52:03.888Z"
   },
   {
    "duration": 10,
    "start_time": "2024-06-18T18:52:04.139Z"
   },
   {
    "duration": 22,
    "start_time": "2024-06-18T18:52:04.151Z"
   },
   {
    "duration": 2961,
    "start_time": "2024-06-18T18:52:04.174Z"
   },
   {
    "duration": 3,
    "start_time": "2024-06-18T18:52:07.137Z"
   },
   {
    "duration": 80,
    "start_time": "2024-06-18T18:52:07.141Z"
   },
   {
    "duration": 99,
    "start_time": "2024-06-18T18:52:07.223Z"
   },
   {
    "duration": 17,
    "start_time": "2024-06-18T18:52:07.323Z"
   },
   {
    "duration": 10,
    "start_time": "2024-06-18T18:52:07.341Z"
   },
   {
    "duration": 3,
    "start_time": "2024-06-18T18:52:07.353Z"
   },
   {
    "duration": 67720,
    "start_time": "2024-06-18T18:52:07.358Z"
   },
   {
    "duration": 1772,
    "start_time": "2024-06-18T18:53:15.079Z"
   },
   {
    "duration": 295,
    "start_time": "2024-06-18T18:53:16.853Z"
   },
   {
    "duration": 3,
    "start_time": "2024-06-18T18:53:17.149Z"
   },
   {
    "duration": 68,
    "start_time": "2024-06-18T18:53:17.153Z"
   },
   {
    "duration": 8,
    "start_time": "2024-06-18T18:53:17.222Z"
   },
   {
    "duration": 10,
    "start_time": "2024-06-18T18:53:17.231Z"
   },
   {
    "duration": 17,
    "start_time": "2024-06-18T18:53:17.242Z"
   },
   {
    "duration": 4,
    "start_time": "2024-06-18T18:53:17.260Z"
   },
   {
    "duration": 17,
    "start_time": "2024-06-18T18:53:17.265Z"
   },
   {
    "duration": 36,
    "start_time": "2024-06-18T18:53:17.284Z"
   },
   {
    "duration": 6,
    "start_time": "2024-06-18T18:53:17.322Z"
   },
   {
    "duration": 16,
    "start_time": "2024-06-18T18:53:17.330Z"
   },
   {
    "duration": 26,
    "start_time": "2024-06-18T18:53:17.348Z"
   },
   {
    "duration": 10,
    "start_time": "2024-06-18T18:53:17.375Z"
   },
   {
    "duration": 6,
    "start_time": "2024-06-18T18:53:17.386Z"
   },
   {
    "duration": 7,
    "start_time": "2024-06-18T18:53:17.393Z"
   },
   {
    "duration": 4,
    "start_time": "2024-06-18T18:53:17.401Z"
   },
   {
    "duration": 4,
    "start_time": "2024-06-18T18:53:33.775Z"
   },
   {
    "duration": 5,
    "start_time": "2024-06-18T18:53:34.349Z"
   },
   {
    "duration": 14,
    "start_time": "2024-06-18T18:56:52.473Z"
   },
   {
    "duration": 4,
    "start_time": "2024-06-18T18:57:44.003Z"
   },
   {
    "duration": 2,
    "start_time": "2024-06-18T18:58:19.287Z"
   },
   {
    "duration": 11,
    "start_time": "2024-06-18T18:58:46.466Z"
   },
   {
    "duration": 8,
    "start_time": "2024-06-18T18:58:56.737Z"
   },
   {
    "duration": 3,
    "start_time": "2024-06-18T19:01:31.033Z"
   },
   {
    "duration": 8,
    "start_time": "2024-06-18T19:02:02.036Z"
   },
   {
    "duration": 8,
    "start_time": "2024-06-18T19:02:05.420Z"
   },
   {
    "duration": 2,
    "start_time": "2024-06-18T19:02:10.790Z"
   },
   {
    "duration": 14,
    "start_time": "2024-06-18T19:02:11.602Z"
   },
   {
    "duration": 8,
    "start_time": "2024-06-18T19:02:12.055Z"
   },
   {
    "duration": 12,
    "start_time": "2024-06-18T19:05:00.291Z"
   },
   {
    "duration": 3,
    "start_time": "2024-06-18T19:05:00.787Z"
   },
   {
    "duration": 2,
    "start_time": "2024-06-18T19:05:01.275Z"
   },
   {
    "duration": 5,
    "start_time": "2024-06-18T19:05:01.729Z"
   },
   {
    "duration": 2,
    "start_time": "2024-06-18T19:05:02.186Z"
   },
   {
    "duration": 7,
    "start_time": "2024-06-18T19:05:02.654Z"
   },
   {
    "duration": 11,
    "start_time": "2024-06-18T19:05:03.167Z"
   },
   {
    "duration": 9,
    "start_time": "2024-06-18T19:05:46.888Z"
   },
   {
    "duration": 10,
    "start_time": "2024-06-18T19:05:47.740Z"
   },
   {
    "duration": 3,
    "start_time": "2024-06-18T19:05:48.258Z"
   },
   {
    "duration": 5,
    "start_time": "2024-06-18T19:05:48.708Z"
   },
   {
    "duration": 2,
    "start_time": "2024-06-18T19:05:49.112Z"
   },
   {
    "duration": 6,
    "start_time": "2024-06-18T19:05:49.523Z"
   },
   {
    "duration": 8,
    "start_time": "2024-06-18T19:05:49.933Z"
   },
   {
    "duration": 9,
    "start_time": "2024-06-18T19:06:38.380Z"
   },
   {
    "duration": 7,
    "start_time": "2024-06-18T19:06:38.792Z"
   },
   {
    "duration": 2,
    "start_time": "2024-06-18T19:06:39.211Z"
   },
   {
    "duration": 5,
    "start_time": "2024-06-18T19:06:39.624Z"
   },
   {
    "duration": 2,
    "start_time": "2024-06-18T19:06:40.045Z"
   },
   {
    "duration": 7,
    "start_time": "2024-06-18T19:06:40.430Z"
   },
   {
    "duration": 8,
    "start_time": "2024-06-18T19:06:40.836Z"
   },
   {
    "duration": 3,
    "start_time": "2024-06-18T19:12:07.335Z"
   },
   {
    "duration": 131,
    "start_time": "2024-06-18T19:12:54.486Z"
   },
   {
    "duration": 39,
    "start_time": "2024-06-18T19:13:28.864Z"
   },
   {
    "duration": 3,
    "start_time": "2024-06-18T19:13:51.942Z"
   },
   {
    "duration": 35,
    "start_time": "2024-06-18T19:13:54.897Z"
   },
   {
    "duration": 2,
    "start_time": "2024-06-18T19:14:16.837Z"
   },
   {
    "duration": 37,
    "start_time": "2024-06-18T19:14:20.387Z"
   },
   {
    "duration": 3,
    "start_time": "2024-06-18T19:18:09.482Z"
   },
   {
    "duration": 46,
    "start_time": "2024-06-18T19:18:12.616Z"
   },
   {
    "duration": 3,
    "start_time": "2024-06-18T19:18:49.308Z"
   },
   {
    "duration": 49,
    "start_time": "2024-06-18T19:19:28.819Z"
   },
   {
    "duration": 2,
    "start_time": "2024-06-18T19:19:42.358Z"
   },
   {
    "duration": 33,
    "start_time": "2024-06-18T19:19:45.212Z"
   },
   {
    "duration": 2,
    "start_time": "2024-06-18T19:20:14.837Z"
   },
   {
    "duration": 571,
    "start_time": "2024-06-18T19:20:16.639Z"
   },
   {
    "duration": 5,
    "start_time": "2024-06-18T19:20:24.495Z"
   },
   {
    "duration": 2,
    "start_time": "2024-06-18T19:20:43.930Z"
   },
   {
    "duration": 33,
    "start_time": "2024-06-18T19:20:44.769Z"
   },
   {
    "duration": 8,
    "start_time": "2024-06-18T19:21:19.066Z"
   },
   {
    "duration": 2,
    "start_time": "2024-06-18T19:21:26.286Z"
   },
   {
    "duration": 3,
    "start_time": "2024-06-18T19:21:31.491Z"
   },
   {
    "duration": 3983,
    "start_time": "2024-06-19T04:44:30.325Z"
   },
   {
    "duration": 1941,
    "start_time": "2024-06-19T04:44:34.310Z"
   },
   {
    "duration": 3,
    "start_time": "2024-06-19T04:44:36.252Z"
   },
   {
    "duration": 14,
    "start_time": "2024-06-19T04:44:36.256Z"
   },
   {
    "duration": 657,
    "start_time": "2024-06-19T04:44:36.272Z"
   },
   {
    "duration": 2,
    "start_time": "2024-06-19T04:44:36.931Z"
   },
   {
    "duration": 44,
    "start_time": "2024-06-19T04:44:36.935Z"
   },
   {
    "duration": 155,
    "start_time": "2024-06-19T04:44:36.981Z"
   },
   {
    "duration": 12,
    "start_time": "2024-06-19T04:44:37.138Z"
   },
   {
    "duration": 15,
    "start_time": "2024-06-19T04:44:37.151Z"
   },
   {
    "duration": 6,
    "start_time": "2024-06-19T04:44:37.167Z"
   },
   {
    "duration": 1710,
    "start_time": "2024-06-19T04:44:37.175Z"
   },
   {
    "duration": 79,
    "start_time": "2024-06-19T04:44:38.887Z"
   },
   {
    "duration": 8,
    "start_time": "2024-06-19T04:44:38.969Z"
   },
   {
    "duration": 87,
    "start_time": "2024-06-19T04:44:38.984Z"
   },
   {
    "duration": 10,
    "start_time": "2024-06-19T04:44:39.073Z"
   },
   {
    "duration": 7,
    "start_time": "2024-06-19T04:44:39.084Z"
   },
   {
    "duration": 4,
    "start_time": "2024-06-19T04:44:39.093Z"
   },
   {
    "duration": 28447,
    "start_time": "2024-06-19T04:44:39.098Z"
   },
   {
    "duration": 1158,
    "start_time": "2024-06-19T04:45:07.546Z"
   },
   {
    "duration": 266,
    "start_time": "2024-06-19T04:45:08.706Z"
   },
   {
    "duration": 1506,
    "start_time": "2024-06-19T04:45:08.973Z"
   },
   {
    "duration": 4,
    "start_time": "2024-06-19T04:45:10.485Z"
   },
   {
    "duration": 78,
    "start_time": "2024-06-19T04:45:10.495Z"
   },
   {
    "duration": 97,
    "start_time": "2024-06-19T04:45:10.575Z"
   },
   {
    "duration": 25,
    "start_time": "2024-06-19T04:45:10.675Z"
   },
   {
    "duration": 9,
    "start_time": "2024-06-19T04:45:10.702Z"
   },
   {
    "duration": 4,
    "start_time": "2024-06-19T04:45:10.713Z"
   },
   {
    "duration": 28358,
    "start_time": "2024-06-19T04:45:10.719Z"
   },
   {
    "duration": 1138,
    "start_time": "2024-06-19T04:45:39.079Z"
   },
   {
    "duration": 362,
    "start_time": "2024-06-19T04:45:40.218Z"
   },
   {
    "duration": 1794,
    "start_time": "2024-06-19T04:45:40.582Z"
   },
   {
    "duration": 94,
    "start_time": "2024-06-19T04:45:42.384Z"
   },
   {
    "duration": 87,
    "start_time": "2024-06-19T04:45:42.479Z"
   },
   {
    "duration": 12,
    "start_time": "2024-06-19T04:45:42.568Z"
   },
   {
    "duration": 4,
    "start_time": "2024-06-19T04:45:42.582Z"
   },
   {
    "duration": 6,
    "start_time": "2024-06-19T04:45:42.588Z"
   },
   {
    "duration": 5,
    "start_time": "2024-06-19T04:45:42.595Z"
   },
   {
    "duration": 29102,
    "start_time": "2024-06-19T04:45:42.601Z"
   },
   {
    "duration": 1063,
    "start_time": "2024-06-19T04:46:11.704Z"
   },
   {
    "duration": 296,
    "start_time": "2024-06-19T04:46:12.774Z"
   },
   {
    "duration": 13,
    "start_time": "2024-06-19T04:46:13.071Z"
   },
   {
    "duration": 24,
    "start_time": "2024-06-19T04:46:13.085Z"
   },
   {
    "duration": 3077,
    "start_time": "2024-06-19T04:46:13.111Z"
   },
   {
    "duration": 4,
    "start_time": "2024-06-19T04:46:16.190Z"
   },
   {
    "duration": 76,
    "start_time": "2024-06-19T04:46:16.195Z"
   },
   {
    "duration": 95,
    "start_time": "2024-06-19T04:46:16.274Z"
   },
   {
    "duration": 5,
    "start_time": "2024-06-19T04:46:16.371Z"
   },
   {
    "duration": 7,
    "start_time": "2024-06-19T04:46:16.378Z"
   },
   {
    "duration": 8,
    "start_time": "2024-06-19T04:46:16.387Z"
   },
   {
    "duration": 85603,
    "start_time": "2024-06-19T04:46:16.396Z"
   },
   {
    "duration": 1786,
    "start_time": "2024-06-19T04:47:42.001Z"
   },
   {
    "duration": 384,
    "start_time": "2024-06-19T04:47:43.789Z"
   },
   {
    "duration": 2,
    "start_time": "2024-06-19T04:47:44.175Z"
   },
   {
    "duration": 5,
    "start_time": "2024-06-19T04:47:44.179Z"
   },
   {
    "duration": 12,
    "start_time": "2024-06-19T04:47:44.186Z"
   },
   {
    "duration": 14,
    "start_time": "2024-06-19T04:47:44.199Z"
   },
   {
    "duration": 20,
    "start_time": "2024-06-19T04:47:44.215Z"
   },
   {
    "duration": 33,
    "start_time": "2024-06-19T04:47:44.237Z"
   },
   {
    "duration": 20,
    "start_time": "2024-06-19T04:47:44.272Z"
   },
   {
    "duration": 22,
    "start_time": "2024-06-19T04:47:44.294Z"
   },
   {
    "duration": 7,
    "start_time": "2024-06-19T04:47:44.317Z"
   },
   {
    "duration": 12,
    "start_time": "2024-06-19T04:47:44.325Z"
   },
   {
    "duration": 30,
    "start_time": "2024-06-19T04:47:44.339Z"
   },
   {
    "duration": 14,
    "start_time": "2024-06-19T04:47:44.370Z"
   },
   {
    "duration": 13,
    "start_time": "2024-06-19T04:47:44.386Z"
   },
   {
    "duration": 11,
    "start_time": "2024-06-19T04:47:44.401Z"
   },
   {
    "duration": 5,
    "start_time": "2024-06-19T04:47:44.413Z"
   },
   {
    "duration": 10,
    "start_time": "2024-06-19T04:47:44.419Z"
   },
   {
    "duration": 10,
    "start_time": "2024-06-19T04:47:44.430Z"
   },
   {
    "duration": 36,
    "start_time": "2024-06-19T04:47:44.441Z"
   },
   {
    "duration": 86,
    "start_time": "2024-06-19T04:47:44.480Z"
   },
   {
    "duration": 13,
    "start_time": "2024-06-19T04:47:44.568Z"
   },
   {
    "duration": 3,
    "start_time": "2024-06-19T04:47:44.582Z"
   },
   {
    "duration": 80,
    "start_time": "2024-06-19T04:47:44.587Z"
   },
   {
    "duration": 10,
    "start_time": "2024-06-19T04:47:44.668Z"
   },
   {
    "duration": 52,
    "start_time": "2024-06-19T04:47:44.680Z"
   },
   {
    "duration": 6,
    "start_time": "2024-06-19T04:47:44.733Z"
   },
   {
    "duration": 4,
    "start_time": "2024-06-19T04:47:44.766Z"
   },
   {
    "duration": 93,
    "start_time": "2024-06-19T04:47:44.772Z"
   },
   {
    "duration": 2,
    "start_time": "2024-06-19T04:47:44.867Z"
   },
   {
    "duration": 9,
    "start_time": "2024-06-19T04:47:44.871Z"
   },
   {
    "duration": 12,
    "start_time": "2024-06-19T04:47:44.882Z"
   },
   {
    "duration": 21,
    "start_time": "2024-06-19T04:47:44.895Z"
   },
   {
    "duration": 50,
    "start_time": "2024-06-19T04:47:44.917Z"
   },
   {
    "duration": 97,
    "start_time": "2024-06-19T04:47:44.969Z"
   },
   {
    "duration": 35,
    "start_time": "2024-06-19T04:47:45.068Z"
   },
   {
    "duration": 18,
    "start_time": "2024-06-19T04:47:45.105Z"
   },
   {
    "duration": 23,
    "start_time": "2024-06-19T04:47:45.125Z"
   },
   {
    "duration": 17,
    "start_time": "2024-06-19T04:47:45.150Z"
   },
   {
    "duration": 31,
    "start_time": "2024-06-19T04:47:45.169Z"
   },
   {
    "duration": 26,
    "start_time": "2024-06-19T04:47:45.201Z"
   },
   {
    "duration": 8,
    "start_time": "2024-06-19T04:47:45.228Z"
   },
   {
    "duration": 3,
    "start_time": "2024-06-19T04:47:57.980Z"
   },
   {
    "duration": 4,
    "start_time": "2024-06-19T04:47:58.392Z"
   },
   {
    "duration": 3,
    "start_time": "2024-06-19T04:48:11.924Z"
   },
   {
    "duration": 4,
    "start_time": "2024-06-19T04:48:12.444Z"
   },
   {
    "duration": 3,
    "start_time": "2024-06-19T04:48:12.958Z"
   },
   {
    "duration": 32,
    "start_time": "2024-06-19T04:50:39.581Z"
   },
   {
    "duration": 10,
    "start_time": "2024-06-19T04:50:40.258Z"
   },
   {
    "duration": 24,
    "start_time": "2024-06-19T04:50:57.123Z"
   },
   {
    "duration": 9,
    "start_time": "2024-06-19T04:50:57.641Z"
   },
   {
    "duration": 3,
    "start_time": "2024-06-19T04:53:38.548Z"
   },
   {
    "duration": 4,
    "start_time": "2024-06-19T04:53:49.153Z"
   },
   {
    "duration": 17,
    "start_time": "2024-06-19T04:54:18.734Z"
   },
   {
    "duration": 29,
    "start_time": "2024-06-19T04:54:57.619Z"
   },
   {
    "duration": 10,
    "start_time": "2024-06-19T04:54:58.113Z"
   },
   {
    "duration": 16,
    "start_time": "2024-06-19T04:55:00.453Z"
   },
   {
    "duration": 27,
    "start_time": "2024-06-19T04:55:30.785Z"
   },
   {
    "duration": 9,
    "start_time": "2024-06-19T04:55:31.255Z"
   },
   {
    "duration": 9,
    "start_time": "2024-06-19T04:55:31.921Z"
   },
   {
    "duration": 25,
    "start_time": "2024-06-19T04:55:40.639Z"
   },
   {
    "duration": 9,
    "start_time": "2024-06-19T04:55:41.076Z"
   },
   {
    "duration": 11,
    "start_time": "2024-06-19T04:55:41.593Z"
   },
   {
    "duration": 27,
    "start_time": "2024-06-19T04:55:53.231Z"
   },
   {
    "duration": 9,
    "start_time": "2024-06-19T04:55:53.711Z"
   },
   {
    "duration": 10,
    "start_time": "2024-06-19T04:55:54.257Z"
   },
   {
    "duration": 4,
    "start_time": "2024-06-19T04:56:08.416Z"
   },
   {
    "duration": 29,
    "start_time": "2024-06-19T05:04:12.844Z"
   },
   {
    "duration": 13,
    "start_time": "2024-06-19T05:04:13.275Z"
   },
   {
    "duration": 11,
    "start_time": "2024-06-19T05:04:13.808Z"
   },
   {
    "duration": 4,
    "start_time": "2024-06-19T05:04:20.139Z"
   },
   {
    "duration": 5,
    "start_time": "2024-06-19T05:04:25.880Z"
   },
   {
    "duration": 33,
    "start_time": "2024-06-19T05:05:40.324Z"
   },
   {
    "duration": 10,
    "start_time": "2024-06-19T05:05:40.756Z"
   },
   {
    "duration": 10,
    "start_time": "2024-06-19T05:05:42.340Z"
   },
   {
    "duration": 4,
    "start_time": "2024-06-19T05:05:44.056Z"
   },
   {
    "duration": 2,
    "start_time": "2024-06-19T05:05:52.801Z"
   },
   {
    "duration": 3,
    "start_time": "2024-06-19T05:06:14.286Z"
   },
   {
    "duration": 3,
    "start_time": "2024-06-19T05:07:10.096Z"
   },
   {
    "duration": 2,
    "start_time": "2024-06-19T05:07:33.490Z"
   },
   {
    "duration": 3,
    "start_time": "2024-06-19T05:08:10.236Z"
   },
   {
    "duration": 3,
    "start_time": "2024-06-19T05:08:33.584Z"
   },
   {
    "duration": 4,
    "start_time": "2024-06-19T05:08:43.829Z"
   },
   {
    "duration": 147,
    "start_time": "2024-06-19T05:09:01.353Z"
   },
   {
    "duration": 23,
    "start_time": "2024-06-19T05:11:23.328Z"
   },
   {
    "duration": 106,
    "start_time": "2024-06-19T05:12:34.000Z"
   },
   {
    "duration": 2,
    "start_time": "2024-06-19T05:14:41.397Z"
   },
   {
    "duration": 22,
    "start_time": "2024-06-19T05:15:11.499Z"
   },
   {
    "duration": 15,
    "start_time": "2024-06-19T05:18:33.052Z"
   },
   {
    "duration": 101,
    "start_time": "2024-06-19T05:18:43.576Z"
   },
   {
    "duration": 17,
    "start_time": "2024-06-19T05:19:30.284Z"
   },
   {
    "duration": 13,
    "start_time": "2024-06-19T05:20:43.350Z"
   },
   {
    "duration": 17,
    "start_time": "2024-06-19T05:27:26.800Z"
   },
   {
    "duration": 9,
    "start_time": "2024-06-19T05:29:45.923Z"
   },
   {
    "duration": 62,
    "start_time": "2024-06-19T05:29:48.609Z"
   },
   {
    "duration": 2,
    "start_time": "2024-06-19T05:31:11.821Z"
   },
   {
    "duration": 3,
    "start_time": "2024-06-19T05:31:26.042Z"
   },
   {
    "duration": 4,
    "start_time": "2024-06-19T05:31:35.111Z"
   },
   {
    "duration": 15,
    "start_time": "2024-06-19T05:32:56.312Z"
   },
   {
    "duration": 3,
    "start_time": "2024-06-19T05:33:05.625Z"
   },
   {
    "duration": 3,
    "start_time": "2024-06-19T05:33:15.476Z"
   },
   {
    "duration": 4,
    "start_time": "2024-06-19T05:33:19.701Z"
   },
   {
    "duration": 15,
    "start_time": "2024-06-19T05:34:21.884Z"
   },
   {
    "duration": 19,
    "start_time": "2024-06-19T05:34:38.296Z"
   },
   {
    "duration": 5,
    "start_time": "2024-06-19T05:36:06.237Z"
   },
   {
    "duration": 19,
    "start_time": "2024-06-19T05:36:11.873Z"
   },
   {
    "duration": 8,
    "start_time": "2024-06-19T05:36:26.057Z"
   },
   {
    "duration": 245,
    "start_time": "2024-06-19T05:37:49.605Z"
   },
   {
    "duration": 2,
    "start_time": "2024-06-19T05:55:20.551Z"
   },
   {
    "duration": 3,
    "start_time": "2024-06-19T05:55:23.486Z"
   },
   {
    "duration": 4,
    "start_time": "2024-06-19T05:55:29.777Z"
   },
   {
    "duration": 3,
    "start_time": "2024-06-19T05:55:36.054Z"
   },
   {
    "duration": 3,
    "start_time": "2024-06-19T05:55:52.329Z"
   },
   {
    "duration": 3,
    "start_time": "2024-06-19T05:56:21.889Z"
   },
   {
    "duration": 110,
    "start_time": "2024-06-19T05:56:25.592Z"
   },
   {
    "duration": 121,
    "start_time": "2024-06-19T05:56:29.023Z"
   },
   {
    "duration": 134,
    "start_time": "2024-06-19T05:56:35.056Z"
   },
   {
    "duration": 5,
    "start_time": "2024-06-19T05:56:46.583Z"
   },
   {
    "duration": 144,
    "start_time": "2024-06-19T05:57:02.332Z"
   },
   {
    "duration": 109,
    "start_time": "2024-06-19T06:01:12.205Z"
   },
   {
    "duration": 112,
    "start_time": "2024-06-19T06:01:15.349Z"
   },
   {
    "duration": 124,
    "start_time": "2024-06-19T06:01:20.349Z"
   },
   {
    "duration": 5,
    "start_time": "2024-06-19T06:03:44.681Z"
   },
   {
    "duration": 14,
    "start_time": "2024-06-19T06:04:04.060Z"
   },
   {
    "duration": 123,
    "start_time": "2024-06-19T06:04:29.169Z"
   },
   {
    "duration": 131,
    "start_time": "2024-06-19T06:06:08.957Z"
   },
   {
    "duration": 230,
    "start_time": "2024-06-19T06:06:13.603Z"
   },
   {
    "duration": 103,
    "start_time": "2024-06-19T06:06:18.362Z"
   },
   {
    "duration": 138,
    "start_time": "2024-06-19T06:07:02.761Z"
   },
   {
    "duration": 12,
    "start_time": "2024-06-19T06:07:10.992Z"
   },
   {
    "duration": 117,
    "start_time": "2024-06-19T06:07:15.031Z"
   },
   {
    "duration": 132,
    "start_time": "2024-06-19T06:07:56.637Z"
   },
   {
    "duration": 125,
    "start_time": "2024-06-19T06:08:05.720Z"
   },
   {
    "duration": 134,
    "start_time": "2024-06-19T06:08:10.590Z"
   },
   {
    "duration": 154,
    "start_time": "2024-06-19T06:08:52.477Z"
   },
   {
    "duration": 132,
    "start_time": "2024-06-19T06:09:09.573Z"
   },
   {
    "duration": 126,
    "start_time": "2024-06-19T06:11:02.396Z"
   },
   {
    "duration": 128,
    "start_time": "2024-06-19T06:15:17.759Z"
   },
   {
    "duration": 125,
    "start_time": "2024-06-19T06:16:21.325Z"
   },
   {
    "duration": 120,
    "start_time": "2024-06-19T06:16:26.661Z"
   },
   {
    "duration": 123,
    "start_time": "2024-06-19T06:16:33.006Z"
   },
   {
    "duration": 110,
    "start_time": "2024-06-19T06:16:42.448Z"
   },
   {
    "duration": 4817,
    "start_time": "2024-06-19T08:18:03.492Z"
   },
   {
    "duration": 2100,
    "start_time": "2024-06-19T08:18:08.311Z"
   },
   {
    "duration": 4,
    "start_time": "2024-06-19T08:18:10.412Z"
   },
   {
    "duration": 9,
    "start_time": "2024-06-19T08:18:10.418Z"
   },
   {
    "duration": 7,
    "start_time": "2024-06-19T08:18:10.430Z"
   },
   {
    "duration": 708,
    "start_time": "2024-06-19T08:18:10.439Z"
   },
   {
    "duration": 3,
    "start_time": "2024-06-19T08:18:11.149Z"
   },
   {
    "duration": 60,
    "start_time": "2024-06-19T08:18:11.153Z"
   },
   {
    "duration": 183,
    "start_time": "2024-06-19T08:18:11.214Z"
   },
   {
    "duration": 14,
    "start_time": "2024-06-19T08:18:11.399Z"
   },
   {
    "duration": 6,
    "start_time": "2024-06-19T08:18:11.415Z"
   },
   {
    "duration": 12,
    "start_time": "2024-06-19T08:18:11.423Z"
   },
   {
    "duration": 2727,
    "start_time": "2024-06-19T08:18:11.437Z"
   },
   {
    "duration": 4,
    "start_time": "2024-06-19T08:18:14.168Z"
   },
   {
    "duration": 95,
    "start_time": "2024-06-19T08:18:14.174Z"
   },
   {
    "duration": 93,
    "start_time": "2024-06-19T08:18:14.272Z"
   },
   {
    "duration": 8,
    "start_time": "2024-06-19T08:18:14.366Z"
   },
   {
    "duration": 7,
    "start_time": "2024-06-19T08:18:14.376Z"
   },
   {
    "duration": 10,
    "start_time": "2024-06-19T08:18:14.385Z"
   },
   {
    "duration": 32092,
    "start_time": "2024-06-19T08:18:14.397Z"
   },
   {
    "duration": 1112,
    "start_time": "2024-06-19T08:18:46.490Z"
   },
   {
    "duration": 282,
    "start_time": "2024-06-19T08:18:47.604Z"
   },
   {
    "duration": 2294,
    "start_time": "2024-06-19T08:18:47.888Z"
   },
   {
    "duration": 3,
    "start_time": "2024-06-19T08:18:50.265Z"
   },
   {
    "duration": 94,
    "start_time": "2024-06-19T08:18:50.271Z"
   },
   {
    "duration": 15,
    "start_time": "2024-06-19T08:18:50.366Z"
   },
   {
    "duration": 23,
    "start_time": "2024-06-19T08:18:50.383Z"
   },
   {
    "duration": 9,
    "start_time": "2024-06-19T08:18:50.408Z"
   },
   {
    "duration": 5,
    "start_time": "2024-06-19T08:18:50.419Z"
   },
   {
    "duration": 32355,
    "start_time": "2024-06-19T08:18:50.426Z"
   },
   {
    "duration": 1019,
    "start_time": "2024-06-19T08:19:22.783Z"
   },
   {
    "duration": 307,
    "start_time": "2024-06-19T08:19:23.804Z"
   },
   {
    "duration": 2062,
    "start_time": "2024-06-19T08:19:24.114Z"
   },
   {
    "duration": 3,
    "start_time": "2024-06-19T08:19:26.179Z"
   },
   {
    "duration": 100,
    "start_time": "2024-06-19T08:19:26.261Z"
   },
   {
    "duration": 9,
    "start_time": "2024-06-19T08:19:26.363Z"
   },
   {
    "duration": 31,
    "start_time": "2024-06-19T08:19:26.374Z"
   },
   {
    "duration": 8,
    "start_time": "2024-06-19T08:19:26.408Z"
   },
   {
    "duration": 6,
    "start_time": "2024-06-19T08:19:26.418Z"
   },
   {
    "duration": 32651,
    "start_time": "2024-06-19T08:19:26.426Z"
   },
   {
    "duration": 1033,
    "start_time": "2024-06-19T08:19:59.083Z"
   },
   {
    "duration": 478,
    "start_time": "2024-06-19T08:20:00.118Z"
   },
   {
    "duration": 12,
    "start_time": "2024-06-19T08:20:00.598Z"
   },
   {
    "duration": 98,
    "start_time": "2024-06-19T08:20:00.612Z"
   },
   {
    "duration": 3193,
    "start_time": "2024-06-19T08:20:00.712Z"
   },
   {
    "duration": 7,
    "start_time": "2024-06-19T08:20:03.966Z"
   },
   {
    "duration": 87,
    "start_time": "2024-06-19T08:20:03.975Z"
   },
   {
    "duration": 64,
    "start_time": "2024-06-19T08:20:04.064Z"
   },
   {
    "duration": 41,
    "start_time": "2024-06-19T08:20:04.130Z"
   },
   {
    "duration": 16,
    "start_time": "2024-06-19T08:20:04.173Z"
   },
   {
    "duration": 12,
    "start_time": "2024-06-19T08:20:04.191Z"
   },
   {
    "duration": 95839,
    "start_time": "2024-06-19T08:20:04.205Z"
   },
   {
    "duration": 1942,
    "start_time": "2024-06-19T08:21:40.046Z"
   },
   {
    "duration": 298,
    "start_time": "2024-06-19T08:21:41.990Z"
   },
   {
    "duration": 3,
    "start_time": "2024-06-19T08:21:42.290Z"
   },
   {
    "duration": 28,
    "start_time": "2024-06-19T08:21:42.295Z"
   },
   {
    "duration": 16,
    "start_time": "2024-06-19T08:21:42.325Z"
   },
   {
    "duration": 20,
    "start_time": "2024-06-19T08:21:42.343Z"
   },
   {
    "duration": 27,
    "start_time": "2024-06-19T08:21:42.365Z"
   },
   {
    "duration": 7,
    "start_time": "2024-06-19T08:21:42.394Z"
   },
   {
    "duration": 19,
    "start_time": "2024-06-19T08:21:42.403Z"
   },
   {
    "duration": 44,
    "start_time": "2024-06-19T08:21:42.424Z"
   },
   {
    "duration": 8,
    "start_time": "2024-06-19T08:21:42.470Z"
   },
   {
    "duration": 9,
    "start_time": "2024-06-19T08:21:42.479Z"
   },
   {
    "duration": 13,
    "start_time": "2024-06-19T08:21:42.489Z"
   },
   {
    "duration": 17,
    "start_time": "2024-06-19T08:21:42.504Z"
   },
   {
    "duration": 22,
    "start_time": "2024-06-19T08:21:42.523Z"
   },
   {
    "duration": 17,
    "start_time": "2024-06-19T08:21:42.547Z"
   },
   {
    "duration": 21,
    "start_time": "2024-06-19T08:21:42.566Z"
   },
   {
    "duration": 9,
    "start_time": "2024-06-19T08:21:42.590Z"
   },
   {
    "duration": 13,
    "start_time": "2024-06-19T08:21:42.601Z"
   },
   {
    "duration": 4,
    "start_time": "2024-06-19T08:21:42.616Z"
   },
   {
    "duration": 41,
    "start_time": "2024-06-19T08:21:42.622Z"
   },
   {
    "duration": 97,
    "start_time": "2024-06-19T08:21:42.666Z"
   },
   {
    "duration": 3,
    "start_time": "2024-06-19T08:21:42.765Z"
   },
   {
    "duration": 11,
    "start_time": "2024-06-19T08:21:42.770Z"
   },
   {
    "duration": 11,
    "start_time": "2024-06-19T08:21:42.782Z"
   },
   {
    "duration": 38,
    "start_time": "2024-06-19T08:21:42.794Z"
   },
   {
    "duration": 36,
    "start_time": "2024-06-19T08:21:42.833Z"
   },
   {
    "duration": 17,
    "start_time": "2024-06-19T08:21:42.871Z"
   },
   {
    "duration": 6,
    "start_time": "2024-06-19T08:21:42.890Z"
   },
   {
    "duration": 5,
    "start_time": "2024-06-19T08:21:42.898Z"
   },
   {
    "duration": 6,
    "start_time": "2024-06-19T08:21:42.905Z"
   },
   {
    "duration": 12,
    "start_time": "2024-06-19T08:21:42.912Z"
   },
   {
    "duration": 91,
    "start_time": "2024-06-19T08:21:42.926Z"
   },
   {
    "duration": 7,
    "start_time": "2024-06-19T08:21:43.019Z"
   },
   {
    "duration": 99,
    "start_time": "2024-06-19T08:21:43.062Z"
   },
   {
    "duration": 2,
    "start_time": "2024-06-19T08:21:43.163Z"
   },
   {
    "duration": 17,
    "start_time": "2024-06-19T08:21:43.166Z"
   },
   {
    "duration": 11,
    "start_time": "2024-06-19T08:21:43.186Z"
   },
   {
    "duration": 49,
    "start_time": "2024-06-19T08:21:43.199Z"
   },
   {
    "duration": 19,
    "start_time": "2024-06-19T08:21:43.250Z"
   },
   {
    "duration": 42,
    "start_time": "2024-06-19T08:21:43.271Z"
   },
   {
    "duration": 20,
    "start_time": "2024-06-19T08:21:43.315Z"
   },
   {
    "duration": 9,
    "start_time": "2024-06-19T08:21:43.337Z"
   },
   {
    "duration": 27,
    "start_time": "2024-06-19T08:21:43.347Z"
   },
   {
    "duration": 7,
    "start_time": "2024-06-19T08:21:43.375Z"
   },
   {
    "duration": 78,
    "start_time": "2024-06-19T08:21:43.385Z"
   },
   {
    "duration": 102,
    "start_time": "2024-06-19T08:21:43.466Z"
   },
   {
    "duration": 26,
    "start_time": "2024-06-19T08:21:43.569Z"
   },
   {
    "duration": 11,
    "start_time": "2024-06-19T08:21:43.596Z"
   },
   {
    "duration": 20,
    "start_time": "2024-06-19T08:21:43.609Z"
   },
   {
    "duration": 51,
    "start_time": "2024-06-19T08:21:43.631Z"
   },
   {
    "duration": 11,
    "start_time": "2024-06-19T08:21:43.684Z"
   },
   {
    "duration": 12,
    "start_time": "2024-06-19T08:21:43.697Z"
   },
   {
    "duration": 13,
    "start_time": "2024-06-19T08:21:43.711Z"
   },
   {
    "duration": 7,
    "start_time": "2024-06-19T08:21:43.726Z"
   },
   {
    "duration": 27,
    "start_time": "2024-06-19T08:21:43.734Z"
   },
   {
    "duration": 164,
    "start_time": "2024-06-19T08:21:43.763Z"
   },
   {
    "duration": 3,
    "start_time": "2024-06-19T08:22:30.716Z"
   },
   {
    "duration": 2,
    "start_time": "2024-06-19T08:22:51.509Z"
   },
   {
    "duration": 3,
    "start_time": "2024-06-19T08:22:52.156Z"
   },
   {
    "duration": 3,
    "start_time": "2024-06-19T08:23:05.460Z"
   },
   {
    "duration": 2,
    "start_time": "2024-06-19T08:23:12.595Z"
   },
   {
    "duration": 3,
    "start_time": "2024-06-19T08:23:14.915Z"
   },
   {
    "duration": 139,
    "start_time": "2024-06-19T08:23:16.689Z"
   },
   {
    "duration": 142,
    "start_time": "2024-06-19T08:23:31.094Z"
   },
   {
    "duration": 3,
    "start_time": "2024-06-19T08:33:49.604Z"
   },
   {
    "duration": 654,
    "start_time": "2024-06-19T08:34:42.250Z"
   },
   {
    "duration": 11,
    "start_time": "2024-06-19T08:34:52.317Z"
   },
   {
    "duration": 157,
    "start_time": "2024-06-19T08:36:17.188Z"
   },
   {
    "duration": 5,
    "start_time": "2024-06-19T08:37:08.522Z"
   },
   {
    "duration": 3965,
    "start_time": "2024-06-19T08:37:15.283Z"
   },
   {
    "duration": 4042,
    "start_time": "2024-06-19T08:42:45.803Z"
   },
   {
    "duration": 3930,
    "start_time": "2024-06-19T08:43:15.787Z"
   },
   {
    "duration": 3800,
    "start_time": "2024-06-19T08:45:12.466Z"
   },
   {
    "duration": 3831,
    "start_time": "2024-06-19T08:45:39.107Z"
   },
   {
    "duration": 2729,
    "start_time": "2024-06-19T08:55:42.759Z"
   },
   {
    "duration": 5,
    "start_time": "2024-06-19T08:55:45.490Z"
   },
   {
    "duration": 36,
    "start_time": "2024-06-19T08:55:45.497Z"
   },
   {
    "duration": 32,
    "start_time": "2024-06-19T08:55:45.536Z"
   },
   {
    "duration": 11,
    "start_time": "2024-06-19T08:55:45.570Z"
   },
   {
    "duration": 9,
    "start_time": "2024-06-19T08:55:45.583Z"
   },
   {
    "duration": 439,
    "start_time": "2024-06-19T08:55:45.594Z"
   },
   {
    "duration": 14,
    "start_time": "2024-06-19T08:55:46.035Z"
   },
   {
    "duration": 76,
    "start_time": "2024-06-19T08:55:46.051Z"
   },
   {
    "duration": 206,
    "start_time": "2024-06-19T08:55:46.130Z"
   },
   {
    "duration": 22,
    "start_time": "2024-06-19T08:55:46.338Z"
   },
   {
    "duration": 4,
    "start_time": "2024-06-19T08:55:46.362Z"
   },
   {
    "duration": 6,
    "start_time": "2024-06-19T08:55:46.368Z"
   },
   {
    "duration": 2094,
    "start_time": "2024-06-19T08:55:46.377Z"
   },
   {
    "duration": 83,
    "start_time": "2024-06-19T08:55:48.478Z"
   },
   {
    "duration": 94,
    "start_time": "2024-06-19T08:55:48.567Z"
   },
   {
    "duration": 8,
    "start_time": "2024-06-19T08:55:48.663Z"
   },
   {
    "duration": 7,
    "start_time": "2024-06-19T08:55:48.673Z"
   },
   {
    "duration": 10,
    "start_time": "2024-06-19T08:55:48.681Z"
   },
   {
    "duration": 12,
    "start_time": "2024-06-19T08:55:48.693Z"
   },
   {
    "duration": 32067,
    "start_time": "2024-06-19T08:55:48.707Z"
   },
   {
    "duration": 1179,
    "start_time": "2024-06-19T08:56:20.776Z"
   },
   {
    "duration": 339,
    "start_time": "2024-06-19T08:56:21.960Z"
   },
   {
    "duration": 2267,
    "start_time": "2024-06-19T08:56:22.301Z"
   },
   {
    "duration": 3,
    "start_time": "2024-06-19T08:56:24.571Z"
   },
   {
    "duration": 86,
    "start_time": "2024-06-19T08:56:24.577Z"
   },
   {
    "duration": 99,
    "start_time": "2024-06-19T08:56:24.666Z"
   },
   {
    "duration": 6,
    "start_time": "2024-06-19T08:56:24.770Z"
   },
   {
    "duration": 9,
    "start_time": "2024-06-19T08:56:24.778Z"
   },
   {
    "duration": 5,
    "start_time": "2024-06-19T08:56:24.789Z"
   },
   {
    "duration": 33091,
    "start_time": "2024-06-19T08:56:24.795Z"
   },
   {
    "duration": 1176,
    "start_time": "2024-06-19T08:56:57.887Z"
   },
   {
    "duration": 307,
    "start_time": "2024-06-19T08:56:59.066Z"
   },
   {
    "duration": 1895,
    "start_time": "2024-06-19T08:56:59.376Z"
   },
   {
    "duration": 6,
    "start_time": "2024-06-19T08:57:01.273Z"
   },
   {
    "duration": 208,
    "start_time": "2024-06-19T08:57:01.284Z"
   },
   {
    "duration": 156,
    "start_time": "2024-06-19T08:57:01.494Z"
   },
   {
    "duration": 97,
    "start_time": "2024-06-19T08:57:01.652Z"
   },
   {
    "duration": 30,
    "start_time": "2024-06-19T08:57:01.752Z"
   },
   {
    "duration": 63,
    "start_time": "2024-06-19T08:57:01.784Z"
   },
   {
    "duration": 33838,
    "start_time": "2024-06-19T08:57:01.849Z"
   },
   {
    "duration": 1129,
    "start_time": "2024-06-19T08:57:35.688Z"
   },
   {
    "duration": 470,
    "start_time": "2024-06-19T08:57:36.819Z"
   },
   {
    "duration": 16,
    "start_time": "2024-06-19T08:57:37.290Z"
   },
   {
    "duration": 27,
    "start_time": "2024-06-19T08:57:37.307Z"
   },
   {
    "duration": 2657,
    "start_time": "2024-06-19T08:57:37.336Z"
   },
   {
    "duration": 4,
    "start_time": "2024-06-19T08:57:39.996Z"
   },
   {
    "duration": 63,
    "start_time": "2024-06-19T08:57:40.002Z"
   },
   {
    "duration": 94,
    "start_time": "2024-06-19T08:57:40.068Z"
   },
   {
    "duration": 32,
    "start_time": "2024-06-19T08:57:40.164Z"
   },
   {
    "duration": 11,
    "start_time": "2024-06-19T08:57:40.198Z"
   },
   {
    "duration": 6,
    "start_time": "2024-06-19T08:57:40.210Z"
   },
   {
    "duration": 100589,
    "start_time": "2024-06-19T08:57:40.217Z"
   },
   {
    "duration": 1992,
    "start_time": "2024-06-19T08:59:20.807Z"
   },
   {
    "duration": 291,
    "start_time": "2024-06-19T08:59:22.801Z"
   },
   {
    "duration": 3,
    "start_time": "2024-06-19T08:59:23.094Z"
   },
   {
    "duration": 26,
    "start_time": "2024-06-19T08:59:23.098Z"
   },
   {
    "duration": 9,
    "start_time": "2024-06-19T08:59:23.126Z"
   },
   {
    "duration": 15,
    "start_time": "2024-06-19T08:59:23.137Z"
   },
   {
    "duration": 45,
    "start_time": "2024-06-19T08:59:23.154Z"
   },
   {
    "duration": 5,
    "start_time": "2024-06-19T08:59:23.201Z"
   },
   {
    "duration": 19,
    "start_time": "2024-06-19T08:59:23.208Z"
   },
   {
    "duration": 23,
    "start_time": "2024-06-19T08:59:23.228Z"
   },
   {
    "duration": 9,
    "start_time": "2024-06-19T08:59:23.253Z"
   },
   {
    "duration": 9,
    "start_time": "2024-06-19T08:59:23.273Z"
   },
   {
    "duration": 17,
    "start_time": "2024-06-19T08:59:23.283Z"
   },
   {
    "duration": 10,
    "start_time": "2024-06-19T08:59:23.302Z"
   },
   {
    "duration": 12,
    "start_time": "2024-06-19T08:59:23.314Z"
   },
   {
    "duration": 8,
    "start_time": "2024-06-19T08:59:23.328Z"
   },
   {
    "duration": 9,
    "start_time": "2024-06-19T08:59:23.338Z"
   },
   {
    "duration": 10,
    "start_time": "2024-06-19T08:59:23.360Z"
   },
   {
    "duration": 12,
    "start_time": "2024-06-19T08:59:23.372Z"
   },
   {
    "duration": 79,
    "start_time": "2024-06-19T08:59:23.385Z"
   },
   {
    "duration": 6,
    "start_time": "2024-06-19T08:59:23.468Z"
   },
   {
    "duration": 91,
    "start_time": "2024-06-19T08:59:23.476Z"
   },
   {
    "duration": 4,
    "start_time": "2024-06-19T08:59:23.570Z"
   },
   {
    "duration": 8,
    "start_time": "2024-06-19T08:59:23.577Z"
   },
   {
    "duration": 11,
    "start_time": "2024-06-19T08:59:23.588Z"
   },
   {
    "duration": 61,
    "start_time": "2024-06-19T08:59:23.600Z"
   },
   {
    "duration": 17,
    "start_time": "2024-06-19T08:59:23.664Z"
   },
   {
    "duration": 18,
    "start_time": "2024-06-19T08:59:23.682Z"
   },
   {
    "duration": 3,
    "start_time": "2024-06-19T08:59:23.706Z"
   },
   {
    "duration": 12,
    "start_time": "2024-06-19T08:59:23.711Z"
   },
   {
    "duration": 42,
    "start_time": "2024-06-19T08:59:23.724Z"
   },
   {
    "duration": 20,
    "start_time": "2024-06-19T08:59:23.769Z"
   },
   {
    "duration": 12,
    "start_time": "2024-06-19T08:59:23.792Z"
   },
   {
    "duration": 4,
    "start_time": "2024-06-19T08:59:23.862Z"
   },
   {
    "duration": 93,
    "start_time": "2024-06-19T08:59:23.869Z"
   },
   {
    "duration": 12,
    "start_time": "2024-06-19T08:59:23.965Z"
   },
   {
    "duration": 10,
    "start_time": "2024-06-19T08:59:23.979Z"
   },
   {
    "duration": 43,
    "start_time": "2024-06-19T08:59:23.991Z"
   },
   {
    "duration": 72,
    "start_time": "2024-06-19T08:59:24.035Z"
   },
   {
    "duration": 10,
    "start_time": "2024-06-19T08:59:24.108Z"
   },
   {
    "duration": 90,
    "start_time": "2024-06-19T08:59:24.120Z"
   },
   {
    "duration": 21,
    "start_time": "2024-06-19T08:59:24.212Z"
   },
   {
    "duration": 8,
    "start_time": "2024-06-19T08:59:24.234Z"
   },
   {
    "duration": 32,
    "start_time": "2024-06-19T08:59:24.244Z"
   },
   {
    "duration": 82,
    "start_time": "2024-06-19T08:59:24.279Z"
   },
   {
    "duration": 5,
    "start_time": "2024-06-19T08:59:24.366Z"
   },
   {
    "duration": 97,
    "start_time": "2024-06-19T08:59:24.373Z"
   },
   {
    "duration": 5,
    "start_time": "2024-06-19T08:59:24.472Z"
   },
   {
    "duration": 8,
    "start_time": "2024-06-19T08:59:24.479Z"
   },
   {
    "duration": 11,
    "start_time": "2024-06-19T08:59:24.488Z"
   },
   {
    "duration": 67,
    "start_time": "2024-06-19T08:59:24.501Z"
   },
   {
    "duration": 11,
    "start_time": "2024-06-19T08:59:24.571Z"
   },
   {
    "duration": 11,
    "start_time": "2024-06-19T08:59:24.584Z"
   },
   {
    "duration": 3,
    "start_time": "2024-06-19T08:59:24.597Z"
   },
   {
    "duration": 7,
    "start_time": "2024-06-19T08:59:24.601Z"
   },
   {
    "duration": 5,
    "start_time": "2024-06-19T08:59:24.610Z"
   },
   {
    "duration": 173,
    "start_time": "2024-06-19T08:59:24.617Z"
   },
   {
    "duration": 655,
    "start_time": "2024-06-19T08:59:24.792Z"
   },
   {
    "duration": 17,
    "start_time": "2024-06-19T08:59:25.449Z"
   },
   {
    "duration": 4567,
    "start_time": "2024-06-19T08:59:25.469Z"
   },
   {
    "duration": 4,
    "start_time": "2024-06-19T09:03:36.290Z"
   },
   {
    "duration": 16,
    "start_time": "2024-06-19T09:06:22.363Z"
   },
   {
    "duration": 12,
    "start_time": "2024-06-19T09:07:07.792Z"
   },
   {
    "duration": 9,
    "start_time": "2024-06-19T09:10:12.627Z"
   },
   {
    "duration": 45,
    "start_time": "2024-06-19T09:10:34.042Z"
   },
   {
    "duration": 8,
    "start_time": "2024-06-19T09:11:08.111Z"
   },
   {
    "duration": 9,
    "start_time": "2024-06-19T09:11:55.344Z"
   },
   {
    "duration": 9,
    "start_time": "2024-06-19T09:12:11.990Z"
   },
   {
    "duration": 8,
    "start_time": "2024-06-19T09:12:21.075Z"
   },
   {
    "duration": 863,
    "start_time": "2024-06-19T09:16:15.863Z"
   },
   {
    "duration": 672,
    "start_time": "2024-06-19T09:17:01.612Z"
   },
   {
    "duration": 642,
    "start_time": "2024-06-19T09:17:12.540Z"
   },
   {
    "duration": 686,
    "start_time": "2024-06-19T09:17:55.398Z"
   },
   {
    "duration": 702,
    "start_time": "2024-06-19T09:18:08.976Z"
   },
   {
    "duration": 695,
    "start_time": "2024-06-19T09:18:16.377Z"
   },
   {
    "duration": 694,
    "start_time": "2024-06-19T09:18:23.792Z"
   },
   {
    "duration": 656,
    "start_time": "2024-06-19T09:18:30.978Z"
   },
   {
    "duration": 681,
    "start_time": "2024-06-19T09:19:13.014Z"
   },
   {
    "duration": 7,
    "start_time": "2024-06-19T09:36:28.899Z"
   },
   {
    "duration": 163,
    "start_time": "2024-06-19T09:38:30.764Z"
   },
   {
    "duration": 2,
    "start_time": "2024-06-19T09:47:26.853Z"
   },
   {
    "duration": 5,
    "start_time": "2024-06-19T09:47:33.852Z"
   },
   {
    "duration": 10,
    "start_time": "2024-06-19T09:48:22.093Z"
   },
   {
    "duration": 13,
    "start_time": "2024-06-19T09:48:48.341Z"
   },
   {
    "duration": 9,
    "start_time": "2024-06-19T09:48:57.488Z"
   },
   {
    "duration": 8,
    "start_time": "2024-06-19T09:49:42.734Z"
   },
   {
    "duration": 11,
    "start_time": "2024-06-19T09:50:26.818Z"
   },
   {
    "duration": 6,
    "start_time": "2024-06-19T18:52:15.632Z"
   },
   {
    "duration": 3,
    "start_time": "2024-06-19T18:52:38.305Z"
   },
   {
    "duration": 3895,
    "start_time": "2024-06-19T18:56:21.436Z"
   },
   {
    "duration": 1690,
    "start_time": "2024-06-19T18:56:32.735Z"
   },
   {
    "duration": 4,
    "start_time": "2024-06-19T18:59:15.751Z"
   },
   {
    "duration": 7,
    "start_time": "2024-06-19T18:59:40.639Z"
   },
   {
    "duration": 2,
    "start_time": "2024-06-19T18:59:42.966Z"
   },
   {
    "duration": 3,
    "start_time": "2024-06-19T18:59:45.478Z"
   },
   {
    "duration": 2,
    "start_time": "2024-06-19T18:59:46.609Z"
   },
   {
    "duration": 1437,
    "start_time": "2024-06-19T19:00:10.664Z"
   },
   {
    "duration": 3,
    "start_time": "2024-06-19T19:00:48.946Z"
   },
   {
    "duration": 37,
    "start_time": "2024-06-19T19:01:14.434Z"
   },
   {
    "duration": 4,
    "start_time": "2024-06-19T19:06:40.960Z"
   },
   {
    "duration": 262,
    "start_time": "2024-06-19T19:07:33.440Z"
   },
   {
    "duration": 242,
    "start_time": "2024-06-19T19:07:57.588Z"
   },
   {
    "duration": 296,
    "start_time": "2024-06-19T19:08:21.502Z"
   },
   {
    "duration": 2,
    "start_time": "2024-06-19T19:13:48.951Z"
   },
   {
    "duration": 4,
    "start_time": "2024-06-19T19:13:49.545Z"
   },
   {
    "duration": 1787,
    "start_time": "2024-06-19T19:13:51.308Z"
   },
   {
    "duration": 2,
    "start_time": "2024-06-19T19:13:56.141Z"
   },
   {
    "duration": 2,
    "start_time": "2024-06-19T19:13:56.561Z"
   },
   {
    "duration": 4,
    "start_time": "2024-06-19T19:14:35.922Z"
   },
   {
    "duration": 3,
    "start_time": "2024-06-19T19:14:36.762Z"
   },
   {
    "duration": 5,
    "start_time": "2024-06-19T19:14:44.608Z"
   },
   {
    "duration": 3,
    "start_time": "2024-06-19T19:14:45.116Z"
   },
   {
    "duration": 20063,
    "start_time": "2024-06-19T19:14:45.643Z"
   },
   {
    "duration": 856,
    "start_time": "2024-06-19T19:15:07.562Z"
   },
   {
    "duration": 246,
    "start_time": "2024-06-19T19:15:09.563Z"
   },
   {
    "duration": 1707,
    "start_time": "2024-06-19T19:16:29.991Z"
   },
   {
    "duration": 1533,
    "start_time": "2024-06-19T19:18:42.464Z"
   },
   {
    "duration": 11,
    "start_time": "2024-06-21T05:23:47.766Z"
   },
   {
    "duration": 3,
    "start_time": "2024-06-21T05:23:59.191Z"
   },
   {
    "duration": 3,
    "start_time": "2024-06-21T05:26:10.038Z"
   },
   {
    "duration": 3,
    "start_time": "2024-06-21T05:29:05.809Z"
   },
   {
    "duration": 3,
    "start_time": "2024-06-21T05:29:18.694Z"
   },
   {
    "duration": 4273,
    "start_time": "2024-06-21T05:57:15.170Z"
   },
   {
    "duration": 1814,
    "start_time": "2024-06-21T05:57:19.446Z"
   },
   {
    "duration": 3,
    "start_time": "2024-06-21T05:57:21.262Z"
   },
   {
    "duration": 21,
    "start_time": "2024-06-21T05:57:21.266Z"
   },
   {
    "duration": 6,
    "start_time": "2024-06-21T05:57:21.288Z"
   },
   {
    "duration": 8,
    "start_time": "2024-06-21T05:57:21.295Z"
   },
   {
    "duration": 15,
    "start_time": "2024-06-21T05:57:21.304Z"
   },
   {
    "duration": 1621,
    "start_time": "2024-06-21T05:57:21.320Z"
   },
   {
    "duration": 2,
    "start_time": "2024-06-21T05:57:22.943Z"
   },
   {
    "duration": 74,
    "start_time": "2024-06-21T05:57:22.947Z"
   },
   {
    "duration": 147,
    "start_time": "2024-06-21T05:57:23.022Z"
   },
   {
    "duration": 288,
    "start_time": "2024-06-21T05:57:23.170Z"
   },
   {
    "duration": 256,
    "start_time": "2024-06-21T05:57:23.460Z"
   },
   {
    "duration": 275,
    "start_time": "2024-06-21T05:57:23.719Z"
   },
   {
    "duration": 2,
    "start_time": "2024-06-21T05:57:23.996Z"
   },
   {
    "duration": 9,
    "start_time": "2024-06-21T05:57:23.999Z"
   },
   {
    "duration": 1816,
    "start_time": "2024-06-21T05:57:24.009Z"
   },
   {
    "duration": 3,
    "start_time": "2024-06-21T05:57:25.826Z"
   },
   {
    "duration": 100,
    "start_time": "2024-06-21T05:57:25.830Z"
   },
   {
    "duration": 94,
    "start_time": "2024-06-21T05:57:25.932Z"
   },
   {
    "duration": 6,
    "start_time": "2024-06-21T05:57:26.027Z"
   },
   {
    "duration": 7,
    "start_time": "2024-06-21T05:57:26.034Z"
   },
   {
    "duration": 5,
    "start_time": "2024-06-21T05:57:26.042Z"
   },
   {
    "duration": 21827,
    "start_time": "2024-06-21T05:57:26.048Z"
   },
   {
    "duration": 1007,
    "start_time": "2024-06-21T05:57:47.876Z"
   },
   {
    "duration": 237,
    "start_time": "2024-06-21T05:57:48.885Z"
   },
   {
    "duration": 1599,
    "start_time": "2024-06-21T05:57:49.123Z"
   },
   {
    "duration": 3,
    "start_time": "2024-06-21T05:57:50.727Z"
   },
   {
    "duration": 11,
    "start_time": "2024-06-21T05:57:50.821Z"
   },
   {
    "duration": 90,
    "start_time": "2024-06-21T05:57:50.833Z"
   },
   {
    "duration": 14,
    "start_time": "2024-06-21T05:57:50.925Z"
   },
   {
    "duration": 21,
    "start_time": "2024-06-21T05:57:50.940Z"
   },
   {
    "duration": 13,
    "start_time": "2024-06-21T05:57:50.962Z"
   },
   {
    "duration": 22056,
    "start_time": "2024-06-21T05:57:50.976Z"
   },
   {
    "duration": 952,
    "start_time": "2024-06-21T05:58:13.033Z"
   },
   {
    "duration": 236,
    "start_time": "2024-06-21T05:58:13.986Z"
   },
   {
    "duration": 1701,
    "start_time": "2024-06-21T05:58:14.224Z"
   },
   {
    "duration": 3,
    "start_time": "2024-06-21T05:58:15.927Z"
   },
   {
    "duration": 190,
    "start_time": "2024-06-21T05:58:15.931Z"
   },
   {
    "duration": 17,
    "start_time": "2024-06-21T05:58:16.122Z"
   },
   {
    "duration": 9,
    "start_time": "2024-06-21T05:58:16.140Z"
   },
   {
    "duration": 7,
    "start_time": "2024-06-21T05:58:16.151Z"
   },
   {
    "duration": 5,
    "start_time": "2024-06-21T05:58:16.159Z"
   },
   {
    "duration": 21927,
    "start_time": "2024-06-21T05:58:16.165Z"
   },
   {
    "duration": 977,
    "start_time": "2024-06-21T05:58:38.093Z"
   },
   {
    "duration": 173,
    "start_time": "2024-06-21T05:58:39.071Z"
   },
   {
    "duration": 75,
    "start_time": "2024-06-21T05:58:39.245Z"
   },
   {
    "duration": 18,
    "start_time": "2024-06-21T05:58:39.322Z"
   },
   {
    "duration": 2996,
    "start_time": "2024-06-21T05:58:39.342Z"
   },
   {
    "duration": 2,
    "start_time": "2024-06-21T05:58:42.339Z"
   },
   {
    "duration": 78,
    "start_time": "2024-06-21T05:58:42.343Z"
   },
   {
    "duration": 98,
    "start_time": "2024-06-21T05:58:42.423Z"
   },
   {
    "duration": 9,
    "start_time": "2024-06-21T05:58:42.523Z"
   },
   {
    "duration": 18,
    "start_time": "2024-06-21T05:58:42.533Z"
   },
   {
    "duration": 7,
    "start_time": "2024-06-21T05:58:42.552Z"
   },
   {
    "duration": 64883,
    "start_time": "2024-06-21T05:58:42.562Z"
   },
   {
    "duration": 1668,
    "start_time": "2024-06-21T05:59:47.446Z"
   },
   {
    "duration": 228,
    "start_time": "2024-06-21T05:59:49.115Z"
   },
   {
    "duration": 3,
    "start_time": "2024-06-21T05:59:49.345Z"
   },
   {
    "duration": 6,
    "start_time": "2024-06-21T05:59:49.350Z"
   },
   {
    "duration": 20,
    "start_time": "2024-06-21T05:59:49.358Z"
   },
   {
    "duration": 59,
    "start_time": "2024-06-21T05:59:49.380Z"
   },
   {
    "duration": 13,
    "start_time": "2024-06-21T05:59:49.441Z"
   },
   {
    "duration": 20,
    "start_time": "2024-06-21T05:59:49.455Z"
   },
   {
    "duration": 7,
    "start_time": "2024-06-21T05:59:49.476Z"
   },
   {
    "duration": 7,
    "start_time": "2024-06-21T05:59:49.485Z"
   },
   {
    "duration": 7,
    "start_time": "2024-06-21T05:59:49.520Z"
   },
   {
    "duration": 13,
    "start_time": "2024-06-21T05:59:49.528Z"
   },
   {
    "duration": 6,
    "start_time": "2024-06-21T05:59:49.542Z"
   },
   {
    "duration": 9,
    "start_time": "2024-06-21T05:59:49.550Z"
   },
   {
    "duration": 28,
    "start_time": "2024-06-21T05:59:49.560Z"
   },
   {
    "duration": 4,
    "start_time": "2024-06-21T05:59:49.589Z"
   },
   {
    "duration": 31,
    "start_time": "2024-06-21T05:59:49.594Z"
   },
   {
    "duration": 98,
    "start_time": "2024-06-21T05:59:49.626Z"
   },
   {
    "duration": 10,
    "start_time": "2024-06-21T05:59:49.726Z"
   },
   {
    "duration": 11,
    "start_time": "2024-06-21T05:59:49.737Z"
   },
   {
    "duration": 27,
    "start_time": "2024-06-21T05:59:49.749Z"
   },
   {
    "duration": 9,
    "start_time": "2024-06-21T05:59:49.777Z"
   },
   {
    "duration": 14,
    "start_time": "2024-06-21T05:59:49.787Z"
   },
   {
    "duration": 5,
    "start_time": "2024-06-21T05:59:49.802Z"
   },
   {
    "duration": 14,
    "start_time": "2024-06-21T05:59:49.808Z"
   },
   {
    "duration": 11,
    "start_time": "2024-06-21T05:59:49.827Z"
   },
   {
    "duration": 12,
    "start_time": "2024-06-21T05:59:49.839Z"
   },
   {
    "duration": 5,
    "start_time": "2024-06-21T05:59:49.852Z"
   },
   {
    "duration": 66,
    "start_time": "2024-06-21T05:59:49.858Z"
   },
   {
    "duration": 95,
    "start_time": "2024-06-21T05:59:49.925Z"
   },
   {
    "duration": 23,
    "start_time": "2024-06-21T05:59:50.022Z"
   },
   {
    "duration": 34,
    "start_time": "2024-06-21T05:59:50.046Z"
   },
   {
    "duration": 34,
    "start_time": "2024-06-21T05:59:50.081Z"
   },
   {
    "duration": 7,
    "start_time": "2024-06-21T05:59:50.117Z"
   },
   {
    "duration": 32,
    "start_time": "2024-06-21T05:59:50.125Z"
   },
   {
    "duration": 12,
    "start_time": "2024-06-21T05:59:50.159Z"
   },
   {
    "duration": 26,
    "start_time": "2024-06-21T05:59:50.172Z"
   },
   {
    "duration": 10,
    "start_time": "2024-06-21T05:59:50.199Z"
   },
   {
    "duration": 14,
    "start_time": "2024-06-21T05:59:50.211Z"
   },
   {
    "duration": 102,
    "start_time": "2024-06-21T05:59:50.226Z"
   },
   {
    "duration": 7,
    "start_time": "2024-06-21T05:59:50.419Z"
   },
   {
    "duration": 16,
    "start_time": "2024-06-21T05:59:50.427Z"
   },
   {
    "duration": 34,
    "start_time": "2024-06-21T05:59:50.445Z"
   },
   {
    "duration": 35,
    "start_time": "2024-06-21T05:59:50.480Z"
   },
   {
    "duration": 7,
    "start_time": "2024-06-21T05:59:50.517Z"
   },
   {
    "duration": 11,
    "start_time": "2024-06-21T05:59:50.525Z"
   },
   {
    "duration": 4,
    "start_time": "2024-06-21T05:59:50.537Z"
   },
   {
    "duration": 6,
    "start_time": "2024-06-21T05:59:50.542Z"
   },
   {
    "duration": 113,
    "start_time": "2024-06-21T05:59:50.549Z"
   },
   {
    "duration": 592,
    "start_time": "2024-06-21T05:59:50.663Z"
   },
   {
    "duration": 581,
    "start_time": "2024-06-21T05:59:51.256Z"
   },
   {
    "duration": 639,
    "start_time": "2024-06-21T05:59:51.838Z"
   },
   {
    "duration": 9,
    "start_time": "2024-06-21T05:59:52.478Z"
   },
   {
    "duration": 607,
    "start_time": "2024-06-21T05:59:52.488Z"
   },
   {
    "duration": 581,
    "start_time": "2024-06-21T05:59:53.096Z"
   },
   {
    "duration": 612,
    "start_time": "2024-06-21T05:59:53.679Z"
   },
   {
    "duration": 136,
    "start_time": "2024-06-21T05:59:54.292Z"
   },
   {
    "duration": 3,
    "start_time": "2024-06-21T05:59:54.429Z"
   },
   {
    "duration": 18,
    "start_time": "2024-06-21T05:59:54.433Z"
   },
   {
    "duration": 8,
    "start_time": "2024-06-21T05:59:54.452Z"
   },
   {
    "duration": 6,
    "start_time": "2024-06-21T05:59:54.461Z"
   },
   {
    "duration": 4,
    "start_time": "2024-06-21T06:26:53.284Z"
   },
   {
    "duration": 3,
    "start_time": "2024-06-21T08:15:29.266Z"
   },
   {
    "duration": 4,
    "start_time": "2024-06-21T08:15:44.277Z"
   },
   {
    "duration": 4,
    "start_time": "2024-06-21T08:16:13.141Z"
   },
   {
    "duration": 3,
    "start_time": "2024-06-21T08:16:23.656Z"
   },
   {
    "duration": 2647,
    "start_time": "2024-06-21T08:42:37.127Z"
   },
   {
    "duration": 5,
    "start_time": "2024-06-21T08:42:39.776Z"
   },
   {
    "duration": 7,
    "start_time": "2024-06-21T08:42:39.782Z"
   },
   {
    "duration": 6,
    "start_time": "2024-06-21T08:42:39.790Z"
   },
   {
    "duration": 6,
    "start_time": "2024-06-21T08:42:39.797Z"
   },
   {
    "duration": 4,
    "start_time": "2024-06-21T08:42:39.804Z"
   },
   {
    "duration": 4,
    "start_time": "2024-06-21T08:42:39.809Z"
   },
   {
    "duration": 342,
    "start_time": "2024-06-21T08:42:39.814Z"
   },
   {
    "duration": 7,
    "start_time": "2024-06-21T08:42:40.158Z"
   },
   {
    "duration": 43,
    "start_time": "2024-06-21T08:42:40.168Z"
   },
   {
    "duration": 145,
    "start_time": "2024-06-21T08:42:40.212Z"
   },
   {
    "duration": 387,
    "start_time": "2024-06-21T08:42:40.358Z"
   },
   {
    "duration": 256,
    "start_time": "2024-06-21T08:42:40.746Z"
   },
   {
    "duration": 281,
    "start_time": "2024-06-21T08:42:41.004Z"
   },
   {
    "duration": 2,
    "start_time": "2024-06-21T08:42:41.287Z"
   },
   {
    "duration": 5,
    "start_time": "2024-06-21T08:42:41.290Z"
   },
   {
    "duration": 1834,
    "start_time": "2024-06-21T08:42:41.296Z"
   },
   {
    "duration": 84,
    "start_time": "2024-06-21T08:42:43.135Z"
   },
   {
    "duration": 99,
    "start_time": "2024-06-21T08:42:43.224Z"
   },
   {
    "duration": 24,
    "start_time": "2024-06-21T08:42:43.324Z"
   },
   {
    "duration": 22,
    "start_time": "2024-06-21T08:42:43.349Z"
   },
   {
    "duration": 20,
    "start_time": "2024-06-21T08:42:43.372Z"
   },
   {
    "duration": 31,
    "start_time": "2024-06-21T08:42:43.394Z"
   },
   {
    "duration": 23109,
    "start_time": "2024-06-21T08:42:43.426Z"
   },
   {
    "duration": 972,
    "start_time": "2024-06-21T08:43:06.536Z"
   },
   {
    "duration": 219,
    "start_time": "2024-06-21T08:43:07.509Z"
   },
   {
    "duration": 1794,
    "start_time": "2024-06-21T08:43:07.729Z"
   },
   {
    "duration": 3,
    "start_time": "2024-06-21T08:43:09.528Z"
   },
   {
    "duration": 4,
    "start_time": "2024-06-21T08:43:09.621Z"
   },
   {
    "duration": 94,
    "start_time": "2024-06-21T08:43:09.628Z"
   },
   {
    "duration": 5,
    "start_time": "2024-06-21T08:43:09.723Z"
   },
   {
    "duration": 5,
    "start_time": "2024-06-21T08:43:09.729Z"
   },
   {
    "duration": 4,
    "start_time": "2024-06-21T08:43:09.736Z"
   },
   {
    "duration": 23290,
    "start_time": "2024-06-21T08:43:09.741Z"
   },
   {
    "duration": 978,
    "start_time": "2024-06-21T08:43:33.032Z"
   },
   {
    "duration": 228,
    "start_time": "2024-06-21T08:43:34.012Z"
   },
   {
    "duration": 1883,
    "start_time": "2024-06-21T08:43:34.241Z"
   },
   {
    "duration": 95,
    "start_time": "2024-06-21T08:43:36.127Z"
   },
   {
    "duration": 94,
    "start_time": "2024-06-21T08:43:36.227Z"
   },
   {
    "duration": 10,
    "start_time": "2024-06-21T08:43:36.323Z"
   },
   {
    "duration": 31,
    "start_time": "2024-06-21T08:43:36.334Z"
   },
   {
    "duration": 18,
    "start_time": "2024-06-21T08:43:36.366Z"
   },
   {
    "duration": 9,
    "start_time": "2024-06-21T08:43:36.386Z"
   },
   {
    "duration": 23109,
    "start_time": "2024-06-21T08:43:36.396Z"
   },
   {
    "duration": 999,
    "start_time": "2024-06-21T08:43:59.506Z"
   },
   {
    "duration": 242,
    "start_time": "2024-06-21T08:44:00.507Z"
   },
   {
    "duration": 13,
    "start_time": "2024-06-21T08:44:00.751Z"
   },
   {
    "duration": 93,
    "start_time": "2024-06-21T08:44:00.765Z"
   },
   {
    "duration": 2473,
    "start_time": "2024-06-21T08:44:00.860Z"
   },
   {
    "duration": 101,
    "start_time": "2024-06-21T08:44:03.336Z"
   },
   {
    "duration": 7,
    "start_time": "2024-06-21T08:44:03.439Z"
   },
   {
    "duration": 18,
    "start_time": "2024-06-21T08:44:03.521Z"
   },
   {
    "duration": 3,
    "start_time": "2024-06-21T08:44:03.541Z"
   },
   {
    "duration": 16,
    "start_time": "2024-06-21T08:44:03.545Z"
   },
   {
    "duration": 13,
    "start_time": "2024-06-21T08:44:03.562Z"
   },
   {
    "duration": 71051,
    "start_time": "2024-06-21T08:44:03.576Z"
   },
   {
    "duration": 1732,
    "start_time": "2024-06-21T08:45:14.629Z"
   },
   {
    "duration": 263,
    "start_time": "2024-06-21T08:45:16.362Z"
   },
   {
    "duration": 4,
    "start_time": "2024-06-21T08:45:16.627Z"
   },
   {
    "duration": 19,
    "start_time": "2024-06-21T08:45:16.632Z"
   },
   {
    "duration": 6,
    "start_time": "2024-06-21T08:45:16.652Z"
   },
   {
    "duration": 15,
    "start_time": "2024-06-21T08:45:16.660Z"
   },
   {
    "duration": 30,
    "start_time": "2024-06-21T08:45:16.677Z"
   },
   {
    "duration": 13,
    "start_time": "2024-06-21T08:45:16.708Z"
   },
   {
    "duration": 20,
    "start_time": "2024-06-21T08:45:16.722Z"
   },
   {
    "duration": 8,
    "start_time": "2024-06-21T08:45:16.743Z"
   },
   {
    "duration": 7,
    "start_time": "2024-06-21T08:45:16.752Z"
   },
   {
    "duration": 17,
    "start_time": "2024-06-21T08:45:16.760Z"
   },
   {
    "duration": 4,
    "start_time": "2024-06-21T08:45:16.778Z"
   },
   {
    "duration": 9,
    "start_time": "2024-06-21T08:45:16.783Z"
   },
   {
    "duration": 6,
    "start_time": "2024-06-21T08:45:16.793Z"
   },
   {
    "duration": 20,
    "start_time": "2024-06-21T08:45:16.800Z"
   },
   {
    "duration": 17,
    "start_time": "2024-06-21T08:45:16.821Z"
   },
   {
    "duration": 8,
    "start_time": "2024-06-21T08:45:16.840Z"
   },
   {
    "duration": 71,
    "start_time": "2024-06-21T08:45:16.849Z"
   },
   {
    "duration": 6,
    "start_time": "2024-06-21T08:45:16.923Z"
   },
   {
    "duration": 3,
    "start_time": "2024-06-21T08:45:17.019Z"
   },
   {
    "duration": 48,
    "start_time": "2024-06-21T08:45:17.023Z"
   },
   {
    "duration": 25,
    "start_time": "2024-06-21T08:45:17.072Z"
   },
   {
    "duration": 10,
    "start_time": "2024-06-21T08:45:17.098Z"
   },
   {
    "duration": 20,
    "start_time": "2024-06-21T08:45:17.109Z"
   },
   {
    "duration": 9,
    "start_time": "2024-06-21T08:45:17.134Z"
   },
   {
    "duration": 36,
    "start_time": "2024-06-21T08:45:17.145Z"
   },
   {
    "duration": 22,
    "start_time": "2024-06-21T08:45:17.182Z"
   },
   {
    "duration": 116,
    "start_time": "2024-06-21T08:45:17.205Z"
   },
   {
    "duration": 17,
    "start_time": "2024-06-21T08:45:17.323Z"
   },
   {
    "duration": 20,
    "start_time": "2024-06-21T08:45:17.341Z"
   },
   {
    "duration": 6,
    "start_time": "2024-06-21T08:45:17.419Z"
   },
   {
    "duration": 24,
    "start_time": "2024-06-21T08:45:17.426Z"
   },
   {
    "duration": 38,
    "start_time": "2024-06-21T08:45:17.452Z"
   },
   {
    "duration": 8,
    "start_time": "2024-06-21T08:45:17.491Z"
   },
   {
    "duration": 9,
    "start_time": "2024-06-21T08:45:17.501Z"
   },
   {
    "duration": 11,
    "start_time": "2024-06-21T08:45:17.511Z"
   },
   {
    "duration": 13,
    "start_time": "2024-06-21T08:45:17.523Z"
   },
   {
    "duration": 9,
    "start_time": "2024-06-21T08:45:17.538Z"
   },
   {
    "duration": 71,
    "start_time": "2024-06-21T08:45:17.549Z"
   },
   {
    "duration": 101,
    "start_time": "2024-06-21T08:45:17.623Z"
   },
   {
    "duration": 45,
    "start_time": "2024-06-21T08:45:17.725Z"
   },
   {
    "duration": 77,
    "start_time": "2024-06-21T08:45:17.771Z"
   },
   {
    "duration": 36,
    "start_time": "2024-06-21T08:45:17.849Z"
   },
   {
    "duration": 8,
    "start_time": "2024-06-21T08:45:17.887Z"
   },
   {
    "duration": 16,
    "start_time": "2024-06-21T08:45:17.896Z"
   },
   {
    "duration": 2,
    "start_time": "2024-06-21T08:45:17.914Z"
   },
   {
    "duration": 5,
    "start_time": "2024-06-21T08:45:17.917Z"
   },
   {
    "duration": 105,
    "start_time": "2024-06-21T08:45:17.923Z"
   },
   {
    "duration": 637,
    "start_time": "2024-06-21T08:45:18.029Z"
   },
   {
    "duration": 616,
    "start_time": "2024-06-21T08:45:18.668Z"
   },
   {
    "duration": 618,
    "start_time": "2024-06-21T08:45:19.286Z"
   },
   {
    "duration": 3,
    "start_time": "2024-06-21T08:45:19.906Z"
   },
   {
    "duration": 616,
    "start_time": "2024-06-21T08:45:19.910Z"
   },
   {
    "duration": 605,
    "start_time": "2024-06-21T08:45:20.528Z"
   },
   {
    "duration": 620,
    "start_time": "2024-06-21T08:45:21.134Z"
   },
   {
    "duration": 8,
    "start_time": "2024-06-21T08:45:21.755Z"
   },
   {
    "duration": 11,
    "start_time": "2024-06-21T08:45:21.764Z"
   },
   {
    "duration": 11,
    "start_time": "2024-06-21T08:45:21.776Z"
   },
   {
    "duration": 4144,
    "start_time": "2024-06-21T10:20:36.630Z"
   },
   {
    "duration": 4454,
    "start_time": "2024-06-21T10:20:40.777Z"
   },
   {
    "duration": 3,
    "start_time": "2024-06-21T10:20:45.232Z"
   },
   {
    "duration": 144,
    "start_time": "2024-06-21T10:20:45.237Z"
   },
   {
    "duration": 45,
    "start_time": "2024-06-21T10:20:45.383Z"
   },
   {
    "duration": 16,
    "start_time": "2024-06-21T10:20:45.429Z"
   },
   {
    "duration": 29,
    "start_time": "2024-06-21T10:20:45.447Z"
   },
   {
    "duration": 625,
    "start_time": "2024-06-21T10:20:45.478Z"
   },
   {
    "duration": 3,
    "start_time": "2024-06-21T10:20:46.105Z"
   },
   {
    "duration": 56,
    "start_time": "2024-06-21T10:20:46.110Z"
   },
   {
    "duration": 138,
    "start_time": "2024-06-21T10:20:46.167Z"
   },
   {
    "duration": 333,
    "start_time": "2024-06-21T10:20:46.307Z"
   },
   {
    "duration": 296,
    "start_time": "2024-06-21T10:20:46.641Z"
   },
   {
    "duration": 309,
    "start_time": "2024-06-21T10:20:46.939Z"
   },
   {
    "duration": 2,
    "start_time": "2024-06-21T10:20:47.250Z"
   },
   {
    "duration": 25,
    "start_time": "2024-06-21T10:20:47.254Z"
   },
   {
    "duration": 2190,
    "start_time": "2024-06-21T10:20:47.280Z"
   },
   {
    "duration": 91,
    "start_time": "2024-06-21T10:20:49.475Z"
   },
   {
    "duration": 12,
    "start_time": "2024-06-21T10:20:49.569Z"
   },
   {
    "duration": 6,
    "start_time": "2024-06-21T10:20:49.666Z"
   },
   {
    "duration": 20,
    "start_time": "2024-06-21T10:20:49.673Z"
   },
   {
    "duration": 12,
    "start_time": "2024-06-21T10:20:49.694Z"
   },
   {
    "duration": 7,
    "start_time": "2024-06-21T10:20:49.707Z"
   },
   {
    "duration": 27572,
    "start_time": "2024-06-21T10:20:49.715Z"
   },
   {
    "duration": 960,
    "start_time": "2024-06-21T10:21:17.288Z"
   },
   {
    "duration": 238,
    "start_time": "2024-06-21T10:21:18.250Z"
   },
   {
    "duration": 2187,
    "start_time": "2024-06-21T10:21:18.489Z"
   },
   {
    "duration": 84,
    "start_time": "2024-06-21T10:21:20.682Z"
   },
   {
    "duration": 98,
    "start_time": "2024-06-21T10:21:20.768Z"
   },
   {
    "duration": 13,
    "start_time": "2024-06-21T10:21:20.868Z"
   },
   {
    "duration": 11,
    "start_time": "2024-06-21T10:21:20.883Z"
   },
   {
    "duration": 16,
    "start_time": "2024-06-21T10:21:20.895Z"
   },
   {
    "duration": 10,
    "start_time": "2024-06-21T10:21:20.912Z"
   },
   {
    "duration": 27253,
    "start_time": "2024-06-21T10:21:20.923Z"
   },
   {
    "duration": 980,
    "start_time": "2024-06-21T10:21:48.177Z"
   },
   {
    "duration": 230,
    "start_time": "2024-06-21T10:21:49.159Z"
   },
   {
    "duration": 2182,
    "start_time": "2024-06-21T10:21:49.391Z"
   },
   {
    "duration": 3,
    "start_time": "2024-06-21T10:21:51.575Z"
   },
   {
    "duration": 185,
    "start_time": "2024-06-21T10:21:51.580Z"
   },
   {
    "duration": 6,
    "start_time": "2024-06-21T10:21:51.767Z"
   },
   {
    "duration": 16,
    "start_time": "2024-06-21T10:21:51.774Z"
   },
   {
    "duration": 8,
    "start_time": "2024-06-21T10:21:51.791Z"
   },
   {
    "duration": 6,
    "start_time": "2024-06-21T10:21:51.800Z"
   },
   {
    "duration": 27467,
    "start_time": "2024-06-21T10:21:51.808Z"
   },
   {
    "duration": 986,
    "start_time": "2024-06-21T10:22:19.276Z"
   },
   {
    "duration": 238,
    "start_time": "2024-06-21T10:22:20.264Z"
   },
   {
    "duration": 10,
    "start_time": "2024-06-21T10:22:20.504Z"
   },
   {
    "duration": 25,
    "start_time": "2024-06-21T10:22:20.516Z"
   },
   {
    "duration": 3047,
    "start_time": "2024-06-21T10:22:20.542Z"
   },
   {
    "duration": 4,
    "start_time": "2024-06-21T10:22:23.591Z"
   },
   {
    "duration": 108,
    "start_time": "2024-06-21T10:22:23.666Z"
   },
   {
    "duration": 11,
    "start_time": "2024-06-21T10:22:23.775Z"
   },
   {
    "duration": 12,
    "start_time": "2024-06-21T10:22:23.788Z"
   },
   {
    "duration": 7,
    "start_time": "2024-06-21T10:22:23.802Z"
   },
   {
    "duration": 11,
    "start_time": "2024-06-21T10:22:23.811Z"
   },
   {
    "duration": 84580,
    "start_time": "2024-06-21T10:22:23.823Z"
   },
   {
    "duration": 1855,
    "start_time": "2024-06-21T10:23:48.405Z"
   },
   {
    "duration": 306,
    "start_time": "2024-06-21T10:23:50.262Z"
   },
   {
    "duration": 5,
    "start_time": "2024-06-21T10:23:50.572Z"
   },
   {
    "duration": 6,
    "start_time": "2024-06-21T10:23:50.579Z"
   },
   {
    "duration": 29,
    "start_time": "2024-06-21T10:23:50.587Z"
   },
   {
    "duration": 14,
    "start_time": "2024-06-21T10:23:50.618Z"
   },
   {
    "duration": 26,
    "start_time": "2024-06-21T10:23:50.634Z"
   },
   {
    "duration": 27,
    "start_time": "2024-06-21T10:23:50.661Z"
   },
   {
    "duration": 21,
    "start_time": "2024-06-21T10:23:50.690Z"
   },
   {
    "duration": 8,
    "start_time": "2024-06-21T10:23:50.712Z"
   },
   {
    "duration": 9,
    "start_time": "2024-06-21T10:23:50.721Z"
   },
   {
    "duration": 7,
    "start_time": "2024-06-21T10:23:50.732Z"
   },
   {
    "duration": 15,
    "start_time": "2024-06-21T10:23:50.740Z"
   },
   {
    "duration": 13,
    "start_time": "2024-06-21T10:23:50.756Z"
   },
   {
    "duration": 28,
    "start_time": "2024-06-21T10:23:50.771Z"
   },
   {
    "duration": 13,
    "start_time": "2024-06-21T10:23:50.800Z"
   },
   {
    "duration": 20,
    "start_time": "2024-06-21T10:23:50.814Z"
   },
   {
    "duration": 25,
    "start_time": "2024-06-21T10:23:50.836Z"
   },
   {
    "duration": 107,
    "start_time": "2024-06-21T10:23:50.862Z"
   },
   {
    "duration": 17,
    "start_time": "2024-06-21T10:23:50.973Z"
   },
   {
    "duration": 2,
    "start_time": "2024-06-21T10:23:50.992Z"
   },
   {
    "duration": 17,
    "start_time": "2024-06-21T10:23:50.995Z"
   },
   {
    "duration": 90,
    "start_time": "2024-06-21T10:23:51.014Z"
   },
   {
    "duration": 11,
    "start_time": "2024-06-21T10:23:51.105Z"
   },
   {
    "duration": 12,
    "start_time": "2024-06-21T10:23:51.118Z"
   },
   {
    "duration": 6,
    "start_time": "2024-06-21T10:23:51.135Z"
   },
   {
    "duration": 36,
    "start_time": "2024-06-21T10:23:51.142Z"
   },
   {
    "duration": 13,
    "start_time": "2024-06-21T10:23:51.180Z"
   },
   {
    "duration": 72,
    "start_time": "2024-06-21T10:23:51.195Z"
   },
   {
    "duration": 104,
    "start_time": "2024-06-21T10:23:51.269Z"
   },
   {
    "duration": 11,
    "start_time": "2024-06-21T10:23:51.375Z"
   },
   {
    "duration": 19,
    "start_time": "2024-06-21T10:23:51.387Z"
   },
   {
    "duration": 14,
    "start_time": "2024-06-21T10:23:51.407Z"
   },
   {
    "duration": 32,
    "start_time": "2024-06-21T10:23:51.422Z"
   },
   {
    "duration": 10,
    "start_time": "2024-06-21T10:23:51.455Z"
   },
   {
    "duration": 21,
    "start_time": "2024-06-21T10:23:51.467Z"
   },
   {
    "duration": 4,
    "start_time": "2024-06-21T10:23:51.490Z"
   },
   {
    "duration": 12,
    "start_time": "2024-06-21T10:23:51.495Z"
   },
   {
    "duration": 10,
    "start_time": "2024-06-21T10:23:51.509Z"
   },
   {
    "duration": 154,
    "start_time": "2024-06-21T10:23:51.522Z"
   },
   {
    "duration": 15,
    "start_time": "2024-06-21T10:23:51.679Z"
   },
   {
    "duration": 5,
    "start_time": "2024-06-21T10:23:51.696Z"
   },
   {
    "duration": 19,
    "start_time": "2024-06-21T10:23:51.702Z"
   },
   {
    "duration": 58,
    "start_time": "2024-06-21T10:23:51.723Z"
   },
   {
    "duration": 13,
    "start_time": "2024-06-21T10:23:51.784Z"
   },
   {
    "duration": 9,
    "start_time": "2024-06-21T10:23:51.799Z"
   },
   {
    "duration": 18,
    "start_time": "2024-06-21T10:23:51.810Z"
   },
   {
    "duration": 22,
    "start_time": "2024-06-21T10:23:51.829Z"
   },
   {
    "duration": 142,
    "start_time": "2024-06-21T10:23:51.853Z"
   },
   {
    "duration": 656,
    "start_time": "2024-06-21T10:23:51.997Z"
   },
   {
    "duration": 678,
    "start_time": "2024-06-21T10:23:52.655Z"
   },
   {
    "duration": 628,
    "start_time": "2024-06-21T10:23:53.335Z"
   },
   {
    "duration": 5,
    "start_time": "2024-06-21T10:23:53.965Z"
   },
   {
    "duration": 799,
    "start_time": "2024-06-21T10:23:53.972Z"
   },
   {
    "duration": 764,
    "start_time": "2024-06-21T10:23:54.773Z"
   },
   {
    "duration": 798,
    "start_time": "2024-06-21T10:23:55.538Z"
   },
   {
    "duration": 9,
    "start_time": "2024-06-21T10:23:56.338Z"
   },
   {
    "duration": 59,
    "start_time": "2024-06-21T10:23:56.349Z"
   },
   {
    "duration": 31,
    "start_time": "2024-06-21T10:23:56.409Z"
   },
   {
    "duration": 12,
    "start_time": "2024-06-21T10:29:39.882Z"
   },
   {
    "duration": 6,
    "start_time": "2024-06-22T11:02:37.718Z"
   },
   {
    "duration": 7325,
    "start_time": "2024-06-22T11:12:15.692Z"
   },
   {
    "duration": 1857,
    "start_time": "2024-06-22T11:12:23.019Z"
   },
   {
    "duration": 3,
    "start_time": "2024-06-22T11:12:24.878Z"
   },
   {
    "duration": 13,
    "start_time": "2024-06-22T11:12:24.883Z"
   },
   {
    "duration": 5,
    "start_time": "2024-06-22T11:12:24.898Z"
   },
   {
    "duration": 5,
    "start_time": "2024-06-22T11:12:24.904Z"
   },
   {
    "duration": 3,
    "start_time": "2024-06-22T11:12:24.910Z"
   },
   {
    "duration": 3,
    "start_time": "2024-06-22T11:12:24.914Z"
   },
   {
    "duration": 3,
    "start_time": "2024-06-22T11:12:24.918Z"
   },
   {
    "duration": 1513,
    "start_time": "2024-06-22T11:12:24.923Z"
   },
   {
    "duration": 2,
    "start_time": "2024-06-22T11:12:26.437Z"
   },
   {
    "duration": 39,
    "start_time": "2024-06-22T11:12:26.440Z"
   },
   {
    "duration": 128,
    "start_time": "2024-06-22T11:12:26.480Z"
   },
   {
    "duration": 291,
    "start_time": "2024-06-22T11:12:26.609Z"
   },
   {
    "duration": 282,
    "start_time": "2024-06-22T11:12:26.901Z"
   },
   {
    "duration": 353,
    "start_time": "2024-06-22T11:12:27.185Z"
   },
   {
    "duration": 140,
    "start_time": "2024-06-22T11:12:34.139Z"
   },
   {
    "duration": 685,
    "start_time": "2024-06-22T11:12:47.752Z"
   },
   {
    "duration": 490,
    "start_time": "2024-06-22T11:12:57.442Z"
   },
   {
    "duration": 1832,
    "start_time": "2024-06-22T11:15:57.779Z"
   },
   {
    "duration": 1806,
    "start_time": "2024-06-22T11:16:38.794Z"
   },
   {
    "duration": 3093,
    "start_time": "2024-06-22T11:17:18.478Z"
   },
   {
    "duration": 1278,
    "start_time": "2024-06-22T11:18:54.314Z"
   },
   {
    "duration": 1768,
    "start_time": "2024-06-22T11:19:22.838Z"
   },
   {
    "duration": 499,
    "start_time": "2024-06-22T11:20:13.588Z"
   },
   {
    "duration": 478,
    "start_time": "2024-06-22T11:20:27.263Z"
   },
   {
    "duration": 514,
    "start_time": "2024-06-22T11:20:53.188Z"
   },
   {
    "duration": 9,
    "start_time": "2024-06-22T11:29:23.732Z"
   },
   {
    "duration": 3,
    "start_time": "2024-06-22T11:29:29.937Z"
   },
   {
    "duration": 3,
    "start_time": "2024-06-22T11:30:05.474Z"
   },
   {
    "duration": 2,
    "start_time": "2024-06-22T11:31:19.632Z"
   },
   {
    "duration": 3,
    "start_time": "2024-06-22T11:31:46.502Z"
   },
   {
    "duration": 2,
    "start_time": "2024-06-22T12:35:51.298Z"
   },
   {
    "duration": 2,
    "start_time": "2024-06-22T12:35:51.728Z"
   },
   {
    "duration": 3,
    "start_time": "2024-06-22T12:35:53.578Z"
   },
   {
    "duration": 5,
    "start_time": "2024-06-22T12:36:04.480Z"
   },
   {
    "duration": 5114,
    "start_time": "2024-06-22T12:39:56.401Z"
   },
   {
    "duration": 4,
    "start_time": "2024-06-22T12:40:01.518Z"
   },
   {
    "duration": 62,
    "start_time": "2024-06-22T12:40:01.524Z"
   },
   {
    "duration": 25,
    "start_time": "2024-06-22T12:40:01.588Z"
   },
   {
    "duration": 13,
    "start_time": "2024-06-22T12:40:01.614Z"
   },
   {
    "duration": 25,
    "start_time": "2024-06-22T12:40:01.628Z"
   },
   {
    "duration": 8,
    "start_time": "2024-06-22T12:40:01.654Z"
   },
   {
    "duration": 17,
    "start_time": "2024-06-22T12:40:01.664Z"
   },
   {
    "duration": 11,
    "start_time": "2024-06-22T12:40:01.682Z"
   },
   {
    "duration": 17,
    "start_time": "2024-06-22T12:40:01.695Z"
   },
   {
    "duration": 342,
    "start_time": "2024-06-22T12:40:01.713Z"
   },
   {
    "duration": 7,
    "start_time": "2024-06-22T12:40:02.056Z"
   },
   {
    "duration": 102,
    "start_time": "2024-06-22T12:40:02.065Z"
   },
   {
    "duration": 125,
    "start_time": "2024-06-22T12:40:02.169Z"
   },
   {
    "duration": 279,
    "start_time": "2024-06-22T12:40:02.296Z"
   },
   {
    "duration": 374,
    "start_time": "2024-06-22T12:40:02.577Z"
   },
   {
    "duration": 282,
    "start_time": "2024-06-22T12:40:02.953Z"
   },
   {
    "duration": 585,
    "start_time": "2024-06-22T12:40:03.236Z"
   },
   {
    "duration": 505,
    "start_time": "2024-06-22T12:40:03.822Z"
   },
   {
    "duration": 515,
    "start_time": "2024-06-22T12:40:04.328Z"
   },
   {
    "duration": 2,
    "start_time": "2024-06-22T12:40:04.845Z"
   },
   {
    "duration": 17,
    "start_time": "2024-06-22T12:40:04.848Z"
   },
   {
    "duration": 1718,
    "start_time": "2024-06-22T12:40:04.867Z"
   },
   {
    "duration": 2,
    "start_time": "2024-06-22T12:40:06.671Z"
   },
   {
    "duration": 6,
    "start_time": "2024-06-22T12:40:06.675Z"
   },
   {
    "duration": 5,
    "start_time": "2024-06-22T12:40:06.772Z"
   },
   {
    "duration": 26,
    "start_time": "2024-06-22T12:40:06.778Z"
   },
   {
    "duration": 16,
    "start_time": "2024-06-22T12:40:06.808Z"
   },
   {
    "duration": 12,
    "start_time": "2024-06-22T12:40:06.825Z"
   },
   {
    "duration": 22446,
    "start_time": "2024-06-22T12:40:06.838Z"
   },
   {
    "duration": 949,
    "start_time": "2024-06-22T12:40:29.285Z"
   },
   {
    "duration": 165,
    "start_time": "2024-06-22T12:40:30.236Z"
   },
   {
    "duration": 2202,
    "start_time": "2024-06-22T12:40:30.472Z"
   },
   {
    "duration": 3,
    "start_time": "2024-06-22T12:40:32.675Z"
   },
   {
    "duration": 8,
    "start_time": "2024-06-22T12:40:32.770Z"
   },
   {
    "duration": 5,
    "start_time": "2024-06-22T12:40:32.779Z"
   },
   {
    "duration": 8,
    "start_time": "2024-06-22T12:40:32.785Z"
   },
   {
    "duration": 5,
    "start_time": "2024-06-22T12:40:32.794Z"
   },
   {
    "duration": 4,
    "start_time": "2024-06-22T12:40:32.800Z"
   },
   {
    "duration": 22545,
    "start_time": "2024-06-22T12:40:32.805Z"
   },
   {
    "duration": 894,
    "start_time": "2024-06-22T12:40:55.351Z"
   },
   {
    "duration": 254,
    "start_time": "2024-06-22T12:40:56.246Z"
   },
   {
    "duration": 63,
    "start_time": "2024-06-22T12:40:56.571Z"
   },
   {
    "duration": 3,
    "start_time": "2024-06-22T12:40:56.635Z"
   },
   {
    "duration": 8,
    "start_time": "2024-06-22T12:40:56.639Z"
   },
   {
    "duration": 56,
    "start_time": "2024-06-22T12:40:56.648Z"
   },
   {
    "duration": 0,
    "start_time": "2024-06-22T12:40:56.706Z"
   },
   {
    "duration": 0,
    "start_time": "2024-06-22T12:40:56.707Z"
   },
   {
    "duration": 0,
    "start_time": "2024-06-22T12:40:56.708Z"
   },
   {
    "duration": 0,
    "start_time": "2024-06-22T12:40:56.709Z"
   },
   {
    "duration": 0,
    "start_time": "2024-06-22T12:40:56.710Z"
   },
   {
    "duration": 0,
    "start_time": "2024-06-22T12:40:56.711Z"
   },
   {
    "duration": 0,
    "start_time": "2024-06-22T12:40:56.711Z"
   },
   {
    "duration": 0,
    "start_time": "2024-06-22T12:40:56.712Z"
   },
   {
    "duration": 0,
    "start_time": "2024-06-22T12:40:56.713Z"
   },
   {
    "duration": 0,
    "start_time": "2024-06-22T12:40:56.714Z"
   },
   {
    "duration": 0,
    "start_time": "2024-06-22T12:40:56.715Z"
   },
   {
    "duration": 0,
    "start_time": "2024-06-22T12:40:56.715Z"
   },
   {
    "duration": 0,
    "start_time": "2024-06-22T12:40:56.716Z"
   },
   {
    "duration": 0,
    "start_time": "2024-06-22T12:40:56.717Z"
   },
   {
    "duration": 0,
    "start_time": "2024-06-22T12:40:56.718Z"
   },
   {
    "duration": 0,
    "start_time": "2024-06-22T12:40:56.718Z"
   },
   {
    "duration": 0,
    "start_time": "2024-06-22T12:40:56.719Z"
   },
   {
    "duration": 0,
    "start_time": "2024-06-22T12:40:56.720Z"
   },
   {
    "duration": 0,
    "start_time": "2024-06-22T12:40:56.721Z"
   },
   {
    "duration": 0,
    "start_time": "2024-06-22T12:40:56.722Z"
   },
   {
    "duration": 0,
    "start_time": "2024-06-22T12:40:56.722Z"
   },
   {
    "duration": 0,
    "start_time": "2024-06-22T12:40:56.723Z"
   },
   {
    "duration": 0,
    "start_time": "2024-06-22T12:40:56.724Z"
   },
   {
    "duration": 0,
    "start_time": "2024-06-22T12:40:56.724Z"
   },
   {
    "duration": 0,
    "start_time": "2024-06-22T12:40:56.725Z"
   },
   {
    "duration": 0,
    "start_time": "2024-06-22T12:40:56.726Z"
   },
   {
    "duration": 0,
    "start_time": "2024-06-22T12:40:56.726Z"
   },
   {
    "duration": 0,
    "start_time": "2024-06-22T12:40:56.727Z"
   },
   {
    "duration": 0,
    "start_time": "2024-06-22T12:40:56.728Z"
   },
   {
    "duration": 0,
    "start_time": "2024-06-22T12:40:56.729Z"
   },
   {
    "duration": 0,
    "start_time": "2024-06-22T12:40:56.730Z"
   },
   {
    "duration": 0,
    "start_time": "2024-06-22T12:40:56.730Z"
   },
   {
    "duration": 0,
    "start_time": "2024-06-22T12:40:56.731Z"
   },
   {
    "duration": 0,
    "start_time": "2024-06-22T12:40:56.732Z"
   },
   {
    "duration": 0,
    "start_time": "2024-06-22T12:40:56.732Z"
   },
   {
    "duration": 0,
    "start_time": "2024-06-22T12:40:56.733Z"
   },
   {
    "duration": 0,
    "start_time": "2024-06-22T12:40:56.734Z"
   },
   {
    "duration": 1,
    "start_time": "2024-06-22T12:40:56.734Z"
   },
   {
    "duration": 0,
    "start_time": "2024-06-22T12:40:56.735Z"
   },
   {
    "duration": 0,
    "start_time": "2024-06-22T12:40:56.736Z"
   },
   {
    "duration": 0,
    "start_time": "2024-06-22T12:40:56.737Z"
   },
   {
    "duration": 0,
    "start_time": "2024-06-22T12:40:56.737Z"
   },
   {
    "duration": 0,
    "start_time": "2024-06-22T12:40:56.738Z"
   },
   {
    "duration": 0,
    "start_time": "2024-06-22T12:40:56.739Z"
   },
   {
    "duration": 0,
    "start_time": "2024-06-22T12:40:56.740Z"
   },
   {
    "duration": 0,
    "start_time": "2024-06-22T12:40:56.740Z"
   },
   {
    "duration": 0,
    "start_time": "2024-06-22T12:40:56.741Z"
   },
   {
    "duration": 0,
    "start_time": "2024-06-22T12:40:56.742Z"
   },
   {
    "duration": 0,
    "start_time": "2024-06-22T12:40:56.771Z"
   },
   {
    "duration": 0,
    "start_time": "2024-06-22T12:40:56.772Z"
   },
   {
    "duration": 0,
    "start_time": "2024-06-22T12:40:56.773Z"
   },
   {
    "duration": 0,
    "start_time": "2024-06-22T12:40:56.774Z"
   },
   {
    "duration": 0,
    "start_time": "2024-06-22T12:40:56.775Z"
   },
   {
    "duration": 0,
    "start_time": "2024-06-22T12:40:56.776Z"
   },
   {
    "duration": 0,
    "start_time": "2024-06-22T12:40:56.776Z"
   },
   {
    "duration": 0,
    "start_time": "2024-06-22T12:40:56.777Z"
   },
   {
    "duration": 0,
    "start_time": "2024-06-22T12:40:56.778Z"
   },
   {
    "duration": 0,
    "start_time": "2024-06-22T12:40:56.779Z"
   },
   {
    "duration": 0,
    "start_time": "2024-06-22T12:40:56.779Z"
   },
   {
    "duration": 0,
    "start_time": "2024-06-22T12:40:56.780Z"
   },
   {
    "duration": 0,
    "start_time": "2024-06-22T12:40:56.781Z"
   },
   {
    "duration": 0,
    "start_time": "2024-06-22T12:40:56.781Z"
   },
   {
    "duration": 0,
    "start_time": "2024-06-22T12:40:56.782Z"
   },
   {
    "duration": 0,
    "start_time": "2024-06-22T12:40:56.783Z"
   },
   {
    "duration": 0,
    "start_time": "2024-06-22T12:40:56.784Z"
   },
   {
    "duration": 0,
    "start_time": "2024-06-22T12:40:56.784Z"
   },
   {
    "duration": 0,
    "start_time": "2024-06-22T12:40:56.785Z"
   },
   {
    "duration": 0,
    "start_time": "2024-06-22T12:40:56.786Z"
   },
   {
    "duration": 0,
    "start_time": "2024-06-22T12:40:56.787Z"
   },
   {
    "duration": 0,
    "start_time": "2024-06-22T12:40:56.788Z"
   },
   {
    "duration": 0,
    "start_time": "2024-06-22T12:40:56.789Z"
   },
   {
    "duration": 0,
    "start_time": "2024-06-22T12:40:56.789Z"
   },
   {
    "duration": 0,
    "start_time": "2024-06-22T12:40:56.790Z"
   },
   {
    "duration": 0,
    "start_time": "2024-06-22T12:40:56.791Z"
   },
   {
    "duration": 1554,
    "start_time": "2024-06-22T12:41:28.726Z"
   },
   {
    "duration": 2,
    "start_time": "2024-06-22T12:41:40.039Z"
   },
   {
    "duration": 2,
    "start_time": "2024-06-22T12:41:40.419Z"
   },
   {
    "duration": 5,
    "start_time": "2024-06-22T12:41:41.203Z"
   },
   {
    "duration": 3,
    "start_time": "2024-06-22T12:41:42.052Z"
   },
   {
    "duration": 5,
    "start_time": "2024-06-22T12:41:43.058Z"
   },
   {
    "duration": 4,
    "start_time": "2024-06-22T12:41:43.476Z"
   },
   {
    "duration": 22306,
    "start_time": "2024-06-22T12:41:45.476Z"
   },
   {
    "duration": 940,
    "start_time": "2024-06-22T12:42:07.783Z"
   },
   {
    "duration": 173,
    "start_time": "2024-06-22T12:42:08.725Z"
   },
   {
    "duration": 11,
    "start_time": "2024-06-22T12:42:11.973Z"
   },
   {
    "duration": 19,
    "start_time": "2024-06-22T12:42:12.623Z"
   },
   {
    "duration": 2961,
    "start_time": "2024-06-22T12:42:14.336Z"
   },
   {
    "duration": 3,
    "start_time": "2024-06-22T12:42:17.299Z"
   },
   {
    "duration": 6,
    "start_time": "2024-06-22T12:42:17.372Z"
   },
   {
    "duration": 99,
    "start_time": "2024-06-22T12:42:17.380Z"
   },
   {
    "duration": 58,
    "start_time": "2024-06-22T12:42:17.480Z"
   },
   {
    "duration": 7,
    "start_time": "2024-06-22T12:42:19.586Z"
   },
   {
    "duration": 4,
    "start_time": "2024-06-22T12:42:19.964Z"
   },
   {
    "duration": 66827,
    "start_time": "2024-06-22T12:42:20.353Z"
   },
   {
    "duration": 1814,
    "start_time": "2024-06-22T12:43:27.182Z"
   },
   {
    "duration": 288,
    "start_time": "2024-06-22T12:43:28.997Z"
   },
   {
    "duration": 4,
    "start_time": "2024-06-22T12:43:29.287Z"
   },
   {
    "duration": 3,
    "start_time": "2024-06-22T12:44:58.258Z"
   },
   {
    "duration": 4,
    "start_time": "2024-06-22T12:44:59.023Z"
   },
   {
    "duration": 10,
    "start_time": "2024-06-22T12:45:01.907Z"
   },
   {
    "duration": 21,
    "start_time": "2024-06-22T12:45:02.589Z"
   },
   {
    "duration": 13,
    "start_time": "2024-06-22T12:45:02.933Z"
   },
   {
    "duration": 22,
    "start_time": "2024-06-22T12:45:03.287Z"
   },
   {
    "duration": 7,
    "start_time": "2024-06-22T12:45:04.015Z"
   },
   {
    "duration": 6,
    "start_time": "2024-06-22T12:45:04.388Z"
   },
   {
    "duration": 6,
    "start_time": "2024-06-22T12:45:04.871Z"
   },
   {
    "duration": 4,
    "start_time": "2024-06-22T12:45:05.996Z"
   },
   {
    "duration": 4,
    "start_time": "2024-06-22T12:45:07.202Z"
   },
   {
    "duration": 4,
    "start_time": "2024-06-22T12:45:08.396Z"
   },
   {
    "duration": 3,
    "start_time": "2024-06-22T12:45:10.847Z"
   },
   {
    "duration": 8,
    "start_time": "2024-06-22T12:45:11.859Z"
   },
   {
    "duration": 5,
    "start_time": "2024-06-22T12:45:12.192Z"
   },
   {
    "duration": 2,
    "start_time": "2024-06-22T12:45:12.545Z"
   },
   {
    "duration": 7,
    "start_time": "2024-06-22T12:45:12.952Z"
   },
   {
    "duration": 2,
    "start_time": "2024-06-22T12:45:13.345Z"
   },
   {
    "duration": 8,
    "start_time": "2024-06-22T12:45:13.732Z"
   },
   {
    "duration": 29,
    "start_time": "2024-06-22T12:45:15.137Z"
   },
   {
    "duration": 9,
    "start_time": "2024-06-22T12:45:16.058Z"
   },
   {
    "duration": 9,
    "start_time": "2024-06-22T12:45:16.417Z"
   },
   {
    "duration": 2,
    "start_time": "2024-06-22T12:45:17.298Z"
   },
   {
    "duration": 7,
    "start_time": "2024-06-22T12:45:18.324Z"
   },
   {
    "duration": 3,
    "start_time": "2024-06-22T12:45:18.678Z"
   },
   {
    "duration": 2,
    "start_time": "2024-06-22T12:45:19.043Z"
   },
   {
    "duration": 5,
    "start_time": "2024-06-22T12:45:19.418Z"
   },
   {
    "duration": 2,
    "start_time": "2024-06-22T12:45:20.133Z"
   },
   {
    "duration": 7,
    "start_time": "2024-06-22T12:45:20.485Z"
   },
   {
    "duration": 7,
    "start_time": "2024-06-22T12:45:20.807Z"
   },
   {
    "duration": 29,
    "start_time": "2024-06-22T12:45:21.492Z"
   },
   {
    "duration": 8,
    "start_time": "2024-06-22T12:45:22.136Z"
   },
   {
    "duration": 9,
    "start_time": "2024-06-22T12:45:22.526Z"
   },
   {
    "duration": 3,
    "start_time": "2024-06-22T12:45:23.248Z"
   },
   {
    "duration": 10,
    "start_time": "2024-06-22T12:45:24.201Z"
   },
   {
    "duration": 7,
    "start_time": "2024-06-22T12:45:24.515Z"
   },
   {
    "duration": 2,
    "start_time": "2024-06-22T12:45:24.883Z"
   },
   {
    "duration": 4,
    "start_time": "2024-06-22T12:45:25.254Z"
   },
   {
    "duration": 2,
    "start_time": "2024-06-22T12:45:25.623Z"
   },
   {
    "duration": 7,
    "start_time": "2024-06-22T12:45:25.984Z"
   },
   {
    "duration": 29,
    "start_time": "2024-06-22T12:45:26.619Z"
   },
   {
    "duration": 8,
    "start_time": "2024-06-22T12:45:27.287Z"
   },
   {
    "duration": 9,
    "start_time": "2024-06-22T12:45:27.612Z"
   },
   {
    "duration": 3,
    "start_time": "2024-06-22T12:45:28.338Z"
   },
   {
    "duration": 3,
    "start_time": "2024-06-22T12:45:29.406Z"
   },
   {
    "duration": 109,
    "start_time": "2024-06-22T12:45:29.777Z"
   },
   {
    "duration": 610,
    "start_time": "2024-06-22T12:45:31.220Z"
   },
   {
    "duration": 590,
    "start_time": "2024-06-22T12:45:31.832Z"
   },
   {
    "duration": 578,
    "start_time": "2024-06-22T12:45:32.423Z"
   },
   {
    "duration": 3,
    "start_time": "2024-06-22T12:45:33.042Z"
   },
   {
    "duration": 625,
    "start_time": "2024-06-22T12:45:34.504Z"
   },
   {
    "duration": 598,
    "start_time": "2024-06-22T12:45:36.538Z"
   },
   {
    "duration": 600,
    "start_time": "2024-06-22T12:45:37.776Z"
   },
   {
    "duration": 10,
    "start_time": "2024-06-22T12:45:40.652Z"
   },
   {
    "duration": 7,
    "start_time": "2024-06-22T12:45:42.105Z"
   },
   {
    "duration": 6,
    "start_time": "2024-06-22T12:45:42.946Z"
   },
   {
    "duration": 3,
    "start_time": "2024-06-22T12:51:55.327Z"
   },
   {
    "duration": 3,
    "start_time": "2024-06-22T12:54:38.408Z"
   },
   {
    "duration": 3,
    "start_time": "2024-06-22T12:56:24.776Z"
   },
   {
    "duration": 7,
    "start_time": "2024-06-22T12:56:30.010Z"
   },
   {
    "duration": 3,
    "start_time": "2024-06-22T12:58:43.529Z"
   },
   {
    "duration": 3,
    "start_time": "2024-06-22T12:59:55.218Z"
   },
   {
    "duration": 7,
    "start_time": "2024-06-22T13:00:01.605Z"
   },
   {
    "duration": 61,
    "start_time": "2024-06-22T15:27:42.160Z"
   },
   {
    "duration": 7571,
    "start_time": "2024-06-22T15:28:34.979Z"
   },
   {
    "duration": 1996,
    "start_time": "2024-06-22T15:28:42.552Z"
   },
   {
    "duration": 3,
    "start_time": "2024-06-22T15:28:44.550Z"
   },
   {
    "duration": 25,
    "start_time": "2024-06-22T15:28:44.555Z"
   },
   {
    "duration": 6,
    "start_time": "2024-06-22T15:28:44.581Z"
   },
   {
    "duration": 4,
    "start_time": "2024-06-22T15:28:44.588Z"
   },
   {
    "duration": 3,
    "start_time": "2024-06-22T15:28:44.593Z"
   },
   {
    "duration": 5,
    "start_time": "2024-06-22T15:28:44.598Z"
   },
   {
    "duration": 17,
    "start_time": "2024-06-22T15:28:44.604Z"
   },
   {
    "duration": 5,
    "start_time": "2024-06-22T15:28:44.623Z"
   },
   {
    "duration": 9,
    "start_time": "2024-06-22T15:28:44.629Z"
   },
   {
    "duration": 3,
    "start_time": "2024-06-22T15:28:44.639Z"
   },
   {
    "duration": 8,
    "start_time": "2024-06-22T15:28:44.643Z"
   },
   {
    "duration": 1576,
    "start_time": "2024-06-22T15:28:44.652Z"
   },
   {
    "duration": 3,
    "start_time": "2024-06-22T15:28:46.230Z"
   },
   {
    "duration": 40,
    "start_time": "2024-06-22T15:28:46.234Z"
   },
   {
    "duration": 151,
    "start_time": "2024-06-22T15:28:46.276Z"
   },
   {
    "duration": 301,
    "start_time": "2024-06-22T15:28:46.429Z"
   },
   {
    "duration": 292,
    "start_time": "2024-06-22T15:28:46.732Z"
   },
   {
    "duration": 375,
    "start_time": "2024-06-22T15:28:47.026Z"
   },
   {
    "duration": 603,
    "start_time": "2024-06-22T15:28:47.409Z"
   },
   {
    "duration": 564,
    "start_time": "2024-06-22T15:28:48.013Z"
   },
   {
    "duration": 506,
    "start_time": "2024-06-22T15:28:48.579Z"
   },
   {
    "duration": 2,
    "start_time": "2024-06-22T15:28:49.086Z"
   },
   {
    "duration": 10,
    "start_time": "2024-06-22T15:28:49.090Z"
   },
   {
    "duration": 1920,
    "start_time": "2024-06-22T15:28:49.108Z"
   },
   {
    "duration": 3,
    "start_time": "2024-06-22T15:28:51.029Z"
   },
   {
    "duration": 88,
    "start_time": "2024-06-22T15:28:51.037Z"
   },
   {
    "duration": 89,
    "start_time": "2024-06-22T15:28:51.127Z"
   },
   {
    "duration": 10,
    "start_time": "2024-06-22T15:28:51.218Z"
   },
   {
    "duration": 7,
    "start_time": "2024-06-22T15:28:51.229Z"
   },
   {
    "duration": 6,
    "start_time": "2024-06-22T15:28:51.237Z"
   },
   {
    "duration": 23724,
    "start_time": "2024-06-22T15:28:51.244Z"
   },
   {
    "duration": 1056,
    "start_time": "2024-06-22T15:29:14.970Z"
   },
   {
    "duration": 219,
    "start_time": "2024-06-22T15:29:16.027Z"
   },
   {
    "duration": 3,
    "start_time": "2024-06-22T15:29:16.318Z"
   },
   {
    "duration": 138,
    "start_time": "2024-06-22T15:29:16.322Z"
   },
   {
    "duration": 0,
    "start_time": "2024-06-22T15:29:16.463Z"
   },
   {
    "duration": 0,
    "start_time": "2024-06-22T15:29:16.464Z"
   },
   {
    "duration": 0,
    "start_time": "2024-06-22T15:29:16.465Z"
   },
   {
    "duration": 0,
    "start_time": "2024-06-22T15:29:16.466Z"
   },
   {
    "duration": 0,
    "start_time": "2024-06-22T15:29:16.467Z"
   },
   {
    "duration": 0,
    "start_time": "2024-06-22T15:29:16.468Z"
   },
   {
    "duration": 0,
    "start_time": "2024-06-22T15:29:16.469Z"
   },
   {
    "duration": 0,
    "start_time": "2024-06-22T15:29:16.469Z"
   },
   {
    "duration": 0,
    "start_time": "2024-06-22T15:29:16.470Z"
   },
   {
    "duration": 0,
    "start_time": "2024-06-22T15:29:16.471Z"
   },
   {
    "duration": 0,
    "start_time": "2024-06-22T15:29:16.471Z"
   },
   {
    "duration": 0,
    "start_time": "2024-06-22T15:29:16.472Z"
   },
   {
    "duration": 0,
    "start_time": "2024-06-22T15:29:16.472Z"
   },
   {
    "duration": 0,
    "start_time": "2024-06-22T15:29:16.474Z"
   },
   {
    "duration": 0,
    "start_time": "2024-06-22T15:29:16.475Z"
   },
   {
    "duration": 0,
    "start_time": "2024-06-22T15:29:16.476Z"
   },
   {
    "duration": 0,
    "start_time": "2024-06-22T15:29:16.477Z"
   },
   {
    "duration": 1,
    "start_time": "2024-06-22T15:29:16.477Z"
   },
   {
    "duration": 0,
    "start_time": "2024-06-22T15:29:16.478Z"
   },
   {
    "duration": 0,
    "start_time": "2024-06-22T15:29:16.479Z"
   },
   {
    "duration": 0,
    "start_time": "2024-06-22T15:29:16.480Z"
   },
   {
    "duration": 0,
    "start_time": "2024-06-22T15:29:16.480Z"
   },
   {
    "duration": 0,
    "start_time": "2024-06-22T15:29:16.481Z"
   },
   {
    "duration": 0,
    "start_time": "2024-06-22T15:29:16.513Z"
   },
   {
    "duration": 0,
    "start_time": "2024-06-22T15:29:16.514Z"
   },
   {
    "duration": 0,
    "start_time": "2024-06-22T15:29:16.525Z"
   },
   {
    "duration": 0,
    "start_time": "2024-06-22T15:29:16.525Z"
   },
   {
    "duration": 0,
    "start_time": "2024-06-22T15:29:16.526Z"
   },
   {
    "duration": 0,
    "start_time": "2024-06-22T15:29:16.527Z"
   },
   {
    "duration": 0,
    "start_time": "2024-06-22T15:29:16.528Z"
   },
   {
    "duration": 0,
    "start_time": "2024-06-22T15:29:16.529Z"
   },
   {
    "duration": 0,
    "start_time": "2024-06-22T15:29:16.530Z"
   },
   {
    "duration": 0,
    "start_time": "2024-06-22T15:29:16.531Z"
   },
   {
    "duration": 0,
    "start_time": "2024-06-22T15:29:16.532Z"
   },
   {
    "duration": 0,
    "start_time": "2024-06-22T15:29:16.533Z"
   },
   {
    "duration": 0,
    "start_time": "2024-06-22T15:29:16.534Z"
   },
   {
    "duration": 0,
    "start_time": "2024-06-22T15:29:16.534Z"
   },
   {
    "duration": 0,
    "start_time": "2024-06-22T15:29:16.536Z"
   },
   {
    "duration": 0,
    "start_time": "2024-06-22T15:29:16.537Z"
   },
   {
    "duration": 0,
    "start_time": "2024-06-22T15:29:16.538Z"
   },
   {
    "duration": 0,
    "start_time": "2024-06-22T15:29:16.539Z"
   },
   {
    "duration": 0,
    "start_time": "2024-06-22T15:29:16.540Z"
   },
   {
    "duration": 0,
    "start_time": "2024-06-22T15:29:16.540Z"
   },
   {
    "duration": 0,
    "start_time": "2024-06-22T15:29:16.541Z"
   },
   {
    "duration": 0,
    "start_time": "2024-06-22T15:29:16.542Z"
   },
   {
    "duration": 0,
    "start_time": "2024-06-22T15:29:16.543Z"
   },
   {
    "duration": 0,
    "start_time": "2024-06-22T15:29:16.544Z"
   },
   {
    "duration": 0,
    "start_time": "2024-06-22T15:29:16.546Z"
   },
   {
    "duration": 0,
    "start_time": "2024-06-22T15:29:16.546Z"
   },
   {
    "duration": 0,
    "start_time": "2024-06-22T15:29:16.547Z"
   },
   {
    "duration": 0,
    "start_time": "2024-06-22T15:29:16.548Z"
   },
   {
    "duration": 0,
    "start_time": "2024-06-22T15:29:16.549Z"
   },
   {
    "duration": 0,
    "start_time": "2024-06-22T15:29:16.550Z"
   },
   {
    "duration": 0,
    "start_time": "2024-06-22T15:29:16.551Z"
   },
   {
    "duration": 0,
    "start_time": "2024-06-22T15:29:16.552Z"
   },
   {
    "duration": 0,
    "start_time": "2024-06-22T15:29:16.553Z"
   },
   {
    "duration": 0,
    "start_time": "2024-06-22T15:29:16.554Z"
   },
   {
    "duration": 0,
    "start_time": "2024-06-22T15:29:16.554Z"
   },
   {
    "duration": 0,
    "start_time": "2024-06-22T15:29:16.555Z"
   },
   {
    "duration": 0,
    "start_time": "2024-06-22T15:29:16.555Z"
   },
   {
    "duration": 0,
    "start_time": "2024-06-22T15:29:16.555Z"
   },
   {
    "duration": 0,
    "start_time": "2024-06-22T15:29:16.556Z"
   },
   {
    "duration": 0,
    "start_time": "2024-06-22T15:29:16.556Z"
   },
   {
    "duration": 0,
    "start_time": "2024-06-22T15:29:16.557Z"
   },
   {
    "duration": 0,
    "start_time": "2024-06-22T15:29:16.611Z"
   },
   {
    "duration": 0,
    "start_time": "2024-06-22T15:29:16.613Z"
   },
   {
    "duration": 0,
    "start_time": "2024-06-22T15:29:16.620Z"
   },
   {
    "duration": 0,
    "start_time": "2024-06-22T15:29:16.621Z"
   },
   {
    "duration": 0,
    "start_time": "2024-06-22T15:29:16.622Z"
   },
   {
    "duration": 0,
    "start_time": "2024-06-22T15:29:16.623Z"
   },
   {
    "duration": 0,
    "start_time": "2024-06-22T15:29:16.624Z"
   },
   {
    "duration": 0,
    "start_time": "2024-06-22T15:29:16.625Z"
   },
   {
    "duration": 0,
    "start_time": "2024-06-22T15:29:16.626Z"
   },
   {
    "duration": 0,
    "start_time": "2024-06-22T15:29:16.628Z"
   },
   {
    "duration": 0,
    "start_time": "2024-06-22T15:29:16.629Z"
   },
   {
    "duration": 0,
    "start_time": "2024-06-22T15:29:16.630Z"
   },
   {
    "duration": 0,
    "start_time": "2024-06-22T15:29:16.631Z"
   },
   {
    "duration": 0,
    "start_time": "2024-06-22T15:29:16.632Z"
   },
   {
    "duration": 0,
    "start_time": "2024-06-22T15:29:16.632Z"
   },
   {
    "duration": 0,
    "start_time": "2024-06-22T15:29:16.633Z"
   },
   {
    "duration": 0,
    "start_time": "2024-06-22T15:29:16.634Z"
   },
   {
    "duration": 0,
    "start_time": "2024-06-22T15:29:16.635Z"
   },
   {
    "duration": 0,
    "start_time": "2024-06-22T15:29:16.636Z"
   },
   {
    "duration": 0,
    "start_time": "2024-06-22T15:29:16.637Z"
   },
   {
    "duration": 0,
    "start_time": "2024-06-22T15:29:16.637Z"
   },
   {
    "duration": 0,
    "start_time": "2024-06-22T15:29:16.638Z"
   },
   {
    "duration": 0,
    "start_time": "2024-06-22T15:29:16.639Z"
   },
   {
    "duration": 0,
    "start_time": "2024-06-22T15:29:16.640Z"
   },
   {
    "duration": 0,
    "start_time": "2024-06-22T15:29:16.641Z"
   },
   {
    "duration": 2,
    "start_time": "2024-06-22T15:30:12.022Z"
   },
   {
    "duration": 5417,
    "start_time": "2024-06-22T15:30:23.171Z"
   },
   {
    "duration": 5,
    "start_time": "2024-06-22T15:30:28.590Z"
   },
   {
    "duration": 6,
    "start_time": "2024-06-22T15:30:28.596Z"
   },
   {
    "duration": 3,
    "start_time": "2024-06-22T15:30:28.604Z"
   },
   {
    "duration": 17,
    "start_time": "2024-06-22T15:30:28.608Z"
   },
   {
    "duration": 9,
    "start_time": "2024-06-22T15:30:28.627Z"
   },
   {
    "duration": 3,
    "start_time": "2024-06-22T15:30:28.637Z"
   },
   {
    "duration": 3,
    "start_time": "2024-06-22T15:30:28.642Z"
   },
   {
    "duration": 6,
    "start_time": "2024-06-22T15:30:28.646Z"
   },
   {
    "duration": 4,
    "start_time": "2024-06-22T15:30:28.654Z"
   },
   {
    "duration": 5,
    "start_time": "2024-06-22T15:30:28.659Z"
   },
   {
    "duration": 4,
    "start_time": "2024-06-22T15:30:28.665Z"
   },
   {
    "duration": 10,
    "start_time": "2024-06-22T15:30:28.670Z"
   },
   {
    "duration": 359,
    "start_time": "2024-06-22T15:30:28.681Z"
   },
   {
    "duration": 14,
    "start_time": "2024-06-22T15:30:29.041Z"
   },
   {
    "duration": 65,
    "start_time": "2024-06-22T15:30:29.057Z"
   },
   {
    "duration": 175,
    "start_time": "2024-06-22T15:30:29.123Z"
   },
   {
    "duration": 363,
    "start_time": "2024-06-22T15:30:29.299Z"
   },
   {
    "duration": 304,
    "start_time": "2024-06-22T15:30:29.663Z"
   },
   {
    "duration": 422,
    "start_time": "2024-06-22T15:30:29.969Z"
   },
   {
    "duration": 628,
    "start_time": "2024-06-22T15:30:30.393Z"
   },
   {
    "duration": 582,
    "start_time": "2024-06-22T15:30:31.022Z"
   },
   {
    "duration": 571,
    "start_time": "2024-06-22T15:30:31.605Z"
   },
   {
    "duration": 2,
    "start_time": "2024-06-22T15:30:32.178Z"
   },
   {
    "duration": 20,
    "start_time": "2024-06-22T15:30:32.181Z"
   },
   {
    "duration": 1915,
    "start_time": "2024-06-22T15:30:32.202Z"
   },
   {
    "duration": 3,
    "start_time": "2024-06-22T15:30:34.122Z"
   },
   {
    "duration": 83,
    "start_time": "2024-06-22T15:30:34.133Z"
   },
   {
    "duration": 10,
    "start_time": "2024-06-22T15:30:34.218Z"
   },
   {
    "duration": 9,
    "start_time": "2024-06-22T15:30:34.230Z"
   },
   {
    "duration": 7,
    "start_time": "2024-06-22T15:30:34.241Z"
   },
   {
    "duration": 11,
    "start_time": "2024-06-22T15:30:34.250Z"
   },
   {
    "duration": 23864,
    "start_time": "2024-06-22T15:30:34.262Z"
   },
   {
    "duration": 977,
    "start_time": "2024-06-22T15:30:58.127Z"
   },
   {
    "duration": 142,
    "start_time": "2024-06-22T15:30:59.106Z"
   },
   {
    "duration": 62,
    "start_time": "2024-06-22T15:30:59.250Z"
   },
   {
    "duration": 3,
    "start_time": "2024-06-22T15:30:59.315Z"
   },
   {
    "duration": 14,
    "start_time": "2024-06-22T15:30:59.319Z"
   },
   {
    "duration": 4,
    "start_time": "2024-06-22T15:30:59.334Z"
   },
   {
    "duration": 9,
    "start_time": "2024-06-22T15:30:59.339Z"
   },
   {
    "duration": 2071,
    "start_time": "2024-06-22T15:30:59.350Z"
   },
   {
    "duration": 6,
    "start_time": "2024-06-22T15:31:01.424Z"
   },
   {
    "duration": 142,
    "start_time": "2024-06-22T15:31:01.434Z"
   },
   {
    "duration": 77,
    "start_time": "2024-06-22T15:31:01.578Z"
   },
   {
    "duration": 88,
    "start_time": "2024-06-22T15:31:01.657Z"
   },
   {
    "duration": 72,
    "start_time": "2024-06-22T15:31:01.746Z"
   },
   {
    "duration": 24,
    "start_time": "2024-06-22T15:31:01.820Z"
   },
   {
    "duration": 23828,
    "start_time": "2024-06-22T15:31:01.846Z"
   },
   {
    "duration": 1009,
    "start_time": "2024-06-22T15:31:25.675Z"
   },
   {
    "duration": 245,
    "start_time": "2024-06-22T15:31:26.685Z"
   },
   {
    "duration": 1795,
    "start_time": "2024-06-22T15:31:26.931Z"
   },
   {
    "duration": 5,
    "start_time": "2024-06-22T15:31:28.727Z"
   },
   {
    "duration": 84,
    "start_time": "2024-06-22T15:31:28.733Z"
   },
   {
    "duration": 100,
    "start_time": "2024-06-22T15:31:28.819Z"
   },
   {
    "duration": 58,
    "start_time": "2024-06-22T15:31:28.922Z"
   },
   {
    "duration": 7,
    "start_time": "2024-06-22T15:31:28.982Z"
   },
   {
    "duration": 5,
    "start_time": "2024-06-22T15:31:28.991Z"
   },
   {
    "duration": 23977,
    "start_time": "2024-06-22T15:31:28.998Z"
   },
   {
    "duration": 1053,
    "start_time": "2024-06-22T15:31:52.977Z"
   },
   {
    "duration": 292,
    "start_time": "2024-06-22T15:31:54.031Z"
   },
   {
    "duration": 13,
    "start_time": "2024-06-22T15:31:54.325Z"
   },
   {
    "duration": 22,
    "start_time": "2024-06-22T15:31:54.339Z"
   },
   {
    "duration": 2668,
    "start_time": "2024-06-22T15:31:54.362Z"
   },
   {
    "duration": 3,
    "start_time": "2024-06-22T15:31:57.032Z"
   },
   {
    "duration": 4,
    "start_time": "2024-06-22T15:31:57.115Z"
   },
   {
    "duration": 107,
    "start_time": "2024-06-22T15:31:57.120Z"
   },
   {
    "duration": 4,
    "start_time": "2024-06-22T15:31:57.229Z"
   },
   {
    "duration": 6,
    "start_time": "2024-06-22T15:31:57.235Z"
   },
   {
    "duration": 5,
    "start_time": "2024-06-22T15:31:57.243Z"
   },
   {
    "duration": 72326,
    "start_time": "2024-06-22T15:31:57.250Z"
   },
   {
    "duration": 1856,
    "start_time": "2024-06-22T15:33:09.577Z"
   },
   {
    "duration": 379,
    "start_time": "2024-06-22T15:33:11.434Z"
   },
   {
    "duration": 6,
    "start_time": "2024-06-22T15:33:11.815Z"
   },
   {
    "duration": 26,
    "start_time": "2024-06-22T15:33:11.826Z"
   },
   {
    "duration": 25,
    "start_time": "2024-06-22T15:33:11.853Z"
   },
   {
    "duration": 12,
    "start_time": "2024-06-22T15:33:11.879Z"
   },
   {
    "duration": 28,
    "start_time": "2024-06-22T15:33:11.893Z"
   },
   {
    "duration": 7,
    "start_time": "2024-06-22T15:33:11.929Z"
   },
   {
    "duration": 7,
    "start_time": "2024-06-22T15:33:11.938Z"
   },
   {
    "duration": 8,
    "start_time": "2024-06-22T15:33:11.947Z"
   },
   {
    "duration": 6,
    "start_time": "2024-06-22T15:33:11.956Z"
   },
   {
    "duration": 5,
    "start_time": "2024-06-22T15:33:11.970Z"
   },
   {
    "duration": 5,
    "start_time": "2024-06-22T15:33:11.977Z"
   },
   {
    "duration": 18,
    "start_time": "2024-06-22T15:33:12.014Z"
   },
   {
    "duration": 10,
    "start_time": "2024-06-22T15:33:12.033Z"
   },
   {
    "duration": 85,
    "start_time": "2024-06-22T15:33:12.045Z"
   },
   {
    "duration": 3,
    "start_time": "2024-06-22T15:33:12.131Z"
   },
   {
    "duration": 88,
    "start_time": "2024-06-22T15:33:12.136Z"
   },
   {
    "duration": 5,
    "start_time": "2024-06-22T15:33:12.226Z"
   },
   {
    "duration": 18,
    "start_time": "2024-06-22T15:33:12.232Z"
   },
   {
    "duration": 30,
    "start_time": "2024-06-22T15:33:12.252Z"
   },
   {
    "duration": 11,
    "start_time": "2024-06-22T15:33:12.283Z"
   },
   {
    "duration": 9,
    "start_time": "2024-06-22T15:33:12.296Z"
   },
   {
    "duration": 4,
    "start_time": "2024-06-22T15:33:12.307Z"
   },
   {
    "duration": 21,
    "start_time": "2024-06-22T15:33:12.313Z"
   },
   {
    "duration": 19,
    "start_time": "2024-06-22T15:33:12.335Z"
   },
   {
    "duration": 69,
    "start_time": "2024-06-22T15:33:12.356Z"
   },
   {
    "duration": 5,
    "start_time": "2024-06-22T15:33:12.426Z"
   },
   {
    "duration": 84,
    "start_time": "2024-06-22T15:33:12.433Z"
   },
   {
    "duration": 6,
    "start_time": "2024-06-22T15:33:12.519Z"
   },
   {
    "duration": 9,
    "start_time": "2024-06-22T15:33:12.527Z"
   },
   {
    "duration": 29,
    "start_time": "2024-06-22T15:33:12.537Z"
   },
   {
    "duration": 8,
    "start_time": "2024-06-22T15:33:12.567Z"
   },
   {
    "duration": 35,
    "start_time": "2024-06-22T15:33:12.576Z"
   },
   {
    "duration": 9,
    "start_time": "2024-06-22T15:33:12.612Z"
   },
   {
    "duration": 15,
    "start_time": "2024-06-22T15:33:12.622Z"
   },
   {
    "duration": 3,
    "start_time": "2024-06-22T15:33:12.639Z"
   },
   {
    "duration": 3,
    "start_time": "2024-06-22T15:33:12.644Z"
   },
   {
    "duration": 72,
    "start_time": "2024-06-22T15:33:12.649Z"
   },
   {
    "duration": 3,
    "start_time": "2024-06-22T15:33:12.725Z"
   },
   {
    "duration": 87,
    "start_time": "2024-06-22T15:33:12.729Z"
   },
   {
    "duration": 30,
    "start_time": "2024-06-22T15:33:12.818Z"
   },
   {
    "duration": 8,
    "start_time": "2024-06-22T15:33:12.850Z"
   },
   {
    "duration": 7,
    "start_time": "2024-06-22T15:33:12.860Z"
   },
   {
    "duration": 2,
    "start_time": "2024-06-22T15:33:12.869Z"
   },
   {
    "duration": 3,
    "start_time": "2024-06-22T15:33:12.873Z"
   },
   {
    "duration": 148,
    "start_time": "2024-06-22T15:33:12.878Z"
   },
   {
    "duration": 682,
    "start_time": "2024-06-22T15:33:13.027Z"
   },
   {
    "duration": 677,
    "start_time": "2024-06-22T15:33:13.718Z"
   },
   {
    "duration": 638,
    "start_time": "2024-06-22T15:33:14.396Z"
   },
   {
    "duration": 690,
    "start_time": "2024-06-22T15:33:15.035Z"
   },
   {
    "duration": 630,
    "start_time": "2024-06-22T15:33:15.727Z"
   },
   {
    "duration": 621,
    "start_time": "2024-06-22T15:33:16.358Z"
   },
   {
    "duration": 7,
    "start_time": "2024-06-22T15:33:16.980Z"
   },
   {
    "duration": 6,
    "start_time": "2024-06-22T15:33:16.988Z"
   },
   {
    "duration": 28,
    "start_time": "2024-06-22T15:33:16.995Z"
   },
   {
    "duration": 2,
    "start_time": "2024-06-22T15:37:27.813Z"
   },
   {
    "duration": 2,
    "start_time": "2024-06-22T15:38:34.444Z"
   },
   {
    "duration": 7,
    "start_time": "2024-06-22T15:38:35.919Z"
   },
   {
    "duration": 4,
    "start_time": "2024-06-22T15:38:42.220Z"
   },
   {
    "duration": 4,
    "start_time": "2024-06-22T15:43:51.772Z"
   },
   {
    "duration": 7,
    "start_time": "2024-06-22T15:43:56.735Z"
   },
   {
    "duration": 7,
    "start_time": "2024-06-22T15:44:53.641Z"
   },
   {
    "duration": 154,
    "start_time": "2024-06-22T15:45:45.870Z"
   },
   {
    "duration": 12,
    "start_time": "2024-06-22T15:45:48.165Z"
   },
   {
    "duration": 470,
    "start_time": "2024-06-22T15:46:27.216Z"
   },
   {
    "duration": 161,
    "start_time": "2024-06-22T15:47:31.127Z"
   },
   {
    "duration": 490,
    "start_time": "2024-06-22T15:53:02.925Z"
   },
   {
    "duration": 494,
    "start_time": "2024-06-22T15:53:26.655Z"
   },
   {
    "duration": 463,
    "start_time": "2024-06-22T15:53:40.440Z"
   },
   {
    "duration": 476,
    "start_time": "2024-06-22T15:53:53.685Z"
   },
   {
    "duration": 476,
    "start_time": "2024-06-22T15:54:20.158Z"
   },
   {
    "duration": 508,
    "start_time": "2024-06-22T15:54:24.829Z"
   },
   {
    "duration": 494,
    "start_time": "2024-06-22T15:54:28.987Z"
   },
   {
    "duration": 3,
    "start_time": "2024-06-22T15:55:30.323Z"
   },
   {
    "duration": 3,
    "start_time": "2024-06-22T16:19:07.395Z"
   },
   {
    "duration": 18,
    "start_time": "2024-06-22T16:25:49.942Z"
   },
   {
    "duration": 14,
    "start_time": "2024-06-22T16:26:43.580Z"
   },
   {
    "duration": 21,
    "start_time": "2024-06-22T16:26:56.291Z"
   },
   {
    "duration": 523,
    "start_time": "2024-06-22T16:29:02.710Z"
   },
   {
    "duration": 3,
    "start_time": "2024-06-22T16:29:21.369Z"
   },
   {
    "duration": 483,
    "start_time": "2024-06-22T16:29:21.776Z"
   },
   {
    "duration": 479,
    "start_time": "2024-06-22T16:29:25.210Z"
   },
   {
    "duration": 468,
    "start_time": "2024-06-22T16:29:39.931Z"
   },
   {
    "duration": 6,
    "start_time": "2024-06-22T16:32:05.477Z"
   },
   {
    "duration": 4,
    "start_time": "2024-06-22T16:33:49.272Z"
   },
   {
    "duration": 4,
    "start_time": "2024-06-22T16:33:55.317Z"
   },
   {
    "duration": 5,
    "start_time": "2024-06-22T16:34:10.253Z"
   },
   {
    "duration": 4,
    "start_time": "2024-06-22T16:34:22.537Z"
   },
   {
    "duration": 4,
    "start_time": "2024-06-22T16:34:35.084Z"
   },
   {
    "duration": 4,
    "start_time": "2024-06-22T16:34:53.344Z"
   },
   {
    "duration": 5,
    "start_time": "2024-06-22T16:34:58.560Z"
   },
   {
    "duration": 5,
    "start_time": "2024-06-22T16:35:15.771Z"
   },
   {
    "duration": 3,
    "start_time": "2024-06-22T16:35:55.326Z"
   },
   {
    "duration": 61,
    "start_time": "2024-06-22T16:38:23.170Z"
   },
   {
    "duration": 50,
    "start_time": "2024-06-22T16:38:34.046Z"
   },
   {
    "duration": 5284,
    "start_time": "2024-06-22T16:49:25.932Z"
   },
   {
    "duration": 5,
    "start_time": "2024-06-22T16:49:31.218Z"
   },
   {
    "duration": 42,
    "start_time": "2024-06-22T16:49:31.224Z"
   },
   {
    "duration": 44,
    "start_time": "2024-06-22T16:49:31.268Z"
   },
   {
    "duration": 19,
    "start_time": "2024-06-22T16:49:31.313Z"
   },
   {
    "duration": 24,
    "start_time": "2024-06-22T16:49:31.333Z"
   },
   {
    "duration": 49,
    "start_time": "2024-06-22T16:49:31.358Z"
   },
   {
    "duration": 65,
    "start_time": "2024-06-22T16:49:31.408Z"
   },
   {
    "duration": 18,
    "start_time": "2024-06-22T16:49:31.474Z"
   },
   {
    "duration": 3,
    "start_time": "2024-06-22T16:49:31.495Z"
   },
   {
    "duration": 28,
    "start_time": "2024-06-22T16:49:31.499Z"
   },
   {
    "duration": 29,
    "start_time": "2024-06-22T16:49:31.528Z"
   },
   {
    "duration": 362,
    "start_time": "2024-06-22T16:49:31.558Z"
   },
   {
    "duration": 4,
    "start_time": "2024-06-22T16:49:31.921Z"
   },
   {
    "duration": 54,
    "start_time": "2024-06-22T16:49:31.927Z"
   },
   {
    "duration": 138,
    "start_time": "2024-06-22T16:49:31.982Z"
   },
   {
    "duration": 318,
    "start_time": "2024-06-22T16:49:32.122Z"
   },
   {
    "duration": 281,
    "start_time": "2024-06-22T16:49:32.442Z"
   },
   {
    "duration": 292,
    "start_time": "2024-06-22T16:49:32.725Z"
   },
   {
    "duration": 597,
    "start_time": "2024-06-22T16:49:33.019Z"
   },
   {
    "duration": 540,
    "start_time": "2024-06-22T16:49:33.618Z"
   },
   {
    "duration": 535,
    "start_time": "2024-06-22T16:49:34.160Z"
   },
   {
    "duration": 2,
    "start_time": "2024-06-22T16:49:34.697Z"
   },
   {
    "duration": 4,
    "start_time": "2024-06-22T16:49:34.708Z"
   },
   {
    "duration": 1809,
    "start_time": "2024-06-22T16:49:34.714Z"
   },
   {
    "duration": 90,
    "start_time": "2024-06-22T16:49:36.524Z"
   },
   {
    "duration": 92,
    "start_time": "2024-06-22T16:49:36.618Z"
   },
   {
    "duration": 12,
    "start_time": "2024-06-22T16:49:36.714Z"
   },
   {
    "duration": 41,
    "start_time": "2024-06-22T16:49:36.728Z"
   },
   {
    "duration": 6,
    "start_time": "2024-06-22T16:49:36.770Z"
   },
   {
    "duration": 3,
    "start_time": "2024-06-22T16:49:36.777Z"
   },
   {
    "duration": 23083,
    "start_time": "2024-06-22T16:49:36.781Z"
   },
   {
    "duration": 936,
    "start_time": "2024-06-22T16:49:59.866Z"
   },
   {
    "duration": 223,
    "start_time": "2024-06-22T16:50:00.803Z"
   },
   {
    "duration": 1590,
    "start_time": "2024-06-22T16:50:01.028Z"
   },
   {
    "duration": 3,
    "start_time": "2024-06-22T16:50:02.620Z"
   },
   {
    "duration": 118,
    "start_time": "2024-06-22T16:50:02.714Z"
   },
   {
    "duration": 18,
    "start_time": "2024-06-22T16:50:02.834Z"
   },
   {
    "duration": 55,
    "start_time": "2024-06-22T16:50:02.854Z"
   },
   {
    "duration": 38,
    "start_time": "2024-06-22T16:50:02.910Z"
   },
   {
    "duration": 8,
    "start_time": "2024-06-22T16:50:02.958Z"
   },
   {
    "duration": 23653,
    "start_time": "2024-06-22T16:50:02.968Z"
   },
   {
    "duration": 973,
    "start_time": "2024-06-22T16:50:26.623Z"
   },
   {
    "duration": 231,
    "start_time": "2024-06-22T16:50:27.597Z"
   },
   {
    "duration": 1586,
    "start_time": "2024-06-22T16:50:27.829Z"
   },
   {
    "duration": 2,
    "start_time": "2024-06-22T16:50:29.417Z"
   },
   {
    "duration": 2,
    "start_time": "2024-06-22T16:50:29.420Z"
   },
   {
    "duration": 95,
    "start_time": "2024-06-22T16:50:29.514Z"
   },
   {
    "duration": 19,
    "start_time": "2024-06-22T16:50:29.610Z"
   },
   {
    "duration": 6,
    "start_time": "2024-06-22T16:50:29.631Z"
   },
   {
    "duration": 3,
    "start_time": "2024-06-22T16:50:29.639Z"
   },
   {
    "duration": 23179,
    "start_time": "2024-06-22T16:50:29.644Z"
   },
   {
    "duration": 990,
    "start_time": "2024-06-22T16:50:52.824Z"
   },
   {
    "duration": 213,
    "start_time": "2024-06-22T16:50:53.815Z"
   },
   {
    "duration": 12,
    "start_time": "2024-06-22T16:50:54.029Z"
   },
   {
    "duration": 21,
    "start_time": "2024-06-22T16:50:54.043Z"
   },
   {
    "duration": 2545,
    "start_time": "2024-06-22T16:50:54.065Z"
   },
   {
    "duration": 2,
    "start_time": "2024-06-22T16:50:56.612Z"
   },
   {
    "duration": 97,
    "start_time": "2024-06-22T16:50:56.616Z"
   },
   {
    "duration": 21,
    "start_time": "2024-06-22T16:50:56.714Z"
   },
   {
    "duration": 7,
    "start_time": "2024-06-22T16:50:56.737Z"
   },
   {
    "duration": 15,
    "start_time": "2024-06-22T16:50:56.746Z"
   },
   {
    "duration": 5,
    "start_time": "2024-06-22T16:50:56.762Z"
   },
   {
    "duration": 69191,
    "start_time": "2024-06-22T16:50:56.769Z"
   },
   {
    "duration": 2359,
    "start_time": "2024-06-22T16:52:05.961Z"
   },
   {
    "duration": 287,
    "start_time": "2024-06-22T16:52:08.322Z"
   },
   {
    "duration": 4,
    "start_time": "2024-06-22T16:52:08.611Z"
   },
   {
    "duration": 18,
    "start_time": "2024-06-22T16:52:08.617Z"
   },
   {
    "duration": 20,
    "start_time": "2024-06-22T16:52:08.636Z"
   },
   {
    "duration": 14,
    "start_time": "2024-06-22T16:52:08.658Z"
   },
   {
    "duration": 42,
    "start_time": "2024-06-22T16:52:08.673Z"
   },
   {
    "duration": 7,
    "start_time": "2024-06-22T16:52:08.716Z"
   },
   {
    "duration": 12,
    "start_time": "2024-06-22T16:52:08.725Z"
   },
   {
    "duration": 8,
    "start_time": "2024-06-22T16:52:08.738Z"
   },
   {
    "duration": 43,
    "start_time": "2024-06-22T16:52:08.748Z"
   },
   {
    "duration": 32,
    "start_time": "2024-06-22T16:52:08.792Z"
   },
   {
    "duration": 27,
    "start_time": "2024-06-22T16:52:08.826Z"
   },
   {
    "duration": 6,
    "start_time": "2024-06-22T16:52:08.855Z"
   },
   {
    "duration": 463,
    "start_time": "2024-06-22T16:52:08.862Z"
   },
   {
    "duration": 2,
    "start_time": "2024-06-22T16:52:09.327Z"
   },
   {
    "duration": 515,
    "start_time": "2024-06-22T16:52:09.330Z"
   },
   {
    "duration": 477,
    "start_time": "2024-06-22T16:52:09.850Z"
   },
   {
    "duration": 542,
    "start_time": "2024-06-22T16:52:10.328Z"
   },
   {
    "duration": 5,
    "start_time": "2024-06-22T16:52:10.872Z"
   },
   {
    "duration": 8,
    "start_time": "2024-06-22T16:52:10.879Z"
   },
   {
    "duration": 7,
    "start_time": "2024-06-22T16:52:10.889Z"
   },
   {
    "duration": 7898,
    "start_time": "2024-06-22T18:30:28.426Z"
   },
   {
    "duration": 2174,
    "start_time": "2024-06-22T18:30:36.326Z"
   },
   {
    "duration": 3,
    "start_time": "2024-06-22T18:30:38.502Z"
   },
   {
    "duration": 21,
    "start_time": "2024-06-22T18:30:38.506Z"
   },
   {
    "duration": 24,
    "start_time": "2024-06-22T18:30:38.529Z"
   },
   {
    "duration": 23,
    "start_time": "2024-06-22T18:30:38.555Z"
   },
   {
    "duration": 36,
    "start_time": "2024-06-22T18:30:38.579Z"
   },
   {
    "duration": 49,
    "start_time": "2024-06-22T18:30:38.616Z"
   },
   {
    "duration": 40,
    "start_time": "2024-06-22T18:30:38.667Z"
   },
   {
    "duration": 25,
    "start_time": "2024-06-22T18:30:38.708Z"
   },
   {
    "duration": 46,
    "start_time": "2024-06-22T18:30:38.734Z"
   },
   {
    "duration": 23,
    "start_time": "2024-06-22T18:30:38.781Z"
   },
   {
    "duration": 644,
    "start_time": "2024-06-22T18:30:38.805Z"
   },
   {
    "duration": 3,
    "start_time": "2024-06-22T18:30:39.452Z"
   },
   {
    "duration": 71,
    "start_time": "2024-06-22T18:30:39.456Z"
   },
   {
    "duration": 171,
    "start_time": "2024-06-22T18:30:39.528Z"
   },
   {
    "duration": 361,
    "start_time": "2024-06-22T18:30:39.701Z"
   },
   {
    "duration": 339,
    "start_time": "2024-06-22T18:30:40.064Z"
   },
   {
    "duration": 448,
    "start_time": "2024-06-22T18:30:40.405Z"
   },
   {
    "duration": 680,
    "start_time": "2024-06-22T18:30:40.854Z"
   },
   {
    "duration": 666,
    "start_time": "2024-06-22T18:30:41.536Z"
   },
   {
    "duration": 647,
    "start_time": "2024-06-22T18:30:42.204Z"
   },
   {
    "duration": 3,
    "start_time": "2024-06-22T18:30:42.853Z"
   },
   {
    "duration": 8,
    "start_time": "2024-06-22T18:30:42.857Z"
   },
   {
    "duration": 2598,
    "start_time": "2024-06-22T18:30:42.866Z"
   },
   {
    "duration": 81,
    "start_time": "2024-06-22T18:30:45.467Z"
   },
   {
    "duration": 182,
    "start_time": "2024-06-22T18:30:45.550Z"
   },
   {
    "duration": 76,
    "start_time": "2024-06-22T18:30:45.734Z"
   },
   {
    "duration": 103,
    "start_time": "2024-06-22T18:30:45.812Z"
   },
   {
    "duration": 51,
    "start_time": "2024-06-22T18:30:45.917Z"
   },
   {
    "duration": 53,
    "start_time": "2024-06-22T18:30:45.970Z"
   },
   {
    "duration": 31446,
    "start_time": "2024-06-22T18:30:46.025Z"
   },
   {
    "duration": 1025,
    "start_time": "2024-06-22T18:31:17.473Z"
   },
   {
    "duration": 257,
    "start_time": "2024-06-22T18:31:18.500Z"
   },
   {
    "duration": 2705,
    "start_time": "2024-06-22T18:31:18.759Z"
   },
   {
    "duration": 4,
    "start_time": "2024-06-22T18:31:21.466Z"
   },
   {
    "duration": 144,
    "start_time": "2024-06-22T18:31:21.549Z"
   },
   {
    "duration": 18,
    "start_time": "2024-06-22T18:31:21.695Z"
   },
   {
    "duration": 12,
    "start_time": "2024-06-22T18:31:21.715Z"
   },
   {
    "duration": 19,
    "start_time": "2024-06-22T18:31:21.729Z"
   },
   {
    "duration": 25,
    "start_time": "2024-06-22T18:31:21.754Z"
   },
   {
    "duration": 31045,
    "start_time": "2024-06-22T18:31:21.781Z"
   },
   {
    "duration": 1122,
    "start_time": "2024-06-22T18:31:52.827Z"
   },
   {
    "duration": 297,
    "start_time": "2024-06-22T18:31:53.951Z"
   },
   {
    "duration": 2603,
    "start_time": "2024-06-22T18:31:54.249Z"
   },
   {
    "duration": 91,
    "start_time": "2024-06-22T18:31:56.856Z"
   },
   {
    "duration": 97,
    "start_time": "2024-06-22T18:31:56.949Z"
   },
   {
    "duration": 8,
    "start_time": "2024-06-22T18:31:57.048Z"
   },
   {
    "duration": 11,
    "start_time": "2024-06-22T18:31:57.058Z"
   },
   {
    "duration": 8,
    "start_time": "2024-06-22T18:31:57.070Z"
   },
   {
    "duration": 5,
    "start_time": "2024-06-22T18:31:57.079Z"
   },
   {
    "duration": 30947,
    "start_time": "2024-06-22T18:31:57.085Z"
   },
   {
    "duration": 1041,
    "start_time": "2024-06-22T18:32:28.034Z"
   },
   {
    "duration": 277,
    "start_time": "2024-06-22T18:32:29.077Z"
   },
   {
    "duration": 15,
    "start_time": "2024-06-22T18:32:29.356Z"
   },
   {
    "duration": 34,
    "start_time": "2024-06-22T18:32:29.373Z"
   },
   {
    "duration": 3069,
    "start_time": "2024-06-22T18:32:29.409Z"
   },
   {
    "duration": 66,
    "start_time": "2024-06-22T18:32:32.480Z"
   },
   {
    "duration": 99,
    "start_time": "2024-06-22T18:32:32.548Z"
   },
   {
    "duration": 24,
    "start_time": "2024-06-22T18:32:32.649Z"
   },
   {
    "duration": 64,
    "start_time": "2024-06-22T18:32:32.675Z"
   },
   {
    "duration": 31,
    "start_time": "2024-06-22T18:32:32.740Z"
   },
   {
    "duration": 9,
    "start_time": "2024-06-22T18:32:32.772Z"
   },
   {
    "duration": 93164,
    "start_time": "2024-06-22T18:32:32.782Z"
   },
   {
    "duration": 1937,
    "start_time": "2024-06-22T18:34:05.948Z"
   },
   {
    "duration": 392,
    "start_time": "2024-06-22T18:34:07.887Z"
   },
   {
    "duration": 6,
    "start_time": "2024-06-22T18:34:08.281Z"
   },
   {
    "duration": 21,
    "start_time": "2024-06-22T18:34:08.289Z"
   },
   {
    "duration": 22,
    "start_time": "2024-06-22T18:34:08.312Z"
   },
   {
    "duration": 17,
    "start_time": "2024-06-22T18:34:08.345Z"
   },
   {
    "duration": 22,
    "start_time": "2024-06-22T18:34:08.364Z"
   },
   {
    "duration": 8,
    "start_time": "2024-06-22T18:34:08.388Z"
   },
   {
    "duration": 8,
    "start_time": "2024-06-22T18:34:08.397Z"
   },
   {
    "duration": 9,
    "start_time": "2024-06-22T18:34:08.407Z"
   },
   {
    "duration": 31,
    "start_time": "2024-06-22T18:34:08.418Z"
   },
   {
    "duration": 23,
    "start_time": "2024-06-22T18:34:08.451Z"
   },
   {
    "duration": 8,
    "start_time": "2024-06-22T18:34:08.476Z"
   },
   {
    "duration": 170,
    "start_time": "2024-06-22T18:34:08.486Z"
   },
   {
    "duration": 0,
    "start_time": "2024-06-22T18:34:08.658Z"
   },
   {
    "duration": 0,
    "start_time": "2024-06-22T18:34:08.658Z"
   },
   {
    "duration": 0,
    "start_time": "2024-06-22T18:34:08.660Z"
   },
   {
    "duration": 0,
    "start_time": "2024-06-22T18:34:08.661Z"
   },
   {
    "duration": 0,
    "start_time": "2024-06-22T18:34:08.662Z"
   },
   {
    "duration": 0,
    "start_time": "2024-06-22T18:34:08.663Z"
   },
   {
    "duration": 0,
    "start_time": "2024-06-22T18:34:08.664Z"
   },
   {
    "duration": 0,
    "start_time": "2024-06-22T18:34:08.665Z"
   },
   {
    "duration": 4,
    "start_time": "2024-06-22T18:38:24.357Z"
   },
   {
    "duration": 2029,
    "start_time": "2024-06-22T18:38:40.637Z"
   },
   {
    "duration": 2222,
    "start_time": "2024-06-22T18:39:32.340Z"
   },
   {
    "duration": 5,
    "start_time": "2024-06-22T18:39:48.424Z"
   },
   {
    "duration": 5,
    "start_time": "2024-06-22T18:39:55.808Z"
   },
   {
    "duration": 4,
    "start_time": "2024-06-22T18:44:07.034Z"
   },
   {
    "duration": 1991,
    "start_time": "2024-06-22T18:44:08.162Z"
   },
   {
    "duration": 5,
    "start_time": "2024-06-22T18:44:27.480Z"
   },
   {
    "duration": 4,
    "start_time": "2024-06-22T18:44:29.145Z"
   },
   {
    "duration": 7,
    "start_time": "2024-06-22T18:44:40.505Z"
   },
   {
    "duration": 4,
    "start_time": "2024-06-22T18:44:41.032Z"
   },
   {
    "duration": 31944,
    "start_time": "2024-06-22T18:44:41.916Z"
   },
   {
    "duration": 5,
    "start_time": "2024-06-22T18:46:17.114Z"
   },
   {
    "duration": 2258,
    "start_time": "2024-06-22T18:46:17.593Z"
   },
   {
    "duration": 68,
    "start_time": "2024-06-22T18:49:23.476Z"
   },
   {
    "duration": 4,
    "start_time": "2024-06-22T18:49:29.759Z"
   },
   {
    "duration": 32731,
    "start_time": "2024-06-22T18:50:12.041Z"
   },
   {
    "duration": 1866,
    "start_time": "2024-06-22T18:51:41.687Z"
   },
   {
    "duration": 32634,
    "start_time": "2024-06-22T18:52:01.937Z"
   },
   {
    "duration": 33061,
    "start_time": "2024-06-22T18:52:59.803Z"
   },
   {
    "duration": 3,
    "start_time": "2024-06-22T18:55:54.923Z"
   },
   {
    "duration": 32105,
    "start_time": "2024-06-22T18:55:56.551Z"
   },
   {
    "duration": 32473,
    "start_time": "2024-06-22T18:56:39.509Z"
   },
   {
    "duration": 6,
    "start_time": "2024-06-22T18:57:23.828Z"
   },
   {
    "duration": 3,
    "start_time": "2024-06-22T18:57:24.451Z"
   },
   {
    "duration": 4,
    "start_time": "2024-06-22T18:57:39.035Z"
   },
   {
    "duration": 2161,
    "start_time": "2024-06-22T18:58:07.487Z"
   },
   {
    "duration": 31625,
    "start_time": "2024-06-22T18:58:33.923Z"
   },
   {
    "duration": 5,
    "start_time": "2024-06-22T18:59:18.933Z"
   },
   {
    "duration": 3,
    "start_time": "2024-06-22T18:59:19.516Z"
   },
   {
    "duration": 3092,
    "start_time": "2024-06-22T19:00:35.072Z"
   },
   {
    "duration": 93812,
    "start_time": "2024-06-22T19:01:18.276Z"
   },
   {
    "duration": 6,
    "start_time": "2024-06-22T19:04:24.258Z"
   },
   {
    "duration": 3,
    "start_time": "2024-06-22T19:04:37.685Z"
   },
   {
    "duration": 3,
    "start_time": "2024-06-22T19:04:46.935Z"
   },
   {
    "duration": 4,
    "start_time": "2024-06-22T19:05:04.033Z"
   },
   {
    "duration": 12,
    "start_time": "2024-06-22T19:05:59.497Z"
   },
   {
    "duration": 26,
    "start_time": "2024-06-22T19:06:00.530Z"
   },
   {
    "duration": 3113,
    "start_time": "2024-06-22T19:06:01.873Z"
   },
   {
    "duration": 5,
    "start_time": "2024-06-22T19:06:07.541Z"
   },
   {
    "duration": 3,
    "start_time": "2024-06-22T19:06:08.150Z"
   },
   {
    "duration": 5169,
    "start_time": "2024-06-22T19:06:40.937Z"
   },
   {
    "duration": 8,
    "start_time": "2024-06-22T19:06:52.289Z"
   },
   {
    "duration": 2,
    "start_time": "2024-06-22T19:06:55.149Z"
   },
   {
    "duration": 3,
    "start_time": "2024-06-22T19:06:55.552Z"
   },
   {
    "duration": 3,
    "start_time": "2024-06-22T19:06:55.983Z"
   },
   {
    "duration": 4,
    "start_time": "2024-06-22T19:06:56.389Z"
   },
   {
    "duration": 4,
    "start_time": "2024-06-22T19:06:58.389Z"
   },
   {
    "duration": 4,
    "start_time": "2024-06-22T19:06:59.229Z"
   },
   {
    "duration": 3,
    "start_time": "2024-06-22T19:07:01.870Z"
   },
   {
    "duration": 4,
    "start_time": "2024-06-22T19:07:02.341Z"
   },
   {
    "duration": 5,
    "start_time": "2024-06-22T19:07:04.538Z"
   },
   {
    "duration": 2,
    "start_time": "2024-06-22T19:07:07.628Z"
   },
   {
    "duration": 425,
    "start_time": "2024-06-22T19:07:10.391Z"
   },
   {
    "duration": 14,
    "start_time": "2024-06-22T19:07:11.496Z"
   },
   {
    "duration": 45,
    "start_time": "2024-06-22T19:07:13.740Z"
   },
   {
    "duration": 160,
    "start_time": "2024-06-22T19:07:17.395Z"
   },
   {
    "duration": 338,
    "start_time": "2024-06-22T19:07:23.965Z"
   },
   {
    "duration": 435,
    "start_time": "2024-06-22T19:07:25.338Z"
   },
   {
    "duration": 332,
    "start_time": "2024-06-22T19:07:28.113Z"
   },
   {
    "duration": 710,
    "start_time": "2024-06-22T19:07:32.507Z"
   },
   {
    "duration": 611,
    "start_time": "2024-06-22T19:07:36.224Z"
   },
   {
    "duration": 647,
    "start_time": "2024-06-22T19:07:39.669Z"
   },
   {
    "duration": 3,
    "start_time": "2024-06-22T19:07:44.610Z"
   },
   {
    "duration": 4,
    "start_time": "2024-06-22T19:07:46.880Z"
   },
   {
    "duration": 4,
    "start_time": "2024-06-22T19:07:49.102Z"
   },
   {
    "duration": 2305,
    "start_time": "2024-06-22T19:07:50.447Z"
   },
   {
    "duration": 5,
    "start_time": "2024-06-22T19:08:10.781Z"
   },
   {
    "duration": 3,
    "start_time": "2024-06-22T19:08:11.653Z"
   },
   {
    "duration": 4,
    "start_time": "2024-06-22T19:08:15.164Z"
   },
   {
    "duration": 33040,
    "start_time": "2024-06-22T19:08:17.436Z"
   },
   {
    "duration": 4,
    "start_time": "2024-06-22T19:09:33.439Z"
   },
   {
    "duration": 2277,
    "start_time": "2024-06-22T19:09:35.072Z"
   },
   {
    "duration": 5,
    "start_time": "2024-06-22T19:09:46.111Z"
   },
   {
    "duration": 3,
    "start_time": "2024-06-22T19:09:46.928Z"
   },
   {
    "duration": 3,
    "start_time": "2024-06-22T19:09:48.629Z"
   },
   {
    "duration": 31381,
    "start_time": "2024-06-22T19:09:50.195Z"
   },
   {
    "duration": 2304,
    "start_time": "2024-06-22T19:10:32.555Z"
   },
   {
    "duration": 5,
    "start_time": "2024-06-22T19:10:38.213Z"
   },
   {
    "duration": 3,
    "start_time": "2024-06-22T19:10:39.382Z"
   },
   {
    "duration": 31130,
    "start_time": "2024-06-22T19:10:43.444Z"
   },
   {
    "duration": 2309,
    "start_time": "2024-06-22T19:11:23.848Z"
   },
   {
    "duration": 9,
    "start_time": "2024-06-22T19:11:28.999Z"
   },
   {
    "duration": 3,
    "start_time": "2024-06-22T19:11:29.692Z"
   },
   {
    "duration": 31791,
    "start_time": "2024-06-22T19:11:32.174Z"
   },
   {
    "duration": 14,
    "start_time": "2024-06-22T19:12:15.459Z"
   },
   {
    "duration": 28,
    "start_time": "2024-06-22T19:12:16.337Z"
   },
   {
    "duration": 3119,
    "start_time": "2024-06-22T19:12:18.769Z"
   },
   {
    "duration": 10,
    "start_time": "2024-06-22T19:12:24.264Z"
   },
   {
    "duration": 2,
    "start_time": "2024-06-22T19:12:25.483Z"
   },
   {
    "duration": 93215,
    "start_time": "2024-06-22T19:12:26.649Z"
   },
   {
    "duration": 4,
    "start_time": "2024-06-22T19:14:18.233Z"
   },
   {
    "duration": 7,
    "start_time": "2024-06-22T19:17:50.000Z"
   },
   {
    "duration": 494,
    "start_time": "2024-06-22T19:17:51.549Z"
   },
   {
    "duration": 58,
    "start_time": "2024-06-22T20:11:42.164Z"
   },
   {
    "duration": 5,
    "start_time": "2024-06-22T20:11:55.637Z"
   },
   {
    "duration": 5,
    "start_time": "2024-06-22T20:12:01.550Z"
   },
   {
    "duration": 21,
    "start_time": "2024-06-22T20:12:33.123Z"
   },
   {
    "duration": 3,
    "start_time": "2024-06-22T20:12:40.892Z"
   },
   {
    "duration": 833,
    "start_time": "2024-06-22T20:12:45.532Z"
   },
   {
    "duration": 641,
    "start_time": "2024-06-22T20:13:07.727Z"
   },
   {
    "duration": 687,
    "start_time": "2024-06-22T20:13:18.592Z"
   },
   {
    "duration": 5,
    "start_time": "2024-06-22T20:13:31.302Z"
   },
   {
    "duration": 5,
    "start_time": "2024-06-22T20:13:33.213Z"
   },
   {
    "duration": 6,
    "start_time": "2024-06-22T20:13:34.012Z"
   },
   {
    "duration": 6,
    "start_time": "2024-06-22T20:22:00.620Z"
   },
   {
    "duration": 5,
    "start_time": "2024-06-22T20:24:44.636Z"
   },
   {
    "duration": 3,
    "start_time": "2024-06-22T20:27:58.901Z"
   },
   {
    "duration": 6,
    "start_time": "2024-06-22T20:29:50.404Z"
   },
   {
    "duration": 2,
    "start_time": "2024-06-22T20:33:28.285Z"
   },
   {
    "duration": 2,
    "start_time": "2024-06-22T20:33:36.579Z"
   },
   {
    "duration": 3,
    "start_time": "2024-06-22T20:33:49.304Z"
   },
   {
    "duration": 2,
    "start_time": "2024-06-22T20:34:03.823Z"
   },
   {
    "duration": 87,
    "start_time": "2024-06-22T20:51:19.565Z"
   },
   {
    "duration": 160,
    "start_time": "2024-06-22T20:51:46.083Z"
   },
   {
    "duration": 5311,
    "start_time": "2024-06-22T20:54:33.419Z"
   },
   {
    "duration": 6,
    "start_time": "2024-06-22T20:54:38.732Z"
   },
   {
    "duration": 26,
    "start_time": "2024-06-22T20:54:38.739Z"
   },
   {
    "duration": 18,
    "start_time": "2024-06-22T20:54:38.767Z"
   },
   {
    "duration": 10,
    "start_time": "2024-06-22T20:54:38.787Z"
   },
   {
    "duration": 19,
    "start_time": "2024-06-22T20:54:38.798Z"
   },
   {
    "duration": 24,
    "start_time": "2024-06-22T20:54:38.818Z"
   },
   {
    "duration": 8,
    "start_time": "2024-06-22T20:54:38.844Z"
   },
   {
    "duration": 25,
    "start_time": "2024-06-22T20:54:38.853Z"
   },
   {
    "duration": 447,
    "start_time": "2024-06-22T20:54:38.881Z"
   },
   {
    "duration": 17,
    "start_time": "2024-06-22T20:54:39.330Z"
   },
   {
    "duration": 63,
    "start_time": "2024-06-22T20:54:39.349Z"
   },
   {
    "duration": 178,
    "start_time": "2024-06-22T20:54:39.414Z"
   },
   {
    "duration": 366,
    "start_time": "2024-06-22T20:54:39.594Z"
   },
   {
    "duration": 338,
    "start_time": "2024-06-22T20:54:39.961Z"
   },
   {
    "duration": 377,
    "start_time": "2024-06-22T20:54:40.300Z"
   },
   {
    "duration": 702,
    "start_time": "2024-06-22T20:54:40.679Z"
   },
   {
    "duration": 656,
    "start_time": "2024-06-22T20:54:41.383Z"
   },
   {
    "duration": 623,
    "start_time": "2024-06-22T20:54:42.045Z"
   },
   {
    "duration": 3,
    "start_time": "2024-06-22T20:54:42.669Z"
   },
   {
    "duration": 13,
    "start_time": "2024-06-22T20:54:42.674Z"
   },
   {
    "duration": 2369,
    "start_time": "2024-06-22T20:54:42.689Z"
   },
   {
    "duration": 88,
    "start_time": "2024-06-22T20:54:45.060Z"
   },
   {
    "duration": 258,
    "start_time": "2024-06-22T20:54:45.150Z"
   },
   {
    "duration": 32184,
    "start_time": "2024-06-22T20:54:45.410Z"
   },
   {
    "duration": 2166,
    "start_time": "2024-06-22T20:55:17.596Z"
   },
   {
    "duration": 84,
    "start_time": "2024-06-22T20:55:19.765Z"
   },
   {
    "duration": 91,
    "start_time": "2024-06-22T20:55:19.855Z"
   },
   {
    "duration": 31807,
    "start_time": "2024-06-22T20:55:19.948Z"
   },
   {
    "duration": 1999,
    "start_time": "2024-06-22T20:55:51.757Z"
   },
   {
    "duration": 91,
    "start_time": "2024-06-22T20:55:53.758Z"
   },
   {
    "duration": 99,
    "start_time": "2024-06-22T20:55:53.851Z"
   },
   {
    "duration": 31723,
    "start_time": "2024-06-22T20:55:53.951Z"
   },
   {
    "duration": 79,
    "start_time": "2024-06-22T20:56:25.676Z"
   },
   {
    "duration": 29,
    "start_time": "2024-06-22T20:56:25.756Z"
   },
   {
    "duration": 3059,
    "start_time": "2024-06-22T20:56:25.787Z"
   },
   {
    "duration": 101,
    "start_time": "2024-06-22T20:56:28.849Z"
   },
   {
    "duration": 23,
    "start_time": "2024-06-22T20:56:28.952Z"
   },
   {
    "duration": 94003,
    "start_time": "2024-06-22T20:56:28.977Z"
   },
   {
    "duration": 4,
    "start_time": "2024-06-22T20:58:02.981Z"
   },
   {
    "duration": 10,
    "start_time": "2024-06-22T20:58:02.987Z"
   },
   {
    "duration": 4,
    "start_time": "2024-06-22T20:58:02.999Z"
   },
   {
    "duration": 5,
    "start_time": "2024-06-22T20:58:03.004Z"
   },
   {
    "duration": 7,
    "start_time": "2024-06-22T20:58:03.010Z"
   },
   {
    "duration": 4,
    "start_time": "2024-06-22T20:58:03.019Z"
   },
   {
    "duration": 23,
    "start_time": "2024-06-22T20:58:03.025Z"
   },
   {
    "duration": 33,
    "start_time": "2024-06-22T20:58:03.049Z"
   },
   {
    "duration": 23,
    "start_time": "2024-06-22T20:58:03.083Z"
   },
   {
    "duration": 16,
    "start_time": "2024-06-22T20:58:03.108Z"
   },
   {
    "duration": 41,
    "start_time": "2024-06-22T20:58:03.125Z"
   },
   {
    "duration": 8,
    "start_time": "2024-06-22T20:58:03.168Z"
   },
   {
    "duration": 13,
    "start_time": "2024-06-22T20:58:03.177Z"
   },
   {
    "duration": 17,
    "start_time": "2024-06-22T20:58:03.192Z"
   },
   {
    "duration": 6,
    "start_time": "2024-06-22T20:58:03.211Z"
   },
   {
    "duration": 31,
    "start_time": "2024-06-22T20:58:03.218Z"
   },
   {
    "duration": 10,
    "start_time": "2024-06-22T20:58:03.251Z"
   },
   {
    "duration": 9,
    "start_time": "2024-06-22T20:58:03.263Z"
   },
   {
    "duration": 482,
    "start_time": "2024-06-22T20:58:03.273Z"
   },
   {
    "duration": 4,
    "start_time": "2024-06-22T20:58:03.756Z"
   },
   {
    "duration": 700,
    "start_time": "2024-06-22T20:58:03.762Z"
   },
   {
    "duration": 665,
    "start_time": "2024-06-22T20:58:04.464Z"
   },
   {
    "duration": 666,
    "start_time": "2024-06-22T20:58:05.131Z"
   },
   {
    "duration": 5,
    "start_time": "2024-06-22T20:58:05.799Z"
   },
   {
    "duration": 44,
    "start_time": "2024-06-22T20:58:05.806Z"
   },
   {
    "duration": 8,
    "start_time": "2024-06-22T20:58:05.852Z"
   },
   {
    "duration": 7965,
    "start_time": "2024-06-22T21:17:30.149Z"
   },
   {
    "duration": 5604,
    "start_time": "2024-06-22T21:17:38.117Z"
   },
   {
    "duration": 4,
    "start_time": "2024-06-22T21:17:43.723Z"
   },
   {
    "duration": 25,
    "start_time": "2024-06-22T21:17:43.728Z"
   },
   {
    "duration": 17,
    "start_time": "2024-06-22T21:17:43.756Z"
   },
   {
    "duration": 36,
    "start_time": "2024-06-22T21:17:43.775Z"
   },
   {
    "duration": 45,
    "start_time": "2024-06-22T21:17:43.813Z"
   },
   {
    "duration": 28,
    "start_time": "2024-06-22T21:17:43.860Z"
   },
   {
    "duration": 15,
    "start_time": "2024-06-22T21:17:43.890Z"
   },
   {
    "duration": 1769,
    "start_time": "2024-06-22T21:17:43.907Z"
   },
   {
    "duration": 3,
    "start_time": "2024-06-22T21:17:45.678Z"
   },
   {
    "duration": 61,
    "start_time": "2024-06-22T21:17:45.682Z"
   },
   {
    "duration": 176,
    "start_time": "2024-06-22T21:17:45.744Z"
   },
   {
    "duration": 397,
    "start_time": "2024-06-22T21:17:45.922Z"
   },
   {
    "duration": 338,
    "start_time": "2024-06-22T21:17:46.321Z"
   },
   {
    "duration": 350,
    "start_time": "2024-06-22T21:17:46.661Z"
   },
   {
    "duration": 836,
    "start_time": "2024-06-22T21:17:47.013Z"
   },
   {
    "duration": 652,
    "start_time": "2024-06-22T21:17:47.855Z"
   },
   {
    "duration": 650,
    "start_time": "2024-06-22T21:17:48.508Z"
   },
   {
    "duration": 3,
    "start_time": "2024-06-22T21:17:49.160Z"
   },
   {
    "duration": 5,
    "start_time": "2024-06-22T21:17:49.164Z"
   },
   {
    "duration": 2795,
    "start_time": "2024-06-22T21:17:49.171Z"
   },
   {
    "duration": 92,
    "start_time": "2024-06-22T21:17:51.968Z"
   },
   {
    "duration": 8,
    "start_time": "2024-06-22T21:17:52.154Z"
   },
   {
    "duration": 32209,
    "start_time": "2024-06-22T21:17:52.163Z"
   },
   {
    "duration": 2793,
    "start_time": "2024-06-22T21:18:24.374Z"
   },
   {
    "duration": 89,
    "start_time": "2024-06-22T21:18:27.169Z"
   },
   {
    "duration": 99,
    "start_time": "2024-06-22T21:18:27.261Z"
   },
   {
    "duration": 32618,
    "start_time": "2024-06-22T21:18:27.362Z"
   },
   {
    "duration": 2785,
    "start_time": "2024-06-22T21:18:59.982Z"
   },
   {
    "duration": 92,
    "start_time": "2024-06-22T21:19:02.769Z"
   },
   {
    "duration": 99,
    "start_time": "2024-06-22T21:19:02.863Z"
   },
   {
    "duration": 33612,
    "start_time": "2024-06-22T21:19:02.964Z"
   },
   {
    "duration": 16,
    "start_time": "2024-06-22T21:19:36.578Z"
   },
   {
    "duration": 33,
    "start_time": "2024-06-22T21:19:36.596Z"
   },
   {
    "duration": 3229,
    "start_time": "2024-06-22T21:19:36.631Z"
   },
   {
    "duration": 95,
    "start_time": "2024-06-22T21:19:39.862Z"
   },
   {
    "duration": 12,
    "start_time": "2024-06-22T21:19:39.959Z"
   },
   {
    "duration": 99393,
    "start_time": "2024-06-22T21:19:39.973Z"
   },
   {
    "duration": 5,
    "start_time": "2024-06-22T21:21:19.368Z"
   },
   {
    "duration": 7,
    "start_time": "2024-06-22T21:21:19.377Z"
   },
   {
    "duration": 4,
    "start_time": "2024-06-22T21:21:19.386Z"
   },
   {
    "duration": 7,
    "start_time": "2024-06-22T21:21:19.392Z"
   },
   {
    "duration": 5,
    "start_time": "2024-06-22T21:21:19.401Z"
   },
   {
    "duration": 5,
    "start_time": "2024-06-22T21:21:19.408Z"
   },
   {
    "duration": 7,
    "start_time": "2024-06-22T21:21:19.415Z"
   },
   {
    "duration": 12,
    "start_time": "2024-06-22T21:21:19.459Z"
   },
   {
    "duration": 26,
    "start_time": "2024-06-22T21:21:19.473Z"
   },
   {
    "duration": 27,
    "start_time": "2024-06-22T21:21:19.501Z"
   },
   {
    "duration": 47,
    "start_time": "2024-06-22T21:21:19.530Z"
   },
   {
    "duration": 9,
    "start_time": "2024-06-22T21:21:19.578Z"
   },
   {
    "duration": 8,
    "start_time": "2024-06-22T21:21:19.589Z"
   },
   {
    "duration": 9,
    "start_time": "2024-06-22T21:21:19.599Z"
   },
   {
    "duration": 5,
    "start_time": "2024-06-22T21:21:19.609Z"
   },
   {
    "duration": 41,
    "start_time": "2024-06-22T21:21:19.616Z"
   },
   {
    "duration": 5,
    "start_time": "2024-06-22T21:21:19.659Z"
   },
   {
    "duration": 6,
    "start_time": "2024-06-22T21:21:19.666Z"
   },
   {
    "duration": 591,
    "start_time": "2024-06-22T21:21:19.674Z"
   },
   {
    "duration": 3,
    "start_time": "2024-06-22T21:21:20.267Z"
   },
   {
    "duration": 744,
    "start_time": "2024-06-22T21:21:20.272Z"
   },
   {
    "duration": 738,
    "start_time": "2024-06-22T21:21:21.018Z"
   },
   {
    "duration": 719,
    "start_time": "2024-06-22T21:21:21.758Z"
   },
   {
    "duration": 5,
    "start_time": "2024-06-22T21:21:22.479Z"
   },
   {
    "duration": 20,
    "start_time": "2024-06-22T21:21:22.486Z"
   },
   {
    "duration": 26,
    "start_time": "2024-06-22T21:21:22.508Z"
   },
   {
    "duration": 13,
    "start_time": "2024-06-22T21:24:20.904Z"
   },
   {
    "duration": 11,
    "start_time": "2024-06-22T21:24:29.054Z"
   },
   {
    "duration": 5,
    "start_time": "2024-06-22T21:26:04.896Z"
   },
   {
    "duration": 157,
    "start_time": "2024-06-22T21:26:10.203Z"
   },
   {
    "duration": 16,
    "start_time": "2024-06-22T21:29:16.741Z"
   },
   {
    "duration": 6,
    "start_time": "2024-06-22T21:29:31.498Z"
   },
   {
    "duration": 4,
    "start_time": "2024-06-22T21:29:40.317Z"
   },
   {
    "duration": 5,
    "start_time": "2024-06-22T21:29:43.537Z"
   },
   {
    "duration": 4,
    "start_time": "2024-06-22T21:29:48.303Z"
   },
   {
    "duration": 5,
    "start_time": "2024-06-22T21:29:50.631Z"
   },
   {
    "duration": 5,
    "start_time": "2024-06-22T21:29:53.923Z"
   },
   {
    "duration": 5,
    "start_time": "2024-06-22T21:29:56.060Z"
   },
   {
    "duration": 4,
    "start_time": "2024-06-22T21:29:58.837Z"
   },
   {
    "duration": 5,
    "start_time": "2024-06-22T21:30:01.434Z"
   },
   {
    "duration": 5,
    "start_time": "2024-06-22T21:30:03.835Z"
   },
   {
    "duration": 5,
    "start_time": "2024-06-22T21:30:05.625Z"
   },
   {
    "duration": 7,
    "start_time": "2024-06-22T21:30:06.751Z"
   },
   {
    "duration": 5,
    "start_time": "2024-06-22T21:30:09.357Z"
   },
   {
    "duration": 5,
    "start_time": "2024-06-22T21:30:11.311Z"
   },
   {
    "duration": 5,
    "start_time": "2024-06-22T21:30:12.692Z"
   },
   {
    "duration": 6,
    "start_time": "2024-06-22T21:30:15.038Z"
   },
   {
    "duration": 5,
    "start_time": "2024-06-22T21:30:17.106Z"
   },
   {
    "duration": 6,
    "start_time": "2024-06-22T21:30:19.582Z"
   },
   {
    "duration": 7257,
    "start_time": "2024-06-23T04:36:16.482Z"
   },
   {
    "duration": 1763,
    "start_time": "2024-06-23T04:36:23.741Z"
   },
   {
    "duration": 3,
    "start_time": "2024-06-23T04:36:25.506Z"
   },
   {
    "duration": 7,
    "start_time": "2024-06-23T04:36:25.510Z"
   },
   {
    "duration": 3,
    "start_time": "2024-06-23T04:36:25.519Z"
   },
   {
    "duration": 8,
    "start_time": "2024-06-23T04:36:25.523Z"
   },
   {
    "duration": 11,
    "start_time": "2024-06-23T04:36:25.532Z"
   },
   {
    "duration": 31,
    "start_time": "2024-06-23T04:36:25.544Z"
   },
   {
    "duration": 10,
    "start_time": "2024-06-23T04:36:25.576Z"
   },
   {
    "duration": 581,
    "start_time": "2024-06-23T04:36:25.587Z"
   },
   {
    "duration": 2,
    "start_time": "2024-06-23T04:36:26.170Z"
   },
   {
    "duration": 40,
    "start_time": "2024-06-23T04:36:26.173Z"
   },
   {
    "duration": 138,
    "start_time": "2024-06-23T04:36:26.214Z"
   },
   {
    "duration": 274,
    "start_time": "2024-06-23T04:36:26.354Z"
   },
   {
    "duration": 254,
    "start_time": "2024-06-23T04:36:26.629Z"
   },
   {
    "duration": 267,
    "start_time": "2024-06-23T04:36:26.885Z"
   },
   {
    "duration": 651,
    "start_time": "2024-06-23T04:36:27.153Z"
   },
   {
    "duration": 499,
    "start_time": "2024-06-23T04:36:27.805Z"
   },
   {
    "duration": 470,
    "start_time": "2024-06-23T04:36:28.306Z"
   },
   {
    "duration": 2,
    "start_time": "2024-06-23T04:36:28.778Z"
   },
   {
    "duration": 4,
    "start_time": "2024-06-23T04:36:28.801Z"
   },
   {
    "duration": 2097,
    "start_time": "2024-06-23T04:36:28.806Z"
   },
   {
    "duration": 6,
    "start_time": "2024-06-23T04:36:30.905Z"
   },
   {
    "duration": 135,
    "start_time": "2024-06-23T04:36:31.003Z"
   },
   {
    "duration": 21693,
    "start_time": "2024-06-23T04:36:31.139Z"
   },
   {
    "duration": 1812,
    "start_time": "2024-06-23T04:36:52.901Z"
   },
   {
    "duration": 88,
    "start_time": "2024-06-23T04:36:54.715Z"
   },
   {
    "duration": 153,
    "start_time": "2024-06-23T04:36:54.804Z"
   },
   {
    "duration": 21660,
    "start_time": "2024-06-23T04:36:54.959Z"
   },
   {
    "duration": 1890,
    "start_time": "2024-06-23T04:37:16.620Z"
   },
   {
    "duration": 92,
    "start_time": "2024-06-23T04:37:18.511Z"
   },
   {
    "duration": 102,
    "start_time": "2024-06-23T04:37:18.604Z"
   },
   {
    "duration": 21820,
    "start_time": "2024-06-23T04:37:18.708Z"
   },
   {
    "duration": 78,
    "start_time": "2024-06-23T04:37:40.529Z"
   },
   {
    "duration": 37,
    "start_time": "2024-06-23T04:37:40.608Z"
   },
   {
    "duration": 2877,
    "start_time": "2024-06-23T04:37:40.646Z"
   },
   {
    "duration": 82,
    "start_time": "2024-06-23T04:37:43.524Z"
   },
   {
    "duration": 97,
    "start_time": "2024-06-23T04:37:43.608Z"
   },
   {
    "duration": 64418,
    "start_time": "2024-06-23T04:37:43.706Z"
   },
   {
    "duration": 3,
    "start_time": "2024-06-23T04:38:48.125Z"
   },
   {
    "duration": 7,
    "start_time": "2024-06-23T04:38:48.131Z"
   },
   {
    "duration": 26,
    "start_time": "2024-06-23T04:38:48.139Z"
   },
   {
    "duration": 5,
    "start_time": "2024-06-23T04:38:48.166Z"
   },
   {
    "duration": 7,
    "start_time": "2024-06-23T04:38:48.172Z"
   },
   {
    "duration": 11,
    "start_time": "2024-06-23T04:38:48.181Z"
   },
   {
    "duration": 3,
    "start_time": "2024-06-23T04:38:48.193Z"
   },
   {
    "duration": 14,
    "start_time": "2024-06-23T04:38:48.198Z"
   },
   {
    "duration": 20,
    "start_time": "2024-06-23T04:38:48.213Z"
   },
   {
    "duration": 13,
    "start_time": "2024-06-23T04:38:48.234Z"
   },
   {
    "duration": 36,
    "start_time": "2024-06-23T04:38:48.248Z"
   },
   {
    "duration": 7,
    "start_time": "2024-06-23T04:38:48.285Z"
   },
   {
    "duration": 12,
    "start_time": "2024-06-23T04:38:48.293Z"
   },
   {
    "duration": 10,
    "start_time": "2024-06-23T04:38:48.306Z"
   },
   {
    "duration": 7,
    "start_time": "2024-06-23T04:38:48.318Z"
   },
   {
    "duration": 7,
    "start_time": "2024-06-23T04:38:48.326Z"
   },
   {
    "duration": 5,
    "start_time": "2024-06-23T04:38:48.334Z"
   },
   {
    "duration": 5,
    "start_time": "2024-06-23T04:38:48.340Z"
   },
   {
    "duration": 425,
    "start_time": "2024-06-23T04:38:48.346Z"
   },
   {
    "duration": 3,
    "start_time": "2024-06-23T04:38:48.772Z"
   },
   {
    "duration": 522,
    "start_time": "2024-06-23T04:38:48.776Z"
   },
   {
    "duration": 457,
    "start_time": "2024-06-23T04:38:49.301Z"
   },
   {
    "duration": 467,
    "start_time": "2024-06-23T04:38:49.759Z"
   },
   {
    "duration": 4,
    "start_time": "2024-06-23T04:38:50.227Z"
   },
   {
    "duration": 20,
    "start_time": "2024-06-23T04:38:50.232Z"
   },
   {
    "duration": 19,
    "start_time": "2024-06-23T04:38:50.254Z"
   },
   {
    "duration": 5,
    "start_time": "2024-06-23T04:41:27.986Z"
   },
   {
    "duration": 5,
    "start_time": "2024-06-23T04:42:15.989Z"
   },
   {
    "duration": 6,
    "start_time": "2024-06-23T04:42:45.687Z"
   },
   {
    "duration": 5,
    "start_time": "2024-06-23T04:42:57.348Z"
   },
   {
    "duration": 6,
    "start_time": "2024-06-23T04:43:03.509Z"
   },
   {
    "duration": 4,
    "start_time": "2024-06-23T04:43:34.504Z"
   },
   {
    "duration": 479,
    "start_time": "2024-06-23T04:43:42.706Z"
   },
   {
    "duration": 4,
    "start_time": "2024-06-23T04:44:52.827Z"
   },
   {
    "duration": 418,
    "start_time": "2024-06-23T04:44:57.383Z"
   },
   {
    "duration": 4,
    "start_time": "2024-06-23T04:45:24.605Z"
   },
   {
    "duration": 446,
    "start_time": "2024-06-23T04:45:28.835Z"
   },
   {
    "duration": 364,
    "start_time": "2024-06-23T04:50:28.249Z"
   },
   {
    "duration": 371,
    "start_time": "2024-06-23T04:50:51.256Z"
   },
   {
    "duration": 12,
    "start_time": "2024-06-23T04:51:04.526Z"
   },
   {
    "duration": 181,
    "start_time": "2024-06-23T04:51:39.749Z"
   },
   {
    "duration": 12,
    "start_time": "2024-06-23T04:52:04.489Z"
   },
   {
    "duration": 188,
    "start_time": "2024-06-23T04:52:43.416Z"
   },
   {
    "duration": 4,
    "start_time": "2024-06-23T04:53:11.951Z"
   },
   {
    "duration": 472,
    "start_time": "2024-06-23T04:53:37.009Z"
   },
   {
    "duration": 5,
    "start_time": "2024-06-23T04:53:41.482Z"
   },
   {
    "duration": 5,
    "start_time": "2024-06-23T04:53:44.300Z"
   },
   {
    "duration": 6,
    "start_time": "2024-06-23T04:54:41.256Z"
   },
   {
    "duration": 448,
    "start_time": "2024-06-23T04:55:05.034Z"
   },
   {
    "duration": 6,
    "start_time": "2024-06-23T04:55:11.620Z"
   },
   {
    "duration": 4,
    "start_time": "2024-06-23T04:55:14.274Z"
   },
   {
    "duration": 4,
    "start_time": "2024-06-23T04:55:22.531Z"
   },
   {
    "duration": 11,
    "start_time": "2024-06-23T04:55:47.265Z"
   },
   {
    "duration": 11,
    "start_time": "2024-06-23T04:56:08.873Z"
   },
   {
    "duration": 8,
    "start_time": "2024-06-23T04:56:39.035Z"
   },
   {
    "duration": 9,
    "start_time": "2024-06-23T04:56:58.967Z"
   },
   {
    "duration": 9,
    "start_time": "2024-06-23T04:57:05.832Z"
   },
   {
    "duration": 9,
    "start_time": "2024-06-23T04:57:11.758Z"
   },
   {
    "duration": 9,
    "start_time": "2024-06-23T04:57:23.615Z"
   },
   {
    "duration": 70,
    "start_time": "2024-06-23T04:57:42.266Z"
   },
   {
    "duration": 4,
    "start_time": "2024-06-23T04:57:45.081Z"
   },
   {
    "duration": 5,
    "start_time": "2024-06-23T04:57:54.600Z"
   },
   {
    "duration": 6,
    "start_time": "2024-06-23T04:59:27.280Z"
   },
   {
    "duration": 399,
    "start_time": "2024-06-23T04:59:59.055Z"
   },
   {
    "duration": 8,
    "start_time": "2024-06-23T05:00:47.846Z"
   },
   {
    "duration": 11,
    "start_time": "2024-06-23T05:04:52.189Z"
   },
   {
    "duration": 291,
    "start_time": "2024-06-23T05:05:16.285Z"
   },
   {
    "duration": 341,
    "start_time": "2024-06-23T05:06:10.815Z"
   },
   {
    "duration": 287,
    "start_time": "2024-06-23T05:06:51.966Z"
   },
   {
    "duration": 329,
    "start_time": "2024-06-23T05:06:58.674Z"
   },
   {
    "duration": 5,
    "start_time": "2024-06-23T05:08:18.179Z"
   },
   {
    "duration": 331,
    "start_time": "2024-06-23T05:08:26.797Z"
   },
   {
    "duration": 341,
    "start_time": "2024-06-23T05:08:33.052Z"
   },
   {
    "duration": 4,
    "start_time": "2024-06-23T05:08:53.333Z"
   },
   {
    "duration": 331,
    "start_time": "2024-06-23T05:08:58.687Z"
   },
   {
    "duration": 363,
    "start_time": "2024-06-23T05:09:01.157Z"
   },
   {
    "duration": 336,
    "start_time": "2024-06-23T05:09:07.246Z"
   },
   {
    "duration": 370,
    "start_time": "2024-06-23T05:09:09.948Z"
   },
   {
    "duration": 5,
    "start_time": "2024-06-23T05:09:15.656Z"
   },
   {
    "duration": 5,
    "start_time": "2024-06-23T05:09:17.984Z"
   },
   {
    "duration": 4,
    "start_time": "2024-06-23T05:09:19.690Z"
   },
   {
    "duration": 4826,
    "start_time": "2024-06-23T05:14:55.159Z"
   },
   {
    "duration": 5,
    "start_time": "2024-06-23T05:14:59.987Z"
   },
   {
    "duration": 97,
    "start_time": "2024-06-23T05:14:59.993Z"
   },
   {
    "duration": 44,
    "start_time": "2024-06-23T05:15:00.091Z"
   },
   {
    "duration": 66,
    "start_time": "2024-06-23T05:15:00.136Z"
   },
   {
    "duration": 82,
    "start_time": "2024-06-23T05:15:00.204Z"
   },
   {
    "duration": 49,
    "start_time": "2024-06-23T05:15:00.287Z"
   },
   {
    "duration": 84,
    "start_time": "2024-06-23T05:15:00.339Z"
   },
   {
    "duration": 69,
    "start_time": "2024-06-23T05:15:00.424Z"
   },
   {
    "duration": 446,
    "start_time": "2024-06-23T05:15:00.495Z"
   },
   {
    "duration": 13,
    "start_time": "2024-06-23T05:15:00.942Z"
   },
   {
    "duration": 405,
    "start_time": "2024-06-23T05:15:00.956Z"
   },
   {
    "duration": 178,
    "start_time": "2024-06-23T05:15:01.362Z"
   },
   {
    "duration": 378,
    "start_time": "2024-06-23T05:15:01.541Z"
   },
   {
    "duration": 248,
    "start_time": "2024-06-23T05:15:01.920Z"
   },
   {
    "duration": 318,
    "start_time": "2024-06-23T05:15:02.170Z"
   },
   {
    "duration": 513,
    "start_time": "2024-06-23T05:15:02.490Z"
   },
   {
    "duration": 502,
    "start_time": "2024-06-23T05:15:03.005Z"
   },
   {
    "duration": 495,
    "start_time": "2024-06-23T05:15:03.509Z"
   },
   {
    "duration": 3,
    "start_time": "2024-06-23T05:15:04.005Z"
   },
   {
    "duration": 17,
    "start_time": "2024-06-23T05:15:04.009Z"
   },
   {
    "duration": 1584,
    "start_time": "2024-06-23T05:15:04.028Z"
   },
   {
    "duration": 90,
    "start_time": "2024-06-23T05:15:05.613Z"
   },
   {
    "duration": 102,
    "start_time": "2024-06-23T05:15:05.705Z"
   },
   {
    "duration": 21521,
    "start_time": "2024-06-23T05:15:05.809Z"
   },
   {
    "duration": 1507,
    "start_time": "2024-06-23T05:15:27.402Z"
   },
   {
    "duration": 93,
    "start_time": "2024-06-23T05:15:28.910Z"
   },
   {
    "duration": 95,
    "start_time": "2024-06-23T05:15:29.007Z"
   },
   {
    "duration": 22513,
    "start_time": "2024-06-23T05:15:29.103Z"
   },
   {
    "duration": 1293,
    "start_time": "2024-06-23T05:15:51.617Z"
   },
   {
    "duration": 88,
    "start_time": "2024-06-23T05:15:52.923Z"
   },
   {
    "duration": 105,
    "start_time": "2024-06-23T05:15:53.012Z"
   },
   {
    "duration": 22300,
    "start_time": "2024-06-23T05:15:53.119Z"
   },
   {
    "duration": 10,
    "start_time": "2024-06-23T05:16:15.420Z"
   },
   {
    "duration": 28,
    "start_time": "2024-06-23T05:16:15.431Z"
   },
   {
    "duration": 2661,
    "start_time": "2024-06-23T05:16:15.460Z"
   },
   {
    "duration": 93,
    "start_time": "2024-06-23T05:16:18.122Z"
   },
   {
    "duration": 5,
    "start_time": "2024-06-23T05:16:18.217Z"
   },
   {
    "duration": 66380,
    "start_time": "2024-06-23T05:16:18.223Z"
   },
   {
    "duration": 11,
    "start_time": "2024-06-23T05:17:24.604Z"
   },
   {
    "duration": 13,
    "start_time": "2024-06-23T05:17:24.616Z"
   },
   {
    "duration": 7,
    "start_time": "2024-06-23T05:17:24.631Z"
   },
   {
    "duration": 3,
    "start_time": "2024-06-23T05:17:24.640Z"
   },
   {
    "duration": 6,
    "start_time": "2024-06-23T05:17:24.644Z"
   },
   {
    "duration": 8,
    "start_time": "2024-06-23T05:17:24.651Z"
   },
   {
    "duration": 5,
    "start_time": "2024-06-23T05:17:24.660Z"
   },
   {
    "duration": 30,
    "start_time": "2024-06-23T05:17:24.666Z"
   },
   {
    "duration": 25,
    "start_time": "2024-06-23T05:17:24.697Z"
   },
   {
    "duration": 12,
    "start_time": "2024-06-23T05:17:24.723Z"
   },
   {
    "duration": 18,
    "start_time": "2024-06-23T05:17:24.737Z"
   },
   {
    "duration": 6,
    "start_time": "2024-06-23T05:17:24.757Z"
   },
   {
    "duration": 7,
    "start_time": "2024-06-23T05:17:24.764Z"
   },
   {
    "duration": 8,
    "start_time": "2024-06-23T05:17:24.772Z"
   },
   {
    "duration": 32,
    "start_time": "2024-06-23T05:17:24.781Z"
   },
   {
    "duration": 4,
    "start_time": "2024-06-23T05:17:24.814Z"
   },
   {
    "duration": 7,
    "start_time": "2024-06-23T05:17:24.820Z"
   },
   {
    "duration": 7,
    "start_time": "2024-06-23T05:17:24.828Z"
   },
   {
    "duration": 477,
    "start_time": "2024-06-23T05:17:24.836Z"
   },
   {
    "duration": 3,
    "start_time": "2024-06-23T05:17:25.316Z"
   },
   {
    "duration": 335,
    "start_time": "2024-06-23T05:17:25.320Z"
   },
   {
    "duration": 338,
    "start_time": "2024-06-23T05:17:25.656Z"
   },
   {
    "duration": 348,
    "start_time": "2024-06-23T05:17:25.996Z"
   },
   {
    "duration": 4,
    "start_time": "2024-06-23T05:17:26.345Z"
   },
   {
    "duration": 9,
    "start_time": "2024-06-23T05:17:26.351Z"
   },
   {
    "duration": 29,
    "start_time": "2024-06-23T05:17:26.361Z"
   },
   {
    "duration": 8290,
    "start_time": "2024-06-23T14:31:29.183Z"
   },
   {
    "duration": 6119,
    "start_time": "2024-06-23T14:31:37.476Z"
   },
   {
    "duration": 4,
    "start_time": "2024-06-23T14:31:43.597Z"
   },
   {
    "duration": 4,
    "start_time": "2024-06-23T14:31:43.602Z"
   },
   {
    "duration": 5,
    "start_time": "2024-06-23T14:31:43.608Z"
   },
   {
    "duration": 5,
    "start_time": "2024-06-23T14:31:43.615Z"
   },
   {
    "duration": 20,
    "start_time": "2024-06-23T14:31:43.622Z"
   },
   {
    "duration": 5,
    "start_time": "2024-06-23T14:31:43.644Z"
   },
   {
    "duration": 6,
    "start_time": "2024-06-23T14:31:43.650Z"
   },
   {
    "duration": 1800,
    "start_time": "2024-06-23T14:31:43.657Z"
   },
   {
    "duration": 3,
    "start_time": "2024-06-23T14:31:45.459Z"
   },
   {
    "duration": 71,
    "start_time": "2024-06-23T14:31:45.463Z"
   },
   {
    "duration": 198,
    "start_time": "2024-06-23T14:31:45.535Z"
   },
   {
    "duration": 394,
    "start_time": "2024-06-23T14:31:45.736Z"
   },
   {
    "duration": 374,
    "start_time": "2024-06-23T14:31:46.132Z"
   },
   {
    "duration": 399,
    "start_time": "2024-06-23T14:31:46.508Z"
   },
   {
    "duration": 828,
    "start_time": "2024-06-23T14:31:46.909Z"
   },
   {
    "duration": 756,
    "start_time": "2024-06-23T14:31:47.739Z"
   },
   {
    "duration": 674,
    "start_time": "2024-06-23T14:31:48.497Z"
   },
   {
    "duration": 2,
    "start_time": "2024-06-23T14:31:49.173Z"
   },
   {
    "duration": 5,
    "start_time": "2024-06-23T14:31:49.177Z"
   },
   {
    "duration": 2482,
    "start_time": "2024-06-23T14:31:49.183Z"
   },
   {
    "duration": 91,
    "start_time": "2024-06-23T14:31:51.667Z"
   },
   {
    "duration": 100,
    "start_time": "2024-06-23T14:31:51.760Z"
   },
   {
    "duration": 34523,
    "start_time": "2024-06-23T14:31:51.866Z"
   },
   {
    "duration": 1775,
    "start_time": "2024-06-23T14:32:26.391Z"
   },
   {
    "duration": 84,
    "start_time": "2024-06-23T14:32:28.172Z"
   },
   {
    "duration": 13,
    "start_time": "2024-06-23T14:32:28.261Z"
   },
   {
    "duration": 34608,
    "start_time": "2024-06-23T14:32:28.363Z"
   },
   {
    "duration": 2306,
    "start_time": "2024-06-23T14:33:02.972Z"
   },
   {
    "duration": 86,
    "start_time": "2024-06-23T14:33:05.280Z"
   },
   {
    "duration": 87,
    "start_time": "2024-06-23T14:33:05.372Z"
   },
   {
    "duration": 34919,
    "start_time": "2024-06-23T14:33:05.461Z"
   },
   {
    "duration": 18,
    "start_time": "2024-06-23T14:33:40.383Z"
   },
   {
    "duration": 35,
    "start_time": "2024-06-23T14:33:40.403Z"
   },
   {
    "duration": 3141,
    "start_time": "2024-06-23T14:33:40.440Z"
   },
   {
    "duration": 83,
    "start_time": "2024-06-23T14:33:43.583Z"
   },
   {
    "duration": 88,
    "start_time": "2024-06-23T14:33:43.668Z"
   },
   {
    "duration": 101644,
    "start_time": "2024-06-23T14:33:43.758Z"
   },
   {
    "duration": 6,
    "start_time": "2024-06-23T14:35:25.405Z"
   },
   {
    "duration": 3,
    "start_time": "2024-06-23T14:35:25.420Z"
   },
   {
    "duration": 29,
    "start_time": "2024-06-23T14:35:25.426Z"
   },
   {
    "duration": 6,
    "start_time": "2024-06-23T14:35:25.458Z"
   },
   {
    "duration": 5,
    "start_time": "2024-06-23T14:35:25.466Z"
   },
   {
    "duration": 5,
    "start_time": "2024-06-23T14:35:25.473Z"
   },
   {
    "duration": 13,
    "start_time": "2024-06-23T14:35:25.480Z"
   },
   {
    "duration": 15,
    "start_time": "2024-06-23T14:35:25.495Z"
   },
   {
    "duration": 70,
    "start_time": "2024-06-23T14:35:25.513Z"
   },
   {
    "duration": 28,
    "start_time": "2024-06-23T14:35:25.585Z"
   },
   {
    "duration": 59,
    "start_time": "2024-06-23T14:35:25.616Z"
   },
   {
    "duration": 13,
    "start_time": "2024-06-23T14:35:25.678Z"
   },
   {
    "duration": 15,
    "start_time": "2024-06-23T14:35:25.693Z"
   },
   {
    "duration": 13,
    "start_time": "2024-06-23T14:35:25.710Z"
   },
   {
    "duration": 34,
    "start_time": "2024-06-23T14:35:25.725Z"
   },
   {
    "duration": 11,
    "start_time": "2024-06-23T14:35:25.761Z"
   },
   {
    "duration": 8,
    "start_time": "2024-06-23T14:35:25.774Z"
   },
   {
    "duration": 6,
    "start_time": "2024-06-23T14:35:25.784Z"
   },
   {
    "duration": 603,
    "start_time": "2024-06-23T14:35:25.793Z"
   },
   {
    "duration": 4,
    "start_time": "2024-06-23T14:35:26.398Z"
   },
   {
    "duration": 568,
    "start_time": "2024-06-23T14:35:26.404Z"
   },
   {
    "duration": 550,
    "start_time": "2024-06-23T14:35:26.974Z"
   },
   {
    "duration": 548,
    "start_time": "2024-06-23T14:35:27.526Z"
   },
   {
    "duration": 5,
    "start_time": "2024-06-23T14:35:28.075Z"
   },
   {
    "duration": 18,
    "start_time": "2024-06-23T14:35:28.081Z"
   },
   {
    "duration": 10,
    "start_time": "2024-06-23T14:35:28.100Z"
   },
   {
    "duration": 14,
    "start_time": "2024-06-23T14:38:14.865Z"
   },
   {
    "duration": 17,
    "start_time": "2024-06-23T15:59:40.967Z"
   },
   {
    "duration": 7964,
    "start_time": "2024-06-23T16:00:17.637Z"
   },
   {
    "duration": 2363,
    "start_time": "2024-06-23T16:00:25.604Z"
   },
   {
    "duration": 5,
    "start_time": "2024-06-23T16:00:27.969Z"
   },
   {
    "duration": 14,
    "start_time": "2024-06-23T16:00:27.976Z"
   },
   {
    "duration": 8,
    "start_time": "2024-06-23T16:00:27.993Z"
   },
   {
    "duration": 17,
    "start_time": "2024-06-23T16:00:28.004Z"
   },
   {
    "duration": 8,
    "start_time": "2024-06-23T16:00:28.023Z"
   },
   {
    "duration": 17,
    "start_time": "2024-06-23T16:00:28.034Z"
   },
   {
    "duration": 15,
    "start_time": "2024-06-23T16:00:28.053Z"
   },
   {
    "duration": 13,
    "start_time": "2024-06-23T16:00:28.070Z"
   },
   {
    "duration": 1705,
    "start_time": "2024-06-23T16:00:28.085Z"
   },
   {
    "duration": 3,
    "start_time": "2024-06-23T16:00:29.793Z"
   },
   {
    "duration": 68,
    "start_time": "2024-06-23T16:00:29.798Z"
   },
   {
    "duration": 227,
    "start_time": "2024-06-23T16:00:29.869Z"
   },
   {
    "duration": 408,
    "start_time": "2024-06-23T16:00:30.099Z"
   },
   {
    "duration": 357,
    "start_time": "2024-06-23T16:00:30.508Z"
   },
   {
    "duration": 485,
    "start_time": "2024-06-23T16:00:30.867Z"
   },
   {
    "duration": 988,
    "start_time": "2024-06-23T16:00:31.357Z"
   },
   {
    "duration": 660,
    "start_time": "2024-06-23T16:00:32.347Z"
   },
   {
    "duration": 757,
    "start_time": "2024-06-23T16:00:33.009Z"
   },
   {
    "duration": 3,
    "start_time": "2024-06-23T16:00:33.768Z"
   },
   {
    "duration": 19,
    "start_time": "2024-06-23T16:00:33.773Z"
   },
   {
    "duration": 2498,
    "start_time": "2024-06-23T16:00:33.794Z"
   },
   {
    "duration": 12,
    "start_time": "2024-06-23T16:00:36.296Z"
   },
   {
    "duration": 7,
    "start_time": "2024-06-23T16:00:36.392Z"
   },
   {
    "duration": 33220,
    "start_time": "2024-06-23T16:00:36.401Z"
   },
   {
    "duration": 2684,
    "start_time": "2024-06-23T16:01:09.623Z"
   },
   {
    "duration": 87,
    "start_time": "2024-06-23T16:01:12.313Z"
   },
   {
    "duration": 99,
    "start_time": "2024-06-23T16:01:12.402Z"
   },
   {
    "duration": 32811,
    "start_time": "2024-06-23T16:01:12.503Z"
   },
   {
    "duration": 2693,
    "start_time": "2024-06-23T16:01:45.315Z"
   },
   {
    "duration": 85,
    "start_time": "2024-06-23T16:01:48.011Z"
   },
   {
    "duration": 91,
    "start_time": "2024-06-23T16:01:48.101Z"
   },
   {
    "duration": 32420,
    "start_time": "2024-06-23T16:01:48.194Z"
   },
   {
    "duration": 13,
    "start_time": "2024-06-23T16:02:20.616Z"
   },
   {
    "duration": 55,
    "start_time": "2024-06-23T16:02:20.630Z"
   },
   {
    "duration": 3138,
    "start_time": "2024-06-23T16:02:20.687Z"
   },
   {
    "duration": 165,
    "start_time": "2024-06-23T16:02:23.828Z"
   },
   {
    "duration": 11,
    "start_time": "2024-06-23T16:02:23.996Z"
   },
   {
    "duration": 97497,
    "start_time": "2024-06-23T16:02:24.009Z"
   },
   {
    "duration": 5,
    "start_time": "2024-06-23T16:04:01.508Z"
   },
   {
    "duration": 39,
    "start_time": "2024-06-23T16:04:01.514Z"
   },
   {
    "duration": 26,
    "start_time": "2024-06-23T16:04:01.555Z"
   },
   {
    "duration": 25,
    "start_time": "2024-06-23T16:04:01.583Z"
   },
   {
    "duration": 24,
    "start_time": "2024-06-23T16:04:01.610Z"
   },
   {
    "duration": 42,
    "start_time": "2024-06-23T16:04:01.636Z"
   },
   {
    "duration": 82,
    "start_time": "2024-06-23T16:04:01.679Z"
   },
   {
    "duration": 49,
    "start_time": "2024-06-23T16:04:01.763Z"
   },
   {
    "duration": 68,
    "start_time": "2024-06-23T16:04:01.815Z"
   },
   {
    "duration": 30,
    "start_time": "2024-06-23T16:04:01.885Z"
   },
   {
    "duration": 37,
    "start_time": "2024-06-23T16:04:01.917Z"
   },
   {
    "duration": 72,
    "start_time": "2024-06-23T16:04:01.956Z"
   },
   {
    "duration": 65,
    "start_time": "2024-06-23T16:04:02.030Z"
   },
   {
    "duration": 21,
    "start_time": "2024-06-23T16:04:02.096Z"
   },
   {
    "duration": 49,
    "start_time": "2024-06-23T16:04:02.119Z"
   },
   {
    "duration": 27,
    "start_time": "2024-06-23T16:04:02.170Z"
   },
   {
    "duration": 40,
    "start_time": "2024-06-23T16:04:02.199Z"
   },
   {
    "duration": 20,
    "start_time": "2024-06-23T16:04:02.241Z"
   },
   {
    "duration": 518,
    "start_time": "2024-06-23T16:04:02.263Z"
   },
   {
    "duration": 3,
    "start_time": "2024-06-23T16:04:02.783Z"
   },
   {
    "duration": 523,
    "start_time": "2024-06-23T16:04:02.791Z"
   },
   {
    "duration": 538,
    "start_time": "2024-06-23T16:04:03.316Z"
   },
   {
    "duration": 493,
    "start_time": "2024-06-23T16:04:03.856Z"
   },
   {
    "duration": 5,
    "start_time": "2024-06-23T16:04:04.351Z"
   },
   {
    "duration": 10,
    "start_time": "2024-06-23T16:04:04.358Z"
   },
   {
    "duration": 16,
    "start_time": "2024-06-23T16:04:17.390Z"
   },
   {
    "duration": 14,
    "start_time": "2024-06-23T16:05:58.018Z"
   },
   {
    "duration": 156,
    "start_time": "2024-06-23T16:11:10.780Z"
   },
   {
    "duration": 15,
    "start_time": "2024-06-23T16:11:47.096Z"
   },
   {
    "duration": 16,
    "start_time": "2024-06-23T16:11:52.605Z"
   },
   {
    "duration": 16,
    "start_time": "2024-06-23T16:12:13.652Z"
   },
   {
    "duration": 16,
    "start_time": "2024-06-23T16:12:28.455Z"
   },
   {
    "duration": 7,
    "start_time": "2024-06-23T16:12:37.497Z"
   },
   {
    "duration": 13,
    "start_time": "2024-06-23T16:12:43.547Z"
   },
   {
    "duration": 10,
    "start_time": "2024-06-23T16:13:00.736Z"
   },
   {
    "duration": 22,
    "start_time": "2024-06-23T16:13:26.608Z"
   },
   {
    "duration": 12,
    "start_time": "2024-06-23T16:13:40.675Z"
   },
   {
    "duration": 503,
    "start_time": "2024-06-23T16:14:26.803Z"
   },
   {
    "duration": 864,
    "start_time": "2024-06-23T16:14:42.708Z"
   },
   {
    "duration": 10,
    "start_time": "2024-06-23T16:14:54.325Z"
   },
   {
    "duration": 15,
    "start_time": "2024-06-23T16:14:56.275Z"
   },
   {
    "duration": 5403,
    "start_time": "2024-06-23T16:15:30.510Z"
   },
   {
    "duration": 5,
    "start_time": "2024-06-23T16:15:35.916Z"
   },
   {
    "duration": 17,
    "start_time": "2024-06-23T16:15:35.923Z"
   },
   {
    "duration": 7,
    "start_time": "2024-06-23T16:15:35.942Z"
   },
   {
    "duration": 6,
    "start_time": "2024-06-23T16:15:35.950Z"
   },
   {
    "duration": 8,
    "start_time": "2024-06-23T16:15:35.957Z"
   },
   {
    "duration": 6,
    "start_time": "2024-06-23T16:15:35.967Z"
   },
   {
    "duration": 10,
    "start_time": "2024-06-23T16:15:35.974Z"
   },
   {
    "duration": 6,
    "start_time": "2024-06-23T16:15:36.241Z"
   },
   {
    "duration": 5,
    "start_time": "2024-06-23T16:15:36.672Z"
   },
   {
    "duration": 455,
    "start_time": "2024-06-23T16:15:39.893Z"
   },
   {
    "duration": 10,
    "start_time": "2024-06-23T16:15:40.667Z"
   },
   {
    "duration": 48,
    "start_time": "2024-06-23T16:15:41.501Z"
   },
   {
    "duration": 163,
    "start_time": "2024-06-23T16:15:42.795Z"
   },
   {
    "duration": 371,
    "start_time": "2024-06-23T16:15:44.007Z"
   },
   {
    "duration": 468,
    "start_time": "2024-06-23T16:15:45.131Z"
   },
   {
    "duration": 342,
    "start_time": "2024-06-23T16:15:45.940Z"
   },
   {
    "duration": 705,
    "start_time": "2024-06-23T16:15:49.124Z"
   },
   {
    "duration": 636,
    "start_time": "2024-06-23T16:15:50.375Z"
   },
   {
    "duration": 717,
    "start_time": "2024-06-23T16:15:51.957Z"
   },
   {
    "duration": 3,
    "start_time": "2024-06-23T16:15:56.493Z"
   },
   {
    "duration": 7,
    "start_time": "2024-06-23T16:15:57.066Z"
   },
   {
    "duration": 2468,
    "start_time": "2024-06-23T16:15:58.124Z"
   },
   {
    "duration": 6,
    "start_time": "2024-06-23T16:16:01.776Z"
   },
   {
    "duration": 4,
    "start_time": "2024-06-23T16:16:02.216Z"
   },
   {
    "duration": 33929,
    "start_time": "2024-06-23T16:16:03.187Z"
   },
   {
    "duration": 11,
    "start_time": "2024-06-23T16:16:37.118Z"
   },
   {
    "duration": 20,
    "start_time": "2024-06-23T16:16:40.090Z"
   },
   {
    "duration": 12,
    "start_time": "2024-06-23T16:16:52.733Z"
   },
   {
    "duration": 3,
    "start_time": "2024-06-23T16:17:31.710Z"
   },
   {
    "duration": 25,
    "start_time": "2024-06-23T16:19:05.544Z"
   },
   {
    "duration": 19,
    "start_time": "2024-06-23T16:19:25.076Z"
   },
   {
    "duration": 17,
    "start_time": "2024-06-23T16:19:45.133Z"
   },
   {
    "duration": 4,
    "start_time": "2024-06-23T16:19:56.280Z"
   },
   {
    "duration": 7,
    "start_time": "2024-06-23T16:19:58.672Z"
   },
   {
    "duration": 20,
    "start_time": "2024-06-23T16:20:05.684Z"
   },
   {
    "duration": 7,
    "start_time": "2024-06-23T16:22:14.507Z"
   },
   {
    "duration": 16,
    "start_time": "2024-06-23T16:22:16.712Z"
   },
   {
    "duration": 1842,
    "start_time": "2024-06-23T16:23:47.177Z"
   },
   {
    "duration": 9,
    "start_time": "2024-06-23T16:29:37.236Z"
   },
   {
    "duration": 16,
    "start_time": "2024-06-23T16:32:04.883Z"
   },
   {
    "duration": 3,
    "start_time": "2024-06-23T16:32:09.519Z"
   },
   {
    "duration": 3,
    "start_time": "2024-06-23T16:32:09.904Z"
   },
   {
    "duration": 2,
    "start_time": "2024-06-23T16:32:10.270Z"
   },
   {
    "duration": 4,
    "start_time": "2024-06-23T16:32:10.977Z"
   },
   {
    "duration": 4,
    "start_time": "2024-06-23T16:32:11.792Z"
   },
   {
    "duration": 4,
    "start_time": "2024-06-23T16:32:12.563Z"
   },
   {
    "duration": 5443,
    "start_time": "2024-06-23T16:38:22.998Z"
   },
   {
    "duration": 6,
    "start_time": "2024-06-23T16:38:28.444Z"
   },
   {
    "duration": 4,
    "start_time": "2024-06-23T16:38:28.452Z"
   },
   {
    "duration": 5,
    "start_time": "2024-06-23T16:38:28.458Z"
   },
   {
    "duration": 9,
    "start_time": "2024-06-23T16:38:28.464Z"
   },
   {
    "duration": 5,
    "start_time": "2024-06-23T16:38:28.475Z"
   },
   {
    "duration": 9,
    "start_time": "2024-06-23T16:38:28.481Z"
   },
   {
    "duration": 10,
    "start_time": "2024-06-23T16:38:28.491Z"
   },
   {
    "duration": 5,
    "start_time": "2024-06-23T16:38:28.503Z"
   },
   {
    "duration": 10,
    "start_time": "2024-06-23T16:38:28.511Z"
   },
   {
    "duration": 447,
    "start_time": "2024-06-23T16:38:28.523Z"
   },
   {
    "duration": 18,
    "start_time": "2024-06-23T16:38:28.972Z"
   },
   {
    "duration": 51,
    "start_time": "2024-06-23T16:38:28.992Z"
   },
   {
    "duration": 190,
    "start_time": "2024-06-23T16:38:29.045Z"
   },
   {
    "duration": 391,
    "start_time": "2024-06-23T16:38:29.236Z"
   },
   {
    "duration": 541,
    "start_time": "2024-06-23T16:38:29.629Z"
   },
   {
    "duration": 387,
    "start_time": "2024-06-23T16:38:30.172Z"
   },
   {
    "duration": 780,
    "start_time": "2024-06-23T16:38:30.562Z"
   },
   {
    "duration": 710,
    "start_time": "2024-06-23T16:38:31.344Z"
   },
   {
    "duration": 759,
    "start_time": "2024-06-23T16:38:32.057Z"
   },
   {
    "duration": 3,
    "start_time": "2024-06-23T16:38:32.818Z"
   },
   {
    "duration": 12,
    "start_time": "2024-06-23T16:38:32.823Z"
   },
   {
    "duration": 2063,
    "start_time": "2024-06-23T16:38:32.837Z"
   },
   {
    "duration": 91,
    "start_time": "2024-06-23T16:38:34.902Z"
   },
   {
    "duration": 8,
    "start_time": "2024-06-23T16:38:34.995Z"
   },
   {
    "duration": 34441,
    "start_time": "2024-06-23T16:38:35.092Z"
   },
   {
    "duration": 2462,
    "start_time": "2024-06-23T16:39:09.535Z"
   },
   {
    "duration": 94,
    "start_time": "2024-06-23T16:39:12.008Z"
   },
   {
    "duration": 102,
    "start_time": "2024-06-23T16:39:12.104Z"
   },
   {
    "duration": 34105,
    "start_time": "2024-06-23T16:39:12.208Z"
   },
   {
    "duration": 2489,
    "start_time": "2024-06-23T16:39:46.315Z"
   },
   {
    "duration": 89,
    "start_time": "2024-06-23T16:39:48.807Z"
   },
   {
    "duration": 8,
    "start_time": "2024-06-23T16:39:48.899Z"
   },
   {
    "duration": 33687,
    "start_time": "2024-06-23T16:39:48.910Z"
   },
   {
    "duration": 23,
    "start_time": "2024-06-23T16:40:22.598Z"
   },
   {
    "duration": 30,
    "start_time": "2024-06-23T16:40:22.623Z"
   },
   {
    "duration": 3068,
    "start_time": "2024-06-23T16:40:22.655Z"
   },
   {
    "duration": 74,
    "start_time": "2024-06-23T16:40:25.725Z"
   },
   {
    "duration": 97,
    "start_time": "2024-06-23T16:40:25.801Z"
   },
   {
    "duration": 107297,
    "start_time": "2024-06-23T16:40:25.899Z"
   },
   {
    "duration": 7,
    "start_time": "2024-06-23T16:42:13.198Z"
   },
   {
    "duration": 8,
    "start_time": "2024-06-23T16:42:13.207Z"
   },
   {
    "duration": 10,
    "start_time": "2024-06-23T16:42:13.217Z"
   },
   {
    "duration": 12,
    "start_time": "2024-06-23T16:42:13.229Z"
   },
   {
    "duration": 12,
    "start_time": "2024-06-23T16:42:13.243Z"
   },
   {
    "duration": 7,
    "start_time": "2024-06-23T16:42:13.258Z"
   },
   {
    "duration": 24,
    "start_time": "2024-06-23T16:42:13.267Z"
   },
   {
    "duration": 26,
    "start_time": "2024-06-23T16:42:13.294Z"
   },
   {
    "duration": 27,
    "start_time": "2024-06-23T16:42:13.322Z"
   },
   {
    "duration": 42,
    "start_time": "2024-06-23T16:42:13.350Z"
   },
   {
    "duration": 31,
    "start_time": "2024-06-23T16:42:13.394Z"
   },
   {
    "duration": 10,
    "start_time": "2024-06-23T16:42:13.427Z"
   },
   {
    "duration": 16,
    "start_time": "2024-06-23T16:42:13.439Z"
   },
   {
    "duration": 14,
    "start_time": "2024-06-23T16:42:13.457Z"
   },
   {
    "duration": 25,
    "start_time": "2024-06-23T16:42:13.473Z"
   },
   {
    "duration": 6,
    "start_time": "2024-06-23T16:42:13.501Z"
   },
   {
    "duration": 9,
    "start_time": "2024-06-23T16:42:13.509Z"
   },
   {
    "duration": 39,
    "start_time": "2024-06-23T16:42:13.520Z"
   },
   {
    "duration": 41,
    "start_time": "2024-06-23T16:42:13.562Z"
   },
   {
    "duration": 15,
    "start_time": "2024-06-23T16:42:13.605Z"
   },
   {
    "duration": 15,
    "start_time": "2024-06-23T16:42:13.622Z"
   },
   {
    "duration": 15,
    "start_time": "2024-06-23T16:42:13.639Z"
   },
   {
    "duration": 20,
    "start_time": "2024-06-23T16:42:13.656Z"
   },
   {
    "duration": 20,
    "start_time": "2024-06-23T16:42:13.678Z"
   },
   {
    "duration": 37,
    "start_time": "2024-06-23T16:42:13.700Z"
   },
   {
    "duration": 15,
    "start_time": "2024-06-23T16:42:13.739Z"
   },
   {
    "duration": 5,
    "start_time": "2024-06-23T16:42:13.756Z"
   },
   {
    "duration": 8,
    "start_time": "2024-06-23T16:42:13.764Z"
   },
   {
    "duration": 4,
    "start_time": "2024-06-23T16:42:13.774Z"
   },
   {
    "duration": 4,
    "start_time": "2024-06-23T16:42:13.780Z"
   },
   {
    "duration": 8,
    "start_time": "2024-06-23T16:42:13.786Z"
   },
   {
    "duration": 1979,
    "start_time": "2024-06-23T16:42:13.796Z"
   },
   {
    "duration": 3,
    "start_time": "2024-06-23T16:42:15.776Z"
   },
   {
    "duration": 2073,
    "start_time": "2024-06-23T16:42:15.780Z"
   },
   {
    "duration": 2,
    "start_time": "2024-06-23T16:42:17.892Z"
   },
   {
    "duration": 3465,
    "start_time": "2024-06-23T16:42:17.896Z"
   },
   {
    "duration": 6,
    "start_time": "2024-06-23T16:42:21.364Z"
   },
   {
    "duration": 33,
    "start_time": "2024-06-23T16:42:21.372Z"
   },
   {
    "duration": 25,
    "start_time": "2024-06-23T16:42:21.407Z"
   },
   {
    "duration": 67,
    "start_time": "2024-06-23T17:00:37.677Z"
   },
   {
    "duration": 6,
    "start_time": "2024-06-23T17:03:24.926Z"
   },
   {
    "duration": 6,
    "start_time": "2024-06-23T17:03:40.968Z"
   },
   {
    "duration": 5710,
    "start_time": "2024-06-23T17:03:58.838Z"
   },
   {
    "duration": 5,
    "start_time": "2024-06-23T17:04:04.551Z"
   },
   {
    "duration": 10,
    "start_time": "2024-06-23T17:04:04.558Z"
   },
   {
    "duration": 17,
    "start_time": "2024-06-23T17:04:04.571Z"
   },
   {
    "duration": 8,
    "start_time": "2024-06-23T17:04:04.590Z"
   },
   {
    "duration": 13,
    "start_time": "2024-06-23T17:04:04.601Z"
   },
   {
    "duration": 11,
    "start_time": "2024-06-23T17:04:04.617Z"
   },
   {
    "duration": 29,
    "start_time": "2024-06-23T17:04:04.630Z"
   },
   {
    "duration": 21,
    "start_time": "2024-06-23T17:04:04.661Z"
   },
   {
    "duration": 552,
    "start_time": "2024-06-23T17:04:04.685Z"
   },
   {
    "duration": 15,
    "start_time": "2024-06-23T17:04:05.239Z"
   },
   {
    "duration": 107,
    "start_time": "2024-06-23T17:04:05.256Z"
   },
   {
    "duration": 194,
    "start_time": "2024-06-23T17:04:05.365Z"
   },
   {
    "duration": 423,
    "start_time": "2024-06-23T17:04:05.561Z"
   },
   {
    "duration": 562,
    "start_time": "2024-06-23T17:04:05.985Z"
   },
   {
    "duration": 401,
    "start_time": "2024-06-23T17:04:06.548Z"
   },
   {
    "duration": 684,
    "start_time": "2024-06-23T17:04:06.951Z"
   },
   {
    "duration": 685,
    "start_time": "2024-06-23T17:04:07.637Z"
   },
   {
    "duration": 701,
    "start_time": "2024-06-23T17:04:08.324Z"
   },
   {
    "duration": 2,
    "start_time": "2024-06-23T17:04:09.027Z"
   },
   {
    "duration": 28,
    "start_time": "2024-06-23T17:04:09.030Z"
   },
   {
    "duration": 1741,
    "start_time": "2024-06-23T17:04:09.060Z"
   },
   {
    "duration": 100,
    "start_time": "2024-06-23T17:04:10.803Z"
   },
   {
    "duration": 80,
    "start_time": "2024-06-23T17:04:10.912Z"
   },
   {
    "duration": 35329,
    "start_time": "2024-06-23T17:04:10.995Z"
   },
   {
    "duration": 2088,
    "start_time": "2024-06-23T17:04:46.326Z"
   },
   {
    "duration": 85,
    "start_time": "2024-06-23T17:04:48.417Z"
   },
   {
    "duration": 111,
    "start_time": "2024-06-23T17:04:48.515Z"
   },
   {
    "duration": 35518,
    "start_time": "2024-06-23T17:04:48.628Z"
   },
   {
    "duration": 1968,
    "start_time": "2024-06-23T17:05:24.147Z"
   },
   {
    "duration": 77,
    "start_time": "2024-06-23T17:05:26.118Z"
   },
   {
    "duration": 5,
    "start_time": "2024-06-23T17:05:26.198Z"
   },
   {
    "duration": 35808,
    "start_time": "2024-06-23T17:05:26.205Z"
   },
   {
    "duration": 19,
    "start_time": "2024-06-23T17:06:02.016Z"
   },
   {
    "duration": 95,
    "start_time": "2024-06-23T17:06:02.037Z"
   },
   {
    "duration": 2687,
    "start_time": "2024-06-23T17:06:02.135Z"
   },
   {
    "duration": 87,
    "start_time": "2024-06-23T17:06:04.825Z"
   },
   {
    "duration": 5,
    "start_time": "2024-06-23T17:06:04.993Z"
   },
   {
    "duration": 107752,
    "start_time": "2024-06-23T17:06:05.000Z"
   },
   {
    "duration": 5,
    "start_time": "2024-06-23T17:07:52.791Z"
   },
   {
    "duration": 46,
    "start_time": "2024-06-23T17:07:52.799Z"
   },
   {
    "duration": 14,
    "start_time": "2024-06-23T17:07:52.847Z"
   },
   {
    "duration": 49,
    "start_time": "2024-06-23T17:07:52.863Z"
   },
   {
    "duration": 30,
    "start_time": "2024-06-23T17:07:52.915Z"
   },
   {
    "duration": 19,
    "start_time": "2024-06-23T17:07:52.947Z"
   },
   {
    "duration": 21,
    "start_time": "2024-06-23T17:07:52.967Z"
   },
   {
    "duration": 41,
    "start_time": "2024-06-23T17:07:52.990Z"
   },
   {
    "duration": 44,
    "start_time": "2024-06-23T17:07:53.033Z"
   },
   {
    "duration": 20,
    "start_time": "2024-06-23T17:07:53.078Z"
   },
   {
    "duration": 27,
    "start_time": "2024-06-23T17:07:53.100Z"
   },
   {
    "duration": 16,
    "start_time": "2024-06-23T17:07:53.129Z"
   },
   {
    "duration": 27,
    "start_time": "2024-06-23T17:07:53.147Z"
   },
   {
    "duration": 28,
    "start_time": "2024-06-23T17:07:53.176Z"
   },
   {
    "duration": 26,
    "start_time": "2024-06-23T17:07:53.208Z"
   },
   {
    "duration": 34,
    "start_time": "2024-06-23T17:07:53.237Z"
   },
   {
    "duration": 6,
    "start_time": "2024-06-23T17:07:53.273Z"
   },
   {
    "duration": 36,
    "start_time": "2024-06-23T17:07:53.281Z"
   },
   {
    "duration": 16,
    "start_time": "2024-06-23T17:07:53.320Z"
   },
   {
    "duration": 16,
    "start_time": "2024-06-23T17:07:53.337Z"
   },
   {
    "duration": 3,
    "start_time": "2024-06-23T17:07:53.355Z"
   },
   {
    "duration": 2051,
    "start_time": "2024-06-23T17:07:53.360Z"
   },
   {
    "duration": 3717,
    "start_time": "2024-06-23T17:07:55.420Z"
   },
   {
    "duration": 2050,
    "start_time": "2024-06-23T17:07:59.139Z"
   },
   {
    "duration": 9,
    "start_time": "2024-06-23T17:08:01.191Z"
   },
   {
    "duration": 126,
    "start_time": "2024-06-23T17:08:01.203Z"
   },
   {
    "duration": 83,
    "start_time": "2024-06-23T17:08:01.331Z"
   }
  ],
  "kernelspec": {
   "display_name": "Python 3 (ipykernel)",
   "language": "python",
   "name": "python3"
  },
  "language_info": {
   "codemirror_mode": {
    "name": "ipython",
    "version": 3
   },
   "file_extension": ".py",
   "mimetype": "text/x-python",
   "name": "python",
   "nbconvert_exporter": "python",
   "pygments_lexer": "ipython3",
   "version": "3.11.5"
  },
  "toc": {
   "base_numbering": 1,
   "nav_menu": {},
   "number_sections": true,
   "sideBar": true,
   "skip_h1_title": true,
   "title_cell": "Table of Contents",
   "title_sidebar": "Contents",
   "toc_cell": false,
   "toc_position": {
    "height": "calc(100% - 180px)",
    "left": "10px",
    "top": "150px",
    "width": "401.917px"
   },
   "toc_section_display": true,
   "toc_window_display": true
  }
 },
 "nbformat": 4,
 "nbformat_minor": 2
}
