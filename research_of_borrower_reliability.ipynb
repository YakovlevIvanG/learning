{
  "cells": [
    {
      "cell_type": "markdown",
      "id": "53b8411a",
      "metadata": {
        "deletable": false,
        "editable": false,
        "id": "53b8411a"
      },
      "source": [
        "# Исследование надежности заемщиков\n"
      ]
    },
    {
      "cell_type": "markdown",
      "id": "432d12e7",
      "metadata": {
        "deletable": false,
        "editable": false,
        "id": "432d12e7"
      },
      "source": [
        "Во второй части проекта вы выполните шаги 3 и 4. Их вручную проверит ревьюер.\n",
        "Чтобы вам не пришлось писать код заново для шагов 1 и 2, мы добавили авторские решения в ячейки с кодом.\n",
        "\n"
      ]
    },
    {
      "cell_type": "markdown",
      "id": "7e4f4e2c",
      "metadata": {
        "deletable": false,
        "editable": false,
        "id": "7e4f4e2c"
      },
      "source": [
        "## Откройте таблицу и изучите общую информацию о данных"
      ]
    },
    {
      "cell_type": "markdown",
      "id": "26e8e299",
      "metadata": {
        "deletable": false,
        "editable": false,
        "id": "26e8e299"
      },
      "source": [
        "**Задание 1. Импортируйте библиотеку pandas. Считайте данные из csv-файла в датафрейм и сохраните в переменную `data`. Путь к файлу:**\n",
        "\n",
        "`/datasets/data.csv`"
      ]
    },
    {
      "cell_type": "code",
      "execution_count": null,
      "id": "93d0ee87",
      "metadata": {
        "deletable": false,
        "id": "93d0ee87"
      },
      "outputs": [],
      "source": [
        "import pandas as pd\n",
        "\n",
        "try:\n",
        "    data = pd.read_csv('/datasets/data.csv')\n",
        "except:\n",
        "    data = pd.read_csv('https://code.s3.yandex.net/datasets/data.csv')"
      ]
    },
    {
      "cell_type": "markdown",
      "id": "4bfd9351",
      "metadata": {
        "deletable": false,
        "editable": false,
        "id": "4bfd9351"
      },
      "source": [
        "**Задание 2. Выведите первые 20 строчек датафрейма `data` на экран.**"
      ]
    },
    {
      "cell_type": "code",
      "execution_count": null,
      "id": "1b54991f",
      "metadata": {
        "deletable": false,
        "id": "1b54991f",
        "outputId": "1a8f3ef2-d323-4ec2-ddf7-89670b5944c4"
      },
      "outputs": [
        {
          "data": {
            "text/html": [
              "<div>\n",
              "<style scoped>\n",
              "    .dataframe tbody tr th:only-of-type {\n",
              "        vertical-align: middle;\n",
              "    }\n",
              "\n",
              "    .dataframe tbody tr th {\n",
              "        vertical-align: top;\n",
              "    }\n",
              "\n",
              "    .dataframe thead th {\n",
              "        text-align: right;\n",
              "    }\n",
              "</style>\n",
              "<table border=\"1\" class=\"dataframe\">\n",
              "  <thead>\n",
              "    <tr style=\"text-align: right;\">\n",
              "      <th></th>\n",
              "      <th>children</th>\n",
              "      <th>days_employed</th>\n",
              "      <th>dob_years</th>\n",
              "      <th>education</th>\n",
              "      <th>education_id</th>\n",
              "      <th>family_status</th>\n",
              "      <th>family_status_id</th>\n",
              "      <th>gender</th>\n",
              "      <th>income_type</th>\n",
              "      <th>debt</th>\n",
              "      <th>total_income</th>\n",
              "      <th>purpose</th>\n",
              "    </tr>\n",
              "  </thead>\n",
              "  <tbody>\n",
              "    <tr>\n",
              "      <th>0</th>\n",
              "      <td>1</td>\n",
              "      <td>-8437.673028</td>\n",
              "      <td>42</td>\n",
              "      <td>высшее</td>\n",
              "      <td>0</td>\n",
              "      <td>женат / замужем</td>\n",
              "      <td>0</td>\n",
              "      <td>F</td>\n",
              "      <td>сотрудник</td>\n",
              "      <td>0</td>\n",
              "      <td>253875.639453</td>\n",
              "      <td>покупка жилья</td>\n",
              "    </tr>\n",
              "    <tr>\n",
              "      <th>1</th>\n",
              "      <td>1</td>\n",
              "      <td>-4024.803754</td>\n",
              "      <td>36</td>\n",
              "      <td>среднее</td>\n",
              "      <td>1</td>\n",
              "      <td>женат / замужем</td>\n",
              "      <td>0</td>\n",
              "      <td>F</td>\n",
              "      <td>сотрудник</td>\n",
              "      <td>0</td>\n",
              "      <td>112080.014102</td>\n",
              "      <td>приобретение автомобиля</td>\n",
              "    </tr>\n",
              "    <tr>\n",
              "      <th>2</th>\n",
              "      <td>0</td>\n",
              "      <td>-5623.422610</td>\n",
              "      <td>33</td>\n",
              "      <td>Среднее</td>\n",
              "      <td>1</td>\n",
              "      <td>женат / замужем</td>\n",
              "      <td>0</td>\n",
              "      <td>M</td>\n",
              "      <td>сотрудник</td>\n",
              "      <td>0</td>\n",
              "      <td>145885.952297</td>\n",
              "      <td>покупка жилья</td>\n",
              "    </tr>\n",
              "    <tr>\n",
              "      <th>3</th>\n",
              "      <td>3</td>\n",
              "      <td>-4124.747207</td>\n",
              "      <td>32</td>\n",
              "      <td>среднее</td>\n",
              "      <td>1</td>\n",
              "      <td>женат / замужем</td>\n",
              "      <td>0</td>\n",
              "      <td>M</td>\n",
              "      <td>сотрудник</td>\n",
              "      <td>0</td>\n",
              "      <td>267628.550329</td>\n",
              "      <td>дополнительное образование</td>\n",
              "    </tr>\n",
              "    <tr>\n",
              "      <th>4</th>\n",
              "      <td>0</td>\n",
              "      <td>340266.072047</td>\n",
              "      <td>53</td>\n",
              "      <td>среднее</td>\n",
              "      <td>1</td>\n",
              "      <td>гражданский брак</td>\n",
              "      <td>1</td>\n",
              "      <td>F</td>\n",
              "      <td>пенсионер</td>\n",
              "      <td>0</td>\n",
              "      <td>158616.077870</td>\n",
              "      <td>сыграть свадьбу</td>\n",
              "    </tr>\n",
              "    <tr>\n",
              "      <th>5</th>\n",
              "      <td>0</td>\n",
              "      <td>-926.185831</td>\n",
              "      <td>27</td>\n",
              "      <td>высшее</td>\n",
              "      <td>0</td>\n",
              "      <td>гражданский брак</td>\n",
              "      <td>1</td>\n",
              "      <td>M</td>\n",
              "      <td>компаньон</td>\n",
              "      <td>0</td>\n",
              "      <td>255763.565419</td>\n",
              "      <td>покупка жилья</td>\n",
              "    </tr>\n",
              "    <tr>\n",
              "      <th>6</th>\n",
              "      <td>0</td>\n",
              "      <td>-2879.202052</td>\n",
              "      <td>43</td>\n",
              "      <td>высшее</td>\n",
              "      <td>0</td>\n",
              "      <td>женат / замужем</td>\n",
              "      <td>0</td>\n",
              "      <td>F</td>\n",
              "      <td>компаньон</td>\n",
              "      <td>0</td>\n",
              "      <td>240525.971920</td>\n",
              "      <td>операции с жильем</td>\n",
              "    </tr>\n",
              "    <tr>\n",
              "      <th>7</th>\n",
              "      <td>0</td>\n",
              "      <td>-152.779569</td>\n",
              "      <td>50</td>\n",
              "      <td>СРЕДНЕЕ</td>\n",
              "      <td>1</td>\n",
              "      <td>женат / замужем</td>\n",
              "      <td>0</td>\n",
              "      <td>M</td>\n",
              "      <td>сотрудник</td>\n",
              "      <td>0</td>\n",
              "      <td>135823.934197</td>\n",
              "      <td>образование</td>\n",
              "    </tr>\n",
              "    <tr>\n",
              "      <th>8</th>\n",
              "      <td>2</td>\n",
              "      <td>-6929.865299</td>\n",
              "      <td>35</td>\n",
              "      <td>ВЫСШЕЕ</td>\n",
              "      <td>0</td>\n",
              "      <td>гражданский брак</td>\n",
              "      <td>1</td>\n",
              "      <td>F</td>\n",
              "      <td>сотрудник</td>\n",
              "      <td>0</td>\n",
              "      <td>95856.832424</td>\n",
              "      <td>на проведение свадьбы</td>\n",
              "    </tr>\n",
              "    <tr>\n",
              "      <th>9</th>\n",
              "      <td>0</td>\n",
              "      <td>-2188.756445</td>\n",
              "      <td>41</td>\n",
              "      <td>среднее</td>\n",
              "      <td>1</td>\n",
              "      <td>женат / замужем</td>\n",
              "      <td>0</td>\n",
              "      <td>M</td>\n",
              "      <td>сотрудник</td>\n",
              "      <td>0</td>\n",
              "      <td>144425.938277</td>\n",
              "      <td>покупка жилья для семьи</td>\n",
              "    </tr>\n",
              "    <tr>\n",
              "      <th>10</th>\n",
              "      <td>2</td>\n",
              "      <td>-4171.483647</td>\n",
              "      <td>36</td>\n",
              "      <td>высшее</td>\n",
              "      <td>0</td>\n",
              "      <td>женат / замужем</td>\n",
              "      <td>0</td>\n",
              "      <td>M</td>\n",
              "      <td>компаньон</td>\n",
              "      <td>0</td>\n",
              "      <td>113943.491460</td>\n",
              "      <td>покупка недвижимости</td>\n",
              "    </tr>\n",
              "    <tr>\n",
              "      <th>11</th>\n",
              "      <td>0</td>\n",
              "      <td>-792.701887</td>\n",
              "      <td>40</td>\n",
              "      <td>среднее</td>\n",
              "      <td>1</td>\n",
              "      <td>женат / замужем</td>\n",
              "      <td>0</td>\n",
              "      <td>F</td>\n",
              "      <td>сотрудник</td>\n",
              "      <td>0</td>\n",
              "      <td>77069.234271</td>\n",
              "      <td>покупка коммерческой недвижимости</td>\n",
              "    </tr>\n",
              "    <tr>\n",
              "      <th>12</th>\n",
              "      <td>0</td>\n",
              "      <td>NaN</td>\n",
              "      <td>65</td>\n",
              "      <td>среднее</td>\n",
              "      <td>1</td>\n",
              "      <td>гражданский брак</td>\n",
              "      <td>1</td>\n",
              "      <td>M</td>\n",
              "      <td>пенсионер</td>\n",
              "      <td>0</td>\n",
              "      <td>NaN</td>\n",
              "      <td>сыграть свадьбу</td>\n",
              "    </tr>\n",
              "    <tr>\n",
              "      <th>13</th>\n",
              "      <td>0</td>\n",
              "      <td>-1846.641941</td>\n",
              "      <td>54</td>\n",
              "      <td>неоконченное высшее</td>\n",
              "      <td>2</td>\n",
              "      <td>женат / замужем</td>\n",
              "      <td>0</td>\n",
              "      <td>F</td>\n",
              "      <td>сотрудник</td>\n",
              "      <td>0</td>\n",
              "      <td>130458.228857</td>\n",
              "      <td>приобретение автомобиля</td>\n",
              "    </tr>\n",
              "    <tr>\n",
              "      <th>14</th>\n",
              "      <td>0</td>\n",
              "      <td>-1844.956182</td>\n",
              "      <td>56</td>\n",
              "      <td>высшее</td>\n",
              "      <td>0</td>\n",
              "      <td>гражданский брак</td>\n",
              "      <td>1</td>\n",
              "      <td>F</td>\n",
              "      <td>компаньон</td>\n",
              "      <td>1</td>\n",
              "      <td>165127.911772</td>\n",
              "      <td>покупка жилой недвижимости</td>\n",
              "    </tr>\n",
              "    <tr>\n",
              "      <th>15</th>\n",
              "      <td>1</td>\n",
              "      <td>-972.364419</td>\n",
              "      <td>26</td>\n",
              "      <td>среднее</td>\n",
              "      <td>1</td>\n",
              "      <td>женат / замужем</td>\n",
              "      <td>0</td>\n",
              "      <td>F</td>\n",
              "      <td>сотрудник</td>\n",
              "      <td>0</td>\n",
              "      <td>116820.904450</td>\n",
              "      <td>строительство собственной недвижимости</td>\n",
              "    </tr>\n",
              "    <tr>\n",
              "      <th>16</th>\n",
              "      <td>0</td>\n",
              "      <td>-1719.934226</td>\n",
              "      <td>35</td>\n",
              "      <td>среднее</td>\n",
              "      <td>1</td>\n",
              "      <td>женат / замужем</td>\n",
              "      <td>0</td>\n",
              "      <td>F</td>\n",
              "      <td>сотрудник</td>\n",
              "      <td>0</td>\n",
              "      <td>289202.704229</td>\n",
              "      <td>недвижимость</td>\n",
              "    </tr>\n",
              "    <tr>\n",
              "      <th>17</th>\n",
              "      <td>0</td>\n",
              "      <td>-2369.999720</td>\n",
              "      <td>33</td>\n",
              "      <td>высшее</td>\n",
              "      <td>0</td>\n",
              "      <td>гражданский брак</td>\n",
              "      <td>1</td>\n",
              "      <td>M</td>\n",
              "      <td>сотрудник</td>\n",
              "      <td>0</td>\n",
              "      <td>90410.586745</td>\n",
              "      <td>строительство недвижимости</td>\n",
              "    </tr>\n",
              "    <tr>\n",
              "      <th>18</th>\n",
              "      <td>0</td>\n",
              "      <td>400281.136913</td>\n",
              "      <td>53</td>\n",
              "      <td>среднее</td>\n",
              "      <td>1</td>\n",
              "      <td>вдовец / вдова</td>\n",
              "      <td>2</td>\n",
              "      <td>F</td>\n",
              "      <td>пенсионер</td>\n",
              "      <td>0</td>\n",
              "      <td>56823.777243</td>\n",
              "      <td>на покупку подержанного автомобиля</td>\n",
              "    </tr>\n",
              "    <tr>\n",
              "      <th>19</th>\n",
              "      <td>0</td>\n",
              "      <td>-10038.818549</td>\n",
              "      <td>48</td>\n",
              "      <td>СРЕДНЕЕ</td>\n",
              "      <td>1</td>\n",
              "      <td>в разводе</td>\n",
              "      <td>3</td>\n",
              "      <td>F</td>\n",
              "      <td>сотрудник</td>\n",
              "      <td>0</td>\n",
              "      <td>242831.107982</td>\n",
              "      <td>на покупку своего автомобиля</td>\n",
              "    </tr>\n",
              "  </tbody>\n",
              "</table>\n",
              "</div>"
            ],
            "text/plain": [
              "    children  days_employed  dob_years            education  education_id  \\\n",
              "0          1   -8437.673028         42               высшее             0   \n",
              "1          1   -4024.803754         36              среднее             1   \n",
              "2          0   -5623.422610         33              Среднее             1   \n",
              "3          3   -4124.747207         32              среднее             1   \n",
              "4          0  340266.072047         53              среднее             1   \n",
              "5          0    -926.185831         27               высшее             0   \n",
              "6          0   -2879.202052         43               высшее             0   \n",
              "7          0    -152.779569         50              СРЕДНЕЕ             1   \n",
              "8          2   -6929.865299         35               ВЫСШЕЕ             0   \n",
              "9          0   -2188.756445         41              среднее             1   \n",
              "10         2   -4171.483647         36               высшее             0   \n",
              "11         0    -792.701887         40              среднее             1   \n",
              "12         0            NaN         65              среднее             1   \n",
              "13         0   -1846.641941         54  неоконченное высшее             2   \n",
              "14         0   -1844.956182         56               высшее             0   \n",
              "15         1    -972.364419         26              среднее             1   \n",
              "16         0   -1719.934226         35              среднее             1   \n",
              "17         0   -2369.999720         33               высшее             0   \n",
              "18         0  400281.136913         53              среднее             1   \n",
              "19         0  -10038.818549         48              СРЕДНЕЕ             1   \n",
              "\n",
              "       family_status  family_status_id gender income_type  debt  \\\n",
              "0    женат / замужем                 0      F   сотрудник     0   \n",
              "1    женат / замужем                 0      F   сотрудник     0   \n",
              "2    женат / замужем                 0      M   сотрудник     0   \n",
              "3    женат / замужем                 0      M   сотрудник     0   \n",
              "4   гражданский брак                 1      F   пенсионер     0   \n",
              "5   гражданский брак                 1      M   компаньон     0   \n",
              "6    женат / замужем                 0      F   компаньон     0   \n",
              "7    женат / замужем                 0      M   сотрудник     0   \n",
              "8   гражданский брак                 1      F   сотрудник     0   \n",
              "9    женат / замужем                 0      M   сотрудник     0   \n",
              "10   женат / замужем                 0      M   компаньон     0   \n",
              "11   женат / замужем                 0      F   сотрудник     0   \n",
              "12  гражданский брак                 1      M   пенсионер     0   \n",
              "13   женат / замужем                 0      F   сотрудник     0   \n",
              "14  гражданский брак                 1      F   компаньон     1   \n",
              "15   женат / замужем                 0      F   сотрудник     0   \n",
              "16   женат / замужем                 0      F   сотрудник     0   \n",
              "17  гражданский брак                 1      M   сотрудник     0   \n",
              "18    вдовец / вдова                 2      F   пенсионер     0   \n",
              "19         в разводе                 3      F   сотрудник     0   \n",
              "\n",
              "     total_income                                 purpose  \n",
              "0   253875.639453                           покупка жилья  \n",
              "1   112080.014102                 приобретение автомобиля  \n",
              "2   145885.952297                           покупка жилья  \n",
              "3   267628.550329              дополнительное образование  \n",
              "4   158616.077870                         сыграть свадьбу  \n",
              "5   255763.565419                           покупка жилья  \n",
              "6   240525.971920                       операции с жильем  \n",
              "7   135823.934197                             образование  \n",
              "8    95856.832424                   на проведение свадьбы  \n",
              "9   144425.938277                 покупка жилья для семьи  \n",
              "10  113943.491460                    покупка недвижимости  \n",
              "11   77069.234271       покупка коммерческой недвижимости  \n",
              "12            NaN                         сыграть свадьбу  \n",
              "13  130458.228857                 приобретение автомобиля  \n",
              "14  165127.911772              покупка жилой недвижимости  \n",
              "15  116820.904450  строительство собственной недвижимости  \n",
              "16  289202.704229                            недвижимость  \n",
              "17   90410.586745              строительство недвижимости  \n",
              "18   56823.777243      на покупку подержанного автомобиля  \n",
              "19  242831.107982            на покупку своего автомобиля  "
            ]
          },
          "execution_count": 2,
          "metadata": {},
          "output_type": "execute_result"
        }
      ],
      "source": [
        "data.head(20)"
      ]
    },
    {
      "cell_type": "markdown",
      "id": "9e350e2b",
      "metadata": {
        "deletable": false,
        "editable": false,
        "id": "9e350e2b"
      },
      "source": [
        "**Задание 3. Выведите основную информацию о датафрейме с помощью метода `info()`.**"
      ]
    },
    {
      "cell_type": "code",
      "execution_count": null,
      "id": "de7d3fb0",
      "metadata": {
        "deletable": false,
        "id": "de7d3fb0",
        "outputId": "15376089-8dad-46c9-b520-c05248d43158"
      },
      "outputs": [
        {
          "name": "stdout",
          "output_type": "stream",
          "text": [
            "<class 'pandas.core.frame.DataFrame'>\n",
            "RangeIndex: 21525 entries, 0 to 21524\n",
            "Data columns (total 12 columns):\n",
            " #   Column            Non-Null Count  Dtype  \n",
            "---  ------            --------------  -----  \n",
            " 0   children          21525 non-null  int64  \n",
            " 1   days_employed     19351 non-null  float64\n",
            " 2   dob_years         21525 non-null  int64  \n",
            " 3   education         21525 non-null  object \n",
            " 4   education_id      21525 non-null  int64  \n",
            " 5   family_status     21525 non-null  object \n",
            " 6   family_status_id  21525 non-null  int64  \n",
            " 7   gender            21525 non-null  object \n",
            " 8   income_type       21525 non-null  object \n",
            " 9   debt              21525 non-null  int64  \n",
            " 10  total_income      19351 non-null  float64\n",
            " 11  purpose           21525 non-null  object \n",
            "dtypes: float64(2), int64(5), object(5)\n",
            "memory usage: 2.0+ MB\n"
          ]
        }
      ],
      "source": [
        "data.info()"
      ]
    },
    {
      "cell_type": "markdown",
      "id": "94e70ada",
      "metadata": {
        "deletable": false,
        "editable": false,
        "id": "94e70ada"
      },
      "source": [
        "## Предобработка данных"
      ]
    },
    {
      "cell_type": "markdown",
      "id": "eb498c95",
      "metadata": {
        "deletable": false,
        "editable": false,
        "id": "eb498c95"
      },
      "source": [
        "### Удаление пропусков"
      ]
    },
    {
      "cell_type": "markdown",
      "id": "27183ede",
      "metadata": {
        "deletable": false,
        "editable": false,
        "id": "27183ede"
      },
      "source": [
        "**Задание 4. Выведите количество пропущенных значений для каждого столбца. Используйте комбинацию двух методов.**"
      ]
    },
    {
      "cell_type": "code",
      "execution_count": null,
      "id": "0e0a50d8",
      "metadata": {
        "deletable": false,
        "id": "0e0a50d8",
        "outputId": "81f4d817-781c-465c-ed15-91ce4446810d"
      },
      "outputs": [
        {
          "data": {
            "text/plain": [
              "children               0\n",
              "days_employed       2174\n",
              "dob_years              0\n",
              "education              0\n",
              "education_id           0\n",
              "family_status          0\n",
              "family_status_id       0\n",
              "gender                 0\n",
              "income_type            0\n",
              "debt                   0\n",
              "total_income        2174\n",
              "purpose                0\n",
              "dtype: int64"
            ]
          },
          "execution_count": 4,
          "metadata": {},
          "output_type": "execute_result"
        }
      ],
      "source": [
        "data.isna().sum()"
      ]
    },
    {
      "cell_type": "markdown",
      "id": "40559835",
      "metadata": {
        "deletable": false,
        "editable": false,
        "id": "40559835"
      },
      "source": [
        "**Задание 5. В двух столбцах есть пропущенные значения. Один из них — `days_employed`. Пропуски в этом столбце вы обработаете на следующем этапе. Другой столбец с пропущенными значениями — `total_income` — хранит данные о доходах. На сумму дохода сильнее всего влияет тип занятости, поэтому заполнить пропуски в этом столбце нужно медианным значением по каждому типу из столбца `income_type`. Например, у человека с типом занятости `сотрудник` пропуск в столбце `total_income` должен быть заполнен медианным доходом среди всех записей с тем же типом.**"
      ]
    },
    {
      "cell_type": "code",
      "execution_count": null,
      "id": "46781585",
      "metadata": {
        "deletable": false,
        "id": "46781585"
      },
      "outputs": [],
      "source": [
        "for t in data['income_type'].unique():\n",
        "    data.loc[(data['income_type'] == t) & (data['total_income'].isna()), 'total_income'] = \\\n",
        "    data.loc[(data['income_type'] == t), 'total_income'].median()"
      ]
    },
    {
      "cell_type": "markdown",
      "id": "3e7ea89b",
      "metadata": {
        "deletable": false,
        "editable": false,
        "id": "3e7ea89b"
      },
      "source": [
        "### Обработка аномальных значений"
      ]
    },
    {
      "cell_type": "markdown",
      "id": "0ed40b15",
      "metadata": {
        "deletable": false,
        "editable": false,
        "id": "0ed40b15"
      },
      "source": [
        "**Задание 6. В данных могут встречаться артефакты (аномалии) — значения, которые не отражают действительность и появились по какой-то ошибке. таким артефактом будет отрицательное количество дней трудового стажа в столбце `days_employed`. Для реальных данных это нормально. Обработайте значения в этом столбце: замените все отрицательные значения положительными с помощью метода `abs()`.**"
      ]
    },
    {
      "cell_type": "code",
      "execution_count": null,
      "id": "db7f3ce5",
      "metadata": {
        "deletable": false,
        "id": "db7f3ce5"
      },
      "outputs": [],
      "source": [
        "data['days_employed'] = data['days_employed'].abs()"
      ]
    },
    {
      "cell_type": "markdown",
      "id": "0dc45547",
      "metadata": {
        "deletable": false,
        "editable": false,
        "id": "0dc45547"
      },
      "source": [
        "**Задание 7. Для каждого типа занятости выведите медианное значение трудового стажа `days_employed` в днях.**"
      ]
    },
    {
      "cell_type": "code",
      "execution_count": null,
      "id": "c4ef454c",
      "metadata": {
        "deletable": false,
        "id": "c4ef454c",
        "outputId": "801ef80e-522b-4668-f34e-565af7432bcf"
      },
      "outputs": [
        {
          "data": {
            "text/plain": [
              "income_type\n",
              "безработный        366413.652744\n",
              "в декрете            3296.759962\n",
              "госслужащий          2689.368353\n",
              "компаньон            1547.382223\n",
              "пенсионер          365213.306266\n",
              "предприниматель       520.848083\n",
              "сотрудник            1574.202821\n",
              "студент               578.751554\n",
              "Name: days_employed, dtype: float64"
            ]
          },
          "execution_count": 7,
          "metadata": {},
          "output_type": "execute_result"
        }
      ],
      "source": [
        "data.groupby('income_type')['days_employed'].agg('median')"
      ]
    },
    {
      "cell_type": "markdown",
      "id": "eca7cc7b",
      "metadata": {
        "deletable": false,
        "editable": false,
        "id": "eca7cc7b"
      },
      "source": [
        "У двух типов (безработные и пенсионеры) получатся аномально большие значения. Исправить такие значения сложно, поэтому оставьте их как есть. Тем более этот столбец не понадобится вам для исследования."
      ]
    },
    {
      "cell_type": "markdown",
      "id": "19271a8d",
      "metadata": {
        "deletable": false,
        "editable": false,
        "id": "19271a8d"
      },
      "source": [
        "**Задание 8. Выведите перечень уникальных значений столбца `children`.**"
      ]
    },
    {
      "cell_type": "code",
      "execution_count": null,
      "id": "af355294",
      "metadata": {
        "deletable": false,
        "id": "af355294",
        "outputId": "6975b15c-7f95-4697-d16d-a0c79b657b03"
      },
      "outputs": [
        {
          "data": {
            "text/plain": [
              "array([ 1,  0,  3,  2, -1,  4, 20,  5])"
            ]
          },
          "execution_count": 8,
          "metadata": {},
          "output_type": "execute_result"
        }
      ],
      "source": [
        "data['children'].unique()"
      ]
    },
    {
      "cell_type": "markdown",
      "id": "b0ef20ae",
      "metadata": {
        "deletable": false,
        "editable": false,
        "id": "b0ef20ae"
      },
      "source": [
        "**Задание 9. В столбце `children` есть два аномальных значения. Удалите строки, в которых встречаются такие аномальные значения из датафрейма `data`.**"
      ]
    },
    {
      "cell_type": "code",
      "execution_count": null,
      "id": "b489d5ad",
      "metadata": {
        "deletable": false,
        "id": "b489d5ad"
      },
      "outputs": [],
      "source": [
        "data = data[(data['children'] != -1) & (data['children'] != 20)]"
      ]
    },
    {
      "cell_type": "markdown",
      "id": "ea484baa",
      "metadata": {
        "deletable": false,
        "editable": false,
        "id": "ea484baa"
      },
      "source": [
        "**Задание 10. Ещё раз выведите перечень уникальных значений столбца `children`, чтобы убедиться, что артефакты удалены.**"
      ]
    },
    {
      "cell_type": "code",
      "execution_count": null,
      "id": "c0137117",
      "metadata": {
        "deletable": false,
        "id": "c0137117",
        "outputId": "b2097101-d49d-44d9-901b-32a65c9463d1"
      },
      "outputs": [
        {
          "data": {
            "text/plain": [
              "array([1, 0, 3, 2, 4, 5])"
            ]
          },
          "execution_count": 10,
          "metadata": {},
          "output_type": "execute_result"
        }
      ],
      "source": [
        "data['children'].unique()"
      ]
    },
    {
      "cell_type": "markdown",
      "id": "acdb63b3",
      "metadata": {
        "deletable": false,
        "editable": false,
        "id": "acdb63b3"
      },
      "source": [
        "### Удаление пропусков (продолжение)"
      ]
    },
    {
      "cell_type": "markdown",
      "id": "fc3f0172",
      "metadata": {
        "deletable": false,
        "editable": false,
        "id": "fc3f0172"
      },
      "source": [
        "**Задание 11. Заполните пропуски в столбце `days_employed` медианными значениями по каждого типа занятости `income_type`.**"
      ]
    },
    {
      "cell_type": "code",
      "execution_count": null,
      "id": "0ed37245",
      "metadata": {
        "deletable": false,
        "id": "0ed37245"
      },
      "outputs": [],
      "source": [
        "for t in data['income_type'].unique():\n",
        "    data.loc[(data['income_type'] == t) & (data['days_employed'].isna()), 'days_employed'] = \\\n",
        "    data.loc[(data['income_type'] == t), 'days_employed'].median()"
      ]
    },
    {
      "cell_type": "markdown",
      "id": "15a2df3f",
      "metadata": {
        "deletable": false,
        "editable": false,
        "id": "15a2df3f"
      },
      "source": [
        "**Задание 12. Убедитесь, что все пропуски заполнены. Проверьте себя и ещё раз выведите количество пропущенных значений для каждого столбца с помощью двух методов.**"
      ]
    },
    {
      "cell_type": "code",
      "execution_count": null,
      "id": "f6075576",
      "metadata": {
        "deletable": false,
        "id": "f6075576",
        "outputId": "8da1e4e1-358e-4e87-98c9-f261bce0a7b2"
      },
      "outputs": [
        {
          "data": {
            "text/plain": [
              "children            0\n",
              "days_employed       0\n",
              "dob_years           0\n",
              "education           0\n",
              "education_id        0\n",
              "family_status       0\n",
              "family_status_id    0\n",
              "gender              0\n",
              "income_type         0\n",
              "debt                0\n",
              "total_income        0\n",
              "purpose             0\n",
              "dtype: int64"
            ]
          },
          "execution_count": 12,
          "metadata": {},
          "output_type": "execute_result"
        }
      ],
      "source": [
        "data.isna().sum()"
      ]
    },
    {
      "cell_type": "markdown",
      "id": "32c026c3",
      "metadata": {
        "deletable": false,
        "editable": false,
        "id": "32c026c3"
      },
      "source": [
        "### Изменение типов данных"
      ]
    },
    {
      "cell_type": "markdown",
      "id": "bc57df8f",
      "metadata": {
        "deletable": false,
        "editable": false,
        "id": "bc57df8f"
      },
      "source": [
        "**Задание 13. Замените вещественный тип данных в столбце `total_income` на целочисленный с помощью метода `astype()`.**"
      ]
    },
    {
      "cell_type": "code",
      "execution_count": null,
      "id": "0706c8dd",
      "metadata": {
        "deletable": false,
        "id": "0706c8dd"
      },
      "outputs": [],
      "source": [
        "data['total_income'] = data['total_income'].astype(int)"
      ]
    },
    {
      "cell_type": "markdown",
      "id": "30546917",
      "metadata": {
        "deletable": false,
        "editable": false,
        "id": "30546917"
      },
      "source": [
        "### Обработка дубликатов"
      ]
    },
    {
      "cell_type": "markdown",
      "id": "3d9c820f",
      "metadata": {
        "deletable": false,
        "editable": false,
        "id": "3d9c820f"
      },
      "source": [
        "**Задание 14. Обработайте неявные дубликаты в столбце `education`. В этом столбце есть одни и те же значения, но записанные по-разному: с использованием заглавных и строчных букв. Приведите их к нижнему регистру. Проверьте остальные столбцы.**"
      ]
    },
    {
      "cell_type": "code",
      "execution_count": null,
      "id": "acae6858",
      "metadata": {
        "deletable": false,
        "id": "acae6858"
      },
      "outputs": [],
      "source": [
        "data['education'] = data['education'].str.lower()"
      ]
    },
    {
      "cell_type": "markdown",
      "id": "913676ef",
      "metadata": {
        "deletable": false,
        "editable": false,
        "id": "913676ef"
      },
      "source": [
        "**Задание 15. Выведите на экран количество строк-дубликатов в данных. Если такие строки присутствуют, удалите их.**"
      ]
    },
    {
      "cell_type": "code",
      "execution_count": null,
      "id": "a93068e5",
      "metadata": {
        "deletable": false,
        "id": "a93068e5",
        "outputId": "9684deba-1934-42d1-99e1-cda61740f822"
      },
      "outputs": [
        {
          "data": {
            "text/plain": [
              "71"
            ]
          },
          "execution_count": 15,
          "metadata": {},
          "output_type": "execute_result"
        }
      ],
      "source": [
        "data.duplicated().sum()"
      ]
    },
    {
      "cell_type": "code",
      "execution_count": null,
      "id": "db237c28",
      "metadata": {
        "deletable": false,
        "id": "db237c28"
      },
      "outputs": [],
      "source": [
        "data = data.drop_duplicates()"
      ]
    },
    {
      "cell_type": "markdown",
      "id": "2fa3ae28",
      "metadata": {
        "deletable": false,
        "editable": false,
        "id": "2fa3ae28"
      },
      "source": [
        "### Категоризация данных"
      ]
    },
    {
      "cell_type": "markdown",
      "id": "b21e5dc0",
      "metadata": {
        "deletable": false,
        "editable": false,
        "id": "b21e5dc0"
      },
      "source": [
        "**Задание 16. На основании диапазонов, указанных ниже, создайте в датафрейме `data` столбец `total_income_category` с категориями:**\n",
        "\n",
        "- 0–30000 — `'E'`;\n",
        "- 30001–50000 — `'D'`;\n",
        "- 50001–200000 — `'C'`;\n",
        "- 200001–1000000 — `'B'`;\n",
        "- 1000001 и выше — `'A'`.\n",
        "\n",
        "\n",
        "**Например, кредитополучателю с доходом 25000 нужно назначить категорию `'E'`, а клиенту, получающему 235000, — `'B'`. Используйте собственную функцию с именем `categorize_income()` и метод `apply()`.**"
      ]
    },
    {
      "cell_type": "code",
      "execution_count": null,
      "id": "493a0d26",
      "metadata": {
        "deletable": false,
        "id": "493a0d26"
      },
      "outputs": [],
      "source": [
        "def categorize_income(income):\n",
        "    try:\n",
        "        if 0 <= income <= 30000:\n",
        "            return 'E'\n",
        "        elif 30001 <= income <= 50000:\n",
        "            return 'D'\n",
        "        elif 50001 <= income <= 200000:\n",
        "            return 'C'\n",
        "        elif 200001 <= income <= 1000000:\n",
        "            return 'B'\n",
        "        elif income >= 1000001:\n",
        "            return 'A'\n",
        "    except:\n",
        "        pass"
      ]
    },
    {
      "cell_type": "code",
      "execution_count": null,
      "id": "99120715",
      "metadata": {
        "deletable": false,
        "id": "99120715"
      },
      "outputs": [],
      "source": [
        "data['total_income_category'] = data['total_income'].apply(categorize_income)"
      ]
    },
    {
      "cell_type": "markdown",
      "id": "0837312d",
      "metadata": {
        "deletable": false,
        "editable": false,
        "id": "0837312d"
      },
      "source": [
        "**Задание 17. Выведите на экран перечень уникальных целей взятия кредита из столбца `purpose`.**"
      ]
    },
    {
      "cell_type": "code",
      "execution_count": null,
      "id": "84c4a90e",
      "metadata": {
        "deletable": false,
        "id": "84c4a90e",
        "outputId": "673c12d9-7d7e-4ae0-9812-c622c89dd244"
      },
      "outputs": [
        {
          "data": {
            "text/plain": [
              "array(['покупка жилья', 'приобретение автомобиля',\n",
              "       'дополнительное образование', 'сыграть свадьбу',\n",
              "       'операции с жильем', 'образование', 'на проведение свадьбы',\n",
              "       'покупка жилья для семьи', 'покупка недвижимости',\n",
              "       'покупка коммерческой недвижимости', 'покупка жилой недвижимости',\n",
              "       'строительство собственной недвижимости', 'недвижимость',\n",
              "       'строительство недвижимости', 'на покупку подержанного автомобиля',\n",
              "       'на покупку своего автомобиля',\n",
              "       'операции с коммерческой недвижимостью',\n",
              "       'строительство жилой недвижимости', 'жилье',\n",
              "       'операции со своей недвижимостью', 'автомобили',\n",
              "       'заняться образованием', 'сделка с подержанным автомобилем',\n",
              "       'получение образования', 'автомобиль', 'свадьба',\n",
              "       'получение дополнительного образования', 'покупка своего жилья',\n",
              "       'операции с недвижимостью', 'получение высшего образования',\n",
              "       'свой автомобиль', 'сделка с автомобилем',\n",
              "       'профильное образование', 'высшее образование',\n",
              "       'покупка жилья для сдачи', 'на покупку автомобиля', 'ремонт жилью',\n",
              "       'заняться высшим образованием'], dtype=object)"
            ]
          },
          "execution_count": 19,
          "metadata": {},
          "output_type": "execute_result"
        }
      ],
      "source": [
        "data['purpose'].unique()"
      ]
    },
    {
      "cell_type": "markdown",
      "id": "446976c5",
      "metadata": {
        "deletable": false,
        "editable": false,
        "id": "446976c5"
      },
      "source": [
        "**Задание 18. Создайте функцию, которая на основании данных из столбца `purpose` сформирует новый столбец `purpose_category`, в который войдут следующие категории:**\n",
        "\n",
        "- `'операции с автомобилем'`,\n",
        "- `'операции с недвижимостью'`,\n",
        "- `'проведение свадьбы'`,\n",
        "- `'получение образования'`.\n",
        "\n",
        "**Например, если в столбце `purpose` находится подстрока `'на покупку автомобиля'`, то в столбце `purpose_category` должна появиться строка `'операции с автомобилем'`.**\n",
        "\n",
        "**Используйте собственную функцию с именем `categorize_purpose()` и метод `apply()`. Изучите данные в столбце `purpose` и определите, какие подстроки помогут вам правильно определить категорию.**"
      ]
    },
    {
      "cell_type": "code",
      "execution_count": null,
      "id": "adcb20e9",
      "metadata": {
        "deletable": false,
        "id": "adcb20e9"
      },
      "outputs": [],
      "source": [
        "def categorize_purpose(row):\n",
        "    try:\n",
        "        if 'автом' in row:\n",
        "            return 'операции с автомобилем'\n",
        "        elif 'жил' in row or 'недвиж' in row:\n",
        "            return 'операции с недвижимостью'\n",
        "        elif 'свад' in row:\n",
        "            return 'проведение свадьбы'\n",
        "        elif 'образов' in row:\n",
        "            return 'получение образования'\n",
        "    except:\n",
        "        return 'нет категории'"
      ]
    },
    {
      "cell_type": "code",
      "execution_count": null,
      "id": "3cc92990",
      "metadata": {
        "deletable": false,
        "id": "3cc92990"
      },
      "outputs": [],
      "source": [
        "data['purpose_category'] = data['purpose'].apply(categorize_purpose)"
      ]
    },
    {
      "cell_type": "markdown",
      "id": "5843d05f",
      "metadata": {
        "deletable": false,
        "editable": false,
        "id": "5843d05f"
      },
      "source": [
        "### Шаг 3. Исследуйте данные и ответьте на вопросы"
      ]
    },
    {
      "cell_type": "markdown",
      "id": "a6d3a2c0",
      "metadata": {
        "deletable": false,
        "editable": false,
        "id": "a6d3a2c0"
      },
      "source": [
        "#### 3.1 Есть ли зависимость между количеством детей и возвратом кредита в срок?"
      ]
    },
    {
      "cell_type": "markdown",
      "id": "6bf945a6",
      "metadata": {
        "id": "6bf945a6"
      },
      "source": [
        "Сделаем выборки семей без детей и с детьми:"
      ]
    },
    {
      "cell_type": "code",
      "execution_count": null,
      "id": "d0655196",
      "metadata": {
        "deletable": false,
        "id": "d0655196"
      },
      "outputs": [],
      "source": [
        "data_without_children = data.loc[data['children'] == 0]\n",
        "data_with_children = data.loc[data['children'] > 0]"
      ]
    },
    {
      "cell_type": "markdown",
      "id": "f9edbbc1",
      "metadata": {
        "id": "f9edbbc1"
      },
      "source": [
        "Теперь посчитаем среднее значение по столбцу debt для обоих групп населения:"
      ]
    },
    {
      "cell_type": "code",
      "execution_count": null,
      "id": "842189ac",
      "metadata": {
        "id": "842189ac",
        "outputId": "c8d16c1c-64b6-4419-bfe3-891956ce74b4"
      },
      "outputs": [
        {
          "name": "stdout",
          "output_type": "stream",
          "text": [
            "Без детей 0.0754\n",
            "С детьми 0.0924\n"
          ]
        }
      ],
      "source": [
        "print('Без детей', round(data_without_children['debt'].mean(), 4))\n",
        "print('С детьми', round(data_with_children['debt'].mean(), 4))"
      ]
    },
    {
      "cell_type": "markdown",
      "id": "7daf9ce9",
      "metadata": {
        "id": "7daf9ce9"
      },
      "source": [
        "Как видно, есть разница между людьми с детьми и людьми без детей. Рассчитаем, насколько эти величины соотносятся между собой:"
      ]
    },
    {
      "cell_type": "code",
      "execution_count": null,
      "id": "efba4303",
      "metadata": {
        "id": "efba4303",
        "outputId": "95bdcff6-71b6-4206-98d9-d3b22fa84e21"
      },
      "outputs": [
        {
          "data": {
            "text/plain": [
              "18.4"
            ]
          },
          "execution_count": 24,
          "metadata": {},
          "output_type": "execute_result"
        }
      ],
      "source": [
        "round((1 - round(data_without_children['debt'].mean(), 4) / round(data_with_children['debt'].mean(), 4)) * 100, 1)"
      ]
    },
    {
      "cell_type": "markdown",
      "id": "f1410f53",
      "metadata": {
        "id": "f1410f53"
      },
      "source": [
        "Получается, что у людей с детьми задолжностей по кредитам в среднем на 18,4 % больше, чем у людей без детей. Теперь посмотрим, как распределяются задолжности в зависимости от количества детей:"
      ]
    },
    {
      "cell_type": "code",
      "execution_count": null,
      "id": "9d59f307",
      "metadata": {
        "id": "9d59f307",
        "outputId": "c76db76b-2957-4e2d-df38-d6bfc705b3bd"
      },
      "outputs": [
        {
          "data": {
            "text/plain": [
              "children\n",
              "1    0.0923\n",
              "2    0.0945\n",
              "3    0.0818\n",
              "4    0.0976\n",
              "5    0.0000\n",
              "Name: debt, dtype: float64"
            ]
          },
          "execution_count": 25,
          "metadata": {},
          "output_type": "execute_result"
        }
      ],
      "source": [
        "round(data_with_children.groupby('children')['debt'].mean(), 4)"
      ]
    },
    {
      "cell_type": "markdown",
      "id": "56ab674a",
      "metadata": {
        "id": "56ab674a"
      },
      "source": [
        "Прослеживается зависимость: чем больше детей, тем больше задолжностей по кредитам. Однако, тут есть аномальные значения:\n",
        "1. У людей с тремя детьми задолжностей меньше, чем даже у людей с одним ребенком. Предполагаемое объяснение: случайное выпадающее значение.\n",
        "2. У людей с пятью детьми задолжностей нет вообще. Возможное объяснение: малая выборка. Проверим это наблюдение:"
      ]
    },
    {
      "cell_type": "code",
      "execution_count": null,
      "id": "bf45511e",
      "metadata": {
        "id": "bf45511e",
        "outputId": "25678ef8-b9f2-457f-99df-b1219e688e77"
      },
      "outputs": [
        {
          "data": {
            "text/plain": [
              "children\n",
              "1    4808\n",
              "2    2052\n",
              "3     330\n",
              "4      41\n",
              "5       9\n",
              "Name: debt, dtype: int64"
            ]
          },
          "execution_count": 26,
          "metadata": {},
          "output_type": "execute_result"
        }
      ],
      "source": [
        "data_with_children.groupby('children')['debt'].count()"
      ]
    },
    {
      "cell_type": "markdown",
      "id": "648a0241",
      "metadata": {
        "id": "648a0241"
      },
      "source": [
        "Как и следовало ожидать. На всю выборку в 21525 строк всего 9 человек имеют 5 детей."
      ]
    },
    {
      "cell_type": "code",
      "execution_count": null,
      "id": "bc97fada",
      "metadata": {
        "id": "bc97fada",
        "outputId": "9d83ee57-ab31-4721-d5e3-def4875fe51a"
      },
      "outputs": [
        {
          "data": {
            "text/html": [
              "<div>\n",
              "<style scoped>\n",
              "    .dataframe tbody tr th:only-of-type {\n",
              "        vertical-align: middle;\n",
              "    }\n",
              "\n",
              "    .dataframe tbody tr th {\n",
              "        vertical-align: top;\n",
              "    }\n",
              "\n",
              "    .dataframe thead th {\n",
              "        text-align: right;\n",
              "    }\n",
              "</style>\n",
              "<table border=\"1\" class=\"dataframe\">\n",
              "  <thead>\n",
              "    <tr style=\"text-align: right;\">\n",
              "      <th></th>\n",
              "      <th>debt</th>\n",
              "      <th>numb_debt</th>\n",
              "      <th>mean_debt</th>\n",
              "    </tr>\n",
              "    <tr>\n",
              "      <th>children</th>\n",
              "      <th></th>\n",
              "      <th></th>\n",
              "      <th></th>\n",
              "    </tr>\n",
              "  </thead>\n",
              "  <tbody>\n",
              "    <tr>\n",
              "      <th>0</th>\n",
              "      <td>14091</td>\n",
              "      <td>1063.0</td>\n",
              "      <td>0.0754</td>\n",
              "    </tr>\n",
              "    <tr>\n",
              "      <th>1</th>\n",
              "      <td>4808</td>\n",
              "      <td>444.0</td>\n",
              "      <td>0.0923</td>\n",
              "    </tr>\n",
              "    <tr>\n",
              "      <th>2</th>\n",
              "      <td>2052</td>\n",
              "      <td>194.0</td>\n",
              "      <td>0.0945</td>\n",
              "    </tr>\n",
              "    <tr>\n",
              "      <th>3</th>\n",
              "      <td>330</td>\n",
              "      <td>27.0</td>\n",
              "      <td>0.0818</td>\n",
              "    </tr>\n",
              "    <tr>\n",
              "      <th>4</th>\n",
              "      <td>41</td>\n",
              "      <td>4.0</td>\n",
              "      <td>0.0976</td>\n",
              "    </tr>\n",
              "    <tr>\n",
              "      <th>5</th>\n",
              "      <td>9</td>\n",
              "      <td>NaN</td>\n",
              "      <td>0.0000</td>\n",
              "    </tr>\n",
              "  </tbody>\n",
              "</table>\n",
              "</div>"
            ],
            "text/plain": [
              "           debt  numb_debt  mean_debt\n",
              "children                             \n",
              "0         14091     1063.0     0.0754\n",
              "1          4808      444.0     0.0923\n",
              "2          2052      194.0     0.0945\n",
              "3           330       27.0     0.0818\n",
              "4            41        4.0     0.0976\n",
              "5             9        NaN     0.0000"
            ]
          },
          "execution_count": 27,
          "metadata": {},
          "output_type": "execute_result"
        }
      ],
      "source": [
        "data_pivot_children = data.pivot_table(index='children', values='debt', aggfunc='count')\n",
        "data_pivot_children['numb_debt'] = data.loc[data['debt'] != 0].groupby('children')['debt'].count()  # число должников.\n",
        "data_pivot_children['mean_debt'] = round(data.groupby('children')['debt'].mean(), 4)  # средняя доля должников в каждой категории людей.\n",
        "data_pivot_children"
      ]
    },
    {
      "cell_type": "markdown",
      "id": "4111fce7",
      "metadata": {
        "deletable": false,
        "id": "4111fce7"
      },
      "source": [
        "**Выводы:**\n",
        "1. Люди с детьми в среднем допускают просрочку по кредиту на 18,4 % чаще, чем люди без детей.\n",
        "2. Чем больше детей у человека, тем больше вероятность возникновения задолжности."
      ]
    },
    {
      "cell_type": "markdown",
      "id": "249e8ef0",
      "metadata": {
        "deletable": false,
        "editable": false,
        "id": "249e8ef0"
      },
      "source": [
        "#### 3.2 Есть ли зависимость между семейным положением и возвратом кредита в срок?"
      ]
    },
    {
      "cell_type": "markdown",
      "id": "c238b8e4",
      "metadata": {
        "id": "c238b8e4"
      },
      "source": [
        "Посчитаем среднее значение задолжностей по каждому семейному статусу:"
      ]
    },
    {
      "cell_type": "code",
      "execution_count": null,
      "id": "9da99fc6",
      "metadata": {
        "deletable": false,
        "id": "9da99fc6",
        "outputId": "9a8c5907-af7f-4864-8934-ebb350366117"
      },
      "outputs": [
        {
          "data": {
            "text/plain": [
              "family_status\n",
              "вдовец / вдова           0.0662\n",
              "в разводе                0.0706\n",
              "женат / замужем          0.0756\n",
              "гражданский брак         0.0931\n",
              "Не женат / не замужем    0.0976\n",
              "Name: debt, dtype: float64"
            ]
          },
          "execution_count": 28,
          "metadata": {},
          "output_type": "execute_result"
        }
      ],
      "source": [
        "data_family_debt_mean = data.groupby('family_status')['debt'].mean()\n",
        "round(data_family_debt_mean.sort_values(), 4)"
      ]
    },
    {
      "cell_type": "code",
      "execution_count": null,
      "id": "375d2df7",
      "metadata": {
        "id": "375d2df7",
        "outputId": "c0b1e7c7-2810-4f32-de4f-b3d2b6735b1a"
      },
      "outputs": [
        {
          "data": {
            "text/html": [
              "<div>\n",
              "<style scoped>\n",
              "    .dataframe tbody tr th:only-of-type {\n",
              "        vertical-align: middle;\n",
              "    }\n",
              "\n",
              "    .dataframe tbody tr th {\n",
              "        vertical-align: top;\n",
              "    }\n",
              "\n",
              "    .dataframe thead th {\n",
              "        text-align: right;\n",
              "    }\n",
              "</style>\n",
              "<table border=\"1\" class=\"dataframe\">\n",
              "  <thead>\n",
              "    <tr style=\"text-align: right;\">\n",
              "      <th></th>\n",
              "      <th>debt</th>\n",
              "      <th>numb_debt</th>\n",
              "      <th>mean_debt</th>\n",
              "    </tr>\n",
              "    <tr>\n",
              "      <th>family_status</th>\n",
              "      <th></th>\n",
              "      <th></th>\n",
              "      <th></th>\n",
              "    </tr>\n",
              "  </thead>\n",
              "  <tbody>\n",
              "    <tr>\n",
              "      <th>вдовец / вдова</th>\n",
              "      <td>951</td>\n",
              "      <td>63</td>\n",
              "      <td>0.0662</td>\n",
              "    </tr>\n",
              "    <tr>\n",
              "      <th>в разводе</th>\n",
              "      <td>1189</td>\n",
              "      <td>84</td>\n",
              "      <td>0.0706</td>\n",
              "    </tr>\n",
              "    <tr>\n",
              "      <th>женат / замужем</th>\n",
              "      <td>12261</td>\n",
              "      <td>927</td>\n",
              "      <td>0.0756</td>\n",
              "    </tr>\n",
              "    <tr>\n",
              "      <th>гражданский брак</th>\n",
              "      <td>4134</td>\n",
              "      <td>385</td>\n",
              "      <td>0.0931</td>\n",
              "    </tr>\n",
              "    <tr>\n",
              "      <th>Не женат / не замужем</th>\n",
              "      <td>2796</td>\n",
              "      <td>273</td>\n",
              "      <td>0.0976</td>\n",
              "    </tr>\n",
              "  </tbody>\n",
              "</table>\n",
              "</div>"
            ],
            "text/plain": [
              "                        debt  numb_debt  mean_debt\n",
              "family_status                                     \n",
              "вдовец / вдова           951         63     0.0662\n",
              "в разводе               1189         84     0.0706\n",
              "женат / замужем        12261        927     0.0756\n",
              "гражданский брак        4134        385     0.0931\n",
              "Не женат / не замужем   2796        273     0.0976"
            ]
          },
          "execution_count": 29,
          "metadata": {},
          "output_type": "execute_result"
        }
      ],
      "source": [
        "data_pivot_family_status = data.pivot_table(index='family_status', values='debt', aggfunc='count')\n",
        "data_pivot_family_status['numb_debt'] = data.loc[data['debt'] != 0].groupby('family_status')['debt'].count()  # число должников.\n",
        "data_pivot_family_status['mean_debt'] = round(data.groupby('family_status')['debt'].mean(), 4)  # средняя доля должников в каждой категории людей.\n",
        "data_pivot_family_status.sort_values(by='mean_debt')"
      ]
    },
    {
      "cell_type": "markdown",
      "id": "b37a03ee",
      "metadata": {
        "id": "b37a03ee"
      },
      "source": [
        "Из расчета видно, что наименьшее число задолжностей у людей, которые вдовцы/вдовы. Возможно, это связано с возрастом. Проверим эту гипотезу:"
      ]
    },
    {
      "cell_type": "code",
      "execution_count": null,
      "id": "fb161913",
      "metadata": {
        "id": "fb161913",
        "outputId": "38e57592-160e-4b8f-dc0a-ee864d774cef"
      },
      "outputs": [
        {
          "data": {
            "text/plain": [
              "family_status\n",
              "Не женат / не замужем    38.37\n",
              "гражданский брак         42.07\n",
              "женат / замужем          43.56\n",
              "в разводе                45.56\n",
              "вдовец / вдова           56.50\n",
              "Name: dob_years, dtype: float64"
            ]
          },
          "execution_count": 30,
          "metadata": {},
          "output_type": "execute_result"
        }
      ],
      "source": [
        "data_age_group_mean = data.groupby('family_status')['dob_years'].mean()\n",
        "round(data_age_group_mean.sort_values(), 2)"
      ]
    },
    {
      "cell_type": "markdown",
      "id": "e0931f9b",
      "metadata": {
        "id": "e0931f9b"
      },
      "source": [
        "Гипотеза подтвердилась. Вдовцы и вдовы имеют высокий средний возраст."
      ]
    },
    {
      "cell_type": "markdown",
      "id": "74e78f84",
      "metadata": {
        "deletable": false,
        "id": "74e78f84"
      },
      "source": [
        "**Вывод:** Вдовцы/вдовы наиболее надежные заемщики.\n",
        "Наименее надежные заемщики - неженатые люди."
      ]
    },
    {
      "cell_type": "markdown",
      "id": "bca22ef1",
      "metadata": {
        "deletable": false,
        "editable": false,
        "id": "bca22ef1"
      },
      "source": [
        "#### 3.3 Есть ли зависимость между уровнем дохода и возвратом кредита в срок?"
      ]
    },
    {
      "cell_type": "markdown",
      "id": "a9034cda",
      "metadata": {
        "id": "a9034cda"
      },
      "source": [
        "Посчитаем среднее значение задолжностей по каждой категории доходов:"
      ]
    },
    {
      "cell_type": "code",
      "execution_count": null,
      "id": "b377e5cb",
      "metadata": {
        "deletable": false,
        "id": "b377e5cb",
        "outputId": "36de946d-0714-4c6e-e2e0-05d5d94e5aa8"
      },
      "outputs": [
        {
          "data": {
            "text/plain": [
              "total_income_category\n",
              "D    0.0602\n",
              "B    0.0706\n",
              "A    0.0800\n",
              "C    0.0850\n",
              "E    0.0909\n",
              "Name: debt, dtype: float64"
            ]
          },
          "execution_count": 31,
          "metadata": {},
          "output_type": "execute_result"
        }
      ],
      "source": [
        "data_income_debt_mean = data.groupby('total_income_category')['debt'].mean()\n",
        "round(data_income_debt_mean.sort_values(), 4)"
      ]
    },
    {
      "cell_type": "code",
      "execution_count": null,
      "id": "8bce9922",
      "metadata": {
        "id": "8bce9922",
        "outputId": "ca1aaa26-d00f-47d1-a3b2-820d4e1d0a39"
      },
      "outputs": [
        {
          "data": {
            "text/html": [
              "<div>\n",
              "<style scoped>\n",
              "    .dataframe tbody tr th:only-of-type {\n",
              "        vertical-align: middle;\n",
              "    }\n",
              "\n",
              "    .dataframe tbody tr th {\n",
              "        vertical-align: top;\n",
              "    }\n",
              "\n",
              "    .dataframe thead th {\n",
              "        text-align: right;\n",
              "    }\n",
              "</style>\n",
              "<table border=\"1\" class=\"dataframe\">\n",
              "  <thead>\n",
              "    <tr style=\"text-align: right;\">\n",
              "      <th></th>\n",
              "      <th>debt</th>\n",
              "      <th>numb_debt</th>\n",
              "      <th>mean_debt</th>\n",
              "    </tr>\n",
              "    <tr>\n",
              "      <th>total_income_category</th>\n",
              "      <th></th>\n",
              "      <th></th>\n",
              "      <th></th>\n",
              "    </tr>\n",
              "  </thead>\n",
              "  <tbody>\n",
              "    <tr>\n",
              "      <th>A</th>\n",
              "      <td>25</td>\n",
              "      <td>2</td>\n",
              "      <td>0.0800</td>\n",
              "    </tr>\n",
              "    <tr>\n",
              "      <th>B</th>\n",
              "      <td>5014</td>\n",
              "      <td>354</td>\n",
              "      <td>0.0706</td>\n",
              "    </tr>\n",
              "    <tr>\n",
              "      <th>C</th>\n",
              "      <td>15921</td>\n",
              "      <td>1353</td>\n",
              "      <td>0.0850</td>\n",
              "    </tr>\n",
              "    <tr>\n",
              "      <th>D</th>\n",
              "      <td>349</td>\n",
              "      <td>21</td>\n",
              "      <td>0.0602</td>\n",
              "    </tr>\n",
              "    <tr>\n",
              "      <th>E</th>\n",
              "      <td>22</td>\n",
              "      <td>2</td>\n",
              "      <td>0.0909</td>\n",
              "    </tr>\n",
              "  </tbody>\n",
              "</table>\n",
              "</div>"
            ],
            "text/plain": [
              "                        debt  numb_debt  mean_debt\n",
              "total_income_category                             \n",
              "A                         25          2     0.0800\n",
              "B                       5014        354     0.0706\n",
              "C                      15921       1353     0.0850\n",
              "D                        349         21     0.0602\n",
              "E                         22          2     0.0909"
            ]
          },
          "execution_count": 32,
          "metadata": {},
          "output_type": "execute_result"
        }
      ],
      "source": [
        "data_pivot_total_income = data.pivot_table(index='total_income_category', values='debt', aggfunc='count')\n",
        "data_pivot_total_income['numb_debt'] = data.loc[data['debt'] != 0].groupby('total_income_category')['debt'].count()  # число должников.\n",
        "data_pivot_total_income['mean_debt'] = round(data.groupby('total_income_category')['debt'].mean(), 4)  # средняя доля должников в каждой категории людей.\n",
        "data_pivot_total_income"
      ]
    },
    {
      "cell_type": "markdown",
      "id": "3360e7bc",
      "metadata": {
        "deletable": false,
        "id": "3360e7bc"
      },
      "source": [
        "**Вывод:** в категории А и категории Е (очень высокий и очень низкий доход) людей очень мало. В связи с этим, выводы сделать затруднительно. Можно лишь сообщить, что у людей со средним доходом доля просрочек по кредитам выше, чем у людей с доходом выше среднего."
      ]
    },
    {
      "cell_type": "markdown",
      "id": "f19b163f",
      "metadata": {
        "deletable": false,
        "editable": false,
        "id": "f19b163f"
      },
      "source": [
        "#### 3.4 Как разные цели кредита влияют на его возврат в срок?"
      ]
    },
    {
      "cell_type": "markdown",
      "id": "98c3fa5c",
      "metadata": {
        "id": "98c3fa5c"
      },
      "source": [
        "Посчитаем среднее значение задолжностей по целям, на которые берется кредит:"
      ]
    },
    {
      "cell_type": "code",
      "execution_count": null,
      "id": "4a4de949",
      "metadata": {
        "deletable": false,
        "id": "4a4de949",
        "outputId": "1e2a5ce4-8bde-4478-a204-24990b117d93"
      },
      "outputs": [
        {
          "data": {
            "text/plain": [
              "purpose_category\n",
              "операции с недвижимостью    0.0726\n",
              "проведение свадьбы          0.0791\n",
              "получение образования       0.0925\n",
              "операции с автомобилем      0.0935\n",
              "Name: debt, dtype: float64"
            ]
          },
          "execution_count": 33,
          "metadata": {},
          "output_type": "execute_result"
        }
      ],
      "source": [
        "data_purpose_debt_mean = data.groupby('purpose_category')['debt'].mean()\n",
        "round(data_purpose_debt_mean.sort_values(), 4)"
      ]
    },
    {
      "cell_type": "code",
      "execution_count": null,
      "id": "a4bf1186",
      "metadata": {
        "id": "a4bf1186",
        "outputId": "94ef0a6a-68ed-4ab0-c5ff-a68201409086"
      },
      "outputs": [
        {
          "data": {
            "text/html": [
              "<div>\n",
              "<style scoped>\n",
              "    .dataframe tbody tr th:only-of-type {\n",
              "        vertical-align: middle;\n",
              "    }\n",
              "\n",
              "    .dataframe tbody tr th {\n",
              "        vertical-align: top;\n",
              "    }\n",
              "\n",
              "    .dataframe thead th {\n",
              "        text-align: right;\n",
              "    }\n",
              "</style>\n",
              "<table border=\"1\" class=\"dataframe\">\n",
              "  <thead>\n",
              "    <tr style=\"text-align: right;\">\n",
              "      <th></th>\n",
              "      <th>debt</th>\n",
              "      <th>numb_debt</th>\n",
              "      <th>mean_debt</th>\n",
              "    </tr>\n",
              "    <tr>\n",
              "      <th>purpose_category</th>\n",
              "      <th></th>\n",
              "      <th></th>\n",
              "      <th></th>\n",
              "    </tr>\n",
              "  </thead>\n",
              "  <tbody>\n",
              "    <tr>\n",
              "      <th>операции с недвижимостью</th>\n",
              "      <td>10751</td>\n",
              "      <td>780</td>\n",
              "      <td>0.0726</td>\n",
              "    </tr>\n",
              "    <tr>\n",
              "      <th>проведение свадьбы</th>\n",
              "      <td>2313</td>\n",
              "      <td>183</td>\n",
              "      <td>0.0791</td>\n",
              "    </tr>\n",
              "    <tr>\n",
              "      <th>получение образования</th>\n",
              "      <td>3988</td>\n",
              "      <td>369</td>\n",
              "      <td>0.0925</td>\n",
              "    </tr>\n",
              "    <tr>\n",
              "      <th>операции с автомобилем</th>\n",
              "      <td>4279</td>\n",
              "      <td>400</td>\n",
              "      <td>0.0935</td>\n",
              "    </tr>\n",
              "  </tbody>\n",
              "</table>\n",
              "</div>"
            ],
            "text/plain": [
              "                           debt  numb_debt  mean_debt\n",
              "purpose_category                                     \n",
              "операции с недвижимостью  10751        780     0.0726\n",
              "проведение свадьбы         2313        183     0.0791\n",
              "получение образования      3988        369     0.0925\n",
              "операции с автомобилем     4279        400     0.0935"
            ]
          },
          "execution_count": 34,
          "metadata": {},
          "output_type": "execute_result"
        }
      ],
      "source": [
        "data_pivot_purpose = data.pivot_table(index='purpose_category', values='debt', aggfunc='count')\n",
        "data_pivot_purpose['numb_debt'] = data.loc[data['debt'] != 0].groupby('purpose_category')['debt'].count()  # число должников.\n",
        "data_pivot_purpose['mean_debt'] = round(data.groupby('purpose_category')['debt'].mean(), 4)  # средняя доля должников в каждой категории людей.\n",
        "data_pivot_purpose.sort_values(by='mean_debt')"
      ]
    },
    {
      "cell_type": "markdown",
      "id": "6e428c92",
      "metadata": {
        "deletable": false,
        "id": "6e428c92"
      },
      "source": [
        "**Вывод:** Наименьшее число задолжностей у людей, которые взяли кредит на недвижимость, наибольшее - на цели, связанные с автомобилем."
      ]
    },
    {
      "cell_type": "markdown",
      "id": "ee403e6d",
      "metadata": {
        "deletable": false,
        "editable": false,
        "id": "ee403e6d"
      },
      "source": [
        "#### 3.5 Приведите возможные причины появления пропусков в исходных данных."
      ]
    },
    {
      "cell_type": "markdown",
      "id": "168d3b54",
      "metadata": {
        "deletable": false,
        "id": "168d3b54"
      },
      "source": [
        "*Ответ:* Пропуски были в столбцах в days_employed (количество дней занятости) и в total_income (общий доход). Наиболее вероятная причина пропусков: у человека нет официальной работы (занятости) в связи с этим нет и официальных доходов.  \n",
        "Стоит обратить внимание, что в таблице возможно отсутствует информация о пенсиях и других социальных выплатах. Так, на строке 12 изначального DataFrame (Задание 2) есть человек со статусом \"Пенсионер\", у которого нет ни времени занятости, ни доходов, но возраст указан 65 лет. Маловероятно, что за всю жизнь у него не было работы. В этом случае кажется вероятным, что значения не поступили из нужной базы либо сам человек не счел нужным их сообщить."
      ]
    },
    {
      "cell_type": "markdown",
      "id": "d0b412a8",
      "metadata": {
        "deletable": false,
        "editable": false,
        "id": "d0b412a8"
      },
      "source": [
        "#### 3.6 Объясните, почему заполнить пропуски медианным значением — лучшее решение для количественных переменных."
      ]
    },
    {
      "cell_type": "markdown",
      "id": "f4c8bcc5",
      "metadata": {
        "deletable": false,
        "id": "f4c8bcc5"
      },
      "source": [
        "*Ответ:* В данном случае медианное значение наиболее подходящее, так как могут быть как очень высокие (или очень низкие) значения доходов, так и очень высокие (или очень низние) значения занятости. В связи с этим среднее значение не будет объективно, так как оно будет смещено либо вверх либо вниз."
      ]
    },
    {
      "cell_type": "markdown",
      "id": "2a5b495b",
      "metadata": {
        "deletable": false,
        "editable": false,
        "id": "2a5b495b"
      },
      "source": [
        "### Шаг 4: общий вывод."
      ]
    },
    {
      "cell_type": "markdown",
      "id": "fac2d20d",
      "metadata": {
        "deletable": false,
        "id": "fac2d20d"
      },
      "source": [
        "1. Представлены исходные данные в количестве 21525 строк. В 2174 строке были обнаружены пропущенные значения. Пропущенные значения были в стоблцах \"days_employed\" (количество дней занятости) и в \"total_income\" (общий доход). Пустые значения были заменены на медианные в целях повышения точности анализа.  \n",
        "Также были обнаружены аномальные значения в столбце \"children\" (дети): 20 и -1. Указанные значения были удалены как аномальные.  \n",
        "Для удобства анализа общие доходы и цели кредитов были разделены на категории.\n",
        "\n",
        "\n",
        "2. В общем случае на вероятность возникновения просрочки по кредиту влияет:\n",
        "- семейное положение человека. Так, среди вдовцов/вдов наблюдается наименьшая доля просрочек.\n",
        "- цель кредита. Наименьшая доля просрочек у кредитов, выданных для операций с недвижимостью.\n",
        "- наличие или отсутствует детей. У людей с детьми доля просрочек больше, чем у людей без детей.  \n",
        "- На основе представленных данных нет возможности сделать вывод о связи между доходом человека и вероятностью возникновения задолжности.\n",
        "\n",
        "\n",
        "3. В целях уточнения анализа предлагается:\n",
        "- дополнить данные по доходам из других источников, к примеру, по данным различных фондов социальной поддержки.\n",
        "- собрать данные по величине задержек по кредитам у людей с высоким доходом и с низким доходом. Возможно, указанные данные могут сделать выводы о зависимости доходов и вероятности просрочки по кредиту."
      ]
    },
    {
      "cell_type": "code",
      "execution_count": null,
      "id": "e444bb45",
      "metadata": {
        "id": "e444bb45"
      },
      "outputs": [],
      "source": []
    }
  ],
  "metadata": {
    "ExecuteTimeLog": [
      {
        "duration": 642,
        "start_time": "2024-01-01T07:57:13.306Z"
      },
      {
        "duration": 68,
        "start_time": "2024-01-01T07:57:16.994Z"
      },
      {
        "duration": 20,
        "start_time": "2024-01-01T07:57:19.547Z"
      },
      {
        "duration": 15,
        "start_time": "2024-01-01T07:57:22.409Z"
      },
      {
        "duration": 10,
        "start_time": "2024-01-01T07:57:24.758Z"
      },
      {
        "duration": 32,
        "start_time": "2024-01-01T07:57:26.836Z"
      },
      {
        "duration": 4,
        "start_time": "2024-01-01T07:57:29.054Z"
      },
      {
        "duration": 7,
        "start_time": "2024-01-01T07:57:30.870Z"
      },
      {
        "duration": 4,
        "start_time": "2024-01-01T07:57:32.912Z"
      },
      {
        "duration": 6,
        "start_time": "2024-01-01T07:57:34.965Z"
      },
      {
        "duration": 5,
        "start_time": "2024-01-01T07:57:36.699Z"
      },
      {
        "duration": 34,
        "start_time": "2024-01-01T07:57:38.700Z"
      },
      {
        "duration": 10,
        "start_time": "2024-01-01T07:57:40.623Z"
      },
      {
        "duration": 3,
        "start_time": "2024-01-01T07:57:42.685Z"
      },
      {
        "duration": 11,
        "start_time": "2024-01-01T07:57:44.734Z"
      },
      {
        "duration": 19,
        "start_time": "2024-01-01T07:57:46.341Z"
      },
      {
        "duration": 16,
        "start_time": "2024-01-01T07:57:48.552Z"
      },
      {
        "duration": 3,
        "start_time": "2024-01-01T07:57:51.131Z"
      },
      {
        "duration": 10,
        "start_time": "2024-01-01T07:57:53.610Z"
      },
      {
        "duration": 5,
        "start_time": "2024-01-01T07:57:55.254Z"
      },
      {
        "duration": 3,
        "start_time": "2024-01-01T07:57:58.070Z"
      },
      {
        "duration": 9,
        "start_time": "2024-01-01T07:58:00.485Z"
      },
      {
        "duration": 109,
        "start_time": "2024-01-01T08:11:37.547Z"
      },
      {
        "duration": 19,
        "start_time": "2024-01-01T08:11:44.454Z"
      },
      {
        "duration": 17,
        "start_time": "2024-01-01T08:13:11.650Z"
      },
      {
        "duration": 1290,
        "start_time": "2024-01-01T08:19:48.539Z"
      },
      {
        "duration": 10,
        "start_time": "2024-01-01T08:20:32.610Z"
      },
      {
        "duration": 10,
        "start_time": "2024-01-01T08:21:32.104Z"
      },
      {
        "duration": 14,
        "start_time": "2024-01-01T08:26:12.603Z"
      },
      {
        "duration": 11,
        "start_time": "2024-01-01T08:55:35.417Z"
      },
      {
        "duration": 5,
        "start_time": "2024-01-01T08:55:40.758Z"
      },
      {
        "duration": 19,
        "start_time": "2024-01-01T08:56:19.192Z"
      },
      {
        "duration": 4,
        "start_time": "2024-01-01T08:56:24.261Z"
      },
      {
        "duration": 6,
        "start_time": "2024-01-01T08:58:43.736Z"
      },
      {
        "duration": 4,
        "start_time": "2024-01-01T08:59:18.814Z"
      },
      {
        "duration": 5,
        "start_time": "2024-01-01T08:59:31.324Z"
      },
      {
        "duration": 5,
        "start_time": "2024-01-01T09:00:40.129Z"
      },
      {
        "duration": 4,
        "start_time": "2024-01-01T09:01:12.512Z"
      },
      {
        "duration": 5,
        "start_time": "2024-01-01T09:01:39.411Z"
      },
      {
        "duration": 5,
        "start_time": "2024-01-01T09:01:43.490Z"
      },
      {
        "duration": 9,
        "start_time": "2024-01-01T09:03:20.574Z"
      },
      {
        "duration": 14,
        "start_time": "2024-01-01T09:07:23.189Z"
      },
      {
        "duration": 6,
        "start_time": "2024-01-01T09:07:55.434Z"
      },
      {
        "duration": 5,
        "start_time": "2024-01-01T09:14:57.811Z"
      },
      {
        "duration": 8,
        "start_time": "2024-01-01T09:16:13.626Z"
      },
      {
        "duration": 4,
        "start_time": "2024-01-01T09:16:17.529Z"
      },
      {
        "duration": 5,
        "start_time": "2024-01-01T09:16:25.512Z"
      },
      {
        "duration": 11,
        "start_time": "2024-01-01T09:16:28.850Z"
      },
      {
        "duration": 7,
        "start_time": "2024-01-01T09:16:32.507Z"
      },
      {
        "duration": 6,
        "start_time": "2024-01-01T09:16:36.260Z"
      },
      {
        "duration": 9,
        "start_time": "2024-01-01T11:08:52.447Z"
      },
      {
        "duration": 11,
        "start_time": "2024-01-01T11:09:43.893Z"
      },
      {
        "duration": 7,
        "start_time": "2024-01-01T11:09:52.074Z"
      },
      {
        "duration": 12,
        "start_time": "2024-01-01T11:13:32.563Z"
      },
      {
        "duration": 12,
        "start_time": "2024-01-01T11:13:40.526Z"
      },
      {
        "duration": 9,
        "start_time": "2024-01-01T11:14:29.081Z"
      },
      {
        "duration": 8,
        "start_time": "2024-01-01T11:14:42.553Z"
      },
      {
        "duration": 7,
        "start_time": "2024-01-01T11:15:52.089Z"
      },
      {
        "duration": 8,
        "start_time": "2024-01-01T11:16:19.322Z"
      },
      {
        "duration": 11,
        "start_time": "2024-01-01T11:16:53.270Z"
      },
      {
        "duration": 11,
        "start_time": "2024-01-01T11:17:17.003Z"
      },
      {
        "duration": 8,
        "start_time": "2024-01-01T11:18:19.552Z"
      },
      {
        "duration": 10,
        "start_time": "2024-01-01T11:20:46.500Z"
      },
      {
        "duration": 10,
        "start_time": "2024-01-01T11:23:10.749Z"
      },
      {
        "duration": 7,
        "start_time": "2024-01-01T11:23:47.411Z"
      },
      {
        "duration": 10,
        "start_time": "2024-01-01T12:30:31.421Z"
      },
      {
        "duration": 8,
        "start_time": "2024-01-01T12:32:36.754Z"
      },
      {
        "duration": 9,
        "start_time": "2024-01-01T12:35:38.408Z"
      },
      {
        "duration": 9,
        "start_time": "2024-01-01T12:58:47.708Z"
      },
      {
        "duration": 7,
        "start_time": "2024-01-01T12:59:02.248Z"
      },
      {
        "duration": 7,
        "start_time": "2024-01-01T12:59:37.872Z"
      },
      {
        "duration": 8,
        "start_time": "2024-01-01T13:01:26.399Z"
      },
      {
        "duration": 8,
        "start_time": "2024-01-01T13:03:29.710Z"
      },
      {
        "duration": 8,
        "start_time": "2024-01-01T13:06:01.357Z"
      },
      {
        "duration": 8,
        "start_time": "2024-01-01T13:18:47.931Z"
      },
      {
        "duration": 10,
        "start_time": "2024-01-01T13:24:59.396Z"
      },
      {
        "duration": 8,
        "start_time": "2024-01-01T13:25:39.501Z"
      },
      {
        "duration": 9,
        "start_time": "2024-01-01T13:30:39.284Z"
      },
      {
        "duration": 65,
        "start_time": "2024-01-01T13:31:16.064Z"
      },
      {
        "duration": 7,
        "start_time": "2024-01-01T13:31:43.071Z"
      },
      {
        "duration": 7,
        "start_time": "2024-01-01T13:31:53.473Z"
      },
      {
        "duration": 11,
        "start_time": "2024-01-01T13:32:04.760Z"
      },
      {
        "duration": 8,
        "start_time": "2024-01-01T13:32:10.655Z"
      },
      {
        "duration": 7,
        "start_time": "2024-01-01T13:32:27.692Z"
      },
      {
        "duration": 9,
        "start_time": "2024-01-01T13:32:37.019Z"
      },
      {
        "duration": 5,
        "start_time": "2024-01-01T13:33:09.914Z"
      },
      {
        "duration": 616,
        "start_time": "2024-01-01T18:20:04.618Z"
      },
      {
        "duration": 23,
        "start_time": "2024-01-01T18:20:05.236Z"
      },
      {
        "duration": 19,
        "start_time": "2024-01-01T18:20:05.260Z"
      },
      {
        "duration": 20,
        "start_time": "2024-01-01T18:20:05.281Z"
      },
      {
        "duration": 37,
        "start_time": "2024-01-01T18:20:05.303Z"
      },
      {
        "duration": 5,
        "start_time": "2024-01-01T18:20:05.341Z"
      },
      {
        "duration": 18,
        "start_time": "2024-01-01T18:20:05.347Z"
      },
      {
        "duration": 5,
        "start_time": "2024-01-01T18:20:05.367Z"
      },
      {
        "duration": 11,
        "start_time": "2024-01-01T18:20:05.373Z"
      },
      {
        "duration": 3,
        "start_time": "2024-01-01T18:20:05.387Z"
      },
      {
        "duration": 55,
        "start_time": "2024-01-01T18:20:05.392Z"
      },
      {
        "duration": 9,
        "start_time": "2024-01-01T18:20:05.448Z"
      },
      {
        "duration": 3,
        "start_time": "2024-01-01T18:20:05.459Z"
      },
      {
        "duration": 13,
        "start_time": "2024-01-01T18:20:05.464Z"
      },
      {
        "duration": 21,
        "start_time": "2024-01-01T18:20:05.479Z"
      },
      {
        "duration": 31,
        "start_time": "2024-01-01T18:20:05.502Z"
      },
      {
        "duration": 4,
        "start_time": "2024-01-01T18:20:05.535Z"
      },
      {
        "duration": 13,
        "start_time": "2024-01-01T18:20:05.540Z"
      },
      {
        "duration": 6,
        "start_time": "2024-01-01T18:20:05.555Z"
      },
      {
        "duration": 4,
        "start_time": "2024-01-01T18:20:05.562Z"
      },
      {
        "duration": 14,
        "start_time": "2024-01-01T18:20:05.567Z"
      },
      {
        "duration": 12,
        "start_time": "2024-01-01T18:20:05.583Z"
      },
      {
        "duration": 5,
        "start_time": "2024-01-01T18:20:05.596Z"
      },
      {
        "duration": 32,
        "start_time": "2024-01-01T18:20:05.602Z"
      },
      {
        "duration": 11,
        "start_time": "2024-01-01T18:20:05.636Z"
      },
      {
        "duration": 10,
        "start_time": "2024-01-01T18:20:05.649Z"
      },
      {
        "duration": 74,
        "start_time": "2024-01-01T18:20:05.661Z"
      },
      {
        "duration": 0,
        "start_time": "2024-01-01T18:20:05.737Z"
      },
      {
        "duration": 0,
        "start_time": "2024-01-01T18:20:05.738Z"
      },
      {
        "duration": 0,
        "start_time": "2024-01-01T18:20:05.739Z"
      },
      {
        "duration": 8,
        "start_time": "2024-01-01T18:21:11.943Z"
      },
      {
        "duration": 7,
        "start_time": "2024-01-01T18:21:11.953Z"
      },
      {
        "duration": 10,
        "start_time": "2024-01-01T18:21:11.961Z"
      },
      {
        "duration": 681,
        "start_time": "2024-01-02T06:02:26.239Z"
      },
      {
        "duration": 23,
        "start_time": "2024-01-02T06:02:29.097Z"
      },
      {
        "duration": 15,
        "start_time": "2024-01-02T06:02:31.689Z"
      },
      {
        "duration": 11,
        "start_time": "2024-01-02T06:02:33.955Z"
      },
      {
        "duration": 37,
        "start_time": "2024-01-02T06:02:36.215Z"
      },
      {
        "duration": 4,
        "start_time": "2024-01-02T06:02:37.934Z"
      },
      {
        "duration": 8,
        "start_time": "2024-01-02T06:02:39.555Z"
      },
      {
        "duration": 4,
        "start_time": "2024-01-02T06:02:42.098Z"
      },
      {
        "duration": 8,
        "start_time": "2024-01-02T06:02:43.891Z"
      },
      {
        "duration": 4,
        "start_time": "2024-01-02T06:02:46.409Z"
      },
      {
        "duration": 33,
        "start_time": "2024-01-02T06:02:48.283Z"
      },
      {
        "duration": 10,
        "start_time": "2024-01-02T06:02:51.137Z"
      },
      {
        "duration": 3,
        "start_time": "2024-01-02T06:02:53.300Z"
      },
      {
        "duration": 12,
        "start_time": "2024-01-02T06:02:54.883Z"
      },
      {
        "duration": 19,
        "start_time": "2024-01-02T06:02:56.435Z"
      },
      {
        "duration": 16,
        "start_time": "2024-01-02T06:02:58.222Z"
      },
      {
        "duration": 3,
        "start_time": "2024-01-02T06:03:01.517Z"
      },
      {
        "duration": 10,
        "start_time": "2024-01-02T06:03:03.552Z"
      },
      {
        "duration": 5,
        "start_time": "2024-01-02T06:03:05.114Z"
      },
      {
        "duration": 3,
        "start_time": "2024-01-02T06:03:07.767Z"
      },
      {
        "duration": 9,
        "start_time": "2024-01-02T06:03:10.189Z"
      },
      {
        "duration": 9,
        "start_time": "2024-01-02T06:03:12.225Z"
      },
      {
        "duration": 4,
        "start_time": "2024-01-02T06:03:14.041Z"
      },
      {
        "duration": 4,
        "start_time": "2024-01-02T06:03:16.180Z"
      },
      {
        "duration": 7,
        "start_time": "2024-01-02T06:03:18.102Z"
      },
      {
        "duration": 6,
        "start_time": "2024-01-02T06:03:20.177Z"
      },
      {
        "duration": 70,
        "start_time": "2024-01-02T06:03:22.882Z"
      },
      {
        "duration": 14,
        "start_time": "2024-01-02T06:05:23.074Z"
      },
      {
        "duration": 13,
        "start_time": "2024-01-02T06:10:49.397Z"
      },
      {
        "duration": 21,
        "start_time": "2024-01-02T06:11:07.063Z"
      },
      {
        "duration": 13,
        "start_time": "2024-01-02T06:12:00.975Z"
      },
      {
        "duration": 11,
        "start_time": "2024-01-02T06:16:38.438Z"
      },
      {
        "duration": 14,
        "start_time": "2024-01-02T06:18:51.093Z"
      },
      {
        "duration": 15,
        "start_time": "2024-01-02T06:19:18.125Z"
      },
      {
        "duration": 14,
        "start_time": "2024-01-02T06:23:47.385Z"
      },
      {
        "duration": 13,
        "start_time": "2024-01-02T06:24:27.005Z"
      },
      {
        "duration": 14,
        "start_time": "2024-01-02T06:25:18.450Z"
      },
      {
        "duration": 14,
        "start_time": "2024-01-02T06:25:32.941Z"
      },
      {
        "duration": 14,
        "start_time": "2024-01-02T06:25:37.569Z"
      },
      {
        "duration": 17,
        "start_time": "2024-01-02T06:29:46.759Z"
      },
      {
        "duration": 9,
        "start_time": "2024-01-02T06:32:59.611Z"
      },
      {
        "duration": 19,
        "start_time": "2024-01-02T06:38:18.032Z"
      },
      {
        "duration": 19,
        "start_time": "2024-01-02T06:39:18.953Z"
      },
      {
        "duration": 19,
        "start_time": "2024-01-02T06:39:42.227Z"
      },
      {
        "duration": 20,
        "start_time": "2024-01-02T06:57:01.887Z"
      },
      {
        "duration": 17,
        "start_time": "2024-01-02T06:58:38.307Z"
      },
      {
        "duration": 21,
        "start_time": "2024-01-02T06:58:52.625Z"
      },
      {
        "duration": 19,
        "start_time": "2024-01-02T06:59:09.823Z"
      },
      {
        "duration": 19,
        "start_time": "2024-01-02T07:00:09.888Z"
      },
      {
        "duration": 82,
        "start_time": "2024-01-02T07:07:39.637Z"
      },
      {
        "duration": 75,
        "start_time": "2024-01-02T07:07:49.417Z"
      },
      {
        "duration": 73,
        "start_time": "2024-01-02T07:08:02.428Z"
      },
      {
        "duration": 20,
        "start_time": "2024-01-02T07:10:29.573Z"
      },
      {
        "duration": 77,
        "start_time": "2024-01-02T07:17:09.103Z"
      },
      {
        "duration": 19,
        "start_time": "2024-01-02T07:17:55.101Z"
      },
      {
        "duration": 18,
        "start_time": "2024-01-02T07:18:23.614Z"
      },
      {
        "duration": 17,
        "start_time": "2024-01-02T07:19:15.659Z"
      },
      {
        "duration": 18,
        "start_time": "2024-01-02T07:19:30.907Z"
      },
      {
        "duration": 17,
        "start_time": "2024-01-02T07:48:36.191Z"
      },
      {
        "duration": 21,
        "start_time": "2024-01-02T07:48:53.917Z"
      },
      {
        "duration": 18,
        "start_time": "2024-01-02T07:49:16.428Z"
      },
      {
        "duration": 21,
        "start_time": "2024-01-02T07:51:09.988Z"
      },
      {
        "duration": 76,
        "start_time": "2024-01-02T07:53:11.839Z"
      },
      {
        "duration": 15,
        "start_time": "2024-01-02T07:53:14.295Z"
      },
      {
        "duration": 16,
        "start_time": "2024-01-02T07:53:17.188Z"
      },
      {
        "duration": 11,
        "start_time": "2024-01-02T07:53:19.483Z"
      },
      {
        "duration": 33,
        "start_time": "2024-01-02T07:53:21.294Z"
      },
      {
        "duration": 4,
        "start_time": "2024-01-02T07:53:23.491Z"
      },
      {
        "duration": 8,
        "start_time": "2024-01-02T07:53:24.957Z"
      },
      {
        "duration": 4,
        "start_time": "2024-01-02T07:53:28.054Z"
      },
      {
        "duration": 5,
        "start_time": "2024-01-02T07:53:30.270Z"
      },
      {
        "duration": 5,
        "start_time": "2024-01-02T07:53:31.846Z"
      },
      {
        "duration": 35,
        "start_time": "2024-01-02T07:53:33.719Z"
      },
      {
        "duration": 14,
        "start_time": "2024-01-02T07:53:35.781Z"
      },
      {
        "duration": 4,
        "start_time": "2024-01-02T07:53:37.718Z"
      },
      {
        "duration": 11,
        "start_time": "2024-01-02T07:53:39.705Z"
      },
      {
        "duration": 19,
        "start_time": "2024-01-02T07:53:41.319Z"
      },
      {
        "duration": 18,
        "start_time": "2024-01-02T07:53:44.206Z"
      },
      {
        "duration": 3,
        "start_time": "2024-01-02T07:53:52.007Z"
      },
      {
        "duration": 11,
        "start_time": "2024-01-02T07:53:53.978Z"
      },
      {
        "duration": 6,
        "start_time": "2024-01-02T07:53:56.026Z"
      },
      {
        "duration": 4,
        "start_time": "2024-01-02T07:53:58.710Z"
      },
      {
        "duration": 10,
        "start_time": "2024-01-02T07:54:00.336Z"
      },
      {
        "duration": 9,
        "start_time": "2024-01-02T07:54:02.798Z"
      },
      {
        "duration": 5,
        "start_time": "2024-01-02T07:54:04.417Z"
      },
      {
        "duration": 5,
        "start_time": "2024-01-02T07:54:06.427Z"
      },
      {
        "duration": 7,
        "start_time": "2024-01-02T07:54:08.946Z"
      },
      {
        "duration": 7,
        "start_time": "2024-01-02T07:54:11.165Z"
      },
      {
        "duration": 18,
        "start_time": "2024-01-02T07:54:17.558Z"
      },
      {
        "duration": 9,
        "start_time": "2024-01-02T07:54:22.137Z"
      },
      {
        "duration": 20,
        "start_time": "2024-01-02T07:54:26.359Z"
      },
      {
        "duration": 10,
        "start_time": "2024-01-02T07:54:32.145Z"
      },
      {
        "duration": 8,
        "start_time": "2024-01-02T07:54:46.310Z"
      },
      {
        "duration": 20,
        "start_time": "2024-01-02T07:54:48.234Z"
      },
      {
        "duration": 8,
        "start_time": "2024-01-02T07:55:06.790Z"
      },
      {
        "duration": 21,
        "start_time": "2024-01-02T07:55:08.993Z"
      },
      {
        "duration": 683,
        "start_time": "2024-01-03T06:18:51.487Z"
      },
      {
        "duration": 25,
        "start_time": "2024-01-03T06:18:52.173Z"
      },
      {
        "duration": 13,
        "start_time": "2024-01-03T06:18:52.200Z"
      },
      {
        "duration": 9,
        "start_time": "2024-01-03T06:18:52.215Z"
      },
      {
        "duration": 50,
        "start_time": "2024-01-03T06:18:52.225Z"
      },
      {
        "duration": 4,
        "start_time": "2024-01-03T06:18:52.277Z"
      },
      {
        "duration": 20,
        "start_time": "2024-01-03T06:18:52.283Z"
      },
      {
        "duration": 4,
        "start_time": "2024-01-03T06:18:52.304Z"
      },
      {
        "duration": 7,
        "start_time": "2024-01-03T06:18:52.309Z"
      },
      {
        "duration": 3,
        "start_time": "2024-01-03T06:18:52.320Z"
      },
      {
        "duration": 54,
        "start_time": "2024-01-03T06:18:52.325Z"
      },
      {
        "duration": 19,
        "start_time": "2024-01-03T06:18:52.380Z"
      },
      {
        "duration": 4,
        "start_time": "2024-01-03T06:18:52.400Z"
      },
      {
        "duration": 10,
        "start_time": "2024-01-03T06:18:52.406Z"
      },
      {
        "duration": 23,
        "start_time": "2024-01-03T06:18:52.417Z"
      },
      {
        "duration": 29,
        "start_time": "2024-01-03T06:18:52.441Z"
      },
      {
        "duration": 5,
        "start_time": "2024-01-03T06:18:52.472Z"
      },
      {
        "duration": 15,
        "start_time": "2024-01-03T06:18:52.479Z"
      },
      {
        "duration": 5,
        "start_time": "2024-01-03T06:18:52.495Z"
      },
      {
        "duration": 6,
        "start_time": "2024-01-03T06:18:52.501Z"
      },
      {
        "duration": 15,
        "start_time": "2024-01-03T06:18:52.508Z"
      },
      {
        "duration": 9,
        "start_time": "2024-01-03T06:18:52.525Z"
      },
      {
        "duration": 33,
        "start_time": "2024-01-03T06:18:52.535Z"
      },
      {
        "duration": 6,
        "start_time": "2024-01-03T06:18:52.570Z"
      },
      {
        "duration": 8,
        "start_time": "2024-01-03T06:18:52.578Z"
      },
      {
        "duration": 5,
        "start_time": "2024-01-03T06:18:52.588Z"
      },
      {
        "duration": 16,
        "start_time": "2024-01-03T06:18:52.594Z"
      },
      {
        "duration": 7,
        "start_time": "2024-01-03T06:18:52.612Z"
      },
      {
        "duration": 65,
        "start_time": "2024-01-03T06:18:52.620Z"
      },
      {
        "duration": 9,
        "start_time": "2024-01-03T06:18:52.687Z"
      },
      {
        "duration": 6,
        "start_time": "2024-01-03T06:18:52.697Z"
      },
      {
        "duration": 15,
        "start_time": "2024-01-03T06:18:52.705Z"
      },
      {
        "duration": 7,
        "start_time": "2024-01-03T06:18:52.722Z"
      },
      {
        "duration": 60,
        "start_time": "2024-01-03T06:18:52.730Z"
      }
    ],
    "colab": {
      "provenance": []
    },
    "kernelspec": {
      "display_name": "Python 3 (ipykernel)",
      "language": "python",
      "name": "python3"
    },
    "language_info": {
      "codemirror_mode": {
        "name": "ipython",
        "version": 3
      },
      "file_extension": ".py",
      "mimetype": "text/x-python",
      "name": "python",
      "nbconvert_exporter": "python",
      "pygments_lexer": "ipython3",
      "version": "3.9.5"
    },
    "toc": {
      "base_numbering": 1,
      "nav_menu": {},
      "number_sections": true,
      "sideBar": true,
      "skip_h1_title": true,
      "title_cell": "Table of Contents",
      "title_sidebar": "Contents",
      "toc_cell": false,
      "toc_position": {},
      "toc_section_display": true,
      "toc_window_display": true
    }
  },
  "nbformat": 4,
  "nbformat_minor": 5
}