{
  "cells": [
    {
      "cell_type": "markdown",
      "id": "d6540f88",
      "metadata": {
        "id": "d6540f88"
      },
      "source": [
        "# Анализ сервиса проката самокатов GoFast"
      ]
    },
    {
      "cell_type": "markdown",
      "id": "4775e0c5",
      "metadata": {
        "id": "4775e0c5"
      },
      "source": [
        "## Введение\n",
        "\n",
        "GoFast - сервис аренды самокатов, работающий в нескольких городах России. Для совершения поездки пользователь арендует самокат через собственное мобильное приложение сервиса. Возможны два варианта аренды: с подпиской Ultra и без подписки. Подробные условия приведены в таблице:\n",
        "\n",
        "|Условия|Без подписки|С подпиской Ultra|\n",
        "|-|--------|---|\n",
        "|Абонентская плата|отсутствует|199 рублей|\n",
        "|Стоимость одной минуты поездки|8 рублей|6 рублей|\n",
        "|Стоимость старта|50 рублей|бесплатно|\n",
        "\n",
        "\n",
        "\n",
        "### Цели анализа\n",
        "1. Установить, кто пользуется сервисом.\n",
        "2. Установить, какие факторы влияют на выручку сервиса.  \n",
        "\n",
        "Результаты работы могут быть использованы для повышение рентабельности бизнеса.\n",
        "\n",
        "### Задачи, решаемые в ходе анализа\n",
        "1. Предварительная обработка данных.  \n",
        "Под обработкой подразумевается:\n",
        "- приведение типа данных к нужному типу,\n",
        "- обработка пропусков,\n",
        "- обработка дубликатов.\n",
        "2. Выполнение визуализации данных:\n",
        "- распределение пользователей по городам,\n",
        "- соотношение пользователей с подпиской и без неё,\n",
        "- распределение пользователей по возрасту,\n",
        "- распределение продолжительности поездок,\n",
        "- распределение дистанции поездок.\n",
        "3. Подсчет помесячной выручки от пользователей с подпиской и без подписки.\n",
        "4. Проверка гипотез касательно сервиса:\n",
        "- тратят ли пользователи с подпиской больше времени на поездки,\n",
        "- среднее расстояние, которое проезжают пользователи с подпиской за одну поездку, не превышает 3130 метров,\n",
        "- помесячная выручка от пользователей с подпиской по месяцам выше, чем выручка от пользователей без подписки.\n",
        "\n",
        "### Описание начальных данных   \n",
        "\n",
        "\n",
        "Для анализа предоставлены три таблицы с данными.\n",
        "1. Таблица с информацией о пользователях (файл \"users_go.csv\").\n",
        "\n",
        "|Столбец|Описание|\n",
        "|-|--------|\n",
        "|user_id|уникальный идентификатор пользователя|\n",
        "|name|имя пользователя|\n",
        "|age|возраст|\n",
        "|subscription_type|тип подписки (free, ultra)|\n",
        "\n",
        "2. Таблица с информацией о поездках (файл \"rides_go.csv\").\n",
        "\n",
        "|Столбец|Описание|\n",
        "|-|--------|\n",
        "|user_id|уникальный идентификатор пользователя|\n",
        "|distance|расстояние, которое проехали в текущей сессии (в метрах)|\n",
        "|duration|продолжительность сессии (в минутах)|\n",
        "|date|дата совершения поездки|\n",
        "\n",
        "\n",
        "3. Таблица с информацией о подписках (файл \"subscriptions_go.csv\").\n",
        "\n",
        "|Столбец|Описание|\n",
        "|-|--------|\n",
        "|subscription_type|тип подписки|\n",
        "|minute_price|стоимость одной минуты поездки|\n",
        "|start_ride_price|стоимость начала поездки|\n",
        "|subscription_fee|стоимость ежемесячного платежа|\n",
        "\n",
        "### План работы\n",
        "1. Загрузка данных.\n",
        "2. Предварительная обработка.  \n",
        "3. Выполнение визуализации в соответствии с задачами.\n",
        "4. Подсчет помесячной выручки от пользователей с подпиской и без подписки.\n",
        "5. Проверка ряда гипотез."
      ]
    },
    {
      "cell_type": "code",
      "execution_count": null,
      "id": "2934b469",
      "metadata": {
        "id": "2934b469"
      },
      "outputs": [],
      "source": [
        "import pandas as pd\n",
        "import matplotlib.pyplot as plt\n",
        "import numpy as np\n",
        "from scipy import stats as st\n",
        "from scipy.stats import binom, norm\n",
        "from math import sqrt\n",
        "import warnings\n",
        "warnings.filterwarnings(\"ignore\")"
      ]
    },
    {
      "cell_type": "markdown",
      "id": "d4a2d29d",
      "metadata": {
        "id": "d4a2d29d"
      },
      "source": [
        "## Шаг 1. Загрузка данных"
      ]
    },
    {
      "cell_type": "markdown",
      "id": "bab2a86f",
      "metadata": {
        "id": "bab2a86f"
      },
      "source": [
        "Загрузим и оценим данные, предоставленные для анализа."
      ]
    },
    {
      "cell_type": "code",
      "execution_count": null,
      "id": "a252fafa",
      "metadata": {
        "id": "a252fafa"
      },
      "outputs": [],
      "source": [
        "dt_users = pd.read_csv('/datasets/users_go.csv')  # Пользователи\n",
        "dt_rides = pd.read_csv('/datasets/rides_go.csv')  # Поездки\n",
        "dt_subscriptions = pd.read_csv('/datasets/subscriptions_go.csv')  # Подписки"
      ]
    },
    {
      "cell_type": "code",
      "execution_count": null,
      "id": "7c669c0d",
      "metadata": {
        "id": "7c669c0d",
        "outputId": "25c7de90-a504-4190-b5a8-4e36c900518f"
      },
      "outputs": [
        {
          "data": {
            "text/html": [
              "<div>\n",
              "<style scoped>\n",
              "    .dataframe tbody tr th:only-of-type {\n",
              "        vertical-align: middle;\n",
              "    }\n",
              "\n",
              "    .dataframe tbody tr th {\n",
              "        vertical-align: top;\n",
              "    }\n",
              "\n",
              "    .dataframe thead th {\n",
              "        text-align: right;\n",
              "    }\n",
              "</style>\n",
              "<table border=\"1\" class=\"dataframe\">\n",
              "  <thead>\n",
              "    <tr style=\"text-align: right;\">\n",
              "      <th></th>\n",
              "      <th>user_id</th>\n",
              "      <th>name</th>\n",
              "      <th>age</th>\n",
              "      <th>city</th>\n",
              "      <th>subscription_type</th>\n",
              "    </tr>\n",
              "  </thead>\n",
              "  <tbody>\n",
              "    <tr>\n",
              "      <th>0</th>\n",
              "      <td>1</td>\n",
              "      <td>Кира</td>\n",
              "      <td>22</td>\n",
              "      <td>Тюмень</td>\n",
              "      <td>ultra</td>\n",
              "    </tr>\n",
              "    <tr>\n",
              "      <th>1</th>\n",
              "      <td>2</td>\n",
              "      <td>Станислав</td>\n",
              "      <td>31</td>\n",
              "      <td>Омск</td>\n",
              "      <td>ultra</td>\n",
              "    </tr>\n",
              "    <tr>\n",
              "      <th>2</th>\n",
              "      <td>3</td>\n",
              "      <td>Алексей</td>\n",
              "      <td>20</td>\n",
              "      <td>Москва</td>\n",
              "      <td>ultra</td>\n",
              "    </tr>\n",
              "    <tr>\n",
              "      <th>3</th>\n",
              "      <td>4</td>\n",
              "      <td>Константин</td>\n",
              "      <td>26</td>\n",
              "      <td>Ростов-на-Дону</td>\n",
              "      <td>ultra</td>\n",
              "    </tr>\n",
              "    <tr>\n",
              "      <th>4</th>\n",
              "      <td>5</td>\n",
              "      <td>Адель</td>\n",
              "      <td>28</td>\n",
              "      <td>Омск</td>\n",
              "      <td>ultra</td>\n",
              "    </tr>\n",
              "  </tbody>\n",
              "</table>\n",
              "</div>"
            ],
            "text/plain": [
              "   user_id        name  age            city subscription_type\n",
              "0        1        Кира   22          Тюмень             ultra\n",
              "1        2   Станислав   31            Омск             ultra\n",
              "2        3     Алексей   20          Москва             ultra\n",
              "3        4  Константин   26  Ростов-на-Дону             ultra\n",
              "4        5       Адель   28            Омск             ultra"
            ]
          },
          "execution_count": 3,
          "metadata": {},
          "output_type": "execute_result"
        }
      ],
      "source": [
        "dt_users.head()"
      ]
    },
    {
      "cell_type": "code",
      "execution_count": null,
      "id": "fa2881bd",
      "metadata": {
        "id": "fa2881bd",
        "outputId": "923ddc26-7b42-42c0-df36-a025b2b2d006"
      },
      "outputs": [
        {
          "name": "stdout",
          "output_type": "stream",
          "text": [
            "<class 'pandas.core.frame.DataFrame'>\n",
            "RangeIndex: 1565 entries, 0 to 1564\n",
            "Data columns (total 5 columns):\n",
            " #   Column             Non-Null Count  Dtype \n",
            "---  ------             --------------  ----- \n",
            " 0   user_id            1565 non-null   int64 \n",
            " 1   name               1565 non-null   object\n",
            " 2   age                1565 non-null   int64 \n",
            " 3   city               1565 non-null   object\n",
            " 4   subscription_type  1565 non-null   object\n",
            "dtypes: int64(2), object(3)\n",
            "memory usage: 61.3+ KB\n"
          ]
        }
      ],
      "source": [
        "dt_users.info()"
      ]
    },
    {
      "cell_type": "markdown",
      "id": "5136cfcb",
      "metadata": {
        "id": "5136cfcb"
      },
      "source": [
        "Пропусков нет."
      ]
    },
    {
      "cell_type": "code",
      "execution_count": null,
      "id": "69bd2084",
      "metadata": {
        "id": "69bd2084",
        "outputId": "9f998b49-1438-4d08-c386-03487df2b9f9"
      },
      "outputs": [
        {
          "data": {
            "text/html": [
              "<div>\n",
              "<style scoped>\n",
              "    .dataframe tbody tr th:only-of-type {\n",
              "        vertical-align: middle;\n",
              "    }\n",
              "\n",
              "    .dataframe tbody tr th {\n",
              "        vertical-align: top;\n",
              "    }\n",
              "\n",
              "    .dataframe thead th {\n",
              "        text-align: right;\n",
              "    }\n",
              "</style>\n",
              "<table border=\"1\" class=\"dataframe\">\n",
              "  <thead>\n",
              "    <tr style=\"text-align: right;\">\n",
              "      <th></th>\n",
              "      <th>user_id</th>\n",
              "      <th>distance</th>\n",
              "      <th>duration</th>\n",
              "      <th>date</th>\n",
              "    </tr>\n",
              "  </thead>\n",
              "  <tbody>\n",
              "    <tr>\n",
              "      <th>0</th>\n",
              "      <td>1</td>\n",
              "      <td>4409.919140</td>\n",
              "      <td>25.599769</td>\n",
              "      <td>2021-01-01</td>\n",
              "    </tr>\n",
              "    <tr>\n",
              "      <th>1</th>\n",
              "      <td>1</td>\n",
              "      <td>2617.592153</td>\n",
              "      <td>15.816871</td>\n",
              "      <td>2021-01-18</td>\n",
              "    </tr>\n",
              "    <tr>\n",
              "      <th>2</th>\n",
              "      <td>1</td>\n",
              "      <td>754.159807</td>\n",
              "      <td>6.232113</td>\n",
              "      <td>2021-04-20</td>\n",
              "    </tr>\n",
              "    <tr>\n",
              "      <th>3</th>\n",
              "      <td>1</td>\n",
              "      <td>2694.783254</td>\n",
              "      <td>18.511000</td>\n",
              "      <td>2021-08-11</td>\n",
              "    </tr>\n",
              "    <tr>\n",
              "      <th>4</th>\n",
              "      <td>1</td>\n",
              "      <td>4028.687306</td>\n",
              "      <td>26.265803</td>\n",
              "      <td>2021-08-28</td>\n",
              "    </tr>\n",
              "  </tbody>\n",
              "</table>\n",
              "</div>"
            ],
            "text/plain": [
              "   user_id     distance   duration        date\n",
              "0        1  4409.919140  25.599769  2021-01-01\n",
              "1        1  2617.592153  15.816871  2021-01-18\n",
              "2        1   754.159807   6.232113  2021-04-20\n",
              "3        1  2694.783254  18.511000  2021-08-11\n",
              "4        1  4028.687306  26.265803  2021-08-28"
            ]
          },
          "execution_count": 5,
          "metadata": {},
          "output_type": "execute_result"
        }
      ],
      "source": [
        "dt_rides.head()"
      ]
    },
    {
      "cell_type": "code",
      "execution_count": null,
      "id": "074b204a",
      "metadata": {
        "id": "074b204a",
        "outputId": "1674c658-5cf8-4f6a-ec7c-93ada993630d"
      },
      "outputs": [
        {
          "name": "stdout",
          "output_type": "stream",
          "text": [
            "<class 'pandas.core.frame.DataFrame'>\n",
            "RangeIndex: 18068 entries, 0 to 18067\n",
            "Data columns (total 4 columns):\n",
            " #   Column    Non-Null Count  Dtype  \n",
            "---  ------    --------------  -----  \n",
            " 0   user_id   18068 non-null  int64  \n",
            " 1   distance  18068 non-null  float64\n",
            " 2   duration  18068 non-null  float64\n",
            " 3   date      18068 non-null  object \n",
            "dtypes: float64(2), int64(1), object(1)\n",
            "memory usage: 564.8+ KB\n"
          ]
        }
      ],
      "source": [
        "dt_rides.info()"
      ]
    },
    {
      "cell_type": "markdown",
      "id": "ccf23506",
      "metadata": {
        "id": "ccf23506"
      },
      "source": [
        "Пропусков нет, но надо изменить тип данных в столбце date."
      ]
    },
    {
      "cell_type": "code",
      "execution_count": null,
      "id": "39271c48",
      "metadata": {
        "id": "39271c48",
        "outputId": "d59e44ce-5c12-40ff-8fc8-29b707e14d82"
      },
      "outputs": [
        {
          "data": {
            "text/html": [
              "<div>\n",
              "<style scoped>\n",
              "    .dataframe tbody tr th:only-of-type {\n",
              "        vertical-align: middle;\n",
              "    }\n",
              "\n",
              "    .dataframe tbody tr th {\n",
              "        vertical-align: top;\n",
              "    }\n",
              "\n",
              "    .dataframe thead th {\n",
              "        text-align: right;\n",
              "    }\n",
              "</style>\n",
              "<table border=\"1\" class=\"dataframe\">\n",
              "  <thead>\n",
              "    <tr style=\"text-align: right;\">\n",
              "      <th></th>\n",
              "      <th>subscription_type</th>\n",
              "      <th>minute_price</th>\n",
              "      <th>start_ride_price</th>\n",
              "      <th>subscription_fee</th>\n",
              "    </tr>\n",
              "  </thead>\n",
              "  <tbody>\n",
              "    <tr>\n",
              "      <th>0</th>\n",
              "      <td>free</td>\n",
              "      <td>8</td>\n",
              "      <td>50</td>\n",
              "      <td>0</td>\n",
              "    </tr>\n",
              "    <tr>\n",
              "      <th>1</th>\n",
              "      <td>ultra</td>\n",
              "      <td>6</td>\n",
              "      <td>0</td>\n",
              "      <td>199</td>\n",
              "    </tr>\n",
              "  </tbody>\n",
              "</table>\n",
              "</div>"
            ],
            "text/plain": [
              "  subscription_type  minute_price  start_ride_price  subscription_fee\n",
              "0              free             8                50                 0\n",
              "1             ultra             6                 0               199"
            ]
          },
          "execution_count": 7,
          "metadata": {},
          "output_type": "execute_result"
        }
      ],
      "source": [
        "dt_subscriptions.head()"
      ]
    },
    {
      "cell_type": "code",
      "execution_count": null,
      "id": "257304b4",
      "metadata": {
        "id": "257304b4",
        "outputId": "2668aea5-cf7a-4e7c-9a14-5205044a3ae1"
      },
      "outputs": [
        {
          "name": "stdout",
          "output_type": "stream",
          "text": [
            "<class 'pandas.core.frame.DataFrame'>\n",
            "RangeIndex: 2 entries, 0 to 1\n",
            "Data columns (total 4 columns):\n",
            " #   Column             Non-Null Count  Dtype \n",
            "---  ------             --------------  ----- \n",
            " 0   subscription_type  2 non-null      object\n",
            " 1   minute_price       2 non-null      int64 \n",
            " 2   start_ride_price   2 non-null      int64 \n",
            " 3   subscription_fee   2 non-null      int64 \n",
            "dtypes: int64(3), object(1)\n",
            "memory usage: 192.0+ bytes\n"
          ]
        }
      ],
      "source": [
        "dt_subscriptions.info()"
      ]
    },
    {
      "cell_type": "markdown",
      "id": "cd38e8a2",
      "metadata": {
        "id": "cd38e8a2"
      },
      "source": [
        "**Итог:** данные загружены, пропуску не обнаружены."
      ]
    },
    {
      "cell_type": "markdown",
      "id": "842ac81b",
      "metadata": {
        "id": "842ac81b"
      },
      "source": [
        "## Шаг 2. Предобработка данных"
      ]
    },
    {
      "cell_type": "markdown",
      "id": "bdf33eae",
      "metadata": {
        "id": "bdf33eae"
      },
      "source": [
        "### Сперва приведем дату в нужный тип"
      ]
    },
    {
      "cell_type": "code",
      "execution_count": null,
      "id": "9ef6c48e",
      "metadata": {
        "id": "9ef6c48e",
        "outputId": "995bc549-f5ba-48c3-f8bd-7d430ed56a10"
      },
      "outputs": [
        {
          "name": "stdout",
          "output_type": "stream",
          "text": [
            "<class 'pandas.core.frame.DataFrame'>\n",
            "RangeIndex: 18068 entries, 0 to 18067\n",
            "Data columns (total 4 columns):\n",
            " #   Column    Non-Null Count  Dtype         \n",
            "---  ------    --------------  -----         \n",
            " 0   user_id   18068 non-null  int64         \n",
            " 1   distance  18068 non-null  float64       \n",
            " 2   duration  18068 non-null  float64       \n",
            " 3   date      18068 non-null  datetime64[ns]\n",
            "dtypes: datetime64[ns](1), float64(2), int64(1)\n",
            "memory usage: 564.8 KB\n"
          ]
        }
      ],
      "source": [
        "dt_rides['date'] = pd.to_datetime(dt_rides['date'], format='%Y-%m-%d')\n",
        "dt_rides.info()"
      ]
    },
    {
      "cell_type": "markdown",
      "id": "afbd9d6e",
      "metadata": {
        "id": "afbd9d6e"
      },
      "source": [
        "**Итог:** Тип данных изменен."
      ]
    },
    {
      "cell_type": "markdown",
      "id": "87d39e68",
      "metadata": {
        "id": "87d39e68"
      },
      "source": [
        "### Создание нового столбца с номером месяца на основе столбца date"
      ]
    },
    {
      "cell_type": "markdown",
      "id": "6fcc36b1",
      "metadata": {
        "id": "6fcc36b1"
      },
      "source": [
        "Создадим столбец с номером месяца."
      ]
    },
    {
      "cell_type": "code",
      "execution_count": null,
      "id": "f82dcc17",
      "metadata": {
        "id": "f82dcc17",
        "outputId": "d14840ea-8c82-44b8-9d60-d2e33c5ba850"
      },
      "outputs": [
        {
          "data": {
            "text/html": [
              "<div>\n",
              "<style scoped>\n",
              "    .dataframe tbody tr th:only-of-type {\n",
              "        vertical-align: middle;\n",
              "    }\n",
              "\n",
              "    .dataframe tbody tr th {\n",
              "        vertical-align: top;\n",
              "    }\n",
              "\n",
              "    .dataframe thead th {\n",
              "        text-align: right;\n",
              "    }\n",
              "</style>\n",
              "<table border=\"1\" class=\"dataframe\">\n",
              "  <thead>\n",
              "    <tr style=\"text-align: right;\">\n",
              "      <th></th>\n",
              "      <th>user_id</th>\n",
              "      <th>distance</th>\n",
              "      <th>duration</th>\n",
              "      <th>date</th>\n",
              "      <th>month</th>\n",
              "    </tr>\n",
              "  </thead>\n",
              "  <tbody>\n",
              "    <tr>\n",
              "      <th>0</th>\n",
              "      <td>1</td>\n",
              "      <td>4409.919140</td>\n",
              "      <td>25.599769</td>\n",
              "      <td>2021-01-01</td>\n",
              "      <td>1</td>\n",
              "    </tr>\n",
              "    <tr>\n",
              "      <th>1</th>\n",
              "      <td>1</td>\n",
              "      <td>2617.592153</td>\n",
              "      <td>15.816871</td>\n",
              "      <td>2021-01-18</td>\n",
              "      <td>1</td>\n",
              "    </tr>\n",
              "    <tr>\n",
              "      <th>2</th>\n",
              "      <td>1</td>\n",
              "      <td>754.159807</td>\n",
              "      <td>6.232113</td>\n",
              "      <td>2021-04-20</td>\n",
              "      <td>4</td>\n",
              "    </tr>\n",
              "    <tr>\n",
              "      <th>3</th>\n",
              "      <td>1</td>\n",
              "      <td>2694.783254</td>\n",
              "      <td>18.511000</td>\n",
              "      <td>2021-08-11</td>\n",
              "      <td>8</td>\n",
              "    </tr>\n",
              "    <tr>\n",
              "      <th>4</th>\n",
              "      <td>1</td>\n",
              "      <td>4028.687306</td>\n",
              "      <td>26.265803</td>\n",
              "      <td>2021-08-28</td>\n",
              "      <td>8</td>\n",
              "    </tr>\n",
              "  </tbody>\n",
              "</table>\n",
              "</div>"
            ],
            "text/plain": [
              "   user_id     distance   duration       date  month\n",
              "0        1  4409.919140  25.599769 2021-01-01      1\n",
              "1        1  2617.592153  15.816871 2021-01-18      1\n",
              "2        1   754.159807   6.232113 2021-04-20      4\n",
              "3        1  2694.783254  18.511000 2021-08-11      8\n",
              "4        1  4028.687306  26.265803 2021-08-28      8"
            ]
          },
          "execution_count": 10,
          "metadata": {},
          "output_type": "execute_result"
        }
      ],
      "source": [
        "dt_rides['month'] = dt_rides['date'].dt.month\n",
        "dt_rides.head()"
      ]
    },
    {
      "cell_type": "code",
      "execution_count": null,
      "id": "e491d4c3",
      "metadata": {
        "id": "e491d4c3",
        "outputId": "7e42672e-a3fa-46d2-a874-a8791369a2a3"
      },
      "outputs": [
        {
          "data": {
            "text/plain": [
              "array([ 1,  4,  8, 10, 11, 12,  3,  6,  7,  2,  5,  9])"
            ]
          },
          "execution_count": 11,
          "metadata": {},
          "output_type": "execute_result"
        }
      ],
      "source": [
        "dt_rides['month'].unique()"
      ]
    },
    {
      "cell_type": "markdown",
      "id": "e0d2ed76",
      "metadata": {
        "id": "e0d2ed76"
      },
      "source": [
        "Представлена информация за все месяцы года."
      ]
    },
    {
      "cell_type": "code",
      "execution_count": null,
      "id": "0062610c",
      "metadata": {
        "id": "0062610c",
        "outputId": "73eae6f0-c510-4a31-971f-87c5a02be54a"
      },
      "outputs": [
        {
          "data": {
            "text/plain": [
              "Timestamp('2021-12-30 00:00:00')"
            ]
          },
          "execution_count": 12,
          "metadata": {},
          "output_type": "execute_result"
        }
      ],
      "source": [
        "dt_rides['date'].max()"
      ]
    },
    {
      "cell_type": "code",
      "execution_count": null,
      "id": "bf3da103",
      "metadata": {
        "id": "bf3da103",
        "outputId": "b123a781-2def-4659-9eca-fd52e6b3001a"
      },
      "outputs": [
        {
          "data": {
            "text/plain": [
              "Timestamp('2021-01-01 00:00:00')"
            ]
          },
          "execution_count": 13,
          "metadata": {},
          "output_type": "execute_result"
        }
      ],
      "source": [
        "dt_rides['date'].min()"
      ]
    },
    {
      "cell_type": "markdown",
      "id": "d5c79fd7",
      "metadata": {
        "id": "d5c79fd7"
      },
      "source": [
        "В предоставленных данных содержится только информация за 2021 год. В связи с этим, можно группировать данные по месяцам: в один и тот же месяц не будут посчитаны данные за разные года."
      ]
    },
    {
      "cell_type": "markdown",
      "id": "5276a00a",
      "metadata": {
        "id": "5276a00a"
      },
      "source": [
        "**Итог:** столбец создан.  \n",
        "Присутствуют данные только за 2021 год.\n"
      ]
    },
    {
      "cell_type": "markdown",
      "id": "a1fa3a23",
      "metadata": {
        "id": "a1fa3a23"
      },
      "source": [
        "### Обработка дубликатов в датафреймах"
      ]
    },
    {
      "cell_type": "markdown",
      "id": "bcfb0daf",
      "metadata": {
        "id": "bcfb0daf"
      },
      "source": [
        "Как видно из раздела 2, пропусков не было, поэтому проверим на дубликаты. Начнем с таблицы о пользователях."
      ]
    },
    {
      "cell_type": "code",
      "execution_count": null,
      "id": "42d1bff3",
      "metadata": {
        "id": "42d1bff3",
        "outputId": "4aa26f3e-bc96-47c7-b9fd-09543185cbcf"
      },
      "outputs": [
        {
          "data": {
            "text/plain": [
              "31"
            ]
          },
          "execution_count": 14,
          "metadata": {},
          "output_type": "execute_result"
        }
      ],
      "source": [
        "dt_users.duplicated().sum()"
      ]
    },
    {
      "cell_type": "markdown",
      "id": "788eaac8",
      "metadata": {
        "id": "788eaac8"
      },
      "source": [
        "31 полный дубликат. Учитывая, что всего в таблице 1565 значений, удаление 31 строки не должно серьезно ухудшить анализ."
      ]
    },
    {
      "cell_type": "code",
      "execution_count": null,
      "id": "09b12e52",
      "metadata": {
        "id": "09b12e52",
        "outputId": "22978799-4f59-4a7e-dfbe-fbb6b2a8aa05"
      },
      "outputs": [
        {
          "data": {
            "text/plain": [
              "0"
            ]
          },
          "execution_count": 15,
          "metadata": {},
          "output_type": "execute_result"
        }
      ],
      "source": [
        "dt_users = dt_users.drop_duplicates(keep='first')\n",
        "dt_users.duplicated().sum()"
      ]
    },
    {
      "cell_type": "code",
      "execution_count": null,
      "id": "2796c147",
      "metadata": {
        "id": "2796c147",
        "outputId": "47df4dbc-a4bd-4c6c-9808-974bf58ad7f2"
      },
      "outputs": [
        {
          "name": "stdout",
          "output_type": "stream",
          "text": [
            "<class 'pandas.core.frame.DataFrame'>\n",
            "Int64Index: 1534 entries, 0 to 1533\n",
            "Data columns (total 5 columns):\n",
            " #   Column             Non-Null Count  Dtype \n",
            "---  ------             --------------  ----- \n",
            " 0   user_id            1534 non-null   int64 \n",
            " 1   name               1534 non-null   object\n",
            " 2   age                1534 non-null   int64 \n",
            " 3   city               1534 non-null   object\n",
            " 4   subscription_type  1534 non-null   object\n",
            "dtypes: int64(2), object(3)\n",
            "memory usage: 71.9+ KB\n"
          ]
        }
      ],
      "source": [
        "dt_users.info()"
      ]
    },
    {
      "cell_type": "markdown",
      "id": "90475ea8",
      "metadata": {
        "id": "90475ea8"
      },
      "source": [
        "Явные дубликаты удалены. Посмотрим, не присвоен ли один и тот же user_id разным людям."
      ]
    },
    {
      "cell_type": "code",
      "execution_count": null,
      "id": "5ea6e2b9",
      "metadata": {
        "id": "5ea6e2b9",
        "outputId": "a88657ca-4e41-4ac4-d796-fd8c7346e8e3"
      },
      "outputs": [
        {
          "data": {
            "text/plain": [
              "1       1\n",
              "1020    1\n",
              "1029    1\n",
              "1028    1\n",
              "1027    1\n",
              "       ..\n",
              "510     1\n",
              "509     1\n",
              "508     1\n",
              "507     1\n",
              "1534    1\n",
              "Name: user_id, Length: 1534, dtype: int64"
            ]
          },
          "execution_count": 17,
          "metadata": {},
          "output_type": "execute_result"
        }
      ],
      "source": [
        "dt_users['user_id'].value_counts()"
      ]
    },
    {
      "cell_type": "markdown",
      "id": "ebb473d5",
      "metadata": {
        "id": "ebb473d5"
      },
      "source": [
        "Дубликатов нет. Теперь проверим дубликаты в таблице с поездками."
      ]
    },
    {
      "cell_type": "code",
      "execution_count": null,
      "id": "9f48d085",
      "metadata": {
        "id": "9f48d085",
        "outputId": "030bb8fe-d6f3-4506-a580-cb685a69fa6c"
      },
      "outputs": [
        {
          "data": {
            "text/plain": [
              "0"
            ]
          },
          "execution_count": 18,
          "metadata": {},
          "output_type": "execute_result"
        }
      ],
      "source": [
        "dt_rides.duplicated().sum()"
      ]
    },
    {
      "cell_type": "markdown",
      "id": "7a9a6d63",
      "metadata": {
        "id": "7a9a6d63"
      },
      "source": [
        "Явных полных дубликатов нет. У одного и того же пользователя могут быть одинаковые поездки, поэтому по каждому столбцу отдельно не требуется проверка.  \n",
        "Таблица с подписками состоит всего из двух строк и там дубликатов нет."
      ]
    },
    {
      "cell_type": "markdown",
      "id": "c6597057",
      "metadata": {
        "id": "c6597057"
      },
      "source": [
        "**Итог:** пропуски и дубликаты удалены."
      ]
    },
    {
      "cell_type": "markdown",
      "id": "c0eb520a",
      "metadata": {
        "id": "c0eb520a"
      },
      "source": [
        "## Шаг 3. Исследовательский анализ данных"
      ]
    },
    {
      "cell_type": "markdown",
      "id": "ba16da6e",
      "metadata": {
        "id": "ba16da6e"
      },
      "source": [
        "### Частота встречаемости городов"
      ]
    },
    {
      "cell_type": "markdown",
      "id": "dbfd8c64",
      "metadata": {
        "id": "dbfd8c64"
      },
      "source": [
        "Визуализируем частоту встречаемости городов."
      ]
    },
    {
      "cell_type": "code",
      "execution_count": null,
      "id": "489a0ed6",
      "metadata": {
        "id": "489a0ed6",
        "outputId": "deed9a2c-0328-42ce-9611-79695c54954f"
      },
      "outputs": [
        {
          "data": {
            "text/plain": [
              "array(['Тюмень', 'Омск', 'Москва', 'Ростов-на-Дону', 'Краснодар',\n",
              "       'Пятигорск', 'Екатеринбург', 'Сочи'], dtype=object)"
            ]
          },
          "execution_count": 19,
          "metadata": {},
          "output_type": "execute_result"
        }
      ],
      "source": [
        "dt_users['city'].unique()"
      ]
    },
    {
      "cell_type": "code",
      "execution_count": null,
      "id": "a92fb206",
      "metadata": {
        "id": "a92fb206",
        "outputId": "f17b3fce-1b60-4326-fb17-9c6375afc88d"
      },
      "outputs": [
        {
          "data": {
            "image/png": "[encoded data removed]",
            "text/plain": [
              "<Figure size 432x288 with 1 Axes>"
            ]
          },
          "metadata": {
            "needs_background": "light"
          },
          "output_type": "display_data"
        }
      ],
      "source": [
        "dt_users['city'].value_counts(ascending=True).plot(kind=\"barh\")\n",
        "plt.title('Количество пользователей в городах')\n",
        "plt.xlabel('Количество пользователей')\n",
        "plt.ylabel('Города')\n",
        "plt.show()"
      ]
    },
    {
      "cell_type": "code",
      "execution_count": null,
      "id": "fedcd3d4",
      "metadata": {
        "id": "fedcd3d4",
        "outputId": "2c0be1d1-592e-4bc1-cb16-386a0772944e"
      },
      "outputs": [
        {
          "data": {
            "text/plain": [
              "Пятигорск         219\n",
              "Екатеринбург      204\n",
              "Ростов-на-Дону    198\n",
              "Краснодар         193\n",
              "Сочи              189\n",
              "Омск              183\n",
              "Тюмень            180\n",
              "Москва            168\n",
              "Name: city, dtype: int64"
            ]
          },
          "execution_count": 21,
          "metadata": {},
          "output_type": "execute_result"
        }
      ],
      "source": [
        "dt_users['city'].value_counts()"
      ]
    },
    {
      "cell_type": "markdown",
      "id": "84e3ad06",
      "metadata": {
        "id": "84e3ad06"
      },
      "source": [
        "Как видно из графика, больше всего пользователей из Пятигорска."
      ]
    },
    {
      "cell_type": "markdown",
      "id": "0d7229bc",
      "metadata": {
        "id": "0d7229bc"
      },
      "source": [
        "**Итог:** визуализация сделана."
      ]
    },
    {
      "cell_type": "markdown",
      "id": "380622c9",
      "metadata": {
        "id": "380622c9"
      },
      "source": [
        "### Соотношение пользователей с подпиской и без подписки"
      ]
    },
    {
      "cell_type": "markdown",
      "id": "1914d217",
      "metadata": {
        "id": "1914d217"
      },
      "source": [
        "Сперва посмотрим, какая доля каждого типа подписки в общей доле пользователей."
      ]
    },
    {
      "cell_type": "code",
      "execution_count": null,
      "id": "3eedc30f",
      "metadata": {
        "id": "3eedc30f",
        "outputId": "e228919d-088a-4a48-e73f-0b4d61581a75"
      },
      "outputs": [
        {
          "data": {
            "text/plain": [
              "0.5443285528031291"
            ]
          },
          "execution_count": 22,
          "metadata": {},
          "output_type": "execute_result"
        }
      ],
      "source": [
        "dt_users.loc[dt_users['subscription_type'] == 'free']['subscription_type'].count() / dt_users['subscription_type'].count()"
      ]
    },
    {
      "cell_type": "markdown",
      "id": "81579858",
      "metadata": {
        "id": "81579858"
      },
      "source": [
        "Доля пользователей без подписки составляет примерно 54%."
      ]
    },
    {
      "cell_type": "code",
      "execution_count": null,
      "id": "e754e687",
      "metadata": {
        "id": "e754e687",
        "outputId": "e3906b5c-ada6-40e2-fcab-e57447e18d91"
      },
      "outputs": [
        {
          "data": {
            "text/plain": [
              "0.4556714471968709"
            ]
          },
          "execution_count": 23,
          "metadata": {},
          "output_type": "execute_result"
        }
      ],
      "source": [
        "dt_users.loc[dt_users['subscription_type'] == 'ultra']['subscription_type'].count() / dt_users['subscription_type'].count()"
      ]
    },
    {
      "cell_type": "markdown",
      "id": "63e3ce06",
      "metadata": {
        "id": "63e3ce06"
      },
      "source": [
        "Доля пользователей с подпиской Ultra составляет примерно 46%. Посмотрим их соотношение."
      ]
    },
    {
      "cell_type": "code",
      "execution_count": null,
      "id": "5187ae57",
      "metadata": {
        "id": "5187ae57",
        "outputId": "e5d2ebb3-103e-442c-9313-ff72a71a0252"
      },
      "outputs": [
        {
          "data": {
            "text/plain": [
              "1.1945636623748213"
            ]
          },
          "execution_count": 24,
          "metadata": {},
          "output_type": "execute_result"
        }
      ],
      "source": [
        "dt_users.loc[dt_users['subscription_type'] == 'free']['subscription_type'].count() / dt_users.loc[dt_users['subscription_type'] == 'ultra']['subscription_type'].count()"
      ]
    },
    {
      "cell_type": "markdown",
      "id": "6c865252",
      "metadata": {
        "id": "6c865252"
      },
      "source": [
        "Пользователей без подписки больше, чем пользователей с подпиской Ultra примерно в 1,2 раза. Визуализируем данные."
      ]
    },
    {
      "cell_type": "code",
      "execution_count": null,
      "id": "e095ec8b",
      "metadata": {
        "id": "e095ec8b",
        "outputId": "7588122b-28dc-404a-a045-ff856f4ddb34"
      },
      "outputs": [
        {
          "data": {
            "image/png": "[encoded data removed]",
            "text/plain": [
              "<Figure size 432x288 with 1 Axes>"
            ]
          },
          "metadata": {},
          "output_type": "display_data"
        }
      ],
      "source": [
        "dt_users['subscription_type'].value_counts().plot(kind='pie', autopct='%1.1f%%')\n",
        "plt.title('Распределение вариантов подписок')\n",
        "plt.ylabel('Количество подписок')\n",
        "plt.show()"
      ]
    },
    {
      "cell_type": "markdown",
      "id": "b0dc6712",
      "metadata": {
        "id": "b0dc6712"
      },
      "source": [
        "**Итог:** визуализация сделана. Как видно, пользователей с подпиской Ultra меньше, чем пользователей без подписки."
      ]
    },
    {
      "cell_type": "markdown",
      "id": "274e7f07",
      "metadata": {
        "id": "274e7f07"
      },
      "source": [
        "### Возраст пользователей"
      ]
    },
    {
      "cell_type": "markdown",
      "id": "0762f679",
      "metadata": {
        "id": "0762f679"
      },
      "source": [
        "Сделаем распределение пользователей по возрасту."
      ]
    },
    {
      "cell_type": "code",
      "execution_count": null,
      "id": "4804dd27",
      "metadata": {
        "id": "4804dd27",
        "outputId": "9894de13-d6db-460a-b50b-fa57331c9fce"
      },
      "outputs": [
        {
          "data": {
            "image/png": "[encoded data removed]",
            "text/plain": [
              "<Figure size 432x288 with 1 Axes>"
            ]
          },
          "metadata": {
            "needs_background": "light"
          },
          "output_type": "display_data"
        }
      ],
      "source": [
        "dt_users['age'].hist(bins=30)\n",
        "plt.title('Гистограмма возраста пользователей')\n",
        "plt.xlabel('Возраст')\n",
        "plt.ylabel('Количество пользователей')\n",
        "plt.show()"
      ]
    },
    {
      "cell_type": "code",
      "execution_count": null,
      "id": "baf1ed09",
      "metadata": {
        "id": "baf1ed09",
        "outputId": "d2836b06-4edc-471c-b091-205d61764cd1"
      },
      "outputs": [
        {
          "data": {
            "text/plain": [
              "count    1534.000000\n",
              "mean       24.903520\n",
              "std         4.572367\n",
              "min        12.000000\n",
              "25%        22.000000\n",
              "50%        25.000000\n",
              "75%        28.000000\n",
              "max        43.000000\n",
              "Name: age, dtype: float64"
            ]
          },
          "execution_count": 27,
          "metadata": {},
          "output_type": "execute_result"
        }
      ],
      "source": [
        "dt_users['age'].describe()"
      ]
    },
    {
      "cell_type": "markdown",
      "id": "3798b653",
      "metadata": {
        "id": "3798b653"
      },
      "source": [
        "Из гистограмму видно, что средний возраст пользователя сервиса - 25 лет. Максимальный возраст пользователя - 43 года, минимальный - 12 лет."
      ]
    },
    {
      "cell_type": "markdown",
      "id": "4e6c167d",
      "metadata": {
        "id": "4e6c167d"
      },
      "source": [
        "**Итог:** визуализация сделана."
      ]
    },
    {
      "cell_type": "markdown",
      "id": "2e6bba08",
      "metadata": {
        "id": "2e6bba08"
      },
      "source": [
        "### Расстояние, которое пользователь преодолел за одну поездку"
      ]
    },
    {
      "cell_type": "markdown",
      "id": "6314a697",
      "metadata": {
        "id": "6314a697"
      },
      "source": [
        "Сделаем распределение по поездкам пользователей."
      ]
    },
    {
      "cell_type": "code",
      "execution_count": null,
      "id": "c9653389",
      "metadata": {
        "id": "c9653389",
        "outputId": "736d9632-d759-4385-9092-f877350ba441"
      },
      "outputs": [
        {
          "data": {
            "image/png": "[encoded data removed]",
            "text/plain": [
              "<Figure size 432x288 with 1 Axes>"
            ]
          },
          "metadata": {
            "needs_background": "light"
          },
          "output_type": "display_data"
        }
      ],
      "source": [
        "dt_rides['distance'].hist(bins=30)\n",
        "plt.title('Гистограмма поездок пользователей')\n",
        "plt.xlabel('Расстояние в метрах')\n",
        "plt.ylabel('Количество пользователей')\n",
        "plt.show()"
      ]
    },
    {
      "cell_type": "code",
      "execution_count": null,
      "id": "0fb12b1f",
      "metadata": {
        "id": "0fb12b1f",
        "outputId": "669478d3-54b4-434e-ba54-f0a016f289db"
      },
      "outputs": [
        {
          "data": {
            "text/plain": [
              "count    18068.000000\n",
              "mean      3070.659976\n",
              "std       1116.831209\n",
              "min          0.855683\n",
              "25%       2543.226360\n",
              "50%       3133.609994\n",
              "75%       3776.222735\n",
              "max       7211.007745\n",
              "Name: distance, dtype: float64"
            ]
          },
          "execution_count": 29,
          "metadata": {},
          "output_type": "execute_result"
        }
      ],
      "source": [
        "dt_rides['distance'].describe()"
      ]
    },
    {
      "cell_type": "markdown",
      "id": "56b6cd1b",
      "metadata": {
        "id": "56b6cd1b"
      },
      "source": [
        "Среднее расстояние, на которое совершают поездки: 3100 м или 3,1 км. При этом среднее и медианные значения значительно не отличаются, соответственно выбросы не сильно влияют на данные."
      ]
    },
    {
      "cell_type": "markdown",
      "id": "b02189ee",
      "metadata": {
        "id": "b02189ee"
      },
      "source": [
        "Небольшой пик в районе 600-700 метрах скорее всего связан с теми пользователями, которые взяли самокат в аренду первый раз с целью попробовать и оценить удобство использования."
      ]
    },
    {
      "cell_type": "markdown",
      "id": "3f59a24d",
      "metadata": {
        "id": "3f59a24d"
      },
      "source": [
        "**Итог:** визуализация сделана."
      ]
    },
    {
      "cell_type": "markdown",
      "id": "70a2e503",
      "metadata": {
        "id": "70a2e503"
      },
      "source": [
        "### Продолжительность поездок"
      ]
    },
    {
      "cell_type": "code",
      "execution_count": null,
      "id": "d915b9fd",
      "metadata": {
        "id": "d915b9fd",
        "outputId": "7585e92c-bbc8-45bd-d22f-b37b338174df"
      },
      "outputs": [
        {
          "data": {
            "image/png": "[encoded data removed]",
            "text/plain": [
              "<Figure size 432x288 with 1 Axes>"
            ]
          },
          "metadata": {
            "needs_background": "light"
          },
          "output_type": "display_data"
        }
      ],
      "source": [
        "dt_rides['duration'].hist(bins=50)\n",
        "plt.title('Гистограмма продолжительности поездок')\n",
        "plt.xlabel('Время в минутах')\n",
        "plt.ylabel('Количество пользователей')\n",
        "plt.show()"
      ]
    },
    {
      "cell_type": "code",
      "execution_count": null,
      "id": "6ac1d691",
      "metadata": {
        "id": "6ac1d691",
        "outputId": "81651807-4232-4269-c6b3-6ae7cfe5cc34"
      },
      "outputs": [
        {
          "data": {
            "text/plain": [
              "count    18068.000000\n",
              "mean        17.805011\n",
              "std          6.091051\n",
              "min          0.500000\n",
              "25%         13.597563\n",
              "50%         17.678395\n",
              "75%         21.724800\n",
              "max         40.823963\n",
              "Name: duration, dtype: float64"
            ]
          },
          "execution_count": 31,
          "metadata": {},
          "output_type": "execute_result"
        }
      ],
      "source": [
        "dt_rides['duration'].describe()"
      ]
    },
    {
      "cell_type": "markdown",
      "id": "52847e0b",
      "metadata": {
        "id": "52847e0b"
      },
      "source": [
        "Среднее время поездки составляет 17,7 минуты или 0,3 часа. Таким образом, средняя скорость, с которой перемещаются пользователи, составляет 10,3 км/ч."
      ]
    },
    {
      "cell_type": "markdown",
      "id": "4b1adc9c",
      "metadata": {
        "id": "4b1adc9c"
      },
      "source": [
        "Посмотрим на строки, в которых продолжительность поездки менее 2 минут."
      ]
    },
    {
      "cell_type": "code",
      "execution_count": null,
      "id": "b7a787f2",
      "metadata": {
        "id": "b7a787f2",
        "outputId": "43a28029-b8f5-4e83-8ba5-0dbc4dea8169"
      },
      "outputs": [
        {
          "data": {
            "text/html": [
              "<div>\n",
              "<style scoped>\n",
              "    .dataframe tbody tr th:only-of-type {\n",
              "        vertical-align: middle;\n",
              "    }\n",
              "\n",
              "    .dataframe tbody tr th {\n",
              "        vertical-align: top;\n",
              "    }\n",
              "\n",
              "    .dataframe thead th {\n",
              "        text-align: right;\n",
              "    }\n",
              "</style>\n",
              "<table border=\"1\" class=\"dataframe\">\n",
              "  <thead>\n",
              "    <tr style=\"text-align: right;\">\n",
              "      <th></th>\n",
              "      <th>user_id</th>\n",
              "      <th>distance</th>\n",
              "      <th>duration</th>\n",
              "      <th>date</th>\n",
              "      <th>month</th>\n",
              "    </tr>\n",
              "  </thead>\n",
              "  <tbody>\n",
              "    <tr>\n",
              "      <th>6531</th>\n",
              "      <td>701</td>\n",
              "      <td>4196.445201</td>\n",
              "      <td>0.5</td>\n",
              "      <td>2021-08-31</td>\n",
              "      <td>8</td>\n",
              "    </tr>\n",
              "    <tr>\n",
              "      <th>6570</th>\n",
              "      <td>704</td>\n",
              "      <td>4830.824371</td>\n",
              "      <td>0.5</td>\n",
              "      <td>2021-10-14</td>\n",
              "      <td>10</td>\n",
              "    </tr>\n",
              "    <tr>\n",
              "      <th>6680</th>\n",
              "      <td>712</td>\n",
              "      <td>4684.004397</td>\n",
              "      <td>0.5</td>\n",
              "      <td>2021-03-04</td>\n",
              "      <td>3</td>\n",
              "    </tr>\n",
              "    <tr>\n",
              "      <th>6695</th>\n",
              "      <td>713</td>\n",
              "      <td>5215.642710</td>\n",
              "      <td>0.5</td>\n",
              "      <td>2021-02-25</td>\n",
              "      <td>2</td>\n",
              "    </tr>\n",
              "    <tr>\n",
              "      <th>6768</th>\n",
              "      <td>718</td>\n",
              "      <td>5197.436649</td>\n",
              "      <td>0.5</td>\n",
              "      <td>2021-02-11</td>\n",
              "      <td>2</td>\n",
              "    </tr>\n",
              "    <tr>\n",
              "      <th>...</th>\n",
              "      <td>...</td>\n",
              "      <td>...</td>\n",
              "      <td>...</td>\n",
              "      <td>...</td>\n",
              "      <td>...</td>\n",
              "    </tr>\n",
              "    <tr>\n",
              "      <th>17004</th>\n",
              "      <td>1460</td>\n",
              "      <td>5531.335845</td>\n",
              "      <td>0.5</td>\n",
              "      <td>2021-01-19</td>\n",
              "      <td>1</td>\n",
              "    </tr>\n",
              "    <tr>\n",
              "      <th>17242</th>\n",
              "      <td>1477</td>\n",
              "      <td>6724.932981</td>\n",
              "      <td>0.5</td>\n",
              "      <td>2021-01-12</td>\n",
              "      <td>1</td>\n",
              "    </tr>\n",
              "    <tr>\n",
              "      <th>17314</th>\n",
              "      <td>1483</td>\n",
              "      <td>4445.481070</td>\n",
              "      <td>0.5</td>\n",
              "      <td>2021-03-06</td>\n",
              "      <td>3</td>\n",
              "    </tr>\n",
              "    <tr>\n",
              "      <th>17505</th>\n",
              "      <td>1496</td>\n",
              "      <td>5722.551787</td>\n",
              "      <td>0.5</td>\n",
              "      <td>2021-02-14</td>\n",
              "      <td>2</td>\n",
              "    </tr>\n",
              "    <tr>\n",
              "      <th>17909</th>\n",
              "      <td>1524</td>\n",
              "      <td>4103.998874</td>\n",
              "      <td>0.5</td>\n",
              "      <td>2021-06-18</td>\n",
              "      <td>6</td>\n",
              "    </tr>\n",
              "  </tbody>\n",
              "</table>\n",
              "<p>95 rows × 5 columns</p>\n",
              "</div>"
            ],
            "text/plain": [
              "       user_id     distance  duration       date  month\n",
              "6531       701  4196.445201       0.5 2021-08-31      8\n",
              "6570       704  4830.824371       0.5 2021-10-14     10\n",
              "6680       712  4684.004397       0.5 2021-03-04      3\n",
              "6695       713  5215.642710       0.5 2021-02-25      2\n",
              "6768       718  5197.436649       0.5 2021-02-11      2\n",
              "...        ...          ...       ...        ...    ...\n",
              "17004     1460  5531.335845       0.5 2021-01-19      1\n",
              "17242     1477  6724.932981       0.5 2021-01-12      1\n",
              "17314     1483  4445.481070       0.5 2021-03-06      3\n",
              "17505     1496  5722.551787       0.5 2021-02-14      2\n",
              "17909     1524  4103.998874       0.5 2021-06-18      6\n",
              "\n",
              "[95 rows x 5 columns]"
            ]
          },
          "execution_count": 32,
          "metadata": {},
          "output_type": "execute_result"
        }
      ],
      "source": [
        "dt_rides.query('duration <= 2')"
      ]
    },
    {
      "cell_type": "code",
      "execution_count": null,
      "id": "7506d5bb",
      "metadata": {
        "id": "7506d5bb",
        "outputId": "4ebfba48-e156-4c2c-88a5-bfed62fe6024"
      },
      "outputs": [
        {
          "data": {
            "text/plain": [
              "4030.308008428866"
            ]
          },
          "execution_count": 33,
          "metadata": {},
          "output_type": "execute_result"
        }
      ],
      "source": [
        "dt_rides.query('duration <= 2')['distance'].min()"
      ]
    },
    {
      "cell_type": "markdown",
      "id": "77eac2b6",
      "metadata": {
        "id": "77eac2b6"
      },
      "source": [
        "Таких строк 95, время 0,5 минут, а минимальное расстояние 4030 метров. За 0,5 минут такое расстояние на самокате проехать невозможно. Вероятно, ошибка при формировании данных, но в целях сохранения значений выручки оставим данные строки."
      ]
    },
    {
      "cell_type": "markdown",
      "id": "e7c69f6d",
      "metadata": {
        "id": "e7c69f6d"
      },
      "source": [
        "**Итог:** Визуализация сделана. Строки с аномальными значениями удалены."
      ]
    },
    {
      "cell_type": "markdown",
      "id": "0b9d2313",
      "metadata": {
        "id": "0b9d2313"
      },
      "source": [
        "## Шаг 4. Объединение данных"
      ]
    },
    {
      "cell_type": "markdown",
      "id": "5f0e10fb",
      "metadata": {
        "id": "5f0e10fb"
      },
      "source": [
        "### Объединение данных о пользователях, поездка и подписках в один датафрейм"
      ]
    },
    {
      "cell_type": "code",
      "execution_count": null,
      "id": "c84642d5",
      "metadata": {
        "id": "c84642d5",
        "outputId": "008aef24-bf01-47e2-e6dd-2fd47e44ceb8"
      },
      "outputs": [
        {
          "data": {
            "text/html": [
              "<div>\n",
              "<style scoped>\n",
              "    .dataframe tbody tr th:only-of-type {\n",
              "        vertical-align: middle;\n",
              "    }\n",
              "\n",
              "    .dataframe tbody tr th {\n",
              "        vertical-align: top;\n",
              "    }\n",
              "\n",
              "    .dataframe thead th {\n",
              "        text-align: right;\n",
              "    }\n",
              "</style>\n",
              "<table border=\"1\" class=\"dataframe\">\n",
              "  <thead>\n",
              "    <tr style=\"text-align: right;\">\n",
              "      <th></th>\n",
              "      <th>user_id</th>\n",
              "      <th>distance</th>\n",
              "      <th>duration</th>\n",
              "      <th>date</th>\n",
              "      <th>month</th>\n",
              "      <th>name</th>\n",
              "      <th>age</th>\n",
              "      <th>city</th>\n",
              "      <th>subscription_type</th>\n",
              "    </tr>\n",
              "  </thead>\n",
              "  <tbody>\n",
              "    <tr>\n",
              "      <th>0</th>\n",
              "      <td>1</td>\n",
              "      <td>4409.919140</td>\n",
              "      <td>25.599769</td>\n",
              "      <td>2021-01-01</td>\n",
              "      <td>1</td>\n",
              "      <td>Кира</td>\n",
              "      <td>22</td>\n",
              "      <td>Тюмень</td>\n",
              "      <td>ultra</td>\n",
              "    </tr>\n",
              "    <tr>\n",
              "      <th>1</th>\n",
              "      <td>1</td>\n",
              "      <td>2617.592153</td>\n",
              "      <td>15.816871</td>\n",
              "      <td>2021-01-18</td>\n",
              "      <td>1</td>\n",
              "      <td>Кира</td>\n",
              "      <td>22</td>\n",
              "      <td>Тюмень</td>\n",
              "      <td>ultra</td>\n",
              "    </tr>\n",
              "    <tr>\n",
              "      <th>2</th>\n",
              "      <td>1</td>\n",
              "      <td>754.159807</td>\n",
              "      <td>6.232113</td>\n",
              "      <td>2021-04-20</td>\n",
              "      <td>4</td>\n",
              "      <td>Кира</td>\n",
              "      <td>22</td>\n",
              "      <td>Тюмень</td>\n",
              "      <td>ultra</td>\n",
              "    </tr>\n",
              "    <tr>\n",
              "      <th>3</th>\n",
              "      <td>1</td>\n",
              "      <td>2694.783254</td>\n",
              "      <td>18.511000</td>\n",
              "      <td>2021-08-11</td>\n",
              "      <td>8</td>\n",
              "      <td>Кира</td>\n",
              "      <td>22</td>\n",
              "      <td>Тюмень</td>\n",
              "      <td>ultra</td>\n",
              "    </tr>\n",
              "    <tr>\n",
              "      <th>4</th>\n",
              "      <td>1</td>\n",
              "      <td>4028.687306</td>\n",
              "      <td>26.265803</td>\n",
              "      <td>2021-08-28</td>\n",
              "      <td>8</td>\n",
              "      <td>Кира</td>\n",
              "      <td>22</td>\n",
              "      <td>Тюмень</td>\n",
              "      <td>ultra</td>\n",
              "    </tr>\n",
              "  </tbody>\n",
              "</table>\n",
              "</div>"
            ],
            "text/plain": [
              "   user_id     distance   duration       date  month  name  age    city  \\\n",
              "0        1  4409.919140  25.599769 2021-01-01      1  Кира   22  Тюмень   \n",
              "1        1  2617.592153  15.816871 2021-01-18      1  Кира   22  Тюмень   \n",
              "2        1   754.159807   6.232113 2021-04-20      4  Кира   22  Тюмень   \n",
              "3        1  2694.783254  18.511000 2021-08-11      8  Кира   22  Тюмень   \n",
              "4        1  4028.687306  26.265803 2021-08-28      8  Кира   22  Тюмень   \n",
              "\n",
              "  subscription_type  \n",
              "0             ultra  \n",
              "1             ultra  \n",
              "2             ultra  \n",
              "3             ultra  \n",
              "4             ultra  "
            ]
          },
          "execution_count": 34,
          "metadata": {},
          "output_type": "execute_result"
        }
      ],
      "source": [
        "dt_rides_users = dt_rides.merge(dt_users, on='user_id', how='left')\n",
        "dt_rides_users.head()"
      ]
    },
    {
      "cell_type": "code",
      "execution_count": null,
      "id": "35741c47",
      "metadata": {
        "id": "35741c47",
        "outputId": "20bd47c1-d501-444b-bfef-48395ee2936a"
      },
      "outputs": [
        {
          "data": {
            "text/html": [
              "<div>\n",
              "<style scoped>\n",
              "    .dataframe tbody tr th:only-of-type {\n",
              "        vertical-align: middle;\n",
              "    }\n",
              "\n",
              "    .dataframe tbody tr th {\n",
              "        vertical-align: top;\n",
              "    }\n",
              "\n",
              "    .dataframe thead th {\n",
              "        text-align: right;\n",
              "    }\n",
              "</style>\n",
              "<table border=\"1\" class=\"dataframe\">\n",
              "  <thead>\n",
              "    <tr style=\"text-align: right;\">\n",
              "      <th></th>\n",
              "      <th>user_id</th>\n",
              "      <th>distance</th>\n",
              "      <th>duration</th>\n",
              "      <th>date</th>\n",
              "      <th>month</th>\n",
              "      <th>name</th>\n",
              "      <th>age</th>\n",
              "      <th>city</th>\n",
              "      <th>subscription_type</th>\n",
              "      <th>minute_price</th>\n",
              "      <th>start_ride_price</th>\n",
              "      <th>subscription_fee</th>\n",
              "    </tr>\n",
              "  </thead>\n",
              "  <tbody>\n",
              "    <tr>\n",
              "      <th>0</th>\n",
              "      <td>1</td>\n",
              "      <td>4409.919140</td>\n",
              "      <td>25.599769</td>\n",
              "      <td>2021-01-01</td>\n",
              "      <td>1</td>\n",
              "      <td>Кира</td>\n",
              "      <td>22</td>\n",
              "      <td>Тюмень</td>\n",
              "      <td>ultra</td>\n",
              "      <td>6</td>\n",
              "      <td>0</td>\n",
              "      <td>199</td>\n",
              "    </tr>\n",
              "    <tr>\n",
              "      <th>1</th>\n",
              "      <td>1</td>\n",
              "      <td>2617.592153</td>\n",
              "      <td>15.816871</td>\n",
              "      <td>2021-01-18</td>\n",
              "      <td>1</td>\n",
              "      <td>Кира</td>\n",
              "      <td>22</td>\n",
              "      <td>Тюмень</td>\n",
              "      <td>ultra</td>\n",
              "      <td>6</td>\n",
              "      <td>0</td>\n",
              "      <td>199</td>\n",
              "    </tr>\n",
              "    <tr>\n",
              "      <th>2</th>\n",
              "      <td>1</td>\n",
              "      <td>754.159807</td>\n",
              "      <td>6.232113</td>\n",
              "      <td>2021-04-20</td>\n",
              "      <td>4</td>\n",
              "      <td>Кира</td>\n",
              "      <td>22</td>\n",
              "      <td>Тюмень</td>\n",
              "      <td>ultra</td>\n",
              "      <td>6</td>\n",
              "      <td>0</td>\n",
              "      <td>199</td>\n",
              "    </tr>\n",
              "    <tr>\n",
              "      <th>3</th>\n",
              "      <td>1</td>\n",
              "      <td>2694.783254</td>\n",
              "      <td>18.511000</td>\n",
              "      <td>2021-08-11</td>\n",
              "      <td>8</td>\n",
              "      <td>Кира</td>\n",
              "      <td>22</td>\n",
              "      <td>Тюмень</td>\n",
              "      <td>ultra</td>\n",
              "      <td>6</td>\n",
              "      <td>0</td>\n",
              "      <td>199</td>\n",
              "    </tr>\n",
              "    <tr>\n",
              "      <th>4</th>\n",
              "      <td>1</td>\n",
              "      <td>4028.687306</td>\n",
              "      <td>26.265803</td>\n",
              "      <td>2021-08-28</td>\n",
              "      <td>8</td>\n",
              "      <td>Кира</td>\n",
              "      <td>22</td>\n",
              "      <td>Тюмень</td>\n",
              "      <td>ultra</td>\n",
              "      <td>6</td>\n",
              "      <td>0</td>\n",
              "      <td>199</td>\n",
              "    </tr>\n",
              "  </tbody>\n",
              "</table>\n",
              "</div>"
            ],
            "text/plain": [
              "   user_id     distance   duration       date  month  name  age    city  \\\n",
              "0        1  4409.919140  25.599769 2021-01-01      1  Кира   22  Тюмень   \n",
              "1        1  2617.592153  15.816871 2021-01-18      1  Кира   22  Тюмень   \n",
              "2        1   754.159807   6.232113 2021-04-20      4  Кира   22  Тюмень   \n",
              "3        1  2694.783254  18.511000 2021-08-11      8  Кира   22  Тюмень   \n",
              "4        1  4028.687306  26.265803 2021-08-28      8  Кира   22  Тюмень   \n",
              "\n",
              "  subscription_type  minute_price  start_ride_price  subscription_fee  \n",
              "0             ultra             6                 0               199  \n",
              "1             ultra             6                 0               199  \n",
              "2             ultra             6                 0               199  \n",
              "3             ultra             6                 0               199  \n",
              "4             ultra             6                 0               199  "
            ]
          },
          "execution_count": 35,
          "metadata": {},
          "output_type": "execute_result"
        }
      ],
      "source": [
        "total_data = dt_rides_users.merge(dt_subscriptions, on='subscription_type', how='left')\n",
        "total_data.head()"
      ]
    },
    {
      "cell_type": "code",
      "execution_count": null,
      "id": "f08f7bac",
      "metadata": {
        "id": "f08f7bac",
        "outputId": "899e83f4-2aee-4f4c-ab13-f93f73e87cc6"
      },
      "outputs": [
        {
          "name": "stdout",
          "output_type": "stream",
          "text": [
            "<class 'pandas.core.frame.DataFrame'>\n",
            "Int64Index: 18068 entries, 0 to 18067\n",
            "Data columns (total 12 columns):\n",
            " #   Column             Non-Null Count  Dtype         \n",
            "---  ------             --------------  -----         \n",
            " 0   user_id            18068 non-null  int64         \n",
            " 1   distance           18068 non-null  float64       \n",
            " 2   duration           18068 non-null  float64       \n",
            " 3   date               18068 non-null  datetime64[ns]\n",
            " 4   month              18068 non-null  int64         \n",
            " 5   name               18068 non-null  object        \n",
            " 6   age                18068 non-null  int64         \n",
            " 7   city               18068 non-null  object        \n",
            " 8   subscription_type  18068 non-null  object        \n",
            " 9   minute_price       18068 non-null  int64         \n",
            " 10  start_ride_price   18068 non-null  int64         \n",
            " 11  subscription_fee   18068 non-null  int64         \n",
            "dtypes: datetime64[ns](1), float64(2), int64(6), object(3)\n",
            "memory usage: 1.8+ MB\n"
          ]
        }
      ],
      "source": [
        "total_data.info()"
      ]
    },
    {
      "cell_type": "markdown",
      "id": "9845403f",
      "metadata": {
        "id": "9845403f"
      },
      "source": [
        "Количество строк совпадает с количеством строк в самом большом изначальном датафрейме: dt_rides, следовательно потерянных строк нет. Пропусков в столбцах также нет."
      ]
    },
    {
      "cell_type": "markdown",
      "id": "80d22931",
      "metadata": {
        "id": "80d22931"
      },
      "source": [
        "**Итог:** датафрейм создан."
      ]
    },
    {
      "cell_type": "markdown",
      "id": "12c68446",
      "metadata": {
        "id": "12c68446"
      },
      "source": [
        "### Создание двух датафреймов: один о пользователях без подписки, второй о пользователях с подпиской"
      ]
    },
    {
      "cell_type": "markdown",
      "id": "1b6867cb",
      "metadata": {
        "id": "1b6867cb"
      },
      "source": [
        "Создадим два датафрейма для каждого типа подписок."
      ]
    },
    {
      "cell_type": "code",
      "execution_count": null,
      "id": "c5b243ad",
      "metadata": {
        "id": "c5b243ad",
        "outputId": "cf191433-efba-4d3b-f466-300dc905c3a8"
      },
      "outputs": [
        {
          "data": {
            "text/html": [
              "<div>\n",
              "<style scoped>\n",
              "    .dataframe tbody tr th:only-of-type {\n",
              "        vertical-align: middle;\n",
              "    }\n",
              "\n",
              "    .dataframe tbody tr th {\n",
              "        vertical-align: top;\n",
              "    }\n",
              "\n",
              "    .dataframe thead th {\n",
              "        text-align: right;\n",
              "    }\n",
              "</style>\n",
              "<table border=\"1\" class=\"dataframe\">\n",
              "  <thead>\n",
              "    <tr style=\"text-align: right;\">\n",
              "      <th></th>\n",
              "      <th>user_id</th>\n",
              "      <th>distance</th>\n",
              "      <th>duration</th>\n",
              "      <th>date</th>\n",
              "      <th>month</th>\n",
              "      <th>name</th>\n",
              "      <th>age</th>\n",
              "      <th>city</th>\n",
              "      <th>subscription_type</th>\n",
              "      <th>minute_price</th>\n",
              "      <th>start_ride_price</th>\n",
              "      <th>subscription_fee</th>\n",
              "    </tr>\n",
              "  </thead>\n",
              "  <tbody>\n",
              "    <tr>\n",
              "      <th>6500</th>\n",
              "      <td>700</td>\n",
              "      <td>2515.690719</td>\n",
              "      <td>14.944286</td>\n",
              "      <td>2021-01-02</td>\n",
              "      <td>1</td>\n",
              "      <td>Айдар</td>\n",
              "      <td>22</td>\n",
              "      <td>Омск</td>\n",
              "      <td>free</td>\n",
              "      <td>8</td>\n",
              "      <td>50</td>\n",
              "      <td>0</td>\n",
              "    </tr>\n",
              "    <tr>\n",
              "      <th>6501</th>\n",
              "      <td>700</td>\n",
              "      <td>846.932642</td>\n",
              "      <td>16.234663</td>\n",
              "      <td>2021-02-01</td>\n",
              "      <td>2</td>\n",
              "      <td>Айдар</td>\n",
              "      <td>22</td>\n",
              "      <td>Омск</td>\n",
              "      <td>free</td>\n",
              "      <td>8</td>\n",
              "      <td>50</td>\n",
              "      <td>0</td>\n",
              "    </tr>\n",
              "    <tr>\n",
              "      <th>6502</th>\n",
              "      <td>700</td>\n",
              "      <td>4004.434142</td>\n",
              "      <td>20.016628</td>\n",
              "      <td>2021-02-04</td>\n",
              "      <td>2</td>\n",
              "      <td>Айдар</td>\n",
              "      <td>22</td>\n",
              "      <td>Омск</td>\n",
              "      <td>free</td>\n",
              "      <td>8</td>\n",
              "      <td>50</td>\n",
              "      <td>0</td>\n",
              "    </tr>\n",
              "    <tr>\n",
              "      <th>6503</th>\n",
              "      <td>700</td>\n",
              "      <td>1205.911290</td>\n",
              "      <td>9.782872</td>\n",
              "      <td>2021-02-10</td>\n",
              "      <td>2</td>\n",
              "      <td>Айдар</td>\n",
              "      <td>22</td>\n",
              "      <td>Омск</td>\n",
              "      <td>free</td>\n",
              "      <td>8</td>\n",
              "      <td>50</td>\n",
              "      <td>0</td>\n",
              "    </tr>\n",
              "    <tr>\n",
              "      <th>6504</th>\n",
              "      <td>700</td>\n",
              "      <td>3047.379435</td>\n",
              "      <td>17.427673</td>\n",
              "      <td>2021-02-14</td>\n",
              "      <td>2</td>\n",
              "      <td>Айдар</td>\n",
              "      <td>22</td>\n",
              "      <td>Омск</td>\n",
              "      <td>free</td>\n",
              "      <td>8</td>\n",
              "      <td>50</td>\n",
              "      <td>0</td>\n",
              "    </tr>\n",
              "  </tbody>\n",
              "</table>\n",
              "</div>"
            ],
            "text/plain": [
              "      user_id     distance   duration       date  month   name  age  city  \\\n",
              "6500      700  2515.690719  14.944286 2021-01-02      1  Айдар   22  Омск   \n",
              "6501      700   846.932642  16.234663 2021-02-01      2  Айдар   22  Омск   \n",
              "6502      700  4004.434142  20.016628 2021-02-04      2  Айдар   22  Омск   \n",
              "6503      700  1205.911290   9.782872 2021-02-10      2  Айдар   22  Омск   \n",
              "6504      700  3047.379435  17.427673 2021-02-14      2  Айдар   22  Омск   \n",
              "\n",
              "     subscription_type  minute_price  start_ride_price  subscription_fee  \n",
              "6500              free             8                50                 0  \n",
              "6501              free             8                50                 0  \n",
              "6502              free             8                50                 0  \n",
              "6503              free             8                50                 0  \n",
              "6504              free             8                50                 0  "
            ]
          },
          "execution_count": 37,
          "metadata": {},
          "output_type": "execute_result"
        }
      ],
      "source": [
        "free_users = total_data.loc[total_data['subscription_type'] == 'free']\n",
        "free_users.head()"
      ]
    },
    {
      "cell_type": "code",
      "execution_count": null,
      "id": "22c9bdbd",
      "metadata": {
        "id": "22c9bdbd",
        "outputId": "bde15aba-d08e-4b34-92a8-aa8cb57dd5c5"
      },
      "outputs": [
        {
          "data": {
            "text/html": [
              "<div>\n",
              "<style scoped>\n",
              "    .dataframe tbody tr th:only-of-type {\n",
              "        vertical-align: middle;\n",
              "    }\n",
              "\n",
              "    .dataframe tbody tr th {\n",
              "        vertical-align: top;\n",
              "    }\n",
              "\n",
              "    .dataframe thead th {\n",
              "        text-align: right;\n",
              "    }\n",
              "</style>\n",
              "<table border=\"1\" class=\"dataframe\">\n",
              "  <thead>\n",
              "    <tr style=\"text-align: right;\">\n",
              "      <th></th>\n",
              "      <th>user_id</th>\n",
              "      <th>distance</th>\n",
              "      <th>duration</th>\n",
              "      <th>date</th>\n",
              "      <th>month</th>\n",
              "      <th>name</th>\n",
              "      <th>age</th>\n",
              "      <th>city</th>\n",
              "      <th>subscription_type</th>\n",
              "      <th>minute_price</th>\n",
              "      <th>start_ride_price</th>\n",
              "      <th>subscription_fee</th>\n",
              "    </tr>\n",
              "  </thead>\n",
              "  <tbody>\n",
              "    <tr>\n",
              "      <th>0</th>\n",
              "      <td>1</td>\n",
              "      <td>4409.919140</td>\n",
              "      <td>25.599769</td>\n",
              "      <td>2021-01-01</td>\n",
              "      <td>1</td>\n",
              "      <td>Кира</td>\n",
              "      <td>22</td>\n",
              "      <td>Тюмень</td>\n",
              "      <td>ultra</td>\n",
              "      <td>6</td>\n",
              "      <td>0</td>\n",
              "      <td>199</td>\n",
              "    </tr>\n",
              "    <tr>\n",
              "      <th>1</th>\n",
              "      <td>1</td>\n",
              "      <td>2617.592153</td>\n",
              "      <td>15.816871</td>\n",
              "      <td>2021-01-18</td>\n",
              "      <td>1</td>\n",
              "      <td>Кира</td>\n",
              "      <td>22</td>\n",
              "      <td>Тюмень</td>\n",
              "      <td>ultra</td>\n",
              "      <td>6</td>\n",
              "      <td>0</td>\n",
              "      <td>199</td>\n",
              "    </tr>\n",
              "    <tr>\n",
              "      <th>2</th>\n",
              "      <td>1</td>\n",
              "      <td>754.159807</td>\n",
              "      <td>6.232113</td>\n",
              "      <td>2021-04-20</td>\n",
              "      <td>4</td>\n",
              "      <td>Кира</td>\n",
              "      <td>22</td>\n",
              "      <td>Тюмень</td>\n",
              "      <td>ultra</td>\n",
              "      <td>6</td>\n",
              "      <td>0</td>\n",
              "      <td>199</td>\n",
              "    </tr>\n",
              "    <tr>\n",
              "      <th>3</th>\n",
              "      <td>1</td>\n",
              "      <td>2694.783254</td>\n",
              "      <td>18.511000</td>\n",
              "      <td>2021-08-11</td>\n",
              "      <td>8</td>\n",
              "      <td>Кира</td>\n",
              "      <td>22</td>\n",
              "      <td>Тюмень</td>\n",
              "      <td>ultra</td>\n",
              "      <td>6</td>\n",
              "      <td>0</td>\n",
              "      <td>199</td>\n",
              "    </tr>\n",
              "    <tr>\n",
              "      <th>4</th>\n",
              "      <td>1</td>\n",
              "      <td>4028.687306</td>\n",
              "      <td>26.265803</td>\n",
              "      <td>2021-08-28</td>\n",
              "      <td>8</td>\n",
              "      <td>Кира</td>\n",
              "      <td>22</td>\n",
              "      <td>Тюмень</td>\n",
              "      <td>ultra</td>\n",
              "      <td>6</td>\n",
              "      <td>0</td>\n",
              "      <td>199</td>\n",
              "    </tr>\n",
              "  </tbody>\n",
              "</table>\n",
              "</div>"
            ],
            "text/plain": [
              "   user_id     distance   duration       date  month  name  age    city  \\\n",
              "0        1  4409.919140  25.599769 2021-01-01      1  Кира   22  Тюмень   \n",
              "1        1  2617.592153  15.816871 2021-01-18      1  Кира   22  Тюмень   \n",
              "2        1   754.159807   6.232113 2021-04-20      4  Кира   22  Тюмень   \n",
              "3        1  2694.783254  18.511000 2021-08-11      8  Кира   22  Тюмень   \n",
              "4        1  4028.687306  26.265803 2021-08-28      8  Кира   22  Тюмень   \n",
              "\n",
              "  subscription_type  minute_price  start_ride_price  subscription_fee  \n",
              "0             ultra             6                 0               199  \n",
              "1             ultra             6                 0               199  \n",
              "2             ultra             6                 0               199  \n",
              "3             ultra             6                 0               199  \n",
              "4             ultra             6                 0               199  "
            ]
          },
          "execution_count": 38,
          "metadata": {},
          "output_type": "execute_result"
        }
      ],
      "source": [
        "ultra_users = total_data.loc[total_data['subscription_type'] == 'ultra']\n",
        "ultra_users.head()"
      ]
    },
    {
      "cell_type": "markdown",
      "id": "7255bff4",
      "metadata": {
        "id": "7255bff4"
      },
      "source": [
        "**Итог:** датафреймы созданы."
      ]
    },
    {
      "cell_type": "markdown",
      "id": "a5211a98",
      "metadata": {
        "id": "a5211a98"
      },
      "source": [
        "### Визуализация информации о расстоянии и времени поездок для пользователей обеих категорий"
      ]
    },
    {
      "cell_type": "markdown",
      "id": "c6c3b103",
      "metadata": {
        "id": "c6c3b103"
      },
      "source": [
        "Сперва посмотрим на разницу в расстояниях."
      ]
    },
    {
      "cell_type": "code",
      "execution_count": null,
      "id": "19f4d6e1",
      "metadata": {
        "id": "19f4d6e1",
        "outputId": "136cbbed-81c9-4e41-9da2-c2bcb27573f8"
      },
      "outputs": [
        {
          "data": {
            "image/png": "[encoded data removed]",
            "text/plain": [
              "<Figure size 432x288 with 1 Axes>"
            ]
          },
          "metadata": {
            "needs_background": "light"
          },
          "output_type": "display_data"
        }
      ],
      "source": [
        "free_users['distance'].hist(bins=30)\n",
        "ultra_users['distance'].hist(bins=30)\n",
        "plt.title('Гистограммы расстояния поездок для пользователей с подпиской Ultra и без неё')\n",
        "plt.legend(['Без подписки', 'С подпиской Ultra'])\n",
        "plt.xlabel('Расстояние в метрах')\n",
        "plt.ylabel('Количество пользователей')\n",
        "plt.show()"
      ]
    },
    {
      "cell_type": "code",
      "execution_count": null,
      "id": "8a31363f",
      "metadata": {
        "id": "8a31363f",
        "outputId": "0beca547-148d-481f-dd3c-32246f6f3d50"
      },
      "outputs": [
        {
          "data": {
            "text/plain": [
              "count    11568.000000\n",
              "mean      3045.495282\n",
              "std       1246.173806\n",
              "min          0.855683\n",
              "25%       2366.562689\n",
              "50%       3114.648465\n",
              "75%       3905.697894\n",
              "max       7211.007745\n",
              "Name: distance, dtype: float64"
            ]
          },
          "execution_count": 40,
          "metadata": {},
          "output_type": "execute_result"
        }
      ],
      "source": [
        "free_users['distance'].describe()"
      ]
    },
    {
      "cell_type": "code",
      "execution_count": null,
      "id": "01bfdc95",
      "metadata": {
        "id": "01bfdc95",
        "outputId": "de716b5b-10d6-4023-b815-52873052a4a1"
      },
      "outputs": [
        {
          "data": {
            "text/plain": [
              "count    6500.000000\n",
              "mean     3115.445388\n",
              "std       836.895330\n",
              "min       244.210438\n",
              "25%      2785.444017\n",
              "50%      3148.637229\n",
              "75%      3560.574425\n",
              "max      5699.769662\n",
              "Name: distance, dtype: float64"
            ]
          },
          "execution_count": 41,
          "metadata": {},
          "output_type": "execute_result"
        }
      ],
      "source": [
        "ultra_users['distance'].describe()"
      ]
    },
    {
      "cell_type": "markdown",
      "id": "fe92ca39",
      "metadata": {
        "id": "fe92ca39"
      },
      "source": [
        "Для пользователей с подпиской ultra распределение более узкое, однако среднее расстояние между пользователями с подпиской и без подписки примерно одинаковое."
      ]
    },
    {
      "cell_type": "markdown",
      "id": "f0fde58a",
      "metadata": {
        "id": "f0fde58a"
      },
      "source": [
        "Теперь посмотрим на продолжительность поездок."
      ]
    },
    {
      "cell_type": "code",
      "execution_count": null,
      "id": "50b9341a",
      "metadata": {
        "id": "50b9341a",
        "outputId": "3488740d-afd1-42f4-c12b-419742953c43"
      },
      "outputs": [
        {
          "data": {
            "image/png": "[encoded data removed]",
            "text/plain": [
              "<Figure size 432x288 with 1 Axes>"
            ]
          },
          "metadata": {
            "needs_background": "light"
          },
          "output_type": "display_data"
        }
      ],
      "source": [
        "free_users['duration'].hist(bins=30)\n",
        "plt.title('Гистограмма продолжительности поездок для пользователей без подписки')\n",
        "plt.xlabel('Время в минутах')\n",
        "plt.ylabel('Количество пользователей')\n",
        "plt.show()"
      ]
    },
    {
      "cell_type": "markdown",
      "id": "69d4037b",
      "metadata": {
        "id": "69d4037b"
      },
      "source": [
        "Теперь посмотрим на распределение пользователей с подпиской Ultra."
      ]
    },
    {
      "cell_type": "code",
      "execution_count": null,
      "id": "96767ab0",
      "metadata": {
        "id": "96767ab0",
        "outputId": "5c7e297f-4a3b-4b2c-e689-470fa7b7c526"
      },
      "outputs": [
        {
          "data": {
            "image/png": "[encoded data removed]",
            "text/plain": [
              "<Figure size 432x288 with 1 Axes>"
            ]
          },
          "metadata": {
            "needs_background": "light"
          },
          "output_type": "display_data"
        }
      ],
      "source": [
        "ultra_users['duration'].hist(bins=30)\n",
        "plt.title('Гистограмма продолжительности поездок для пользователей с подпиской Ultra')\n",
        "plt.xlabel('Время в минутах')\n",
        "plt.ylabel('Количество пользователей')\n",
        "plt.show()"
      ]
    },
    {
      "cell_type": "code",
      "execution_count": null,
      "id": "8e71f912",
      "metadata": {
        "id": "8e71f912",
        "outputId": "17b60205-6317-4a00-8670-6c386030d958"
      },
      "outputs": [
        {
          "data": {
            "text/plain": [
              "count    11568.000000\n",
              "mean        17.390909\n",
              "std          6.326803\n",
              "min          0.500000\n",
              "25%         12.958437\n",
              "50%         17.326890\n",
              "75%         21.594071\n",
              "max         34.948498\n",
              "Name: duration, dtype: float64"
            ]
          },
          "execution_count": 44,
          "metadata": {},
          "output_type": "execute_result"
        }
      ],
      "source": [
        "free_users['duration'].describe()"
      ]
    },
    {
      "cell_type": "code",
      "execution_count": null,
      "id": "1ad6eea9",
      "metadata": {
        "id": "1ad6eea9",
        "outputId": "d9fe049a-cf0b-4cf4-b34d-98c8ce49d563"
      },
      "outputs": [
        {
          "data": {
            "text/plain": [
              "count    6500.000000\n",
              "mean       18.541985\n",
              "std         5.572048\n",
              "min         3.760353\n",
              "25%        14.524654\n",
              "50%        18.178153\n",
              "75%        21.884129\n",
              "max        40.823963\n",
              "Name: duration, dtype: float64"
            ]
          },
          "execution_count": 45,
          "metadata": {},
          "output_type": "execute_result"
        }
      ],
      "source": [
        "ultra_users['duration'].describe()"
      ]
    },
    {
      "cell_type": "markdown",
      "id": "48f49a6a",
      "metadata": {
        "id": "48f49a6a"
      },
      "source": [
        "Распределение опять более узкое, хоть и в меньшей степени. Наблюдается небольшое отклонение. Люди с подпиской Ultra немного дольше едут, чем люди без подписки. Это видно по среднему и по медиане."
      ]
    },
    {
      "cell_type": "markdown",
      "id": "6dee4b7a",
      "metadata": {
        "id": "6dee4b7a"
      },
      "source": [
        "**Итог:** визуализация сделана."
      ]
    },
    {
      "cell_type": "markdown",
      "id": "89bc2346",
      "metadata": {
        "id": "89bc2346"
      },
      "source": [
        "## Шаг 5. Подсчёт выручки"
      ]
    },
    {
      "cell_type": "markdown",
      "id": "db811168",
      "metadata": {
        "id": "db811168"
      },
      "source": [
        "### Создание датафрейма с агрегированными данными о поездках на основе датафрейма с объединёнными данными из шага 4"
      ]
    },
    {
      "cell_type": "markdown",
      "id": "67f0149c",
      "metadata": {
        "id": "67f0149c"
      },
      "source": [
        "Необходимо сделать датафрейм с суммарным расстоянием, количеством поездок и суммарным временем для каждого пользователя за каждый месяц года.  \n",
        "Сперва округлим продолжительность поездок."
      ]
    },
    {
      "cell_type": "code",
      "execution_count": null,
      "id": "9b59684b",
      "metadata": {
        "scrolled": true,
        "id": "9b59684b",
        "outputId": "cb937cec-ab1d-46c3-fc20-f50e334fc637"
      },
      "outputs": [
        {
          "data": {
            "text/html": [
              "<div>\n",
              "<style scoped>\n",
              "    .dataframe tbody tr th:only-of-type {\n",
              "        vertical-align: middle;\n",
              "    }\n",
              "\n",
              "    .dataframe tbody tr th {\n",
              "        vertical-align: top;\n",
              "    }\n",
              "\n",
              "    .dataframe thead th {\n",
              "        text-align: right;\n",
              "    }\n",
              "</style>\n",
              "<table border=\"1\" class=\"dataframe\">\n",
              "  <thead>\n",
              "    <tr style=\"text-align: right;\">\n",
              "      <th></th>\n",
              "      <th>user_id</th>\n",
              "      <th>distance</th>\n",
              "      <th>duration</th>\n",
              "      <th>date</th>\n",
              "      <th>month</th>\n",
              "      <th>name</th>\n",
              "      <th>age</th>\n",
              "      <th>city</th>\n",
              "      <th>subscription_type</th>\n",
              "      <th>minute_price</th>\n",
              "      <th>start_ride_price</th>\n",
              "      <th>subscription_fee</th>\n",
              "      <th>round_duration</th>\n",
              "    </tr>\n",
              "  </thead>\n",
              "  <tbody>\n",
              "    <tr>\n",
              "      <th>0</th>\n",
              "      <td>1</td>\n",
              "      <td>4409.919140</td>\n",
              "      <td>25.599769</td>\n",
              "      <td>2021-01-01</td>\n",
              "      <td>1</td>\n",
              "      <td>Кира</td>\n",
              "      <td>22</td>\n",
              "      <td>Тюмень</td>\n",
              "      <td>ultra</td>\n",
              "      <td>6</td>\n",
              "      <td>0</td>\n",
              "      <td>199</td>\n",
              "      <td>26.0</td>\n",
              "    </tr>\n",
              "    <tr>\n",
              "      <th>1</th>\n",
              "      <td>1</td>\n",
              "      <td>2617.592153</td>\n",
              "      <td>15.816871</td>\n",
              "      <td>2021-01-18</td>\n",
              "      <td>1</td>\n",
              "      <td>Кира</td>\n",
              "      <td>22</td>\n",
              "      <td>Тюмень</td>\n",
              "      <td>ultra</td>\n",
              "      <td>6</td>\n",
              "      <td>0</td>\n",
              "      <td>199</td>\n",
              "      <td>16.0</td>\n",
              "    </tr>\n",
              "    <tr>\n",
              "      <th>2</th>\n",
              "      <td>1</td>\n",
              "      <td>754.159807</td>\n",
              "      <td>6.232113</td>\n",
              "      <td>2021-04-20</td>\n",
              "      <td>4</td>\n",
              "      <td>Кира</td>\n",
              "      <td>22</td>\n",
              "      <td>Тюмень</td>\n",
              "      <td>ultra</td>\n",
              "      <td>6</td>\n",
              "      <td>0</td>\n",
              "      <td>199</td>\n",
              "      <td>7.0</td>\n",
              "    </tr>\n",
              "    <tr>\n",
              "      <th>3</th>\n",
              "      <td>1</td>\n",
              "      <td>2694.783254</td>\n",
              "      <td>18.511000</td>\n",
              "      <td>2021-08-11</td>\n",
              "      <td>8</td>\n",
              "      <td>Кира</td>\n",
              "      <td>22</td>\n",
              "      <td>Тюмень</td>\n",
              "      <td>ultra</td>\n",
              "      <td>6</td>\n",
              "      <td>0</td>\n",
              "      <td>199</td>\n",
              "      <td>19.0</td>\n",
              "    </tr>\n",
              "    <tr>\n",
              "      <th>4</th>\n",
              "      <td>1</td>\n",
              "      <td>4028.687306</td>\n",
              "      <td>26.265803</td>\n",
              "      <td>2021-08-28</td>\n",
              "      <td>8</td>\n",
              "      <td>Кира</td>\n",
              "      <td>22</td>\n",
              "      <td>Тюмень</td>\n",
              "      <td>ultra</td>\n",
              "      <td>6</td>\n",
              "      <td>0</td>\n",
              "      <td>199</td>\n",
              "      <td>27.0</td>\n",
              "    </tr>\n",
              "  </tbody>\n",
              "</table>\n",
              "</div>"
            ],
            "text/plain": [
              "   user_id     distance   duration       date  month  name  age    city  \\\n",
              "0        1  4409.919140  25.599769 2021-01-01      1  Кира   22  Тюмень   \n",
              "1        1  2617.592153  15.816871 2021-01-18      1  Кира   22  Тюмень   \n",
              "2        1   754.159807   6.232113 2021-04-20      4  Кира   22  Тюмень   \n",
              "3        1  2694.783254  18.511000 2021-08-11      8  Кира   22  Тюмень   \n",
              "4        1  4028.687306  26.265803 2021-08-28      8  Кира   22  Тюмень   \n",
              "\n",
              "  subscription_type  minute_price  start_ride_price  subscription_fee  \\\n",
              "0             ultra             6                 0               199   \n",
              "1             ultra             6                 0               199   \n",
              "2             ultra             6                 0               199   \n",
              "3             ultra             6                 0               199   \n",
              "4             ultra             6                 0               199   \n",
              "\n",
              "   round_duration  \n",
              "0            26.0  \n",
              "1            16.0  \n",
              "2             7.0  \n",
              "3            19.0  \n",
              "4            27.0  "
            ]
          },
          "execution_count": 46,
          "metadata": {},
          "output_type": "execute_result"
        }
      ],
      "source": [
        "total_data['round_duration'] = np.ceil(total_data['duration'])\n",
        "total_data.head()"
      ]
    },
    {
      "cell_type": "code",
      "execution_count": null,
      "id": "15bca2f5",
      "metadata": {
        "id": "15bca2f5",
        "outputId": "34e895fb-233a-4708-a992-f7c5d12687c6"
      },
      "outputs": [
        {
          "name": "stdout",
          "output_type": "stream",
          "text": [
            "<class 'pandas.core.frame.DataFrame'>\n",
            "Int64Index: 18068 entries, 0 to 18067\n",
            "Data columns (total 13 columns):\n",
            " #   Column             Non-Null Count  Dtype         \n",
            "---  ------             --------------  -----         \n",
            " 0   user_id            18068 non-null  int64         \n",
            " 1   distance           18068 non-null  float64       \n",
            " 2   duration           18068 non-null  float64       \n",
            " 3   date               18068 non-null  datetime64[ns]\n",
            " 4   month              18068 non-null  int64         \n",
            " 5   name               18068 non-null  object        \n",
            " 6   age                18068 non-null  int64         \n",
            " 7   city               18068 non-null  object        \n",
            " 8   subscription_type  18068 non-null  object        \n",
            " 9   minute_price       18068 non-null  int64         \n",
            " 10  start_ride_price   18068 non-null  int64         \n",
            " 11  subscription_fee   18068 non-null  int64         \n",
            " 12  round_duration     18068 non-null  float64       \n",
            "dtypes: datetime64[ns](1), float64(3), int64(6), object(3)\n",
            "memory usage: 1.9+ MB\n"
          ]
        }
      ],
      "source": [
        "total_data.info()"
      ]
    },
    {
      "cell_type": "markdown",
      "id": "8021f475",
      "metadata": {
        "id": "8021f475"
      },
      "source": [
        "Округление выполнено. Приступаем к созданию датафрейма."
      ]
    },
    {
      "cell_type": "code",
      "execution_count": null,
      "id": "61bab2d6",
      "metadata": {
        "id": "61bab2d6",
        "outputId": "ff8634c8-240a-409c-b8a5-fd3bc77fc038"
      },
      "outputs": [
        {
          "data": {
            "text/html": [
              "<div>\n",
              "<style scoped>\n",
              "    .dataframe tbody tr th:only-of-type {\n",
              "        vertical-align: middle;\n",
              "    }\n",
              "\n",
              "    .dataframe tbody tr th {\n",
              "        vertical-align: top;\n",
              "    }\n",
              "\n",
              "    .dataframe thead tr th {\n",
              "        text-align: left;\n",
              "    }\n",
              "\n",
              "    .dataframe thead tr:last-of-type th {\n",
              "        text-align: right;\n",
              "    }\n",
              "</style>\n",
              "<table border=\"1\" class=\"dataframe\">\n",
              "  <thead>\n",
              "    <tr>\n",
              "      <th></th>\n",
              "      <th></th>\n",
              "      <th>distance</th>\n",
              "      <th colspan=\"2\" halign=\"left\">round_duration</th>\n",
              "    </tr>\n",
              "    <tr>\n",
              "      <th></th>\n",
              "      <th></th>\n",
              "      <th>sum</th>\n",
              "      <th>sum</th>\n",
              "      <th>count</th>\n",
              "    </tr>\n",
              "    <tr>\n",
              "      <th>user_id</th>\n",
              "      <th>month</th>\n",
              "      <th></th>\n",
              "      <th></th>\n",
              "      <th></th>\n",
              "    </tr>\n",
              "  </thead>\n",
              "  <tbody>\n",
              "    <tr>\n",
              "      <th rowspan=\"5\" valign=\"top\">1</th>\n",
              "      <th>1</th>\n",
              "      <td>7027.511294</td>\n",
              "      <td>42.0</td>\n",
              "      <td>2</td>\n",
              "    </tr>\n",
              "    <tr>\n",
              "      <th>4</th>\n",
              "      <td>754.159807</td>\n",
              "      <td>7.0</td>\n",
              "      <td>1</td>\n",
              "    </tr>\n",
              "    <tr>\n",
              "      <th>8</th>\n",
              "      <td>6723.470560</td>\n",
              "      <td>46.0</td>\n",
              "      <td>2</td>\n",
              "    </tr>\n",
              "    <tr>\n",
              "      <th>10</th>\n",
              "      <td>5809.911100</td>\n",
              "      <td>32.0</td>\n",
              "      <td>2</td>\n",
              "    </tr>\n",
              "    <tr>\n",
              "      <th>11</th>\n",
              "      <td>7003.499363</td>\n",
              "      <td>56.0</td>\n",
              "      <td>3</td>\n",
              "    </tr>\n",
              "  </tbody>\n",
              "</table>\n",
              "</div>"
            ],
            "text/plain": [
              "                  distance round_duration      \n",
              "                       sum            sum count\n",
              "user_id month                                  \n",
              "1       1      7027.511294           42.0     2\n",
              "        4       754.159807            7.0     1\n",
              "        8      6723.470560           46.0     2\n",
              "        10     5809.911100           32.0     2\n",
              "        11     7003.499363           56.0     3"
            ]
          },
          "execution_count": 48,
          "metadata": {},
          "output_type": "execute_result"
        }
      ],
      "source": [
        "agr_group_1 = total_data.groupby(by=['user_id', 'month']).agg({'distance': 'sum', 'round_duration': ['sum', 'count']})\n",
        "agr_group_1.head()"
      ]
    },
    {
      "cell_type": "code",
      "execution_count": null,
      "id": "a8b0f304",
      "metadata": {
        "id": "a8b0f304",
        "outputId": "bb96f678-450e-47ec-c66a-3b33cd964d79"
      },
      "outputs": [
        {
          "data": {
            "text/html": [
              "<div>\n",
              "<style scoped>\n",
              "    .dataframe tbody tr th:only-of-type {\n",
              "        vertical-align: middle;\n",
              "    }\n",
              "\n",
              "    .dataframe tbody tr th {\n",
              "        vertical-align: top;\n",
              "    }\n",
              "\n",
              "    .dataframe thead th {\n",
              "        text-align: right;\n",
              "    }\n",
              "</style>\n",
              "<table border=\"1\" class=\"dataframe\">\n",
              "  <thead>\n",
              "    <tr style=\"text-align: right;\">\n",
              "      <th></th>\n",
              "      <th></th>\n",
              "      <th>distance</th>\n",
              "      <th>round_duration</th>\n",
              "      <th>count_rides</th>\n",
              "    </tr>\n",
              "    <tr>\n",
              "      <th>user_id</th>\n",
              "      <th>month</th>\n",
              "      <th></th>\n",
              "      <th></th>\n",
              "      <th></th>\n",
              "    </tr>\n",
              "  </thead>\n",
              "  <tbody>\n",
              "    <tr>\n",
              "      <th rowspan=\"5\" valign=\"top\">1</th>\n",
              "      <th>1</th>\n",
              "      <td>7027.511294</td>\n",
              "      <td>42.0</td>\n",
              "      <td>2</td>\n",
              "    </tr>\n",
              "    <tr>\n",
              "      <th>4</th>\n",
              "      <td>754.159807</td>\n",
              "      <td>7.0</td>\n",
              "      <td>1</td>\n",
              "    </tr>\n",
              "    <tr>\n",
              "      <th>8</th>\n",
              "      <td>6723.470560</td>\n",
              "      <td>46.0</td>\n",
              "      <td>2</td>\n",
              "    </tr>\n",
              "    <tr>\n",
              "      <th>10</th>\n",
              "      <td>5809.911100</td>\n",
              "      <td>32.0</td>\n",
              "      <td>2</td>\n",
              "    </tr>\n",
              "    <tr>\n",
              "      <th>11</th>\n",
              "      <td>7003.499363</td>\n",
              "      <td>56.0</td>\n",
              "      <td>3</td>\n",
              "    </tr>\n",
              "  </tbody>\n",
              "</table>\n",
              "</div>"
            ],
            "text/plain": [
              "                  distance  round_duration  count_rides\n",
              "user_id month                                          \n",
              "1       1      7027.511294            42.0            2\n",
              "        4       754.159807             7.0            1\n",
              "        8      6723.470560            46.0            2\n",
              "        10     5809.911100            32.0            2\n",
              "        11     7003.499363            56.0            3"
            ]
          },
          "execution_count": 49,
          "metadata": {},
          "output_type": "execute_result"
        }
      ],
      "source": [
        "agr_group_1.columns = ['distance', 'round_duration', 'count_rides']\n",
        "agr_group_1.head()"
      ]
    },
    {
      "cell_type": "code",
      "execution_count": null,
      "id": "ed453ae3",
      "metadata": {
        "scrolled": true,
        "id": "ed453ae3"
      },
      "outputs": [],
      "source": [
        "agr_group_2 = total_data.groupby(by=['user_id', 'month'])['subscription_type', 'minute_price', 'start_ride_price', 'subscription_fee'].max()"
      ]
    },
    {
      "cell_type": "code",
      "execution_count": null,
      "id": "81392a54",
      "metadata": {
        "id": "81392a54",
        "outputId": "4c5c9d70-5f57-4581-ff82-c103558e7917"
      },
      "outputs": [
        {
          "data": {
            "text/html": [
              "<div>\n",
              "<style scoped>\n",
              "    .dataframe tbody tr th:only-of-type {\n",
              "        vertical-align: middle;\n",
              "    }\n",
              "\n",
              "    .dataframe tbody tr th {\n",
              "        vertical-align: top;\n",
              "    }\n",
              "\n",
              "    .dataframe thead th {\n",
              "        text-align: right;\n",
              "    }\n",
              "</style>\n",
              "<table border=\"1\" class=\"dataframe\">\n",
              "  <thead>\n",
              "    <tr style=\"text-align: right;\">\n",
              "      <th></th>\n",
              "      <th></th>\n",
              "      <th>distance</th>\n",
              "      <th>round_duration</th>\n",
              "      <th>count_rides</th>\n",
              "      <th>subscription_type</th>\n",
              "      <th>minute_price</th>\n",
              "      <th>start_ride_price</th>\n",
              "      <th>subscription_fee</th>\n",
              "    </tr>\n",
              "    <tr>\n",
              "      <th>user_id</th>\n",
              "      <th>month</th>\n",
              "      <th></th>\n",
              "      <th></th>\n",
              "      <th></th>\n",
              "      <th></th>\n",
              "      <th></th>\n",
              "      <th></th>\n",
              "      <th></th>\n",
              "    </tr>\n",
              "  </thead>\n",
              "  <tbody>\n",
              "    <tr>\n",
              "      <th rowspan=\"5\" valign=\"top\">1</th>\n",
              "      <th>1</th>\n",
              "      <td>7027.511294</td>\n",
              "      <td>42.0</td>\n",
              "      <td>2</td>\n",
              "      <td>ultra</td>\n",
              "      <td>6</td>\n",
              "      <td>0</td>\n",
              "      <td>199</td>\n",
              "    </tr>\n",
              "    <tr>\n",
              "      <th>4</th>\n",
              "      <td>754.159807</td>\n",
              "      <td>7.0</td>\n",
              "      <td>1</td>\n",
              "      <td>ultra</td>\n",
              "      <td>6</td>\n",
              "      <td>0</td>\n",
              "      <td>199</td>\n",
              "    </tr>\n",
              "    <tr>\n",
              "      <th>8</th>\n",
              "      <td>6723.470560</td>\n",
              "      <td>46.0</td>\n",
              "      <td>2</td>\n",
              "      <td>ultra</td>\n",
              "      <td>6</td>\n",
              "      <td>0</td>\n",
              "      <td>199</td>\n",
              "    </tr>\n",
              "    <tr>\n",
              "      <th>10</th>\n",
              "      <td>5809.911100</td>\n",
              "      <td>32.0</td>\n",
              "      <td>2</td>\n",
              "      <td>ultra</td>\n",
              "      <td>6</td>\n",
              "      <td>0</td>\n",
              "      <td>199</td>\n",
              "    </tr>\n",
              "    <tr>\n",
              "      <th>11</th>\n",
              "      <td>7003.499363</td>\n",
              "      <td>56.0</td>\n",
              "      <td>3</td>\n",
              "      <td>ultra</td>\n",
              "      <td>6</td>\n",
              "      <td>0</td>\n",
              "      <td>199</td>\n",
              "    </tr>\n",
              "  </tbody>\n",
              "</table>\n",
              "</div>"
            ],
            "text/plain": [
              "                  distance  round_duration  count_rides subscription_type  \\\n",
              "user_id month                                                               \n",
              "1       1      7027.511294            42.0            2             ultra   \n",
              "        4       754.159807             7.0            1             ultra   \n",
              "        8      6723.470560            46.0            2             ultra   \n",
              "        10     5809.911100            32.0            2             ultra   \n",
              "        11     7003.499363            56.0            3             ultra   \n",
              "\n",
              "               minute_price  start_ride_price  subscription_fee  \n",
              "user_id month                                                    \n",
              "1       1                 6                 0               199  \n",
              "        4                 6                 0               199  \n",
              "        8                 6                 0               199  \n",
              "        10                6                 0               199  \n",
              "        11                6                 0               199  "
            ]
          },
          "execution_count": 51,
          "metadata": {},
          "output_type": "execute_result"
        }
      ],
      "source": [
        "agr_group_data = agr_group_1.merge(agr_group_2, on=['user_id', 'month'], how='left')\n",
        "agr_group_data.head()"
      ]
    },
    {
      "cell_type": "markdown",
      "id": "b134d37d",
      "metadata": {
        "id": "b134d37d"
      },
      "source": [
        "**Итог:** Датафрейм создан."
      ]
    },
    {
      "cell_type": "markdown",
      "id": "629f6f46",
      "metadata": {
        "id": "629f6f46"
      },
      "source": [
        "### Добавление в датафрейм столбцов с помесячной выручкой, которую принёс каждый пользователь"
      ]
    },
    {
      "cell_type": "markdown",
      "id": "96231bea",
      "metadata": {
        "id": "96231bea"
      },
      "source": [
        "Посчитаем помесячную выручку и добавим новый столбец.  \n",
        "Помесячная выручка считается по формуле: стоимость старта поездки × количество поездок + стоимость одной минуты поездки × общая продолжительность всех поездок в минутах + стоимость подписки."
      ]
    },
    {
      "cell_type": "code",
      "execution_count": null,
      "id": "0ad4327e",
      "metadata": {
        "id": "0ad4327e",
        "outputId": "64cde0d6-d4f8-4c02-e6b6-43dfc4941517"
      },
      "outputs": [
        {
          "data": {
            "text/html": [
              "<div>\n",
              "<style scoped>\n",
              "    .dataframe tbody tr th:only-of-type {\n",
              "        vertical-align: middle;\n",
              "    }\n",
              "\n",
              "    .dataframe tbody tr th {\n",
              "        vertical-align: top;\n",
              "    }\n",
              "\n",
              "    .dataframe thead th {\n",
              "        text-align: right;\n",
              "    }\n",
              "</style>\n",
              "<table border=\"1\" class=\"dataframe\">\n",
              "  <thead>\n",
              "    <tr style=\"text-align: right;\">\n",
              "      <th></th>\n",
              "      <th></th>\n",
              "      <th>distance</th>\n",
              "      <th>round_duration</th>\n",
              "      <th>count_rides</th>\n",
              "      <th>subscription_type</th>\n",
              "      <th>minute_price</th>\n",
              "      <th>start_ride_price</th>\n",
              "      <th>subscription_fee</th>\n",
              "      <th>revenue</th>\n",
              "    </tr>\n",
              "    <tr>\n",
              "      <th>user_id</th>\n",
              "      <th>month</th>\n",
              "      <th></th>\n",
              "      <th></th>\n",
              "      <th></th>\n",
              "      <th></th>\n",
              "      <th></th>\n",
              "      <th></th>\n",
              "      <th></th>\n",
              "      <th></th>\n",
              "    </tr>\n",
              "  </thead>\n",
              "  <tbody>\n",
              "    <tr>\n",
              "      <th rowspan=\"5\" valign=\"top\">1</th>\n",
              "      <th>1</th>\n",
              "      <td>7027.511294</td>\n",
              "      <td>42.0</td>\n",
              "      <td>2</td>\n",
              "      <td>ultra</td>\n",
              "      <td>6</td>\n",
              "      <td>0</td>\n",
              "      <td>199</td>\n",
              "      <td>451.0</td>\n",
              "    </tr>\n",
              "    <tr>\n",
              "      <th>4</th>\n",
              "      <td>754.159807</td>\n",
              "      <td>7.0</td>\n",
              "      <td>1</td>\n",
              "      <td>ultra</td>\n",
              "      <td>6</td>\n",
              "      <td>0</td>\n",
              "      <td>199</td>\n",
              "      <td>241.0</td>\n",
              "    </tr>\n",
              "    <tr>\n",
              "      <th>8</th>\n",
              "      <td>6723.470560</td>\n",
              "      <td>46.0</td>\n",
              "      <td>2</td>\n",
              "      <td>ultra</td>\n",
              "      <td>6</td>\n",
              "      <td>0</td>\n",
              "      <td>199</td>\n",
              "      <td>475.0</td>\n",
              "    </tr>\n",
              "    <tr>\n",
              "      <th>10</th>\n",
              "      <td>5809.911100</td>\n",
              "      <td>32.0</td>\n",
              "      <td>2</td>\n",
              "      <td>ultra</td>\n",
              "      <td>6</td>\n",
              "      <td>0</td>\n",
              "      <td>199</td>\n",
              "      <td>391.0</td>\n",
              "    </tr>\n",
              "    <tr>\n",
              "      <th>11</th>\n",
              "      <td>7003.499363</td>\n",
              "      <td>56.0</td>\n",
              "      <td>3</td>\n",
              "      <td>ultra</td>\n",
              "      <td>6</td>\n",
              "      <td>0</td>\n",
              "      <td>199</td>\n",
              "      <td>535.0</td>\n",
              "    </tr>\n",
              "  </tbody>\n",
              "</table>\n",
              "</div>"
            ],
            "text/plain": [
              "                  distance  round_duration  count_rides subscription_type  \\\n",
              "user_id month                                                               \n",
              "1       1      7027.511294            42.0            2             ultra   \n",
              "        4       754.159807             7.0            1             ultra   \n",
              "        8      6723.470560            46.0            2             ultra   \n",
              "        10     5809.911100            32.0            2             ultra   \n",
              "        11     7003.499363            56.0            3             ultra   \n",
              "\n",
              "               minute_price  start_ride_price  subscription_fee  revenue  \n",
              "user_id month                                                             \n",
              "1       1                 6                 0               199    451.0  \n",
              "        4                 6                 0               199    241.0  \n",
              "        8                 6                 0               199    475.0  \n",
              "        10                6                 0               199    391.0  \n",
              "        11                6                 0               199    535.0  "
            ]
          },
          "execution_count": 52,
          "metadata": {},
          "output_type": "execute_result"
        }
      ],
      "source": [
        "agr_group_data['revenue'] = agr_group_data['start_ride_price'] * agr_group_data['count_rides'] + agr_group_data['minute_price'] * agr_group_data['round_duration'] + agr_group_data['subscription_fee']\n",
        "agr_group_data.head()"
      ]
    },
    {
      "cell_type": "markdown",
      "id": "0dfaccfb",
      "metadata": {
        "id": "0dfaccfb"
      },
      "source": [
        "**Итог:** Все столбцы созданы и рассчитаны."
      ]
    },
    {
      "cell_type": "markdown",
      "id": "67ac19ef",
      "metadata": {
        "id": "67ac19ef"
      },
      "source": [
        "## Шаг 6. Проверка гипотез"
      ]
    },
    {
      "cell_type": "markdown",
      "id": "b6f3e9bb",
      "metadata": {
        "id": "b6f3e9bb"
      },
      "source": [
        "### Тратят ли пользователи с подпиской больше времени на поездки?"
      ]
    },
    {
      "cell_type": "markdown",
      "id": "b6987c7e",
      "metadata": {
        "id": "b6987c7e"
      },
      "source": [
        "Сперва оценим среднее для каждой группы пользователей."
      ]
    },
    {
      "cell_type": "code",
      "execution_count": null,
      "id": "ae326c61",
      "metadata": {
        "id": "ae326c61",
        "outputId": "640550b5-527c-4f50-9467-cc6ae3ae6429"
      },
      "outputs": [
        {
          "data": {
            "text/plain": [
              "17.890992392807746"
            ]
          },
          "execution_count": 53,
          "metadata": {},
          "output_type": "execute_result"
        }
      ],
      "source": [
        "total_data.loc[total_data['subscription_type'] == 'free']['round_duration'].mean()"
      ]
    },
    {
      "cell_type": "code",
      "execution_count": null,
      "id": "25b255ea",
      "metadata": {
        "id": "25b255ea",
        "outputId": "ceea9739-01ed-4782-c688-10724a8c5a41"
      },
      "outputs": [
        {
          "data": {
            "text/plain": [
              "19.037692307692307"
            ]
          },
          "execution_count": 54,
          "metadata": {},
          "output_type": "execute_result"
        }
      ],
      "source": [
        "total_data.loc[total_data['subscription_type'] == 'ultra']['round_duration'].mean()"
      ]
    },
    {
      "cell_type": "markdown",
      "id": "86566355",
      "metadata": {
        "id": "86566355"
      },
      "source": [
        "Согласно среднему, пользователи с Ultra-подпиской тратят времени меньше. Сформулируем нулевую и альтернативную гипотезы:  \n",
        "**Нулевая гипотеза** - пользователи без подписки тратят времени на поездки столько же или меньше, чем пользователи с подпиской.  \n",
        "**Альтернативная гипотеза** - пользователи с подпиской тратят больше времени на поездки.  \n",
        "Уровень значимости установим в 0,05.  \n",
        "Для проверки гипотезы воспользуемся двухвыборочным t-тестом для независимых выборок."
      ]
    },
    {
      "cell_type": "code",
      "execution_count": null,
      "id": "ebc0dcee",
      "metadata": {
        "id": "ebc0dcee",
        "outputId": "08b70757-6e16-4d5c-ad70-9d86a1fdb3bc"
      },
      "outputs": [
        {
          "name": "stdout",
          "output_type": "stream",
          "text": [
            "Отвергаем нулевую гипотезу.\n"
          ]
        }
      ],
      "source": [
        "alpha = 0.05\n",
        "\n",
        "results_duration = st.ttest_ind(\n",
        "    total_data.loc[total_data['subscription_type'] == 'ultra']['round_duration'],  # Выборка значений для пользователей с подпиской Ultra\n",
        "    total_data.loc[total_data['subscription_type'] == 'free']['round_duration'],  # Выборка значений для пользователей без подписки\n",
        "    alternative='greater')\n",
        "if results_duration.pvalue < alpha:\n",
        "    print('Отвергаем нулевую гипотезу.')\n",
        "else:\n",
        "    print('Не получилось отвергнуть нулевую гипотезу.')"
      ]
    },
    {
      "cell_type": "markdown",
      "id": "d0b35a36",
      "metadata": {
        "id": "d0b35a36"
      },
      "source": [
        "По результатам проверки нулевая гипотеза отвергается, соответственно пользователи с подпиской Ultra ездят больше, чем пользователи без подписки."
      ]
    },
    {
      "cell_type": "markdown",
      "id": "a2695fd1",
      "metadata": {
        "id": "a2695fd1"
      },
      "source": [
        "**Итог:** Гипотеза не подтвердилась: люди с подпиской Ultra ездят в среднем столько же или меньше, чем пользователи без подписки."
      ]
    },
    {
      "cell_type": "markdown",
      "id": "43d43fa0",
      "metadata": {
        "id": "43d43fa0"
      },
      "source": [
        "### Не превышает ли расстояние, которое проезжают пользователи с подпиской, 3130 метров?"
      ]
    },
    {
      "cell_type": "markdown",
      "id": "d29955f3",
      "metadata": {
        "id": "d29955f3"
      },
      "source": [
        "Посмотрим сперва на среднее и на медиану."
      ]
    },
    {
      "cell_type": "code",
      "execution_count": null,
      "id": "214f3365",
      "metadata": {
        "id": "214f3365",
        "outputId": "b1ce7598-7cd5-4ee7-eb8b-4356f54c8fb4"
      },
      "outputs": [
        {
          "data": {
            "text/plain": [
              "count    6500.000000\n",
              "mean     3115.445388\n",
              "std       836.895330\n",
              "min       244.210438\n",
              "25%      2785.444017\n",
              "50%      3148.637229\n",
              "75%      3560.574425\n",
              "max      5699.769662\n",
              "Name: distance, dtype: float64"
            ]
          },
          "execution_count": 56,
          "metadata": {},
          "output_type": "execute_result"
        }
      ],
      "source": [
        "total_data.loc[total_data['subscription_type'] == 'ultra']['distance'].describe()"
      ]
    },
    {
      "cell_type": "markdown",
      "id": "2a931f14",
      "metadata": {
        "id": "2a931f14"
      },
      "source": [
        "Согласно среднему, расстояние действительно не превышает 3130 метров, но при этом медиана выше. Сформулируем нулевую и альтернативную гипотезы:  \n",
        "**Нулевая гипотеза** - пользователи с подпиской проезжают в среднем 3130 метров или меньше.    \n",
        "**Альтернативная гипотеза** - пользователи с подпиской проезжают в среднем больше 3130 метров.  \n",
        "Уровень значимости установим в 0,05.  \n",
        "Для проверки гипотезы воспользуемся одновыборочным t-тестом."
      ]
    },
    {
      "cell_type": "code",
      "execution_count": null,
      "id": "c7dd914f",
      "metadata": {
        "id": "c7dd914f",
        "outputId": "870ba2fe-8df6-4ad1-a45d-a6670eb16886"
      },
      "outputs": [
        {
          "name": "stdout",
          "output_type": "stream",
          "text": [
            "Не получилось отвергнуть нулевую гипотезу.\n"
          ]
        }
      ],
      "source": [
        "value = 3130\n",
        "\n",
        "alpha = 0.05\n",
        "\n",
        "results_distance = st.ttest_1samp(\n",
        "    total_data.loc[total_data['subscription_type'] == 'ultra']['distance'], value,\n",
        "    alternative='greater')\n",
        "\n",
        "if results_distance.pvalue < alpha:\n",
        "     print('Отвергаем гипотезу.')\n",
        "else:\n",
        "    print('Не получилось отвергнуть нулевую гипотезу.')"
      ]
    },
    {
      "cell_type": "markdown",
      "id": "9944dce2",
      "metadata": {
        "id": "9944dce2"
      },
      "source": [
        "**Вывод:** очевидно, нулевая гипотеза имеет право на существование. Однозначно нельзя сказать, что пользователи с подпиской Ultra ездят больше 3130 метров."
      ]
    },
    {
      "cell_type": "markdown",
      "id": "820e2ac7",
      "metadata": {
        "id": "820e2ac7"
      },
      "source": [
        "### Больше ли помесячная выручка от пользователей с подпиской, чем от пользователей без подписки?"
      ]
    },
    {
      "cell_type": "markdown",
      "id": "cf46bb15",
      "metadata": {
        "id": "cf46bb15"
      },
      "source": [
        "Сперва посчитаем среднюю выручку для пользователей без подписки:"
      ]
    },
    {
      "cell_type": "code",
      "execution_count": null,
      "id": "9a55f2bc",
      "metadata": {
        "id": "9a55f2bc",
        "outputId": "9199b70c-23d9-4697-f2e7-56fe5ec8881b"
      },
      "outputs": [
        {
          "data": {
            "text/plain": [
              "328.6413651073845"
            ]
          },
          "execution_count": 58,
          "metadata": {},
          "output_type": "execute_result"
        }
      ],
      "source": [
        "agr_group_data.loc[agr_group_data['subscription_type'] == 'free']['revenue'].mean()"
      ]
    },
    {
      "cell_type": "markdown",
      "id": "547c1f9d",
      "metadata": {
        "id": "547c1f9d"
      },
      "source": [
        "Теперь посчитаем среднюю выручку для пользователей с подпиской Ultra:"
      ]
    },
    {
      "cell_type": "code",
      "execution_count": null,
      "id": "21bb4ea4",
      "metadata": {
        "id": "21bb4ea4",
        "outputId": "ae2b45c6-4b1f-4b6d-c2db-d21430131c03"
      },
      "outputs": [
        {
          "data": {
            "text/plain": [
              "362.7921906022502"
            ]
          },
          "execution_count": 59,
          "metadata": {},
          "output_type": "execute_result"
        }
      ],
      "source": [
        "agr_group_data.loc[agr_group_data['subscription_type'] == 'ultra']['revenue'].mean()"
      ]
    },
    {
      "cell_type": "markdown",
      "id": "e1ed3703",
      "metadata": {
        "id": "e1ed3703"
      },
      "source": [
        "По среднему получается, что пользователи без подписки приносят выручки меньше, чем пользователи с подпиской.  \n",
        "Сформулируем нулевую и альтернативную гипотезы:  \n",
        "**Нулевая гипотеза** - пользователи без подписки приносят выручки столько же, как пользователи с подпиской или больше.  \n",
        "**Альтернативная гипотеза** - пользователи с подпиской приносят больше выручки.  \n",
        "Уровень значимости установим в 0,05.  \n",
        "Для проверки гипотезы воспользуемся двухвыборочным t-тестом для независимых выборок."
      ]
    },
    {
      "cell_type": "code",
      "execution_count": null,
      "id": "fd5d663b",
      "metadata": {
        "id": "fd5d663b",
        "outputId": "1c788bc2-b6b9-44e4-c8c2-4328cb6c0892"
      },
      "outputs": [
        {
          "name": "stdout",
          "output_type": "stream",
          "text": [
            "Отвергаем нулевую гипотезу.\n"
          ]
        }
      ],
      "source": [
        "alpha = 0.05\n",
        "\n",
        "results_revenue = st.ttest_ind(\n",
        "    agr_group_data.loc[agr_group_data['subscription_type'] == 'ultra']['revenue'],  # выборка пользователей с подпиской Ultra\n",
        "    agr_group_data.loc[agr_group_data['subscription_type'] == 'free']['revenue'],  # выборка пользователей без подписки\n",
        "    alternative='greater')\n",
        "\n",
        "if results_revenue.pvalue < alpha:\n",
        "    print('Отвергаем нулевую гипотезу.')\n",
        "else:\n",
        "    print('Не получилось отвергнуть нулевую гипотезу.')"
      ]
    },
    {
      "cell_type": "markdown",
      "id": "9ee6b843",
      "metadata": {
        "id": "9ee6b843"
      },
      "source": [
        "**Вывод:** Нулевая гипотеза не подтвердилась, соответственно скорее всего от пользователей с подпиской выручка больше."
      ]
    },
    {
      "cell_type": "markdown",
      "id": "33f10c8c",
      "metadata": {
        "id": "33f10c8c"
      },
      "source": [
        "### Какой тест понадобился бы, если бы техническая команда сервиса обновила сервера и предоставила бы файл для каждого пользователя с данными о количестве обращений до обновления и после него?"
      ]
    },
    {
      "cell_type": "markdown",
      "id": "9902b3d0",
      "metadata": {
        "id": "9902b3d0"
      },
      "source": [
        "Для проверки гипотезы потребовался бы двухвыборочный t-тест для зависимых выборок (метод ```scipy.stats.ttest_rel()```)."
      ]
    },
    {
      "cell_type": "markdown",
      "id": "4d922104",
      "metadata": {
        "id": "4d922104"
      },
      "source": [
        "## Шаг 7. Распределения"
      ]
    },
    {
      "cell_type": "markdown",
      "id": "64c249da",
      "metadata": {
        "id": "64c249da"
      },
      "source": [
        "### Задача 1\n",
        "Отделу маркетинга GoFast поставили задачу: нужно провести акцию с раздачей промокодов на один бесплатный месяц подписки, в рамках которой как минимум 100 существующих клиентов должны продлить эту подписку. То есть по завершении периода действия подписки пользователь может либо отказаться от неё, либо продлить, совершив соответствующий платёж.\n",
        "Эта акция уже проводилась ранее и по итогу выяснилось, что после бесплатного пробного периода подписку продлевают 10 % пользователей. Выясните, какое минимальное количество промокодов нужно разослать, чтобы вероятность не выполнить план была примерно 5 %. Подберите параметры распределения, описывающего эту ситуацию, постройте график распределения и сформулируйте ответ на вопрос о количестве промокодов."
      ]
    },
    {
      "cell_type": "markdown",
      "id": "f7a72b03",
      "metadata": {
        "id": "f7a72b03"
      },
      "source": [
        "Так как мы знаем, что 10% продлевают подписку, то есть каждый десятый, то кажется логичным раздать в 10 раз больше промокодов, то есть 1000. Проверим это."
      ]
    },
    {
      "cell_type": "code",
      "execution_count": null,
      "id": "a1a5e0d4",
      "metadata": {
        "id": "a1a5e0d4",
        "outputId": "8e12e267-daa6-49a9-fa76-974e37009207"
      },
      "outputs": [
        {
          "data": {
            "image/png": "[encoded data removed]",
            "text/plain": [
              "<Figure size 432x288 with 1 Axes>"
            ]
          },
          "metadata": {
            "needs_background": "light"
          },
          "output_type": "display_data"
        }
      ],
      "source": [
        "n_0 = 1000  # количество промокодов\n",
        "p = 0.1  # вероятность успеха\n",
        "\n",
        "distr_promo_0 = []\n",
        "\n",
        "for k in range(0, n_0 + 1):\n",
        "    current_value = binom.pmf(k, n_0, p)\n",
        "    distr_promo_0.append(current_value)\n",
        "\n",
        "plt.bar(range(0, n_0 + 1), distr_promo_0)\n",
        "plt.xlim(25, 175)\n",
        "plt.title('Распределение подписок после раздачи промокодов')\n",
        "plt.xlabel('Количество подписок')\n",
        "plt.ylabel('Вероятность события')\n",
        "plt.show()"
      ]
    },
    {
      "cell_type": "markdown",
      "id": "335fb3b8",
      "metadata": {
        "id": "335fb3b8"
      },
      "source": [
        "По графику видно, что пик в районе 100 промокодов достигает 0,04 и делит вероятности точно пополам. Суммарное значение вероятностей левее пика больше, чем 5%.\n",
        "Проверим кумулятивной функцией."
      ]
    },
    {
      "cell_type": "code",
      "execution_count": null,
      "id": "74da8cb0",
      "metadata": {
        "id": "74da8cb0",
        "outputId": "5a57b840-27bd-4c9a-cbea-31347379316a"
      },
      "outputs": [
        {
          "data": {
            "text/plain": [
              "0.4734009187048347"
            ]
          },
          "execution_count": 62,
          "metadata": {},
          "output_type": "execute_result"
        }
      ],
      "source": [
        "distr_binom_0 = st.binom(n_0, p)\n",
        "\n",
        "x_binom = 100\n",
        "\n",
        "result_binom_0 = 1-distr_binom_0.cdf(x_binom)\n",
        "result_binom_0"
      ]
    },
    {
      "cell_type": "markdown",
      "id": "24f8b3f6",
      "metadata": {
        "id": "24f8b3f6"
      },
      "source": [
        "Шанс не достичь 100 промокодов получается около 47%, что очень много. Подберем такое количество промокодов, при котором шанс выполнить план составит не менее 95%."
      ]
    },
    {
      "cell_type": "code",
      "execution_count": null,
      "id": "d149b08b",
      "metadata": {
        "id": "d149b08b",
        "outputId": "29d5c91c-6604-4833-c6b8-866b2b982800"
      },
      "outputs": [
        {
          "name": "stdout",
          "output_type": "stream",
          "text": [
            "Количество промокодов: 1173\n",
            "Шанс невыполнить план: 0.9504520478979693\n"
          ]
        }
      ],
      "source": [
        "n = 1000\n",
        "p = 0.1\n",
        "x_binom = 100\n",
        "result_binom = 0.47\n",
        "\n",
        "while result_binom < 0.95:\n",
        "    distr_binom = st.binom(n, p)\n",
        "    result_binom = 1-distr_binom.cdf(x_binom)\n",
        "    n += 1\n",
        "\n",
        "print('Количество промокодов:', n)\n",
        "print('Шанс невыполнить план:', result_binom)"
      ]
    },
    {
      "cell_type": "markdown",
      "id": "455d9c73",
      "metadata": {
        "id": "455d9c73"
      },
      "source": [
        "Итого, для достижения плана необходимо раздать 1173 промокода, при этом шанс выполнить план составит 95%. Построим распределение:"
      ]
    },
    {
      "cell_type": "code",
      "execution_count": null,
      "id": "676d5b2c",
      "metadata": {
        "id": "676d5b2c",
        "outputId": "5c46c422-a40d-4cd9-b72e-6661ea0c6812"
      },
      "outputs": [
        {
          "data": {
            "image/png": "[encoded data removed]",
            "text/plain": [
              "<Figure size 432x288 with 1 Axes>"
            ]
          },
          "metadata": {
            "needs_background": "light"
          },
          "output_type": "display_data"
        }
      ],
      "source": [
        "distr_promo = []\n",
        "\n",
        "for k in range(0, n + 1):\n",
        "    current_value = binom.pmf(k, n, p)\n",
        "    distr_promo.append(current_value)\n",
        "\n",
        "plt.bar(range(0, n + 1), distr_promo)\n",
        "plt.xlim(25, 175)\n",
        "plt.title('Распределение подписок после раздачи промокодов')\n",
        "plt.xlabel('Количество подписок')\n",
        "plt.ylabel('Вероятность события')\n",
        "plt.show()"
      ]
    },
    {
      "cell_type": "markdown",
      "id": "6bde2bdb",
      "metadata": {
        "id": "6bde2bdb"
      },
      "source": [
        "**Вывод:** чтобы набрать 100 продлений подписок нужно раздать более 1173 промокодов."
      ]
    },
    {
      "cell_type": "markdown",
      "id": "ab3b24dc",
      "metadata": {
        "id": "ab3b24dc"
      },
      "source": [
        "### Задача 2\n",
        "Отдел маркетинга рассылает клиентам push-уведомления в мобильном приложении. Клиенты могут открыть его или не открывать. Известно, что уведомления открывают около 40 % получивших клиентов. Отдел планирует разослать 1 млн уведомлений. С помощью аппроксимации постройте примерный график распределения и оцените вероятность того, что уведомление откроют не более 399,5 тыс. пользователей."
      ]
    },
    {
      "cell_type": "markdown",
      "id": "ec533f2c",
      "metadata": {
        "id": "ec533f2c"
      },
      "source": [
        "Попробуем сделать через аппроксимацию биномиального распределения нормальным распределением."
      ]
    },
    {
      "cell_type": "code",
      "execution_count": null,
      "id": "6a05f540",
      "metadata": {
        "scrolled": true,
        "id": "6a05f540",
        "outputId": "f305dd0c-9ce3-430a-a989-c065b7ac2f87"
      },
      "outputs": [
        {
          "name": "stdout",
          "output_type": "stream",
          "text": [
            "0.15371708296369768\n"
          ]
        },
        {
          "data": {
            "image/png": "[encoded data removed]",
            "text/plain": [
              "<Figure size 432x288 with 1 Axes>"
            ]
          },
          "metadata": {
            "needs_background": "light"
          },
          "output_type": "display_data"
        }
      ],
      "source": [
        "# задаём параметры биномиального распределения\n",
        "n_notif = 1000000\n",
        "p_notif = 0.4\n",
        "\n",
        "# зададим мат.ожидание и ст.отклонение нормального распределения равными\n",
        "# мат.ожиданию и ст.отклонению биномиального распределения\n",
        "mu_notif = n_notif * p_notif\n",
        "sigma_notif = sqrt(n_notif * p_notif * (1 - p_notif))\n",
        "\n",
        "# задаём нормальное распределение\n",
        "distr_notif = st.norm(mu_notif, sigma_notif)\n",
        "\n",
        "# считаем вероятность хвоста слева\n",
        "result_notif = distr_notif.cdf(399500)\n",
        "print(result_notif)\n",
        "\n",
        "# cтроим график\n",
        "def linspace(start, stop, num):\n",
        "    step = (stop - start) / (num - 1)\n",
        "    result = []\n",
        "    for i in range(int(num)):\n",
        "        result.append(start + step * i)\n",
        "    return result\n",
        "\n",
        "left = int(mu_notif - 4 * sigma_notif)\n",
        "right = int(mu_notif + 4 * sigma_notif)\n",
        "\n",
        "x = linspace(left, right, 1000)\n",
        "theplot = plt.subplot()\n",
        "theplot.plot(x, norm.pdf(x, mu_notif, sigma_notif), 'b-', lw=2)\n",
        "\n",
        "x_ticks = linspace(int(mu_notif - 3 * sigma_notif), int(mu_notif + 3 * sigma_notif), 3 * sigma_notif + 1)\n",
        "theplot.set_xticks(x_ticks)\n",
        "plt.xscale('linear')\n",
        "plt.title('Распределение вероятности открытия push-уведомлений')\n",
        "plt.xlabel('Количество прочитанных push-уведомлений')\n",
        "plt.ylabel('Вероятность события')\n",
        "plt.show()"
      ]
    },
    {
      "cell_type": "markdown",
      "id": "1ef8e7da",
      "metadata": {
        "id": "1ef8e7da"
      },
      "source": [
        "**Вывод:** Вероятность, что откроют push-уведомление не более 399500 раз составляет 15,4 %."
      ]
    },
    {
      "cell_type": "markdown",
      "id": "afabbf26",
      "metadata": {
        "id": "afabbf26"
      },
      "source": [
        "## Заключение и общие выводы\n",
        "\n",
        "### Обработка данных  \n",
        "\n",
        "В рамках работы были обработаны данные из трех файлов:\n",
        "- сведения о пользователях,\n",
        "- сведения о поездках,\n",
        "- сведения о подписках.  \n",
        "\n",
        "В начальных данных пропусков не было обнаружено. Вместе с тем, в файле о поездках были найдены аномальные значения. Так, в файле было 95 строк, в которых расстояние поездки составляло более 4 километров, но время поездки было всего 0,5 минуты.\n",
        "\n",
        "### Анализ данных и проверка гипотез.  \n",
        "\n",
        "Были построены визуализации и определено следующее:\n",
        "- больше всего пользователей сервиса из Пятигорска. Всего сервис представлен в 8 городах.\n",
        "- среди пользователей сервиса большинство не пользуется подпиской (54%).\n",
        "- сервисом пользуются люди от 12 до 43 лет.\n",
        "- средняя дистанция, на которую совершают поездки, около 3 километров. При этом средняя скорость движения составляет 10 км/ч.  \n",
        "\n",
        "Сформулированы и проверены следующие гипотезы:\n",
        "- пользователи с подпиской тратят больше времени на поездки. Вывод: скорее всего, так и есть. Проверка гипотезы были осуществлена с помощью двухвыборочного t-теста для независимых выборок.\n",
        "- пользователи с подпиской ездят меньшее, чем 3130 метров за одну поездку. Вывод: не удалось опровергнуть. Скорее всего, так и есть. Проверка гипотезы была осуществлена одновыборочным t-тестом.\n",
        "- пользователи с подпиской приносят больше выручки, чем пользователи без подписки. Вывод: не удалось опровергнуть. Вероятно, пользователи с подпиской приносят больше выручки. Проверка гипотезы была осуществлена с помощью двухвыборочного t-теста для независимых выборок.  \n",
        "\n",
        "Решены задачи:\n",
        "- установлено необходимое количество промокодов: минимум 1173 промокода.\n",
        "- установлена вероятность, что уведомления откроют менее 399 500 раз: 15,4%.\n",
        "\n",
        "### Рекомендации по улучшению и уточнению анализа  \n",
        "\n",
        "\n",
        "В целях уточнения результатов анализа рекомендуется:\n",
        "- предоставить данные за другие временные промежутки.\n",
        "- предоставить данные после модернизации приложения сервиса. О модернизации приложения говорилось в п. 7.4.\n",
        "- проверить алгоритм сбора и выгрузки данных на возможные ошибки. Указанные выше 95 строк с аномально большим расстоянием при аномально малом времени возможно связаны с ошибкой в алгоритмах сбора и выгрузки данных."
      ]
    },
    {
      "cell_type": "code",
      "execution_count": null,
      "id": "866ead86",
      "metadata": {
        "id": "866ead86"
      },
      "outputs": [],
      "source": []
    }
  ],
  "metadata": {
    "ExecuteTimeLog": [
      {
        "duration": 48,
        "start_time": "2024-03-10T16:22:31.369Z"
      },
      {
        "duration": 370,
        "start_time": "2024-03-10T16:22:35.396Z"
      },
      {
        "duration": 194,
        "start_time": "2024-03-10T16:22:37.172Z"
      },
      {
        "duration": 82,
        "start_time": "2024-03-10T16:23:16.374Z"
      },
      {
        "duration": 397,
        "start_time": "2024-03-11T08:20:45.750Z"
      },
      {
        "duration": 195,
        "start_time": "2024-03-11T08:20:56.095Z"
      },
      {
        "duration": 15,
        "start_time": "2024-03-11T08:21:11.998Z"
      },
      {
        "duration": 8,
        "start_time": "2024-03-11T08:21:23.486Z"
      },
      {
        "duration": 7,
        "start_time": "2024-03-11T08:21:35.486Z"
      },
      {
        "duration": 12,
        "start_time": "2024-03-11T08:22:00.478Z"
      },
      {
        "duration": 11,
        "start_time": "2024-03-11T08:23:42.646Z"
      },
      {
        "duration": 11,
        "start_time": "2024-03-11T08:23:54.254Z"
      },
      {
        "duration": 13,
        "start_time": "2024-03-11T08:32:43.253Z"
      },
      {
        "duration": 52,
        "start_time": "2024-03-11T08:32:51.632Z"
      },
      {
        "duration": 11,
        "start_time": "2024-03-11T08:38:13.124Z"
      },
      {
        "duration": 6,
        "start_time": "2024-03-11T08:40:54.609Z"
      },
      {
        "duration": 10,
        "start_time": "2024-03-11T08:48:55.671Z"
      },
      {
        "duration": 10,
        "start_time": "2024-03-11T08:49:13.073Z"
      },
      {
        "duration": 8,
        "start_time": "2024-03-11T09:01:06.271Z"
      },
      {
        "duration": 9,
        "start_time": "2024-03-11T09:18:43.419Z"
      },
      {
        "duration": 551,
        "start_time": "2024-03-11T09:44:16.692Z"
      },
      {
        "duration": 5,
        "start_time": "2024-03-11T09:44:46.833Z"
      },
      {
        "duration": 75,
        "start_time": "2024-03-11T09:45:01.650Z"
      },
      {
        "duration": 5,
        "start_time": "2024-03-11T09:45:08.011Z"
      },
      {
        "duration": 128,
        "start_time": "2024-03-11T09:45:36.083Z"
      },
      {
        "duration": 129,
        "start_time": "2024-03-11T09:45:51.675Z"
      },
      {
        "duration": 195,
        "start_time": "2024-03-11T09:45:55.995Z"
      },
      {
        "duration": 6,
        "start_time": "2024-03-11T09:46:24.611Z"
      },
      {
        "duration": 9,
        "start_time": "2024-03-11T10:05:55.482Z"
      },
      {
        "duration": 5,
        "start_time": "2024-03-11T10:06:16.936Z"
      },
      {
        "duration": 5,
        "start_time": "2024-03-11T10:07:22.154Z"
      },
      {
        "duration": 6,
        "start_time": "2024-03-11T10:08:38.506Z"
      },
      {
        "duration": 7,
        "start_time": "2024-03-11T10:09:50.401Z"
      },
      {
        "duration": 70,
        "start_time": "2024-03-11T10:10:24.890Z"
      },
      {
        "duration": 7,
        "start_time": "2024-03-11T10:10:33.745Z"
      },
      {
        "duration": 20,
        "start_time": "2024-03-11T10:34:11.976Z"
      },
      {
        "duration": 12,
        "start_time": "2024-03-11T10:36:44.449Z"
      },
      {
        "duration": 143,
        "start_time": "2024-03-11T10:39:20.818Z"
      },
      {
        "duration": 125,
        "start_time": "2024-03-11T10:46:09.828Z"
      },
      {
        "duration": 137,
        "start_time": "2024-03-11T10:52:28.288Z"
      },
      {
        "duration": 3,
        "start_time": "2024-03-11T10:52:37.528Z"
      },
      {
        "duration": 150,
        "start_time": "2024-03-11T10:52:43.320Z"
      },
      {
        "duration": 860,
        "start_time": "2024-03-11T15:36:07.455Z"
      },
      {
        "duration": 3,
        "start_time": "2024-03-11T15:36:09.401Z"
      },
      {
        "duration": 209,
        "start_time": "2024-03-11T15:36:15.396Z"
      },
      {
        "duration": 13,
        "start_time": "2024-03-11T15:36:16.720Z"
      },
      {
        "duration": 12,
        "start_time": "2024-03-11T15:36:18.384Z"
      },
      {
        "duration": 10,
        "start_time": "2024-03-11T15:36:19.709Z"
      },
      {
        "duration": 10,
        "start_time": "2024-03-11T15:36:20.127Z"
      },
      {
        "duration": 10,
        "start_time": "2024-03-11T15:36:20.577Z"
      },
      {
        "duration": 9,
        "start_time": "2024-03-11T15:36:25.199Z"
      },
      {
        "duration": 11,
        "start_time": "2024-03-11T15:36:27.602Z"
      },
      {
        "duration": 7,
        "start_time": "2024-03-11T15:36:33.014Z"
      },
      {
        "duration": 11,
        "start_time": "2024-03-11T15:36:35.407Z"
      },
      {
        "duration": 16,
        "start_time": "2024-03-11T15:36:39.168Z"
      },
      {
        "duration": 12,
        "start_time": "2024-03-11T15:36:40.613Z"
      },
      {
        "duration": 6,
        "start_time": "2024-03-11T15:36:42.310Z"
      },
      {
        "duration": 8,
        "start_time": "2024-03-11T15:36:43.211Z"
      },
      {
        "duration": 10,
        "start_time": "2024-03-11T15:36:44.500Z"
      },
      {
        "duration": 8,
        "start_time": "2024-03-11T15:36:45.811Z"
      },
      {
        "duration": 9,
        "start_time": "2024-03-11T15:36:47.874Z"
      },
      {
        "duration": 5,
        "start_time": "2024-03-11T15:36:49.178Z"
      },
      {
        "duration": 146,
        "start_time": "2024-03-11T15:36:50.183Z"
      },
      {
        "duration": 137,
        "start_time": "2024-03-11T15:37:04.373Z"
      },
      {
        "duration": 5,
        "start_time": "2024-03-11T15:37:07.126Z"
      },
      {
        "duration": 5,
        "start_time": "2024-03-11T15:37:08.967Z"
      },
      {
        "duration": 7,
        "start_time": "2024-03-11T15:37:10.056Z"
      },
      {
        "duration": 6,
        "start_time": "2024-03-11T15:37:11.011Z"
      },
      {
        "duration": 6,
        "start_time": "2024-03-11T15:37:11.984Z"
      },
      {
        "duration": 7,
        "start_time": "2024-03-11T15:37:14.356Z"
      },
      {
        "duration": 158,
        "start_time": "2024-03-11T15:37:15.756Z"
      },
      {
        "duration": 161,
        "start_time": "2024-03-11T15:38:15.793Z"
      },
      {
        "duration": 8,
        "start_time": "2024-03-11T15:38:46.238Z"
      },
      {
        "duration": 73,
        "start_time": "2024-03-11T15:39:36.822Z"
      },
      {
        "duration": 11,
        "start_time": "2024-03-11T15:43:19.637Z"
      },
      {
        "duration": 73,
        "start_time": "2024-03-11T15:43:52.285Z"
      },
      {
        "duration": 9,
        "start_time": "2024-03-11T15:43:58.064Z"
      },
      {
        "duration": 228,
        "start_time": "2024-03-11T15:44:18.148Z"
      },
      {
        "duration": 185,
        "start_time": "2024-03-11T15:47:03.533Z"
      },
      {
        "duration": 9,
        "start_time": "2024-03-11T15:47:22.783Z"
      },
      {
        "duration": 12,
        "start_time": "2024-03-11T16:05:07.748Z"
      },
      {
        "duration": 10,
        "start_time": "2024-03-11T16:05:20.172Z"
      },
      {
        "duration": 19,
        "start_time": "2024-03-11T16:06:16.750Z"
      },
      {
        "duration": 14,
        "start_time": "2024-03-11T16:07:06.774Z"
      },
      {
        "duration": 12,
        "start_time": "2024-03-11T16:08:24.912Z"
      },
      {
        "duration": 19,
        "start_time": "2024-03-11T16:09:57.708Z"
      },
      {
        "duration": 33,
        "start_time": "2024-03-11T16:15:43.343Z"
      },
      {
        "duration": 27,
        "start_time": "2024-03-11T16:16:21.757Z"
      },
      {
        "duration": 29,
        "start_time": "2024-03-11T16:16:47.786Z"
      },
      {
        "duration": 5,
        "start_time": "2024-03-11T16:17:17.322Z"
      },
      {
        "duration": 27,
        "start_time": "2024-03-11T16:17:23.895Z"
      },
      {
        "duration": 17,
        "start_time": "2024-03-11T16:17:35.076Z"
      },
      {
        "duration": 8,
        "start_time": "2024-03-11T16:17:48.229Z"
      },
      {
        "duration": 19,
        "start_time": "2024-03-11T16:21:26.984Z"
      },
      {
        "duration": 10,
        "start_time": "2024-03-11T16:22:08.841Z"
      },
      {
        "duration": 15,
        "start_time": "2024-03-11T16:22:16.338Z"
      },
      {
        "duration": 161,
        "start_time": "2024-03-11T16:25:02.225Z"
      },
      {
        "duration": 161,
        "start_time": "2024-03-11T16:25:08.974Z"
      },
      {
        "duration": 175,
        "start_time": "2024-03-11T16:25:29.842Z"
      },
      {
        "duration": 175,
        "start_time": "2024-03-11T16:25:39.424Z"
      },
      {
        "duration": 143,
        "start_time": "2024-03-11T16:26:16.001Z"
      },
      {
        "duration": 165,
        "start_time": "2024-03-11T16:26:35.051Z"
      },
      {
        "duration": 142,
        "start_time": "2024-03-11T16:28:33.411Z"
      },
      {
        "duration": 11,
        "start_time": "2024-03-11T16:28:52.843Z"
      },
      {
        "duration": 9,
        "start_time": "2024-03-11T16:29:06.007Z"
      },
      {
        "duration": 10,
        "start_time": "2024-03-11T16:32:01.678Z"
      },
      {
        "duration": 8,
        "start_time": "2024-03-11T16:32:09.364Z"
      },
      {
        "duration": 9,
        "start_time": "2024-03-11T16:33:45.331Z"
      },
      {
        "duration": 9,
        "start_time": "2024-03-11T16:34:00.358Z"
      },
      {
        "duration": 792,
        "start_time": "2024-03-12T10:56:43.675Z"
      },
      {
        "duration": 3,
        "start_time": "2024-03-12T10:56:50.263Z"
      },
      {
        "duration": 3,
        "start_time": "2024-03-12T10:56:52.232Z"
      },
      {
        "duration": 287,
        "start_time": "2024-03-12T10:56:55.687Z"
      },
      {
        "duration": 11,
        "start_time": "2024-03-12T10:56:56.133Z"
      },
      {
        "duration": 12,
        "start_time": "2024-03-12T10:56:56.585Z"
      },
      {
        "duration": 9,
        "start_time": "2024-03-12T10:56:57.615Z"
      },
      {
        "duration": 11,
        "start_time": "2024-03-12T10:56:58.064Z"
      },
      {
        "duration": 6,
        "start_time": "2024-03-12T10:56:59.008Z"
      },
      {
        "duration": 10,
        "start_time": "2024-03-12T10:56:59.463Z"
      },
      {
        "duration": 14,
        "start_time": "2024-03-12T10:57:01.735Z"
      },
      {
        "duration": 11,
        "start_time": "2024-03-12T10:57:03.145Z"
      },
      {
        "duration": 6,
        "start_time": "2024-03-12T10:57:04.088Z"
      },
      {
        "duration": 9,
        "start_time": "2024-03-12T10:57:05.079Z"
      },
      {
        "duration": 14,
        "start_time": "2024-03-12T10:57:05.528Z"
      },
      {
        "duration": 6,
        "start_time": "2024-03-12T10:57:06.823Z"
      },
      {
        "duration": 8,
        "start_time": "2024-03-12T10:57:07.897Z"
      },
      {
        "duration": 4,
        "start_time": "2024-03-12T10:57:10.192Z"
      },
      {
        "duration": 139,
        "start_time": "2024-03-12T10:57:10.904Z"
      },
      {
        "duration": 5,
        "start_time": "2024-03-12T10:57:11.528Z"
      },
      {
        "duration": 6,
        "start_time": "2024-03-12T10:57:13.343Z"
      },
      {
        "duration": 6,
        "start_time": "2024-03-12T10:57:13.848Z"
      },
      {
        "duration": 6,
        "start_time": "2024-03-12T10:57:16.447Z"
      },
      {
        "duration": 6,
        "start_time": "2024-03-12T10:57:17.392Z"
      },
      {
        "duration": 7,
        "start_time": "2024-03-12T10:57:18.447Z"
      },
      {
        "duration": 126,
        "start_time": "2024-03-12T10:57:19.840Z"
      },
      {
        "duration": 153,
        "start_time": "2024-03-12T10:57:21.167Z"
      },
      {
        "duration": 8,
        "start_time": "2024-03-12T10:57:21.797Z"
      },
      {
        "duration": 10,
        "start_time": "2024-03-12T10:57:23.289Z"
      },
      {
        "duration": 161,
        "start_time": "2024-03-12T10:57:23.863Z"
      },
      {
        "duration": 8,
        "start_time": "2024-03-12T10:57:24.375Z"
      },
      {
        "duration": 214,
        "start_time": "2024-03-12T10:57:35.151Z"
      },
      {
        "duration": 170,
        "start_time": "2024-03-12T10:57:37.416Z"
      },
      {
        "duration": 9,
        "start_time": "2024-03-12T10:57:38.111Z"
      },
      {
        "duration": 156,
        "start_time": "2024-03-12T10:57:45.703Z"
      },
      {
        "duration": 153,
        "start_time": "2024-03-12T10:57:47.847Z"
      },
      {
        "duration": 8,
        "start_time": "2024-03-12T10:57:48.431Z"
      },
      {
        "duration": 9,
        "start_time": "2024-03-12T10:57:50.560Z"
      },
      {
        "duration": 10,
        "start_time": "2024-03-12T10:57:52.484Z"
      },
      {
        "duration": 16,
        "start_time": "2024-03-12T10:57:52.952Z"
      },
      {
        "duration": 16,
        "start_time": "2024-03-12T10:57:53.519Z"
      },
      {
        "duration": 10,
        "start_time": "2024-03-12T10:57:54.072Z"
      },
      {
        "duration": 18,
        "start_time": "2024-03-12T10:57:54.664Z"
      },
      {
        "duration": 5,
        "start_time": "2024-03-12T10:57:55.215Z"
      },
      {
        "duration": 16,
        "start_time": "2024-03-12T10:57:57.185Z"
      },
      {
        "duration": 14,
        "start_time": "2024-03-12T10:57:57.904Z"
      },
      {
        "duration": 161,
        "start_time": "2024-03-12T10:58:01.480Z"
      },
      {
        "duration": 139,
        "start_time": "2024-03-12T10:58:04.143Z"
      },
      {
        "duration": 8,
        "start_time": "2024-03-12T10:58:04.815Z"
      },
      {
        "duration": 8,
        "start_time": "2024-03-12T10:58:05.327Z"
      },
      {
        "duration": 151,
        "start_time": "2024-03-12T10:58:06.927Z"
      },
      {
        "duration": 150,
        "start_time": "2024-03-12T10:58:09.111Z"
      },
      {
        "duration": 7,
        "start_time": "2024-03-12T10:58:09.800Z"
      },
      {
        "duration": 8,
        "start_time": "2024-03-12T10:58:10.296Z"
      },
      {
        "duration": 8,
        "start_time": "2024-03-12T11:20:51.951Z"
      },
      {
        "duration": 57,
        "start_time": "2024-03-12T11:27:42.420Z"
      },
      {
        "duration": 99,
        "start_time": "2024-03-12T11:28:46.508Z"
      },
      {
        "duration": 40,
        "start_time": "2024-03-12T11:29:06.184Z"
      },
      {
        "duration": 39,
        "start_time": "2024-03-12T11:33:14.680Z"
      },
      {
        "duration": 15,
        "start_time": "2024-03-12T11:37:56.687Z"
      },
      {
        "duration": 14,
        "start_time": "2024-03-12T11:38:08.126Z"
      },
      {
        "duration": 35,
        "start_time": "2024-03-12T11:38:10.246Z"
      },
      {
        "duration": 24,
        "start_time": "2024-03-12T11:38:59.662Z"
      },
      {
        "duration": 28,
        "start_time": "2024-03-12T11:39:19.477Z"
      },
      {
        "duration": 13,
        "start_time": "2024-03-12T11:39:41.990Z"
      },
      {
        "duration": 75,
        "start_time": "2024-03-12T11:50:43.347Z"
      },
      {
        "duration": 13,
        "start_time": "2024-03-12T11:51:08.634Z"
      },
      {
        "duration": 122,
        "start_time": "2024-03-12T11:51:40.227Z"
      },
      {
        "duration": 107,
        "start_time": "2024-03-12T11:52:31.422Z"
      },
      {
        "duration": 13,
        "start_time": "2024-03-12T11:52:44.831Z"
      },
      {
        "duration": 22,
        "start_time": "2024-03-12T11:53:50.802Z"
      },
      {
        "duration": 5,
        "start_time": "2024-03-12T11:59:39.425Z"
      },
      {
        "duration": 23,
        "start_time": "2024-03-12T12:00:26.488Z"
      },
      {
        "duration": 19,
        "start_time": "2024-03-12T12:01:04.440Z"
      },
      {
        "duration": 23,
        "start_time": "2024-03-12T12:01:30.352Z"
      },
      {
        "duration": 22,
        "start_time": "2024-03-12T12:01:34.515Z"
      },
      {
        "duration": 17,
        "start_time": "2024-03-12T12:01:36.529Z"
      },
      {
        "duration": 25,
        "start_time": "2024-03-12T12:09:01.464Z"
      },
      {
        "duration": 21,
        "start_time": "2024-03-12T12:09:15.513Z"
      },
      {
        "duration": 27,
        "start_time": "2024-03-12T12:09:29.991Z"
      },
      {
        "duration": 11,
        "start_time": "2024-03-12T12:09:43.655Z"
      },
      {
        "duration": 771,
        "start_time": "2024-03-12T16:07:22.810Z"
      },
      {
        "duration": 199,
        "start_time": "2024-03-12T16:07:24.201Z"
      },
      {
        "duration": 11,
        "start_time": "2024-03-12T16:07:24.847Z"
      },
      {
        "duration": 10,
        "start_time": "2024-03-12T16:07:25.357Z"
      },
      {
        "duration": 8,
        "start_time": "2024-03-12T16:07:26.330Z"
      },
      {
        "duration": 10,
        "start_time": "2024-03-12T16:07:26.794Z"
      },
      {
        "duration": 6,
        "start_time": "2024-03-12T16:07:27.755Z"
      },
      {
        "duration": 13,
        "start_time": "2024-03-12T16:07:28.209Z"
      },
      {
        "duration": 14,
        "start_time": "2024-03-12T16:07:30.044Z"
      },
      {
        "duration": 10,
        "start_time": "2024-03-12T16:07:31.451Z"
      },
      {
        "duration": 5,
        "start_time": "2024-03-12T16:07:34.072Z"
      },
      {
        "duration": 7,
        "start_time": "2024-03-12T16:07:35.054Z"
      },
      {
        "duration": 10,
        "start_time": "2024-03-12T16:07:35.510Z"
      },
      {
        "duration": 7,
        "start_time": "2024-03-12T16:07:36.434Z"
      },
      {
        "duration": 7,
        "start_time": "2024-03-12T16:07:37.418Z"
      },
      {
        "duration": 4,
        "start_time": "2024-03-12T16:07:39.536Z"
      },
      {
        "duration": 131,
        "start_time": "2024-03-12T16:07:40.028Z"
      },
      {
        "duration": 5,
        "start_time": "2024-03-12T16:07:40.490Z"
      },
      {
        "duration": 5,
        "start_time": "2024-03-12T16:07:41.844Z"
      },
      {
        "duration": 4,
        "start_time": "2024-03-12T16:07:42.293Z"
      },
      {
        "duration": 6,
        "start_time": "2024-03-12T16:07:43.262Z"
      },
      {
        "duration": 5,
        "start_time": "2024-03-12T16:07:44.171Z"
      },
      {
        "duration": 6,
        "start_time": "2024-03-12T16:07:45.111Z"
      },
      {
        "duration": 118,
        "start_time": "2024-03-12T16:07:46.028Z"
      },
      {
        "duration": 152,
        "start_time": "2024-03-12T16:07:47.114Z"
      },
      {
        "duration": 8,
        "start_time": "2024-03-12T16:07:47.588Z"
      },
      {
        "duration": 9,
        "start_time": "2024-03-12T16:07:48.956Z"
      },
      {
        "duration": 195,
        "start_time": "2024-03-12T16:07:49.437Z"
      },
      {
        "duration": 8,
        "start_time": "2024-03-12T16:07:49.902Z"
      },
      {
        "duration": 160,
        "start_time": "2024-03-12T16:07:51.450Z"
      },
      {
        "duration": 7,
        "start_time": "2024-03-12T16:07:52.020Z"
      },
      {
        "duration": 10,
        "start_time": "2024-03-12T16:07:53.920Z"
      },
      {
        "duration": 10,
        "start_time": "2024-03-12T16:07:54.446Z"
      },
      {
        "duration": 17,
        "start_time": "2024-03-12T16:07:54.963Z"
      },
      {
        "duration": 14,
        "start_time": "2024-03-12T16:07:55.528Z"
      },
      {
        "duration": 10,
        "start_time": "2024-03-12T16:08:42.282Z"
      },
      {
        "duration": 16,
        "start_time": "2024-03-12T16:08:42.947Z"
      },
      {
        "duration": 5,
        "start_time": "2024-03-12T16:08:49.593Z"
      },
      {
        "duration": 14,
        "start_time": "2024-03-12T16:08:50.608Z"
      },
      {
        "duration": 13,
        "start_time": "2024-03-12T16:08:51.051Z"
      },
      {
        "duration": 134,
        "start_time": "2024-03-12T16:08:52.460Z"
      },
      {
        "duration": 123,
        "start_time": "2024-03-12T16:08:53.027Z"
      },
      {
        "duration": 9,
        "start_time": "2024-03-12T16:08:53.603Z"
      },
      {
        "duration": 7,
        "start_time": "2024-03-12T16:08:54.195Z"
      },
      {
        "duration": 137,
        "start_time": "2024-03-12T16:08:55.587Z"
      },
      {
        "duration": 134,
        "start_time": "2024-03-12T16:08:56.706Z"
      },
      {
        "duration": 8,
        "start_time": "2024-03-12T16:08:57.148Z"
      },
      {
        "duration": 7,
        "start_time": "2024-03-12T16:08:57.589Z"
      },
      {
        "duration": 27,
        "start_time": "2024-03-12T16:09:00.059Z"
      },
      {
        "duration": 21,
        "start_time": "2024-03-12T16:09:00.603Z"
      },
      {
        "duration": 27,
        "start_time": "2024-03-12T16:09:01.127Z"
      },
      {
        "duration": 11,
        "start_time": "2024-03-12T16:09:01.767Z"
      },
      {
        "duration": 3,
        "start_time": "2024-03-12T16:14:20.540Z"
      },
      {
        "duration": 13,
        "start_time": "2024-03-12T16:19:56.577Z"
      },
      {
        "duration": 15,
        "start_time": "2024-03-12T16:38:42.414Z"
      },
      {
        "duration": 16,
        "start_time": "2024-03-12T17:02:33.484Z"
      },
      {
        "duration": 820,
        "start_time": "2024-03-13T08:04:08.704Z"
      },
      {
        "duration": 316,
        "start_time": "2024-03-13T08:04:19.529Z"
      },
      {
        "duration": 15,
        "start_time": "2024-03-13T08:04:20.056Z"
      },
      {
        "duration": 13,
        "start_time": "2024-03-13T08:04:20.656Z"
      },
      {
        "duration": 8,
        "start_time": "2024-03-13T08:04:22.552Z"
      },
      {
        "duration": 12,
        "start_time": "2024-03-13T08:04:23.121Z"
      },
      {
        "duration": 7,
        "start_time": "2024-03-13T08:04:24.601Z"
      },
      {
        "duration": 10,
        "start_time": "2024-03-13T08:04:25.154Z"
      },
      {
        "duration": 15,
        "start_time": "2024-03-13T08:04:27.672Z"
      },
      {
        "duration": 12,
        "start_time": "2024-03-13T08:04:29.144Z"
      },
      {
        "duration": 6,
        "start_time": "2024-03-13T08:04:30.056Z"
      },
      {
        "duration": 7,
        "start_time": "2024-03-13T08:04:31.104Z"
      },
      {
        "duration": 11,
        "start_time": "2024-03-13T08:04:31.560Z"
      },
      {
        "duration": 5,
        "start_time": "2024-03-13T08:04:32.689Z"
      },
      {
        "duration": 9,
        "start_time": "2024-03-13T08:04:33.834Z"
      },
      {
        "duration": 5,
        "start_time": "2024-03-13T08:04:36.120Z"
      },
      {
        "duration": 145,
        "start_time": "2024-03-13T08:04:47.489Z"
      },
      {
        "duration": 8,
        "start_time": "2024-03-13T08:04:48.863Z"
      },
      {
        "duration": 6,
        "start_time": "2024-03-13T08:04:50.536Z"
      },
      {
        "duration": 6,
        "start_time": "2024-03-13T08:04:51.128Z"
      },
      {
        "duration": 5,
        "start_time": "2024-03-13T08:04:54.936Z"
      },
      {
        "duration": 6,
        "start_time": "2024-03-13T08:04:55.848Z"
      },
      {
        "duration": 6,
        "start_time": "2024-03-13T08:04:56.737Z"
      },
      {
        "duration": 137,
        "start_time": "2024-03-13T08:04:57.808Z"
      },
      {
        "duration": 164,
        "start_time": "2024-03-13T08:04:59.064Z"
      },
      {
        "duration": 8,
        "start_time": "2024-03-13T08:04:59.696Z"
      },
      {
        "duration": 10,
        "start_time": "2024-03-13T08:05:01.252Z"
      },
      {
        "duration": 176,
        "start_time": "2024-03-13T08:05:01.802Z"
      },
      {
        "duration": 9,
        "start_time": "2024-03-13T08:05:02.312Z"
      },
      {
        "duration": 219,
        "start_time": "2024-03-13T08:05:03.832Z"
      },
      {
        "duration": 8,
        "start_time": "2024-03-13T08:05:04.552Z"
      },
      {
        "duration": 10,
        "start_time": "2024-03-13T08:05:06.529Z"
      },
      {
        "duration": 11,
        "start_time": "2024-03-13T08:05:07.224Z"
      },
      {
        "duration": 19,
        "start_time": "2024-03-13T08:05:07.913Z"
      },
      {
        "duration": 14,
        "start_time": "2024-03-13T08:05:08.537Z"
      },
      {
        "duration": 10,
        "start_time": "2024-03-13T08:05:09.264Z"
      },
      {
        "duration": 20,
        "start_time": "2024-03-13T08:05:10.024Z"
      },
      {
        "duration": 6,
        "start_time": "2024-03-13T08:05:11.017Z"
      },
      {
        "duration": 17,
        "start_time": "2024-03-13T08:05:13.353Z"
      },
      {
        "duration": 23,
        "start_time": "2024-03-13T08:05:13.962Z"
      },
      {
        "duration": 157,
        "start_time": "2024-03-13T08:05:16.231Z"
      },
      {
        "duration": 137,
        "start_time": "2024-03-13T08:05:17.096Z"
      },
      {
        "duration": 10,
        "start_time": "2024-03-13T08:05:19.104Z"
      },
      {
        "duration": 11,
        "start_time": "2024-03-13T08:05:19.839Z"
      },
      {
        "duration": 166,
        "start_time": "2024-03-13T08:05:22.960Z"
      },
      {
        "duration": 152,
        "start_time": "2024-03-13T08:05:24.903Z"
      },
      {
        "duration": 8,
        "start_time": "2024-03-13T08:05:25.871Z"
      },
      {
        "duration": 8,
        "start_time": "2024-03-13T08:05:26.417Z"
      },
      {
        "duration": 30,
        "start_time": "2024-03-13T08:05:38.354Z"
      },
      {
        "duration": 22,
        "start_time": "2024-03-13T08:05:40.536Z"
      },
      {
        "duration": 29,
        "start_time": "2024-03-13T08:05:41.280Z"
      },
      {
        "duration": 19,
        "start_time": "2024-03-13T08:05:45.424Z"
      },
      {
        "duration": 13,
        "start_time": "2024-03-13T08:05:54.049Z"
      },
      {
        "duration": 18,
        "start_time": "2024-03-13T08:06:00.471Z"
      },
      {
        "duration": 16,
        "start_time": "2024-03-13T08:06:04.329Z"
      },
      {
        "duration": 18,
        "start_time": "2024-03-13T08:13:47.953Z"
      },
      {
        "duration": 26,
        "start_time": "2024-03-13T08:18:28.063Z"
      },
      {
        "duration": 20,
        "start_time": "2024-03-13T08:18:45.607Z"
      },
      {
        "duration": 28,
        "start_time": "2024-03-13T08:19:05.575Z"
      },
      {
        "duration": 12,
        "start_time": "2024-03-13T08:19:14.215Z"
      },
      {
        "duration": 17,
        "start_time": "2024-03-13T08:19:24.934Z"
      },
      {
        "duration": 23,
        "start_time": "2024-03-13T08:20:29.830Z"
      },
      {
        "duration": 48,
        "start_time": "2024-03-13T08:21:28.287Z"
      },
      {
        "duration": 26,
        "start_time": "2024-03-13T08:30:31.032Z"
      },
      {
        "duration": 22,
        "start_time": "2024-03-13T08:31:55.749Z"
      },
      {
        "duration": 3,
        "start_time": "2024-03-13T08:34:07.890Z"
      },
      {
        "duration": 68,
        "start_time": "2024-03-13T08:34:08.805Z"
      },
      {
        "duration": 9,
        "start_time": "2024-03-13T08:34:09.309Z"
      },
      {
        "duration": 10,
        "start_time": "2024-03-13T08:34:09.781Z"
      },
      {
        "duration": 8,
        "start_time": "2024-03-13T08:34:10.742Z"
      },
      {
        "duration": 11,
        "start_time": "2024-03-13T08:34:11.221Z"
      },
      {
        "duration": 8,
        "start_time": "2024-03-13T08:34:12.157Z"
      },
      {
        "duration": 10,
        "start_time": "2024-03-13T08:34:12.622Z"
      },
      {
        "duration": 14,
        "start_time": "2024-03-13T08:34:16.845Z"
      },
      {
        "duration": 11,
        "start_time": "2024-03-13T08:34:18.589Z"
      },
      {
        "duration": 6,
        "start_time": "2024-03-13T08:34:19.485Z"
      },
      {
        "duration": 8,
        "start_time": "2024-03-13T08:34:20.501Z"
      },
      {
        "duration": 10,
        "start_time": "2024-03-13T08:34:20.982Z"
      },
      {
        "duration": 7,
        "start_time": "2024-03-13T08:34:21.981Z"
      },
      {
        "duration": 9,
        "start_time": "2024-03-13T08:34:23.069Z"
      },
      {
        "duration": 4,
        "start_time": "2024-03-13T08:34:26.766Z"
      },
      {
        "duration": 140,
        "start_time": "2024-03-13T08:34:27.269Z"
      },
      {
        "duration": 6,
        "start_time": "2024-03-13T08:34:27.750Z"
      },
      {
        "duration": 5,
        "start_time": "2024-03-13T08:34:29.094Z"
      },
      {
        "duration": 5,
        "start_time": "2024-03-13T08:34:29.526Z"
      },
      {
        "duration": 8,
        "start_time": "2024-03-13T08:34:30.485Z"
      },
      {
        "duration": 6,
        "start_time": "2024-03-13T08:34:31.373Z"
      },
      {
        "duration": 6,
        "start_time": "2024-03-13T08:34:32.262Z"
      },
      {
        "duration": 135,
        "start_time": "2024-03-13T08:34:33.205Z"
      },
      {
        "duration": 150,
        "start_time": "2024-03-13T08:34:34.270Z"
      },
      {
        "duration": 8,
        "start_time": "2024-03-13T08:34:34.765Z"
      },
      {
        "duration": 13,
        "start_time": "2024-03-13T08:34:36.141Z"
      },
      {
        "duration": 173,
        "start_time": "2024-03-13T08:34:36.622Z"
      },
      {
        "duration": 9,
        "start_time": "2024-03-13T08:34:37.150Z"
      },
      {
        "duration": 176,
        "start_time": "2024-03-13T08:34:38.965Z"
      },
      {
        "duration": 8,
        "start_time": "2024-03-13T08:34:39.582Z"
      },
      {
        "duration": 10,
        "start_time": "2024-03-13T08:34:41.437Z"
      },
      {
        "duration": 10,
        "start_time": "2024-03-13T08:34:41.942Z"
      },
      {
        "duration": 17,
        "start_time": "2024-03-13T08:34:42.463Z"
      },
      {
        "duration": 14,
        "start_time": "2024-03-13T08:34:43.013Z"
      },
      {
        "duration": 10,
        "start_time": "2024-03-13T08:34:43.518Z"
      },
      {
        "duration": 18,
        "start_time": "2024-03-13T08:34:44.094Z"
      },
      {
        "duration": 5,
        "start_time": "2024-03-13T08:34:44.645Z"
      },
      {
        "duration": 17,
        "start_time": "2024-03-13T08:34:45.845Z"
      },
      {
        "duration": 15,
        "start_time": "2024-03-13T08:34:46.318Z"
      },
      {
        "duration": 236,
        "start_time": "2024-03-13T08:34:47.757Z"
      },
      {
        "duration": 135,
        "start_time": "2024-03-13T08:34:48.477Z"
      },
      {
        "duration": 9,
        "start_time": "2024-03-13T08:34:49.109Z"
      },
      {
        "duration": 8,
        "start_time": "2024-03-13T08:34:49.685Z"
      },
      {
        "duration": 162,
        "start_time": "2024-03-13T08:34:51.190Z"
      },
      {
        "duration": 165,
        "start_time": "2024-03-13T08:34:52.406Z"
      },
      {
        "duration": 9,
        "start_time": "2024-03-13T08:34:52.862Z"
      },
      {
        "duration": 8,
        "start_time": "2024-03-13T08:34:53.326Z"
      },
      {
        "duration": 15,
        "start_time": "2024-03-13T08:34:56.167Z"
      },
      {
        "duration": 15,
        "start_time": "2024-03-13T08:34:56.854Z"
      },
      {
        "duration": 28,
        "start_time": "2024-03-13T08:34:57.446Z"
      },
      {
        "duration": 22,
        "start_time": "2024-03-13T08:34:58.037Z"
      },
      {
        "duration": 27,
        "start_time": "2024-03-13T08:34:58.654Z"
      },
      {
        "duration": 12,
        "start_time": "2024-03-13T08:34:59.445Z"
      },
      {
        "duration": 49,
        "start_time": "2024-03-13T08:35:01.861Z"
      },
      {
        "duration": 26,
        "start_time": "2024-03-13T08:35:02.626Z"
      },
      {
        "duration": 19,
        "start_time": "2024-03-13T08:35:03.510Z"
      },
      {
        "duration": 19,
        "start_time": "2024-03-13T08:38:30.126Z"
      },
      {
        "duration": 79,
        "start_time": "2024-03-13T08:45:44.115Z"
      },
      {
        "duration": 1563,
        "start_time": "2024-03-13T08:46:20.250Z"
      },
      {
        "duration": 23,
        "start_time": "2024-03-13T08:46:58.045Z"
      },
      {
        "duration": 9,
        "start_time": "2024-03-13T08:53:48.456Z"
      },
      {
        "duration": 37,
        "start_time": "2024-03-13T08:54:34.447Z"
      },
      {
        "duration": 3,
        "start_time": "2024-03-13T08:55:20.967Z"
      },
      {
        "duration": 69,
        "start_time": "2024-03-13T08:55:21.937Z"
      },
      {
        "duration": 8,
        "start_time": "2024-03-13T08:55:22.417Z"
      },
      {
        "duration": 10,
        "start_time": "2024-03-13T08:55:22.882Z"
      },
      {
        "duration": 8,
        "start_time": "2024-03-13T08:55:25.233Z"
      },
      {
        "duration": 12,
        "start_time": "2024-03-13T08:55:25.769Z"
      },
      {
        "duration": 7,
        "start_time": "2024-03-13T08:55:26.697Z"
      },
      {
        "duration": 11,
        "start_time": "2024-03-13T08:55:27.146Z"
      },
      {
        "duration": 14,
        "start_time": "2024-03-13T08:55:29.065Z"
      },
      {
        "duration": 16,
        "start_time": "2024-03-13T08:55:30.449Z"
      },
      {
        "duration": 6,
        "start_time": "2024-03-13T08:55:31.289Z"
      },
      {
        "duration": 8,
        "start_time": "2024-03-13T08:55:32.249Z"
      },
      {
        "duration": 10,
        "start_time": "2024-03-13T08:55:32.689Z"
      },
      {
        "duration": 5,
        "start_time": "2024-03-13T08:55:33.626Z"
      },
      {
        "duration": 7,
        "start_time": "2024-03-13T08:55:35.443Z"
      },
      {
        "duration": 5,
        "start_time": "2024-03-13T08:55:37.641Z"
      },
      {
        "duration": 127,
        "start_time": "2024-03-13T08:55:38.203Z"
      },
      {
        "duration": 6,
        "start_time": "2024-03-13T08:55:38.713Z"
      },
      {
        "duration": 5,
        "start_time": "2024-03-13T08:55:39.889Z"
      },
      {
        "duration": 5,
        "start_time": "2024-03-13T08:55:40.345Z"
      },
      {
        "duration": 6,
        "start_time": "2024-03-13T08:55:41.312Z"
      },
      {
        "duration": 6,
        "start_time": "2024-03-13T08:55:42.097Z"
      },
      {
        "duration": 8,
        "start_time": "2024-03-13T08:55:42.953Z"
      },
      {
        "duration": 129,
        "start_time": "2024-03-13T08:55:43.793Z"
      },
      {
        "duration": 160,
        "start_time": "2024-03-13T08:55:44.713Z"
      },
      {
        "duration": 9,
        "start_time": "2024-03-13T08:55:45.129Z"
      },
      {
        "duration": 10,
        "start_time": "2024-03-13T08:55:46.337Z"
      },
      {
        "duration": 174,
        "start_time": "2024-03-13T08:55:46.753Z"
      },
      {
        "duration": 9,
        "start_time": "2024-03-13T08:55:47.169Z"
      },
      {
        "duration": 174,
        "start_time": "2024-03-13T08:55:48.427Z"
      },
      {
        "duration": 9,
        "start_time": "2024-03-13T08:55:48.993Z"
      },
      {
        "duration": 10,
        "start_time": "2024-03-13T08:55:50.761Z"
      },
      {
        "duration": 11,
        "start_time": "2024-03-13T08:55:51.337Z"
      },
      {
        "duration": 21,
        "start_time": "2024-03-13T08:55:51.906Z"
      },
      {
        "duration": 14,
        "start_time": "2024-03-13T08:55:52.481Z"
      },
      {
        "duration": 10,
        "start_time": "2024-03-13T08:55:53.129Z"
      },
      {
        "duration": 22,
        "start_time": "2024-03-13T08:55:54.146Z"
      },
      {
        "duration": 6,
        "start_time": "2024-03-13T08:55:55.561Z"
      },
      {
        "duration": 17,
        "start_time": "2024-03-13T08:55:58.929Z"
      },
      {
        "duration": 17,
        "start_time": "2024-03-13T08:55:59.459Z"
      },
      {
        "duration": 150,
        "start_time": "2024-03-13T08:56:01.106Z"
      },
      {
        "duration": 138,
        "start_time": "2024-03-13T08:56:02.865Z"
      },
      {
        "duration": 8,
        "start_time": "2024-03-13T08:56:03.650Z"
      },
      {
        "duration": 7,
        "start_time": "2024-03-13T08:56:04.250Z"
      },
      {
        "duration": 255,
        "start_time": "2024-03-13T08:56:06.017Z"
      },
      {
        "duration": 157,
        "start_time": "2024-03-13T08:56:07.409Z"
      },
      {
        "duration": 8,
        "start_time": "2024-03-13T08:56:08.369Z"
      },
      {
        "duration": 9,
        "start_time": "2024-03-13T08:56:08.937Z"
      },
      {
        "duration": 15,
        "start_time": "2024-03-13T08:56:11.449Z"
      },
      {
        "duration": 17,
        "start_time": "2024-03-13T08:56:12.090Z"
      },
      {
        "duration": 26,
        "start_time": "2024-03-13T08:56:12.642Z"
      },
      {
        "duration": 22,
        "start_time": "2024-03-13T08:56:13.217Z"
      },
      {
        "duration": 28,
        "start_time": "2024-03-13T08:56:13.881Z"
      },
      {
        "duration": 15,
        "start_time": "2024-03-13T08:56:14.537Z"
      },
      {
        "duration": 52,
        "start_time": "2024-03-13T08:56:15.601Z"
      },
      {
        "duration": 29,
        "start_time": "2024-03-13T08:56:16.114Z"
      },
      {
        "duration": 21,
        "start_time": "2024-03-13T08:56:16.649Z"
      },
      {
        "duration": 2,
        "start_time": "2024-03-13T08:56:17.218Z"
      },
      {
        "duration": 41,
        "start_time": "2024-03-13T08:56:22.393Z"
      },
      {
        "duration": 15,
        "start_time": "2024-03-13T08:56:52.929Z"
      },
      {
        "duration": 19,
        "start_time": "2024-03-13T11:49:32.479Z"
      },
      {
        "duration": 6,
        "start_time": "2024-03-13T11:49:52.612Z"
      },
      {
        "duration": 6,
        "start_time": "2024-03-13T11:50:08.697Z"
      },
      {
        "duration": 6,
        "start_time": "2024-03-13T11:50:30.602Z"
      },
      {
        "duration": 6,
        "start_time": "2024-03-13T11:50:32.515Z"
      },
      {
        "duration": 2,
        "start_time": "2024-03-13T12:09:05.408Z"
      },
      {
        "duration": 20,
        "start_time": "2024-03-13T12:11:00.705Z"
      },
      {
        "duration": 18,
        "start_time": "2024-03-13T12:11:50.808Z"
      },
      {
        "duration": 18,
        "start_time": "2024-03-13T12:12:01.055Z"
      },
      {
        "duration": 3,
        "start_time": "2024-03-13T12:12:04.088Z"
      },
      {
        "duration": 17,
        "start_time": "2024-03-13T12:12:06.511Z"
      },
      {
        "duration": 17,
        "start_time": "2024-03-13T12:12:08.926Z"
      },
      {
        "duration": 709,
        "start_time": "2024-03-13T15:12:58.110Z"
      },
      {
        "duration": 189,
        "start_time": "2024-03-13T15:12:58.979Z"
      },
      {
        "duration": 11,
        "start_time": "2024-03-13T15:12:59.507Z"
      },
      {
        "duration": 10,
        "start_time": "2024-03-13T15:12:59.946Z"
      },
      {
        "duration": 7,
        "start_time": "2024-03-13T15:13:00.799Z"
      },
      {
        "duration": 13,
        "start_time": "2024-03-13T15:13:01.261Z"
      },
      {
        "duration": 5,
        "start_time": "2024-03-13T15:13:02.152Z"
      },
      {
        "duration": 8,
        "start_time": "2024-03-13T15:13:02.617Z"
      },
      {
        "duration": 12,
        "start_time": "2024-03-13T15:13:04.330Z"
      },
      {
        "duration": 9,
        "start_time": "2024-03-13T15:13:05.585Z"
      },
      {
        "duration": 5,
        "start_time": "2024-03-13T15:13:06.480Z"
      },
      {
        "duration": 9,
        "start_time": "2024-03-13T15:13:07.389Z"
      },
      {
        "duration": 10,
        "start_time": "2024-03-13T15:13:07.830Z"
      },
      {
        "duration": 7,
        "start_time": "2024-03-13T15:13:08.710Z"
      },
      {
        "duration": 8,
        "start_time": "2024-03-13T15:13:09.578Z"
      },
      {
        "duration": 4,
        "start_time": "2024-03-13T15:13:11.596Z"
      },
      {
        "duration": 113,
        "start_time": "2024-03-13T15:13:12.065Z"
      },
      {
        "duration": 4,
        "start_time": "2024-03-13T15:13:12.507Z"
      },
      {
        "duration": 4,
        "start_time": "2024-03-13T15:13:13.727Z"
      },
      {
        "duration": 5,
        "start_time": "2024-03-13T15:13:14.144Z"
      },
      {
        "duration": 6,
        "start_time": "2024-03-13T15:13:14.999Z"
      },
      {
        "duration": 5,
        "start_time": "2024-03-13T15:13:15.850Z"
      },
      {
        "duration": 6,
        "start_time": "2024-03-13T15:13:16.662Z"
      },
      {
        "duration": 106,
        "start_time": "2024-03-13T15:13:17.493Z"
      },
      {
        "duration": 122,
        "start_time": "2024-03-13T15:13:18.348Z"
      },
      {
        "duration": 7,
        "start_time": "2024-03-13T15:13:18.784Z"
      },
      {
        "duration": 9,
        "start_time": "2024-03-13T15:13:20.012Z"
      },
      {
        "duration": 132,
        "start_time": "2024-03-13T15:13:20.435Z"
      },
      {
        "duration": 7,
        "start_time": "2024-03-13T15:13:20.843Z"
      },
      {
        "duration": 179,
        "start_time": "2024-03-13T15:13:22.120Z"
      },
      {
        "duration": 8,
        "start_time": "2024-03-13T15:13:22.526Z"
      },
      {
        "duration": 10,
        "start_time": "2024-03-13T15:13:24.220Z"
      },
      {
        "duration": 9,
        "start_time": "2024-03-13T15:13:24.658Z"
      },
      {
        "duration": 14,
        "start_time": "2024-03-13T15:13:25.129Z"
      },
      {
        "duration": 10,
        "start_time": "2024-03-13T15:13:25.587Z"
      },
      {
        "duration": 9,
        "start_time": "2024-03-13T15:13:26.081Z"
      },
      {
        "duration": 15,
        "start_time": "2024-03-13T15:13:26.600Z"
      },
      {
        "duration": 6,
        "start_time": "2024-03-13T15:13:27.052Z"
      },
      {
        "duration": 14,
        "start_time": "2024-03-13T15:13:27.972Z"
      },
      {
        "duration": 12,
        "start_time": "2024-03-13T15:13:28.436Z"
      },
      {
        "duration": 117,
        "start_time": "2024-03-13T15:13:29.874Z"
      },
      {
        "duration": 106,
        "start_time": "2024-03-13T15:13:30.472Z"
      },
      {
        "duration": 7,
        "start_time": "2024-03-13T15:13:30.919Z"
      },
      {
        "duration": 7,
        "start_time": "2024-03-13T15:13:31.394Z"
      },
      {
        "duration": 124,
        "start_time": "2024-03-13T15:13:32.792Z"
      },
      {
        "duration": 117,
        "start_time": "2024-03-13T15:13:33.682Z"
      },
      {
        "duration": 6,
        "start_time": "2024-03-13T15:13:34.143Z"
      },
      {
        "duration": 8,
        "start_time": "2024-03-13T15:13:34.570Z"
      },
      {
        "duration": 12,
        "start_time": "2024-03-13T15:13:36.314Z"
      },
      {
        "duration": 14,
        "start_time": "2024-03-13T15:13:36.828Z"
      },
      {
        "duration": 22,
        "start_time": "2024-03-13T15:13:37.479Z"
      },
      {
        "duration": 17,
        "start_time": "2024-03-13T15:13:38.074Z"
      },
      {
        "duration": 22,
        "start_time": "2024-03-13T15:13:38.628Z"
      },
      {
        "duration": 12,
        "start_time": "2024-03-13T15:13:39.412Z"
      },
      {
        "duration": 37,
        "start_time": "2024-03-13T15:13:40.574Z"
      },
      {
        "duration": 24,
        "start_time": "2024-03-13T15:13:41.164Z"
      },
      {
        "duration": 20,
        "start_time": "2024-03-13T15:13:44.466Z"
      },
      {
        "duration": 2,
        "start_time": "2024-03-13T15:13:48.562Z"
      },
      {
        "duration": 35,
        "start_time": "2024-03-13T15:13:49.186Z"
      },
      {
        "duration": 13,
        "start_time": "2024-03-13T15:13:53.258Z"
      },
      {
        "duration": 2,
        "start_time": "2024-03-13T15:14:01.292Z"
      },
      {
        "duration": 2,
        "start_time": "2024-03-13T15:14:02.971Z"
      },
      {
        "duration": 15,
        "start_time": "2024-03-13T15:14:03.808Z"
      },
      {
        "duration": 13,
        "start_time": "2024-03-13T15:14:05.576Z"
      },
      {
        "duration": 71,
        "start_time": "2024-03-13T15:14:23.326Z"
      },
      {
        "duration": 16,
        "start_time": "2024-03-13T15:14:30.780Z"
      },
      {
        "duration": 15,
        "start_time": "2024-03-13T15:14:43.245Z"
      },
      {
        "duration": 15,
        "start_time": "2024-03-13T15:14:51.786Z"
      },
      {
        "duration": 14,
        "start_time": "2024-03-13T15:15:06.637Z"
      },
      {
        "duration": 14,
        "start_time": "2024-03-13T15:15:11.329Z"
      },
      {
        "duration": 2,
        "start_time": "2024-03-13T15:15:38.322Z"
      },
      {
        "duration": 67,
        "start_time": "2024-03-13T15:15:39.150Z"
      },
      {
        "duration": 7,
        "start_time": "2024-03-13T15:15:39.552Z"
      },
      {
        "duration": 9,
        "start_time": "2024-03-13T15:15:40.006Z"
      },
      {
        "duration": 6,
        "start_time": "2024-03-13T15:15:40.909Z"
      },
      {
        "duration": 10,
        "start_time": "2024-03-13T15:15:41.395Z"
      },
      {
        "duration": 6,
        "start_time": "2024-03-13T15:15:42.297Z"
      },
      {
        "duration": 11,
        "start_time": "2024-03-13T15:15:42.748Z"
      },
      {
        "duration": 10,
        "start_time": "2024-03-13T15:15:44.482Z"
      },
      {
        "duration": 9,
        "start_time": "2024-03-13T15:15:45.736Z"
      },
      {
        "duration": 5,
        "start_time": "2024-03-13T15:15:46.605Z"
      },
      {
        "duration": 6,
        "start_time": "2024-03-13T15:15:47.456Z"
      },
      {
        "duration": 8,
        "start_time": "2024-03-13T15:15:47.894Z"
      },
      {
        "duration": 6,
        "start_time": "2024-03-13T15:15:48.770Z"
      },
      {
        "duration": 6,
        "start_time": "2024-03-13T15:15:49.695Z"
      },
      {
        "duration": 3,
        "start_time": "2024-03-13T15:15:51.711Z"
      },
      {
        "duration": 107,
        "start_time": "2024-03-13T15:15:52.178Z"
      },
      {
        "duration": 5,
        "start_time": "2024-03-13T15:15:52.619Z"
      },
      {
        "duration": 7,
        "start_time": "2024-03-13T15:15:53.871Z"
      },
      {
        "duration": 4,
        "start_time": "2024-03-13T15:15:54.293Z"
      },
      {
        "duration": 5,
        "start_time": "2024-03-13T15:15:55.194Z"
      },
      {
        "duration": 5,
        "start_time": "2024-03-13T15:15:56.025Z"
      },
      {
        "duration": 6,
        "start_time": "2024-03-13T15:15:56.882Z"
      },
      {
        "duration": 107,
        "start_time": "2024-03-13T15:15:57.750Z"
      },
      {
        "duration": 127,
        "start_time": "2024-03-13T15:15:58.657Z"
      },
      {
        "duration": 6,
        "start_time": "2024-03-13T15:15:59.109Z"
      },
      {
        "duration": 10,
        "start_time": "2024-03-13T15:16:00.342Z"
      },
      {
        "duration": 128,
        "start_time": "2024-03-13T15:16:00.796Z"
      },
      {
        "duration": 7,
        "start_time": "2024-03-13T15:16:01.221Z"
      },
      {
        "duration": 137,
        "start_time": "2024-03-13T15:16:02.506Z"
      },
      {
        "duration": 6,
        "start_time": "2024-03-13T15:16:02.934Z"
      },
      {
        "duration": 9,
        "start_time": "2024-03-13T15:16:04.746Z"
      },
      {
        "duration": 9,
        "start_time": "2024-03-13T15:16:05.246Z"
      },
      {
        "duration": 14,
        "start_time": "2024-03-13T15:16:05.887Z"
      },
      {
        "duration": 11,
        "start_time": "2024-03-13T15:16:06.758Z"
      },
      {
        "duration": 10,
        "start_time": "2024-03-13T15:16:07.172Z"
      },
      {
        "duration": 17,
        "start_time": "2024-03-13T15:16:07.603Z"
      },
      {
        "duration": 5,
        "start_time": "2024-03-13T15:16:08.016Z"
      },
      {
        "duration": 14,
        "start_time": "2024-03-13T15:16:08.828Z"
      },
      {
        "duration": 12,
        "start_time": "2024-03-13T15:16:09.262Z"
      },
      {
        "duration": 118,
        "start_time": "2024-03-13T15:16:10.541Z"
      },
      {
        "duration": 178,
        "start_time": "2024-03-13T15:16:10.988Z"
      },
      {
        "duration": 7,
        "start_time": "2024-03-13T15:16:11.448Z"
      },
      {
        "duration": 7,
        "start_time": "2024-03-13T15:16:11.950Z"
      },
      {
        "duration": 126,
        "start_time": "2024-03-13T15:16:13.302Z"
      },
      {
        "duration": 120,
        "start_time": "2024-03-13T15:16:14.224Z"
      },
      {
        "duration": 7,
        "start_time": "2024-03-13T15:16:14.736Z"
      },
      {
        "duration": 7,
        "start_time": "2024-03-13T15:16:15.206Z"
      },
      {
        "duration": 12,
        "start_time": "2024-03-13T15:16:17.251Z"
      },
      {
        "duration": 12,
        "start_time": "2024-03-13T15:16:19.080Z"
      },
      {
        "duration": 22,
        "start_time": "2024-03-13T15:16:19.612Z"
      },
      {
        "duration": 17,
        "start_time": "2024-03-13T15:16:20.174Z"
      },
      {
        "duration": 28,
        "start_time": "2024-03-13T15:16:20.840Z"
      },
      {
        "duration": 13,
        "start_time": "2024-03-13T15:16:21.447Z"
      },
      {
        "duration": 37,
        "start_time": "2024-03-13T15:16:22.520Z"
      },
      {
        "duration": 22,
        "start_time": "2024-03-13T15:16:23.042Z"
      },
      {
        "duration": 14,
        "start_time": "2024-03-13T15:16:23.646Z"
      },
      {
        "duration": 2,
        "start_time": "2024-03-13T15:16:24.446Z"
      },
      {
        "duration": 28,
        "start_time": "2024-03-13T15:16:25.022Z"
      },
      {
        "duration": 14,
        "start_time": "2024-03-13T15:16:25.616Z"
      },
      {
        "duration": 2,
        "start_time": "2024-03-13T15:16:27.280Z"
      },
      {
        "duration": 2,
        "start_time": "2024-03-13T15:16:31.910Z"
      },
      {
        "duration": 15,
        "start_time": "2024-03-13T15:16:32.520Z"
      },
      {
        "duration": 5,
        "start_time": "2024-03-13T15:16:45.208Z"
      },
      {
        "duration": 3,
        "start_time": "2024-03-13T15:16:55.434Z"
      },
      {
        "duration": 6,
        "start_time": "2024-03-13T15:17:08.361Z"
      },
      {
        "duration": 3,
        "start_time": "2024-03-13T15:17:14.832Z"
      },
      {
        "duration": 7,
        "start_time": "2024-03-13T15:18:58.948Z"
      },
      {
        "duration": 4,
        "start_time": "2024-03-13T15:19:38.469Z"
      },
      {
        "duration": 3,
        "start_time": "2024-03-13T15:19:47.133Z"
      },
      {
        "duration": 4,
        "start_time": "2024-03-13T15:19:57.505Z"
      },
      {
        "duration": 10,
        "start_time": "2024-03-13T15:24:43.562Z"
      },
      {
        "duration": 4,
        "start_time": "2024-03-13T15:24:45.745Z"
      },
      {
        "duration": 24,
        "start_time": "2024-03-13T15:28:18.592Z"
      },
      {
        "duration": 23,
        "start_time": "2024-03-13T15:29:44.759Z"
      },
      {
        "duration": 6,
        "start_time": "2024-03-13T15:30:35.169Z"
      },
      {
        "duration": 6,
        "start_time": "2024-03-13T15:31:32.227Z"
      },
      {
        "duration": 8,
        "start_time": "2024-03-13T15:31:45.109Z"
      },
      {
        "duration": 2,
        "start_time": "2024-03-13T16:26:31.010Z"
      },
      {
        "duration": 13,
        "start_time": "2024-03-13T16:26:34.921Z"
      },
      {
        "duration": 3,
        "start_time": "2024-03-13T16:26:37.299Z"
      },
      {
        "duration": 2,
        "start_time": "2024-03-13T16:26:39.503Z"
      },
      {
        "duration": 12,
        "start_time": "2024-03-13T16:26:41.330Z"
      },
      {
        "duration": 3,
        "start_time": "2024-03-13T16:26:43.625Z"
      },
      {
        "duration": 1176,
        "start_time": "2024-03-14T05:31:30.637Z"
      },
      {
        "duration": 2,
        "start_time": "2024-03-14T05:31:38.881Z"
      },
      {
        "duration": 195,
        "start_time": "2024-03-14T05:31:40.866Z"
      },
      {
        "duration": 11,
        "start_time": "2024-03-14T05:31:41.288Z"
      },
      {
        "duration": 10,
        "start_time": "2024-03-14T05:31:41.736Z"
      },
      {
        "duration": 7,
        "start_time": "2024-03-14T05:31:42.568Z"
      },
      {
        "duration": 10,
        "start_time": "2024-03-14T05:31:42.976Z"
      },
      {
        "duration": 8,
        "start_time": "2024-03-14T05:31:43.856Z"
      },
      {
        "duration": 10,
        "start_time": "2024-03-14T05:31:44.305Z"
      },
      {
        "duration": 16,
        "start_time": "2024-03-14T05:31:47.640Z"
      },
      {
        "duration": 10,
        "start_time": "2024-03-14T05:31:48.921Z"
      },
      {
        "duration": 5,
        "start_time": "2024-03-14T05:31:49.761Z"
      },
      {
        "duration": 8,
        "start_time": "2024-03-14T05:31:50.642Z"
      },
      {
        "duration": 12,
        "start_time": "2024-03-14T05:31:51.101Z"
      },
      {
        "duration": 5,
        "start_time": "2024-03-14T05:31:51.955Z"
      },
      {
        "duration": 8,
        "start_time": "2024-03-14T05:31:52.811Z"
      },
      {
        "duration": 4,
        "start_time": "2024-03-14T05:31:55.044Z"
      },
      {
        "duration": 120,
        "start_time": "2024-03-14T05:31:55.478Z"
      },
      {
        "duration": 6,
        "start_time": "2024-03-14T05:31:55.937Z"
      },
      {
        "duration": 6,
        "start_time": "2024-03-14T05:31:57.192Z"
      },
      {
        "duration": 6,
        "start_time": "2024-03-14T05:31:57.624Z"
      },
      {
        "duration": 6,
        "start_time": "2024-03-14T05:31:58.641Z"
      },
      {
        "duration": 5,
        "start_time": "2024-03-14T05:31:59.530Z"
      },
      {
        "duration": 6,
        "start_time": "2024-03-14T05:32:00.684Z"
      },
      {
        "duration": 115,
        "start_time": "2024-03-14T05:32:01.611Z"
      },
      {
        "duration": 133,
        "start_time": "2024-03-14T05:32:02.540Z"
      },
      {
        "duration": 7,
        "start_time": "2024-03-14T05:32:02.955Z"
      },
      {
        "duration": 9,
        "start_time": "2024-03-14T05:32:04.222Z"
      },
      {
        "duration": 146,
        "start_time": "2024-03-14T05:32:04.601Z"
      },
      {
        "duration": 8,
        "start_time": "2024-03-14T05:32:05.033Z"
      },
      {
        "duration": 141,
        "start_time": "2024-03-14T05:32:06.377Z"
      },
      {
        "duration": 7,
        "start_time": "2024-03-14T05:32:06.835Z"
      },
      {
        "duration": 9,
        "start_time": "2024-03-14T05:32:08.570Z"
      },
      {
        "duration": 10,
        "start_time": "2024-03-14T05:32:09.026Z"
      },
      {
        "duration": 18,
        "start_time": "2024-03-14T05:32:09.490Z"
      },
      {
        "duration": 13,
        "start_time": "2024-03-14T05:32:09.954Z"
      },
      {
        "duration": 9,
        "start_time": "2024-03-14T05:32:10.754Z"
      },
      {
        "duration": 17,
        "start_time": "2024-03-14T05:32:11.317Z"
      },
      {
        "duration": 5,
        "start_time": "2024-03-14T05:32:11.802Z"
      },
      {
        "duration": 15,
        "start_time": "2024-03-14T05:32:12.744Z"
      },
      {
        "duration": 13,
        "start_time": "2024-03-14T05:32:13.321Z"
      },
      {
        "duration": 126,
        "start_time": "2024-03-14T05:32:14.753Z"
      },
      {
        "duration": 118,
        "start_time": "2024-03-14T05:32:15.226Z"
      },
      {
        "duration": 8,
        "start_time": "2024-03-14T05:32:15.699Z"
      },
      {
        "duration": 6,
        "start_time": "2024-03-14T05:32:16.154Z"
      },
      {
        "duration": 145,
        "start_time": "2024-03-14T05:32:17.486Z"
      },
      {
        "duration": 145,
        "start_time": "2024-03-14T05:32:18.443Z"
      },
      {
        "duration": 7,
        "start_time": "2024-03-14T05:32:18.902Z"
      },
      {
        "duration": 7,
        "start_time": "2024-03-14T05:32:19.328Z"
      },
      {
        "duration": 13,
        "start_time": "2024-03-14T05:32:21.361Z"
      },
      {
        "duration": 20,
        "start_time": "2024-03-14T05:32:21.809Z"
      },
      {
        "duration": 99,
        "start_time": "2024-03-14T05:32:22.282Z"
      },
      {
        "duration": 20,
        "start_time": "2024-03-14T05:32:22.730Z"
      },
      {
        "duration": 25,
        "start_time": "2024-03-14T05:32:23.202Z"
      },
      {
        "duration": 13,
        "start_time": "2024-03-14T05:32:23.715Z"
      },
      {
        "duration": 43,
        "start_time": "2024-03-14T05:32:24.635Z"
      },
      {
        "duration": 28,
        "start_time": "2024-03-14T05:32:25.083Z"
      },
      {
        "duration": 17,
        "start_time": "2024-03-14T05:32:25.552Z"
      },
      {
        "duration": 3,
        "start_time": "2024-03-14T05:32:26.008Z"
      },
      {
        "duration": 37,
        "start_time": "2024-03-14T05:32:26.489Z"
      },
      {
        "duration": 15,
        "start_time": "2024-03-14T05:32:27.033Z"
      },
      {
        "duration": 2,
        "start_time": "2024-03-14T05:32:28.091Z"
      },
      {
        "duration": 2,
        "start_time": "2024-03-14T05:32:32.042Z"
      },
      {
        "duration": 17,
        "start_time": "2024-03-14T05:32:32.467Z"
      },
      {
        "duration": 4,
        "start_time": "2024-03-14T05:32:32.922Z"
      },
      {
        "duration": 15,
        "start_time": "2024-03-14T05:32:33.410Z"
      },
      {
        "duration": 3,
        "start_time": "2024-03-14T05:32:33.850Z"
      },
      {
        "duration": 11,
        "start_time": "2024-03-14T05:32:35.240Z"
      },
      {
        "duration": 2,
        "start_time": "2024-03-14T05:32:36.466Z"
      },
      {
        "duration": 16,
        "start_time": "2024-03-14T05:32:36.857Z"
      },
      {
        "duration": 4,
        "start_time": "2024-03-14T05:32:37.298Z"
      },
      {
        "duration": 2,
        "start_time": "2024-03-14T05:32:37.771Z"
      },
      {
        "duration": 15,
        "start_time": "2024-03-14T05:32:38.458Z"
      },
      {
        "duration": 3,
        "start_time": "2024-03-14T05:32:38.858Z"
      },
      {
        "duration": 3,
        "start_time": "2024-03-14T05:33:06.736Z"
      },
      {
        "duration": 4,
        "start_time": "2024-03-14T05:33:13.094Z"
      },
      {
        "duration": 89,
        "start_time": "2024-03-14T05:48:58.025Z"
      },
      {
        "duration": 10,
        "start_time": "2024-03-14T05:49:15.346Z"
      },
      {
        "duration": 4,
        "start_time": "2024-03-14T05:49:25.491Z"
      },
      {
        "duration": 70,
        "start_time": "2024-03-14T05:49:48.196Z"
      },
      {
        "duration": 16,
        "start_time": "2024-03-14T05:50:16.715Z"
      },
      {
        "duration": 18,
        "start_time": "2024-03-14T05:50:23.091Z"
      },
      {
        "duration": 21,
        "start_time": "2024-03-14T05:50:27.587Z"
      },
      {
        "duration": 28,
        "start_time": "2024-03-14T05:51:42.180Z"
      },
      {
        "duration": 16,
        "start_time": "2024-03-14T05:51:48.243Z"
      },
      {
        "duration": 17,
        "start_time": "2024-03-14T05:51:50.380Z"
      },
      {
        "duration": 19,
        "start_time": "2024-03-14T05:52:10.107Z"
      },
      {
        "duration": 14,
        "start_time": "2024-03-14T05:54:33.082Z"
      },
      {
        "duration": 22,
        "start_time": "2024-03-14T05:54:35.369Z"
      },
      {
        "duration": 3,
        "start_time": "2024-03-14T05:55:01.850Z"
      },
      {
        "duration": 3,
        "start_time": "2024-03-14T05:55:08.355Z"
      },
      {
        "duration": 65,
        "start_time": "2024-03-14T05:55:09.235Z"
      },
      {
        "duration": 8,
        "start_time": "2024-03-14T05:55:09.587Z"
      },
      {
        "duration": 10,
        "start_time": "2024-03-14T05:55:09.940Z"
      },
      {
        "duration": 8,
        "start_time": "2024-03-14T05:55:10.598Z"
      },
      {
        "duration": 11,
        "start_time": "2024-03-14T05:55:10.835Z"
      },
      {
        "duration": 10,
        "start_time": "2024-03-14T05:55:11.315Z"
      },
      {
        "duration": 10,
        "start_time": "2024-03-14T05:55:11.546Z"
      },
      {
        "duration": 16,
        "start_time": "2024-03-14T05:55:12.579Z"
      },
      {
        "duration": 13,
        "start_time": "2024-03-14T05:55:13.859Z"
      },
      {
        "duration": 5,
        "start_time": "2024-03-14T05:55:14.522Z"
      },
      {
        "duration": 7,
        "start_time": "2024-03-14T05:55:15.202Z"
      },
      {
        "duration": 9,
        "start_time": "2024-03-14T05:55:15.555Z"
      },
      {
        "duration": 7,
        "start_time": "2024-03-14T05:55:16.202Z"
      },
      {
        "duration": 7,
        "start_time": "2024-03-14T05:55:16.811Z"
      },
      {
        "duration": 4,
        "start_time": "2024-03-14T05:55:18.507Z"
      },
      {
        "duration": 132,
        "start_time": "2024-03-14T05:55:18.878Z"
      },
      {
        "duration": 5,
        "start_time": "2024-03-14T05:55:19.228Z"
      },
      {
        "duration": 5,
        "start_time": "2024-03-14T05:55:20.082Z"
      },
      {
        "duration": 4,
        "start_time": "2024-03-14T05:55:20.435Z"
      },
      {
        "duration": 5,
        "start_time": "2024-03-14T05:55:21.090Z"
      },
      {
        "duration": 6,
        "start_time": "2024-03-14T05:55:21.770Z"
      },
      {
        "duration": 6,
        "start_time": "2024-03-14T05:55:22.602Z"
      },
      {
        "duration": 122,
        "start_time": "2024-03-14T05:55:23.282Z"
      },
      {
        "duration": 137,
        "start_time": "2024-03-14T05:55:24.002Z"
      },
      {
        "duration": 7,
        "start_time": "2024-03-14T05:55:24.387Z"
      },
      {
        "duration": 9,
        "start_time": "2024-03-14T05:55:25.274Z"
      },
      {
        "duration": 145,
        "start_time": "2024-03-14T05:55:25.579Z"
      },
      {
        "duration": 7,
        "start_time": "2024-03-14T05:55:25.915Z"
      },
      {
        "duration": 147,
        "start_time": "2024-03-14T05:55:26.995Z"
      },
      {
        "duration": 9,
        "start_time": "2024-03-14T05:55:27.386Z"
      },
      {
        "duration": 10,
        "start_time": "2024-03-14T05:55:28.618Z"
      },
      {
        "duration": 10,
        "start_time": "2024-03-14T05:55:29.034Z"
      },
      {
        "duration": 17,
        "start_time": "2024-03-14T05:55:29.387Z"
      },
      {
        "duration": 14,
        "start_time": "2024-03-14T05:55:29.819Z"
      },
      {
        "duration": 10,
        "start_time": "2024-03-14T05:55:30.267Z"
      },
      {
        "duration": 18,
        "start_time": "2024-03-14T05:55:30.596Z"
      },
      {
        "duration": 4,
        "start_time": "2024-03-14T05:55:30.875Z"
      },
      {
        "duration": 22,
        "start_time": "2024-03-14T05:55:31.515Z"
      },
      {
        "duration": 14,
        "start_time": "2024-03-14T05:55:31.834Z"
      },
      {
        "duration": 138,
        "start_time": "2024-03-14T05:55:32.979Z"
      },
      {
        "duration": 127,
        "start_time": "2024-03-14T05:55:33.370Z"
      },
      {
        "duration": 8,
        "start_time": "2024-03-14T05:55:33.779Z"
      },
      {
        "duration": 9,
        "start_time": "2024-03-14T05:55:34.138Z"
      },
      {
        "duration": 148,
        "start_time": "2024-03-14T05:55:35.170Z"
      },
      {
        "duration": 148,
        "start_time": "2024-03-14T05:55:35.962Z"
      },
      {
        "duration": 8,
        "start_time": "2024-03-14T05:55:36.283Z"
      },
      {
        "duration": 8,
        "start_time": "2024-03-14T05:55:36.635Z"
      },
      {
        "duration": 13,
        "start_time": "2024-03-14T05:55:38.083Z"
      },
      {
        "duration": 15,
        "start_time": "2024-03-14T05:55:38.419Z"
      },
      {
        "duration": 26,
        "start_time": "2024-03-14T05:55:38.898Z"
      },
      {
        "duration": 19,
        "start_time": "2024-03-14T05:55:39.347Z"
      },
      {
        "duration": 27,
        "start_time": "2024-03-14T05:55:39.667Z"
      },
      {
        "duration": 13,
        "start_time": "2024-03-14T05:55:40.123Z"
      },
      {
        "duration": 44,
        "start_time": "2024-03-14T05:55:41.091Z"
      },
      {
        "duration": 29,
        "start_time": "2024-03-14T05:55:41.475Z"
      },
      {
        "duration": 16,
        "start_time": "2024-03-14T05:55:41.859Z"
      },
      {
        "duration": 2,
        "start_time": "2024-03-14T05:55:42.236Z"
      },
      {
        "duration": 35,
        "start_time": "2024-03-14T05:55:42.595Z"
      },
      {
        "duration": 18,
        "start_time": "2024-03-14T05:55:42.957Z"
      },
      {
        "duration": 2,
        "start_time": "2024-03-14T05:55:43.754Z"
      },
      {
        "duration": 2,
        "start_time": "2024-03-14T05:55:45.658Z"
      },
      {
        "duration": 14,
        "start_time": "2024-03-14T05:55:46.859Z"
      },
      {
        "duration": 4,
        "start_time": "2024-03-14T05:55:47.412Z"
      },
      {
        "duration": 11,
        "start_time": "2024-03-14T05:56:05.435Z"
      },
      {
        "duration": 18,
        "start_time": "2024-03-14T05:56:06.098Z"
      },
      {
        "duration": 14,
        "start_time": "2024-03-14T05:56:25.250Z"
      },
      {
        "duration": 4,
        "start_time": "2024-03-14T05:56:26.659Z"
      },
      {
        "duration": 4,
        "start_time": "2024-03-14T05:56:32.563Z"
      },
      {
        "duration": 4,
        "start_time": "2024-03-14T06:00:31.071Z"
      },
      {
        "duration": 4,
        "start_time": "2024-03-14T06:00:38.147Z"
      },
      {
        "duration": 5,
        "start_time": "2024-03-14T06:00:41.881Z"
      },
      {
        "duration": 4,
        "start_time": "2024-03-14T06:30:17.978Z"
      },
      {
        "duration": 4,
        "start_time": "2024-03-14T06:30:21.657Z"
      },
      {
        "duration": 13,
        "start_time": "2024-03-14T06:35:51.671Z"
      },
      {
        "duration": 8,
        "start_time": "2024-03-14T06:36:39.598Z"
      },
      {
        "duration": 4,
        "start_time": "2024-03-14T08:31:05.940Z"
      },
      {
        "duration": 4,
        "start_time": "2024-03-14T08:59:10.200Z"
      },
      {
        "duration": 298,
        "start_time": "2024-03-14T09:00:58.762Z"
      },
      {
        "duration": 8,
        "start_time": "2024-03-14T09:05:52.618Z"
      },
      {
        "duration": 217,
        "start_time": "2024-03-14T09:06:02.440Z"
      },
      {
        "duration": 8,
        "start_time": "2024-03-14T09:06:04.761Z"
      },
      {
        "duration": 5,
        "start_time": "2024-03-14T09:09:14.160Z"
      },
      {
        "duration": 10,
        "start_time": "2024-03-14T09:40:12.488Z"
      },
      {
        "duration": 217,
        "start_time": "2024-03-14T09:40:34.556Z"
      },
      {
        "duration": 9,
        "start_time": "2024-03-14T09:40:37.316Z"
      },
      {
        "duration": 5,
        "start_time": "2024-03-14T09:41:02.981Z"
      },
      {
        "duration": 6,
        "start_time": "2024-03-14T09:43:17.629Z"
      },
      {
        "duration": 1416,
        "start_time": "2024-03-14T09:49:31.932Z"
      },
      {
        "duration": 6,
        "start_time": "2024-03-14T09:52:17.877Z"
      },
      {
        "duration": 1588,
        "start_time": "2024-03-14T09:57:46.920Z"
      },
      {
        "duration": 1638,
        "start_time": "2024-03-14T09:57:57.064Z"
      },
      {
        "duration": 1594,
        "start_time": "2024-03-14T10:03:19.122Z"
      },
      {
        "duration": 1596,
        "start_time": "2024-03-14T10:03:26.720Z"
      },
      {
        "duration": 1415,
        "start_time": "2024-03-14T10:05:14.289Z"
      },
      {
        "duration": 1356,
        "start_time": "2024-03-14T10:05:44.026Z"
      },
      {
        "duration": 5,
        "start_time": "2024-03-14T10:09:10.043Z"
      },
      {
        "duration": 5,
        "start_time": "2024-03-14T10:09:34.459Z"
      },
      {
        "duration": 6,
        "start_time": "2024-03-14T10:10:10.475Z"
      },
      {
        "duration": 1443,
        "start_time": "2024-03-14T10:11:10.228Z"
      },
      {
        "duration": 1430,
        "start_time": "2024-03-14T10:11:22.715Z"
      },
      {
        "duration": 5,
        "start_time": "2024-03-14T10:11:55.996Z"
      },
      {
        "duration": 1501,
        "start_time": "2024-03-14T10:13:05.389Z"
      },
      {
        "duration": 5,
        "start_time": "2024-03-14T10:13:29.861Z"
      },
      {
        "duration": 482,
        "start_time": "2024-03-14T10:14:08.699Z"
      },
      {
        "duration": 554,
        "start_time": "2024-03-14T10:14:28.396Z"
      },
      {
        "duration": 2657,
        "start_time": "2024-03-14T10:14:52.213Z"
      },
      {
        "duration": 2190,
        "start_time": "2024-03-14T10:15:34.700Z"
      },
      {
        "duration": 1822,
        "start_time": "2024-03-14T10:15:45.117Z"
      },
      {
        "duration": 1724,
        "start_time": "2024-03-14T10:16:11.741Z"
      },
      {
        "duration": 6,
        "start_time": "2024-03-14T10:17:00.327Z"
      },
      {
        "duration": 5,
        "start_time": "2024-03-14T10:17:07.285Z"
      },
      {
        "duration": 1603,
        "start_time": "2024-03-14T10:19:06.989Z"
      },
      {
        "duration": 6,
        "start_time": "2024-03-14T10:19:35.844Z"
      },
      {
        "duration": 1587,
        "start_time": "2024-03-14T10:19:42.605Z"
      },
      {
        "duration": 6,
        "start_time": "2024-03-14T10:19:46.445Z"
      },
      {
        "duration": 1562,
        "start_time": "2024-03-14T10:19:51.557Z"
      },
      {
        "duration": 6,
        "start_time": "2024-03-14T10:19:55.477Z"
      },
      {
        "duration": 1642,
        "start_time": "2024-03-14T10:20:03.766Z"
      },
      {
        "duration": 5,
        "start_time": "2024-03-14T10:20:08.278Z"
      },
      {
        "duration": 15,
        "start_time": "2024-03-14T11:42:23.477Z"
      },
      {
        "duration": 3,
        "start_time": "2024-03-14T11:42:49.818Z"
      },
      {
        "duration": 10,
        "start_time": "2024-03-14T11:42:54.946Z"
      },
      {
        "duration": 5,
        "start_time": "2024-03-14T11:43:05.459Z"
      },
      {
        "duration": 266,
        "start_time": "2024-03-14T11:44:13.410Z"
      },
      {
        "duration": 233,
        "start_time": "2024-03-14T11:45:04.260Z"
      },
      {
        "duration": 243,
        "start_time": "2024-03-14T11:47:13.961Z"
      },
      {
        "duration": 11,
        "start_time": "2024-03-14T11:48:13.715Z"
      },
      {
        "duration": 14,
        "start_time": "2024-03-14T11:49:59.139Z"
      },
      {
        "duration": 427,
        "start_time": "2024-03-14T11:50:33.611Z"
      },
      {
        "duration": 17,
        "start_time": "2024-03-14T11:53:45.044Z"
      },
      {
        "duration": 15,
        "start_time": "2024-03-14T11:54:22.854Z"
      },
      {
        "duration": 105,
        "start_time": "2024-03-14T11:54:44.178Z"
      },
      {
        "duration": 3,
        "start_time": "2024-03-14T11:55:11.736Z"
      },
      {
        "duration": 499,
        "start_time": "2024-03-14T11:55:21.538Z"
      },
      {
        "duration": 116,
        "start_time": "2024-03-14T12:04:25.651Z"
      },
      {
        "duration": 137,
        "start_time": "2024-03-14T12:04:36.147Z"
      },
      {
        "duration": 86,
        "start_time": "2024-03-14T12:05:48.587Z"
      },
      {
        "duration": 15339,
        "start_time": "2024-03-14T12:06:02.827Z"
      },
      {
        "duration": 1240,
        "start_time": "2024-03-14T13:40:33.415Z"
      },
      {
        "duration": 291,
        "start_time": "2024-03-14T13:40:34.657Z"
      },
      {
        "duration": 13,
        "start_time": "2024-03-14T13:40:34.949Z"
      },
      {
        "duration": 19,
        "start_time": "2024-03-14T13:40:34.963Z"
      },
      {
        "duration": 8,
        "start_time": "2024-03-14T13:40:35.988Z"
      },
      {
        "duration": 10,
        "start_time": "2024-03-14T13:40:38.614Z"
      },
      {
        "duration": 7,
        "start_time": "2024-03-14T13:40:40.331Z"
      },
      {
        "duration": 9,
        "start_time": "2024-03-14T13:40:40.517Z"
      },
      {
        "duration": 13,
        "start_time": "2024-03-14T13:40:41.299Z"
      },
      {
        "duration": 10,
        "start_time": "2024-03-14T13:40:41.871Z"
      },
      {
        "duration": 6,
        "start_time": "2024-03-14T13:40:42.243Z"
      },
      {
        "duration": 8,
        "start_time": "2024-03-14T13:40:42.615Z"
      },
      {
        "duration": 10,
        "start_time": "2024-03-14T13:40:42.807Z"
      },
      {
        "duration": 6,
        "start_time": "2024-03-14T13:40:43.177Z"
      },
      {
        "duration": 8,
        "start_time": "2024-03-14T13:40:43.565Z"
      },
      {
        "duration": 4,
        "start_time": "2024-03-14T13:40:44.559Z"
      },
      {
        "duration": 129,
        "start_time": "2024-03-14T13:40:44.777Z"
      },
      {
        "duration": 7,
        "start_time": "2024-03-14T13:40:44.973Z"
      },
      {
        "duration": 6,
        "start_time": "2024-03-14T13:40:45.555Z"
      },
      {
        "duration": 5,
        "start_time": "2024-03-14T13:40:45.751Z"
      },
      {
        "duration": 6,
        "start_time": "2024-03-14T13:40:46.119Z"
      },
      {
        "duration": 5,
        "start_time": "2024-03-14T13:40:46.499Z"
      },
      {
        "duration": 6,
        "start_time": "2024-03-14T13:40:46.903Z"
      },
      {
        "duration": 130,
        "start_time": "2024-03-14T13:40:47.295Z"
      },
      {
        "duration": 155,
        "start_time": "2024-03-14T13:40:47.695Z"
      },
      {
        "duration": 7,
        "start_time": "2024-03-14T13:40:47.901Z"
      },
      {
        "duration": 10,
        "start_time": "2024-03-14T13:40:48.501Z"
      },
      {
        "duration": 155,
        "start_time": "2024-03-14T13:40:48.707Z"
      },
      {
        "duration": 10,
        "start_time": "2024-03-14T13:40:48.931Z"
      },
      {
        "duration": 149,
        "start_time": "2024-03-14T13:40:49.535Z"
      },
      {
        "duration": 8,
        "start_time": "2024-03-14T13:40:49.755Z"
      },
      {
        "duration": 9,
        "start_time": "2024-03-14T13:40:50.589Z"
      },
      {
        "duration": 10,
        "start_time": "2024-03-14T13:40:50.787Z"
      },
      {
        "duration": 17,
        "start_time": "2024-03-14T13:40:50.997Z"
      },
      {
        "duration": 13,
        "start_time": "2024-03-14T13:40:51.227Z"
      },
      {
        "duration": 10,
        "start_time": "2024-03-14T13:40:51.441Z"
      },
      {
        "duration": 18,
        "start_time": "2024-03-14T13:40:51.641Z"
      },
      {
        "duration": 5,
        "start_time": "2024-03-14T13:40:51.851Z"
      },
      {
        "duration": 16,
        "start_time": "2024-03-14T13:40:52.257Z"
      },
      {
        "duration": 14,
        "start_time": "2024-03-14T13:40:52.456Z"
      },
      {
        "duration": 140,
        "start_time": "2024-03-14T13:40:53.086Z"
      },
      {
        "duration": 127,
        "start_time": "2024-03-14T13:40:53.302Z"
      },
      {
        "duration": 8,
        "start_time": "2024-03-14T13:40:53.519Z"
      },
      {
        "duration": 8,
        "start_time": "2024-03-14T13:40:53.743Z"
      },
      {
        "duration": 153,
        "start_time": "2024-03-14T13:40:54.371Z"
      },
      {
        "duration": 153,
        "start_time": "2024-03-14T13:40:54.814Z"
      },
      {
        "duration": 8,
        "start_time": "2024-03-14T13:40:55.041Z"
      },
      {
        "duration": 8,
        "start_time": "2024-03-14T13:40:55.254Z"
      },
      {
        "duration": 14,
        "start_time": "2024-03-14T13:40:56.077Z"
      },
      {
        "duration": 15,
        "start_time": "2024-03-14T13:40:56.301Z"
      },
      {
        "duration": 104,
        "start_time": "2024-03-14T13:40:56.505Z"
      },
      {
        "duration": 21,
        "start_time": "2024-03-14T13:40:56.714Z"
      },
      {
        "duration": 26,
        "start_time": "2024-03-14T13:40:56.934Z"
      },
      {
        "duration": 13,
        "start_time": "2024-03-14T13:40:57.133Z"
      },
      {
        "duration": 53,
        "start_time": "2024-03-14T13:40:57.594Z"
      },
      {
        "duration": 28,
        "start_time": "2024-03-14T13:40:57.823Z"
      },
      {
        "duration": 17,
        "start_time": "2024-03-14T13:40:58.041Z"
      },
      {
        "duration": 3,
        "start_time": "2024-03-14T13:40:58.251Z"
      },
      {
        "duration": 42,
        "start_time": "2024-03-14T13:40:58.494Z"
      },
      {
        "duration": 15,
        "start_time": "2024-03-14T13:40:58.730Z"
      },
      {
        "duration": 2,
        "start_time": "2024-03-14T13:40:59.213Z"
      },
      {
        "duration": 3,
        "start_time": "2024-03-14T13:41:00.141Z"
      },
      {
        "duration": 20,
        "start_time": "2024-03-14T13:41:00.365Z"
      },
      {
        "duration": 4,
        "start_time": "2024-03-14T13:41:00.584Z"
      },
      {
        "duration": 13,
        "start_time": "2024-03-14T13:41:00.810Z"
      },
      {
        "duration": 3,
        "start_time": "2024-03-14T13:41:01.036Z"
      },
      {
        "duration": 4,
        "start_time": "2024-03-14T13:41:01.483Z"
      },
      {
        "duration": 9,
        "start_time": "2024-03-14T13:41:02.568Z"
      },
      {
        "duration": 7,
        "start_time": "2024-03-14T13:41:03.013Z"
      },
      {
        "duration": 2,
        "start_time": "2024-03-14T13:41:03.684Z"
      },
      {
        "duration": 16,
        "start_time": "2024-03-14T13:41:03.901Z"
      },
      {
        "duration": 4,
        "start_time": "2024-03-14T13:41:04.126Z"
      },
      {
        "duration": 3,
        "start_time": "2024-03-14T13:41:04.337Z"
      },
      {
        "duration": 14,
        "start_time": "2024-03-14T13:41:04.546Z"
      },
      {
        "duration": 3,
        "start_time": "2024-03-14T13:41:04.778Z"
      },
      {
        "duration": 5,
        "start_time": "2024-03-14T13:41:05.435Z"
      },
      {
        "duration": 1422,
        "start_time": "2024-03-14T13:41:07.395Z"
      },
      {
        "duration": 6,
        "start_time": "2024-03-14T13:41:08.818Z"
      },
      {
        "duration": 1973,
        "start_time": "2024-03-14T13:41:09.083Z"
      },
      {
        "duration": 6,
        "start_time": "2024-03-14T13:41:11.058Z"
      },
      {
        "duration": 1879,
        "start_time": "2024-03-14T13:41:11.066Z"
      },
      {
        "duration": 6,
        "start_time": "2024-03-14T13:41:12.947Z"
      },
      {
        "duration": 16844,
        "start_time": "2024-03-14T13:41:12.954Z"
      },
      {
        "duration": 1492,
        "start_time": "2024-03-14T13:42:04.920Z"
      },
      {
        "duration": 1251,
        "start_time": "2024-03-15T15:11:15.149Z"
      },
      {
        "duration": 188,
        "start_time": "2024-03-15T15:11:16.402Z"
      },
      {
        "duration": 12,
        "start_time": "2024-03-15T15:11:18.788Z"
      },
      {
        "duration": 11,
        "start_time": "2024-03-15T15:11:19.772Z"
      },
      {
        "duration": 8,
        "start_time": "2024-03-15T15:11:21.475Z"
      },
      {
        "duration": 13,
        "start_time": "2024-03-15T15:11:22.039Z"
      },
      {
        "duration": 6,
        "start_time": "2024-03-15T15:11:23.873Z"
      },
      {
        "duration": 10,
        "start_time": "2024-03-15T15:11:25.823Z"
      },
      {
        "duration": 17,
        "start_time": "2024-03-15T15:11:31.615Z"
      },
      {
        "duration": 10,
        "start_time": "2024-03-15T15:11:44.073Z"
      },
      {
        "duration": 11,
        "start_time": "2024-03-15T15:12:25.790Z"
      },
      {
        "duration": 6,
        "start_time": "2024-03-15T15:13:53.147Z"
      },
      {
        "duration": 8,
        "start_time": "2024-03-15T15:14:06.610Z"
      },
      {
        "duration": 10,
        "start_time": "2024-03-15T15:14:10.091Z"
      },
      {
        "duration": 6,
        "start_time": "2024-03-15T15:14:17.941Z"
      },
      {
        "duration": 11,
        "start_time": "2024-03-15T15:14:22.893Z"
      },
      {
        "duration": 70,
        "start_time": "2024-03-15T15:18:03.353Z"
      },
      {
        "duration": 4,
        "start_time": "2024-03-15T15:18:09.509Z"
      },
      {
        "duration": 126,
        "start_time": "2024-03-15T15:18:12.204Z"
      },
      {
        "duration": 156,
        "start_time": "2024-03-15T15:18:25.267Z"
      },
      {
        "duration": 123,
        "start_time": "2024-03-15T15:18:34.969Z"
      },
      {
        "duration": 115,
        "start_time": "2024-03-15T15:18:53.985Z"
      },
      {
        "duration": 242,
        "start_time": "2024-03-15T15:21:54.368Z"
      },
      {
        "duration": 142,
        "start_time": "2024-03-15T15:22:14.507Z"
      },
      {
        "duration": 4,
        "start_time": "2024-03-15T15:22:25.002Z"
      },
      {
        "duration": 129,
        "start_time": "2024-03-15T15:22:28.187Z"
      },
      {
        "duration": 137,
        "start_time": "2024-03-15T15:22:36.001Z"
      },
      {
        "duration": 125,
        "start_time": "2024-03-15T15:22:46.748Z"
      },
      {
        "duration": 205,
        "start_time": "2024-03-15T15:24:13.433Z"
      },
      {
        "duration": 161,
        "start_time": "2024-03-15T15:24:19.663Z"
      },
      {
        "duration": 53,
        "start_time": "2024-03-15T15:24:30.684Z"
      },
      {
        "duration": 60,
        "start_time": "2024-03-15T15:24:42.116Z"
      },
      {
        "duration": 275,
        "start_time": "2024-03-15T15:24:44.570Z"
      },
      {
        "duration": 137,
        "start_time": "2024-03-15T15:24:55.881Z"
      },
      {
        "duration": 168,
        "start_time": "2024-03-15T15:25:04.732Z"
      },
      {
        "duration": 218,
        "start_time": "2024-03-15T15:25:14.548Z"
      },
      {
        "duration": 457,
        "start_time": "2024-03-15T15:25:42.191Z"
      },
      {
        "duration": 291,
        "start_time": "2024-03-15T15:25:55.059Z"
      },
      {
        "duration": 112,
        "start_time": "2024-03-15T15:26:13.891Z"
      },
      {
        "duration": 192,
        "start_time": "2024-03-15T15:26:22.152Z"
      },
      {
        "duration": 119,
        "start_time": "2024-03-15T15:26:28.295Z"
      },
      {
        "duration": 115,
        "start_time": "2024-03-15T15:26:40.887Z"
      },
      {
        "duration": 112,
        "start_time": "2024-03-15T15:26:53.267Z"
      },
      {
        "duration": 136,
        "start_time": "2024-03-15T15:26:56.018Z"
      },
      {
        "duration": 140,
        "start_time": "2024-03-15T15:27:03.523Z"
      },
      {
        "duration": 136,
        "start_time": "2024-03-15T15:27:05.807Z"
      },
      {
        "duration": 133,
        "start_time": "2024-03-15T15:27:14.348Z"
      },
      {
        "duration": 137,
        "start_time": "2024-03-15T15:27:16.246Z"
      },
      {
        "duration": 142,
        "start_time": "2024-03-15T15:27:25.904Z"
      },
      {
        "duration": 140,
        "start_time": "2024-03-15T15:27:27.327Z"
      },
      {
        "duration": 228,
        "start_time": "2024-03-15T15:27:28.273Z"
      },
      {
        "duration": 153,
        "start_time": "2024-03-15T15:27:29.257Z"
      },
      {
        "duration": 140,
        "start_time": "2024-03-15T15:27:30.165Z"
      },
      {
        "duration": 7,
        "start_time": "2024-03-15T15:27:43.211Z"
      },
      {
        "duration": 6,
        "start_time": "2024-03-15T15:28:55.675Z"
      },
      {
        "duration": 6,
        "start_time": "2024-03-15T15:29:18.000Z"
      },
      {
        "duration": 6,
        "start_time": "2024-03-15T15:29:46.835Z"
      },
      {
        "duration": 129,
        "start_time": "2024-03-15T15:30:19.312Z"
      },
      {
        "duration": 126,
        "start_time": "2024-03-15T15:30:26.258Z"
      },
      {
        "duration": 129,
        "start_time": "2024-03-15T15:30:27.198Z"
      },
      {
        "duration": 158,
        "start_time": "2024-03-15T15:31:19.197Z"
      },
      {
        "duration": 7,
        "start_time": "2024-03-15T15:31:23.877Z"
      },
      {
        "duration": 157,
        "start_time": "2024-03-15T15:34:34.386Z"
      },
      {
        "duration": 173,
        "start_time": "2024-03-15T15:35:13.710Z"
      },
      {
        "duration": 181,
        "start_time": "2024-03-15T15:39:13.839Z"
      },
      {
        "duration": 9,
        "start_time": "2024-03-15T15:39:20.894Z"
      },
      {
        "duration": 16,
        "start_time": "2024-03-15T15:40:47.706Z"
      },
      {
        "duration": 17,
        "start_time": "2024-03-15T15:41:03.105Z"
      },
      {
        "duration": 15,
        "start_time": "2024-03-15T15:42:45.275Z"
      },
      {
        "duration": 13,
        "start_time": "2024-03-15T15:42:47.363Z"
      },
      {
        "duration": 172,
        "start_time": "2024-03-15T15:44:03.419Z"
      },
      {
        "duration": 246,
        "start_time": "2024-03-15T15:44:34.773Z"
      },
      {
        "duration": 182,
        "start_time": "2024-03-15T15:46:11.450Z"
      },
      {
        "duration": 181,
        "start_time": "2024-03-15T15:47:17.532Z"
      },
      {
        "duration": 163,
        "start_time": "2024-03-15T15:47:27.593Z"
      },
      {
        "duration": 179,
        "start_time": "2024-03-15T15:47:35.272Z"
      },
      {
        "duration": 8,
        "start_time": "2024-03-15T15:47:36.162Z"
      },
      {
        "duration": 8,
        "start_time": "2024-03-15T15:47:36.958Z"
      },
      {
        "duration": 14,
        "start_time": "2024-03-15T15:51:53.426Z"
      },
      {
        "duration": 44,
        "start_time": "2024-03-15T15:52:43.330Z"
      },
      {
        "duration": 14,
        "start_time": "2024-03-15T15:53:14.260Z"
      },
      {
        "duration": 14,
        "start_time": "2024-03-15T15:53:17.304Z"
      },
      {
        "duration": 26,
        "start_time": "2024-03-15T15:53:26.587Z"
      },
      {
        "duration": 14,
        "start_time": "2024-03-15T15:53:32.821Z"
      },
      {
        "duration": 42,
        "start_time": "2024-03-15T15:55:01.454Z"
      },
      {
        "duration": 45,
        "start_time": "2024-03-15T15:55:32.100Z"
      },
      {
        "duration": 27,
        "start_time": "2024-03-15T15:55:50.365Z"
      },
      {
        "duration": 16,
        "start_time": "2024-03-15T15:57:11.858Z"
      },
      {
        "duration": 4,
        "start_time": "2024-03-15T15:57:39.052Z"
      },
      {
        "duration": 40,
        "start_time": "2024-03-15T15:58:15.839Z"
      },
      {
        "duration": 2,
        "start_time": "2024-03-15T15:59:57.186Z"
      },
      {
        "duration": 2,
        "start_time": "2024-03-15T16:00:00.438Z"
      },
      {
        "duration": 15,
        "start_time": "2024-03-15T16:00:00.833Z"
      },
      {
        "duration": 4,
        "start_time": "2024-03-15T16:00:02.189Z"
      },
      {
        "duration": 13,
        "start_time": "2024-03-15T16:00:04.248Z"
      },
      {
        "duration": 4,
        "start_time": "2024-03-15T16:00:05.078Z"
      },
      {
        "duration": 4,
        "start_time": "2024-03-15T16:01:00.719Z"
      },
      {
        "duration": 10,
        "start_time": "2024-03-15T16:02:37.363Z"
      },
      {
        "duration": 6,
        "start_time": "2024-03-15T16:03:16.313Z"
      },
      {
        "duration": 89,
        "start_time": "2024-03-15T16:05:24.214Z"
      },
      {
        "duration": 3,
        "start_time": "2024-03-15T16:05:31.885Z"
      },
      {
        "duration": 17,
        "start_time": "2024-03-15T16:05:32.413Z"
      },
      {
        "duration": 8,
        "start_time": "2024-03-15T16:05:35.209Z"
      },
      {
        "duration": 4,
        "start_time": "2024-03-15T16:05:42.447Z"
      },
      {
        "duration": 2,
        "start_time": "2024-03-15T16:05:45.683Z"
      },
      {
        "duration": 16,
        "start_time": "2024-03-15T16:05:46.485Z"
      },
      {
        "duration": 4,
        "start_time": "2024-03-15T16:05:50.170Z"
      },
      {
        "duration": 4,
        "start_time": "2024-03-15T16:06:45.988Z"
      },
      {
        "duration": 1457,
        "start_time": "2024-03-15T16:10:51.826Z"
      },
      {
        "duration": 1451,
        "start_time": "2024-03-15T16:12:04.304Z"
      },
      {
        "duration": 6,
        "start_time": "2024-03-15T16:12:30.100Z"
      },
      {
        "duration": 1720,
        "start_time": "2024-03-15T16:13:41.275Z"
      },
      {
        "duration": 6,
        "start_time": "2024-03-15T16:14:03.255Z"
      },
      {
        "duration": 1690,
        "start_time": "2024-03-15T16:14:35.713Z"
      },
      {
        "duration": 5,
        "start_time": "2024-03-15T16:14:50.047Z"
      },
      {
        "duration": 1543,
        "start_time": "2024-03-15T16:17:26.259Z"
      },
      {
        "duration": 7,
        "start_time": "2024-03-15T16:34:47.502Z"
      },
      {
        "duration": 3,
        "start_time": "2024-03-15T16:36:38.162Z"
      },
      {
        "duration": 61,
        "start_time": "2024-03-15T16:36:38.985Z"
      },
      {
        "duration": 7,
        "start_time": "2024-03-15T16:36:39.432Z"
      },
      {
        "duration": 14,
        "start_time": "2024-03-15T16:36:39.988Z"
      },
      {
        "duration": 8,
        "start_time": "2024-03-15T16:36:40.923Z"
      },
      {
        "duration": 10,
        "start_time": "2024-03-15T16:36:41.382Z"
      },
      {
        "duration": 7,
        "start_time": "2024-03-15T16:36:42.251Z"
      },
      {
        "duration": 12,
        "start_time": "2024-03-15T16:36:42.668Z"
      },
      {
        "duration": 12,
        "start_time": "2024-03-15T16:36:44.357Z"
      },
      {
        "duration": 11,
        "start_time": "2024-03-15T16:36:45.983Z"
      },
      {
        "duration": 7,
        "start_time": "2024-03-15T16:36:47.679Z"
      },
      {
        "duration": 7,
        "start_time": "2024-03-15T16:36:48.661Z"
      },
      {
        "duration": 9,
        "start_time": "2024-03-15T16:36:49.048Z"
      },
      {
        "duration": 6,
        "start_time": "2024-03-15T16:36:49.867Z"
      },
      {
        "duration": 7,
        "start_time": "2024-03-15T16:36:50.693Z"
      },
      {
        "duration": 4,
        "start_time": "2024-03-15T16:36:53.919Z"
      },
      {
        "duration": 149,
        "start_time": "2024-03-15T16:36:54.337Z"
      },
      {
        "duration": 6,
        "start_time": "2024-03-15T16:36:54.773Z"
      },
      {
        "duration": 6,
        "start_time": "2024-03-15T16:36:56.735Z"
      },
      {
        "duration": 6,
        "start_time": "2024-03-15T16:36:57.527Z"
      },
      {
        "duration": 7,
        "start_time": "2024-03-15T16:36:58.315Z"
      },
      {
        "duration": 136,
        "start_time": "2024-03-15T16:36:59.117Z"
      },
      {
        "duration": 176,
        "start_time": "2024-03-15T16:37:00.675Z"
      },
      {
        "duration": 7,
        "start_time": "2024-03-15T16:37:01.094Z"
      },
      {
        "duration": 180,
        "start_time": "2024-03-15T16:37:02.983Z"
      },
      {
        "duration": 9,
        "start_time": "2024-03-15T16:37:03.377Z"
      },
      {
        "duration": 170,
        "start_time": "2024-03-15T16:37:04.941Z"
      },
      {
        "duration": 8,
        "start_time": "2024-03-15T16:37:05.358Z"
      },
      {
        "duration": 16,
        "start_time": "2024-03-15T16:37:07.654Z"
      },
      {
        "duration": 17,
        "start_time": "2024-03-15T16:37:08.052Z"
      },
      {
        "duration": 20,
        "start_time": "2024-03-15T16:37:09.590Z"
      },
      {
        "duration": 14,
        "start_time": "2024-03-15T16:37:09.998Z"
      },
      {
        "duration": 174,
        "start_time": "2024-03-15T16:37:11.475Z"
      },
      {
        "duration": 169,
        "start_time": "2024-03-15T16:37:11.925Z"
      },
      {
        "duration": 8,
        "start_time": "2024-03-15T16:37:12.419Z"
      },
      {
        "duration": 9,
        "start_time": "2024-03-15T16:37:12.868Z"
      },
      {
        "duration": 184,
        "start_time": "2024-03-15T16:37:14.092Z"
      },
      {
        "duration": 167,
        "start_time": "2024-03-15T16:37:14.952Z"
      },
      {
        "duration": 9,
        "start_time": "2024-03-15T16:37:15.363Z"
      },
      {
        "duration": 9,
        "start_time": "2024-03-15T16:37:15.775Z"
      },
      {
        "duration": 15,
        "start_time": "2024-03-15T16:37:18.543Z"
      },
      {
        "duration": 14,
        "start_time": "2024-03-15T16:37:19.391Z"
      },
      {
        "duration": 15,
        "start_time": "2024-03-15T16:37:19.759Z"
      },
      {
        "duration": 27,
        "start_time": "2024-03-15T16:37:20.179Z"
      },
      {
        "duration": 12,
        "start_time": "2024-03-15T16:37:20.672Z"
      },
      {
        "duration": 156,
        "start_time": "2024-03-15T16:37:22.503Z"
      },
      {
        "duration": 26,
        "start_time": "2024-03-15T16:37:23.377Z"
      },
      {
        "duration": 5,
        "start_time": "2024-03-15T16:37:24.205Z"
      },
      {
        "duration": 44,
        "start_time": "2024-03-15T16:37:25.637Z"
      },
      {
        "duration": 3,
        "start_time": "2024-03-15T16:37:28.500Z"
      },
      {
        "duration": 14,
        "start_time": "2024-03-15T16:37:28.879Z"
      },
      {
        "duration": 4,
        "start_time": "2024-03-15T16:37:29.269Z"
      },
      {
        "duration": 13,
        "start_time": "2024-03-15T16:37:29.675Z"
      },
      {
        "duration": 4,
        "start_time": "2024-03-15T16:37:30.080Z"
      },
      {
        "duration": 4,
        "start_time": "2024-03-15T16:37:30.899Z"
      },
      {
        "duration": 10,
        "start_time": "2024-03-15T16:37:32.709Z"
      },
      {
        "duration": 7,
        "start_time": "2024-03-15T16:37:33.915Z"
      },
      {
        "duration": 2,
        "start_time": "2024-03-15T16:37:35.399Z"
      },
      {
        "duration": 16,
        "start_time": "2024-03-15T16:37:35.795Z"
      },
      {
        "duration": 5,
        "start_time": "2024-03-15T16:37:36.213Z"
      },
      {
        "duration": 2,
        "start_time": "2024-03-15T16:37:36.630Z"
      },
      {
        "duration": 16,
        "start_time": "2024-03-15T16:37:37.044Z"
      },
      {
        "duration": 4,
        "start_time": "2024-03-15T16:37:37.417Z"
      },
      {
        "duration": 5,
        "start_time": "2024-03-15T16:37:38.567Z"
      },
      {
        "duration": 1360,
        "start_time": "2024-03-15T16:37:41.979Z"
      },
      {
        "duration": 5,
        "start_time": "2024-03-15T16:37:44.796Z"
      },
      {
        "duration": 1821,
        "start_time": "2024-03-15T16:37:45.575Z"
      },
      {
        "duration": 6,
        "start_time": "2024-03-15T16:37:47.398Z"
      },
      {
        "duration": 1653,
        "start_time": "2024-03-15T16:37:48.476Z"
      },
      {
        "duration": 6,
        "start_time": "2024-03-15T16:37:50.131Z"
      },
      {
        "duration": 1511,
        "start_time": "2024-03-15T16:37:52.689Z"
      },
      {
        "duration": 1093,
        "start_time": "2024-03-15T17:08:25.623Z"
      },
      {
        "duration": 68,
        "start_time": "2024-03-15T17:08:26.718Z"
      },
      {
        "duration": 12,
        "start_time": "2024-03-15T17:08:26.788Z"
      },
      {
        "duration": 20,
        "start_time": "2024-03-15T17:08:26.801Z"
      },
      {
        "duration": 19,
        "start_time": "2024-03-15T17:08:26.823Z"
      },
      {
        "duration": 26,
        "start_time": "2024-03-15T17:08:26.844Z"
      },
      {
        "duration": 10,
        "start_time": "2024-03-15T17:08:26.871Z"
      },
      {
        "duration": 18,
        "start_time": "2024-03-15T17:08:26.883Z"
      },
      {
        "duration": 18,
        "start_time": "2024-03-15T17:08:26.903Z"
      },
      {
        "duration": 11,
        "start_time": "2024-03-15T17:08:26.924Z"
      },
      {
        "duration": 5,
        "start_time": "2024-03-15T17:08:26.936Z"
      },
      {
        "duration": 23,
        "start_time": "2024-03-15T17:08:26.942Z"
      },
      {
        "duration": 10,
        "start_time": "2024-03-15T17:08:26.967Z"
      },
      {
        "duration": 20,
        "start_time": "2024-03-15T17:08:26.978Z"
      },
      {
        "duration": 16,
        "start_time": "2024-03-15T17:08:27.000Z"
      },
      {
        "duration": 11,
        "start_time": "2024-03-15T17:08:27.018Z"
      },
      {
        "duration": 176,
        "start_time": "2024-03-15T17:08:27.031Z"
      },
      {
        "duration": 5,
        "start_time": "2024-03-15T17:08:27.209Z"
      },
      {
        "duration": 10,
        "start_time": "2024-03-15T17:08:27.216Z"
      },
      {
        "duration": 7,
        "start_time": "2024-03-15T17:08:27.227Z"
      },
      {
        "duration": 13,
        "start_time": "2024-03-15T17:08:27.236Z"
      },
      {
        "duration": 151,
        "start_time": "2024-03-15T17:08:27.251Z"
      },
      {
        "duration": 180,
        "start_time": "2024-03-15T17:08:27.404Z"
      },
      {
        "duration": 7,
        "start_time": "2024-03-15T17:08:27.586Z"
      },
      {
        "duration": 206,
        "start_time": "2024-03-15T17:08:27.595Z"
      },
      {
        "duration": 7,
        "start_time": "2024-03-15T17:08:27.803Z"
      },
      {
        "duration": 199,
        "start_time": "2024-03-15T17:08:27.812Z"
      },
      {
        "duration": 8,
        "start_time": "2024-03-15T17:08:28.016Z"
      },
      {
        "duration": 37,
        "start_time": "2024-03-15T17:08:28.025Z"
      },
      {
        "duration": 32,
        "start_time": "2024-03-15T17:08:28.063Z"
      },
      {
        "duration": 16,
        "start_time": "2024-03-15T17:08:28.096Z"
      },
      {
        "duration": 13,
        "start_time": "2024-03-15T17:08:28.113Z"
      },
      {
        "duration": 181,
        "start_time": "2024-03-15T17:08:28.128Z"
      },
      {
        "duration": 171,
        "start_time": "2024-03-15T17:08:28.311Z"
      },
      {
        "duration": 7,
        "start_time": "2024-03-15T17:08:28.484Z"
      },
      {
        "duration": 33,
        "start_time": "2024-03-15T17:08:28.493Z"
      },
      {
        "duration": 200,
        "start_time": "2024-03-15T17:08:28.527Z"
      },
      {
        "duration": 204,
        "start_time": "2024-03-15T17:08:28.729Z"
      },
      {
        "duration": 8,
        "start_time": "2024-03-15T17:08:28.934Z"
      },
      {
        "duration": 23,
        "start_time": "2024-03-15T17:08:28.943Z"
      },
      {
        "duration": 15,
        "start_time": "2024-03-15T17:08:28.968Z"
      },
      {
        "duration": 111,
        "start_time": "2024-03-15T17:08:28.984Z"
      },
      {
        "duration": 13,
        "start_time": "2024-03-15T17:08:29.097Z"
      },
      {
        "duration": 26,
        "start_time": "2024-03-15T17:08:29.112Z"
      },
      {
        "duration": 29,
        "start_time": "2024-03-15T17:08:29.139Z"
      },
      {
        "duration": 46,
        "start_time": "2024-03-15T17:08:29.169Z"
      },
      {
        "duration": 26,
        "start_time": "2024-03-15T17:08:29.217Z"
      },
      {
        "duration": 5,
        "start_time": "2024-03-15T17:08:29.265Z"
      },
      {
        "duration": 46,
        "start_time": "2024-03-15T17:08:29.271Z"
      },
      {
        "duration": 4,
        "start_time": "2024-03-15T17:08:29.319Z"
      },
      {
        "duration": 23,
        "start_time": "2024-03-15T17:08:29.324Z"
      },
      {
        "duration": 4,
        "start_time": "2024-03-15T17:08:29.349Z"
      },
      {
        "duration": 13,
        "start_time": "2024-03-15T17:08:29.365Z"
      },
      {
        "duration": 22,
        "start_time": "2024-03-15T17:08:29.379Z"
      },
      {
        "duration": 30,
        "start_time": "2024-03-15T17:08:29.402Z"
      },
      {
        "duration": 25,
        "start_time": "2024-03-15T17:08:29.433Z"
      },
      {
        "duration": 8,
        "start_time": "2024-03-15T17:08:29.460Z"
      },
      {
        "duration": 7,
        "start_time": "2024-03-15T17:08:29.470Z"
      },
      {
        "duration": 21,
        "start_time": "2024-03-15T17:08:29.479Z"
      },
      {
        "duration": 5,
        "start_time": "2024-03-15T17:08:29.501Z"
      },
      {
        "duration": 7,
        "start_time": "2024-03-15T17:08:29.507Z"
      },
      {
        "duration": 20,
        "start_time": "2024-03-15T17:08:29.516Z"
      },
      {
        "duration": 4,
        "start_time": "2024-03-15T17:08:29.538Z"
      },
      {
        "duration": 14,
        "start_time": "2024-03-15T17:08:29.543Z"
      },
      {
        "duration": 1497,
        "start_time": "2024-03-15T17:08:29.565Z"
      },
      {
        "duration": 5,
        "start_time": "2024-03-15T17:08:31.066Z"
      },
      {
        "duration": 1856,
        "start_time": "2024-03-15T17:08:31.073Z"
      },
      {
        "duration": 5,
        "start_time": "2024-03-15T17:08:32.931Z"
      },
      {
        "duration": 1773,
        "start_time": "2024-03-15T17:08:32.937Z"
      },
      {
        "duration": 7,
        "start_time": "2024-03-15T17:08:34.713Z"
      },
      {
        "duration": 1618,
        "start_time": "2024-03-15T17:08:34.722Z"
      },
      {
        "duration": 4,
        "start_time": "2024-03-15T17:20:39.930Z"
      },
      {
        "duration": 36,
        "start_time": "2024-03-15T17:20:47.447Z"
      },
      {
        "duration": 1175,
        "start_time": "2024-03-15T17:26:58.663Z"
      },
      {
        "duration": 73,
        "start_time": "2024-03-15T17:26:59.840Z"
      },
      {
        "duration": 13,
        "start_time": "2024-03-15T17:26:59.914Z"
      },
      {
        "duration": 17,
        "start_time": "2024-03-15T17:26:59.929Z"
      },
      {
        "duration": 12,
        "start_time": "2024-03-15T17:26:59.948Z"
      },
      {
        "duration": 26,
        "start_time": "2024-03-15T17:26:59.961Z"
      },
      {
        "duration": 10,
        "start_time": "2024-03-15T17:26:59.990Z"
      },
      {
        "duration": 42,
        "start_time": "2024-03-15T17:27:00.002Z"
      },
      {
        "duration": 56,
        "start_time": "2024-03-15T17:27:00.046Z"
      },
      {
        "duration": 24,
        "start_time": "2024-03-15T17:27:00.106Z"
      },
      {
        "duration": 12,
        "start_time": "2024-03-15T17:27:00.132Z"
      },
      {
        "duration": 42,
        "start_time": "2024-03-15T17:27:00.146Z"
      },
      {
        "duration": 48,
        "start_time": "2024-03-15T17:27:00.190Z"
      },
      {
        "duration": 41,
        "start_time": "2024-03-15T17:27:00.240Z"
      },
      {
        "duration": 38,
        "start_time": "2024-03-15T17:27:00.284Z"
      },
      {
        "duration": 29,
        "start_time": "2024-03-15T17:27:00.324Z"
      },
      {
        "duration": 258,
        "start_time": "2024-03-15T17:27:00.354Z"
      },
      {
        "duration": 8,
        "start_time": "2024-03-15T17:27:00.614Z"
      },
      {
        "duration": 165,
        "start_time": "2024-03-15T17:27:00.624Z"
      },
      {
        "duration": 114,
        "start_time": "2024-03-15T17:27:00.791Z"
      },
      {
        "duration": 78,
        "start_time": "2024-03-15T17:27:00.906Z"
      },
      {
        "duration": 234,
        "start_time": "2024-03-15T17:27:00.986Z"
      },
      {
        "duration": 224,
        "start_time": "2024-03-15T17:27:01.222Z"
      },
      {
        "duration": 8,
        "start_time": "2024-03-15T17:27:01.447Z"
      },
      {
        "duration": 238,
        "start_time": "2024-03-15T17:27:01.466Z"
      },
      {
        "duration": 8,
        "start_time": "2024-03-15T17:27:01.707Z"
      },
      {
        "duration": 289,
        "start_time": "2024-03-15T17:27:01.717Z"
      },
      {
        "duration": 11,
        "start_time": "2024-03-15T17:27:02.013Z"
      },
      {
        "duration": 98,
        "start_time": "2024-03-15T17:27:02.026Z"
      },
      {
        "duration": 75,
        "start_time": "2024-03-15T17:27:02.126Z"
      },
      {
        "duration": 25,
        "start_time": "2024-03-15T17:27:02.204Z"
      },
      {
        "duration": 33,
        "start_time": "2024-03-15T17:27:02.231Z"
      },
      {
        "duration": 227,
        "start_time": "2024-03-15T17:27:02.269Z"
      },
      {
        "duration": 221,
        "start_time": "2024-03-15T17:27:02.498Z"
      },
      {
        "duration": 9,
        "start_time": "2024-03-15T17:27:02.721Z"
      },
      {
        "duration": 16,
        "start_time": "2024-03-15T17:27:02.732Z"
      },
      {
        "duration": 241,
        "start_time": "2024-03-15T17:27:02.751Z"
      },
      {
        "duration": 209,
        "start_time": "2024-03-15T17:27:02.994Z"
      },
      {
        "duration": 9,
        "start_time": "2024-03-15T17:27:03.204Z"
      },
      {
        "duration": 8,
        "start_time": "2024-03-15T17:27:03.214Z"
      },
      {
        "duration": 22,
        "start_time": "2024-03-15T17:27:03.223Z"
      },
      {
        "duration": 117,
        "start_time": "2024-03-15T17:27:03.267Z"
      },
      {
        "duration": 15,
        "start_time": "2024-03-15T17:27:03.385Z"
      },
      {
        "duration": 48,
        "start_time": "2024-03-15T17:27:03.402Z"
      },
      {
        "duration": 15,
        "start_time": "2024-03-15T17:27:03.451Z"
      },
      {
        "duration": 55,
        "start_time": "2024-03-15T17:27:03.470Z"
      },
      {
        "duration": 27,
        "start_time": "2024-03-15T17:27:03.527Z"
      },
      {
        "duration": 9,
        "start_time": "2024-03-15T17:27:03.565Z"
      },
      {
        "duration": 55,
        "start_time": "2024-03-15T17:27:03.575Z"
      },
      {
        "duration": 2,
        "start_time": "2024-03-15T17:27:03.632Z"
      },
      {
        "duration": 34,
        "start_time": "2024-03-15T17:27:03.636Z"
      },
      {
        "duration": 5,
        "start_time": "2024-03-15T17:27:03.672Z"
      },
      {
        "duration": 23,
        "start_time": "2024-03-15T17:27:03.678Z"
      },
      {
        "duration": 18,
        "start_time": "2024-03-15T17:27:03.703Z"
      },
      {
        "duration": 15,
        "start_time": "2024-03-15T17:27:03.723Z"
      },
      {
        "duration": 16,
        "start_time": "2024-03-15T17:27:03.740Z"
      },
      {
        "duration": 19,
        "start_time": "2024-03-15T17:27:03.758Z"
      },
      {
        "duration": 9,
        "start_time": "2024-03-15T17:27:03.779Z"
      },
      {
        "duration": 31,
        "start_time": "2024-03-15T17:27:03.790Z"
      },
      {
        "duration": 5,
        "start_time": "2024-03-15T17:27:03.823Z"
      },
      {
        "duration": 8,
        "start_time": "2024-03-15T17:27:03.829Z"
      },
      {
        "duration": 55,
        "start_time": "2024-03-15T17:27:03.838Z"
      },
      {
        "duration": 12,
        "start_time": "2024-03-15T17:27:03.894Z"
      },
      {
        "duration": 8,
        "start_time": "2024-03-15T17:27:03.908Z"
      },
      {
        "duration": 1674,
        "start_time": "2024-03-15T17:27:03.918Z"
      },
      {
        "duration": 7,
        "start_time": "2024-03-15T17:27:05.594Z"
      },
      {
        "duration": 2199,
        "start_time": "2024-03-15T17:27:05.603Z"
      },
      {
        "duration": 8,
        "start_time": "2024-03-15T17:27:07.803Z"
      },
      {
        "duration": 2002,
        "start_time": "2024-03-15T17:27:07.813Z"
      },
      {
        "duration": 6,
        "start_time": "2024-03-15T17:27:09.816Z"
      },
      {
        "duration": 1697,
        "start_time": "2024-03-15T17:27:09.823Z"
      },
      {
        "duration": 44,
        "start_time": "2024-03-17T07:27:05.303Z"
      },
      {
        "duration": 5,
        "start_time": "2024-03-17T07:27:15.432Z"
      },
      {
        "duration": 1218,
        "start_time": "2024-03-17T07:27:19.125Z"
      },
      {
        "duration": 191,
        "start_time": "2024-03-17T07:27:22.245Z"
      },
      {
        "duration": 12,
        "start_time": "2024-03-17T07:27:23.155Z"
      },
      {
        "duration": 10,
        "start_time": "2024-03-17T07:27:23.693Z"
      },
      {
        "duration": 8,
        "start_time": "2024-03-17T07:27:25.492Z"
      },
      {
        "duration": 11,
        "start_time": "2024-03-17T07:27:25.979Z"
      },
      {
        "duration": 9,
        "start_time": "2024-03-17T07:27:27.978Z"
      },
      {
        "duration": 9,
        "start_time": "2024-03-17T07:27:28.509Z"
      },
      {
        "duration": 13,
        "start_time": "2024-03-17T07:27:31.502Z"
      },
      {
        "duration": 10,
        "start_time": "2024-03-17T07:27:34.352Z"
      },
      {
        "duration": 4,
        "start_time": "2024-03-17T07:27:36.846Z"
      },
      {
        "duration": 4,
        "start_time": "2024-03-17T07:27:54.738Z"
      },
      {
        "duration": 5,
        "start_time": "2024-03-17T07:30:14.723Z"
      },
      {
        "duration": 52,
        "start_time": "2024-03-17T07:30:35.942Z"
      },
      {
        "duration": 6,
        "start_time": "2024-03-17T07:30:41.653Z"
      },
      {
        "duration": 8,
        "start_time": "2024-03-17T07:31:29.311Z"
      },
      {
        "duration": 8,
        "start_time": "2024-03-17T07:31:33.774Z"
      },
      {
        "duration": 4,
        "start_time": "2024-03-17T07:31:39.776Z"
      },
      {
        "duration": 3,
        "start_time": "2024-03-17T07:31:43.288Z"
      },
      {
        "duration": 4,
        "start_time": "2024-03-17T07:31:47.319Z"
      },
      {
        "duration": 19,
        "start_time": "2024-03-17T07:47:19.335Z"
      },
      {
        "duration": 10,
        "start_time": "2024-03-17T07:47:33.596Z"
      },
      {
        "duration": 18,
        "start_time": "2024-03-17T07:47:35.260Z"
      },
      {
        "duration": 10,
        "start_time": "2024-03-17T07:47:36.802Z"
      },
      {
        "duration": 4,
        "start_time": "2024-03-17T07:47:38.003Z"
      },
      {
        "duration": 5,
        "start_time": "2024-03-17T07:47:38.713Z"
      },
      {
        "duration": 4,
        "start_time": "2024-03-17T07:47:39.032Z"
      },
      {
        "duration": 6,
        "start_time": "2024-03-17T07:47:40.821Z"
      },
      {
        "duration": 6,
        "start_time": "2024-03-17T07:47:41.552Z"
      },
      {
        "duration": 9,
        "start_time": "2024-03-17T07:47:41.882Z"
      },
      {
        "duration": 5,
        "start_time": "2024-03-17T07:47:42.694Z"
      },
      {
        "duration": 7,
        "start_time": "2024-03-17T07:47:43.361Z"
      },
      {
        "duration": 5,
        "start_time": "2024-03-17T07:47:46.085Z"
      },
      {
        "duration": 12,
        "start_time": "2024-03-17T07:47:47.062Z"
      },
      {
        "duration": 141,
        "start_time": "2024-03-17T07:48:19.568Z"
      },
      {
        "duration": 11,
        "start_time": "2024-03-17T07:48:52.277Z"
      },
      {
        "duration": 15,
        "start_time": "2024-03-17T07:49:07.971Z"
      },
      {
        "duration": 10,
        "start_time": "2024-03-17T07:49:17.430Z"
      },
      {
        "duration": 154,
        "start_time": "2024-03-17T07:49:22.128Z"
      },
      {
        "duration": 116,
        "start_time": "2024-03-17T07:50:26.767Z"
      },
      {
        "duration": 124,
        "start_time": "2024-03-17T07:50:44.273Z"
      },
      {
        "duration": 136,
        "start_time": "2024-03-17T07:50:49.929Z"
      },
      {
        "duration": 121,
        "start_time": "2024-03-17T07:53:10.834Z"
      },
      {
        "duration": 120,
        "start_time": "2024-03-17T07:53:33.835Z"
      },
      {
        "duration": 189,
        "start_time": "2024-03-17T07:53:42.751Z"
      },
      {
        "duration": 120,
        "start_time": "2024-03-17T07:54:05.591Z"
      },
      {
        "duration": 12,
        "start_time": "2024-03-17T07:57:05.383Z"
      },
      {
        "duration": 12,
        "start_time": "2024-03-17T07:58:03.004Z"
      },
      {
        "duration": 1063,
        "start_time": "2024-03-17T07:58:29.378Z"
      },
      {
        "duration": 6,
        "start_time": "2024-03-17T07:59:26.491Z"
      },
      {
        "duration": 58,
        "start_time": "2024-03-17T08:01:30.486Z"
      },
      {
        "duration": 64,
        "start_time": "2024-03-17T08:01:49.621Z"
      },
      {
        "duration": 71,
        "start_time": "2024-03-17T08:10:36.821Z"
      },
      {
        "duration": 123,
        "start_time": "2024-03-17T08:10:59.087Z"
      },
      {
        "duration": 74,
        "start_time": "2024-03-17T08:11:09.238Z"
      },
      {
        "duration": 72,
        "start_time": "2024-03-17T08:12:05.738Z"
      },
      {
        "duration": 75,
        "start_time": "2024-03-17T08:13:13.293Z"
      },
      {
        "duration": 150,
        "start_time": "2024-03-17T08:13:40.118Z"
      },
      {
        "duration": 7,
        "start_time": "2024-03-17T08:13:48.868Z"
      },
      {
        "duration": 155,
        "start_time": "2024-03-17T08:13:52.809Z"
      },
      {
        "duration": 8,
        "start_time": "2024-03-17T08:13:54.716Z"
      },
      {
        "duration": 162,
        "start_time": "2024-03-17T09:19:10.267Z"
      },
      {
        "duration": 8,
        "start_time": "2024-03-17T09:19:12.760Z"
      },
      {
        "duration": 237,
        "start_time": "2024-03-17T09:19:26.868Z"
      },
      {
        "duration": 14,
        "start_time": "2024-03-17T09:21:20.678Z"
      },
      {
        "duration": 7,
        "start_time": "2024-03-17T09:25:15.440Z"
      },
      {
        "duration": 11,
        "start_time": "2024-03-17T09:27:10.043Z"
      },
      {
        "duration": 3,
        "start_time": "2024-03-17T09:28:07.661Z"
      },
      {
        "duration": 64,
        "start_time": "2024-03-17T09:28:08.688Z"
      },
      {
        "duration": 8,
        "start_time": "2024-03-17T09:28:09.012Z"
      },
      {
        "duration": 10,
        "start_time": "2024-03-17T09:28:09.348Z"
      },
      {
        "duration": 8,
        "start_time": "2024-03-17T09:28:10.219Z"
      },
      {
        "duration": 12,
        "start_time": "2024-03-17T09:28:10.536Z"
      },
      {
        "duration": 8,
        "start_time": "2024-03-17T09:28:11.226Z"
      },
      {
        "duration": 12,
        "start_time": "2024-03-17T09:28:11.569Z"
      },
      {
        "duration": 17,
        "start_time": "2024-03-17T09:28:13.299Z"
      },
      {
        "duration": 10,
        "start_time": "2024-03-17T09:28:14.690Z"
      },
      {
        "duration": 4,
        "start_time": "2024-03-17T09:28:15.719Z"
      },
      {
        "duration": 5,
        "start_time": "2024-03-17T09:28:16.383Z"
      },
      {
        "duration": 4,
        "start_time": "2024-03-17T09:28:16.714Z"
      },
      {
        "duration": 7,
        "start_time": "2024-03-17T09:28:18.377Z"
      },
      {
        "duration": 7,
        "start_time": "2024-03-17T09:28:19.038Z"
      },
      {
        "duration": 12,
        "start_time": "2024-03-17T09:28:19.355Z"
      },
      {
        "duration": 7,
        "start_time": "2024-03-17T09:28:20.086Z"
      },
      {
        "duration": 10,
        "start_time": "2024-03-17T09:28:20.771Z"
      },
      {
        "duration": 4,
        "start_time": "2024-03-17T09:28:23.151Z"
      },
      {
        "duration": 119,
        "start_time": "2024-03-17T09:28:23.520Z"
      },
      {
        "duration": 6,
        "start_time": "2024-03-17T09:28:24.717Z"
      },
      {
        "duration": 6,
        "start_time": "2024-03-17T09:28:26.629Z"
      },
      {
        "duration": 5,
        "start_time": "2024-03-17T09:28:27.432Z"
      },
      {
        "duration": 6,
        "start_time": "2024-03-17T09:28:28.152Z"
      },
      {
        "duration": 65,
        "start_time": "2024-03-17T09:28:28.888Z"
      },
      {
        "duration": 143,
        "start_time": "2024-03-17T09:28:31.237Z"
      },
      {
        "duration": 7,
        "start_time": "2024-03-17T09:28:32.196Z"
      },
      {
        "duration": 152,
        "start_time": "2024-03-17T09:28:33.871Z"
      },
      {
        "duration": 8,
        "start_time": "2024-03-17T09:28:34.510Z"
      },
      {
        "duration": 179,
        "start_time": "2024-03-17T09:28:37.858Z"
      },
      {
        "duration": 8,
        "start_time": "2024-03-17T09:28:38.556Z"
      },
      {
        "duration": 13,
        "start_time": "2024-03-17T09:28:41.294Z"
      },
      {
        "duration": 6,
        "start_time": "2024-03-17T09:28:42.404Z"
      },
      {
        "duration": 10,
        "start_time": "2024-03-17T09:28:52.862Z"
      },
      {
        "duration": 11,
        "start_time": "2024-03-17T09:29:05.166Z"
      },
      {
        "duration": 12,
        "start_time": "2024-03-17T09:29:20.309Z"
      },
      {
        "duration": 8,
        "start_time": "2024-03-17T09:30:32.352Z"
      },
      {
        "duration": 8,
        "start_time": "2024-03-17T09:36:43.419Z"
      },
      {
        "duration": 17,
        "start_time": "2024-03-17T09:36:50.929Z"
      },
      {
        "duration": 17,
        "start_time": "2024-03-17T09:36:51.610Z"
      },
      {
        "duration": 13,
        "start_time": "2024-03-17T09:36:53.344Z"
      },
      {
        "duration": 64,
        "start_time": "2024-03-17T09:38:26.964Z"
      },
      {
        "duration": 15,
        "start_time": "2024-03-17T09:39:03.996Z"
      },
      {
        "duration": 14,
        "start_time": "2024-03-17T09:39:04.449Z"
      },
      {
        "duration": 151,
        "start_time": "2024-03-17T09:39:07.956Z"
      },
      {
        "duration": 146,
        "start_time": "2024-03-17T09:39:09.655Z"
      },
      {
        "duration": 88,
        "start_time": "2024-03-17T09:48:19.353Z"
      },
      {
        "duration": 1331,
        "start_time": "2024-03-17T13:00:09.048Z"
      },
      {
        "duration": 188,
        "start_time": "2024-03-17T13:00:10.381Z"
      },
      {
        "duration": 13,
        "start_time": "2024-03-17T13:00:10.571Z"
      },
      {
        "duration": 11,
        "start_time": "2024-03-17T13:00:10.865Z"
      },
      {
        "duration": 9,
        "start_time": "2024-03-17T13:00:11.636Z"
      },
      {
        "duration": 11,
        "start_time": "2024-03-17T13:00:11.971Z"
      },
      {
        "duration": 9,
        "start_time": "2024-03-17T13:00:12.669Z"
      },
      {
        "duration": 10,
        "start_time": "2024-03-17T13:00:12.993Z"
      },
      {
        "duration": 13,
        "start_time": "2024-03-17T13:00:14.744Z"
      },
      {
        "duration": 11,
        "start_time": "2024-03-17T13:00:16.078Z"
      },
      {
        "duration": 8,
        "start_time": "2024-03-17T13:00:17.123Z"
      },
      {
        "duration": 4,
        "start_time": "2024-03-17T13:00:17.772Z"
      },
      {
        "duration": 5,
        "start_time": "2024-03-17T13:00:18.083Z"
      },
      {
        "duration": 8,
        "start_time": "2024-03-17T13:00:19.745Z"
      },
      {
        "duration": 7,
        "start_time": "2024-03-17T13:00:20.378Z"
      },
      {
        "duration": 13,
        "start_time": "2024-03-17T13:00:20.721Z"
      },
      {
        "duration": 5,
        "start_time": "2024-03-17T13:00:21.396Z"
      },
      {
        "duration": 8,
        "start_time": "2024-03-17T13:00:22.101Z"
      },
      {
        "duration": 5,
        "start_time": "2024-03-17T13:00:24.468Z"
      },
      {
        "duration": 154,
        "start_time": "2024-03-17T13:00:24.875Z"
      },
      {
        "duration": 6,
        "start_time": "2024-03-17T13:00:26.598Z"
      },
      {
        "duration": 6,
        "start_time": "2024-03-17T13:00:28.650Z"
      },
      {
        "duration": 7,
        "start_time": "2024-03-17T13:00:29.514Z"
      },
      {
        "duration": 8,
        "start_time": "2024-03-17T13:00:30.192Z"
      },
      {
        "duration": 84,
        "start_time": "2024-03-17T13:00:30.976Z"
      },
      {
        "duration": 190,
        "start_time": "2024-03-17T13:00:33.515Z"
      },
      {
        "duration": 7,
        "start_time": "2024-03-17T13:00:34.554Z"
      },
      {
        "duration": 227,
        "start_time": "2024-03-17T13:00:36.206Z"
      },
      {
        "duration": 8,
        "start_time": "2024-03-17T13:00:36.847Z"
      },
      {
        "duration": 195,
        "start_time": "2024-03-17T13:00:40.422Z"
      },
      {
        "duration": 8,
        "start_time": "2024-03-17T13:00:41.089Z"
      },
      {
        "duration": 15,
        "start_time": "2024-03-17T13:00:44.244Z"
      },
      {
        "duration": 7,
        "start_time": "2024-03-17T13:00:44.730Z"
      },
      {
        "duration": 12,
        "start_time": "2024-03-17T13:00:45.534Z"
      },
      {
        "duration": 12,
        "start_time": "2024-03-17T13:00:46.421Z"
      },
      {
        "duration": 18,
        "start_time": "2024-03-17T13:00:48.830Z"
      },
      {
        "duration": 17,
        "start_time": "2024-03-17T13:00:49.481Z"
      },
      {
        "duration": 14,
        "start_time": "2024-03-17T13:00:50.836Z"
      },
      {
        "duration": 16,
        "start_time": "2024-03-17T13:00:55.129Z"
      },
      {
        "duration": 13,
        "start_time": "2024-03-17T13:00:56.953Z"
      },
      {
        "duration": 186,
        "start_time": "2024-03-17T13:01:00.398Z"
      },
      {
        "duration": 168,
        "start_time": "2024-03-17T13:01:02.411Z"
      },
      {
        "duration": 130,
        "start_time": "2024-03-17T13:01:43.763Z"
      },
      {
        "duration": 257,
        "start_time": "2024-03-17T13:04:27.252Z"
      },
      {
        "duration": 143,
        "start_time": "2024-03-17T13:05:06.968Z"
      },
      {
        "duration": 174,
        "start_time": "2024-03-17T13:06:14.216Z"
      },
      {
        "duration": 185,
        "start_time": "2024-03-17T13:06:47.966Z"
      },
      {
        "duration": 182,
        "start_time": "2024-03-17T13:07:25.073Z"
      },
      {
        "duration": 73,
        "start_time": "2024-03-17T13:14:14.314Z"
      },
      {
        "duration": 199,
        "start_time": "2024-03-17T13:14:20.292Z"
      },
      {
        "duration": 159,
        "start_time": "2024-03-17T13:14:39.572Z"
      },
      {
        "duration": 199,
        "start_time": "2024-03-17T13:14:50.833Z"
      },
      {
        "duration": 284,
        "start_time": "2024-03-17T13:14:59.901Z"
      },
      {
        "duration": 193,
        "start_time": "2024-03-17T13:15:17.519Z"
      },
      {
        "duration": 162,
        "start_time": "2024-03-17T13:16:20.771Z"
      },
      {
        "duration": 205,
        "start_time": "2024-03-17T13:16:27.399Z"
      },
      {
        "duration": 191,
        "start_time": "2024-03-17T13:19:14.568Z"
      },
      {
        "duration": 214,
        "start_time": "2024-03-17T13:19:23.359Z"
      },
      {
        "duration": 193,
        "start_time": "2024-03-17T13:19:31.421Z"
      },
      {
        "duration": 298,
        "start_time": "2024-03-17T13:19:38.839Z"
      },
      {
        "duration": 67,
        "start_time": "2024-03-17T13:21:15.989Z"
      },
      {
        "duration": 242,
        "start_time": "2024-03-17T13:21:19.602Z"
      },
      {
        "duration": 234,
        "start_time": "2024-03-17T13:21:35.038Z"
      },
      {
        "duration": 243,
        "start_time": "2024-03-17T13:24:15.116Z"
      },
      {
        "duration": 238,
        "start_time": "2024-03-17T13:24:23.150Z"
      },
      {
        "duration": 223,
        "start_time": "2024-03-17T13:24:57.043Z"
      },
      {
        "duration": 202,
        "start_time": "2024-03-17T13:25:15.114Z"
      },
      {
        "duration": 338,
        "start_time": "2024-03-17T13:25:31.659Z"
      },
      {
        "duration": 209,
        "start_time": "2024-03-17T13:25:37.930Z"
      },
      {
        "duration": 202,
        "start_time": "2024-03-17T13:25:43.744Z"
      },
      {
        "duration": 205,
        "start_time": "2024-03-17T13:25:51.728Z"
      },
      {
        "duration": 230,
        "start_time": "2024-03-17T13:27:12.653Z"
      },
      {
        "duration": 226,
        "start_time": "2024-03-17T13:27:25.765Z"
      },
      {
        "duration": 375,
        "start_time": "2024-03-17T13:27:29.913Z"
      },
      {
        "duration": 215,
        "start_time": "2024-03-17T13:27:41.230Z"
      },
      {
        "duration": 367,
        "start_time": "2024-03-17T13:27:53.876Z"
      },
      {
        "duration": 224,
        "start_time": "2024-03-17T13:29:13.328Z"
      },
      {
        "duration": 213,
        "start_time": "2024-03-17T13:29:22.584Z"
      },
      {
        "duration": 3,
        "start_time": "2024-03-17T13:43:41.241Z"
      },
      {
        "duration": 1369,
        "start_time": "2024-03-18T03:24:00.747Z"
      },
      {
        "duration": 523,
        "start_time": "2024-03-18T03:24:03.545Z"
      },
      {
        "duration": 13,
        "start_time": "2024-03-18T03:24:04.889Z"
      },
      {
        "duration": 11,
        "start_time": "2024-03-18T03:24:05.369Z"
      },
      {
        "duration": 9,
        "start_time": "2024-03-18T03:24:06.408Z"
      },
      {
        "duration": 11,
        "start_time": "2024-03-18T03:24:06.848Z"
      },
      {
        "duration": 7,
        "start_time": "2024-03-18T03:24:07.803Z"
      },
      {
        "duration": 11,
        "start_time": "2024-03-18T03:24:08.282Z"
      },
      {
        "duration": 15,
        "start_time": "2024-03-18T03:24:10.655Z"
      },
      {
        "duration": 11,
        "start_time": "2024-03-18T03:24:12.480Z"
      },
      {
        "duration": 5,
        "start_time": "2024-03-18T03:24:13.743Z"
      },
      {
        "duration": 5,
        "start_time": "2024-03-18T03:24:14.520Z"
      },
      {
        "duration": 5,
        "start_time": "2024-03-18T03:24:14.879Z"
      },
      {
        "duration": 8,
        "start_time": "2024-03-18T03:24:16.911Z"
      },
      {
        "duration": 8,
        "start_time": "2024-03-18T03:24:17.719Z"
      },
      {
        "duration": 10,
        "start_time": "2024-03-18T03:24:18.112Z"
      },
      {
        "duration": 6,
        "start_time": "2024-03-18T03:24:18.927Z"
      },
      {
        "duration": 8,
        "start_time": "2024-03-18T03:24:19.671Z"
      },
      {
        "duration": 4,
        "start_time": "2024-03-18T03:24:22.322Z"
      },
      {
        "duration": 166,
        "start_time": "2024-03-18T03:24:22.767Z"
      },
      {
        "duration": 6,
        "start_time": "2024-03-18T03:24:24.007Z"
      },
      {
        "duration": 6,
        "start_time": "2024-03-18T03:24:26.439Z"
      },
      {
        "duration": 6,
        "start_time": "2024-03-18T03:24:27.618Z"
      },
      {
        "duration": 8,
        "start_time": "2024-03-18T03:24:28.490Z"
      },
      {
        "duration": 76,
        "start_time": "2024-03-18T03:24:29.520Z"
      },
      {
        "duration": 169,
        "start_time": "2024-03-18T03:24:32.159Z"
      },
      {
        "duration": 8,
        "start_time": "2024-03-18T03:24:33.242Z"
      },
      {
        "duration": 182,
        "start_time": "2024-03-18T03:24:35.271Z"
      },
      {
        "duration": 9,
        "start_time": "2024-03-18T03:24:35.695Z"
      },
      {
        "duration": 186,
        "start_time": "2024-03-18T03:24:38.766Z"
      },
      {
        "duration": 10,
        "start_time": "2024-03-18T03:24:39.400Z"
      },
      {
        "duration": 15,
        "start_time": "2024-03-18T03:24:41.767Z"
      },
      {
        "duration": 7,
        "start_time": "2024-03-18T03:24:42.327Z"
      },
      {
        "duration": 12,
        "start_time": "2024-03-18T03:24:43.143Z"
      },
      {
        "duration": 10,
        "start_time": "2024-03-18T03:24:43.994Z"
      },
      {
        "duration": 20,
        "start_time": "2024-03-18T03:24:46.322Z"
      },
      {
        "duration": 20,
        "start_time": "2024-03-18T03:24:46.997Z"
      },
      {
        "duration": 16,
        "start_time": "2024-03-18T03:24:47.610Z"
      },
      {
        "duration": 18,
        "start_time": "2024-03-18T03:24:51.570Z"
      },
      {
        "duration": 17,
        "start_time": "2024-03-18T03:24:52.159Z"
      },
      {
        "duration": 212,
        "start_time": "2024-03-18T03:24:54.497Z"
      },
      {
        "duration": 9,
        "start_time": "2024-03-18T03:24:59.919Z"
      },
      {
        "duration": 8,
        "start_time": "2024-03-18T03:25:00.574Z"
      },
      {
        "duration": 217,
        "start_time": "2024-03-18T03:25:03.649Z"
      },
      {
        "duration": 283,
        "start_time": "2024-03-18T03:25:06.418Z"
      },
      {
        "duration": 11,
        "start_time": "2024-03-18T03:25:08.239Z"
      },
      {
        "duration": 9,
        "start_time": "2024-03-18T03:25:08.873Z"
      },
      {
        "duration": 22,
        "start_time": "2024-03-18T03:25:16.990Z"
      },
      {
        "duration": 97,
        "start_time": "2024-03-18T03:27:50.719Z"
      },
      {
        "duration": 29,
        "start_time": "2024-03-18T03:28:02.546Z"
      },
      {
        "duration": 22,
        "start_time": "2024-03-18T03:28:48.825Z"
      },
      {
        "duration": 23,
        "start_time": "2024-03-18T03:29:02.141Z"
      },
      {
        "duration": 14,
        "start_time": "2024-03-18T03:29:35.630Z"
      },
      {
        "duration": 23,
        "start_time": "2024-03-18T03:31:18.742Z"
      },
      {
        "duration": 21,
        "start_time": "2024-03-18T03:31:45.695Z"
      },
      {
        "duration": 12,
        "start_time": "2024-03-18T03:41:47.332Z"
      },
      {
        "duration": 9,
        "start_time": "2024-03-18T03:42:31.370Z"
      },
      {
        "duration": 5,
        "start_time": "2024-03-18T03:42:37.931Z"
      },
      {
        "duration": 25,
        "start_time": "2024-03-18T03:42:49.098Z"
      },
      {
        "duration": 20,
        "start_time": "2024-03-18T03:44:23.407Z"
      },
      {
        "duration": 17,
        "start_time": "2024-03-18T03:44:38.480Z"
      },
      {
        "duration": 17,
        "start_time": "2024-03-18T03:44:45.492Z"
      },
      {
        "duration": 20,
        "start_time": "2024-03-18T03:44:56.613Z"
      },
      {
        "duration": 99,
        "start_time": "2024-03-18T03:49:32.707Z"
      },
      {
        "duration": 15,
        "start_time": "2024-03-18T03:50:35.698Z"
      },
      {
        "duration": 1360,
        "start_time": "2024-03-18T08:10:38.034Z"
      },
      {
        "duration": 292,
        "start_time": "2024-03-18T08:10:40.335Z"
      },
      {
        "duration": 15,
        "start_time": "2024-03-18T08:10:40.855Z"
      },
      {
        "duration": 11,
        "start_time": "2024-03-18T08:10:41.280Z"
      },
      {
        "duration": 9,
        "start_time": "2024-03-18T08:10:42.104Z"
      },
      {
        "duration": 11,
        "start_time": "2024-03-18T08:10:42.482Z"
      },
      {
        "duration": 8,
        "start_time": "2024-03-18T08:10:43.296Z"
      },
      {
        "duration": 15,
        "start_time": "2024-03-18T08:10:43.641Z"
      },
      {
        "duration": 16,
        "start_time": "2024-03-18T08:10:45.582Z"
      },
      {
        "duration": 13,
        "start_time": "2024-03-18T08:10:47.203Z"
      },
      {
        "duration": 4,
        "start_time": "2024-03-18T08:10:48.336Z"
      },
      {
        "duration": 6,
        "start_time": "2024-03-18T08:10:49.088Z"
      },
      {
        "duration": 5,
        "start_time": "2024-03-18T08:10:49.449Z"
      },
      {
        "duration": 7,
        "start_time": "2024-03-18T08:10:51.405Z"
      },
      {
        "duration": 10,
        "start_time": "2024-03-18T08:10:52.182Z"
      },
      {
        "duration": 11,
        "start_time": "2024-03-18T08:10:52.519Z"
      },
      {
        "duration": 6,
        "start_time": "2024-03-18T08:10:53.375Z"
      },
      {
        "duration": 10,
        "start_time": "2024-03-18T08:10:54.168Z"
      },
      {
        "duration": 4,
        "start_time": "2024-03-18T08:10:56.905Z"
      },
      {
        "duration": 182,
        "start_time": "2024-03-18T08:10:57.317Z"
      },
      {
        "duration": 6,
        "start_time": "2024-03-18T08:10:58.555Z"
      },
      {
        "duration": 6,
        "start_time": "2024-03-18T08:11:00.543Z"
      },
      {
        "duration": 6,
        "start_time": "2024-03-18T08:11:01.319Z"
      },
      {
        "duration": 8,
        "start_time": "2024-03-18T08:11:02.096Z"
      },
      {
        "duration": 90,
        "start_time": "2024-03-18T08:11:02.880Z"
      },
      {
        "duration": 180,
        "start_time": "2024-03-18T08:11:05.026Z"
      },
      {
        "duration": 7,
        "start_time": "2024-03-18T08:11:06.011Z"
      },
      {
        "duration": 196,
        "start_time": "2024-03-18T08:11:07.798Z"
      },
      {
        "duration": 11,
        "start_time": "2024-03-18T08:11:08.455Z"
      },
      {
        "duration": 213,
        "start_time": "2024-03-18T08:11:11.504Z"
      },
      {
        "duration": 8,
        "start_time": "2024-03-18T08:11:11.897Z"
      },
      {
        "duration": 21,
        "start_time": "2024-03-18T08:11:13.834Z"
      },
      {
        "duration": 11,
        "start_time": "2024-03-18T08:11:14.301Z"
      },
      {
        "duration": 15,
        "start_time": "2024-03-18T08:11:15.133Z"
      },
      {
        "duration": 9,
        "start_time": "2024-03-18T08:11:16.294Z"
      },
      {
        "duration": 21,
        "start_time": "2024-03-18T08:11:18.526Z"
      },
      {
        "duration": 21,
        "start_time": "2024-03-18T08:11:18.921Z"
      },
      {
        "duration": 17,
        "start_time": "2024-03-18T08:11:19.311Z"
      },
      {
        "duration": 18,
        "start_time": "2024-03-18T08:11:21.945Z"
      },
      {
        "duration": 16,
        "start_time": "2024-03-18T08:11:22.347Z"
      },
      {
        "duration": 244,
        "start_time": "2024-03-18T08:11:24.230Z"
      },
      {
        "duration": 8,
        "start_time": "2024-03-18T08:11:25.903Z"
      },
      {
        "duration": 9,
        "start_time": "2024-03-18T08:11:26.320Z"
      },
      {
        "duration": 214,
        "start_time": "2024-03-18T08:11:27.568Z"
      },
      {
        "duration": 306,
        "start_time": "2024-03-18T08:11:28.453Z"
      },
      {
        "duration": 10,
        "start_time": "2024-03-18T08:11:28.852Z"
      },
      {
        "duration": 10,
        "start_time": "2024-03-18T08:11:29.253Z"
      },
      {
        "duration": 16,
        "start_time": "2024-03-18T08:11:32.247Z"
      },
      {
        "duration": 16,
        "start_time": "2024-03-18T08:11:32.776Z"
      },
      {
        "duration": 17,
        "start_time": "2024-03-18T08:11:41.344Z"
      },
      {
        "duration": 17,
        "start_time": "2024-03-18T08:13:13.356Z"
      },
      {
        "duration": 10,
        "start_time": "2024-03-18T08:18:18.965Z"
      },
      {
        "duration": 21,
        "start_time": "2024-03-18T08:20:07.445Z"
      },
      {
        "duration": 19,
        "start_time": "2024-03-18T08:20:49.977Z"
      },
      {
        "duration": 117,
        "start_time": "2024-03-18T08:32:00.839Z"
      },
      {
        "duration": 392,
        "start_time": "2024-03-18T08:32:09.610Z"
      },
      {
        "duration": 20,
        "start_time": "2024-03-18T08:32:26.269Z"
      },
      {
        "duration": 980,
        "start_time": "2024-03-18T08:38:17.369Z"
      },
      {
        "duration": 21,
        "start_time": "2024-03-18T08:40:03.324Z"
      },
      {
        "duration": 16,
        "start_time": "2024-03-18T08:46:00.831Z"
      },
      {
        "duration": 1292,
        "start_time": "2024-03-18T10:44:35.159Z"
      },
      {
        "duration": 188,
        "start_time": "2024-03-18T10:44:39.732Z"
      },
      {
        "duration": 13,
        "start_time": "2024-03-18T10:44:40.166Z"
      },
      {
        "duration": 10,
        "start_time": "2024-03-18T10:44:40.702Z"
      },
      {
        "duration": 8,
        "start_time": "2024-03-18T10:44:41.690Z"
      },
      {
        "duration": 11,
        "start_time": "2024-03-18T10:44:42.118Z"
      },
      {
        "duration": 6,
        "start_time": "2024-03-18T10:44:43.070Z"
      },
      {
        "duration": 11,
        "start_time": "2024-03-18T10:44:43.499Z"
      },
      {
        "duration": 13,
        "start_time": "2024-03-18T10:44:45.900Z"
      },
      {
        "duration": 10,
        "start_time": "2024-03-18T10:44:47.621Z"
      },
      {
        "duration": 5,
        "start_time": "2024-03-18T10:44:48.846Z"
      },
      {
        "duration": 5,
        "start_time": "2024-03-18T10:44:49.695Z"
      },
      {
        "duration": 4,
        "start_time": "2024-03-18T10:44:50.136Z"
      },
      {
        "duration": 6,
        "start_time": "2024-03-18T10:44:52.475Z"
      },
      {
        "duration": 8,
        "start_time": "2024-03-18T10:44:53.397Z"
      },
      {
        "duration": 11,
        "start_time": "2024-03-18T10:44:53.845Z"
      },
      {
        "duration": 6,
        "start_time": "2024-03-18T10:44:54.781Z"
      },
      {
        "duration": 7,
        "start_time": "2024-03-18T10:44:55.583Z"
      },
      {
        "duration": 5,
        "start_time": "2024-03-18T10:44:58.919Z"
      },
      {
        "duration": 153,
        "start_time": "2024-03-18T10:44:59.364Z"
      },
      {
        "duration": 5,
        "start_time": "2024-03-18T10:45:00.732Z"
      },
      {
        "duration": 6,
        "start_time": "2024-03-18T10:45:03.028Z"
      },
      {
        "duration": 6,
        "start_time": "2024-03-18T10:45:03.837Z"
      },
      {
        "duration": 8,
        "start_time": "2024-03-18T10:45:04.854Z"
      },
      {
        "duration": 76,
        "start_time": "2024-03-18T10:45:05.920Z"
      },
      {
        "duration": 167,
        "start_time": "2024-03-18T10:45:08.595Z"
      },
      {
        "duration": 9,
        "start_time": "2024-03-18T10:45:09.619Z"
      },
      {
        "duration": 175,
        "start_time": "2024-03-18T10:45:11.420Z"
      },
      {
        "duration": 9,
        "start_time": "2024-03-18T10:45:11.957Z"
      },
      {
        "duration": 196,
        "start_time": "2024-03-18T10:45:14.951Z"
      },
      {
        "duration": 10,
        "start_time": "2024-03-18T10:45:15.575Z"
      },
      {
        "duration": 15,
        "start_time": "2024-03-18T10:45:17.651Z"
      },
      {
        "duration": 8,
        "start_time": "2024-03-18T10:45:18.156Z"
      },
      {
        "duration": 13,
        "start_time": "2024-03-18T10:45:20.180Z"
      },
      {
        "duration": 10,
        "start_time": "2024-03-18T10:45:21.068Z"
      },
      {
        "duration": 20,
        "start_time": "2024-03-18T10:45:23.502Z"
      },
      {
        "duration": 18,
        "start_time": "2024-03-18T10:45:24.024Z"
      },
      {
        "duration": 12,
        "start_time": "2024-03-18T10:45:24.583Z"
      },
      {
        "duration": 16,
        "start_time": "2024-03-18T10:45:27.332Z"
      },
      {
        "duration": 14,
        "start_time": "2024-03-18T10:45:27.764Z"
      },
      {
        "duration": 204,
        "start_time": "2024-03-18T10:45:29.654Z"
      },
      {
        "duration": 7,
        "start_time": "2024-03-18T10:45:30.974Z"
      },
      {
        "duration": 7,
        "start_time": "2024-03-18T10:45:31.359Z"
      },
      {
        "duration": 173,
        "start_time": "2024-03-18T10:45:32.587Z"
      },
      {
        "duration": 244,
        "start_time": "2024-03-18T10:45:33.427Z"
      },
      {
        "duration": 9,
        "start_time": "2024-03-18T10:45:33.819Z"
      },
      {
        "duration": 8,
        "start_time": "2024-03-18T10:45:34.197Z"
      },
      {
        "duration": 14,
        "start_time": "2024-03-18T10:45:37.341Z"
      },
      {
        "duration": 14,
        "start_time": "2024-03-18T10:45:37.782Z"
      },
      {
        "duration": 16,
        "start_time": "2024-03-18T10:45:39.639Z"
      },
      {
        "duration": 10,
        "start_time": "2024-03-18T10:45:40.266Z"
      },
      {
        "duration": 17,
        "start_time": "2024-03-18T10:45:40.835Z"
      },
      {
        "duration": 925,
        "start_time": "2024-03-18T10:45:44.386Z"
      },
      {
        "duration": 21,
        "start_time": "2024-03-18T10:45:45.313Z"
      },
      {
        "duration": 13,
        "start_time": "2024-03-18T10:45:47.499Z"
      },
      {
        "duration": 13,
        "start_time": "2024-03-18T10:49:24.819Z"
      },
      {
        "duration": 14,
        "start_time": "2024-03-18T10:49:42.006Z"
      },
      {
        "duration": 106,
        "start_time": "2024-03-18T10:57:56.830Z"
      },
      {
        "duration": 27,
        "start_time": "2024-03-18T10:58:31.099Z"
      },
      {
        "duration": 7,
        "start_time": "2024-03-18T10:59:28.181Z"
      },
      {
        "duration": 5,
        "start_time": "2024-03-18T10:59:45.365Z"
      },
      {
        "duration": 10,
        "start_time": "2024-03-18T11:50:29.947Z"
      },
      {
        "duration": 10,
        "start_time": "2024-03-18T11:52:07.275Z"
      },
      {
        "duration": 9,
        "start_time": "2024-03-18T11:54:08.771Z"
      },
      {
        "duration": 8,
        "start_time": "2024-03-18T11:55:59.221Z"
      },
      {
        "duration": 8,
        "start_time": "2024-03-18T12:01:56.256Z"
      },
      {
        "duration": 1405,
        "start_time": "2024-03-18T13:44:34.687Z"
      },
      {
        "duration": 193,
        "start_time": "2024-03-18T13:44:36.094Z"
      },
      {
        "duration": 15,
        "start_time": "2024-03-18T13:44:36.289Z"
      },
      {
        "duration": 11,
        "start_time": "2024-03-18T13:44:36.414Z"
      },
      {
        "duration": 10,
        "start_time": "2024-03-18T13:44:37.132Z"
      },
      {
        "duration": 16,
        "start_time": "2024-03-18T13:44:37.477Z"
      },
      {
        "duration": 9,
        "start_time": "2024-03-18T13:44:38.165Z"
      },
      {
        "duration": 11,
        "start_time": "2024-03-18T13:44:38.529Z"
      },
      {
        "duration": 15,
        "start_time": "2024-03-18T13:44:40.251Z"
      },
      {
        "duration": 12,
        "start_time": "2024-03-18T13:44:41.605Z"
      },
      {
        "duration": 5,
        "start_time": "2024-03-18T13:44:43.787Z"
      },
      {
        "duration": 5,
        "start_time": "2024-03-18T13:44:44.485Z"
      },
      {
        "duration": 5,
        "start_time": "2024-03-18T13:44:44.804Z"
      },
      {
        "duration": 7,
        "start_time": "2024-03-18T13:44:46.410Z"
      },
      {
        "duration": 8,
        "start_time": "2024-03-18T13:44:47.037Z"
      },
      {
        "duration": 12,
        "start_time": "2024-03-18T13:44:47.343Z"
      },
      {
        "duration": 8,
        "start_time": "2024-03-18T13:44:47.979Z"
      },
      {
        "duration": 15,
        "start_time": "2024-03-18T13:44:48.604Z"
      },
      {
        "duration": 4,
        "start_time": "2024-03-18T13:44:50.754Z"
      },
      {
        "duration": 160,
        "start_time": "2024-03-18T13:44:51.091Z"
      },
      {
        "duration": 6,
        "start_time": "2024-03-18T13:44:52.071Z"
      },
      {
        "duration": 7,
        "start_time": "2024-03-18T13:44:53.672Z"
      },
      {
        "duration": 6,
        "start_time": "2024-03-18T13:44:54.349Z"
      },
      {
        "duration": 10,
        "start_time": "2024-03-18T13:44:54.903Z"
      },
      {
        "duration": 84,
        "start_time": "2024-03-18T13:44:55.593Z"
      },
      {
        "duration": 204,
        "start_time": "2024-03-18T13:44:57.495Z"
      },
      {
        "duration": 11,
        "start_time": "2024-03-18T13:44:58.160Z"
      },
      {
        "duration": 191,
        "start_time": "2024-03-18T13:44:59.747Z"
      },
      {
        "duration": 11,
        "start_time": "2024-03-18T13:45:00.093Z"
      },
      {
        "duration": 229,
        "start_time": "2024-03-18T13:45:02.619Z"
      },
      {
        "duration": 9,
        "start_time": "2024-03-18T13:45:02.977Z"
      },
      {
        "duration": 22,
        "start_time": "2024-03-18T13:45:04.531Z"
      },
      {
        "duration": 9,
        "start_time": "2024-03-18T13:45:04.833Z"
      },
      {
        "duration": 17,
        "start_time": "2024-03-18T13:45:05.483Z"
      },
      {
        "duration": 10,
        "start_time": "2024-03-18T13:45:06.109Z"
      },
      {
        "duration": 26,
        "start_time": "2024-03-18T13:45:07.969Z"
      },
      {
        "duration": 21,
        "start_time": "2024-03-18T13:45:08.290Z"
      },
      {
        "duration": 16,
        "start_time": "2024-03-18T13:45:08.619Z"
      },
      {
        "duration": 19,
        "start_time": "2024-03-18T13:45:10.959Z"
      },
      {
        "duration": 16,
        "start_time": "2024-03-18T13:45:11.307Z"
      },
      {
        "duration": 240,
        "start_time": "2024-03-18T13:45:12.959Z"
      },
      {
        "duration": 9,
        "start_time": "2024-03-18T13:45:14.205Z"
      },
      {
        "duration": 8,
        "start_time": "2024-03-18T13:45:14.551Z"
      },
      {
        "duration": 197,
        "start_time": "2024-03-18T13:45:15.577Z"
      },
      {
        "duration": 283,
        "start_time": "2024-03-18T13:45:16.279Z"
      },
      {
        "duration": 9,
        "start_time": "2024-03-18T13:45:16.601Z"
      },
      {
        "duration": 9,
        "start_time": "2024-03-18T13:45:16.981Z"
      },
      {
        "duration": 15,
        "start_time": "2024-03-18T13:45:19.724Z"
      },
      {
        "duration": 15,
        "start_time": "2024-03-18T13:45:20.093Z"
      },
      {
        "duration": 17,
        "start_time": "2024-03-18T13:45:21.387Z"
      },
      {
        "duration": 10,
        "start_time": "2024-03-18T13:45:21.890Z"
      },
      {
        "duration": 25,
        "start_time": "2024-03-18T13:45:22.276Z"
      },
      {
        "duration": 1030,
        "start_time": "2024-03-18T13:45:22.999Z"
      },
      {
        "duration": 20,
        "start_time": "2024-03-18T13:45:24.031Z"
      },
      {
        "duration": 16,
        "start_time": "2024-03-18T13:45:25.643Z"
      },
      {
        "duration": 8,
        "start_time": "2024-03-18T13:45:30.181Z"
      },
      {
        "duration": 7,
        "start_time": "2024-03-18T13:45:30.553Z"
      },
      {
        "duration": 10,
        "start_time": "2024-03-18T13:45:31.469Z"
      },
      {
        "duration": 11,
        "start_time": "2024-03-18T13:45:40.137Z"
      },
      {
        "duration": 10,
        "start_time": "2024-03-18T13:46:20.933Z"
      },
      {
        "duration": 8,
        "start_time": "2024-03-18T13:50:17.910Z"
      },
      {
        "duration": 7,
        "start_time": "2024-03-18T13:50:20.422Z"
      },
      {
        "duration": 11,
        "start_time": "2024-03-18T13:58:38.744Z"
      },
      {
        "duration": 8,
        "start_time": "2024-03-18T13:58:51.268Z"
      },
      {
        "duration": 11,
        "start_time": "2024-03-18T13:59:09.483Z"
      },
      {
        "duration": 12,
        "start_time": "2024-03-18T13:59:12.593Z"
      },
      {
        "duration": 9,
        "start_time": "2024-03-18T13:59:15.118Z"
      },
      {
        "duration": 8,
        "start_time": "2024-03-18T13:59:17.763Z"
      },
      {
        "duration": 9,
        "start_time": "2024-03-18T13:59:22.517Z"
      },
      {
        "duration": 10,
        "start_time": "2024-03-18T13:59:32.359Z"
      },
      {
        "duration": 9,
        "start_time": "2024-03-18T13:59:41.378Z"
      },
      {
        "duration": 9,
        "start_time": "2024-03-18T14:00:17.003Z"
      },
      {
        "duration": 1626,
        "start_time": "2024-03-18T14:05:43.849Z"
      },
      {
        "duration": 6,
        "start_time": "2024-03-18T14:05:46.149Z"
      },
      {
        "duration": 1920,
        "start_time": "2024-03-18T14:05:47.970Z"
      },
      {
        "duration": 6,
        "start_time": "2024-03-18T14:05:52.571Z"
      },
      {
        "duration": 1993,
        "start_time": "2024-03-18T14:05:53.582Z"
      },
      {
        "duration": 6,
        "start_time": "2024-03-18T14:05:55.577Z"
      },
      {
        "duration": 1688,
        "start_time": "2024-03-18T14:10:38.756Z"
      },
      {
        "duration": 96,
        "start_time": "2024-03-18T14:21:30.837Z"
      },
      {
        "duration": 157,
        "start_time": "2024-03-18T14:21:43.067Z"
      },
      {
        "duration": 2120,
        "start_time": "2024-03-18T14:25:42.599Z"
      },
      {
        "duration": 465,
        "start_time": "2024-03-18T14:27:37.624Z"
      },
      {
        "duration": 2202,
        "start_time": "2024-03-18T14:27:44.163Z"
      },
      {
        "duration": 88,
        "start_time": "2024-03-18T14:31:20.259Z"
      },
      {
        "duration": 266,
        "start_time": "2024-03-18T15:21:35.759Z"
      },
      {
        "duration": 300,
        "start_time": "2024-03-18T15:21:41.103Z"
      },
      {
        "duration": 257,
        "start_time": "2024-03-18T15:21:45.036Z"
      },
      {
        "duration": 491,
        "start_time": "2024-03-18T15:21:48.785Z"
      },
      {
        "duration": 16,
        "start_time": "2024-03-18T15:22:11.665Z"
      },
      {
        "duration": 10,
        "start_time": "2024-03-18T15:22:17.283Z"
      },
      {
        "duration": 16,
        "start_time": "2024-03-18T15:23:05.231Z"
      },
      {
        "duration": 21,
        "start_time": "2024-03-18T15:23:07.122Z"
      },
      {
        "duration": 12,
        "start_time": "2024-03-18T15:23:09.793Z"
      },
      {
        "duration": 1105,
        "start_time": "2024-03-18T15:23:12.004Z"
      },
      {
        "duration": 21,
        "start_time": "2024-03-18T15:23:15.457Z"
      },
      {
        "duration": 14,
        "start_time": "2024-03-18T15:23:52.598Z"
      },
      {
        "duration": 4,
        "start_time": "2024-03-18T15:30:55.334Z"
      },
      {
        "duration": 76,
        "start_time": "2024-03-18T15:30:57.100Z"
      },
      {
        "duration": 9,
        "start_time": "2024-03-18T15:30:57.493Z"
      },
      {
        "duration": 11,
        "start_time": "2024-03-18T15:30:57.954Z"
      },
      {
        "duration": 9,
        "start_time": "2024-03-18T15:30:58.784Z"
      },
      {
        "duration": 11,
        "start_time": "2024-03-18T15:30:59.167Z"
      },
      {
        "duration": 8,
        "start_time": "2024-03-18T15:30:59.979Z"
      },
      {
        "duration": 14,
        "start_time": "2024-03-18T15:31:00.351Z"
      },
      {
        "duration": 20,
        "start_time": "2024-03-18T15:31:02.379Z"
      },
      {
        "duration": 29,
        "start_time": "2024-03-18T15:31:04.029Z"
      },
      {
        "duration": 5,
        "start_time": "2024-03-18T15:31:05.172Z"
      },
      {
        "duration": 5,
        "start_time": "2024-03-18T15:31:05.964Z"
      },
      {
        "duration": 6,
        "start_time": "2024-03-18T15:31:06.341Z"
      },
      {
        "duration": 12,
        "start_time": "2024-03-18T15:31:08.228Z"
      },
      {
        "duration": 8,
        "start_time": "2024-03-18T15:31:23.518Z"
      },
      {
        "duration": 9,
        "start_time": "2024-03-18T15:31:24.274Z"
      },
      {
        "duration": 16,
        "start_time": "2024-03-18T15:31:24.649Z"
      },
      {
        "duration": 7,
        "start_time": "2024-03-18T15:31:25.462Z"
      },
      {
        "duration": 16,
        "start_time": "2024-03-18T15:31:26.219Z"
      },
      {
        "duration": 5,
        "start_time": "2024-03-18T15:31:28.974Z"
      },
      {
        "duration": 182,
        "start_time": "2024-03-18T15:31:29.326Z"
      },
      {
        "duration": 6,
        "start_time": "2024-03-18T15:31:30.494Z"
      },
      {
        "duration": 11,
        "start_time": "2024-03-18T15:31:32.420Z"
      },
      {
        "duration": 6,
        "start_time": "2024-03-18T15:31:33.171Z"
      },
      {
        "duration": 12,
        "start_time": "2024-03-18T15:31:33.918Z"
      },
      {
        "duration": 105,
        "start_time": "2024-03-18T15:31:34.677Z"
      },
      {
        "duration": 217,
        "start_time": "2024-03-18T15:31:36.956Z"
      },
      {
        "duration": 10,
        "start_time": "2024-03-18T15:31:37.771Z"
      },
      {
        "duration": 240,
        "start_time": "2024-03-18T15:31:39.576Z"
      },
      {
        "duration": 10,
        "start_time": "2024-03-18T15:31:39.971Z"
      },
      {
        "duration": 258,
        "start_time": "2024-03-18T15:31:43.029Z"
      },
      {
        "duration": 14,
        "start_time": "2024-03-18T15:31:43.443Z"
      },
      {
        "duration": 18,
        "start_time": "2024-03-18T15:31:45.350Z"
      },
      {
        "duration": 8,
        "start_time": "2024-03-18T15:31:45.793Z"
      },
      {
        "duration": 27,
        "start_time": "2024-03-18T15:31:46.528Z"
      },
      {
        "duration": 8,
        "start_time": "2024-03-18T15:31:47.301Z"
      },
      {
        "duration": 33,
        "start_time": "2024-03-18T15:31:54.135Z"
      },
      {
        "duration": 42,
        "start_time": "2024-03-18T15:31:54.507Z"
      },
      {
        "duration": 27,
        "start_time": "2024-03-18T15:31:54.913Z"
      },
      {
        "duration": 27,
        "start_time": "2024-03-18T15:31:57.557Z"
      },
      {
        "duration": 16,
        "start_time": "2024-03-18T15:31:57.970Z"
      },
      {
        "duration": 259,
        "start_time": "2024-03-18T15:31:59.858Z"
      },
      {
        "duration": 12,
        "start_time": "2024-03-18T15:32:01.741Z"
      },
      {
        "duration": 14,
        "start_time": "2024-03-18T15:32:02.117Z"
      },
      {
        "duration": 226,
        "start_time": "2024-03-18T15:32:03.250Z"
      },
      {
        "duration": 231,
        "start_time": "2024-03-18T15:32:04.054Z"
      },
      {
        "duration": 9,
        "start_time": "2024-03-18T15:32:04.467Z"
      },
      {
        "duration": 9,
        "start_time": "2024-03-18T15:32:04.867Z"
      },
      {
        "duration": 21,
        "start_time": "2024-03-18T15:32:07.652Z"
      },
      {
        "duration": 24,
        "start_time": "2024-03-18T15:32:08.030Z"
      },
      {
        "duration": 10,
        "start_time": "2024-03-18T15:32:09.204Z"
      },
      {
        "duration": 6,
        "start_time": "2024-03-18T15:32:09.611Z"
      },
      {
        "duration": 11,
        "start_time": "2024-03-18T15:32:10.011Z"
      },
      {
        "duration": 1121,
        "start_time": "2024-03-18T15:32:10.406Z"
      },
      {
        "duration": 33,
        "start_time": "2024-03-18T15:32:11.531Z"
      },
      {
        "duration": 14,
        "start_time": "2024-03-18T15:32:12.460Z"
      },
      {
        "duration": 9,
        "start_time": "2024-03-18T15:32:15.582Z"
      },
      {
        "duration": 8,
        "start_time": "2024-03-18T15:32:15.973Z"
      },
      {
        "duration": 10,
        "start_time": "2024-03-18T15:32:16.753Z"
      },
      {
        "duration": 11,
        "start_time": "2024-03-18T15:32:22.202Z"
      },
      {
        "duration": 7,
        "start_time": "2024-03-18T15:32:23.401Z"
      },
      {
        "duration": 8,
        "start_time": "2024-03-18T15:32:24.976Z"
      },
      {
        "duration": 10,
        "start_time": "2024-03-18T15:32:25.701Z"
      },
      {
        "duration": 11,
        "start_time": "2024-03-18T15:32:26.504Z"
      },
      {
        "duration": 1988,
        "start_time": "2024-03-18T15:32:31.596Z"
      },
      {
        "duration": 6,
        "start_time": "2024-03-18T15:32:34.303Z"
      },
      {
        "duration": 175,
        "start_time": "2024-03-18T15:32:35.230Z"
      },
      {
        "duration": 2400,
        "start_time": "2024-03-18T15:32:36.412Z"
      },
      {
        "duration": 2100,
        "start_time": "2024-03-18T15:32:39.331Z"
      },
      {
        "duration": 1324,
        "start_time": "2024-03-18T16:01:23.698Z"
      },
      {
        "duration": 71,
        "start_time": "2024-03-18T16:01:25.024Z"
      },
      {
        "duration": 16,
        "start_time": "2024-03-18T16:01:25.097Z"
      },
      {
        "duration": 28,
        "start_time": "2024-03-18T16:01:25.115Z"
      },
      {
        "duration": 13,
        "start_time": "2024-03-18T16:01:25.145Z"
      },
      {
        "duration": 16,
        "start_time": "2024-03-18T16:01:25.160Z"
      },
      {
        "duration": 10,
        "start_time": "2024-03-18T16:01:25.177Z"
      },
      {
        "duration": 11,
        "start_time": "2024-03-18T16:01:25.188Z"
      },
      {
        "duration": 30,
        "start_time": "2024-03-18T16:01:25.201Z"
      },
      {
        "duration": 13,
        "start_time": "2024-03-18T16:01:25.235Z"
      },
      {
        "duration": 4,
        "start_time": "2024-03-18T16:01:25.249Z"
      },
      {
        "duration": 10,
        "start_time": "2024-03-18T16:01:25.255Z"
      },
      {
        "duration": 11,
        "start_time": "2024-03-18T16:01:25.266Z"
      },
      {
        "duration": 6,
        "start_time": "2024-03-18T16:01:25.279Z"
      },
      {
        "duration": 35,
        "start_time": "2024-03-18T16:01:25.286Z"
      },
      {
        "duration": 16,
        "start_time": "2024-03-18T16:01:25.322Z"
      },
      {
        "duration": 14,
        "start_time": "2024-03-18T16:01:25.340Z"
      },
      {
        "duration": 11,
        "start_time": "2024-03-18T16:01:25.356Z"
      },
      {
        "duration": 6,
        "start_time": "2024-03-18T16:01:25.368Z"
      },
      {
        "duration": 357,
        "start_time": "2024-03-18T16:01:25.375Z"
      },
      {
        "duration": 6,
        "start_time": "2024-03-18T16:01:25.733Z"
      },
      {
        "duration": 6,
        "start_time": "2024-03-18T16:01:25.741Z"
      },
      {
        "duration": 8,
        "start_time": "2024-03-18T16:01:25.749Z"
      },
      {
        "duration": 7,
        "start_time": "2024-03-18T16:01:25.759Z"
      },
      {
        "duration": 173,
        "start_time": "2024-03-18T16:01:25.767Z"
      },
      {
        "duration": 394,
        "start_time": "2024-03-18T16:01:25.943Z"
      },
      {
        "duration": 8,
        "start_time": "2024-03-18T16:01:26.339Z"
      },
      {
        "duration": 411,
        "start_time": "2024-03-18T16:01:26.353Z"
      },
      {
        "duration": 10,
        "start_time": "2024-03-18T16:01:26.765Z"
      },
      {
        "duration": 382,
        "start_time": "2024-03-18T16:01:26.777Z"
      },
      {
        "duration": 8,
        "start_time": "2024-03-18T16:01:27.161Z"
      },
      {
        "duration": 21,
        "start_time": "2024-03-18T16:01:27.171Z"
      },
      {
        "duration": 24,
        "start_time": "2024-03-18T16:01:27.193Z"
      },
      {
        "duration": 24,
        "start_time": "2024-03-18T16:01:27.218Z"
      },
      {
        "duration": 33,
        "start_time": "2024-03-18T16:01:27.244Z"
      },
      {
        "duration": 19,
        "start_time": "2024-03-18T16:01:27.278Z"
      },
      {
        "duration": 18,
        "start_time": "2024-03-18T16:01:27.299Z"
      },
      {
        "duration": 14,
        "start_time": "2024-03-18T16:01:27.319Z"
      },
      {
        "duration": 21,
        "start_time": "2024-03-18T16:01:27.335Z"
      },
      {
        "duration": 23,
        "start_time": "2024-03-18T16:01:27.358Z"
      },
      {
        "duration": 398,
        "start_time": "2024-03-18T16:01:27.383Z"
      },
      {
        "duration": 9,
        "start_time": "2024-03-18T16:01:27.784Z"
      },
      {
        "duration": 22,
        "start_time": "2024-03-18T16:01:27.795Z"
      },
      {
        "duration": 362,
        "start_time": "2024-03-18T16:01:27.819Z"
      },
      {
        "duration": 358,
        "start_time": "2024-03-18T16:01:28.183Z"
      },
      {
        "duration": 12,
        "start_time": "2024-03-18T16:01:28.543Z"
      },
      {
        "duration": 11,
        "start_time": "2024-03-18T16:01:28.558Z"
      },
      {
        "duration": 16,
        "start_time": "2024-03-18T16:01:28.571Z"
      },
      {
        "duration": 38,
        "start_time": "2024-03-18T16:01:28.589Z"
      },
      {
        "duration": 12,
        "start_time": "2024-03-18T16:01:28.629Z"
      },
      {
        "duration": 9,
        "start_time": "2024-03-18T16:01:28.643Z"
      },
      {
        "duration": 18,
        "start_time": "2024-03-18T16:01:28.655Z"
      },
      {
        "duration": 1189,
        "start_time": "2024-03-18T16:01:28.675Z"
      },
      {
        "duration": 19,
        "start_time": "2024-03-18T16:01:29.866Z"
      },
      {
        "duration": 37,
        "start_time": "2024-03-18T16:01:29.886Z"
      },
      {
        "duration": 10,
        "start_time": "2024-03-18T16:01:29.926Z"
      },
      {
        "duration": 9,
        "start_time": "2024-03-18T16:01:29.938Z"
      },
      {
        "duration": 21,
        "start_time": "2024-03-18T16:01:29.949Z"
      },
      {
        "duration": 24,
        "start_time": "2024-03-18T16:01:29.971Z"
      },
      {
        "duration": 16,
        "start_time": "2024-03-18T16:01:29.996Z"
      },
      {
        "duration": 55,
        "start_time": "2024-03-18T16:01:30.014Z"
      },
      {
        "duration": 74,
        "start_time": "2024-03-18T16:01:30.071Z"
      },
      {
        "duration": 49,
        "start_time": "2024-03-18T16:01:30.147Z"
      },
      {
        "duration": 1794,
        "start_time": "2024-03-18T16:01:30.198Z"
      },
      {
        "duration": 7,
        "start_time": "2024-03-18T16:01:31.993Z"
      },
      {
        "duration": 181,
        "start_time": "2024-03-18T16:01:32.003Z"
      },
      {
        "duration": 1912,
        "start_time": "2024-03-18T16:01:32.186Z"
      },
      {
        "duration": 2136,
        "start_time": "2024-03-18T16:01:34.100Z"
      },
      {
        "duration": 6,
        "start_time": "2024-03-18T16:04:00.007Z"
      },
      {
        "duration": 148,
        "start_time": "2024-03-18T16:07:34.901Z"
      },
      {
        "duration": 1312,
        "start_time": "2024-03-18T16:07:57.601Z"
      },
      {
        "duration": 77,
        "start_time": "2024-03-18T16:07:58.915Z"
      },
      {
        "duration": 25,
        "start_time": "2024-03-18T16:07:58.995Z"
      },
      {
        "duration": 12,
        "start_time": "2024-03-18T16:07:59.024Z"
      },
      {
        "duration": 13,
        "start_time": "2024-03-18T16:07:59.038Z"
      },
      {
        "duration": 16,
        "start_time": "2024-03-18T16:07:59.053Z"
      },
      {
        "duration": 11,
        "start_time": "2024-03-18T16:07:59.071Z"
      },
      {
        "duration": 39,
        "start_time": "2024-03-18T16:07:59.084Z"
      },
      {
        "duration": 19,
        "start_time": "2024-03-18T16:07:59.125Z"
      },
      {
        "duration": 11,
        "start_time": "2024-03-18T16:07:59.147Z"
      },
      {
        "duration": 5,
        "start_time": "2024-03-18T16:07:59.159Z"
      },
      {
        "duration": 7,
        "start_time": "2024-03-18T16:07:59.166Z"
      },
      {
        "duration": 7,
        "start_time": "2024-03-18T16:07:59.174Z"
      },
      {
        "duration": 13,
        "start_time": "2024-03-18T16:07:59.215Z"
      },
      {
        "duration": 33,
        "start_time": "2024-03-18T16:07:59.230Z"
      },
      {
        "duration": 11,
        "start_time": "2024-03-18T16:07:59.265Z"
      },
      {
        "duration": 25,
        "start_time": "2024-03-18T16:07:59.278Z"
      },
      {
        "duration": 15,
        "start_time": "2024-03-18T16:07:59.305Z"
      },
      {
        "duration": 5,
        "start_time": "2024-03-18T16:07:59.322Z"
      },
      {
        "duration": 292,
        "start_time": "2024-03-18T16:07:59.328Z"
      },
      {
        "duration": 6,
        "start_time": "2024-03-18T16:07:59.621Z"
      },
      {
        "duration": 10,
        "start_time": "2024-03-18T16:07:59.629Z"
      },
      {
        "duration": 13,
        "start_time": "2024-03-18T16:07:59.641Z"
      },
      {
        "duration": 8,
        "start_time": "2024-03-18T16:07:59.655Z"
      },
      {
        "duration": 153,
        "start_time": "2024-03-18T16:07:59.664Z"
      },
      {
        "duration": 418,
        "start_time": "2024-03-18T16:07:59.820Z"
      },
      {
        "duration": 9,
        "start_time": "2024-03-18T16:08:00.240Z"
      },
      {
        "duration": 400,
        "start_time": "2024-03-18T16:08:00.254Z"
      },
      {
        "duration": 9,
        "start_time": "2024-03-18T16:08:00.656Z"
      },
      {
        "duration": 476,
        "start_time": "2024-03-18T16:08:00.667Z"
      },
      {
        "duration": 10,
        "start_time": "2024-03-18T16:08:01.144Z"
      },
      {
        "duration": 76,
        "start_time": "2024-03-18T16:08:01.156Z"
      },
      {
        "duration": 34,
        "start_time": "2024-03-18T16:08:01.234Z"
      },
      {
        "duration": 126,
        "start_time": "2024-03-18T16:08:01.270Z"
      },
      {
        "duration": 55,
        "start_time": "2024-03-18T16:08:01.398Z"
      },
      {
        "duration": 76,
        "start_time": "2024-03-18T16:08:01.454Z"
      },
      {
        "duration": 43,
        "start_time": "2024-03-18T16:08:01.531Z"
      },
      {
        "duration": 34,
        "start_time": "2024-03-18T16:08:01.575Z"
      },
      {
        "duration": 55,
        "start_time": "2024-03-18T16:08:01.610Z"
      },
      {
        "duration": 34,
        "start_time": "2024-03-18T16:08:01.667Z"
      },
      {
        "duration": 377,
        "start_time": "2024-03-18T16:08:01.703Z"
      },
      {
        "duration": 8,
        "start_time": "2024-03-18T16:08:02.082Z"
      },
      {
        "duration": 27,
        "start_time": "2024-03-18T16:08:02.092Z"
      },
      {
        "duration": 328,
        "start_time": "2024-03-18T16:08:02.121Z"
      },
      {
        "duration": 308,
        "start_time": "2024-03-18T16:08:02.451Z"
      },
      {
        "duration": 9,
        "start_time": "2024-03-18T16:08:02.760Z"
      },
      {
        "duration": 23,
        "start_time": "2024-03-18T16:08:02.771Z"
      },
      {
        "duration": 32,
        "start_time": "2024-03-18T16:08:02.796Z"
      },
      {
        "duration": 22,
        "start_time": "2024-03-18T16:08:02.830Z"
      },
      {
        "duration": 11,
        "start_time": "2024-03-18T16:08:02.854Z"
      },
      {
        "duration": 7,
        "start_time": "2024-03-18T16:08:02.866Z"
      },
      {
        "duration": 13,
        "start_time": "2024-03-18T16:08:02.874Z"
      },
      {
        "duration": 1120,
        "start_time": "2024-03-18T16:08:02.888Z"
      },
      {
        "duration": 31,
        "start_time": "2024-03-18T16:08:04.009Z"
      },
      {
        "duration": 14,
        "start_time": "2024-03-18T16:08:04.044Z"
      },
      {
        "duration": 21,
        "start_time": "2024-03-18T16:08:04.059Z"
      },
      {
        "duration": 19,
        "start_time": "2024-03-18T16:08:04.081Z"
      },
      {
        "duration": 16,
        "start_time": "2024-03-18T16:08:04.101Z"
      },
      {
        "duration": 10,
        "start_time": "2024-03-18T16:08:04.119Z"
      },
      {
        "duration": 10,
        "start_time": "2024-03-18T16:08:04.131Z"
      },
      {
        "duration": 7,
        "start_time": "2024-03-18T16:08:04.142Z"
      },
      {
        "duration": 7,
        "start_time": "2024-03-18T16:08:04.150Z"
      },
      {
        "duration": 9,
        "start_time": "2024-03-18T16:08:04.158Z"
      },
      {
        "duration": 1792,
        "start_time": "2024-03-18T16:08:04.168Z"
      },
      {
        "duration": 6,
        "start_time": "2024-03-18T16:08:05.962Z"
      },
      {
        "duration": 169,
        "start_time": "2024-03-18T16:08:05.970Z"
      },
      {
        "duration": 1954,
        "start_time": "2024-03-18T16:08:06.140Z"
      },
      {
        "duration": 222,
        "start_time": "2024-03-18T16:08:08.096Z"
      },
      {
        "duration": 2030,
        "start_time": "2024-03-18T16:08:08.320Z"
      },
      {
        "duration": 14,
        "start_time": "2024-03-18T16:25:27.428Z"
      },
      {
        "duration": 11,
        "start_time": "2024-03-18T16:25:41.121Z"
      },
      {
        "duration": 19,
        "start_time": "2024-03-18T16:25:48.941Z"
      },
      {
        "duration": 7,
        "start_time": "2024-03-18T16:25:53.843Z"
      },
      {
        "duration": 73,
        "start_time": "2024-03-18T16:26:51.235Z"
      },
      {
        "duration": 7,
        "start_time": "2024-03-18T16:32:03.720Z"
      },
      {
        "duration": 79,
        "start_time": "2024-03-18T16:32:05.457Z"
      },
      {
        "duration": 15,
        "start_time": "2024-03-18T16:32:05.916Z"
      },
      {
        "duration": 17,
        "start_time": "2024-03-18T16:32:06.418Z"
      },
      {
        "duration": 9,
        "start_time": "2024-03-18T16:32:07.337Z"
      },
      {
        "duration": 19,
        "start_time": "2024-03-18T16:32:07.813Z"
      },
      {
        "duration": 8,
        "start_time": "2024-03-18T16:32:08.641Z"
      },
      {
        "duration": 11,
        "start_time": "2024-03-18T16:32:09.054Z"
      },
      {
        "duration": 17,
        "start_time": "2024-03-18T16:32:11.137Z"
      },
      {
        "duration": 15,
        "start_time": "2024-03-18T16:32:12.856Z"
      },
      {
        "duration": 6,
        "start_time": "2024-03-18T16:32:14.935Z"
      },
      {
        "duration": 5,
        "start_time": "2024-03-18T16:32:15.751Z"
      },
      {
        "duration": 4,
        "start_time": "2024-03-18T16:32:16.156Z"
      },
      {
        "duration": 7,
        "start_time": "2024-03-18T16:32:18.205Z"
      },
      {
        "duration": 10,
        "start_time": "2024-03-18T16:32:19.065Z"
      },
      {
        "duration": 15,
        "start_time": "2024-03-18T16:32:19.527Z"
      },
      {
        "duration": 11,
        "start_time": "2024-03-18T16:32:20.428Z"
      },
      {
        "duration": 10,
        "start_time": "2024-03-18T16:32:21.253Z"
      },
      {
        "duration": 4,
        "start_time": "2024-03-18T16:32:24.163Z"
      },
      {
        "duration": 163,
        "start_time": "2024-03-18T16:32:24.608Z"
      },
      {
        "duration": 6,
        "start_time": "2024-03-18T16:32:26.395Z"
      },
      {
        "duration": 6,
        "start_time": "2024-03-18T16:32:28.315Z"
      },
      {
        "duration": 7,
        "start_time": "2024-03-18T16:32:29.101Z"
      },
      {
        "duration": 8,
        "start_time": "2024-03-18T16:32:29.895Z"
      },
      {
        "duration": 110,
        "start_time": "2024-03-18T16:32:30.738Z"
      },
      {
        "duration": 192,
        "start_time": "2024-03-18T16:32:33.947Z"
      },
      {
        "duration": 10,
        "start_time": "2024-03-18T16:32:34.854Z"
      },
      {
        "duration": 203,
        "start_time": "2024-03-18T16:32:36.695Z"
      },
      {
        "duration": 9,
        "start_time": "2024-03-18T16:32:37.348Z"
      },
      {
        "duration": 225,
        "start_time": "2024-03-18T16:32:41.042Z"
      },
      {
        "duration": 23,
        "start_time": "2024-03-18T16:32:41.719Z"
      },
      {
        "duration": 17,
        "start_time": "2024-03-18T16:32:44.493Z"
      },
      {
        "duration": 9,
        "start_time": "2024-03-18T16:32:45.040Z"
      },
      {
        "duration": 18,
        "start_time": "2024-03-18T16:32:49.654Z"
      },
      {
        "duration": 12,
        "start_time": "2024-03-18T16:32:57.133Z"
      },
      {
        "duration": 25,
        "start_time": "2024-03-18T16:32:59.425Z"
      },
      {
        "duration": 29,
        "start_time": "2024-03-18T16:32:59.872Z"
      },
      {
        "duration": 16,
        "start_time": "2024-03-18T16:33:00.358Z"
      },
      {
        "duration": 19,
        "start_time": "2024-03-18T16:33:04.063Z"
      },
      {
        "duration": 29,
        "start_time": "2024-03-18T16:33:04.616Z"
      },
      {
        "duration": 413,
        "start_time": "2024-03-18T16:33:07.347Z"
      },
      {
        "duration": 11,
        "start_time": "2024-03-18T16:33:11.219Z"
      },
      {
        "duration": 13,
        "start_time": "2024-03-18T16:33:11.835Z"
      },
      {
        "duration": 296,
        "start_time": "2024-03-18T16:33:13.120Z"
      },
      {
        "duration": 233,
        "start_time": "2024-03-18T16:33:14.019Z"
      },
      {
        "duration": 13,
        "start_time": "2024-03-18T16:33:14.417Z"
      },
      {
        "duration": 16,
        "start_time": "2024-03-18T16:33:14.852Z"
      },
      {
        "duration": 22,
        "start_time": "2024-03-18T16:33:17.762Z"
      },
      {
        "duration": 20,
        "start_time": "2024-03-18T16:33:18.284Z"
      },
      {
        "duration": 13,
        "start_time": "2024-03-18T16:33:19.569Z"
      },
      {
        "duration": 8,
        "start_time": "2024-03-18T16:33:19.996Z"
      },
      {
        "duration": 13,
        "start_time": "2024-03-18T16:33:20.881Z"
      },
      {
        "duration": 1012,
        "start_time": "2024-03-18T16:33:21.396Z"
      },
      {
        "duration": 35,
        "start_time": "2024-03-18T16:33:22.410Z"
      },
      {
        "duration": 21,
        "start_time": "2024-03-18T16:33:24.340Z"
      },
      {
        "duration": 12,
        "start_time": "2024-03-18T16:33:31.830Z"
      },
      {
        "duration": 9,
        "start_time": "2024-03-18T16:33:32.298Z"
      },
      {
        "duration": 10,
        "start_time": "2024-03-18T16:33:34.139Z"
      },
      {
        "duration": 8,
        "start_time": "2024-03-18T16:34:28.592Z"
      },
      {
        "duration": 10,
        "start_time": "2024-03-18T16:34:29.100Z"
      },
      {
        "duration": 14,
        "start_time": "2024-03-18T16:34:59.315Z"
      },
      {
        "duration": 13,
        "start_time": "2024-03-18T16:42:53.447Z"
      },
      {
        "duration": 19,
        "start_time": "2024-03-18T16:43:13.317Z"
      },
      {
        "duration": 22,
        "start_time": "2024-03-18T16:49:32.496Z"
      },
      {
        "duration": 11,
        "start_time": "2024-03-18T16:51:50.250Z"
      },
      {
        "duration": 4,
        "start_time": "2024-03-18T16:52:22.507Z"
      },
      {
        "duration": 77,
        "start_time": "2024-03-18T16:52:24.234Z"
      },
      {
        "duration": 11,
        "start_time": "2024-03-18T16:52:24.571Z"
      },
      {
        "duration": 18,
        "start_time": "2024-03-18T16:52:25.102Z"
      },
      {
        "duration": 9,
        "start_time": "2024-03-18T16:52:25.960Z"
      },
      {
        "duration": 15,
        "start_time": "2024-03-18T16:52:26.345Z"
      },
      {
        "duration": 7,
        "start_time": "2024-03-18T16:52:27.168Z"
      },
      {
        "duration": 15,
        "start_time": "2024-03-18T16:52:27.527Z"
      },
      {
        "duration": 15,
        "start_time": "2024-03-18T16:52:29.600Z"
      },
      {
        "duration": 14,
        "start_time": "2024-03-18T16:52:31.150Z"
      },
      {
        "duration": 7,
        "start_time": "2024-03-18T16:52:33.030Z"
      },
      {
        "duration": 5,
        "start_time": "2024-03-18T16:52:33.766Z"
      },
      {
        "duration": 14,
        "start_time": "2024-03-18T16:52:34.125Z"
      },
      {
        "duration": 6,
        "start_time": "2024-03-18T16:52:35.994Z"
      },
      {
        "duration": 10,
        "start_time": "2024-03-18T16:52:36.755Z"
      },
      {
        "duration": 22,
        "start_time": "2024-03-18T16:52:37.138Z"
      },
      {
        "duration": 7,
        "start_time": "2024-03-18T16:52:37.986Z"
      },
      {
        "duration": 9,
        "start_time": "2024-03-18T16:52:38.767Z"
      },
      {
        "duration": 8,
        "start_time": "2024-03-18T16:52:41.453Z"
      },
      {
        "duration": 186,
        "start_time": "2024-03-18T16:52:41.853Z"
      },
      {
        "duration": 8,
        "start_time": "2024-03-18T16:52:43.376Z"
      },
      {
        "duration": 8,
        "start_time": "2024-03-18T16:52:45.313Z"
      },
      {
        "duration": 7,
        "start_time": "2024-03-18T16:52:46.066Z"
      },
      {
        "duration": 20,
        "start_time": "2024-03-18T16:52:46.832Z"
      },
      {
        "duration": 123,
        "start_time": "2024-03-18T16:52:47.758Z"
      },
      {
        "duration": 241,
        "start_time": "2024-03-18T16:52:50.903Z"
      },
      {
        "duration": 8,
        "start_time": "2024-03-18T16:52:52.006Z"
      },
      {
        "duration": 230,
        "start_time": "2024-03-18T16:52:53.759Z"
      },
      {
        "duration": 15,
        "start_time": "2024-03-18T16:52:54.457Z"
      },
      {
        "duration": 282,
        "start_time": "2024-03-18T16:52:59.015Z"
      },
      {
        "duration": 23,
        "start_time": "2024-03-18T16:52:59.749Z"
      },
      {
        "duration": 21,
        "start_time": "2024-03-18T16:53:06.486Z"
      },
      {
        "duration": 9,
        "start_time": "2024-03-18T16:53:07.912Z"
      },
      {
        "duration": 82,
        "start_time": "2024-03-18T16:54:01.905Z"
      },
      {
        "duration": 42,
        "start_time": "2024-03-18T16:54:30.038Z"
      },
      {
        "duration": 33,
        "start_time": "2024-03-18T16:54:30.598Z"
      },
      {
        "duration": 29,
        "start_time": "2024-03-18T16:54:31.117Z"
      },
      {
        "duration": 19,
        "start_time": "2024-03-18T16:54:34.902Z"
      },
      {
        "duration": 15,
        "start_time": "2024-03-18T16:54:35.373Z"
      },
      {
        "duration": 314,
        "start_time": "2024-03-18T16:54:38.536Z"
      },
      {
        "duration": 13,
        "start_time": "2024-03-18T16:55:16.540Z"
      },
      {
        "duration": 9,
        "start_time": "2024-03-18T16:55:17.068Z"
      },
      {
        "duration": 377,
        "start_time": "2024-03-18T16:55:18.582Z"
      },
      {
        "duration": 240,
        "start_time": "2024-03-18T16:55:19.850Z"
      },
      {
        "duration": 9,
        "start_time": "2024-03-18T16:55:20.263Z"
      },
      {
        "duration": 13,
        "start_time": "2024-03-18T16:55:20.678Z"
      },
      {
        "duration": 21,
        "start_time": "2024-03-18T16:55:23.636Z"
      },
      {
        "duration": 36,
        "start_time": "2024-03-18T16:55:24.223Z"
      },
      {
        "duration": 22,
        "start_time": "2024-03-18T16:55:27.987Z"
      },
      {
        "duration": 3,
        "start_time": "2024-03-18T16:55:30.600Z"
      },
      {
        "duration": 13,
        "start_time": "2024-03-18T16:55:32.516Z"
      },
      {
        "duration": 1103,
        "start_time": "2024-03-18T16:55:34.536Z"
      },
      {
        "duration": 25,
        "start_time": "2024-03-18T16:55:36.318Z"
      },
      {
        "duration": 11,
        "start_time": "2024-03-18T16:56:41.654Z"
      },
      {
        "duration": 998,
        "start_time": "2024-03-18T16:56:45.388Z"
      },
      {
        "duration": 21,
        "start_time": "2024-03-18T16:56:46.388Z"
      },
      {
        "duration": 26,
        "start_time": "2024-03-18T16:56:51.916Z"
      },
      {
        "duration": 10,
        "start_time": "2024-03-18T16:56:55.880Z"
      },
      {
        "duration": 9,
        "start_time": "2024-03-18T16:56:56.298Z"
      },
      {
        "duration": 14,
        "start_time": "2024-03-18T16:56:57.076Z"
      },
      {
        "duration": 13,
        "start_time": "2024-03-18T16:57:04.256Z"
      },
      {
        "duration": 10,
        "start_time": "2024-03-18T16:57:05.708Z"
      },
      {
        "duration": 10,
        "start_time": "2024-03-18T16:57:07.811Z"
      },
      {
        "duration": 16,
        "start_time": "2024-03-18T16:57:08.538Z"
      },
      {
        "duration": 10,
        "start_time": "2024-03-18T16:57:09.281Z"
      },
      {
        "duration": 1905,
        "start_time": "2024-03-18T16:57:14.641Z"
      },
      {
        "duration": 8,
        "start_time": "2024-03-18T16:57:16.554Z"
      },
      {
        "duration": 190,
        "start_time": "2024-03-18T16:57:17.117Z"
      },
      {
        "duration": 2148,
        "start_time": "2024-03-18T16:57:17.850Z"
      },
      {
        "duration": 187,
        "start_time": "2024-03-18T16:57:20.000Z"
      },
      {
        "duration": 1991,
        "start_time": "2024-03-18T16:57:20.972Z"
      },
      {
        "duration": 340,
        "start_time": "2024-03-18T17:00:03.196Z"
      },
      {
        "duration": 251,
        "start_time": "2024-03-18T17:00:53.108Z"
      },
      {
        "duration": 259,
        "start_time": "2024-03-18T17:01:18.836Z"
      },
      {
        "duration": 303,
        "start_time": "2024-03-18T17:01:34.518Z"
      },
      {
        "duration": 308,
        "start_time": "2024-03-18T17:01:55.022Z"
      },
      {
        "duration": 299,
        "start_time": "2024-03-18T17:02:02.746Z"
      },
      {
        "duration": 3,
        "start_time": "2024-03-18T17:03:00.959Z"
      },
      {
        "duration": 72,
        "start_time": "2024-03-18T17:03:02.187Z"
      },
      {
        "duration": 9,
        "start_time": "2024-03-18T17:03:02.487Z"
      },
      {
        "duration": 11,
        "start_time": "2024-03-18T17:03:02.776Z"
      },
      {
        "duration": 17,
        "start_time": "2024-03-18T17:03:03.382Z"
      },
      {
        "duration": 13,
        "start_time": "2024-03-18T17:03:03.664Z"
      },
      {
        "duration": 9,
        "start_time": "2024-03-18T17:03:04.237Z"
      },
      {
        "duration": 11,
        "start_time": "2024-03-18T17:03:04.500Z"
      },
      {
        "duration": 18,
        "start_time": "2024-03-18T17:03:05.829Z"
      },
      {
        "duration": 12,
        "start_time": "2024-03-18T17:03:06.939Z"
      },
      {
        "duration": 5,
        "start_time": "2024-03-18T17:03:08.061Z"
      },
      {
        "duration": 7,
        "start_time": "2024-03-18T17:03:08.653Z"
      },
      {
        "duration": 5,
        "start_time": "2024-03-18T17:03:08.916Z"
      },
      {
        "duration": 8,
        "start_time": "2024-03-18T17:03:10.336Z"
      },
      {
        "duration": 10,
        "start_time": "2024-03-18T17:03:10.838Z"
      },
      {
        "duration": 10,
        "start_time": "2024-03-18T17:03:11.108Z"
      },
      {
        "duration": 13,
        "start_time": "2024-03-18T17:03:11.621Z"
      },
      {
        "duration": 8,
        "start_time": "2024-03-18T17:03:12.179Z"
      },
      {
        "duration": 5,
        "start_time": "2024-03-18T17:03:13.959Z"
      },
      {
        "duration": 152,
        "start_time": "2024-03-18T17:03:14.218Z"
      },
      {
        "duration": 6,
        "start_time": "2024-03-18T17:03:15.351Z"
      },
      {
        "duration": 17,
        "start_time": "2024-03-18T17:03:16.619Z"
      },
      {
        "duration": 7,
        "start_time": "2024-03-18T17:03:17.121Z"
      },
      {
        "duration": 12,
        "start_time": "2024-03-18T17:03:17.619Z"
      },
      {
        "duration": 87,
        "start_time": "2024-03-18T17:03:18.193Z"
      },
      {
        "duration": 195,
        "start_time": "2024-03-18T17:03:20.020Z"
      },
      {
        "duration": 9,
        "start_time": "2024-03-18T17:03:20.606Z"
      },
      {
        "duration": 327,
        "start_time": "2024-03-18T17:03:21.902Z"
      },
      {
        "duration": 12,
        "start_time": "2024-03-18T17:03:22.233Z"
      },
      {
        "duration": 221,
        "start_time": "2024-03-18T17:03:24.638Z"
      },
      {
        "duration": 10,
        "start_time": "2024-03-18T17:03:25.032Z"
      },
      {
        "duration": 18,
        "start_time": "2024-03-18T17:03:26.797Z"
      },
      {
        "duration": 7,
        "start_time": "2024-03-18T17:03:27.140Z"
      },
      {
        "duration": 19,
        "start_time": "2024-03-18T17:03:29.255Z"
      },
      {
        "duration": 21,
        "start_time": "2024-03-18T17:03:29.568Z"
      },
      {
        "duration": 15,
        "start_time": "2024-03-18T17:03:29.900Z"
      },
      {
        "duration": 19,
        "start_time": "2024-03-18T17:03:32.305Z"
      },
      {
        "duration": 15,
        "start_time": "2024-03-18T17:03:32.683Z"
      },
      {
        "duration": 287,
        "start_time": "2024-03-18T17:03:34.297Z"
      },
      {
        "duration": 9,
        "start_time": "2024-03-18T17:03:36.541Z"
      },
      {
        "duration": 10,
        "start_time": "2024-03-18T17:03:36.922Z"
      },
      {
        "duration": 231,
        "start_time": "2024-03-18T17:03:37.945Z"
      },
      {
        "duration": 195,
        "start_time": "2024-03-18T17:03:38.661Z"
      },
      {
        "duration": 8,
        "start_time": "2024-03-18T17:03:39.000Z"
      },
      {
        "duration": 8,
        "start_time": "2024-03-18T17:03:39.362Z"
      },
      {
        "duration": 24,
        "start_time": "2024-03-18T17:03:41.611Z"
      },
      {
        "duration": 15,
        "start_time": "2024-03-18T17:03:41.966Z"
      },
      {
        "duration": 21,
        "start_time": "2024-03-18T17:03:42.967Z"
      },
      {
        "duration": 20,
        "start_time": "2024-03-18T17:03:43.917Z"
      },
      {
        "duration": 1071,
        "start_time": "2024-03-18T17:03:44.243Z"
      },
      {
        "duration": 34,
        "start_time": "2024-03-18T17:03:45.316Z"
      },
      {
        "duration": 14,
        "start_time": "2024-03-18T17:03:46.374Z"
      },
      {
        "duration": 8,
        "start_time": "2024-03-18T17:03:49.417Z"
      },
      {
        "duration": 7,
        "start_time": "2024-03-18T17:03:49.888Z"
      },
      {
        "duration": 15,
        "start_time": "2024-03-18T17:03:50.546Z"
      },
      {
        "duration": 11,
        "start_time": "2024-03-18T17:03:55.593Z"
      },
      {
        "duration": 11,
        "start_time": "2024-03-18T17:03:56.917Z"
      },
      {
        "duration": 8,
        "start_time": "2024-03-18T17:03:58.909Z"
      },
      {
        "duration": 7,
        "start_time": "2024-03-18T17:03:59.585Z"
      },
      {
        "duration": 9,
        "start_time": "2024-03-18T17:04:00.307Z"
      },
      {
        "duration": 1762,
        "start_time": "2024-03-18T17:04:05.387Z"
      },
      {
        "duration": 7,
        "start_time": "2024-03-18T17:04:07.151Z"
      },
      {
        "duration": 165,
        "start_time": "2024-03-18T17:04:07.195Z"
      },
      {
        "duration": 1980,
        "start_time": "2024-03-18T17:04:08.109Z"
      },
      {
        "duration": 154,
        "start_time": "2024-03-18T17:04:10.091Z"
      },
      {
        "duration": 2016,
        "start_time": "2024-03-18T17:04:11.585Z"
      },
      {
        "duration": 4,
        "start_time": "2024-03-18T17:05:08.610Z"
      },
      {
        "duration": 5,
        "start_time": "2024-03-18T17:06:08.433Z"
      },
      {
        "duration": 71,
        "start_time": "2024-03-18T17:06:10.337Z"
      },
      {
        "duration": 18,
        "start_time": "2024-03-18T17:06:10.719Z"
      },
      {
        "duration": 11,
        "start_time": "2024-03-18T17:06:11.110Z"
      },
      {
        "duration": 8,
        "start_time": "2024-03-18T17:06:11.909Z"
      },
      {
        "duration": 13,
        "start_time": "2024-03-18T17:06:12.336Z"
      },
      {
        "duration": 10,
        "start_time": "2024-03-18T17:06:13.102Z"
      },
      {
        "duration": 13,
        "start_time": "2024-03-18T17:06:13.463Z"
      },
      {
        "duration": 15,
        "start_time": "2024-03-18T17:06:15.200Z"
      },
      {
        "duration": 11,
        "start_time": "2024-03-18T17:06:16.665Z"
      },
      {
        "duration": 5,
        "start_time": "2024-03-18T17:06:18.080Z"
      },
      {
        "duration": 5,
        "start_time": "2024-03-18T17:06:18.807Z"
      },
      {
        "duration": 9,
        "start_time": "2024-03-18T17:06:19.153Z"
      },
      {
        "duration": 6,
        "start_time": "2024-03-18T17:06:20.874Z"
      },
      {
        "duration": 9,
        "start_time": "2024-03-18T17:06:21.639Z"
      },
      {
        "duration": 15,
        "start_time": "2024-03-18T17:06:21.973Z"
      },
      {
        "duration": 6,
        "start_time": "2024-03-18T17:06:22.694Z"
      },
      {
        "duration": 9,
        "start_time": "2024-03-18T17:06:23.372Z"
      },
      {
        "duration": 6,
        "start_time": "2024-03-18T17:06:25.801Z"
      },
      {
        "duration": 160,
        "start_time": "2024-03-18T17:06:26.181Z"
      },
      {
        "duration": 7,
        "start_time": "2024-03-18T17:06:27.629Z"
      },
      {
        "duration": 8,
        "start_time": "2024-03-18T17:06:29.338Z"
      },
      {
        "duration": 7,
        "start_time": "2024-03-18T17:06:30.048Z"
      },
      {
        "duration": 9,
        "start_time": "2024-03-18T17:06:30.721Z"
      },
      {
        "duration": 87,
        "start_time": "2024-03-18T17:06:31.394Z"
      },
      {
        "duration": 203,
        "start_time": "2024-03-18T17:06:33.785Z"
      },
      {
        "duration": 12,
        "start_time": "2024-03-18T17:06:34.530Z"
      },
      {
        "duration": 205,
        "start_time": "2024-03-18T17:06:36.072Z"
      },
      {
        "duration": 9,
        "start_time": "2024-03-18T17:06:36.455Z"
      },
      {
        "duration": 236,
        "start_time": "2024-03-18T17:06:39.399Z"
      },
      {
        "duration": 10,
        "start_time": "2024-03-18T17:06:40.089Z"
      },
      {
        "duration": 21,
        "start_time": "2024-03-18T17:06:42.243Z"
      },
      {
        "duration": 9,
        "start_time": "2024-03-18T17:06:42.718Z"
      },
      {
        "duration": 26,
        "start_time": "2024-03-18T17:06:53.082Z"
      },
      {
        "duration": 26,
        "start_time": "2024-03-18T17:06:53.489Z"
      },
      {
        "duration": 27,
        "start_time": "2024-03-18T17:06:53.821Z"
      },
      {
        "duration": 18,
        "start_time": "2024-03-18T17:07:03.194Z"
      },
      {
        "duration": 15,
        "start_time": "2024-03-18T17:07:03.547Z"
      },
      {
        "duration": 306,
        "start_time": "2024-03-18T17:07:05.306Z"
      },
      {
        "duration": 10,
        "start_time": "2024-03-18T17:07:09.121Z"
      },
      {
        "duration": 9,
        "start_time": "2024-03-18T17:07:09.638Z"
      },
      {
        "duration": 218,
        "start_time": "2024-03-18T17:07:10.734Z"
      },
      {
        "duration": 314,
        "start_time": "2024-03-18T17:07:11.435Z"
      },
      {
        "duration": 12,
        "start_time": "2024-03-18T17:07:11.806Z"
      },
      {
        "duration": 8,
        "start_time": "2024-03-18T17:07:12.163Z"
      },
      {
        "duration": 15,
        "start_time": "2024-03-18T17:07:14.698Z"
      },
      {
        "duration": 20,
        "start_time": "2024-03-18T17:07:15.171Z"
      },
      {
        "duration": 23,
        "start_time": "2024-03-18T17:07:16.256Z"
      },
      {
        "duration": 15,
        "start_time": "2024-03-18T17:07:18.013Z"
      },
      {
        "duration": 973,
        "start_time": "2024-03-18T17:07:18.413Z"
      },
      {
        "duration": 44,
        "start_time": "2024-03-18T17:07:19.388Z"
      },
      {
        "duration": 16,
        "start_time": "2024-03-18T17:07:20.975Z"
      },
      {
        "duration": 8,
        "start_time": "2024-03-18T17:07:24.536Z"
      },
      {
        "duration": 9,
        "start_time": "2024-03-18T17:07:25.150Z"
      },
      {
        "duration": 10,
        "start_time": "2024-03-18T17:07:25.904Z"
      },
      {
        "duration": 11,
        "start_time": "2024-03-18T17:07:32.554Z"
      },
      {
        "duration": 9,
        "start_time": "2024-03-18T17:07:34.018Z"
      },
      {
        "duration": 8,
        "start_time": "2024-03-18T17:07:36.974Z"
      },
      {
        "duration": 7,
        "start_time": "2024-03-18T17:07:41.785Z"
      },
      {
        "duration": 9,
        "start_time": "2024-03-18T17:07:42.540Z"
      },
      {
        "duration": 1723,
        "start_time": "2024-03-18T17:07:54.659Z"
      },
      {
        "duration": 6,
        "start_time": "2024-03-18T17:07:56.384Z"
      },
      {
        "duration": 328,
        "start_time": "2024-03-18T17:07:57.689Z"
      },
      {
        "duration": 1978,
        "start_time": "2024-03-18T17:07:58.799Z"
      },
      {
        "duration": 171,
        "start_time": "2024-03-18T17:08:42.813Z"
      },
      {
        "duration": 75,
        "start_time": "2024-03-18T17:09:06.789Z"
      },
      {
        "duration": 161,
        "start_time": "2024-03-18T17:09:10.750Z"
      },
      {
        "duration": 2057,
        "start_time": "2024-03-18T17:09:15.247Z"
      },
      {
        "duration": 1157,
        "start_time": "2024-03-19T01:29:57.459Z"
      },
      {
        "duration": 69,
        "start_time": "2024-03-19T01:29:58.618Z"
      },
      {
        "duration": 12,
        "start_time": "2024-03-19T01:29:58.689Z"
      },
      {
        "duration": 11,
        "start_time": "2024-03-19T01:29:58.703Z"
      },
      {
        "duration": 11,
        "start_time": "2024-03-19T01:29:58.715Z"
      },
      {
        "duration": 12,
        "start_time": "2024-03-19T01:29:58.728Z"
      },
      {
        "duration": 6,
        "start_time": "2024-03-19T01:29:58.742Z"
      },
      {
        "duration": 28,
        "start_time": "2024-03-19T01:29:58.749Z"
      },
      {
        "duration": 20,
        "start_time": "2024-03-19T01:29:58.778Z"
      },
      {
        "duration": 12,
        "start_time": "2024-03-19T01:29:58.801Z"
      },
      {
        "duration": 7,
        "start_time": "2024-03-19T01:29:58.814Z"
      },
      {
        "duration": 23,
        "start_time": "2024-03-19T01:29:58.823Z"
      },
      {
        "duration": 8,
        "start_time": "2024-03-19T01:29:58.848Z"
      },
      {
        "duration": 13,
        "start_time": "2024-03-19T01:29:58.857Z"
      },
      {
        "duration": 16,
        "start_time": "2024-03-19T01:29:58.873Z"
      },
      {
        "duration": 10,
        "start_time": "2024-03-19T01:29:58.891Z"
      },
      {
        "duration": 6,
        "start_time": "2024-03-19T01:29:58.903Z"
      },
      {
        "duration": 13,
        "start_time": "2024-03-19T01:29:58.910Z"
      },
      {
        "duration": 4,
        "start_time": "2024-03-19T01:29:58.925Z"
      },
      {
        "duration": 173,
        "start_time": "2024-03-19T01:29:58.931Z"
      },
      {
        "duration": 5,
        "start_time": "2024-03-19T01:29:59.106Z"
      },
      {
        "duration": 20,
        "start_time": "2024-03-19T01:29:59.112Z"
      },
      {
        "duration": 25,
        "start_time": "2024-03-19T01:29:59.134Z"
      },
      {
        "duration": 6,
        "start_time": "2024-03-19T01:29:59.160Z"
      },
      {
        "duration": 88,
        "start_time": "2024-03-19T01:29:59.168Z"
      },
      {
        "duration": 167,
        "start_time": "2024-03-19T01:29:59.257Z"
      },
      {
        "duration": 7,
        "start_time": "2024-03-19T01:29:59.426Z"
      },
      {
        "duration": 198,
        "start_time": "2024-03-19T01:29:59.436Z"
      },
      {
        "duration": 8,
        "start_time": "2024-03-19T01:29:59.636Z"
      },
      {
        "duration": 211,
        "start_time": "2024-03-19T01:29:59.645Z"
      },
      {
        "duration": 16,
        "start_time": "2024-03-19T01:29:59.857Z"
      },
      {
        "duration": 14,
        "start_time": "2024-03-19T01:29:59.875Z"
      },
      {
        "duration": 11,
        "start_time": "2024-03-19T01:29:59.890Z"
      },
      {
        "duration": 17,
        "start_time": "2024-03-19T01:29:59.903Z"
      },
      {
        "duration": 17,
        "start_time": "2024-03-19T01:29:59.922Z"
      },
      {
        "duration": 39,
        "start_time": "2024-03-19T01:29:59.941Z"
      },
      {
        "duration": 17,
        "start_time": "2024-03-19T01:29:59.982Z"
      },
      {
        "duration": 52,
        "start_time": "2024-03-19T01:30:00.000Z"
      },
      {
        "duration": 299,
        "start_time": "2024-03-19T01:30:00.054Z"
      },
      {
        "duration": 20,
        "start_time": "2024-03-19T01:30:00.355Z"
      },
      {
        "duration": 58,
        "start_time": "2024-03-19T01:30:00.376Z"
      },
      {
        "duration": 231,
        "start_time": "2024-03-19T01:30:00.435Z"
      },
      {
        "duration": 248,
        "start_time": "2024-03-19T01:30:00.667Z"
      },
      {
        "duration": 8,
        "start_time": "2024-03-19T01:30:00.917Z"
      },
      {
        "duration": 83,
        "start_time": "2024-03-19T01:30:00.926Z"
      },
      {
        "duration": 77,
        "start_time": "2024-03-19T01:30:01.011Z"
      },
      {
        "duration": 57,
        "start_time": "2024-03-19T01:30:01.089Z"
      },
      {
        "duration": 74,
        "start_time": "2024-03-19T01:30:01.148Z"
      },
      {
        "duration": 59,
        "start_time": "2024-03-19T01:30:01.223Z"
      },
      {
        "duration": 931,
        "start_time": "2024-03-19T01:30:01.284Z"
      },
      {
        "duration": 18,
        "start_time": "2024-03-19T01:30:02.216Z"
      },
      {
        "duration": 31,
        "start_time": "2024-03-19T01:30:02.235Z"
      },
      {
        "duration": 37,
        "start_time": "2024-03-19T01:30:02.267Z"
      },
      {
        "duration": 20,
        "start_time": "2024-03-19T01:30:02.306Z"
      },
      {
        "duration": 9,
        "start_time": "2024-03-19T01:30:02.328Z"
      },
      {
        "duration": 16,
        "start_time": "2024-03-19T01:30:02.338Z"
      },
      {
        "duration": 14,
        "start_time": "2024-03-19T01:30:02.355Z"
      },
      {
        "duration": 26,
        "start_time": "2024-03-19T01:30:02.371Z"
      },
      {
        "duration": 12,
        "start_time": "2024-03-19T01:30:02.398Z"
      },
      {
        "duration": 20,
        "start_time": "2024-03-19T01:30:02.411Z"
      },
      {
        "duration": 1576,
        "start_time": "2024-03-19T01:30:02.432Z"
      },
      {
        "duration": 6,
        "start_time": "2024-03-19T01:30:04.010Z"
      },
      {
        "duration": 175,
        "start_time": "2024-03-19T01:30:04.017Z"
      },
      {
        "duration": 1748,
        "start_time": "2024-03-19T01:30:04.194Z"
      },
      {
        "duration": 149,
        "start_time": "2024-03-19T01:30:05.943Z"
      },
      {
        "duration": 1643,
        "start_time": "2024-03-19T01:30:06.094Z"
      },
      {
        "duration": 262,
        "start_time": "2024-03-19T01:31:12.249Z"
      },
      {
        "duration": 319,
        "start_time": "2024-03-19T01:31:18.235Z"
      }
    ],
    "kernelspec": {
      "display_name": "Python 3 (ipykernel)",
      "language": "python",
      "name": "python3"
    },
    "language_info": {
      "codemirror_mode": {
        "name": "ipython",
        "version": 3
      },
      "file_extension": ".py",
      "mimetype": "text/x-python",
      "name": "python",
      "nbconvert_exporter": "python",
      "pygments_lexer": "ipython3",
      "version": "3.9.5"
    },
    "toc": {
      "base_numbering": 1,
      "nav_menu": {},
      "number_sections": true,
      "sideBar": true,
      "skip_h1_title": true,
      "title_cell": "Table of Contents",
      "title_sidebar": "Contents",
      "toc_cell": false,
      "toc_position": {},
      "toc_section_display": true,
      "toc_window_display": false
    },
    "colab": {
      "provenance": []
    }
  },
  "nbformat": 4,
  "nbformat_minor": 5
}