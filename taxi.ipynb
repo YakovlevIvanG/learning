{
  "cells": [
    {
      "cell_type": "markdown",
      "metadata": {
        "toc": true,
        "id": "GQqAZ3BejuZK"
      },
      "source": [
        "<h1>Содержание<span class=\"tocSkip\"></span></h1>\n",
        "<div class=\"toc\"><ul class=\"toc-item\"><li><span><a href=\"#Введение\" data-toc-modified-id=\"Введение-1\"><span class=\"toc-item-num\">1&nbsp;&nbsp;</span>Введение</a></span></li><li><span><a href=\"#Загрузка-данных\" data-toc-modified-id=\"Загрузка-данных-2\"><span class=\"toc-item-num\">2&nbsp;&nbsp;</span>Загрузка данных</a></span><ul class=\"toc-item\"><li><span><a href=\"#Загрузка-библиотек\" data-toc-modified-id=\"Загрузка-библиотек-2.1\"><span class=\"toc-item-num\">2.1&nbsp;&nbsp;</span>Загрузка библиотек</a></span></li><li><span><a href=\"#Формирование-функций\" data-toc-modified-id=\"Формирование-функций-2.2\"><span class=\"toc-item-num\">2.2&nbsp;&nbsp;</span>Формирование функций</a></span></li><li><span><a href=\"#Загрузка-таблицы\" data-toc-modified-id=\"Загрузка-таблицы-2.3\"><span class=\"toc-item-num\">2.3&nbsp;&nbsp;</span>Загрузка таблицы</a></span></li></ul></li><li><span><a href=\"#Подготовка-и-анализ-данных\" data-toc-modified-id=\"Подготовка-и-анализ-данных-3\"><span class=\"toc-item-num\">3&nbsp;&nbsp;</span>Подготовка и анализ данных</a></span></li><li><span><a href=\"#Обучение-и-тестирование\" data-toc-modified-id=\"Обучение-и-тестирование-4\"><span class=\"toc-item-num\">4&nbsp;&nbsp;</span>Обучение и тестирование</a></span></li><li><span><a href=\"#Анализ-работы-модели\" data-toc-modified-id=\"Анализ-работы-модели-5\"><span class=\"toc-item-num\">5&nbsp;&nbsp;</span>Анализ работы модели</a></span></li><li><span><a href=\"#Вывод\" data-toc-modified-id=\"Вывод-6\"><span class=\"toc-item-num\">6&nbsp;&nbsp;</span>Вывод</a></span></li><li><span><a href=\"#Чек-лист-проверки\" data-toc-modified-id=\"Чек-лист-проверки-7\"><span class=\"toc-item-num\">7&nbsp;&nbsp;</span>Чек-лист проверки</a></span></li></ul></div>"
      ]
    },
    {
      "cell_type": "markdown",
      "metadata": {
        "id": "mmeIPGCyjuZK"
      },
      "source": [
        "#  Прогнозирование заказов такси"
      ]
    },
    {
      "cell_type": "markdown",
      "metadata": {
        "id": "hw27JPytjuZL"
      },
      "source": [
        "Компания «Чётенькое такси» собрала исторические данные о заказах такси в аэропортах. Чтобы привлекать больше водителей в период пиковой нагрузки, нужно спрогнозировать количество заказов такси на следующий час. Постройте модель для такого предсказания.\n",
        "\n",
        "Значение метрики *RMSE* на тестовой выборке должно быть не больше 48.\n",
        "\n",
        "Вам нужно:\n",
        "\n",
        "1. Загрузить данные и выполнить их ресемплирование по одному часу.\n",
        "2. Проанализировать данные.\n",
        "3. Обучить разные модели с различными гиперпараметрами. Сделать тестовую выборку размером 10% от исходных данных.\n",
        "4. Проверить данные на тестовой выборке и сделать выводы.\n",
        "\n",
        "\n",
        "Данные лежат в файле `taxi.csv`. Количество заказов находится в столбце `num_orders` (от англ. *number of orders*, «число заказов»)."
      ]
    },
    {
      "cell_type": "markdown",
      "metadata": {
        "id": "P3gNz_5CjuZL"
      },
      "source": [
        "## Введение\n",
        "\n",
        "**Цель работы:**\n",
        "Разработать модель, способную предсказать количество заказов такси на следующий час.\n",
        "\n",
        "**Задачи, решаемые в работе:**\n",
        "1. Проанализировать предоставленные данные.\n",
        "2. Подготовить данные для обучения.\n",
        "3. Сформировать и обучить несколько моделей.\n",
        "4. Сделать выводы о проведеннй работе.\n",
        "\n",
        "**План работы:**\n",
        "1. Загрузить данные.\n",
        "2. Ресемплировать их по 1 часу.\n",
        "3. Проанализировать данные.\n",
        "4. Сформировать пайплайн для обучения моделей.\n",
        "5. Обучить несколько моделей.\n",
        "6. Выбрать лучшую из них.\n",
        "7. Проанализировать работу лучшей из них на тестовой выборке.\n",
        "8. Сформировать выводы.\n",
        "\n",
        "**Описание работы**\n",
        "Компания «Чётенькое такси» предоставила исторические данные о заказах такси в аэропортах. Задача компании - привлекать больше водителей на время высокого спроса. Для этих целей нужно моделей, которая предскажет часы с высоким спросом.\n",
        "Предоставленные данные: таблица taxi.\n",
        "Столбцы таблицы:\n",
        "- datetime - содержит информацию о времени и дате.\n",
        "- num_orders - содержит информацию о количестве заказов с интевалом в 10 минут.\n"
      ]
    },
    {
      "cell_type": "markdown",
      "metadata": {
        "id": "GMdbKtUNjuZL"
      },
      "source": [
        "## Загрузка данных"
      ]
    },
    {
      "cell_type": "markdown",
      "metadata": {
        "id": "P7AsmOUFjuZM"
      },
      "source": [
        "### Загрузка библиотек"
      ]
    },
    {
      "cell_type": "markdown",
      "metadata": {
        "id": "myyQ56tDjuZM"
      },
      "source": [
        "Для работы загрузим необходимые модули и библиотеки."
      ]
    },
    {
      "cell_type": "code",
      "execution_count": null,
      "metadata": {
        "id": "MhKL8ntbjuZM",
        "outputId": "afd46cd4-da93-4ee9-f39f-15e98b2f95fb"
      },
      "outputs": [
        {
          "name": "stdout",
          "output_type": "stream",
          "text": [
            "Collecting scikit-learn==1.5.2\n",
            "  Downloading scikit_learn-1.5.2-cp39-cp39-manylinux_2_17_x86_64.manylinux2014_x86_64.whl (13.4 MB)\n",
            "\u001b[K     |████████████████████████████████| 13.4 MB 1.1 MB/s eta 0:00:01\n",
            "\u001b[?25hRequirement already satisfied: numpy>=1.19.5 in /opt/conda/lib/python3.9/site-packages (from scikit-learn==1.5.2) (1.21.1)\n",
            "Collecting joblib>=1.2.0\n",
            "  Downloading joblib-1.4.2-py3-none-any.whl (301 kB)\n",
            "\u001b[K     |████████████████████████████████| 301 kB 94.2 MB/s eta 0:00:01\n",
            "\u001b[?25hRequirement already satisfied: scipy>=1.6.0 in /opt/conda/lib/python3.9/site-packages (from scikit-learn==1.5.2) (1.9.1)\n",
            "Requirement already satisfied: threadpoolctl>=3.1.0 in /opt/conda/lib/python3.9/site-packages (from scikit-learn==1.5.2) (3.1.0)\n",
            "Installing collected packages: joblib, scikit-learn\n",
            "  Attempting uninstall: joblib\n",
            "    Found existing installation: joblib 1.1.0\n",
            "    Uninstalling joblib-1.1.0:\n",
            "      Successfully uninstalled joblib-1.1.0\n",
            "  Attempting uninstall: scikit-learn\n",
            "    Found existing installation: scikit-learn 0.24.1\n",
            "    Uninstalling scikit-learn-0.24.1:\n",
            "      Successfully uninstalled scikit-learn-0.24.1\n",
            "Successfully installed joblib-1.4.2 scikit-learn-1.5.2\n",
            "Requirement already satisfied: lightgbm in /opt/conda/lib/python3.9/site-packages (3.3.1)\n",
            "Requirement already satisfied: wheel in /opt/conda/lib/python3.9/site-packages (from lightgbm) (0.36.2)\n",
            "Requirement already satisfied: scikit-learn!=0.22.0 in /opt/conda/lib/python3.9/site-packages (from lightgbm) (1.5.2)\n",
            "Requirement already satisfied: numpy in /opt/conda/lib/python3.9/site-packages (from lightgbm) (1.21.1)\n",
            "Requirement already satisfied: scipy in /opt/conda/lib/python3.9/site-packages (from lightgbm) (1.9.1)\n",
            "Requirement already satisfied: joblib>=1.2.0 in /opt/conda/lib/python3.9/site-packages (from scikit-learn!=0.22.0->lightgbm) (1.4.2)\n",
            "Requirement already satisfied: threadpoolctl>=3.1.0 in /opt/conda/lib/python3.9/site-packages (from scikit-learn!=0.22.0->lightgbm) (3.1.0)\n"
          ]
        }
      ],
      "source": [
        "!pip install scikit-learn==1.5.2\n",
        "!pip install lightgbm"
      ]
    },
    {
      "cell_type": "code",
      "execution_count": null,
      "metadata": {
        "id": "Bvnl0BUYjuZN"
      },
      "outputs": [],
      "source": [
        "# Библиотеки для подготовки данных\n",
        "import pandas as pd\n",
        "import numpy as np\n",
        "from statsmodels.tsa.seasonal import seasonal_decompose\n",
        "\n",
        "# Библиотеки для работы с моделями\n",
        "from catboost import CatBoostRegressor\n",
        "from lightgbm import LGBMRegressor\n",
        "from sklearn.compose import ColumnTransformer\n",
        "from sklearn.impute import SimpleImputer\n",
        "from sklearn.model_selection import train_test_split, GridSearchCV, TimeSeriesSplit\n",
        "from sklearn.linear_model import LinearRegression\n",
        "from sklearn.pipeline import Pipeline\n",
        "from sklearn.preprocessing import (\n",
        "    OneHotEncoder,\n",
        "    StandardScaler,\n",
        "    MinMaxScaler\n",
        ")\n",
        "\n",
        "\n",
        "# Библиотеки для контроля качества.\n",
        "from sklearn.metrics import mean_squared_error, root_mean_squared_error\n",
        "\n",
        "# Библиотеки для построения графиков\n",
        "import matplotlib.pyplot as plt"
      ]
    },
    {
      "cell_type": "markdown",
      "metadata": {
        "id": "zdWXGisRjuZN"
      },
      "source": [
        "\n",
        "<div class=\"alert alert-block alert-success\">\n",
        "<b>Успех:</b> Импорты  на месте\n",
        "</div>\n",
        "\n"
      ]
    },
    {
      "cell_type": "markdown",
      "metadata": {
        "id": "yXfeauSfjuZN"
      },
      "source": [
        "### Формирование функций"
      ]
    },
    {
      "cell_type": "markdown",
      "metadata": {
        "id": "tTORNWKgjuZN"
      },
      "source": [
        "Для работы потребуется функция подготовки признаков:"
      ]
    },
    {
      "cell_type": "code",
      "execution_count": null,
      "metadata": {
        "id": "bnB2FpUBjuZO"
      },
      "outputs": [],
      "source": [
        "# Функция создает новые столбцы из переданного датафрейма.\n",
        "def make_features(data, max_lag, rolling_mean_size):\n",
        "    data['hour'] = data.index.hour\n",
        "    data['day'] = data.index.day\n",
        "    data['dayofweek'] = data.index.dayofweek\n",
        "\n",
        "    for lag in range(1, max_lag + 1):\n",
        "        data['lag_{}'.format(lag)] = data['num_orders'].shift(lag)\n",
        "\n",
        "    data['rolling_mean'] = data['num_orders'].shift().rolling(rolling_mean_size).mean()\n",
        "    return data"
      ]
    },
    {
      "cell_type": "markdown",
      "metadata": {
        "id": "wxFVWIg4juZP"
      },
      "source": [
        "### Загрузка таблицы"
      ]
    },
    {
      "cell_type": "markdown",
      "metadata": {
        "id": "AQvFFp_tjuZP"
      },
      "source": [
        "Загрузим таблицу и ознакомимся с данными."
      ]
    },
    {
      "cell_type": "code",
      "execution_count": null,
      "metadata": {
        "id": "GBA2jOaJjuZP"
      },
      "outputs": [],
      "source": [
        "df_taxi = pd.read_csv('/datasets/taxi.csv', index_col=['datetime'], parse_dates = ['datetime'])\n",
        "df_taxi.sort_index(inplace=True)"
      ]
    },
    {
      "cell_type": "code",
      "execution_count": null,
      "metadata": {
        "id": "enaZtoACjuZP",
        "outputId": "6fc83b0b-0b27-403d-b71a-77019f153aa3"
      },
      "outputs": [
        {
          "name": "stdout",
          "output_type": "stream",
          "text": [
            "<class 'pandas.core.frame.DataFrame'>\n",
            "DatetimeIndex: 26496 entries, 2018-03-01 00:00:00 to 2018-08-31 23:50:00\n",
            "Data columns (total 1 columns):\n",
            " #   Column      Non-Null Count  Dtype\n",
            "---  ------      --------------  -----\n",
            " 0   num_orders  26496 non-null  int64\n",
            "dtypes: int64(1)\n",
            "memory usage: 414.0 KB\n"
          ]
        }
      ],
      "source": [
        "df_taxi.info()"
      ]
    },
    {
      "cell_type": "code",
      "execution_count": null,
      "metadata": {
        "id": "uBC8tL2tjuZQ",
        "outputId": "7048b1a2-ee8f-4c3d-ce5c-f775616ee73a"
      },
      "outputs": [
        {
          "data": {
            "text/html": [
              "<div>\n",
              "<style scoped>\n",
              "    .dataframe tbody tr th:only-of-type {\n",
              "        vertical-align: middle;\n",
              "    }\n",
              "\n",
              "    .dataframe tbody tr th {\n",
              "        vertical-align: top;\n",
              "    }\n",
              "\n",
              "    .dataframe thead th {\n",
              "        text-align: right;\n",
              "    }\n",
              "</style>\n",
              "<table border=\"1\" class=\"dataframe\">\n",
              "  <thead>\n",
              "    <tr style=\"text-align: right;\">\n",
              "      <th></th>\n",
              "      <th>num_orders</th>\n",
              "    </tr>\n",
              "    <tr>\n",
              "      <th>datetime</th>\n",
              "      <th></th>\n",
              "    </tr>\n",
              "  </thead>\n",
              "  <tbody>\n",
              "    <tr>\n",
              "      <th>2018-03-01 00:00:00</th>\n",
              "      <td>9</td>\n",
              "    </tr>\n",
              "    <tr>\n",
              "      <th>2018-03-01 00:10:00</th>\n",
              "      <td>14</td>\n",
              "    </tr>\n",
              "    <tr>\n",
              "      <th>2018-03-01 00:20:00</th>\n",
              "      <td>28</td>\n",
              "    </tr>\n",
              "    <tr>\n",
              "      <th>2018-03-01 00:30:00</th>\n",
              "      <td>20</td>\n",
              "    </tr>\n",
              "    <tr>\n",
              "      <th>2018-03-01 00:40:00</th>\n",
              "      <td>32</td>\n",
              "    </tr>\n",
              "  </tbody>\n",
              "</table>\n",
              "</div>"
            ],
            "text/plain": [
              "                     num_orders\n",
              "datetime                       \n",
              "2018-03-01 00:00:00           9\n",
              "2018-03-01 00:10:00          14\n",
              "2018-03-01 00:20:00          28\n",
              "2018-03-01 00:30:00          20\n",
              "2018-03-01 00:40:00          32"
            ]
          },
          "execution_count": 6,
          "metadata": {},
          "output_type": "execute_result"
        }
      ],
      "source": [
        "df_taxi.head()"
      ]
    },
    {
      "cell_type": "markdown",
      "metadata": {
        "id": "jSqe2eLEjuZQ"
      },
      "source": [
        "Данные загружены, пропусков нет, типы данных определился верно."
      ]
    },
    {
      "cell_type": "markdown",
      "metadata": {
        "id": "Fv-3SaF7juZQ"
      },
      "source": [
        "## Подготовка и анализ данных"
      ]
    },
    {
      "cell_type": "markdown",
      "metadata": {
        "id": "pz2G_BbnjuZQ"
      },
      "source": [
        "Ресемплируем данные по одному часу:"
      ]
    },
    {
      "cell_type": "code",
      "execution_count": null,
      "metadata": {
        "id": "NtZJz-mpjuZQ"
      },
      "outputs": [],
      "source": [
        "df_taxi = df_taxi.resample('1H').sum()"
      ]
    },
    {
      "cell_type": "markdown",
      "metadata": {
        "id": "W3_a1h1SjuZR"
      },
      "source": [
        "<div class=\"alert alert-block alert-success\">\n",
        "<b>Успех:</b> Первичный осмотр проведен, ресемпилнг был сделан верно.\n",
        "</div>\n"
      ]
    },
    {
      "cell_type": "markdown",
      "metadata": {
        "id": "eyCZrUVsjuZR"
      },
      "source": [
        "Подготовим данные для анализа:"
      ]
    },
    {
      "cell_type": "code",
      "execution_count": null,
      "metadata": {
        "id": "WeeOt0K8juZR"
      },
      "outputs": [],
      "source": [
        "decomposed = seasonal_decompose(df_taxi['num_orders'])"
      ]
    },
    {
      "cell_type": "markdown",
      "metadata": {
        "id": "ESdqE93EjuZR"
      },
      "source": [
        "Проанализируем полученные данные."
      ]
    },
    {
      "cell_type": "code",
      "execution_count": null,
      "metadata": {
        "id": "wN5PBeFhjuZR",
        "outputId": "61f5a3c0-f036-456f-9550-c840e09e2fb2"
      },
      "outputs": [
        {
          "data": {
            "image/png": "[encoded data removed]",
            "text/plain": [
              "<Figure size 720x720 with 3 Axes>"
            ]
          },
          "metadata": {
            "needs_background": "light"
          },
          "output_type": "display_data"
        }
      ],
      "source": [
        "plt.figure(figsize=(10, 10))\n",
        "plt.subplot(311)\n",
        "decomposed.trend.plot(ax=plt.gca())\n",
        "plt.title('Тренд')\n",
        "plt.xlabel('Дата')\n",
        "plt.ylabel('Количество заказов')\n",
        "plt.subplot(312)\n",
        "decomposed.seasonal['2018-03-01':'2018-03-05'].plot(ax=plt.gca())\n",
        "plt.title('Сезонность')\n",
        "plt.xlabel('Дата')\n",
        "plt.ylabel('Количество заказов')\n",
        "plt.subplot(313)\n",
        "decomposed.resid.plot(ax=plt.gca())\n",
        "plt.title('Остатки')\n",
        "plt.xlabel('Дата')\n",
        "plt.ylabel('Количество заказов')\n",
        "plt.tight_layout()"
      ]
    },
    {
      "cell_type": "markdown",
      "metadata": {
        "id": "0o2MGUUJjuZS"
      },
      "source": [
        "Из данных видно следующее:\n",
        "1. К осени количество заказов увеличивается.\n",
        "2. Осенью тренд немного ускоряется.\n",
        "3. В августе наблюдается небольшое снижение числа заказов.\n",
        "4. Наибольшее количество заказов приходиться на смену суток в районее 0:00 часов, за которым следует резкий спад.\n",
        "5. Наименьшее количество заказов в районе 5 утра.\n",
        "6. В течение дня фиксируются два пика увеличения заказов. Скорее всего это связано с часами пик, когда люди едут на работу и с работы.\n",
        "7. Остатков больше к концу года, следовательно, осенью и зимой больше аномальный, выпадающих значений."
      ]
    },
    {
      "cell_type": "markdown",
      "metadata": {
        "id": "iEKw4odrjuZX"
      },
      "source": [
        "Отдельно посмотрим сезонность по неделям. Для этого ресемплируем данные по дням и построим график."
      ]
    },
    {
      "cell_type": "code",
      "execution_count": null,
      "metadata": {
        "id": "j7fBtpzdjuZY"
      },
      "outputs": [],
      "source": [
        "df_taxi_day = df_taxi.resample('1D').sum()"
      ]
    },
    {
      "cell_type": "code",
      "execution_count": null,
      "metadata": {
        "id": "1eAuoUbSjuZY"
      },
      "outputs": [],
      "source": [
        "decomposed_day = seasonal_decompose(df_taxi_day['num_orders'])"
      ]
    },
    {
      "cell_type": "code",
      "execution_count": null,
      "metadata": {
        "id": "TsUFB1emjuZY",
        "outputId": "67c4b89a-9fcb-48e1-91c4-4ab9fb02aa75"
      },
      "outputs": [
        {
          "data": {
            "image/png": "[encoded data removed]",
            "text/plain": [
              "<Figure size 720x144 with 1 Axes>"
            ]
          },
          "metadata": {
            "needs_background": "light"
          },
          "output_type": "display_data"
        }
      ],
      "source": [
        "plt.figure(figsize=(10, 2))\n",
        "decomposed_day.seasonal['2018-03-01':'2018-05-01'].plot(ax=plt.gca())\n",
        "plt.title('Сезонность')\n",
        "plt.xlabel('Дата')\n",
        "plt.ylabel('Количество заказов')\n",
        "plt.show()"
      ]
    },
    {
      "cell_type": "markdown",
      "metadata": {
        "id": "TJ2KzTpXjuZY"
      },
      "source": [
        "Как видно из графика, в течение недели количество заказов не постоянное. Так, на понедельники (к примеру, 05.03.2018) приходится максимальное количество заказов. Во вторник количество заказов резко снижается и плавно восстанавливается к пятнице, где ещё один пик. Потом количество заказов снова снижается в субботу и растет всё воскресенье с пиком в понедельник.   "
      ]
    },
    {
      "cell_type": "markdown",
      "metadata": {
        "id": "xwKAX1S0juZZ"
      },
      "source": [
        "Для обучения модели нужно добавить новые признаки, так как скользящее среднее, месяц, день, день недели и смещение. Для этого воспользуемся функцией."
      ]
    },
    {
      "cell_type": "code",
      "execution_count": null,
      "metadata": {
        "id": "jizJmzF7juZZ"
      },
      "outputs": [],
      "source": [
        "df_taxi_feat = make_features(df_taxi, 6, 1)"
      ]
    },
    {
      "cell_type": "code",
      "execution_count": null,
      "metadata": {
        "id": "gb7xpDoujuZZ",
        "outputId": "7d2987c3-e6c0-4338-e2b3-57e7e2ad2788"
      },
      "outputs": [
        {
          "data": {
            "text/html": [
              "<div>\n",
              "<style scoped>\n",
              "    .dataframe tbody tr th:only-of-type {\n",
              "        vertical-align: middle;\n",
              "    }\n",
              "\n",
              "    .dataframe tbody tr th {\n",
              "        vertical-align: top;\n",
              "    }\n",
              "\n",
              "    .dataframe thead th {\n",
              "        text-align: right;\n",
              "    }\n",
              "</style>\n",
              "<table border=\"1\" class=\"dataframe\">\n",
              "  <thead>\n",
              "    <tr style=\"text-align: right;\">\n",
              "      <th></th>\n",
              "      <th>num_orders</th>\n",
              "      <th>hour</th>\n",
              "      <th>day</th>\n",
              "      <th>dayofweek</th>\n",
              "      <th>lag_1</th>\n",
              "      <th>lag_2</th>\n",
              "      <th>lag_3</th>\n",
              "      <th>lag_4</th>\n",
              "      <th>lag_5</th>\n",
              "      <th>lag_6</th>\n",
              "      <th>rolling_mean</th>\n",
              "    </tr>\n",
              "    <tr>\n",
              "      <th>datetime</th>\n",
              "      <th></th>\n",
              "      <th></th>\n",
              "      <th></th>\n",
              "      <th></th>\n",
              "      <th></th>\n",
              "      <th></th>\n",
              "      <th></th>\n",
              "      <th></th>\n",
              "      <th></th>\n",
              "      <th></th>\n",
              "      <th></th>\n",
              "    </tr>\n",
              "  </thead>\n",
              "  <tbody>\n",
              "    <tr>\n",
              "      <th>2018-03-01 00:00:00</th>\n",
              "      <td>124</td>\n",
              "      <td>0</td>\n",
              "      <td>1</td>\n",
              "      <td>3</td>\n",
              "      <td>NaN</td>\n",
              "      <td>NaN</td>\n",
              "      <td>NaN</td>\n",
              "      <td>NaN</td>\n",
              "      <td>NaN</td>\n",
              "      <td>NaN</td>\n",
              "      <td>NaN</td>\n",
              "    </tr>\n",
              "    <tr>\n",
              "      <th>2018-03-01 01:00:00</th>\n",
              "      <td>85</td>\n",
              "      <td>1</td>\n",
              "      <td>1</td>\n",
              "      <td>3</td>\n",
              "      <td>124.0</td>\n",
              "      <td>NaN</td>\n",
              "      <td>NaN</td>\n",
              "      <td>NaN</td>\n",
              "      <td>NaN</td>\n",
              "      <td>NaN</td>\n",
              "      <td>124.0</td>\n",
              "    </tr>\n",
              "    <tr>\n",
              "      <th>2018-03-01 02:00:00</th>\n",
              "      <td>71</td>\n",
              "      <td>2</td>\n",
              "      <td>1</td>\n",
              "      <td>3</td>\n",
              "      <td>85.0</td>\n",
              "      <td>124.0</td>\n",
              "      <td>NaN</td>\n",
              "      <td>NaN</td>\n",
              "      <td>NaN</td>\n",
              "      <td>NaN</td>\n",
              "      <td>85.0</td>\n",
              "    </tr>\n",
              "    <tr>\n",
              "      <th>2018-03-01 03:00:00</th>\n",
              "      <td>66</td>\n",
              "      <td>3</td>\n",
              "      <td>1</td>\n",
              "      <td>3</td>\n",
              "      <td>71.0</td>\n",
              "      <td>85.0</td>\n",
              "      <td>124.0</td>\n",
              "      <td>NaN</td>\n",
              "      <td>NaN</td>\n",
              "      <td>NaN</td>\n",
              "      <td>71.0</td>\n",
              "    </tr>\n",
              "    <tr>\n",
              "      <th>2018-03-01 04:00:00</th>\n",
              "      <td>43</td>\n",
              "      <td>4</td>\n",
              "      <td>1</td>\n",
              "      <td>3</td>\n",
              "      <td>66.0</td>\n",
              "      <td>71.0</td>\n",
              "      <td>85.0</td>\n",
              "      <td>124.0</td>\n",
              "      <td>NaN</td>\n",
              "      <td>NaN</td>\n",
              "      <td>66.0</td>\n",
              "    </tr>\n",
              "  </tbody>\n",
              "</table>\n",
              "</div>"
            ],
            "text/plain": [
              "                     num_orders  hour  day  dayofweek  lag_1  lag_2  lag_3  \\\n",
              "datetime                                                                     \n",
              "2018-03-01 00:00:00         124     0    1          3    NaN    NaN    NaN   \n",
              "2018-03-01 01:00:00          85     1    1          3  124.0    NaN    NaN   \n",
              "2018-03-01 02:00:00          71     2    1          3   85.0  124.0    NaN   \n",
              "2018-03-01 03:00:00          66     3    1          3   71.0   85.0  124.0   \n",
              "2018-03-01 04:00:00          43     4    1          3   66.0   71.0   85.0   \n",
              "\n",
              "                     lag_4  lag_5  lag_6  rolling_mean  \n",
              "datetime                                                \n",
              "2018-03-01 00:00:00    NaN    NaN    NaN           NaN  \n",
              "2018-03-01 01:00:00    NaN    NaN    NaN         124.0  \n",
              "2018-03-01 02:00:00    NaN    NaN    NaN          85.0  \n",
              "2018-03-01 03:00:00    NaN    NaN    NaN          71.0  \n",
              "2018-03-01 04:00:00  124.0    NaN    NaN          66.0  "
            ]
          },
          "execution_count": 14,
          "metadata": {},
          "output_type": "execute_result"
        }
      ],
      "source": [
        "df_taxi_feat.head()"
      ]
    },
    {
      "cell_type": "markdown",
      "metadata": {
        "id": "4zelUVjkjuZa"
      },
      "source": [
        "Также необходимо сделать ряд стационарным для улучшения качества прогноза:"
      ]
    },
    {
      "cell_type": "code",
      "execution_count": null,
      "metadata": {
        "id": "WntBPDdYjuZb"
      },
      "outputs": [],
      "source": [
        "#df_taxi = df_taxi - df_taxi.shift()\n",
        "df_taxi_feat['mean'] = df_taxi_feat['num_orders'].shift().rolling(15).mean()\n",
        "df_taxi_feat['std'] = df_taxi_feat['num_orders'].shift().rolling(15).std()"
      ]
    },
    {
      "cell_type": "markdown",
      "metadata": {
        "id": "aTxnkcZjjuZc"
      },
      "source": [
        "Проверим, как выглядит таблица после преобразований"
      ]
    },
    {
      "cell_type": "code",
      "execution_count": null,
      "metadata": {
        "id": "7gxKO_SmjuZc",
        "outputId": "5ee06a5c-6212-490e-e59a-0442abdac1b0"
      },
      "outputs": [
        {
          "data": {
            "text/html": [
              "<div>\n",
              "<style scoped>\n",
              "    .dataframe tbody tr th:only-of-type {\n",
              "        vertical-align: middle;\n",
              "    }\n",
              "\n",
              "    .dataframe tbody tr th {\n",
              "        vertical-align: top;\n",
              "    }\n",
              "\n",
              "    .dataframe thead th {\n",
              "        text-align: right;\n",
              "    }\n",
              "</style>\n",
              "<table border=\"1\" class=\"dataframe\">\n",
              "  <thead>\n",
              "    <tr style=\"text-align: right;\">\n",
              "      <th></th>\n",
              "      <th>num_orders</th>\n",
              "      <th>hour</th>\n",
              "      <th>day</th>\n",
              "      <th>dayofweek</th>\n",
              "      <th>lag_1</th>\n",
              "      <th>lag_2</th>\n",
              "      <th>lag_3</th>\n",
              "      <th>lag_4</th>\n",
              "      <th>lag_5</th>\n",
              "      <th>lag_6</th>\n",
              "      <th>rolling_mean</th>\n",
              "      <th>mean</th>\n",
              "      <th>std</th>\n",
              "    </tr>\n",
              "    <tr>\n",
              "      <th>datetime</th>\n",
              "      <th></th>\n",
              "      <th></th>\n",
              "      <th></th>\n",
              "      <th></th>\n",
              "      <th></th>\n",
              "      <th></th>\n",
              "      <th></th>\n",
              "      <th></th>\n",
              "      <th></th>\n",
              "      <th></th>\n",
              "      <th></th>\n",
              "      <th></th>\n",
              "      <th></th>\n",
              "    </tr>\n",
              "  </thead>\n",
              "  <tbody>\n",
              "    <tr>\n",
              "      <th>2018-03-01 00:00:00</th>\n",
              "      <td>124</td>\n",
              "      <td>0</td>\n",
              "      <td>1</td>\n",
              "      <td>3</td>\n",
              "      <td>NaN</td>\n",
              "      <td>NaN</td>\n",
              "      <td>NaN</td>\n",
              "      <td>NaN</td>\n",
              "      <td>NaN</td>\n",
              "      <td>NaN</td>\n",
              "      <td>NaN</td>\n",
              "      <td>NaN</td>\n",
              "      <td>NaN</td>\n",
              "    </tr>\n",
              "    <tr>\n",
              "      <th>2018-03-01 01:00:00</th>\n",
              "      <td>85</td>\n",
              "      <td>1</td>\n",
              "      <td>1</td>\n",
              "      <td>3</td>\n",
              "      <td>124.0</td>\n",
              "      <td>NaN</td>\n",
              "      <td>NaN</td>\n",
              "      <td>NaN</td>\n",
              "      <td>NaN</td>\n",
              "      <td>NaN</td>\n",
              "      <td>124.0</td>\n",
              "      <td>NaN</td>\n",
              "      <td>NaN</td>\n",
              "    </tr>\n",
              "    <tr>\n",
              "      <th>2018-03-01 02:00:00</th>\n",
              "      <td>71</td>\n",
              "      <td>2</td>\n",
              "      <td>1</td>\n",
              "      <td>3</td>\n",
              "      <td>85.0</td>\n",
              "      <td>124.0</td>\n",
              "      <td>NaN</td>\n",
              "      <td>NaN</td>\n",
              "      <td>NaN</td>\n",
              "      <td>NaN</td>\n",
              "      <td>85.0</td>\n",
              "      <td>NaN</td>\n",
              "      <td>NaN</td>\n",
              "    </tr>\n",
              "    <tr>\n",
              "      <th>2018-03-01 03:00:00</th>\n",
              "      <td>66</td>\n",
              "      <td>3</td>\n",
              "      <td>1</td>\n",
              "      <td>3</td>\n",
              "      <td>71.0</td>\n",
              "      <td>85.0</td>\n",
              "      <td>124.0</td>\n",
              "      <td>NaN</td>\n",
              "      <td>NaN</td>\n",
              "      <td>NaN</td>\n",
              "      <td>71.0</td>\n",
              "      <td>NaN</td>\n",
              "      <td>NaN</td>\n",
              "    </tr>\n",
              "    <tr>\n",
              "      <th>2018-03-01 04:00:00</th>\n",
              "      <td>43</td>\n",
              "      <td>4</td>\n",
              "      <td>1</td>\n",
              "      <td>3</td>\n",
              "      <td>66.0</td>\n",
              "      <td>71.0</td>\n",
              "      <td>85.0</td>\n",
              "      <td>124.0</td>\n",
              "      <td>NaN</td>\n",
              "      <td>NaN</td>\n",
              "      <td>66.0</td>\n",
              "      <td>NaN</td>\n",
              "      <td>NaN</td>\n",
              "    </tr>\n",
              "  </tbody>\n",
              "</table>\n",
              "</div>"
            ],
            "text/plain": [
              "                     num_orders  hour  day  dayofweek  lag_1  lag_2  lag_3  \\\n",
              "datetime                                                                     \n",
              "2018-03-01 00:00:00         124     0    1          3    NaN    NaN    NaN   \n",
              "2018-03-01 01:00:00          85     1    1          3  124.0    NaN    NaN   \n",
              "2018-03-01 02:00:00          71     2    1          3   85.0  124.0    NaN   \n",
              "2018-03-01 03:00:00          66     3    1          3   71.0   85.0  124.0   \n",
              "2018-03-01 04:00:00          43     4    1          3   66.0   71.0   85.0   \n",
              "\n",
              "                     lag_4  lag_5  lag_6  rolling_mean  mean  std  \n",
              "datetime                                                           \n",
              "2018-03-01 00:00:00    NaN    NaN    NaN           NaN   NaN  NaN  \n",
              "2018-03-01 01:00:00    NaN    NaN    NaN         124.0   NaN  NaN  \n",
              "2018-03-01 02:00:00    NaN    NaN    NaN          85.0   NaN  NaN  \n",
              "2018-03-01 03:00:00    NaN    NaN    NaN          71.0   NaN  NaN  \n",
              "2018-03-01 04:00:00  124.0    NaN    NaN          66.0   NaN  NaN  "
            ]
          },
          "execution_count": 18,
          "metadata": {},
          "output_type": "execute_result"
        }
      ],
      "source": [
        "df_taxi_feat.head()"
      ]
    },
    {
      "cell_type": "markdown",
      "metadata": {
        "id": "UhUWBHZfjuZc"
      },
      "source": [
        "Преобразования выполнены успешно."
      ]
    },
    {
      "cell_type": "markdown",
      "metadata": {
        "id": "ofBGZiSqjuZc"
      },
      "source": [
        "## Обучение и тестирование"
      ]
    },
    {
      "cell_type": "markdown",
      "metadata": {
        "id": "Y-EIp3V8juZc"
      },
      "source": [
        "Предварительно разделим данные на тренировочную и тестовую выборки:"
      ]
    },
    {
      "cell_type": "code",
      "execution_count": null,
      "metadata": {
        "id": "zKmWwPimjuZd",
        "outputId": "a28a4dba-a54c-47d1-90e5-8222b37887b3"
      },
      "outputs": [
        {
          "data": {
            "text/plain": [
              "((3959, 12), (442, 12))"
            ]
          },
          "execution_count": 19,
          "metadata": {},
          "output_type": "execute_result"
        }
      ],
      "source": [
        "train, test = train_test_split(df_taxi_feat, shuffle=False, test_size=0.1)\n",
        "train = train.dropna()\n",
        "\n",
        "X_train = train.drop('num_orders', axis=1)\n",
        "y_train = train['num_orders']\n",
        "X_test = test.drop('num_orders', axis=1)\n",
        "y_test = test['num_orders']\n",
        "\n",
        "X_train.shape, X_test.shape"
      ]
    },
    {
      "cell_type": "markdown",
      "metadata": {
        "id": "lNo2UGiCjuZd"
      },
      "source": [
        "Перебор модели и оценки её качества будем проводить в пайплайн. Так сразу после перебора получим результаты контроля качества."
      ]
    },
    {
      "cell_type": "code",
      "execution_count": null,
      "metadata": {
        "id": "5GWLe-_njuZd"
      },
      "outputs": [],
      "source": [
        "# создаём списки с названиями признаков\n",
        "ohe_columns = ['hour',\n",
        "               'day',\n",
        "               'dayofweek'\n",
        "              ]\n",
        "num_columns = ['rolling_mean',\n",
        "               'lag_1',\n",
        "               'lag_2',\n",
        "               'lag_3',\n",
        "               'lag_4',\n",
        "               'lag_5',\n",
        "               'lag_6',\n",
        "               'mean',\n",
        "               'std'\n",
        "              ]\n",
        "\n",
        "# создаём пайплайн для подготовки признаков из списка ohe_columns: заполнение пропусков и OHE-кодирование\n",
        "# SimpleImputer + OHE\n",
        "ohe_pipe = Pipeline(\n",
        "    [('simpleImputer_ohe', SimpleImputer(missing_values=np.nan, strategy='most_frequent')),\n",
        "     ('ohe', OneHotEncoder(drop='first', handle_unknown='ignore', sparse_output = False))\n",
        "    ]\n",
        "    )\n",
        "\n",
        "# создаём общий пайплайн для подготовки данных\n",
        "data_preprocessor = ColumnTransformer(\n",
        "    [('ohe', ohe_pipe, ohe_columns),\n",
        "     ('num', MinMaxScaler(), num_columns)\n",
        "    ],\n",
        "    remainder='passthrough'\n",
        ")"
      ]
    },
    {
      "cell_type": "code",
      "execution_count": null,
      "metadata": {
        "id": "_8nsaHwXjuZd"
      },
      "outputs": [],
      "source": [
        "pipe_final = Pipeline([\n",
        "    ('preprocessor', data_preprocessor),\n",
        "    ('models', LinearRegression())\n",
        "])\n",
        "\n",
        "param_grid = [\n",
        "    # словарь для моделей\n",
        "    {\n",
        "        'models': [LinearRegression()],\n",
        "        'preprocessor__num': [StandardScaler(), MinMaxScaler(), 'passthrough']\n",
        "    },\n",
        "\n",
        "\n",
        "    {\n",
        "        'models': [LGBMRegressor()],\n",
        "        'models__num_leaves':[5, 10],\n",
        "        'models__max_depth':[5, 10],\n",
        "        'models__learning_rate':[0.5],\n",
        "        'models__n_estimators':[50, 100],\n",
        "        'models__subsample_for_bin':[10000, 100000],\n",
        "        'preprocessor__num': [StandardScaler(), MinMaxScaler(), 'passthrough']\n",
        "    },\n",
        "\n",
        "    {\n",
        "        'models': [CatBoostRegressor()],\n",
        "        'models__iterations':[2, 5, 10],\n",
        "        'models__depth':[2, 10],\n",
        "        'models__learning_rate':[1],\n",
        "        'models__loss_function':['RMSE'],\n",
        "        'models__logging_level':['Silent'],\n",
        "        'preprocessor__num': [StandardScaler(), MinMaxScaler(), 'passthrough']\n",
        "    }\n",
        "\n",
        "\n",
        "]\n"
      ]
    },
    {
      "cell_type": "code",
      "execution_count": null,
      "metadata": {
        "scrolled": true,
        "id": "gly98yiCjuZe",
        "outputId": "60f2dcc5-e83d-461d-d7a4-9bcb6eafadda"
      },
      "outputs": [
        {
          "name": "stderr",
          "output_type": "stream",
          "text": [
            "/opt/conda/lib/python3.9/site-packages/sklearn/preprocessing/_encoders.py:242: UserWarning: Found unknown categories in columns [1] during transform. These unknown categories will be encoded as all zeros\n",
            "  warnings.warn(\n",
            "/opt/conda/lib/python3.9/site-packages/sklearn/preprocessing/_encoders.py:242: UserWarning: Found unknown categories in columns [1] during transform. These unknown categories will be encoded as all zeros\n",
            "  warnings.warn(\n",
            "/opt/conda/lib/python3.9/site-packages/sklearn/preprocessing/_encoders.py:242: UserWarning: Found unknown categories in columns [1] during transform. These unknown categories will be encoded as all zeros\n",
            "  warnings.warn(\n",
            "/opt/conda/lib/python3.9/site-packages/sklearn/preprocessing/_encoders.py:242: UserWarning: Found unknown categories in columns [1] during transform. These unknown categories will be encoded as all zeros\n",
            "  warnings.warn(\n",
            "/opt/conda/lib/python3.9/site-packages/sklearn/preprocessing/_encoders.py:242: UserWarning: Found unknown categories in columns [1] during transform. These unknown categories will be encoded as all zeros\n",
            "  warnings.warn(\n",
            "/opt/conda/lib/python3.9/site-packages/sklearn/preprocessing/_encoders.py:242: UserWarning: Found unknown categories in columns [1] during transform. These unknown categories will be encoded as all zeros\n",
            "  warnings.warn(\n",
            "/opt/conda/lib/python3.9/site-packages/sklearn/preprocessing/_encoders.py:242: UserWarning: Found unknown categories in columns [1] during transform. These unknown categories will be encoded as all zeros\n",
            "  warnings.warn(\n",
            "/opt/conda/lib/python3.9/site-packages/sklearn/preprocessing/_encoders.py:242: UserWarning: Found unknown categories in columns [1] during transform. These unknown categories will be encoded as all zeros\n",
            "  warnings.warn(\n",
            "/opt/conda/lib/python3.9/site-packages/sklearn/preprocessing/_encoders.py:242: UserWarning: Found unknown categories in columns [1] during transform. These unknown categories will be encoded as all zeros\n",
            "  warnings.warn(\n",
            "/opt/conda/lib/python3.9/site-packages/sklearn/preprocessing/_encoders.py:242: UserWarning: Found unknown categories in columns [1] during transform. These unknown categories will be encoded as all zeros\n",
            "  warnings.warn(\n",
            "/opt/conda/lib/python3.9/site-packages/sklearn/preprocessing/_encoders.py:242: UserWarning: Found unknown categories in columns [1] during transform. These unknown categories will be encoded as all zeros\n",
            "  warnings.warn(\n",
            "/opt/conda/lib/python3.9/site-packages/sklearn/preprocessing/_encoders.py:242: UserWarning: Found unknown categories in columns [1] during transform. These unknown categories will be encoded as all zeros\n",
            "  warnings.warn(\n",
            "/opt/conda/lib/python3.9/site-packages/sklearn/preprocessing/_encoders.py:242: UserWarning: Found unknown categories in columns [1] during transform. These unknown categories will be encoded as all zeros\n",
            "  warnings.warn(\n",
            "/opt/conda/lib/python3.9/site-packages/sklearn/preprocessing/_encoders.py:242: UserWarning: Found unknown categories in columns [1] during transform. These unknown categories will be encoded as all zeros\n",
            "  warnings.warn(\n",
            "/opt/conda/lib/python3.9/site-packages/sklearn/preprocessing/_encoders.py:242: UserWarning: Found unknown categories in columns [1] during transform. These unknown categories will be encoded as all zeros\n",
            "  warnings.warn(\n",
            "/opt/conda/lib/python3.9/site-packages/sklearn/preprocessing/_encoders.py:242: UserWarning: Found unknown categories in columns [1] during transform. These unknown categories will be encoded as all zeros\n",
            "  warnings.warn(\n",
            "/opt/conda/lib/python3.9/site-packages/sklearn/preprocessing/_encoders.py:242: UserWarning: Found unknown categories in columns [1] during transform. These unknown categories will be encoded as all zeros\n",
            "  warnings.warn(\n",
            "/opt/conda/lib/python3.9/site-packages/sklearn/preprocessing/_encoders.py:242: UserWarning: Found unknown categories in columns [1] during transform. These unknown categories will be encoded as all zeros\n",
            "  warnings.warn(\n",
            "/opt/conda/lib/python3.9/site-packages/sklearn/preprocessing/_encoders.py:242: UserWarning: Found unknown categories in columns [1] during transform. These unknown categories will be encoded as all zeros\n",
            "  warnings.warn(\n",
            "/opt/conda/lib/python3.9/site-packages/sklearn/preprocessing/_encoders.py:242: UserWarning: Found unknown categories in columns [1] during transform. These unknown categories will be encoded as all zeros\n",
            "  warnings.warn(\n",
            "/opt/conda/lib/python3.9/site-packages/sklearn/preprocessing/_encoders.py:242: UserWarning: Found unknown categories in columns [1] during transform. These unknown categories will be encoded as all zeros\n",
            "  warnings.warn(\n",
            "/opt/conda/lib/python3.9/site-packages/sklearn/preprocessing/_encoders.py:242: UserWarning: Found unknown categories in columns [1] during transform. These unknown categories will be encoded as all zeros\n",
            "  warnings.warn(\n",
            "/opt/conda/lib/python3.9/site-packages/sklearn/preprocessing/_encoders.py:242: UserWarning: Found unknown categories in columns [1] during transform. These unknown categories will be encoded as all zeros\n",
            "  warnings.warn(\n",
            "/opt/conda/lib/python3.9/site-packages/sklearn/preprocessing/_encoders.py:242: UserWarning: Found unknown categories in columns [1] during transform. These unknown categories will be encoded as all zeros\n",
            "  warnings.warn(\n",
            "/opt/conda/lib/python3.9/site-packages/sklearn/preprocessing/_encoders.py:242: UserWarning: Found unknown categories in columns [1] during transform. These unknown categories will be encoded as all zeros\n",
            "  warnings.warn(\n",
            "/opt/conda/lib/python3.9/site-packages/sklearn/preprocessing/_encoders.py:242: UserWarning: Found unknown categories in columns [1] during transform. These unknown categories will be encoded as all zeros\n",
            "  warnings.warn(\n",
            "/opt/conda/lib/python3.9/site-packages/sklearn/preprocessing/_encoders.py:242: UserWarning: Found unknown categories in columns [1] during transform. These unknown categories will be encoded as all zeros\n",
            "  warnings.warn(\n",
            "/opt/conda/lib/python3.9/site-packages/sklearn/preprocessing/_encoders.py:242: UserWarning: Found unknown categories in columns [1] during transform. These unknown categories will be encoded as all zeros\n",
            "  warnings.warn(\n",
            "/opt/conda/lib/python3.9/site-packages/sklearn/preprocessing/_encoders.py:242: UserWarning: Found unknown categories in columns [1] during transform. These unknown categories will be encoded as all zeros\n",
            "  warnings.warn(\n",
            "/opt/conda/lib/python3.9/site-packages/sklearn/preprocessing/_encoders.py:242: UserWarning: Found unknown categories in columns [1] during transform. These unknown categories will be encoded as all zeros\n",
            "  warnings.warn(\n",
            "/opt/conda/lib/python3.9/site-packages/sklearn/preprocessing/_encoders.py:242: UserWarning: Found unknown categories in columns [1] during transform. These unknown categories will be encoded as all zeros\n",
            "  warnings.warn(\n",
            "/opt/conda/lib/python3.9/site-packages/sklearn/preprocessing/_encoders.py:242: UserWarning: Found unknown categories in columns [1] during transform. These unknown categories will be encoded as all zeros\n",
            "  warnings.warn(\n",
            "/opt/conda/lib/python3.9/site-packages/sklearn/preprocessing/_encoders.py:242: UserWarning: Found unknown categories in columns [1] during transform. These unknown categories will be encoded as all zeros\n",
            "  warnings.warn(\n",
            "/opt/conda/lib/python3.9/site-packages/sklearn/preprocessing/_encoders.py:242: UserWarning: Found unknown categories in columns [1] during transform. These unknown categories will be encoded as all zeros\n",
            "  warnings.warn(\n",
            "/opt/conda/lib/python3.9/site-packages/sklearn/preprocessing/_encoders.py:242: UserWarning: Found unknown categories in columns [1] during transform. These unknown categories will be encoded as all zeros\n",
            "  warnings.warn(\n",
            "/opt/conda/lib/python3.9/site-packages/sklearn/preprocessing/_encoders.py:242: UserWarning: Found unknown categories in columns [1] during transform. These unknown categories will be encoded as all zeros\n",
            "  warnings.warn(\n",
            "/opt/conda/lib/python3.9/site-packages/sklearn/preprocessing/_encoders.py:242: UserWarning: Found unknown categories in columns [1] during transform. These unknown categories will be encoded as all zeros\n",
            "  warnings.warn(\n",
            "/opt/conda/lib/python3.9/site-packages/sklearn/preprocessing/_encoders.py:242: UserWarning: Found unknown categories in columns [1] during transform. These unknown categories will be encoded as all zeros\n",
            "  warnings.warn(\n",
            "/opt/conda/lib/python3.9/site-packages/sklearn/preprocessing/_encoders.py:242: UserWarning: Found unknown categories in columns [1] during transform. These unknown categories will be encoded as all zeros\n",
            "  warnings.warn(\n",
            "/opt/conda/lib/python3.9/site-packages/sklearn/preprocessing/_encoders.py:242: UserWarning: Found unknown categories in columns [1] during transform. These unknown categories will be encoded as all zeros\n",
            "  warnings.warn(\n",
            "/opt/conda/lib/python3.9/site-packages/sklearn/preprocessing/_encoders.py:242: UserWarning: Found unknown categories in columns [1] during transform. These unknown categories will be encoded as all zeros\n",
            "  warnings.warn(\n",
            "/opt/conda/lib/python3.9/site-packages/sklearn/preprocessing/_encoders.py:242: UserWarning: Found unknown categories in columns [1] during transform. These unknown categories will be encoded as all zeros\n",
            "  warnings.warn(\n",
            "/opt/conda/lib/python3.9/site-packages/sklearn/preprocessing/_encoders.py:242: UserWarning: Found unknown categories in columns [1] during transform. These unknown categories will be encoded as all zeros\n",
            "  warnings.warn(\n",
            "/opt/conda/lib/python3.9/site-packages/sklearn/preprocessing/_encoders.py:242: UserWarning: Found unknown categories in columns [1] during transform. These unknown categories will be encoded as all zeros\n",
            "  warnings.warn(\n",
            "/opt/conda/lib/python3.9/site-packages/sklearn/preprocessing/_encoders.py:242: UserWarning: Found unknown categories in columns [1] during transform. These unknown categories will be encoded as all zeros\n",
            "  warnings.warn(\n",
            "/opt/conda/lib/python3.9/site-packages/sklearn/preprocessing/_encoders.py:242: UserWarning: Found unknown categories in columns [1] during transform. These unknown categories will be encoded as all zeros\n",
            "  warnings.warn(\n",
            "/opt/conda/lib/python3.9/site-packages/sklearn/preprocessing/_encoders.py:242: UserWarning: Found unknown categories in columns [1] during transform. These unknown categories will be encoded as all zeros\n",
            "  warnings.warn(\n",
            "/opt/conda/lib/python3.9/site-packages/sklearn/preprocessing/_encoders.py:242: UserWarning: Found unknown categories in columns [1] during transform. These unknown categories will be encoded as all zeros\n",
            "  warnings.warn(\n",
            "/opt/conda/lib/python3.9/site-packages/sklearn/preprocessing/_encoders.py:242: UserWarning: Found unknown categories in columns [1] during transform. These unknown categories will be encoded as all zeros\n",
            "  warnings.warn(\n",
            "/opt/conda/lib/python3.9/site-packages/sklearn/preprocessing/_encoders.py:242: UserWarning: Found unknown categories in columns [1] during transform. These unknown categories will be encoded as all zeros\n",
            "  warnings.warn(\n",
            "/opt/conda/lib/python3.9/site-packages/sklearn/preprocessing/_encoders.py:242: UserWarning: Found unknown categories in columns [1] during transform. These unknown categories will be encoded as all zeros\n",
            "  warnings.warn(\n",
            "/opt/conda/lib/python3.9/site-packages/sklearn/preprocessing/_encoders.py:242: UserWarning: Found unknown categories in columns [1] during transform. These unknown categories will be encoded as all zeros\n",
            "  warnings.warn(\n",
            "/opt/conda/lib/python3.9/site-packages/sklearn/preprocessing/_encoders.py:242: UserWarning: Found unknown categories in columns [1] during transform. These unknown categories will be encoded as all zeros\n",
            "  warnings.warn(\n",
            "/opt/conda/lib/python3.9/site-packages/sklearn/preprocessing/_encoders.py:242: UserWarning: Found unknown categories in columns [1] during transform. These unknown categories will be encoded as all zeros\n",
            "  warnings.warn(\n",
            "/opt/conda/lib/python3.9/site-packages/sklearn/preprocessing/_encoders.py:242: UserWarning: Found unknown categories in columns [1] during transform. These unknown categories will be encoded as all zeros\n",
            "  warnings.warn(\n",
            "/opt/conda/lib/python3.9/site-packages/sklearn/preprocessing/_encoders.py:242: UserWarning: Found unknown categories in columns [1] during transform. These unknown categories will be encoded as all zeros\n",
            "  warnings.warn(\n",
            "/opt/conda/lib/python3.9/site-packages/sklearn/preprocessing/_encoders.py:242: UserWarning: Found unknown categories in columns [1] during transform. These unknown categories will be encoded as all zeros\n",
            "  warnings.warn(\n",
            "/opt/conda/lib/python3.9/site-packages/sklearn/preprocessing/_encoders.py:242: UserWarning: Found unknown categories in columns [1] during transform. These unknown categories will be encoded as all zeros\n",
            "  warnings.warn(\n",
            "/opt/conda/lib/python3.9/site-packages/sklearn/preprocessing/_encoders.py:242: UserWarning: Found unknown categories in columns [1] during transform. These unknown categories will be encoded as all zeros\n",
            "  warnings.warn(\n",
            "/opt/conda/lib/python3.9/site-packages/sklearn/preprocessing/_encoders.py:242: UserWarning: Found unknown categories in columns [1] during transform. These unknown categories will be encoded as all zeros\n",
            "  warnings.warn(\n",
            "/opt/conda/lib/python3.9/site-packages/sklearn/preprocessing/_encoders.py:242: UserWarning: Found unknown categories in columns [1] during transform. These unknown categories will be encoded as all zeros\n",
            "  warnings.warn(\n",
            "/opt/conda/lib/python3.9/site-packages/sklearn/preprocessing/_encoders.py:242: UserWarning: Found unknown categories in columns [1] during transform. These unknown categories will be encoded as all zeros\n",
            "  warnings.warn(\n",
            "/opt/conda/lib/python3.9/site-packages/sklearn/preprocessing/_encoders.py:242: UserWarning: Found unknown categories in columns [1] during transform. These unknown categories will be encoded as all zeros\n",
            "  warnings.warn(\n",
            "/opt/conda/lib/python3.9/site-packages/sklearn/preprocessing/_encoders.py:242: UserWarning: Found unknown categories in columns [1] during transform. These unknown categories will be encoded as all zeros\n",
            "  warnings.warn(\n",
            "/opt/conda/lib/python3.9/site-packages/sklearn/preprocessing/_encoders.py:242: UserWarning: Found unknown categories in columns [1] during transform. These unknown categories will be encoded as all zeros\n",
            "  warnings.warn(\n",
            "/opt/conda/lib/python3.9/site-packages/sklearn/preprocessing/_encoders.py:242: UserWarning: Found unknown categories in columns [1] during transform. These unknown categories will be encoded as all zeros\n",
            "  warnings.warn(\n",
            "/opt/conda/lib/python3.9/site-packages/sklearn/preprocessing/_encoders.py:242: UserWarning: Found unknown categories in columns [1] during transform. These unknown categories will be encoded as all zeros\n",
            "  warnings.warn(\n",
            "/opt/conda/lib/python3.9/site-packages/sklearn/preprocessing/_encoders.py:242: UserWarning: Found unknown categories in columns [1] during transform. These unknown categories will be encoded as all zeros\n",
            "  warnings.warn(\n",
            "/opt/conda/lib/python3.9/site-packages/sklearn/preprocessing/_encoders.py:242: UserWarning: Found unknown categories in columns [1] during transform. These unknown categories will be encoded as all zeros\n",
            "  warnings.warn(\n"
          ]
        },
        {
          "name": "stdout",
          "output_type": "stream",
          "text": [
            "Лучшая модель и её параметры:\n",
            "\n",
            " Pipeline(steps=[('preprocessor',\n",
            "                 ColumnTransformer(remainder='passthrough',\n",
            "                                   transformers=[('ohe',\n",
            "                                                  Pipeline(steps=[('simpleImputer_ohe',\n",
            "                                                                   SimpleImputer(strategy='most_frequent')),\n",
            "                                                                  ('ohe',\n",
            "                                                                   OneHotEncoder(drop='first',\n",
            "                                                                                 handle_unknown='ignore',\n",
            "                                                                                 sparse_output=False))]),\n",
            "                                                  ['hour', 'day', 'dayofweek']),\n",
            "                                                 ('num', StandardScaler(),\n",
            "                                                  ['rolling_mean', 'lag_1',\n",
            "                                                   'lag_2', 'lag_3', 'lag_4',\n",
            "                                                   'lag_5', 'lag_6', 'mean',\n",
            "                                                   'std'])])),\n",
            "                ('models',\n",
            "                 LGBMRegressor(learning_rate=0.5, max_depth=5, n_estimators=50,\n",
            "                               num_leaves=5, subsample_for_bin=10000))])\n",
            "Метрика лучшей модели на кросс-валидационной выборке: -27.389788664207536\n",
            "Метрика RMSE на тестовой выборке: 43.984546538105285\n",
            "CPU times: user 2min 31s, sys: 4.02 s, total: 2min 35s\n",
            "Wall time: 3min 31s\n"
          ]
        }
      ],
      "source": [
        "%%time\n",
        "\n",
        "tscv = TimeSeriesSplit(n_splits=5)\n",
        "\n",
        "grid_search = GridSearchCV(\n",
        "    pipe_final,\n",
        "    param_grid,\n",
        "    cv=tscv,\n",
        "    scoring='neg_root_mean_squared_error',\n",
        "    n_jobs=-1\n",
        ")\n",
        "\n",
        "grid_search.fit(X_train, y_train)\n",
        "\n",
        "print('Лучшая модель и её параметры:\\n\\n',grid_search.best_estimator_)\n",
        "print ('Метрика лучшей модели на кросс-валидационной выборке:', grid_search.best_score_)\n",
        "\n",
        "# проверка работы модели на тестовой выборке\n",
        "y_test_pred = grid_search.predict(X_test)\n",
        "print(f'Метрика RMSE на тестовой выборке: {root_mean_squared_error(y_test, y_test_pred)}')"
      ]
    },
    {
      "cell_type": "markdown",
      "metadata": {
        "id": "vC4NXBICjuZe"
      },
      "source": [
        "Наилучшая модель по итогам перебора является LGBMRegressor. Её метрика на тестовой выборке составила 43,3, что меньше 48. Модель обеспечивает нужное качество."
      ]
    },
    {
      "cell_type": "markdown",
      "metadata": {
        "id": "uvXdXbZ9juZe"
      },
      "source": [
        "## Анализ работы модели"
      ]
    },
    {
      "cell_type": "markdown",
      "metadata": {
        "id": "vu5XVRY2juZf"
      },
      "source": [
        "В целях оценки работы модели получим предсказания по всему датасету и построим график. На графике отложим фактические значения и предсказанные."
      ]
    },
    {
      "cell_type": "code",
      "execution_count": null,
      "metadata": {
        "id": "q3bHyRfgjuZf"
      },
      "outputs": [],
      "source": [
        "model = grid_search.best_estimator_.named_steps['models']"
      ]
    },
    {
      "cell_type": "code",
      "execution_count": null,
      "metadata": {
        "id": "acFirhZIjuZf"
      },
      "outputs": [],
      "source": [
        "preprocessor = grid_search.best_estimator_.named_steps['preprocessor']"
      ]
    },
    {
      "cell_type": "code",
      "execution_count": null,
      "metadata": {
        "id": "pLdZk4ysjuZf"
      },
      "outputs": [],
      "source": [
        "df_taxi_preproc = preprocessor.transform(df_taxi_feat.drop('num_orders', axis=1))"
      ]
    },
    {
      "cell_type": "code",
      "execution_count": null,
      "metadata": {
        "id": "khchfDD6juZf"
      },
      "outputs": [],
      "source": [
        "preds = model.predict(df_taxi_preproc)"
      ]
    },
    {
      "cell_type": "code",
      "execution_count": null,
      "metadata": {
        "id": "ErOEckoEjuZf"
      },
      "outputs": [],
      "source": [
        "df_preds = pd.DataFrame(preds).rename(columns={0:'pred_orders'})"
      ]
    },
    {
      "cell_type": "code",
      "execution_count": null,
      "metadata": {
        "id": "cViIPA6AjuZg"
      },
      "outputs": [],
      "source": [
        "df_preds.index = df_taxi_feat.index[:len(df_preds)]"
      ]
    },
    {
      "cell_type": "code",
      "execution_count": null,
      "metadata": {
        "id": "qOK5fCWSjuZg"
      },
      "outputs": [],
      "source": [
        "df_taxi_feat = df_taxi_feat.join(df_preds)"
      ]
    },
    {
      "cell_type": "markdown",
      "metadata": {
        "id": "Gp7tor5RjuZg"
      },
      "source": [
        "Проверим, как предсказания добавились в общую таблицу."
      ]
    },
    {
      "cell_type": "code",
      "execution_count": null,
      "metadata": {
        "id": "_cLnnJ7pjuZg",
        "outputId": "879120ad-d53b-48d5-e99b-948559676425"
      },
      "outputs": [
        {
          "name": "stdout",
          "output_type": "stream",
          "text": [
            "<class 'pandas.core.frame.DataFrame'>\n",
            "DatetimeIndex: 4416 entries, 2018-03-01 00:00:00 to 2018-08-31 23:00:00\n",
            "Freq: H\n",
            "Data columns (total 14 columns):\n",
            " #   Column        Non-Null Count  Dtype  \n",
            "---  ------        --------------  -----  \n",
            " 0   num_orders    4416 non-null   int64  \n",
            " 1   hour          4416 non-null   int64  \n",
            " 2   day           4416 non-null   int64  \n",
            " 3   dayofweek     4416 non-null   int64  \n",
            " 4   lag_1         4415 non-null   float64\n",
            " 5   lag_2         4414 non-null   float64\n",
            " 6   lag_3         4413 non-null   float64\n",
            " 7   lag_4         4412 non-null   float64\n",
            " 8   lag_5         4411 non-null   float64\n",
            " 9   lag_6         4410 non-null   float64\n",
            " 10  rolling_mean  4415 non-null   float64\n",
            " 11  mean          4401 non-null   float64\n",
            " 12  std           4401 non-null   float64\n",
            " 13  pred_orders   4416 non-null   float64\n",
            "dtypes: float64(10), int64(4)\n",
            "memory usage: 517.5 KB\n"
          ]
        }
      ],
      "source": [
        "df_taxi_feat.info()"
      ]
    },
    {
      "cell_type": "markdown",
      "metadata": {
        "id": "rTReO24LjuZg"
      },
      "source": [
        "Добавились корректно. Теперь построим график."
      ]
    },
    {
      "cell_type": "code",
      "execution_count": null,
      "metadata": {
        "id": "JXG9jjd0juZg",
        "outputId": "8d7d8829-8249-462e-aedb-9b3ed9f67e7f"
      },
      "outputs": [
        {
          "data": {
            "image/png": "[encoded data removed]",
            "text/plain": [
              "<Figure size 1440x360 with 1 Axes>"
            ]
          },
          "metadata": {
            "needs_background": "light"
          },
          "output_type": "display_data"
        }
      ],
      "source": [
        "df_taxi_feat.loc[:,['pred_orders','num_orders']].plot(kind='line', grid=False, figsize=(20, 5))\n",
        "plt.title('Диаграмма сравнения предсказанного и фактического количества заказов')\n",
        "plt.legend(['Предсказанные значения', 'Фактические значения'])\n",
        "plt.xlabel('Дата')\n",
        "plt.ylabel('Количество заказов')\n",
        "plt.show()"
      ]
    },
    {
      "cell_type": "markdown",
      "metadata": {
        "id": "E6GLJtyujuZh"
      },
      "source": [
        "Как видно из диаграммы, лучше всего модель предсказывает количество заказов в весенние месяцы и хуже всего ближе к осени в тех местах, где были аномальные значения."
      ]
    },
    {
      "cell_type": "markdown",
      "metadata": {
        "id": "7IB409QhjuZh"
      },
      "source": [
        "## Вывод"
      ]
    },
    {
      "cell_type": "markdown",
      "metadata": {
        "id": "7pshCPvGjuZh"
      },
      "source": [
        "**В рамках работы проведено:**\n",
        "1. Загрузка данных.\n",
        "2. Ресемплирование значений.\n",
        "3. Анализ предоставленной информации.\n",
        "4. Обучение трех моделей: LGBMRegressor, CatBoostRegressor и LinearRegression.\n",
        "5. Проведен контроль качества полученных моделей.\n",
        "\n",
        "**Результаты работы:**\n",
        "1. Наилучшая модель по результатам обучения оказалась LGBMRegressor.\n",
        "2. Метрика модели составила 43.9, что меньше 48.\n",
        "\n",
        "**Рекомендации по улучшению качества прогноза:**\n",
        "1. Предоставить информацию о количестве заказов по районам города.\n",
        "2. Предоставить информацию о классе машины для каждого заказа."
      ]
    },
    {
      "cell_type": "markdown",
      "metadata": {
        "id": "mF6A-yoXjuZi"
      },
      "source": [
        "## Чек-лист проверки"
      ]
    },
    {
      "cell_type": "markdown",
      "metadata": {
        "id": "kdDucY-EjuZi"
      },
      "source": [
        "- [x]  Jupyter Notebook открыт\n",
        "- [x]  Весь код выполняется без ошибок\n",
        "- [x]  Ячейки с кодом расположены в порядке исполнения\n",
        "- [x]  Данные загружены и подготовлены\n",
        "- [x]  Данные проанализированы\n",
        "- [x]  Модель обучена, гиперпараметры подобраны\n",
        "- [x]  Качество моделей проверено, выводы сделаны\n",
        "- [x]  Значение *RMSE* на тестовой выборке не больше 48"
      ]
    },
    {
      "cell_type": "code",
      "execution_count": null,
      "metadata": {
        "id": "FhmCwJG5juZi"
      },
      "outputs": [],
      "source": []
    }
  ],
  "metadata": {
    "ExecuteTimeLog": [
      {
        "duration": 409,
        "start_time": "2024-12-04T10:25:52.032Z"
      },
      {
        "duration": 90,
        "start_time": "2024-12-04T10:26:19.918Z"
      },
      {
        "duration": 10,
        "start_time": "2024-12-04T10:26:40.592Z"
      },
      {
        "duration": 58,
        "start_time": "2024-12-04T10:26:51.851Z"
      },
      {
        "duration": 11,
        "start_time": "2024-12-04T10:26:57.922Z"
      },
      {
        "duration": 43,
        "start_time": "2024-12-04T10:27:16.912Z"
      },
      {
        "duration": 10,
        "start_time": "2024-12-04T10:27:17.575Z"
      },
      {
        "duration": 5,
        "start_time": "2024-12-04T10:27:18.470Z"
      },
      {
        "duration": 15,
        "start_time": "2024-12-04T10:29:37.862Z"
      },
      {
        "duration": 12,
        "start_time": "2024-12-04T10:40:25.988Z"
      },
      {
        "duration": 46,
        "start_time": "2024-12-04T10:40:53.667Z"
      },
      {
        "duration": 9,
        "start_time": "2024-12-04T10:40:55.720Z"
      },
      {
        "duration": 46,
        "start_time": "2024-12-04T10:41:13.067Z"
      },
      {
        "duration": 9,
        "start_time": "2024-12-04T10:41:15.739Z"
      },
      {
        "duration": 8,
        "start_time": "2024-12-04T10:41:16.460Z"
      },
      {
        "duration": 3,
        "start_time": "2024-12-04T10:41:20.069Z"
      },
      {
        "duration": 6,
        "start_time": "2024-12-04T10:49:59.318Z"
      },
      {
        "duration": 390,
        "start_time": "2024-12-04T10:51:50.433Z"
      },
      {
        "duration": 47,
        "start_time": "2024-12-04T10:51:52.063Z"
      },
      {
        "duration": 8,
        "start_time": "2024-12-04T10:51:52.640Z"
      },
      {
        "duration": 11,
        "start_time": "2024-12-04T10:51:53.223Z"
      },
      {
        "duration": 7,
        "start_time": "2024-12-04T10:51:53.893Z"
      },
      {
        "duration": 5,
        "start_time": "2024-12-04T10:52:34.002Z"
      },
      {
        "duration": 4,
        "start_time": "2024-12-04T10:56:30.063Z"
      },
      {
        "duration": 63,
        "start_time": "2024-12-04T10:56:34.833Z"
      },
      {
        "duration": 602,
        "start_time": "2024-12-04T10:57:03.380Z"
      },
      {
        "duration": 41,
        "start_time": "2024-12-04T10:57:07.493Z"
      },
      {
        "duration": 9,
        "start_time": "2024-12-04T10:57:47.875Z"
      },
      {
        "duration": 62,
        "start_time": "2024-12-04T10:57:52.165Z"
      },
      {
        "duration": 9,
        "start_time": "2024-12-04T10:58:21.687Z"
      },
      {
        "duration": 32,
        "start_time": "2024-12-04T11:08:30.196Z"
      },
      {
        "duration": 19,
        "start_time": "2024-12-04T11:23:11.036Z"
      },
      {
        "duration": 648,
        "start_time": "2024-12-04T11:24:02.775Z"
      },
      {
        "duration": 210,
        "start_time": "2024-12-04T11:24:51.828Z"
      },
      {
        "duration": 486,
        "start_time": "2024-12-04T11:48:50.028Z"
      },
      {
        "duration": 678,
        "start_time": "2024-12-04T11:48:57.412Z"
      },
      {
        "duration": 697,
        "start_time": "2024-12-04T11:51:51.291Z"
      },
      {
        "duration": 10,
        "start_time": "2024-12-04T11:58:18.581Z"
      },
      {
        "duration": 296,
        "start_time": "2024-12-04T11:59:16.962Z"
      },
      {
        "duration": 13955,
        "start_time": "2024-12-05T06:43:18.869Z"
      },
      {
        "duration": 1387,
        "start_time": "2024-12-05T06:43:45.416Z"
      },
      {
        "duration": 154,
        "start_time": "2024-12-05T06:43:54.783Z"
      },
      {
        "duration": 9,
        "start_time": "2024-12-05T06:43:55.809Z"
      },
      {
        "duration": 8,
        "start_time": "2024-12-05T06:43:57.121Z"
      },
      {
        "duration": 6,
        "start_time": "2024-12-05T06:43:59.120Z"
      },
      {
        "duration": 10,
        "start_time": "2024-12-05T06:43:59.786Z"
      },
      {
        "duration": 8,
        "start_time": "2024-12-05T06:44:02.251Z"
      },
      {
        "duration": 5,
        "start_time": "2024-12-05T06:44:03.849Z"
      },
      {
        "duration": 791,
        "start_time": "2024-12-05T06:44:08.993Z"
      },
      {
        "duration": 3,
        "start_time": "2024-12-05T06:46:04.938Z"
      },
      {
        "duration": 9,
        "start_time": "2024-12-05T06:46:18.417Z"
      },
      {
        "duration": 11,
        "start_time": "2024-12-05T06:46:35.658Z"
      },
      {
        "duration": 117,
        "start_time": "2024-12-05T06:56:12.166Z"
      },
      {
        "duration": 60,
        "start_time": "2024-12-05T06:56:31.396Z"
      },
      {
        "duration": 3,
        "start_time": "2024-12-05T06:58:58.418Z"
      },
      {
        "duration": 3,
        "start_time": "2024-12-05T06:59:11.990Z"
      },
      {
        "duration": 3,
        "start_time": "2024-12-05T06:59:48.801Z"
      },
      {
        "duration": 7,
        "start_time": "2024-12-05T06:59:52.424Z"
      },
      {
        "duration": 12,
        "start_time": "2024-12-05T06:59:52.984Z"
      },
      {
        "duration": 8221,
        "start_time": "2024-12-05T07:04:56.921Z"
      },
      {
        "duration": 4,
        "start_time": "2024-12-05T07:05:06.138Z"
      },
      {
        "duration": 49,
        "start_time": "2024-12-05T07:05:09.210Z"
      },
      {
        "duration": 10,
        "start_time": "2024-12-05T07:05:09.777Z"
      },
      {
        "duration": 6,
        "start_time": "2024-12-05T07:05:10.379Z"
      },
      {
        "duration": 6,
        "start_time": "2024-12-05T07:05:12.003Z"
      },
      {
        "duration": 9,
        "start_time": "2024-12-05T07:05:12.738Z"
      },
      {
        "duration": 6,
        "start_time": "2024-12-05T07:05:15.307Z"
      },
      {
        "duration": 5,
        "start_time": "2024-12-05T07:05:16.290Z"
      },
      {
        "duration": 215,
        "start_time": "2024-12-05T07:05:16.939Z"
      },
      {
        "duration": 795,
        "start_time": "2024-12-05T07:05:20.162Z"
      },
      {
        "duration": 4,
        "start_time": "2024-12-05T07:05:25.089Z"
      },
      {
        "duration": 9,
        "start_time": "2024-12-05T07:05:26.252Z"
      },
      {
        "duration": 11,
        "start_time": "2024-12-05T07:05:26.961Z"
      },
      {
        "duration": 3,
        "start_time": "2024-12-05T07:05:31.226Z"
      },
      {
        "duration": 11,
        "start_time": "2024-12-05T07:05:32.251Z"
      },
      {
        "duration": 15,
        "start_time": "2024-12-05T07:05:33.596Z"
      },
      {
        "duration": 5,
        "start_time": "2024-12-05T07:06:35.116Z"
      },
      {
        "duration": 9,
        "start_time": "2024-12-05T07:06:44.604Z"
      },
      {
        "duration": 27,
        "start_time": "2024-12-05T07:07:08.508Z"
      },
      {
        "duration": 4,
        "start_time": "2024-12-05T07:07:18.884Z"
      },
      {
        "duration": 3,
        "start_time": "2024-12-05T07:07:24.924Z"
      },
      {
        "duration": 193171,
        "start_time": "2024-12-05T07:07:32.029Z"
      },
      {
        "duration": 11,
        "start_time": "2024-12-05T07:18:23.833Z"
      },
      {
        "duration": 4,
        "start_time": "2024-12-05T07:18:24.489Z"
      },
      {
        "duration": 13,
        "start_time": "2024-12-05T07:18:25.370Z"
      },
      {
        "duration": 44948,
        "start_time": "2024-12-05T07:18:27.156Z"
      },
      {
        "duration": 4,
        "start_time": "2024-12-05T07:22:31.203Z"
      },
      {
        "duration": 6,
        "start_time": "2024-12-05T07:22:32.502Z"
      },
      {
        "duration": 11,
        "start_time": "2024-12-05T07:22:33.227Z"
      },
      {
        "duration": 3,
        "start_time": "2024-12-05T07:22:40.198Z"
      },
      {
        "duration": 11,
        "start_time": "2024-12-05T07:22:40.701Z"
      },
      {
        "duration": 3,
        "start_time": "2024-12-05T07:22:42.684Z"
      },
      {
        "duration": 4,
        "start_time": "2024-12-05T07:22:51.684Z"
      },
      {
        "duration": 92427,
        "start_time": "2024-12-05T07:22:52.460Z"
      },
      {
        "duration": 11,
        "start_time": "2024-12-05T07:27:31.803Z"
      },
      {
        "duration": 13,
        "start_time": "2024-12-05T07:27:32.450Z"
      },
      {
        "duration": 14,
        "start_time": "2024-12-05T07:28:02.592Z"
      },
      {
        "duration": 3,
        "start_time": "2024-12-05T07:28:06.048Z"
      },
      {
        "duration": 4,
        "start_time": "2024-12-05T07:28:07.855Z"
      },
      {
        "duration": 103042,
        "start_time": "2024-12-05T07:28:09.244Z"
      },
      {
        "duration": 9,
        "start_time": "2024-12-05T07:36:24.196Z"
      },
      {
        "duration": 4,
        "start_time": "2024-12-05T07:36:25.269Z"
      },
      {
        "duration": 5,
        "start_time": "2024-12-05T07:36:27.515Z"
      },
      {
        "duration": 190378,
        "start_time": "2024-12-05T07:36:30.623Z"
      },
      {
        "duration": 9,
        "start_time": "2024-12-05T07:41:05.285Z"
      },
      {
        "duration": 4,
        "start_time": "2024-12-05T07:41:06.018Z"
      },
      {
        "duration": 5,
        "start_time": "2024-12-05T07:41:06.662Z"
      },
      {
        "duration": 1391121,
        "start_time": "2024-12-05T07:41:07.784Z"
      },
      {
        "duration": 9,
        "start_time": "2024-12-05T08:05:03.680Z"
      },
      {
        "duration": 15,
        "start_time": "2024-12-05T08:05:05.555Z"
      },
      {
        "duration": 4,
        "start_time": "2024-12-05T08:05:08.847Z"
      },
      {
        "duration": 9,
        "start_time": "2024-12-05T08:05:09.424Z"
      },
      {
        "duration": 4,
        "start_time": "2024-12-05T08:05:52.694Z"
      },
      {
        "duration": 5,
        "start_time": "2024-12-05T08:05:54.232Z"
      },
      {
        "duration": 1671598,
        "start_time": "2024-12-05T08:05:55.777Z"
      },
      {
        "duration": 7,
        "start_time": "2024-12-05T08:34:07.476Z"
      },
      {
        "duration": 16,
        "start_time": "2024-12-05T08:34:08.219Z"
      },
      {
        "duration": 8205,
        "start_time": "2024-12-05T08:34:22.911Z"
      },
      {
        "duration": 6,
        "start_time": "2024-12-05T08:34:31.119Z"
      },
      {
        "duration": 58,
        "start_time": "2024-12-05T08:34:31.127Z"
      },
      {
        "duration": 9,
        "start_time": "2024-12-05T08:34:31.187Z"
      },
      {
        "duration": 37,
        "start_time": "2024-12-05T08:34:31.198Z"
      },
      {
        "duration": 28,
        "start_time": "2024-12-05T08:34:31.237Z"
      },
      {
        "duration": 27,
        "start_time": "2024-12-05T08:34:31.266Z"
      },
      {
        "duration": 32,
        "start_time": "2024-12-05T08:34:31.295Z"
      },
      {
        "duration": 13,
        "start_time": "2024-12-05T08:34:31.328Z"
      },
      {
        "duration": 234,
        "start_time": "2024-12-05T08:34:31.343Z"
      },
      {
        "duration": 788,
        "start_time": "2024-12-05T08:34:31.579Z"
      },
      {
        "duration": 15,
        "start_time": "2024-12-05T08:34:32.368Z"
      },
      {
        "duration": 8,
        "start_time": "2024-12-05T08:34:34.742Z"
      },
      {
        "duration": 12,
        "start_time": "2024-12-05T08:34:35.405Z"
      },
      {
        "duration": 10,
        "start_time": "2024-12-05T08:34:44.948Z"
      },
      {
        "duration": 4,
        "start_time": "2024-12-05T08:35:04.429Z"
      },
      {
        "duration": 4,
        "start_time": "2024-12-05T08:35:06.021Z"
      },
      {
        "duration": 1063885,
        "start_time": "2024-12-05T08:35:06.693Z"
      },
      {
        "duration": 6,
        "start_time": "2024-12-05T09:04:31.101Z"
      },
      {
        "duration": 13,
        "start_time": "2024-12-05T09:04:34.036Z"
      },
      {
        "duration": 10,
        "start_time": "2024-12-05T09:04:41.380Z"
      },
      {
        "duration": 9,
        "start_time": "2024-12-05T09:06:16.134Z"
      },
      {
        "duration": 4,
        "start_time": "2024-12-05T09:06:16.145Z"
      },
      {
        "duration": 13,
        "start_time": "2024-12-05T09:06:16.150Z"
      },
      {
        "duration": 669628,
        "start_time": "2024-12-05T09:06:16.164Z"
      },
      {
        "duration": 8426,
        "start_time": "2024-12-05T09:17:53.928Z"
      },
      {
        "duration": 4,
        "start_time": "2024-12-05T09:18:02.357Z"
      },
      {
        "duration": 72,
        "start_time": "2024-12-05T09:18:02.363Z"
      },
      {
        "duration": 11,
        "start_time": "2024-12-05T09:18:02.437Z"
      },
      {
        "duration": 15,
        "start_time": "2024-12-05T09:18:02.450Z"
      },
      {
        "duration": 20,
        "start_time": "2024-12-05T09:18:02.467Z"
      },
      {
        "duration": 28,
        "start_time": "2024-12-05T09:18:02.489Z"
      },
      {
        "duration": 26,
        "start_time": "2024-12-05T09:18:02.518Z"
      },
      {
        "duration": 39,
        "start_time": "2024-12-05T09:18:02.545Z"
      },
      {
        "duration": 268,
        "start_time": "2024-12-05T09:18:02.586Z"
      },
      {
        "duration": 808,
        "start_time": "2024-12-05T09:18:02.855Z"
      },
      {
        "duration": 3,
        "start_time": "2024-12-05T09:18:03.664Z"
      },
      {
        "duration": 27,
        "start_time": "2024-12-05T09:18:03.671Z"
      },
      {
        "duration": 7,
        "start_time": "2024-12-05T09:18:03.701Z"
      },
      {
        "duration": 35,
        "start_time": "2024-12-05T09:18:03.709Z"
      },
      {
        "duration": 8,
        "start_time": "2024-12-05T09:18:03.745Z"
      },
      {
        "duration": 16,
        "start_time": "2024-12-05T09:18:03.754Z"
      },
      {
        "duration": 7,
        "start_time": "2024-12-05T09:18:03.772Z"
      },
      {
        "duration": 7,
        "start_time": "2024-12-05T09:18:03.780Z"
      },
      {
        "duration": 8193,
        "start_time": "2024-12-05T09:28:55.184Z"
      },
      {
        "duration": 1273,
        "start_time": "2024-12-05T09:29:03.379Z"
      },
      {
        "duration": 53,
        "start_time": "2024-12-05T09:29:04.653Z"
      },
      {
        "duration": 24,
        "start_time": "2024-12-05T09:29:04.708Z"
      },
      {
        "duration": 11,
        "start_time": "2024-12-05T09:29:04.734Z"
      },
      {
        "duration": 5,
        "start_time": "2024-12-05T09:29:04.747Z"
      },
      {
        "duration": 9,
        "start_time": "2024-12-05T09:29:04.753Z"
      },
      {
        "duration": 45,
        "start_time": "2024-12-05T09:29:04.764Z"
      },
      {
        "duration": 47,
        "start_time": "2024-12-05T09:29:04.811Z"
      },
      {
        "duration": 255,
        "start_time": "2024-12-05T09:29:04.861Z"
      },
      {
        "duration": 803,
        "start_time": "2024-12-05T09:29:05.117Z"
      },
      {
        "duration": 4,
        "start_time": "2024-12-05T09:29:05.921Z"
      },
      {
        "duration": 30,
        "start_time": "2024-12-05T09:29:05.926Z"
      },
      {
        "duration": 12,
        "start_time": "2024-12-05T09:29:05.958Z"
      },
      {
        "duration": 23,
        "start_time": "2024-12-05T09:29:05.971Z"
      },
      {
        "duration": 15,
        "start_time": "2024-12-05T09:29:05.996Z"
      },
      {
        "duration": 13,
        "start_time": "2024-12-05T09:29:06.012Z"
      },
      {
        "duration": 49,
        "start_time": "2024-12-05T09:29:06.027Z"
      },
      {
        "duration": 16,
        "start_time": "2024-12-05T09:29:06.078Z"
      },
      {
        "duration": 8046,
        "start_time": "2024-12-05T09:46:30.083Z"
      },
      {
        "duration": 8352,
        "start_time": "2024-12-05T09:46:46.268Z"
      },
      {
        "duration": 1186,
        "start_time": "2024-12-05T09:46:54.623Z"
      },
      {
        "duration": 44,
        "start_time": "2024-12-05T09:46:55.810Z"
      },
      {
        "duration": 9,
        "start_time": "2024-12-05T09:46:55.855Z"
      },
      {
        "duration": 25,
        "start_time": "2024-12-05T09:46:55.866Z"
      },
      {
        "duration": 6,
        "start_time": "2024-12-05T09:46:55.892Z"
      },
      {
        "duration": 10,
        "start_time": "2024-12-05T09:46:55.899Z"
      },
      {
        "duration": 15,
        "start_time": "2024-12-05T09:46:55.910Z"
      },
      {
        "duration": 5,
        "start_time": "2024-12-05T09:46:55.926Z"
      },
      {
        "duration": 253,
        "start_time": "2024-12-05T09:46:55.932Z"
      },
      {
        "duration": 735,
        "start_time": "2024-12-05T09:46:56.187Z"
      },
      {
        "duration": 4,
        "start_time": "2024-12-05T09:46:56.924Z"
      },
      {
        "duration": 37,
        "start_time": "2024-12-05T09:46:56.929Z"
      },
      {
        "duration": 6,
        "start_time": "2024-12-05T09:46:56.968Z"
      },
      {
        "duration": 13,
        "start_time": "2024-12-05T09:46:56.976Z"
      },
      {
        "duration": 4,
        "start_time": "2024-12-05T09:46:56.991Z"
      },
      {
        "duration": 10,
        "start_time": "2024-12-05T09:46:56.996Z"
      },
      {
        "duration": 3,
        "start_time": "2024-12-05T09:46:57.008Z"
      },
      {
        "duration": 51,
        "start_time": "2024-12-05T09:46:57.013Z"
      },
      {
        "duration": 961425,
        "start_time": "2024-12-05T09:46:57.066Z"
      },
      {
        "duration": 129,
        "start_time": "2024-12-05T10:11:53.191Z"
      },
      {
        "duration": 1089,
        "start_time": "2024-12-05T10:12:41.663Z"
      },
      {
        "duration": 225,
        "start_time": "2024-12-05T10:12:59.683Z"
      },
      {
        "duration": 279,
        "start_time": "2024-12-05T10:16:30.812Z"
      },
      {
        "duration": 803,
        "start_time": "2024-12-05T10:22:08.784Z"
      },
      {
        "duration": 741,
        "start_time": "2024-12-05T10:23:29.316Z"
      },
      {
        "duration": 609,
        "start_time": "2024-12-05T10:26:24.425Z"
      },
      {
        "duration": 734,
        "start_time": "2024-12-05T10:26:48.456Z"
      },
      {
        "duration": 4,
        "start_time": "2024-12-05T10:39:13.773Z"
      },
      {
        "duration": 7725,
        "start_time": "2024-12-05T10:57:04.193Z"
      },
      {
        "duration": 4,
        "start_time": "2024-12-05T10:57:11.920Z"
      },
      {
        "duration": 10,
        "start_time": "2024-12-05T10:57:11.926Z"
      },
      {
        "duration": 48,
        "start_time": "2024-12-05T10:57:11.938Z"
      },
      {
        "duration": 10,
        "start_time": "2024-12-05T10:57:11.987Z"
      },
      {
        "duration": 6,
        "start_time": "2024-12-05T10:57:11.998Z"
      },
      {
        "duration": 8,
        "start_time": "2024-12-05T10:57:12.005Z"
      },
      {
        "duration": 13,
        "start_time": "2024-12-05T10:57:12.014Z"
      },
      {
        "duration": 649,
        "start_time": "2024-12-05T10:57:12.028Z"
      },
      {
        "duration": 8,
        "start_time": "2024-12-05T10:57:12.679Z"
      },
      {
        "duration": 21,
        "start_time": "2024-12-05T10:57:12.689Z"
      },
      {
        "duration": 102,
        "start_time": "2024-12-05T10:57:12.711Z"
      },
      {
        "duration": 25,
        "start_time": "2024-12-05T10:57:12.814Z"
      },
      {
        "duration": 4,
        "start_time": "2024-12-05T10:57:12.840Z"
      },
      {
        "duration": 57,
        "start_time": "2024-12-05T10:57:12.846Z"
      },
      {
        "duration": 0,
        "start_time": "2024-12-05T10:57:12.905Z"
      },
      {
        "duration": 5,
        "start_time": "2024-12-05T10:57:29.220Z"
      },
      {
        "duration": 9343,
        "start_time": "2024-12-05T10:57:35.377Z"
      },
      {
        "duration": 4,
        "start_time": "2024-12-05T10:57:44.723Z"
      },
      {
        "duration": 34,
        "start_time": "2024-12-05T10:57:44.728Z"
      },
      {
        "duration": 51,
        "start_time": "2024-12-05T10:57:44.763Z"
      },
      {
        "duration": 9,
        "start_time": "2024-12-05T10:57:44.815Z"
      },
      {
        "duration": 6,
        "start_time": "2024-12-05T10:57:44.825Z"
      },
      {
        "duration": 5,
        "start_time": "2024-12-05T10:57:44.832Z"
      },
      {
        "duration": 8,
        "start_time": "2024-12-05T10:57:44.838Z"
      },
      {
        "duration": 659,
        "start_time": "2024-12-05T10:57:44.848Z"
      },
      {
        "duration": 9,
        "start_time": "2024-12-05T10:57:45.508Z"
      },
      {
        "duration": 9,
        "start_time": "2024-12-05T10:57:45.518Z"
      },
      {
        "duration": 12,
        "start_time": "2024-12-05T10:57:45.528Z"
      },
      {
        "duration": 10,
        "start_time": "2024-12-05T10:57:45.541Z"
      },
      {
        "duration": 4,
        "start_time": "2024-12-05T10:57:45.553Z"
      },
      {
        "duration": 4,
        "start_time": "2024-12-05T10:57:45.584Z"
      },
      {
        "duration": 7897,
        "start_time": "2024-12-05T10:57:51.365Z"
      },
      {
        "duration": 5,
        "start_time": "2024-12-05T10:57:59.264Z"
      },
      {
        "duration": 32,
        "start_time": "2024-12-05T10:57:59.270Z"
      },
      {
        "duration": 62,
        "start_time": "2024-12-05T10:57:59.304Z"
      },
      {
        "duration": 9,
        "start_time": "2024-12-05T10:57:59.367Z"
      },
      {
        "duration": 12,
        "start_time": "2024-12-05T10:57:59.378Z"
      },
      {
        "duration": 6,
        "start_time": "2024-12-05T10:57:59.391Z"
      },
      {
        "duration": 5,
        "start_time": "2024-12-05T10:57:59.399Z"
      },
      {
        "duration": 669,
        "start_time": "2024-12-05T10:57:59.405Z"
      },
      {
        "duration": 9,
        "start_time": "2024-12-05T10:58:00.076Z"
      },
      {
        "duration": 31,
        "start_time": "2024-12-05T10:58:00.086Z"
      },
      {
        "duration": 38,
        "start_time": "2024-12-05T10:58:00.119Z"
      },
      {
        "duration": 50,
        "start_time": "2024-12-05T10:58:00.158Z"
      },
      {
        "duration": 23,
        "start_time": "2024-12-05T10:58:00.210Z"
      },
      {
        "duration": 108,
        "start_time": "2024-12-05T10:58:00.235Z"
      },
      {
        "duration": 1456729,
        "start_time": "2024-12-05T10:58:00.344Z"
      },
      {
        "duration": 14435,
        "start_time": "2024-12-09T09:00:49.866Z"
      },
      {
        "duration": 1597,
        "start_time": "2024-12-09T09:01:04.303Z"
      },
      {
        "duration": 5,
        "start_time": "2024-12-09T09:01:05.902Z"
      },
      {
        "duration": 5,
        "start_time": "2024-12-09T09:02:14.339Z"
      },
      {
        "duration": 103,
        "start_time": "2024-12-09T09:02:23.250Z"
      },
      {
        "duration": 12,
        "start_time": "2024-12-09T09:02:26.499Z"
      },
      {
        "duration": 11,
        "start_time": "2024-12-09T09:02:29.650Z"
      },
      {
        "duration": 10,
        "start_time": "2024-12-09T09:02:33.538Z"
      },
      {
        "duration": 7,
        "start_time": "2024-12-09T09:02:36.483Z"
      },
      {
        "duration": 823,
        "start_time": "2024-12-09T09:02:39.827Z"
      },
      {
        "duration": 8,
        "start_time": "2024-12-09T09:07:59.349Z"
      },
      {
        "duration": 7,
        "start_time": "2024-12-09T09:10:08.839Z"
      },
      {
        "duration": 6,
        "start_time": "2024-12-09T09:10:18.329Z"
      },
      {
        "duration": 944,
        "start_time": "2024-12-09T09:12:35.027Z"
      },
      {
        "duration": 341,
        "start_time": "2024-12-09T09:28:02.592Z"
      },
      {
        "duration": 301,
        "start_time": "2024-12-09T09:28:16.495Z"
      },
      {
        "duration": 313,
        "start_time": "2024-12-09T09:28:30.580Z"
      },
      {
        "duration": 316,
        "start_time": "2024-12-09T09:29:23.211Z"
      },
      {
        "duration": 398,
        "start_time": "2024-12-09T09:30:44.249Z"
      },
      {
        "duration": 12,
        "start_time": "2024-12-09T09:38:21.085Z"
      },
      {
        "duration": 14,
        "start_time": "2024-12-09T09:38:41.417Z"
      },
      {
        "duration": 7,
        "start_time": "2024-12-09T09:44:10.642Z"
      },
      {
        "duration": 16,
        "start_time": "2024-12-09T09:54:59.454Z"
      },
      {
        "duration": 13,
        "start_time": "2024-12-09T09:55:16.712Z"
      },
      {
        "duration": 4,
        "start_time": "2024-12-09T09:55:30.936Z"
      },
      {
        "duration": 6,
        "start_time": "2024-12-09T09:55:36.993Z"
      },
      {
        "duration": 224,
        "start_time": "2024-12-09T10:18:03.499Z"
      },
      {
        "duration": 4,
        "start_time": "2024-12-09T10:18:28.326Z"
      },
      {
        "duration": 67499,
        "start_time": "2024-12-09T10:19:07.002Z"
      },
      {
        "duration": 11,
        "start_time": "2024-12-09T10:21:16.511Z"
      },
      {
        "duration": 5,
        "start_time": "2024-12-09T10:21:17.701Z"
      },
      {
        "duration": 7,
        "start_time": "2024-12-09T10:21:19.292Z"
      },
      {
        "duration": 666400,
        "start_time": "2024-12-09T10:21:19.766Z"
      },
      {
        "duration": 2,
        "start_time": "2024-12-09T10:40:44.618Z"
      },
      {
        "duration": 3,
        "start_time": "2024-12-09T10:40:45.627Z"
      },
      {
        "duration": 16,
        "start_time": "2024-12-09T10:43:12.690Z"
      },
      {
        "duration": 10,
        "start_time": "2024-12-09T10:43:36.550Z"
      },
      {
        "duration": 8,
        "start_time": "2024-12-09T10:44:18.181Z"
      },
      {
        "duration": 12794,
        "start_time": "2024-12-09T11:24:41.798Z"
      },
      {
        "duration": 15,
        "start_time": "2024-12-09T11:24:58.892Z"
      },
      {
        "duration": 7359,
        "start_time": "2024-12-09T11:25:11.242Z"
      },
      {
        "duration": 16,
        "start_time": "2024-12-09T11:25:20.207Z"
      },
      {
        "duration": 4917,
        "start_time": "2024-12-09T11:25:51.595Z"
      },
      {
        "duration": 19,
        "start_time": "2024-12-09T11:25:58.140Z"
      },
      {
        "duration": 4861,
        "start_time": "2024-12-09T11:27:22.201Z"
      },
      {
        "duration": 1500,
        "start_time": "2024-12-09T11:27:29.618Z"
      },
      {
        "duration": 4,
        "start_time": "2024-12-09T11:27:36.753Z"
      },
      {
        "duration": 97,
        "start_time": "2024-12-09T11:27:38.661Z"
      },
      {
        "duration": 11,
        "start_time": "2024-12-09T11:27:39.325Z"
      },
      {
        "duration": 10,
        "start_time": "2024-12-09T11:27:39.673Z"
      },
      {
        "duration": 9,
        "start_time": "2024-12-09T11:27:40.914Z"
      },
      {
        "duration": 6,
        "start_time": "2024-12-09T11:27:41.873Z"
      },
      {
        "duration": 749,
        "start_time": "2024-12-09T11:27:42.554Z"
      },
      {
        "duration": 6,
        "start_time": "2024-12-09T11:27:43.565Z"
      },
      {
        "duration": 6,
        "start_time": "2024-12-09T11:27:43.837Z"
      },
      {
        "duration": 337,
        "start_time": "2024-12-09T11:27:44.137Z"
      },
      {
        "duration": 10,
        "start_time": "2024-12-09T11:27:45.653Z"
      },
      {
        "duration": 14,
        "start_time": "2024-12-09T11:27:45.921Z"
      },
      {
        "duration": 2,
        "start_time": "2024-12-09T11:27:46.301Z"
      },
      {
        "duration": 6,
        "start_time": "2024-12-09T11:27:47.605Z"
      },
      {
        "duration": 14,
        "start_time": "2024-12-09T11:27:48.834Z"
      },
      {
        "duration": 11,
        "start_time": "2024-12-09T11:27:49.965Z"
      },
      {
        "duration": 4,
        "start_time": "2024-12-09T11:27:50.654Z"
      },
      {
        "duration": 4,
        "start_time": "2024-12-09T11:27:50.963Z"
      },
      {
        "duration": 153099,
        "start_time": "2024-12-09T11:27:51.350Z"
      },
      {
        "duration": 3,
        "start_time": "2024-12-09T11:32:31.213Z"
      },
      {
        "duration": 3,
        "start_time": "2024-12-09T11:32:31.834Z"
      },
      {
        "duration": 14,
        "start_time": "2024-12-09T11:32:32.385Z"
      },
      {
        "duration": 6,
        "start_time": "2024-12-09T11:32:32.841Z"
      },
      {
        "duration": 7,
        "start_time": "2024-12-09T11:32:34.262Z"
      },
      {
        "duration": 123,
        "start_time": "2024-12-09T11:32:34.841Z"
      },
      {
        "duration": 4,
        "start_time": "2024-12-09T11:33:08.681Z"
      },
      {
        "duration": 3,
        "start_time": "2024-12-09T11:33:27.233Z"
      },
      {
        "duration": 16,
        "start_time": "2024-12-09T11:34:02.529Z"
      },
      {
        "duration": 2,
        "start_time": "2024-12-09T11:34:20.262Z"
      },
      {
        "duration": 8,
        "start_time": "2024-12-09T11:34:36.182Z"
      },
      {
        "duration": 4,
        "start_time": "2024-12-09T11:35:05.721Z"
      },
      {
        "duration": 9,
        "start_time": "2024-12-09T11:35:06.784Z"
      },
      {
        "duration": 19,
        "start_time": "2024-12-09T11:35:59.049Z"
      },
      {
        "duration": 28,
        "start_time": "2024-12-09T11:38:56.481Z"
      },
      {
        "duration": 2,
        "start_time": "2024-12-09T11:39:06.113Z"
      },
      {
        "duration": 3,
        "start_time": "2024-12-09T11:39:06.665Z"
      },
      {
        "duration": 14,
        "start_time": "2024-12-09T11:39:07.457Z"
      },
      {
        "duration": 12,
        "start_time": "2024-12-09T11:39:08.041Z"
      },
      {
        "duration": 5,
        "start_time": "2024-12-09T11:39:22.053Z"
      },
      {
        "duration": 17,
        "start_time": "2024-12-09T11:39:22.904Z"
      },
      {
        "duration": 19815,
        "start_time": "2024-12-09T11:39:49.982Z"
      },
      {
        "duration": 17,
        "start_time": "2024-12-09T11:40:40.613Z"
      },
      {
        "duration": 20,
        "start_time": "2024-12-09T11:42:51.014Z"
      },
      {
        "duration": 11,
        "start_time": "2024-12-09T11:58:08.973Z"
      },
      {
        "duration": 9,
        "start_time": "2024-12-09T12:00:27.509Z"
      },
      {
        "duration": 10,
        "start_time": "2024-12-09T12:00:37.013Z"
      },
      {
        "duration": 7,
        "start_time": "2024-12-09T12:01:21.341Z"
      },
      {
        "duration": 10,
        "start_time": "2024-12-09T12:01:25.037Z"
      },
      {
        "duration": 4901,
        "start_time": "2024-12-09T12:02:23.733Z"
      },
      {
        "duration": 5,
        "start_time": "2024-12-09T12:02:28.637Z"
      },
      {
        "duration": 46,
        "start_time": "2024-12-09T12:02:28.644Z"
      },
      {
        "duration": 74,
        "start_time": "2024-12-09T12:02:28.692Z"
      },
      {
        "duration": 11,
        "start_time": "2024-12-09T12:02:28.767Z"
      },
      {
        "duration": 7,
        "start_time": "2024-12-09T12:02:28.780Z"
      },
      {
        "duration": 16,
        "start_time": "2024-12-09T12:02:28.788Z"
      },
      {
        "duration": 31,
        "start_time": "2024-12-09T12:02:28.806Z"
      },
      {
        "duration": 1748,
        "start_time": "2024-12-09T12:02:28.839Z"
      },
      {
        "duration": 6,
        "start_time": "2024-12-09T12:02:30.590Z"
      },
      {
        "duration": 27,
        "start_time": "2024-12-09T12:02:30.597Z"
      },
      {
        "duration": 272,
        "start_time": "2024-12-09T12:02:30.626Z"
      },
      {
        "duration": 11,
        "start_time": "2024-12-09T12:02:30.900Z"
      },
      {
        "duration": 67,
        "start_time": "2024-12-09T12:02:30.912Z"
      },
      {
        "duration": 7,
        "start_time": "2024-12-09T12:02:30.981Z"
      },
      {
        "duration": 20,
        "start_time": "2024-12-09T12:02:30.990Z"
      },
      {
        "duration": 14,
        "start_time": "2024-12-09T12:02:31.012Z"
      },
      {
        "duration": 23,
        "start_time": "2024-12-09T12:02:31.028Z"
      },
      {
        "duration": 20,
        "start_time": "2024-12-09T12:02:31.052Z"
      },
      {
        "duration": 15,
        "start_time": "2024-12-09T12:02:31.073Z"
      },
      {
        "duration": 149440,
        "start_time": "2024-12-09T12:02:31.090Z"
      },
      {
        "duration": 3,
        "start_time": "2024-12-09T12:05:00.532Z"
      },
      {
        "duration": 24,
        "start_time": "2024-12-09T12:05:00.537Z"
      },
      {
        "duration": 29,
        "start_time": "2024-12-09T12:05:00.563Z"
      },
      {
        "duration": 37,
        "start_time": "2024-12-09T12:05:00.593Z"
      },
      {
        "duration": 4,
        "start_time": "2024-12-09T12:05:00.631Z"
      },
      {
        "duration": 3,
        "start_time": "2024-12-09T12:06:02.981Z"
      },
      {
        "duration": 4,
        "start_time": "2024-12-09T12:06:09.221Z"
      },
      {
        "duration": 12,
        "start_time": "2024-12-09T12:06:13.693Z"
      },
      {
        "duration": 20013,
        "start_time": "2024-12-09T12:06:21.720Z"
      },
      {
        "duration": 86976,
        "start_time": "2024-12-09T12:06:58.261Z"
      },
      {
        "duration": 317,
        "start_time": "2024-12-09T12:08:45.102Z"
      },
      {
        "duration": 315,
        "start_time": "2024-12-09T12:11:50.369Z"
      },
      {
        "duration": 10195,
        "start_time": "2024-12-09T14:07:28.686Z"
      },
      {
        "duration": 1439,
        "start_time": "2024-12-09T14:07:38.883Z"
      },
      {
        "duration": 4,
        "start_time": "2024-12-09T14:07:40.323Z"
      },
      {
        "duration": 188,
        "start_time": "2024-12-09T14:07:40.329Z"
      },
      {
        "duration": 12,
        "start_time": "2024-12-09T14:07:40.518Z"
      },
      {
        "duration": 94,
        "start_time": "2024-12-09T14:07:40.532Z"
      },
      {
        "duration": 24,
        "start_time": "2024-12-09T14:07:40.628Z"
      },
      {
        "duration": 7,
        "start_time": "2024-12-09T14:07:40.654Z"
      },
      {
        "duration": 791,
        "start_time": "2024-12-09T14:07:40.662Z"
      },
      {
        "duration": 6,
        "start_time": "2024-12-09T14:07:41.457Z"
      },
      {
        "duration": 86,
        "start_time": "2024-12-09T14:07:41.465Z"
      },
      {
        "duration": 318,
        "start_time": "2024-12-09T14:07:41.553Z"
      },
      {
        "duration": 10,
        "start_time": "2024-12-09T14:07:41.874Z"
      },
      {
        "duration": 27,
        "start_time": "2024-12-09T14:07:41.885Z"
      },
      {
        "duration": 9,
        "start_time": "2024-12-09T14:07:41.914Z"
      },
      {
        "duration": 14,
        "start_time": "2024-12-09T14:07:41.925Z"
      },
      {
        "duration": 25,
        "start_time": "2024-12-09T14:07:41.941Z"
      },
      {
        "duration": 28,
        "start_time": "2024-12-09T14:07:41.968Z"
      },
      {
        "duration": 5,
        "start_time": "2024-12-09T14:07:41.998Z"
      },
      {
        "duration": 19,
        "start_time": "2024-12-09T14:07:42.004Z"
      },
      {
        "duration": 189048,
        "start_time": "2024-12-09T14:07:42.025Z"
      },
      {
        "duration": 4,
        "start_time": "2024-12-09T14:10:51.074Z"
      },
      {
        "duration": 125,
        "start_time": "2024-12-09T14:10:51.079Z"
      },
      {
        "duration": 30,
        "start_time": "2024-12-09T14:10:51.205Z"
      },
      {
        "duration": 10,
        "start_time": "2024-12-09T14:10:51.236Z"
      },
      {
        "duration": 9,
        "start_time": "2024-12-09T14:10:51.252Z"
      },
      {
        "duration": 28,
        "start_time": "2024-12-09T14:10:51.263Z"
      },
      {
        "duration": 8,
        "start_time": "2024-12-09T14:10:51.294Z"
      },
      {
        "duration": 11,
        "start_time": "2024-12-09T14:10:51.303Z"
      },
      {
        "duration": 324,
        "start_time": "2024-12-09T14:10:51.316Z"
      },
      {
        "duration": 5,
        "start_time": "2024-12-09T14:15:21.196Z"
      },
      {
        "duration": 14,
        "start_time": "2024-12-09T14:15:24.446Z"
      },
      {
        "duration": 10,
        "start_time": "2024-12-09T14:15:37.978Z"
      },
      {
        "duration": 4,
        "start_time": "2024-12-09T14:15:38.493Z"
      },
      {
        "duration": 5,
        "start_time": "2024-12-09T14:15:39.666Z"
      },
      {
        "duration": 157242,
        "start_time": "2024-12-09T14:15:42.332Z"
      },
      {
        "duration": 77,
        "start_time": "2024-12-09T14:18:19.576Z"
      },
      {
        "duration": 16,
        "start_time": "2024-12-09T14:18:19.655Z"
      },
      {
        "duration": 23,
        "start_time": "2024-12-09T14:18:19.673Z"
      },
      {
        "duration": 55,
        "start_time": "2024-12-09T14:18:19.698Z"
      },
      {
        "duration": 5,
        "start_time": "2024-12-09T14:18:19.755Z"
      },
      {
        "duration": 12,
        "start_time": "2024-12-09T14:18:19.761Z"
      },
      {
        "duration": 181,
        "start_time": "2024-12-09T14:18:19.774Z"
      },
      {
        "duration": 0,
        "start_time": "2024-12-09T14:18:19.957Z"
      },
      {
        "duration": 0,
        "start_time": "2024-12-09T14:18:19.958Z"
      },
      {
        "duration": 5,
        "start_time": "2024-12-09T14:23:16.811Z"
      },
      {
        "duration": 10015,
        "start_time": "2024-12-09T15:28:23.289Z"
      },
      {
        "duration": 1458,
        "start_time": "2024-12-09T15:28:33.306Z"
      },
      {
        "duration": 5,
        "start_time": "2024-12-09T15:28:34.766Z"
      },
      {
        "duration": 189,
        "start_time": "2024-12-09T15:28:34.773Z"
      },
      {
        "duration": 13,
        "start_time": "2024-12-09T15:28:34.964Z"
      },
      {
        "duration": 34,
        "start_time": "2024-12-09T15:28:34.979Z"
      },
      {
        "duration": 8,
        "start_time": "2024-12-09T15:28:35.014Z"
      },
      {
        "duration": 6,
        "start_time": "2024-12-09T15:28:35.023Z"
      },
      {
        "duration": 831,
        "start_time": "2024-12-09T15:28:35.030Z"
      },
      {
        "duration": 7,
        "start_time": "2024-12-09T15:28:35.862Z"
      },
      {
        "duration": 27,
        "start_time": "2024-12-09T15:28:35.871Z"
      },
      {
        "duration": 326,
        "start_time": "2024-12-09T15:28:35.899Z"
      },
      {
        "duration": 9,
        "start_time": "2024-12-09T15:28:36.226Z"
      },
      {
        "duration": 26,
        "start_time": "2024-12-09T15:28:36.237Z"
      },
      {
        "duration": 3,
        "start_time": "2024-12-09T15:28:36.265Z"
      },
      {
        "duration": 140,
        "start_time": "2024-12-09T15:28:56.842Z"
      },
      {
        "duration": 6,
        "start_time": "2024-12-09T15:29:10.527Z"
      },
      {
        "duration": 12,
        "start_time": "2024-12-09T15:29:30.985Z"
      },
      {
        "duration": 11,
        "start_time": "2024-12-09T15:29:33.105Z"
      },
      {
        "duration": 5,
        "start_time": "2024-12-09T15:29:35.847Z"
      },
      {
        "duration": 5,
        "start_time": "2024-12-09T15:29:36.613Z"
      },
      {
        "duration": 211267,
        "start_time": "2024-12-09T15:29:37.207Z"
      },
      {
        "duration": 78,
        "start_time": "2024-12-09T15:33:08.476Z"
      },
      {
        "duration": 28,
        "start_time": "2024-12-09T15:33:08.556Z"
      },
      {
        "duration": 41,
        "start_time": "2024-12-09T15:33:08.586Z"
      },
      {
        "duration": 32,
        "start_time": "2024-12-09T15:33:08.628Z"
      },
      {
        "duration": 5,
        "start_time": "2024-12-09T15:33:08.662Z"
      },
      {
        "duration": 86,
        "start_time": "2024-12-09T15:33:08.668Z"
      },
      {
        "duration": 16,
        "start_time": "2024-12-09T15:33:08.755Z"
      },
      {
        "duration": 56,
        "start_time": "2024-12-09T15:33:08.772Z"
      },
      {
        "duration": 347,
        "start_time": "2024-12-09T15:33:08.831Z"
      }
    ],
    "kernelspec": {
      "display_name": "Python 3 (ipykernel)",
      "language": "python",
      "name": "python3"
    },
    "language_info": {
      "codemirror_mode": {
        "name": "ipython",
        "version": 3
      },
      "file_extension": ".py",
      "mimetype": "text/x-python",
      "name": "python",
      "nbconvert_exporter": "python",
      "pygments_lexer": "ipython3",
      "version": "3.9.5"
    },
    "toc": {
      "base_numbering": 1,
      "nav_menu": {},
      "number_sections": true,
      "sideBar": true,
      "skip_h1_title": true,
      "title_cell": "Содержание",
      "title_sidebar": "Contents",
      "toc_cell": true,
      "toc_position": {},
      "toc_section_display": true,
      "toc_window_display": true
    },
    "colab": {
      "provenance": []
    }
  },
  "nbformat": 4,
  "nbformat_minor": 0
}