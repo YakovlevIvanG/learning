{
  "cells": [
    {
      "cell_type": "markdown",
      "metadata": {
        "id": "-VFbjcb3Awb7"
      },
      "source": [
        "# Исследование объявлений о продаже квартир\n",
        "\n",
        "В вашем распоряжении данные сервиса Яндекс Недвижимость — архив объявлений о продаже квартир в Санкт-Петербурге и соседних населённых пунктах за несколько лет. Вам нужно научиться определять рыночную стоимость объектов недвижимости. Для этого проведите исследовательский анализ данных и установите параметры, влияющие на цену объектов. Это позволит построить автоматизированную систему: она отследит аномалии и мошенническую деятельность.\n",
        "\n",
        "По каждой квартире на продажу доступны два вида данных. Первые вписаны пользователем, вторые — получены автоматически на основе картографических данных. Например, расстояние до центра, аэропорта и других объектов — эти данные автоматически получены из геосервисов. Количество парков и водоёмов также заполняется без участия пользователя."
      ]
    },
    {
      "cell_type": "markdown",
      "metadata": {
        "id": "cb55E9LqDouC"
      },
      "source": [
        "**Предоставленные данные**  \n",
        "Архив объявлений о продаже квартир в Ленинградской области с 2014 по 2019 год. Всего 23699 строк.\n",
        "\n",
        "**План работы**\n",
        "1. Ознакомится с предоставленными данными.\n",
        "2. Заполнить пропуски, где это возможно.\n",
        "3. Исправить аномальные значения и ошибки ввода, если такие найдутся.\n",
        "4. Исключить редкие, выделяющиеся данные.\n",
        "5. Провести анализ факторов, влияющих на стоимость квартиры."
      ]
    },
    {
      "cell_type": "markdown",
      "metadata": {
        "id": "aeFLH07FAwb9"
      },
      "source": [
        "### Изучение общей информации"
      ]
    },
    {
      "cell_type": "code",
      "execution_count": null,
      "metadata": {
        "id": "7MZxY65pAwb9",
        "outputId": "47ecab0b-903e-439f-b63e-af8985aefd04"
      },
      "outputs": [
        {
          "data": {
            "text/html": [
              "<div>\n",
              "<style scoped>\n",
              "    .dataframe tbody tr th:only-of-type {\n",
              "        vertical-align: middle;\n",
              "    }\n",
              "\n",
              "    .dataframe tbody tr th {\n",
              "        vertical-align: top;\n",
              "    }\n",
              "\n",
              "    .dataframe thead th {\n",
              "        text-align: right;\n",
              "    }\n",
              "</style>\n",
              "<table border=\"1\" class=\"dataframe\">\n",
              "  <thead>\n",
              "    <tr style=\"text-align: right;\">\n",
              "      <th></th>\n",
              "      <th>total_images</th>\n",
              "      <th>last_price</th>\n",
              "      <th>total_area</th>\n",
              "      <th>first_day_exposition</th>\n",
              "      <th>rooms</th>\n",
              "      <th>ceiling_height</th>\n",
              "      <th>floors_total</th>\n",
              "      <th>living_area</th>\n",
              "      <th>floor</th>\n",
              "      <th>is_apartment</th>\n",
              "      <th>...</th>\n",
              "      <th>kitchen_area</th>\n",
              "      <th>balcony</th>\n",
              "      <th>locality_name</th>\n",
              "      <th>airports_nearest</th>\n",
              "      <th>cityCenters_nearest</th>\n",
              "      <th>parks_around3000</th>\n",
              "      <th>parks_nearest</th>\n",
              "      <th>ponds_around3000</th>\n",
              "      <th>ponds_nearest</th>\n",
              "      <th>days_exposition</th>\n",
              "    </tr>\n",
              "  </thead>\n",
              "  <tbody>\n",
              "    <tr>\n",
              "      <th>0</th>\n",
              "      <td>20</td>\n",
              "      <td>13000000.0</td>\n",
              "      <td>108.0</td>\n",
              "      <td>2019-03-07T00:00:00</td>\n",
              "      <td>3</td>\n",
              "      <td>2.70</td>\n",
              "      <td>16.0</td>\n",
              "      <td>51.0</td>\n",
              "      <td>8</td>\n",
              "      <td>NaN</td>\n",
              "      <td>...</td>\n",
              "      <td>25.0</td>\n",
              "      <td>NaN</td>\n",
              "      <td>Санкт-Петербург</td>\n",
              "      <td>18863.0</td>\n",
              "      <td>16028.0</td>\n",
              "      <td>1.0</td>\n",
              "      <td>482.0</td>\n",
              "      <td>2.0</td>\n",
              "      <td>755.0</td>\n",
              "      <td>NaN</td>\n",
              "    </tr>\n",
              "    <tr>\n",
              "      <th>1</th>\n",
              "      <td>7</td>\n",
              "      <td>3350000.0</td>\n",
              "      <td>40.4</td>\n",
              "      <td>2018-12-04T00:00:00</td>\n",
              "      <td>1</td>\n",
              "      <td>NaN</td>\n",
              "      <td>11.0</td>\n",
              "      <td>18.6</td>\n",
              "      <td>1</td>\n",
              "      <td>NaN</td>\n",
              "      <td>...</td>\n",
              "      <td>11.0</td>\n",
              "      <td>2.0</td>\n",
              "      <td>посёлок Шушары</td>\n",
              "      <td>12817.0</td>\n",
              "      <td>18603.0</td>\n",
              "      <td>0.0</td>\n",
              "      <td>NaN</td>\n",
              "      <td>0.0</td>\n",
              "      <td>NaN</td>\n",
              "      <td>81.0</td>\n",
              "    </tr>\n",
              "    <tr>\n",
              "      <th>2</th>\n",
              "      <td>10</td>\n",
              "      <td>5196000.0</td>\n",
              "      <td>56.0</td>\n",
              "      <td>2015-08-20T00:00:00</td>\n",
              "      <td>2</td>\n",
              "      <td>NaN</td>\n",
              "      <td>5.0</td>\n",
              "      <td>34.3</td>\n",
              "      <td>4</td>\n",
              "      <td>NaN</td>\n",
              "      <td>...</td>\n",
              "      <td>8.3</td>\n",
              "      <td>0.0</td>\n",
              "      <td>Санкт-Петербург</td>\n",
              "      <td>21741.0</td>\n",
              "      <td>13933.0</td>\n",
              "      <td>1.0</td>\n",
              "      <td>90.0</td>\n",
              "      <td>2.0</td>\n",
              "      <td>574.0</td>\n",
              "      <td>558.0</td>\n",
              "    </tr>\n",
              "    <tr>\n",
              "      <th>3</th>\n",
              "      <td>0</td>\n",
              "      <td>64900000.0</td>\n",
              "      <td>159.0</td>\n",
              "      <td>2015-07-24T00:00:00</td>\n",
              "      <td>3</td>\n",
              "      <td>NaN</td>\n",
              "      <td>14.0</td>\n",
              "      <td>NaN</td>\n",
              "      <td>9</td>\n",
              "      <td>NaN</td>\n",
              "      <td>...</td>\n",
              "      <td>NaN</td>\n",
              "      <td>0.0</td>\n",
              "      <td>Санкт-Петербург</td>\n",
              "      <td>28098.0</td>\n",
              "      <td>6800.0</td>\n",
              "      <td>2.0</td>\n",
              "      <td>84.0</td>\n",
              "      <td>3.0</td>\n",
              "      <td>234.0</td>\n",
              "      <td>424.0</td>\n",
              "    </tr>\n",
              "    <tr>\n",
              "      <th>4</th>\n",
              "      <td>2</td>\n",
              "      <td>10000000.0</td>\n",
              "      <td>100.0</td>\n",
              "      <td>2018-06-19T00:00:00</td>\n",
              "      <td>2</td>\n",
              "      <td>3.03</td>\n",
              "      <td>14.0</td>\n",
              "      <td>32.0</td>\n",
              "      <td>13</td>\n",
              "      <td>NaN</td>\n",
              "      <td>...</td>\n",
              "      <td>41.0</td>\n",
              "      <td>NaN</td>\n",
              "      <td>Санкт-Петербург</td>\n",
              "      <td>31856.0</td>\n",
              "      <td>8098.0</td>\n",
              "      <td>2.0</td>\n",
              "      <td>112.0</td>\n",
              "      <td>1.0</td>\n",
              "      <td>48.0</td>\n",
              "      <td>121.0</td>\n",
              "    </tr>\n",
              "  </tbody>\n",
              "</table>\n",
              "<p>5 rows × 22 columns</p>\n",
              "</div>"
            ],
            "text/plain": [
              "   total_images  last_price  total_area first_day_exposition  rooms  \\\n",
              "0            20  13000000.0       108.0  2019-03-07T00:00:00      3   \n",
              "1             7   3350000.0        40.4  2018-12-04T00:00:00      1   \n",
              "2            10   5196000.0        56.0  2015-08-20T00:00:00      2   \n",
              "3             0  64900000.0       159.0  2015-07-24T00:00:00      3   \n",
              "4             2  10000000.0       100.0  2018-06-19T00:00:00      2   \n",
              "\n",
              "   ceiling_height  floors_total  living_area  floor is_apartment  ...  \\\n",
              "0            2.70          16.0         51.0      8          NaN  ...   \n",
              "1             NaN          11.0         18.6      1          NaN  ...   \n",
              "2             NaN           5.0         34.3      4          NaN  ...   \n",
              "3             NaN          14.0          NaN      9          NaN  ...   \n",
              "4            3.03          14.0         32.0     13          NaN  ...   \n",
              "\n",
              "   kitchen_area  balcony    locality_name  airports_nearest  \\\n",
              "0          25.0      NaN  Санкт-Петербург           18863.0   \n",
              "1          11.0      2.0   посёлок Шушары           12817.0   \n",
              "2           8.3      0.0  Санкт-Петербург           21741.0   \n",
              "3           NaN      0.0  Санкт-Петербург           28098.0   \n",
              "4          41.0      NaN  Санкт-Петербург           31856.0   \n",
              "\n",
              "  cityCenters_nearest  parks_around3000  parks_nearest  ponds_around3000  \\\n",
              "0             16028.0               1.0          482.0               2.0   \n",
              "1             18603.0               0.0            NaN               0.0   \n",
              "2             13933.0               1.0           90.0               2.0   \n",
              "3              6800.0               2.0           84.0               3.0   \n",
              "4              8098.0               2.0          112.0               1.0   \n",
              "\n",
              "   ponds_nearest  days_exposition  \n",
              "0          755.0              NaN  \n",
              "1            NaN             81.0  \n",
              "2          574.0            558.0  \n",
              "3          234.0            424.0  \n",
              "4           48.0            121.0  \n",
              "\n",
              "[5 rows x 22 columns]"
            ]
          },
          "execution_count": 115,
          "metadata": {},
          "output_type": "execute_result"
        }
      ],
      "source": [
        "import pandas as pd\n",
        "\n",
        "data = pd.read_csv('/datasets/real_estate_data.csv', sep='\\t')\n",
        "data.head()"
      ]
    },
    {
      "cell_type": "code",
      "execution_count": null,
      "metadata": {
        "id": "Q1PdtR-xDouD",
        "outputId": "a76d3f68-612b-4195-e0a0-d9d4b56906d5"
      },
      "outputs": [
        {
          "name": "stdout",
          "output_type": "stream",
          "text": [
            "<class 'pandas.core.frame.DataFrame'>\n",
            "RangeIndex: 23699 entries, 0 to 23698\n",
            "Data columns (total 22 columns):\n",
            " #   Column                Non-Null Count  Dtype  \n",
            "---  ------                --------------  -----  \n",
            " 0   total_images          23699 non-null  int64  \n",
            " 1   last_price            23699 non-null  float64\n",
            " 2   total_area            23699 non-null  float64\n",
            " 3   first_day_exposition  23699 non-null  object \n",
            " 4   rooms                 23699 non-null  int64  \n",
            " 5   ceiling_height        14504 non-null  float64\n",
            " 6   floors_total          23613 non-null  float64\n",
            " 7   living_area           21796 non-null  float64\n",
            " 8   floor                 23699 non-null  int64  \n",
            " 9   is_apartment          2775 non-null   object \n",
            " 10  studio                23699 non-null  bool   \n",
            " 11  open_plan             23699 non-null  bool   \n",
            " 12  kitchen_area          21421 non-null  float64\n",
            " 13  balcony               12180 non-null  float64\n",
            " 14  locality_name         23650 non-null  object \n",
            " 15  airports_nearest      18157 non-null  float64\n",
            " 16  cityCenters_nearest   18180 non-null  float64\n",
            " 17  parks_around3000      18181 non-null  float64\n",
            " 18  parks_nearest         8079 non-null   float64\n",
            " 19  ponds_around3000      18181 non-null  float64\n",
            " 20  ponds_nearest         9110 non-null   float64\n",
            " 21  days_exposition       20518 non-null  float64\n",
            "dtypes: bool(2), float64(14), int64(3), object(3)\n",
            "memory usage: 3.7+ MB\n"
          ]
        }
      ],
      "source": [
        "data.info()"
      ]
    },
    {
      "cell_type": "code",
      "execution_count": null,
      "metadata": {
        "scrolled": false,
        "id": "kf97akMWDouE",
        "outputId": "28fc374f-61c0-4cce-b859-cd2e9c657ffc"
      },
      "outputs": [
        {
          "data": {
            "text/plain": [
              "array([[<AxesSubplot:title={'center':'total_images'}>,\n",
              "        <AxesSubplot:title={'center':'last_price'}>,\n",
              "        <AxesSubplot:title={'center':'total_area'}>,\n",
              "        <AxesSubplot:title={'center':'rooms'}>],\n",
              "       [<AxesSubplot:title={'center':'ceiling_height'}>,\n",
              "        <AxesSubplot:title={'center':'floors_total'}>,\n",
              "        <AxesSubplot:title={'center':'living_area'}>,\n",
              "        <AxesSubplot:title={'center':'floor'}>],\n",
              "       [<AxesSubplot:title={'center':'kitchen_area'}>,\n",
              "        <AxesSubplot:title={'center':'balcony'}>,\n",
              "        <AxesSubplot:title={'center':'airports_nearest'}>,\n",
              "        <AxesSubplot:title={'center':'cityCenters_nearest'}>],\n",
              "       [<AxesSubplot:title={'center':'parks_around3000'}>,\n",
              "        <AxesSubplot:title={'center':'parks_nearest'}>,\n",
              "        <AxesSubplot:title={'center':'ponds_around3000'}>,\n",
              "        <AxesSubplot:title={'center':'ponds_nearest'}>],\n",
              "       [<AxesSubplot:title={'center':'days_exposition'}>, <AxesSubplot:>,\n",
              "        <AxesSubplot:>, <AxesSubplot:>]], dtype=object)"
            ]
          },
          "execution_count": 117,
          "metadata": {},
          "output_type": "execute_result"
        },
        {
          "data": {
            "image/png": "[encoded data removed]",
            "text/plain": [
              "<Figure size 1080x1440 with 20 Axes>"
            ]
          },
          "metadata": {
            "needs_background": "light"
          },
          "output_type": "display_data"
        }
      ],
      "source": [
        "data.hist(bins=30, figsize=(15, 20))"
      ]
    },
    {
      "cell_type": "markdown",
      "metadata": {
        "id": "9Oa3d1nhDouE"
      },
      "source": [
        "**Итог:** В данных 22 столбца, общее количество 23699 строк. Обнаруженные отклонения:  \n",
        "- В части строк меньше значений, чем в других, следовательно, есть пропуски.\n",
        "- Некоторые строки имеют неверный тип значений. К примеру, строка с количеством балконов имеет тип float64, хотя очевидно должен быть int, так как не может быть дробного числа балконов.\n",
        "- Высота потолков аномальная и доходит до 100 метров."
      ]
    },
    {
      "cell_type": "markdown",
      "metadata": {
        "id": "-O5NtivEAwb9"
      },
      "source": [
        "### Предобработка данных"
      ]
    },
    {
      "cell_type": "markdown",
      "metadata": {
        "id": "2Sje3ckYDouE"
      },
      "source": [
        "**2.1 Приведение названия столбцов к одному виду.**"
      ]
    },
    {
      "cell_type": "code",
      "execution_count": null,
      "metadata": {
        "scrolled": true,
        "id": "-ZOyxOnTDouE",
        "outputId": "a01500d4-bc8f-4e1b-ea6c-d434b9607ea5"
      },
      "outputs": [
        {
          "data": {
            "text/html": [
              "<div>\n",
              "<style scoped>\n",
              "    .dataframe tbody tr th:only-of-type {\n",
              "        vertical-align: middle;\n",
              "    }\n",
              "\n",
              "    .dataframe tbody tr th {\n",
              "        vertical-align: top;\n",
              "    }\n",
              "\n",
              "    .dataframe thead th {\n",
              "        text-align: right;\n",
              "    }\n",
              "</style>\n",
              "<table border=\"1\" class=\"dataframe\">\n",
              "  <thead>\n",
              "    <tr style=\"text-align: right;\">\n",
              "      <th></th>\n",
              "      <th>total_images</th>\n",
              "      <th>last_price</th>\n",
              "      <th>total_area</th>\n",
              "      <th>first_day_exposition</th>\n",
              "      <th>rooms</th>\n",
              "      <th>ceiling_height</th>\n",
              "      <th>floors_total</th>\n",
              "      <th>living_area</th>\n",
              "      <th>floor</th>\n",
              "      <th>is_apartment</th>\n",
              "      <th>...</th>\n",
              "      <th>kitchen_area</th>\n",
              "      <th>balcony</th>\n",
              "      <th>locality_name</th>\n",
              "      <th>airports_nearest</th>\n",
              "      <th>city_centers_nearest</th>\n",
              "      <th>parks_around_3000</th>\n",
              "      <th>parks_nearest</th>\n",
              "      <th>ponds_around_3000</th>\n",
              "      <th>ponds_nearest</th>\n",
              "      <th>days_exposition</th>\n",
              "    </tr>\n",
              "  </thead>\n",
              "  <tbody>\n",
              "    <tr>\n",
              "      <th>0</th>\n",
              "      <td>20</td>\n",
              "      <td>13000000.0</td>\n",
              "      <td>108.0</td>\n",
              "      <td>2019-03-07T00:00:00</td>\n",
              "      <td>3</td>\n",
              "      <td>2.70</td>\n",
              "      <td>16.0</td>\n",
              "      <td>51.0</td>\n",
              "      <td>8</td>\n",
              "      <td>NaN</td>\n",
              "      <td>...</td>\n",
              "      <td>25.0</td>\n",
              "      <td>NaN</td>\n",
              "      <td>Санкт-Петербург</td>\n",
              "      <td>18863.0</td>\n",
              "      <td>16028.0</td>\n",
              "      <td>1.0</td>\n",
              "      <td>482.0</td>\n",
              "      <td>2.0</td>\n",
              "      <td>755.0</td>\n",
              "      <td>NaN</td>\n",
              "    </tr>\n",
              "    <tr>\n",
              "      <th>1</th>\n",
              "      <td>7</td>\n",
              "      <td>3350000.0</td>\n",
              "      <td>40.4</td>\n",
              "      <td>2018-12-04T00:00:00</td>\n",
              "      <td>1</td>\n",
              "      <td>NaN</td>\n",
              "      <td>11.0</td>\n",
              "      <td>18.6</td>\n",
              "      <td>1</td>\n",
              "      <td>NaN</td>\n",
              "      <td>...</td>\n",
              "      <td>11.0</td>\n",
              "      <td>2.0</td>\n",
              "      <td>посёлок Шушары</td>\n",
              "      <td>12817.0</td>\n",
              "      <td>18603.0</td>\n",
              "      <td>0.0</td>\n",
              "      <td>NaN</td>\n",
              "      <td>0.0</td>\n",
              "      <td>NaN</td>\n",
              "      <td>81.0</td>\n",
              "    </tr>\n",
              "    <tr>\n",
              "      <th>2</th>\n",
              "      <td>10</td>\n",
              "      <td>5196000.0</td>\n",
              "      <td>56.0</td>\n",
              "      <td>2015-08-20T00:00:00</td>\n",
              "      <td>2</td>\n",
              "      <td>NaN</td>\n",
              "      <td>5.0</td>\n",
              "      <td>34.3</td>\n",
              "      <td>4</td>\n",
              "      <td>NaN</td>\n",
              "      <td>...</td>\n",
              "      <td>8.3</td>\n",
              "      <td>0.0</td>\n",
              "      <td>Санкт-Петербург</td>\n",
              "      <td>21741.0</td>\n",
              "      <td>13933.0</td>\n",
              "      <td>1.0</td>\n",
              "      <td>90.0</td>\n",
              "      <td>2.0</td>\n",
              "      <td>574.0</td>\n",
              "      <td>558.0</td>\n",
              "    </tr>\n",
              "    <tr>\n",
              "      <th>3</th>\n",
              "      <td>0</td>\n",
              "      <td>64900000.0</td>\n",
              "      <td>159.0</td>\n",
              "      <td>2015-07-24T00:00:00</td>\n",
              "      <td>3</td>\n",
              "      <td>NaN</td>\n",
              "      <td>14.0</td>\n",
              "      <td>NaN</td>\n",
              "      <td>9</td>\n",
              "      <td>NaN</td>\n",
              "      <td>...</td>\n",
              "      <td>NaN</td>\n",
              "      <td>0.0</td>\n",
              "      <td>Санкт-Петербург</td>\n",
              "      <td>28098.0</td>\n",
              "      <td>6800.0</td>\n",
              "      <td>2.0</td>\n",
              "      <td>84.0</td>\n",
              "      <td>3.0</td>\n",
              "      <td>234.0</td>\n",
              "      <td>424.0</td>\n",
              "    </tr>\n",
              "    <tr>\n",
              "      <th>4</th>\n",
              "      <td>2</td>\n",
              "      <td>10000000.0</td>\n",
              "      <td>100.0</td>\n",
              "      <td>2018-06-19T00:00:00</td>\n",
              "      <td>2</td>\n",
              "      <td>3.03</td>\n",
              "      <td>14.0</td>\n",
              "      <td>32.0</td>\n",
              "      <td>13</td>\n",
              "      <td>NaN</td>\n",
              "      <td>...</td>\n",
              "      <td>41.0</td>\n",
              "      <td>NaN</td>\n",
              "      <td>Санкт-Петербург</td>\n",
              "      <td>31856.0</td>\n",
              "      <td>8098.0</td>\n",
              "      <td>2.0</td>\n",
              "      <td>112.0</td>\n",
              "      <td>1.0</td>\n",
              "      <td>48.0</td>\n",
              "      <td>121.0</td>\n",
              "    </tr>\n",
              "  </tbody>\n",
              "</table>\n",
              "<p>5 rows × 22 columns</p>\n",
              "</div>"
            ],
            "text/plain": [
              "   total_images  last_price  total_area first_day_exposition  rooms  \\\n",
              "0            20  13000000.0       108.0  2019-03-07T00:00:00      3   \n",
              "1             7   3350000.0        40.4  2018-12-04T00:00:00      1   \n",
              "2            10   5196000.0        56.0  2015-08-20T00:00:00      2   \n",
              "3             0  64900000.0       159.0  2015-07-24T00:00:00      3   \n",
              "4             2  10000000.0       100.0  2018-06-19T00:00:00      2   \n",
              "\n",
              "   ceiling_height  floors_total  living_area  floor is_apartment  ...  \\\n",
              "0            2.70          16.0         51.0      8          NaN  ...   \n",
              "1             NaN          11.0         18.6      1          NaN  ...   \n",
              "2             NaN           5.0         34.3      4          NaN  ...   \n",
              "3             NaN          14.0          NaN      9          NaN  ...   \n",
              "4            3.03          14.0         32.0     13          NaN  ...   \n",
              "\n",
              "   kitchen_area  balcony    locality_name  airports_nearest  \\\n",
              "0          25.0      NaN  Санкт-Петербург           18863.0   \n",
              "1          11.0      2.0   посёлок Шушары           12817.0   \n",
              "2           8.3      0.0  Санкт-Петербург           21741.0   \n",
              "3           NaN      0.0  Санкт-Петербург           28098.0   \n",
              "4          41.0      NaN  Санкт-Петербург           31856.0   \n",
              "\n",
              "  city_centers_nearest  parks_around_3000  parks_nearest  ponds_around_3000  \\\n",
              "0              16028.0                1.0          482.0                2.0   \n",
              "1              18603.0                0.0            NaN                0.0   \n",
              "2              13933.0                1.0           90.0                2.0   \n",
              "3               6800.0                2.0           84.0                3.0   \n",
              "4               8098.0                2.0          112.0                1.0   \n",
              "\n",
              "   ponds_nearest  days_exposition  \n",
              "0          755.0              NaN  \n",
              "1            NaN             81.0  \n",
              "2          574.0            558.0  \n",
              "3          234.0            424.0  \n",
              "4           48.0            121.0  \n",
              "\n",
              "[5 rows x 22 columns]"
            ]
          },
          "execution_count": 118,
          "metadata": {},
          "output_type": "execute_result"
        }
      ],
      "source": [
        "data = data.rename(columns={'cityCenters_nearest': 'city_centers_nearest',\n",
        "                            'parks_around3000': 'parks_around_3000',\n",
        "                            'ponds_around3000': 'ponds_around_3000'})\n",
        "data.head()"
      ]
    },
    {
      "cell_type": "markdown",
      "metadata": {
        "id": "KDfrSM2GDouF"
      },
      "source": [
        "**2.2 Поиск пропусков.**  \n",
        "На основании выведенной ранее информации о данных пропуски в следующих столбцах:\n",
        "- ceiling_height\n",
        "- floors_total\n",
        "- living_area\n",
        "- is_apartment\n",
        "- kitchen_area\n",
        "- balcony\n",
        "- locality_name\n",
        "- airports_nearest\n",
        "- city_centers_nearest\n",
        "- parks_around_3000\n",
        "- parks_nearest\n",
        "- ponds_around_3000\n",
        "- ponds_nearest\n",
        "- days_exposition\n",
        "\n",
        "Исходя из логических соображений заполнить можно только пропуски в следующих столбцах:\n",
        "- is_apartment - заполнение значением \"False\".\n",
        "- balcony - заполнение значением \"0\".\n",
        "- parks_around_3000 - заполнение значением \"0\".\n",
        "- ponds_around_3000 - заполнение значением \"0\".\n",
        "\n",
        "Посчитаем, сколько пропущенных значений в каждом стоблце."
      ]
    },
    {
      "cell_type": "code",
      "execution_count": null,
      "metadata": {
        "id": "joBACS4aDouF",
        "outputId": "d0d8ba6e-db77-4652-be29-be32df144cc4"
      },
      "outputs": [
        {
          "name": "stdout",
          "output_type": "stream",
          "text": [
            "Количество пропущенных значений:\n",
            "в is_apartment 20924 (88%),\n",
            "в balcony 11519 (49%),\n",
            "в parks_around_3000 5518 (23%),\n",
            "в ponds_around_3000 5518 (23%).\n"
          ]
        }
      ],
      "source": [
        "print('Количество пропущенных значений:')\n",
        "print(f\"в is_apartment {data['is_apartment'].isna().sum()} ({round(data['is_apartment'].isna().mean() * 100)}%),\")\n",
        "print(f\"в balcony {data['balcony'].isna().sum()} ({round(data['balcony'].isna().mean() * 100)}%),\")\n",
        "print(f\"в parks_around_3000 {data['parks_around_3000'].isna().sum()} ({round(data['parks_around_3000'].isna().mean() * 100)}%),\")\n",
        "print(f\"в ponds_around_3000 {data['ponds_around_3000'].isna().sum()} ({round(data['ponds_around_3000'].isna().mean() * 100)}%).\")"
      ]
    },
    {
      "cell_type": "markdown",
      "metadata": {
        "id": "PBW-d3o6DouF"
      },
      "source": [
        "В остальных столбцах нет возможности логично и корректно заполнить пропуски, так как ни медианное, ни среднее значение не подойдут. Каждый объект индивидуальный. К примеру, в столбце locality_name без знаний адреса объекта любое из возможных значений будет ошибочным."
      ]
    },
    {
      "cell_type": "markdown",
      "metadata": {
        "id": "7ZlvRFwBDouF"
      },
      "source": [
        "**2.3 Заполнение значений в первых четырех столбцах.**"
      ]
    },
    {
      "cell_type": "code",
      "execution_count": null,
      "metadata": {
        "id": "UB5y__QYDouF"
      },
      "outputs": [],
      "source": [
        "data['is_apartment'] = data['is_apartment'].fillna(False)\n",
        "data['balcony'] = data['balcony'].fillna(0)\n",
        "data['parks_around_3000'] = data['parks_around_3000'].fillna(0)\n",
        "data['ponds_around_3000'] = data['ponds_around_3000'].fillna(0)"
      ]
    },
    {
      "cell_type": "code",
      "execution_count": null,
      "metadata": {
        "id": "zgnMP9GnDouF",
        "outputId": "66d81c93-d1d5-4919-d23e-dbc1a7af4dfe"
      },
      "outputs": [
        {
          "name": "stdout",
          "output_type": "stream",
          "text": [
            "<class 'pandas.core.frame.DataFrame'>\n",
            "RangeIndex: 23699 entries, 0 to 23698\n",
            "Data columns (total 22 columns):\n",
            " #   Column                Non-Null Count  Dtype  \n",
            "---  ------                --------------  -----  \n",
            " 0   total_images          23699 non-null  int64  \n",
            " 1   last_price            23699 non-null  float64\n",
            " 2   total_area            23699 non-null  float64\n",
            " 3   first_day_exposition  23699 non-null  object \n",
            " 4   rooms                 23699 non-null  int64  \n",
            " 5   ceiling_height        14504 non-null  float64\n",
            " 6   floors_total          23613 non-null  float64\n",
            " 7   living_area           21796 non-null  float64\n",
            " 8   floor                 23699 non-null  int64  \n",
            " 9   is_apartment          23699 non-null  bool   \n",
            " 10  studio                23699 non-null  bool   \n",
            " 11  open_plan             23699 non-null  bool   \n",
            " 12  kitchen_area          21421 non-null  float64\n",
            " 13  balcony               23699 non-null  float64\n",
            " 14  locality_name         23650 non-null  object \n",
            " 15  airports_nearest      18157 non-null  float64\n",
            " 16  city_centers_nearest  18180 non-null  float64\n",
            " 17  parks_around_3000     23699 non-null  float64\n",
            " 18  parks_nearest         8079 non-null   float64\n",
            " 19  ponds_around_3000     23699 non-null  float64\n",
            " 20  ponds_nearest         9110 non-null   float64\n",
            " 21  days_exposition       20518 non-null  float64\n",
            "dtypes: bool(3), float64(14), int64(3), object(2)\n",
            "memory usage: 3.5+ MB\n"
          ]
        }
      ],
      "source": [
        "data.info()"
      ]
    },
    {
      "cell_type": "markdown",
      "metadata": {
        "id": "yNDtlYvlDouG"
      },
      "source": [
        "**Итог:** в нужных столбцах пропуски заполнены."
      ]
    },
    {
      "cell_type": "markdown",
      "metadata": {
        "id": "juJGc8F7DouG"
      },
      "source": [
        "**2.4 Типы данных.**  \n",
        "В данных есть шесть столбцов, в которых надо изменить тип значений.\n",
        "- balcony - целое число, должен быть тип int.\n",
        "- parks_around_3000 - целое число, должен быть тип int.\n",
        "- ponds_around_3000 - целое число, должен быть тип int.\n",
        "- days_exposition - целое число, должен быть тип int, но так как там пропуски, которые невозможно корректно заполнить, изменить тип значений не получится.\n",
        "- floors_total - целое число, должен быть тип int, но так как там пропуски, которые невозможно корректно заполнить, изменить тип значений не получится.\n",
        "- first_day_exposition - дата и время, должен быть тип datetime."
      ]
    },
    {
      "cell_type": "code",
      "execution_count": null,
      "metadata": {
        "id": "9unjELNsDouG"
      },
      "outputs": [],
      "source": [
        "data['balcony'] = data['balcony'].astype('int')\n",
        "data['parks_around_3000'] = data['parks_around_3000'].astype('int')\n",
        "data['ponds_around_3000'] = data['ponds_around_3000'].astype('int')\n",
        "data['first_day_exposition'] = pd.to_datetime(data['first_day_exposition'], format='%Y-%m-%d %H:%M:%S')"
      ]
    },
    {
      "cell_type": "code",
      "execution_count": null,
      "metadata": {
        "id": "J4bP7pqYDouG",
        "outputId": "82b15488-b8eb-4806-ff49-945e793359d1"
      },
      "outputs": [
        {
          "name": "stdout",
          "output_type": "stream",
          "text": [
            "<class 'pandas.core.frame.DataFrame'>\n",
            "RangeIndex: 23699 entries, 0 to 23698\n",
            "Data columns (total 22 columns):\n",
            " #   Column                Non-Null Count  Dtype         \n",
            "---  ------                --------------  -----         \n",
            " 0   total_images          23699 non-null  int64         \n",
            " 1   last_price            23699 non-null  float64       \n",
            " 2   total_area            23699 non-null  float64       \n",
            " 3   first_day_exposition  23699 non-null  datetime64[ns]\n",
            " 4   rooms                 23699 non-null  int64         \n",
            " 5   ceiling_height        14504 non-null  float64       \n",
            " 6   floors_total          23613 non-null  float64       \n",
            " 7   living_area           21796 non-null  float64       \n",
            " 8   floor                 23699 non-null  int64         \n",
            " 9   is_apartment          23699 non-null  bool          \n",
            " 10  studio                23699 non-null  bool          \n",
            " 11  open_plan             23699 non-null  bool          \n",
            " 12  kitchen_area          21421 non-null  float64       \n",
            " 13  balcony               23699 non-null  int64         \n",
            " 14  locality_name         23650 non-null  object        \n",
            " 15  airports_nearest      18157 non-null  float64       \n",
            " 16  city_centers_nearest  18180 non-null  float64       \n",
            " 17  parks_around_3000     23699 non-null  int64         \n",
            " 18  parks_nearest         8079 non-null   float64       \n",
            " 19  ponds_around_3000     23699 non-null  int64         \n",
            " 20  ponds_nearest         9110 non-null   float64       \n",
            " 21  days_exposition       20518 non-null  float64       \n",
            "dtypes: bool(3), datetime64[ns](1), float64(11), int64(6), object(1)\n",
            "memory usage: 3.5+ MB\n"
          ]
        }
      ],
      "source": [
        "data.info()"
      ]
    },
    {
      "cell_type": "markdown",
      "metadata": {
        "id": "MuICceHyDouK"
      },
      "source": [
        "**Итог:** тип данных изменен."
      ]
    },
    {
      "cell_type": "markdown",
      "metadata": {
        "id": "xmsBKZbdDouK"
      },
      "source": [
        "**2.5 Удаление неявных дубликатов.**"
      ]
    },
    {
      "cell_type": "markdown",
      "metadata": {
        "id": "XgFZefgVDouK"
      },
      "source": [
        "Удаление неявных дубликатов проведем в столбце locality_name."
      ]
    },
    {
      "cell_type": "code",
      "execution_count": null,
      "metadata": {
        "id": "pHYxe7roDouK",
        "outputId": "17ca570e-010c-4152-f845-4a35ee7979e0"
      },
      "outputs": [
        {
          "data": {
            "text/plain": [
              "array(['Санкт-Петербург', 'посёлок Шушары', 'городской посёлок Янино-1',\n",
              "       'посёлок Парголово', 'посёлок Мурино', 'Ломоносов', 'Сертолово',\n",
              "       'Петергоф', 'Пушкин', 'деревня Кудрово', 'Коммунар', 'Колпино',\n",
              "       'поселок городского типа Красный Бор', 'Гатчина', 'поселок Мурино',\n",
              "       'деревня Фёдоровское', 'Выборг', 'Кронштадт', 'Кировск',\n",
              "       'деревня Новое Девяткино', 'посёлок Металлострой',\n",
              "       'посёлок городского типа Лебяжье',\n",
              "       'посёлок городского типа Сиверский', 'поселок Молодцово',\n",
              "       'поселок городского типа Кузьмоловский',\n",
              "       'садовое товарищество Новая Ропша', 'Павловск',\n",
              "       'деревня Пикколово', 'Всеволожск', 'Волхов', 'Кингисепп',\n",
              "       'Приозерск', 'Сестрорецк', 'деревня Куттузи', 'посёлок Аннино',\n",
              "       'поселок городского типа Ефимовский', 'посёлок Плодовое',\n",
              "       'деревня Заклинье', 'поселок Торковичи', 'поселок Первомайское',\n",
              "       'Красное Село', 'посёлок Понтонный', 'Сясьстрой', 'деревня Старая',\n",
              "       'деревня Лесколово', 'посёлок Новый Свет', 'Сланцы',\n",
              "       'село Путилово', 'Ивангород', 'Мурино', 'Шлиссельбург',\n",
              "       'Никольское', 'Зеленогорск', 'Сосновый Бор', 'поселок Новый Свет',\n",
              "       'деревня Оржицы', 'деревня Кальтино', 'Кудрово',\n",
              "       'поселок Романовка', 'посёлок Бугры', 'поселок Бугры',\n",
              "       'поселок городского типа Рощино', 'Кириши', 'Луга', 'Волосово',\n",
              "       'Отрадное', 'село Павлово', 'поселок Оредеж', 'село Копорье',\n",
              "       'посёлок городского типа Красный Бор', 'посёлок Молодёжное',\n",
              "       'Тихвин', 'посёлок Победа', 'деревня Нурма',\n",
              "       'поселок городского типа Синявино', 'Тосно',\n",
              "       'посёлок городского типа Кузьмоловский', 'посёлок Стрельна',\n",
              "       'Бокситогорск', 'посёлок Александровская', 'деревня Лопухинка',\n",
              "       'Пикалёво', 'поселок Терволово',\n",
              "       'поселок городского типа Советский', 'Подпорожье',\n",
              "       'посёлок Петровское', 'посёлок городского типа Токсово',\n",
              "       'поселок Сельцо', 'посёлок городского типа Вырица',\n",
              "       'деревня Кипень', 'деревня Келози', 'деревня Вартемяги',\n",
              "       'посёлок Тельмана', 'поселок Севастьяново',\n",
              "       'городской поселок Большая Ижора', nan,\n",
              "       'городской посёлок Павлово', 'деревня Агалатово',\n",
              "       'посёлок Новогорелово', 'городской посёлок Лесогорский',\n",
              "       'деревня Лаголово', 'поселок Цвелодубово',\n",
              "       'поселок городского типа Рахья', 'поселок городского типа Вырица',\n",
              "       'деревня Белогорка', 'поселок Заводской',\n",
              "       'городской посёлок Новоселье', 'деревня Большие Колпаны',\n",
              "       'деревня Горбунки', 'деревня Батово', 'деревня Заневка',\n",
              "       'деревня Иссад', 'Приморск', 'городской посёлок Фёдоровское',\n",
              "       'деревня Мистолово', 'Новая Ладога', 'поселок Зимитицы',\n",
              "       'поселок Барышево', 'деревня Разметелево',\n",
              "       'поселок городского типа имени Свердлова', 'деревня Пеники',\n",
              "       'поселок Рябово', 'деревня Пудомяги', 'поселок станции Корнево',\n",
              "       'деревня Низино', 'деревня Бегуницы', 'посёлок Поляны',\n",
              "       'городской посёлок Мга', 'поселок Елизаветино',\n",
              "       'посёлок городского типа Кузнечное', 'деревня Колтуши',\n",
              "       'поселок Запорожское', 'посёлок городского типа Рощино',\n",
              "       'деревня Гостилицы', 'деревня Малое Карлино',\n",
              "       'посёлок Мичуринское', 'посёлок городского типа имени Морозова',\n",
              "       'посёлок Песочный', 'посёлок Сосново', 'деревня Аро',\n",
              "       'поселок Ильичёво', 'посёлок городского типа Тайцы',\n",
              "       'деревня Малое Верево', 'деревня Извара', 'поселок станции Вещево',\n",
              "       'село Паша', 'деревня Калитино',\n",
              "       'посёлок городского типа Ульяновка', 'деревня Чудской Бор',\n",
              "       'поселок городского типа Дубровка', 'деревня Мины',\n",
              "       'поселок Войсковицы', 'посёлок городского типа имени Свердлова',\n",
              "       'деревня Коркино', 'посёлок Ропша',\n",
              "       'поселок городского типа Приладожский', 'посёлок Щеглово',\n",
              "       'посёлок Гаврилово', 'Лодейное Поле', 'деревня Рабитицы',\n",
              "       'поселок городского типа Никольский', 'деревня Кузьмолово',\n",
              "       'деревня Малые Колпаны', 'поселок Тельмана',\n",
              "       'посёлок Петро-Славянка', 'городской посёлок Назия',\n",
              "       'посёлок Репино', 'посёлок Ильичёво', 'поселок Углово',\n",
              "       'поселок Старая Малукса', 'садовое товарищество Рахья',\n",
              "       'поселок Аннино', 'поселок Победа', 'деревня Меньково',\n",
              "       'деревня Старые Бегуницы', 'посёлок Сапёрный', 'поселок Семрино',\n",
              "       'поселок Гаврилово', 'поселок Глажево', 'поселок Кобринское',\n",
              "       'деревня Гарболово', 'деревня Юкки',\n",
              "       'поселок станции Приветнинское', 'деревня Мануйлово',\n",
              "       'деревня Пчева', 'поселок Поляны', 'поселок Цвылёво',\n",
              "       'поселок Мельниково', 'посёлок Пудость', 'посёлок Усть-Луга',\n",
              "       'Светогорск', 'Любань', 'поселок Селезнёво',\n",
              "       'поселок городского типа Рябово', 'Каменногорск', 'деревня Кривко',\n",
              "       'поселок Глебычево', 'деревня Парицы', 'поселок Жилпосёлок',\n",
              "       'посёлок городского типа Мга', 'городской поселок Янино-1',\n",
              "       'посёлок Войскорово', 'село Никольское', 'посёлок Терволово',\n",
              "       'поселок Стеклянный', 'посёлок городского типа Важины',\n",
              "       'посёлок Мыза-Ивановка', 'село Русско-Высоцкое',\n",
              "       'поселок городского типа Лебяжье',\n",
              "       'поселок городского типа Форносово', 'село Старая Ладога',\n",
              "       'поселок Житково', 'городской посёлок Виллози', 'деревня Лампово',\n",
              "       'деревня Шпаньково', 'деревня Лаврики', 'посёлок Сумино',\n",
              "       'посёлок Возрождение', 'деревня Старосиверская',\n",
              "       'посёлок Кикерино', 'поселок Возрождение',\n",
              "       'деревня Старое Хинколово', 'посёлок Пригородный',\n",
              "       'посёлок Торфяное', 'городской посёлок Будогощь',\n",
              "       'поселок Суходолье', 'поселок Красная Долина', 'деревня Хапо-Ое',\n",
              "       'поселок городского типа Дружная Горка', 'поселок Лисий Нос',\n",
              "       'деревня Яльгелево', 'посёлок Стеклянный', 'село Рождествено',\n",
              "       'деревня Старополье', 'посёлок Левашово', 'деревня Сяськелево',\n",
              "       'деревня Камышовка',\n",
              "       'садоводческое некоммерческое товарищество Лесная Поляна',\n",
              "       'деревня Хязельки', 'поселок Жилгородок',\n",
              "       'посёлок городского типа Павлово', 'деревня Ялгино',\n",
              "       'поселок Новый Учхоз', 'городской посёлок Рощино',\n",
              "       'поселок Гончарово', 'поселок Почап', 'посёлок Сапёрное',\n",
              "       'посёлок Платформа 69-й километр', 'поселок Каложицы',\n",
              "       'деревня Фалилеево', 'деревня Пельгора',\n",
              "       'поселок городского типа Лесогорский', 'деревня Торошковичи',\n",
              "       'посёлок Белоостров', 'посёлок Алексеевка', 'поселок Серебрянский',\n",
              "       'поселок Лукаши', 'поселок Петровское', 'деревня Щеглово',\n",
              "       'поселок Мичуринское', 'деревня Тарасово', 'поселок Кингисеппский',\n",
              "       'посёлок при железнодорожной станции Вещево', 'поселок Ушаки',\n",
              "       'деревня Котлы', 'деревня Сижно', 'деревня Торосово',\n",
              "       'посёлок Форт Красная Горка', 'поселок городского типа Токсово',\n",
              "       'деревня Новолисино', 'посёлок станции Громово', 'деревня Глинка',\n",
              "       'посёлок Мельниково', 'поселок городского типа Назия',\n",
              "       'деревня Старая Пустошь', 'поселок Коммунары', 'поселок Починок',\n",
              "       'посёлок городского типа Вознесенье', 'деревня Разбегаево',\n",
              "       'посёлок городского типа Рябово', 'поселок Гладкое',\n",
              "       'посёлок при железнодорожной станции Приветнинское',\n",
              "       'поселок Тёсово-4', 'посёлок Жилгородок', 'деревня Бор',\n",
              "       'посёлок Коробицыно', 'деревня Большая Вруда', 'деревня Курковицы',\n",
              "       'посёлок Лисий Нос', 'городской посёлок Советский',\n",
              "       'посёлок Кобралово', 'деревня Суоранда', 'поселок Кобралово',\n",
              "       'поселок городского типа Кондратьево',\n",
              "       'коттеджный поселок Счастье', 'поселок Любань', 'деревня Реброво',\n",
              "       'деревня Зимитицы', 'деревня Тойворово', 'поселок Семиозерье',\n",
              "       'поселок Лесное', 'поселок Совхозный', 'поселок Усть-Луга',\n",
              "       'посёлок Ленинское', 'посёлок Суйда',\n",
              "       'посёлок городского типа Форносово', 'деревня Нижние Осельки',\n",
              "       'посёлок станции Свирь', 'поселок Перово', 'Высоцк',\n",
              "       'поселок Гарболово', 'село Шум', 'поселок Котельский',\n",
              "       'поселок станции Лужайка', 'деревня Большая Пустомержа',\n",
              "       'поселок Красносельское', 'деревня Вахнова Кара', 'деревня Пижма',\n",
              "       'коттеджный поселок Кивеннапа Север', 'поселок Коробицыно',\n",
              "       'поселок Ромашки', 'посёлок Перово', 'деревня Каськово',\n",
              "       'деревня Куровицы', 'посёлок Плоское', 'поселок Сумино',\n",
              "       'поселок городского типа Большая Ижора', 'поселок Кирпичное',\n",
              "       'деревня Ям-Тесово', 'деревня Раздолье', 'деревня Терпилицы',\n",
              "       'посёлок Шугозеро', 'деревня Ваганово', 'поселок Пушное',\n",
              "       'садовое товарищество Садко', 'посёлок Усть-Ижора',\n",
              "       'деревня Выскатка', 'городской посёлок Свирьстрой',\n",
              "       'поселок Громово', 'деревня Кисельня', 'посёлок Старая Малукса',\n",
              "       'деревня Трубников Бор', 'поселок Калитино',\n",
              "       'посёлок Высокоключевой', 'садовое товарищество Приладожский',\n",
              "       'посёлок Пансионат Зелёный Бор', 'деревня Ненимяки',\n",
              "       'поселок Пансионат Зелёный Бор', 'деревня Снегирёвка',\n",
              "       'деревня Рапполово', 'деревня Пустынка', 'поселок Рабитицы',\n",
              "       'деревня Большой Сабск', 'деревня Русско', 'деревня Лупполово',\n",
              "       'деревня Большое Рейзино', 'деревня Малая Романовка',\n",
              "       'поселок Дружноселье', 'поселок Пчевжа', 'поселок Володарское',\n",
              "       'деревня Нижняя', 'коттеджный посёлок Лесное', 'деревня Тихковицы',\n",
              "       'деревня Борисова Грива', 'посёлок Дзержинского'], dtype=object)"
            ]
          },
          "execution_count": 124,
          "metadata": {},
          "output_type": "execute_result"
        }
      ],
      "source": [
        "data['locality_name'].unique()"
      ]
    },
    {
      "cell_type": "code",
      "execution_count": null,
      "metadata": {
        "id": "wPt6jlJ0DouL",
        "outputId": "dc009e80-43b3-4b03-b7c5-f1b23be1fc81"
      },
      "outputs": [
        {
          "data": {
            "text/plain": [
              "'Всего уникальных значений в столбце locality_name 365'"
            ]
          },
          "execution_count": 125,
          "metadata": {},
          "output_type": "execute_result"
        }
      ],
      "source": [
        "f\"Всего уникальных значений в столбце locality_name {len(data['locality_name'].unique())}\""
      ]
    },
    {
      "cell_type": "markdown",
      "metadata": {
        "id": "LqhyBzS_DouL"
      },
      "source": [
        "Удалим неявные дубликаты."
      ]
    },
    {
      "cell_type": "code",
      "execution_count": null,
      "metadata": {
        "id": "zAxgcZXpDouL",
        "outputId": "02626032-5532-4c61-a332-48a037ad3588"
      },
      "outputs": [
        {
          "data": {
            "text/plain": [
              "array(['Санкт-Петербург', 'Шушары', 'Янино-1', 'Парголово', 'Мурино',\n",
              "       'Ломоносов', 'Сертолово', 'Петергоф', 'Пушкин', 'Кудрово',\n",
              "       'Коммунар', 'Колпино', 'Красный Бор', 'Гатчина', 'Фёдоровское',\n",
              "       'Выборг', 'Кронштадт', 'Кировск', 'Новое Девяткино',\n",
              "       'Металлострой', 'Лебяжье', 'Сиверский', 'Молодцово',\n",
              "       'Кузьмоловский', 'Новая Ропша', 'Павловск', 'Пикколово',\n",
              "       'Всеволожск', 'Волхов', 'Кингисепп', 'Приозерск', 'Сестрорецк',\n",
              "       'Куттузи', 'Аннино', 'Ефимовский', 'Плодовое', 'Заклинье',\n",
              "       'Торковичи', 'Первомайское', 'Красное Село', 'Понтонный',\n",
              "       'Сясьстрой', 'Старая', 'Лесколово', 'Новый Свет', 'Сланцы',\n",
              "       'Путилово', 'Ивангород', 'Шлиссельбург', 'Никольское',\n",
              "       'Зеленогорск', 'Сосновый Бор', 'Оржицы', 'Кальтино', 'Романовка',\n",
              "       'Бугры', 'Рощино', 'Кириши', 'Луга', 'Волосово', 'Отрадное',\n",
              "       'Павлово', 'Оредеж', 'Копорье', 'Молодёжное', 'Тихвин', 'Победа',\n",
              "       'Нурма', 'Синявино', 'Тосно', 'Стрельна', 'Бокситогорск',\n",
              "       'Александровская', 'Лопухинка', 'Пикалёво', 'Терволово',\n",
              "       'Советский', 'Подпорожье', 'Петровское', 'Токсово', 'Сельцо',\n",
              "       'Вырица', 'Кипень', 'Келози', 'Вартемяги', 'Тельмана',\n",
              "       'Севастьяново', 'Большая Ижора', nan, 'Агалатово', 'Новогорелово',\n",
              "       'Лесогорский', 'Лаголово', 'Цвелодубово', 'Рахья', 'Белогорка',\n",
              "       'Заводской', 'Новоселье', 'Большие Колпаны', 'Горбунки', 'Батово',\n",
              "       'Заневка', 'Иссад', 'Приморск', 'Мистолово', 'Новая Ладога',\n",
              "       'Зимитицы', 'Барышево', 'Разметелево', 'Свердлова', 'Пеники',\n",
              "       'Рябово', 'Пудомяги', 'Корнево', 'Низино', 'Бегуницы', 'Поляны',\n",
              "       'Мга', 'Елизаветино', 'Кузнечное', 'Колтуши', 'Запорожское',\n",
              "       'Гостилицы', 'Малое Карлино', 'Мичуринское', 'Морозова',\n",
              "       'Песочный', 'Сосново', 'Аро', 'Ильичёво', 'Тайцы', 'Малое Верево',\n",
              "       'Извара', 'Вещево', 'Паша', 'Калитино', 'Ульяновка', 'Чудской Бор',\n",
              "       'Дубровка', 'Мины', 'Войсковицы', 'Коркино', 'Ропша',\n",
              "       'Приладожский', 'Щеглово', 'Гаврилово', 'Лодейное Поле',\n",
              "       'Рабитицы', 'Никольский', 'Кузьмолово', 'Малые Колпаны',\n",
              "       'Петро-Славянка', 'Назия', 'Репино', 'Углово', 'Старая Малукса',\n",
              "       'Меньково', 'Старые Бегуницы', 'Сапёрный', 'Семрино', 'Глажево',\n",
              "       'Кобринское', 'Гарболово', 'Юкки', 'Приветнинское', 'Мануйлово',\n",
              "       'Пчева', 'Цвылёво', 'Мельниково', 'Пудость', 'Усть-Луга',\n",
              "       'Светогорск', 'Любань', 'Селезнёво', 'Каменногорск', 'Кривко',\n",
              "       'Глебычево', 'Парицы', 'Жилпосёлок', 'Войскорово', 'Стеклянный',\n",
              "       'Важины', 'Мыза-Ивановка', 'Русско-Высоцкое', 'Форносово',\n",
              "       'Старая Ладога', 'Житково', 'Виллози', 'Лампово', 'Шпаньково',\n",
              "       'Лаврики', 'Сумино', 'Возрождение', 'Старосиверская', 'Кикерино',\n",
              "       'Старое Хинколово', 'Пригородный', 'Торфяное', 'Будогощь',\n",
              "       'Суходолье', 'Красная Долина', 'Хапо-Ое', 'Дружная Горка',\n",
              "       'Лисий Нос', 'Яльгелево', 'Рождествено', 'Старополье', 'Левашово',\n",
              "       'Сяськелево', 'Камышовка', 'Лесная Поляна', 'Хязельки',\n",
              "       'Жилгородок', 'Ялгино', 'Новый Учхоз', 'Гончарово', 'Почап',\n",
              "       'Сапёрное', 'Платформа 69-й километр', 'Каложицы', 'Фалилеево',\n",
              "       'Пельгора', 'Торошковичи', 'Белоостров', 'Алексеевка',\n",
              "       'Серебрянский', 'Лукаши', 'Тарасово', 'Кингисеппский', 'Ушаки',\n",
              "       'Котлы', 'Сижно', 'Торосово', 'Форт Красная Горка', 'Новолисино',\n",
              "       'Громово', 'Глинка', 'Старая Пустошь', 'Коммунары', 'Починок',\n",
              "       'Вознесенье', 'Разбегаево', 'Гладкое', 'Тёсово-4', 'Бор',\n",
              "       'Коробицыно', 'Большая Вруда', 'Курковицы', 'Кобралово',\n",
              "       'Суоранда', 'Кондратьево', 'Счастье', 'Реброво', 'Тойворово',\n",
              "       'Семиозерье', 'Лесное', 'Совхозный', 'Ленинское', 'Суйда',\n",
              "       'Нижние Осельки', 'Свирь', 'Перово', 'Высоцк', 'Шум', 'Котельский',\n",
              "       'Лужайка', 'Большая Пустомержа', 'Красносельское', 'Вахнова Кара',\n",
              "       'Пижма', 'Кивеннапа Север', 'Ромашки', 'Каськово', 'Куровицы',\n",
              "       'Плоское', 'Кирпичное', 'Ям-Тесово', 'Раздолье', 'Терпилицы',\n",
              "       'Шугозеро', 'Ваганово', 'Пушное', 'Садко', 'Усть-Ижора',\n",
              "       'Выскатка', 'Свирьстрой', 'Кисельня', 'Трубников Бор',\n",
              "       'Высокоключевой', 'Пансионат Зелёный Бор', 'Ненимяки',\n",
              "       'Снегирёвка', 'Рапполово', 'Пустынка', 'Большой Сабск', 'Русско',\n",
              "       'Лупполово', 'Большое Рейзино', 'Малая Романовка', 'Дружноселье',\n",
              "       'Пчевжа', 'Володарское', 'Нижняя', 'Тихковицы', 'Борисова Грива',\n",
              "       'Дзержинского'], dtype=object)"
            ]
          },
          "execution_count": 126,
          "metadata": {},
          "output_type": "execute_result"
        }
      ],
      "source": [
        "data['locality_name'] = (\n",
        "    data['locality_name']\n",
        "    .replace(['поселок ', 'деревня ', 'посёлок ', 'поселок городского типа ', 'посёлок городского типа ',\n",
        "              'городской посёлок ', 'садовое товарищество ', 'село ', 'поселок городского типа имени ',\n",
        "              'поселок станции ', 'посёлок при железнодорожной станции ', 'посёлок станции ', 'коттеджный поселок ',\n",
        "              'при железнодорожной станции ', 'городского типа ', 'городской ', 'станции ', 'коттеджный ',\n",
        "              'садоводческое некоммерческое товарищество ', 'имени '], '', regex=True)\n",
        ")\n",
        "data['locality_name'].unique()"
      ]
    },
    {
      "cell_type": "code",
      "execution_count": null,
      "metadata": {
        "id": "mwZmJaW_DouL",
        "outputId": "86364b4c-fef9-4e8b-9ed9-2af4cd0a0e27"
      },
      "outputs": [
        {
          "data": {
            "text/plain": [
              "'Всего уникальных значений в столбце locality_name 306'"
            ]
          },
          "execution_count": 127,
          "metadata": {},
          "output_type": "execute_result"
        }
      ],
      "source": [
        "f\"Всего уникальных значений в столбце locality_name {len(data['locality_name'].unique())}\""
      ]
    },
    {
      "cell_type": "markdown",
      "metadata": {
        "id": "MIenP7m0DouL"
      },
      "source": [
        "**Итог:** неявные дубликаты удалены. Устранены порядка 60 дубликатов."
      ]
    },
    {
      "cell_type": "markdown",
      "metadata": {
        "id": "QCcvyY6YAwb-"
      },
      "source": [
        "### Добавьте в таблицу новые столбцы"
      ]
    },
    {
      "cell_type": "markdown",
      "metadata": {
        "id": "YoEFjcRMDouM"
      },
      "source": [
        "Добавим в таблицу новые столбцы."
      ]
    },
    {
      "cell_type": "markdown",
      "metadata": {
        "id": "Z8eJek3IAwb-"
      },
      "source": [
        "**3.1 Цена одного квадратного метра**"
      ]
    },
    {
      "cell_type": "code",
      "execution_count": null,
      "metadata": {
        "id": "7n93DCHUDouM"
      },
      "outputs": [],
      "source": [
        "data['meter_cost'] = round((data['last_price'] / data['total_area']), 2)"
      ]
    },
    {
      "cell_type": "markdown",
      "metadata": {
        "id": "WjXfW71SDouM"
      },
      "source": [
        "**3.2 День недели публикации объявления**\n"
      ]
    },
    {
      "cell_type": "code",
      "execution_count": null,
      "metadata": {
        "id": "zX4pPJq6DouM"
      },
      "outputs": [],
      "source": [
        "data['weekday'] = data['first_day_exposition'].dt.weekday"
      ]
    },
    {
      "cell_type": "markdown",
      "metadata": {
        "id": "21qCHZcUDouM"
      },
      "source": [
        "**3.3 Месяц публикации объявления**\n"
      ]
    },
    {
      "cell_type": "code",
      "execution_count": null,
      "metadata": {
        "id": "7BRb7fE4DouN"
      },
      "outputs": [],
      "source": [
        "data['month_public'] = data['first_day_exposition'].dt.month"
      ]
    },
    {
      "cell_type": "markdown",
      "metadata": {
        "id": "9Ovbu0s2DouN"
      },
      "source": [
        "**3.4 Год публикации объявления**\n"
      ]
    },
    {
      "cell_type": "code",
      "execution_count": null,
      "metadata": {
        "id": "Pm8LHVXWDouN"
      },
      "outputs": [],
      "source": [
        "data['year_public'] = data['first_day_exposition'].dt.year"
      ]
    },
    {
      "cell_type": "markdown",
      "metadata": {
        "id": "sMqZP2X3DouN"
      },
      "source": [
        "**3.5 Тип этажа квартиры**\n"
      ]
    },
    {
      "cell_type": "code",
      "execution_count": null,
      "metadata": {
        "id": "iD1BuxoaDouN"
      },
      "outputs": [],
      "source": [
        "def floor_type(floors):\n",
        "    if floors['floor'] == 1:\n",
        "        return 'первый'\n",
        "    elif floors['floor'] == floors['floors_total']:\n",
        "        return 'последний'\n",
        "    else:\n",
        "        return 'другой'\n",
        "\n",
        "data['floor_type'] = data.apply(floor_type, axis=1)"
      ]
    },
    {
      "cell_type": "markdown",
      "metadata": {
        "id": "jHUwzEJpDouN"
      },
      "source": [
        "**3.6 Расстояние до центра города в километрах**"
      ]
    },
    {
      "cell_type": "code",
      "execution_count": null,
      "metadata": {
        "id": "kH-j0eaODouN"
      },
      "outputs": [],
      "source": [
        "data['city_centers_nearest_km'] = round(data['city_centers_nearest'] / 1000, 0)"
      ]
    },
    {
      "cell_type": "markdown",
      "metadata": {
        "id": "PPAMkQAtDouN"
      },
      "source": [
        "**3.7 Контроль корректности добавления столбцов**"
      ]
    },
    {
      "cell_type": "code",
      "execution_count": null,
      "metadata": {
        "id": "GDhzdAXcDouN",
        "outputId": "06b0ae95-5f27-4836-9563-5d1a45f44428"
      },
      "outputs": [
        {
          "data": {
            "text/html": [
              "<div>\n",
              "<style scoped>\n",
              "    .dataframe tbody tr th:only-of-type {\n",
              "        vertical-align: middle;\n",
              "    }\n",
              "\n",
              "    .dataframe tbody tr th {\n",
              "        vertical-align: top;\n",
              "    }\n",
              "\n",
              "    .dataframe thead th {\n",
              "        text-align: right;\n",
              "    }\n",
              "</style>\n",
              "<table border=\"1\" class=\"dataframe\">\n",
              "  <thead>\n",
              "    <tr style=\"text-align: right;\">\n",
              "      <th></th>\n",
              "      <th>total_images</th>\n",
              "      <th>last_price</th>\n",
              "      <th>total_area</th>\n",
              "      <th>first_day_exposition</th>\n",
              "      <th>rooms</th>\n",
              "      <th>ceiling_height</th>\n",
              "      <th>floors_total</th>\n",
              "      <th>living_area</th>\n",
              "      <th>floor</th>\n",
              "      <th>is_apartment</th>\n",
              "      <th>...</th>\n",
              "      <th>parks_nearest</th>\n",
              "      <th>ponds_around_3000</th>\n",
              "      <th>ponds_nearest</th>\n",
              "      <th>days_exposition</th>\n",
              "      <th>meter_cost</th>\n",
              "      <th>weekday</th>\n",
              "      <th>month_public</th>\n",
              "      <th>year_public</th>\n",
              "      <th>floor_type</th>\n",
              "      <th>city_centers_nearest_km</th>\n",
              "    </tr>\n",
              "  </thead>\n",
              "  <tbody>\n",
              "    <tr>\n",
              "      <th>0</th>\n",
              "      <td>20</td>\n",
              "      <td>13000000.0</td>\n",
              "      <td>108.0</td>\n",
              "      <td>2019-03-07</td>\n",
              "      <td>3</td>\n",
              "      <td>2.70</td>\n",
              "      <td>16.0</td>\n",
              "      <td>51.0</td>\n",
              "      <td>8</td>\n",
              "      <td>False</td>\n",
              "      <td>...</td>\n",
              "      <td>482.0</td>\n",
              "      <td>2</td>\n",
              "      <td>755.0</td>\n",
              "      <td>NaN</td>\n",
              "      <td>120370.37</td>\n",
              "      <td>3</td>\n",
              "      <td>3</td>\n",
              "      <td>2019</td>\n",
              "      <td>другой</td>\n",
              "      <td>16.0</td>\n",
              "    </tr>\n",
              "    <tr>\n",
              "      <th>1</th>\n",
              "      <td>7</td>\n",
              "      <td>3350000.0</td>\n",
              "      <td>40.4</td>\n",
              "      <td>2018-12-04</td>\n",
              "      <td>1</td>\n",
              "      <td>NaN</td>\n",
              "      <td>11.0</td>\n",
              "      <td>18.6</td>\n",
              "      <td>1</td>\n",
              "      <td>False</td>\n",
              "      <td>...</td>\n",
              "      <td>NaN</td>\n",
              "      <td>0</td>\n",
              "      <td>NaN</td>\n",
              "      <td>81.0</td>\n",
              "      <td>82920.79</td>\n",
              "      <td>1</td>\n",
              "      <td>12</td>\n",
              "      <td>2018</td>\n",
              "      <td>первый</td>\n",
              "      <td>19.0</td>\n",
              "    </tr>\n",
              "    <tr>\n",
              "      <th>2</th>\n",
              "      <td>10</td>\n",
              "      <td>5196000.0</td>\n",
              "      <td>56.0</td>\n",
              "      <td>2015-08-20</td>\n",
              "      <td>2</td>\n",
              "      <td>NaN</td>\n",
              "      <td>5.0</td>\n",
              "      <td>34.3</td>\n",
              "      <td>4</td>\n",
              "      <td>False</td>\n",
              "      <td>...</td>\n",
              "      <td>90.0</td>\n",
              "      <td>2</td>\n",
              "      <td>574.0</td>\n",
              "      <td>558.0</td>\n",
              "      <td>92785.71</td>\n",
              "      <td>3</td>\n",
              "      <td>8</td>\n",
              "      <td>2015</td>\n",
              "      <td>другой</td>\n",
              "      <td>14.0</td>\n",
              "    </tr>\n",
              "    <tr>\n",
              "      <th>3</th>\n",
              "      <td>0</td>\n",
              "      <td>64900000.0</td>\n",
              "      <td>159.0</td>\n",
              "      <td>2015-07-24</td>\n",
              "      <td>3</td>\n",
              "      <td>NaN</td>\n",
              "      <td>14.0</td>\n",
              "      <td>NaN</td>\n",
              "      <td>9</td>\n",
              "      <td>False</td>\n",
              "      <td>...</td>\n",
              "      <td>84.0</td>\n",
              "      <td>3</td>\n",
              "      <td>234.0</td>\n",
              "      <td>424.0</td>\n",
              "      <td>408176.10</td>\n",
              "      <td>4</td>\n",
              "      <td>7</td>\n",
              "      <td>2015</td>\n",
              "      <td>другой</td>\n",
              "      <td>7.0</td>\n",
              "    </tr>\n",
              "    <tr>\n",
              "      <th>4</th>\n",
              "      <td>2</td>\n",
              "      <td>10000000.0</td>\n",
              "      <td>100.0</td>\n",
              "      <td>2018-06-19</td>\n",
              "      <td>2</td>\n",
              "      <td>3.03</td>\n",
              "      <td>14.0</td>\n",
              "      <td>32.0</td>\n",
              "      <td>13</td>\n",
              "      <td>False</td>\n",
              "      <td>...</td>\n",
              "      <td>112.0</td>\n",
              "      <td>1</td>\n",
              "      <td>48.0</td>\n",
              "      <td>121.0</td>\n",
              "      <td>100000.00</td>\n",
              "      <td>1</td>\n",
              "      <td>6</td>\n",
              "      <td>2018</td>\n",
              "      <td>другой</td>\n",
              "      <td>8.0</td>\n",
              "    </tr>\n",
              "  </tbody>\n",
              "</table>\n",
              "<p>5 rows × 28 columns</p>\n",
              "</div>"
            ],
            "text/plain": [
              "   total_images  last_price  total_area first_day_exposition  rooms  \\\n",
              "0            20  13000000.0       108.0           2019-03-07      3   \n",
              "1             7   3350000.0        40.4           2018-12-04      1   \n",
              "2            10   5196000.0        56.0           2015-08-20      2   \n",
              "3             0  64900000.0       159.0           2015-07-24      3   \n",
              "4             2  10000000.0       100.0           2018-06-19      2   \n",
              "\n",
              "   ceiling_height  floors_total  living_area  floor  is_apartment  ...  \\\n",
              "0            2.70          16.0         51.0      8         False  ...   \n",
              "1             NaN          11.0         18.6      1         False  ...   \n",
              "2             NaN           5.0         34.3      4         False  ...   \n",
              "3             NaN          14.0          NaN      9         False  ...   \n",
              "4            3.03          14.0         32.0     13         False  ...   \n",
              "\n",
              "   parks_nearest  ponds_around_3000  ponds_nearest  days_exposition  \\\n",
              "0          482.0                  2          755.0              NaN   \n",
              "1            NaN                  0            NaN             81.0   \n",
              "2           90.0                  2          574.0            558.0   \n",
              "3           84.0                  3          234.0            424.0   \n",
              "4          112.0                  1           48.0            121.0   \n",
              "\n",
              "  meter_cost  weekday  month_public  year_public  floor_type  \\\n",
              "0  120370.37        3             3         2019      другой   \n",
              "1   82920.79        1            12         2018      первый   \n",
              "2   92785.71        3             8         2015      другой   \n",
              "3  408176.10        4             7         2015      другой   \n",
              "4  100000.00        1             6         2018      другой   \n",
              "\n",
              "   city_centers_nearest_km  \n",
              "0                     16.0  \n",
              "1                     19.0  \n",
              "2                     14.0  \n",
              "3                      7.0  \n",
              "4                      8.0  \n",
              "\n",
              "[5 rows x 28 columns]"
            ]
          },
          "execution_count": 134,
          "metadata": {},
          "output_type": "execute_result"
        }
      ],
      "source": [
        "data.head()"
      ]
    },
    {
      "cell_type": "markdown",
      "metadata": {
        "id": "m6M6K2znDouN"
      },
      "source": [
        "**Итог:** все столбцы добавлены и отображаются корректно."
      ]
    },
    {
      "cell_type": "markdown",
      "metadata": {
        "id": "pPyxrKWTAwb-"
      },
      "source": [
        "### Исследовательский анализ данных"
      ]
    },
    {
      "cell_type": "markdown",
      "metadata": {
        "id": "V2f0D3kLAwb-"
      },
      "source": [
        "**4.1 Анализ общей площади**"
      ]
    },
    {
      "cell_type": "code",
      "execution_count": null,
      "metadata": {
        "id": "DbLZQvX4DouO",
        "outputId": "8ba12064-bba8-410f-ecc0-bbf2345a8d21"
      },
      "outputs": [
        {
          "data": {
            "text/plain": [
              "count    23699.000000\n",
              "mean        60.348651\n",
              "std         35.654083\n",
              "min         12.000000\n",
              "25%         40.000000\n",
              "50%         52.000000\n",
              "75%         69.900000\n",
              "max        900.000000\n",
              "Name: total_area, dtype: float64"
            ]
          },
          "execution_count": 135,
          "metadata": {},
          "output_type": "execute_result"
        }
      ],
      "source": [
        "data['total_area'].describe()"
      ]
    },
    {
      "cell_type": "markdown",
      "metadata": {
        "id": "CHvQfxkEDouO"
      },
      "source": [
        "Максимальное значение 900 кв. м, что значительно выше среднего и медианы. Посмотрим, не является ли ошибкой."
      ]
    },
    {
      "cell_type": "code",
      "execution_count": null,
      "metadata": {
        "id": "pAIplBVbDouO",
        "outputId": "efd8fd9c-aa3a-40f1-8ac1-0941df426084"
      },
      "outputs": [
        {
          "data": {
            "text/html": [
              "<div>\n",
              "<style scoped>\n",
              "    .dataframe tbody tr th:only-of-type {\n",
              "        vertical-align: middle;\n",
              "    }\n",
              "\n",
              "    .dataframe tbody tr th {\n",
              "        vertical-align: top;\n",
              "    }\n",
              "\n",
              "    .dataframe thead th {\n",
              "        text-align: right;\n",
              "    }\n",
              "</style>\n",
              "<table border=\"1\" class=\"dataframe\">\n",
              "  <thead>\n",
              "    <tr style=\"text-align: right;\">\n",
              "      <th></th>\n",
              "      <th>total_images</th>\n",
              "      <th>last_price</th>\n",
              "      <th>total_area</th>\n",
              "      <th>first_day_exposition</th>\n",
              "      <th>rooms</th>\n",
              "      <th>ceiling_height</th>\n",
              "      <th>floors_total</th>\n",
              "      <th>living_area</th>\n",
              "      <th>floor</th>\n",
              "      <th>is_apartment</th>\n",
              "      <th>...</th>\n",
              "      <th>parks_nearest</th>\n",
              "      <th>ponds_around_3000</th>\n",
              "      <th>ponds_nearest</th>\n",
              "      <th>days_exposition</th>\n",
              "      <th>meter_cost</th>\n",
              "      <th>weekday</th>\n",
              "      <th>month_public</th>\n",
              "      <th>year_public</th>\n",
              "      <th>floor_type</th>\n",
              "      <th>city_centers_nearest_km</th>\n",
              "    </tr>\n",
              "  </thead>\n",
              "  <tbody>\n",
              "    <tr>\n",
              "      <th>19540</th>\n",
              "      <td>8</td>\n",
              "      <td>420000000.0</td>\n",
              "      <td>900.0</td>\n",
              "      <td>2017-12-06</td>\n",
              "      <td>12</td>\n",
              "      <td>2.8</td>\n",
              "      <td>25.0</td>\n",
              "      <td>409.7</td>\n",
              "      <td>25</td>\n",
              "      <td>False</td>\n",
              "      <td>...</td>\n",
              "      <td>NaN</td>\n",
              "      <td>2</td>\n",
              "      <td>318.0</td>\n",
              "      <td>106.0</td>\n",
              "      <td>466666.67</td>\n",
              "      <td>2</td>\n",
              "      <td>12</td>\n",
              "      <td>2017</td>\n",
              "      <td>последний</td>\n",
              "      <td>8.0</td>\n",
              "    </tr>\n",
              "  </tbody>\n",
              "</table>\n",
              "<p>1 rows × 28 columns</p>\n",
              "</div>"
            ],
            "text/plain": [
              "       total_images   last_price  total_area first_day_exposition  rooms  \\\n",
              "19540             8  420000000.0       900.0           2017-12-06     12   \n",
              "\n",
              "       ceiling_height  floors_total  living_area  floor  is_apartment  ...  \\\n",
              "19540             2.8          25.0        409.7     25         False  ...   \n",
              "\n",
              "       parks_nearest  ponds_around_3000  ponds_nearest  days_exposition  \\\n",
              "19540            NaN                  2          318.0            106.0   \n",
              "\n",
              "      meter_cost  weekday  month_public  year_public  floor_type  \\\n",
              "19540  466666.67        2            12         2017   последний   \n",
              "\n",
              "       city_centers_nearest_km  \n",
              "19540                      8.0  \n",
              "\n",
              "[1 rows x 28 columns]"
            ]
          },
          "execution_count": 136,
          "metadata": {},
          "output_type": "execute_result"
        }
      ],
      "source": [
        "data.query('total_area == 900')"
      ]
    },
    {
      "cell_type": "markdown",
      "metadata": {
        "id": "_9XwDxcFDouO"
      },
      "source": [
        "Скорее всего нет, так как другие параметры, так как цена, количество комнат, жилая зона и т.д. кажутся адекватными для такой площади.\n",
        "Как видно из гистограммы в начале, квартир площадью более 200 относительно мало. Посмотрим сколько их."
      ]
    },
    {
      "cell_type": "code",
      "execution_count": null,
      "metadata": {
        "id": "BpqQVPIRDouO",
        "outputId": "5f1a0768-61d0-4625-9620-0fdfd853349b"
      },
      "outputs": [
        {
          "data": {
            "text/plain": [
              "231"
            ]
          },
          "execution_count": 137,
          "metadata": {},
          "output_type": "execute_result"
        }
      ],
      "source": [
        "data.loc[data['total_area'] >= 200]['total_area'].count()"
      ]
    },
    {
      "cell_type": "markdown",
      "metadata": {
        "id": "7OHsJ8tODouO"
      },
      "source": [
        "Таких квартир немного, соответственно исключение слишком больших значений не скажет негативно на качестве данных."
      ]
    },
    {
      "cell_type": "code",
      "execution_count": null,
      "metadata": {
        "id": "bY_KOu4ZDouO"
      },
      "outputs": [],
      "source": [
        "data_filtered = data.loc[data['total_area'] < 200]"
      ]
    },
    {
      "cell_type": "code",
      "execution_count": null,
      "metadata": {
        "id": "9-tyB3paDouO",
        "outputId": "4d421a45-c7c5-42f9-d217-3f14425b133d"
      },
      "outputs": [
        {
          "data": {
            "text/plain": [
              "<AxesSubplot:>"
            ]
          },
          "execution_count": 139,
          "metadata": {},
          "output_type": "execute_result"
        },
        {
          "data": {
            "image/png": "[encoded data removed]",
            "text/plain": [
              "<Figure size 432x288 with 1 Axes>"
            ]
          },
          "metadata": {
            "needs_background": "light"
          },
          "output_type": "display_data"
        }
      ],
      "source": [
        "data_filtered['total_area'].hist(bins=30)"
      ]
    },
    {
      "cell_type": "markdown",
      "metadata": {
        "id": "fhT3Hh79DouP"
      },
      "source": [
        "**Итог:** редкие данные исключены, гистограмма построена. Наибольшее количество квартир с площадью от 25 до 100 кв. м."
      ]
    },
    {
      "cell_type": "markdown",
      "metadata": {
        "id": "SXQgdULuDouP"
      },
      "source": [
        "**4.2 Анализ жилой площади**"
      ]
    },
    {
      "cell_type": "code",
      "execution_count": null,
      "metadata": {
        "id": "Ady-Rxl0DouP",
        "outputId": "bc0b1be4-63b9-4677-a2ff-5bf63d800957"
      },
      "outputs": [
        {
          "data": {
            "text/plain": [
              "count    21594.000000\n",
              "mean        33.243075\n",
              "std         17.345962\n",
              "min          2.000000\n",
              "25%         18.600000\n",
              "50%         30.000000\n",
              "75%         42.000000\n",
              "max        164.700000\n",
              "Name: living_area, dtype: float64"
            ]
          },
          "execution_count": 140,
          "metadata": {},
          "output_type": "execute_result"
        }
      ],
      "source": [
        "data_filtered['living_area'].describe()"
      ]
    },
    {
      "cell_type": "markdown",
      "metadata": {
        "id": "I_bp0534DouP"
      },
      "source": [
        "Посмотрим сколько квартир с жилой зоной площадью более 150 кв. м."
      ]
    },
    {
      "cell_type": "code",
      "execution_count": null,
      "metadata": {
        "id": "35WOHU5kDouP",
        "outputId": "4cbb7887-8f2c-4e52-a54c-bd9de6945540"
      },
      "outputs": [
        {
          "data": {
            "text/plain": [
              "3"
            ]
          },
          "execution_count": 141,
          "metadata": {},
          "output_type": "execute_result"
        }
      ],
      "source": [
        "data_filtered.loc[data_filtered['living_area'] >= 150]['living_area'].count()"
      ]
    },
    {
      "cell_type": "markdown",
      "metadata": {
        "id": "N2a_M8e_DouP"
      },
      "source": [
        "Таких квартир немного, соответственно исключение слишком больших значений не скажет негативно на качестве данных."
      ]
    },
    {
      "cell_type": "code",
      "execution_count": null,
      "metadata": {
        "id": "YpUbMsfEDouP"
      },
      "outputs": [],
      "source": [
        "data_filtered = data_filtered.loc[(data_filtered['living_area'] < 150) | (data_filtered['living_area'].isna())]"
      ]
    },
    {
      "cell_type": "code",
      "execution_count": null,
      "metadata": {
        "scrolled": true,
        "id": "oBBErhZSDouP",
        "outputId": "c1323283-cdfe-465c-b7c0-04f2e2c1570d"
      },
      "outputs": [
        {
          "data": {
            "text/plain": [
              "<AxesSubplot:>"
            ]
          },
          "execution_count": 143,
          "metadata": {},
          "output_type": "execute_result"
        },
        {
          "data": {
            "image/png": "[encoded data removed]",
            "text/plain": [
              "<Figure size 432x288 with 1 Axes>"
            ]
          },
          "metadata": {
            "needs_background": "light"
          },
          "output_type": "display_data"
        }
      ],
      "source": [
        "data_filtered['living_area'].hist(bins=30)"
      ]
    },
    {
      "cell_type": "markdown",
      "metadata": {
        "id": "4Y_wkNF1DouP"
      },
      "source": [
        "**Итог:** редкие данные исключены, гистограмма построена. Наблюдается два пика: 20 кв. м и 30 кв. м."
      ]
    },
    {
      "cell_type": "markdown",
      "metadata": {
        "id": "-65tEV01DouP"
      },
      "source": [
        "**4.3 Анализ площади кухни**\n"
      ]
    },
    {
      "cell_type": "code",
      "execution_count": null,
      "metadata": {
        "id": "j6q-cLT-DouQ",
        "outputId": "47c1bbdf-ef11-45a4-efe7-0c9b55412a48"
      },
      "outputs": [
        {
          "data": {
            "text/plain": [
              "count    21217.00000\n",
              "mean        10.38388\n",
              "std          5.36811\n",
              "min          1.30000\n",
              "25%          7.00000\n",
              "50%          9.00000\n",
              "75%         12.00000\n",
              "max         93.20000\n",
              "Name: kitchen_area, dtype: float64"
            ]
          },
          "execution_count": 144,
          "metadata": {},
          "output_type": "execute_result"
        }
      ],
      "source": [
        "data_filtered['kitchen_area'].describe()"
      ]
    },
    {
      "cell_type": "markdown",
      "metadata": {
        "id": "NIvSqjnIDouQ"
      },
      "source": [
        "Посмотрим сколько квартир, где кухня имеет площадь более 40 кв. м (на основе гистограммы в начале)."
      ]
    },
    {
      "cell_type": "code",
      "execution_count": null,
      "metadata": {
        "id": "PKsmiLOhDouQ",
        "outputId": "9bef389c-f063-4f88-abb1-55f6501a4a31"
      },
      "outputs": [
        {
          "data": {
            "text/plain": [
              "34"
            ]
          },
          "execution_count": 145,
          "metadata": {},
          "output_type": "execute_result"
        }
      ],
      "source": [
        "data_filtered.loc[data_filtered['kitchen_area'] >= 50]['kitchen_area'].count()"
      ]
    },
    {
      "cell_type": "markdown",
      "metadata": {
        "id": "zRXuxIogDouQ"
      },
      "source": [
        "Таких квартир немного, соответственно исключение слишком больших значений не скажет негативно на качестве данных."
      ]
    },
    {
      "cell_type": "code",
      "execution_count": null,
      "metadata": {
        "id": "OjLSUsvqDouQ"
      },
      "outputs": [],
      "source": [
        "data_filtered = data_filtered.loc[(data_filtered['kitchen_area'] < 50) | (data_filtered['kitchen_area'].isna())]"
      ]
    },
    {
      "cell_type": "code",
      "execution_count": null,
      "metadata": {
        "id": "wR4x604TDouQ",
        "outputId": "25b2adcb-c7e7-433f-df93-cb452f36b9f2"
      },
      "outputs": [
        {
          "data": {
            "text/plain": [
              "<AxesSubplot:>"
            ]
          },
          "execution_count": 147,
          "metadata": {},
          "output_type": "execute_result"
        },
        {
          "data": {
            "image/png": "[encoded data removed]",
            "text/plain": [
              "<Figure size 432x288 with 1 Axes>"
            ]
          },
          "metadata": {
            "needs_background": "light"
          },
          "output_type": "display_data"
        }
      ],
      "source": [
        "data_filtered['kitchen_area'].hist(bins=30)"
      ]
    },
    {
      "cell_type": "markdown",
      "metadata": {
        "id": "SJcLfCIkDouQ"
      },
      "source": [
        "**Итог:** редкие данные исключены, гистограмма построена. Наибольшее количество квартир с кухней около 8-9 кв. м."
      ]
    },
    {
      "cell_type": "markdown",
      "metadata": {
        "id": "sIwNQ-tVDouQ"
      },
      "source": [
        "**4.4 Анализ цены объекта**"
      ]
    },
    {
      "cell_type": "code",
      "execution_count": null,
      "metadata": {
        "id": "tEOYAbq-DouQ",
        "outputId": "e69c8d78-d74f-424d-8496-5a792dc84e2f"
      },
      "outputs": [
        {
          "data": {
            "text/plain": [
              "count    2.343100e+04\n",
              "mean     5.973676e+06\n",
              "std      6.003165e+06\n",
              "min      1.219000e+04\n",
              "25%      3.400000e+06\n",
              "50%      4.600000e+06\n",
              "75%      6.680500e+06\n",
              "max      3.300000e+08\n",
              "Name: last_price, dtype: float64"
            ]
          },
          "execution_count": 148,
          "metadata": {},
          "output_type": "execute_result"
        }
      ],
      "source": [
        "data_filtered['last_price'].describe()"
      ]
    },
    {
      "cell_type": "markdown",
      "metadata": {
        "id": "YOMH2yewDouQ"
      },
      "source": [
        "Посмотрим, сколько квартир дороже 50 млн (на основе гистограммы в начале)."
      ]
    },
    {
      "cell_type": "code",
      "execution_count": null,
      "metadata": {
        "id": "31QZfXLIDouQ",
        "outputId": "96b873d6-f7a0-4735-bd0a-36bcc8ef1675"
      },
      "outputs": [
        {
          "data": {
            "text/plain": [
              "47"
            ]
          },
          "execution_count": 149,
          "metadata": {},
          "output_type": "execute_result"
        }
      ],
      "source": [
        "data_filtered.loc[data_filtered['last_price'] >= 5.00e+07]['last_price'].count()"
      ]
    },
    {
      "cell_type": "markdown",
      "metadata": {
        "id": "I-vvGxamDouR"
      },
      "source": [
        "Таких квартир немного, соответственно исключение слишком больших значений не скажет негативно на качестве данных."
      ]
    },
    {
      "cell_type": "code",
      "execution_count": null,
      "metadata": {
        "id": "o1bS5kBcDouR"
      },
      "outputs": [],
      "source": [
        "data_filtered = data_filtered.loc[(data_filtered['last_price'] < 5.00e+07) | (data_filtered['last_price'].isna())]"
      ]
    },
    {
      "cell_type": "code",
      "execution_count": null,
      "metadata": {
        "id": "j_XL_FkvDouR",
        "outputId": "2f39390e-49bf-480d-8a6c-db9be63bb5f0"
      },
      "outputs": [
        {
          "data": {
            "text/plain": [
              "<AxesSubplot:>"
            ]
          },
          "execution_count": 151,
          "metadata": {},
          "output_type": "execute_result"
        },
        {
          "data": {
            "image/png": "[encoded data removed]",
            "text/plain": [
              "<Figure size 432x288 with 1 Axes>"
            ]
          },
          "metadata": {
            "needs_background": "light"
          },
          "output_type": "display_data"
        }
      ],
      "source": [
        "data_filtered['last_price'].hist(bins=30)"
      ]
    },
    {
      "cell_type": "markdown",
      "metadata": {
        "id": "zyZ84_IYDouR"
      },
      "source": [
        "**Итог:** редкие данные исключены, гистограмма построена. Наибольшее количество квартир с ценой около 5 млн."
      ]
    },
    {
      "cell_type": "markdown",
      "metadata": {
        "id": "VyfYghu7DouR"
      },
      "source": [
        "**4.5 Анализ количества комнат**"
      ]
    },
    {
      "cell_type": "code",
      "execution_count": null,
      "metadata": {
        "id": "Rvuy_IEMDouR",
        "outputId": "a4b57f52-ef34-48e4-81f7-05fa2b7ef4fe"
      },
      "outputs": [
        {
          "data": {
            "text/plain": [
              "count    23384.000000\n",
              "mean         2.029678\n",
              "std          0.992453\n",
              "min          0.000000\n",
              "25%          1.000000\n",
              "50%          2.000000\n",
              "75%          3.000000\n",
              "max         11.000000\n",
              "Name: rooms, dtype: float64"
            ]
          },
          "execution_count": 152,
          "metadata": {},
          "output_type": "execute_result"
        }
      ],
      "source": [
        "data_filtered['rooms'].describe()"
      ]
    },
    {
      "cell_type": "markdown",
      "metadata": {
        "id": "6Y1an2HoDouR"
      },
      "source": [
        "Квартир, где комнат более 6, немного (на основании гистограммы в начале). Соответственно исключение слишком больших значений не скажет негативно на качестве данных."
      ]
    },
    {
      "cell_type": "code",
      "execution_count": null,
      "metadata": {
        "id": "mYosTxo_DouR"
      },
      "outputs": [],
      "source": [
        "data_filtered = data_filtered.loc[(data_filtered['rooms'] < 6) | (data_filtered['rooms'].isna())]"
      ]
    },
    {
      "cell_type": "code",
      "execution_count": null,
      "metadata": {
        "id": "sgXkTfT8DouR",
        "outputId": "4dc6f356-823d-4437-c40b-ad402898e71a"
      },
      "outputs": [
        {
          "data": {
            "text/plain": [
              "<AxesSubplot:>"
            ]
          },
          "execution_count": 154,
          "metadata": {},
          "output_type": "execute_result"
        },
        {
          "data": {
            "image/png": "[encoded data removed]",
            "text/plain": [
              "<Figure size 432x288 with 1 Axes>"
            ]
          },
          "metadata": {
            "needs_background": "light"
          },
          "output_type": "display_data"
        }
      ],
      "source": [
        "data_filtered['rooms'].hist(bins=5)"
      ]
    },
    {
      "cell_type": "markdown",
      "metadata": {
        "id": "mUfvUKTxDouR"
      },
      "source": [
        "**Итог:** редкие данные исключены, гистограмма построена. Наибольшее количество квартир с количеством комнат от 1 до 3.\n",
        "Квартиры, где 0 комнат - это квартиры-студии или со свободной планировкой."
      ]
    },
    {
      "cell_type": "markdown",
      "metadata": {
        "id": "HmfjXALhDouR"
      },
      "source": [
        "**4.6 Анализ высоты потолков**"
      ]
    },
    {
      "cell_type": "code",
      "execution_count": null,
      "metadata": {
        "id": "Z8o-AOGnDouS",
        "outputId": "6ecad3dd-654f-4522-844e-e63919b5066b"
      },
      "outputs": [
        {
          "data": {
            "text/plain": [
              "count    14236.000000\n",
              "mean         2.761177\n",
              "std          1.268774\n",
              "min          1.000000\n",
              "25%          2.500000\n",
              "50%          2.650000\n",
              "75%          2.800000\n",
              "max        100.000000\n",
              "Name: ceiling_height, dtype: float64"
            ]
          },
          "execution_count": 155,
          "metadata": {},
          "output_type": "execute_result"
        }
      ],
      "source": [
        "data_filtered['ceiling_height'].describe()"
      ]
    },
    {
      "cell_type": "markdown",
      "metadata": {
        "id": "5BZ1_b1aDouS"
      },
      "source": [
        "Очевидно, что есть очень большие значения, явно ошибочные. Их необходимо скорректировать."
      ]
    },
    {
      "cell_type": "code",
      "execution_count": null,
      "metadata": {
        "id": "7BquxtULDouS",
        "outputId": "5685a0b7-cfed-464a-9965-783074d74665"
      },
      "outputs": [
        {
          "data": {
            "text/plain": [
              "count    14236.000000\n",
              "mean         2.718497\n",
              "std          0.304798\n",
              "min          1.000000\n",
              "25%          2.500000\n",
              "50%          2.650000\n",
              "75%          2.800000\n",
              "max         14.000000\n",
              "Name: ceiling_height, dtype: float64"
            ]
          },
          "execution_count": 156,
          "metadata": {},
          "output_type": "execute_result"
        }
      ],
      "source": [
        "def calc_height(height):\n",
        "    if height['ceiling_height'] >= 20:\n",
        "        return height['ceiling_height'] / 10\n",
        "    else:\n",
        "        return height['ceiling_height']\n",
        "\n",
        "data_filtered['ceiling_height'] = data_filtered.apply(calc_height, axis=1)\n",
        "data_filtered['ceiling_height'].describe()"
      ]
    },
    {
      "cell_type": "markdown",
      "metadata": {
        "id": "CsLFIdFMDouS"
      },
      "source": [
        "Значения, записанные с ошибкой, исправлены. Теперь надо удалить из выборки \"аномальные\" значения. Такими будем считать значения, которые меньше 2 метра и более 4 метров. Сперва посмотрим сколько таких:"
      ]
    },
    {
      "cell_type": "code",
      "execution_count": null,
      "metadata": {
        "id": "Oj3XHr2DDouS",
        "outputId": "f9290e33-c06d-419c-cf36-b07395f974fd"
      },
      "outputs": [
        {
          "data": {
            "text/plain": [
              "84"
            ]
          },
          "execution_count": 157,
          "metadata": {},
          "output_type": "execute_result"
        }
      ],
      "source": [
        "data_filtered.loc[(data_filtered['ceiling_height'] <= 2) | (data_filtered['ceiling_height'] >= 4)]['ceiling_height'].count()"
      ]
    },
    {
      "cell_type": "markdown",
      "metadata": {
        "id": "o-b4JbOjDouS"
      },
      "source": [
        "Таких квартир немного, соответственно исключение слишком больших значений не скажет негативно на качестве данных."
      ]
    },
    {
      "cell_type": "code",
      "execution_count": null,
      "metadata": {
        "id": "4tJur9NFDouS"
      },
      "outputs": [],
      "source": [
        "data_filtered = data_filtered.loc[((data_filtered['ceiling_height'] <= 4) & (data_filtered['ceiling_height'] >= 2)) | (data_filtered['ceiling_height'].isna())]"
      ]
    },
    {
      "cell_type": "code",
      "execution_count": null,
      "metadata": {
        "id": "xk7Q0AmADouS",
        "outputId": "0c8101b4-a752-46cd-b016-9094853222a9"
      },
      "outputs": [
        {
          "data": {
            "text/plain": [
              "<AxesSubplot:>"
            ]
          },
          "execution_count": 159,
          "metadata": {},
          "output_type": "execute_result"
        },
        {
          "data": {
            "image/png": "[encoded data removed]",
            "text/plain": [
              "<Figure size 432x288 with 1 Axes>"
            ]
          },
          "metadata": {
            "needs_background": "light"
          },
          "output_type": "display_data"
        }
      ],
      "source": [
        "data_filtered['ceiling_height'].hist(bins=30)"
      ]
    },
    {
      "cell_type": "markdown",
      "metadata": {
        "id": "yd96r28ADouS"
      },
      "source": [
        "**Итог:** редкие данные исключены, гистограмма построена. Наибольшее количество квартир с высотой потолков 2,5 м."
      ]
    },
    {
      "cell_type": "markdown",
      "metadata": {
        "id": "i36wZLmHDouS"
      },
      "source": [
        "**4.7 Анализ типа этажа квартиры**\n"
      ]
    },
    {
      "cell_type": "code",
      "execution_count": null,
      "metadata": {
        "id": "agkmUo1DDouS",
        "outputId": "ffcf7915-5244-45ae-a993-0cb0e125b73a"
      },
      "outputs": [
        {
          "data": {
            "text/plain": [
              "<AxesSubplot:>"
            ]
          },
          "execution_count": 160,
          "metadata": {},
          "output_type": "execute_result"
        },
        {
          "data": {
            "image/png": "[encoded data removed]",
            "text/plain": [
              "<Figure size 432x288 with 1 Axes>"
            ]
          },
          "metadata": {
            "needs_background": "light"
          },
          "output_type": "display_data"
        }
      ],
      "source": [
        "data_filtered['floor_type'].hist(bins=3)"
      ]
    },
    {
      "cell_type": "markdown",
      "metadata": {
        "id": "MpIUF3jFDouT"
      },
      "source": [
        "**Итог:** аномальных значений нет. Наибольшее количество квартир на этажах, не являющихся ни первым, ни последним."
      ]
    },
    {
      "cell_type": "markdown",
      "metadata": {
        "id": "OUDhasOcDouT"
      },
      "source": [
        "**4.8 Анализ общего количества этажей в доме**\n"
      ]
    },
    {
      "cell_type": "code",
      "execution_count": null,
      "metadata": {
        "id": "SYGgyz9SDouU",
        "outputId": "4c840a0b-6d14-4d3f-bc06-d7a3c4d93eff"
      },
      "outputs": [
        {
          "data": {
            "text/plain": [
              "count    23175.000000\n",
              "mean        10.747314\n",
              "std          6.613673\n",
              "min          1.000000\n",
              "25%          5.000000\n",
              "50%          9.000000\n",
              "75%         16.000000\n",
              "max         60.000000\n",
              "Name: floors_total, dtype: float64"
            ]
          },
          "execution_count": 161,
          "metadata": {},
          "output_type": "execute_result"
        }
      ],
      "source": [
        "data_filtered['floors_total'].describe()"
      ]
    },
    {
      "cell_type": "markdown",
      "metadata": {
        "id": "05Hs-Xv6DouU"
      },
      "source": [
        "Посмотрим, сколько квартир в домах, с количеством этажей больше 30."
      ]
    },
    {
      "cell_type": "code",
      "execution_count": null,
      "metadata": {
        "id": "MsfejL0MDouV",
        "outputId": "ee4be074-f908-463b-fb70-8abd24995d19"
      },
      "outputs": [
        {
          "data": {
            "text/plain": [
              "31"
            ]
          },
          "execution_count": 162,
          "metadata": {},
          "output_type": "execute_result"
        }
      ],
      "source": [
        "data_filtered.loc[data_filtered['floors_total'] >= 30]['floors_total'].count()"
      ]
    },
    {
      "cell_type": "markdown",
      "metadata": {
        "id": "UR7oO2lGDouV"
      },
      "source": [
        "Таких квартир немного, соответственно исключение слишком больших значений не скажет негативно на качестве данных."
      ]
    },
    {
      "cell_type": "code",
      "execution_count": null,
      "metadata": {
        "id": "Mq9OQTHYDouV"
      },
      "outputs": [],
      "source": [
        "data_filtered = data_filtered.loc[(data_filtered['floors_total'] <= 30) | (data_filtered['floors_total'].isna())]"
      ]
    },
    {
      "cell_type": "code",
      "execution_count": null,
      "metadata": {
        "id": "kZVflKWnDouV",
        "outputId": "701decc7-2eae-4da4-af22-c9ef069aac30"
      },
      "outputs": [
        {
          "data": {
            "text/plain": [
              "<AxesSubplot:>"
            ]
          },
          "execution_count": 164,
          "metadata": {},
          "output_type": "execute_result"
        },
        {
          "data": {
            "image/png": "[encoded data removed]",
            "text/plain": [
              "<Figure size 432x288 with 1 Axes>"
            ]
          },
          "metadata": {
            "needs_background": "light"
          },
          "output_type": "display_data"
        }
      ],
      "source": [
        "data_filtered['floors_total'].hist(bins=30)"
      ]
    },
    {
      "cell_type": "markdown",
      "metadata": {
        "id": "vx-PWzohDouV"
      },
      "source": [
        "**Итог:** редкие данные исключены, гистограмма построена. Наибольшее количество квартир в домах с пятью этажами."
      ]
    },
    {
      "cell_type": "markdown",
      "metadata": {
        "id": "82UtIzYIDouV"
      },
      "source": [
        "**4.9 Анализ расстояния до центра города в метрах**"
      ]
    },
    {
      "cell_type": "code",
      "execution_count": null,
      "metadata": {
        "id": "rTgcqMtBDouV",
        "outputId": "8457e8e7-8b4e-469f-c2b2-f8a5aaa2ab19"
      },
      "outputs": [
        {
          "data": {
            "text/plain": [
              "count    17725.000000\n",
              "mean        14.350973\n",
              "std          8.584374\n",
              "min          0.000000\n",
              "25%         10.000000\n",
              "50%         13.000000\n",
              "75%         16.000000\n",
              "max         66.000000\n",
              "Name: city_centers_nearest_km, dtype: float64"
            ]
          },
          "execution_count": 165,
          "metadata": {},
          "output_type": "execute_result"
        }
      ],
      "source": [
        "data_filtered['city_centers_nearest_km'].describe()"
      ]
    },
    {
      "cell_type": "markdown",
      "metadata": {
        "id": "CRADxj9FDouV"
      },
      "source": [
        "Проверим количество квартир, где удаленность от центра более 55 км."
      ]
    },
    {
      "cell_type": "code",
      "execution_count": null,
      "metadata": {
        "id": "bmgATcqGDouV",
        "outputId": "fbfd1f9d-0b6f-41bf-f502-a00fbfa6f2bc"
      },
      "outputs": [
        {
          "data": {
            "text/plain": [
              "14"
            ]
          },
          "execution_count": 166,
          "metadata": {},
          "output_type": "execute_result"
        }
      ],
      "source": [
        "data_filtered.loc[data_filtered['city_centers_nearest_km'] >= 55]['city_centers_nearest_km'].count()"
      ]
    },
    {
      "cell_type": "markdown",
      "metadata": {
        "id": "qIBdC4XoDouV"
      },
      "source": [
        "Таких квартир немного, соответственно исключение слишком больших значений не скажет негативно на качестве данных."
      ]
    },
    {
      "cell_type": "code",
      "execution_count": null,
      "metadata": {
        "id": "4tT3FI3VDouV"
      },
      "outputs": [],
      "source": [
        "data_filtered = data_filtered.loc[(data_filtered['city_centers_nearest_km'] <= 55) | (data_filtered['city_centers_nearest_km'].isna())]"
      ]
    },
    {
      "cell_type": "code",
      "execution_count": null,
      "metadata": {
        "id": "zEQsdDAxDouW",
        "outputId": "98e2e3db-3b3c-4bcf-a6d7-ee6d3b660640"
      },
      "outputs": [
        {
          "data": {
            "text/plain": [
              "<AxesSubplot:>"
            ]
          },
          "execution_count": 168,
          "metadata": {},
          "output_type": "execute_result"
        },
        {
          "data": {
            "image/png": "[encoded data removed]",
            "text/plain": [
              "<Figure size 432x288 with 1 Axes>"
            ]
          },
          "metadata": {
            "needs_background": "light"
          },
          "output_type": "display_data"
        }
      ],
      "source": [
        "data_filtered['city_centers_nearest_km'].hist(bins=30)"
      ]
    },
    {
      "cell_type": "markdown",
      "metadata": {
        "id": "kj_G4FAYDouW"
      },
      "source": [
        "**Итог:** редкие данные исключены, гистограмма построена. Наибольшее количество объявление о продаже квартир в домах, расположенных примерно в 16-18 км от центра города."
      ]
    },
    {
      "cell_type": "markdown",
      "metadata": {
        "id": "T_Sa-KoRDouW"
      },
      "source": [
        "**4.10 Анализ расстояния до ближайшего парка**"
      ]
    },
    {
      "cell_type": "code",
      "execution_count": null,
      "metadata": {
        "id": "MRGxxB4dDouW",
        "outputId": "52751c58-24b9-4b3b-fd7e-0aee75fcf986"
      },
      "outputs": [
        {
          "data": {
            "text/plain": [
              "count    7774.000000\n",
              "mean      493.536017\n",
              "std       344.490640\n",
              "min         1.000000\n",
              "25%       288.000000\n",
              "50%       456.000000\n",
              "75%       614.750000\n",
              "max      3190.000000\n",
              "Name: parks_nearest, dtype: float64"
            ]
          },
          "execution_count": 169,
          "metadata": {},
          "output_type": "execute_result"
        }
      ],
      "source": [
        "data_filtered['parks_nearest'].describe()"
      ]
    },
    {
      "cell_type": "markdown",
      "metadata": {
        "id": "MzLuuoxfDouW"
      },
      "source": [
        "Проверим количество квартир, где удаленность от парка более 2500 м."
      ]
    },
    {
      "cell_type": "code",
      "execution_count": null,
      "metadata": {
        "id": "N8Hh32y0DouW",
        "outputId": "28f15ce1-5897-49da-8465-0e1ed027c1b7"
      },
      "outputs": [
        {
          "data": {
            "text/plain": [
              "16"
            ]
          },
          "execution_count": 170,
          "metadata": {},
          "output_type": "execute_result"
        }
      ],
      "source": [
        "data_filtered.loc[data_filtered['parks_nearest'] >= 2500]['parks_nearest'].count()"
      ]
    },
    {
      "cell_type": "markdown",
      "metadata": {
        "id": "ECX1yvQGDouW"
      },
      "source": [
        "Таких квартир немного, соответственно исключение слишком больших значений не скажет негативно на качестве данных."
      ]
    },
    {
      "cell_type": "code",
      "execution_count": null,
      "metadata": {
        "id": "OyWuTPuQDouW"
      },
      "outputs": [],
      "source": [
        "data_filtered = data_filtered.loc[(data_filtered['parks_nearest'] <= 2500) | (data_filtered['parks_nearest'].isna())]"
      ]
    },
    {
      "cell_type": "code",
      "execution_count": null,
      "metadata": {
        "id": "R2j_SGoaDouW",
        "outputId": "11fb3b47-f43b-4680-9a71-06a60196fa9f"
      },
      "outputs": [
        {
          "data": {
            "text/plain": [
              "<AxesSubplot:>"
            ]
          },
          "execution_count": 172,
          "metadata": {},
          "output_type": "execute_result"
        },
        {
          "data": {
            "image/png": "[encoded data removed]",
            "text/plain": [
              "<Figure size 432x288 with 1 Axes>"
            ]
          },
          "metadata": {
            "needs_background": "light"
          },
          "output_type": "display_data"
        }
      ],
      "source": [
        "data_filtered['parks_nearest'].hist(bins=30)"
      ]
    },
    {
      "cell_type": "markdown",
      "metadata": {
        "id": "tqh-XfhnDouW"
      },
      "source": [
        "**Итог:** редкие данные исключены, гистограмма построена. Наибольшее количество объявление о продаже квартир в домах, расположенных примерно в 500 метрах от парка."
      ]
    },
    {
      "cell_type": "markdown",
      "metadata": {
        "id": "b5XcSMjlDouW"
      },
      "source": [
        "Посчитаем общее количество удаленных строк."
      ]
    },
    {
      "cell_type": "code",
      "execution_count": null,
      "metadata": {
        "id": "CDFdmtjsDouX",
        "outputId": "f33c2d96-01b7-4221-847d-4ba40dc73809"
      },
      "outputs": [
        {
          "data": {
            "text/plain": [
              "'Всего удалено 499 (2%) строк.'"
            ]
          },
          "execution_count": 173,
          "metadata": {},
          "output_type": "execute_result"
        }
      ],
      "source": [
        "f\"Всего удалено {data['total_images'].count() - data_filtered['total_images'].count()} ({round(100 - (data_filtered['total_images'].count() / data['total_images'].count() * 100))}%) строк.\""
      ]
    },
    {
      "cell_type": "markdown",
      "metadata": {
        "id": "3wF2VLmMDouX"
      },
      "source": [
        "**Общий итог фильтрации данных:** общее количество удаленных строк небольшое и не должно негативно сказаться на качестве анализа."
      ]
    },
    {
      "cell_type": "markdown",
      "metadata": {
        "id": "SPhYaNv_DouX"
      },
      "source": [
        "**4.11 Анализ времени продажи квартиры**"
      ]
    },
    {
      "cell_type": "markdown",
      "metadata": {
        "id": "B-bMu6dKDouX"
      },
      "source": [
        "Построим гистограмму, найдем среднее и медианные значения по времени продажи квартиры."
      ]
    },
    {
      "cell_type": "code",
      "execution_count": null,
      "metadata": {
        "id": "Wlawbv3oDouX",
        "outputId": "395b2ad1-be84-4698-bbc3-20221f82568f"
      },
      "outputs": [
        {
          "data": {
            "text/plain": [
              "<AxesSubplot:>"
            ]
          },
          "execution_count": 174,
          "metadata": {},
          "output_type": "execute_result"
        },
        {
          "data": {
            "image/png": "[encoded data removed]",
            "text/plain": [
              "<Figure size 432x288 with 1 Axes>"
            ]
          },
          "metadata": {
            "needs_background": "light"
          },
          "output_type": "display_data"
        }
      ],
      "source": [
        "data_filtered['days_exposition'].hist(bins=30)"
      ]
    },
    {
      "cell_type": "code",
      "execution_count": null,
      "metadata": {
        "id": "Q33znp-bDouX",
        "outputId": "b7f3aadb-5864-43f4-d791-a6d053ec08ab"
      },
      "outputs": [
        {
          "data": {
            "text/plain": [
              "count    20139.000000\n",
              "mean       178.987636\n",
              "std        217.826173\n",
              "min          1.000000\n",
              "25%         45.000000\n",
              "50%         94.000000\n",
              "75%        228.000000\n",
              "max       1580.000000\n",
              "Name: days_exposition, dtype: float64"
            ]
          },
          "execution_count": 175,
          "metadata": {},
          "output_type": "execute_result"
        }
      ],
      "source": [
        "data_filtered['days_exposition'].describe()"
      ]
    },
    {
      "cell_type": "markdown",
      "metadata": {
        "id": "c9VbT6bRDouX"
      },
      "source": [
        "**Итог:** медиана составляет 94 дня, среднее - 178 дней.  \n",
        "Быстрыми продажами можно назвать те, которые завершились за 45 дней и менее, долгие те, которые не завершены больше 228 дней.   \n",
        "Обычно продажи занимают до 100 дней, это видно по гистограмме (два наибольших пика в зоне до 100 дней)."
      ]
    },
    {
      "cell_type": "markdown",
      "metadata": {
        "id": "8vFSGuNLDouY"
      },
      "source": [
        "**4.12 Анализ факторов, которые влияют на общую стоимость объекта**"
      ]
    },
    {
      "cell_type": "markdown",
      "metadata": {
        "id": "KOJV-0pwDouY"
      },
      "source": [
        "**4.12.1 Анализ корреляции между общей ценой и общей площадью.**"
      ]
    },
    {
      "cell_type": "code",
      "execution_count": null,
      "metadata": {
        "id": "WwUJSTEwDouY",
        "outputId": "76f4469e-abe2-4422-fc95-a9c534005a56"
      },
      "outputs": [
        {
          "data": {
            "text/plain": [
              "<AxesSubplot:xlabel='total_area', ylabel='last_price'>"
            ]
          },
          "execution_count": 176,
          "metadata": {},
          "output_type": "execute_result"
        },
        {
          "data": {
            "image/png": "[encoded data removed]",
            "text/plain": [
              "<Figure size 432x288 with 1 Axes>"
            ]
          },
          "metadata": {
            "needs_background": "light"
          },
          "output_type": "display_data"
        }
      ],
      "source": [
        "data_filtered.plot(x='total_area', y='last_price', kind='scatter', grid=True)"
      ]
    },
    {
      "cell_type": "code",
      "execution_count": null,
      "metadata": {
        "id": "_4ppur00DouY",
        "outputId": "366a6b0a-7366-410b-bd01-14a39ca1f1b0"
      },
      "outputs": [
        {
          "data": {
            "text/plain": [
              "0.764403702307734"
            ]
          },
          "execution_count": 177,
          "metadata": {},
          "output_type": "execute_result"
        }
      ],
      "source": [
        "data_filtered['total_area'].corr(data_filtered['last_price'])"
      ]
    },
    {
      "cell_type": "markdown",
      "metadata": {
        "id": "XMdTJ6kkDouY"
      },
      "source": [
        "**Итог:** согласно диаграмме и расчету, есть корреляция средней величины."
      ]
    },
    {
      "cell_type": "markdown",
      "metadata": {
        "id": "lMMWiMZlDouZ"
      },
      "source": [
        "**4.12.2 Анализ корреляции между общей ценой и жилой площадью**"
      ]
    },
    {
      "cell_type": "code",
      "execution_count": null,
      "metadata": {
        "id": "nRqCTiHuDouZ",
        "outputId": "85233eeb-7855-41ec-c665-f421223574e8"
      },
      "outputs": [
        {
          "data": {
            "text/plain": [
              "<AxesSubplot:xlabel='living_area', ylabel='last_price'>"
            ]
          },
          "execution_count": 178,
          "metadata": {},
          "output_type": "execute_result"
        },
        {
          "data": {
            "image/png": "[encoded data removed]",
            "text/plain": [
              "<Figure size 432x288 with 1 Axes>"
            ]
          },
          "metadata": {
            "needs_background": "light"
          },
          "output_type": "display_data"
        }
      ],
      "source": [
        "data_filtered.plot(x='living_area', y='last_price', kind='scatter', grid=True)"
      ]
    },
    {
      "cell_type": "code",
      "execution_count": null,
      "metadata": {
        "id": "6FEQCCNeDouZ",
        "outputId": "11003445-5b63-4bf0-f92e-93181f7f290d"
      },
      "outputs": [
        {
          "data": {
            "text/plain": [
              "0.6525047542262226"
            ]
          },
          "execution_count": 179,
          "metadata": {},
          "output_type": "execute_result"
        }
      ],
      "source": [
        "data_filtered['living_area'].corr(data_filtered['last_price'])"
      ]
    },
    {
      "cell_type": "markdown",
      "metadata": {
        "id": "RotX82lBDouZ"
      },
      "source": [
        "**Итог:** согласно диаграмме и расчету, есть корреляция средней величины."
      ]
    },
    {
      "cell_type": "markdown",
      "metadata": {
        "id": "uuW8y5wvDouZ"
      },
      "source": [
        "**4.12.3 Анализ корреляции между общей ценой и площади кухни**"
      ]
    },
    {
      "cell_type": "code",
      "execution_count": null,
      "metadata": {
        "id": "JGH-wYUhDouZ",
        "outputId": "33818488-88a7-4bcd-9903-ee579c1b6bb2"
      },
      "outputs": [
        {
          "data": {
            "text/plain": [
              "<AxesSubplot:xlabel='kitchen_area', ylabel='last_price'>"
            ]
          },
          "execution_count": 180,
          "metadata": {},
          "output_type": "execute_result"
        },
        {
          "data": {
            "image/png": "[encoded data removed]",
            "text/plain": [
              "<Figure size 432x288 with 1 Axes>"
            ]
          },
          "metadata": {
            "needs_background": "light"
          },
          "output_type": "display_data"
        }
      ],
      "source": [
        "data_filtered.plot(x='kitchen_area', y='last_price', kind='scatter', grid=True)"
      ]
    },
    {
      "cell_type": "code",
      "execution_count": null,
      "metadata": {
        "id": "Yil9u2m-DouZ",
        "outputId": "cbb273f2-7818-4ad8-e7bd-e954b1764600"
      },
      "outputs": [
        {
          "data": {
            "text/plain": [
              "0.579246728559476"
            ]
          },
          "execution_count": 181,
          "metadata": {},
          "output_type": "execute_result"
        }
      ],
      "source": [
        "data_filtered['kitchen_area'].corr(data_filtered['last_price'])"
      ]
    },
    {
      "cell_type": "markdown",
      "metadata": {
        "id": "JIFRCwjRDouZ"
      },
      "source": [
        "**Итог:** согласно диаграмме и расчету, корреляция есть, но слабее, чем в случае с общей площадью."
      ]
    },
    {
      "cell_type": "markdown",
      "metadata": {
        "id": "_IelBtyhDoua"
      },
      "source": [
        "**4.12.4 Анализ корреляции между общей ценой и количеством комнат**"
      ]
    },
    {
      "cell_type": "code",
      "execution_count": null,
      "metadata": {
        "id": "RNzA16HbDoua",
        "outputId": "38153169-20e2-4c5c-b723-11e7a95e2ae5"
      },
      "outputs": [
        {
          "data": {
            "text/plain": [
              "<AxesSubplot:xlabel='rooms', ylabel='last_price'>"
            ]
          },
          "execution_count": 182,
          "metadata": {},
          "output_type": "execute_result"
        },
        {
          "data": {
            "image/png": "[encoded data removed]",
            "text/plain": [
              "<Figure size 432x288 with 1 Axes>"
            ]
          },
          "metadata": {
            "needs_background": "light"
          },
          "output_type": "display_data"
        }
      ],
      "source": [
        "data_filtered.plot(x='rooms', y='last_price', kind='scatter', grid=True)"
      ]
    },
    {
      "cell_type": "code",
      "execution_count": null,
      "metadata": {
        "id": "Cv_4u1b6Doua",
        "outputId": "187a3d51-fb98-48c9-8731-af0fe091dcce"
      },
      "outputs": [
        {
          "data": {
            "text/plain": [
              "0.4572818078864725"
            ]
          },
          "execution_count": 183,
          "metadata": {},
          "output_type": "execute_result"
        }
      ],
      "source": [
        "data_filtered['rooms'].corr(data_filtered['last_price'])"
      ]
    },
    {
      "cell_type": "markdown",
      "metadata": {
        "id": "PGbsd4HfDoua"
      },
      "source": [
        "**Итог:** согласно диаграмме и расчету, коэффициент корреляции есть, но достаточно небольшая."
      ]
    },
    {
      "cell_type": "markdown",
      "metadata": {
        "id": "UqGmjXHoDoua"
      },
      "source": [
        "**4.12.5 Анализ корреляции между общей ценой и этажом, на котором расположена квартира**"
      ]
    },
    {
      "cell_type": "code",
      "execution_count": null,
      "metadata": {
        "id": "UhKvnYkvDoua",
        "outputId": "d418ef44-0b9f-451c-e859-9266b7d21e32"
      },
      "outputs": [
        {
          "data": {
            "text/plain": [
              "<AxesSubplot:xlabel='floor_type', ylabel='last_price'>"
            ]
          },
          "execution_count": 184,
          "metadata": {},
          "output_type": "execute_result"
        },
        {
          "data": {
            "image/png": "[encoded data removed]",
            "text/plain": [
              "<Figure size 432x288 with 1 Axes>"
            ]
          },
          "metadata": {
            "needs_background": "light"
          },
          "output_type": "display_data"
        }
      ],
      "source": [
        "data_filtered.plot(x='floor_type', y='last_price', kind='scatter', grid=True)"
      ]
    },
    {
      "cell_type": "code",
      "execution_count": null,
      "metadata": {
        "id": "7dYjYxolDoua",
        "outputId": "916130cd-16a0-475d-fcbc-5f8649edc44b"
      },
      "outputs": [
        {
          "data": {
            "text/plain": [
              "<AxesSubplot:xlabel='floor_type'>"
            ]
          },
          "execution_count": 185,
          "metadata": {},
          "output_type": "execute_result"
        },
        {
          "data": {
            "image/png": "[encoded data removed]",
            "text/plain": [
              "<Figure size 432x288 with 1 Axes>"
            ]
          },
          "metadata": {
            "needs_background": "light"
          },
          "output_type": "display_data"
        }
      ],
      "source": [
        "floor_price_stat = data_filtered.pivot_table(index='floor_type', values='last_price', aggfunc='median')\n",
        "floor_price_stat.plot(y='last_price', kind='bar', grid=True)"
      ]
    },
    {
      "cell_type": "markdown",
      "metadata": {
        "id": "BQFu5s5bDoub"
      },
      "source": [
        "**Итог:** как видно из диаграмм, дешевле квартиры, которые расположены на первом этаже."
      ]
    },
    {
      "cell_type": "markdown",
      "metadata": {
        "id": "YkX3uK-_Doub"
      },
      "source": [
        "**4.12.6 Анализ корреляции между общей ценой и датой размещения объявления**"
      ]
    },
    {
      "cell_type": "markdown",
      "metadata": {
        "id": "XuiPrOEZDoub"
      },
      "source": [
        "Диаграмма рассеивания в данном случае не подойдет. Применем линейный график и построим его по медианному значению."
      ]
    },
    {
      "cell_type": "code",
      "execution_count": null,
      "metadata": {
        "id": "pYjqzQp9Doub",
        "outputId": "e7ef4a5e-817f-4dd1-a0bb-26ff0a780835"
      },
      "outputs": [
        {
          "data": {
            "text/plain": [
              "<AxesSubplot:xlabel='weekday', ylabel='last_price'>"
            ]
          },
          "execution_count": 186,
          "metadata": {},
          "output_type": "execute_result"
        },
        {
          "data": {
            "image/png": "[encoded data removed]",
            "text/plain": [
              "<Figure size 432x288 with 1 Axes>"
            ]
          },
          "metadata": {
            "needs_background": "light"
          },
          "output_type": "display_data"
        }
      ],
      "source": [
        "data_filtered.plot(x='weekday', y='last_price', kind='scatter', grid=True)"
      ]
    },
    {
      "cell_type": "code",
      "execution_count": null,
      "metadata": {
        "id": "2z2nZf7MDoub",
        "outputId": "81ef3063-b694-4402-da55-3e32add0e2bd"
      },
      "outputs": [
        {
          "data": {
            "text/plain": [
              "<AxesSubplot:xlabel='weekday'>"
            ]
          },
          "execution_count": 187,
          "metadata": {},
          "output_type": "execute_result"
        },
        {
          "data": {
            "image/png": "[encoded data removed]",
            "text/plain": [
              "<Figure size 432x288 with 1 Axes>"
            ]
          },
          "metadata": {
            "needs_background": "light"
          },
          "output_type": "display_data"
        }
      ],
      "source": [
        "weekday_price_stat = data_filtered.pivot_table(index='weekday', values='last_price', aggfunc='median')\n",
        "weekday_price_stat.plot(y='last_price', kind='line', grid=True)"
      ]
    },
    {
      "cell_type": "code",
      "execution_count": null,
      "metadata": {
        "scrolled": true,
        "id": "0QwZim27Doub",
        "outputId": "f5a75ac0-b43a-4765-c63f-df455e7b620c"
      },
      "outputs": [
        {
          "data": {
            "text/plain": [
              "<AxesSubplot:xlabel='month_public', ylabel='last_price'>"
            ]
          },
          "execution_count": 188,
          "metadata": {},
          "output_type": "execute_result"
        },
        {
          "data": {
            "image/png": "[encoded data removed]",
            "text/plain": [
              "<Figure size 432x288 with 1 Axes>"
            ]
          },
          "metadata": {
            "needs_background": "light"
          },
          "output_type": "display_data"
        }
      ],
      "source": [
        "data_filtered.plot(x='month_public', y='last_price', kind='scatter', grid=True)"
      ]
    },
    {
      "cell_type": "code",
      "execution_count": null,
      "metadata": {
        "id": "DHQvIFEvDoub",
        "outputId": "a004ac34-01ef-48a0-e54e-210784223851"
      },
      "outputs": [
        {
          "data": {
            "text/plain": [
              "<AxesSubplot:xlabel='month_public'>"
            ]
          },
          "execution_count": 189,
          "metadata": {},
          "output_type": "execute_result"
        },
        {
          "data": {
            "image/png": "[encoded data removed]",
            "text/plain": [
              "<Figure size 432x288 with 1 Axes>"
            ]
          },
          "metadata": {
            "needs_background": "light"
          },
          "output_type": "display_data"
        }
      ],
      "source": [
        "month_price_stat = data_filtered.pivot_table(index='month_public', values='last_price', aggfunc='median')\n",
        "month_price_stat.plot(y='last_price', kind='line', grid=True)"
      ]
    },
    {
      "cell_type": "code",
      "execution_count": null,
      "metadata": {
        "id": "7vNfHBGRDoub",
        "outputId": "223fe15b-45a5-4bc4-d87e-05953d04c45b"
      },
      "outputs": [
        {
          "data": {
            "text/plain": [
              "<AxesSubplot:xlabel='year_public', ylabel='last_price'>"
            ]
          },
          "execution_count": 190,
          "metadata": {},
          "output_type": "execute_result"
        },
        {
          "data": {
            "image/png": "[encoded data removed]",
            "text/plain": [
              "<Figure size 432x288 with 1 Axes>"
            ]
          },
          "metadata": {
            "needs_background": "light"
          },
          "output_type": "display_data"
        }
      ],
      "source": [
        "data_filtered.plot(x='year_public', y='last_price', kind='scatter', grid=True)"
      ]
    },
    {
      "cell_type": "code",
      "execution_count": null,
      "metadata": {
        "id": "o9xDj7XEDoub",
        "outputId": "ce687c2c-eac6-4679-8586-5c04b709d17d"
      },
      "outputs": [
        {
          "data": {
            "text/plain": [
              "<AxesSubplot:xlabel='year_public'>"
            ]
          },
          "execution_count": 191,
          "metadata": {},
          "output_type": "execute_result"
        },
        {
          "data": {
            "image/png": "[encoded data removed]",
            "text/plain": [
              "<Figure size 432x288 with 1 Axes>"
            ]
          },
          "metadata": {
            "needs_background": "light"
          },
          "output_type": "display_data"
        }
      ],
      "source": [
        "year_price_stat = data_filtered.pivot_table(index='year_public', values='last_price', aggfunc='median')\n",
        "year_price_stat.plot(y='last_price', kind='line', grid=True)"
      ]
    },
    {
      "cell_type": "markdown",
      "metadata": {
        "id": "ZOgi4kfrDouc"
      },
      "source": [
        "**Итог:** согласно построенным графикам, наибольшая цена у объявлений, размещенных во вторник, наименьшая - размещенных с пятницу по воскресенье.  \n",
        "Также наибольшая цена у объявлений, размещенных в 2014 году, после этого наблюдается снижение цены."
      ]
    },
    {
      "cell_type": "markdown",
      "metadata": {
        "id": "OyNQpNTDDouc"
      },
      "source": [
        "**4.13 Анализ средней цены одного квадратного метра в Топ-10 населенных пунктах по количеству объявлений**"
      ]
    },
    {
      "cell_type": "code",
      "execution_count": null,
      "metadata": {
        "id": "lvSfF-YuDouc",
        "outputId": "d2ab51f4-224b-4745-defe-eb773e582690"
      },
      "outputs": [
        {
          "data": {
            "text/plain": [
              "Санкт-Петербург    15266\n",
              "Мурино               589\n",
              "Кудрово              472\n",
              "Шушары               440\n",
              "Всеволожск           397\n",
              "Пушкин               359\n",
              "Колпино              337\n",
              "Парголово            326\n",
              "Гатчина              307\n",
              "Выборг               236\n",
              "Name: locality_name, dtype: int64"
            ]
          },
          "execution_count": 192,
          "metadata": {},
          "output_type": "execute_result"
        }
      ],
      "source": [
        "data_filtered['locality_name'].value_counts().head(10)"
      ]
    },
    {
      "cell_type": "code",
      "execution_count": null,
      "metadata": {
        "id": "ptx26sOsDouc",
        "outputId": "5a48569d-8f22-485e-8aa1-cf1b6f3364bf"
      },
      "outputs": [
        {
          "data": {
            "text/html": [
              "<div>\n",
              "<style scoped>\n",
              "    .dataframe tbody tr th:only-of-type {\n",
              "        vertical-align: middle;\n",
              "    }\n",
              "\n",
              "    .dataframe tbody tr th {\n",
              "        vertical-align: top;\n",
              "    }\n",
              "\n",
              "    .dataframe thead th {\n",
              "        text-align: right;\n",
              "    }\n",
              "</style>\n",
              "<table border=\"1\" class=\"dataframe\">\n",
              "  <thead>\n",
              "    <tr style=\"text-align: right;\">\n",
              "      <th></th>\n",
              "      <th>count_flat</th>\n",
              "      <th>mean_cost</th>\n",
              "    </tr>\n",
              "    <tr>\n",
              "      <th>locality_name</th>\n",
              "      <th></th>\n",
              "      <th></th>\n",
              "    </tr>\n",
              "  </thead>\n",
              "  <tbody>\n",
              "    <tr>\n",
              "      <th>Санкт-Петербург</th>\n",
              "      <td>15266</td>\n",
              "      <td>111938.943489</td>\n",
              "    </tr>\n",
              "    <tr>\n",
              "      <th>Пушкин</th>\n",
              "      <td>359</td>\n",
              "      <td>102941.281560</td>\n",
              "    </tr>\n",
              "    <tr>\n",
              "      <th>Кудрово</th>\n",
              "      <td>472</td>\n",
              "      <td>95324.930508</td>\n",
              "    </tr>\n",
              "    <tr>\n",
              "      <th>Парголово</th>\n",
              "      <td>326</td>\n",
              "      <td>90332.262638</td>\n",
              "    </tr>\n",
              "    <tr>\n",
              "      <th>Мурино</th>\n",
              "      <td>589</td>\n",
              "      <td>86087.266910</td>\n",
              "    </tr>\n",
              "    <tr>\n",
              "      <th>Шушары</th>\n",
              "      <td>440</td>\n",
              "      <td>78677.364318</td>\n",
              "    </tr>\n",
              "    <tr>\n",
              "      <th>Колпино</th>\n",
              "      <td>337</td>\n",
              "      <td>75333.295816</td>\n",
              "    </tr>\n",
              "    <tr>\n",
              "      <th>Гатчина</th>\n",
              "      <td>307</td>\n",
              "      <td>68746.146515</td>\n",
              "    </tr>\n",
              "    <tr>\n",
              "      <th>Всеволожск</th>\n",
              "      <td>397</td>\n",
              "      <td>68605.572947</td>\n",
              "    </tr>\n",
              "    <tr>\n",
              "      <th>Выборг</th>\n",
              "      <td>236</td>\n",
              "      <td>58093.893347</td>\n",
              "    </tr>\n",
              "  </tbody>\n",
              "</table>\n",
              "</div>"
            ],
            "text/plain": [
              "                 count_flat      mean_cost\n",
              "locality_name                             \n",
              "Санкт-Петербург       15266  111938.943489\n",
              "Пушкин                  359  102941.281560\n",
              "Кудрово                 472   95324.930508\n",
              "Парголово               326   90332.262638\n",
              "Мурино                  589   86087.266910\n",
              "Шушары                  440   78677.364318\n",
              "Колпино                 337   75333.295816\n",
              "Гатчина                 307   68746.146515\n",
              "Всеволожск              397   68605.572947\n",
              "Выборг                  236   58093.893347"
            ]
          },
          "execution_count": 193,
          "metadata": {},
          "output_type": "execute_result"
        }
      ],
      "source": [
        "big_cities = data_filtered.pivot_table(aggfunc=['count', 'mean'], index='locality_name', values='meter_cost')\n",
        "big_cities.columns = ['count_flat', 'mean_cost']\n",
        "big_cities = big_cities.sort_values(by='count_flat', ascending=False).head(10)\n",
        "big_cities.sort_values(by='mean_cost', ascending=False)"
      ]
    },
    {
      "cell_type": "markdown",
      "metadata": {
        "id": "HlukP4eLDoud"
      },
      "source": [
        "**Итог:** наибольшая средняя цена за квадратный метр в Санкт-Петербурге, наименьшая (из Топ-10 городов) в Выборге."
      ]
    },
    {
      "cell_type": "markdown",
      "metadata": {
        "id": "NtVYeqmpDoud"
      },
      "source": [
        "**4.14 Анализ стоимости квартиры в зависимости от удаленности от центра города**"
      ]
    },
    {
      "cell_type": "code",
      "execution_count": null,
      "metadata": {
        "id": "9hE_cUS0Doud",
        "outputId": "4f6f0c80-bfae-4443-816b-6a77e2c1ee2b"
      },
      "outputs": [
        {
          "data": {
            "text/plain": [
              "<AxesSubplot:xlabel='city_centers_nearest_km'>"
            ]
          },
          "execution_count": 194,
          "metadata": {},
          "output_type": "execute_result"
        },
        {
          "data": {
            "image/png": "[encoded data removed]",
            "text/plain": [
              "<Figure size 432x288 with 1 Axes>"
            ]
          },
          "metadata": {
            "needs_background": "light"
          },
          "output_type": "display_data"
        }
      ],
      "source": [
        "flat_petersburg = data_filtered.query('locality_name == \"Санкт-Петербург\"')\n",
        "flat_petersburg.pivot_table(aggfunc='mean', index='city_centers_nearest_km', values='last_price').plot(y='last_price', kind='line', grid=True)"
      ]
    },
    {
      "cell_type": "markdown",
      "metadata": {
        "id": "53SN-NBJDoud"
      },
      "source": [
        "**Итог:** из графика видно, что чем дальше квартира от центра города, тем ниже средняя цена квартиры."
      ]
    },
    {
      "cell_type": "markdown",
      "metadata": {
        "id": "h7VpzkIDAwb-"
      },
      "source": [
        "### Общий вывод"
      ]
    },
    {
      "cell_type": "markdown",
      "metadata": {
        "id": "m1LGUraxDoue"
      },
      "source": [
        "**1. Предварительная обработка данных**\n",
        "- В представленных данных были пропущены значения, среди которых площади (жилая, кухонная) квартиры, расстояние до парков и озер, наличие или отсутствие балконов. Причина отсутствия значений: пользователи не указали данные величины при заполнении объявления, так как либо этих параметров нет, либо пользователи не знали нужные значения.\n",
        "- В ряде данных, к примеру, в высоте потолков, были допущены ошибки. Так, встречались значения 14 метров, 30 метров, 100 метров. Причина таких значений: ошибка пользователя при заполнении объявления. Указанные величины были удалены из выборки либо скорректированы.\n",
        "- В присланных значениях были по разному указаны названия городов и населенных пунктов. Для корректного расчета названия городов и населенных пунктов были приведены к одному значению.\n",
        "- В целях упрощения анализа были добавлены новые столбцы: стоимость одного квадратного метра, день, месяц и год подачи объявления, переведено расстояние до центра города из метров в километры.\n",
        "\n",
        "**2. Основные выводы исследования**\n",
        "- Большинство объявлений актуальны на сайте на срок до 100 дней, однако есть объявления, которые \"висят\" свыше 1500 дней.\n",
        "- Сильнее всего на стоимость квартиры влияют площади квартиры (общая, жилая, кухни) и количество комнат. В тоже время стоимость квартиры не зависит от месяца подачи объявления. Следовательно, сезонность на стоимость квартиры практически не вляет. Однако отмечается зависимость: дороже квартиры, объявления о которых размещены во вторник.\n",
        "- Наибольшая цена за квадратный метр наблюдается в Санкт-Петербурге, наименьшая - в Выборге (из наиболее крупных городов).\n",
        "- В Санкт-Петербурге цена квартиры снижается по мере удаления от центра: чем дальше от центра, тем дешевле квартира.\n",
        "\n",
        "**3. Рекомендации**  \n",
        "В целях улучшения качества анализа рекомендуется выполнить следующее:\n",
        "- Предоставить данные за больший временной период.\n",
        "- Организовать базу населенных пунктов и ограничить возможные варианты в столбце \"locality_name\" только значениями данной базы. Это позволит точнее соотносить населенные пункты.\n",
        "- Предоставить данные по ориентировочному адресу объектов. Это позволит устранить пропуски в столбцах расстояния до парков, аэропортов, прудов."
      ]
    }
  ],
  "metadata": {
    "ExecuteTimeLog": [
      {
        "duration": 674,
        "start_time": "2024-01-28T09:10:37.323Z"
      },
      {
        "duration": 103,
        "start_time": "2024-01-28T09:10:54.821Z"
      },
      {
        "duration": 97,
        "start_time": "2024-01-28T09:11:03.717Z"
      },
      {
        "duration": 8,
        "start_time": "2024-01-28T09:11:35.885Z"
      },
      {
        "duration": 92,
        "start_time": "2024-01-28T09:13:58.691Z"
      },
      {
        "duration": 6,
        "start_time": "2024-01-28T09:14:00.710Z"
      },
      {
        "duration": 92,
        "start_time": "2024-01-28T09:14:41.235Z"
      },
      {
        "duration": 73,
        "start_time": "2024-01-28T09:14:49.871Z"
      },
      {
        "duration": 100,
        "start_time": "2024-01-28T09:14:55.789Z"
      },
      {
        "duration": 90,
        "start_time": "2024-01-28T09:15:32.092Z"
      },
      {
        "duration": 111,
        "start_time": "2024-01-28T09:15:42.225Z"
      },
      {
        "duration": 15,
        "start_time": "2024-01-28T09:16:05.860Z"
      },
      {
        "duration": 43,
        "start_time": "2024-01-29T03:24:34.888Z"
      },
      {
        "duration": 672,
        "start_time": "2024-01-29T03:24:40.218Z"
      },
      {
        "duration": 14,
        "start_time": "2024-01-29T03:24:41.267Z"
      },
      {
        "duration": 26,
        "start_time": "2024-01-29T03:24:43.587Z"
      },
      {
        "duration": 4,
        "start_time": "2024-01-29T03:24:59.283Z"
      },
      {
        "duration": 5,
        "start_time": "2024-01-29T03:27:04.083Z"
      },
      {
        "duration": 4,
        "start_time": "2024-01-29T03:27:10.915Z"
      },
      {
        "duration": 11,
        "start_time": "2024-01-29T03:27:23.323Z"
      },
      {
        "duration": 24,
        "start_time": "2024-01-29T07:19:31.063Z"
      },
      {
        "duration": 10,
        "start_time": "2024-01-29T07:29:22.414Z"
      },
      {
        "duration": 5,
        "start_time": "2024-01-29T07:30:02.297Z"
      },
      {
        "duration": 5,
        "start_time": "2024-01-29T07:31:42.340Z"
      },
      {
        "duration": 26,
        "start_time": "2024-01-29T07:31:44.868Z"
      },
      {
        "duration": 26,
        "start_time": "2024-01-29T07:32:14.163Z"
      },
      {
        "duration": 27,
        "start_time": "2024-01-29T07:32:42.869Z"
      },
      {
        "duration": 4,
        "start_time": "2024-01-29T07:33:00.612Z"
      },
      {
        "duration": 7,
        "start_time": "2024-01-29T07:33:16.988Z"
      },
      {
        "duration": 40,
        "start_time": "2024-01-29T08:08:34.967Z"
      },
      {
        "duration": 29,
        "start_time": "2024-01-29T08:09:04.181Z"
      },
      {
        "duration": 24,
        "start_time": "2024-01-29T08:12:12.279Z"
      },
      {
        "duration": 12,
        "start_time": "2024-01-29T08:18:08.110Z"
      },
      {
        "duration": 10,
        "start_time": "2024-01-29T08:21:10.612Z"
      },
      {
        "duration": 8,
        "start_time": "2024-01-29T08:32:55.114Z"
      },
      {
        "duration": 8,
        "start_time": "2024-01-29T08:34:38.370Z"
      },
      {
        "duration": 25,
        "start_time": "2024-01-29T08:40:24.712Z"
      },
      {
        "duration": 6,
        "start_time": "2024-01-29T08:44:51.194Z"
      },
      {
        "duration": 25,
        "start_time": "2024-01-29T09:00:23.367Z"
      },
      {
        "duration": 17,
        "start_time": "2024-01-29T09:02:56.365Z"
      },
      {
        "duration": 25,
        "start_time": "2024-01-29T09:03:45.566Z"
      },
      {
        "duration": 5,
        "start_time": "2024-01-29T09:03:55.111Z"
      },
      {
        "duration": 5,
        "start_time": "2024-01-29T09:04:09.510Z"
      },
      {
        "duration": 4,
        "start_time": "2024-01-29T09:04:35.822Z"
      },
      {
        "duration": 5,
        "start_time": "2024-01-29T09:04:37.687Z"
      },
      {
        "duration": 5,
        "start_time": "2024-01-29T09:04:59.479Z"
      },
      {
        "duration": 5,
        "start_time": "2024-01-29T09:05:28.534Z"
      },
      {
        "duration": 11,
        "start_time": "2024-01-29T12:09:46.751Z"
      },
      {
        "duration": 547,
        "start_time": "2024-01-29T16:06:15.324Z"
      },
      {
        "duration": 15,
        "start_time": "2024-01-29T16:06:15.880Z"
      },
      {
        "duration": 9,
        "start_time": "2024-01-29T16:06:16.544Z"
      },
      {
        "duration": 24,
        "start_time": "2024-01-29T16:06:18.472Z"
      },
      {
        "duration": 5,
        "start_time": "2024-01-29T16:06:19.230Z"
      },
      {
        "duration": 28,
        "start_time": "2024-01-29T16:06:20.890Z"
      },
      {
        "duration": 5,
        "start_time": "2024-01-29T16:06:21.631Z"
      },
      {
        "duration": 8,
        "start_time": "2024-01-29T16:06:22.230Z"
      },
      {
        "duration": 6,
        "start_time": "2024-01-29T16:06:24.458Z"
      },
      {
        "duration": 6,
        "start_time": "2024-01-29T16:06:26.395Z"
      },
      {
        "duration": 7,
        "start_time": "2024-01-29T16:06:27.820Z"
      },
      {
        "duration": 6,
        "start_time": "2024-01-29T16:06:28.824Z"
      },
      {
        "duration": 9,
        "start_time": "2024-01-29T16:06:31.673Z"
      },
      {
        "duration": 544,
        "start_time": "2024-01-29T16:06:33.708Z"
      },
      {
        "duration": 192,
        "start_time": "2024-01-29T16:06:56.669Z"
      },
      {
        "duration": 72,
        "start_time": "2024-01-29T16:14:23.816Z"
      },
      {
        "duration": 7,
        "start_time": "2024-01-29T16:17:09.975Z"
      },
      {
        "duration": 9,
        "start_time": "2024-01-29T16:17:22.337Z"
      },
      {
        "duration": 14,
        "start_time": "2024-01-29T16:18:13.868Z"
      },
      {
        "duration": 4,
        "start_time": "2024-01-29T16:18:34.795Z"
      },
      {
        "duration": 35,
        "start_time": "2024-01-29T16:20:06.499Z"
      },
      {
        "duration": 5,
        "start_time": "2024-01-29T16:21:44.304Z"
      },
      {
        "duration": 17,
        "start_time": "2024-01-29T16:23:10.131Z"
      },
      {
        "duration": 6,
        "start_time": "2024-01-29T16:26:26.024Z"
      },
      {
        "duration": 4,
        "start_time": "2024-01-29T16:27:39.832Z"
      },
      {
        "duration": 5,
        "start_time": "2024-01-29T16:27:54.349Z"
      },
      {
        "duration": 4,
        "start_time": "2024-01-29T16:28:02.632Z"
      },
      {
        "duration": 27,
        "start_time": "2024-01-29T17:10:01.902Z"
      },
      {
        "duration": 297,
        "start_time": "2024-01-29T17:11:52.544Z"
      },
      {
        "duration": 217,
        "start_time": "2024-01-29T17:12:06.932Z"
      },
      {
        "duration": 232,
        "start_time": "2024-01-29T17:12:15.811Z"
      },
      {
        "duration": 239,
        "start_time": "2024-01-29T17:12:31.816Z"
      },
      {
        "duration": 6,
        "start_time": "2024-01-29T17:12:55.858Z"
      },
      {
        "duration": 1997,
        "start_time": "2024-01-29T17:15:31.798Z"
      },
      {
        "duration": 727,
        "start_time": "2024-01-30T12:07:08.181Z"
      },
      {
        "duration": 15,
        "start_time": "2024-01-30T12:07:10.220Z"
      },
      {
        "duration": 25,
        "start_time": "2024-01-30T12:07:13.012Z"
      },
      {
        "duration": 2356,
        "start_time": "2024-01-30T12:07:14.075Z"
      },
      {
        "duration": 10,
        "start_time": "2024-01-30T12:07:19.356Z"
      },
      {
        "duration": 26,
        "start_time": "2024-01-30T12:07:20.811Z"
      },
      {
        "duration": 6,
        "start_time": "2024-01-30T12:07:22.660Z"
      },
      {
        "duration": 27,
        "start_time": "2024-01-30T12:07:23.187Z"
      },
      {
        "duration": 4,
        "start_time": "2024-01-30T12:07:23.748Z"
      },
      {
        "duration": 8,
        "start_time": "2024-01-30T12:07:25.347Z"
      },
      {
        "duration": 1714,
        "start_time": "2024-01-30T12:07:26.488Z"
      },
      {
        "duration": 0,
        "start_time": "2024-01-30T12:07:28.204Z"
      },
      {
        "duration": 7,
        "start_time": "2024-01-30T12:07:32.266Z"
      },
      {
        "duration": 1842,
        "start_time": "2024-01-30T12:07:33.716Z"
      },
      {
        "duration": 7,
        "start_time": "2024-01-30T12:07:41.707Z"
      },
      {
        "duration": 8,
        "start_time": "2024-01-30T12:07:42.827Z"
      },
      {
        "duration": 6,
        "start_time": "2024-01-30T12:07:45.195Z"
      },
      {
        "duration": 8,
        "start_time": "2024-01-30T12:07:46.755Z"
      },
      {
        "duration": 6,
        "start_time": "2024-01-30T12:07:47.683Z"
      },
      {
        "duration": 9,
        "start_time": "2024-01-30T12:07:49.643Z"
      },
      {
        "duration": 189,
        "start_time": "2024-01-30T12:07:52.131Z"
      },
      {
        "duration": 6,
        "start_time": "2024-01-30T12:07:53.475Z"
      },
      {
        "duration": 30,
        "start_time": "2024-01-30T12:07:55.556Z"
      },
      {
        "duration": 6,
        "start_time": "2024-01-30T12:07:57.775Z"
      },
      {
        "duration": 14,
        "start_time": "2024-01-30T12:07:58.268Z"
      },
      {
        "duration": 7,
        "start_time": "2024-01-30T12:08:01.379Z"
      },
      {
        "duration": 243,
        "start_time": "2024-01-30T12:08:03.380Z"
      },
      {
        "duration": 354,
        "start_time": "2024-01-30T12:11:01.987Z"
      },
      {
        "duration": 380,
        "start_time": "2024-01-30T12:11:43.108Z"
      },
      {
        "duration": 689,
        "start_time": "2024-01-30T16:09:12.581Z"
      },
      {
        "duration": 15,
        "start_time": "2024-01-30T16:09:13.272Z"
      },
      {
        "duration": 24,
        "start_time": "2024-01-30T16:09:16.479Z"
      },
      {
        "duration": 2063,
        "start_time": "2024-01-30T16:09:17.191Z"
      },
      {
        "duration": 8,
        "start_time": "2024-01-30T16:09:21.906Z"
      },
      {
        "duration": 23,
        "start_time": "2024-01-30T16:09:23.259Z"
      },
      {
        "duration": 5,
        "start_time": "2024-01-30T16:09:23.886Z"
      },
      {
        "duration": 26,
        "start_time": "2024-01-30T16:09:24.508Z"
      },
      {
        "duration": 4,
        "start_time": "2024-01-30T16:09:25.083Z"
      },
      {
        "duration": 7,
        "start_time": "2024-01-30T16:09:26.545Z"
      },
      {
        "duration": 6,
        "start_time": "2024-01-30T16:09:27.568Z"
      },
      {
        "duration": 5,
        "start_time": "2024-01-30T16:09:28.571Z"
      },
      {
        "duration": 6,
        "start_time": "2024-01-30T16:09:29.991Z"
      },
      {
        "duration": 5,
        "start_time": "2024-01-30T16:09:30.899Z"
      },
      {
        "duration": 9,
        "start_time": "2024-01-30T16:09:33.841Z"
      },
      {
        "duration": 169,
        "start_time": "2024-01-30T16:09:34.835Z"
      },
      {
        "duration": 5,
        "start_time": "2024-01-30T16:09:37.043Z"
      },
      {
        "duration": 26,
        "start_time": "2024-01-30T16:09:38.128Z"
      },
      {
        "duration": 5,
        "start_time": "2024-01-30T16:09:40.253Z"
      },
      {
        "duration": 13,
        "start_time": "2024-01-30T16:09:40.742Z"
      },
      {
        "duration": 6,
        "start_time": "2024-01-30T16:09:43.269Z"
      },
      {
        "duration": 357,
        "start_time": "2024-01-30T16:09:45.359Z"
      },
      {
        "duration": 20,
        "start_time": "2024-01-30T16:09:48.638Z"
      },
      {
        "duration": 44,
        "start_time": "2024-01-30T16:10:03.904Z"
      },
      {
        "duration": 12,
        "start_time": "2024-01-30T16:10:29.366Z"
      },
      {
        "duration": 10,
        "start_time": "2024-01-30T16:10:54.784Z"
      },
      {
        "duration": 10,
        "start_time": "2024-01-30T16:11:24.923Z"
      },
      {
        "duration": 10,
        "start_time": "2024-01-30T16:11:44.366Z"
      },
      {
        "duration": 10,
        "start_time": "2024-01-30T16:12:01.035Z"
      },
      {
        "duration": 14,
        "start_time": "2024-01-30T16:12:10.476Z"
      },
      {
        "duration": 10,
        "start_time": "2024-01-30T16:15:50.332Z"
      },
      {
        "duration": 8,
        "start_time": "2024-01-30T16:16:00.692Z"
      },
      {
        "duration": 7,
        "start_time": "2024-01-30T16:16:13.887Z"
      },
      {
        "duration": 61,
        "start_time": "2024-01-30T16:17:50.310Z"
      },
      {
        "duration": 7,
        "start_time": "2024-01-30T16:18:45.234Z"
      },
      {
        "duration": 5,
        "start_time": "2024-01-30T16:19:28.424Z"
      },
      {
        "duration": 6,
        "start_time": "2024-01-30T16:20:36.210Z"
      },
      {
        "duration": 13,
        "start_time": "2024-01-30T16:20:51.480Z"
      },
      {
        "duration": 70,
        "start_time": "2024-01-30T16:22:42.151Z"
      },
      {
        "duration": 10,
        "start_time": "2024-01-30T16:22:59.789Z"
      },
      {
        "duration": 7,
        "start_time": "2024-01-30T16:23:50.025Z"
      },
      {
        "duration": 8,
        "start_time": "2024-01-30T16:24:08.156Z"
      },
      {
        "duration": 45,
        "start_time": "2024-01-30T16:24:48.526Z"
      },
      {
        "duration": 35,
        "start_time": "2024-01-30T16:25:17.564Z"
      },
      {
        "duration": 16,
        "start_time": "2024-01-30T16:25:26.911Z"
      },
      {
        "duration": 72,
        "start_time": "2024-01-30T16:25:38.410Z"
      },
      {
        "duration": 45,
        "start_time": "2024-01-30T16:25:45.756Z"
      },
      {
        "duration": 16,
        "start_time": "2024-01-30T16:25:46.544Z"
      },
      {
        "duration": 13,
        "start_time": "2024-01-30T16:26:07.459Z"
      },
      {
        "duration": 20,
        "start_time": "2024-01-30T16:26:08.392Z"
      },
      {
        "duration": 105,
        "start_time": "2024-01-30T16:27:07.777Z"
      },
      {
        "duration": 13,
        "start_time": "2024-01-30T16:27:14.413Z"
      },
      {
        "duration": 24,
        "start_time": "2024-01-30T16:27:20.192Z"
      },
      {
        "duration": 1684,
        "start_time": "2024-01-30T16:27:20.961Z"
      },
      {
        "duration": 9,
        "start_time": "2024-01-30T16:27:22.705Z"
      },
      {
        "duration": 22,
        "start_time": "2024-01-30T16:27:25.205Z"
      },
      {
        "duration": 5,
        "start_time": "2024-01-30T16:27:26.028Z"
      },
      {
        "duration": 33,
        "start_time": "2024-01-30T16:27:27.861Z"
      },
      {
        "duration": 5,
        "start_time": "2024-01-30T16:27:28.535Z"
      },
      {
        "duration": 6,
        "start_time": "2024-01-30T16:27:29.059Z"
      },
      {
        "duration": 6,
        "start_time": "2024-01-30T16:27:31.047Z"
      },
      {
        "duration": 5,
        "start_time": "2024-01-30T16:27:33.600Z"
      },
      {
        "duration": 6,
        "start_time": "2024-01-30T16:27:35.051Z"
      },
      {
        "duration": 6,
        "start_time": "2024-01-30T16:27:37.204Z"
      },
      {
        "duration": 8,
        "start_time": "2024-01-30T16:27:39.185Z"
      },
      {
        "duration": 168,
        "start_time": "2024-01-30T16:27:41.091Z"
      },
      {
        "duration": 4,
        "start_time": "2024-01-30T16:27:42.657Z"
      },
      {
        "duration": 26,
        "start_time": "2024-01-30T16:27:44.993Z"
      },
      {
        "duration": 5,
        "start_time": "2024-01-30T16:27:47.422Z"
      },
      {
        "duration": 12,
        "start_time": "2024-01-30T16:27:49.596Z"
      },
      {
        "duration": 8,
        "start_time": "2024-01-30T16:27:52.555Z"
      },
      {
        "duration": 383,
        "start_time": "2024-01-30T16:27:54.795Z"
      },
      {
        "duration": 12,
        "start_time": "2024-01-30T16:28:01.780Z"
      },
      {
        "duration": 12,
        "start_time": "2024-01-30T16:28:02.589Z"
      },
      {
        "duration": 117,
        "start_time": "2024-01-30T16:28:22.280Z"
      },
      {
        "duration": 20,
        "start_time": "2024-01-30T16:28:23.062Z"
      },
      {
        "duration": 23,
        "start_time": "2024-01-30T16:28:25.917Z"
      },
      {
        "duration": 1860,
        "start_time": "2024-01-30T16:28:26.575Z"
      },
      {
        "duration": 15,
        "start_time": "2024-01-30T16:28:28.437Z"
      },
      {
        "duration": 138,
        "start_time": "2024-01-30T16:28:28.454Z"
      },
      {
        "duration": 7,
        "start_time": "2024-01-30T16:28:29.071Z"
      },
      {
        "duration": 24,
        "start_time": "2024-01-30T16:28:30.423Z"
      },
      {
        "duration": 4,
        "start_time": "2024-01-30T16:28:31.150Z"
      },
      {
        "duration": 7,
        "start_time": "2024-01-30T16:28:31.747Z"
      },
      {
        "duration": 7,
        "start_time": "2024-01-30T16:28:32.683Z"
      },
      {
        "duration": 6,
        "start_time": "2024-01-30T16:28:33.609Z"
      },
      {
        "duration": 6,
        "start_time": "2024-01-30T16:28:36.002Z"
      },
      {
        "duration": 6,
        "start_time": "2024-01-30T16:28:36.943Z"
      },
      {
        "duration": 9,
        "start_time": "2024-01-30T16:28:39.089Z"
      },
      {
        "duration": 185,
        "start_time": "2024-01-30T16:28:41.341Z"
      },
      {
        "duration": 5,
        "start_time": "2024-01-30T16:28:43.601Z"
      },
      {
        "duration": 26,
        "start_time": "2024-01-30T16:28:44.783Z"
      },
      {
        "duration": 5,
        "start_time": "2024-01-30T16:28:46.801Z"
      },
      {
        "duration": 14,
        "start_time": "2024-01-30T16:28:48.631Z"
      },
      {
        "duration": 6,
        "start_time": "2024-01-30T16:28:52.245Z"
      },
      {
        "duration": 389,
        "start_time": "2024-01-30T16:28:53.060Z"
      },
      {
        "duration": 5,
        "start_time": "2024-01-30T16:29:13.289Z"
      },
      {
        "duration": 12,
        "start_time": "2024-01-30T16:29:14.585Z"
      },
      {
        "duration": 6,
        "start_time": "2024-01-30T16:29:40.831Z"
      },
      {
        "duration": 13,
        "start_time": "2024-01-30T16:29:41.501Z"
      },
      {
        "duration": 8,
        "start_time": "2024-01-30T16:30:19.413Z"
      },
      {
        "duration": 16,
        "start_time": "2024-01-30T16:30:20.076Z"
      },
      {
        "duration": 23,
        "start_time": "2024-01-30T16:39:30.874Z"
      },
      {
        "duration": 22,
        "start_time": "2024-01-30T16:39:54.724Z"
      },
      {
        "duration": 109,
        "start_time": "2024-01-30T16:40:24.163Z"
      },
      {
        "duration": 14,
        "start_time": "2024-01-30T16:40:24.610Z"
      },
      {
        "duration": 22,
        "start_time": "2024-01-30T16:40:25.535Z"
      },
      {
        "duration": 1756,
        "start_time": "2024-01-30T16:40:25.955Z"
      },
      {
        "duration": 9,
        "start_time": "2024-01-30T16:40:27.713Z"
      },
      {
        "duration": 39,
        "start_time": "2024-01-30T16:40:27.723Z"
      },
      {
        "duration": 5,
        "start_time": "2024-01-30T16:40:27.781Z"
      },
      {
        "duration": 24,
        "start_time": "2024-01-30T16:40:28.195Z"
      },
      {
        "duration": 4,
        "start_time": "2024-01-30T16:40:28.677Z"
      },
      {
        "duration": 6,
        "start_time": "2024-01-30T16:40:29.154Z"
      },
      {
        "duration": 6,
        "start_time": "2024-01-30T16:40:30.050Z"
      },
      {
        "duration": 5,
        "start_time": "2024-01-30T16:40:31.094Z"
      },
      {
        "duration": 6,
        "start_time": "2024-01-30T16:40:32.548Z"
      },
      {
        "duration": 5,
        "start_time": "2024-01-30T16:40:33.412Z"
      },
      {
        "duration": 9,
        "start_time": "2024-01-30T16:40:35.268Z"
      },
      {
        "duration": 174,
        "start_time": "2024-01-30T16:40:36.196Z"
      },
      {
        "duration": 5,
        "start_time": "2024-01-30T16:40:37.099Z"
      },
      {
        "duration": 25,
        "start_time": "2024-01-30T16:40:37.962Z"
      },
      {
        "duration": 5,
        "start_time": "2024-01-30T16:40:38.948Z"
      },
      {
        "duration": 13,
        "start_time": "2024-01-30T16:40:39.399Z"
      },
      {
        "duration": 6,
        "start_time": "2024-01-30T16:40:40.536Z"
      },
      {
        "duration": 356,
        "start_time": "2024-01-30T16:40:41.055Z"
      },
      {
        "duration": 9,
        "start_time": "2024-01-30T16:40:42.007Z"
      },
      {
        "duration": 13,
        "start_time": "2024-01-30T16:40:42.500Z"
      },
      {
        "duration": 12,
        "start_time": "2024-01-30T16:40:43.036Z"
      },
      {
        "duration": 23,
        "start_time": "2024-01-30T16:40:46.626Z"
      },
      {
        "duration": 4,
        "start_time": "2024-01-30T16:40:56.389Z"
      },
      {
        "duration": 626,
        "start_time": "2024-01-31T06:42:03.844Z"
      },
      {
        "duration": 15,
        "start_time": "2024-01-31T06:42:04.734Z"
      },
      {
        "duration": 27,
        "start_time": "2024-01-31T06:42:07.616Z"
      },
      {
        "duration": 2499,
        "start_time": "2024-01-31T06:42:08.623Z"
      },
      {
        "duration": 11,
        "start_time": "2024-01-31T06:42:13.742Z"
      },
      {
        "duration": 26,
        "start_time": "2024-01-31T06:42:14.814Z"
      },
      {
        "duration": 6,
        "start_time": "2024-01-31T06:42:15.526Z"
      },
      {
        "duration": 29,
        "start_time": "2024-01-31T06:42:17.246Z"
      },
      {
        "duration": 5,
        "start_time": "2024-01-31T06:42:18.110Z"
      },
      {
        "duration": 8,
        "start_time": "2024-01-31T06:42:18.766Z"
      },
      {
        "duration": 7,
        "start_time": "2024-01-31T06:42:21.214Z"
      },
      {
        "duration": 6,
        "start_time": "2024-01-31T06:42:22.301Z"
      },
      {
        "duration": 7,
        "start_time": "2024-01-31T06:42:23.742Z"
      },
      {
        "duration": 6,
        "start_time": "2024-01-31T06:42:25.981Z"
      },
      {
        "duration": 10,
        "start_time": "2024-01-31T06:42:27.750Z"
      },
      {
        "duration": 205,
        "start_time": "2024-01-31T06:42:29.030Z"
      },
      {
        "duration": 5,
        "start_time": "2024-01-31T06:42:30.845Z"
      },
      {
        "duration": 32,
        "start_time": "2024-01-31T06:42:31.765Z"
      },
      {
        "duration": 6,
        "start_time": "2024-01-31T06:42:33.978Z"
      },
      {
        "duration": 17,
        "start_time": "2024-01-31T06:42:34.502Z"
      },
      {
        "duration": 7,
        "start_time": "2024-01-31T06:42:36.829Z"
      },
      {
        "duration": 423,
        "start_time": "2024-01-31T06:42:37.526Z"
      },
      {
        "duration": 12,
        "start_time": "2024-01-31T06:42:40.854Z"
      },
      {
        "duration": 15,
        "start_time": "2024-01-31T06:42:41.702Z"
      },
      {
        "duration": 16,
        "start_time": "2024-01-31T06:42:44.125Z"
      },
      {
        "duration": 40,
        "start_time": "2024-01-31T06:42:47.717Z"
      },
      {
        "duration": 8,
        "start_time": "2024-01-31T06:43:04.294Z"
      },
      {
        "duration": 14,
        "start_time": "2024-01-31T06:43:20.781Z"
      },
      {
        "duration": 26,
        "start_time": "2024-01-31T06:43:34.638Z"
      },
      {
        "duration": 5,
        "start_time": "2024-01-31T06:45:34.789Z"
      },
      {
        "duration": 6,
        "start_time": "2024-01-31T06:45:49.605Z"
      },
      {
        "duration": 28,
        "start_time": "2024-01-31T06:46:01.307Z"
      },
      {
        "duration": 76,
        "start_time": "2024-01-31T06:53:29.844Z"
      },
      {
        "duration": 6,
        "start_time": "2024-01-31T06:53:39.284Z"
      },
      {
        "duration": 25,
        "start_time": "2024-01-31T06:53:51.804Z"
      },
      {
        "duration": 6,
        "start_time": "2024-01-31T06:54:47.356Z"
      },
      {
        "duration": 24,
        "start_time": "2024-01-31T06:54:48.044Z"
      },
      {
        "duration": 11,
        "start_time": "2024-01-31T07:21:31.848Z"
      },
      {
        "duration": 12,
        "start_time": "2024-01-31T07:22:53.883Z"
      },
      {
        "duration": 385,
        "start_time": "2024-01-31T07:32:45.951Z"
      },
      {
        "duration": 433,
        "start_time": "2024-01-31T07:33:15.381Z"
      },
      {
        "duration": 7,
        "start_time": "2024-01-31T07:37:02.820Z"
      },
      {
        "duration": 15,
        "start_time": "2024-01-31T07:37:04.638Z"
      },
      {
        "duration": 119,
        "start_time": "2024-01-31T07:37:24.780Z"
      },
      {
        "duration": 15,
        "start_time": "2024-01-31T07:37:25.373Z"
      },
      {
        "duration": 26,
        "start_time": "2024-01-31T07:37:27.270Z"
      },
      {
        "duration": 2034,
        "start_time": "2024-01-31T07:37:27.862Z"
      },
      {
        "duration": 10,
        "start_time": "2024-01-31T07:37:29.897Z"
      },
      {
        "duration": 28,
        "start_time": "2024-01-31T07:37:31.022Z"
      },
      {
        "duration": 6,
        "start_time": "2024-01-31T07:37:31.837Z"
      },
      {
        "duration": 29,
        "start_time": "2024-01-31T07:37:32.397Z"
      },
      {
        "duration": 4,
        "start_time": "2024-01-31T07:37:32.990Z"
      },
      {
        "duration": 7,
        "start_time": "2024-01-31T07:37:34.453Z"
      },
      {
        "duration": 7,
        "start_time": "2024-01-31T07:37:35.469Z"
      },
      {
        "duration": 5,
        "start_time": "2024-01-31T07:37:36.430Z"
      },
      {
        "duration": 7,
        "start_time": "2024-01-31T07:37:37.781Z"
      },
      {
        "duration": 5,
        "start_time": "2024-01-31T07:37:39.501Z"
      },
      {
        "duration": 10,
        "start_time": "2024-01-31T07:37:42.445Z"
      },
      {
        "duration": 210,
        "start_time": "2024-01-31T07:37:43.767Z"
      },
      {
        "duration": 5,
        "start_time": "2024-01-31T07:37:46.045Z"
      },
      {
        "duration": 39,
        "start_time": "2024-01-31T07:37:47.061Z"
      },
      {
        "duration": 5,
        "start_time": "2024-01-31T07:37:49.389Z"
      },
      {
        "duration": 15,
        "start_time": "2024-01-31T07:37:49.973Z"
      },
      {
        "duration": 7,
        "start_time": "2024-01-31T07:37:52.397Z"
      },
      {
        "duration": 458,
        "start_time": "2024-01-31T07:37:53.110Z"
      },
      {
        "duration": 12,
        "start_time": "2024-01-31T07:37:56.741Z"
      },
      {
        "duration": 15,
        "start_time": "2024-01-31T07:37:57.751Z"
      },
      {
        "duration": 4,
        "start_time": "2024-01-31T07:39:42.670Z"
      },
      {
        "duration": 4,
        "start_time": "2024-01-31T07:39:56.461Z"
      },
      {
        "duration": 6,
        "start_time": "2024-01-31T07:41:17.421Z"
      },
      {
        "duration": 4,
        "start_time": "2024-01-31T07:41:24.629Z"
      },
      {
        "duration": 15,
        "start_time": "2024-01-31T07:41:37.101Z"
      },
      {
        "duration": 124,
        "start_time": "2024-01-31T07:42:04.938Z"
      },
      {
        "duration": 15,
        "start_time": "2024-01-31T07:42:05.397Z"
      },
      {
        "duration": 27,
        "start_time": "2024-01-31T07:42:07.589Z"
      },
      {
        "duration": 2069,
        "start_time": "2024-01-31T07:42:08.045Z"
      },
      {
        "duration": 10,
        "start_time": "2024-01-31T07:42:10.116Z"
      },
      {
        "duration": 40,
        "start_time": "2024-01-31T07:42:10.140Z"
      },
      {
        "duration": 5,
        "start_time": "2024-01-31T07:42:10.925Z"
      },
      {
        "duration": 29,
        "start_time": "2024-01-31T07:42:12.293Z"
      },
      {
        "duration": 5,
        "start_time": "2024-01-31T07:42:12.821Z"
      },
      {
        "duration": 7,
        "start_time": "2024-01-31T07:42:13.452Z"
      },
      {
        "duration": 7,
        "start_time": "2024-01-31T07:42:15.692Z"
      },
      {
        "duration": 6,
        "start_time": "2024-01-31T07:42:16.684Z"
      },
      {
        "duration": 8,
        "start_time": "2024-01-31T07:42:18.332Z"
      },
      {
        "duration": 6,
        "start_time": "2024-01-31T07:42:19.821Z"
      },
      {
        "duration": 9,
        "start_time": "2024-01-31T07:42:21.436Z"
      },
      {
        "duration": 207,
        "start_time": "2024-01-31T07:42:22.821Z"
      },
      {
        "duration": 5,
        "start_time": "2024-01-31T07:42:23.828Z"
      },
      {
        "duration": 28,
        "start_time": "2024-01-31T07:42:24.909Z"
      },
      {
        "duration": 5,
        "start_time": "2024-01-31T07:42:26.669Z"
      },
      {
        "duration": 15,
        "start_time": "2024-01-31T07:42:27.253Z"
      },
      {
        "duration": 7,
        "start_time": "2024-01-31T07:42:30.524Z"
      },
      {
        "duration": 411,
        "start_time": "2024-01-31T07:42:31.101Z"
      },
      {
        "duration": 9,
        "start_time": "2024-01-31T07:42:32.237Z"
      },
      {
        "duration": 14,
        "start_time": "2024-01-31T07:42:32.781Z"
      },
      {
        "duration": 4,
        "start_time": "2024-01-31T07:42:34.964Z"
      },
      {
        "duration": 15,
        "start_time": "2024-01-31T07:42:35.517Z"
      },
      {
        "duration": 5,
        "start_time": "2024-01-31T07:44:41.308Z"
      },
      {
        "duration": 10,
        "start_time": "2024-01-31T07:44:42.380Z"
      },
      {
        "duration": 14,
        "start_time": "2024-01-31T07:45:05.746Z"
      },
      {
        "duration": 9,
        "start_time": "2024-01-31T07:45:07.012Z"
      },
      {
        "duration": 16,
        "start_time": "2024-01-31T07:45:07.564Z"
      },
      {
        "duration": 26,
        "start_time": "2024-01-31T07:45:09.693Z"
      },
      {
        "duration": 5,
        "start_time": "2024-01-31T07:45:12.060Z"
      },
      {
        "duration": 28,
        "start_time": "2024-01-31T07:45:13.284Z"
      },
      {
        "duration": 6,
        "start_time": "2024-01-31T07:45:14.788Z"
      },
      {
        "duration": 6,
        "start_time": "2024-01-31T07:45:15.556Z"
      },
      {
        "duration": 368,
        "start_time": "2024-01-31T07:45:16.660Z"
      },
      {
        "duration": 5,
        "start_time": "2024-01-31T07:49:19.827Z"
      },
      {
        "duration": 24,
        "start_time": "2024-01-31T07:49:37.332Z"
      },
      {
        "duration": 26,
        "start_time": "2024-01-31T07:50:53.415Z"
      },
      {
        "duration": 17,
        "start_time": "2024-01-31T07:51:13.237Z"
      },
      {
        "duration": 24,
        "start_time": "2024-01-31T07:51:36.788Z"
      },
      {
        "duration": 4,
        "start_time": "2024-01-31T07:52:14.860Z"
      },
      {
        "duration": 5,
        "start_time": "2024-01-31T07:52:15.780Z"
      },
      {
        "duration": 5,
        "start_time": "2024-01-31T07:52:16.828Z"
      },
      {
        "duration": 5,
        "start_time": "2024-01-31T07:52:17.731Z"
      },
      {
        "duration": 337,
        "start_time": "2024-01-31T07:52:18.748Z"
      },
      {
        "duration": 5,
        "start_time": "2024-01-31T07:52:20.724Z"
      },
      {
        "duration": 25,
        "start_time": "2024-01-31T07:53:15.260Z"
      },
      {
        "duration": 151,
        "start_time": "2024-01-31T08:16:13.113Z"
      },
      {
        "duration": 171,
        "start_time": "2024-01-31T08:17:06.017Z"
      },
      {
        "duration": 170,
        "start_time": "2024-01-31T08:18:36.936Z"
      },
      {
        "duration": 167,
        "start_time": "2024-01-31T08:19:25.369Z"
      },
      {
        "duration": 132,
        "start_time": "2024-01-31T08:19:47.104Z"
      },
      {
        "duration": 396,
        "start_time": "2024-01-31T08:20:03.137Z"
      },
      {
        "duration": 200,
        "start_time": "2024-01-31T08:21:49.945Z"
      },
      {
        "duration": 175,
        "start_time": "2024-01-31T08:22:06.017Z"
      },
      {
        "duration": 5,
        "start_time": "2024-01-31T08:23:07.648Z"
      },
      {
        "duration": 38,
        "start_time": "2024-01-31T08:23:42.361Z"
      },
      {
        "duration": 11,
        "start_time": "2024-01-31T08:24:13.881Z"
      },
      {
        "duration": 15,
        "start_time": "2024-01-31T08:24:38.043Z"
      },
      {
        "duration": 9,
        "start_time": "2024-01-31T08:25:01.169Z"
      },
      {
        "duration": 5,
        "start_time": "2024-01-31T08:29:59.911Z"
      },
      {
        "duration": 4,
        "start_time": "2024-01-31T08:38:40.351Z"
      },
      {
        "duration": 16,
        "start_time": "2024-01-31T08:38:42.175Z"
      },
      {
        "duration": 6,
        "start_time": "2024-01-31T08:40:05.143Z"
      },
      {
        "duration": 17,
        "start_time": "2024-01-31T08:40:05.758Z"
      },
      {
        "duration": 16,
        "start_time": "2024-01-31T08:40:47.495Z"
      },
      {
        "duration": 5,
        "start_time": "2024-01-31T08:41:17.359Z"
      },
      {
        "duration": 31,
        "start_time": "2024-01-31T08:44:01.430Z"
      },
      {
        "duration": 28,
        "start_time": "2024-01-31T08:46:35.888Z"
      },
      {
        "duration": 30,
        "start_time": "2024-01-31T08:46:55.207Z"
      },
      {
        "duration": 5,
        "start_time": "2024-01-31T08:47:21.223Z"
      },
      {
        "duration": 6,
        "start_time": "2024-01-31T08:47:27.255Z"
      },
      {
        "duration": 7,
        "start_time": "2024-01-31T08:48:57.576Z"
      },
      {
        "duration": 28,
        "start_time": "2024-01-31T08:50:10.968Z"
      },
      {
        "duration": 17,
        "start_time": "2024-01-31T08:50:39.313Z"
      },
      {
        "duration": 15,
        "start_time": "2024-01-31T08:50:50.065Z"
      },
      {
        "duration": 32,
        "start_time": "2024-01-31T08:50:57.257Z"
      },
      {
        "duration": 6,
        "start_time": "2024-01-31T08:51:22.401Z"
      },
      {
        "duration": 10,
        "start_time": "2024-01-31T08:52:35.922Z"
      },
      {
        "duration": 6,
        "start_time": "2024-01-31T08:52:47.473Z"
      },
      {
        "duration": 10,
        "start_time": "2024-01-31T08:54:24.442Z"
      },
      {
        "duration": 5,
        "start_time": "2024-01-31T08:54:36.410Z"
      },
      {
        "duration": 9,
        "start_time": "2024-01-31T08:55:50.289Z"
      },
      {
        "duration": 8,
        "start_time": "2024-01-31T08:56:03.971Z"
      },
      {
        "duration": 7,
        "start_time": "2024-01-31T08:56:53.058Z"
      },
      {
        "duration": 7,
        "start_time": "2024-01-31T08:57:07.897Z"
      },
      {
        "duration": 7,
        "start_time": "2024-01-31T08:57:24.922Z"
      },
      {
        "duration": 27,
        "start_time": "2024-01-31T08:57:37.970Z"
      },
      {
        "duration": 8,
        "start_time": "2024-01-31T09:57:23.647Z"
      },
      {
        "duration": 106,
        "start_time": "2024-01-31T09:57:50.166Z"
      },
      {
        "duration": 8,
        "start_time": "2024-01-31T09:57:57.754Z"
      },
      {
        "duration": 7,
        "start_time": "2024-01-31T10:10:27.227Z"
      },
      {
        "duration": 6,
        "start_time": "2024-01-31T10:10:48.705Z"
      },
      {
        "duration": 13,
        "start_time": "2024-01-31T10:11:00.169Z"
      },
      {
        "duration": 7,
        "start_time": "2024-01-31T10:11:11.426Z"
      },
      {
        "duration": 7,
        "start_time": "2024-01-31T10:11:28.177Z"
      },
      {
        "duration": 168,
        "start_time": "2024-01-31T10:13:02.329Z"
      },
      {
        "duration": 237,
        "start_time": "2024-01-31T10:13:19.809Z"
      },
      {
        "duration": 7,
        "start_time": "2024-01-31T10:13:41.656Z"
      },
      {
        "duration": 5,
        "start_time": "2024-01-31T10:14:20.897Z"
      },
      {
        "duration": 7,
        "start_time": "2024-01-31T10:14:40.249Z"
      },
      {
        "duration": 9,
        "start_time": "2024-01-31T10:15:07.792Z"
      },
      {
        "duration": 11,
        "start_time": "2024-01-31T10:15:26.352Z"
      },
      {
        "duration": 9,
        "start_time": "2024-01-31T10:17:26.336Z"
      },
      {
        "duration": 25,
        "start_time": "2024-01-31T10:19:00.920Z"
      },
      {
        "duration": 29,
        "start_time": "2024-01-31T10:20:26.449Z"
      },
      {
        "duration": 10,
        "start_time": "2024-01-31T10:21:42.648Z"
      },
      {
        "duration": 9,
        "start_time": "2024-01-31T10:23:29.439Z"
      },
      {
        "duration": 10,
        "start_time": "2024-01-31T10:23:39.897Z"
      },
      {
        "duration": 9,
        "start_time": "2024-01-31T10:24:19.624Z"
      },
      {
        "duration": 23,
        "start_time": "2024-01-31T10:25:26.871Z"
      },
      {
        "duration": 47,
        "start_time": "2024-01-31T10:28:19.481Z"
      },
      {
        "duration": 30,
        "start_time": "2024-01-31T10:29:20.366Z"
      },
      {
        "duration": 95,
        "start_time": "2024-01-31T10:29:41.704Z"
      },
      {
        "duration": 15,
        "start_time": "2024-01-31T10:30:13.271Z"
      },
      {
        "duration": 244,
        "start_time": "2024-01-31T10:30:44.638Z"
      },
      {
        "duration": 20,
        "start_time": "2024-01-31T10:31:58.894Z"
      },
      {
        "duration": 249,
        "start_time": "2024-01-31T10:32:01.119Z"
      },
      {
        "duration": 163,
        "start_time": "2024-01-31T10:32:20.790Z"
      },
      {
        "duration": 7,
        "start_time": "2024-01-31T11:05:05.174Z"
      },
      {
        "duration": 9,
        "start_time": "2024-01-31T11:06:09.125Z"
      },
      {
        "duration": 7,
        "start_time": "2024-01-31T11:07:47.965Z"
      },
      {
        "duration": 152,
        "start_time": "2024-01-31T11:07:48.389Z"
      },
      {
        "duration": 6,
        "start_time": "2024-01-31T11:10:17.575Z"
      },
      {
        "duration": 6,
        "start_time": "2024-01-31T11:10:34.023Z"
      },
      {
        "duration": 6,
        "start_time": "2024-01-31T11:11:27.966Z"
      },
      {
        "duration": 8,
        "start_time": "2024-01-31T11:11:40.254Z"
      },
      {
        "duration": 176,
        "start_time": "2024-01-31T11:11:40.985Z"
      },
      {
        "duration": 6,
        "start_time": "2024-01-31T11:12:04.831Z"
      },
      {
        "duration": 27,
        "start_time": "2024-01-31T11:13:34.806Z"
      },
      {
        "duration": 24,
        "start_time": "2024-01-31T11:14:56.134Z"
      },
      {
        "duration": 7,
        "start_time": "2024-01-31T11:14:58.357Z"
      },
      {
        "duration": 8,
        "start_time": "2024-01-31T11:14:59.495Z"
      },
      {
        "duration": 330,
        "start_time": "2024-01-31T11:15:01.031Z"
      },
      {
        "duration": 159,
        "start_time": "2024-01-31T11:15:04.165Z"
      },
      {
        "duration": 179,
        "start_time": "2024-01-31T11:15:48.950Z"
      },
      {
        "duration": 10,
        "start_time": "2024-01-31T11:16:02.038Z"
      },
      {
        "duration": 7,
        "start_time": "2024-01-31T11:17:58.920Z"
      },
      {
        "duration": 6,
        "start_time": "2024-01-31T11:22:43.318Z"
      },
      {
        "duration": 9,
        "start_time": "2024-01-31T11:22:51.142Z"
      },
      {
        "duration": 7,
        "start_time": "2024-01-31T11:22:52.208Z"
      },
      {
        "duration": 152,
        "start_time": "2024-01-31T11:22:58.606Z"
      },
      {
        "duration": 8,
        "start_time": "2024-01-31T11:23:10.023Z"
      },
      {
        "duration": 6,
        "start_time": "2024-01-31T11:27:02.542Z"
      },
      {
        "duration": 6,
        "start_time": "2024-01-31T11:27:08.327Z"
      },
      {
        "duration": 6,
        "start_time": "2024-01-31T11:27:23.046Z"
      },
      {
        "duration": 168,
        "start_time": "2024-01-31T11:30:54.575Z"
      },
      {
        "duration": 167,
        "start_time": "2024-01-31T11:31:10.182Z"
      },
      {
        "duration": 174,
        "start_time": "2024-01-31T11:31:13.030Z"
      },
      {
        "duration": 168,
        "start_time": "2024-01-31T11:31:21.566Z"
      },
      {
        "duration": 9,
        "start_time": "2024-01-31T11:31:22.374Z"
      },
      {
        "duration": 162,
        "start_time": "2024-01-31T11:31:39.838Z"
      },
      {
        "duration": 8,
        "start_time": "2024-01-31T11:31:40.798Z"
      },
      {
        "duration": 6,
        "start_time": "2024-01-31T11:31:43.366Z"
      },
      {
        "duration": 9,
        "start_time": "2024-01-31T11:31:58.238Z"
      },
      {
        "duration": 6,
        "start_time": "2024-01-31T11:32:02.207Z"
      },
      {
        "duration": 184,
        "start_time": "2024-01-31T11:33:09.606Z"
      },
      {
        "duration": 253,
        "start_time": "2024-01-31T11:33:35.598Z"
      },
      {
        "duration": 10,
        "start_time": "2024-01-31T11:33:45.110Z"
      },
      {
        "duration": 9,
        "start_time": "2024-01-31T11:34:07.958Z"
      },
      {
        "duration": 48,
        "start_time": "2024-01-31T11:34:08.711Z"
      },
      {
        "duration": 10,
        "start_time": "2024-01-31T11:34:18.853Z"
      },
      {
        "duration": 36,
        "start_time": "2024-01-31T11:34:19.431Z"
      },
      {
        "duration": 33,
        "start_time": "2024-01-31T11:34:29.263Z"
      },
      {
        "duration": 15,
        "start_time": "2024-01-31T11:34:36.013Z"
      },
      {
        "duration": 15,
        "start_time": "2024-01-31T11:34:44.661Z"
      },
      {
        "duration": 165,
        "start_time": "2024-01-31T11:34:45.166Z"
      },
      {
        "duration": 12,
        "start_time": "2024-01-31T11:35:10.366Z"
      },
      {
        "duration": 9,
        "start_time": "2024-01-31T11:35:18.461Z"
      },
      {
        "duration": 17,
        "start_time": "2024-01-31T11:35:19.142Z"
      },
      {
        "duration": 12,
        "start_time": "2024-01-31T11:35:33.661Z"
      },
      {
        "duration": 16,
        "start_time": "2024-01-31T11:35:34.133Z"
      },
      {
        "duration": 13,
        "start_time": "2024-01-31T11:35:35.116Z"
      },
      {
        "duration": 180,
        "start_time": "2024-01-31T11:35:36.669Z"
      },
      {
        "duration": 124,
        "start_time": "2024-01-31T11:40:51.813Z"
      },
      {
        "duration": 15,
        "start_time": "2024-01-31T11:40:56.313Z"
      },
      {
        "duration": 28,
        "start_time": "2024-01-31T11:41:04.808Z"
      },
      {
        "duration": 2176,
        "start_time": "2024-01-31T11:41:07.128Z"
      },
      {
        "duration": 10,
        "start_time": "2024-01-31T11:41:09.305Z"
      },
      {
        "duration": 26,
        "start_time": "2024-01-31T11:41:13.060Z"
      },
      {
        "duration": 6,
        "start_time": "2024-01-31T11:41:14.727Z"
      },
      {
        "duration": 28,
        "start_time": "2024-01-31T11:41:15.344Z"
      },
      {
        "duration": 4,
        "start_time": "2024-01-31T11:41:16.952Z"
      },
      {
        "duration": 6,
        "start_time": "2024-01-31T11:41:18.584Z"
      },
      {
        "duration": 6,
        "start_time": "2024-01-31T11:41:19.672Z"
      },
      {
        "duration": 6,
        "start_time": "2024-01-31T11:41:21.751Z"
      },
      {
        "duration": 7,
        "start_time": "2024-01-31T11:41:23.254Z"
      },
      {
        "duration": 5,
        "start_time": "2024-01-31T11:41:24.344Z"
      },
      {
        "duration": 9,
        "start_time": "2024-01-31T11:41:29.119Z"
      },
      {
        "duration": 207,
        "start_time": "2024-01-31T11:41:31.639Z"
      },
      {
        "duration": 6,
        "start_time": "2024-01-31T11:41:56.152Z"
      },
      {
        "duration": 30,
        "start_time": "2024-01-31T11:41:57.320Z"
      },
      {
        "duration": 5,
        "start_time": "2024-01-31T11:42:01.239Z"
      },
      {
        "duration": 15,
        "start_time": "2024-01-31T11:42:05.369Z"
      },
      {
        "duration": 6,
        "start_time": "2024-01-31T11:42:08.543Z"
      },
      {
        "duration": 411,
        "start_time": "2024-01-31T11:42:10.688Z"
      },
      {
        "duration": 9,
        "start_time": "2024-01-31T11:42:14.888Z"
      },
      {
        "duration": 17,
        "start_time": "2024-01-31T11:42:18.886Z"
      },
      {
        "duration": 8,
        "start_time": "2024-01-31T11:42:24.240Z"
      },
      {
        "duration": 13,
        "start_time": "2024-01-31T11:42:25.111Z"
      },
      {
        "duration": 26,
        "start_time": "2024-01-31T11:42:40.303Z"
      },
      {
        "duration": 4,
        "start_time": "2024-01-31T11:42:42.902Z"
      },
      {
        "duration": 6,
        "start_time": "2024-01-31T11:42:44.759Z"
      },
      {
        "duration": 6,
        "start_time": "2024-01-31T11:42:45.726Z"
      },
      {
        "duration": 7,
        "start_time": "2024-01-31T11:42:46.770Z"
      },
      {
        "duration": 350,
        "start_time": "2024-01-31T11:42:47.857Z"
      },
      {
        "duration": 5,
        "start_time": "2024-01-31T11:42:50.077Z"
      },
      {
        "duration": 25,
        "start_time": "2024-01-31T11:42:50.967Z"
      },
      {
        "duration": 159,
        "start_time": "2024-01-31T11:42:56.062Z"
      },
      {
        "duration": 9,
        "start_time": "2024-01-31T11:42:59.438Z"
      },
      {
        "duration": 26,
        "start_time": "2024-01-31T11:43:03.198Z"
      },
      {
        "duration": 7,
        "start_time": "2024-01-31T11:43:11.322Z"
      },
      {
        "duration": 8,
        "start_time": "2024-01-31T11:43:15.029Z"
      },
      {
        "duration": 176,
        "start_time": "2024-01-31T11:43:15.502Z"
      },
      {
        "duration": 166,
        "start_time": "2024-01-31T11:43:21.750Z"
      },
      {
        "duration": 11,
        "start_time": "2024-01-31T11:43:31.054Z"
      },
      {
        "duration": 10,
        "start_time": "2024-01-31T11:43:42.078Z"
      },
      {
        "duration": 6,
        "start_time": "2024-01-31T11:43:43.358Z"
      },
      {
        "duration": 194,
        "start_time": "2024-01-31T11:43:56.918Z"
      },
      {
        "duration": 158,
        "start_time": "2024-01-31T11:44:02.646Z"
      },
      {
        "duration": 9,
        "start_time": "2024-01-31T11:44:05.751Z"
      },
      {
        "duration": 7,
        "start_time": "2024-01-31T11:44:22.413Z"
      },
      {
        "duration": 195,
        "start_time": "2024-01-31T11:44:30.069Z"
      },
      {
        "duration": 252,
        "start_time": "2024-01-31T11:44:36.262Z"
      },
      {
        "duration": 10,
        "start_time": "2024-01-31T11:44:40.750Z"
      },
      {
        "duration": 41,
        "start_time": "2024-01-31T11:44:46.917Z"
      },
      {
        "duration": 45,
        "start_time": "2024-01-31T11:44:58.357Z"
      },
      {
        "duration": 9,
        "start_time": "2024-01-31T11:45:35.109Z"
      },
      {
        "duration": 43,
        "start_time": "2024-01-31T11:45:35.902Z"
      },
      {
        "duration": 13,
        "start_time": "2024-01-31T11:45:40.949Z"
      },
      {
        "duration": 165,
        "start_time": "2024-01-31T11:45:44.437Z"
      },
      {
        "duration": 133,
        "start_time": "2024-01-31T11:47:03.297Z"
      },
      {
        "duration": 16,
        "start_time": "2024-01-31T11:47:04.139Z"
      },
      {
        "duration": 26,
        "start_time": "2024-01-31T11:47:06.821Z"
      },
      {
        "duration": 2206,
        "start_time": "2024-01-31T11:47:08.412Z"
      },
      {
        "duration": 9,
        "start_time": "2024-01-31T11:47:10.620Z"
      },
      {
        "duration": 26,
        "start_time": "2024-01-31T11:47:14.028Z"
      },
      {
        "duration": 7,
        "start_time": "2024-01-31T11:47:14.782Z"
      },
      {
        "duration": 29,
        "start_time": "2024-01-31T11:47:15.516Z"
      },
      {
        "duration": 5,
        "start_time": "2024-01-31T11:47:17.165Z"
      },
      {
        "duration": 7,
        "start_time": "2024-01-31T11:47:17.732Z"
      },
      {
        "duration": 8,
        "start_time": "2024-01-31T11:47:20.027Z"
      },
      {
        "duration": 7,
        "start_time": "2024-01-31T11:47:21.100Z"
      },
      {
        "duration": 7,
        "start_time": "2024-01-31T11:47:22.548Z"
      },
      {
        "duration": 7,
        "start_time": "2024-01-31T11:47:24.853Z"
      },
      {
        "duration": 9,
        "start_time": "2024-01-31T11:47:26.429Z"
      },
      {
        "duration": 202,
        "start_time": "2024-01-31T11:47:28.636Z"
      },
      {
        "duration": 6,
        "start_time": "2024-01-31T11:47:31.531Z"
      },
      {
        "duration": 28,
        "start_time": "2024-01-31T11:47:32.660Z"
      },
      {
        "duration": 6,
        "start_time": "2024-01-31T11:47:35.579Z"
      },
      {
        "duration": 21,
        "start_time": "2024-01-31T11:47:36.366Z"
      },
      {
        "duration": 7,
        "start_time": "2024-01-31T11:47:39.172Z"
      },
      {
        "duration": 414,
        "start_time": "2024-01-31T11:47:39.931Z"
      },
      {
        "duration": 8,
        "start_time": "2024-01-31T11:47:43.155Z"
      },
      {
        "duration": 14,
        "start_time": "2024-01-31T11:47:44.060Z"
      },
      {
        "duration": 7,
        "start_time": "2024-01-31T11:47:46.660Z"
      },
      {
        "duration": 15,
        "start_time": "2024-01-31T11:47:49.580Z"
      },
      {
        "duration": 27,
        "start_time": "2024-01-31T11:47:51.794Z"
      },
      {
        "duration": 4,
        "start_time": "2024-01-31T11:47:57.275Z"
      },
      {
        "duration": 6,
        "start_time": "2024-01-31T11:47:58.291Z"
      },
      {
        "duration": 6,
        "start_time": "2024-01-31T11:47:59.283Z"
      },
      {
        "duration": 6,
        "start_time": "2024-01-31T11:48:00.283Z"
      },
      {
        "duration": 345,
        "start_time": "2024-01-31T11:48:02.611Z"
      },
      {
        "duration": 5,
        "start_time": "2024-01-31T11:48:03.482Z"
      },
      {
        "duration": 26,
        "start_time": "2024-01-31T11:48:04.340Z"
      },
      {
        "duration": 150,
        "start_time": "2024-01-31T11:48:08.506Z"
      },
      {
        "duration": 10,
        "start_time": "2024-01-31T11:48:10.099Z"
      },
      {
        "duration": 25,
        "start_time": "2024-01-31T11:48:12.371Z"
      },
      {
        "duration": 7,
        "start_time": "2024-01-31T11:48:16.674Z"
      },
      {
        "duration": 9,
        "start_time": "2024-01-31T11:48:18.114Z"
      },
      {
        "duration": 171,
        "start_time": "2024-01-31T11:48:18.707Z"
      },
      {
        "duration": 166,
        "start_time": "2024-01-31T11:48:22.714Z"
      },
      {
        "duration": 9,
        "start_time": "2024-01-31T11:48:25.371Z"
      },
      {
        "duration": 6,
        "start_time": "2024-01-31T11:48:31.157Z"
      },
      {
        "duration": 179,
        "start_time": "2024-01-31T11:48:34.475Z"
      },
      {
        "duration": 165,
        "start_time": "2024-01-31T11:48:37.056Z"
      },
      {
        "duration": 9,
        "start_time": "2024-01-31T11:48:39.235Z"
      },
      {
        "duration": 6,
        "start_time": "2024-01-31T11:48:43.747Z"
      },
      {
        "duration": 184,
        "start_time": "2024-01-31T11:48:48.997Z"
      },
      {
        "duration": 243,
        "start_time": "2024-01-31T11:48:52.163Z"
      },
      {
        "duration": 9,
        "start_time": "2024-01-31T11:48:54.715Z"
      },
      {
        "duration": 9,
        "start_time": "2024-01-31T11:49:07.282Z"
      },
      {
        "duration": 54,
        "start_time": "2024-01-31T11:49:07.916Z"
      },
      {
        "duration": 14,
        "start_time": "2024-01-31T11:49:13.747Z"
      },
      {
        "duration": 164,
        "start_time": "2024-01-31T11:49:15.699Z"
      },
      {
        "duration": 39,
        "start_time": "2024-01-31T11:49:36.277Z"
      },
      {
        "duration": 38,
        "start_time": "2024-01-31T11:49:49.443Z"
      },
      {
        "duration": 36,
        "start_time": "2024-01-31T11:50:01.386Z"
      },
      {
        "duration": 18,
        "start_time": "2024-01-31T11:50:23.466Z"
      },
      {
        "duration": 151,
        "start_time": "2024-01-31T11:50:25.131Z"
      },
      {
        "duration": 158,
        "start_time": "2024-01-31T11:50:46.164Z"
      },
      {
        "duration": 143,
        "start_time": "2024-01-31T11:50:56.002Z"
      },
      {
        "duration": 6,
        "start_time": "2024-01-31T11:51:07.746Z"
      },
      {
        "duration": 12,
        "start_time": "2024-01-31T11:53:11.906Z"
      },
      {
        "duration": 121,
        "start_time": "2024-01-31T11:54:12.758Z"
      },
      {
        "duration": 16,
        "start_time": "2024-01-31T11:54:13.209Z"
      },
      {
        "duration": 27,
        "start_time": "2024-01-31T11:54:15.817Z"
      },
      {
        "duration": 2292,
        "start_time": "2024-01-31T11:54:16.260Z"
      },
      {
        "duration": 20,
        "start_time": "2024-01-31T11:54:18.553Z"
      },
      {
        "duration": 25,
        "start_time": "2024-01-31T11:54:18.575Z"
      },
      {
        "duration": 6,
        "start_time": "2024-01-31T11:54:18.602Z"
      },
      {
        "duration": 50,
        "start_time": "2024-01-31T11:54:18.609Z"
      },
      {
        "duration": 13,
        "start_time": "2024-01-31T11:54:18.660Z"
      },
      {
        "duration": 9,
        "start_time": "2024-01-31T11:54:18.674Z"
      },
      {
        "duration": 7,
        "start_time": "2024-01-31T11:54:21.898Z"
      },
      {
        "duration": 5,
        "start_time": "2024-01-31T11:54:22.801Z"
      },
      {
        "duration": 6,
        "start_time": "2024-01-31T11:54:29.921Z"
      },
      {
        "duration": 6,
        "start_time": "2024-01-31T11:54:30.762Z"
      },
      {
        "duration": 9,
        "start_time": "2024-01-31T11:54:32.433Z"
      },
      {
        "duration": 206,
        "start_time": "2024-01-31T11:54:33.114Z"
      },
      {
        "duration": 5,
        "start_time": "2024-01-31T11:54:33.777Z"
      },
      {
        "duration": 30,
        "start_time": "2024-01-31T11:54:34.361Z"
      },
      {
        "duration": 5,
        "start_time": "2024-01-31T11:54:35.001Z"
      },
      {
        "duration": 20,
        "start_time": "2024-01-31T11:54:35.274Z"
      },
      {
        "duration": 6,
        "start_time": "2024-01-31T11:54:35.929Z"
      },
      {
        "duration": 429,
        "start_time": "2024-01-31T11:54:36.266Z"
      },
      {
        "duration": 7,
        "start_time": "2024-01-31T11:54:36.930Z"
      },
      {
        "duration": 14,
        "start_time": "2024-01-31T11:54:37.225Z"
      },
      {
        "duration": 8,
        "start_time": "2024-01-31T11:54:37.977Z"
      },
      {
        "duration": 13,
        "start_time": "2024-01-31T11:54:38.274Z"
      },
      {
        "duration": 26,
        "start_time": "2024-01-31T11:54:38.594Z"
      },
      {
        "duration": 4,
        "start_time": "2024-01-31T11:54:40.393Z"
      },
      {
        "duration": 6,
        "start_time": "2024-01-31T11:54:40.873Z"
      },
      {
        "duration": 5,
        "start_time": "2024-01-31T11:54:41.377Z"
      },
      {
        "duration": 6,
        "start_time": "2024-01-31T11:54:41.873Z"
      },
      {
        "duration": 343,
        "start_time": "2024-01-31T11:54:42.409Z"
      },
      {
        "duration": 4,
        "start_time": "2024-01-31T11:54:43.265Z"
      },
      {
        "duration": 30,
        "start_time": "2024-01-31T11:54:44.089Z"
      },
      {
        "duration": 157,
        "start_time": "2024-01-31T11:54:46.104Z"
      },
      {
        "duration": 9,
        "start_time": "2024-01-31T11:54:46.697Z"
      },
      {
        "duration": 26,
        "start_time": "2024-01-31T11:54:47.712Z"
      },
      {
        "duration": 6,
        "start_time": "2024-01-31T11:54:50.721Z"
      },
      {
        "duration": 8,
        "start_time": "2024-01-31T11:54:51.377Z"
      },
      {
        "duration": 175,
        "start_time": "2024-01-31T11:54:51.729Z"
      },
      {
        "duration": 166,
        "start_time": "2024-01-31T11:54:52.801Z"
      },
      {
        "duration": 9,
        "start_time": "2024-01-31T11:54:54.946Z"
      },
      {
        "duration": 5,
        "start_time": "2024-01-31T11:54:56.145Z"
      },
      {
        "duration": 170,
        "start_time": "2024-01-31T11:54:58.465Z"
      },
      {
        "duration": 153,
        "start_time": "2024-01-31T11:55:00.224Z"
      },
      {
        "duration": 9,
        "start_time": "2024-01-31T11:55:01.441Z"
      },
      {
        "duration": 5,
        "start_time": "2024-01-31T11:55:02.289Z"
      },
      {
        "duration": 213,
        "start_time": "2024-01-31T11:55:03.344Z"
      },
      {
        "duration": 253,
        "start_time": "2024-01-31T11:55:05.337Z"
      },
      {
        "duration": 9,
        "start_time": "2024-01-31T11:55:06.184Z"
      },
      {
        "duration": 40,
        "start_time": "2024-01-31T11:55:08.154Z"
      },
      {
        "duration": 14,
        "start_time": "2024-01-31T11:55:09.729Z"
      },
      {
        "duration": 157,
        "start_time": "2024-01-31T11:55:12.241Z"
      },
      {
        "duration": 139,
        "start_time": "2024-01-31T11:55:24.673Z"
      },
      {
        "duration": 5,
        "start_time": "2024-01-31T11:55:29.305Z"
      },
      {
        "duration": 16,
        "start_time": "2024-01-31T11:55:32.304Z"
      },
      {
        "duration": 14,
        "start_time": "2024-01-31T11:55:54.023Z"
      },
      {
        "duration": 147,
        "start_time": "2024-01-31T11:55:54.641Z"
      },
      {
        "duration": 235,
        "start_time": "2024-01-31T11:57:54.992Z"
      },
      {
        "duration": 10,
        "start_time": "2024-01-31T11:58:01.344Z"
      },
      {
        "duration": 9,
        "start_time": "2024-01-31T11:59:04.816Z"
      },
      {
        "duration": 9,
        "start_time": "2024-01-31T11:59:12.625Z"
      },
      {
        "duration": 8,
        "start_time": "2024-01-31T11:59:28.736Z"
      },
      {
        "duration": 8,
        "start_time": "2024-01-31T12:00:19.377Z"
      },
      {
        "duration": 6,
        "start_time": "2024-01-31T12:00:30.490Z"
      },
      {
        "duration": 7,
        "start_time": "2024-01-31T12:01:37.551Z"
      },
      {
        "duration": 40,
        "start_time": "2024-01-31T12:02:41.352Z"
      },
      {
        "duration": 40,
        "start_time": "2024-01-31T12:03:35.992Z"
      },
      {
        "duration": 709,
        "start_time": "2024-01-31T15:43:39.022Z"
      },
      {
        "duration": 21,
        "start_time": "2024-01-31T15:43:39.890Z"
      },
      {
        "duration": 43,
        "start_time": "2024-01-31T15:43:42.673Z"
      },
      {
        "duration": 2495,
        "start_time": "2024-01-31T15:43:43.389Z"
      },
      {
        "duration": 10,
        "start_time": "2024-01-31T15:43:45.887Z"
      },
      {
        "duration": 26,
        "start_time": "2024-01-31T15:43:46.537Z"
      },
      {
        "duration": 5,
        "start_time": "2024-01-31T15:43:47.163Z"
      },
      {
        "duration": 29,
        "start_time": "2024-01-31T15:43:48.735Z"
      },
      {
        "duration": 5,
        "start_time": "2024-01-31T15:43:49.254Z"
      },
      {
        "duration": 8,
        "start_time": "2024-01-31T15:43:49.755Z"
      },
      {
        "duration": 8,
        "start_time": "2024-01-31T15:43:52.021Z"
      },
      {
        "duration": 6,
        "start_time": "2024-01-31T15:43:52.938Z"
      },
      {
        "duration": 7,
        "start_time": "2024-01-31T15:43:54.311Z"
      },
      {
        "duration": 6,
        "start_time": "2024-01-31T15:43:55.271Z"
      },
      {
        "duration": 11,
        "start_time": "2024-01-31T15:43:58.055Z"
      },
      {
        "duration": 207,
        "start_time": "2024-01-31T15:44:00.101Z"
      },
      {
        "duration": 6,
        "start_time": "2024-01-31T15:44:01.084Z"
      },
      {
        "duration": 35,
        "start_time": "2024-01-31T15:44:02.945Z"
      },
      {
        "duration": 6,
        "start_time": "2024-01-31T15:44:04.965Z"
      },
      {
        "duration": 16,
        "start_time": "2024-01-31T15:44:05.543Z"
      },
      {
        "duration": 8,
        "start_time": "2024-01-31T15:44:08.027Z"
      },
      {
        "duration": 428,
        "start_time": "2024-01-31T15:44:09.445Z"
      },
      {
        "duration": 10,
        "start_time": "2024-01-31T15:44:13.089Z"
      },
      {
        "duration": 15,
        "start_time": "2024-01-31T15:44:14.941Z"
      },
      {
        "duration": 8,
        "start_time": "2024-01-31T15:44:17.043Z"
      },
      {
        "duration": 13,
        "start_time": "2024-01-31T15:44:17.612Z"
      },
      {
        "duration": 27,
        "start_time": "2024-01-31T15:44:19.555Z"
      },
      {
        "duration": 4,
        "start_time": "2024-01-31T15:44:22.803Z"
      },
      {
        "duration": 6,
        "start_time": "2024-01-31T15:44:23.695Z"
      },
      {
        "duration": 6,
        "start_time": "2024-01-31T15:44:25.791Z"
      },
      {
        "duration": 5,
        "start_time": "2024-01-31T15:44:26.651Z"
      },
      {
        "duration": 385,
        "start_time": "2024-01-31T15:44:27.559Z"
      },
      {
        "duration": 4,
        "start_time": "2024-01-31T15:44:29.681Z"
      },
      {
        "duration": 27,
        "start_time": "2024-01-31T15:44:30.562Z"
      },
      {
        "duration": 218,
        "start_time": "2024-01-31T15:44:33.445Z"
      },
      {
        "duration": 8,
        "start_time": "2024-01-31T15:44:35.042Z"
      },
      {
        "duration": 27,
        "start_time": "2024-01-31T15:44:37.191Z"
      },
      {
        "duration": 6,
        "start_time": "2024-01-31T15:44:38.684Z"
      },
      {
        "duration": 8,
        "start_time": "2024-01-31T15:44:39.563Z"
      },
      {
        "duration": 175,
        "start_time": "2024-01-31T15:44:40.178Z"
      },
      {
        "duration": 168,
        "start_time": "2024-01-31T15:44:42.783Z"
      },
      {
        "duration": 10,
        "start_time": "2024-01-31T15:44:43.595Z"
      },
      {
        "duration": 6,
        "start_time": "2024-01-31T15:44:46.485Z"
      },
      {
        "duration": 171,
        "start_time": "2024-01-31T15:44:48.849Z"
      },
      {
        "duration": 156,
        "start_time": "2024-01-31T15:44:50.038Z"
      },
      {
        "duration": 9,
        "start_time": "2024-01-31T15:44:51.604Z"
      },
      {
        "duration": 6,
        "start_time": "2024-01-31T15:44:54.024Z"
      },
      {
        "duration": 182,
        "start_time": "2024-01-31T15:44:55.953Z"
      },
      {
        "duration": 245,
        "start_time": "2024-01-31T15:44:58.101Z"
      },
      {
        "duration": 11,
        "start_time": "2024-01-31T15:44:58.846Z"
      },
      {
        "duration": 39,
        "start_time": "2024-01-31T15:45:00.762Z"
      },
      {
        "duration": 14,
        "start_time": "2024-01-31T15:45:01.972Z"
      },
      {
        "duration": 164,
        "start_time": "2024-01-31T15:45:03.954Z"
      },
      {
        "duration": 134,
        "start_time": "2024-01-31T15:45:07.053Z"
      },
      {
        "duration": 6,
        "start_time": "2024-01-31T15:45:07.816Z"
      },
      {
        "duration": 14,
        "start_time": "2024-01-31T15:45:09.742Z"
      },
      {
        "duration": 145,
        "start_time": "2024-01-31T15:45:10.440Z"
      },
      {
        "duration": 325,
        "start_time": "2024-01-31T15:45:13.344Z"
      },
      {
        "duration": 43,
        "start_time": "2024-01-31T15:45:15.799Z"
      },
      {
        "duration": 257,
        "start_time": "2024-01-31T15:45:16.792Z"
      },
      {
        "duration": 255,
        "start_time": "2024-01-31T15:45:40.395Z"
      },
      {
        "duration": 72,
        "start_time": "2024-01-31T15:48:23.227Z"
      },
      {
        "duration": 6,
        "start_time": "2024-01-31T15:49:01.312Z"
      },
      {
        "duration": 7,
        "start_time": "2024-01-31T15:52:35.345Z"
      },
      {
        "duration": 77,
        "start_time": "2024-01-31T15:52:46.651Z"
      },
      {
        "duration": 8,
        "start_time": "2024-01-31T15:52:53.176Z"
      },
      {
        "duration": 13,
        "start_time": "2024-01-31T15:54:10.828Z"
      },
      {
        "duration": 138,
        "start_time": "2024-01-31T15:54:44.670Z"
      },
      {
        "duration": 16,
        "start_time": "2024-01-31T15:54:45.100Z"
      },
      {
        "duration": 37,
        "start_time": "2024-01-31T15:54:46.028Z"
      },
      {
        "duration": 2057,
        "start_time": "2024-01-31T15:54:46.451Z"
      },
      {
        "duration": 10,
        "start_time": "2024-01-31T15:54:48.510Z"
      },
      {
        "duration": 26,
        "start_time": "2024-01-31T15:54:48.521Z"
      },
      {
        "duration": 5,
        "start_time": "2024-01-31T15:54:48.549Z"
      },
      {
        "duration": 53,
        "start_time": "2024-01-31T15:54:48.555Z"
      },
      {
        "duration": 5,
        "start_time": "2024-01-31T15:54:48.868Z"
      },
      {
        "duration": 7,
        "start_time": "2024-01-31T15:54:49.545Z"
      },
      {
        "duration": 7,
        "start_time": "2024-01-31T15:54:50.443Z"
      },
      {
        "duration": 6,
        "start_time": "2024-01-31T15:54:51.262Z"
      },
      {
        "duration": 8,
        "start_time": "2024-01-31T15:54:52.472Z"
      },
      {
        "duration": 7,
        "start_time": "2024-01-31T15:54:53.262Z"
      },
      {
        "duration": 11,
        "start_time": "2024-01-31T15:54:54.802Z"
      },
      {
        "duration": 207,
        "start_time": "2024-01-31T15:54:55.562Z"
      },
      {
        "duration": 5,
        "start_time": "2024-01-31T15:54:56.334Z"
      },
      {
        "duration": 28,
        "start_time": "2024-01-31T15:54:57.101Z"
      },
      {
        "duration": 6,
        "start_time": "2024-01-31T15:54:57.916Z"
      },
      {
        "duration": 20,
        "start_time": "2024-01-31T15:54:58.272Z"
      },
      {
        "duration": 9,
        "start_time": "2024-01-31T15:54:59.101Z"
      },
      {
        "duration": 444,
        "start_time": "2024-01-31T15:54:59.497Z"
      },
      {
        "duration": 8,
        "start_time": "2024-01-31T15:55:00.313Z"
      },
      {
        "duration": 14,
        "start_time": "2024-01-31T15:55:00.741Z"
      },
      {
        "duration": 8,
        "start_time": "2024-01-31T15:55:01.559Z"
      },
      {
        "duration": 13,
        "start_time": "2024-01-31T15:55:01.969Z"
      },
      {
        "duration": 26,
        "start_time": "2024-01-31T15:55:02.369Z"
      },
      {
        "duration": 5,
        "start_time": "2024-01-31T15:55:04.320Z"
      },
      {
        "duration": 6,
        "start_time": "2024-01-31T15:55:04.928Z"
      },
      {
        "duration": 5,
        "start_time": "2024-01-31T15:55:05.606Z"
      },
      {
        "duration": 6,
        "start_time": "2024-01-31T15:55:06.322Z"
      },
      {
        "duration": 360,
        "start_time": "2024-01-31T15:55:07.096Z"
      },
      {
        "duration": 5,
        "start_time": "2024-01-31T15:55:07.791Z"
      },
      {
        "duration": 25,
        "start_time": "2024-01-31T15:55:08.515Z"
      },
      {
        "duration": 162,
        "start_time": "2024-01-31T15:55:10.568Z"
      },
      {
        "duration": 8,
        "start_time": "2024-01-31T15:55:10.999Z"
      },
      {
        "duration": 39,
        "start_time": "2024-01-31T15:55:11.733Z"
      },
      {
        "duration": 5,
        "start_time": "2024-01-31T15:55:12.883Z"
      },
      {
        "duration": 8,
        "start_time": "2024-01-31T15:55:13.610Z"
      },
      {
        "duration": 292,
        "start_time": "2024-01-31T15:55:13.959Z"
      },
      {
        "duration": 166,
        "start_time": "2024-01-31T15:55:14.699Z"
      },
      {
        "duration": 9,
        "start_time": "2024-01-31T15:55:15.080Z"
      },
      {
        "duration": 7,
        "start_time": "2024-01-31T15:55:15.834Z"
      },
      {
        "duration": 179,
        "start_time": "2024-01-31T15:55:16.594Z"
      },
      {
        "duration": 157,
        "start_time": "2024-01-31T15:55:17.474Z"
      },
      {
        "duration": 9,
        "start_time": "2024-01-31T15:55:17.893Z"
      },
      {
        "duration": 6,
        "start_time": "2024-01-31T15:55:18.796Z"
      },
      {
        "duration": 183,
        "start_time": "2024-01-31T15:55:19.566Z"
      },
      {
        "duration": 267,
        "start_time": "2024-01-31T15:55:20.570Z"
      },
      {
        "duration": 8,
        "start_time": "2024-01-31T15:55:20.957Z"
      },
      {
        "duration": 39,
        "start_time": "2024-01-31T15:55:21.409Z"
      },
      {
        "duration": 13,
        "start_time": "2024-01-31T15:55:23.652Z"
      },
      {
        "duration": 150,
        "start_time": "2024-01-31T15:55:24.114Z"
      },
      {
        "duration": 164,
        "start_time": "2024-01-31T15:55:25.821Z"
      },
      {
        "duration": 5,
        "start_time": "2024-01-31T15:55:27.251Z"
      },
      {
        "duration": 14,
        "start_time": "2024-01-31T15:55:28.194Z"
      },
      {
        "duration": 142,
        "start_time": "2024-01-31T15:55:28.805Z"
      },
      {
        "duration": 291,
        "start_time": "2024-01-31T15:55:30.896Z"
      },
      {
        "duration": 53,
        "start_time": "2024-01-31T15:55:33.091Z"
      },
      {
        "duration": 400,
        "start_time": "2024-01-31T15:55:33.801Z"
      },
      {
        "duration": 7,
        "start_time": "2024-01-31T15:55:36.479Z"
      },
      {
        "duration": 8,
        "start_time": "2024-01-31T15:55:52.536Z"
      },
      {
        "duration": 16,
        "start_time": "2024-01-31T15:55:54.826Z"
      },
      {
        "duration": 235,
        "start_time": "2024-01-31T15:56:42.215Z"
      },
      {
        "duration": 7,
        "start_time": "2024-01-31T15:57:19.879Z"
      },
      {
        "duration": 6,
        "start_time": "2024-01-31T15:57:27.447Z"
      },
      {
        "duration": 17,
        "start_time": "2024-01-31T15:57:28.441Z"
      },
      {
        "duration": 253,
        "start_time": "2024-01-31T15:57:33.565Z"
      },
      {
        "duration": 155,
        "start_time": "2024-01-31T15:57:43.509Z"
      },
      {
        "duration": 771,
        "start_time": "2024-02-01T06:29:53.454Z"
      },
      {
        "duration": 14,
        "start_time": "2024-02-01T06:29:54.238Z"
      },
      {
        "duration": 25,
        "start_time": "2024-02-01T06:29:56.551Z"
      },
      {
        "duration": 2292,
        "start_time": "2024-02-01T06:29:57.943Z"
      },
      {
        "duration": 10,
        "start_time": "2024-02-01T06:30:01.664Z"
      },
      {
        "duration": 25,
        "start_time": "2024-02-01T06:30:03.959Z"
      },
      {
        "duration": 5,
        "start_time": "2024-02-01T06:30:04.503Z"
      },
      {
        "duration": 36,
        "start_time": "2024-02-01T06:30:05.847Z"
      },
      {
        "duration": 4,
        "start_time": "2024-02-01T06:30:06.407Z"
      },
      {
        "duration": 8,
        "start_time": "2024-02-01T06:30:06.919Z"
      },
      {
        "duration": 8,
        "start_time": "2024-02-01T06:30:09.183Z"
      },
      {
        "duration": 5,
        "start_time": "2024-02-01T06:30:10.160Z"
      },
      {
        "duration": 7,
        "start_time": "2024-02-01T06:30:11.679Z"
      },
      {
        "duration": 6,
        "start_time": "2024-02-01T06:30:13.655Z"
      },
      {
        "duration": 9,
        "start_time": "2024-02-01T06:30:15.726Z"
      },
      {
        "duration": 187,
        "start_time": "2024-02-01T06:30:17.951Z"
      },
      {
        "duration": 5,
        "start_time": "2024-02-01T06:30:19.094Z"
      },
      {
        "duration": 28,
        "start_time": "2024-02-01T06:30:20.870Z"
      },
      {
        "duration": 6,
        "start_time": "2024-02-01T06:30:21.943Z"
      },
      {
        "duration": 15,
        "start_time": "2024-02-01T06:30:22.952Z"
      },
      {
        "duration": 10,
        "start_time": "2024-02-01T06:30:26.678Z"
      },
      {
        "duration": 360,
        "start_time": "2024-02-01T06:30:29.160Z"
      },
      {
        "duration": 11,
        "start_time": "2024-02-01T06:30:31.503Z"
      },
      {
        "duration": 13,
        "start_time": "2024-02-01T06:30:32.103Z"
      },
      {
        "duration": 8,
        "start_time": "2024-02-01T06:30:35.430Z"
      },
      {
        "duration": 14,
        "start_time": "2024-02-01T06:30:36.087Z"
      },
      {
        "duration": 24,
        "start_time": "2024-02-01T06:30:37.815Z"
      },
      {
        "duration": 4,
        "start_time": "2024-02-01T06:30:42.582Z"
      },
      {
        "duration": 6,
        "start_time": "2024-02-01T06:30:43.606Z"
      },
      {
        "duration": 5,
        "start_time": "2024-02-01T06:30:44.551Z"
      },
      {
        "duration": 5,
        "start_time": "2024-02-01T06:30:45.337Z"
      },
      {
        "duration": 324,
        "start_time": "2024-02-01T06:30:46.153Z"
      },
      {
        "duration": 5,
        "start_time": "2024-02-01T06:30:48.278Z"
      },
      {
        "duration": 22,
        "start_time": "2024-02-01T06:30:49.447Z"
      },
      {
        "duration": 248,
        "start_time": "2024-02-01T06:30:52.543Z"
      },
      {
        "duration": 8,
        "start_time": "2024-02-01T06:30:54.198Z"
      },
      {
        "duration": 24,
        "start_time": "2024-02-01T06:30:56.198Z"
      },
      {
        "duration": 6,
        "start_time": "2024-02-01T06:30:57.878Z"
      },
      {
        "duration": 8,
        "start_time": "2024-02-01T06:30:58.767Z"
      },
      {
        "duration": 148,
        "start_time": "2024-02-01T06:30:59.391Z"
      },
      {
        "duration": 154,
        "start_time": "2024-02-01T06:31:01.582Z"
      },
      {
        "duration": 9,
        "start_time": "2024-02-01T06:31:02.295Z"
      },
      {
        "duration": 7,
        "start_time": "2024-02-01T06:31:04.479Z"
      },
      {
        "duration": 159,
        "start_time": "2024-02-01T06:31:05.502Z"
      },
      {
        "duration": 140,
        "start_time": "2024-02-01T06:31:07.503Z"
      },
      {
        "duration": 9,
        "start_time": "2024-02-01T06:31:09.063Z"
      },
      {
        "duration": 5,
        "start_time": "2024-02-01T06:31:10.038Z"
      },
      {
        "duration": 171,
        "start_time": "2024-02-01T06:31:11.198Z"
      },
      {
        "duration": 216,
        "start_time": "2024-02-01T06:31:13.775Z"
      },
      {
        "duration": 9,
        "start_time": "2024-02-01T06:31:17.414Z"
      },
      {
        "duration": 38,
        "start_time": "2024-02-01T06:31:17.926Z"
      },
      {
        "duration": 13,
        "start_time": "2024-02-01T06:31:19.822Z"
      },
      {
        "duration": 147,
        "start_time": "2024-02-01T06:31:21.398Z"
      },
      {
        "duration": 121,
        "start_time": "2024-02-01T06:31:24.151Z"
      },
      {
        "duration": 5,
        "start_time": "2024-02-01T06:31:25.430Z"
      },
      {
        "duration": 14,
        "start_time": "2024-02-01T06:31:26.335Z"
      },
      {
        "duration": 129,
        "start_time": "2024-02-01T06:31:26.830Z"
      },
      {
        "duration": 294,
        "start_time": "2024-02-01T06:31:28.846Z"
      },
      {
        "duration": 39,
        "start_time": "2024-02-01T06:31:30.710Z"
      },
      {
        "duration": 249,
        "start_time": "2024-02-01T06:31:32.479Z"
      },
      {
        "duration": 6,
        "start_time": "2024-02-01T06:31:34.910Z"
      },
      {
        "duration": 16,
        "start_time": "2024-02-01T06:31:39.182Z"
      },
      {
        "duration": 132,
        "start_time": "2024-02-01T06:31:41.375Z"
      },
      {
        "duration": 120,
        "start_time": "2024-02-01T06:32:55.006Z"
      },
      {
        "duration": 104,
        "start_time": "2024-02-01T06:33:02.526Z"
      },
      {
        "duration": 172,
        "start_time": "2024-02-01T06:33:43.974Z"
      },
      {
        "duration": 7,
        "start_time": "2024-02-01T06:50:13.628Z"
      },
      {
        "duration": 14,
        "start_time": "2024-02-01T06:51:18.235Z"
      },
      {
        "duration": 217,
        "start_time": "2024-02-01T06:51:40.042Z"
      },
      {
        "duration": 165,
        "start_time": "2024-02-01T07:06:56.298Z"
      },
      {
        "duration": 7,
        "start_time": "2024-02-01T07:15:19.687Z"
      },
      {
        "duration": 5,
        "start_time": "2024-02-01T07:15:34.043Z"
      },
      {
        "duration": 13,
        "start_time": "2024-02-01T07:24:46.992Z"
      },
      {
        "duration": 305,
        "start_time": "2024-02-01T07:25:17.231Z"
      },
      {
        "duration": 141,
        "start_time": "2024-02-01T07:26:02.231Z"
      },
      {
        "duration": 6,
        "start_time": "2024-02-01T07:28:51.318Z"
      },
      {
        "duration": 14,
        "start_time": "2024-02-01T07:36:04.653Z"
      },
      {
        "duration": 200,
        "start_time": "2024-02-01T07:36:33.873Z"
      },
      {
        "duration": 170,
        "start_time": "2024-02-01T07:40:03.686Z"
      },
      {
        "duration": 6,
        "start_time": "2024-02-01T07:41:15.231Z"
      },
      {
        "duration": 5,
        "start_time": "2024-02-01T07:41:28.685Z"
      },
      {
        "duration": 10,
        "start_time": "2024-02-01T07:42:10.180Z"
      },
      {
        "duration": 1249,
        "start_time": "2024-02-01T08:54:04.959Z"
      },
      {
        "duration": 7,
        "start_time": "2024-02-01T08:54:25.101Z"
      },
      {
        "duration": 12,
        "start_time": "2024-02-01T08:57:17.986Z"
      },
      {
        "duration": 176,
        "start_time": "2024-02-01T08:59:08.361Z"
      },
      {
        "duration": 5,
        "start_time": "2024-02-01T09:03:32.199Z"
      },
      {
        "duration": 141,
        "start_time": "2024-02-01T09:06:27.871Z"
      },
      {
        "duration": 5,
        "start_time": "2024-02-01T09:06:45.806Z"
      },
      {
        "duration": 149,
        "start_time": "2024-02-01T09:27:43.135Z"
      },
      {
        "duration": 5,
        "start_time": "2024-02-01T09:36:06.212Z"
      },
      {
        "duration": 5,
        "start_time": "2024-02-01T09:36:32.586Z"
      },
      {
        "duration": 149,
        "start_time": "2024-02-01T09:37:10.211Z"
      },
      {
        "duration": 1384,
        "start_time": "2024-02-01T10:08:01.179Z"
      },
      {
        "duration": 12,
        "start_time": "2024-02-01T10:08:39.023Z"
      },
      {
        "duration": 1367,
        "start_time": "2024-02-01T10:08:56.472Z"
      },
      {
        "duration": 1412,
        "start_time": "2024-02-01T10:10:07.835Z"
      },
      {
        "duration": 1497,
        "start_time": "2024-02-01T10:10:27.999Z"
      },
      {
        "duration": 313,
        "start_time": "2024-02-01T10:12:29.652Z"
      },
      {
        "duration": 1915,
        "start_time": "2024-02-01T10:13:09.563Z"
      },
      {
        "duration": 1369,
        "start_time": "2024-02-01T10:14:20.211Z"
      },
      {
        "duration": 110,
        "start_time": "2024-02-01T10:14:45.108Z"
      },
      {
        "duration": 22,
        "start_time": "2024-02-01T10:15:15.588Z"
      },
      {
        "duration": 19,
        "start_time": "2024-02-01T10:19:24.428Z"
      },
      {
        "duration": 20,
        "start_time": "2024-02-01T10:19:45.835Z"
      },
      {
        "duration": 20,
        "start_time": "2024-02-01T10:20:54.259Z"
      },
      {
        "duration": 132,
        "start_time": "2024-02-01T10:21:41.731Z"
      },
      {
        "duration": 124,
        "start_time": "2024-02-01T10:22:09.027Z"
      },
      {
        "duration": 8,
        "start_time": "2024-02-01T10:24:07.699Z"
      },
      {
        "duration": 20,
        "start_time": "2024-02-01T10:24:14.643Z"
      },
      {
        "duration": 15,
        "start_time": "2024-02-01T10:24:30.172Z"
      },
      {
        "duration": 24,
        "start_time": "2024-02-01T10:32:55.043Z"
      },
      {
        "duration": 1291,
        "start_time": "2024-02-01T10:35:31.021Z"
      },
      {
        "duration": 1307,
        "start_time": "2024-02-01T10:35:41.429Z"
      },
      {
        "duration": 151,
        "start_time": "2024-02-01T10:36:52.037Z"
      },
      {
        "duration": 148,
        "start_time": "2024-02-01T10:37:50.157Z"
      },
      {
        "duration": 5,
        "start_time": "2024-02-01T10:39:10.694Z"
      },
      {
        "duration": 270,
        "start_time": "2024-02-01T10:41:36.438Z"
      },
      {
        "duration": 155,
        "start_time": "2024-02-01T10:42:28.440Z"
      },
      {
        "duration": 267,
        "start_time": "2024-02-01T10:42:58.790Z"
      },
      {
        "duration": 159,
        "start_time": "2024-02-01T10:49:20.378Z"
      },
      {
        "duration": 147,
        "start_time": "2024-02-01T10:51:33.792Z"
      },
      {
        "duration": 141,
        "start_time": "2024-02-01T10:53:08.994Z"
      },
      {
        "duration": 172,
        "start_time": "2024-02-01T10:54:24.447Z"
      },
      {
        "duration": 140,
        "start_time": "2024-02-01T10:55:01.031Z"
      },
      {
        "duration": 155,
        "start_time": "2024-02-01T10:55:08.935Z"
      },
      {
        "duration": 5,
        "start_time": "2024-02-01T10:56:35.824Z"
      },
      {
        "duration": 165,
        "start_time": "2024-02-01T10:58:37.647Z"
      },
      {
        "duration": 5,
        "start_time": "2024-02-01T10:59:00.367Z"
      },
      {
        "duration": 147,
        "start_time": "2024-02-01T11:00:10.160Z"
      },
      {
        "duration": 8,
        "start_time": "2024-02-01T11:00:38.823Z"
      },
      {
        "duration": 5,
        "start_time": "2024-02-01T11:00:47.536Z"
      },
      {
        "duration": 177,
        "start_time": "2024-02-01T11:01:23.479Z"
      },
      {
        "duration": 6,
        "start_time": "2024-02-01T11:01:24.264Z"
      },
      {
        "duration": 6,
        "start_time": "2024-02-01T11:03:44.479Z"
      },
      {
        "duration": 5,
        "start_time": "2024-02-01T11:03:50.360Z"
      },
      {
        "duration": 13,
        "start_time": "2024-02-01T11:04:06.283Z"
      },
      {
        "duration": 5,
        "start_time": "2024-02-01T11:04:40.160Z"
      },
      {
        "duration": 7,
        "start_time": "2024-02-01T11:07:34.934Z"
      },
      {
        "duration": 7,
        "start_time": "2024-02-01T11:08:44.813Z"
      },
      {
        "duration": 7,
        "start_time": "2024-02-01T11:09:51.214Z"
      },
      {
        "duration": 12,
        "start_time": "2024-02-01T11:09:57.622Z"
      },
      {
        "duration": 8,
        "start_time": "2024-02-01T11:12:34.437Z"
      },
      {
        "duration": 7,
        "start_time": "2024-02-01T11:12:57.421Z"
      },
      {
        "duration": 10,
        "start_time": "2024-02-01T11:13:02.717Z"
      },
      {
        "duration": 8,
        "start_time": "2024-02-01T11:13:32.525Z"
      },
      {
        "duration": 12,
        "start_time": "2024-02-01T11:13:56.556Z"
      },
      {
        "duration": 14,
        "start_time": "2024-02-01T11:14:18.870Z"
      },
      {
        "duration": 8,
        "start_time": "2024-02-01T11:14:47.251Z"
      },
      {
        "duration": 8,
        "start_time": "2024-02-01T11:15:15.652Z"
      },
      {
        "duration": 16,
        "start_time": "2024-02-01T11:15:40.364Z"
      },
      {
        "duration": 223,
        "start_time": "2024-02-01T11:41:20.077Z"
      },
      {
        "duration": 20,
        "start_time": "2024-02-01T11:41:25.817Z"
      },
      {
        "duration": 26,
        "start_time": "2024-02-01T11:41:34.032Z"
      },
      {
        "duration": 2018,
        "start_time": "2024-02-01T11:41:39.096Z"
      },
      {
        "duration": 9,
        "start_time": "2024-02-01T11:41:41.349Z"
      },
      {
        "duration": 28,
        "start_time": "2024-02-01T11:41:44.043Z"
      },
      {
        "duration": 6,
        "start_time": "2024-02-01T11:41:46.289Z"
      },
      {
        "duration": 28,
        "start_time": "2024-02-01T11:41:47.194Z"
      },
      {
        "duration": 5,
        "start_time": "2024-02-01T11:41:49.376Z"
      },
      {
        "duration": 8,
        "start_time": "2024-02-01T11:43:38.255Z"
      },
      {
        "duration": 8,
        "start_time": "2024-02-01T11:43:40.992Z"
      },
      {
        "duration": 6,
        "start_time": "2024-02-01T11:43:42.200Z"
      },
      {
        "duration": 8,
        "start_time": "2024-02-01T11:43:44.559Z"
      },
      {
        "duration": 7,
        "start_time": "2024-02-01T11:43:45.623Z"
      },
      {
        "duration": 8,
        "start_time": "2024-02-01T11:43:48.472Z"
      },
      {
        "duration": 208,
        "start_time": "2024-02-01T11:44:12.447Z"
      },
      {
        "duration": 5,
        "start_time": "2024-02-01T11:44:14.687Z"
      },
      {
        "duration": 29,
        "start_time": "2024-02-01T11:44:15.632Z"
      },
      {
        "duration": 6,
        "start_time": "2024-02-01T11:44:18.255Z"
      },
      {
        "duration": 14,
        "start_time": "2024-02-01T11:44:19.215Z"
      },
      {
        "duration": 6,
        "start_time": "2024-02-01T11:44:26.376Z"
      },
      {
        "duration": 375,
        "start_time": "2024-02-01T11:44:28.336Z"
      },
      {
        "duration": 9,
        "start_time": "2024-02-01T11:44:35.295Z"
      },
      {
        "duration": 14,
        "start_time": "2024-02-01T11:44:38.519Z"
      },
      {
        "duration": 8,
        "start_time": "2024-02-01T11:44:41.775Z"
      },
      {
        "duration": 13,
        "start_time": "2024-02-01T11:44:43.432Z"
      },
      {
        "duration": 24,
        "start_time": "2024-02-01T11:44:45.167Z"
      },
      {
        "duration": 5,
        "start_time": "2024-02-01T11:45:06.694Z"
      },
      {
        "duration": 6,
        "start_time": "2024-02-01T11:45:08.327Z"
      },
      {
        "duration": 6,
        "start_time": "2024-02-01T11:45:09.302Z"
      },
      {
        "duration": 5,
        "start_time": "2024-02-01T11:45:11.183Z"
      },
      {
        "duration": 336,
        "start_time": "2024-02-01T11:45:12.118Z"
      },
      {
        "duration": 5,
        "start_time": "2024-02-01T11:45:13.318Z"
      },
      {
        "duration": 26,
        "start_time": "2024-02-01T11:45:15.502Z"
      },
      {
        "duration": 156,
        "start_time": "2024-02-01T11:45:25.966Z"
      },
      {
        "duration": 9,
        "start_time": "2024-02-01T11:45:31.327Z"
      },
      {
        "duration": 31,
        "start_time": "2024-02-01T11:45:44.704Z"
      },
      {
        "duration": 5,
        "start_time": "2024-02-01T11:45:46.815Z"
      },
      {
        "duration": 8,
        "start_time": "2024-02-01T11:45:47.814Z"
      },
      {
        "duration": 171,
        "start_time": "2024-02-01T11:45:50.000Z"
      },
      {
        "duration": 9,
        "start_time": "2024-02-01T11:45:50.999Z"
      },
      {
        "duration": 173,
        "start_time": "2024-02-01T11:45:56.464Z"
      },
      {
        "duration": 9,
        "start_time": "2024-02-01T11:45:58.351Z"
      },
      {
        "duration": 6,
        "start_time": "2024-02-01T11:46:03.718Z"
      },
      {
        "duration": 156,
        "start_time": "2024-02-01T11:46:06.754Z"
      },
      {
        "duration": 8,
        "start_time": "2024-02-01T11:46:08.424Z"
      },
      {
        "duration": 13,
        "start_time": "2024-02-01T11:46:36.458Z"
      },
      {
        "duration": 9,
        "start_time": "2024-02-01T11:47:29.974Z"
      },
      {
        "duration": 6,
        "start_time": "2024-02-01T11:47:31.311Z"
      },
      {
        "duration": 156,
        "start_time": "2024-02-01T11:47:35.655Z"
      },
      {
        "duration": 14,
        "start_time": "2024-02-01T11:47:40.999Z"
      },
      {
        "duration": 121,
        "start_time": "2024-02-01T11:49:08.645Z"
      },
      {
        "duration": 14,
        "start_time": "2024-02-01T11:49:10.943Z"
      },
      {
        "duration": 27,
        "start_time": "2024-02-01T11:49:18.281Z"
      },
      {
        "duration": 1922,
        "start_time": "2024-02-01T11:49:20.151Z"
      },
      {
        "duration": 10,
        "start_time": "2024-02-01T11:49:41.390Z"
      },
      {
        "duration": 27,
        "start_time": "2024-02-01T11:50:09.325Z"
      },
      {
        "duration": 5,
        "start_time": "2024-02-01T11:50:47.311Z"
      },
      {
        "duration": 27,
        "start_time": "2024-02-01T11:50:58.590Z"
      },
      {
        "duration": 5,
        "start_time": "2024-02-01T11:50:59.270Z"
      },
      {
        "duration": 7,
        "start_time": "2024-02-01T11:51:02.014Z"
      },
      {
        "duration": 7,
        "start_time": "2024-02-01T11:51:03.222Z"
      },
      {
        "duration": 6,
        "start_time": "2024-02-01T11:51:05.223Z"
      },
      {
        "duration": 7,
        "start_time": "2024-02-01T11:51:08.029Z"
      },
      {
        "duration": 5,
        "start_time": "2024-02-01T11:51:08.998Z"
      },
      {
        "duration": 10,
        "start_time": "2024-02-01T11:51:11.839Z"
      },
      {
        "duration": 186,
        "start_time": "2024-02-01T11:51:16.678Z"
      },
      {
        "duration": 5,
        "start_time": "2024-02-01T11:51:19.765Z"
      },
      {
        "duration": 30,
        "start_time": "2024-02-01T11:51:20.757Z"
      },
      {
        "duration": 5,
        "start_time": "2024-02-01T11:51:23.198Z"
      },
      {
        "duration": 15,
        "start_time": "2024-02-01T11:51:24.846Z"
      },
      {
        "duration": 9,
        "start_time": "2024-02-01T11:51:26.646Z"
      },
      {
        "duration": 362,
        "start_time": "2024-02-01T11:51:28.182Z"
      },
      {
        "duration": 9,
        "start_time": "2024-02-01T11:51:31.254Z"
      },
      {
        "duration": 14,
        "start_time": "2024-02-01T11:51:33.063Z"
      },
      {
        "duration": 8,
        "start_time": "2024-02-01T11:51:36.078Z"
      },
      {
        "duration": 13,
        "start_time": "2024-02-01T11:51:36.798Z"
      },
      {
        "duration": 27,
        "start_time": "2024-02-01T11:51:38.921Z"
      },
      {
        "duration": 4,
        "start_time": "2024-02-01T11:51:42.215Z"
      },
      {
        "duration": 6,
        "start_time": "2024-02-01T11:51:43.046Z"
      },
      {
        "duration": 5,
        "start_time": "2024-02-01T11:51:43.846Z"
      },
      {
        "duration": 6,
        "start_time": "2024-02-01T11:51:44.694Z"
      },
      {
        "duration": 369,
        "start_time": "2024-02-01T11:51:45.685Z"
      },
      {
        "duration": 4,
        "start_time": "2024-02-01T11:51:48.190Z"
      },
      {
        "duration": 25,
        "start_time": "2024-02-01T11:51:50.622Z"
      },
      {
        "duration": 139,
        "start_time": "2024-02-01T11:51:56.821Z"
      },
      {
        "duration": 8,
        "start_time": "2024-02-01T11:51:57.694Z"
      },
      {
        "duration": 25,
        "start_time": "2024-02-01T11:52:03.190Z"
      },
      {
        "duration": 6,
        "start_time": "2024-02-01T11:52:15.524Z"
      },
      {
        "duration": 9,
        "start_time": "2024-02-01T11:52:16.693Z"
      },
      {
        "duration": 172,
        "start_time": "2024-02-01T11:52:17.454Z"
      },
      {
        "duration": 8,
        "start_time": "2024-02-01T11:52:20.334Z"
      },
      {
        "duration": 172,
        "start_time": "2024-02-01T11:52:22.837Z"
      },
      {
        "duration": 9,
        "start_time": "2024-02-01T11:52:27.375Z"
      },
      {
        "duration": 6,
        "start_time": "2024-02-01T11:52:32.942Z"
      },
      {
        "duration": 6,
        "start_time": "2024-02-01T11:52:58.909Z"
      },
      {
        "duration": 148,
        "start_time": "2024-02-01T11:53:17.117Z"
      },
      {
        "duration": 14,
        "start_time": "2024-02-01T11:53:26.501Z"
      },
      {
        "duration": 172,
        "start_time": "2024-02-01T11:54:52.549Z"
      },
      {
        "duration": 10,
        "start_time": "2024-02-01T11:54:53.437Z"
      },
      {
        "duration": 723,
        "start_time": "2024-02-01T18:30:36.357Z"
      },
      {
        "duration": 17,
        "start_time": "2024-02-01T18:30:39.370Z"
      },
      {
        "duration": 25,
        "start_time": "2024-02-01T18:30:41.923Z"
      },
      {
        "duration": 2626,
        "start_time": "2024-02-01T18:30:43.302Z"
      },
      {
        "duration": 12,
        "start_time": "2024-02-01T18:31:00.623Z"
      },
      {
        "duration": 25,
        "start_time": "2024-02-01T18:31:03.795Z"
      },
      {
        "duration": 5,
        "start_time": "2024-02-01T18:31:05.769Z"
      },
      {
        "duration": 25,
        "start_time": "2024-02-01T18:31:06.772Z"
      },
      {
        "duration": 4,
        "start_time": "2024-02-01T18:31:09.104Z"
      },
      {
        "duration": 8,
        "start_time": "2024-02-01T18:31:09.645Z"
      },
      {
        "duration": 8,
        "start_time": "2024-02-01T18:31:11.638Z"
      },
      {
        "duration": 7,
        "start_time": "2024-02-01T18:31:12.660Z"
      },
      {
        "duration": 8,
        "start_time": "2024-02-01T18:31:15.129Z"
      },
      {
        "duration": 6,
        "start_time": "2024-02-01T18:31:16.078Z"
      },
      {
        "duration": 8,
        "start_time": "2024-02-01T18:31:18.755Z"
      },
      {
        "duration": 193,
        "start_time": "2024-02-01T18:31:22.633Z"
      },
      {
        "duration": 5,
        "start_time": "2024-02-01T18:31:25.028Z"
      },
      {
        "duration": 103,
        "start_time": "2024-02-01T18:31:26.886Z"
      },
      {
        "duration": 7,
        "start_time": "2024-02-01T18:31:29.393Z"
      },
      {
        "duration": 15,
        "start_time": "2024-02-01T18:31:31.675Z"
      },
      {
        "duration": 6,
        "start_time": "2024-02-01T18:31:34.146Z"
      },
      {
        "duration": 387,
        "start_time": "2024-02-01T18:31:35.625Z"
      },
      {
        "duration": 10,
        "start_time": "2024-02-01T18:31:38.524Z"
      },
      {
        "duration": 13,
        "start_time": "2024-02-01T18:31:39.255Z"
      },
      {
        "duration": 8,
        "start_time": "2024-02-01T18:31:41.849Z"
      },
      {
        "duration": 14,
        "start_time": "2024-02-01T18:31:42.561Z"
      },
      {
        "duration": 24,
        "start_time": "2024-02-01T18:31:44.328Z"
      },
      {
        "duration": 4,
        "start_time": "2024-02-01T18:31:48.581Z"
      },
      {
        "duration": 5,
        "start_time": "2024-02-01T18:31:49.521Z"
      },
      {
        "duration": 6,
        "start_time": "2024-02-01T18:31:50.666Z"
      },
      {
        "duration": 5,
        "start_time": "2024-02-01T18:31:51.292Z"
      },
      {
        "duration": 306,
        "start_time": "2024-02-01T18:31:52.556Z"
      },
      {
        "duration": 4,
        "start_time": "2024-02-01T18:31:55.439Z"
      },
      {
        "duration": 24,
        "start_time": "2024-02-01T18:31:56.467Z"
      },
      {
        "duration": 140,
        "start_time": "2024-02-01T18:32:06.150Z"
      },
      {
        "duration": 8,
        "start_time": "2024-02-01T18:32:07.029Z"
      },
      {
        "duration": 9,
        "start_time": "2024-02-01T18:32:25.684Z"
      },
      {
        "duration": 7,
        "start_time": "2024-02-01T18:33:18.896Z"
      },
      {
        "duration": 171,
        "start_time": "2024-02-01T18:33:23.680Z"
      },
      {
        "duration": 8,
        "start_time": "2024-02-01T18:33:26.843Z"
      },
      {
        "duration": 149,
        "start_time": "2024-02-01T18:33:47.903Z"
      },
      {
        "duration": 9,
        "start_time": "2024-02-01T18:33:50.680Z"
      },
      {
        "duration": 8,
        "start_time": "2024-02-01T18:34:10.470Z"
      },
      {
        "duration": 5,
        "start_time": "2024-02-01T18:34:11.914Z"
      },
      {
        "duration": 5,
        "start_time": "2024-02-01T18:34:45.156Z"
      },
      {
        "duration": 147,
        "start_time": "2024-02-01T18:34:46.633Z"
      },
      {
        "duration": 13,
        "start_time": "2024-02-01T18:34:53.732Z"
      },
      {
        "duration": 80,
        "start_time": "2024-02-01T18:35:20.713Z"
      },
      {
        "duration": 8,
        "start_time": "2024-02-01T18:35:39.088Z"
      },
      {
        "duration": 11,
        "start_time": "2024-02-01T18:36:49.001Z"
      },
      {
        "duration": 107,
        "start_time": "2024-02-01T18:38:46.855Z"
      },
      {
        "duration": 15,
        "start_time": "2024-02-01T18:38:47.625Z"
      },
      {
        "duration": 26,
        "start_time": "2024-02-01T18:38:49.759Z"
      },
      {
        "duration": 2259,
        "start_time": "2024-02-01T18:38:51.989Z"
      },
      {
        "duration": 11,
        "start_time": "2024-02-01T18:38:57.473Z"
      },
      {
        "duration": 24,
        "start_time": "2024-02-01T18:38:59.194Z"
      },
      {
        "duration": 6,
        "start_time": "2024-02-01T18:39:00.548Z"
      },
      {
        "duration": 30,
        "start_time": "2024-02-01T18:39:01.042Z"
      },
      {
        "duration": 5,
        "start_time": "2024-02-01T18:39:01.735Z"
      },
      {
        "duration": 6,
        "start_time": "2024-02-01T18:39:03.216Z"
      },
      {
        "duration": 6,
        "start_time": "2024-02-01T18:39:04.186Z"
      },
      {
        "duration": 6,
        "start_time": "2024-02-01T18:39:06.804Z"
      },
      {
        "duration": 6,
        "start_time": "2024-02-01T18:39:09.776Z"
      },
      {
        "duration": 6,
        "start_time": "2024-02-01T18:39:11.559Z"
      },
      {
        "duration": 12,
        "start_time": "2024-02-01T18:39:18.348Z"
      },
      {
        "duration": 187,
        "start_time": "2024-02-01T18:39:22.312Z"
      },
      {
        "duration": 6,
        "start_time": "2024-02-01T18:39:27.093Z"
      },
      {
        "duration": 27,
        "start_time": "2024-02-01T18:39:28.545Z"
      },
      {
        "duration": 6,
        "start_time": "2024-02-01T18:39:31.095Z"
      },
      {
        "duration": 15,
        "start_time": "2024-02-01T18:39:32.033Z"
      },
      {
        "duration": 6,
        "start_time": "2024-02-01T18:39:41.143Z"
      },
      {
        "duration": 371,
        "start_time": "2024-02-01T18:39:42.389Z"
      },
      {
        "duration": 8,
        "start_time": "2024-02-01T18:39:45.383Z"
      },
      {
        "duration": 21,
        "start_time": "2024-02-01T18:39:46.599Z"
      },
      {
        "duration": 7,
        "start_time": "2024-02-01T18:39:49.653Z"
      },
      {
        "duration": 13,
        "start_time": "2024-02-01T18:39:50.128Z"
      },
      {
        "duration": 24,
        "start_time": "2024-02-01T18:39:51.873Z"
      },
      {
        "duration": 4,
        "start_time": "2024-02-01T18:39:56.023Z"
      },
      {
        "duration": 6,
        "start_time": "2024-02-01T18:39:56.861Z"
      },
      {
        "duration": 7,
        "start_time": "2024-02-01T18:39:57.695Z"
      },
      {
        "duration": 5,
        "start_time": "2024-02-01T18:39:58.497Z"
      },
      {
        "duration": 425,
        "start_time": "2024-02-01T18:40:01.079Z"
      },
      {
        "duration": 5,
        "start_time": "2024-02-01T18:40:02.044Z"
      },
      {
        "duration": 24,
        "start_time": "2024-02-01T18:40:03.031Z"
      },
      {
        "duration": 134,
        "start_time": "2024-02-01T18:40:07.724Z"
      },
      {
        "duration": 10,
        "start_time": "2024-02-01T18:40:11.793Z"
      },
      {
        "duration": 22,
        "start_time": "2024-02-01T18:40:12.735Z"
      },
      {
        "duration": 6,
        "start_time": "2024-02-01T18:40:20.030Z"
      },
      {
        "duration": 5,
        "start_time": "2024-02-01T18:40:21.747Z"
      },
      {
        "duration": 3,
        "start_time": "2024-02-01T18:40:23.255Z"
      },
      {
        "duration": 170,
        "start_time": "2024-02-01T18:40:25.863Z"
      },
      {
        "duration": 8,
        "start_time": "2024-02-01T18:40:27.058Z"
      },
      {
        "duration": 150,
        "start_time": "2024-02-01T18:40:31.704Z"
      },
      {
        "duration": 9,
        "start_time": "2024-02-01T18:40:34.253Z"
      },
      {
        "duration": 8,
        "start_time": "2024-02-01T18:41:00.497Z"
      },
      {
        "duration": 9,
        "start_time": "2024-02-01T18:41:08.326Z"
      },
      {
        "duration": 6,
        "start_time": "2024-02-01T18:41:12.800Z"
      },
      {
        "duration": 8,
        "start_time": "2024-02-01T18:41:18.811Z"
      },
      {
        "duration": 143,
        "start_time": "2024-02-01T18:41:29.789Z"
      },
      {
        "duration": 9,
        "start_time": "2024-02-01T18:41:30.887Z"
      },
      {
        "duration": 9,
        "start_time": "2024-02-01T18:41:54.123Z"
      },
      {
        "duration": 6,
        "start_time": "2024-02-01T18:41:55.333Z"
      },
      {
        "duration": 136,
        "start_time": "2024-02-01T18:43:26.543Z"
      },
      {
        "duration": 8,
        "start_time": "2024-02-01T18:43:40.898Z"
      },
      {
        "duration": 8,
        "start_time": "2024-02-01T18:44:07.509Z"
      },
      {
        "duration": 149,
        "start_time": "2024-02-01T18:46:14.628Z"
      },
      {
        "duration": 135,
        "start_time": "2024-02-01T18:46:47.944Z"
      },
      {
        "duration": 8,
        "start_time": "2024-02-01T18:46:58.091Z"
      },
      {
        "duration": 138,
        "start_time": "2024-02-01T18:52:37.479Z"
      },
      {
        "duration": 135,
        "start_time": "2024-02-01T18:54:31.850Z"
      },
      {
        "duration": 138,
        "start_time": "2024-02-01T18:54:40.663Z"
      },
      {
        "duration": 114,
        "start_time": "2024-02-01T18:55:06.757Z"
      },
      {
        "duration": 14,
        "start_time": "2024-02-01T18:55:07.500Z"
      },
      {
        "duration": 27,
        "start_time": "2024-02-01T18:55:10.016Z"
      },
      {
        "duration": 2332,
        "start_time": "2024-02-01T18:55:11.440Z"
      },
      {
        "duration": 9,
        "start_time": "2024-02-01T18:55:15.524Z"
      },
      {
        "duration": 24,
        "start_time": "2024-02-01T18:55:17.183Z"
      },
      {
        "duration": 5,
        "start_time": "2024-02-01T18:55:17.756Z"
      },
      {
        "duration": 26,
        "start_time": "2024-02-01T18:55:18.299Z"
      },
      {
        "duration": 4,
        "start_time": "2024-02-01T18:55:18.836Z"
      },
      {
        "duration": 6,
        "start_time": "2024-02-01T18:55:19.359Z"
      },
      {
        "duration": 7,
        "start_time": "2024-02-01T18:55:21.593Z"
      },
      {
        "duration": 6,
        "start_time": "2024-02-01T18:55:22.560Z"
      },
      {
        "duration": 7,
        "start_time": "2024-02-01T18:55:24.655Z"
      },
      {
        "duration": 5,
        "start_time": "2024-02-01T18:55:25.524Z"
      },
      {
        "duration": 9,
        "start_time": "2024-02-01T18:55:27.280Z"
      },
      {
        "duration": 340,
        "start_time": "2024-02-01T18:55:28.392Z"
      },
      {
        "duration": 5,
        "start_time": "2024-02-01T18:55:31.244Z"
      },
      {
        "duration": 27,
        "start_time": "2024-02-01T18:55:32.272Z"
      },
      {
        "duration": 5,
        "start_time": "2024-02-01T18:55:34.620Z"
      },
      {
        "duration": 19,
        "start_time": "2024-02-01T18:55:35.360Z"
      },
      {
        "duration": 6,
        "start_time": "2024-02-01T18:55:37.645Z"
      },
      {
        "duration": 388,
        "start_time": "2024-02-01T18:55:39.008Z"
      },
      {
        "duration": 7,
        "start_time": "2024-02-01T18:55:42.322Z"
      },
      {
        "duration": 14,
        "start_time": "2024-02-01T18:55:44.426Z"
      },
      {
        "duration": 8,
        "start_time": "2024-02-01T18:55:45.377Z"
      },
      {
        "duration": 14,
        "start_time": "2024-02-01T18:55:46.078Z"
      },
      {
        "duration": 36,
        "start_time": "2024-02-01T18:55:47.824Z"
      },
      {
        "duration": 4,
        "start_time": "2024-02-01T18:55:50.942Z"
      },
      {
        "duration": 6,
        "start_time": "2024-02-01T18:55:51.806Z"
      },
      {
        "duration": 5,
        "start_time": "2024-02-01T18:55:53.726Z"
      },
      {
        "duration": 5,
        "start_time": "2024-02-01T18:55:54.569Z"
      },
      {
        "duration": 298,
        "start_time": "2024-02-01T18:55:55.425Z"
      },
      {
        "duration": 5,
        "start_time": "2024-02-01T18:55:57.616Z"
      },
      {
        "duration": 23,
        "start_time": "2024-02-01T18:55:58.398Z"
      },
      {
        "duration": 150,
        "start_time": "2024-02-01T18:56:01.242Z"
      },
      {
        "duration": 8,
        "start_time": "2024-02-01T18:56:02.820Z"
      },
      {
        "duration": 24,
        "start_time": "2024-02-01T18:56:04.593Z"
      },
      {
        "duration": 6,
        "start_time": "2024-02-01T18:56:06.110Z"
      },
      {
        "duration": 7,
        "start_time": "2024-02-01T18:56:08.333Z"
      },
      {
        "duration": 2,
        "start_time": "2024-02-01T18:56:08.848Z"
      },
      {
        "duration": 155,
        "start_time": "2024-02-01T18:56:09.387Z"
      },
      {
        "duration": 9,
        "start_time": "2024-02-01T18:56:11.384Z"
      },
      {
        "duration": 152,
        "start_time": "2024-02-01T18:56:13.377Z"
      },
      {
        "duration": 9,
        "start_time": "2024-02-01T18:56:14.174Z"
      },
      {
        "duration": 6,
        "start_time": "2024-02-01T18:56:17.050Z"
      },
      {
        "duration": 144,
        "start_time": "2024-02-01T18:56:20.097Z"
      },
      {
        "duration": 9,
        "start_time": "2024-02-01T18:56:33.959Z"
      },
      {
        "duration": 9,
        "start_time": "2024-02-01T18:56:48.105Z"
      },
      {
        "duration": 12,
        "start_time": "2024-02-01T18:57:06.409Z"
      },
      {
        "duration": 599,
        "start_time": "2024-02-02T07:26:57.136Z"
      },
      {
        "duration": 16,
        "start_time": "2024-02-02T07:26:58.604Z"
      },
      {
        "duration": 28,
        "start_time": "2024-02-02T07:27:01.364Z"
      },
      {
        "duration": 3247,
        "start_time": "2024-02-02T07:27:03.369Z"
      },
      {
        "duration": 11,
        "start_time": "2024-02-02T07:27:09.345Z"
      },
      {
        "duration": 27,
        "start_time": "2024-02-02T07:27:11.361Z"
      },
      {
        "duration": 6,
        "start_time": "2024-02-02T07:27:12.827Z"
      },
      {
        "duration": 30,
        "start_time": "2024-02-02T07:27:13.379Z"
      },
      {
        "duration": 5,
        "start_time": "2024-02-02T07:27:15.089Z"
      },
      {
        "duration": 8,
        "start_time": "2024-02-02T07:27:16.169Z"
      },
      {
        "duration": 8,
        "start_time": "2024-02-02T07:27:17.240Z"
      },
      {
        "duration": 6,
        "start_time": "2024-02-02T07:27:19.423Z"
      },
      {
        "duration": 7,
        "start_time": "2024-02-02T07:27:20.760Z"
      },
      {
        "duration": 5,
        "start_time": "2024-02-02T07:27:21.784Z"
      },
      {
        "duration": 10,
        "start_time": "2024-02-02T07:27:24.760Z"
      },
      {
        "duration": 210,
        "start_time": "2024-02-02T07:27:26.760Z"
      },
      {
        "duration": 5,
        "start_time": "2024-02-02T07:27:28.361Z"
      },
      {
        "duration": 112,
        "start_time": "2024-02-02T07:27:30.464Z"
      },
      {
        "duration": 5,
        "start_time": "2024-02-02T07:27:33.224Z"
      },
      {
        "duration": 19,
        "start_time": "2024-02-02T07:27:33.947Z"
      },
      {
        "duration": 7,
        "start_time": "2024-02-02T07:27:36.466Z"
      },
      {
        "duration": 426,
        "start_time": "2024-02-02T07:27:37.273Z"
      },
      {
        "duration": 12,
        "start_time": "2024-02-02T07:27:40.490Z"
      },
      {
        "duration": 15,
        "start_time": "2024-02-02T07:27:41.153Z"
      },
      {
        "duration": 9,
        "start_time": "2024-02-02T07:27:43.280Z"
      },
      {
        "duration": 15,
        "start_time": "2024-02-02T07:27:43.984Z"
      },
      {
        "duration": 28,
        "start_time": "2024-02-02T07:27:46.443Z"
      },
      {
        "duration": 5,
        "start_time": "2024-02-02T07:27:49.504Z"
      },
      {
        "duration": 6,
        "start_time": "2024-02-02T07:27:50.393Z"
      },
      {
        "duration": 6,
        "start_time": "2024-02-02T07:27:51.329Z"
      },
      {
        "duration": 6,
        "start_time": "2024-02-02T07:27:53.263Z"
      },
      {
        "duration": 351,
        "start_time": "2024-02-02T07:27:54.216Z"
      },
      {
        "duration": 5,
        "start_time": "2024-02-02T07:27:56.731Z"
      },
      {
        "duration": 27,
        "start_time": "2024-02-02T07:27:57.672Z"
      },
      {
        "duration": 154,
        "start_time": "2024-02-02T07:28:14.840Z"
      },
      {
        "duration": 9,
        "start_time": "2024-02-02T07:28:17.175Z"
      },
      {
        "duration": 27,
        "start_time": "2024-02-02T07:28:20.311Z"
      },
      {
        "duration": 8,
        "start_time": "2024-02-02T07:28:28.343Z"
      },
      {
        "duration": 6,
        "start_time": "2024-02-02T07:28:43.800Z"
      },
      {
        "duration": 2,
        "start_time": "2024-02-02T07:28:45.859Z"
      },
      {
        "duration": 172,
        "start_time": "2024-02-02T07:28:59.521Z"
      },
      {
        "duration": 9,
        "start_time": "2024-02-02T07:29:03.800Z"
      },
      {
        "duration": 175,
        "start_time": "2024-02-02T07:29:14.807Z"
      },
      {
        "duration": 10,
        "start_time": "2024-02-02T07:29:19.640Z"
      },
      {
        "duration": 6,
        "start_time": "2024-02-02T07:29:34.871Z"
      },
      {
        "duration": 180,
        "start_time": "2024-02-02T07:31:06.736Z"
      },
      {
        "duration": 2,
        "start_time": "2024-02-02T07:31:10.344Z"
      },
      {
        "duration": 9,
        "start_time": "2024-02-02T07:31:11.415Z"
      },
      {
        "duration": 163,
        "start_time": "2024-02-02T07:31:27.831Z"
      },
      {
        "duration": 11,
        "start_time": "2024-02-02T07:31:34.815Z"
      },
      {
        "duration": 7,
        "start_time": "2024-02-02T07:31:36.311Z"
      },
      {
        "duration": 7,
        "start_time": "2024-02-02T07:31:55.336Z"
      },
      {
        "duration": 153,
        "start_time": "2024-02-02T07:31:57.895Z"
      },
      {
        "duration": 9,
        "start_time": "2024-02-02T07:32:04.744Z"
      },
      {
        "duration": 255,
        "start_time": "2024-02-02T07:32:13.295Z"
      },
      {
        "duration": 10,
        "start_time": "2024-02-02T07:32:22.591Z"
      },
      {
        "duration": 10,
        "start_time": "2024-02-02T07:33:39.256Z"
      },
      {
        "duration": 58,
        "start_time": "2024-02-02T07:33:40.573Z"
      },
      {
        "duration": 277,
        "start_time": "2024-02-02T07:33:58.718Z"
      },
      {
        "duration": 9,
        "start_time": "2024-02-02T07:34:43.535Z"
      },
      {
        "duration": 136,
        "start_time": "2024-02-02T07:34:52.870Z"
      },
      {
        "duration": 5,
        "start_time": "2024-02-02T07:34:57.671Z"
      },
      {
        "duration": 180,
        "start_time": "2024-02-02T07:38:00.903Z"
      },
      {
        "duration": 138,
        "start_time": "2024-02-02T07:38:16.412Z"
      },
      {
        "duration": 8,
        "start_time": "2024-02-02T07:38:50.718Z"
      },
      {
        "duration": 252,
        "start_time": "2024-02-02T07:40:46.469Z"
      },
      {
        "duration": 41,
        "start_time": "2024-02-02T07:41:01.084Z"
      },
      {
        "duration": 299,
        "start_time": "2024-02-02T07:41:03.541Z"
      },
      {
        "duration": 7,
        "start_time": "2024-02-02T07:41:23.543Z"
      },
      {
        "duration": 83,
        "start_time": "2024-02-02T07:42:53.573Z"
      },
      {
        "duration": 160,
        "start_time": "2024-02-02T07:43:00.455Z"
      },
      {
        "duration": 190,
        "start_time": "2024-02-02T07:43:54.631Z"
      },
      {
        "duration": 10,
        "start_time": "2024-02-02T07:44:35.478Z"
      },
      {
        "duration": 127,
        "start_time": "2024-02-02T07:44:53.812Z"
      },
      {
        "duration": 182,
        "start_time": "2024-02-02T07:45:47.111Z"
      },
      {
        "duration": 6,
        "start_time": "2024-02-02T07:45:55.069Z"
      },
      {
        "duration": 314,
        "start_time": "2024-02-02T07:51:06.261Z"
      },
      {
        "duration": 10,
        "start_time": "2024-02-02T07:51:40.828Z"
      },
      {
        "duration": 178,
        "start_time": "2024-02-02T07:52:18.260Z"
      },
      {
        "duration": 7,
        "start_time": "2024-02-02T07:56:58.643Z"
      },
      {
        "duration": 156,
        "start_time": "2024-02-02T07:57:52.180Z"
      },
      {
        "duration": 9,
        "start_time": "2024-02-02T07:58:22.140Z"
      },
      {
        "duration": 165,
        "start_time": "2024-02-02T07:58:28.356Z"
      },
      {
        "duration": 7,
        "start_time": "2024-02-02T07:58:54.258Z"
      },
      {
        "duration": 161,
        "start_time": "2024-02-02T08:00:35.491Z"
      },
      {
        "duration": 9,
        "start_time": "2024-02-02T08:00:53.339Z"
      },
      {
        "duration": 180,
        "start_time": "2024-02-02T09:38:51.615Z"
      },
      {
        "duration": 10,
        "start_time": "2024-02-02T09:39:00.058Z"
      },
      {
        "duration": 7,
        "start_time": "2024-02-02T09:39:34.004Z"
      },
      {
        "duration": 217,
        "start_time": "2024-02-02T09:40:17.697Z"
      },
      {
        "duration": 7,
        "start_time": "2024-02-02T09:40:20.604Z"
      },
      {
        "duration": 204,
        "start_time": "2024-02-02T09:40:56.332Z"
      },
      {
        "duration": 6,
        "start_time": "2024-02-02T09:40:59.876Z"
      },
      {
        "duration": 186,
        "start_time": "2024-02-02T09:41:23.228Z"
      },
      {
        "duration": 7,
        "start_time": "2024-02-02T09:41:26.365Z"
      },
      {
        "duration": 199,
        "start_time": "2024-02-02T09:41:41.132Z"
      },
      {
        "duration": 152,
        "start_time": "2024-02-02T09:41:58.901Z"
      },
      {
        "duration": 94,
        "start_time": "2024-02-02T09:42:04.796Z"
      },
      {
        "duration": 5,
        "start_time": "2024-02-02T09:42:21.424Z"
      },
      {
        "duration": 172,
        "start_time": "2024-02-02T09:42:34.035Z"
      },
      {
        "duration": 147,
        "start_time": "2024-02-02T09:42:42.860Z"
      },
      {
        "duration": 203,
        "start_time": "2024-02-02T09:42:57.627Z"
      },
      {
        "duration": 5,
        "start_time": "2024-02-02T09:43:00.892Z"
      },
      {
        "duration": 187,
        "start_time": "2024-02-02T09:43:06.531Z"
      },
      {
        "duration": 5,
        "start_time": "2024-02-02T09:43:08.796Z"
      },
      {
        "duration": 190,
        "start_time": "2024-02-02T09:43:14.851Z"
      },
      {
        "duration": 5,
        "start_time": "2024-02-02T09:43:17.859Z"
      },
      {
        "duration": 16,
        "start_time": "2024-02-02T09:44:12.650Z"
      },
      {
        "duration": 9,
        "start_time": "2024-02-02T09:45:58.403Z"
      },
      {
        "duration": 8,
        "start_time": "2024-02-02T09:46:08.729Z"
      },
      {
        "duration": 46,
        "start_time": "2024-02-02T10:14:09.408Z"
      },
      {
        "duration": 25,
        "start_time": "2024-02-02T10:29:06.789Z"
      },
      {
        "duration": 25,
        "start_time": "2024-02-02T10:29:14.132Z"
      },
      {
        "duration": 24,
        "start_time": "2024-02-02T10:29:52.430Z"
      },
      {
        "duration": 21,
        "start_time": "2024-02-02T10:31:50.933Z"
      },
      {
        "duration": 27,
        "start_time": "2024-02-02T10:32:03.964Z"
      },
      {
        "duration": 23,
        "start_time": "2024-02-02T10:32:46.093Z"
      },
      {
        "duration": 5,
        "start_time": "2024-02-02T10:34:20.100Z"
      },
      {
        "duration": 4,
        "start_time": "2024-02-02T10:34:32.988Z"
      },
      {
        "duration": 25,
        "start_time": "2024-02-02T10:36:03.850Z"
      },
      {
        "duration": 24,
        "start_time": "2024-02-02T10:36:11.612Z"
      },
      {
        "duration": 83,
        "start_time": "2024-02-02T11:13:09.177Z"
      },
      {
        "duration": 119,
        "start_time": "2024-02-02T11:13:14.261Z"
      },
      {
        "duration": 1521,
        "start_time": "2024-02-02T11:13:40.572Z"
      },
      {
        "duration": 180,
        "start_time": "2024-02-02T11:15:05.192Z"
      },
      {
        "duration": 5,
        "start_time": "2024-02-02T11:38:01.914Z"
      },
      {
        "duration": 5,
        "start_time": "2024-02-02T11:38:12.476Z"
      },
      {
        "duration": 32,
        "start_time": "2024-02-02T11:47:07.776Z"
      },
      {
        "duration": 23,
        "start_time": "2024-02-02T11:56:41.151Z"
      },
      {
        "duration": 5,
        "start_time": "2024-02-02T11:57:50.650Z"
      },
      {
        "duration": 10,
        "start_time": "2024-02-02T12:01:58.092Z"
      },
      {
        "duration": 7,
        "start_time": "2024-02-02T12:02:48.009Z"
      },
      {
        "duration": 16,
        "start_time": "2024-02-02T12:02:48.768Z"
      },
      {
        "duration": 6,
        "start_time": "2024-02-02T12:10:53.440Z"
      },
      {
        "duration": 174,
        "start_time": "2024-02-02T12:11:13.260Z"
      },
      {
        "duration": 51,
        "start_time": "2024-02-02T15:29:15.703Z"
      },
      {
        "duration": 657,
        "start_time": "2024-02-02T15:52:19.966Z"
      },
      {
        "duration": 18,
        "start_time": "2024-02-02T15:52:21.482Z"
      },
      {
        "duration": 3211,
        "start_time": "2024-02-02T15:52:23.649Z"
      },
      {
        "duration": 30,
        "start_time": "2024-02-02T15:52:38.964Z"
      },
      {
        "duration": 9,
        "start_time": "2024-02-02T15:53:12.833Z"
      },
      {
        "duration": 11,
        "start_time": "2024-02-02T15:53:18.732Z"
      },
      {
        "duration": 13,
        "start_time": "2024-02-02T15:53:38.279Z"
      },
      {
        "duration": 6,
        "start_time": "2024-02-02T15:53:40.160Z"
      },
      {
        "duration": 15,
        "start_time": "2024-02-02T15:53:54.547Z"
      },
      {
        "duration": 6,
        "start_time": "2024-02-02T15:54:50.062Z"
      },
      {
        "duration": 9,
        "start_time": "2024-02-02T15:54:51.088Z"
      },
      {
        "duration": 10,
        "start_time": "2024-02-02T15:54:54.049Z"
      },
      {
        "duration": 6,
        "start_time": "2024-02-02T15:54:55.103Z"
      },
      {
        "duration": 16,
        "start_time": "2024-02-02T15:54:58.396Z"
      },
      {
        "duration": 7,
        "start_time": "2024-02-02T15:56:23.467Z"
      },
      {
        "duration": 8,
        "start_time": "2024-02-02T15:57:36.125Z"
      },
      {
        "duration": 17,
        "start_time": "2024-02-02T15:57:40.783Z"
      },
      {
        "duration": 24,
        "start_time": "2024-02-02T15:57:52.692Z"
      },
      {
        "duration": 17,
        "start_time": "2024-02-02T15:58:07.506Z"
      },
      {
        "duration": 15,
        "start_time": "2024-02-02T15:58:15.827Z"
      },
      {
        "duration": 7,
        "start_time": "2024-02-02T15:58:26.923Z"
      },
      {
        "duration": 480,
        "start_time": "2024-02-02T15:58:31.031Z"
      },
      {
        "duration": 4,
        "start_time": "2024-02-02T15:58:41.379Z"
      },
      {
        "duration": 6,
        "start_time": "2024-02-02T15:58:44.435Z"
      },
      {
        "duration": 7,
        "start_time": "2024-02-02T15:58:45.408Z"
      },
      {
        "duration": 6,
        "start_time": "2024-02-02T15:58:46.973Z"
      },
      {
        "duration": 446,
        "start_time": "2024-02-02T15:58:47.951Z"
      },
      {
        "duration": 5,
        "start_time": "2024-02-02T15:58:49.693Z"
      },
      {
        "duration": 26,
        "start_time": "2024-02-02T15:58:52.811Z"
      },
      {
        "duration": 9,
        "start_time": "2024-02-02T15:59:44.233Z"
      },
      {
        "duration": 29,
        "start_time": "2024-02-02T15:59:50.059Z"
      },
      {
        "duration": 6,
        "start_time": "2024-02-02T16:00:16.632Z"
      },
      {
        "duration": 6,
        "start_time": "2024-02-02T16:00:33.469Z"
      },
      {
        "duration": 174,
        "start_time": "2024-02-02T16:00:34.102Z"
      },
      {
        "duration": 10,
        "start_time": "2024-02-02T16:01:54.742Z"
      },
      {
        "duration": 44,
        "start_time": "2024-02-02T16:02:04.899Z"
      },
      {
        "duration": 8,
        "start_time": "2024-02-02T16:02:11.531Z"
      },
      {
        "duration": 7,
        "start_time": "2024-02-02T16:02:43.165Z"
      },
      {
        "duration": 175,
        "start_time": "2024-02-02T16:03:01.027Z"
      },
      {
        "duration": 9,
        "start_time": "2024-02-02T16:04:15.271Z"
      },
      {
        "duration": 7,
        "start_time": "2024-02-02T16:04:46.464Z"
      },
      {
        "duration": 9,
        "start_time": "2024-02-02T16:04:58.618Z"
      },
      {
        "duration": 9,
        "start_time": "2024-02-02T16:05:12.610Z"
      },
      {
        "duration": 153,
        "start_time": "2024-02-02T16:05:33.503Z"
      },
      {
        "duration": 9,
        "start_time": "2024-02-02T16:06:36.488Z"
      },
      {
        "duration": 6,
        "start_time": "2024-02-02T16:07:05.183Z"
      },
      {
        "duration": 8,
        "start_time": "2024-02-02T16:07:18.290Z"
      },
      {
        "duration": 9,
        "start_time": "2024-02-02T16:07:27.512Z"
      },
      {
        "duration": 10,
        "start_time": "2024-02-02T16:07:36.544Z"
      },
      {
        "duration": 217,
        "start_time": "2024-02-02T16:07:49.992Z"
      },
      {
        "duration": 10,
        "start_time": "2024-02-02T16:09:25.032Z"
      },
      {
        "duration": 6,
        "start_time": "2024-02-02T16:10:06.094Z"
      },
      {
        "duration": 9,
        "start_time": "2024-02-02T16:10:17.189Z"
      },
      {
        "duration": 134,
        "start_time": "2024-02-02T16:10:37.207Z"
      },
      {
        "duration": 11,
        "start_time": "2024-02-02T16:12:07.981Z"
      },
      {
        "duration": 301,
        "start_time": "2024-02-02T16:12:36.958Z"
      },
      {
        "duration": 7,
        "start_time": "2024-02-02T16:12:54.599Z"
      },
      {
        "duration": 7,
        "start_time": "2024-02-02T16:13:10.660Z"
      },
      {
        "duration": 9,
        "start_time": "2024-02-02T16:13:15.646Z"
      },
      {
        "duration": 197,
        "start_time": "2024-02-02T16:13:30.979Z"
      },
      {
        "duration": 132,
        "start_time": "2024-02-02T16:14:27.371Z"
      },
      {
        "duration": 9,
        "start_time": "2024-02-02T16:15:27.116Z"
      },
      {
        "duration": 6,
        "start_time": "2024-02-02T16:15:40.544Z"
      },
      {
        "duration": 7,
        "start_time": "2024-02-02T16:15:53.450Z"
      },
      {
        "duration": 10,
        "start_time": "2024-02-02T16:15:58.276Z"
      },
      {
        "duration": 164,
        "start_time": "2024-02-02T16:16:44.884Z"
      },
      {
        "duration": 11,
        "start_time": "2024-02-02T16:17:42.922Z"
      },
      {
        "duration": 6,
        "start_time": "2024-02-02T16:17:58.573Z"
      },
      {
        "duration": 7,
        "start_time": "2024-02-02T16:18:15.047Z"
      },
      {
        "duration": 10,
        "start_time": "2024-02-02T16:18:21.181Z"
      },
      {
        "duration": 253,
        "start_time": "2024-02-02T16:18:40.430Z"
      },
      {
        "duration": 9,
        "start_time": "2024-02-02T16:19:55.144Z"
      },
      {
        "duration": 5,
        "start_time": "2024-02-02T16:20:06.922Z"
      },
      {
        "duration": 6,
        "start_time": "2024-02-02T16:20:20.411Z"
      },
      {
        "duration": 9,
        "start_time": "2024-02-02T16:20:24.737Z"
      },
      {
        "duration": 153,
        "start_time": "2024-02-02T16:20:46.212Z"
      },
      {
        "duration": 176,
        "start_time": "2024-02-02T16:21:27.932Z"
      },
      {
        "duration": 10,
        "start_time": "2024-02-02T16:21:35.357Z"
      },
      {
        "duration": 196,
        "start_time": "2024-02-02T16:22:06.239Z"
      },
      {
        "duration": 5,
        "start_time": "2024-02-02T16:22:23.277Z"
      },
      {
        "duration": 205,
        "start_time": "2024-02-02T16:22:30.239Z"
      },
      {
        "duration": 5,
        "start_time": "2024-02-02T16:22:36.571Z"
      },
      {
        "duration": 210,
        "start_time": "2024-02-02T16:22:43.302Z"
      },
      {
        "duration": 7,
        "start_time": "2024-02-02T16:22:49.939Z"
      },
      {
        "duration": 180,
        "start_time": "2024-02-02T16:22:54.785Z"
      },
      {
        "duration": 6,
        "start_time": "2024-02-02T16:23:02.289Z"
      },
      {
        "duration": 190,
        "start_time": "2024-02-02T16:23:07.976Z"
      },
      {
        "duration": 141,
        "start_time": "2024-02-02T16:23:27.648Z"
      },
      {
        "duration": 195,
        "start_time": "2024-02-02T16:23:35.625Z"
      },
      {
        "duration": 7,
        "start_time": "2024-02-02T16:23:40.890Z"
      },
      {
        "duration": 187,
        "start_time": "2024-02-02T16:23:45.405Z"
      },
      {
        "duration": 188,
        "start_time": "2024-02-02T16:23:53.459Z"
      },
      {
        "duration": 197,
        "start_time": "2024-02-02T16:23:56.390Z"
      },
      {
        "duration": 5,
        "start_time": "2024-02-02T16:23:57.272Z"
      },
      {
        "duration": 206,
        "start_time": "2024-02-02T16:23:58.024Z"
      },
      {
        "duration": 6,
        "start_time": "2024-02-02T16:24:06.456Z"
      },
      {
        "duration": 8,
        "start_time": "2024-02-02T16:24:13.899Z"
      },
      {
        "duration": 30,
        "start_time": "2024-02-02T16:24:21.969Z"
      },
      {
        "duration": 178,
        "start_time": "2024-02-02T16:24:31.587Z"
      },
      {
        "duration": 18,
        "start_time": "2024-02-02T16:27:23.428Z"
      },
      {
        "duration": 142,
        "start_time": "2024-02-02T16:27:42.829Z"
      },
      {
        "duration": 19,
        "start_time": "2024-02-02T16:27:43.077Z"
      },
      {
        "duration": 2826,
        "start_time": "2024-02-02T16:27:43.363Z"
      },
      {
        "duration": 29,
        "start_time": "2024-02-02T16:27:46.192Z"
      },
      {
        "duration": 10,
        "start_time": "2024-02-02T16:27:46.222Z"
      },
      {
        "duration": 21,
        "start_time": "2024-02-02T16:27:46.235Z"
      },
      {
        "duration": 25,
        "start_time": "2024-02-02T16:27:46.891Z"
      },
      {
        "duration": 16,
        "start_time": "2024-02-02T16:27:48.196Z"
      },
      {
        "duration": 15,
        "start_time": "2024-02-02T16:27:48.573Z"
      },
      {
        "duration": 8,
        "start_time": "2024-02-02T16:27:50.044Z"
      },
      {
        "duration": 441,
        "start_time": "2024-02-02T16:27:50.428Z"
      },
      {
        "duration": 5,
        "start_time": "2024-02-02T16:27:52.537Z"
      },
      {
        "duration": 6,
        "start_time": "2024-02-02T16:27:53.328Z"
      },
      {
        "duration": 5,
        "start_time": "2024-02-02T16:27:54.049Z"
      },
      {
        "duration": 6,
        "start_time": "2024-02-02T16:27:54.681Z"
      },
      {
        "duration": 355,
        "start_time": "2024-02-02T16:27:55.405Z"
      },
      {
        "duration": 5,
        "start_time": "2024-02-02T16:27:56.233Z"
      },
      {
        "duration": 29,
        "start_time": "2024-02-02T16:27:56.931Z"
      },
      {
        "duration": 10,
        "start_time": "2024-02-02T16:27:58.322Z"
      },
      {
        "duration": 29,
        "start_time": "2024-02-02T16:28:02.218Z"
      },
      {
        "duration": 6,
        "start_time": "2024-02-02T16:28:03.063Z"
      },
      {
        "duration": 7,
        "start_time": "2024-02-02T16:28:03.825Z"
      },
      {
        "duration": 179,
        "start_time": "2024-02-02T16:28:04.226Z"
      },
      {
        "duration": 14,
        "start_time": "2024-02-02T16:28:06.100Z"
      },
      {
        "duration": 6,
        "start_time": "2024-02-02T16:28:06.777Z"
      },
      {
        "duration": 8,
        "start_time": "2024-02-02T16:28:07.423Z"
      },
      {
        "duration": 173,
        "start_time": "2024-02-02T16:28:07.741Z"
      },
      {
        "duration": 10,
        "start_time": "2024-02-02T16:28:08.753Z"
      },
      {
        "duration": 6,
        "start_time": "2024-02-02T16:28:09.417Z"
      },
      {
        "duration": 11,
        "start_time": "2024-02-02T16:28:10.085Z"
      },
      {
        "duration": 159,
        "start_time": "2024-02-02T16:28:10.410Z"
      },
      {
        "duration": 10,
        "start_time": "2024-02-02T16:28:11.391Z"
      },
      {
        "duration": 6,
        "start_time": "2024-02-02T16:28:12.075Z"
      },
      {
        "duration": 9,
        "start_time": "2024-02-02T16:28:12.823Z"
      },
      {
        "duration": 193,
        "start_time": "2024-02-02T16:28:13.149Z"
      },
      {
        "duration": 12,
        "start_time": "2024-02-02T16:28:14.209Z"
      },
      {
        "duration": 7,
        "start_time": "2024-02-02T16:28:14.867Z"
      },
      {
        "duration": 143,
        "start_time": "2024-02-02T16:28:15.168Z"
      },
      {
        "duration": 12,
        "start_time": "2024-02-02T16:28:16.159Z"
      },
      {
        "duration": 311,
        "start_time": "2024-02-02T16:28:16.836Z"
      },
      {
        "duration": 9,
        "start_time": "2024-02-02T16:28:17.538Z"
      },
      {
        "duration": 7,
        "start_time": "2024-02-02T16:28:18.276Z"
      },
      {
        "duration": 177,
        "start_time": "2024-02-02T16:28:18.614Z"
      },
      {
        "duration": 144,
        "start_time": "2024-02-02T16:28:19.740Z"
      },
      {
        "duration": 9,
        "start_time": "2024-02-02T16:28:20.797Z"
      },
      {
        "duration": 7,
        "start_time": "2024-02-02T16:28:21.563Z"
      },
      {
        "duration": 7,
        "start_time": "2024-02-02T16:28:22.218Z"
      },
      {
        "duration": 159,
        "start_time": "2024-02-02T16:28:22.527Z"
      },
      {
        "duration": 10,
        "start_time": "2024-02-02T16:28:23.547Z"
      },
      {
        "duration": 6,
        "start_time": "2024-02-02T16:28:24.227Z"
      },
      {
        "duration": 7,
        "start_time": "2024-02-02T16:28:24.911Z"
      },
      {
        "duration": 163,
        "start_time": "2024-02-02T16:28:25.272Z"
      },
      {
        "duration": 10,
        "start_time": "2024-02-02T16:28:26.205Z"
      },
      {
        "duration": 6,
        "start_time": "2024-02-02T16:28:26.893Z"
      },
      {
        "duration": 8,
        "start_time": "2024-02-02T16:28:27.609Z"
      },
      {
        "duration": 320,
        "start_time": "2024-02-02T16:28:27.907Z"
      },
      {
        "duration": 180,
        "start_time": "2024-02-02T16:28:29.236Z"
      },
      {
        "duration": 9,
        "start_time": "2024-02-02T16:28:29.553Z"
      },
      {
        "duration": 199,
        "start_time": "2024-02-02T16:28:30.823Z"
      },
      {
        "duration": 7,
        "start_time": "2024-02-02T16:28:31.162Z"
      },
      {
        "duration": 197,
        "start_time": "2024-02-02T16:28:32.119Z"
      },
      {
        "duration": 6,
        "start_time": "2024-02-02T16:28:32.451Z"
      },
      {
        "duration": 183,
        "start_time": "2024-02-02T16:28:33.433Z"
      },
      {
        "duration": 6,
        "start_time": "2024-02-02T16:28:33.781Z"
      },
      {
        "duration": 187,
        "start_time": "2024-02-02T16:28:34.719Z"
      },
      {
        "duration": 6,
        "start_time": "2024-02-02T16:28:35.022Z"
      },
      {
        "duration": 191,
        "start_time": "2024-02-02T16:28:35.962Z"
      },
      {
        "duration": 135,
        "start_time": "2024-02-02T16:28:36.284Z"
      },
      {
        "duration": 207,
        "start_time": "2024-02-02T16:28:37.294Z"
      },
      {
        "duration": 6,
        "start_time": "2024-02-02T16:28:37.590Z"
      },
      {
        "duration": 213,
        "start_time": "2024-02-02T16:28:37.913Z"
      },
      {
        "duration": 7,
        "start_time": "2024-02-02T16:28:38.225Z"
      },
      {
        "duration": 228,
        "start_time": "2024-02-02T16:28:38.522Z"
      },
      {
        "duration": 6,
        "start_time": "2024-02-02T16:28:38.841Z"
      },
      {
        "duration": 9,
        "start_time": "2024-02-02T16:28:40.075Z"
      },
      {
        "duration": 27,
        "start_time": "2024-02-02T16:28:40.524Z"
      },
      {
        "duration": 171,
        "start_time": "2024-02-02T16:28:41.562Z"
      },
      {
        "duration": 772,
        "start_time": "2024-02-03T05:57:19.804Z"
      },
      {
        "duration": 20,
        "start_time": "2024-02-03T05:57:21.408Z"
      },
      {
        "duration": 2704,
        "start_time": "2024-02-03T05:57:23.190Z"
      },
      {
        "duration": 35,
        "start_time": "2024-02-03T06:03:42.954Z"
      },
      {
        "duration": 5,
        "start_time": "2024-02-03T06:08:58.440Z"
      },
      {
        "duration": 6,
        "start_time": "2024-02-03T06:12:57.607Z"
      },
      {
        "duration": 6,
        "start_time": "2024-02-03T06:13:16.427Z"
      },
      {
        "duration": 165,
        "start_time": "2024-02-03T06:13:45.040Z"
      },
      {
        "duration": 6,
        "start_time": "2024-02-03T06:14:00.334Z"
      },
      {
        "duration": 6,
        "start_time": "2024-02-03T06:14:11.071Z"
      },
      {
        "duration": 8,
        "start_time": "2024-02-03T06:14:21.462Z"
      },
      {
        "duration": 25,
        "start_time": "2024-02-03T06:18:18.451Z"
      },
      {
        "duration": 107,
        "start_time": "2024-02-03T06:21:15.651Z"
      },
      {
        "duration": 6,
        "start_time": "2024-02-03T06:23:21.798Z"
      },
      {
        "duration": 9,
        "start_time": "2024-02-03T06:25:35.345Z"
      },
      {
        "duration": 9,
        "start_time": "2024-02-03T06:27:01.338Z"
      },
      {
        "duration": 9,
        "start_time": "2024-02-03T06:27:51.847Z"
      },
      {
        "duration": 67,
        "start_time": "2024-02-03T06:32:05.554Z"
      },
      {
        "duration": 68,
        "start_time": "2024-02-03T06:39:21.023Z"
      },
      {
        "duration": 10,
        "start_time": "2024-02-03T06:41:31.709Z"
      },
      {
        "duration": 5,
        "start_time": "2024-02-03T06:41:57.625Z"
      },
      {
        "duration": 4,
        "start_time": "2024-02-03T06:42:06.739Z"
      },
      {
        "duration": 84,
        "start_time": "2024-02-03T06:43:30.553Z"
      },
      {
        "duration": 5,
        "start_time": "2024-02-03T06:43:44.438Z"
      },
      {
        "duration": 4,
        "start_time": "2024-02-03T06:44:06.732Z"
      },
      {
        "duration": 5,
        "start_time": "2024-02-03T06:44:55.256Z"
      },
      {
        "duration": 359,
        "start_time": "2024-02-03T06:44:56.944Z"
      },
      {
        "duration": 5,
        "start_time": "2024-02-03T06:44:59.661Z"
      },
      {
        "duration": 1210,
        "start_time": "2024-02-03T06:54:39.057Z"
      },
      {
        "duration": 5,
        "start_time": "2024-02-03T06:55:08.762Z"
      },
      {
        "duration": 4,
        "start_time": "2024-02-03T06:58:30.038Z"
      },
      {
        "duration": 7,
        "start_time": "2024-02-03T06:58:38.143Z"
      },
      {
        "duration": 7,
        "start_time": "2024-02-03T06:59:41.057Z"
      },
      {
        "duration": 9,
        "start_time": "2024-02-03T06:59:42.857Z"
      },
      {
        "duration": 16,
        "start_time": "2024-02-03T06:59:43.390Z"
      },
      {
        "duration": 14,
        "start_time": "2024-02-03T06:59:46.447Z"
      },
      {
        "duration": 12,
        "start_time": "2024-02-03T06:59:46.888Z"
      },
      {
        "duration": 7,
        "start_time": "2024-02-03T06:59:48.747Z"
      },
      {
        "duration": 5,
        "start_time": "2024-02-03T06:59:49.238Z"
      },
      {
        "duration": 343,
        "start_time": "2024-02-03T06:59:50.933Z"
      },
      {
        "duration": 4,
        "start_time": "2024-02-03T06:59:51.432Z"
      },
      {
        "duration": 6,
        "start_time": "2024-02-03T06:59:57.033Z"
      },
      {
        "duration": 6,
        "start_time": "2024-02-03T06:59:57.738Z"
      },
      {
        "duration": 6,
        "start_time": "2024-02-03T06:59:58.418Z"
      },
      {
        "duration": 5,
        "start_time": "2024-02-03T06:59:59.076Z"
      },
      {
        "duration": 371,
        "start_time": "2024-02-03T06:59:59.808Z"
      },
      {
        "duration": 4,
        "start_time": "2024-02-03T07:00:00.536Z"
      },
      {
        "duration": 26,
        "start_time": "2024-02-03T07:00:01.175Z"
      },
      {
        "duration": 7,
        "start_time": "2024-02-03T07:00:02.894Z"
      },
      {
        "duration": 23,
        "start_time": "2024-02-03T07:00:03.618Z"
      },
      {
        "duration": 5,
        "start_time": "2024-02-03T07:00:04.268Z"
      },
      {
        "duration": 6,
        "start_time": "2024-02-03T07:00:04.907Z"
      },
      {
        "duration": 159,
        "start_time": "2024-02-03T07:00:05.207Z"
      },
      {
        "duration": 9,
        "start_time": "2024-02-03T07:00:06.484Z"
      },
      {
        "duration": 5,
        "start_time": "2024-02-03T07:00:07.217Z"
      },
      {
        "duration": 7,
        "start_time": "2024-02-03T07:00:08.025Z"
      },
      {
        "duration": 138,
        "start_time": "2024-02-03T07:00:08.392Z"
      },
      {
        "duration": 8,
        "start_time": "2024-02-03T07:00:09.484Z"
      },
      {
        "duration": 5,
        "start_time": "2024-02-03T07:00:10.227Z"
      },
      {
        "duration": 7,
        "start_time": "2024-02-03T07:00:11.381Z"
      },
      {
        "duration": 122,
        "start_time": "2024-02-03T07:00:11.690Z"
      },
      {
        "duration": 8,
        "start_time": "2024-02-03T07:00:14.277Z"
      },
      {
        "duration": 6,
        "start_time": "2024-02-03T07:00:15.028Z"
      },
      {
        "duration": 6,
        "start_time": "2024-02-03T07:00:15.672Z"
      },
      {
        "duration": 136,
        "start_time": "2024-02-03T07:00:15.984Z"
      },
      {
        "duration": 7,
        "start_time": "2024-02-03T07:00:17.052Z"
      },
      {
        "duration": 7,
        "start_time": "2024-02-03T07:00:17.772Z"
      },
      {
        "duration": 110,
        "start_time": "2024-02-03T07:00:18.111Z"
      },
      {
        "duration": 9,
        "start_time": "2024-02-03T07:00:19.295Z"
      },
      {
        "duration": 259,
        "start_time": "2024-02-03T07:00:20.031Z"
      },
      {
        "duration": 7,
        "start_time": "2024-02-03T07:00:20.844Z"
      },
      {
        "duration": 7,
        "start_time": "2024-02-03T07:00:21.497Z"
      },
      {
        "duration": 156,
        "start_time": "2024-02-03T07:00:21.846Z"
      },
      {
        "duration": 108,
        "start_time": "2024-02-03T07:00:22.947Z"
      },
      {
        "duration": 9,
        "start_time": "2024-02-03T07:00:23.937Z"
      },
      {
        "duration": 5,
        "start_time": "2024-02-03T07:00:24.623Z"
      },
      {
        "duration": 6,
        "start_time": "2024-02-03T07:00:25.414Z"
      },
      {
        "duration": 159,
        "start_time": "2024-02-03T07:00:25.742Z"
      },
      {
        "duration": 9,
        "start_time": "2024-02-03T07:00:26.840Z"
      },
      {
        "duration": 6,
        "start_time": "2024-02-03T07:00:27.535Z"
      },
      {
        "duration": 6,
        "start_time": "2024-02-03T07:00:28.433Z"
      },
      {
        "duration": 193,
        "start_time": "2024-02-03T07:00:28.802Z"
      },
      {
        "duration": 10,
        "start_time": "2024-02-03T07:00:29.868Z"
      },
      {
        "duration": 7,
        "start_time": "2024-02-03T07:00:30.580Z"
      },
      {
        "duration": 7,
        "start_time": "2024-02-03T07:00:31.455Z"
      },
      {
        "duration": 137,
        "start_time": "2024-02-03T07:00:31.761Z"
      },
      {
        "duration": 4,
        "start_time": "2024-02-03T07:00:34.088Z"
      },
      {
        "duration": 5,
        "start_time": "2024-02-03T07:00:34.800Z"
      },
      {
        "duration": 4,
        "start_time": "2024-02-03T07:00:43.050Z"
      },
      {
        "duration": 4,
        "start_time": "2024-02-03T07:01:59.897Z"
      },
      {
        "duration": 4,
        "start_time": "2024-02-03T07:04:10.984Z"
      },
      {
        "duration": 179,
        "start_time": "2024-02-03T07:04:14.951Z"
      },
      {
        "duration": 8,
        "start_time": "2024-02-03T07:04:15.723Z"
      },
      {
        "duration": 15,
        "start_time": "2024-02-03T07:09:40.637Z"
      },
      {
        "duration": 199,
        "start_time": "2024-02-03T07:10:41.742Z"
      },
      {
        "duration": 129,
        "start_time": "2024-02-03T07:13:32.241Z"
      },
      {
        "duration": 165,
        "start_time": "2024-02-03T07:13:53.254Z"
      },
      {
        "duration": 118,
        "start_time": "2024-02-03T07:13:58.827Z"
      },
      {
        "duration": 154,
        "start_time": "2024-02-03T07:14:04.962Z"
      },
      {
        "duration": 133,
        "start_time": "2024-02-03T07:16:53.163Z"
      },
      {
        "duration": 145,
        "start_time": "2024-02-03T07:17:33.147Z"
      },
      {
        "duration": 110,
        "start_time": "2024-02-03T07:22:51.823Z"
      },
      {
        "duration": 13,
        "start_time": "2024-02-03T07:22:52.199Z"
      },
      {
        "duration": 2147,
        "start_time": "2024-02-03T07:22:52.637Z"
      },
      {
        "duration": 28,
        "start_time": "2024-02-03T07:22:55.079Z"
      },
      {
        "duration": 9,
        "start_time": "2024-02-03T07:22:56.179Z"
      },
      {
        "duration": 8,
        "start_time": "2024-02-03T07:22:58.309Z"
      },
      {
        "duration": 9,
        "start_time": "2024-02-03T07:22:59.580Z"
      },
      {
        "duration": 14,
        "start_time": "2024-02-03T07:23:00.249Z"
      },
      {
        "duration": 12,
        "start_time": "2024-02-03T07:23:02.043Z"
      },
      {
        "duration": 12,
        "start_time": "2024-02-03T07:23:02.396Z"
      },
      {
        "duration": 6,
        "start_time": "2024-02-03T07:23:04.201Z"
      },
      {
        "duration": 4,
        "start_time": "2024-02-03T07:23:04.593Z"
      },
      {
        "duration": 372,
        "start_time": "2024-02-03T07:23:05.273Z"
      },
      {
        "duration": 7,
        "start_time": "2024-02-03T07:23:05.647Z"
      },
      {
        "duration": 5,
        "start_time": "2024-02-03T07:23:08.635Z"
      },
      {
        "duration": 5,
        "start_time": "2024-02-03T07:23:09.277Z"
      },
      {
        "duration": 5,
        "start_time": "2024-02-03T07:23:09.865Z"
      },
      {
        "duration": 5,
        "start_time": "2024-02-03T07:23:10.553Z"
      },
      {
        "duration": 413,
        "start_time": "2024-02-03T07:23:11.273Z"
      },
      {
        "duration": 5,
        "start_time": "2024-02-03T07:23:11.961Z"
      },
      {
        "duration": 23,
        "start_time": "2024-02-03T07:23:12.578Z"
      },
      {
        "duration": 8,
        "start_time": "2024-02-03T07:23:14.181Z"
      },
      {
        "duration": 23,
        "start_time": "2024-02-03T07:23:14.887Z"
      },
      {
        "duration": 5,
        "start_time": "2024-02-03T07:23:15.430Z"
      },
      {
        "duration": 5,
        "start_time": "2024-02-03T07:23:15.987Z"
      },
      {
        "duration": 150,
        "start_time": "2024-02-03T07:23:16.320Z"
      },
      {
        "duration": 9,
        "start_time": "2024-02-03T07:23:17.249Z"
      },
      {
        "duration": 5,
        "start_time": "2024-02-03T07:23:17.950Z"
      },
      {
        "duration": 8,
        "start_time": "2024-02-03T07:23:18.675Z"
      },
      {
        "duration": 141,
        "start_time": "2024-02-03T07:23:19.003Z"
      },
      {
        "duration": 9,
        "start_time": "2024-02-03T07:23:20.021Z"
      },
      {
        "duration": 5,
        "start_time": "2024-02-03T07:23:20.712Z"
      },
      {
        "duration": 7,
        "start_time": "2024-02-03T07:23:21.438Z"
      },
      {
        "duration": 131,
        "start_time": "2024-02-03T07:23:21.755Z"
      },
      {
        "duration": 7,
        "start_time": "2024-02-03T07:23:22.752Z"
      },
      {
        "duration": 5,
        "start_time": "2024-02-03T07:23:23.379Z"
      },
      {
        "duration": 5,
        "start_time": "2024-02-03T07:23:24.086Z"
      },
      {
        "duration": 140,
        "start_time": "2024-02-03T07:23:24.455Z"
      },
      {
        "duration": 7,
        "start_time": "2024-02-03T07:23:25.365Z"
      },
      {
        "duration": 7,
        "start_time": "2024-02-03T07:23:25.937Z"
      },
      {
        "duration": 113,
        "start_time": "2024-02-03T07:23:26.251Z"
      },
      {
        "duration": 10,
        "start_time": "2024-02-03T07:23:27.199Z"
      },
      {
        "duration": 259,
        "start_time": "2024-02-03T07:23:27.825Z"
      },
      {
        "duration": 6,
        "start_time": "2024-02-03T07:23:28.474Z"
      },
      {
        "duration": 7,
        "start_time": "2024-02-03T07:23:29.100Z"
      },
      {
        "duration": 152,
        "start_time": "2024-02-03T07:23:29.426Z"
      },
      {
        "duration": 106,
        "start_time": "2024-02-03T07:23:30.522Z"
      },
      {
        "duration": 8,
        "start_time": "2024-02-03T07:23:31.521Z"
      },
      {
        "duration": 5,
        "start_time": "2024-02-03T07:23:32.201Z"
      },
      {
        "duration": 6,
        "start_time": "2024-02-03T07:23:32.929Z"
      },
      {
        "duration": 132,
        "start_time": "2024-02-03T07:23:33.242Z"
      },
      {
        "duration": 9,
        "start_time": "2024-02-03T07:23:34.197Z"
      },
      {
        "duration": 6,
        "start_time": "2024-02-03T07:23:34.852Z"
      },
      {
        "duration": 6,
        "start_time": "2024-02-03T07:23:35.507Z"
      },
      {
        "duration": 130,
        "start_time": "2024-02-03T07:23:35.793Z"
      },
      {
        "duration": 10,
        "start_time": "2024-02-03T07:23:36.771Z"
      },
      {
        "duration": 5,
        "start_time": "2024-02-03T07:23:37.373Z"
      },
      {
        "duration": 7,
        "start_time": "2024-02-03T07:23:38.061Z"
      },
      {
        "duration": 127,
        "start_time": "2024-02-03T07:23:38.609Z"
      },
      {
        "duration": 5,
        "start_time": "2024-02-03T07:23:40.041Z"
      },
      {
        "duration": 152,
        "start_time": "2024-02-03T07:23:42.560Z"
      },
      {
        "duration": 8,
        "start_time": "2024-02-03T07:23:42.908Z"
      },
      {
        "duration": 163,
        "start_time": "2024-02-03T07:23:45.185Z"
      },
      {
        "duration": 5,
        "start_time": "2024-02-03T07:23:45.565Z"
      },
      {
        "duration": 311,
        "start_time": "2024-02-03T07:23:46.565Z"
      },
      {
        "duration": 5,
        "start_time": "2024-02-03T07:23:46.949Z"
      },
      {
        "duration": 155,
        "start_time": "2024-02-03T07:23:48.083Z"
      },
      {
        "duration": 5,
        "start_time": "2024-02-03T07:23:48.465Z"
      },
      {
        "duration": 164,
        "start_time": "2024-02-03T07:23:49.488Z"
      },
      {
        "duration": 5,
        "start_time": "2024-02-03T07:23:49.840Z"
      },
      {
        "duration": 143,
        "start_time": "2024-02-03T07:23:51.775Z"
      },
      {
        "duration": 141,
        "start_time": "2024-02-03T07:23:52.099Z"
      },
      {
        "duration": 167,
        "start_time": "2024-02-03T07:23:55.604Z"
      },
      {
        "duration": 150,
        "start_time": "2024-02-03T07:23:55.983Z"
      },
      {
        "duration": 170,
        "start_time": "2024-02-03T07:23:56.603Z"
      },
      {
        "duration": 153,
        "start_time": "2024-02-03T07:23:57.129Z"
      },
      {
        "duration": 159,
        "start_time": "2024-02-03T07:23:57.766Z"
      },
      {
        "duration": 129,
        "start_time": "2024-02-03T07:23:58.396Z"
      },
      {
        "duration": 8,
        "start_time": "2024-02-03T07:24:01.048Z"
      },
      {
        "duration": 22,
        "start_time": "2024-02-03T07:24:01.580Z"
      },
      {
        "duration": 152,
        "start_time": "2024-02-03T07:24:03.528Z"
      },
      {
        "duration": 45,
        "start_time": "2024-02-03T15:07:47.305Z"
      },
      {
        "duration": 730,
        "start_time": "2024-02-03T15:12:30.685Z"
      },
      {
        "duration": 15,
        "start_time": "2024-02-03T15:12:32.437Z"
      },
      {
        "duration": 2751,
        "start_time": "2024-02-03T15:12:33.405Z"
      },
      {
        "duration": 29,
        "start_time": "2024-02-03T15:12:41.207Z"
      },
      {
        "duration": 6,
        "start_time": "2024-02-03T15:13:19.893Z"
      },
      {
        "duration": 7,
        "start_time": "2024-02-03T15:13:43.199Z"
      },
      {
        "duration": 7,
        "start_time": "2024-02-03T15:17:51.145Z"
      },
      {
        "duration": 5,
        "start_time": "2024-02-03T15:18:27.166Z"
      },
      {
        "duration": 5,
        "start_time": "2024-02-03T15:18:35.675Z"
      },
      {
        "duration": 8,
        "start_time": "2024-02-03T15:18:43.882Z"
      },
      {
        "duration": 7,
        "start_time": "2024-02-03T15:19:06.784Z"
      },
      {
        "duration": 11,
        "start_time": "2024-02-03T15:19:46.542Z"
      },
      {
        "duration": 9,
        "start_time": "2024-02-03T15:20:11.782Z"
      },
      {
        "duration": 9,
        "start_time": "2024-02-03T15:20:36.262Z"
      },
      {
        "duration": 10,
        "start_time": "2024-02-03T15:21:05.042Z"
      },
      {
        "duration": 9,
        "start_time": "2024-02-03T15:22:13.880Z"
      },
      {
        "duration": 8,
        "start_time": "2024-02-03T15:22:23.850Z"
      },
      {
        "duration": 14,
        "start_time": "2024-02-03T15:22:24.775Z"
      },
      {
        "duration": 50,
        "start_time": "2024-02-03T15:22:34.479Z"
      },
      {
        "duration": 10,
        "start_time": "2024-02-03T15:23:07.086Z"
      },
      {
        "duration": 15,
        "start_time": "2024-02-03T15:23:09.489Z"
      },
      {
        "duration": 6,
        "start_time": "2024-02-03T15:23:27.198Z"
      },
      {
        "duration": 5,
        "start_time": "2024-02-03T15:23:29.070Z"
      },
      {
        "duration": 408,
        "start_time": "2024-02-03T15:23:29.927Z"
      },
      {
        "duration": 6,
        "start_time": "2024-02-03T15:23:32.619Z"
      },
      {
        "duration": 6,
        "start_time": "2024-02-03T15:23:41.769Z"
      },
      {
        "duration": 6,
        "start_time": "2024-02-03T15:23:42.385Z"
      },
      {
        "duration": 5,
        "start_time": "2024-02-03T15:23:42.993Z"
      },
      {
        "duration": 6,
        "start_time": "2024-02-03T15:23:43.759Z"
      },
      {
        "duration": 427,
        "start_time": "2024-02-03T15:23:44.555Z"
      },
      {
        "duration": 5,
        "start_time": "2024-02-03T15:23:45.453Z"
      },
      {
        "duration": 26,
        "start_time": "2024-02-03T15:23:46.246Z"
      },
      {
        "duration": 9,
        "start_time": "2024-02-03T15:23:48.281Z"
      },
      {
        "duration": 26,
        "start_time": "2024-02-03T15:23:49.083Z"
      },
      {
        "duration": 6,
        "start_time": "2024-02-03T15:23:49.729Z"
      },
      {
        "duration": 5,
        "start_time": "2024-02-03T15:23:50.403Z"
      },
      {
        "duration": 172,
        "start_time": "2024-02-03T15:23:50.757Z"
      },
      {
        "duration": 9,
        "start_time": "2024-02-03T15:23:51.811Z"
      },
      {
        "duration": 5,
        "start_time": "2024-02-03T15:23:53.267Z"
      },
      {
        "duration": 8,
        "start_time": "2024-02-03T15:23:54.135Z"
      },
      {
        "duration": 157,
        "start_time": "2024-02-03T15:23:54.493Z"
      },
      {
        "duration": 11,
        "start_time": "2024-02-03T15:23:55.549Z"
      },
      {
        "duration": 6,
        "start_time": "2024-02-03T15:23:56.247Z"
      },
      {
        "duration": 8,
        "start_time": "2024-02-03T15:23:57.055Z"
      },
      {
        "duration": 144,
        "start_time": "2024-02-03T15:23:57.450Z"
      },
      {
        "duration": 9,
        "start_time": "2024-02-03T15:23:58.569Z"
      },
      {
        "duration": 5,
        "start_time": "2024-02-03T15:23:59.243Z"
      },
      {
        "duration": 7,
        "start_time": "2024-02-03T15:24:00.009Z"
      },
      {
        "duration": 158,
        "start_time": "2024-02-03T15:24:00.346Z"
      },
      {
        "duration": 9,
        "start_time": "2024-02-03T15:24:01.419Z"
      },
      {
        "duration": 8,
        "start_time": "2024-02-03T15:24:02.119Z"
      },
      {
        "duration": 145,
        "start_time": "2024-02-03T15:24:02.478Z"
      },
      {
        "duration": 9,
        "start_time": "2024-02-03T15:24:03.511Z"
      },
      {
        "duration": 291,
        "start_time": "2024-02-03T15:24:04.249Z"
      },
      {
        "duration": 7,
        "start_time": "2024-02-03T15:24:05.031Z"
      },
      {
        "duration": 7,
        "start_time": "2024-02-03T15:24:05.758Z"
      },
      {
        "duration": 162,
        "start_time": "2024-02-03T15:24:06.056Z"
      },
      {
        "duration": 113,
        "start_time": "2024-02-03T15:24:07.216Z"
      },
      {
        "duration": 9,
        "start_time": "2024-02-03T15:24:08.381Z"
      },
      {
        "duration": 7,
        "start_time": "2024-02-03T15:24:09.109Z"
      },
      {
        "duration": 6,
        "start_time": "2024-02-03T15:24:09.943Z"
      },
      {
        "duration": 181,
        "start_time": "2024-02-03T15:24:10.284Z"
      },
      {
        "duration": 11,
        "start_time": "2024-02-03T15:24:11.401Z"
      },
      {
        "duration": 6,
        "start_time": "2024-02-03T15:24:12.109Z"
      },
      {
        "duration": 6,
        "start_time": "2024-02-03T15:24:12.919Z"
      },
      {
        "duration": 238,
        "start_time": "2024-02-03T15:24:13.239Z"
      },
      {
        "duration": 9,
        "start_time": "2024-02-03T15:24:14.281Z"
      },
      {
        "duration": 6,
        "start_time": "2024-02-03T15:24:15.017Z"
      },
      {
        "duration": 7,
        "start_time": "2024-02-03T15:24:15.907Z"
      },
      {
        "duration": 151,
        "start_time": "2024-02-03T15:24:16.265Z"
      },
      {
        "duration": 5,
        "start_time": "2024-02-03T15:24:18.525Z"
      },
      {
        "duration": 165,
        "start_time": "2024-02-03T15:24:21.747Z"
      },
      {
        "duration": 8,
        "start_time": "2024-02-03T15:24:22.136Z"
      },
      {
        "duration": 187,
        "start_time": "2024-02-03T15:24:24.773Z"
      },
      {
        "duration": 5,
        "start_time": "2024-02-03T15:24:25.150Z"
      },
      {
        "duration": 188,
        "start_time": "2024-02-03T15:24:26.245Z"
      },
      {
        "duration": 8,
        "start_time": "2024-02-03T15:24:26.634Z"
      },
      {
        "duration": 195,
        "start_time": "2024-02-03T15:24:27.789Z"
      },
      {
        "duration": 5,
        "start_time": "2024-02-03T15:24:28.214Z"
      },
      {
        "duration": 172,
        "start_time": "2024-02-03T15:24:29.333Z"
      },
      {
        "duration": 5,
        "start_time": "2024-02-03T15:24:29.760Z"
      },
      {
        "duration": 164,
        "start_time": "2024-02-03T15:24:32.046Z"
      },
      {
        "duration": 130,
        "start_time": "2024-02-03T15:24:32.599Z"
      },
      {
        "duration": 189,
        "start_time": "2024-02-03T15:24:34.146Z"
      },
      {
        "duration": 160,
        "start_time": "2024-02-03T15:24:34.505Z"
      },
      {
        "duration": 179,
        "start_time": "2024-02-03T15:24:34.901Z"
      },
      {
        "duration": 148,
        "start_time": "2024-02-03T15:24:35.294Z"
      },
      {
        "duration": 186,
        "start_time": "2024-02-03T15:24:35.687Z"
      },
      {
        "duration": 143,
        "start_time": "2024-02-03T15:24:36.095Z"
      },
      {
        "duration": 8,
        "start_time": "2024-02-03T15:24:43.319Z"
      },
      {
        "duration": 36,
        "start_time": "2024-02-03T15:24:43.870Z"
      },
      {
        "duration": 162,
        "start_time": "2024-02-03T15:24:46.689Z"
      },
      {
        "duration": 182,
        "start_time": "2024-02-03T15:28:52.864Z"
      },
      {
        "duration": 9,
        "start_time": "2024-02-03T15:28:53.250Z"
      },
      {
        "duration": 298,
        "start_time": "2024-02-03T15:28:55.978Z"
      },
      {
        "duration": 5,
        "start_time": "2024-02-03T15:28:56.281Z"
      },
      {
        "duration": 182,
        "start_time": "2024-02-03T15:28:56.866Z"
      },
      {
        "duration": 4,
        "start_time": "2024-02-03T15:28:57.074Z"
      },
      {
        "duration": 181,
        "start_time": "2024-02-03T15:28:57.733Z"
      },
      {
        "duration": 5,
        "start_time": "2024-02-03T15:28:57.940Z"
      },
      {
        "duration": 170,
        "start_time": "2024-02-03T15:28:58.664Z"
      },
      {
        "duration": 5,
        "start_time": "2024-02-03T15:28:58.915Z"
      },
      {
        "duration": 168,
        "start_time": "2024-02-03T15:29:01.815Z"
      },
      {
        "duration": 124,
        "start_time": "2024-02-03T15:29:02.096Z"
      },
      {
        "duration": 171,
        "start_time": "2024-02-03T15:29:03.465Z"
      },
      {
        "duration": 152,
        "start_time": "2024-02-03T15:29:03.817Z"
      },
      {
        "duration": 183,
        "start_time": "2024-02-03T15:29:04.180Z"
      },
      {
        "duration": 144,
        "start_time": "2024-02-03T15:29:04.553Z"
      },
      {
        "duration": 170,
        "start_time": "2024-02-03T15:29:04.946Z"
      },
      {
        "duration": 142,
        "start_time": "2024-02-03T15:29:05.384Z"
      },
      {
        "duration": 7,
        "start_time": "2024-02-03T15:29:08.352Z"
      },
      {
        "duration": 21,
        "start_time": "2024-02-03T15:29:08.874Z"
      },
      {
        "duration": 154,
        "start_time": "2024-02-03T15:29:10.401Z"
      },
      {
        "duration": 120,
        "start_time": "2024-02-03T15:31:28.521Z"
      },
      {
        "duration": 14,
        "start_time": "2024-02-03T15:31:28.715Z"
      },
      {
        "duration": 2457,
        "start_time": "2024-02-03T15:31:28.925Z"
      },
      {
        "duration": 27,
        "start_time": "2024-02-03T15:31:31.384Z"
      },
      {
        "duration": 9,
        "start_time": "2024-02-03T15:31:31.412Z"
      },
      {
        "duration": 7,
        "start_time": "2024-02-03T15:31:33.023Z"
      },
      {
        "duration": 14,
        "start_time": "2024-02-03T15:31:33.410Z"
      },
      {
        "duration": 12,
        "start_time": "2024-02-03T15:31:37.388Z"
      },
      {
        "duration": 14,
        "start_time": "2024-02-03T15:31:37.643Z"
      },
      {
        "duration": 6,
        "start_time": "2024-02-03T15:31:38.741Z"
      },
      {
        "duration": 5,
        "start_time": "2024-02-03T15:31:38.995Z"
      },
      {
        "duration": 413,
        "start_time": "2024-02-03T15:31:39.441Z"
      },
      {
        "duration": 5,
        "start_time": "2024-02-03T15:31:39.855Z"
      },
      {
        "duration": 4,
        "start_time": "2024-02-03T15:31:46.364Z"
      },
      {
        "duration": 6,
        "start_time": "2024-02-03T15:31:46.946Z"
      },
      {
        "duration": 5,
        "start_time": "2024-02-03T15:31:47.409Z"
      },
      {
        "duration": 7,
        "start_time": "2024-02-03T15:31:47.904Z"
      },
      {
        "duration": 317,
        "start_time": "2024-02-03T15:31:48.399Z"
      },
      {
        "duration": 4,
        "start_time": "2024-02-03T15:31:48.963Z"
      },
      {
        "duration": 24,
        "start_time": "2024-02-03T15:31:49.576Z"
      },
      {
        "duration": 8,
        "start_time": "2024-02-03T15:31:50.875Z"
      },
      {
        "duration": 24,
        "start_time": "2024-02-03T15:31:51.375Z"
      },
      {
        "duration": 6,
        "start_time": "2024-02-03T15:31:51.934Z"
      },
      {
        "duration": 7,
        "start_time": "2024-02-03T15:31:52.476Z"
      },
      {
        "duration": 302,
        "start_time": "2024-02-03T15:31:52.755Z"
      },
      {
        "duration": 9,
        "start_time": "2024-02-03T15:31:54.233Z"
      },
      {
        "duration": 6,
        "start_time": "2024-02-03T15:31:54.886Z"
      },
      {
        "duration": 7,
        "start_time": "2024-02-03T15:31:55.332Z"
      },
      {
        "duration": 156,
        "start_time": "2024-02-03T15:31:55.581Z"
      },
      {
        "duration": 9,
        "start_time": "2024-02-03T15:31:56.363Z"
      },
      {
        "duration": 7,
        "start_time": "2024-02-03T15:31:56.835Z"
      },
      {
        "duration": 7,
        "start_time": "2024-02-03T15:31:57.520Z"
      },
      {
        "duration": 141,
        "start_time": "2024-02-03T15:31:57.801Z"
      },
      {
        "duration": 10,
        "start_time": "2024-02-03T15:31:58.796Z"
      },
      {
        "duration": 6,
        "start_time": "2024-02-03T15:31:59.589Z"
      },
      {
        "duration": 6,
        "start_time": "2024-02-03T15:32:00.223Z"
      },
      {
        "duration": 168,
        "start_time": "2024-02-03T15:32:00.517Z"
      },
      {
        "duration": 9,
        "start_time": "2024-02-03T15:32:01.388Z"
      },
      {
        "duration": 8,
        "start_time": "2024-02-03T15:32:02.174Z"
      },
      {
        "duration": 138,
        "start_time": "2024-02-03T15:32:02.403Z"
      },
      {
        "duration": 10,
        "start_time": "2024-02-03T15:32:03.227Z"
      },
      {
        "duration": 294,
        "start_time": "2024-02-03T15:32:03.770Z"
      },
      {
        "duration": 7,
        "start_time": "2024-02-03T15:32:04.328Z"
      },
      {
        "duration": 7,
        "start_time": "2024-02-03T15:32:04.863Z"
      },
      {
        "duration": 176,
        "start_time": "2024-02-03T15:32:05.155Z"
      },
      {
        "duration": 107,
        "start_time": "2024-02-03T15:32:06.099Z"
      },
      {
        "duration": 10,
        "start_time": "2024-02-03T15:32:06.910Z"
      },
      {
        "duration": 6,
        "start_time": "2024-02-03T15:32:07.461Z"
      },
      {
        "duration": 7,
        "start_time": "2024-02-03T15:32:08.157Z"
      },
      {
        "duration": 154,
        "start_time": "2024-02-03T15:32:08.389Z"
      },
      {
        "duration": 10,
        "start_time": "2024-02-03T15:32:09.496Z"
      },
      {
        "duration": 6,
        "start_time": "2024-02-03T15:32:10.032Z"
      },
      {
        "duration": 6,
        "start_time": "2024-02-03T15:32:10.557Z"
      },
      {
        "duration": 153,
        "start_time": "2024-02-03T15:32:10.851Z"
      },
      {
        "duration": 9,
        "start_time": "2024-02-03T15:32:11.739Z"
      },
      {
        "duration": 6,
        "start_time": "2024-02-03T15:32:12.280Z"
      },
      {
        "duration": 6,
        "start_time": "2024-02-03T15:32:12.864Z"
      },
      {
        "duration": 150,
        "start_time": "2024-02-03T15:32:13.185Z"
      },
      {
        "duration": 5,
        "start_time": "2024-02-03T15:32:14.714Z"
      },
      {
        "duration": 167,
        "start_time": "2024-02-03T15:32:16.926Z"
      },
      {
        "duration": 10,
        "start_time": "2024-02-03T15:32:17.193Z"
      },
      {
        "duration": 187,
        "start_time": "2024-02-03T15:32:19.073Z"
      },
      {
        "duration": 5,
        "start_time": "2024-02-03T15:32:19.355Z"
      },
      {
        "duration": 183,
        "start_time": "2024-02-03T15:32:20.343Z"
      },
      {
        "duration": 5,
        "start_time": "2024-02-03T15:32:20.821Z"
      },
      {
        "duration": 179,
        "start_time": "2024-02-03T15:32:21.605Z"
      },
      {
        "duration": 6,
        "start_time": "2024-02-03T15:32:21.875Z"
      },
      {
        "duration": 173,
        "start_time": "2024-02-03T15:32:22.701Z"
      },
      {
        "duration": 5,
        "start_time": "2024-02-03T15:32:23.014Z"
      },
      {
        "duration": 162,
        "start_time": "2024-02-03T15:32:24.514Z"
      },
      {
        "duration": 131,
        "start_time": "2024-02-03T15:32:24.798Z"
      },
      {
        "duration": 198,
        "start_time": "2024-02-03T15:32:25.885Z"
      },
      {
        "duration": 151,
        "start_time": "2024-02-03T15:32:26.189Z"
      },
      {
        "duration": 170,
        "start_time": "2024-02-03T15:32:26.459Z"
      },
      {
        "duration": 144,
        "start_time": "2024-02-03T15:32:26.778Z"
      },
      {
        "duration": 177,
        "start_time": "2024-02-03T15:32:27.045Z"
      },
      {
        "duration": 310,
        "start_time": "2024-02-03T15:32:27.312Z"
      },
      {
        "duration": 9,
        "start_time": "2024-02-03T15:32:29.331Z"
      },
      {
        "duration": 23,
        "start_time": "2024-02-03T15:32:29.661Z"
      },
      {
        "duration": 164,
        "start_time": "2024-02-03T15:32:31.023Z"
      }
    ],
    "colab": {
      "provenance": []
    },
    "kernelspec": {
      "display_name": "Python 3 (ipykernel)",
      "language": "python",
      "name": "python3"
    },
    "language_info": {
      "codemirror_mode": {
        "name": "ipython",
        "version": 3
      },
      "file_extension": ".py",
      "mimetype": "text/x-python",
      "name": "python",
      "nbconvert_exporter": "python",
      "pygments_lexer": "ipython3",
      "version": "3.9.5"
    },
    "toc": {
      "base_numbering": 1,
      "nav_menu": {},
      "number_sections": true,
      "sideBar": true,
      "skip_h1_title": true,
      "title_cell": "Table of Contents",
      "title_sidebar": "Contents",
      "toc_cell": false,
      "toc_position": {},
      "toc_section_display": true,
      "toc_window_display": false
    }
  },
  "nbformat": 4,
  "nbformat_minor": 0
}