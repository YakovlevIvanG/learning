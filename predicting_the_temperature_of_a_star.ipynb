{
  "cells": [
    {
      "cell_type": "markdown",
      "id": "5ff01811",
      "metadata": {
        "id": "5ff01811"
      },
      "source": [
        "# Прогнозирование температуры звезды"
      ]
    },
    {
      "cell_type": "markdown",
      "id": "cb565880",
      "metadata": {
        "id": "cb565880"
      },
      "source": [
        "## Введение\n",
        "\n",
        "**Цель работы:**\n",
        "Разработать нейронную сеть для прогнозирования температуры звезды.\n",
        "\n",
        "**Задачи работы:**\n",
        "1. Обработать предоставленные данные.\n",
        "2. Разработать базовую модель.\n",
        "3. Усовершенноствовать модель для достижения RMSE < 4500.\n",
        "\n",
        "**План работы:**\n",
        "1. Загрузка данных.\n",
        "2. Обработка пропусков и дубликатов, если есть.\n",
        "3. Исследовательский анализ данных.\n",
        "4. Корреляционный анализ данных.\n",
        "5. Подготовка данных для обучения (разделение, масштабирование)\n",
        "6. Формирование базовой нейросети.\n",
        "7. Усовершенствование нейросети.\n",
        "8. Сведение полученных данных в общую таблицу.\n",
        "\n",
        "**Описание работы**\n",
        "\n",
        "Инициатор данной задачи - обсерватория «Небо на ладони». Необходимо с помощью нейросети определять температуру на поверхности обнаруженных звёзд. Обычно для расчёта пользуются методами:\n",
        "- Закон смещения Вина.\n",
        "- Закон Стефана-Больцмана.\n",
        "- Спектральный анализ.\n",
        "\n",
        "В базе обсерватории есть характеристики уже 240 звёзд.\n",
        "Характеристики:\n",
        "- Относительная светимость L/Lo — светимость звезды относительно Солнца.\n",
        "- Относительный радиус R/Ro — радиус звезды относительно радиуса Солнца.\n",
        "- Абсолютная звёздная величина Mv — физическая величина, характеризующая блеск звезды.\n",
        "- Звёздный цвет (white, red, blue, yellow, yellow-orange и др.) — цвет звезды, который определяют на основе спектрального анализа.\n",
        "- Тип звезды.\n",
        "- Абсолютная температура T(K) — температура на поверхности звезды в Кельвинах."
      ]
    },
    {
      "cell_type": "markdown",
      "id": "corresponding-armstrong",
      "metadata": {
        "ExecuteTime": {
          "end_time": "2022-05-05T04:58:05.692448Z",
          "start_time": "2022-05-05T04:58:05.688565Z"
        },
        "id": "corresponding-armstrong"
      },
      "source": [
        "## Загрузка данных"
      ]
    },
    {
      "cell_type": "markdown",
      "id": "098a2d28",
      "metadata": {
        "id": "098a2d28"
      },
      "source": [
        "### Установка и загрузка библиотек"
      ]
    },
    {
      "cell_type": "markdown",
      "id": "a9adc9b2",
      "metadata": {
        "id": "a9adc9b2"
      },
      "source": [
        "Сначала установим и загрузим нужные библиотеки."
      ]
    },
    {
      "cell_type": "code",
      "execution_count": null,
      "id": "5f1df97b",
      "metadata": {
        "id": "5f1df97b"
      },
      "outputs": [],
      "source": [
        "! pip install phik -q\n",
        "!pip install scikit-learn==1.5.2 -q"
      ]
    },
    {
      "cell_type": "code",
      "execution_count": null,
      "id": "spectacular-folder",
      "metadata": {
        "id": "spectacular-folder"
      },
      "outputs": [],
      "source": [
        "# Стандартные библиотеки\n",
        "import pandas as pd\n",
        "import numpy as np\n",
        "\n",
        "from math import ceil\n",
        "\n",
        "# Библиотеки для работы с графиками\n",
        "import matplotlib.pyplot as plt\n",
        "import seaborn as sns\n",
        "\n",
        "# Библиотеки для анализа данных\n",
        "import phik\n",
        "from phik.report import plot_correlation_matrix\n",
        "from phik import report\n",
        "import plotly.express as px\n",
        "\n",
        "from sklearn.model_selection import train_test_split\n",
        "from sklearn.preprocessing import (\n",
        "    OneHotEncoder,\n",
        "    StandardScaler,\n",
        "    MinMaxScaler\n",
        ")\n",
        "\n",
        "# импорт PyTorch\n",
        "import torch\n",
        "import torch.nn as nn"
      ]
    },
    {
      "cell_type": "markdown",
      "id": "d5430924",
      "metadata": {
        "id": "d5430924"
      },
      "source": [
        "Библиотеки загружены."
      ]
    },
    {
      "cell_type": "markdown",
      "id": "eb87cbd6",
      "metadata": {
        "id": "eb87cbd6"
      },
      "source": [
        "### Формирование функций"
      ]
    },
    {
      "cell_type": "markdown",
      "id": "9fd3b791",
      "metadata": {
        "id": "9fd3b791"
      },
      "source": [
        "Подготовим функции для работы и анализа."
      ]
    },
    {
      "cell_type": "code",
      "execution_count": null,
      "id": "d858d2fc",
      "metadata": {
        "id": "d858d2fc"
      },
      "outputs": [],
      "source": [
        "def lunge_analysis(df, columns, groups, hue):\n",
        "    \"\"\"\n",
        "    Функция строит боксплоты и гистограммы по переданному списку столбцов и с группировкой по одному категориальному признаку.\n",
        "\n",
        "    Параметры:\n",
        "        df: датафрейм с нужными значениями.\n",
        "        columns: список названий столбцов, по которым надо построить диаграммы.\n",
        "        groups: столбец из датафрейма с категориальными значениями.\n",
        "\n",
        "    Возвращает:\n",
        "        Оформленные боксплоты и гистограммы.\n",
        "\n",
        "    \"\"\"\n",
        "    for column in columns:\n",
        "        f, ax = plt.subplots(1, 2, figsize=(15, 5))\n",
        "        ax_1 = sns.histplot(data=df, x=column, hue=hue, ax=ax[0])\n",
        "        ax_1.set (xlabel=column, ylabel='Количество', title=f'Гистограмма по столбцу {column}')\n",
        "        ax_2 = sns.boxplot(data=df, y=column, ax=ax[1], width=.2)\n",
        "        ax_2.set (xlabel=column, ylabel='Значение', title=f'Диаграмма размаха признака {column}')\n",
        "        plt.show()\n",
        "    for group in groups:\n",
        "        f, ax = plt.subplots(1, 1, figsize=(10, 8))\n",
        "        ax_3 = plt.pie(df[group].value_counts(), labels=df[group].value_counts().index.tolist(), colors=sns.color_palette('bright'), autopct='%.0f%%')\n",
        "        plt.title(f'Круговая диаграмма для признака {group}')\n",
        "        plt.show()"
      ]
    },
    {
      "cell_type": "code",
      "execution_count": null,
      "id": "ff314f49",
      "metadata": {
        "id": "ff314f49"
      },
      "outputs": [],
      "source": [
        "# Функция присваивает категорию цвета звезды.\n",
        "def cat_type_color(df):\n",
        "    color = ''\n",
        "    if df in blue_color:\n",
        "        color = 'blue'\n",
        "    elif df in white_blue_color:\n",
        "        color = 'white_blue_color'\n",
        "    elif df in white_color:\n",
        "        color = 'white'\n",
        "    elif df  in yellow_white_color:\n",
        "        color = 'yellow_white'\n",
        "    elif df == 'Red':\n",
        "        color = 'red'\n",
        "    else:\n",
        "        color = 'other'\n",
        "    return color"
      ]
    },
    {
      "cell_type": "markdown",
      "id": "c90d2739",
      "metadata": {
        "id": "c90d2739"
      },
      "source": [
        "Функции подготовлены."
      ]
    },
    {
      "cell_type": "markdown",
      "id": "d523705f",
      "metadata": {
        "id": "d523705f"
      },
      "source": [
        "### Загрузка датасетов"
      ]
    },
    {
      "cell_type": "markdown",
      "id": "e36ee77c",
      "metadata": {
        "id": "e36ee77c"
      },
      "source": [
        "Загрузим датасет."
      ]
    },
    {
      "cell_type": "code",
      "execution_count": null,
      "id": "be205256",
      "metadata": {
        "id": "be205256"
      },
      "outputs": [],
      "source": [
        "df = pd.read_csv('/datasets/6_class.csv')"
      ]
    },
    {
      "cell_type": "code",
      "execution_count": null,
      "id": "784e1067",
      "metadata": {
        "id": "784e1067",
        "outputId": "640f936b-c3e4-4513-8397-20c517bf575a"
      },
      "outputs": [
        {
          "data": {
            "text/html": [
              "<div>\n",
              "<style scoped>\n",
              "    .dataframe tbody tr th:only-of-type {\n",
              "        vertical-align: middle;\n",
              "    }\n",
              "\n",
              "    .dataframe tbody tr th {\n",
              "        vertical-align: top;\n",
              "    }\n",
              "\n",
              "    .dataframe thead th {\n",
              "        text-align: right;\n",
              "    }\n",
              "</style>\n",
              "<table border=\"1\" class=\"dataframe\">\n",
              "  <thead>\n",
              "    <tr style=\"text-align: right;\">\n",
              "      <th></th>\n",
              "      <th>Unnamed: 0</th>\n",
              "      <th>Temperature (K)</th>\n",
              "      <th>Luminosity(L/Lo)</th>\n",
              "      <th>Radius(R/Ro)</th>\n",
              "      <th>Absolute magnitude(Mv)</th>\n",
              "      <th>Star type</th>\n",
              "      <th>Star color</th>\n",
              "    </tr>\n",
              "  </thead>\n",
              "  <tbody>\n",
              "    <tr>\n",
              "      <th>0</th>\n",
              "      <td>0</td>\n",
              "      <td>3068</td>\n",
              "      <td>0.002400</td>\n",
              "      <td>0.1700</td>\n",
              "      <td>16.12</td>\n",
              "      <td>0</td>\n",
              "      <td>Red</td>\n",
              "    </tr>\n",
              "    <tr>\n",
              "      <th>1</th>\n",
              "      <td>1</td>\n",
              "      <td>3042</td>\n",
              "      <td>0.000500</td>\n",
              "      <td>0.1542</td>\n",
              "      <td>16.60</td>\n",
              "      <td>0</td>\n",
              "      <td>Red</td>\n",
              "    </tr>\n",
              "    <tr>\n",
              "      <th>2</th>\n",
              "      <td>2</td>\n",
              "      <td>2600</td>\n",
              "      <td>0.000300</td>\n",
              "      <td>0.1020</td>\n",
              "      <td>18.70</td>\n",
              "      <td>0</td>\n",
              "      <td>Red</td>\n",
              "    </tr>\n",
              "    <tr>\n",
              "      <th>3</th>\n",
              "      <td>3</td>\n",
              "      <td>2800</td>\n",
              "      <td>0.000200</td>\n",
              "      <td>0.1600</td>\n",
              "      <td>16.65</td>\n",
              "      <td>0</td>\n",
              "      <td>Red</td>\n",
              "    </tr>\n",
              "    <tr>\n",
              "      <th>4</th>\n",
              "      <td>4</td>\n",
              "      <td>1939</td>\n",
              "      <td>0.000138</td>\n",
              "      <td>0.1030</td>\n",
              "      <td>20.06</td>\n",
              "      <td>0</td>\n",
              "      <td>Red</td>\n",
              "    </tr>\n",
              "  </tbody>\n",
              "</table>\n",
              "</div>"
            ],
            "text/plain": [
              "   Unnamed: 0  Temperature (K)  Luminosity(L/Lo)  Radius(R/Ro)  \\\n",
              "0           0             3068          0.002400        0.1700   \n",
              "1           1             3042          0.000500        0.1542   \n",
              "2           2             2600          0.000300        0.1020   \n",
              "3           3             2800          0.000200        0.1600   \n",
              "4           4             1939          0.000138        0.1030   \n",
              "\n",
              "   Absolute magnitude(Mv)  Star type Star color  \n",
              "0                   16.12          0        Red  \n",
              "1                   16.60          0        Red  \n",
              "2                   18.70          0        Red  \n",
              "3                   16.65          0        Red  \n",
              "4                   20.06          0        Red  "
            ]
          },
          "execution_count": 7,
          "metadata": {},
          "output_type": "execute_result"
        }
      ],
      "source": [
        "df.head()"
      ]
    },
    {
      "cell_type": "code",
      "execution_count": null,
      "id": "862d5edc",
      "metadata": {
        "id": "862d5edc",
        "outputId": "d626ab84-379c-4016-9049-8db51dd9349d"
      },
      "outputs": [
        {
          "name": "stdout",
          "output_type": "stream",
          "text": [
            "<class 'pandas.core.frame.DataFrame'>\n",
            "RangeIndex: 240 entries, 0 to 239\n",
            "Data columns (total 7 columns):\n",
            " #   Column                  Non-Null Count  Dtype  \n",
            "---  ------                  --------------  -----  \n",
            " 0   Unnamed: 0              240 non-null    int64  \n",
            " 1   Temperature (K)         240 non-null    int64  \n",
            " 2   Luminosity(L/Lo)        240 non-null    float64\n",
            " 3   Radius(R/Ro)            240 non-null    float64\n",
            " 4   Absolute magnitude(Mv)  240 non-null    float64\n",
            " 5   Star type               240 non-null    int64  \n",
            " 6   Star color              240 non-null    object \n",
            "dtypes: float64(3), int64(3), object(1)\n",
            "memory usage: 13.2+ KB\n"
          ]
        }
      ],
      "source": [
        "df.info()"
      ]
    },
    {
      "cell_type": "markdown",
      "id": "83cf9efd",
      "metadata": {
        "id": "83cf9efd"
      },
      "source": [
        "Датасет загружен, все типы опредилились верно."
      ]
    },
    {
      "cell_type": "markdown",
      "id": "27149817",
      "metadata": {
        "id": "27149817"
      },
      "source": [
        "## Предобработка и анализ данных"
      ]
    },
    {
      "cell_type": "markdown",
      "id": "bd1720bf",
      "metadata": {
        "id": "bd1720bf"
      },
      "source": [
        "### Предобработка данных"
      ]
    },
    {
      "cell_type": "markdown",
      "id": "2b3848ee",
      "metadata": {
        "id": "2b3848ee"
      },
      "source": [
        "Названия столбцов некорректны. Изменим их."
      ]
    },
    {
      "cell_type": "code",
      "execution_count": null,
      "id": "bc48ce9e",
      "metadata": {
        "id": "bc48ce9e"
      },
      "outputs": [],
      "source": [
        "rename_columns = {'Unnamed: 0':'unnamed',\n",
        "                 'Temperature (K)':'temperature_(K)',\n",
        "                  'Luminosity(L/Lo)':'luminosity_(L/Lo)',\n",
        "                  'Radius(R/Ro)':'radius_(R/Ro)',\n",
        "                  'Absolute magnitude(Mv)':'absolute_magnitude_(Mv)',\n",
        "                  'Star type':'star_type',\n",
        "                  'Star color':'star_color'\n",
        "                 }"
      ]
    },
    {
      "cell_type": "code",
      "execution_count": null,
      "id": "8f3b6fe8",
      "metadata": {
        "id": "8f3b6fe8"
      },
      "outputs": [],
      "source": [
        "df = df.rename(columns=rename_columns)"
      ]
    },
    {
      "cell_type": "code",
      "execution_count": null,
      "id": "9c9e60d2",
      "metadata": {
        "id": "9c9e60d2",
        "outputId": "d3a903ca-b526-496e-a8e0-7a3a1e0d3b82"
      },
      "outputs": [
        {
          "name": "stdout",
          "output_type": "stream",
          "text": [
            "<class 'pandas.core.frame.DataFrame'>\n",
            "RangeIndex: 240 entries, 0 to 239\n",
            "Data columns (total 7 columns):\n",
            " #   Column                   Non-Null Count  Dtype  \n",
            "---  ------                   --------------  -----  \n",
            " 0   unnamed                  240 non-null    int64  \n",
            " 1   temperature_(K)          240 non-null    int64  \n",
            " 2   luminosity_(L/Lo)        240 non-null    float64\n",
            " 3   radius_(R/Ro)            240 non-null    float64\n",
            " 4   absolute_magnitude_(Mv)  240 non-null    float64\n",
            " 5   star_type                240 non-null    int64  \n",
            " 6   star_color               240 non-null    object \n",
            "dtypes: float64(3), int64(3), object(1)\n",
            "memory usage: 13.2+ KB\n"
          ]
        }
      ],
      "source": [
        "df.info()"
      ]
    },
    {
      "cell_type": "markdown",
      "id": "b8e31a02",
      "metadata": {
        "id": "b8e31a02"
      },
      "source": [
        "Пропусков нет, типы определились верно. Проверим на полные дубликаты"
      ]
    },
    {
      "cell_type": "code",
      "execution_count": null,
      "id": "a73f4b63",
      "metadata": {
        "id": "a73f4b63",
        "outputId": "23962065-35b4-4784-b79e-82bc1590d669"
      },
      "outputs": [
        {
          "data": {
            "text/plain": [
              "Index(['unnamed', 'temperature_(K)', 'luminosity_(L/Lo)', 'radius_(R/Ro)',\n",
              "       'absolute_magnitude_(Mv)', 'star_type', 'star_color'],\n",
              "      dtype='object')"
            ]
          },
          "execution_count": 12,
          "metadata": {},
          "output_type": "execute_result"
        }
      ],
      "source": [
        "df.columns"
      ]
    },
    {
      "cell_type": "code",
      "execution_count": null,
      "id": "c46c4865",
      "metadata": {
        "id": "c46c4865",
        "outputId": "eacbb531-5ec6-40f5-bd93-c6e213914be5"
      },
      "outputs": [
        {
          "data": {
            "text/plain": [
              "0"
            ]
          },
          "execution_count": 13,
          "metadata": {},
          "output_type": "execute_result"
        }
      ],
      "source": [
        "df.duplicated().sum()"
      ]
    },
    {
      "cell_type": "markdown",
      "id": "bcd371a7",
      "metadata": {
        "id": "bcd371a7"
      },
      "source": [
        "Полных дубликатов нет."
      ]
    },
    {
      "cell_type": "markdown",
      "id": "fbcd04f2",
      "metadata": {
        "id": "fbcd04f2"
      },
      "source": [
        "Так как столбец unnamed совпадает с индексами, удалим его из датафрейма:"
      ]
    },
    {
      "cell_type": "code",
      "execution_count": null,
      "id": "a687671d",
      "metadata": {
        "id": "a687671d"
      },
      "outputs": [],
      "source": [
        "df = df.drop('unnamed', axis=1)"
      ]
    },
    {
      "cell_type": "markdown",
      "id": "de13e874",
      "metadata": {
        "id": "de13e874"
      },
      "source": [
        "### Исследовательский анализ данных"
      ]
    },
    {
      "cell_type": "markdown",
      "id": "65402047",
      "metadata": {
        "id": "65402047"
      },
      "source": [
        "Посмотрим на структуру данных. Столбец, в котором наиболее вероятны неявные дубликаты - star_color. Проверим его."
      ]
    },
    {
      "cell_type": "code",
      "execution_count": null,
      "id": "1b69a322",
      "metadata": {
        "id": "1b69a322",
        "outputId": "a7946147-dd76-4803-ee3a-6f998c72d1a8"
      },
      "outputs": [
        {
          "data": {
            "text/plain": [
              "Red                   112\n",
              "Blue                   55\n",
              "Blue-white             26\n",
              "Blue White             10\n",
              "yellow-white            8\n",
              "White                   7\n",
              "Blue white              3\n",
              "white                   3\n",
              "Yellowish White         3\n",
              "Whitish                 2\n",
              "Orange                  2\n",
              "yellowish               2\n",
              "Yellowish               1\n",
              "Orange-Red              1\n",
              "Blue                    1\n",
              "White-Yellow            1\n",
              "Blue-White              1\n",
              "Pale yellow orange      1\n",
              "Blue white              1\n",
              "Name: star_color, dtype: int64"
            ]
          },
          "execution_count": 15,
          "metadata": {},
          "output_type": "execute_result"
        }
      ],
      "source": [
        "df['star_color'].value_counts()"
      ]
    },
    {
      "cell_type": "markdown",
      "id": "10f6d3ec",
      "metadata": {
        "id": "10f6d3ec"
      },
      "source": [
        "Много неявных дубликатов в столбце с цветом звезды. Обработаем их."
      ]
    },
    {
      "cell_type": "code",
      "execution_count": null,
      "id": "f53ee746",
      "metadata": {
        "id": "f53ee746"
      },
      "outputs": [],
      "source": [
        "blue_color = ['Blue', 'Blue ']\n",
        "white_blue_color = ['Blue-white', 'Blue White', 'Blue white', 'Blue-White', 'Blue white', 'Blue white ']\n",
        "white_color = ['White', 'white', 'Whitish']\n",
        "yellow_white_color = ['yellow-white', 'Yellowish White', 'White-Yellow']\n",
        "other = ['Orange', 'yellowish', 'Pale yellow orange', 'Orange-Red', 'Yellowish']"
      ]
    },
    {
      "cell_type": "code",
      "execution_count": null,
      "id": "dbcc011f",
      "metadata": {
        "id": "dbcc011f"
      },
      "outputs": [],
      "source": [
        "df['type_color'] = df['star_color'].apply(cat_type_color)"
      ]
    },
    {
      "cell_type": "code",
      "execution_count": null,
      "id": "9c463499",
      "metadata": {
        "id": "9c463499",
        "outputId": "d2af033a-fbc1-43f6-8c16-15dd7ef81bdb"
      },
      "outputs": [
        {
          "data": {
            "text/html": [
              "<div>\n",
              "<style scoped>\n",
              "    .dataframe tbody tr th:only-of-type {\n",
              "        vertical-align: middle;\n",
              "    }\n",
              "\n",
              "    .dataframe tbody tr th {\n",
              "        vertical-align: top;\n",
              "    }\n",
              "\n",
              "    .dataframe thead th {\n",
              "        text-align: right;\n",
              "    }\n",
              "</style>\n",
              "<table border=\"1\" class=\"dataframe\">\n",
              "  <thead>\n",
              "    <tr style=\"text-align: right;\">\n",
              "      <th></th>\n",
              "      <th>temperature_(K)</th>\n",
              "      <th>luminosity_(L/Lo)</th>\n",
              "      <th>radius_(R/Ro)</th>\n",
              "      <th>absolute_magnitude_(Mv)</th>\n",
              "      <th>star_type</th>\n",
              "      <th>star_color</th>\n",
              "      <th>type_color</th>\n",
              "    </tr>\n",
              "  </thead>\n",
              "  <tbody>\n",
              "    <tr>\n",
              "      <th>0</th>\n",
              "      <td>3068</td>\n",
              "      <td>0.002400</td>\n",
              "      <td>0.1700</td>\n",
              "      <td>16.12</td>\n",
              "      <td>0</td>\n",
              "      <td>Red</td>\n",
              "      <td>red</td>\n",
              "    </tr>\n",
              "    <tr>\n",
              "      <th>1</th>\n",
              "      <td>3042</td>\n",
              "      <td>0.000500</td>\n",
              "      <td>0.1542</td>\n",
              "      <td>16.60</td>\n",
              "      <td>0</td>\n",
              "      <td>Red</td>\n",
              "      <td>red</td>\n",
              "    </tr>\n",
              "    <tr>\n",
              "      <th>2</th>\n",
              "      <td>2600</td>\n",
              "      <td>0.000300</td>\n",
              "      <td>0.1020</td>\n",
              "      <td>18.70</td>\n",
              "      <td>0</td>\n",
              "      <td>Red</td>\n",
              "      <td>red</td>\n",
              "    </tr>\n",
              "    <tr>\n",
              "      <th>3</th>\n",
              "      <td>2800</td>\n",
              "      <td>0.000200</td>\n",
              "      <td>0.1600</td>\n",
              "      <td>16.65</td>\n",
              "      <td>0</td>\n",
              "      <td>Red</td>\n",
              "      <td>red</td>\n",
              "    </tr>\n",
              "    <tr>\n",
              "      <th>4</th>\n",
              "      <td>1939</td>\n",
              "      <td>0.000138</td>\n",
              "      <td>0.1030</td>\n",
              "      <td>20.06</td>\n",
              "      <td>0</td>\n",
              "      <td>Red</td>\n",
              "      <td>red</td>\n",
              "    </tr>\n",
              "  </tbody>\n",
              "</table>\n",
              "</div>"
            ],
            "text/plain": [
              "   temperature_(K)  luminosity_(L/Lo)  radius_(R/Ro)  absolute_magnitude_(Mv)  \\\n",
              "0             3068           0.002400         0.1700                    16.12   \n",
              "1             3042           0.000500         0.1542                    16.60   \n",
              "2             2600           0.000300         0.1020                    18.70   \n",
              "3             2800           0.000200         0.1600                    16.65   \n",
              "4             1939           0.000138         0.1030                    20.06   \n",
              "\n",
              "   star_type star_color type_color  \n",
              "0          0        Red        red  \n",
              "1          0        Red        red  \n",
              "2          0        Red        red  \n",
              "3          0        Red        red  \n",
              "4          0        Red        red  "
            ]
          },
          "execution_count": 18,
          "metadata": {},
          "output_type": "execute_result"
        }
      ],
      "source": [
        "df.head()"
      ]
    },
    {
      "cell_type": "markdown",
      "id": "5c67aa1b",
      "metadata": {
        "id": "5c67aa1b"
      },
      "source": [
        "Неявные дубликаты обработаны."
      ]
    },
    {
      "cell_type": "code",
      "execution_count": null,
      "id": "76d361bd",
      "metadata": {
        "scrolled": false,
        "id": "76d361bd",
        "outputId": "e9a737d0-5c66-4746-b032-c9517d4aa388"
      },
      "outputs": [
        {
          "data": {
            "image/png": "[encoded data removed]",
            "text/plain": [
              "<Figure size 1080x360 with 2 Axes>"
            ]
          },
          "metadata": {
            "needs_background": "light"
          },
          "output_type": "display_data"
        },
        {
          "data": {
            "image/png": "[encoded data removed]",
            "text/plain": [
              "<Figure size 1080x360 with 2 Axes>"
            ]
          },
          "metadata": {
            "needs_background": "light"
          },
          "output_type": "display_data"
        },
        {
          "data": {
            "image/png": "[encoded data removed]",
            "text/plain": [
              "<Figure size 1080x360 with 2 Axes>"
            ]
          },
          "metadata": {
            "needs_background": "light"
          },
          "output_type": "display_data"
        },
        {
          "data": {
            "image/png": "[encoded data removed]",
            "text/plain": [
              "<Figure size 1080x360 with 2 Axes>"
            ]
          },
          "metadata": {
            "needs_background": "light"
          },
          "output_type": "display_data"
        },
        {
          "data": {
            "image/png": "[encoded data removed]",
            "text/plain": [
              "<Figure size 720x576 with 1 Axes>"
            ]
          },
          "metadata": {},
          "output_type": "display_data"
        }
      ],
      "source": [
        "lunge_analysis(df, ['temperature_(K)', 'luminosity_(L/Lo)', 'radius_(R/Ro)', 'absolute_magnitude_(Mv)'],\n",
        "               ['star_type'], 'star_type')"
      ]
    },
    {
      "cell_type": "code",
      "execution_count": null,
      "id": "b728f513",
      "metadata": {
        "id": "b728f513",
        "outputId": "383689ed-1fda-4c9a-d93d-4b61e0de98e2"
      },
      "outputs": [
        {
          "data": {
            "image/png": "[encoded data removed]",
            "text/plain": [
              "<Figure size 432x288 with 1 Axes>"
            ]
          },
          "metadata": {
            "needs_background": "light"
          },
          "output_type": "display_data"
        }
      ],
      "source": [
        "ax = sns.histplot(data=df, x='type_color')\n",
        "ax.tick_params(axis='x', rotation=90)\n",
        "ax.set(xlabel='Цвет звезды', ylabel='Количество звезд', title=f'Гистограмма по столбцу type_color')\n",
        "plt.show()"
      ]
    },
    {
      "cell_type": "markdown",
      "id": "bfd062b0",
      "metadata": {
        "id": "bfd062b0"
      },
      "source": [
        "Данных у нас немного и удалять выпады может быть опасно. Неявные дубликаты в столбце star_color обработали ранее."
      ]
    },
    {
      "cell_type": "code",
      "execution_count": null,
      "id": "3964d531",
      "metadata": {
        "id": "3964d531"
      },
      "outputs": [],
      "source": [
        "#Старый код, оставлен для сведения\n",
        "#df['star_color'].unique()\n",
        "#df['star_color'] = df['star_color'].replace('Blue ', 'Blue')\n",
        "#df['star_color'] = df['star_color'].replace(['Blue-White', 'Blue white', 'Blue white ', 'Blue White'], 'Blue-white')\n",
        "#df['star_color'] = df['star_color'].replace('Pale yellow orange', 'Pale-yellow-orange')\n",
        "#df['star_color'] = df['star_color'].replace('white', 'White')\n",
        "#df['star_color'] = df['star_color'].replace('Yellowish White', 'Yellowish-white')\n",
        "#df['star_color'] = df['star_color'].replace('yellow-white', 'Yellow-white')\n",
        "#df['star_color'] = df['star_color'].replace('White-Yellow', 'White-yellow')\n",
        "#df['star_color'] = df['star_color'].replace('yellowish', 'Yellowish')\n",
        "#df['star_color'] = df['star_color'].replace('Orange-Red', 'Orange-red')"
      ]
    },
    {
      "cell_type": "code",
      "execution_count": null,
      "id": "3b803337",
      "metadata": {
        "scrolled": false,
        "id": "3b803337"
      },
      "outputs": [],
      "source": [
        "#Старый код, остален для сведения\n",
        "#lunge_analysis(df, ['temperature_(K)', 'luminosity_(L/Lo)', 'radius_(R/Ro)', 'absolute_magnitude_(Mv)'],\n",
        "#               ['star_type', 'star_color'], 'star_type')"
      ]
    },
    {
      "cell_type": "markdown",
      "id": "96743509",
      "metadata": {
        "id": "96743509"
      },
      "source": [
        "### Корреляционный анализ"
      ]
    },
    {
      "cell_type": "markdown",
      "id": "4529f629",
      "metadata": {
        "id": "4529f629"
      },
      "source": [
        "Построим матрицу корреляции."
      ]
    },
    {
      "cell_type": "code",
      "execution_count": null,
      "id": "18f962c3",
      "metadata": {
        "id": "18f962c3"
      },
      "outputs": [],
      "source": [
        "corr_columns = ['temperature_(K)', 'luminosity_(L/Lo)', 'radius_(R/Ro)',\n",
        "       'absolute_magnitude_(Mv)', 'star_type', 'type_color']"
      ]
    },
    {
      "cell_type": "code",
      "execution_count": null,
      "id": "ece3c4e7",
      "metadata": {
        "id": "ece3c4e7",
        "outputId": "109c2bc3-0203-4ee8-8bc4-f7484902bf3f"
      },
      "outputs": [
        {
          "data": {
            "image/png": "[encoded data removed]",
            "text/plain": [
              "<Figure size 576x576 with 2 Axes>"
            ]
          },
          "metadata": {
            "needs_background": "light"
          },
          "output_type": "display_data"
        }
      ],
      "source": [
        "phik_overview = df[corr_columns].phik_matrix(interval_cols=['temperature_(K)',\n",
        "                                                            'luminosity_(L/Lo)',\n",
        "                                                            'radius_(R/Ro)',\n",
        "                                                            'absolute_magnitude_(Mv)'])\n",
        "phik_overview.round(2)\n",
        "\n",
        "plot_correlation_matrix(phik_overview.values,\n",
        "                        x_labels=phik_overview.columns,\n",
        "                        y_labels=phik_overview.index,\n",
        "                        vmin=0, vmax=1, color_map=\"coolwarm\",\n",
        "                        title=\"Тепловая карта коэффициентов корреляции таблицы df\",\n",
        "                        fontsize_factor=1,\n",
        "                        figsize=(8, 8))\n",
        "plt.tight_layout()\n",
        "plt.show()"
      ]
    },
    {
      "cell_type": "markdown",
      "id": "8d65930d",
      "metadata": {
        "id": "8d65930d"
      },
      "source": [
        "Мультиколлениарности нет. Целевой признак, температура, коррелирует со всеми признаками."
      ]
    },
    {
      "cell_type": "markdown",
      "id": "2f1444aa",
      "metadata": {
        "id": "2f1444aa"
      },
      "source": [
        "### Подготовка данных для обучения"
      ]
    },
    {
      "cell_type": "code",
      "execution_count": null,
      "id": "64cc47fd",
      "metadata": {
        "id": "64cc47fd"
      },
      "outputs": [],
      "source": [
        "#Старый код, остален для сведения\n",
        "#df['type_color'] = df['star_color'].apply(cat_type_color)\n",
        "\n",
        "#df['strat_temp'] = pd.qcut(df['temperature_(K)'], q=10)"
      ]
    },
    {
      "cell_type": "markdown",
      "id": "7aa0b0aa",
      "metadata": {
        "id": "7aa0b0aa"
      },
      "source": [
        "Теперь разобъем данные на выборки."
      ]
    },
    {
      "cell_type": "code",
      "execution_count": null,
      "id": "b18b1319",
      "metadata": {
        "id": "b18b1319"
      },
      "outputs": [],
      "source": [
        "X_train, X_test, y_train, y_test = train_test_split(\n",
        "    df.drop(columns=['temperature_(K)', 'star_color']),\n",
        "    df['temperature_(K)'],\n",
        "    test_size=0.3,\n",
        "    shuffle=True,\n",
        "    random_state=42,\n",
        "    stratify = df['type_color']\n",
        ")"
      ]
    },
    {
      "cell_type": "code",
      "execution_count": null,
      "id": "89f21d23",
      "metadata": {
        "id": "89f21d23"
      },
      "outputs": [],
      "source": [
        "num_columns = ['luminosity_(L/Lo)', 'absolute_magnitude_(Mv)', 'radius_(R/Ro)']"
      ]
    },
    {
      "cell_type": "code",
      "execution_count": null,
      "id": "087d2c96",
      "metadata": {
        "id": "087d2c96"
      },
      "outputs": [],
      "source": [
        "cat_columns = ['star_type',\n",
        "               'type_color'\n",
        "              ]"
      ]
    },
    {
      "cell_type": "markdown",
      "id": "55cdf3e9",
      "metadata": {
        "id": "55cdf3e9"
      },
      "source": [
        "Масштабируем данные"
      ]
    },
    {
      "cell_type": "code",
      "execution_count": null,
      "id": "196b67d6",
      "metadata": {
        "id": "196b67d6"
      },
      "outputs": [],
      "source": [
        "scaler = MinMaxScaler()"
      ]
    },
    {
      "cell_type": "code",
      "execution_count": null,
      "id": "42dd5a81",
      "metadata": {
        "id": "42dd5a81"
      },
      "outputs": [],
      "source": [
        "ohe = OneHotEncoder(drop='first', handle_unknown='ignore', sparse_output = False)"
      ]
    },
    {
      "cell_type": "code",
      "execution_count": null,
      "id": "7aebbb83",
      "metadata": {
        "id": "7aebbb83"
      },
      "outputs": [],
      "source": [
        "X_train_ohe = ohe.fit_transform(X_train[cat_columns])\n",
        "X_test_ohe = ohe.transform(X_test[cat_columns])"
      ]
    },
    {
      "cell_type": "code",
      "execution_count": null,
      "id": "b1dd8d46",
      "metadata": {
        "id": "b1dd8d46"
      },
      "outputs": [],
      "source": [
        "cat_ohe_name = ohe.get_feature_names_out()"
      ]
    },
    {
      "cell_type": "code",
      "execution_count": null,
      "id": "c7b29068",
      "metadata": {
        "id": "c7b29068"
      },
      "outputs": [],
      "source": [
        "X_train_ohe = pd.DataFrame(X_train_ohe, columns=cat_ohe_name)\n",
        "X_test_ohe = pd.DataFrame(X_test_ohe, columns=cat_ohe_name)"
      ]
    },
    {
      "cell_type": "code",
      "execution_count": null,
      "id": "3f1ec165",
      "metadata": {
        "id": "3f1ec165"
      },
      "outputs": [],
      "source": [
        "X_train_scaled = scaler.fit_transform(X_train[num_columns])\n",
        "X_test_scaled = scaler.transform(X_test[num_columns])"
      ]
    },
    {
      "cell_type": "code",
      "execution_count": null,
      "id": "456a10e9",
      "metadata": {
        "id": "456a10e9"
      },
      "outputs": [],
      "source": [
        "X_train_scaled = pd.DataFrame(X_train_scaled, columns=num_columns)\n",
        "X_test_scaled = pd.DataFrame(X_test_scaled, columns=num_columns)"
      ]
    },
    {
      "cell_type": "code",
      "execution_count": null,
      "id": "9a44746c",
      "metadata": {
        "id": "9a44746c"
      },
      "outputs": [],
      "source": [
        "X_train = pd.concat([X_train_ohe, X_train_scaled], axis=1)\n",
        "X_test = pd.concat([X_test_ohe, X_test_scaled], axis=1)"
      ]
    },
    {
      "cell_type": "code",
      "execution_count": null,
      "id": "1b04ae8e",
      "metadata": {
        "id": "1b04ae8e",
        "outputId": "87031460-7780-4706-dbd7-1e99a6ef6aa2"
      },
      "outputs": [
        {
          "data": {
            "text/plain": [
              "((168, 13), (72, 13))"
            ]
          },
          "execution_count": 38,
          "metadata": {},
          "output_type": "execute_result"
        }
      ],
      "source": [
        "X_train.shape, X_test.shape"
      ]
    },
    {
      "cell_type": "markdown",
      "id": "9cb12ee6",
      "metadata": {
        "id": "9cb12ee6"
      },
      "source": [
        "Признаки подготовили. Переведем теперь их в тензор:"
      ]
    },
    {
      "cell_type": "code",
      "execution_count": null,
      "id": "6c1a5395",
      "metadata": {
        "id": "6c1a5395"
      },
      "outputs": [],
      "source": [
        "X_train = torch.FloatTensor(X_train.values)\n",
        "X_test = torch.FloatTensor(X_test.values)\n",
        "y_train = torch.FloatTensor(y_train.values)\n",
        "y_test = torch.FloatTensor(y_test.values)"
      ]
    },
    {
      "cell_type": "markdown",
      "id": "7455d595",
      "metadata": {
        "id": "7455d595"
      },
      "source": [
        "Данные подготовили."
      ]
    },
    {
      "cell_type": "markdown",
      "id": "66bf23cc",
      "metadata": {
        "id": "66bf23cc"
      },
      "source": [
        "## Построение базовой нейронной сети"
      ]
    },
    {
      "cell_type": "markdown",
      "id": "d4912929",
      "metadata": {
        "id": "d4912929"
      },
      "source": [
        "Сформируем нейросеть:"
      ]
    },
    {
      "cell_type": "code",
      "execution_count": null,
      "id": "85b0d68a",
      "metadata": {
        "id": "85b0d68a"
      },
      "outputs": [],
      "source": [
        "# Задаю параметры нейронной сети\n",
        "n_in_neurons = X_train.shape[1]\n",
        "n_hidden_neurons_1 = 20\n",
        "n_hidden_neurons_2 = 10\n",
        "n_out_neurons = 1\n",
        "\n",
        "net = nn.Sequential(\n",
        "    nn.Linear(n_in_neurons, n_hidden_neurons_1),\n",
        "    nn.LeakyReLU(),\n",
        "    nn.Linear(n_hidden_neurons_1, n_hidden_neurons_2),\n",
        "    nn.ReLU(),\n",
        "    nn.Linear(n_hidden_neurons_2, n_out_neurons)\n",
        ")"
      ]
    },
    {
      "cell_type": "code",
      "execution_count": null,
      "id": "144d6803",
      "metadata": {
        "id": "144d6803"
      },
      "outputs": [],
      "source": [
        "optimizer = torch.optim.Adam(net.parameters(), lr=1e-3)\n",
        "\n",
        "#loss = nn.L1Loss()\n",
        "loss = nn.MSELoss()\n",
        "\n",
        "num_epochs = 5000"
      ]
    },
    {
      "cell_type": "markdown",
      "id": "99bd7b50",
      "metadata": {
        "id": "99bd7b50"
      },
      "source": [
        "Обучим её:"
      ]
    },
    {
      "cell_type": "code",
      "execution_count": null,
      "id": "e3a42599",
      "metadata": {
        "id": "e3a42599",
        "outputId": "089a70ea-e031-40a8-b84f-d3eec3cc19b4"
      },
      "outputs": [
        {
          "name": "stdout",
          "output_type": "stream",
          "text": [
            "tensor(12962.7676, grad_fn=<SqrtBackward0>)\n",
            "tensor(12799.3828, grad_fn=<SqrtBackward0>)\n",
            "tensor(11763.4600, grad_fn=<SqrtBackward0>)\n",
            "tensor(10024.1270, grad_fn=<SqrtBackward0>)\n",
            "tensor(8438.4990, grad_fn=<SqrtBackward0>)\n",
            "tensor(7593.3979, grad_fn=<SqrtBackward0>)\n",
            "tensor(7235.3481, grad_fn=<SqrtBackward0>)\n",
            "tensor(7093.6064, grad_fn=<SqrtBackward0>)\n",
            "tensor(7048.4272, grad_fn=<SqrtBackward0>)\n",
            "tensor(7003.6655, grad_fn=<SqrtBackward0>)\n",
            "tensor(6916.3838, grad_fn=<SqrtBackward0>)\n"
          ]
        }
      ],
      "source": [
        "for epoch in range(num_epochs):\n",
        "    optimizer.zero_grad()\n",
        "\n",
        "    preds = net.forward(X_train).flatten()\n",
        "\n",
        "    loss_value = loss(preds, y_train)\n",
        "\n",
        "    loss_value.backward()\n",
        "\n",
        "    optimizer.step()\n",
        "\n",
        "    if epoch % 500 == 0 or epoch == num_epochs - 1:\n",
        "        net.eval()\n",
        "        test_preds = net.forward(X_test).flatten()\n",
        "        rmse = torch.sqrt(1/X_test.shape[0] * torch.sum(torch.pow((test_preds - y_test), 2)))\n",
        "        print(rmse)\n",
        "        net.train()"
      ]
    },
    {
      "cell_type": "markdown",
      "id": "675f8af2",
      "metadata": {
        "id": "675f8af2"
      },
      "source": [
        "Для построения графика получим предсказания по всему датасету."
      ]
    },
    {
      "cell_type": "code",
      "execution_count": null,
      "id": "b9e27df4",
      "metadata": {
        "id": "b9e27df4"
      },
      "outputs": [],
      "source": [
        "temp_ohe = ohe.transform(df[cat_columns])\n",
        "temp_scaled = scaler.transform(df[num_columns])"
      ]
    },
    {
      "cell_type": "code",
      "execution_count": null,
      "id": "f8406be0",
      "metadata": {
        "id": "f8406be0"
      },
      "outputs": [],
      "source": [
        "temp_ohe = pd.DataFrame(temp_ohe, columns=cat_ohe_name)\n",
        "temp_scaled = pd.DataFrame(temp_scaled, columns=num_columns)"
      ]
    },
    {
      "cell_type": "code",
      "execution_count": null,
      "id": "47ce59aa",
      "metadata": {
        "id": "47ce59aa"
      },
      "outputs": [],
      "source": [
        "temp = pd.concat([temp_ohe, temp_scaled], axis=1)"
      ]
    },
    {
      "cell_type": "code",
      "execution_count": null,
      "id": "aa8fe2e8",
      "metadata": {
        "id": "aa8fe2e8"
      },
      "outputs": [],
      "source": [
        "temp = torch.Tensor(temp.values)"
      ]
    },
    {
      "cell_type": "code",
      "execution_count": null,
      "id": "46c0dd12",
      "metadata": {
        "id": "46c0dd12",
        "outputId": "07193642-99bd-4f8b-ff23-3a24e62f1324"
      },
      "outputs": [
        {
          "data": {
            "text/plain": [
              "Sequential(\n",
              "  (0): Linear(in_features=13, out_features=20, bias=True)\n",
              "  (1): LeakyReLU(negative_slope=0.01)\n",
              "  (2): Linear(in_features=20, out_features=10, bias=True)\n",
              "  (3): ReLU()\n",
              "  (4): Linear(in_features=10, out_features=1, bias=True)\n",
              ")"
            ]
          },
          "execution_count": 47,
          "metadata": {},
          "output_type": "execute_result"
        }
      ],
      "source": [
        "net.eval()"
      ]
    },
    {
      "cell_type": "code",
      "execution_count": null,
      "id": "761b7f67",
      "metadata": {
        "id": "761b7f67"
      },
      "outputs": [],
      "source": [
        "temp_pred = net.forward(temp)"
      ]
    },
    {
      "cell_type": "code",
      "execution_count": null,
      "id": "ea53a8f4",
      "metadata": {
        "id": "ea53a8f4"
      },
      "outputs": [],
      "source": [
        "temp_pred = pd.DataFrame(temp_pred.detach().numpy())"
      ]
    },
    {
      "cell_type": "code",
      "execution_count": null,
      "id": "76b55c92",
      "metadata": {
        "id": "76b55c92"
      },
      "outputs": [],
      "source": [
        "temp_pred = temp_pred.rename(columns={0:'temp_pred'})"
      ]
    },
    {
      "cell_type": "code",
      "execution_count": null,
      "id": "7a48f32a",
      "metadata": {
        "id": "7a48f32a"
      },
      "outputs": [],
      "source": [
        "df = df.join(temp_pred)"
      ]
    },
    {
      "cell_type": "code",
      "execution_count": null,
      "id": "c5138840",
      "metadata": {
        "id": "c5138840",
        "outputId": "07e6c27a-5ec9-4024-e894-b23d144f6a9f"
      },
      "outputs": [
        {
          "data": {
            "text/html": [
              "<div>\n",
              "<style scoped>\n",
              "    .dataframe tbody tr th:only-of-type {\n",
              "        vertical-align: middle;\n",
              "    }\n",
              "\n",
              "    .dataframe tbody tr th {\n",
              "        vertical-align: top;\n",
              "    }\n",
              "\n",
              "    .dataframe thead th {\n",
              "        text-align: right;\n",
              "    }\n",
              "</style>\n",
              "<table border=\"1\" class=\"dataframe\">\n",
              "  <thead>\n",
              "    <tr style=\"text-align: right;\">\n",
              "      <th></th>\n",
              "      <th>temperature_(K)</th>\n",
              "      <th>luminosity_(L/Lo)</th>\n",
              "      <th>radius_(R/Ro)</th>\n",
              "      <th>absolute_magnitude_(Mv)</th>\n",
              "      <th>star_type</th>\n",
              "      <th>star_color</th>\n",
              "      <th>type_color</th>\n",
              "      <th>temp_pred</th>\n",
              "    </tr>\n",
              "  </thead>\n",
              "  <tbody>\n",
              "    <tr>\n",
              "      <th>0</th>\n",
              "      <td>3068</td>\n",
              "      <td>0.0024</td>\n",
              "      <td>0.1700</td>\n",
              "      <td>16.12</td>\n",
              "      <td>0</td>\n",
              "      <td>Red</td>\n",
              "      <td>red</td>\n",
              "      <td>2918.069092</td>\n",
              "    </tr>\n",
              "    <tr>\n",
              "      <th>1</th>\n",
              "      <td>3042</td>\n",
              "      <td>0.0005</td>\n",
              "      <td>0.1542</td>\n",
              "      <td>16.60</td>\n",
              "      <td>0</td>\n",
              "      <td>Red</td>\n",
              "      <td>red</td>\n",
              "      <td>2943.464355</td>\n",
              "    </tr>\n",
              "    <tr>\n",
              "      <th>2</th>\n",
              "      <td>2600</td>\n",
              "      <td>0.0003</td>\n",
              "      <td>0.1020</td>\n",
              "      <td>18.70</td>\n",
              "      <td>0</td>\n",
              "      <td>Red</td>\n",
              "      <td>red</td>\n",
              "      <td>3054.588867</td>\n",
              "    </tr>\n",
              "  </tbody>\n",
              "</table>\n",
              "</div>"
            ],
            "text/plain": [
              "   temperature_(K)  luminosity_(L/Lo)  radius_(R/Ro)  absolute_magnitude_(Mv)  \\\n",
              "0             3068             0.0024         0.1700                    16.12   \n",
              "1             3042             0.0005         0.1542                    16.60   \n",
              "2             2600             0.0003         0.1020                    18.70   \n",
              "\n",
              "   star_type star_color type_color    temp_pred  \n",
              "0          0        Red        red  2918.069092  \n",
              "1          0        Red        red  2943.464355  \n",
              "2          0        Red        red  3054.588867  "
            ]
          },
          "execution_count": 52,
          "metadata": {},
          "output_type": "execute_result"
        }
      ],
      "source": [
        "df.head(3)"
      ]
    },
    {
      "cell_type": "markdown",
      "id": "7250e1da",
      "metadata": {
        "id": "7250e1da"
      },
      "source": [
        "Построим график:"
      ]
    },
    {
      "cell_type": "code",
      "execution_count": null,
      "id": "3c8b6886",
      "metadata": {
        "scrolled": false,
        "id": "3c8b6886",
        "outputId": "63b9b38d-d078-43bb-a953-8a20dba861e9"
      },
      "outputs": [
        {
          "data": {
            "image/png": "[encoded data removed]",
            "text/plain": [
              "<Figure size 1440x360 with 1 Axes>"
            ]
          },
          "metadata": {
            "needs_background": "light"
          },
          "output_type": "display_data"
        }
      ],
      "source": [
        "df.loc[:,['temp_pred','temperature_(K)']].plot(kind='bar', grid=False, figsize=(20, 5))\n",
        "plt.title('Температура звезды')\n",
        "plt.legend(['Предсказанная температура', 'Фактическая температура'])\n",
        "plt.xticks(np.arange(0,240,5))\n",
        "plt.xlabel('Номер звезды')\n",
        "plt.ylabel('Температура, К')\n",
        "plt.show()"
      ]
    },
    {
      "cell_type": "markdown",
      "id": "abde01c1",
      "metadata": {
        "id": "abde01c1"
      },
      "source": [
        "График построен. Как видно, он не точно отражает температуру звезды."
      ]
    },
    {
      "cell_type": "markdown",
      "id": "0b0992c9",
      "metadata": {
        "id": "0b0992c9"
      },
      "source": [
        "Плохо прогнозируются температуры у звезд с высокими температурами (к примеру, 31, 32, 98, 99, 239), а также звезды с номерами 33 по 58. Посмотрим на них:"
      ]
    },
    {
      "cell_type": "code",
      "execution_count": null,
      "id": "cfe1c6db",
      "metadata": {
        "id": "cfe1c6db",
        "outputId": "2b57cfd2-f019-4ab1-d81a-48e7b7753fe1"
      },
      "outputs": [
        {
          "data": {
            "text/html": [
              "<div>\n",
              "<style scoped>\n",
              "    .dataframe tbody tr th:only-of-type {\n",
              "        vertical-align: middle;\n",
              "    }\n",
              "\n",
              "    .dataframe tbody tr th {\n",
              "        vertical-align: top;\n",
              "    }\n",
              "\n",
              "    .dataframe thead th {\n",
              "        text-align: right;\n",
              "    }\n",
              "</style>\n",
              "<table border=\"1\" class=\"dataframe\">\n",
              "  <thead>\n",
              "    <tr style=\"text-align: right;\">\n",
              "      <th></th>\n",
              "      <th>temperature_(K)</th>\n",
              "      <th>luminosity_(L/Lo)</th>\n",
              "      <th>radius_(R/Ro)</th>\n",
              "      <th>absolute_magnitude_(Mv)</th>\n",
              "      <th>star_type</th>\n",
              "      <th>star_color</th>\n",
              "      <th>type_color</th>\n",
              "      <th>temp_pred</th>\n",
              "    </tr>\n",
              "  </thead>\n",
              "  <tbody>\n",
              "    <tr>\n",
              "      <th>31</th>\n",
              "      <td>30000</td>\n",
              "      <td>28840.000</td>\n",
              "      <td>6.300</td>\n",
              "      <td>-4.20</td>\n",
              "      <td>3</td>\n",
              "      <td>Blue-white</td>\n",
              "      <td>white_blue_color</td>\n",
              "      <td>20242.337891</td>\n",
              "    </tr>\n",
              "    <tr>\n",
              "      <th>32</th>\n",
              "      <td>15276</td>\n",
              "      <td>1136.000</td>\n",
              "      <td>7.200</td>\n",
              "      <td>-1.97</td>\n",
              "      <td>3</td>\n",
              "      <td>Blue-white</td>\n",
              "      <td>white_blue_color</td>\n",
              "      <td>20056.382812</td>\n",
              "    </tr>\n",
              "    <tr>\n",
              "      <th>33</th>\n",
              "      <td>9700</td>\n",
              "      <td>74.000</td>\n",
              "      <td>2.890</td>\n",
              "      <td>0.16</td>\n",
              "      <td>3</td>\n",
              "      <td>Whitish</td>\n",
              "      <td>white</td>\n",
              "      <td>13894.093750</td>\n",
              "    </tr>\n",
              "    <tr>\n",
              "      <th>34</th>\n",
              "      <td>5800</td>\n",
              "      <td>0.810</td>\n",
              "      <td>0.900</td>\n",
              "      <td>5.05</td>\n",
              "      <td>3</td>\n",
              "      <td>yellow-white</td>\n",
              "      <td>yellow_white</td>\n",
              "      <td>13216.826172</td>\n",
              "    </tr>\n",
              "    <tr>\n",
              "      <th>35</th>\n",
              "      <td>8052</td>\n",
              "      <td>8.700</td>\n",
              "      <td>1.800</td>\n",
              "      <td>2.42</td>\n",
              "      <td>3</td>\n",
              "      <td>Whitish</td>\n",
              "      <td>white</td>\n",
              "      <td>14011.771484</td>\n",
              "    </tr>\n",
              "    <tr>\n",
              "      <th>36</th>\n",
              "      <td>6757</td>\n",
              "      <td>1.430</td>\n",
              "      <td>1.120</td>\n",
              "      <td>2.41</td>\n",
              "      <td>3</td>\n",
              "      <td>yellow-white</td>\n",
              "      <td>yellow_white</td>\n",
              "      <td>13077.310547</td>\n",
              "    </tr>\n",
              "    <tr>\n",
              "      <th>37</th>\n",
              "      <td>6380</td>\n",
              "      <td>1.350</td>\n",
              "      <td>0.980</td>\n",
              "      <td>2.93</td>\n",
              "      <td>3</td>\n",
              "      <td>yellow-white</td>\n",
              "      <td>yellow_white</td>\n",
              "      <td>13104.679688</td>\n",
              "    </tr>\n",
              "    <tr>\n",
              "      <th>38</th>\n",
              "      <td>5936</td>\n",
              "      <td>1.357</td>\n",
              "      <td>1.106</td>\n",
              "      <td>4.46</td>\n",
              "      <td>3</td>\n",
              "      <td>yellow-white</td>\n",
              "      <td>yellow_white</td>\n",
              "      <td>13185.831055</td>\n",
              "    </tr>\n",
              "    <tr>\n",
              "      <th>39</th>\n",
              "      <td>5587</td>\n",
              "      <td>0.819</td>\n",
              "      <td>0.990</td>\n",
              "      <td>5.03</td>\n",
              "      <td>3</td>\n",
              "      <td>yellow-white</td>\n",
              "      <td>yellow_white</td>\n",
              "      <td>13215.871094</td>\n",
              "    </tr>\n",
              "    <tr>\n",
              "      <th>40</th>\n",
              "      <td>3826</td>\n",
              "      <td>200000.000</td>\n",
              "      <td>19.000</td>\n",
              "      <td>-6.93</td>\n",
              "      <td>4</td>\n",
              "      <td>Red</td>\n",
              "      <td>red</td>\n",
              "      <td>12296.871094</td>\n",
              "    </tr>\n",
              "    <tr>\n",
              "      <th>41</th>\n",
              "      <td>3365</td>\n",
              "      <td>340000.000</td>\n",
              "      <td>23.000</td>\n",
              "      <td>-6.20</td>\n",
              "      <td>4</td>\n",
              "      <td>Red</td>\n",
              "      <td>red</td>\n",
              "      <td>13881.743164</td>\n",
              "    </tr>\n",
              "    <tr>\n",
              "      <th>42</th>\n",
              "      <td>3270</td>\n",
              "      <td>150000.000</td>\n",
              "      <td>88.000</td>\n",
              "      <td>-6.02</td>\n",
              "      <td>4</td>\n",
              "      <td>Red</td>\n",
              "      <td>red</td>\n",
              "      <td>11874.081055</td>\n",
              "    </tr>\n",
              "    <tr>\n",
              "      <th>43</th>\n",
              "      <td>3200</td>\n",
              "      <td>195000.000</td>\n",
              "      <td>17.000</td>\n",
              "      <td>-7.22</td>\n",
              "      <td>4</td>\n",
              "      <td>Red</td>\n",
              "      <td>red</td>\n",
              "      <td>12224.151367</td>\n",
              "    </tr>\n",
              "    <tr>\n",
              "      <th>44</th>\n",
              "      <td>3008</td>\n",
              "      <td>280000.000</td>\n",
              "      <td>25.000</td>\n",
              "      <td>-6.00</td>\n",
              "      <td>4</td>\n",
              "      <td>Red</td>\n",
              "      <td>red</td>\n",
              "      <td>13233.950195</td>\n",
              "    </tr>\n",
              "    <tr>\n",
              "      <th>45</th>\n",
              "      <td>3600</td>\n",
              "      <td>320000.000</td>\n",
              "      <td>29.000</td>\n",
              "      <td>-6.60</td>\n",
              "      <td>4</td>\n",
              "      <td>Red</td>\n",
              "      <td>red</td>\n",
              "      <td>13647.256836</td>\n",
              "    </tr>\n",
              "    <tr>\n",
              "      <th>46</th>\n",
              "      <td>3575</td>\n",
              "      <td>123000.000</td>\n",
              "      <td>45.000</td>\n",
              "      <td>-6.78</td>\n",
              "      <td>4</td>\n",
              "      <td>Red</td>\n",
              "      <td>red</td>\n",
              "      <td>11486.923828</td>\n",
              "    </tr>\n",
              "    <tr>\n",
              "      <th>47</th>\n",
              "      <td>3574</td>\n",
              "      <td>200000.000</td>\n",
              "      <td>89.000</td>\n",
              "      <td>-5.24</td>\n",
              "      <td>4</td>\n",
              "      <td>Red</td>\n",
              "      <td>red</td>\n",
              "      <td>12467.105469</td>\n",
              "    </tr>\n",
              "    <tr>\n",
              "      <th>48</th>\n",
              "      <td>3625</td>\n",
              "      <td>184000.000</td>\n",
              "      <td>84.000</td>\n",
              "      <td>-6.74</td>\n",
              "      <td>4</td>\n",
              "      <td>Red</td>\n",
              "      <td>red</td>\n",
              "      <td>12205.736328</td>\n",
              "    </tr>\n",
              "    <tr>\n",
              "      <th>49</th>\n",
              "      <td>33750</td>\n",
              "      <td>220000.000</td>\n",
              "      <td>26.000</td>\n",
              "      <td>-6.10</td>\n",
              "      <td>4</td>\n",
              "      <td>Blue</td>\n",
              "      <td>blue</td>\n",
              "      <td>17393.935547</td>\n",
              "    </tr>\n",
              "    <tr>\n",
              "      <th>50</th>\n",
              "      <td>3490</td>\n",
              "      <td>270000.000</td>\n",
              "      <td>1520.000</td>\n",
              "      <td>-9.40</td>\n",
              "      <td>5</td>\n",
              "      <td>Red</td>\n",
              "      <td>red</td>\n",
              "      <td>7848.353027</td>\n",
              "    </tr>\n",
              "    <tr>\n",
              "      <th>51</th>\n",
              "      <td>3750</td>\n",
              "      <td>283000.000</td>\n",
              "      <td>1260.000</td>\n",
              "      <td>-7.63</td>\n",
              "      <td>5</td>\n",
              "      <td>Red</td>\n",
              "      <td>red</td>\n",
              "      <td>7785.252441</td>\n",
              "    </tr>\n",
              "    <tr>\n",
              "      <th>52</th>\n",
              "      <td>3834</td>\n",
              "      <td>272000.000</td>\n",
              "      <td>1183.000</td>\n",
              "      <td>-9.20</td>\n",
              "      <td>5</td>\n",
              "      <td>Red</td>\n",
              "      <td>red</td>\n",
              "      <td>7492.168945</td>\n",
              "    </tr>\n",
              "    <tr>\n",
              "      <th>53</th>\n",
              "      <td>3749</td>\n",
              "      <td>550000.000</td>\n",
              "      <td>1648.000</td>\n",
              "      <td>-8.05</td>\n",
              "      <td>5</td>\n",
              "      <td>Orange</td>\n",
              "      <td>other</td>\n",
              "      <td>11191.398438</td>\n",
              "    </tr>\n",
              "    <tr>\n",
              "      <th>54</th>\n",
              "      <td>3650</td>\n",
              "      <td>310000.000</td>\n",
              "      <td>1324.000</td>\n",
              "      <td>-7.79</td>\n",
              "      <td>5</td>\n",
              "      <td>Red</td>\n",
              "      <td>red</td>\n",
              "      <td>8147.928711</td>\n",
              "    </tr>\n",
              "    <tr>\n",
              "      <th>55</th>\n",
              "      <td>3450</td>\n",
              "      <td>263000.000</td>\n",
              "      <td>1349.000</td>\n",
              "      <td>-11.75</td>\n",
              "      <td>5</td>\n",
              "      <td>Red</td>\n",
              "      <td>red</td>\n",
              "      <td>7449.569336</td>\n",
              "    </tr>\n",
              "    <tr>\n",
              "      <th>56</th>\n",
              "      <td>3660</td>\n",
              "      <td>363000.000</td>\n",
              "      <td>1673.000</td>\n",
              "      <td>-11.92</td>\n",
              "      <td>5</td>\n",
              "      <td>Red</td>\n",
              "      <td>red</td>\n",
              "      <td>8915.516602</td>\n",
              "    </tr>\n",
              "    <tr>\n",
              "      <th>57</th>\n",
              "      <td>3450</td>\n",
              "      <td>174000.000</td>\n",
              "      <td>1284.000</td>\n",
              "      <td>-11.28</td>\n",
              "      <td>5</td>\n",
              "      <td>Red</td>\n",
              "      <td>red</td>\n",
              "      <td>6419.441406</td>\n",
              "    </tr>\n",
              "  </tbody>\n",
              "</table>\n",
              "</div>"
            ],
            "text/plain": [
              "    temperature_(K)  luminosity_(L/Lo)  radius_(R/Ro)  \\\n",
              "31            30000          28840.000          6.300   \n",
              "32            15276           1136.000          7.200   \n",
              "33             9700             74.000          2.890   \n",
              "34             5800              0.810          0.900   \n",
              "35             8052              8.700          1.800   \n",
              "36             6757              1.430          1.120   \n",
              "37             6380              1.350          0.980   \n",
              "38             5936              1.357          1.106   \n",
              "39             5587              0.819          0.990   \n",
              "40             3826         200000.000         19.000   \n",
              "41             3365         340000.000         23.000   \n",
              "42             3270         150000.000         88.000   \n",
              "43             3200         195000.000         17.000   \n",
              "44             3008         280000.000         25.000   \n",
              "45             3600         320000.000         29.000   \n",
              "46             3575         123000.000         45.000   \n",
              "47             3574         200000.000         89.000   \n",
              "48             3625         184000.000         84.000   \n",
              "49            33750         220000.000         26.000   \n",
              "50             3490         270000.000       1520.000   \n",
              "51             3750         283000.000       1260.000   \n",
              "52             3834         272000.000       1183.000   \n",
              "53             3749         550000.000       1648.000   \n",
              "54             3650         310000.000       1324.000   \n",
              "55             3450         263000.000       1349.000   \n",
              "56             3660         363000.000       1673.000   \n",
              "57             3450         174000.000       1284.000   \n",
              "\n",
              "    absolute_magnitude_(Mv)  star_type    star_color        type_color  \\\n",
              "31                    -4.20          3    Blue-white  white_blue_color   \n",
              "32                    -1.97          3    Blue-white  white_blue_color   \n",
              "33                     0.16          3       Whitish             white   \n",
              "34                     5.05          3  yellow-white      yellow_white   \n",
              "35                     2.42          3       Whitish             white   \n",
              "36                     2.41          3  yellow-white      yellow_white   \n",
              "37                     2.93          3  yellow-white      yellow_white   \n",
              "38                     4.46          3  yellow-white      yellow_white   \n",
              "39                     5.03          3  yellow-white      yellow_white   \n",
              "40                    -6.93          4           Red               red   \n",
              "41                    -6.20          4           Red               red   \n",
              "42                    -6.02          4           Red               red   \n",
              "43                    -7.22          4           Red               red   \n",
              "44                    -6.00          4           Red               red   \n",
              "45                    -6.60          4           Red               red   \n",
              "46                    -6.78          4           Red               red   \n",
              "47                    -5.24          4           Red               red   \n",
              "48                    -6.74          4           Red               red   \n",
              "49                    -6.10          4          Blue              blue   \n",
              "50                    -9.40          5           Red               red   \n",
              "51                    -7.63          5           Red               red   \n",
              "52                    -9.20          5           Red               red   \n",
              "53                    -8.05          5        Orange             other   \n",
              "54                    -7.79          5           Red               red   \n",
              "55                   -11.75          5           Red               red   \n",
              "56                   -11.92          5           Red               red   \n",
              "57                   -11.28          5           Red               red   \n",
              "\n",
              "       temp_pred  \n",
              "31  20242.337891  \n",
              "32  20056.382812  \n",
              "33  13894.093750  \n",
              "34  13216.826172  \n",
              "35  14011.771484  \n",
              "36  13077.310547  \n",
              "37  13104.679688  \n",
              "38  13185.831055  \n",
              "39  13215.871094  \n",
              "40  12296.871094  \n",
              "41  13881.743164  \n",
              "42  11874.081055  \n",
              "43  12224.151367  \n",
              "44  13233.950195  \n",
              "45  13647.256836  \n",
              "46  11486.923828  \n",
              "47  12467.105469  \n",
              "48  12205.736328  \n",
              "49  17393.935547  \n",
              "50   7848.353027  \n",
              "51   7785.252441  \n",
              "52   7492.168945  \n",
              "53  11191.398438  \n",
              "54   8147.928711  \n",
              "55   7449.569336  \n",
              "56   8915.516602  \n",
              "57   6419.441406  "
            ]
          },
          "execution_count": 54,
          "metadata": {},
          "output_type": "execute_result"
        }
      ],
      "source": [
        "df[31:58]"
      ]
    },
    {
      "cell_type": "markdown",
      "id": "cfbb4dbd",
      "metadata": {
        "id": "cfbb4dbd"
      },
      "source": [
        "Температура красных звезд завышается, температура бело-голубых наоборот занижается."
      ]
    },
    {
      "cell_type": "markdown",
      "id": "52785db4",
      "metadata": {
        "id": "52785db4"
      },
      "source": [
        "## Улучшение нейронной сети"
      ]
    },
    {
      "cell_type": "markdown",
      "id": "55445e53",
      "metadata": {
        "id": "55445e53"
      },
      "source": [
        "Введем обучение по батчам."
      ]
    },
    {
      "cell_type": "code",
      "execution_count": null,
      "id": "42e44fbd",
      "metadata": {
        "id": "42e44fbd",
        "outputId": "ac1ed40a-9e34-4066-deeb-38b487a353de"
      },
      "outputs": [
        {
          "name": "stdout",
          "output_type": "stream",
          "text": [
            "при batch = 2 RMSE = 4903.90625\n",
            "при batch = 5 RMSE = 4732.0322265625\n",
            "при batch = 10 RMSE = 4437.62255859375\n",
            "при batch = 20 RMSE = 4040.168701171875\n",
            "при batch = 30 RMSE = 3549.641845703125\n",
            "CPU times: user 48min 18s, sys: 16.4 s, total: 48min 34s\n",
            "Wall time: 1h 8min 54s\n"
          ]
        }
      ],
      "source": [
        "%%time\n",
        "# Задаю параметры нейронной сети. Ячейка выполняется около 20 минут.\n",
        "\n",
        "n_in_neurons = X_train.shape[1]\n",
        "n_hidden_neurons_1 = 20\n",
        "n_hidden_neurons_2 = 10\n",
        "n_out_neurons = 1\n",
        "\n",
        "net = nn.Sequential(\n",
        "    nn.Linear(n_in_neurons, n_hidden_neurons_1),\n",
        "    nn.LeakyReLU(),\n",
        "    nn.BatchNorm1d(n_hidden_neurons_1),\n",
        "    nn.Linear(n_hidden_neurons_1, n_hidden_neurons_2),\n",
        "    nn.ReLU(),\n",
        "    nn.BatchNorm1d(n_hidden_neurons_2),\n",
        "    nn.Linear(n_hidden_neurons_2, n_out_neurons),\n",
        ")\n",
        "\n",
        "optimizer = torch.optim.Adam(net.parameters(), lr=1e-3)\n",
        "\n",
        "loss = nn.MSELoss()\n",
        "\n",
        "num_epochs = 2000\n",
        "\n",
        "\n",
        "batch_sizes = [2, 5, 10, 20, 30]\n",
        "rmse_list = []\n",
        "\n",
        "for batch_size in batch_sizes:\n",
        "    num_batches = ceil(len(X_train)/batch_size)\n",
        "\n",
        "    for epoch in range(num_epochs):\n",
        "        order = np.random.permutation(len(X_train)) # случайная перестановка индексов объектов\n",
        "        for batch_idx in range(num_batches):\n",
        "            start_index = batch_idx * batch_size # считаю номер стартового объекта батча\n",
        "            optimizer.zero_grad()\n",
        "\n",
        "            batch_indexes = order[start_index:start_index+batch_size] # извлекаю индексы объектов текущего батча\n",
        "            X_batch = X_train[batch_indexes]\n",
        "            y_batch = y_train[batch_indexes]\n",
        "\n",
        "            preds = net.forward(X_batch).flatten()\n",
        "\n",
        "            loss_value = loss(preds, y_batch)\n",
        "\n",
        "            loss_value.backward()\n",
        "\n",
        "            optimizer.step()\n",
        "\n",
        "        if epoch == num_epochs - 1:\n",
        "            net.eval()\n",
        "            test_preds = net.forward(X_test).flatten()\n",
        "            rmse = torch.sqrt(1/X_test.shape[0] * torch.sum(torch.pow((test_preds - y_test), 2)))\n",
        "            rmse_list.append(rmse)\n",
        "            print(f'при batch = {batch_size} RMSE = {rmse}')\n",
        "            net.train()"
      ]
    },
    {
      "cell_type": "markdown",
      "id": "cd46ccd5",
      "metadata": {
        "id": "cd46ccd5"
      },
      "source": [
        "Минимальное значение при batch = 30. В этом случае RMSE = 3800."
      ]
    },
    {
      "cell_type": "markdown",
      "id": "162427d9",
      "metadata": {
        "id": "162427d9"
      },
      "source": [
        "Получим предсказания на всём датасете и построим график."
      ]
    },
    {
      "cell_type": "code",
      "execution_count": null,
      "id": "c3d15fb4",
      "metadata": {
        "id": "c3d15fb4",
        "outputId": "647eac1d-3c1b-4e74-e37c-c67f66adff25"
      },
      "outputs": [
        {
          "data": {
            "text/plain": [
              "Sequential(\n",
              "  (0): Linear(in_features=13, out_features=20, bias=True)\n",
              "  (1): LeakyReLU(negative_slope=0.01)\n",
              "  (2): BatchNorm1d(20, eps=1e-05, momentum=0.1, affine=True, track_running_stats=True)\n",
              "  (3): Linear(in_features=20, out_features=10, bias=True)\n",
              "  (4): ReLU()\n",
              "  (5): BatchNorm1d(10, eps=1e-05, momentum=0.1, affine=True, track_running_stats=True)\n",
              "  (6): Linear(in_features=10, out_features=1, bias=True)\n",
              ")"
            ]
          },
          "execution_count": 56,
          "metadata": {},
          "output_type": "execute_result"
        }
      ],
      "source": [
        "net.eval()"
      ]
    },
    {
      "cell_type": "code",
      "execution_count": null,
      "id": "ec97d112",
      "metadata": {
        "id": "ec97d112"
      },
      "outputs": [],
      "source": [
        "temp_pred_update = net.forward(temp)"
      ]
    },
    {
      "cell_type": "code",
      "execution_count": null,
      "id": "7e9c9730",
      "metadata": {
        "id": "7e9c9730"
      },
      "outputs": [],
      "source": [
        "temp_pred_update = pd.DataFrame(temp_pred_update.detach().numpy())"
      ]
    },
    {
      "cell_type": "code",
      "execution_count": null,
      "id": "5be7ba48",
      "metadata": {
        "id": "5be7ba48"
      },
      "outputs": [],
      "source": [
        "temp_pred_update = temp_pred_update.rename(columns={0:'temp_pred_update'})"
      ]
    },
    {
      "cell_type": "code",
      "execution_count": null,
      "id": "888fe6af",
      "metadata": {
        "id": "888fe6af"
      },
      "outputs": [],
      "source": [
        "df = df.join(temp_pred_update)"
      ]
    },
    {
      "cell_type": "code",
      "execution_count": null,
      "id": "5cb58160",
      "metadata": {
        "id": "5cb58160",
        "outputId": "fcfee7b7-5288-4c15-d62e-cc8ec4d3adfe"
      },
      "outputs": [
        {
          "data": {
            "text/html": [
              "<div>\n",
              "<style scoped>\n",
              "    .dataframe tbody tr th:only-of-type {\n",
              "        vertical-align: middle;\n",
              "    }\n",
              "\n",
              "    .dataframe tbody tr th {\n",
              "        vertical-align: top;\n",
              "    }\n",
              "\n",
              "    .dataframe thead th {\n",
              "        text-align: right;\n",
              "    }\n",
              "</style>\n",
              "<table border=\"1\" class=\"dataframe\">\n",
              "  <thead>\n",
              "    <tr style=\"text-align: right;\">\n",
              "      <th></th>\n",
              "      <th>temperature_(K)</th>\n",
              "      <th>luminosity_(L/Lo)</th>\n",
              "      <th>radius_(R/Ro)</th>\n",
              "      <th>absolute_magnitude_(Mv)</th>\n",
              "      <th>star_type</th>\n",
              "      <th>star_color</th>\n",
              "      <th>type_color</th>\n",
              "      <th>temp_pred</th>\n",
              "      <th>temp_pred_update</th>\n",
              "    </tr>\n",
              "  </thead>\n",
              "  <tbody>\n",
              "    <tr>\n",
              "      <th>0</th>\n",
              "      <td>3068</td>\n",
              "      <td>0.0024</td>\n",
              "      <td>0.1700</td>\n",
              "      <td>16.12</td>\n",
              "      <td>0</td>\n",
              "      <td>Red</td>\n",
              "      <td>red</td>\n",
              "      <td>2918.069092</td>\n",
              "      <td>2876.701416</td>\n",
              "    </tr>\n",
              "    <tr>\n",
              "      <th>1</th>\n",
              "      <td>3042</td>\n",
              "      <td>0.0005</td>\n",
              "      <td>0.1542</td>\n",
              "      <td>16.60</td>\n",
              "      <td>0</td>\n",
              "      <td>Red</td>\n",
              "      <td>red</td>\n",
              "      <td>2943.464355</td>\n",
              "      <td>2941.786133</td>\n",
              "    </tr>\n",
              "    <tr>\n",
              "      <th>2</th>\n",
              "      <td>2600</td>\n",
              "      <td>0.0003</td>\n",
              "      <td>0.1020</td>\n",
              "      <td>18.70</td>\n",
              "      <td>0</td>\n",
              "      <td>Red</td>\n",
              "      <td>red</td>\n",
              "      <td>3054.588867</td>\n",
              "      <td>3226.649658</td>\n",
              "    </tr>\n",
              "  </tbody>\n",
              "</table>\n",
              "</div>"
            ],
            "text/plain": [
              "   temperature_(K)  luminosity_(L/Lo)  radius_(R/Ro)  absolute_magnitude_(Mv)  \\\n",
              "0             3068             0.0024         0.1700                    16.12   \n",
              "1             3042             0.0005         0.1542                    16.60   \n",
              "2             2600             0.0003         0.1020                    18.70   \n",
              "\n",
              "   star_type star_color type_color    temp_pred  temp_pred_update  \n",
              "0          0        Red        red  2918.069092       2876.701416  \n",
              "1          0        Red        red  2943.464355       2941.786133  \n",
              "2          0        Red        red  3054.588867       3226.649658  "
            ]
          },
          "execution_count": 61,
          "metadata": {},
          "output_type": "execute_result"
        }
      ],
      "source": [
        "df.head(3)"
      ]
    },
    {
      "cell_type": "markdown",
      "id": "cc9e76eb",
      "metadata": {
        "id": "cc9e76eb"
      },
      "source": [
        "Построим график:"
      ]
    },
    {
      "cell_type": "code",
      "execution_count": null,
      "id": "812fdad7",
      "metadata": {
        "scrolled": true,
        "id": "812fdad7",
        "outputId": "5a5c8b91-aa30-483f-b043-d39c587c9197"
      },
      "outputs": [
        {
          "data": {
            "image/png": "[encoded data removed]",
            "text/plain": [
              "<Figure size 1440x360 with 1 Axes>"
            ]
          },
          "metadata": {
            "needs_background": "light"
          },
          "output_type": "display_data"
        }
      ],
      "source": [
        "df.loc[:,['temp_pred','temperature_(K)', 'temp_pred_update']].plot(kind='bar', grid=False, figsize=(20, 5))\n",
        "plt.title('Температура звезды')\n",
        "plt.legend(['Базовая модель', 'Фактическая температура', 'Улучшенная модель'])\n",
        "plt.xticks(np.arange(0,240,5))\n",
        "plt.xlabel('Номер звезды')\n",
        "plt.ylabel('Температура, К')\n",
        "plt.show()"
      ]
    },
    {
      "cell_type": "markdown",
      "id": "4e8acd28",
      "metadata": {
        "id": "4e8acd28"
      },
      "source": [
        "Как видно из графика, зеленные столбцы, которые соответствуют улучшенной модели, лучше совпадают с фактической температурой (оранжевые столбцы)"
      ]
    },
    {
      "cell_type": "markdown",
      "id": "accurate-infrastructure",
      "metadata": {
        "id": "accurate-infrastructure"
      },
      "source": [
        "## Выводы"
      ]
    },
    {
      "cell_type": "markdown",
      "id": "f141b94d",
      "metadata": {
        "id": "f141b94d"
      },
      "source": [
        "В рамках работы сделано:\n",
        "1. Проведен исследовательский и корреляционный анализ.\n",
        "2. Сформирована базовая нейросеть.\n",
        "3. Улучшена базовая нейросеть.\n",
        "\n",
        "Результаты работы:\n",
        "1. В качестве базовой нейросети выбрана нейросеть из двух скрытых слоев. В первом слое 20 нейронов, во втором - 10. В качестве функций активации использовали LeakyReLU() и ReLU(). Метрика RMSE на этой модели после 5000 эпох обучения составила 6900.\n",
        "2. Базовую нейросеть улучшили путем проведения обучения по batch и с применением Batch Normalization. Достигнутая метрика RMSE составила 3800, что меньше 4500.\n",
        "\n",
        "Рекомендации для улучшения анализа:\n",
        "1. Ввести более четкое описание цвета, возможно, с применением длины волны, для устранения двусмысленности.\n",
        "2. Добавить большее количество наблюдений."
      ]
    },
    {
      "cell_type": "code",
      "execution_count": null,
      "id": "daad853d",
      "metadata": {
        "id": "daad853d"
      },
      "outputs": [],
      "source": []
    }
  ],
  "metadata": {
    "ExecuteTimeLog": [
      {
        "duration": 431,
        "start_time": "2024-11-10T12:05:20.969Z"
      },
      {
        "duration": 73,
        "start_time": "2024-11-10T12:05:43.061Z"
      },
      {
        "duration": 18,
        "start_time": "2024-11-10T12:05:50.237Z"
      },
      {
        "duration": 12,
        "start_time": "2024-11-10T12:05:59.700Z"
      },
      {
        "duration": 7,
        "start_time": "2024-11-10T12:06:53.067Z"
      },
      {
        "duration": 1091,
        "start_time": "2024-11-10T12:09:36.500Z"
      },
      {
        "duration": 7429,
        "start_time": "2024-11-10T12:09:48.810Z"
      },
      {
        "duration": 943,
        "start_time": "2024-11-10T12:09:56.241Z"
      },
      {
        "duration": 8,
        "start_time": "2024-11-10T12:10:21.699Z"
      },
      {
        "duration": 5,
        "start_time": "2024-11-10T12:10:32.898Z"
      },
      {
        "duration": 6,
        "start_time": "2024-11-10T12:12:23.652Z"
      },
      {
        "duration": 3890,
        "start_time": "2024-11-10T12:12:27.690Z"
      },
      {
        "duration": 4,
        "start_time": "2024-11-10T12:13:30.134Z"
      },
      {
        "duration": 4,
        "start_time": "2024-11-10T12:13:54.722Z"
      },
      {
        "duration": 3,
        "start_time": "2024-11-10T12:14:28.179Z"
      },
      {
        "duration": 1064,
        "start_time": "2024-11-10T12:14:29.554Z"
      },
      {
        "duration": 7178,
        "start_time": "2024-11-11T04:47:56.570Z"
      },
      {
        "duration": 2026,
        "start_time": "2024-11-11T04:48:03.750Z"
      },
      {
        "duration": 7,
        "start_time": "2024-11-11T04:48:05.778Z"
      },
      {
        "duration": 151,
        "start_time": "2024-11-11T04:48:05.787Z"
      },
      {
        "duration": 12,
        "start_time": "2024-11-11T04:48:05.940Z"
      },
      {
        "duration": 16,
        "start_time": "2024-11-11T04:48:05.954Z"
      },
      {
        "duration": 13,
        "start_time": "2024-11-11T04:48:05.972Z"
      },
      {
        "duration": 8,
        "start_time": "2024-11-11T04:48:05.987Z"
      },
      {
        "duration": 3389,
        "start_time": "2024-11-11T04:48:05.997Z"
      },
      {
        "duration": 4,
        "start_time": "2024-11-11T04:48:09.388Z"
      },
      {
        "duration": 15,
        "start_time": "2024-11-11T04:48:09.393Z"
      },
      {
        "duration": 815,
        "start_time": "2024-11-11T04:48:09.410Z"
      },
      {
        "duration": 4777,
        "start_time": "2024-11-11T06:30:14.952Z"
      },
      {
        "duration": 6,
        "start_time": "2024-11-11T06:30:19.731Z"
      },
      {
        "duration": 7,
        "start_time": "2024-11-11T06:30:19.738Z"
      },
      {
        "duration": 38,
        "start_time": "2024-11-11T06:30:19.747Z"
      },
      {
        "duration": 12,
        "start_time": "2024-11-11T06:30:19.786Z"
      },
      {
        "duration": 12,
        "start_time": "2024-11-11T06:30:19.799Z"
      },
      {
        "duration": 17,
        "start_time": "2024-11-11T06:30:19.813Z"
      },
      {
        "duration": 5,
        "start_time": "2024-11-11T06:30:19.832Z"
      },
      {
        "duration": 3616,
        "start_time": "2024-11-11T06:30:19.838Z"
      },
      {
        "duration": 4,
        "start_time": "2024-11-11T06:30:23.457Z"
      },
      {
        "duration": 11,
        "start_time": "2024-11-11T06:30:23.463Z"
      },
      {
        "duration": 883,
        "start_time": "2024-11-11T06:30:23.476Z"
      },
      {
        "duration": 3,
        "start_time": "2024-11-11T06:37:19.523Z"
      },
      {
        "duration": 4,
        "start_time": "2024-11-11T06:37:56.675Z"
      },
      {
        "duration": 11,
        "start_time": "2024-11-11T06:38:05.015Z"
      },
      {
        "duration": 4800,
        "start_time": "2024-11-11T06:38:17.855Z"
      },
      {
        "duration": 6,
        "start_time": "2024-11-11T06:38:22.657Z"
      },
      {
        "duration": 13,
        "start_time": "2024-11-11T06:38:22.664Z"
      },
      {
        "duration": 36,
        "start_time": "2024-11-11T06:38:22.679Z"
      },
      {
        "duration": 11,
        "start_time": "2024-11-11T06:38:22.717Z"
      },
      {
        "duration": 10,
        "start_time": "2024-11-11T06:38:22.729Z"
      },
      {
        "duration": 5,
        "start_time": "2024-11-11T06:38:22.740Z"
      },
      {
        "duration": 3,
        "start_time": "2024-11-11T06:38:22.746Z"
      },
      {
        "duration": 14,
        "start_time": "2024-11-11T06:38:27.708Z"
      },
      {
        "duration": 4,
        "start_time": "2024-11-11T06:39:22.548Z"
      },
      {
        "duration": 6,
        "start_time": "2024-11-11T06:40:01.027Z"
      },
      {
        "duration": 3806,
        "start_time": "2024-11-11T06:40:03.261Z"
      },
      {
        "duration": 5,
        "start_time": "2024-11-11T06:42:34.040Z"
      },
      {
        "duration": 5,
        "start_time": "2024-11-11T06:42:48.095Z"
      },
      {
        "duration": 6,
        "start_time": "2024-11-11T06:42:58.159Z"
      },
      {
        "duration": 5,
        "start_time": "2024-11-11T06:46:03.655Z"
      },
      {
        "duration": 4,
        "start_time": "2024-11-11T06:47:02.176Z"
      },
      {
        "duration": 3,
        "start_time": "2024-11-11T06:48:22.395Z"
      },
      {
        "duration": 56,
        "start_time": "2024-11-11T06:51:01.260Z"
      },
      {
        "duration": 5,
        "start_time": "2024-11-11T06:51:07.076Z"
      },
      {
        "duration": 3,
        "start_time": "2024-11-11T06:52:06.480Z"
      },
      {
        "duration": 3,
        "start_time": "2024-11-11T06:52:42.547Z"
      },
      {
        "duration": 3,
        "start_time": "2024-11-11T06:53:35.048Z"
      },
      {
        "duration": 3,
        "start_time": "2024-11-11T06:53:58.387Z"
      },
      {
        "duration": 4,
        "start_time": "2024-11-11T06:54:25.807Z"
      },
      {
        "duration": 4,
        "start_time": "2024-11-11T06:55:24.267Z"
      },
      {
        "duration": 4,
        "start_time": "2024-11-11T06:55:33.987Z"
      },
      {
        "duration": 4,
        "start_time": "2024-11-11T06:56:20.139Z"
      },
      {
        "duration": 4,
        "start_time": "2024-11-11T06:56:24.228Z"
      },
      {
        "duration": 3529,
        "start_time": "2024-11-11T06:57:24.775Z"
      },
      {
        "duration": 3559,
        "start_time": "2024-11-11T06:57:43.055Z"
      },
      {
        "duration": 4,
        "start_time": "2024-11-11T07:04:34.020Z"
      },
      {
        "duration": 3,
        "start_time": "2024-11-11T07:09:03.032Z"
      },
      {
        "duration": 3,
        "start_time": "2024-11-11T07:09:42.639Z"
      },
      {
        "duration": 3,
        "start_time": "2024-11-11T07:12:11.224Z"
      },
      {
        "duration": 3,
        "start_time": "2024-11-11T07:13:01.439Z"
      },
      {
        "duration": 417,
        "start_time": "2024-11-11T07:13:34.428Z"
      },
      {
        "duration": 4,
        "start_time": "2024-11-11T07:13:43.316Z"
      },
      {
        "duration": 10,
        "start_time": "2024-11-11T07:13:51.559Z"
      },
      {
        "duration": 13,
        "start_time": "2024-11-11T07:13:58.820Z"
      },
      {
        "duration": 13,
        "start_time": "2024-11-11T07:14:09.548Z"
      },
      {
        "duration": 3,
        "start_time": "2024-11-11T07:14:26.903Z"
      },
      {
        "duration": 3,
        "start_time": "2024-11-11T07:14:28.544Z"
      },
      {
        "duration": 4,
        "start_time": "2024-11-11T07:14:32.967Z"
      },
      {
        "duration": 14,
        "start_time": "2024-11-11T07:14:33.688Z"
      },
      {
        "duration": 4,
        "start_time": "2024-11-11T07:17:38.363Z"
      },
      {
        "duration": 3,
        "start_time": "2024-11-11T07:17:57.740Z"
      },
      {
        "duration": 2,
        "start_time": "2024-11-11T07:18:27.581Z"
      },
      {
        "duration": 2,
        "start_time": "2024-11-11T07:19:03.388Z"
      },
      {
        "duration": 839,
        "start_time": "2024-11-11T07:19:07.012Z"
      },
      {
        "duration": 10,
        "start_time": "2024-11-11T07:21:01.691Z"
      },
      {
        "duration": 19,
        "start_time": "2024-11-11T10:25:01.198Z"
      },
      {
        "duration": 6,
        "start_time": "2024-11-11T10:25:20.301Z"
      },
      {
        "duration": 3,
        "start_time": "2024-11-11T10:25:46.148Z"
      },
      {
        "duration": 5,
        "start_time": "2024-11-11T10:28:53.727Z"
      },
      {
        "duration": 24,
        "start_time": "2024-11-11T10:29:03.360Z"
      },
      {
        "duration": 15,
        "start_time": "2024-11-11T10:29:20.984Z"
      },
      {
        "duration": 748,
        "start_time": "2024-11-11T10:30:28.865Z"
      },
      {
        "duration": 902,
        "start_time": "2024-11-11T10:31:01.248Z"
      },
      {
        "duration": 13,
        "start_time": "2024-11-11T10:31:10.864Z"
      },
      {
        "duration": 3,
        "start_time": "2024-11-11T10:31:46.097Z"
      },
      {
        "duration": 14,
        "start_time": "2024-11-11T10:31:49.729Z"
      },
      {
        "duration": 8,
        "start_time": "2024-11-11T10:35:03.794Z"
      },
      {
        "duration": 8,
        "start_time": "2024-11-11T10:36:44.132Z"
      },
      {
        "duration": 55,
        "start_time": "2024-11-11T10:41:50.255Z"
      },
      {
        "duration": 3,
        "start_time": "2024-11-11T10:41:54.846Z"
      },
      {
        "duration": 5,
        "start_time": "2024-11-11T10:43:22.487Z"
      },
      {
        "duration": 3,
        "start_time": "2024-11-11T10:43:24.878Z"
      },
      {
        "duration": 3,
        "start_time": "2024-11-11T10:43:26.319Z"
      },
      {
        "duration": 6,
        "start_time": "2024-11-11T10:43:32.750Z"
      },
      {
        "duration": 7,
        "start_time": "2024-11-11T10:44:03.054Z"
      },
      {
        "duration": 13,
        "start_time": "2024-11-11T10:47:04.417Z"
      },
      {
        "duration": 9,
        "start_time": "2024-11-11T10:47:38.035Z"
      },
      {
        "duration": 8,
        "start_time": "2024-11-11T10:48:11.418Z"
      },
      {
        "duration": 3,
        "start_time": "2024-11-11T10:48:30.986Z"
      },
      {
        "duration": 10,
        "start_time": "2024-11-11T10:48:38.953Z"
      },
      {
        "duration": 3,
        "start_time": "2024-11-11T10:48:51.962Z"
      },
      {
        "duration": 3,
        "start_time": "2024-11-11T10:49:08.691Z"
      },
      {
        "duration": 7,
        "start_time": "2024-11-11T10:49:26.916Z"
      },
      {
        "duration": 7,
        "start_time": "2024-11-11T10:49:27.299Z"
      },
      {
        "duration": 13,
        "start_time": "2024-11-11T10:49:30.043Z"
      },
      {
        "duration": 12,
        "start_time": "2024-11-11T10:55:15.780Z"
      },
      {
        "duration": 4,
        "start_time": "2024-11-11T10:55:22.689Z"
      },
      {
        "duration": 12,
        "start_time": "2024-11-11T10:55:42.457Z"
      },
      {
        "duration": 13,
        "start_time": "2024-11-11T10:55:53.793Z"
      },
      {
        "duration": 2,
        "start_time": "2024-11-11T11:01:36.558Z"
      },
      {
        "duration": 3,
        "start_time": "2024-11-11T11:01:37.221Z"
      },
      {
        "duration": 6,
        "start_time": "2024-11-11T11:01:40.293Z"
      },
      {
        "duration": 2,
        "start_time": "2024-11-11T11:01:50.165Z"
      },
      {
        "duration": 3,
        "start_time": "2024-11-11T11:02:12.029Z"
      },
      {
        "duration": 3,
        "start_time": "2024-11-11T11:02:33.558Z"
      },
      {
        "duration": 9,
        "start_time": "2024-11-11T11:02:38.137Z"
      },
      {
        "duration": 9,
        "start_time": "2024-11-11T11:03:41.173Z"
      },
      {
        "duration": 3,
        "start_time": "2024-11-11T11:03:42.293Z"
      },
      {
        "duration": 4,
        "start_time": "2024-11-11T11:04:10.226Z"
      },
      {
        "duration": 10,
        "start_time": "2024-11-11T11:04:45.278Z"
      },
      {
        "duration": 477,
        "start_time": "2024-11-11T11:05:13.386Z"
      },
      {
        "duration": 7,
        "start_time": "2024-11-11T11:05:33.085Z"
      },
      {
        "duration": 5,
        "start_time": "2024-11-11T11:05:43.097Z"
      },
      {
        "duration": 5,
        "start_time": "2024-11-11T11:10:08.849Z"
      },
      {
        "duration": 3,
        "start_time": "2024-11-11T11:12:43.093Z"
      },
      {
        "duration": 25,
        "start_time": "2024-11-11T11:13:03.105Z"
      },
      {
        "duration": 5,
        "start_time": "2024-11-11T11:13:42.904Z"
      },
      {
        "duration": 137,
        "start_time": "2024-11-11T11:13:45.901Z"
      },
      {
        "duration": 3,
        "start_time": "2024-11-11T11:18:06.617Z"
      },
      {
        "duration": 7,
        "start_time": "2024-11-11T11:18:15.313Z"
      },
      {
        "duration": 3,
        "start_time": "2024-11-11T11:18:47.365Z"
      },
      {
        "duration": 6,
        "start_time": "2024-11-11T11:18:47.913Z"
      },
      {
        "duration": 3,
        "start_time": "2024-11-11T11:19:01.578Z"
      },
      {
        "duration": 3,
        "start_time": "2024-11-11T11:19:44.781Z"
      },
      {
        "duration": 3,
        "start_time": "2024-11-11T11:21:00.145Z"
      },
      {
        "duration": 3,
        "start_time": "2024-11-11T11:21:09.341Z"
      },
      {
        "duration": 15,
        "start_time": "2024-11-11T11:42:07.251Z"
      },
      {
        "duration": 5,
        "start_time": "2024-11-11T11:42:13.146Z"
      },
      {
        "duration": 13,
        "start_time": "2024-11-11T11:42:14.646Z"
      },
      {
        "duration": 4758,
        "start_time": "2024-11-11T11:42:47.319Z"
      },
      {
        "duration": 8,
        "start_time": "2024-11-11T11:42:52.079Z"
      },
      {
        "duration": 33,
        "start_time": "2024-11-11T11:42:52.089Z"
      },
      {
        "duration": 38,
        "start_time": "2024-11-11T11:42:52.124Z"
      },
      {
        "duration": 11,
        "start_time": "2024-11-11T11:42:52.164Z"
      },
      {
        "duration": 34,
        "start_time": "2024-11-11T11:42:52.177Z"
      },
      {
        "duration": 6,
        "start_time": "2024-11-11T11:42:52.213Z"
      },
      {
        "duration": 5,
        "start_time": "2024-11-11T11:42:52.220Z"
      },
      {
        "duration": 15,
        "start_time": "2024-11-11T11:42:52.226Z"
      },
      {
        "duration": 20,
        "start_time": "2024-11-11T11:42:52.243Z"
      },
      {
        "duration": 20,
        "start_time": "2024-11-11T11:42:52.265Z"
      },
      {
        "duration": 3597,
        "start_time": "2024-11-11T11:42:52.286Z"
      },
      {
        "duration": 5,
        "start_time": "2024-11-11T11:42:55.885Z"
      },
      {
        "duration": 5,
        "start_time": "2024-11-11T11:42:55.891Z"
      },
      {
        "duration": 5,
        "start_time": "2024-11-11T11:42:55.897Z"
      },
      {
        "duration": 4,
        "start_time": "2024-11-11T11:42:55.920Z"
      },
      {
        "duration": 4,
        "start_time": "2024-11-11T11:42:55.926Z"
      },
      {
        "duration": 114,
        "start_time": "2024-11-11T11:42:55.932Z"
      },
      {
        "duration": 19,
        "start_time": "2024-11-11T11:42:56.048Z"
      },
      {
        "duration": 6,
        "start_time": "2024-11-11T11:42:56.069Z"
      },
      {
        "duration": 7,
        "start_time": "2024-11-11T11:42:56.076Z"
      },
      {
        "duration": 7,
        "start_time": "2024-11-11T11:42:56.084Z"
      },
      {
        "duration": 3,
        "start_time": "2024-11-11T11:42:56.093Z"
      },
      {
        "duration": 3573,
        "start_time": "2024-11-11T11:42:56.097Z"
      },
      {
        "duration": 3,
        "start_time": "2024-11-11T11:42:59.672Z"
      },
      {
        "duration": 85,
        "start_time": "2024-11-11T11:42:59.677Z"
      },
      {
        "duration": 859,
        "start_time": "2024-11-11T11:42:59.764Z"
      },
      {
        "duration": 4,
        "start_time": "2024-11-11T11:43:00.626Z"
      },
      {
        "duration": 63,
        "start_time": "2024-11-11T11:43:00.631Z"
      },
      {
        "duration": 33,
        "start_time": "2024-11-11T11:43:00.696Z"
      },
      {
        "duration": 21,
        "start_time": "2024-11-11T11:43:00.731Z"
      },
      {
        "duration": 27,
        "start_time": "2024-11-11T11:43:00.754Z"
      },
      {
        "duration": 14,
        "start_time": "2024-11-11T11:43:00.783Z"
      },
      {
        "duration": 10,
        "start_time": "2024-11-11T11:43:00.798Z"
      },
      {
        "duration": 16,
        "start_time": "2024-11-11T11:43:00.809Z"
      },
      {
        "duration": 15,
        "start_time": "2024-11-11T11:43:00.826Z"
      },
      {
        "duration": 25,
        "start_time": "2024-11-11T11:43:00.842Z"
      },
      {
        "duration": 21,
        "start_time": "2024-11-11T11:43:00.868Z"
      },
      {
        "duration": 15,
        "start_time": "2024-11-11T11:43:00.890Z"
      },
      {
        "duration": 38,
        "start_time": "2024-11-11T11:43:00.907Z"
      },
      {
        "duration": 70,
        "start_time": "2024-11-11T11:43:00.946Z"
      },
      {
        "duration": 21,
        "start_time": "2024-11-11T11:43:01.017Z"
      },
      {
        "duration": 23,
        "start_time": "2024-11-11T11:43:01.039Z"
      },
      {
        "duration": 10,
        "start_time": "2024-11-11T11:43:01.063Z"
      },
      {
        "duration": 4,
        "start_time": "2024-11-11T11:43:10.819Z"
      },
      {
        "duration": 4,
        "start_time": "2024-11-11T11:43:13.475Z"
      },
      {
        "duration": 4,
        "start_time": "2024-11-11T11:43:17.338Z"
      },
      {
        "duration": 433,
        "start_time": "2024-11-11T11:43:27.994Z"
      },
      {
        "duration": 4,
        "start_time": "2024-11-11T11:43:39.515Z"
      },
      {
        "duration": 7227,
        "start_time": "2024-11-12T04:49:09.232Z"
      },
      {
        "duration": 2463,
        "start_time": "2024-11-12T04:49:16.462Z"
      },
      {
        "duration": 6,
        "start_time": "2024-11-12T04:49:18.926Z"
      },
      {
        "duration": 84,
        "start_time": "2024-11-12T04:49:18.934Z"
      },
      {
        "duration": 12,
        "start_time": "2024-11-12T04:49:19.020Z"
      },
      {
        "duration": 10,
        "start_time": "2024-11-12T04:49:19.033Z"
      },
      {
        "duration": 4,
        "start_time": "2024-11-12T04:49:19.044Z"
      },
      {
        "duration": 4,
        "start_time": "2024-11-12T04:49:19.049Z"
      },
      {
        "duration": 10,
        "start_time": "2024-11-12T04:49:19.055Z"
      },
      {
        "duration": 4,
        "start_time": "2024-11-12T04:49:19.068Z"
      },
      {
        "duration": 6,
        "start_time": "2024-11-12T04:49:19.073Z"
      },
      {
        "duration": 2947,
        "start_time": "2024-11-12T04:49:19.080Z"
      },
      {
        "duration": 6,
        "start_time": "2024-11-12T04:49:22.029Z"
      },
      {
        "duration": 9,
        "start_time": "2024-11-12T04:49:22.036Z"
      },
      {
        "duration": 3,
        "start_time": "2024-11-12T04:49:22.057Z"
      },
      {
        "duration": 7,
        "start_time": "2024-11-12T04:49:22.062Z"
      },
      {
        "duration": 3,
        "start_time": "2024-11-12T04:49:22.071Z"
      },
      {
        "duration": 70,
        "start_time": "2024-11-12T04:49:22.075Z"
      },
      {
        "duration": 4,
        "start_time": "2024-11-12T04:49:22.146Z"
      },
      {
        "duration": 4,
        "start_time": "2024-11-12T04:49:22.151Z"
      },
      {
        "duration": 4,
        "start_time": "2024-11-12T04:49:22.156Z"
      },
      {
        "duration": 6,
        "start_time": "2024-11-12T04:49:22.161Z"
      },
      {
        "duration": 6,
        "start_time": "2024-11-12T04:49:22.168Z"
      },
      {
        "duration": 2887,
        "start_time": "2024-11-12T04:49:22.175Z"
      },
      {
        "duration": 4,
        "start_time": "2024-11-12T04:49:25.064Z"
      },
      {
        "duration": 3,
        "start_time": "2024-11-12T04:49:25.069Z"
      },
      {
        "duration": 741,
        "start_time": "2024-11-12T04:49:25.073Z"
      },
      {
        "duration": 3,
        "start_time": "2024-11-12T04:49:25.819Z"
      },
      {
        "duration": 13,
        "start_time": "2024-11-12T04:49:25.824Z"
      },
      {
        "duration": 74,
        "start_time": "2024-11-12T04:49:25.839Z"
      },
      {
        "duration": 6,
        "start_time": "2024-11-12T04:49:25.915Z"
      },
      {
        "duration": 14,
        "start_time": "2024-11-12T04:49:25.922Z"
      },
      {
        "duration": 9,
        "start_time": "2024-11-12T04:49:25.938Z"
      },
      {
        "duration": 20,
        "start_time": "2024-11-12T04:49:25.949Z"
      },
      {
        "duration": 3,
        "start_time": "2024-11-12T04:49:25.971Z"
      },
      {
        "duration": 3,
        "start_time": "2024-11-12T04:49:25.975Z"
      },
      {
        "duration": 3,
        "start_time": "2024-11-12T04:49:25.980Z"
      },
      {
        "duration": 3,
        "start_time": "2024-11-12T04:49:25.984Z"
      },
      {
        "duration": 7,
        "start_time": "2024-11-12T04:49:25.989Z"
      },
      {
        "duration": 3,
        "start_time": "2024-11-12T04:49:25.998Z"
      },
      {
        "duration": 19,
        "start_time": "2024-11-12T04:49:26.002Z"
      },
      {
        "duration": 14,
        "start_time": "2024-11-12T04:49:26.022Z"
      },
      {
        "duration": 4,
        "start_time": "2024-11-12T04:49:26.037Z"
      },
      {
        "duration": 4,
        "start_time": "2024-11-12T04:49:26.042Z"
      },
      {
        "duration": 5,
        "start_time": "2024-11-12T04:49:26.056Z"
      },
      {
        "duration": 5,
        "start_time": "2024-11-12T04:49:26.062Z"
      },
      {
        "duration": 12,
        "start_time": "2024-11-12T04:49:26.069Z"
      },
      {
        "duration": 321,
        "start_time": "2024-11-12T04:52:41.046Z"
      },
      {
        "duration": 6,
        "start_time": "2024-11-12T05:08:25.871Z"
      },
      {
        "duration": 5222,
        "start_time": "2024-11-12T05:09:01.092Z"
      },
      {
        "duration": 8,
        "start_time": "2024-11-12T05:09:06.316Z"
      },
      {
        "duration": 14,
        "start_time": "2024-11-12T05:09:06.326Z"
      },
      {
        "duration": 30,
        "start_time": "2024-11-12T05:09:06.342Z"
      },
      {
        "duration": 9,
        "start_time": "2024-11-12T05:09:06.374Z"
      },
      {
        "duration": 11,
        "start_time": "2024-11-12T05:09:06.384Z"
      },
      {
        "duration": 5,
        "start_time": "2024-11-12T05:09:06.396Z"
      },
      {
        "duration": 8,
        "start_time": "2024-11-12T05:09:06.402Z"
      },
      {
        "duration": 19,
        "start_time": "2024-11-12T05:09:06.412Z"
      },
      {
        "duration": 4,
        "start_time": "2024-11-12T05:09:06.433Z"
      },
      {
        "duration": 4,
        "start_time": "2024-11-12T05:09:06.439Z"
      },
      {
        "duration": 2998,
        "start_time": "2024-11-12T05:09:06.445Z"
      },
      {
        "duration": 6,
        "start_time": "2024-11-12T05:09:09.444Z"
      },
      {
        "duration": 27,
        "start_time": "2024-11-12T05:09:09.458Z"
      },
      {
        "duration": 23,
        "start_time": "2024-11-12T05:09:09.486Z"
      },
      {
        "duration": 10,
        "start_time": "2024-11-12T05:09:09.511Z"
      },
      {
        "duration": 6,
        "start_time": "2024-11-12T05:09:09.522Z"
      },
      {
        "duration": 11,
        "start_time": "2024-11-12T05:09:09.530Z"
      },
      {
        "duration": 12,
        "start_time": "2024-11-12T05:09:09.542Z"
      },
      {
        "duration": 5,
        "start_time": "2024-11-12T05:09:09.555Z"
      },
      {
        "duration": 3,
        "start_time": "2024-11-12T05:09:09.561Z"
      },
      {
        "duration": 5,
        "start_time": "2024-11-12T05:09:09.566Z"
      },
      {
        "duration": 5,
        "start_time": "2024-11-12T05:09:09.572Z"
      },
      {
        "duration": 2741,
        "start_time": "2024-11-12T05:09:09.578Z"
      },
      {
        "duration": 4,
        "start_time": "2024-11-12T05:09:12.321Z"
      },
      {
        "duration": 4,
        "start_time": "2024-11-12T05:09:12.326Z"
      },
      {
        "duration": 886,
        "start_time": "2024-11-12T05:09:12.331Z"
      },
      {
        "duration": 4,
        "start_time": "2024-11-12T05:09:13.221Z"
      },
      {
        "duration": 3,
        "start_time": "2024-11-12T05:09:13.226Z"
      },
      {
        "duration": 3,
        "start_time": "2024-11-12T05:09:13.230Z"
      },
      {
        "duration": 23,
        "start_time": "2024-11-12T05:09:13.234Z"
      },
      {
        "duration": 12,
        "start_time": "2024-11-12T05:09:13.259Z"
      },
      {
        "duration": 9,
        "start_time": "2024-11-12T05:09:13.272Z"
      },
      {
        "duration": 5,
        "start_time": "2024-11-12T05:09:13.282Z"
      },
      {
        "duration": 2,
        "start_time": "2024-11-12T05:09:13.288Z"
      },
      {
        "duration": 5,
        "start_time": "2024-11-12T05:09:13.292Z"
      },
      {
        "duration": 3,
        "start_time": "2024-11-12T05:09:13.298Z"
      },
      {
        "duration": 3,
        "start_time": "2024-11-12T05:09:13.302Z"
      },
      {
        "duration": 6,
        "start_time": "2024-11-12T05:09:13.307Z"
      },
      {
        "duration": 2,
        "start_time": "2024-11-12T05:09:13.315Z"
      },
      {
        "duration": 3,
        "start_time": "2024-11-12T05:09:13.358Z"
      },
      {
        "duration": 8,
        "start_time": "2024-11-12T05:09:13.363Z"
      },
      {
        "duration": 3,
        "start_time": "2024-11-12T05:09:13.373Z"
      },
      {
        "duration": 4,
        "start_time": "2024-11-12T05:09:13.378Z"
      },
      {
        "duration": 4,
        "start_time": "2024-11-12T05:09:13.384Z"
      },
      {
        "duration": 159,
        "start_time": "2024-11-12T05:09:21.855Z"
      },
      {
        "duration": 8,
        "start_time": "2024-11-12T05:09:29.496Z"
      },
      {
        "duration": 5184,
        "start_time": "2024-11-12T05:09:54.900Z"
      },
      {
        "duration": 8,
        "start_time": "2024-11-12T05:10:00.086Z"
      },
      {
        "duration": 56,
        "start_time": "2024-11-12T05:10:00.096Z"
      },
      {
        "duration": 114,
        "start_time": "2024-11-12T05:10:00.154Z"
      },
      {
        "duration": 12,
        "start_time": "2024-11-12T05:10:00.270Z"
      },
      {
        "duration": 59,
        "start_time": "2024-11-12T05:10:00.284Z"
      },
      {
        "duration": 20,
        "start_time": "2024-11-12T05:10:00.344Z"
      },
      {
        "duration": 64,
        "start_time": "2024-11-12T05:10:00.365Z"
      },
      {
        "duration": 49,
        "start_time": "2024-11-12T05:10:00.431Z"
      },
      {
        "duration": 59,
        "start_time": "2024-11-12T05:10:00.483Z"
      },
      {
        "duration": 52,
        "start_time": "2024-11-12T05:10:00.544Z"
      },
      {
        "duration": 2887,
        "start_time": "2024-11-12T05:10:00.597Z"
      },
      {
        "duration": 6,
        "start_time": "2024-11-12T05:10:03.485Z"
      },
      {
        "duration": 17,
        "start_time": "2024-11-12T05:10:03.492Z"
      },
      {
        "duration": 9,
        "start_time": "2024-11-12T05:10:03.511Z"
      },
      {
        "duration": 10,
        "start_time": "2024-11-12T05:10:03.521Z"
      },
      {
        "duration": 4,
        "start_time": "2024-11-12T05:10:03.533Z"
      },
      {
        "duration": 3,
        "start_time": "2024-11-12T05:10:03.538Z"
      },
      {
        "duration": 3,
        "start_time": "2024-11-12T05:10:03.543Z"
      },
      {
        "duration": 10,
        "start_time": "2024-11-12T05:10:03.547Z"
      },
      {
        "duration": 4,
        "start_time": "2024-11-12T05:10:03.558Z"
      },
      {
        "duration": 3,
        "start_time": "2024-11-12T05:10:03.564Z"
      },
      {
        "duration": 3,
        "start_time": "2024-11-12T05:10:03.569Z"
      },
      {
        "duration": 3054,
        "start_time": "2024-11-12T05:10:03.574Z"
      },
      {
        "duration": 4,
        "start_time": "2024-11-12T05:10:06.630Z"
      },
      {
        "duration": 7,
        "start_time": "2024-11-12T05:10:06.635Z"
      },
      {
        "duration": 766,
        "start_time": "2024-11-12T05:10:06.644Z"
      },
      {
        "duration": 4,
        "start_time": "2024-11-12T05:10:07.413Z"
      },
      {
        "duration": 3,
        "start_time": "2024-11-12T05:10:07.419Z"
      },
      {
        "duration": 8,
        "start_time": "2024-11-12T05:10:07.424Z"
      },
      {
        "duration": 8,
        "start_time": "2024-11-12T05:10:07.434Z"
      },
      {
        "duration": 29,
        "start_time": "2024-11-12T05:10:07.443Z"
      },
      {
        "duration": 8,
        "start_time": "2024-11-12T05:10:07.474Z"
      },
      {
        "duration": 8,
        "start_time": "2024-11-12T05:10:07.483Z"
      },
      {
        "duration": 4,
        "start_time": "2024-11-12T05:10:07.493Z"
      },
      {
        "duration": 3,
        "start_time": "2024-11-12T05:10:07.498Z"
      },
      {
        "duration": 3,
        "start_time": "2024-11-12T05:10:07.502Z"
      },
      {
        "duration": 2,
        "start_time": "2024-11-12T05:10:07.507Z"
      },
      {
        "duration": 6,
        "start_time": "2024-11-12T05:10:07.511Z"
      },
      {
        "duration": 20,
        "start_time": "2024-11-12T05:10:07.518Z"
      },
      {
        "duration": 6,
        "start_time": "2024-11-12T05:10:07.539Z"
      },
      {
        "duration": 13,
        "start_time": "2024-11-12T05:10:07.546Z"
      },
      {
        "duration": 7,
        "start_time": "2024-11-12T05:10:07.560Z"
      },
      {
        "duration": 4,
        "start_time": "2024-11-12T05:10:07.568Z"
      },
      {
        "duration": 17,
        "start_time": "2024-11-12T05:10:07.573Z"
      },
      {
        "duration": 121,
        "start_time": "2024-11-12T05:10:07.591Z"
      },
      {
        "duration": 5234,
        "start_time": "2024-11-12T05:10:34.964Z"
      },
      {
        "duration": 8,
        "start_time": "2024-11-12T05:10:40.200Z"
      },
      {
        "duration": 6,
        "start_time": "2024-11-12T05:10:40.209Z"
      },
      {
        "duration": 31,
        "start_time": "2024-11-12T05:10:40.216Z"
      },
      {
        "duration": 10,
        "start_time": "2024-11-12T05:10:40.248Z"
      },
      {
        "duration": 15,
        "start_time": "2024-11-12T05:10:40.260Z"
      },
      {
        "duration": 7,
        "start_time": "2024-11-12T05:10:40.277Z"
      },
      {
        "duration": 4,
        "start_time": "2024-11-12T05:10:40.285Z"
      },
      {
        "duration": 41,
        "start_time": "2024-11-12T05:10:40.290Z"
      },
      {
        "duration": 5,
        "start_time": "2024-11-12T05:10:40.334Z"
      },
      {
        "duration": 7,
        "start_time": "2024-11-12T05:10:40.340Z"
      },
      {
        "duration": 2851,
        "start_time": "2024-11-12T05:10:40.348Z"
      },
      {
        "duration": 5,
        "start_time": "2024-11-12T05:10:43.200Z"
      },
      {
        "duration": 18,
        "start_time": "2024-11-12T05:10:43.206Z"
      },
      {
        "duration": 4,
        "start_time": "2024-11-12T05:10:43.225Z"
      },
      {
        "duration": 8,
        "start_time": "2024-11-12T05:10:43.230Z"
      },
      {
        "duration": 16,
        "start_time": "2024-11-12T05:10:43.239Z"
      },
      {
        "duration": 7,
        "start_time": "2024-11-12T05:10:43.256Z"
      },
      {
        "duration": 7,
        "start_time": "2024-11-12T05:10:43.265Z"
      },
      {
        "duration": 5,
        "start_time": "2024-11-12T05:10:43.273Z"
      },
      {
        "duration": 4,
        "start_time": "2024-11-12T05:10:43.279Z"
      },
      {
        "duration": 3,
        "start_time": "2024-11-12T05:10:43.284Z"
      },
      {
        "duration": 3,
        "start_time": "2024-11-12T05:10:43.289Z"
      },
      {
        "duration": 2899,
        "start_time": "2024-11-12T05:10:43.293Z"
      },
      {
        "duration": 4,
        "start_time": "2024-11-12T05:10:46.193Z"
      },
      {
        "duration": 33,
        "start_time": "2024-11-12T05:10:46.198Z"
      },
      {
        "duration": 773,
        "start_time": "2024-11-12T05:10:46.232Z"
      },
      {
        "duration": 3,
        "start_time": "2024-11-12T05:10:47.008Z"
      },
      {
        "duration": 7,
        "start_time": "2024-11-12T05:10:47.012Z"
      },
      {
        "duration": 4,
        "start_time": "2024-11-12T05:10:47.020Z"
      },
      {
        "duration": 5,
        "start_time": "2024-11-12T05:10:47.025Z"
      },
      {
        "duration": 27,
        "start_time": "2024-11-12T05:10:47.031Z"
      },
      {
        "duration": 9,
        "start_time": "2024-11-12T05:10:47.060Z"
      },
      {
        "duration": 5,
        "start_time": "2024-11-12T05:10:47.071Z"
      },
      {
        "duration": 4,
        "start_time": "2024-11-12T05:10:47.077Z"
      },
      {
        "duration": 10,
        "start_time": "2024-11-12T05:10:47.082Z"
      },
      {
        "duration": 9,
        "start_time": "2024-11-12T05:10:47.094Z"
      },
      {
        "duration": 12,
        "start_time": "2024-11-12T05:10:47.104Z"
      },
      {
        "duration": 41,
        "start_time": "2024-11-12T05:10:47.117Z"
      },
      {
        "duration": 3,
        "start_time": "2024-11-12T05:10:47.160Z"
      },
      {
        "duration": 3,
        "start_time": "2024-11-12T05:10:47.165Z"
      },
      {
        "duration": 11,
        "start_time": "2024-11-12T05:10:47.170Z"
      },
      {
        "duration": 6,
        "start_time": "2024-11-12T05:10:47.182Z"
      },
      {
        "duration": 4,
        "start_time": "2024-11-12T05:10:47.190Z"
      },
      {
        "duration": 13,
        "start_time": "2024-11-12T05:10:47.196Z"
      },
      {
        "duration": 4,
        "start_time": "2024-11-12T05:10:47.210Z"
      },
      {
        "duration": 9,
        "start_time": "2024-11-12T05:10:59.384Z"
      },
      {
        "duration": 5194,
        "start_time": "2024-11-12T05:18:49.090Z"
      },
      {
        "duration": 9,
        "start_time": "2024-11-12T05:18:54.286Z"
      },
      {
        "duration": 9,
        "start_time": "2024-11-12T05:18:54.296Z"
      },
      {
        "duration": 39,
        "start_time": "2024-11-12T05:18:54.306Z"
      },
      {
        "duration": 9,
        "start_time": "2024-11-12T05:18:54.346Z"
      },
      {
        "duration": 12,
        "start_time": "2024-11-12T05:18:54.356Z"
      },
      {
        "duration": 20,
        "start_time": "2024-11-12T05:18:54.369Z"
      },
      {
        "duration": 8,
        "start_time": "2024-11-12T05:18:54.390Z"
      },
      {
        "duration": 10,
        "start_time": "2024-11-12T05:18:54.399Z"
      },
      {
        "duration": 12,
        "start_time": "2024-11-12T05:18:54.411Z"
      },
      {
        "duration": 5,
        "start_time": "2024-11-12T05:18:54.425Z"
      },
      {
        "duration": 2949,
        "start_time": "2024-11-12T05:18:54.431Z"
      },
      {
        "duration": 5,
        "start_time": "2024-11-12T05:18:57.381Z"
      },
      {
        "duration": 8,
        "start_time": "2024-11-12T05:18:57.387Z"
      },
      {
        "duration": 3,
        "start_time": "2024-11-12T05:18:57.396Z"
      },
      {
        "duration": 4,
        "start_time": "2024-11-12T05:18:57.401Z"
      },
      {
        "duration": 9,
        "start_time": "2024-11-12T05:18:57.406Z"
      },
      {
        "duration": 3,
        "start_time": "2024-11-12T05:18:57.416Z"
      },
      {
        "duration": 5,
        "start_time": "2024-11-12T05:18:57.420Z"
      },
      {
        "duration": 4,
        "start_time": "2024-11-12T05:18:57.426Z"
      },
      {
        "duration": 26,
        "start_time": "2024-11-12T05:18:57.431Z"
      },
      {
        "duration": 6,
        "start_time": "2024-11-12T05:18:57.458Z"
      },
      {
        "duration": 3,
        "start_time": "2024-11-12T05:18:57.465Z"
      },
      {
        "duration": 2946,
        "start_time": "2024-11-12T05:18:57.469Z"
      },
      {
        "duration": 3,
        "start_time": "2024-11-12T05:19:00.417Z"
      },
      {
        "duration": 6,
        "start_time": "2024-11-12T05:19:00.422Z"
      },
      {
        "duration": 781,
        "start_time": "2024-11-12T05:19:00.429Z"
      },
      {
        "duration": 4,
        "start_time": "2024-11-12T05:19:01.213Z"
      },
      {
        "duration": 14,
        "start_time": "2024-11-12T05:19:01.218Z"
      },
      {
        "duration": 3,
        "start_time": "2024-11-12T05:19:01.234Z"
      },
      {
        "duration": 5,
        "start_time": "2024-11-12T05:19:01.238Z"
      },
      {
        "duration": 16,
        "start_time": "2024-11-12T05:19:01.244Z"
      },
      {
        "duration": 9,
        "start_time": "2024-11-12T05:19:01.262Z"
      },
      {
        "duration": 6,
        "start_time": "2024-11-12T05:19:01.273Z"
      },
      {
        "duration": 18,
        "start_time": "2024-11-12T05:19:01.280Z"
      },
      {
        "duration": 7,
        "start_time": "2024-11-12T05:19:01.300Z"
      },
      {
        "duration": 4,
        "start_time": "2024-11-12T05:19:01.308Z"
      },
      {
        "duration": 18,
        "start_time": "2024-11-12T05:19:01.313Z"
      },
      {
        "duration": 9,
        "start_time": "2024-11-12T05:19:01.332Z"
      },
      {
        "duration": 9,
        "start_time": "2024-11-12T05:19:01.343Z"
      },
      {
        "duration": 12,
        "start_time": "2024-11-12T05:19:01.353Z"
      },
      {
        "duration": 13,
        "start_time": "2024-11-12T05:19:01.366Z"
      },
      {
        "duration": 19,
        "start_time": "2024-11-12T05:19:01.381Z"
      },
      {
        "duration": 10,
        "start_time": "2024-11-12T05:19:01.401Z"
      },
      {
        "duration": 15,
        "start_time": "2024-11-12T05:19:01.412Z"
      },
      {
        "duration": 14,
        "start_time": "2024-11-12T05:19:01.429Z"
      },
      {
        "duration": 4,
        "start_time": "2024-11-12T05:19:01.444Z"
      },
      {
        "duration": 24,
        "start_time": "2024-11-12T05:19:01.449Z"
      },
      {
        "duration": 291,
        "start_time": "2024-11-12T05:19:01.474Z"
      },
      {
        "duration": 4,
        "start_time": "2024-11-12T05:19:30.592Z"
      },
      {
        "duration": 3,
        "start_time": "2024-11-12T05:20:08.733Z"
      },
      {
        "duration": 5,
        "start_time": "2024-11-12T05:20:15.589Z"
      },
      {
        "duration": 5,
        "start_time": "2024-11-12T05:20:37.429Z"
      },
      {
        "duration": 227,
        "start_time": "2024-11-12T05:21:52.550Z"
      },
      {
        "duration": 14,
        "start_time": "2024-11-12T05:22:41.134Z"
      },
      {
        "duration": 273,
        "start_time": "2024-11-12T05:22:50.094Z"
      },
      {
        "duration": 7,
        "start_time": "2024-11-12T05:23:20.382Z"
      },
      {
        "duration": 4,
        "start_time": "2024-11-12T05:23:43.992Z"
      },
      {
        "duration": 2,
        "start_time": "2024-11-12T05:23:45.719Z"
      },
      {
        "duration": 393,
        "start_time": "2024-11-12T05:23:47.871Z"
      },
      {
        "duration": 4,
        "start_time": "2024-11-12T05:23:51.607Z"
      },
      {
        "duration": 8,
        "start_time": "2024-11-12T05:23:53.254Z"
      },
      {
        "duration": 3,
        "start_time": "2024-11-12T05:23:57.894Z"
      },
      {
        "duration": 18,
        "start_time": "2024-11-12T05:23:58.350Z"
      },
      {
        "duration": 6,
        "start_time": "2024-11-12T05:24:01.550Z"
      },
      {
        "duration": 4,
        "start_time": "2024-11-12T05:24:35.767Z"
      },
      {
        "duration": 3,
        "start_time": "2024-11-12T05:24:38.087Z"
      },
      {
        "duration": 261,
        "start_time": "2024-11-12T05:24:41.206Z"
      },
      {
        "duration": 4,
        "start_time": "2024-11-12T05:24:44.014Z"
      },
      {
        "duration": 8,
        "start_time": "2024-11-12T05:24:46.392Z"
      },
      {
        "duration": 3,
        "start_time": "2024-11-12T05:24:51.302Z"
      },
      {
        "duration": 5,
        "start_time": "2024-11-12T05:24:51.878Z"
      },
      {
        "duration": 6,
        "start_time": "2024-11-12T05:24:53.350Z"
      },
      {
        "duration": 7594,
        "start_time": "2024-11-12T08:49:22.335Z"
      },
      {
        "duration": 2812,
        "start_time": "2024-11-12T08:49:29.932Z"
      },
      {
        "duration": 7,
        "start_time": "2024-11-12T08:49:32.746Z"
      },
      {
        "duration": 102,
        "start_time": "2024-11-12T08:49:32.755Z"
      },
      {
        "duration": 15,
        "start_time": "2024-11-12T08:49:32.859Z"
      },
      {
        "duration": 20,
        "start_time": "2024-11-12T08:49:32.876Z"
      },
      {
        "duration": 4,
        "start_time": "2024-11-12T08:49:32.898Z"
      },
      {
        "duration": 24,
        "start_time": "2024-11-12T08:49:32.904Z"
      },
      {
        "duration": 14,
        "start_time": "2024-11-12T08:49:32.930Z"
      },
      {
        "duration": 6,
        "start_time": "2024-11-12T08:49:32.946Z"
      },
      {
        "duration": 7,
        "start_time": "2024-11-12T08:49:32.954Z"
      },
      {
        "duration": 3770,
        "start_time": "2024-11-12T08:49:32.962Z"
      },
      {
        "duration": 5,
        "start_time": "2024-11-12T08:49:36.734Z"
      },
      {
        "duration": 17,
        "start_time": "2024-11-12T08:49:36.742Z"
      },
      {
        "duration": 4,
        "start_time": "2024-11-12T08:49:36.760Z"
      },
      {
        "duration": 11,
        "start_time": "2024-11-12T08:49:36.765Z"
      },
      {
        "duration": 9,
        "start_time": "2024-11-12T08:49:36.778Z"
      },
      {
        "duration": 4,
        "start_time": "2024-11-12T08:49:36.789Z"
      },
      {
        "duration": 16,
        "start_time": "2024-11-12T08:49:36.795Z"
      },
      {
        "duration": 17,
        "start_time": "2024-11-12T08:49:36.813Z"
      },
      {
        "duration": 11,
        "start_time": "2024-11-12T08:49:36.831Z"
      },
      {
        "duration": 26,
        "start_time": "2024-11-12T08:49:36.844Z"
      },
      {
        "duration": 5,
        "start_time": "2024-11-12T08:49:36.872Z"
      },
      {
        "duration": 3597,
        "start_time": "2024-11-12T08:49:36.879Z"
      },
      {
        "duration": 5,
        "start_time": "2024-11-12T08:49:40.477Z"
      },
      {
        "duration": 11,
        "start_time": "2024-11-12T08:49:40.484Z"
      },
      {
        "duration": 1056,
        "start_time": "2024-11-12T08:49:40.496Z"
      },
      {
        "duration": 4,
        "start_time": "2024-11-12T08:49:41.554Z"
      },
      {
        "duration": 16,
        "start_time": "2024-11-12T08:49:41.559Z"
      },
      {
        "duration": 5,
        "start_time": "2024-11-12T08:49:41.577Z"
      },
      {
        "duration": 5,
        "start_time": "2024-11-12T08:49:41.583Z"
      },
      {
        "duration": 17,
        "start_time": "2024-11-12T08:49:41.589Z"
      },
      {
        "duration": 12,
        "start_time": "2024-11-12T08:49:41.608Z"
      },
      {
        "duration": 6,
        "start_time": "2024-11-12T08:49:41.622Z"
      },
      {
        "duration": 4,
        "start_time": "2024-11-12T08:49:41.629Z"
      },
      {
        "duration": 4,
        "start_time": "2024-11-12T08:49:41.634Z"
      },
      {
        "duration": 36,
        "start_time": "2024-11-12T08:49:41.640Z"
      },
      {
        "duration": 3,
        "start_time": "2024-11-12T08:49:41.678Z"
      },
      {
        "duration": 8,
        "start_time": "2024-11-12T08:49:41.682Z"
      },
      {
        "duration": 3,
        "start_time": "2024-11-12T08:49:41.691Z"
      },
      {
        "duration": 7,
        "start_time": "2024-11-12T08:49:41.697Z"
      },
      {
        "duration": 23,
        "start_time": "2024-11-12T08:49:41.705Z"
      },
      {
        "duration": 4,
        "start_time": "2024-11-12T08:49:41.730Z"
      },
      {
        "duration": 4,
        "start_time": "2024-11-12T08:49:41.735Z"
      },
      {
        "duration": 2,
        "start_time": "2024-11-12T08:49:41.741Z"
      },
      {
        "duration": 4,
        "start_time": "2024-11-12T08:49:41.777Z"
      },
      {
        "duration": 44,
        "start_time": "2024-11-12T08:49:41.783Z"
      },
      {
        "duration": 14,
        "start_time": "2024-11-12T08:49:41.828Z"
      },
      {
        "duration": 4,
        "start_time": "2024-11-12T08:51:23.113Z"
      },
      {
        "duration": 3,
        "start_time": "2024-11-12T08:51:24.656Z"
      },
      {
        "duration": 403,
        "start_time": "2024-11-12T08:51:27.089Z"
      },
      {
        "duration": 3,
        "start_time": "2024-11-12T08:51:29.815Z"
      },
      {
        "duration": 8,
        "start_time": "2024-11-12T08:51:31.607Z"
      },
      {
        "duration": 5,
        "start_time": "2024-11-12T08:51:44.991Z"
      },
      {
        "duration": 3,
        "start_time": "2024-11-12T08:51:45.656Z"
      },
      {
        "duration": 380,
        "start_time": "2024-11-12T08:51:47.912Z"
      },
      {
        "duration": 4,
        "start_time": "2024-11-12T08:51:50.062Z"
      },
      {
        "duration": 5,
        "start_time": "2024-11-12T08:51:50.712Z"
      },
      {
        "duration": 165,
        "start_time": "2024-11-12T08:56:39.490Z"
      },
      {
        "duration": 4,
        "start_time": "2024-11-12T08:57:02.083Z"
      },
      {
        "duration": 3,
        "start_time": "2024-11-12T08:57:04.186Z"
      },
      {
        "duration": 284,
        "start_time": "2024-11-12T08:57:05.912Z"
      },
      {
        "duration": 4,
        "start_time": "2024-11-12T08:57:07.978Z"
      },
      {
        "duration": 7,
        "start_time": "2024-11-12T08:57:09.706Z"
      },
      {
        "duration": 21,
        "start_time": "2024-11-12T11:41:56.609Z"
      },
      {
        "duration": 3,
        "start_time": "2024-11-12T11:45:03.022Z"
      },
      {
        "duration": 3,
        "start_time": "2024-11-12T11:45:30.198Z"
      },
      {
        "duration": 3,
        "start_time": "2024-11-12T11:50:17.656Z"
      },
      {
        "duration": 30,
        "start_time": "2024-11-12T11:50:50.265Z"
      },
      {
        "duration": 16,
        "start_time": "2024-11-12T11:51:04.995Z"
      },
      {
        "duration": 24,
        "start_time": "2024-11-12T11:51:25.369Z"
      },
      {
        "duration": 42,
        "start_time": "2024-11-12T11:52:30.663Z"
      },
      {
        "duration": 34,
        "start_time": "2024-11-12T12:02:40.064Z"
      },
      {
        "duration": 4,
        "start_time": "2024-11-12T12:07:07.245Z"
      },
      {
        "duration": 3,
        "start_time": "2024-11-12T12:07:13.545Z"
      },
      {
        "duration": 24,
        "start_time": "2024-11-12T12:07:15.545Z"
      },
      {
        "duration": 4,
        "start_time": "2024-11-12T12:07:48.841Z"
      },
      {
        "duration": 3,
        "start_time": "2024-11-12T12:07:49.530Z"
      },
      {
        "duration": 24,
        "start_time": "2024-11-12T12:07:51.402Z"
      },
      {
        "duration": 4,
        "start_time": "2024-11-12T12:08:08.444Z"
      },
      {
        "duration": 8,
        "start_time": "2024-11-12T12:08:08.885Z"
      },
      {
        "duration": 21,
        "start_time": "2024-11-12T12:08:09.818Z"
      },
      {
        "duration": 5,
        "start_time": "2024-11-12T12:11:12.820Z"
      },
      {
        "duration": 7,
        "start_time": "2024-11-12T12:11:30.740Z"
      },
      {
        "duration": 4,
        "start_time": "2024-11-12T12:11:31.180Z"
      },
      {
        "duration": 3,
        "start_time": "2024-11-12T12:11:31.619Z"
      },
      {
        "duration": 2,
        "start_time": "2024-11-12T12:11:32.412Z"
      },
      {
        "duration": 2,
        "start_time": "2024-11-12T12:11:32.837Z"
      },
      {
        "duration": 12,
        "start_time": "2024-11-12T12:11:33.276Z"
      },
      {
        "duration": 2,
        "start_time": "2024-11-12T12:11:34.724Z"
      },
      {
        "duration": 4,
        "start_time": "2024-11-12T12:11:35.108Z"
      },
      {
        "duration": 12,
        "start_time": "2024-11-12T12:11:35.496Z"
      },
      {
        "duration": 3,
        "start_time": "2024-11-12T12:11:35.868Z"
      },
      {
        "duration": 6,
        "start_time": "2024-11-12T12:11:36.286Z"
      },
      {
        "duration": 5,
        "start_time": "2024-11-12T12:11:38.419Z"
      },
      {
        "duration": 4,
        "start_time": "2024-11-12T12:11:49.220Z"
      },
      {
        "duration": 3,
        "start_time": "2024-11-12T12:11:51.731Z"
      },
      {
        "duration": 461,
        "start_time": "2024-11-12T12:11:53.844Z"
      },
      {
        "duration": 6,
        "start_time": "2024-11-12T12:12:03.012Z"
      },
      {
        "duration": 3,
        "start_time": "2024-11-12T12:12:17.443Z"
      },
      {
        "duration": 6,
        "start_time": "2024-11-12T12:12:20.323Z"
      },
      {
        "duration": 7,
        "start_time": "2024-11-12T12:12:20.916Z"
      },
      {
        "duration": 5,
        "start_time": "2024-11-12T12:12:47.012Z"
      },
      {
        "duration": 3,
        "start_time": "2024-11-12T12:12:47.852Z"
      },
      {
        "duration": 532,
        "start_time": "2024-11-12T12:12:49.772Z"
      },
      {
        "duration": 4,
        "start_time": "2024-11-12T12:12:52.964Z"
      },
      {
        "duration": 13,
        "start_time": "2024-11-12T12:12:57.172Z"
      },
      {
        "duration": 6,
        "start_time": "2024-11-12T12:12:59.781Z"
      },
      {
        "duration": 6,
        "start_time": "2024-11-12T12:13:00.404Z"
      },
      {
        "duration": 5,
        "start_time": "2024-11-12T12:13:01.868Z"
      },
      {
        "duration": 4,
        "start_time": "2024-11-12T12:14:00.549Z"
      },
      {
        "duration": 3,
        "start_time": "2024-11-12T12:14:01.436Z"
      },
      {
        "duration": 464,
        "start_time": "2024-11-12T12:14:03.540Z"
      },
      {
        "duration": 4,
        "start_time": "2024-11-12T12:14:06.421Z"
      },
      {
        "duration": 7,
        "start_time": "2024-11-12T12:14:07.861Z"
      },
      {
        "duration": 3,
        "start_time": "2024-11-12T12:14:09.540Z"
      },
      {
        "duration": 5,
        "start_time": "2024-11-12T12:14:10.261Z"
      },
      {
        "duration": 6,
        "start_time": "2024-11-12T12:14:11.541Z"
      },
      {
        "duration": 4,
        "start_time": "2024-11-12T12:14:41.222Z"
      },
      {
        "duration": 3,
        "start_time": "2024-11-12T12:14:41.870Z"
      },
      {
        "duration": 707,
        "start_time": "2024-11-12T12:14:43.693Z"
      },
      {
        "duration": 11,
        "start_time": "2024-11-12T12:14:46.174Z"
      },
      {
        "duration": 8,
        "start_time": "2024-11-12T12:14:46.724Z"
      },
      {
        "duration": 4,
        "start_time": "2024-11-12T12:14:48.832Z"
      },
      {
        "duration": 6,
        "start_time": "2024-11-12T12:14:49.318Z"
      },
      {
        "duration": 6,
        "start_time": "2024-11-12T12:14:50.264Z"
      },
      {
        "duration": 15,
        "start_time": "2024-11-12T12:15:10.078Z"
      },
      {
        "duration": 3,
        "start_time": "2024-11-12T12:15:11.221Z"
      },
      {
        "duration": 712,
        "start_time": "2024-11-12T12:15:13.280Z"
      },
      {
        "duration": 4,
        "start_time": "2024-11-12T12:15:15.902Z"
      },
      {
        "duration": 9,
        "start_time": "2024-11-12T12:15:16.526Z"
      },
      {
        "duration": 3,
        "start_time": "2024-11-12T12:15:19.461Z"
      },
      {
        "duration": 12,
        "start_time": "2024-11-12T12:15:20.087Z"
      },
      {
        "duration": 6,
        "start_time": "2024-11-12T12:15:21.230Z"
      },
      {
        "duration": 3,
        "start_time": "2024-11-12T12:15:34.998Z"
      },
      {
        "duration": 5,
        "start_time": "2024-11-12T12:15:36.366Z"
      },
      {
        "duration": 3,
        "start_time": "2024-11-12T12:15:36.936Z"
      },
      {
        "duration": 3534,
        "start_time": "2024-11-12T12:15:37.974Z"
      },
      {
        "duration": 8,
        "start_time": "2024-11-12T12:15:47.784Z"
      },
      {
        "duration": 15,
        "start_time": "2024-11-12T12:15:48.373Z"
      },
      {
        "duration": 3,
        "start_time": "2024-11-12T12:15:50.046Z"
      },
      {
        "duration": 6,
        "start_time": "2024-11-12T12:15:50.533Z"
      },
      {
        "duration": 6,
        "start_time": "2024-11-12T12:15:51.830Z"
      },
      {
        "duration": 5,
        "start_time": "2024-11-12T12:16:07.142Z"
      },
      {
        "duration": 3,
        "start_time": "2024-11-12T12:16:08.118Z"
      },
      {
        "duration": 5838,
        "start_time": "2024-11-12T12:16:09.246Z"
      },
      {
        "duration": 5,
        "start_time": "2024-11-12T12:16:17.102Z"
      },
      {
        "duration": 9,
        "start_time": "2024-11-12T12:16:17.606Z"
      },
      {
        "duration": 4,
        "start_time": "2024-11-12T12:16:19.750Z"
      },
      {
        "duration": 5,
        "start_time": "2024-11-12T12:16:20.214Z"
      },
      {
        "duration": 6,
        "start_time": "2024-11-12T12:16:21.102Z"
      },
      {
        "duration": 5,
        "start_time": "2024-11-12T12:23:36.858Z"
      },
      {
        "duration": 5,
        "start_time": "2024-11-12T12:25:36.524Z"
      },
      {
        "duration": 3,
        "start_time": "2024-11-12T12:25:38.024Z"
      },
      {
        "duration": 4260,
        "start_time": "2024-11-12T12:25:44.131Z"
      },
      {
        "duration": 4,
        "start_time": "2024-11-12T12:27:46.453Z"
      },
      {
        "duration": 10,
        "start_time": "2024-11-12T12:27:47.487Z"
      },
      {
        "duration": 3,
        "start_time": "2024-11-12T12:27:49.548Z"
      },
      {
        "duration": 5,
        "start_time": "2024-11-12T12:27:50.261Z"
      },
      {
        "duration": 17,
        "start_time": "2024-11-12T12:27:52.478Z"
      },
      {
        "duration": 7649,
        "start_time": "2024-11-12T15:50:19.732Z"
      },
      {
        "duration": 2519,
        "start_time": "2024-11-12T15:50:27.383Z"
      },
      {
        "duration": 5,
        "start_time": "2024-11-12T15:50:29.904Z"
      },
      {
        "duration": 78,
        "start_time": "2024-11-12T15:50:29.911Z"
      },
      {
        "duration": 13,
        "start_time": "2024-11-12T15:50:29.991Z"
      },
      {
        "duration": 108,
        "start_time": "2024-11-12T15:50:30.005Z"
      },
      {
        "duration": 34,
        "start_time": "2024-11-12T15:50:30.114Z"
      },
      {
        "duration": 77,
        "start_time": "2024-11-12T15:50:30.149Z"
      },
      {
        "duration": 106,
        "start_time": "2024-11-12T15:50:30.228Z"
      },
      {
        "duration": 5,
        "start_time": "2024-11-12T15:50:30.335Z"
      },
      {
        "duration": 27,
        "start_time": "2024-11-12T15:50:30.341Z"
      },
      {
        "duration": 3062,
        "start_time": "2024-11-12T15:50:30.369Z"
      },
      {
        "duration": 5,
        "start_time": "2024-11-12T15:50:33.432Z"
      },
      {
        "duration": 16,
        "start_time": "2024-11-12T15:50:33.440Z"
      },
      {
        "duration": 46,
        "start_time": "2024-11-12T15:50:33.457Z"
      },
      {
        "duration": 41,
        "start_time": "2024-11-12T15:50:33.504Z"
      },
      {
        "duration": 22,
        "start_time": "2024-11-12T15:50:33.547Z"
      },
      {
        "duration": 16,
        "start_time": "2024-11-12T15:50:33.571Z"
      },
      {
        "duration": 9,
        "start_time": "2024-11-12T15:50:33.589Z"
      },
      {
        "duration": 11,
        "start_time": "2024-11-12T15:50:33.599Z"
      },
      {
        "duration": 6,
        "start_time": "2024-11-12T15:50:33.611Z"
      },
      {
        "duration": 14,
        "start_time": "2024-11-12T15:50:33.618Z"
      },
      {
        "duration": 19,
        "start_time": "2024-11-12T15:50:33.633Z"
      },
      {
        "duration": 2820,
        "start_time": "2024-11-12T15:50:33.654Z"
      },
      {
        "duration": 3,
        "start_time": "2024-11-12T15:50:36.476Z"
      },
      {
        "duration": 18,
        "start_time": "2024-11-12T15:50:36.480Z"
      },
      {
        "duration": 886,
        "start_time": "2024-11-12T15:50:36.499Z"
      },
      {
        "duration": 4,
        "start_time": "2024-11-12T15:50:37.386Z"
      },
      {
        "duration": 14,
        "start_time": "2024-11-12T15:50:37.391Z"
      },
      {
        "duration": 6,
        "start_time": "2024-11-12T15:50:37.407Z"
      },
      {
        "duration": 6,
        "start_time": "2024-11-12T15:50:37.415Z"
      },
      {
        "duration": 24,
        "start_time": "2024-11-12T15:50:37.422Z"
      },
      {
        "duration": 19,
        "start_time": "2024-11-12T15:50:37.448Z"
      },
      {
        "duration": 12,
        "start_time": "2024-11-12T15:50:37.468Z"
      },
      {
        "duration": 21,
        "start_time": "2024-11-12T15:50:37.481Z"
      },
      {
        "duration": 11,
        "start_time": "2024-11-12T15:50:37.503Z"
      },
      {
        "duration": 7,
        "start_time": "2024-11-12T15:50:37.516Z"
      },
      {
        "duration": 9,
        "start_time": "2024-11-12T15:50:37.524Z"
      },
      {
        "duration": 17,
        "start_time": "2024-11-12T15:50:37.534Z"
      },
      {
        "duration": 25,
        "start_time": "2024-11-12T15:50:37.552Z"
      },
      {
        "duration": 25,
        "start_time": "2024-11-12T15:50:37.580Z"
      },
      {
        "duration": 28,
        "start_time": "2024-11-12T15:50:37.606Z"
      },
      {
        "duration": 24,
        "start_time": "2024-11-12T15:50:37.636Z"
      },
      {
        "duration": 6,
        "start_time": "2024-11-12T15:50:37.661Z"
      },
      {
        "duration": 8,
        "start_time": "2024-11-12T15:50:37.669Z"
      },
      {
        "duration": 26,
        "start_time": "2024-11-12T15:50:37.679Z"
      },
      {
        "duration": 4,
        "start_time": "2024-11-12T15:50:40.367Z"
      },
      {
        "duration": 4,
        "start_time": "2024-11-12T15:50:42.357Z"
      },
      {
        "duration": 2,
        "start_time": "2024-11-12T15:50:43.721Z"
      },
      {
        "duration": 3,
        "start_time": "2024-11-12T15:50:45.135Z"
      },
      {
        "duration": 3716,
        "start_time": "2024-11-12T15:50:45.791Z"
      },
      {
        "duration": 3,
        "start_time": "2024-11-12T15:50:52.027Z"
      },
      {
        "duration": 6,
        "start_time": "2024-11-12T15:50:53.502Z"
      },
      {
        "duration": 3,
        "start_time": "2024-11-12T15:50:56.959Z"
      },
      {
        "duration": 5,
        "start_time": "2024-11-12T15:50:57.945Z"
      },
      {
        "duration": 5,
        "start_time": "2024-11-12T15:50:59.484Z"
      },
      {
        "duration": 4,
        "start_time": "2024-11-12T15:51:48.721Z"
      },
      {
        "duration": 5245,
        "start_time": "2024-11-12T15:52:01.004Z"
      },
      {
        "duration": 7,
        "start_time": "2024-11-12T15:52:06.252Z"
      },
      {
        "duration": 56,
        "start_time": "2024-11-12T15:52:06.260Z"
      },
      {
        "duration": 113,
        "start_time": "2024-11-12T15:52:06.318Z"
      },
      {
        "duration": 9,
        "start_time": "2024-11-12T15:52:06.432Z"
      },
      {
        "duration": 47,
        "start_time": "2024-11-12T15:52:06.443Z"
      },
      {
        "duration": 15,
        "start_time": "2024-11-12T15:52:06.491Z"
      },
      {
        "duration": 12,
        "start_time": "2024-11-12T15:52:06.508Z"
      },
      {
        "duration": 79,
        "start_time": "2024-11-12T15:52:06.521Z"
      },
      {
        "duration": 8,
        "start_time": "2024-11-12T15:52:06.602Z"
      },
      {
        "duration": 53,
        "start_time": "2024-11-12T15:52:06.611Z"
      },
      {
        "duration": 2972,
        "start_time": "2024-11-12T15:52:06.665Z"
      },
      {
        "duration": 5,
        "start_time": "2024-11-12T15:52:09.639Z"
      },
      {
        "duration": 20,
        "start_time": "2024-11-12T15:52:09.645Z"
      },
      {
        "duration": 6,
        "start_time": "2024-11-12T15:52:09.666Z"
      },
      {
        "duration": 20,
        "start_time": "2024-11-12T15:52:09.674Z"
      },
      {
        "duration": 7,
        "start_time": "2024-11-12T15:52:09.696Z"
      },
      {
        "duration": 87,
        "start_time": "2024-11-12T15:52:09.704Z"
      },
      {
        "duration": 75,
        "start_time": "2024-11-12T15:52:09.792Z"
      },
      {
        "duration": 7,
        "start_time": "2024-11-12T15:52:09.869Z"
      },
      {
        "duration": 8,
        "start_time": "2024-11-12T15:52:09.877Z"
      },
      {
        "duration": 9,
        "start_time": "2024-11-12T15:52:09.886Z"
      },
      {
        "duration": 10,
        "start_time": "2024-11-12T15:52:09.896Z"
      },
      {
        "duration": 2904,
        "start_time": "2024-11-12T15:52:09.908Z"
      },
      {
        "duration": 4,
        "start_time": "2024-11-12T15:52:12.813Z"
      },
      {
        "duration": 14,
        "start_time": "2024-11-12T15:52:12.818Z"
      },
      {
        "duration": 748,
        "start_time": "2024-11-12T15:52:12.833Z"
      },
      {
        "duration": 4,
        "start_time": "2024-11-12T15:52:13.585Z"
      },
      {
        "duration": 9,
        "start_time": "2024-11-12T15:52:13.590Z"
      },
      {
        "duration": 8,
        "start_time": "2024-11-12T15:52:13.600Z"
      },
      {
        "duration": 13,
        "start_time": "2024-11-12T15:52:13.609Z"
      },
      {
        "duration": 20,
        "start_time": "2024-11-12T15:52:13.623Z"
      },
      {
        "duration": 11,
        "start_time": "2024-11-12T15:52:13.645Z"
      },
      {
        "duration": 13,
        "start_time": "2024-11-12T15:52:13.658Z"
      },
      {
        "duration": 33,
        "start_time": "2024-11-12T15:52:13.672Z"
      },
      {
        "duration": 18,
        "start_time": "2024-11-12T15:52:13.707Z"
      },
      {
        "duration": 5,
        "start_time": "2024-11-12T15:52:13.726Z"
      },
      {
        "duration": 6,
        "start_time": "2024-11-12T15:52:13.732Z"
      },
      {
        "duration": 153,
        "start_time": "2024-11-12T15:52:13.739Z"
      },
      {
        "duration": 16,
        "start_time": "2024-11-12T15:52:13.893Z"
      },
      {
        "duration": 10,
        "start_time": "2024-11-12T15:52:13.911Z"
      },
      {
        "duration": 11,
        "start_time": "2024-11-12T15:52:13.922Z"
      },
      {
        "duration": 8,
        "start_time": "2024-11-12T15:52:13.934Z"
      },
      {
        "duration": 7,
        "start_time": "2024-11-12T15:52:13.943Z"
      },
      {
        "duration": 9,
        "start_time": "2024-11-12T15:52:13.951Z"
      },
      {
        "duration": 31,
        "start_time": "2024-11-12T15:52:13.961Z"
      },
      {
        "duration": 55,
        "start_time": "2024-11-12T15:52:13.994Z"
      },
      {
        "duration": 15,
        "start_time": "2024-11-12T15:52:14.051Z"
      },
      {
        "duration": 10,
        "start_time": "2024-11-12T15:52:14.067Z"
      },
      {
        "duration": 18,
        "start_time": "2024-11-12T15:52:14.078Z"
      },
      {
        "duration": 3810,
        "start_time": "2024-11-12T15:52:14.097Z"
      },
      {
        "duration": 4,
        "start_time": "2024-11-12T15:52:17.908Z"
      },
      {
        "duration": 21,
        "start_time": "2024-11-12T15:52:17.913Z"
      },
      {
        "duration": 3,
        "start_time": "2024-11-12T15:52:17.935Z"
      },
      {
        "duration": 13,
        "start_time": "2024-11-12T15:52:17.939Z"
      },
      {
        "duration": 40,
        "start_time": "2024-11-12T15:52:18.008Z"
      },
      {
        "duration": 4,
        "start_time": "2024-11-12T15:52:46.279Z"
      },
      {
        "duration": 2,
        "start_time": "2024-11-12T15:52:47.639Z"
      },
      {
        "duration": 2,
        "start_time": "2024-11-12T15:52:48.046Z"
      },
      {
        "duration": 3703,
        "start_time": "2024-11-12T15:52:48.914Z"
      },
      {
        "duration": 3,
        "start_time": "2024-11-12T15:52:54.499Z"
      },
      {
        "duration": 8,
        "start_time": "2024-11-12T15:52:55.026Z"
      },
      {
        "duration": 4,
        "start_time": "2024-11-12T15:52:56.929Z"
      },
      {
        "duration": 7,
        "start_time": "2024-11-12T15:52:57.331Z"
      },
      {
        "duration": 6,
        "start_time": "2024-11-12T15:52:57.829Z"
      },
      {
        "duration": 3643,
        "start_time": "2024-11-12T15:53:34.177Z"
      },
      {
        "duration": 3900,
        "start_time": "2024-11-12T15:54:39.611Z"
      },
      {
        "duration": 3471,
        "start_time": "2024-11-12T15:54:54.345Z"
      },
      {
        "duration": 3795,
        "start_time": "2024-11-12T15:55:09.029Z"
      },
      {
        "duration": 2,
        "start_time": "2024-11-12T15:55:24.213Z"
      },
      {
        "duration": 2,
        "start_time": "2024-11-12T15:55:24.921Z"
      },
      {
        "duration": 33100,
        "start_time": "2024-11-12T15:55:25.413Z"
      },
      {
        "duration": 4,
        "start_time": "2024-11-12T15:56:27.449Z"
      },
      {
        "duration": 3,
        "start_time": "2024-11-12T15:56:28.323Z"
      },
      {
        "duration": 2,
        "start_time": "2024-11-12T15:56:28.749Z"
      },
      {
        "duration": 38546,
        "start_time": "2024-11-12T15:56:29.273Z"
      },
      {
        "duration": 4,
        "start_time": "2024-11-12T15:57:42.029Z"
      },
      {
        "duration": 3,
        "start_time": "2024-11-12T15:57:42.431Z"
      },
      {
        "duration": 2,
        "start_time": "2024-11-12T15:57:43.062Z"
      },
      {
        "duration": 2131,
        "start_time": "2024-11-12T15:57:44.495Z"
      },
      {
        "duration": 3,
        "start_time": "2024-11-12T15:57:59.483Z"
      },
      {
        "duration": 2,
        "start_time": "2024-11-12T15:57:59.873Z"
      },
      {
        "duration": 4995,
        "start_time": "2024-11-12T15:58:00.221Z"
      },
      {
        "duration": 3,
        "start_time": "2024-11-12T15:58:15.190Z"
      },
      {
        "duration": 2,
        "start_time": "2024-11-12T15:58:15.800Z"
      },
      {
        "duration": 2397,
        "start_time": "2024-11-12T15:58:16.527Z"
      },
      {
        "duration": 4,
        "start_time": "2024-11-12T15:58:26.729Z"
      },
      {
        "duration": 3,
        "start_time": "2024-11-12T15:58:27.232Z"
      },
      {
        "duration": 2,
        "start_time": "2024-11-12T15:58:28.757Z"
      },
      {
        "duration": 4737,
        "start_time": "2024-11-12T15:58:29.276Z"
      },
      {
        "duration": 16,
        "start_time": "2024-11-12T15:58:40.602Z"
      },
      {
        "duration": 3,
        "start_time": "2024-11-12T15:58:41.214Z"
      },
      {
        "duration": 2,
        "start_time": "2024-11-12T15:58:41.657Z"
      },
      {
        "duration": 18416,
        "start_time": "2024-11-12T15:58:42.104Z"
      },
      {
        "duration": 4,
        "start_time": "2024-11-12T15:59:10.934Z"
      },
      {
        "duration": 8,
        "start_time": "2024-11-12T15:59:15.777Z"
      },
      {
        "duration": 3,
        "start_time": "2024-11-12T15:59:18.499Z"
      },
      {
        "duration": 6,
        "start_time": "2024-11-12T15:59:19.346Z"
      },
      {
        "duration": 6,
        "start_time": "2024-11-12T15:59:21.282Z"
      },
      {
        "duration": 154,
        "start_time": "2024-11-12T16:00:13.585Z"
      },
      {
        "duration": 11,
        "start_time": "2024-11-12T16:00:25.301Z"
      },
      {
        "duration": 5,
        "start_time": "2024-11-12T16:00:48.342Z"
      },
      {
        "duration": 20473,
        "start_time": "2024-11-12T16:01:41.043Z"
      },
      {
        "duration": 10,
        "start_time": "2024-11-12T16:02:08.498Z"
      },
      {
        "duration": 3,
        "start_time": "2024-11-12T16:02:10.047Z"
      },
      {
        "duration": 2,
        "start_time": "2024-11-12T16:02:10.507Z"
      },
      {
        "duration": 17195,
        "start_time": "2024-11-12T16:02:12.431Z"
      },
      {
        "duration": 12,
        "start_time": "2024-11-12T16:02:34.872Z"
      },
      {
        "duration": 3,
        "start_time": "2024-11-12T16:02:37.470Z"
      },
      {
        "duration": 2,
        "start_time": "2024-11-12T16:02:38.052Z"
      },
      {
        "duration": 15023,
        "start_time": "2024-11-12T16:02:38.700Z"
      },
      {
        "duration": 20,
        "start_time": "2024-11-12T16:04:18.124Z"
      },
      {
        "duration": 4,
        "start_time": "2024-11-12T16:04:20.256Z"
      },
      {
        "duration": 2,
        "start_time": "2024-11-12T16:04:21.749Z"
      },
      {
        "duration": 40518,
        "start_time": "2024-11-12T16:04:22.492Z"
      },
      {
        "duration": 11,
        "start_time": "2024-11-12T16:06:26.814Z"
      },
      {
        "duration": 26,
        "start_time": "2024-11-12T16:06:27.150Z"
      },
      {
        "duration": 2,
        "start_time": "2024-11-12T16:06:35.121Z"
      },
      {
        "duration": 3,
        "start_time": "2024-11-12T16:06:35.406Z"
      },
      {
        "duration": 10,
        "start_time": "2024-11-12T16:06:35.727Z"
      },
      {
        "duration": 11,
        "start_time": "2024-11-12T16:06:36.073Z"
      },
      {
        "duration": 5,
        "start_time": "2024-11-12T16:06:38.530Z"
      },
      {
        "duration": 3,
        "start_time": "2024-11-12T16:06:38.964Z"
      },
      {
        "duration": 3,
        "start_time": "2024-11-12T16:06:39.304Z"
      },
      {
        "duration": 3,
        "start_time": "2024-11-12T16:06:40.029Z"
      },
      {
        "duration": 3,
        "start_time": "2024-11-12T16:06:40.384Z"
      },
      {
        "duration": 7,
        "start_time": "2024-11-12T16:06:40.800Z"
      },
      {
        "duration": 3,
        "start_time": "2024-11-12T16:06:41.241Z"
      },
      {
        "duration": 3,
        "start_time": "2024-11-12T16:06:41.876Z"
      },
      {
        "duration": 10,
        "start_time": "2024-11-12T16:06:42.187Z"
      },
      {
        "duration": 2,
        "start_time": "2024-11-12T16:06:42.525Z"
      },
      {
        "duration": 3,
        "start_time": "2024-11-12T16:06:42.873Z"
      },
      {
        "duration": 4,
        "start_time": "2024-11-12T16:06:43.311Z"
      },
      {
        "duration": 2,
        "start_time": "2024-11-12T16:06:44.304Z"
      },
      {
        "duration": 5,
        "start_time": "2024-11-12T16:06:45.692Z"
      },
      {
        "duration": 28,
        "start_time": "2024-11-12T16:06:48.124Z"
      },
      {
        "duration": 2,
        "start_time": "2024-11-12T16:06:50.103Z"
      },
      {
        "duration": 2,
        "start_time": "2024-11-12T16:06:51.256Z"
      },
      {
        "duration": 44160,
        "start_time": "2024-11-12T16:06:51.860Z"
      },
      {
        "duration": 25,
        "start_time": "2024-11-12T16:07:57.534Z"
      },
      {
        "duration": 3,
        "start_time": "2024-11-12T16:07:58.106Z"
      },
      {
        "duration": 3,
        "start_time": "2024-11-12T16:07:58.506Z"
      },
      {
        "duration": 55336,
        "start_time": "2024-11-12T16:07:59.584Z"
      },
      {
        "duration": 22,
        "start_time": "2024-11-12T16:10:07.197Z"
      },
      {
        "duration": 3,
        "start_time": "2024-11-12T16:10:07.820Z"
      },
      {
        "duration": 2,
        "start_time": "2024-11-12T16:10:09.385Z"
      },
      {
        "duration": 54405,
        "start_time": "2024-11-12T16:10:09.917Z"
      },
      {
        "duration": 12,
        "start_time": "2024-11-12T16:11:32.964Z"
      },
      {
        "duration": 3,
        "start_time": "2024-11-12T16:11:33.503Z"
      },
      {
        "duration": 2,
        "start_time": "2024-11-12T16:11:34.020Z"
      },
      {
        "duration": 33559,
        "start_time": "2024-11-12T16:11:34.469Z"
      },
      {
        "duration": 12,
        "start_time": "2024-11-12T16:12:18.097Z"
      },
      {
        "duration": 3,
        "start_time": "2024-11-12T16:12:19.186Z"
      },
      {
        "duration": 2,
        "start_time": "2024-11-12T16:12:19.314Z"
      },
      {
        "duration": 32477,
        "start_time": "2024-11-12T16:12:20.341Z"
      },
      {
        "duration": 4,
        "start_time": "2024-11-12T16:14:58.679Z"
      },
      {
        "duration": 9,
        "start_time": "2024-11-12T16:15:05.875Z"
      },
      {
        "duration": 4,
        "start_time": "2024-11-12T16:15:13.635Z"
      },
      {
        "duration": 6,
        "start_time": "2024-11-12T16:15:14.365Z"
      },
      {
        "duration": 5,
        "start_time": "2024-11-12T16:15:34.121Z"
      },
      {
        "duration": 9,
        "start_time": "2024-11-12T16:16:08.743Z"
      },
      {
        "duration": 11,
        "start_time": "2024-11-12T16:16:38.026Z"
      },
      {
        "duration": 10,
        "start_time": "2024-11-12T16:18:37.386Z"
      },
      {
        "duration": 89,
        "start_time": "2024-11-12T16:19:06.338Z"
      },
      {
        "duration": 8,
        "start_time": "2024-11-12T16:19:10.853Z"
      },
      {
        "duration": 4,
        "start_time": "2024-11-12T16:26:12.884Z"
      },
      {
        "duration": 6,
        "start_time": "2024-11-12T16:26:28.827Z"
      },
      {
        "duration": 5,
        "start_time": "2024-11-12T16:30:01.291Z"
      },
      {
        "duration": 11,
        "start_time": "2024-11-12T16:30:28.182Z"
      },
      {
        "duration": 5,
        "start_time": "2024-11-12T16:30:32.833Z"
      },
      {
        "duration": 10,
        "start_time": "2024-11-12T16:32:04.046Z"
      },
      {
        "duration": 6,
        "start_time": "2024-11-12T16:32:19.180Z"
      },
      {
        "duration": 3,
        "start_time": "2024-11-12T16:33:15.405Z"
      },
      {
        "duration": 3,
        "start_time": "2024-11-12T16:33:42.714Z"
      },
      {
        "duration": 3,
        "start_time": "2024-11-12T16:34:13.914Z"
      },
      {
        "duration": 3,
        "start_time": "2024-11-12T16:34:23.510Z"
      },
      {
        "duration": 6,
        "start_time": "2024-11-12T16:35:09.017Z"
      },
      {
        "duration": 3,
        "start_time": "2024-11-12T16:35:25.150Z"
      },
      {
        "duration": 5,
        "start_time": "2024-11-12T16:35:31.894Z"
      },
      {
        "duration": 8,
        "start_time": "2024-11-12T16:35:41.261Z"
      },
      {
        "duration": 6,
        "start_time": "2024-11-12T16:35:59.978Z"
      },
      {
        "duration": 4,
        "start_time": "2024-11-12T16:36:00.937Z"
      },
      {
        "duration": 3,
        "start_time": "2024-11-12T16:36:01.796Z"
      },
      {
        "duration": 3,
        "start_time": "2024-11-12T16:36:05.270Z"
      },
      {
        "duration": 3,
        "start_time": "2024-11-12T16:36:06.644Z"
      },
      {
        "duration": 7,
        "start_time": "2024-11-12T16:36:12.690Z"
      },
      {
        "duration": 3,
        "start_time": "2024-11-12T16:36:14.976Z"
      },
      {
        "duration": 8,
        "start_time": "2024-11-12T16:36:15.798Z"
      },
      {
        "duration": 5,
        "start_time": "2024-11-12T16:36:21.535Z"
      },
      {
        "duration": 3,
        "start_time": "2024-11-12T16:52:40.228Z"
      },
      {
        "duration": 5,
        "start_time": "2024-11-12T16:52:41.753Z"
      },
      {
        "duration": 4,
        "start_time": "2024-11-12T16:53:18.230Z"
      },
      {
        "duration": 955,
        "start_time": "2024-11-12T16:53:32.072Z"
      },
      {
        "duration": 4,
        "start_time": "2024-11-12T16:53:42.483Z"
      },
      {
        "duration": 6,
        "start_time": "2024-11-12T16:53:50.377Z"
      },
      {
        "duration": 13,
        "start_time": "2024-11-12T16:54:37.305Z"
      },
      {
        "duration": 3,
        "start_time": "2024-11-12T16:54:48.326Z"
      },
      {
        "duration": 10,
        "start_time": "2024-11-12T16:54:55.357Z"
      },
      {
        "duration": 156,
        "start_time": "2024-11-12T16:56:43.206Z"
      },
      {
        "duration": 144,
        "start_time": "2024-11-12T16:57:09.880Z"
      },
      {
        "duration": 181,
        "start_time": "2024-11-12T16:58:49.377Z"
      },
      {
        "duration": 328,
        "start_time": "2024-11-12T16:59:03.538Z"
      },
      {
        "duration": 155,
        "start_time": "2024-11-12T17:00:14.055Z"
      },
      {
        "duration": 166,
        "start_time": "2024-11-12T17:00:27.593Z"
      },
      {
        "duration": 143,
        "start_time": "2024-11-12T17:02:01.822Z"
      },
      {
        "duration": 99,
        "start_time": "2024-11-12T17:02:13.281Z"
      },
      {
        "duration": 17,
        "start_time": "2024-11-12T17:06:32.318Z"
      },
      {
        "duration": 18,
        "start_time": "2024-11-12T17:06:46.684Z"
      },
      {
        "duration": 10,
        "start_time": "2024-11-12T17:07:05.275Z"
      },
      {
        "duration": 88,
        "start_time": "2024-11-12T17:07:20.923Z"
      },
      {
        "duration": 110,
        "start_time": "2024-11-12T17:07:50.116Z"
      },
      {
        "duration": 111,
        "start_time": "2024-11-12T17:08:11.616Z"
      },
      {
        "duration": 16,
        "start_time": "2024-11-12T17:08:23.818Z"
      },
      {
        "duration": 9,
        "start_time": "2024-11-12T17:08:43.940Z"
      },
      {
        "duration": 15,
        "start_time": "2024-11-12T17:08:58.066Z"
      },
      {
        "duration": 10,
        "start_time": "2024-11-12T17:09:13.343Z"
      },
      {
        "duration": 107,
        "start_time": "2024-11-12T17:09:19.279Z"
      },
      {
        "duration": 184,
        "start_time": "2024-11-12T17:09:28.757Z"
      },
      {
        "duration": 15,
        "start_time": "2024-11-12T17:49:01.982Z"
      },
      {
        "duration": 218,
        "start_time": "2024-11-12T17:49:20.551Z"
      },
      {
        "duration": 2872,
        "start_time": "2024-11-12T17:49:28.122Z"
      },
      {
        "duration": 2754,
        "start_time": "2024-11-12T17:50:53.668Z"
      },
      {
        "duration": 203,
        "start_time": "2024-11-12T17:51:12.151Z"
      },
      {
        "duration": 199,
        "start_time": "2024-11-12T17:51:20.130Z"
      },
      {
        "duration": 327,
        "start_time": "2024-11-12T17:52:04.603Z"
      },
      {
        "duration": 202,
        "start_time": "2024-11-12T17:52:14.357Z"
      },
      {
        "duration": 160,
        "start_time": "2024-11-12T17:55:28.867Z"
      },
      {
        "duration": 193,
        "start_time": "2024-11-12T17:55:38.754Z"
      },
      {
        "duration": 200,
        "start_time": "2024-11-12T17:55:47.082Z"
      },
      {
        "duration": 161,
        "start_time": "2024-11-12T17:56:02.049Z"
      },
      {
        "duration": 7792,
        "start_time": "2024-11-13T03:40:44.431Z"
      },
      {
        "duration": 3015,
        "start_time": "2024-11-13T03:40:52.226Z"
      },
      {
        "duration": 7,
        "start_time": "2024-11-13T03:40:55.243Z"
      },
      {
        "duration": 97,
        "start_time": "2024-11-13T03:40:55.252Z"
      },
      {
        "duration": 15,
        "start_time": "2024-11-13T03:40:55.350Z"
      },
      {
        "duration": 20,
        "start_time": "2024-11-13T03:40:55.367Z"
      },
      {
        "duration": 27,
        "start_time": "2024-11-13T03:40:55.389Z"
      },
      {
        "duration": 14,
        "start_time": "2024-11-13T03:40:55.417Z"
      },
      {
        "duration": 81,
        "start_time": "2024-11-13T03:40:55.433Z"
      },
      {
        "duration": 7,
        "start_time": "2024-11-13T03:40:55.517Z"
      },
      {
        "duration": 6,
        "start_time": "2024-11-13T03:40:55.526Z"
      },
      {
        "duration": 3773,
        "start_time": "2024-11-13T03:40:55.534Z"
      },
      {
        "duration": 13,
        "start_time": "2024-11-13T03:40:59.309Z"
      },
      {
        "duration": 37,
        "start_time": "2024-11-13T03:40:59.324Z"
      },
      {
        "duration": 27,
        "start_time": "2024-11-13T03:40:59.363Z"
      },
      {
        "duration": 18,
        "start_time": "2024-11-13T03:40:59.391Z"
      },
      {
        "duration": 10,
        "start_time": "2024-11-13T03:40:59.411Z"
      },
      {
        "duration": 14,
        "start_time": "2024-11-13T03:40:59.422Z"
      },
      {
        "duration": 68,
        "start_time": "2024-11-13T03:40:59.438Z"
      },
      {
        "duration": 6,
        "start_time": "2024-11-13T03:40:59.507Z"
      },
      {
        "duration": 5,
        "start_time": "2024-11-13T03:40:59.515Z"
      },
      {
        "duration": 5,
        "start_time": "2024-11-13T03:40:59.521Z"
      },
      {
        "duration": 5,
        "start_time": "2024-11-13T03:40:59.528Z"
      },
      {
        "duration": 3662,
        "start_time": "2024-11-13T03:40:59.535Z"
      },
      {
        "duration": 4,
        "start_time": "2024-11-13T03:41:03.199Z"
      },
      {
        "duration": 17,
        "start_time": "2024-11-13T03:41:03.204Z"
      },
      {
        "duration": 863,
        "start_time": "2024-11-13T03:41:03.222Z"
      },
      {
        "duration": 4,
        "start_time": "2024-11-13T03:41:04.091Z"
      },
      {
        "duration": 54,
        "start_time": "2024-11-13T03:41:04.097Z"
      },
      {
        "duration": 22,
        "start_time": "2024-11-13T03:41:04.153Z"
      },
      {
        "duration": 5,
        "start_time": "2024-11-13T03:41:04.177Z"
      },
      {
        "duration": 16,
        "start_time": "2024-11-13T03:41:04.184Z"
      },
      {
        "duration": 11,
        "start_time": "2024-11-13T03:41:04.201Z"
      },
      {
        "duration": 10,
        "start_time": "2024-11-13T03:41:04.214Z"
      },
      {
        "duration": 10,
        "start_time": "2024-11-13T03:41:04.225Z"
      },
      {
        "duration": 6,
        "start_time": "2024-11-13T03:41:04.237Z"
      },
      {
        "duration": 5,
        "start_time": "2024-11-13T03:41:04.244Z"
      },
      {
        "duration": 21,
        "start_time": "2024-11-13T03:41:04.250Z"
      },
      {
        "duration": 11,
        "start_time": "2024-11-13T03:41:04.273Z"
      },
      {
        "duration": 12,
        "start_time": "2024-11-13T03:41:04.285Z"
      },
      {
        "duration": 9,
        "start_time": "2024-11-13T03:41:04.299Z"
      },
      {
        "duration": 12,
        "start_time": "2024-11-13T03:41:04.310Z"
      },
      {
        "duration": 18,
        "start_time": "2024-11-13T03:41:04.323Z"
      },
      {
        "duration": 9,
        "start_time": "2024-11-13T03:41:04.343Z"
      },
      {
        "duration": 18,
        "start_time": "2024-11-13T03:41:04.354Z"
      },
      {
        "duration": 18,
        "start_time": "2024-11-13T03:41:04.374Z"
      },
      {
        "duration": 15,
        "start_time": "2024-11-13T03:41:04.394Z"
      },
      {
        "duration": 12,
        "start_time": "2024-11-13T03:41:04.411Z"
      },
      {
        "duration": 12,
        "start_time": "2024-11-13T03:41:04.425Z"
      },
      {
        "duration": 5,
        "start_time": "2024-11-13T03:41:04.438Z"
      },
      {
        "duration": 37591,
        "start_time": "2024-11-13T03:41:04.444Z"
      },
      {
        "duration": 4,
        "start_time": "2024-11-13T03:41:42.037Z"
      },
      {
        "duration": 83,
        "start_time": "2024-11-13T03:41:42.043Z"
      },
      {
        "duration": 6,
        "start_time": "2024-11-13T03:41:42.127Z"
      },
      {
        "duration": 5,
        "start_time": "2024-11-13T03:41:42.135Z"
      },
      {
        "duration": 6,
        "start_time": "2024-11-13T03:41:42.141Z"
      },
      {
        "duration": 72,
        "start_time": "2024-11-13T03:41:42.149Z"
      },
      {
        "duration": 5,
        "start_time": "2024-11-13T03:41:42.223Z"
      },
      {
        "duration": 8,
        "start_time": "2024-11-13T03:41:42.229Z"
      },
      {
        "duration": 4,
        "start_time": "2024-11-13T03:41:42.238Z"
      },
      {
        "duration": 12,
        "start_time": "2024-11-13T03:41:42.243Z"
      },
      {
        "duration": 14,
        "start_time": "2024-11-13T03:41:42.256Z"
      },
      {
        "duration": 13,
        "start_time": "2024-11-13T03:41:42.271Z"
      },
      {
        "duration": 38,
        "start_time": "2024-11-13T03:41:42.285Z"
      },
      {
        "duration": 3,
        "start_time": "2024-11-13T03:41:42.325Z"
      },
      {
        "duration": 6,
        "start_time": "2024-11-13T03:41:42.330Z"
      },
      {
        "duration": 7,
        "start_time": "2024-11-13T03:41:42.337Z"
      },
      {
        "duration": 19,
        "start_time": "2024-11-13T03:41:42.345Z"
      },
      {
        "duration": 57,
        "start_time": "2024-11-13T03:41:42.366Z"
      },
      {
        "duration": 187,
        "start_time": "2024-11-13T03:43:13.514Z"
      },
      {
        "duration": 19,
        "start_time": "2024-11-13T03:43:28.872Z"
      },
      {
        "duration": 6,
        "start_time": "2024-11-13T03:44:02.362Z"
      },
      {
        "duration": 5,
        "start_time": "2024-11-13T03:44:16.461Z"
      },
      {
        "duration": 16,
        "start_time": "2024-11-13T03:44:28.332Z"
      },
      {
        "duration": 15,
        "start_time": "2024-11-13T03:45:40.808Z"
      },
      {
        "duration": 18,
        "start_time": "2024-11-13T03:45:52.600Z"
      },
      {
        "duration": 16,
        "start_time": "2024-11-13T03:46:07.192Z"
      },
      {
        "duration": 819,
        "start_time": "2024-11-13T03:48:16.268Z"
      },
      {
        "duration": 3558,
        "start_time": "2024-11-13T03:48:44.588Z"
      },
      {
        "duration": 204,
        "start_time": "2024-11-13T03:49:00.876Z"
      },
      {
        "duration": 20,
        "start_time": "2024-11-13T03:49:24.256Z"
      },
      {
        "duration": 21,
        "start_time": "2024-11-13T03:49:37.353Z"
      },
      {
        "duration": 171,
        "start_time": "2024-11-13T03:49:48.510Z"
      },
      {
        "duration": 230,
        "start_time": "2024-11-13T03:50:05.108Z"
      },
      {
        "duration": 9,
        "start_time": "2024-11-13T06:31:11.569Z"
      },
      {
        "duration": 17033,
        "start_time": "2024-11-13T06:36:17.305Z"
      },
      {
        "duration": 218496,
        "start_time": "2024-11-13T06:36:40.144Z"
      },
      {
        "duration": 100,
        "start_time": "2024-11-13T06:43:48.299Z"
      },
      {
        "duration": 234932,
        "start_time": "2024-11-13T06:44:00.105Z"
      },
      {
        "duration": 108721,
        "start_time": "2024-11-13T06:48:10.813Z"
      },
      {
        "duration": 27,
        "start_time": "2024-11-13T06:54:21.833Z"
      },
      {
        "duration": 7,
        "start_time": "2024-11-13T06:59:11.450Z"
      },
      {
        "duration": 3,
        "start_time": "2024-11-13T06:59:13.258Z"
      },
      {
        "duration": 2,
        "start_time": "2024-11-13T06:59:13.653Z"
      },
      {
        "duration": 3,
        "start_time": "2024-11-13T06:59:14.369Z"
      },
      {
        "duration": 3,
        "start_time": "2024-11-13T06:59:14.786Z"
      },
      {
        "duration": 9,
        "start_time": "2024-11-13T06:59:15.178Z"
      },
      {
        "duration": 3,
        "start_time": "2024-11-13T06:59:15.570Z"
      },
      {
        "duration": 4,
        "start_time": "2024-11-13T06:59:15.986Z"
      },
      {
        "duration": 10,
        "start_time": "2024-11-13T06:59:17.667Z"
      },
      {
        "duration": 3,
        "start_time": "2024-11-13T06:59:18.075Z"
      },
      {
        "duration": 4,
        "start_time": "2024-11-13T06:59:18.489Z"
      },
      {
        "duration": 4,
        "start_time": "2024-11-13T06:59:19.164Z"
      },
      {
        "duration": 3,
        "start_time": "2024-11-13T06:59:22.739Z"
      },
      {
        "duration": 5,
        "start_time": "2024-11-13T06:59:23.315Z"
      },
      {
        "duration": 14,
        "start_time": "2024-11-13T07:00:18.803Z"
      },
      {
        "duration": 5,
        "start_time": "2024-11-13T07:00:21.083Z"
      },
      {
        "duration": 2,
        "start_time": "2024-11-13T07:00:22.827Z"
      },
      {
        "duration": 40527,
        "start_time": "2024-11-13T07:00:24.602Z"
      },
      {
        "duration": 14,
        "start_time": "2024-11-13T07:01:33.003Z"
      },
      {
        "duration": 3,
        "start_time": "2024-11-13T07:01:34.722Z"
      },
      {
        "duration": 3,
        "start_time": "2024-11-13T07:01:35.163Z"
      },
      {
        "duration": 30074,
        "start_time": "2024-11-13T07:01:35.852Z"
      },
      {
        "duration": 3,
        "start_time": "2024-11-13T07:02:20.331Z"
      },
      {
        "duration": 3,
        "start_time": "2024-11-13T07:02:23.763Z"
      },
      {
        "duration": 64668,
        "start_time": "2024-11-13T07:02:24.171Z"
      },
      {
        "duration": 14,
        "start_time": "2024-11-13T07:04:48.364Z"
      },
      {
        "duration": 4,
        "start_time": "2024-11-13T07:04:51.212Z"
      },
      {
        "duration": 3,
        "start_time": "2024-11-13T07:04:52.036Z"
      },
      {
        "duration": 62683,
        "start_time": "2024-11-13T07:04:52.549Z"
      },
      {
        "duration": 20,
        "start_time": "2024-11-13T07:06:11.780Z"
      },
      {
        "duration": 4,
        "start_time": "2024-11-13T07:06:13.378Z"
      },
      {
        "duration": 3,
        "start_time": "2024-11-13T07:06:13.708Z"
      },
      {
        "duration": 63097,
        "start_time": "2024-11-13T07:06:14.244Z"
      },
      {
        "duration": 12,
        "start_time": "2024-11-13T07:07:31.389Z"
      },
      {
        "duration": 3,
        "start_time": "2024-11-13T07:07:32.022Z"
      },
      {
        "duration": 3,
        "start_time": "2024-11-13T07:07:33.708Z"
      },
      {
        "duration": 139408,
        "start_time": "2024-11-13T07:07:34.213Z"
      },
      {
        "duration": 10,
        "start_time": "2024-11-13T07:10:16.744Z"
      },
      {
        "duration": 5,
        "start_time": "2024-11-13T07:10:18.319Z"
      },
      {
        "duration": 2,
        "start_time": "2024-11-13T07:10:18.814Z"
      },
      {
        "duration": 49599,
        "start_time": "2024-11-13T07:10:19.343Z"
      },
      {
        "duration": 8,
        "start_time": "2024-11-13T07:13:35.641Z"
      },
      {
        "duration": 3,
        "start_time": "2024-11-13T07:13:37.345Z"
      },
      {
        "duration": 2,
        "start_time": "2024-11-13T07:13:37.744Z"
      },
      {
        "duration": 45998,
        "start_time": "2024-11-13T07:13:38.225Z"
      },
      {
        "duration": 8,
        "start_time": "2024-11-13T07:14:52.154Z"
      },
      {
        "duration": 3,
        "start_time": "2024-11-13T07:14:54.193Z"
      },
      {
        "duration": 3,
        "start_time": "2024-11-13T07:14:54.624Z"
      },
      {
        "duration": 42851,
        "start_time": "2024-11-13T07:14:55.177Z"
      },
      {
        "duration": 7,
        "start_time": "2024-11-13T07:16:20.344Z"
      },
      {
        "duration": 4,
        "start_time": "2024-11-13T07:16:22.081Z"
      },
      {
        "duration": 3,
        "start_time": "2024-11-13T07:16:22.553Z"
      },
      {
        "duration": 40186,
        "start_time": "2024-11-13T07:16:24.153Z"
      },
      {
        "duration": 7,
        "start_time": "2024-11-13T07:18:41.620Z"
      },
      {
        "duration": 3,
        "start_time": "2024-11-13T07:18:43.258Z"
      },
      {
        "duration": 2,
        "start_time": "2024-11-13T07:18:43.691Z"
      },
      {
        "duration": 45652,
        "start_time": "2024-11-13T07:18:44.171Z"
      },
      {
        "duration": 7,
        "start_time": "2024-11-13T07:22:03.402Z"
      },
      {
        "duration": 3,
        "start_time": "2024-11-13T07:22:03.940Z"
      },
      {
        "duration": 2,
        "start_time": "2024-11-13T07:22:04.344Z"
      },
      {
        "duration": 47246,
        "start_time": "2024-11-13T07:22:04.780Z"
      },
      {
        "duration": 7,
        "start_time": "2024-11-13T07:28:04.040Z"
      },
      {
        "duration": 3,
        "start_time": "2024-11-13T07:28:04.535Z"
      },
      {
        "duration": 2,
        "start_time": "2024-11-13T07:28:04.959Z"
      },
      {
        "duration": 42724,
        "start_time": "2024-11-13T07:28:05.415Z"
      },
      {
        "duration": 8,
        "start_time": "2024-11-13T07:38:27.390Z"
      },
      {
        "duration": 4,
        "start_time": "2024-11-13T07:38:29.013Z"
      },
      {
        "duration": 3,
        "start_time": "2024-11-13T07:38:29.444Z"
      },
      {
        "duration": 45719,
        "start_time": "2024-11-13T07:38:29.909Z"
      },
      {
        "duration": 7,
        "start_time": "2024-11-13T07:42:17.900Z"
      },
      {
        "duration": 3,
        "start_time": "2024-11-13T07:42:19.421Z"
      },
      {
        "duration": 2,
        "start_time": "2024-11-13T07:42:19.789Z"
      },
      {
        "duration": 45830,
        "start_time": "2024-11-13T07:42:20.294Z"
      },
      {
        "duration": 28,
        "start_time": "2024-11-13T07:52:02.460Z"
      },
      {
        "duration": 7,
        "start_time": "2024-11-13T07:52:13.316Z"
      },
      {
        "duration": 4,
        "start_time": "2024-11-13T07:52:15.052Z"
      },
      {
        "duration": 3,
        "start_time": "2024-11-13T07:52:15.459Z"
      },
      {
        "duration": 45618,
        "start_time": "2024-11-13T07:52:15.909Z"
      },
      {
        "duration": 7,
        "start_time": "2024-11-13T07:53:21.627Z"
      },
      {
        "duration": 3,
        "start_time": "2024-11-13T07:53:22.156Z"
      },
      {
        "duration": 3,
        "start_time": "2024-11-13T07:53:22.645Z"
      },
      {
        "duration": 47653,
        "start_time": "2024-11-13T07:53:23.085Z"
      },
      {
        "duration": 7,
        "start_time": "2024-11-13T07:54:30.634Z"
      },
      {
        "duration": 4,
        "start_time": "2024-11-13T07:54:31.040Z"
      },
      {
        "duration": 2,
        "start_time": "2024-11-13T07:54:31.402Z"
      },
      {
        "duration": 48829,
        "start_time": "2024-11-13T07:54:31.900Z"
      },
      {
        "duration": 7,
        "start_time": "2024-11-13T07:56:14.566Z"
      },
      {
        "duration": 3,
        "start_time": "2024-11-13T07:56:15.015Z"
      },
      {
        "duration": 3,
        "start_time": "2024-11-13T07:56:15.389Z"
      },
      {
        "duration": 50545,
        "start_time": "2024-11-13T07:56:15.887Z"
      },
      {
        "duration": 8,
        "start_time": "2024-11-13T07:58:34.551Z"
      },
      {
        "duration": 3,
        "start_time": "2024-11-13T07:58:37.200Z"
      },
      {
        "duration": 2,
        "start_time": "2024-11-13T07:58:38.119Z"
      },
      {
        "duration": 48912,
        "start_time": "2024-11-13T07:58:38.623Z"
      },
      {
        "duration": 6,
        "start_time": "2024-11-13T08:02:12.834Z"
      },
      {
        "duration": 3,
        "start_time": "2024-11-13T08:02:13.305Z"
      },
      {
        "duration": 2,
        "start_time": "2024-11-13T08:02:13.715Z"
      },
      {
        "duration": 49283,
        "start_time": "2024-11-13T08:02:14.153Z"
      },
      {
        "duration": 7,
        "start_time": "2024-11-13T08:08:25.509Z"
      },
      {
        "duration": 4,
        "start_time": "2024-11-13T08:08:26.220Z"
      },
      {
        "duration": 2,
        "start_time": "2024-11-13T08:08:26.644Z"
      },
      {
        "duration": 46173,
        "start_time": "2024-11-13T08:08:27.165Z"
      },
      {
        "duration": 12,
        "start_time": "2024-11-13T08:09:45.117Z"
      },
      {
        "duration": 4,
        "start_time": "2024-11-13T08:09:46.037Z"
      },
      {
        "duration": 2,
        "start_time": "2024-11-13T08:09:46.768Z"
      },
      {
        "duration": 47845,
        "start_time": "2024-11-13T08:09:47.293Z"
      },
      {
        "duration": 6,
        "start_time": "2024-11-13T08:11:15.214Z"
      },
      {
        "duration": 4,
        "start_time": "2024-11-13T08:11:15.702Z"
      },
      {
        "duration": 2,
        "start_time": "2024-11-13T08:11:16.095Z"
      },
      {
        "duration": 46565,
        "start_time": "2024-11-13T08:11:16.668Z"
      },
      {
        "duration": 7,
        "start_time": "2024-11-13T08:13:48.984Z"
      },
      {
        "duration": 3,
        "start_time": "2024-11-13T08:13:50.502Z"
      },
      {
        "duration": 2,
        "start_time": "2024-11-13T08:13:50.825Z"
      },
      {
        "duration": 47437,
        "start_time": "2024-11-13T08:13:51.288Z"
      },
      {
        "duration": 8,
        "start_time": "2024-11-13T08:15:01.519Z"
      },
      {
        "duration": 3,
        "start_time": "2024-11-13T08:15:02.355Z"
      },
      {
        "duration": 3,
        "start_time": "2024-11-13T08:15:02.795Z"
      },
      {
        "duration": 47994,
        "start_time": "2024-11-13T08:15:03.353Z"
      },
      {
        "duration": 8,
        "start_time": "2024-11-13T08:16:15.385Z"
      },
      {
        "duration": 3,
        "start_time": "2024-11-13T08:16:15.914Z"
      },
      {
        "duration": 3,
        "start_time": "2024-11-13T08:16:16.319Z"
      },
      {
        "duration": 48651,
        "start_time": "2024-11-13T08:16:16.770Z"
      },
      {
        "duration": 8,
        "start_time": "2024-11-13T08:18:34.547Z"
      },
      {
        "duration": 3,
        "start_time": "2024-11-13T08:18:35.194Z"
      },
      {
        "duration": 3,
        "start_time": "2024-11-13T08:18:35.756Z"
      },
      {
        "duration": 54469,
        "start_time": "2024-11-13T08:18:36.363Z"
      },
      {
        "duration": 7,
        "start_time": "2024-11-13T08:19:46.284Z"
      },
      {
        "duration": 4,
        "start_time": "2024-11-13T08:19:54.081Z"
      },
      {
        "duration": 38,
        "start_time": "2024-11-13T08:19:54.087Z"
      },
      {
        "duration": 60279,
        "start_time": "2024-11-13T08:19:54.251Z"
      },
      {
        "duration": 8,
        "start_time": "2024-11-13T08:22:31.390Z"
      },
      {
        "duration": 4,
        "start_time": "2024-11-13T08:22:31.973Z"
      },
      {
        "duration": 2,
        "start_time": "2024-11-13T08:22:32.398Z"
      },
      {
        "duration": 37476,
        "start_time": "2024-11-13T08:22:32.857Z"
      },
      {
        "duration": 6,
        "start_time": "2024-11-13T08:24:33.303Z"
      },
      {
        "duration": 4,
        "start_time": "2024-11-13T08:24:33.822Z"
      },
      {
        "duration": 2,
        "start_time": "2024-11-13T08:24:34.295Z"
      },
      {
        "duration": 49494,
        "start_time": "2024-11-13T08:24:34.742Z"
      },
      {
        "duration": 7,
        "start_time": "2024-11-13T08:27:04.464Z"
      },
      {
        "duration": 4,
        "start_time": "2024-11-13T08:27:05.103Z"
      },
      {
        "duration": 3,
        "start_time": "2024-11-13T08:27:05.688Z"
      },
      {
        "duration": 45771,
        "start_time": "2024-11-13T08:27:06.257Z"
      },
      {
        "duration": 8,
        "start_time": "2024-11-13T08:28:08.193Z"
      },
      {
        "duration": 3,
        "start_time": "2024-11-13T08:28:09.072Z"
      },
      {
        "duration": 2,
        "start_time": "2024-11-13T08:28:09.542Z"
      },
      {
        "duration": 58084,
        "start_time": "2024-11-13T08:28:10.056Z"
      },
      {
        "duration": 9,
        "start_time": "2024-11-13T08:29:19.282Z"
      },
      {
        "duration": 4,
        "start_time": "2024-11-13T08:29:19.985Z"
      },
      {
        "duration": 3,
        "start_time": "2024-11-13T08:29:20.413Z"
      },
      {
        "duration": 73935,
        "start_time": "2024-11-13T08:29:20.806Z"
      },
      {
        "duration": 9,
        "start_time": "2024-11-13T08:31:30.986Z"
      },
      {
        "duration": 4,
        "start_time": "2024-11-13T08:31:31.497Z"
      },
      {
        "duration": 3,
        "start_time": "2024-11-13T08:31:32.018Z"
      },
      {
        "duration": 86050,
        "start_time": "2024-11-13T08:31:32.483Z"
      },
      {
        "duration": 9,
        "start_time": "2024-11-13T08:33:46.067Z"
      },
      {
        "duration": 5,
        "start_time": "2024-11-13T08:33:46.715Z"
      },
      {
        "duration": 3,
        "start_time": "2024-11-13T08:33:47.155Z"
      },
      {
        "duration": 72578,
        "start_time": "2024-11-13T08:33:47.747Z"
      },
      {
        "duration": 9,
        "start_time": "2024-11-13T08:35:09.933Z"
      },
      {
        "duration": 4,
        "start_time": "2024-11-13T08:35:10.339Z"
      },
      {
        "duration": 2,
        "start_time": "2024-11-13T08:35:10.797Z"
      },
      {
        "duration": 94082,
        "start_time": "2024-11-13T08:35:11.252Z"
      },
      {
        "duration": 11,
        "start_time": "2024-11-13T08:37:31.359Z"
      },
      {
        "duration": 3,
        "start_time": "2024-11-13T08:37:31.949Z"
      },
      {
        "duration": 3,
        "start_time": "2024-11-13T08:37:32.669Z"
      },
      {
        "duration": 179687,
        "start_time": "2024-11-13T08:37:35.743Z"
      },
      {
        "duration": 11,
        "start_time": "2024-11-13T08:41:05.807Z"
      },
      {
        "duration": 3,
        "start_time": "2024-11-13T08:41:09.905Z"
      },
      {
        "duration": 3,
        "start_time": "2024-11-13T08:41:10.358Z"
      },
      {
        "duration": 130874,
        "start_time": "2024-11-13T08:41:10.870Z"
      },
      {
        "duration": 11,
        "start_time": "2024-11-13T08:44:19.701Z"
      },
      {
        "duration": 3,
        "start_time": "2024-11-13T08:44:20.426Z"
      },
      {
        "duration": 3,
        "start_time": "2024-11-13T08:44:20.969Z"
      },
      {
        "duration": 91317,
        "start_time": "2024-11-13T08:44:21.505Z"
      },
      {
        "duration": 13,
        "start_time": "2024-11-13T08:46:14.819Z"
      },
      {
        "duration": 3,
        "start_time": "2024-11-13T08:46:15.507Z"
      },
      {
        "duration": 3,
        "start_time": "2024-11-13T08:46:16.265Z"
      },
      {
        "duration": 10053,
        "start_time": "2024-11-13T08:46:16.875Z"
      },
      {
        "duration": 3,
        "start_time": "2024-11-13T08:47:37.293Z"
      },
      {
        "duration": 2,
        "start_time": "2024-11-13T08:47:37.679Z"
      },
      {
        "duration": 12,
        "start_time": "2024-11-13T08:47:40.173Z"
      },
      {
        "duration": 3,
        "start_time": "2024-11-13T08:47:40.549Z"
      },
      {
        "duration": 3,
        "start_time": "2024-11-13T08:47:40.988Z"
      },
      {
        "duration": 5045,
        "start_time": "2024-11-13T08:47:41.589Z"
      },
      {
        "duration": 3,
        "start_time": "2024-11-13T08:47:56.349Z"
      },
      {
        "duration": 3,
        "start_time": "2024-11-13T08:47:56.741Z"
      },
      {
        "duration": 10,
        "start_time": "2024-11-13T08:48:01.090Z"
      },
      {
        "duration": 3,
        "start_time": "2024-11-13T08:48:01.477Z"
      },
      {
        "duration": 2,
        "start_time": "2024-11-13T08:48:01.861Z"
      },
      {
        "duration": 4551,
        "start_time": "2024-11-13T08:48:02.285Z"
      },
      {
        "duration": 4,
        "start_time": "2024-11-13T08:48:30.894Z"
      },
      {
        "duration": 10,
        "start_time": "2024-11-13T08:48:33.981Z"
      },
      {
        "duration": 4,
        "start_time": "2024-11-13T08:48:37.046Z"
      },
      {
        "duration": 6,
        "start_time": "2024-11-13T08:48:37.822Z"
      },
      {
        "duration": 5,
        "start_time": "2024-11-13T08:48:39.286Z"
      },
      {
        "duration": 4,
        "start_time": "2024-11-13T08:48:42.197Z"
      },
      {
        "duration": 6,
        "start_time": "2024-11-13T08:48:42.629Z"
      },
      {
        "duration": 9,
        "start_time": "2024-11-13T08:48:49.525Z"
      },
      {
        "duration": 3,
        "start_time": "2024-11-13T08:48:50.029Z"
      },
      {
        "duration": 4,
        "start_time": "2024-11-13T08:48:50.446Z"
      },
      {
        "duration": 3,
        "start_time": "2024-11-13T08:48:50.849Z"
      },
      {
        "duration": 5,
        "start_time": "2024-11-13T08:48:51.406Z"
      },
      {
        "duration": 7,
        "start_time": "2024-11-13T08:48:53.046Z"
      },
      {
        "duration": 4,
        "start_time": "2024-11-13T08:48:53.445Z"
      },
      {
        "duration": 4,
        "start_time": "2024-11-13T08:48:53.942Z"
      },
      {
        "duration": 26,
        "start_time": "2024-11-13T08:48:54.398Z"
      },
      {
        "duration": 5639,
        "start_time": "2024-11-13T08:49:33.631Z"
      },
      {
        "duration": 11,
        "start_time": "2024-11-13T08:49:39.272Z"
      },
      {
        "duration": 16,
        "start_time": "2024-11-13T08:49:39.285Z"
      },
      {
        "duration": 31,
        "start_time": "2024-11-13T08:49:39.303Z"
      },
      {
        "duration": 13,
        "start_time": "2024-11-13T08:49:39.335Z"
      },
      {
        "duration": 14,
        "start_time": "2024-11-13T08:49:39.350Z"
      },
      {
        "duration": 31,
        "start_time": "2024-11-13T08:49:39.366Z"
      },
      {
        "duration": 5,
        "start_time": "2024-11-13T08:49:39.399Z"
      },
      {
        "duration": 12,
        "start_time": "2024-11-13T08:49:39.406Z"
      },
      {
        "duration": 4,
        "start_time": "2024-11-13T08:49:39.421Z"
      },
      {
        "duration": 8,
        "start_time": "2024-11-13T08:49:39.426Z"
      },
      {
        "duration": 3839,
        "start_time": "2024-11-13T08:49:39.436Z"
      },
      {
        "duration": 7,
        "start_time": "2024-11-13T08:49:43.277Z"
      },
      {
        "duration": 28,
        "start_time": "2024-11-13T08:49:43.286Z"
      },
      {
        "duration": 15,
        "start_time": "2024-11-13T08:49:43.316Z"
      },
      {
        "duration": 11,
        "start_time": "2024-11-13T08:49:43.332Z"
      },
      {
        "duration": 15,
        "start_time": "2024-11-13T08:49:43.344Z"
      },
      {
        "duration": 12,
        "start_time": "2024-11-13T08:49:43.361Z"
      },
      {
        "duration": 24,
        "start_time": "2024-11-13T08:49:43.375Z"
      },
      {
        "duration": 33,
        "start_time": "2024-11-13T08:49:43.400Z"
      },
      {
        "duration": 10,
        "start_time": "2024-11-13T08:49:43.435Z"
      },
      {
        "duration": 8,
        "start_time": "2024-11-13T08:49:43.446Z"
      },
      {
        "duration": 6,
        "start_time": "2024-11-13T08:49:43.455Z"
      },
      {
        "duration": 3864,
        "start_time": "2024-11-13T08:49:43.463Z"
      },
      {
        "duration": 4,
        "start_time": "2024-11-13T08:49:47.329Z"
      },
      {
        "duration": 40,
        "start_time": "2024-11-13T08:49:47.335Z"
      },
      {
        "duration": 922,
        "start_time": "2024-11-13T08:49:47.377Z"
      },
      {
        "duration": 5,
        "start_time": "2024-11-13T08:49:48.303Z"
      },
      {
        "duration": 14,
        "start_time": "2024-11-13T08:49:48.310Z"
      },
      {
        "duration": 33,
        "start_time": "2024-11-13T08:49:48.325Z"
      },
      {
        "duration": 38,
        "start_time": "2024-11-13T08:49:48.360Z"
      },
      {
        "duration": 22,
        "start_time": "2024-11-13T08:49:48.400Z"
      },
      {
        "duration": 71,
        "start_time": "2024-11-13T08:49:48.423Z"
      },
      {
        "duration": 11,
        "start_time": "2024-11-13T08:49:48.496Z"
      },
      {
        "duration": 14,
        "start_time": "2024-11-13T08:49:48.509Z"
      },
      {
        "duration": 6,
        "start_time": "2024-11-13T08:49:48.525Z"
      },
      {
        "duration": 11,
        "start_time": "2024-11-13T08:49:48.533Z"
      },
      {
        "duration": 7,
        "start_time": "2024-11-13T08:49:48.546Z"
      },
      {
        "duration": 15,
        "start_time": "2024-11-13T08:49:48.555Z"
      },
      {
        "duration": 12,
        "start_time": "2024-11-13T08:49:48.572Z"
      },
      {
        "duration": 76,
        "start_time": "2024-11-13T08:49:48.586Z"
      },
      {
        "duration": 17,
        "start_time": "2024-11-13T08:49:48.664Z"
      },
      {
        "duration": 13,
        "start_time": "2024-11-13T08:49:48.684Z"
      },
      {
        "duration": 7,
        "start_time": "2024-11-13T08:49:48.699Z"
      },
      {
        "duration": 5,
        "start_time": "2024-11-13T08:49:48.708Z"
      },
      {
        "duration": 7,
        "start_time": "2024-11-13T08:49:48.715Z"
      },
      {
        "duration": 12,
        "start_time": "2024-11-13T08:49:48.724Z"
      },
      {
        "duration": 28,
        "start_time": "2024-11-13T08:49:48.739Z"
      },
      {
        "duration": 7,
        "start_time": "2024-11-13T08:49:48.769Z"
      },
      {
        "duration": 15,
        "start_time": "2024-11-13T08:49:48.778Z"
      },
      {
        "duration": 4527,
        "start_time": "2024-11-13T08:49:48.795Z"
      },
      {
        "duration": 4,
        "start_time": "2024-11-13T08:49:53.325Z"
      },
      {
        "duration": 26,
        "start_time": "2024-11-13T08:49:53.332Z"
      },
      {
        "duration": 20,
        "start_time": "2024-11-13T08:49:53.360Z"
      },
      {
        "duration": 37,
        "start_time": "2024-11-13T08:49:53.383Z"
      },
      {
        "duration": 41,
        "start_time": "2024-11-13T08:49:53.422Z"
      },
      {
        "duration": 19,
        "start_time": "2024-11-13T08:49:53.465Z"
      },
      {
        "duration": 14,
        "start_time": "2024-11-13T08:49:53.486Z"
      },
      {
        "duration": 16,
        "start_time": "2024-11-13T08:49:53.502Z"
      },
      {
        "duration": 39,
        "start_time": "2024-11-13T08:49:53.519Z"
      },
      {
        "duration": 29,
        "start_time": "2024-11-13T08:49:53.559Z"
      },
      {
        "duration": 29,
        "start_time": "2024-11-13T08:49:53.590Z"
      },
      {
        "duration": 23,
        "start_time": "2024-11-13T08:49:53.620Z"
      },
      {
        "duration": 79,
        "start_time": "2024-11-13T08:49:53.645Z"
      },
      {
        "duration": 54,
        "start_time": "2024-11-13T08:49:53.726Z"
      },
      {
        "duration": 35,
        "start_time": "2024-11-13T08:49:53.782Z"
      },
      {
        "duration": 26,
        "start_time": "2024-11-13T08:49:53.819Z"
      },
      {
        "duration": 8,
        "start_time": "2024-11-13T08:49:53.847Z"
      },
      {
        "duration": 32,
        "start_time": "2024-11-13T08:49:53.857Z"
      },
      {
        "duration": 37,
        "start_time": "2024-11-13T08:49:53.891Z"
      },
      {
        "duration": 16,
        "start_time": "2024-11-13T08:49:53.930Z"
      },
      {
        "duration": 229,
        "start_time": "2024-11-13T08:49:53.948Z"
      },
      {
        "duration": 224,
        "start_time": "2024-11-13T08:50:32.234Z"
      },
      {
        "duration": 11158,
        "start_time": "2024-11-13T08:51:36.378Z"
      },
      {
        "duration": 3,
        "start_time": "2024-11-13T08:52:13.193Z"
      },
      {
        "duration": 282537,
        "start_time": "2024-11-13T08:52:21.306Z"
      },
      {
        "duration": 159114,
        "start_time": "2024-11-13T08:57:58.822Z"
      },
      {
        "duration": 32731,
        "start_time": "2024-11-13T09:01:04.302Z"
      },
      {
        "duration": 7,
        "start_time": "2024-11-13T09:03:23.403Z"
      },
      {
        "duration": 9,
        "start_time": "2024-11-13T09:04:20.163Z"
      },
      {
        "duration": 3,
        "start_time": "2024-11-13T09:04:22.378Z"
      },
      {
        "duration": 4,
        "start_time": "2024-11-13T09:04:23.049Z"
      },
      {
        "duration": 3,
        "start_time": "2024-11-13T09:04:24.176Z"
      },
      {
        "duration": 3,
        "start_time": "2024-11-13T09:04:24.633Z"
      },
      {
        "duration": 7,
        "start_time": "2024-11-13T09:04:26.177Z"
      },
      {
        "duration": 3,
        "start_time": "2024-11-13T09:04:26.586Z"
      },
      {
        "duration": 4,
        "start_time": "2024-11-13T09:04:27.040Z"
      },
      {
        "duration": 13,
        "start_time": "2024-11-13T09:04:27.494Z"
      },
      {
        "duration": 4,
        "start_time": "2024-11-13T09:04:27.955Z"
      },
      {
        "duration": 5,
        "start_time": "2024-11-13T09:04:29.386Z"
      },
      {
        "duration": 7,
        "start_time": "2024-11-13T09:04:29.786Z"
      },
      {
        "duration": 3,
        "start_time": "2024-11-13T09:04:30.897Z"
      },
      {
        "duration": 5,
        "start_time": "2024-11-13T09:04:31.297Z"
      },
      {
        "duration": 12,
        "start_time": "2024-11-13T09:04:34.476Z"
      },
      {
        "duration": 3,
        "start_time": "2024-11-13T09:04:35.209Z"
      },
      {
        "duration": 3,
        "start_time": "2024-11-13T09:04:36.569Z"
      },
      {
        "duration": 18418,
        "start_time": "2024-11-13T09:04:37.121Z"
      },
      {
        "duration": 7,
        "start_time": "2024-11-13T09:05:16.106Z"
      },
      {
        "duration": 10,
        "start_time": "2024-11-13T09:05:16.730Z"
      },
      {
        "duration": 3,
        "start_time": "2024-11-13T09:05:17.521Z"
      },
      {
        "duration": 3,
        "start_time": "2024-11-13T09:05:18.004Z"
      },
      {
        "duration": 3,
        "start_time": "2024-11-13T09:05:18.769Z"
      },
      {
        "duration": 3,
        "start_time": "2024-11-13T09:05:19.162Z"
      },
      {
        "duration": 8,
        "start_time": "2024-11-13T09:05:19.513Z"
      },
      {
        "duration": 2,
        "start_time": "2024-11-13T09:05:19.898Z"
      },
      {
        "duration": 4,
        "start_time": "2024-11-13T09:05:20.281Z"
      },
      {
        "duration": 9,
        "start_time": "2024-11-13T09:05:20.683Z"
      },
      {
        "duration": 3,
        "start_time": "2024-11-13T09:05:21.066Z"
      },
      {
        "duration": 4,
        "start_time": "2024-11-13T09:05:21.444Z"
      },
      {
        "duration": 4,
        "start_time": "2024-11-13T09:05:21.786Z"
      },
      {
        "duration": 2,
        "start_time": "2024-11-13T09:05:22.521Z"
      },
      {
        "duration": 5,
        "start_time": "2024-11-13T09:05:22.954Z"
      },
      {
        "duration": 9,
        "start_time": "2024-11-13T09:05:25.262Z"
      },
      {
        "duration": 3,
        "start_time": "2024-11-13T09:05:27.010Z"
      },
      {
        "duration": 2,
        "start_time": "2024-11-13T09:05:27.521Z"
      },
      {
        "duration": 31751,
        "start_time": "2024-11-13T09:05:30.283Z"
      },
      {
        "duration": 10,
        "start_time": "2024-11-13T09:06:07.779Z"
      },
      {
        "duration": 3,
        "start_time": "2024-11-13T09:06:08.506Z"
      },
      {
        "duration": 2,
        "start_time": "2024-11-13T09:06:09.146Z"
      },
      {
        "duration": 86621,
        "start_time": "2024-11-13T09:06:09.718Z"
      },
      {
        "duration": 12589,
        "start_time": "2024-11-13T09:08:15.346Z"
      },
      {
        "duration": 0,
        "start_time": "2024-11-13T09:08:27.936Z"
      },
      {
        "duration": 5,
        "start_time": "2024-11-13T09:08:29.747Z"
      },
      {
        "duration": 11,
        "start_time": "2024-11-13T09:08:31.652Z"
      },
      {
        "duration": 14,
        "start_time": "2024-11-13T09:09:02.957Z"
      },
      {
        "duration": 4,
        "start_time": "2024-11-13T09:09:03.580Z"
      },
      {
        "duration": 2,
        "start_time": "2024-11-13T09:09:04.020Z"
      },
      {
        "duration": 84942,
        "start_time": "2024-11-13T09:09:04.580Z"
      },
      {
        "duration": 81772,
        "start_time": "2024-11-13T09:13:58.063Z"
      },
      {
        "duration": 5,
        "start_time": "2024-11-13T09:15:19.837Z"
      },
      {
        "duration": 4,
        "start_time": "2024-11-13T09:15:24.936Z"
      },
      {
        "duration": 10,
        "start_time": "2024-11-13T09:15:25.649Z"
      },
      {
        "duration": 11,
        "start_time": "2024-11-13T09:15:52.913Z"
      },
      {
        "duration": 4,
        "start_time": "2024-11-13T09:15:53.720Z"
      },
      {
        "duration": 3,
        "start_time": "2024-11-13T09:15:55.064Z"
      },
      {
        "duration": 90924,
        "start_time": "2024-11-13T09:15:55.417Z"
      },
      {
        "duration": 4,
        "start_time": "2024-11-13T09:17:35.864Z"
      },
      {
        "duration": 11,
        "start_time": "2024-11-13T09:17:36.513Z"
      },
      {
        "duration": 11,
        "start_time": "2024-11-13T09:18:09.817Z"
      },
      {
        "duration": 3,
        "start_time": "2024-11-13T09:18:10.353Z"
      },
      {
        "duration": 3,
        "start_time": "2024-11-13T09:18:10.753Z"
      },
      {
        "duration": 188302,
        "start_time": "2024-11-13T09:18:11.220Z"
      },
      {
        "duration": 5,
        "start_time": "2024-11-13T09:21:31.497Z"
      },
      {
        "duration": 11,
        "start_time": "2024-11-13T09:21:32.602Z"
      },
      {
        "duration": 6,
        "start_time": "2024-11-13T09:21:36.177Z"
      },
      {
        "duration": 6,
        "start_time": "2024-11-13T09:21:36.745Z"
      },
      {
        "duration": 6,
        "start_time": "2024-11-13T09:21:37.460Z"
      },
      {
        "duration": 5,
        "start_time": "2024-11-13T09:21:45.685Z"
      },
      {
        "duration": 16,
        "start_time": "2024-11-13T09:22:18.993Z"
      },
      {
        "duration": 4,
        "start_time": "2024-11-13T09:22:19.633Z"
      },
      {
        "duration": 2,
        "start_time": "2024-11-13T09:22:20.514Z"
      },
      {
        "duration": 158069,
        "start_time": "2024-11-13T09:22:21.073Z"
      },
      {
        "duration": 5,
        "start_time": "2024-11-13T09:25:06.569Z"
      },
      {
        "duration": 12,
        "start_time": "2024-11-13T09:25:08.170Z"
      },
      {
        "duration": 4,
        "start_time": "2024-11-13T09:25:17.898Z"
      },
      {
        "duration": 20,
        "start_time": "2024-11-13T09:25:19.747Z"
      },
      {
        "duration": 3,
        "start_time": "2024-11-13T09:25:20.181Z"
      },
      {
        "duration": 3,
        "start_time": "2024-11-13T09:25:20.602Z"
      },
      {
        "duration": 32572,
        "start_time": "2024-11-13T09:25:21.050Z"
      },
      {
        "duration": 4,
        "start_time": "2024-11-13T09:25:56.498Z"
      },
      {
        "duration": 11,
        "start_time": "2024-11-13T09:25:57.066Z"
      },
      {
        "duration": 7,
        "start_time": "2024-11-13T09:26:31.245Z"
      },
      {
        "duration": 3,
        "start_time": "2024-11-13T09:26:32.025Z"
      },
      {
        "duration": 2,
        "start_time": "2024-11-13T09:26:32.602Z"
      },
      {
        "duration": 9806,
        "start_time": "2024-11-13T09:26:33.136Z"
      },
      {
        "duration": 6,
        "start_time": "2024-11-13T09:26:49.555Z"
      },
      {
        "duration": 9,
        "start_time": "2024-11-13T09:26:50.137Z"
      },
      {
        "duration": 6,
        "start_time": "2024-11-13T09:27:14.468Z"
      },
      {
        "duration": 4,
        "start_time": "2024-11-13T09:27:14.994Z"
      },
      {
        "duration": 2,
        "start_time": "2024-11-13T09:27:15.523Z"
      },
      {
        "duration": 8627,
        "start_time": "2024-11-13T09:27:15.995Z"
      },
      {
        "duration": 5,
        "start_time": "2024-11-13T09:27:27.970Z"
      },
      {
        "duration": 9,
        "start_time": "2024-11-13T09:27:28.611Z"
      },
      {
        "duration": 6,
        "start_time": "2024-11-13T09:28:12.012Z"
      },
      {
        "duration": 3,
        "start_time": "2024-11-13T09:28:12.985Z"
      },
      {
        "duration": 3,
        "start_time": "2024-11-13T09:28:13.763Z"
      },
      {
        "duration": 7843,
        "start_time": "2024-11-13T09:28:14.091Z"
      },
      {
        "duration": 5,
        "start_time": "2024-11-13T09:28:25.883Z"
      },
      {
        "duration": 8,
        "start_time": "2024-11-13T09:28:26.683Z"
      },
      {
        "duration": 8,
        "start_time": "2024-11-13T09:28:46.364Z"
      },
      {
        "duration": 3,
        "start_time": "2024-11-13T09:28:47.059Z"
      },
      {
        "duration": 2,
        "start_time": "2024-11-13T09:28:47.638Z"
      },
      {
        "duration": 15358,
        "start_time": "2024-11-13T09:28:48.084Z"
      },
      {
        "duration": 4,
        "start_time": "2024-11-13T09:29:09.411Z"
      },
      {
        "duration": 9,
        "start_time": "2024-11-13T09:29:10.067Z"
      },
      {
        "duration": 4,
        "start_time": "2024-11-13T09:29:22.595Z"
      },
      {
        "duration": 5,
        "start_time": "2024-11-13T09:29:23.011Z"
      },
      {
        "duration": 6,
        "start_time": "2024-11-13T09:29:24.635Z"
      },
      {
        "duration": 4,
        "start_time": "2024-11-13T09:29:30.571Z"
      },
      {
        "duration": 5,
        "start_time": "2024-11-13T09:29:31.054Z"
      },
      {
        "duration": 9,
        "start_time": "2024-11-13T09:29:32.747Z"
      },
      {
        "duration": 4,
        "start_time": "2024-11-13T09:29:33.428Z"
      },
      {
        "duration": 4,
        "start_time": "2024-11-13T09:29:35.020Z"
      },
      {
        "duration": 4,
        "start_time": "2024-11-13T09:29:35.475Z"
      },
      {
        "duration": 3,
        "start_time": "2024-11-13T09:29:36.039Z"
      },
      {
        "duration": 5,
        "start_time": "2024-11-13T09:29:38.043Z"
      },
      {
        "duration": 3,
        "start_time": "2024-11-13T09:29:38.846Z"
      },
      {
        "duration": 4,
        "start_time": "2024-11-13T09:29:39.251Z"
      },
      {
        "duration": 18,
        "start_time": "2024-11-13T09:29:39.675Z"
      },
      {
        "duration": 5475,
        "start_time": "2024-11-13T09:29:51.563Z"
      },
      {
        "duration": 8,
        "start_time": "2024-11-13T09:29:57.041Z"
      },
      {
        "duration": 36,
        "start_time": "2024-11-13T09:29:57.051Z"
      },
      {
        "duration": 49,
        "start_time": "2024-11-13T09:29:57.089Z"
      },
      {
        "duration": 11,
        "start_time": "2024-11-13T09:29:57.141Z"
      },
      {
        "duration": 18,
        "start_time": "2024-11-13T09:29:57.154Z"
      },
      {
        "duration": 19,
        "start_time": "2024-11-13T09:29:57.173Z"
      },
      {
        "duration": 10,
        "start_time": "2024-11-13T09:29:57.194Z"
      },
      {
        "duration": 13,
        "start_time": "2024-11-13T09:29:57.205Z"
      },
      {
        "duration": 8,
        "start_time": "2024-11-13T09:29:57.219Z"
      },
      {
        "duration": 13,
        "start_time": "2024-11-13T09:29:57.229Z"
      },
      {
        "duration": 4003,
        "start_time": "2024-11-13T09:29:57.244Z"
      },
      {
        "duration": 6,
        "start_time": "2024-11-13T09:30:01.250Z"
      },
      {
        "duration": 51,
        "start_time": "2024-11-13T09:30:01.260Z"
      },
      {
        "duration": 9,
        "start_time": "2024-11-13T09:30:01.313Z"
      },
      {
        "duration": 13,
        "start_time": "2024-11-13T09:30:01.323Z"
      },
      {
        "duration": 21,
        "start_time": "2024-11-13T09:30:01.338Z"
      },
      {
        "duration": 100,
        "start_time": "2024-11-13T09:30:01.361Z"
      },
      {
        "duration": 21,
        "start_time": "2024-11-13T09:30:01.463Z"
      },
      {
        "duration": 59,
        "start_time": "2024-11-13T09:30:01.486Z"
      },
      {
        "duration": 14,
        "start_time": "2024-11-13T09:30:01.546Z"
      },
      {
        "duration": 18,
        "start_time": "2024-11-13T09:30:01.562Z"
      },
      {
        "duration": 58,
        "start_time": "2024-11-13T09:30:01.582Z"
      },
      {
        "duration": 3945,
        "start_time": "2024-11-13T09:30:01.642Z"
      },
      {
        "duration": 4,
        "start_time": "2024-11-13T09:30:05.589Z"
      },
      {
        "duration": 51,
        "start_time": "2024-11-13T09:30:05.594Z"
      },
      {
        "duration": 934,
        "start_time": "2024-11-13T09:30:05.647Z"
      },
      {
        "duration": 5,
        "start_time": "2024-11-13T09:30:06.582Z"
      },
      {
        "duration": 27,
        "start_time": "2024-11-13T09:30:06.589Z"
      },
      {
        "duration": 15,
        "start_time": "2024-11-13T09:30:06.618Z"
      },
      {
        "duration": 23,
        "start_time": "2024-11-13T09:30:06.635Z"
      },
      {
        "duration": 65,
        "start_time": "2024-11-13T09:30:06.659Z"
      },
      {
        "duration": 140,
        "start_time": "2024-11-13T09:30:06.726Z"
      },
      {
        "duration": 32,
        "start_time": "2024-11-13T09:30:06.868Z"
      },
      {
        "duration": 46,
        "start_time": "2024-11-13T09:30:06.901Z"
      },
      {
        "duration": 26,
        "start_time": "2024-11-13T09:30:06.949Z"
      },
      {
        "duration": 75,
        "start_time": "2024-11-13T09:30:06.977Z"
      },
      {
        "duration": 65,
        "start_time": "2024-11-13T09:30:07.054Z"
      },
      {
        "duration": 62,
        "start_time": "2024-11-13T09:30:07.121Z"
      },
      {
        "duration": 40,
        "start_time": "2024-11-13T09:30:07.185Z"
      },
      {
        "duration": 7,
        "start_time": "2024-11-13T09:30:07.229Z"
      },
      {
        "duration": 14,
        "start_time": "2024-11-13T09:30:07.238Z"
      },
      {
        "duration": 80,
        "start_time": "2024-11-13T09:30:07.254Z"
      },
      {
        "duration": 306,
        "start_time": "2024-11-13T09:30:07.336Z"
      },
      {
        "duration": 18,
        "start_time": "2024-11-13T09:30:07.643Z"
      },
      {
        "duration": 79,
        "start_time": "2024-11-13T09:30:07.663Z"
      },
      {
        "duration": 23,
        "start_time": "2024-11-13T09:30:07.744Z"
      },
      {
        "duration": 38,
        "start_time": "2024-11-13T09:30:07.768Z"
      },
      {
        "duration": 60,
        "start_time": "2024-11-13T09:30:07.808Z"
      },
      {
        "duration": 32,
        "start_time": "2024-11-13T09:30:07.869Z"
      },
      {
        "duration": 15,
        "start_time": "2024-11-13T09:30:07.903Z"
      },
      {
        "duration": 15228,
        "start_time": "2024-11-13T09:30:07.919Z"
      },
      {
        "duration": 76,
        "start_time": "2024-11-13T09:30:23.148Z"
      },
      {
        "duration": 13,
        "start_time": "2024-11-13T09:30:23.227Z"
      },
      {
        "duration": 5,
        "start_time": "2024-11-13T09:30:23.242Z"
      },
      {
        "duration": 26,
        "start_time": "2024-11-13T09:30:23.249Z"
      },
      {
        "duration": 47,
        "start_time": "2024-11-13T09:30:23.321Z"
      },
      {
        "duration": 74,
        "start_time": "2024-11-13T09:30:23.370Z"
      },
      {
        "duration": 6,
        "start_time": "2024-11-13T09:30:23.446Z"
      },
      {
        "duration": 11,
        "start_time": "2024-11-13T09:30:23.454Z"
      },
      {
        "duration": 37,
        "start_time": "2024-11-13T09:30:23.468Z"
      },
      {
        "duration": 19,
        "start_time": "2024-11-13T09:30:23.507Z"
      },
      {
        "duration": 5,
        "start_time": "2024-11-13T09:30:23.528Z"
      },
      {
        "duration": 5,
        "start_time": "2024-11-13T09:30:23.535Z"
      },
      {
        "duration": 7,
        "start_time": "2024-11-13T09:30:23.541Z"
      },
      {
        "duration": 3,
        "start_time": "2024-11-13T09:30:23.550Z"
      },
      {
        "duration": 8,
        "start_time": "2024-11-13T09:30:23.556Z"
      },
      {
        "duration": 16,
        "start_time": "2024-11-13T09:30:23.566Z"
      },
      {
        "duration": 43,
        "start_time": "2024-11-13T09:30:23.584Z"
      },
      {
        "duration": 17,
        "start_time": "2024-11-13T09:30:23.629Z"
      },
      {
        "duration": 16,
        "start_time": "2024-11-13T09:30:23.648Z"
      },
      {
        "duration": 232,
        "start_time": "2024-11-13T09:30:23.665Z"
      },
      {
        "duration": 216,
        "start_time": "2024-11-13T09:46:30.715Z"
      },
      {
        "duration": 220,
        "start_time": "2024-11-13T09:46:37.811Z"
      },
      {
        "duration": 8,
        "start_time": "2024-11-13T09:48:10.718Z"
      },
      {
        "duration": 3,
        "start_time": "2024-11-13T09:48:13.275Z"
      },
      {
        "duration": 2,
        "start_time": "2024-11-13T09:48:13.980Z"
      },
      {
        "duration": 10244,
        "start_time": "2024-11-13T09:48:14.492Z"
      },
      {
        "duration": 4,
        "start_time": "2024-11-13T09:48:29.644Z"
      },
      {
        "duration": 9,
        "start_time": "2024-11-13T09:48:30.363Z"
      },
      {
        "duration": 8,
        "start_time": "2024-11-13T09:48:46.114Z"
      },
      {
        "duration": 3,
        "start_time": "2024-11-13T09:48:46.707Z"
      },
      {
        "duration": 3,
        "start_time": "2024-11-13T09:48:47.601Z"
      },
      {
        "duration": 9492,
        "start_time": "2024-11-13T09:48:48.037Z"
      },
      {
        "duration": 4,
        "start_time": "2024-11-13T09:49:02.684Z"
      },
      {
        "duration": 9,
        "start_time": "2024-11-13T09:49:04.116Z"
      },
      {
        "duration": 7,
        "start_time": "2024-11-13T09:49:16.732Z"
      },
      {
        "duration": 3,
        "start_time": "2024-11-13T09:49:17.964Z"
      },
      {
        "duration": 3,
        "start_time": "2024-11-13T09:49:18.564Z"
      },
      {
        "duration": 15646,
        "start_time": "2024-11-13T09:49:19.381Z"
      },
      {
        "duration": 4,
        "start_time": "2024-11-13T09:49:43.260Z"
      },
      {
        "duration": 9,
        "start_time": "2024-11-13T09:49:44.028Z"
      },
      {
        "duration": 4,
        "start_time": "2024-11-13T09:51:16.309Z"
      },
      {
        "duration": 6,
        "start_time": "2024-11-13T09:51:17.605Z"
      },
      {
        "duration": 3,
        "start_time": "2024-11-13T09:51:17.989Z"
      },
      {
        "duration": 2,
        "start_time": "2024-11-13T09:51:18.453Z"
      },
      {
        "duration": 6657,
        "start_time": "2024-11-13T09:51:18.869Z"
      },
      {
        "duration": 5,
        "start_time": "2024-11-13T09:51:29.788Z"
      },
      {
        "duration": 10,
        "start_time": "2024-11-13T09:51:30.653Z"
      },
      {
        "duration": 4,
        "start_time": "2024-11-13T09:51:33.109Z"
      },
      {
        "duration": 6,
        "start_time": "2024-11-13T09:51:33.468Z"
      },
      {
        "duration": 6,
        "start_time": "2024-11-13T09:51:34.372Z"
      },
      {
        "duration": 3,
        "start_time": "2024-11-13T09:51:37.573Z"
      },
      {
        "duration": 6,
        "start_time": "2024-11-13T09:51:38.420Z"
      },
      {
        "duration": 5330,
        "start_time": "2024-11-13T09:51:45.069Z"
      },
      {
        "duration": 10,
        "start_time": "2024-11-13T09:51:50.402Z"
      },
      {
        "duration": 23,
        "start_time": "2024-11-13T09:51:50.414Z"
      },
      {
        "duration": 44,
        "start_time": "2024-11-13T09:51:50.440Z"
      },
      {
        "duration": 13,
        "start_time": "2024-11-13T09:51:50.486Z"
      },
      {
        "duration": 58,
        "start_time": "2024-11-13T09:51:50.501Z"
      },
      {
        "duration": 9,
        "start_time": "2024-11-13T09:51:50.562Z"
      },
      {
        "duration": 22,
        "start_time": "2024-11-13T09:51:50.573Z"
      },
      {
        "duration": 21,
        "start_time": "2024-11-13T09:51:50.598Z"
      },
      {
        "duration": 21,
        "start_time": "2024-11-13T09:51:50.623Z"
      },
      {
        "duration": 8,
        "start_time": "2024-11-13T09:51:50.646Z"
      },
      {
        "duration": 3950,
        "start_time": "2024-11-13T09:51:50.657Z"
      },
      {
        "duration": 13,
        "start_time": "2024-11-13T09:51:54.608Z"
      },
      {
        "duration": 5,
        "start_time": "2024-11-13T09:51:54.623Z"
      },
      {
        "duration": 18,
        "start_time": "2024-11-13T09:51:54.630Z"
      },
      {
        "duration": 34,
        "start_time": "2024-11-13T09:51:54.650Z"
      },
      {
        "duration": 21,
        "start_time": "2024-11-13T09:51:54.686Z"
      },
      {
        "duration": 12,
        "start_time": "2024-11-13T09:51:54.709Z"
      },
      {
        "duration": 8,
        "start_time": "2024-11-13T09:51:54.723Z"
      },
      {
        "duration": 17,
        "start_time": "2024-11-13T09:51:54.732Z"
      },
      {
        "duration": 23,
        "start_time": "2024-11-13T09:51:54.750Z"
      },
      {
        "duration": 43,
        "start_time": "2024-11-13T09:51:54.774Z"
      },
      {
        "duration": 21,
        "start_time": "2024-11-13T09:51:54.820Z"
      },
      {
        "duration": 3929,
        "start_time": "2024-11-13T09:51:54.842Z"
      },
      {
        "duration": 4,
        "start_time": "2024-11-13T09:51:58.773Z"
      },
      {
        "duration": 19,
        "start_time": "2024-11-13T09:51:58.779Z"
      },
      {
        "duration": 881,
        "start_time": "2024-11-13T09:51:58.800Z"
      },
      {
        "duration": 6,
        "start_time": "2024-11-13T09:51:59.685Z"
      },
      {
        "duration": 5,
        "start_time": "2024-11-13T09:51:59.692Z"
      },
      {
        "duration": 4,
        "start_time": "2024-11-13T09:51:59.720Z"
      },
      {
        "duration": 5,
        "start_time": "2024-11-13T09:51:59.726Z"
      },
      {
        "duration": 16,
        "start_time": "2024-11-13T09:51:59.733Z"
      },
      {
        "duration": 13,
        "start_time": "2024-11-13T09:51:59.752Z"
      },
      {
        "duration": 9,
        "start_time": "2024-11-13T09:51:59.767Z"
      },
      {
        "duration": 45,
        "start_time": "2024-11-13T09:51:59.778Z"
      },
      {
        "duration": 3,
        "start_time": "2024-11-13T09:51:59.825Z"
      },
      {
        "duration": 4,
        "start_time": "2024-11-13T09:51:59.830Z"
      },
      {
        "duration": 6,
        "start_time": "2024-11-13T09:51:59.836Z"
      },
      {
        "duration": 9,
        "start_time": "2024-11-13T09:51:59.844Z"
      },
      {
        "duration": 16,
        "start_time": "2024-11-13T09:51:59.855Z"
      },
      {
        "duration": 4,
        "start_time": "2024-11-13T09:51:59.873Z"
      },
      {
        "duration": 7,
        "start_time": "2024-11-13T09:51:59.879Z"
      },
      {
        "duration": 16,
        "start_time": "2024-11-13T09:51:59.887Z"
      },
      {
        "duration": 4,
        "start_time": "2024-11-13T09:51:59.920Z"
      },
      {
        "duration": 16,
        "start_time": "2024-11-13T09:51:59.925Z"
      },
      {
        "duration": 51,
        "start_time": "2024-11-13T09:51:59.943Z"
      },
      {
        "duration": 57,
        "start_time": "2024-11-13T09:51:59.995Z"
      },
      {
        "duration": 57,
        "start_time": "2024-11-13T09:52:00.054Z"
      },
      {
        "duration": 53,
        "start_time": "2024-11-13T09:52:00.113Z"
      },
      {
        "duration": 113,
        "start_time": "2024-11-13T09:52:00.168Z"
      },
      {
        "duration": 61,
        "start_time": "2024-11-13T09:52:00.282Z"
      },
      {
        "duration": 6176,
        "start_time": "2024-11-13T09:52:00.345Z"
      },
      {
        "duration": 4,
        "start_time": "2024-11-13T09:52:06.523Z"
      },
      {
        "duration": 25,
        "start_time": "2024-11-13T09:52:06.529Z"
      },
      {
        "duration": 7,
        "start_time": "2024-11-13T09:52:06.556Z"
      },
      {
        "duration": 21,
        "start_time": "2024-11-13T09:52:06.565Z"
      },
      {
        "duration": 35,
        "start_time": "2024-11-13T09:52:06.588Z"
      },
      {
        "duration": 12,
        "start_time": "2024-11-13T09:52:06.624Z"
      },
      {
        "duration": 5,
        "start_time": "2024-11-13T09:52:06.638Z"
      },
      {
        "duration": 33,
        "start_time": "2024-11-13T09:52:06.645Z"
      },
      {
        "duration": 6,
        "start_time": "2024-11-13T09:52:06.680Z"
      },
      {
        "duration": 25,
        "start_time": "2024-11-13T09:52:06.688Z"
      },
      {
        "duration": 50,
        "start_time": "2024-11-13T09:52:06.715Z"
      },
      {
        "duration": 15,
        "start_time": "2024-11-13T09:52:06.767Z"
      },
      {
        "duration": 78,
        "start_time": "2024-11-13T09:52:06.783Z"
      },
      {
        "duration": 17,
        "start_time": "2024-11-13T09:52:06.863Z"
      },
      {
        "duration": 25,
        "start_time": "2024-11-13T09:52:06.882Z"
      },
      {
        "duration": 21,
        "start_time": "2024-11-13T09:52:06.908Z"
      },
      {
        "duration": 27,
        "start_time": "2024-11-13T09:52:06.931Z"
      },
      {
        "duration": 35,
        "start_time": "2024-11-13T09:52:06.959Z"
      },
      {
        "duration": 27,
        "start_time": "2024-11-13T09:52:06.995Z"
      },
      {
        "duration": 255,
        "start_time": "2024-11-13T09:52:07.023Z"
      },
      {
        "duration": 246,
        "start_time": "2024-11-13T10:11:18.153Z"
      },
      {
        "duration": 233,
        "start_time": "2024-11-13T10:11:23.616Z"
      },
      {
        "duration": 6,
        "start_time": "2024-11-13T10:11:53.756Z"
      },
      {
        "duration": 4,
        "start_time": "2024-11-13T10:11:54.240Z"
      },
      {
        "duration": 2,
        "start_time": "2024-11-13T10:11:54.712Z"
      },
      {
        "duration": 47653,
        "start_time": "2024-11-13T10:11:55.184Z"
      },
      {
        "duration": 4,
        "start_time": "2024-11-13T10:12:49.424Z"
      },
      {
        "duration": 9,
        "start_time": "2024-11-13T10:12:51.137Z"
      },
      {
        "duration": 4,
        "start_time": "2024-11-13T10:12:54.961Z"
      },
      {
        "duration": 6,
        "start_time": "2024-11-13T10:12:55.400Z"
      },
      {
        "duration": 5,
        "start_time": "2024-11-13T10:12:56.033Z"
      },
      {
        "duration": 4,
        "start_time": "2024-11-13T10:12:58.720Z"
      },
      {
        "duration": 6,
        "start_time": "2024-11-13T10:12:59.176Z"
      },
      {
        "duration": 9,
        "start_time": "2024-11-13T10:13:00.352Z"
      },
      {
        "duration": 3,
        "start_time": "2024-11-13T10:13:00.852Z"
      },
      {
        "duration": 4,
        "start_time": "2024-11-13T10:13:01.352Z"
      },
      {
        "duration": 4,
        "start_time": "2024-11-13T10:13:01.849Z"
      },
      {
        "duration": 4,
        "start_time": "2024-11-13T10:13:02.416Z"
      },
      {
        "duration": 5,
        "start_time": "2024-11-13T10:13:04.191Z"
      },
      {
        "duration": 3,
        "start_time": "2024-11-13T10:13:04.553Z"
      },
      {
        "duration": 3,
        "start_time": "2024-11-13T10:13:04.897Z"
      },
      {
        "duration": 21,
        "start_time": "2024-11-13T10:13:05.320Z"
      },
      {
        "duration": 5509,
        "start_time": "2024-11-13T10:13:19.832Z"
      },
      {
        "duration": 10,
        "start_time": "2024-11-13T10:13:25.343Z"
      },
      {
        "duration": 49,
        "start_time": "2024-11-13T10:13:25.355Z"
      },
      {
        "duration": 36,
        "start_time": "2024-11-13T10:13:25.407Z"
      },
      {
        "duration": 11,
        "start_time": "2024-11-13T10:13:25.445Z"
      },
      {
        "duration": 13,
        "start_time": "2024-11-13T10:13:25.458Z"
      },
      {
        "duration": 3,
        "start_time": "2024-11-13T10:13:25.473Z"
      },
      {
        "duration": 19,
        "start_time": "2024-11-13T10:13:25.477Z"
      },
      {
        "duration": 87,
        "start_time": "2024-11-13T10:13:25.498Z"
      },
      {
        "duration": 14,
        "start_time": "2024-11-13T10:13:25.588Z"
      },
      {
        "duration": 8,
        "start_time": "2024-11-13T10:13:25.604Z"
      },
      {
        "duration": 3892,
        "start_time": "2024-11-13T10:13:25.613Z"
      },
      {
        "duration": 6,
        "start_time": "2024-11-13T10:13:29.507Z"
      },
      {
        "duration": 69,
        "start_time": "2024-11-13T10:13:29.521Z"
      },
      {
        "duration": 5,
        "start_time": "2024-11-13T10:13:29.591Z"
      },
      {
        "duration": 6,
        "start_time": "2024-11-13T10:13:29.597Z"
      },
      {
        "duration": 12,
        "start_time": "2024-11-13T10:13:29.604Z"
      },
      {
        "duration": 4,
        "start_time": "2024-11-13T10:13:29.618Z"
      },
      {
        "duration": 16,
        "start_time": "2024-11-13T10:13:29.623Z"
      },
      {
        "duration": 7,
        "start_time": "2024-11-13T10:13:29.640Z"
      },
      {
        "duration": 8,
        "start_time": "2024-11-13T10:13:29.648Z"
      },
      {
        "duration": 5,
        "start_time": "2024-11-13T10:13:29.657Z"
      },
      {
        "duration": 8,
        "start_time": "2024-11-13T10:13:29.663Z"
      },
      {
        "duration": 3813,
        "start_time": "2024-11-13T10:13:29.673Z"
      },
      {
        "duration": 4,
        "start_time": "2024-11-13T10:13:33.488Z"
      },
      {
        "duration": 13,
        "start_time": "2024-11-13T10:13:33.493Z"
      },
      {
        "duration": 948,
        "start_time": "2024-11-13T10:13:33.508Z"
      },
      {
        "duration": 6,
        "start_time": "2024-11-13T10:13:34.462Z"
      },
      {
        "duration": 12,
        "start_time": "2024-11-13T10:13:34.469Z"
      },
      {
        "duration": 23,
        "start_time": "2024-11-13T10:13:34.483Z"
      },
      {
        "duration": 22,
        "start_time": "2024-11-13T10:13:34.508Z"
      },
      {
        "duration": 25,
        "start_time": "2024-11-13T10:13:34.532Z"
      },
      {
        "duration": 31,
        "start_time": "2024-11-13T10:13:34.560Z"
      },
      {
        "duration": 19,
        "start_time": "2024-11-13T10:13:34.593Z"
      },
      {
        "duration": 24,
        "start_time": "2024-11-13T10:13:34.614Z"
      },
      {
        "duration": 28,
        "start_time": "2024-11-13T10:13:34.640Z"
      },
      {
        "duration": 30,
        "start_time": "2024-11-13T10:13:34.670Z"
      },
      {
        "duration": 16,
        "start_time": "2024-11-13T10:13:34.702Z"
      },
      {
        "duration": 17,
        "start_time": "2024-11-13T10:13:34.719Z"
      },
      {
        "duration": 23,
        "start_time": "2024-11-13T10:13:34.738Z"
      },
      {
        "duration": 19,
        "start_time": "2024-11-13T10:13:34.764Z"
      },
      {
        "duration": 26,
        "start_time": "2024-11-13T10:13:34.784Z"
      },
      {
        "duration": 24,
        "start_time": "2024-11-13T10:13:34.812Z"
      },
      {
        "duration": 11,
        "start_time": "2024-11-13T10:13:34.838Z"
      },
      {
        "duration": 92,
        "start_time": "2024-11-13T10:13:34.850Z"
      },
      {
        "duration": 24,
        "start_time": "2024-11-13T10:13:34.944Z"
      },
      {
        "duration": 12,
        "start_time": "2024-11-13T10:13:34.970Z"
      },
      {
        "duration": 25,
        "start_time": "2024-11-13T10:13:34.983Z"
      },
      {
        "duration": 6,
        "start_time": "2024-11-13T10:13:35.010Z"
      },
      {
        "duration": 16,
        "start_time": "2024-11-13T10:13:35.017Z"
      },
      {
        "duration": 21,
        "start_time": "2024-11-13T10:13:35.035Z"
      },
      {
        "duration": 62668,
        "start_time": "2024-11-13T10:13:35.058Z"
      },
      {
        "duration": 7,
        "start_time": "2024-11-13T10:14:37.729Z"
      },
      {
        "duration": 28,
        "start_time": "2024-11-13T10:14:37.738Z"
      },
      {
        "duration": 4,
        "start_time": "2024-11-13T10:14:37.768Z"
      },
      {
        "duration": 60,
        "start_time": "2024-11-13T10:14:37.774Z"
      },
      {
        "duration": 9,
        "start_time": "2024-11-13T10:14:37.836Z"
      },
      {
        "duration": 32,
        "start_time": "2024-11-13T10:14:37.846Z"
      },
      {
        "duration": 10,
        "start_time": "2024-11-13T10:14:37.879Z"
      },
      {
        "duration": 12,
        "start_time": "2024-11-13T10:14:37.890Z"
      },
      {
        "duration": 7,
        "start_time": "2024-11-13T10:14:37.903Z"
      },
      {
        "duration": 6,
        "start_time": "2024-11-13T10:14:37.912Z"
      },
      {
        "duration": 15,
        "start_time": "2024-11-13T10:14:37.920Z"
      },
      {
        "duration": 12,
        "start_time": "2024-11-13T10:14:37.936Z"
      },
      {
        "duration": 7,
        "start_time": "2024-11-13T10:14:37.950Z"
      },
      {
        "duration": 5,
        "start_time": "2024-11-13T10:14:37.959Z"
      },
      {
        "duration": 5,
        "start_time": "2024-11-13T10:14:37.965Z"
      },
      {
        "duration": 6,
        "start_time": "2024-11-13T10:14:37.972Z"
      },
      {
        "duration": 52,
        "start_time": "2024-11-13T10:14:37.980Z"
      },
      {
        "duration": 22,
        "start_time": "2024-11-13T10:14:38.034Z"
      },
      {
        "duration": 6,
        "start_time": "2024-11-13T10:14:38.057Z"
      },
      {
        "duration": 250,
        "start_time": "2024-11-13T10:14:38.064Z"
      },
      {
        "duration": 214,
        "start_time": "2024-11-13T10:26:13.685Z"
      },
      {
        "duration": 168662,
        "start_time": "2024-11-13T10:31:05.378Z"
      },
      {
        "duration": 5,
        "start_time": "2024-11-13T11:10:06.315Z"
      },
      {
        "duration": 7,
        "start_time": "2024-11-13T11:10:47.909Z"
      },
      {
        "duration": 8,
        "start_time": "2024-11-13T11:10:53.967Z"
      },
      {
        "duration": 5,
        "start_time": "2024-11-13T11:13:45.681Z"
      },
      {
        "duration": 6,
        "start_time": "2024-11-13T11:13:46.465Z"
      },
      {
        "duration": 7,
        "start_time": "2024-11-13T11:14:59.741Z"
      },
      {
        "duration": 8,
        "start_time": "2024-11-13T11:16:35.556Z"
      },
      {
        "duration": 3,
        "start_time": "2024-11-13T11:16:37.765Z"
      },
      {
        "duration": 3,
        "start_time": "2024-11-13T11:16:38.963Z"
      },
      {
        "duration": 31952,
        "start_time": "2024-11-13T11:16:39.488Z"
      },
      {
        "duration": 7,
        "start_time": "2024-11-13T11:18:33.165Z"
      },
      {
        "duration": 3,
        "start_time": "2024-11-13T11:18:35.262Z"
      },
      {
        "duration": 2,
        "start_time": "2024-11-13T11:18:35.726Z"
      },
      {
        "duration": 32937,
        "start_time": "2024-11-13T11:18:36.198Z"
      },
      {
        "duration": 155592,
        "start_time": "2024-11-13T11:19:38.335Z"
      },
      {
        "duration": 4,
        "start_time": "2024-11-13T11:22:41.015Z"
      },
      {
        "duration": 4,
        "start_time": "2024-11-13T11:22:42.566Z"
      },
      {
        "duration": 6,
        "start_time": "2024-11-13T11:22:43.176Z"
      },
      {
        "duration": 7,
        "start_time": "2024-11-13T11:22:52.624Z"
      },
      {
        "duration": 5,
        "start_time": "2024-11-13T11:25:33.063Z"
      },
      {
        "duration": 8,
        "start_time": "2024-11-13T11:25:46.658Z"
      },
      {
        "duration": 10,
        "start_time": "2024-11-13T11:25:47.178Z"
      },
      {
        "duration": 3,
        "start_time": "2024-11-13T11:25:47.747Z"
      },
      {
        "duration": 2,
        "start_time": "2024-11-13T11:25:48.202Z"
      },
      {
        "duration": 3,
        "start_time": "2024-11-13T11:25:50.342Z"
      },
      {
        "duration": 3,
        "start_time": "2024-11-13T11:25:50.682Z"
      },
      {
        "duration": 8,
        "start_time": "2024-11-13T11:25:51.042Z"
      },
      {
        "duration": 2,
        "start_time": "2024-11-13T11:25:51.402Z"
      },
      {
        "duration": 4,
        "start_time": "2024-11-13T11:25:51.741Z"
      },
      {
        "duration": 10,
        "start_time": "2024-11-13T11:25:52.098Z"
      },
      {
        "duration": 4,
        "start_time": "2024-11-13T11:25:52.434Z"
      },
      {
        "duration": 4,
        "start_time": "2024-11-13T11:25:52.759Z"
      },
      {
        "duration": 4,
        "start_time": "2024-11-13T11:25:54.018Z"
      },
      {
        "duration": 3,
        "start_time": "2024-11-13T11:25:58.009Z"
      },
      {
        "duration": 4,
        "start_time": "2024-11-13T11:25:58.418Z"
      },
      {
        "duration": 6,
        "start_time": "2024-11-13T11:26:04.218Z"
      },
      {
        "duration": 4,
        "start_time": "2024-11-13T11:26:07.204Z"
      },
      {
        "duration": 2,
        "start_time": "2024-11-13T11:26:08.780Z"
      },
      {
        "duration": 52216,
        "start_time": "2024-11-13T11:26:10.417Z"
      },
      {
        "duration": 6,
        "start_time": "2024-11-13T11:27:34.843Z"
      },
      {
        "duration": 10,
        "start_time": "2024-11-13T11:27:37.125Z"
      },
      {
        "duration": 5,
        "start_time": "2024-11-13T11:27:40.627Z"
      },
      {
        "duration": 14,
        "start_time": "2024-11-13T11:27:41.822Z"
      },
      {
        "duration": 6,
        "start_time": "2024-11-13T11:27:43.124Z"
      },
      {
        "duration": 3,
        "start_time": "2024-11-13T11:27:46.068Z"
      },
      {
        "duration": 6,
        "start_time": "2024-11-13T11:27:49.252Z"
      },
      {
        "duration": 8,
        "start_time": "2024-11-13T11:28:29.710Z"
      },
      {
        "duration": 3,
        "start_time": "2024-11-13T11:28:36.693Z"
      },
      {
        "duration": 3,
        "start_time": "2024-11-13T11:28:37.139Z"
      },
      {
        "duration": 3,
        "start_time": "2024-11-13T11:28:37.980Z"
      },
      {
        "duration": 3,
        "start_time": "2024-11-13T11:28:38.419Z"
      },
      {
        "duration": 8,
        "start_time": "2024-11-13T11:28:38.836Z"
      },
      {
        "duration": 3,
        "start_time": "2024-11-13T11:28:40.302Z"
      },
      {
        "duration": 3,
        "start_time": "2024-11-13T11:28:40.611Z"
      },
      {
        "duration": 9,
        "start_time": "2024-11-13T11:28:40.949Z"
      },
      {
        "duration": 4,
        "start_time": "2024-11-13T11:28:41.276Z"
      },
      {
        "duration": 3,
        "start_time": "2024-11-13T11:28:41.628Z"
      },
      {
        "duration": 4,
        "start_time": "2024-11-13T11:28:41.989Z"
      },
      {
        "duration": 2,
        "start_time": "2024-11-13T11:28:44.420Z"
      },
      {
        "duration": 4,
        "start_time": "2024-11-13T11:28:44.965Z"
      },
      {
        "duration": 7,
        "start_time": "2024-11-13T11:28:48.485Z"
      },
      {
        "duration": 5,
        "start_time": "2024-11-13T11:28:51.268Z"
      },
      {
        "duration": 4,
        "start_time": "2024-11-13T11:28:51.820Z"
      },
      {
        "duration": 33,
        "start_time": "2024-11-13T11:28:52.348Z"
      },
      {
        "duration": 9,
        "start_time": "2024-11-13T11:29:01.404Z"
      },
      {
        "duration": 29169,
        "start_time": "2024-11-13T11:29:03.669Z"
      },
      {
        "duration": 4,
        "start_time": "2024-11-13T11:29:49.972Z"
      },
      {
        "duration": 8,
        "start_time": "2024-11-13T11:29:51.174Z"
      },
      {
        "duration": 6,
        "start_time": "2024-11-13T11:30:19.521Z"
      },
      {
        "duration": 3,
        "start_time": "2024-11-13T11:30:23.950Z"
      },
      {
        "duration": 2,
        "start_time": "2024-11-13T11:30:24.428Z"
      },
      {
        "duration": 57705,
        "start_time": "2024-11-13T11:30:24.821Z"
      },
      {
        "duration": 6,
        "start_time": "2024-11-13T11:31:28.038Z"
      },
      {
        "duration": 9,
        "start_time": "2024-11-13T11:31:28.695Z"
      },
      {
        "duration": 5,
        "start_time": "2024-11-13T11:31:31.222Z"
      },
      {
        "duration": 6,
        "start_time": "2024-11-13T11:31:31.639Z"
      },
      {
        "duration": 6,
        "start_time": "2024-11-13T11:31:33.183Z"
      },
      {
        "duration": 4,
        "start_time": "2024-11-13T11:31:36.631Z"
      },
      {
        "duration": 6,
        "start_time": "2024-11-13T11:31:37.405Z"
      },
      {
        "duration": 6,
        "start_time": "2024-11-13T11:31:50.608Z"
      },
      {
        "duration": 3,
        "start_time": "2024-11-13T11:31:52.439Z"
      },
      {
        "duration": 2,
        "start_time": "2024-11-13T11:31:53.679Z"
      },
      {
        "duration": 38425,
        "start_time": "2024-11-13T11:31:54.911Z"
      },
      {
        "duration": 8,
        "start_time": "2024-11-13T11:32:58.222Z"
      },
      {
        "duration": 4,
        "start_time": "2024-11-13T11:33:00.432Z"
      },
      {
        "duration": 3,
        "start_time": "2024-11-13T11:33:00.832Z"
      },
      {
        "duration": 25775,
        "start_time": "2024-11-13T11:33:01.367Z"
      },
      {
        "duration": 4,
        "start_time": "2024-11-13T11:33:31.959Z"
      },
      {
        "duration": 8,
        "start_time": "2024-11-13T11:33:32.513Z"
      },
      {
        "duration": 7,
        "start_time": "2024-11-13T11:33:35.496Z"
      },
      {
        "duration": 6,
        "start_time": "2024-11-13T11:33:35.863Z"
      },
      {
        "duration": 6,
        "start_time": "2024-11-13T11:33:36.519Z"
      },
      {
        "duration": 3,
        "start_time": "2024-11-13T11:33:39.239Z"
      },
      {
        "duration": 6,
        "start_time": "2024-11-13T11:33:39.630Z"
      },
      {
        "duration": 112558,
        "start_time": "2024-11-13T11:33:59.864Z"
      },
      {
        "duration": 5,
        "start_time": "2024-11-13T11:36:30.061Z"
      },
      {
        "duration": 4,
        "start_time": "2024-11-13T11:36:30.809Z"
      },
      {
        "duration": 5,
        "start_time": "2024-11-13T11:36:31.563Z"
      },
      {
        "duration": 6,
        "start_time": "2024-11-13T11:36:40.453Z"
      },
      {
        "duration": 7,
        "start_time": "2024-11-13T11:37:38.607Z"
      },
      {
        "duration": 3,
        "start_time": "2024-11-13T11:37:40.453Z"
      },
      {
        "duration": 3,
        "start_time": "2024-11-13T11:37:40.858Z"
      },
      {
        "duration": 38808,
        "start_time": "2024-11-13T11:37:41.316Z"
      },
      {
        "duration": 6,
        "start_time": "2024-11-13T11:39:02.893Z"
      },
      {
        "duration": 3,
        "start_time": "2024-11-13T11:39:07.355Z"
      },
      {
        "duration": 3,
        "start_time": "2024-11-13T11:39:07.786Z"
      },
      {
        "duration": 6601,
        "start_time": "2024-11-13T11:39:08.333Z"
      },
      {
        "duration": 6,
        "start_time": "2024-11-13T11:39:39.924Z"
      },
      {
        "duration": 3,
        "start_time": "2024-11-13T11:39:41.596Z"
      },
      {
        "duration": 3,
        "start_time": "2024-11-13T11:39:41.973Z"
      },
      {
        "duration": 6798,
        "start_time": "2024-11-13T11:39:42.437Z"
      },
      {
        "duration": 6,
        "start_time": "2024-11-13T11:40:09.700Z"
      },
      {
        "duration": 4,
        "start_time": "2024-11-13T11:40:11.756Z"
      },
      {
        "duration": 2,
        "start_time": "2024-11-13T11:40:12.213Z"
      },
      {
        "duration": 6899,
        "start_time": "2024-11-13T11:40:12.741Z"
      },
      {
        "duration": 14,
        "start_time": "2024-11-13T11:40:43.548Z"
      },
      {
        "duration": 14,
        "start_time": "2024-11-13T11:41:05.870Z"
      },
      {
        "duration": 13,
        "start_time": "2024-11-13T11:41:24.482Z"
      },
      {
        "duration": 15,
        "start_time": "2024-11-13T11:42:55.156Z"
      },
      {
        "duration": 6,
        "start_time": "2024-11-13T11:43:26.773Z"
      },
      {
        "duration": 3,
        "start_time": "2024-11-13T11:43:29.068Z"
      },
      {
        "duration": 2,
        "start_time": "2024-11-13T11:43:29.508Z"
      },
      {
        "duration": 6599,
        "start_time": "2024-11-13T11:43:30.036Z"
      },
      {
        "duration": 14,
        "start_time": "2024-11-13T11:43:59.844Z"
      },
      {
        "duration": 6,
        "start_time": "2024-11-13T11:44:40.069Z"
      },
      {
        "duration": 3,
        "start_time": "2024-11-13T11:44:42.060Z"
      },
      {
        "duration": 3,
        "start_time": "2024-11-13T11:44:42.380Z"
      },
      {
        "duration": 6880,
        "start_time": "2024-11-13T11:44:43.053Z"
      },
      {
        "duration": 13,
        "start_time": "2024-11-13T11:45:09.453Z"
      },
      {
        "duration": 3,
        "start_time": "2024-11-13T11:45:10.300Z"
      },
      {
        "duration": 2,
        "start_time": "2024-11-13T11:45:11.180Z"
      },
      {
        "duration": 23275,
        "start_time": "2024-11-13T11:45:11.469Z"
      },
      {
        "duration": 14,
        "start_time": "2024-11-13T11:46:25.109Z"
      },
      {
        "duration": 5,
        "start_time": "2024-11-13T11:46:26.628Z"
      },
      {
        "duration": 3,
        "start_time": "2024-11-13T11:46:26.981Z"
      },
      {
        "duration": 23850,
        "start_time": "2024-11-13T11:46:27.293Z"
      },
      {
        "duration": 4,
        "start_time": "2024-11-13T11:47:04.161Z"
      },
      {
        "duration": 12,
        "start_time": "2024-11-13T11:47:04.949Z"
      },
      {
        "duration": 5,
        "start_time": "2024-11-13T11:47:08.428Z"
      },
      {
        "duration": 5,
        "start_time": "2024-11-13T11:47:08.845Z"
      },
      {
        "duration": 7,
        "start_time": "2024-11-13T11:47:09.484Z"
      },
      {
        "duration": 4,
        "start_time": "2024-11-13T11:47:12.037Z"
      },
      {
        "duration": 6,
        "start_time": "2024-11-13T11:47:12.525Z"
      },
      {
        "duration": 21,
        "start_time": "2024-11-13T11:49:47.214Z"
      },
      {
        "duration": 104818,
        "start_time": "2024-11-13T11:50:24.326Z"
      },
      {
        "duration": 5,
        "start_time": "2024-11-13T11:52:15.718Z"
      },
      {
        "duration": 6,
        "start_time": "2024-11-13T11:52:21.430Z"
      },
      {
        "duration": 7,
        "start_time": "2024-11-13T11:52:21.925Z"
      },
      {
        "duration": 4,
        "start_time": "2024-11-13T11:52:42.193Z"
      },
      {
        "duration": 5,
        "start_time": "2024-11-13T11:53:16.127Z"
      },
      {
        "duration": 13,
        "start_time": "2024-11-13T11:53:47.454Z"
      },
      {
        "duration": 3,
        "start_time": "2024-11-13T11:53:47.918Z"
      },
      {
        "duration": 3,
        "start_time": "2024-11-13T11:53:49.463Z"
      },
      {
        "duration": 24024,
        "start_time": "2024-11-13T11:53:49.919Z"
      },
      {
        "duration": 104834,
        "start_time": "2024-11-13T11:54:41.592Z"
      },
      {
        "duration": 177906,
        "start_time": "2024-11-13T11:57:00.849Z"
      },
      {
        "duration": 280497,
        "start_time": "2024-11-13T12:00:34.033Z"
      },
      {
        "duration": 4,
        "start_time": "2024-11-13T12:05:41.872Z"
      },
      {
        "duration": 5,
        "start_time": "2024-11-13T12:05:42.532Z"
      },
      {
        "duration": 7,
        "start_time": "2024-11-13T12:05:43.349Z"
      },
      {
        "duration": 8,
        "start_time": "2024-11-13T12:05:43.981Z"
      },
      {
        "duration": 8017,
        "start_time": "2024-11-13T13:41:08.238Z"
      },
      {
        "duration": 3041,
        "start_time": "2024-11-13T13:41:16.257Z"
      },
      {
        "duration": 7,
        "start_time": "2024-11-13T13:41:19.300Z"
      },
      {
        "duration": 97,
        "start_time": "2024-11-13T13:41:19.308Z"
      },
      {
        "duration": 16,
        "start_time": "2024-11-13T13:41:19.408Z"
      },
      {
        "duration": 11,
        "start_time": "2024-11-13T13:41:19.425Z"
      },
      {
        "duration": 9,
        "start_time": "2024-11-13T13:41:19.438Z"
      },
      {
        "duration": 4,
        "start_time": "2024-11-13T13:41:19.449Z"
      },
      {
        "duration": 14,
        "start_time": "2024-11-13T13:41:19.455Z"
      },
      {
        "duration": 6,
        "start_time": "2024-11-13T13:41:19.470Z"
      },
      {
        "duration": 7,
        "start_time": "2024-11-13T13:41:19.478Z"
      },
      {
        "duration": 3765,
        "start_time": "2024-11-13T13:41:19.487Z"
      },
      {
        "duration": 6,
        "start_time": "2024-11-13T13:41:23.253Z"
      },
      {
        "duration": 35,
        "start_time": "2024-11-13T13:41:23.263Z"
      },
      {
        "duration": 4,
        "start_time": "2024-11-13T13:41:23.299Z"
      },
      {
        "duration": 16,
        "start_time": "2024-11-13T13:41:23.305Z"
      },
      {
        "duration": 5,
        "start_time": "2024-11-13T13:41:23.322Z"
      },
      {
        "duration": 4,
        "start_time": "2024-11-13T13:41:23.328Z"
      },
      {
        "duration": 5,
        "start_time": "2024-11-13T13:41:23.334Z"
      },
      {
        "duration": 6,
        "start_time": "2024-11-13T13:41:23.341Z"
      },
      {
        "duration": 4,
        "start_time": "2024-11-13T13:41:23.349Z"
      },
      {
        "duration": 4,
        "start_time": "2024-11-13T13:41:23.355Z"
      },
      {
        "duration": 38,
        "start_time": "2024-11-13T13:41:23.360Z"
      },
      {
        "duration": 3564,
        "start_time": "2024-11-13T13:41:23.400Z"
      },
      {
        "duration": 4,
        "start_time": "2024-11-13T13:41:26.965Z"
      },
      {
        "duration": 15,
        "start_time": "2024-11-13T13:41:26.970Z"
      },
      {
        "duration": 6,
        "start_time": "2024-11-13T13:41:26.987Z"
      },
      {
        "duration": 1090,
        "start_time": "2024-11-13T13:41:26.994Z"
      },
      {
        "duration": 5,
        "start_time": "2024-11-13T13:41:28.086Z"
      },
      {
        "duration": 60,
        "start_time": "2024-11-13T13:41:28.093Z"
      },
      {
        "duration": 7,
        "start_time": "2024-11-13T13:41:28.154Z"
      },
      {
        "duration": 7,
        "start_time": "2024-11-13T13:41:28.162Z"
      },
      {
        "duration": 22,
        "start_time": "2024-11-13T13:41:28.170Z"
      },
      {
        "duration": 17,
        "start_time": "2024-11-13T13:41:28.194Z"
      },
      {
        "duration": 7,
        "start_time": "2024-11-13T13:41:28.213Z"
      },
      {
        "duration": 10,
        "start_time": "2024-11-13T13:41:28.221Z"
      },
      {
        "duration": 2,
        "start_time": "2024-11-13T13:41:28.233Z"
      },
      {
        "duration": 16,
        "start_time": "2024-11-13T13:41:28.236Z"
      },
      {
        "duration": 4,
        "start_time": "2024-11-13T13:41:28.253Z"
      },
      {
        "duration": 3,
        "start_time": "2024-11-13T13:41:28.258Z"
      },
      {
        "duration": 7,
        "start_time": "2024-11-13T13:41:28.265Z"
      },
      {
        "duration": 2,
        "start_time": "2024-11-13T13:41:28.274Z"
      },
      {
        "duration": 3,
        "start_time": "2024-11-13T13:41:28.278Z"
      },
      {
        "duration": 8,
        "start_time": "2024-11-13T13:41:28.283Z"
      },
      {
        "duration": 4,
        "start_time": "2024-11-13T13:41:28.293Z"
      },
      {
        "duration": 6,
        "start_time": "2024-11-13T13:41:28.298Z"
      },
      {
        "duration": 5,
        "start_time": "2024-11-13T13:41:28.305Z"
      },
      {
        "duration": 2,
        "start_time": "2024-11-13T13:41:28.352Z"
      },
      {
        "duration": 10,
        "start_time": "2024-11-13T13:41:28.356Z"
      },
      {
        "duration": 7,
        "start_time": "2024-11-13T13:41:28.368Z"
      },
      {
        "duration": 19,
        "start_time": "2024-11-13T13:41:28.376Z"
      },
      {
        "duration": 3,
        "start_time": "2024-11-13T13:41:28.397Z"
      },
      {
        "duration": 3,
        "start_time": "2024-11-13T13:41:28.402Z"
      },
      {
        "duration": 23056,
        "start_time": "2024-11-13T13:41:28.407Z"
      },
      {
        "duration": 4,
        "start_time": "2024-11-13T13:41:51.464Z"
      },
      {
        "duration": 53,
        "start_time": "2024-11-13T13:41:51.470Z"
      },
      {
        "duration": 4,
        "start_time": "2024-11-13T13:41:51.553Z"
      },
      {
        "duration": 10,
        "start_time": "2024-11-13T13:41:51.559Z"
      },
      {
        "duration": 15,
        "start_time": "2024-11-13T13:41:51.571Z"
      },
      {
        "duration": 3,
        "start_time": "2024-11-13T13:41:51.587Z"
      },
      {
        "duration": 9,
        "start_time": "2024-11-13T13:41:51.592Z"
      },
      {
        "duration": 52,
        "start_time": "2024-11-13T13:41:51.603Z"
      },
      {
        "duration": 24,
        "start_time": "2024-11-13T13:41:51.657Z"
      },
      {
        "duration": 16,
        "start_time": "2024-11-13T13:41:51.683Z"
      },
      {
        "duration": 13,
        "start_time": "2024-11-13T13:41:51.700Z"
      },
      {
        "duration": 14,
        "start_time": "2024-11-13T13:41:51.715Z"
      },
      {
        "duration": 73,
        "start_time": "2024-11-13T13:41:51.730Z"
      },
      {
        "duration": 20,
        "start_time": "2024-11-13T13:41:51.804Z"
      },
      {
        "duration": 30,
        "start_time": "2024-11-13T13:41:51.826Z"
      },
      {
        "duration": 17,
        "start_time": "2024-11-13T13:41:51.858Z"
      },
      {
        "duration": 20,
        "start_time": "2024-11-13T13:41:51.877Z"
      },
      {
        "duration": 21,
        "start_time": "2024-11-13T13:41:51.899Z"
      },
      {
        "duration": 20,
        "start_time": "2024-11-13T13:41:51.921Z"
      },
      {
        "duration": 223,
        "start_time": "2024-11-13T13:41:51.943Z"
      },
      {
        "duration": 14,
        "start_time": "2024-11-13T13:41:52.168Z"
      },
      {
        "duration": 10,
        "start_time": "2024-11-13T13:41:52.184Z"
      },
      {
        "duration": 33,
        "start_time": "2024-11-13T13:41:52.196Z"
      },
      {
        "duration": 7,
        "start_time": "2024-11-13T13:41:52.231Z"
      },
      {
        "duration": 23,
        "start_time": "2024-11-13T13:41:52.240Z"
      },
      {
        "duration": 7,
        "start_time": "2024-11-13T13:41:52.265Z"
      },
      {
        "duration": 30,
        "start_time": "2024-11-13T13:41:52.274Z"
      },
      {
        "duration": 38,
        "start_time": "2024-11-13T13:41:52.306Z"
      },
      {
        "duration": 9,
        "start_time": "2024-11-13T13:41:52.346Z"
      },
      {
        "duration": 1900,
        "start_time": "2024-11-13T13:41:52.357Z"
      },
      {
        "duration": 140589,
        "start_time": "2024-11-13T13:44:44.876Z"
      },
      {
        "duration": 38830,
        "start_time": "2024-11-13T13:50:13.435Z"
      },
      {
        "duration": 379095,
        "start_time": "2024-11-13T13:52:35.173Z"
      },
      {
        "duration": 7927,
        "start_time": "2024-11-14T03:43:55.006Z"
      },
      {
        "duration": 2895,
        "start_time": "2024-11-14T03:44:02.936Z"
      },
      {
        "duration": 7,
        "start_time": "2024-11-14T03:44:05.833Z"
      },
      {
        "duration": 111,
        "start_time": "2024-11-14T03:44:05.842Z"
      },
      {
        "duration": 16,
        "start_time": "2024-11-14T03:44:05.954Z"
      },
      {
        "duration": 30,
        "start_time": "2024-11-14T03:44:05.972Z"
      },
      {
        "duration": 25,
        "start_time": "2024-11-14T03:44:06.004Z"
      },
      {
        "duration": 8,
        "start_time": "2024-11-14T03:44:06.031Z"
      },
      {
        "duration": 41,
        "start_time": "2024-11-14T03:44:06.041Z"
      },
      {
        "duration": 5,
        "start_time": "2024-11-14T03:44:07.187Z"
      },
      {
        "duration": 6,
        "start_time": "2024-11-14T03:44:08.645Z"
      },
      {
        "duration": 3971,
        "start_time": "2024-11-14T03:44:09.524Z"
      },
      {
        "duration": 6,
        "start_time": "2024-11-14T03:44:13.497Z"
      },
      {
        "duration": 4,
        "start_time": "2024-11-14T03:44:13.580Z"
      },
      {
        "duration": 4,
        "start_time": "2024-11-14T03:44:15.925Z"
      },
      {
        "duration": 4,
        "start_time": "2024-11-14T03:44:16.364Z"
      },
      {
        "duration": 4,
        "start_time": "2024-11-14T03:44:16.781Z"
      },
      {
        "duration": 4,
        "start_time": "2024-11-14T03:44:17.212Z"
      },
      {
        "duration": 5,
        "start_time": "2024-11-14T03:44:17.639Z"
      },
      {
        "duration": 4,
        "start_time": "2024-11-14T03:44:18.070Z"
      },
      {
        "duration": 3,
        "start_time": "2024-11-14T03:44:19.527Z"
      },
      {
        "duration": 4,
        "start_time": "2024-11-14T03:44:19.996Z"
      },
      {
        "duration": 4,
        "start_time": "2024-11-14T03:44:20.612Z"
      },
      {
        "duration": 3768,
        "start_time": "2024-11-14T03:44:21.588Z"
      },
      {
        "duration": 3,
        "start_time": "2024-11-14T03:44:28.781Z"
      },
      {
        "duration": 4,
        "start_time": "2024-11-14T03:44:29.244Z"
      },
      {
        "duration": 3,
        "start_time": "2024-11-14T03:44:29.846Z"
      },
      {
        "duration": 861,
        "start_time": "2024-11-14T03:44:30.791Z"
      },
      {
        "duration": 5,
        "start_time": "2024-11-14T03:44:34.796Z"
      },
      {
        "duration": 4,
        "start_time": "2024-11-14T03:44:35.316Z"
      },
      {
        "duration": 4,
        "start_time": "2024-11-14T03:44:37.188Z"
      },
      {
        "duration": 3,
        "start_time": "2024-11-14T03:44:37.693Z"
      },
      {
        "duration": 15,
        "start_time": "2024-11-14T03:44:38.262Z"
      },
      {
        "duration": 13,
        "start_time": "2024-11-14T03:44:41.015Z"
      },
      {
        "duration": 7,
        "start_time": "2024-11-14T03:44:42.749Z"
      },
      {
        "duration": 9,
        "start_time": "2024-11-14T03:44:43.301Z"
      },
      {
        "duration": 2,
        "start_time": "2024-11-14T03:44:44.029Z"
      },
      {
        "duration": 3,
        "start_time": "2024-11-14T03:44:53.453Z"
      },
      {
        "duration": 3,
        "start_time": "2024-11-14T03:45:04.668Z"
      },
      {
        "duration": 3,
        "start_time": "2024-11-14T03:46:48.639Z"
      },
      {
        "duration": 14,
        "start_time": "2024-11-14T03:46:52.981Z"
      },
      {
        "duration": 5,
        "start_time": "2024-11-14T03:46:56.822Z"
      },
      {
        "duration": 9,
        "start_time": "2024-11-14T03:47:37.710Z"
      },
      {
        "duration": 5,
        "start_time": "2024-11-14T03:47:39.662Z"
      },
      {
        "duration": 16,
        "start_time": "2024-11-14T03:48:20.735Z"
      },
      {
        "duration": 8,
        "start_time": "2024-11-14T03:50:36.605Z"
      },
      {
        "duration": 4,
        "start_time": "2024-11-14T03:50:39.213Z"
      },
      {
        "duration": 15,
        "start_time": "2024-11-14T03:50:42.597Z"
      },
      {
        "duration": 10,
        "start_time": "2024-11-14T03:51:15.496Z"
      },
      {
        "duration": 4,
        "start_time": "2024-11-14T03:53:23.541Z"
      },
      {
        "duration": 12,
        "start_time": "2024-11-14T03:53:32.921Z"
      },
      {
        "duration": 5,
        "start_time": "2024-11-14T03:54:19.964Z"
      },
      {
        "duration": 2,
        "start_time": "2024-11-14T03:54:22.195Z"
      },
      {
        "duration": 2,
        "start_time": "2024-11-14T03:54:24.825Z"
      },
      {
        "duration": 4,
        "start_time": "2024-11-14T03:54:29.386Z"
      },
      {
        "duration": 181,
        "start_time": "2024-11-14T03:54:35.994Z"
      },
      {
        "duration": 4,
        "start_time": "2024-11-14T03:54:46.329Z"
      },
      {
        "duration": 12,
        "start_time": "2024-11-14T03:54:50.217Z"
      },
      {
        "duration": 6,
        "start_time": "2024-11-14T03:55:23.850Z"
      },
      {
        "duration": 2,
        "start_time": "2024-11-14T03:55:25.978Z"
      },
      {
        "duration": 3,
        "start_time": "2024-11-14T03:55:26.450Z"
      },
      {
        "duration": 3,
        "start_time": "2024-11-14T03:55:28.553Z"
      },
      {
        "duration": 10,
        "start_time": "2024-11-14T03:55:30.450Z"
      },
      {
        "duration": 3,
        "start_time": "2024-11-14T03:55:33.483Z"
      },
      {
        "duration": 11,
        "start_time": "2024-11-14T03:55:35.786Z"
      },
      {
        "duration": 4,
        "start_time": "2024-11-14T03:55:56.473Z"
      },
      {
        "duration": 10,
        "start_time": "2024-11-14T03:55:57.043Z"
      },
      {
        "duration": 12,
        "start_time": "2024-11-14T03:56:12.067Z"
      },
      {
        "duration": 7,
        "start_time": "2024-11-14T03:56:38.642Z"
      },
      {
        "duration": 3,
        "start_time": "2024-11-14T03:56:40.673Z"
      },
      {
        "duration": 13,
        "start_time": "2024-11-14T03:57:02.203Z"
      },
      {
        "duration": 6,
        "start_time": "2024-11-14T03:57:48.331Z"
      },
      {
        "duration": 3,
        "start_time": "2024-11-14T03:57:49.026Z"
      },
      {
        "duration": 3,
        "start_time": "2024-11-14T03:57:49.491Z"
      },
      {
        "duration": 3,
        "start_time": "2024-11-14T03:57:50.354Z"
      },
      {
        "duration": 3,
        "start_time": "2024-11-14T03:57:50.788Z"
      },
      {
        "duration": 9,
        "start_time": "2024-11-14T03:57:53.075Z"
      },
      {
        "duration": 10,
        "start_time": "2024-11-14T03:57:53.086Z"
      },
      {
        "duration": 4,
        "start_time": "2024-11-14T03:57:55.946Z"
      },
      {
        "duration": 9,
        "start_time": "2024-11-14T03:57:56.483Z"
      },
      {
        "duration": 3,
        "start_time": "2024-11-14T03:57:56.947Z"
      },
      {
        "duration": 4,
        "start_time": "2024-11-14T03:58:01.651Z"
      },
      {
        "duration": 5,
        "start_time": "2024-11-14T03:58:11.299Z"
      },
      {
        "duration": 5,
        "start_time": "2024-11-14T03:58:14.915Z"
      },
      {
        "duration": 14,
        "start_time": "2024-11-14T04:01:36.188Z"
      },
      {
        "duration": 4,
        "start_time": "2024-11-14T04:01:42.741Z"
      },
      {
        "duration": 6,
        "start_time": "2024-11-14T04:01:53.420Z"
      },
      {
        "duration": 1908,
        "start_time": "2024-11-14T04:02:03.613Z"
      },
      {
        "duration": 4,
        "start_time": "2024-11-14T04:02:14.013Z"
      },
      {
        "duration": 8,
        "start_time": "2024-11-14T04:02:16.220Z"
      },
      {
        "duration": 3,
        "start_time": "2024-11-14T04:02:25.813Z"
      },
      {
        "duration": 5,
        "start_time": "2024-11-14T04:02:28.165Z"
      },
      {
        "duration": 3,
        "start_time": "2024-11-14T04:02:28.638Z"
      },
      {
        "duration": 7822,
        "start_time": "2024-11-14T04:02:30.622Z"
      },
      {
        "duration": 4,
        "start_time": "2024-11-14T04:02:49.725Z"
      },
      {
        "duration": 3,
        "start_time": "2024-11-14T04:02:50.157Z"
      },
      {
        "duration": 19340,
        "start_time": "2024-11-14T04:02:52.184Z"
      },
      {
        "duration": 6,
        "start_time": "2024-11-14T04:03:25.174Z"
      },
      {
        "duration": 3,
        "start_time": "2024-11-14T04:03:26.063Z"
      },
      {
        "duration": 3,
        "start_time": "2024-11-14T04:03:26.597Z"
      },
      {
        "duration": 7338,
        "start_time": "2024-11-14T04:03:27.102Z"
      },
      {
        "duration": 4,
        "start_time": "2024-11-14T04:03:41.525Z"
      },
      {
        "duration": 8,
        "start_time": "2024-11-14T04:03:42.013Z"
      },
      {
        "duration": 4,
        "start_time": "2024-11-14T04:03:58.613Z"
      },
      {
        "duration": 4,
        "start_time": "2024-11-14T04:04:13.015Z"
      },
      {
        "duration": 3,
        "start_time": "2024-11-14T04:04:14.653Z"
      },
      {
        "duration": 4,
        "start_time": "2024-11-14T04:04:15.077Z"
      },
      {
        "duration": 7557,
        "start_time": "2024-11-14T04:04:15.477Z"
      },
      {
        "duration": 14,
        "start_time": "2024-11-14T04:04:47.542Z"
      },
      {
        "duration": 17,
        "start_time": "2024-11-14T04:05:14.591Z"
      },
      {
        "duration": 6,
        "start_time": "2024-11-14T04:05:24.783Z"
      },
      {
        "duration": 3,
        "start_time": "2024-11-14T04:05:26.710Z"
      },
      {
        "duration": 2,
        "start_time": "2024-11-14T04:05:27.110Z"
      },
      {
        "duration": 8119,
        "start_time": "2024-11-14T04:05:27.502Z"
      },
      {
        "duration": 4,
        "start_time": "2024-11-14T04:05:42.645Z"
      },
      {
        "duration": 7,
        "start_time": "2024-11-14T04:05:43.412Z"
      },
      {
        "duration": 4,
        "start_time": "2024-11-14T04:06:09.221Z"
      },
      {
        "duration": 4,
        "start_time": "2024-11-14T04:06:09.782Z"
      },
      {
        "duration": 2,
        "start_time": "2024-11-14T04:06:10.286Z"
      },
      {
        "duration": 7313,
        "start_time": "2024-11-14T04:06:10.711Z"
      },
      {
        "duration": 7,
        "start_time": "2024-11-14T04:06:45.287Z"
      },
      {
        "duration": 9,
        "start_time": "2024-11-14T04:06:45.693Z"
      },
      {
        "duration": 2,
        "start_time": "2024-11-14T04:06:46.351Z"
      },
      {
        "duration": 3,
        "start_time": "2024-11-14T04:06:46.814Z"
      },
      {
        "duration": 3,
        "start_time": "2024-11-14T04:06:48.550Z"
      },
      {
        "duration": 4,
        "start_time": "2024-11-14T04:06:48.894Z"
      },
      {
        "duration": 7,
        "start_time": "2024-11-14T04:06:49.249Z"
      },
      {
        "duration": 2,
        "start_time": "2024-11-14T04:06:49.599Z"
      },
      {
        "duration": 4,
        "start_time": "2024-11-14T04:06:49.958Z"
      },
      {
        "duration": 9,
        "start_time": "2024-11-14T04:06:50.284Z"
      },
      {
        "duration": 3,
        "start_time": "2024-11-14T04:06:50.636Z"
      },
      {
        "duration": 4,
        "start_time": "2024-11-14T04:06:52.013Z"
      },
      {
        "duration": 4,
        "start_time": "2024-11-14T04:06:52.708Z"
      },
      {
        "duration": 3,
        "start_time": "2024-11-14T04:06:54.814Z"
      },
      {
        "duration": 4,
        "start_time": "2024-11-14T04:06:55.183Z"
      },
      {
        "duration": 4,
        "start_time": "2024-11-14T04:06:57.767Z"
      },
      {
        "duration": 3,
        "start_time": "2024-11-14T04:06:59.559Z"
      },
      {
        "duration": 3,
        "start_time": "2024-11-14T04:07:00.166Z"
      },
      {
        "duration": 7340,
        "start_time": "2024-11-14T04:07:00.983Z"
      },
      {
        "duration": 5,
        "start_time": "2024-11-14T04:07:19.327Z"
      },
      {
        "duration": 4,
        "start_time": "2024-11-14T04:07:19.806Z"
      },
      {
        "duration": 2,
        "start_time": "2024-11-14T04:07:20.199Z"
      },
      {
        "duration": 7570,
        "start_time": "2024-11-14T04:07:20.655Z"
      },
      {
        "duration": 5,
        "start_time": "2024-11-14T04:07:35.768Z"
      },
      {
        "duration": 4,
        "start_time": "2024-11-14T04:07:36.064Z"
      },
      {
        "duration": 3,
        "start_time": "2024-11-14T04:07:36.462Z"
      },
      {
        "duration": 10420,
        "start_time": "2024-11-14T04:07:36.814Z"
      },
      {
        "duration": 5,
        "start_time": "2024-11-14T04:07:55.647Z"
      },
      {
        "duration": 3,
        "start_time": "2024-11-14T04:07:56.015Z"
      },
      {
        "duration": 3,
        "start_time": "2024-11-14T04:07:56.413Z"
      },
      {
        "duration": 36482,
        "start_time": "2024-11-14T04:07:56.847Z"
      },
      {
        "duration": 4,
        "start_time": "2024-11-14T04:09:17.569Z"
      },
      {
        "duration": 4,
        "start_time": "2024-11-14T04:09:17.975Z"
      },
      {
        "duration": 3,
        "start_time": "2024-11-14T04:09:18.375Z"
      },
      {
        "duration": 37803,
        "start_time": "2024-11-14T04:09:18.832Z"
      },
      {
        "duration": 4,
        "start_time": "2024-11-14T04:10:07.400Z"
      },
      {
        "duration": 4,
        "start_time": "2024-11-14T04:10:07.800Z"
      },
      {
        "duration": 2,
        "start_time": "2024-11-14T04:10:08.232Z"
      },
      {
        "duration": 38560,
        "start_time": "2024-11-14T04:10:08.664Z"
      },
      {
        "duration": 5,
        "start_time": "2024-11-14T04:11:02.897Z"
      },
      {
        "duration": 9,
        "start_time": "2024-11-14T04:11:03.353Z"
      },
      {
        "duration": 3,
        "start_time": "2024-11-14T04:11:03.857Z"
      },
      {
        "duration": 6,
        "start_time": "2024-11-14T04:11:05.313Z"
      },
      {
        "duration": 7,
        "start_time": "2024-11-14T04:11:05.888Z"
      },
      {
        "duration": 3,
        "start_time": "2024-11-14T04:11:09.841Z"
      },
      {
        "duration": 7,
        "start_time": "2024-11-14T04:11:10.273Z"
      },
      {
        "duration": 7,
        "start_time": "2024-11-14T04:11:16.936Z"
      },
      {
        "duration": 3,
        "start_time": "2024-11-14T04:11:17.280Z"
      },
      {
        "duration": 5,
        "start_time": "2024-11-14T04:11:17.696Z"
      },
      {
        "duration": 4,
        "start_time": "2024-11-14T04:11:18.072Z"
      },
      {
        "duration": 5,
        "start_time": "2024-11-14T04:11:18.464Z"
      },
      {
        "duration": 4,
        "start_time": "2024-11-14T04:11:19.008Z"
      },
      {
        "duration": 4,
        "start_time": "2024-11-14T04:11:20.392Z"
      },
      {
        "duration": 4,
        "start_time": "2024-11-14T04:11:20.776Z"
      },
      {
        "duration": 5,
        "start_time": "2024-11-14T04:11:21.166Z"
      },
      {
        "duration": 14,
        "start_time": "2024-11-14T04:11:21.539Z"
      },
      {
        "duration": 15,
        "start_time": "2024-11-14T04:11:22.888Z"
      },
      {
        "duration": 5,
        "start_time": "2024-11-14T04:11:23.464Z"
      },
      {
        "duration": 251,
        "start_time": "2024-11-14T04:11:24.873Z"
      },
      {
        "duration": 19,
        "start_time": "2024-11-14T04:11:27.833Z"
      },
      {
        "duration": 12247,
        "start_time": "2024-11-14T04:12:39.874Z"
      },
      {
        "duration": 1644,
        "start_time": "2024-11-14T04:13:25.498Z"
      },
      {
        "duration": 4,
        "start_time": "2024-11-14T04:13:38.352Z"
      },
      {
        "duration": 3,
        "start_time": "2024-11-14T04:13:39.121Z"
      },
      {
        "duration": 6,
        "start_time": "2024-11-14T04:13:39.593Z"
      },
      {
        "duration": 4,
        "start_time": "2024-11-14T04:15:35.283Z"
      },
      {
        "duration": 4,
        "start_time": "2024-11-14T04:15:39.818Z"
      },
      {
        "duration": 3,
        "start_time": "2024-11-14T04:15:40.434Z"
      },
      {
        "duration": 7743,
        "start_time": "2024-11-14T04:15:40.891Z"
      },
      {
        "duration": 5,
        "start_time": "2024-11-14T04:16:17.123Z"
      },
      {
        "duration": 3,
        "start_time": "2024-11-14T04:16:18.018Z"
      },
      {
        "duration": 2,
        "start_time": "2024-11-14T04:16:18.531Z"
      },
      {
        "duration": 7887,
        "start_time": "2024-11-14T04:16:19.051Z"
      },
      {
        "duration": 17,
        "start_time": "2024-11-14T04:16:51.596Z"
      },
      {
        "duration": 9,
        "start_time": "2024-11-14T04:17:06.018Z"
      },
      {
        "duration": 3,
        "start_time": "2024-11-14T04:17:06.539Z"
      },
      {
        "duration": 3,
        "start_time": "2024-11-14T04:17:07.027Z"
      },
      {
        "duration": 3,
        "start_time": "2024-11-14T04:17:09.002Z"
      },
      {
        "duration": 3,
        "start_time": "2024-11-14T04:17:09.282Z"
      },
      {
        "duration": 10,
        "start_time": "2024-11-14T04:17:09.540Z"
      },
      {
        "duration": 3,
        "start_time": "2024-11-14T04:17:09.859Z"
      },
      {
        "duration": 3,
        "start_time": "2024-11-14T04:17:10.131Z"
      },
      {
        "duration": 9,
        "start_time": "2024-11-14T04:17:10.435Z"
      },
      {
        "duration": 3,
        "start_time": "2024-11-14T04:17:10.778Z"
      },
      {
        "duration": 5,
        "start_time": "2024-11-14T04:17:12.438Z"
      },
      {
        "duration": 4,
        "start_time": "2024-11-14T04:17:13.147Z"
      },
      {
        "duration": 3,
        "start_time": "2024-11-14T04:17:14.185Z"
      },
      {
        "duration": 5,
        "start_time": "2024-11-14T04:17:14.508Z"
      },
      {
        "duration": 5,
        "start_time": "2024-11-14T04:17:17.835Z"
      },
      {
        "duration": 3,
        "start_time": "2024-11-14T04:17:19.543Z"
      },
      {
        "duration": 3,
        "start_time": "2024-11-14T04:17:19.946Z"
      },
      {
        "duration": 8479,
        "start_time": "2024-11-14T04:17:20.356Z"
      },
      {
        "duration": 3,
        "start_time": "2024-11-14T04:22:44.598Z"
      },
      {
        "duration": 3,
        "start_time": "2024-11-14T04:22:46.837Z"
      },
      {
        "duration": 3,
        "start_time": "2024-11-14T04:22:47.261Z"
      },
      {
        "duration": 13,
        "start_time": "2024-11-14T04:22:47.661Z"
      },
      {
        "duration": 11,
        "start_time": "2024-11-14T04:22:52.879Z"
      },
      {
        "duration": 2,
        "start_time": "2024-11-14T04:22:53.326Z"
      },
      {
        "duration": 3,
        "start_time": "2024-11-14T04:22:53.754Z"
      },
      {
        "duration": 3,
        "start_time": "2024-11-14T04:22:54.501Z"
      },
      {
        "duration": 3,
        "start_time": "2024-11-14T04:22:54.925Z"
      },
      {
        "duration": 7,
        "start_time": "2024-11-14T04:22:55.366Z"
      },
      {
        "duration": 3,
        "start_time": "2024-11-14T04:22:55.965Z"
      },
      {
        "duration": 27,
        "start_time": "2024-11-14T04:22:56.430Z"
      },
      {
        "duration": 9,
        "start_time": "2024-11-14T04:23:50.062Z"
      },
      {
        "duration": 3,
        "start_time": "2024-11-14T04:23:50.502Z"
      },
      {
        "duration": 2,
        "start_time": "2024-11-14T04:23:50.935Z"
      },
      {
        "duration": 3,
        "start_time": "2024-11-14T04:23:53.509Z"
      },
      {
        "duration": 9,
        "start_time": "2024-11-14T04:23:53.514Z"
      },
      {
        "duration": 7,
        "start_time": "2024-11-14T04:23:53.926Z"
      },
      {
        "duration": 3,
        "start_time": "2024-11-14T04:23:54.390Z"
      },
      {
        "duration": 25,
        "start_time": "2024-11-14T04:23:54.967Z"
      },
      {
        "duration": 11,
        "start_time": "2024-11-14T04:24:02.582Z"
      },
      {
        "duration": 3,
        "start_time": "2024-11-14T04:24:03.236Z"
      },
      {
        "duration": 13,
        "start_time": "2024-11-14T04:24:03.989Z"
      },
      {
        "duration": 3,
        "start_time": "2024-11-14T04:24:33.638Z"
      },
      {
        "duration": 9,
        "start_time": "2024-11-14T04:24:35.830Z"
      },
      {
        "duration": 3,
        "start_time": "2024-11-14T04:24:36.374Z"
      },
      {
        "duration": 2,
        "start_time": "2024-11-14T04:24:37.471Z"
      },
      {
        "duration": 2,
        "start_time": "2024-11-14T04:24:38.350Z"
      },
      {
        "duration": 3,
        "start_time": "2024-11-14T04:24:38.718Z"
      },
      {
        "duration": 7,
        "start_time": "2024-11-14T04:24:39.095Z"
      },
      {
        "duration": 2,
        "start_time": "2024-11-14T04:24:40.559Z"
      },
      {
        "duration": 4,
        "start_time": "2024-11-14T04:24:41.350Z"
      },
      {
        "duration": 9,
        "start_time": "2024-11-14T04:24:43.167Z"
      },
      {
        "duration": 4,
        "start_time": "2024-11-14T04:24:43.694Z"
      },
      {
        "duration": 5,
        "start_time": "2024-11-14T04:24:44.230Z"
      },
      {
        "duration": 5,
        "start_time": "2024-11-14T04:24:45.686Z"
      },
      {
        "duration": 2,
        "start_time": "2024-11-14T04:24:48.822Z"
      },
      {
        "duration": 5,
        "start_time": "2024-11-14T04:24:49.446Z"
      },
      {
        "duration": 4,
        "start_time": "2024-11-14T04:24:51.823Z"
      },
      {
        "duration": 3,
        "start_time": "2024-11-14T04:24:53.471Z"
      },
      {
        "duration": 3,
        "start_time": "2024-11-14T04:24:54.102Z"
      },
      {
        "duration": 7417,
        "start_time": "2024-11-14T04:24:54.527Z"
      },
      {
        "duration": 4,
        "start_time": "2024-11-14T04:25:36.840Z"
      },
      {
        "duration": 3,
        "start_time": "2024-11-14T04:25:37.289Z"
      },
      {
        "duration": 3,
        "start_time": "2024-11-14T04:25:37.759Z"
      },
      {
        "duration": 38659,
        "start_time": "2024-11-14T04:25:38.863Z"
      },
      {
        "duration": 7,
        "start_time": "2024-11-14T04:27:06.423Z"
      },
      {
        "duration": 8,
        "start_time": "2024-11-14T04:27:07.016Z"
      },
      {
        "duration": 3,
        "start_time": "2024-11-14T04:27:07.640Z"
      },
      {
        "duration": 2,
        "start_time": "2024-11-14T04:27:08.176Z"
      },
      {
        "duration": 3,
        "start_time": "2024-11-14T04:27:09.960Z"
      },
      {
        "duration": 2,
        "start_time": "2024-11-14T04:27:10.288Z"
      },
      {
        "duration": 8,
        "start_time": "2024-11-14T04:27:10.647Z"
      },
      {
        "duration": 3,
        "start_time": "2024-11-14T04:27:10.982Z"
      },
      {
        "duration": 4,
        "start_time": "2024-11-14T04:27:11.622Z"
      },
      {
        "duration": 10,
        "start_time": "2024-11-14T04:27:13.103Z"
      },
      {
        "duration": 3,
        "start_time": "2024-11-14T04:27:13.487Z"
      },
      {
        "duration": 4,
        "start_time": "2024-11-14T04:27:13.887Z"
      },
      {
        "duration": 4,
        "start_time": "2024-11-14T04:27:15.519Z"
      },
      {
        "duration": 2,
        "start_time": "2024-11-14T04:27:18.559Z"
      },
      {
        "duration": 4,
        "start_time": "2024-11-14T04:27:18.952Z"
      },
      {
        "duration": 5,
        "start_time": "2024-11-14T04:27:21.527Z"
      },
      {
        "duration": 3,
        "start_time": "2024-11-14T04:27:23.376Z"
      },
      {
        "duration": 3,
        "start_time": "2024-11-14T04:27:25.143Z"
      },
      {
        "duration": 39453,
        "start_time": "2024-11-14T04:27:26.784Z"
      },
      {
        "duration": 4,
        "start_time": "2024-11-14T04:29:40.457Z"
      },
      {
        "duration": 3,
        "start_time": "2024-11-14T04:29:42.097Z"
      },
      {
        "duration": 2,
        "start_time": "2024-11-14T04:29:42.513Z"
      },
      {
        "duration": 43064,
        "start_time": "2024-11-14T04:29:43.377Z"
      },
      {
        "duration": 5,
        "start_time": "2024-11-14T04:31:56.257Z"
      },
      {
        "duration": 4,
        "start_time": "2024-11-14T04:31:56.729Z"
      },
      {
        "duration": 3,
        "start_time": "2024-11-14T04:31:57.135Z"
      },
      {
        "duration": 44706,
        "start_time": "2024-11-14T04:31:57.738Z"
      },
      {
        "duration": 5,
        "start_time": "2024-11-14T04:32:45.706Z"
      },
      {
        "duration": 4,
        "start_time": "2024-11-14T04:32:47.273Z"
      },
      {
        "duration": 3,
        "start_time": "2024-11-14T04:32:47.705Z"
      },
      {
        "duration": 15548,
        "start_time": "2024-11-14T04:32:48.178Z"
      },
      {
        "duration": 5,
        "start_time": "2024-11-14T04:33:17.874Z"
      },
      {
        "duration": 3,
        "start_time": "2024-11-14T04:33:18.434Z"
      },
      {
        "duration": 3,
        "start_time": "2024-11-14T04:33:18.874Z"
      },
      {
        "duration": 7586,
        "start_time": "2024-11-14T04:33:19.353Z"
      },
      {
        "duration": 4,
        "start_time": "2024-11-14T04:33:33.914Z"
      },
      {
        "duration": 2,
        "start_time": "2024-11-14T04:33:34.387Z"
      },
      {
        "duration": 5,
        "start_time": "2024-11-14T04:33:36.426Z"
      },
      {
        "duration": 3,
        "start_time": "2024-11-14T04:33:36.690Z"
      },
      {
        "duration": 3,
        "start_time": "2024-11-14T04:33:36.914Z"
      },
      {
        "duration": 38461,
        "start_time": "2024-11-14T04:33:37.363Z"
      },
      {
        "duration": 9,
        "start_time": "2024-11-14T04:35:31.787Z"
      },
      {
        "duration": 3,
        "start_time": "2024-11-14T04:35:32.226Z"
      },
      {
        "duration": 3,
        "start_time": "2024-11-14T04:35:32.675Z"
      },
      {
        "duration": 3,
        "start_time": "2024-11-14T04:35:35.283Z"
      },
      {
        "duration": 3,
        "start_time": "2024-11-14T04:35:35.740Z"
      },
      {
        "duration": 21,
        "start_time": "2024-11-14T04:35:36.331Z"
      },
      {
        "duration": 3,
        "start_time": "2024-11-14T04:38:50.902Z"
      },
      {
        "duration": 14,
        "start_time": "2024-11-14T04:38:56.574Z"
      },
      {
        "duration": 12737,
        "start_time": "2024-11-14T04:39:25.349Z"
      },
      {
        "duration": 13,
        "start_time": "2024-11-14T04:39:54.230Z"
      },
      {
        "duration": 2,
        "start_time": "2024-11-14T04:39:54.542Z"
      },
      {
        "duration": 2,
        "start_time": "2024-11-14T04:39:54.903Z"
      },
      {
        "duration": 3,
        "start_time": "2024-11-14T04:39:55.511Z"
      },
      {
        "duration": 2,
        "start_time": "2024-11-14T04:39:55.821Z"
      },
      {
        "duration": 24,
        "start_time": "2024-11-14T04:39:56.373Z"
      },
      {
        "duration": 4,
        "start_time": "2024-11-14T04:40:45.325Z"
      },
      {
        "duration": 19,
        "start_time": "2024-11-14T04:40:45.821Z"
      },
      {
        "duration": 8442,
        "start_time": "2024-11-14T04:41:19.086Z"
      },
      {
        "duration": 10,
        "start_time": "2024-11-14T04:41:32.911Z"
      },
      {
        "duration": 9,
        "start_time": "2024-11-14T04:41:45.630Z"
      },
      {
        "duration": 12,
        "start_time": "2024-11-14T04:41:46.000Z"
      },
      {
        "duration": 3,
        "start_time": "2024-11-14T04:41:46.342Z"
      },
      {
        "duration": 3,
        "start_time": "2024-11-14T04:41:46.685Z"
      },
      {
        "duration": 3,
        "start_time": "2024-11-14T04:41:47.373Z"
      },
      {
        "duration": 3,
        "start_time": "2024-11-14T04:41:47.687Z"
      },
      {
        "duration": 24,
        "start_time": "2024-11-14T04:41:48.991Z"
      },
      {
        "duration": 11776,
        "start_time": "2024-11-14T04:42:56.120Z"
      },
      {
        "duration": 9,
        "start_time": "2024-11-14T04:43:13.536Z"
      },
      {
        "duration": 3,
        "start_time": "2024-11-14T04:43:28.671Z"
      },
      {
        "duration": 3,
        "start_time": "2024-11-14T04:43:28.879Z"
      },
      {
        "duration": 23,
        "start_time": "2024-11-14T04:43:29.223Z"
      },
      {
        "duration": 3,
        "start_time": "2024-11-14T04:45:53.014Z"
      },
      {
        "duration": 15,
        "start_time": "2024-11-14T04:45:54.016Z"
      },
      {
        "duration": 8021,
        "start_time": "2024-11-14T04:46:40.645Z"
      },
      {
        "duration": 9,
        "start_time": "2024-11-14T04:46:48.669Z"
      },
      {
        "duration": 11,
        "start_time": "2024-11-14T04:46:48.679Z"
      },
      {
        "duration": 33,
        "start_time": "2024-11-14T04:46:48.692Z"
      },
      {
        "duration": 12,
        "start_time": "2024-11-14T04:46:48.727Z"
      },
      {
        "duration": 12,
        "start_time": "2024-11-14T04:46:48.741Z"
      },
      {
        "duration": 33,
        "start_time": "2024-11-14T04:46:48.754Z"
      },
      {
        "duration": 7,
        "start_time": "2024-11-14T04:46:48.789Z"
      },
      {
        "duration": 17,
        "start_time": "2024-11-14T04:46:48.798Z"
      },
      {
        "duration": 5,
        "start_time": "2024-11-14T04:46:48.818Z"
      },
      {
        "duration": 19,
        "start_time": "2024-11-14T04:46:48.824Z"
      },
      {
        "duration": 3822,
        "start_time": "2024-11-14T04:46:48.845Z"
      },
      {
        "duration": 6,
        "start_time": "2024-11-14T04:46:52.669Z"
      },
      {
        "duration": 12,
        "start_time": "2024-11-14T04:46:52.676Z"
      },
      {
        "duration": 5,
        "start_time": "2024-11-14T04:46:52.689Z"
      },
      {
        "duration": 9,
        "start_time": "2024-11-14T04:46:52.696Z"
      },
      {
        "duration": 5,
        "start_time": "2024-11-14T04:46:52.720Z"
      },
      {
        "duration": 7,
        "start_time": "2024-11-14T04:46:52.726Z"
      },
      {
        "duration": 12,
        "start_time": "2024-11-14T04:46:52.735Z"
      },
      {
        "duration": 4,
        "start_time": "2024-11-14T04:46:52.748Z"
      },
      {
        "duration": 8,
        "start_time": "2024-11-14T04:46:52.753Z"
      },
      {
        "duration": 6,
        "start_time": "2024-11-14T04:46:52.762Z"
      },
      {
        "duration": 10,
        "start_time": "2024-11-14T04:46:52.770Z"
      },
      {
        "duration": 3894,
        "start_time": "2024-11-14T04:46:52.782Z"
      },
      {
        "duration": 3,
        "start_time": "2024-11-14T04:46:56.678Z"
      },
      {
        "duration": 13,
        "start_time": "2024-11-14T04:46:56.683Z"
      },
      {
        "duration": 8,
        "start_time": "2024-11-14T04:46:56.698Z"
      },
      {
        "duration": 864,
        "start_time": "2024-11-14T04:46:56.709Z"
      },
      {
        "duration": 5,
        "start_time": "2024-11-14T04:46:57.574Z"
      },
      {
        "duration": 9,
        "start_time": "2024-11-14T04:46:57.581Z"
      },
      {
        "duration": 11,
        "start_time": "2024-11-14T04:46:57.591Z"
      },
      {
        "duration": 7,
        "start_time": "2024-11-14T04:46:57.604Z"
      },
      {
        "duration": 27,
        "start_time": "2024-11-14T04:46:57.612Z"
      },
      {
        "duration": 11,
        "start_time": "2024-11-14T04:46:57.641Z"
      },
      {
        "duration": 8,
        "start_time": "2024-11-14T04:46:57.654Z"
      },
      {
        "duration": 8,
        "start_time": "2024-11-14T04:46:57.663Z"
      },
      {
        "duration": 4,
        "start_time": "2024-11-14T04:46:57.672Z"
      },
      {
        "duration": 5,
        "start_time": "2024-11-14T04:46:57.677Z"
      },
      {
        "duration": 6,
        "start_time": "2024-11-14T04:46:57.683Z"
      },
      {
        "duration": 33,
        "start_time": "2024-11-14T04:46:57.690Z"
      },
      {
        "duration": 18,
        "start_time": "2024-11-14T04:48:28.180Z"
      },
      {
        "duration": 3,
        "start_time": "2024-11-14T04:48:44.306Z"
      },
      {
        "duration": 17,
        "start_time": "2024-11-14T04:48:45.794Z"
      },
      {
        "duration": 3,
        "start_time": "2024-11-14T04:49:50.659Z"
      },
      {
        "duration": 16,
        "start_time": "2024-11-14T04:49:51.379Z"
      },
      {
        "duration": 7948,
        "start_time": "2024-11-14T04:50:57.756Z"
      },
      {
        "duration": 2769,
        "start_time": "2024-11-14T04:51:05.707Z"
      },
      {
        "duration": 6,
        "start_time": "2024-11-14T04:51:08.478Z"
      },
      {
        "duration": 41,
        "start_time": "2024-11-14T04:51:08.487Z"
      },
      {
        "duration": 17,
        "start_time": "2024-11-14T04:51:08.531Z"
      },
      {
        "duration": 11,
        "start_time": "2024-11-14T04:51:08.550Z"
      },
      {
        "duration": 3,
        "start_time": "2024-11-14T04:51:08.563Z"
      },
      {
        "duration": 5,
        "start_time": "2024-11-14T04:51:08.568Z"
      },
      {
        "duration": 14,
        "start_time": "2024-11-14T04:51:08.574Z"
      },
      {
        "duration": 32,
        "start_time": "2024-11-14T04:51:08.590Z"
      },
      {
        "duration": 5,
        "start_time": "2024-11-14T04:51:08.624Z"
      },
      {
        "duration": 3750,
        "start_time": "2024-11-14T04:51:08.631Z"
      },
      {
        "duration": 6,
        "start_time": "2024-11-14T04:51:12.382Z"
      },
      {
        "duration": 95,
        "start_time": "2024-11-14T04:51:12.390Z"
      },
      {
        "duration": 17,
        "start_time": "2024-11-14T04:51:12.487Z"
      },
      {
        "duration": 5,
        "start_time": "2024-11-14T04:51:12.506Z"
      },
      {
        "duration": 20,
        "start_time": "2024-11-14T04:51:12.513Z"
      },
      {
        "duration": 21,
        "start_time": "2024-11-14T04:51:12.535Z"
      },
      {
        "duration": 6,
        "start_time": "2024-11-14T04:51:12.558Z"
      },
      {
        "duration": 12,
        "start_time": "2024-11-14T04:51:12.565Z"
      },
      {
        "duration": 5,
        "start_time": "2024-11-14T04:51:12.578Z"
      },
      {
        "duration": 6,
        "start_time": "2024-11-14T04:51:12.585Z"
      },
      {
        "duration": 6,
        "start_time": "2024-11-14T04:51:12.592Z"
      },
      {
        "duration": 3734,
        "start_time": "2024-11-14T04:51:12.599Z"
      },
      {
        "duration": 4,
        "start_time": "2024-11-14T04:51:16.334Z"
      },
      {
        "duration": 8,
        "start_time": "2024-11-14T04:51:16.340Z"
      },
      {
        "duration": 5,
        "start_time": "2024-11-14T04:51:16.349Z"
      },
      {
        "duration": 1090,
        "start_time": "2024-11-14T04:51:16.357Z"
      },
      {
        "duration": 6,
        "start_time": "2024-11-14T04:51:17.449Z"
      },
      {
        "duration": 5,
        "start_time": "2024-11-14T04:51:17.457Z"
      },
      {
        "duration": 4,
        "start_time": "2024-11-14T04:51:17.464Z"
      },
      {
        "duration": 9,
        "start_time": "2024-11-14T04:51:17.470Z"
      },
      {
        "duration": 41,
        "start_time": "2024-11-14T04:51:17.481Z"
      },
      {
        "duration": 18,
        "start_time": "2024-11-14T04:51:17.525Z"
      },
      {
        "duration": 26,
        "start_time": "2024-11-14T04:51:17.545Z"
      },
      {
        "duration": 11,
        "start_time": "2024-11-14T04:51:17.574Z"
      },
      {
        "duration": 2,
        "start_time": "2024-11-14T04:51:17.587Z"
      },
      {
        "duration": 6,
        "start_time": "2024-11-14T04:51:17.591Z"
      },
      {
        "duration": 8,
        "start_time": "2024-11-14T04:51:17.599Z"
      },
      {
        "duration": 3,
        "start_time": "2024-11-14T04:51:21.819Z"
      },
      {
        "duration": 183,
        "start_time": "2024-11-14T04:51:22.299Z"
      },
      {
        "duration": 3,
        "start_time": "2024-11-14T04:51:39.327Z"
      },
      {
        "duration": 10,
        "start_time": "2024-11-14T04:51:39.939Z"
      },
      {
        "duration": 12,
        "start_time": "2024-11-14T04:51:52.732Z"
      },
      {
        "duration": 3,
        "start_time": "2024-11-14T04:51:59.107Z"
      },
      {
        "duration": 29,
        "start_time": "2024-11-14T04:52:00.115Z"
      },
      {
        "duration": 13,
        "start_time": "2024-11-14T04:52:15.611Z"
      },
      {
        "duration": 3,
        "start_time": "2024-11-14T04:52:47.924Z"
      },
      {
        "duration": 9,
        "start_time": "2024-11-14T04:52:48.675Z"
      },
      {
        "duration": 4,
        "start_time": "2024-11-14T04:52:49.469Z"
      },
      {
        "duration": 4,
        "start_time": "2024-11-14T04:52:50.395Z"
      },
      {
        "duration": 10,
        "start_time": "2024-11-14T04:52:51.339Z"
      },
      {
        "duration": 4,
        "start_time": "2024-11-14T04:52:51.756Z"
      },
      {
        "duration": 4,
        "start_time": "2024-11-14T04:52:52.125Z"
      },
      {
        "duration": 5,
        "start_time": "2024-11-14T04:52:52.892Z"
      },
      {
        "duration": 2,
        "start_time": "2024-11-14T04:52:54.955Z"
      },
      {
        "duration": 5,
        "start_time": "2024-11-14T04:52:55.379Z"
      },
      {
        "duration": 5,
        "start_time": "2024-11-14T04:52:57.516Z"
      },
      {
        "duration": 4,
        "start_time": "2024-11-14T04:52:59.276Z"
      },
      {
        "duration": 3,
        "start_time": "2024-11-14T04:53:01.285Z"
      },
      {
        "duration": 36955,
        "start_time": "2024-11-14T04:53:01.587Z"
      },
      {
        "duration": 11,
        "start_time": "2024-11-14T04:54:26.639Z"
      },
      {
        "duration": 2,
        "start_time": "2024-11-14T04:54:27.093Z"
      },
      {
        "duration": 3,
        "start_time": "2024-11-14T04:54:27.542Z"
      },
      {
        "duration": 3,
        "start_time": "2024-11-14T04:54:29.509Z"
      },
      {
        "duration": 3,
        "start_time": "2024-11-14T04:54:29.924Z"
      },
      {
        "duration": 10,
        "start_time": "2024-11-14T04:54:30.390Z"
      },
      {
        "duration": 3,
        "start_time": "2024-11-14T04:54:31.159Z"
      },
      {
        "duration": 4,
        "start_time": "2024-11-14T04:54:32.140Z"
      },
      {
        "duration": 10,
        "start_time": "2024-11-14T04:54:32.540Z"
      },
      {
        "duration": 4,
        "start_time": "2024-11-14T04:54:33.852Z"
      },
      {
        "duration": 4,
        "start_time": "2024-11-14T04:54:34.269Z"
      },
      {
        "duration": 6,
        "start_time": "2024-11-14T04:54:35.860Z"
      },
      {
        "duration": 2,
        "start_time": "2024-11-14T04:54:37.995Z"
      },
      {
        "duration": 6,
        "start_time": "2024-11-14T04:54:38.382Z"
      },
      {
        "duration": 4,
        "start_time": "2024-11-14T04:54:40.325Z"
      },
      {
        "duration": 3,
        "start_time": "2024-11-14T04:54:40.884Z"
      },
      {
        "duration": 3,
        "start_time": "2024-11-14T04:54:41.516Z"
      },
      {
        "duration": 38048,
        "start_time": "2024-11-14T04:54:41.973Z"
      },
      {
        "duration": 5,
        "start_time": "2024-11-14T04:57:47.919Z"
      },
      {
        "duration": 3,
        "start_time": "2024-11-14T04:57:48.446Z"
      },
      {
        "duration": 3,
        "start_time": "2024-11-14T04:57:50.149Z"
      },
      {
        "duration": 41495,
        "start_time": "2024-11-14T04:57:50.742Z"
      },
      {
        "duration": 31,
        "start_time": "2024-11-14T05:08:00.620Z"
      },
      {
        "duration": 8021,
        "start_time": "2024-11-14T05:08:28.108Z"
      },
      {
        "duration": 18,
        "start_time": "2024-11-14T06:33:18.527Z"
      },
      {
        "duration": 3,
        "start_time": "2024-11-14T06:33:23.903Z"
      },
      {
        "duration": 13,
        "start_time": "2024-11-14T06:33:44.081Z"
      },
      {
        "duration": 3,
        "start_time": "2024-11-14T06:33:45.672Z"
      },
      {
        "duration": 3,
        "start_time": "2024-11-14T06:33:46.087Z"
      },
      {
        "duration": 6,
        "start_time": "2024-11-14T06:33:47.006Z"
      },
      {
        "duration": 3,
        "start_time": "2024-11-14T06:33:47.893Z"
      },
      {
        "duration": 13,
        "start_time": "2024-11-14T06:33:48.399Z"
      },
      {
        "duration": 4,
        "start_time": "2024-11-14T06:33:50.008Z"
      },
      {
        "duration": 4,
        "start_time": "2024-11-14T06:33:50.854Z"
      },
      {
        "duration": 13,
        "start_time": "2024-11-14T06:33:51.311Z"
      },
      {
        "duration": 4,
        "start_time": "2024-11-14T06:33:51.763Z"
      },
      {
        "duration": 5,
        "start_time": "2024-11-14T06:33:52.207Z"
      },
      {
        "duration": 5,
        "start_time": "2024-11-14T06:33:54.223Z"
      },
      {
        "duration": 3,
        "start_time": "2024-11-14T06:33:56.166Z"
      },
      {
        "duration": 6,
        "start_time": "2024-11-14T06:33:56.711Z"
      },
      {
        "duration": 5,
        "start_time": "2024-11-14T06:33:58.798Z"
      },
      {
        "duration": 3,
        "start_time": "2024-11-14T06:34:00.463Z"
      },
      {
        "duration": 2,
        "start_time": "2024-11-14T06:34:01.479Z"
      },
      {
        "duration": 8306,
        "start_time": "2024-11-14T06:34:02.015Z"
      },
      {
        "duration": 7973,
        "start_time": "2024-11-14T06:47:23.655Z"
      },
      {
        "duration": 9,
        "start_time": "2024-11-14T06:47:31.630Z"
      },
      {
        "duration": 17,
        "start_time": "2024-11-14T06:47:31.641Z"
      },
      {
        "duration": 81,
        "start_time": "2024-11-14T06:47:31.660Z"
      },
      {
        "duration": 13,
        "start_time": "2024-11-14T06:47:31.743Z"
      },
      {
        "duration": 23,
        "start_time": "2024-11-14T06:47:31.757Z"
      },
      {
        "duration": 4,
        "start_time": "2024-11-14T06:47:31.782Z"
      },
      {
        "duration": 7,
        "start_time": "2024-11-14T06:47:31.788Z"
      },
      {
        "duration": 24,
        "start_time": "2024-11-14T06:47:31.797Z"
      },
      {
        "duration": 13,
        "start_time": "2024-11-14T06:47:31.825Z"
      },
      {
        "duration": 9,
        "start_time": "2024-11-14T06:47:31.839Z"
      },
      {
        "duration": 3912,
        "start_time": "2024-11-14T06:47:31.850Z"
      },
      {
        "duration": 7,
        "start_time": "2024-11-14T06:47:35.764Z"
      },
      {
        "duration": 28,
        "start_time": "2024-11-14T06:47:35.773Z"
      },
      {
        "duration": 16,
        "start_time": "2024-11-14T06:47:35.802Z"
      },
      {
        "duration": 46,
        "start_time": "2024-11-14T06:47:35.820Z"
      },
      {
        "duration": 35,
        "start_time": "2024-11-14T06:47:35.868Z"
      },
      {
        "duration": 23,
        "start_time": "2024-11-14T06:47:35.905Z"
      },
      {
        "duration": 20,
        "start_time": "2024-11-14T06:47:35.929Z"
      },
      {
        "duration": 25,
        "start_time": "2024-11-14T06:47:35.951Z"
      },
      {
        "duration": 9,
        "start_time": "2024-11-14T06:47:35.978Z"
      },
      {
        "duration": 54,
        "start_time": "2024-11-14T06:47:35.989Z"
      },
      {
        "duration": 31,
        "start_time": "2024-11-14T06:47:36.045Z"
      },
      {
        "duration": 3681,
        "start_time": "2024-11-14T06:47:36.077Z"
      },
      {
        "duration": 5,
        "start_time": "2024-11-14T06:47:39.760Z"
      },
      {
        "duration": 12,
        "start_time": "2024-11-14T06:47:39.767Z"
      },
      {
        "duration": 7,
        "start_time": "2024-11-14T06:47:39.780Z"
      },
      {
        "duration": 1074,
        "start_time": "2024-11-14T06:47:39.792Z"
      },
      {
        "duration": 6,
        "start_time": "2024-11-14T06:47:40.868Z"
      },
      {
        "duration": 13,
        "start_time": "2024-11-14T06:47:40.876Z"
      },
      {
        "duration": 14,
        "start_time": "2024-11-14T06:47:40.891Z"
      },
      {
        "duration": 4,
        "start_time": "2024-11-14T06:47:40.907Z"
      },
      {
        "duration": 21,
        "start_time": "2024-11-14T06:47:40.913Z"
      },
      {
        "duration": 11,
        "start_time": "2024-11-14T06:47:40.936Z"
      },
      {
        "duration": 8,
        "start_time": "2024-11-14T06:47:40.949Z"
      },
      {
        "duration": 12,
        "start_time": "2024-11-14T06:47:40.958Z"
      },
      {
        "duration": 4,
        "start_time": "2024-11-14T06:47:40.972Z"
      },
      {
        "duration": 121,
        "start_time": "2024-11-14T06:47:40.978Z"
      },
      {
        "duration": 4,
        "start_time": "2024-11-14T06:47:41.100Z"
      },
      {
        "duration": 10,
        "start_time": "2024-11-14T06:47:41.105Z"
      },
      {
        "duration": 9,
        "start_time": "2024-11-14T06:47:41.117Z"
      },
      {
        "duration": 2,
        "start_time": "2024-11-14T06:47:41.128Z"
      },
      {
        "duration": 5,
        "start_time": "2024-11-14T06:47:41.132Z"
      },
      {
        "duration": 13,
        "start_time": "2024-11-14T06:47:41.139Z"
      },
      {
        "duration": 5,
        "start_time": "2024-11-14T06:47:41.154Z"
      },
      {
        "duration": 7,
        "start_time": "2024-11-14T06:47:41.161Z"
      },
      {
        "duration": 6,
        "start_time": "2024-11-14T06:47:41.169Z"
      },
      {
        "duration": 11,
        "start_time": "2024-11-14T06:47:41.177Z"
      },
      {
        "duration": 5,
        "start_time": "2024-11-14T06:47:41.190Z"
      },
      {
        "duration": 5,
        "start_time": "2024-11-14T06:47:41.220Z"
      },
      {
        "duration": 16,
        "start_time": "2024-11-14T06:47:41.227Z"
      },
      {
        "duration": 15,
        "start_time": "2024-11-14T06:47:41.245Z"
      },
      {
        "duration": 7541,
        "start_time": "2024-11-14T06:47:44.197Z"
      },
      {
        "duration": 7,
        "start_time": "2024-11-14T11:16:11.792Z"
      },
      {
        "duration": 30,
        "start_time": "2024-11-14T11:16:12.515Z"
      },
      {
        "duration": 11,
        "start_time": "2024-11-14T11:16:12.917Z"
      },
      {
        "duration": 11,
        "start_time": "2024-11-14T11:16:14.510Z"
      },
      {
        "duration": 3,
        "start_time": "2024-11-14T11:16:19.700Z"
      },
      {
        "duration": 4,
        "start_time": "2024-11-14T11:16:20.412Z"
      },
      {
        "duration": 11,
        "start_time": "2024-11-14T11:16:22.534Z"
      },
      {
        "duration": 4,
        "start_time": "2024-11-14T11:16:29.429Z"
      },
      {
        "duration": 6,
        "start_time": "2024-11-14T11:16:30.237Z"
      },
      {
        "duration": 3766,
        "start_time": "2024-11-14T11:17:03.461Z"
      },
      {
        "duration": 5,
        "start_time": "2024-11-14T11:17:50.062Z"
      },
      {
        "duration": 3,
        "start_time": "2024-11-14T11:17:50.878Z"
      },
      {
        "duration": 4,
        "start_time": "2024-11-14T11:17:51.278Z"
      },
      {
        "duration": 5,
        "start_time": "2024-11-14T11:17:51.653Z"
      },
      {
        "duration": 4,
        "start_time": "2024-11-14T11:17:53.326Z"
      },
      {
        "duration": 3,
        "start_time": "2024-11-14T11:17:53.630Z"
      },
      {
        "duration": 4,
        "start_time": "2024-11-14T11:17:53.909Z"
      },
      {
        "duration": 4,
        "start_time": "2024-11-14T11:17:54.173Z"
      },
      {
        "duration": 3,
        "start_time": "2024-11-14T11:17:54.502Z"
      },
      {
        "duration": 4,
        "start_time": "2024-11-14T11:17:54.950Z"
      },
      {
        "duration": 3806,
        "start_time": "2024-11-14T11:17:56.006Z"
      },
      {
        "duration": 2,
        "start_time": "2024-11-14T11:19:08.383Z"
      },
      {
        "duration": 882,
        "start_time": "2024-11-14T11:19:11.647Z"
      },
      {
        "duration": 1057,
        "start_time": "2024-11-14T11:19:31.719Z"
      },
      {
        "duration": 4,
        "start_time": "2024-11-14T11:21:34.762Z"
      },
      {
        "duration": 4,
        "start_time": "2024-11-14T11:21:50.591Z"
      },
      {
        "duration": 4,
        "start_time": "2024-11-14T11:21:51.472Z"
      },
      {
        "duration": 13,
        "start_time": "2024-11-14T11:22:13.585Z"
      },
      {
        "duration": 7,
        "start_time": "2024-11-14T11:22:48.984Z"
      },
      {
        "duration": 10,
        "start_time": "2024-11-14T11:22:51.473Z"
      },
      {
        "duration": 3,
        "start_time": "2024-11-14T11:22:54.440Z"
      },
      {
        "duration": 2,
        "start_time": "2024-11-14T11:22:55.265Z"
      },
      {
        "duration": 3,
        "start_time": "2024-11-14T11:22:58.392Z"
      },
      {
        "duration": 3,
        "start_time": "2024-11-14T11:23:02.081Z"
      },
      {
        "duration": 9,
        "start_time": "2024-11-14T11:23:02.985Z"
      },
      {
        "duration": 9,
        "start_time": "2024-11-14T11:23:08.858Z"
      },
      {
        "duration": 3,
        "start_time": "2024-11-14T11:23:09.353Z"
      },
      {
        "duration": 4,
        "start_time": "2024-11-14T11:23:09.832Z"
      },
      {
        "duration": 10,
        "start_time": "2024-11-14T11:23:10.281Z"
      },
      {
        "duration": 4,
        "start_time": "2024-11-14T11:23:10.721Z"
      },
      {
        "duration": 4,
        "start_time": "2024-11-14T11:23:11.202Z"
      },
      {
        "duration": 5,
        "start_time": "2024-11-14T11:23:15.116Z"
      },
      {
        "duration": 5,
        "start_time": "2024-11-14T11:23:21.481Z"
      },
      {
        "duration": 4,
        "start_time": "2024-11-14T11:24:55.955Z"
      },
      {
        "duration": 3,
        "start_time": "2024-11-14T11:25:12.098Z"
      },
      {
        "duration": 7926,
        "start_time": "2024-11-14T11:25:35.595Z"
      },
      {
        "duration": 10,
        "start_time": "2024-11-14T11:27:43.261Z"
      },
      {
        "duration": 4,
        "start_time": "2024-11-14T11:27:44.899Z"
      },
      {
        "duration": 4,
        "start_time": "2024-11-14T11:27:47.413Z"
      },
      {
        "duration": 4,
        "start_time": "2024-11-14T11:27:48.484Z"
      },
      {
        "duration": 4,
        "start_time": "2024-11-14T11:27:49.980Z"
      },
      {
        "duration": 4,
        "start_time": "2024-11-14T11:27:53.324Z"
      },
      {
        "duration": 3,
        "start_time": "2024-11-14T11:27:54.372Z"
      },
      {
        "duration": 4,
        "start_time": "2024-11-14T11:27:55.500Z"
      },
      {
        "duration": 4,
        "start_time": "2024-11-14T11:27:57.324Z"
      },
      {
        "duration": 14,
        "start_time": "2024-11-14T11:27:58.148Z"
      },
      {
        "duration": 14,
        "start_time": "2024-11-14T11:28:07.260Z"
      },
      {
        "duration": 16,
        "start_time": "2024-11-14T11:28:11.869Z"
      },
      {
        "duration": 4,
        "start_time": "2024-11-14T11:28:19.029Z"
      },
      {
        "duration": 250,
        "start_time": "2024-11-14T11:28:42.891Z"
      },
      {
        "duration": 249,
        "start_time": "2024-11-14T11:28:54.651Z"
      },
      {
        "duration": 13995,
        "start_time": "2024-11-14T11:31:48.549Z"
      },
      {
        "duration": 5,
        "start_time": "2024-11-14T11:33:45.781Z"
      },
      {
        "duration": 4,
        "start_time": "2024-11-14T11:33:46.269Z"
      },
      {
        "duration": 6,
        "start_time": "2024-11-14T11:33:48.733Z"
      },
      {
        "duration": 8155,
        "start_time": "2024-11-14T11:35:04.999Z"
      },
      {
        "duration": 8237,
        "start_time": "2024-11-14T11:35:48.889Z"
      },
      {
        "duration": 2819,
        "start_time": "2024-11-14T11:35:57.130Z"
      },
      {
        "duration": 8,
        "start_time": "2024-11-14T11:35:59.951Z"
      },
      {
        "duration": 22,
        "start_time": "2024-11-14T11:35:59.961Z"
      },
      {
        "duration": 35,
        "start_time": "2024-11-14T11:35:59.985Z"
      },
      {
        "duration": 16,
        "start_time": "2024-11-14T11:36:00.021Z"
      },
      {
        "duration": 39,
        "start_time": "2024-11-14T11:36:00.039Z"
      },
      {
        "duration": 31,
        "start_time": "2024-11-14T11:36:00.080Z"
      },
      {
        "duration": 54,
        "start_time": "2024-11-14T11:36:00.112Z"
      },
      {
        "duration": 46,
        "start_time": "2024-11-14T11:36:00.169Z"
      },
      {
        "duration": 29,
        "start_time": "2024-11-14T11:36:00.216Z"
      },
      {
        "duration": 28,
        "start_time": "2024-11-14T11:36:00.247Z"
      },
      {
        "duration": 3882,
        "start_time": "2024-11-14T11:36:00.277Z"
      },
      {
        "duration": 5,
        "start_time": "2024-11-14T11:36:04.162Z"
      },
      {
        "duration": 57,
        "start_time": "2024-11-14T11:36:04.169Z"
      },
      {
        "duration": 27,
        "start_time": "2024-11-14T11:36:04.228Z"
      },
      {
        "duration": 39,
        "start_time": "2024-11-14T11:36:04.256Z"
      },
      {
        "duration": 28,
        "start_time": "2024-11-14T11:36:04.297Z"
      },
      {
        "duration": 28,
        "start_time": "2024-11-14T11:36:04.327Z"
      },
      {
        "duration": 35,
        "start_time": "2024-11-14T11:36:04.358Z"
      },
      {
        "duration": 27,
        "start_time": "2024-11-14T11:36:04.395Z"
      },
      {
        "duration": 10,
        "start_time": "2024-11-14T11:36:04.424Z"
      },
      {
        "duration": 23,
        "start_time": "2024-11-14T11:36:04.436Z"
      },
      {
        "duration": 3887,
        "start_time": "2024-11-14T11:36:04.460Z"
      },
      {
        "duration": 3,
        "start_time": "2024-11-14T11:36:08.349Z"
      },
      {
        "duration": 1004,
        "start_time": "2024-11-14T11:36:08.354Z"
      },
      {
        "duration": 4,
        "start_time": "2024-11-14T11:36:09.360Z"
      },
      {
        "duration": 85,
        "start_time": "2024-11-14T11:36:09.368Z"
      },
      {
        "duration": 18,
        "start_time": "2024-11-14T11:36:09.455Z"
      },
      {
        "duration": 26,
        "start_time": "2024-11-14T11:36:09.477Z"
      },
      {
        "duration": 56,
        "start_time": "2024-11-14T11:36:09.505Z"
      },
      {
        "duration": 10,
        "start_time": "2024-11-14T11:36:09.563Z"
      },
      {
        "duration": 16,
        "start_time": "2024-11-14T11:36:09.574Z"
      },
      {
        "duration": 19,
        "start_time": "2024-11-14T11:36:09.591Z"
      },
      {
        "duration": 10,
        "start_time": "2024-11-14T11:36:09.612Z"
      },
      {
        "duration": 19,
        "start_time": "2024-11-14T11:36:09.624Z"
      },
      {
        "duration": 39,
        "start_time": "2024-11-14T11:36:09.645Z"
      },
      {
        "duration": 23,
        "start_time": "2024-11-14T11:36:09.686Z"
      },
      {
        "duration": 15,
        "start_time": "2024-11-14T11:36:09.710Z"
      },
      {
        "duration": 25,
        "start_time": "2024-11-14T11:36:09.727Z"
      },
      {
        "duration": 9,
        "start_time": "2024-11-14T11:36:09.754Z"
      },
      {
        "duration": 9,
        "start_time": "2024-11-14T11:36:09.764Z"
      },
      {
        "duration": 10,
        "start_time": "2024-11-14T11:36:09.774Z"
      },
      {
        "duration": 5,
        "start_time": "2024-11-14T11:36:09.786Z"
      },
      {
        "duration": 47,
        "start_time": "2024-11-14T11:36:09.792Z"
      },
      {
        "duration": 8387,
        "start_time": "2024-11-14T11:36:09.840Z"
      },
      {
        "duration": 10,
        "start_time": "2024-11-14T11:36:18.229Z"
      },
      {
        "duration": 12,
        "start_time": "2024-11-14T11:36:18.241Z"
      },
      {
        "duration": 4,
        "start_time": "2024-11-14T11:36:18.255Z"
      },
      {
        "duration": 6,
        "start_time": "2024-11-14T11:36:18.261Z"
      },
      {
        "duration": 52,
        "start_time": "2024-11-14T11:36:18.269Z"
      },
      {
        "duration": 16,
        "start_time": "2024-11-14T11:36:18.323Z"
      },
      {
        "duration": 6,
        "start_time": "2024-11-14T11:36:18.342Z"
      },
      {
        "duration": 18,
        "start_time": "2024-11-14T11:36:18.350Z"
      },
      {
        "duration": 9,
        "start_time": "2024-11-14T11:36:18.370Z"
      },
      {
        "duration": 37,
        "start_time": "2024-11-14T11:36:18.381Z"
      },
      {
        "duration": 251,
        "start_time": "2024-11-14T11:36:18.420Z"
      },
      {
        "duration": 13016,
        "start_time": "2024-11-14T11:36:18.673Z"
      },
      {
        "duration": 4,
        "start_time": "2024-11-14T11:36:31.690Z"
      },
      {
        "duration": 24,
        "start_time": "2024-11-14T11:36:31.696Z"
      },
      {
        "duration": 17,
        "start_time": "2024-11-14T11:36:31.722Z"
      },
      {
        "duration": 14950,
        "start_time": "2024-11-14T16:13:59.225Z"
      },
      {
        "duration": 2892,
        "start_time": "2024-11-14T16:14:14.177Z"
      },
      {
        "duration": 7,
        "start_time": "2024-11-14T16:14:17.070Z"
      },
      {
        "duration": 13,
        "start_time": "2024-11-14T16:14:17.079Z"
      },
      {
        "duration": 91,
        "start_time": "2024-11-14T16:14:17.094Z"
      },
      {
        "duration": 17,
        "start_time": "2024-11-14T16:14:17.187Z"
      },
      {
        "duration": 30,
        "start_time": "2024-11-14T16:14:17.206Z"
      },
      {
        "duration": 6,
        "start_time": "2024-11-14T16:14:17.238Z"
      },
      {
        "duration": 8,
        "start_time": "2024-11-14T16:14:17.246Z"
      },
      {
        "duration": 11,
        "start_time": "2024-11-14T16:14:17.256Z"
      },
      {
        "duration": 4,
        "start_time": "2024-11-14T16:14:17.269Z"
      },
      {
        "duration": 17,
        "start_time": "2024-11-14T16:14:17.275Z"
      },
      {
        "duration": 3710,
        "start_time": "2024-11-14T16:14:17.294Z"
      },
      {
        "duration": 4,
        "start_time": "2024-11-14T16:14:21.008Z"
      },
      {
        "duration": 18,
        "start_time": "2024-11-14T16:14:21.014Z"
      },
      {
        "duration": 5,
        "start_time": "2024-11-14T16:14:21.034Z"
      },
      {
        "duration": 12,
        "start_time": "2024-11-14T16:14:21.040Z"
      },
      {
        "duration": 6,
        "start_time": "2024-11-14T16:14:21.054Z"
      },
      {
        "duration": 17,
        "start_time": "2024-11-14T16:14:21.061Z"
      },
      {
        "duration": 27,
        "start_time": "2024-11-14T16:14:21.080Z"
      },
      {
        "duration": 13,
        "start_time": "2024-11-14T16:14:21.109Z"
      },
      {
        "duration": 5,
        "start_time": "2024-11-14T16:14:21.124Z"
      },
      {
        "duration": 13,
        "start_time": "2024-11-14T16:14:21.131Z"
      },
      {
        "duration": 3713,
        "start_time": "2024-11-14T16:14:21.146Z"
      },
      {
        "duration": 2,
        "start_time": "2024-11-14T16:14:24.861Z"
      },
      {
        "duration": 1121,
        "start_time": "2024-11-14T16:14:24.865Z"
      },
      {
        "duration": 3,
        "start_time": "2024-11-14T16:14:25.988Z"
      },
      {
        "duration": 10,
        "start_time": "2024-11-14T16:14:25.993Z"
      },
      {
        "duration": 31,
        "start_time": "2024-11-14T16:14:26.004Z"
      },
      {
        "duration": 7,
        "start_time": "2024-11-14T16:14:26.036Z"
      },
      {
        "duration": 13,
        "start_time": "2024-11-14T16:14:26.045Z"
      },
      {
        "duration": 3,
        "start_time": "2024-11-14T16:14:26.059Z"
      },
      {
        "duration": 10,
        "start_time": "2024-11-14T16:14:26.063Z"
      },
      {
        "duration": 5,
        "start_time": "2024-11-14T16:14:26.075Z"
      },
      {
        "duration": 109,
        "start_time": "2024-11-14T16:14:26.081Z"
      },
      {
        "duration": 20,
        "start_time": "2024-11-14T16:14:26.192Z"
      },
      {
        "duration": 11,
        "start_time": "2024-11-14T16:14:26.214Z"
      },
      {
        "duration": 3,
        "start_time": "2024-11-14T16:14:26.227Z"
      },
      {
        "duration": 23,
        "start_time": "2024-11-14T16:14:26.232Z"
      },
      {
        "duration": 13,
        "start_time": "2024-11-14T16:14:26.257Z"
      },
      {
        "duration": 4,
        "start_time": "2024-11-14T16:14:26.274Z"
      },
      {
        "duration": 8,
        "start_time": "2024-11-14T16:14:26.279Z"
      },
      {
        "duration": 4,
        "start_time": "2024-11-14T16:14:26.289Z"
      },
      {
        "duration": 7,
        "start_time": "2024-11-14T16:14:26.295Z"
      },
      {
        "duration": 3,
        "start_time": "2024-11-14T16:14:26.304Z"
      },
      {
        "duration": 7057,
        "start_time": "2024-11-14T16:14:26.308Z"
      },
      {
        "duration": 10,
        "start_time": "2024-11-14T16:14:33.367Z"
      },
      {
        "duration": 17,
        "start_time": "2024-11-14T16:14:33.378Z"
      },
      {
        "duration": 10,
        "start_time": "2024-11-14T16:14:33.396Z"
      },
      {
        "duration": 44,
        "start_time": "2024-11-14T16:14:33.408Z"
      },
      {
        "duration": 4,
        "start_time": "2024-11-14T16:14:33.454Z"
      },
      {
        "duration": 85,
        "start_time": "2024-11-14T16:14:33.460Z"
      },
      {
        "duration": 8,
        "start_time": "2024-11-14T16:14:33.547Z"
      },
      {
        "duration": 14,
        "start_time": "2024-11-14T16:14:33.556Z"
      },
      {
        "duration": 18,
        "start_time": "2024-11-14T16:14:33.571Z"
      },
      {
        "duration": 46,
        "start_time": "2024-11-14T16:14:33.591Z"
      },
      {
        "duration": 255,
        "start_time": "2024-11-14T16:14:33.639Z"
      },
      {
        "duration": 13695,
        "start_time": "2024-11-14T16:14:33.897Z"
      },
      {
        "duration": 4,
        "start_time": "2024-11-14T16:14:47.593Z"
      },
      {
        "duration": 6,
        "start_time": "2024-11-14T16:14:47.599Z"
      },
      {
        "duration": 7,
        "start_time": "2024-11-14T16:14:47.607Z"
      },
      {
        "duration": 5,
        "start_time": "2024-11-14T16:15:32.102Z"
      },
      {
        "duration": 4,
        "start_time": "2024-11-14T16:15:32.681Z"
      },
      {
        "duration": 7649,
        "start_time": "2024-11-14T16:15:34.604Z"
      },
      {
        "duration": 9,
        "start_time": "2024-11-14T16:16:05.412Z"
      },
      {
        "duration": 3,
        "start_time": "2024-11-14T16:16:06.006Z"
      },
      {
        "duration": 4,
        "start_time": "2024-11-14T16:16:07.471Z"
      },
      {
        "duration": 3,
        "start_time": "2024-11-14T16:16:07.916Z"
      },
      {
        "duration": 5,
        "start_time": "2024-11-14T16:16:08.387Z"
      },
      {
        "duration": 3,
        "start_time": "2024-11-14T16:16:09.982Z"
      },
      {
        "duration": 3,
        "start_time": "2024-11-14T16:16:10.425Z"
      },
      {
        "duration": 3,
        "start_time": "2024-11-14T16:16:10.808Z"
      },
      {
        "duration": 182,
        "start_time": "2024-11-14T16:16:12.020Z"
      },
      {
        "duration": 13,
        "start_time": "2024-11-14T16:16:12.400Z"
      },
      {
        "duration": 7900,
        "start_time": "2024-11-14T16:16:46.972Z"
      },
      {
        "duration": 5,
        "start_time": "2024-11-14T16:16:54.875Z"
      },
      {
        "duration": 51,
        "start_time": "2024-11-14T16:16:54.882Z"
      },
      {
        "duration": 5,
        "start_time": "2024-11-14T16:16:54.935Z"
      },
      {
        "duration": 33,
        "start_time": "2024-11-14T16:16:54.942Z"
      },
      {
        "duration": 12,
        "start_time": "2024-11-14T16:16:54.977Z"
      },
      {
        "duration": 22,
        "start_time": "2024-11-14T16:16:54.990Z"
      },
      {
        "duration": 10,
        "start_time": "2024-11-14T16:16:55.014Z"
      },
      {
        "duration": 21,
        "start_time": "2024-11-14T16:16:55.026Z"
      },
      {
        "duration": 27,
        "start_time": "2024-11-14T16:16:55.048Z"
      },
      {
        "duration": 15,
        "start_time": "2024-11-14T16:16:55.076Z"
      },
      {
        "duration": 18,
        "start_time": "2024-11-14T16:16:55.093Z"
      },
      {
        "duration": 3799,
        "start_time": "2024-11-14T16:16:55.112Z"
      },
      {
        "duration": 5,
        "start_time": "2024-11-14T16:16:58.914Z"
      },
      {
        "duration": 8,
        "start_time": "2024-11-14T16:16:58.921Z"
      },
      {
        "duration": 21,
        "start_time": "2024-11-14T16:16:58.931Z"
      },
      {
        "duration": 4,
        "start_time": "2024-11-14T16:16:58.954Z"
      },
      {
        "duration": 4,
        "start_time": "2024-11-14T16:16:58.959Z"
      },
      {
        "duration": 10,
        "start_time": "2024-11-14T16:16:58.964Z"
      },
      {
        "duration": 4,
        "start_time": "2024-11-14T16:16:58.976Z"
      },
      {
        "duration": 12,
        "start_time": "2024-11-14T16:16:58.981Z"
      },
      {
        "duration": 22,
        "start_time": "2024-11-14T16:16:58.995Z"
      },
      {
        "duration": 5,
        "start_time": "2024-11-14T16:16:59.018Z"
      },
      {
        "duration": 3690,
        "start_time": "2024-11-14T16:16:59.024Z"
      },
      {
        "duration": 3,
        "start_time": "2024-11-14T16:17:02.716Z"
      },
      {
        "duration": 850,
        "start_time": "2024-11-14T16:17:02.720Z"
      },
      {
        "duration": 3,
        "start_time": "2024-11-14T16:17:03.572Z"
      },
      {
        "duration": 7,
        "start_time": "2024-11-14T16:17:03.576Z"
      },
      {
        "duration": 33,
        "start_time": "2024-11-14T16:17:03.584Z"
      },
      {
        "duration": 16,
        "start_time": "2024-11-14T16:17:03.619Z"
      },
      {
        "duration": 9,
        "start_time": "2024-11-14T16:17:03.636Z"
      },
      {
        "duration": 13,
        "start_time": "2024-11-14T16:17:03.647Z"
      },
      {
        "duration": 25,
        "start_time": "2024-11-14T16:17:03.662Z"
      },
      {
        "duration": 108,
        "start_time": "2024-11-14T16:17:03.689Z"
      },
      {
        "duration": 20,
        "start_time": "2024-11-14T16:17:03.799Z"
      },
      {
        "duration": 23,
        "start_time": "2024-11-14T16:17:03.821Z"
      },
      {
        "duration": 26,
        "start_time": "2024-11-14T16:17:03.847Z"
      },
      {
        "duration": 18,
        "start_time": "2024-11-14T16:17:03.875Z"
      },
      {
        "duration": 30,
        "start_time": "2024-11-14T16:17:03.895Z"
      },
      {
        "duration": 67,
        "start_time": "2024-11-14T16:17:03.927Z"
      },
      {
        "duration": 10,
        "start_time": "2024-11-14T16:17:03.998Z"
      },
      {
        "duration": 10,
        "start_time": "2024-11-14T16:17:04.010Z"
      },
      {
        "duration": 24,
        "start_time": "2024-11-14T16:17:04.022Z"
      },
      {
        "duration": 12,
        "start_time": "2024-11-14T16:17:04.048Z"
      },
      {
        "duration": 12,
        "start_time": "2024-11-14T16:17:04.062Z"
      },
      {
        "duration": 7194,
        "start_time": "2024-11-14T16:17:04.076Z"
      },
      {
        "duration": 81,
        "start_time": "2024-11-14T16:17:11.271Z"
      },
      {
        "duration": 3,
        "start_time": "2024-11-14T16:17:11.354Z"
      },
      {
        "duration": 4,
        "start_time": "2024-11-14T16:17:11.359Z"
      },
      {
        "duration": 4,
        "start_time": "2024-11-14T16:17:11.364Z"
      },
      {
        "duration": 5,
        "start_time": "2024-11-14T16:17:11.369Z"
      },
      {
        "duration": 4,
        "start_time": "2024-11-14T16:17:11.375Z"
      },
      {
        "duration": 4,
        "start_time": "2024-11-14T16:17:11.380Z"
      },
      {
        "duration": 6,
        "start_time": "2024-11-14T16:17:11.385Z"
      },
      {
        "duration": 7,
        "start_time": "2024-11-14T16:17:11.393Z"
      },
      {
        "duration": 15,
        "start_time": "2024-11-14T16:17:11.401Z"
      },
      {
        "duration": 277,
        "start_time": "2024-11-14T16:17:11.417Z"
      },
      {
        "duration": 13377,
        "start_time": "2024-11-14T16:17:11.696Z"
      },
      {
        "duration": 13295,
        "start_time": "2024-11-14T16:18:15.782Z"
      },
      {
        "duration": 3714,
        "start_time": "2024-11-14T16:18:38.537Z"
      },
      {
        "duration": 55984,
        "start_time": "2024-11-14T16:18:49.502Z"
      },
      {
        "duration": 237425,
        "start_time": "2024-11-14T16:21:43.484Z"
      },
      {
        "duration": 11,
        "start_time": "2024-11-14T16:52:24.102Z"
      },
      {
        "duration": 3,
        "start_time": "2024-11-14T16:52:24.837Z"
      },
      {
        "duration": 2,
        "start_time": "2024-11-14T16:52:25.440Z"
      },
      {
        "duration": 3,
        "start_time": "2024-11-14T16:52:28.037Z"
      },
      {
        "duration": 2,
        "start_time": "2024-11-14T16:52:28.466Z"
      },
      {
        "duration": 9,
        "start_time": "2024-11-14T16:52:28.862Z"
      },
      {
        "duration": 3,
        "start_time": "2024-11-14T16:52:30.747Z"
      },
      {
        "duration": 4,
        "start_time": "2024-11-14T16:52:31.597Z"
      },
      {
        "duration": 9,
        "start_time": "2024-11-14T16:52:32.211Z"
      },
      {
        "duration": 4,
        "start_time": "2024-11-14T16:52:32.749Z"
      },
      {
        "duration": 5,
        "start_time": "2024-11-14T16:52:33.267Z"
      },
      {
        "duration": 4,
        "start_time": "2024-11-14T16:52:34.995Z"
      },
      {
        "duration": 5,
        "start_time": "2024-11-14T16:52:37.110Z"
      },
      {
        "duration": 6,
        "start_time": "2024-11-14T16:52:39.789Z"
      },
      {
        "duration": 4,
        "start_time": "2024-11-14T16:52:40.474Z"
      },
      {
        "duration": 7458,
        "start_time": "2024-11-14T16:52:42.306Z"
      },
      {
        "duration": 9,
        "start_time": "2024-11-14T16:52:54.577Z"
      },
      {
        "duration": 3,
        "start_time": "2024-11-14T16:52:56.756Z"
      },
      {
        "duration": 4,
        "start_time": "2024-11-14T16:52:57.145Z"
      },
      {
        "duration": 3,
        "start_time": "2024-11-14T16:52:57.530Z"
      },
      {
        "duration": 4,
        "start_time": "2024-11-14T16:52:57.927Z"
      },
      {
        "duration": 4,
        "start_time": "2024-11-14T16:52:59.719Z"
      },
      {
        "duration": 3,
        "start_time": "2024-11-14T16:53:00.124Z"
      },
      {
        "duration": 3,
        "start_time": "2024-11-14T16:53:00.534Z"
      },
      {
        "duration": 7860,
        "start_time": "2024-11-14T16:53:07.960Z"
      },
      {
        "duration": 6,
        "start_time": "2024-11-14T16:53:15.824Z"
      },
      {
        "duration": 51,
        "start_time": "2024-11-14T16:53:15.833Z"
      },
      {
        "duration": 8,
        "start_time": "2024-11-14T16:53:15.886Z"
      },
      {
        "duration": 31,
        "start_time": "2024-11-14T16:53:15.897Z"
      },
      {
        "duration": 11,
        "start_time": "2024-11-14T16:53:15.930Z"
      },
      {
        "duration": 17,
        "start_time": "2024-11-14T16:53:15.943Z"
      },
      {
        "duration": 3,
        "start_time": "2024-11-14T16:53:15.962Z"
      },
      {
        "duration": 3,
        "start_time": "2024-11-14T16:53:15.967Z"
      },
      {
        "duration": 12,
        "start_time": "2024-11-14T16:53:15.972Z"
      },
      {
        "duration": 5,
        "start_time": "2024-11-14T16:53:15.985Z"
      },
      {
        "duration": 6,
        "start_time": "2024-11-14T16:53:15.991Z"
      },
      {
        "duration": 3847,
        "start_time": "2024-11-14T16:53:15.999Z"
      },
      {
        "duration": 4,
        "start_time": "2024-11-14T16:53:19.853Z"
      },
      {
        "duration": 6,
        "start_time": "2024-11-14T16:53:19.859Z"
      },
      {
        "duration": 9,
        "start_time": "2024-11-14T16:53:19.867Z"
      },
      {
        "duration": 7,
        "start_time": "2024-11-14T16:53:19.878Z"
      },
      {
        "duration": 8,
        "start_time": "2024-11-14T16:53:19.887Z"
      },
      {
        "duration": 9,
        "start_time": "2024-11-14T16:53:19.896Z"
      },
      {
        "duration": 11,
        "start_time": "2024-11-14T16:53:19.906Z"
      },
      {
        "duration": 6,
        "start_time": "2024-11-14T16:53:19.918Z"
      },
      {
        "duration": 7,
        "start_time": "2024-11-14T16:53:19.925Z"
      },
      {
        "duration": 19,
        "start_time": "2024-11-14T16:53:19.933Z"
      },
      {
        "duration": 3707,
        "start_time": "2024-11-14T16:53:19.954Z"
      },
      {
        "duration": 3,
        "start_time": "2024-11-14T16:53:23.663Z"
      },
      {
        "duration": 889,
        "start_time": "2024-11-14T16:53:23.667Z"
      },
      {
        "duration": 3,
        "start_time": "2024-11-14T16:53:24.558Z"
      },
      {
        "duration": 11,
        "start_time": "2024-11-14T16:53:24.562Z"
      },
      {
        "duration": 34,
        "start_time": "2024-11-14T16:53:24.575Z"
      },
      {
        "duration": 46,
        "start_time": "2024-11-14T16:53:24.610Z"
      },
      {
        "duration": 9,
        "start_time": "2024-11-14T16:53:24.658Z"
      },
      {
        "duration": 5,
        "start_time": "2024-11-14T16:53:24.669Z"
      },
      {
        "duration": 4,
        "start_time": "2024-11-14T16:53:24.675Z"
      },
      {
        "duration": 5,
        "start_time": "2024-11-14T16:53:24.681Z"
      },
      {
        "duration": 15,
        "start_time": "2024-11-14T16:53:24.687Z"
      },
      {
        "duration": 13,
        "start_time": "2024-11-14T16:53:24.704Z"
      },
      {
        "duration": 6,
        "start_time": "2024-11-14T16:53:24.718Z"
      },
      {
        "duration": 9,
        "start_time": "2024-11-14T16:53:24.726Z"
      },
      {
        "duration": 16,
        "start_time": "2024-11-14T16:53:24.737Z"
      },
      {
        "duration": 6,
        "start_time": "2024-11-14T16:53:24.754Z"
      },
      {
        "duration": 4,
        "start_time": "2024-11-14T16:53:24.764Z"
      },
      {
        "duration": 4,
        "start_time": "2024-11-14T16:53:24.770Z"
      },
      {
        "duration": 4,
        "start_time": "2024-11-14T16:53:24.776Z"
      },
      {
        "duration": 5,
        "start_time": "2024-11-14T16:53:24.781Z"
      },
      {
        "duration": 18,
        "start_time": "2024-11-14T16:53:24.787Z"
      },
      {
        "duration": 7770,
        "start_time": "2024-11-14T16:53:24.807Z"
      },
      {
        "duration": 8,
        "start_time": "2024-11-14T16:53:32.651Z"
      },
      {
        "duration": 6,
        "start_time": "2024-11-14T16:53:32.661Z"
      },
      {
        "duration": 3,
        "start_time": "2024-11-14T16:53:32.669Z"
      },
      {
        "duration": 3,
        "start_time": "2024-11-14T16:53:32.674Z"
      },
      {
        "duration": 5,
        "start_time": "2024-11-14T16:53:32.678Z"
      },
      {
        "duration": 26,
        "start_time": "2024-11-14T16:53:32.685Z"
      },
      {
        "duration": 6,
        "start_time": "2024-11-14T16:53:32.713Z"
      },
      {
        "duration": 12,
        "start_time": "2024-11-14T16:53:32.720Z"
      },
      {
        "duration": 17,
        "start_time": "2024-11-14T16:53:32.733Z"
      },
      {
        "duration": 19,
        "start_time": "2024-11-14T16:53:38.495Z"
      },
      {
        "duration": 7922,
        "start_time": "2024-11-14T16:53:49.636Z"
      },
      {
        "duration": 6,
        "start_time": "2024-11-14T16:53:57.561Z"
      },
      {
        "duration": 9,
        "start_time": "2024-11-14T16:53:57.569Z"
      },
      {
        "duration": 6,
        "start_time": "2024-11-14T16:53:57.580Z"
      },
      {
        "duration": 47,
        "start_time": "2024-11-14T16:53:57.588Z"
      },
      {
        "duration": 11,
        "start_time": "2024-11-14T16:53:57.637Z"
      },
      {
        "duration": 29,
        "start_time": "2024-11-14T16:53:57.649Z"
      },
      {
        "duration": 11,
        "start_time": "2024-11-14T16:53:57.680Z"
      },
      {
        "duration": 6,
        "start_time": "2024-11-14T16:53:57.692Z"
      },
      {
        "duration": 11,
        "start_time": "2024-11-14T16:53:57.699Z"
      },
      {
        "duration": 4,
        "start_time": "2024-11-14T16:53:57.712Z"
      },
      {
        "duration": 8,
        "start_time": "2024-11-14T16:53:57.718Z"
      },
      {
        "duration": 3843,
        "start_time": "2024-11-14T16:53:57.727Z"
      },
      {
        "duration": 4,
        "start_time": "2024-11-14T16:54:01.573Z"
      },
      {
        "duration": 21,
        "start_time": "2024-11-14T16:54:01.579Z"
      },
      {
        "duration": 14,
        "start_time": "2024-11-14T16:54:01.601Z"
      },
      {
        "duration": 24,
        "start_time": "2024-11-14T16:54:01.616Z"
      },
      {
        "duration": 8,
        "start_time": "2024-11-14T16:54:01.642Z"
      },
      {
        "duration": 5,
        "start_time": "2024-11-14T16:54:01.651Z"
      },
      {
        "duration": 5,
        "start_time": "2024-11-14T16:54:01.658Z"
      },
      {
        "duration": 6,
        "start_time": "2024-11-14T16:54:01.664Z"
      },
      {
        "duration": 24,
        "start_time": "2024-11-14T16:54:01.672Z"
      },
      {
        "duration": 28,
        "start_time": "2024-11-14T16:54:01.698Z"
      },
      {
        "duration": 3581,
        "start_time": "2024-11-14T16:54:01.727Z"
      },
      {
        "duration": 3,
        "start_time": "2024-11-14T16:54:05.309Z"
      },
      {
        "duration": 1063,
        "start_time": "2024-11-14T16:54:05.314Z"
      },
      {
        "duration": 3,
        "start_time": "2024-11-14T16:54:06.378Z"
      },
      {
        "duration": 15,
        "start_time": "2024-11-14T16:54:06.382Z"
      },
      {
        "duration": 44,
        "start_time": "2024-11-14T16:54:06.399Z"
      },
      {
        "duration": 12,
        "start_time": "2024-11-14T16:54:06.445Z"
      },
      {
        "duration": 24,
        "start_time": "2024-11-14T16:54:06.459Z"
      },
      {
        "duration": 3,
        "start_time": "2024-11-14T16:54:06.485Z"
      },
      {
        "duration": 33,
        "start_time": "2024-11-14T16:54:06.490Z"
      },
      {
        "duration": 7,
        "start_time": "2024-11-14T16:54:06.525Z"
      },
      {
        "duration": 55,
        "start_time": "2024-11-14T16:54:06.534Z"
      },
      {
        "duration": 34,
        "start_time": "2024-11-14T16:54:06.591Z"
      },
      {
        "duration": 24,
        "start_time": "2024-11-14T16:54:06.626Z"
      },
      {
        "duration": 21,
        "start_time": "2024-11-14T16:54:06.651Z"
      },
      {
        "duration": 12,
        "start_time": "2024-11-14T16:54:06.674Z"
      },
      {
        "duration": 40,
        "start_time": "2024-11-14T16:54:06.688Z"
      },
      {
        "duration": 39,
        "start_time": "2024-11-14T16:54:06.732Z"
      },
      {
        "duration": 11,
        "start_time": "2024-11-14T16:54:06.773Z"
      },
      {
        "duration": 19,
        "start_time": "2024-11-14T16:54:06.785Z"
      },
      {
        "duration": 15,
        "start_time": "2024-11-14T16:54:06.806Z"
      },
      {
        "duration": 15,
        "start_time": "2024-11-14T16:54:06.823Z"
      },
      {
        "duration": 7327,
        "start_time": "2024-11-14T16:54:06.839Z"
      },
      {
        "duration": 8,
        "start_time": "2024-11-14T16:54:14.167Z"
      },
      {
        "duration": 8,
        "start_time": "2024-11-14T16:54:14.176Z"
      },
      {
        "duration": 5,
        "start_time": "2024-11-14T16:54:14.185Z"
      },
      {
        "duration": 4,
        "start_time": "2024-11-14T16:54:14.191Z"
      },
      {
        "duration": 56,
        "start_time": "2024-11-14T16:54:14.197Z"
      },
      {
        "duration": 87,
        "start_time": "2024-11-14T16:54:14.255Z"
      },
      {
        "duration": 18,
        "start_time": "2024-11-14T16:54:14.343Z"
      },
      {
        "duration": 13,
        "start_time": "2024-11-14T16:54:14.363Z"
      },
      {
        "duration": 18,
        "start_time": "2024-11-14T16:54:14.378Z"
      },
      {
        "duration": 16,
        "start_time": "2024-11-14T16:54:18.777Z"
      },
      {
        "duration": 231,
        "start_time": "2024-11-14T16:54:20.136Z"
      },
      {
        "duration": 20,
        "start_time": "2024-11-14T16:57:23.575Z"
      },
      {
        "duration": 339395,
        "start_time": "2024-11-14T16:58:05.225Z"
      },
      {
        "duration": 35,
        "start_time": "2024-11-14T17:08:11.646Z"
      },
      {
        "duration": 619947,
        "start_time": "2024-11-14T17:08:56.423Z"
      },
      {
        "duration": 423378,
        "start_time": "2024-11-14T17:19:27.892Z"
      },
      {
        "duration": 4,
        "start_time": "2024-11-14T17:39:39.479Z"
      },
      {
        "duration": 6,
        "start_time": "2024-11-14T17:39:40.466Z"
      },
      {
        "duration": 7,
        "start_time": "2024-11-14T17:39:41.236Z"
      },
      {
        "duration": 14886,
        "start_time": "2024-11-15T03:37:53.096Z"
      },
      {
        "duration": 2612,
        "start_time": "2024-11-15T03:38:07.985Z"
      },
      {
        "duration": 9,
        "start_time": "2024-11-15T03:38:10.598Z"
      },
      {
        "duration": 35,
        "start_time": "2024-11-15T03:38:10.608Z"
      },
      {
        "duration": 85,
        "start_time": "2024-11-15T03:38:10.645Z"
      },
      {
        "duration": 16,
        "start_time": "2024-11-15T03:38:10.732Z"
      },
      {
        "duration": 107,
        "start_time": "2024-11-15T03:38:10.751Z"
      },
      {
        "duration": 24,
        "start_time": "2024-11-15T03:38:10.860Z"
      },
      {
        "duration": 29,
        "start_time": "2024-11-15T03:38:10.885Z"
      },
      {
        "duration": 14,
        "start_time": "2024-11-15T03:38:10.916Z"
      },
      {
        "duration": 8,
        "start_time": "2024-11-15T03:38:10.931Z"
      },
      {
        "duration": 26,
        "start_time": "2024-11-15T03:38:10.940Z"
      },
      {
        "duration": 2993,
        "start_time": "2024-11-15T03:38:10.967Z"
      },
      {
        "duration": 4,
        "start_time": "2024-11-15T03:38:13.961Z"
      },
      {
        "duration": 48,
        "start_time": "2024-11-15T03:38:13.966Z"
      },
      {
        "duration": 21,
        "start_time": "2024-11-15T03:38:14.016Z"
      },
      {
        "duration": 17,
        "start_time": "2024-11-15T03:38:14.039Z"
      },
      {
        "duration": 10,
        "start_time": "2024-11-15T03:38:14.058Z"
      },
      {
        "duration": 23,
        "start_time": "2024-11-15T03:38:14.069Z"
      },
      {
        "duration": 13,
        "start_time": "2024-11-15T03:38:14.093Z"
      },
      {
        "duration": 5,
        "start_time": "2024-11-15T03:38:14.108Z"
      },
      {
        "duration": 4,
        "start_time": "2024-11-15T03:38:14.114Z"
      },
      {
        "duration": 22,
        "start_time": "2024-11-15T03:38:14.120Z"
      },
      {
        "duration": 3006,
        "start_time": "2024-11-15T03:38:14.144Z"
      },
      {
        "duration": 3,
        "start_time": "2024-11-15T03:38:17.151Z"
      },
      {
        "duration": 673,
        "start_time": "2024-11-15T03:38:17.155Z"
      },
      {
        "duration": 3,
        "start_time": "2024-11-15T03:38:17.829Z"
      },
      {
        "duration": 5,
        "start_time": "2024-11-15T03:38:17.836Z"
      },
      {
        "duration": 15,
        "start_time": "2024-11-15T03:38:17.843Z"
      },
      {
        "duration": 8,
        "start_time": "2024-11-15T03:38:17.859Z"
      },
      {
        "duration": 18,
        "start_time": "2024-11-15T03:38:17.869Z"
      },
      {
        "duration": 9,
        "start_time": "2024-11-15T03:38:17.888Z"
      },
      {
        "duration": 10,
        "start_time": "2024-11-15T03:38:17.898Z"
      },
      {
        "duration": 5,
        "start_time": "2024-11-15T03:38:17.909Z"
      },
      {
        "duration": 4,
        "start_time": "2024-11-15T03:38:17.915Z"
      },
      {
        "duration": 9,
        "start_time": "2024-11-15T03:38:17.921Z"
      },
      {
        "duration": 3,
        "start_time": "2024-11-15T03:38:17.932Z"
      },
      {
        "duration": 3,
        "start_time": "2024-11-15T03:38:17.936Z"
      },
      {
        "duration": 9,
        "start_time": "2024-11-15T03:38:17.941Z"
      },
      {
        "duration": 3,
        "start_time": "2024-11-15T03:38:17.952Z"
      },
      {
        "duration": 5,
        "start_time": "2024-11-15T03:38:17.957Z"
      },
      {
        "duration": 9,
        "start_time": "2024-11-15T03:38:17.963Z"
      },
      {
        "duration": 9,
        "start_time": "2024-11-15T03:38:17.974Z"
      },
      {
        "duration": 23,
        "start_time": "2024-11-15T03:38:17.985Z"
      },
      {
        "duration": 8,
        "start_time": "2024-11-15T03:38:18.009Z"
      },
      {
        "duration": 6204,
        "start_time": "2024-11-15T03:38:18.018Z"
      },
      {
        "duration": 84,
        "start_time": "2024-11-15T03:38:24.224Z"
      },
      {
        "duration": 10,
        "start_time": "2024-11-15T03:38:24.309Z"
      },
      {
        "duration": 18,
        "start_time": "2024-11-15T03:38:24.321Z"
      },
      {
        "duration": 4,
        "start_time": "2024-11-15T03:38:24.340Z"
      },
      {
        "duration": 12,
        "start_time": "2024-11-15T03:38:24.345Z"
      },
      {
        "duration": 19,
        "start_time": "2024-11-15T03:38:24.359Z"
      },
      {
        "duration": 15,
        "start_time": "2024-11-15T03:38:24.379Z"
      },
      {
        "duration": 11,
        "start_time": "2024-11-15T03:38:24.396Z"
      },
      {
        "duration": 7,
        "start_time": "2024-11-15T03:38:24.409Z"
      },
      {
        "duration": 15,
        "start_time": "2024-11-15T03:38:24.419Z"
      },
      {
        "duration": 188,
        "start_time": "2024-11-15T03:38:24.435Z"
      },
      {
        "duration": 322599,
        "start_time": "2024-11-15T03:38:24.625Z"
      },
      {
        "duration": 4,
        "start_time": "2024-11-15T03:43:47.226Z"
      },
      {
        "duration": 13961,
        "start_time": "2024-11-15T03:46:54.146Z"
      },
      {
        "duration": 13017,
        "start_time": "2024-11-15T03:52:59.395Z"
      },
      {
        "duration": 307470,
        "start_time": "2024-11-15T03:57:17.146Z"
      },
      {
        "duration": 8012,
        "start_time": "2024-11-15T04:05:20.762Z"
      },
      {
        "duration": 4,
        "start_time": "2024-11-15T04:05:28.777Z"
      },
      {
        "duration": 20,
        "start_time": "2024-11-15T04:05:28.783Z"
      },
      {
        "duration": 15,
        "start_time": "2024-11-15T04:05:28.804Z"
      },
      {
        "duration": 40,
        "start_time": "2024-11-15T04:05:28.821Z"
      },
      {
        "duration": 10,
        "start_time": "2024-11-15T04:05:28.863Z"
      },
      {
        "duration": 35,
        "start_time": "2024-11-15T04:05:28.874Z"
      },
      {
        "duration": 27,
        "start_time": "2024-11-15T04:05:28.911Z"
      },
      {
        "duration": 10,
        "start_time": "2024-11-15T04:05:28.940Z"
      },
      {
        "duration": 30,
        "start_time": "2024-11-15T04:05:28.951Z"
      },
      {
        "duration": 38,
        "start_time": "2024-11-15T04:05:28.982Z"
      },
      {
        "duration": 7,
        "start_time": "2024-11-15T04:05:29.022Z"
      },
      {
        "duration": 2983,
        "start_time": "2024-11-15T04:05:29.031Z"
      },
      {
        "duration": 3,
        "start_time": "2024-11-15T04:05:32.017Z"
      },
      {
        "duration": 18,
        "start_time": "2024-11-15T04:05:32.021Z"
      },
      {
        "duration": 34,
        "start_time": "2024-11-15T04:05:32.040Z"
      },
      {
        "duration": 18,
        "start_time": "2024-11-15T04:05:32.075Z"
      },
      {
        "duration": 19,
        "start_time": "2024-11-15T04:05:32.095Z"
      },
      {
        "duration": 5,
        "start_time": "2024-11-15T04:05:32.116Z"
      },
      {
        "duration": 18,
        "start_time": "2024-11-15T04:05:32.122Z"
      },
      {
        "duration": 10,
        "start_time": "2024-11-15T04:05:32.141Z"
      },
      {
        "duration": 5,
        "start_time": "2024-11-15T04:05:32.153Z"
      },
      {
        "duration": 30,
        "start_time": "2024-11-15T04:05:32.159Z"
      },
      {
        "duration": 2861,
        "start_time": "2024-11-15T04:05:32.191Z"
      },
      {
        "duration": 2,
        "start_time": "2024-11-15T04:05:35.054Z"
      },
      {
        "duration": 861,
        "start_time": "2024-11-15T04:05:35.058Z"
      },
      {
        "duration": 3,
        "start_time": "2024-11-15T04:05:35.921Z"
      },
      {
        "duration": 60,
        "start_time": "2024-11-15T04:05:35.925Z"
      },
      {
        "duration": 34,
        "start_time": "2024-11-15T04:05:35.986Z"
      },
      {
        "duration": 23,
        "start_time": "2024-11-15T04:05:36.022Z"
      },
      {
        "duration": 40,
        "start_time": "2024-11-15T04:05:36.047Z"
      },
      {
        "duration": 30,
        "start_time": "2024-11-15T04:05:36.088Z"
      },
      {
        "duration": 31,
        "start_time": "2024-11-15T04:05:36.119Z"
      },
      {
        "duration": 79,
        "start_time": "2024-11-15T04:05:36.152Z"
      },
      {
        "duration": 25,
        "start_time": "2024-11-15T04:05:36.232Z"
      },
      {
        "duration": 48,
        "start_time": "2024-11-15T04:05:36.259Z"
      },
      {
        "duration": 10,
        "start_time": "2024-11-15T04:05:36.308Z"
      },
      {
        "duration": 41,
        "start_time": "2024-11-15T04:05:36.320Z"
      },
      {
        "duration": 64,
        "start_time": "2024-11-15T04:05:36.363Z"
      },
      {
        "duration": 20,
        "start_time": "2024-11-15T04:05:36.428Z"
      },
      {
        "duration": 28,
        "start_time": "2024-11-15T04:05:36.452Z"
      },
      {
        "duration": 21,
        "start_time": "2024-11-15T04:05:36.481Z"
      },
      {
        "duration": 26,
        "start_time": "2024-11-15T04:05:36.503Z"
      },
      {
        "duration": 46,
        "start_time": "2024-11-15T04:05:36.531Z"
      },
      {
        "duration": 38,
        "start_time": "2024-11-15T04:05:36.579Z"
      },
      {
        "duration": 5599,
        "start_time": "2024-11-15T04:05:36.619Z"
      },
      {
        "duration": 7,
        "start_time": "2024-11-15T04:05:42.220Z"
      },
      {
        "duration": 12,
        "start_time": "2024-11-15T04:05:42.228Z"
      },
      {
        "duration": 9,
        "start_time": "2024-11-15T04:05:42.241Z"
      },
      {
        "duration": 57,
        "start_time": "2024-11-15T04:05:42.251Z"
      },
      {
        "duration": 18,
        "start_time": "2024-11-15T04:05:42.310Z"
      },
      {
        "duration": 40,
        "start_time": "2024-11-15T04:05:42.329Z"
      },
      {
        "duration": 25,
        "start_time": "2024-11-15T04:05:42.370Z"
      },
      {
        "duration": 39,
        "start_time": "2024-11-15T04:05:42.397Z"
      },
      {
        "duration": 21,
        "start_time": "2024-11-15T04:05:42.437Z"
      },
      {
        "duration": 31,
        "start_time": "2024-11-15T04:05:42.459Z"
      },
      {
        "duration": 204,
        "start_time": "2024-11-15T04:05:42.491Z"
      },
      {
        "duration": 303411,
        "start_time": "2024-11-15T04:05:42.696Z"
      },
      {
        "duration": 5,
        "start_time": "2024-11-15T04:11:08.587Z"
      },
      {
        "duration": 163,
        "start_time": "2024-11-15T04:11:46.796Z"
      },
      {
        "duration": 9,
        "start_time": "2024-11-15T04:11:55.588Z"
      },
      {
        "duration": 5,
        "start_time": "2024-11-15T04:12:19.324Z"
      },
      {
        "duration": 3,
        "start_time": "2024-11-15T04:13:34.666Z"
      },
      {
        "duration": 4,
        "start_time": "2024-11-15T04:13:41.790Z"
      },
      {
        "duration": 3,
        "start_time": "2024-11-15T04:13:51.206Z"
      },
      {
        "duration": 4,
        "start_time": "2024-11-15T04:13:52.375Z"
      },
      {
        "duration": 11,
        "start_time": "2024-11-15T04:14:07.702Z"
      },
      {
        "duration": 2,
        "start_time": "2024-11-15T04:14:21.786Z"
      },
      {
        "duration": 4,
        "start_time": "2024-11-15T04:14:22.487Z"
      },
      {
        "duration": 10,
        "start_time": "2024-11-15T04:17:26.237Z"
      },
      {
        "duration": 3,
        "start_time": "2024-11-15T04:17:54.099Z"
      },
      {
        "duration": 3,
        "start_time": "2024-11-15T04:18:16.930Z"
      },
      {
        "duration": 4,
        "start_time": "2024-11-15T04:18:22.919Z"
      },
      {
        "duration": 2,
        "start_time": "2024-11-15T04:18:49.257Z"
      },
      {
        "duration": 5,
        "start_time": "2024-11-15T04:18:55.261Z"
      },
      {
        "duration": 4,
        "start_time": "2024-11-15T04:19:18.549Z"
      },
      {
        "duration": 5,
        "start_time": "2024-11-15T04:19:21.682Z"
      },
      {
        "duration": 4,
        "start_time": "2024-11-15T04:19:34.964Z"
      },
      {
        "duration": 4,
        "start_time": "2024-11-15T04:20:15.069Z"
      },
      {
        "duration": 3,
        "start_time": "2024-11-15T04:20:53.025Z"
      },
      {
        "duration": 5,
        "start_time": "2024-11-15T04:20:58.592Z"
      },
      {
        "duration": 106,
        "start_time": "2024-11-15T04:22:44.466Z"
      },
      {
        "duration": 107,
        "start_time": "2024-11-15T04:23:12.846Z"
      },
      {
        "duration": 125,
        "start_time": "2024-11-15T04:25:54.819Z"
      },
      {
        "duration": 117,
        "start_time": "2024-11-15T04:26:04.308Z"
      },
      {
        "duration": 97,
        "start_time": "2024-11-15T04:26:22.668Z"
      },
      {
        "duration": 133,
        "start_time": "2024-11-15T04:26:33.029Z"
      },
      {
        "duration": 111,
        "start_time": "2024-11-15T04:27:38.146Z"
      },
      {
        "duration": 7876,
        "start_time": "2024-11-15T04:46:59.838Z"
      },
      {
        "duration": 2290,
        "start_time": "2024-11-15T04:47:07.717Z"
      },
      {
        "duration": 6,
        "start_time": "2024-11-15T04:47:10.009Z"
      },
      {
        "duration": 32,
        "start_time": "2024-11-15T04:47:10.016Z"
      },
      {
        "duration": 101,
        "start_time": "2024-11-15T04:47:10.049Z"
      },
      {
        "duration": 11,
        "start_time": "2024-11-15T04:47:10.152Z"
      },
      {
        "duration": 44,
        "start_time": "2024-11-15T04:47:10.165Z"
      },
      {
        "duration": 13,
        "start_time": "2024-11-15T04:47:10.210Z"
      },
      {
        "duration": 15,
        "start_time": "2024-11-15T04:47:10.224Z"
      },
      {
        "duration": 34,
        "start_time": "2024-11-15T04:47:10.241Z"
      },
      {
        "duration": 10,
        "start_time": "2024-11-15T04:47:10.276Z"
      },
      {
        "duration": 36,
        "start_time": "2024-11-15T04:47:10.288Z"
      },
      {
        "duration": 3024,
        "start_time": "2024-11-15T04:47:10.325Z"
      },
      {
        "duration": 4,
        "start_time": "2024-11-15T04:47:13.351Z"
      },
      {
        "duration": 10,
        "start_time": "2024-11-15T04:47:13.356Z"
      },
      {
        "duration": 29,
        "start_time": "2024-11-15T04:47:13.367Z"
      },
      {
        "duration": 13,
        "start_time": "2024-11-15T04:47:13.398Z"
      },
      {
        "duration": 10,
        "start_time": "2024-11-15T04:47:13.413Z"
      },
      {
        "duration": 20,
        "start_time": "2024-11-15T04:47:13.424Z"
      },
      {
        "duration": 8,
        "start_time": "2024-11-15T04:47:13.445Z"
      },
      {
        "duration": 15,
        "start_time": "2024-11-15T04:47:13.455Z"
      },
      {
        "duration": 23,
        "start_time": "2024-11-15T04:47:13.472Z"
      },
      {
        "duration": 33,
        "start_time": "2024-11-15T04:47:13.497Z"
      },
      {
        "duration": 3026,
        "start_time": "2024-11-15T04:47:13.531Z"
      },
      {
        "duration": 2,
        "start_time": "2024-11-15T04:47:16.559Z"
      },
      {
        "duration": 836,
        "start_time": "2024-11-15T04:47:16.563Z"
      },
      {
        "duration": 3,
        "start_time": "2024-11-15T04:47:17.406Z"
      },
      {
        "duration": 77,
        "start_time": "2024-11-15T04:47:17.412Z"
      },
      {
        "duration": 25,
        "start_time": "2024-11-15T04:47:17.491Z"
      },
      {
        "duration": 17,
        "start_time": "2024-11-15T04:47:17.518Z"
      },
      {
        "duration": 9,
        "start_time": "2024-11-15T04:47:17.536Z"
      },
      {
        "duration": 3,
        "start_time": "2024-11-15T04:47:17.546Z"
      },
      {
        "duration": 12,
        "start_time": "2024-11-15T04:47:17.550Z"
      },
      {
        "duration": 13,
        "start_time": "2024-11-15T04:47:17.563Z"
      },
      {
        "duration": 6,
        "start_time": "2024-11-15T04:47:17.578Z"
      },
      {
        "duration": 21,
        "start_time": "2024-11-15T04:47:17.585Z"
      },
      {
        "duration": 12,
        "start_time": "2024-11-15T04:47:17.607Z"
      },
      {
        "duration": 45,
        "start_time": "2024-11-15T04:47:17.621Z"
      },
      {
        "duration": 23,
        "start_time": "2024-11-15T04:47:17.667Z"
      },
      {
        "duration": 10,
        "start_time": "2024-11-15T04:47:17.691Z"
      },
      {
        "duration": 25,
        "start_time": "2024-11-15T04:47:17.702Z"
      },
      {
        "duration": 6,
        "start_time": "2024-11-15T04:47:17.728Z"
      },
      {
        "duration": 5,
        "start_time": "2024-11-15T04:47:17.735Z"
      },
      {
        "duration": 4,
        "start_time": "2024-11-15T04:47:17.741Z"
      },
      {
        "duration": 8,
        "start_time": "2024-11-15T04:47:17.746Z"
      },
      {
        "duration": 5569,
        "start_time": "2024-11-15T04:47:17.755Z"
      },
      {
        "duration": 7,
        "start_time": "2024-11-15T04:47:23.407Z"
      },
      {
        "duration": 24,
        "start_time": "2024-11-15T04:47:23.415Z"
      },
      {
        "duration": 49,
        "start_time": "2024-11-15T04:47:23.441Z"
      },
      {
        "duration": 12,
        "start_time": "2024-11-15T04:47:23.491Z"
      },
      {
        "duration": 9,
        "start_time": "2024-11-15T04:47:23.505Z"
      },
      {
        "duration": 18,
        "start_time": "2024-11-15T04:47:23.515Z"
      },
      {
        "duration": 24,
        "start_time": "2024-11-15T04:47:23.534Z"
      },
      {
        "duration": 19,
        "start_time": "2024-11-15T04:47:23.560Z"
      },
      {
        "duration": 23,
        "start_time": "2024-11-15T04:47:23.580Z"
      },
      {
        "duration": 45,
        "start_time": "2024-11-15T04:47:23.604Z"
      },
      {
        "duration": 238,
        "start_time": "2024-11-15T04:47:23.650Z"
      },
      {
        "duration": 301133,
        "start_time": "2024-11-15T04:47:23.889Z"
      },
      {
        "duration": 5,
        "start_time": "2024-11-15T04:52:25.025Z"
      },
      {
        "duration": 79,
        "start_time": "2024-11-15T04:52:25.031Z"
      },
      {
        "duration": 22,
        "start_time": "2024-11-15T04:52:25.112Z"
      },
      {
        "duration": 9,
        "start_time": "2024-11-15T04:52:25.135Z"
      },
      {
        "duration": 17,
        "start_time": "2024-11-15T04:52:25.145Z"
      },
      {
        "duration": 29,
        "start_time": "2024-11-15T04:52:25.163Z"
      },
      {
        "duration": 125,
        "start_time": "2024-11-15T04:52:25.194Z"
      },
      {
        "duration": 3,
        "start_time": "2024-11-15T04:55:27.446Z"
      },
      {
        "duration": 7539,
        "start_time": "2024-11-15T18:21:13.859Z"
      },
      {
        "duration": 4254,
        "start_time": "2024-11-15T18:21:21.400Z"
      },
      {
        "duration": 7,
        "start_time": "2024-11-15T18:21:25.656Z"
      },
      {
        "duration": 15,
        "start_time": "2024-11-15T18:21:25.665Z"
      },
      {
        "duration": 43,
        "start_time": "2024-11-15T18:21:25.682Z"
      },
      {
        "duration": 13,
        "start_time": "2024-11-15T18:21:25.727Z"
      },
      {
        "duration": 22,
        "start_time": "2024-11-15T18:21:25.741Z"
      },
      {
        "duration": 22,
        "start_time": "2024-11-15T18:21:25.765Z"
      },
      {
        "duration": 19,
        "start_time": "2024-11-15T18:21:25.788Z"
      },
      {
        "duration": 27,
        "start_time": "2024-11-15T18:21:25.810Z"
      },
      {
        "duration": 19,
        "start_time": "2024-11-15T18:21:25.838Z"
      },
      {
        "duration": 26,
        "start_time": "2024-11-15T18:21:25.859Z"
      },
      {
        "duration": 3471,
        "start_time": "2024-11-15T18:21:25.886Z"
      },
      {
        "duration": 5,
        "start_time": "2024-11-15T18:21:29.358Z"
      },
      {
        "duration": 9,
        "start_time": "2024-11-15T18:21:29.365Z"
      },
      {
        "duration": 5,
        "start_time": "2024-11-15T18:21:29.375Z"
      },
      {
        "duration": 4,
        "start_time": "2024-11-15T18:21:29.381Z"
      },
      {
        "duration": 4,
        "start_time": "2024-11-15T18:21:29.386Z"
      },
      {
        "duration": 6,
        "start_time": "2024-11-15T18:21:29.391Z"
      },
      {
        "duration": 23,
        "start_time": "2024-11-15T18:21:29.398Z"
      },
      {
        "duration": 4,
        "start_time": "2024-11-15T18:21:29.423Z"
      },
      {
        "duration": 4,
        "start_time": "2024-11-15T18:21:29.429Z"
      },
      {
        "duration": 5,
        "start_time": "2024-11-15T18:21:29.435Z"
      },
      {
        "duration": 3343,
        "start_time": "2024-11-15T18:21:29.442Z"
      },
      {
        "duration": 2,
        "start_time": "2024-11-15T18:21:32.787Z"
      },
      {
        "duration": 959,
        "start_time": "2024-11-15T18:21:32.790Z"
      },
      {
        "duration": 3,
        "start_time": "2024-11-15T18:21:33.750Z"
      },
      {
        "duration": 27,
        "start_time": "2024-11-15T18:21:33.757Z"
      },
      {
        "duration": 12,
        "start_time": "2024-11-15T18:21:33.785Z"
      },
      {
        "duration": 7,
        "start_time": "2024-11-15T18:21:33.799Z"
      },
      {
        "duration": 18,
        "start_time": "2024-11-15T18:21:33.808Z"
      },
      {
        "duration": 30,
        "start_time": "2024-11-15T18:21:33.828Z"
      },
      {
        "duration": 9,
        "start_time": "2024-11-15T18:21:33.860Z"
      },
      {
        "duration": 3,
        "start_time": "2024-11-15T18:21:33.871Z"
      },
      {
        "duration": 4,
        "start_time": "2024-11-15T18:21:33.876Z"
      },
      {
        "duration": 8,
        "start_time": "2024-11-15T18:21:33.881Z"
      },
      {
        "duration": 3,
        "start_time": "2024-11-15T18:21:33.891Z"
      },
      {
        "duration": 11,
        "start_time": "2024-11-15T18:21:33.895Z"
      },
      {
        "duration": 13,
        "start_time": "2024-11-15T18:21:33.908Z"
      },
      {
        "duration": 12,
        "start_time": "2024-11-15T18:21:33.922Z"
      },
      {
        "duration": 20,
        "start_time": "2024-11-15T18:21:33.935Z"
      },
      {
        "duration": 17,
        "start_time": "2024-11-15T18:21:33.956Z"
      },
      {
        "duration": 27,
        "start_time": "2024-11-15T18:21:33.975Z"
      },
      {
        "duration": 30,
        "start_time": "2024-11-15T18:21:34.004Z"
      },
      {
        "duration": 22,
        "start_time": "2024-11-15T18:21:34.036Z"
      },
      {
        "duration": 8575,
        "start_time": "2024-11-15T18:21:34.060Z"
      },
      {
        "duration": 7,
        "start_time": "2024-11-15T18:21:42.637Z"
      },
      {
        "duration": 10,
        "start_time": "2024-11-15T18:21:42.646Z"
      },
      {
        "duration": 4,
        "start_time": "2024-11-15T18:21:42.720Z"
      },
      {
        "duration": 6,
        "start_time": "2024-11-15T18:21:42.725Z"
      },
      {
        "duration": 4,
        "start_time": "2024-11-15T18:21:42.733Z"
      },
      {
        "duration": 3,
        "start_time": "2024-11-15T18:21:42.738Z"
      },
      {
        "duration": 6,
        "start_time": "2024-11-15T18:21:42.743Z"
      },
      {
        "duration": 8,
        "start_time": "2024-11-15T18:21:42.750Z"
      },
      {
        "duration": 20,
        "start_time": "2024-11-15T18:21:42.759Z"
      },
      {
        "duration": 19,
        "start_time": "2024-11-15T18:21:42.780Z"
      },
      {
        "duration": 225,
        "start_time": "2024-11-15T18:21:42.801Z"
      },
      {
        "duration": 379211,
        "start_time": "2024-11-15T18:21:43.027Z"
      },
      {
        "duration": 4,
        "start_time": "2024-11-15T18:28:02.240Z"
      },
      {
        "duration": 36,
        "start_time": "2024-11-15T18:28:02.245Z"
      },
      {
        "duration": 42,
        "start_time": "2024-11-15T18:28:02.282Z"
      },
      {
        "duration": 40,
        "start_time": "2024-11-15T18:28:02.326Z"
      },
      {
        "duration": 28,
        "start_time": "2024-11-15T18:28:02.367Z"
      },
      {
        "duration": 39,
        "start_time": "2024-11-15T18:28:02.397Z"
      },
      {
        "duration": 174,
        "start_time": "2024-11-15T18:28:02.438Z"
      },
      {
        "duration": 19778,
        "start_time": "2024-11-15T20:43:00.360Z"
      },
      {
        "duration": 6426,
        "start_time": "2024-11-15T20:43:20.140Z"
      },
      {
        "duration": 55,
        "start_time": "2024-11-15T20:43:26.567Z"
      },
      {
        "duration": 29,
        "start_time": "2024-11-15T20:43:26.624Z"
      },
      {
        "duration": 67,
        "start_time": "2024-11-15T20:43:26.654Z"
      },
      {
        "duration": 14,
        "start_time": "2024-11-15T20:43:26.723Z"
      },
      {
        "duration": 9,
        "start_time": "2024-11-15T20:43:26.738Z"
      },
      {
        "duration": 5,
        "start_time": "2024-11-15T20:43:26.748Z"
      },
      {
        "duration": 4,
        "start_time": "2024-11-15T20:43:26.754Z"
      },
      {
        "duration": 8,
        "start_time": "2024-11-15T20:43:26.820Z"
      },
      {
        "duration": 5,
        "start_time": "2024-11-15T20:43:26.829Z"
      },
      {
        "duration": 6,
        "start_time": "2024-11-15T20:43:26.836Z"
      },
      {
        "duration": 7621,
        "start_time": "2024-11-15T20:43:26.843Z"
      },
      {
        "duration": 5,
        "start_time": "2024-11-15T20:43:34.521Z"
      },
      {
        "duration": 18,
        "start_time": "2024-11-15T20:43:34.527Z"
      },
      {
        "duration": 18,
        "start_time": "2024-11-15T20:43:34.547Z"
      },
      {
        "duration": 54,
        "start_time": "2024-11-15T20:43:34.567Z"
      },
      {
        "duration": 35,
        "start_time": "2024-11-15T20:43:34.623Z"
      },
      {
        "duration": 9,
        "start_time": "2024-11-15T20:43:34.660Z"
      },
      {
        "duration": 51,
        "start_time": "2024-11-15T20:43:34.670Z"
      },
      {
        "duration": 10,
        "start_time": "2024-11-15T20:43:34.723Z"
      },
      {
        "duration": 16,
        "start_time": "2024-11-15T20:43:34.735Z"
      },
      {
        "duration": 6,
        "start_time": "2024-11-15T20:43:34.752Z"
      },
      {
        "duration": 7466,
        "start_time": "2024-11-15T20:43:34.760Z"
      },
      {
        "duration": 3,
        "start_time": "2024-11-15T20:43:42.228Z"
      },
      {
        "duration": 1194,
        "start_time": "2024-11-15T20:43:42.232Z"
      },
      {
        "duration": 3,
        "start_time": "2024-11-15T20:43:43.427Z"
      },
      {
        "duration": 5,
        "start_time": "2024-11-15T20:43:43.434Z"
      },
      {
        "duration": 9,
        "start_time": "2024-11-15T20:43:43.441Z"
      },
      {
        "duration": 74,
        "start_time": "2024-11-15T20:43:43.451Z"
      },
      {
        "duration": 7,
        "start_time": "2024-11-15T20:43:43.526Z"
      },
      {
        "duration": 11,
        "start_time": "2024-11-15T20:43:43.535Z"
      },
      {
        "duration": 4,
        "start_time": "2024-11-15T20:43:43.547Z"
      },
      {
        "duration": 4,
        "start_time": "2024-11-15T20:43:43.552Z"
      },
      {
        "duration": 3,
        "start_time": "2024-11-15T20:43:43.557Z"
      },
      {
        "duration": 67,
        "start_time": "2024-11-15T20:43:43.561Z"
      },
      {
        "duration": 13,
        "start_time": "2024-11-15T20:43:43.629Z"
      },
      {
        "duration": 3,
        "start_time": "2024-11-15T20:43:43.644Z"
      },
      {
        "duration": 7,
        "start_time": "2024-11-15T20:43:43.648Z"
      },
      {
        "duration": 6,
        "start_time": "2024-11-15T20:43:43.656Z"
      },
      {
        "duration": 9,
        "start_time": "2024-11-15T20:43:43.720Z"
      },
      {
        "duration": 4,
        "start_time": "2024-11-15T20:43:43.730Z"
      },
      {
        "duration": 3,
        "start_time": "2024-11-15T20:43:43.736Z"
      },
      {
        "duration": 3,
        "start_time": "2024-11-15T20:43:43.741Z"
      },
      {
        "duration": 4,
        "start_time": "2024-11-15T20:43:43.746Z"
      },
      {
        "duration": 8173,
        "start_time": "2024-11-15T20:43:43.751Z"
      },
      {
        "duration": 6,
        "start_time": "2024-11-15T20:43:51.926Z"
      },
      {
        "duration": 6,
        "start_time": "2024-11-15T20:43:51.934Z"
      },
      {
        "duration": 4,
        "start_time": "2024-11-15T20:43:51.941Z"
      },
      {
        "duration": 75,
        "start_time": "2024-11-15T20:43:51.946Z"
      },
      {
        "duration": 4,
        "start_time": "2024-11-15T20:43:52.023Z"
      },
      {
        "duration": 3,
        "start_time": "2024-11-15T20:43:52.028Z"
      },
      {
        "duration": 4,
        "start_time": "2024-11-15T20:43:52.032Z"
      },
      {
        "duration": 5,
        "start_time": "2024-11-15T20:43:52.037Z"
      },
      {
        "duration": 15,
        "start_time": "2024-11-15T20:43:52.043Z"
      },
      {
        "duration": 66,
        "start_time": "2024-11-15T20:43:52.060Z"
      },
      {
        "duration": 519,
        "start_time": "2024-11-15T20:43:52.127Z"
      },
      {
        "duration": 433983,
        "start_time": "2024-11-15T20:43:52.648Z"
      },
      {
        "duration": 3,
        "start_time": "2024-11-15T20:51:06.634Z"
      },
      {
        "duration": 102,
        "start_time": "2024-11-15T20:51:06.639Z"
      },
      {
        "duration": 20,
        "start_time": "2024-11-15T20:51:06.743Z"
      },
      {
        "duration": 11,
        "start_time": "2024-11-15T20:51:06.765Z"
      },
      {
        "duration": 43,
        "start_time": "2024-11-15T20:51:06.778Z"
      },
      {
        "duration": 23,
        "start_time": "2024-11-15T20:51:06.823Z"
      },
      {
        "duration": 489,
        "start_time": "2024-11-15T20:51:06.849Z"
      },
      {
        "duration": 10,
        "start_time": "2024-11-16T09:43:17.376Z"
      },
      {
        "duration": 41,
        "start_time": "2024-11-16T09:43:20.907Z"
      },
      {
        "duration": 13971,
        "start_time": "2024-11-16T09:43:26.927Z"
      },
      {
        "duration": 3535,
        "start_time": "2024-11-16T09:43:40.900Z"
      },
      {
        "duration": 95,
        "start_time": "2024-11-16T09:44:10.746Z"
      },
      {
        "duration": 6,
        "start_time": "2024-11-16T09:44:51.627Z"
      },
      {
        "duration": 6,
        "start_time": "2024-11-16T09:44:59.997Z"
      },
      {
        "duration": 5,
        "start_time": "2024-11-16T09:54:57.190Z"
      },
      {
        "duration": 3,
        "start_time": "2024-11-16T10:02:05.382Z"
      },
      {
        "duration": 5,
        "start_time": "2024-11-16T10:02:18.970Z"
      },
      {
        "duration": 3,
        "start_time": "2024-11-16T10:02:21.289Z"
      },
      {
        "duration": 32,
        "start_time": "2024-11-16T10:02:25.072Z"
      },
      {
        "duration": 12,
        "start_time": "2024-11-16T10:02:25.462Z"
      },
      {
        "duration": 11,
        "start_time": "2024-11-16T10:02:27.560Z"
      },
      {
        "duration": 3,
        "start_time": "2024-11-16T10:02:33.156Z"
      },
      {
        "duration": 3,
        "start_time": "2024-11-16T10:02:33.633Z"
      },
      {
        "duration": 10,
        "start_time": "2024-11-16T10:02:34.281Z"
      },
      {
        "duration": 5,
        "start_time": "2024-11-16T10:02:36.923Z"
      },
      {
        "duration": 6,
        "start_time": "2024-11-16T10:02:37.628Z"
      },
      {
        "duration": 4,
        "start_time": "2024-11-16T10:03:22.641Z"
      },
      {
        "duration": 130,
        "start_time": "2024-11-16T10:04:20.427Z"
      },
      {
        "duration": 8,
        "start_time": "2024-11-16T10:04:28.819Z"
      },
      {
        "duration": 3856,
        "start_time": "2024-11-16T10:04:33.730Z"
      },
      {
        "duration": 3347,
        "start_time": "2024-11-16T10:05:23.291Z"
      },
      {
        "duration": 203,
        "start_time": "2024-11-16T10:06:41.371Z"
      },
      {
        "duration": 192,
        "start_time": "2024-11-16T10:06:56.977Z"
      },
      {
        "duration": 216,
        "start_time": "2024-11-16T10:07:10.900Z"
      },
      {
        "duration": 133,
        "start_time": "2024-11-16T10:07:41.827Z"
      },
      {
        "duration": 193,
        "start_time": "2024-11-16T10:08:35.893Z"
      },
      {
        "duration": 189,
        "start_time": "2024-11-16T10:08:53.353Z"
      },
      {
        "duration": 190,
        "start_time": "2024-11-16T10:08:57.589Z"
      },
      {
        "duration": 112,
        "start_time": "2024-11-16T10:09:10.679Z"
      },
      {
        "duration": 202,
        "start_time": "2024-11-16T10:14:48.562Z"
      },
      {
        "duration": 9988,
        "start_time": "2024-11-16T11:57:46.853Z"
      },
      {
        "duration": 1414,
        "start_time": "2024-11-16T11:57:56.843Z"
      },
      {
        "duration": 0,
        "start_time": "2024-11-16T11:57:58.259Z"
      },
      {
        "duration": 0,
        "start_time": "2024-11-16T11:57:58.260Z"
      },
      {
        "duration": 0,
        "start_time": "2024-11-16T11:57:58.260Z"
      },
      {
        "duration": 0,
        "start_time": "2024-11-16T11:57:58.262Z"
      },
      {
        "duration": 72,
        "start_time": "2024-11-16T11:57:58.844Z"
      },
      {
        "duration": 12,
        "start_time": "2024-11-16T11:57:59.212Z"
      },
      {
        "duration": 10,
        "start_time": "2024-11-16T11:58:00.618Z"
      },
      {
        "duration": 2,
        "start_time": "2024-11-16T11:58:04.309Z"
      },
      {
        "duration": 3,
        "start_time": "2024-11-16T11:58:05.892Z"
      },
      {
        "duration": 10,
        "start_time": "2024-11-16T11:58:06.276Z"
      },
      {
        "duration": 4,
        "start_time": "2024-11-16T11:58:09.167Z"
      },
      {
        "duration": 5,
        "start_time": "2024-11-16T11:58:09.575Z"
      },
      {
        "duration": 4,
        "start_time": "2024-11-16T11:58:16.394Z"
      },
      {
        "duration": 5,
        "start_time": "2024-11-16T12:00:36.459Z"
      },
      {
        "duration": 8,
        "start_time": "2024-11-16T12:02:06.673Z"
      },
      {
        "duration": 3,
        "start_time": "2024-11-16T12:02:17.965Z"
      },
      {
        "duration": 3,
        "start_time": "2024-11-16T12:02:18.495Z"
      },
      {
        "duration": 239,
        "start_time": "2024-11-16T12:02:28.245Z"
      },
      {
        "duration": 3,
        "start_time": "2024-11-16T12:02:57.249Z"
      },
      {
        "duration": 3,
        "start_time": "2024-11-16T12:02:58.563Z"
      },
      {
        "duration": 4,
        "start_time": "2024-11-16T12:03:03.193Z"
      },
      {
        "duration": 8,
        "start_time": "2024-11-16T12:03:18.054Z"
      },
      {
        "duration": 7,
        "start_time": "2024-11-16T12:03:24.439Z"
      },
      {
        "duration": 8,
        "start_time": "2024-11-16T12:03:29.039Z"
      },
      {
        "duration": 2644,
        "start_time": "2024-11-16T12:03:38.135Z"
      },
      {
        "duration": 186,
        "start_time": "2024-11-16T12:03:44.372Z"
      },
      {
        "duration": 113,
        "start_time": "2024-11-16T12:03:52.305Z"
      },
      {
        "duration": 137,
        "start_time": "2024-11-16T12:08:08.286Z"
      },
      {
        "duration": 108,
        "start_time": "2024-11-16T12:08:17.436Z"
      },
      {
        "duration": 114,
        "start_time": "2024-11-16T12:08:26.821Z"
      },
      {
        "duration": 116,
        "start_time": "2024-11-16T12:08:55.019Z"
      },
      {
        "duration": 118,
        "start_time": "2024-11-16T12:09:28.866Z"
      },
      {
        "duration": 122,
        "start_time": "2024-11-16T12:09:43.646Z"
      },
      {
        "duration": 2,
        "start_time": "2024-11-16T12:11:55.328Z"
      },
      {
        "duration": 2,
        "start_time": "2024-11-16T12:12:16.952Z"
      },
      {
        "duration": 2,
        "start_time": "2024-11-16T12:12:53.685Z"
      },
      {
        "duration": 703,
        "start_time": "2024-11-16T12:12:55.074Z"
      },
      {
        "duration": 9,
        "start_time": "2024-11-16T12:14:12.162Z"
      },
      {
        "duration": 8,
        "start_time": "2024-11-16T12:14:20.885Z"
      },
      {
        "duration": 721,
        "start_time": "2024-11-16T12:14:30.550Z"
      },
      {
        "duration": 6,
        "start_time": "2024-11-16T12:14:42.265Z"
      },
      {
        "duration": 2,
        "start_time": "2024-11-16T12:14:48.528Z"
      },
      {
        "duration": 2,
        "start_time": "2024-11-16T12:14:49.016Z"
      },
      {
        "duration": 2,
        "start_time": "2024-11-16T12:14:50.874Z"
      },
      {
        "duration": 3,
        "start_time": "2024-11-16T12:14:51.335Z"
      },
      {
        "duration": 8,
        "start_time": "2024-11-16T12:14:52.888Z"
      },
      {
        "duration": 2,
        "start_time": "2024-11-16T12:14:53.239Z"
      },
      {
        "duration": 2,
        "start_time": "2024-11-16T12:14:53.564Z"
      },
      {
        "duration": 8,
        "start_time": "2024-11-16T12:14:53.886Z"
      },
      {
        "duration": 3,
        "start_time": "2024-11-16T12:14:54.216Z"
      },
      {
        "duration": 3,
        "start_time": "2024-11-16T12:14:54.523Z"
      },
      {
        "duration": 3,
        "start_time": "2024-11-16T12:14:54.872Z"
      },
      {
        "duration": 4,
        "start_time": "2024-11-16T12:14:57.372Z"
      },
      {
        "duration": 4,
        "start_time": "2024-11-16T12:15:01.098Z"
      },
      {
        "duration": 3,
        "start_time": "2024-11-16T12:15:02.836Z"
      },
      {
        "duration": 5393,
        "start_time": "2024-11-16T12:15:25.186Z"
      },
      {
        "duration": 3,
        "start_time": "2024-11-16T12:15:49.577Z"
      },
      {
        "duration": 3,
        "start_time": "2024-11-16T12:15:50.520Z"
      },
      {
        "duration": 5373,
        "start_time": "2024-11-16T12:15:51.296Z"
      },
      {
        "duration": 3,
        "start_time": "2024-11-16T12:16:05.286Z"
      },
      {
        "duration": 3,
        "start_time": "2024-11-16T12:16:05.690Z"
      },
      {
        "duration": 7834,
        "start_time": "2024-11-16T12:16:07.843Z"
      },
      {
        "duration": 4,
        "start_time": "2024-11-16T12:16:30.000Z"
      },
      {
        "duration": 3,
        "start_time": "2024-11-16T12:16:31.204Z"
      },
      {
        "duration": 13684,
        "start_time": "2024-11-16T12:16:31.973Z"
      },
      {
        "duration": 6,
        "start_time": "2024-11-16T12:16:55.032Z"
      },
      {
        "duration": 3,
        "start_time": "2024-11-16T12:16:55.630Z"
      },
      {
        "duration": 3,
        "start_time": "2024-11-16T12:16:56.163Z"
      },
      {
        "duration": 3,
        "start_time": "2024-11-16T12:16:56.596Z"
      },
      {
        "duration": 3,
        "start_time": "2024-11-16T12:16:57.063Z"
      },
      {
        "duration": 3,
        "start_time": "2024-11-16T12:16:59.224Z"
      },
      {
        "duration": 3,
        "start_time": "2024-11-16T12:16:59.704Z"
      },
      {
        "duration": 3,
        "start_time": "2024-11-16T12:17:00.197Z"
      },
      {
        "duration": 4,
        "start_time": "2024-11-16T12:17:01.132Z"
      },
      {
        "duration": 9,
        "start_time": "2024-11-16T12:17:02.500Z"
      },
      {
        "duration": 174,
        "start_time": "2024-11-16T12:17:03.920Z"
      },
      {
        "duration": 44,
        "start_time": "2024-11-16T12:17:16.350Z"
      },
      {
        "duration": 16,
        "start_time": "2024-11-16T12:17:23.194Z"
      },
      {
        "duration": 13,
        "start_time": "2024-11-16T12:17:57.079Z"
      },
      {
        "duration": 2702,
        "start_time": "2024-11-16T12:18:05.701Z"
      },
      {
        "duration": 2778,
        "start_time": "2024-11-16T12:18:16.708Z"
      },
      {
        "duration": 2827,
        "start_time": "2024-11-16T12:18:27.420Z"
      },
      {
        "duration": 2813,
        "start_time": "2024-11-16T12:18:44.535Z"
      },
      {
        "duration": 2791,
        "start_time": "2024-11-16T12:19:19.784Z"
      },
      {
        "duration": 13,
        "start_time": "2024-11-16T12:21:23.665Z"
      },
      {
        "duration": 249,
        "start_time": "2024-11-16T12:22:10.822Z"
      },
      {
        "duration": 382,
        "start_time": "2024-11-16T12:22:34.055Z"
      },
      {
        "duration": 274,
        "start_time": "2024-11-16T12:23:46.266Z"
      },
      {
        "duration": 113,
        "start_time": "2024-11-16T12:25:03.245Z"
      },
      {
        "duration": 12,
        "start_time": "2024-11-16T12:25:23.383Z"
      },
      {
        "duration": 9421,
        "start_time": "2024-11-16T12:26:38.908Z"
      },
      {
        "duration": 18,
        "start_time": "2024-11-16T12:27:30.896Z"
      },
      {
        "duration": 498,
        "start_time": "2024-11-16T12:28:27.368Z"
      },
      {
        "duration": 18,
        "start_time": "2024-11-16T12:28:47.939Z"
      },
      {
        "duration": 20,
        "start_time": "2024-11-16T12:28:57.882Z"
      },
      {
        "duration": 27,
        "start_time": "2024-11-16T12:29:22.529Z"
      },
      {
        "duration": 118,
        "start_time": "2024-11-16T12:29:41.714Z"
      },
      {
        "duration": 9563,
        "start_time": "2024-11-16T13:16:18.151Z"
      },
      {
        "duration": 9434,
        "start_time": "2024-11-16T13:16:33.838Z"
      },
      {
        "duration": 9789,
        "start_time": "2024-11-16T13:16:50.448Z"
      },
      {
        "duration": 9431,
        "start_time": "2024-11-16T13:17:07.157Z"
      },
      {
        "duration": 9798,
        "start_time": "2024-11-16T13:17:26.621Z"
      },
      {
        "duration": 9845,
        "start_time": "2024-11-16T13:18:02.522Z"
      },
      {
        "duration": 9993,
        "start_time": "2024-11-16T13:18:35.574Z"
      },
      {
        "duration": 9705,
        "start_time": "2024-11-16T13:19:10.871Z"
      },
      {
        "duration": 9596,
        "start_time": "2024-11-16T13:19:25.343Z"
      },
      {
        "duration": 9870,
        "start_time": "2024-11-16T13:33:36.316Z"
      },
      {
        "duration": 9940,
        "start_time": "2024-11-16T13:34:06.580Z"
      },
      {
        "duration": 10061,
        "start_time": "2024-11-16T13:34:27.922Z"
      },
      {
        "duration": 2,
        "start_time": "2024-11-16T13:36:14.838Z"
      },
      {
        "duration": 5,
        "start_time": "2024-11-16T13:36:36.895Z"
      },
      {
        "duration": 118,
        "start_time": "2024-11-16T13:38:01.944Z"
      },
      {
        "duration": 9618,
        "start_time": "2024-11-16T13:39:46.254Z"
      },
      {
        "duration": 3410,
        "start_time": "2024-11-16T13:40:26.473Z"
      },
      {
        "duration": 2915,
        "start_time": "2024-11-16T13:41:40.686Z"
      },
      {
        "duration": 2784,
        "start_time": "2024-11-16T13:42:08.186Z"
      },
      {
        "duration": 2839,
        "start_time": "2024-11-16T13:42:26.192Z"
      },
      {
        "duration": 2733,
        "start_time": "2024-11-16T13:42:33.732Z"
      },
      {
        "duration": 2971,
        "start_time": "2024-11-16T13:42:54.734Z"
      },
      {
        "duration": 1033,
        "start_time": "2024-11-16T13:44:02.382Z"
      },
      {
        "duration": 1440,
        "start_time": "2024-11-16T13:44:16.470Z"
      },
      {
        "duration": 5140,
        "start_time": "2024-11-16T13:45:19.693Z"
      },
      {
        "duration": 5,
        "start_time": "2024-11-16T13:45:24.835Z"
      },
      {
        "duration": 6,
        "start_time": "2024-11-16T13:45:24.841Z"
      },
      {
        "duration": 4,
        "start_time": "2024-11-16T13:45:24.849Z"
      },
      {
        "duration": 3,
        "start_time": "2024-11-16T13:45:24.854Z"
      },
      {
        "duration": 4,
        "start_time": "2024-11-16T13:45:24.859Z"
      },
      {
        "duration": 38,
        "start_time": "2024-11-16T13:45:24.864Z"
      },
      {
        "duration": 9,
        "start_time": "2024-11-16T13:45:24.903Z"
      },
      {
        "duration": 12,
        "start_time": "2024-11-16T13:45:24.913Z"
      },
      {
        "duration": 2,
        "start_time": "2024-11-16T13:45:24.928Z"
      },
      {
        "duration": 3,
        "start_time": "2024-11-16T13:45:24.931Z"
      },
      {
        "duration": 8,
        "start_time": "2024-11-16T13:45:24.935Z"
      },
      {
        "duration": 4,
        "start_time": "2024-11-16T13:45:24.945Z"
      },
      {
        "duration": 4,
        "start_time": "2024-11-16T13:45:24.950Z"
      },
      {
        "duration": 6,
        "start_time": "2024-11-16T13:45:24.956Z"
      },
      {
        "duration": 7,
        "start_time": "2024-11-16T13:45:24.963Z"
      },
      {
        "duration": 3,
        "start_time": "2024-11-16T13:45:24.972Z"
      },
      {
        "duration": 9,
        "start_time": "2024-11-16T13:45:24.976Z"
      },
      {
        "duration": 2807,
        "start_time": "2024-11-16T13:45:24.986Z"
      },
      {
        "duration": 134,
        "start_time": "2024-11-16T13:45:27.795Z"
      },
      {
        "duration": 3,
        "start_time": "2024-11-16T13:45:27.930Z"
      },
      {
        "duration": 6,
        "start_time": "2024-11-16T13:45:27.934Z"
      },
      {
        "duration": 16,
        "start_time": "2024-11-16T13:45:27.941Z"
      },
      {
        "duration": 731,
        "start_time": "2024-11-16T13:45:27.958Z"
      },
      {
        "duration": 2,
        "start_time": "2024-11-16T13:45:28.691Z"
      },
      {
        "duration": 49,
        "start_time": "2024-11-16T13:45:28.694Z"
      },
      {
        "duration": 4,
        "start_time": "2024-11-16T13:45:28.744Z"
      },
      {
        "duration": 6,
        "start_time": "2024-11-16T13:45:28.752Z"
      },
      {
        "duration": 3,
        "start_time": "2024-11-16T13:45:28.759Z"
      },
      {
        "duration": 4,
        "start_time": "2024-11-16T13:45:28.763Z"
      },
      {
        "duration": 3,
        "start_time": "2024-11-16T13:45:28.768Z"
      },
      {
        "duration": 4,
        "start_time": "2024-11-16T13:45:28.772Z"
      },
      {
        "duration": 16,
        "start_time": "2024-11-16T13:45:28.777Z"
      },
      {
        "duration": 2,
        "start_time": "2024-11-16T13:45:28.794Z"
      },
      {
        "duration": 4,
        "start_time": "2024-11-16T13:45:28.798Z"
      },
      {
        "duration": 8,
        "start_time": "2024-11-16T13:45:28.803Z"
      },
      {
        "duration": 3,
        "start_time": "2024-11-16T13:45:28.812Z"
      },
      {
        "duration": 4,
        "start_time": "2024-11-16T13:45:28.816Z"
      },
      {
        "duration": 27,
        "start_time": "2024-11-16T13:45:28.821Z"
      },
      {
        "duration": 5,
        "start_time": "2024-11-16T13:45:28.849Z"
      },
      {
        "duration": 7,
        "start_time": "2024-11-16T13:45:28.855Z"
      },
      {
        "duration": 6,
        "start_time": "2024-11-16T13:45:28.863Z"
      },
      {
        "duration": 13991,
        "start_time": "2024-11-16T13:45:28.870Z"
      },
      {
        "duration": 7,
        "start_time": "2024-11-16T13:45:42.863Z"
      },
      {
        "duration": 6,
        "start_time": "2024-11-16T13:45:42.871Z"
      },
      {
        "duration": 3,
        "start_time": "2024-11-16T13:45:42.878Z"
      },
      {
        "duration": 4,
        "start_time": "2024-11-16T13:45:42.883Z"
      },
      {
        "duration": 8,
        "start_time": "2024-11-16T13:45:42.888Z"
      },
      {
        "duration": 3,
        "start_time": "2024-11-16T13:45:42.897Z"
      },
      {
        "duration": 56,
        "start_time": "2024-11-16T13:45:42.901Z"
      },
      {
        "duration": 3,
        "start_time": "2024-11-16T13:45:42.958Z"
      },
      {
        "duration": 5,
        "start_time": "2024-11-16T13:45:42.962Z"
      },
      {
        "duration": 10,
        "start_time": "2024-11-16T13:45:42.968Z"
      },
      {
        "duration": 1200,
        "start_time": "2024-11-16T13:45:42.979Z"
      },
      {
        "duration": 319935,
        "start_time": "2024-11-16T13:46:49.038Z"
      },
      {
        "duration": 15,
        "start_time": "2024-11-16T13:55:42.211Z"
      },
      {
        "duration": 14,
        "start_time": "2024-11-16T13:56:09.483Z"
      },
      {
        "duration": 2075195,
        "start_time": "2024-11-16T13:57:35.588Z"
      },
      {
        "duration": 1772750,
        "start_time": "2024-11-16T14:32:15.826Z"
      },
      {
        "duration": 66,
        "start_time": "2024-11-16T15:39:18.877Z"
      },
      {
        "duration": 4,
        "start_time": "2024-11-16T15:40:04.486Z"
      },
      {
        "duration": 3,
        "start_time": "2024-11-16T15:40:53.265Z"
      },
      {
        "duration": 3,
        "start_time": "2024-11-16T15:40:53.957Z"
      },
      {
        "duration": 4,
        "start_time": "2024-11-16T15:40:54.787Z"
      },
      {
        "duration": 4,
        "start_time": "2024-11-16T15:40:55.405Z"
      },
      {
        "duration": 10,
        "start_time": "2024-11-16T15:40:56.332Z"
      },
      {
        "duration": 1765,
        "start_time": "2024-11-16T15:41:52.966Z"
      },
      {
        "duration": 3,
        "start_time": "2024-11-16T15:48:36.798Z"
      },
      {
        "duration": 118,
        "start_time": "2024-11-16T15:50:20.438Z"
      },
      {
        "duration": 5178,
        "start_time": "2024-11-16T15:59:12.120Z"
      },
      {
        "duration": 4,
        "start_time": "2024-11-16T15:59:17.301Z"
      },
      {
        "duration": 10,
        "start_time": "2024-11-16T15:59:17.307Z"
      },
      {
        "duration": 5,
        "start_time": "2024-11-16T15:59:17.318Z"
      },
      {
        "duration": 5,
        "start_time": "2024-11-16T15:59:17.325Z"
      },
      {
        "duration": 31,
        "start_time": "2024-11-16T15:59:17.331Z"
      },
      {
        "duration": 8,
        "start_time": "2024-11-16T15:59:17.364Z"
      },
      {
        "duration": 9,
        "start_time": "2024-11-16T15:59:17.374Z"
      },
      {
        "duration": 3,
        "start_time": "2024-11-16T15:59:17.384Z"
      },
      {
        "duration": 4,
        "start_time": "2024-11-16T15:59:17.388Z"
      },
      {
        "duration": 8,
        "start_time": "2024-11-16T15:59:17.393Z"
      },
      {
        "duration": 5,
        "start_time": "2024-11-16T15:59:17.402Z"
      },
      {
        "duration": 6,
        "start_time": "2024-11-16T15:59:17.408Z"
      },
      {
        "duration": 3,
        "start_time": "2024-11-16T15:59:17.416Z"
      },
      {
        "duration": 38,
        "start_time": "2024-11-16T15:59:17.420Z"
      },
      {
        "duration": 3,
        "start_time": "2024-11-16T15:59:17.459Z"
      },
      {
        "duration": 4,
        "start_time": "2024-11-16T15:59:17.463Z"
      },
      {
        "duration": 21,
        "start_time": "2024-11-16T15:59:17.468Z"
      },
      {
        "duration": 2844,
        "start_time": "2024-11-16T15:59:17.490Z"
      },
      {
        "duration": 131,
        "start_time": "2024-11-16T15:59:20.336Z"
      },
      {
        "duration": 3,
        "start_time": "2024-11-16T15:59:20.468Z"
      },
      {
        "duration": 11,
        "start_time": "2024-11-16T15:59:20.472Z"
      },
      {
        "duration": 18,
        "start_time": "2024-11-16T15:59:20.484Z"
      },
      {
        "duration": 678,
        "start_time": "2024-11-16T15:59:20.503Z"
      },
      {
        "duration": 2,
        "start_time": "2024-11-16T15:59:21.183Z"
      },
      {
        "duration": 40,
        "start_time": "2024-11-16T15:59:21.186Z"
      },
      {
        "duration": 26,
        "start_time": "2024-11-16T15:59:21.227Z"
      },
      {
        "duration": 2,
        "start_time": "2024-11-16T15:59:21.254Z"
      },
      {
        "duration": 3,
        "start_time": "2024-11-16T15:59:21.257Z"
      },
      {
        "duration": 2,
        "start_time": "2024-11-16T15:59:21.262Z"
      },
      {
        "duration": 2,
        "start_time": "2024-11-16T15:59:21.266Z"
      },
      {
        "duration": 6,
        "start_time": "2024-11-16T15:59:21.270Z"
      },
      {
        "duration": 2,
        "start_time": "2024-11-16T15:59:21.278Z"
      },
      {
        "duration": 3,
        "start_time": "2024-11-16T15:59:21.282Z"
      },
      {
        "duration": 9,
        "start_time": "2024-11-16T15:59:21.287Z"
      },
      {
        "duration": 3,
        "start_time": "2024-11-16T15:59:21.297Z"
      },
      {
        "duration": 4,
        "start_time": "2024-11-16T15:59:21.302Z"
      },
      {
        "duration": 4,
        "start_time": "2024-11-16T15:59:21.307Z"
      },
      {
        "duration": 44,
        "start_time": "2024-11-16T15:59:21.312Z"
      },
      {
        "duration": 3,
        "start_time": "2024-11-16T15:59:21.358Z"
      },
      {
        "duration": 2,
        "start_time": "2024-11-16T15:59:21.365Z"
      },
      {
        "duration": 14716,
        "start_time": "2024-11-16T15:59:21.368Z"
      },
      {
        "duration": 8,
        "start_time": "2024-11-16T15:59:36.158Z"
      },
      {
        "duration": 26,
        "start_time": "2024-11-16T15:59:36.168Z"
      },
      {
        "duration": 11,
        "start_time": "2024-11-16T15:59:36.196Z"
      },
      {
        "duration": 25,
        "start_time": "2024-11-16T15:59:36.209Z"
      },
      {
        "duration": 5,
        "start_time": "2024-11-16T15:59:36.235Z"
      },
      {
        "duration": 4,
        "start_time": "2024-11-16T15:59:36.241Z"
      },
      {
        "duration": 22,
        "start_time": "2024-11-16T15:59:36.246Z"
      },
      {
        "duration": 4,
        "start_time": "2024-11-16T15:59:36.269Z"
      },
      {
        "duration": 15,
        "start_time": "2024-11-16T15:59:36.274Z"
      },
      {
        "duration": 24,
        "start_time": "2024-11-16T15:59:36.291Z"
      },
      {
        "duration": 1454,
        "start_time": "2024-11-16T15:59:36.317Z"
      },
      {
        "duration": 15,
        "start_time": "2024-11-16T15:59:37.773Z"
      },
      {
        "duration": 1318382,
        "start_time": "2024-11-16T15:59:37.789Z"
      },
      {
        "duration": 5,
        "start_time": "2024-11-16T16:21:36.172Z"
      },
      {
        "duration": 21,
        "start_time": "2024-11-16T16:21:36.178Z"
      },
      {
        "duration": 2,
        "start_time": "2024-11-16T16:21:36.257Z"
      },
      {
        "duration": 10,
        "start_time": "2024-11-16T16:21:36.261Z"
      },
      {
        "duration": 4,
        "start_time": "2024-11-16T16:21:36.273Z"
      },
      {
        "duration": 32,
        "start_time": "2024-11-16T16:21:36.279Z"
      },
      {
        "duration": 1510,
        "start_time": "2024-11-16T16:21:36.313Z"
      },
      {
        "duration": 2,
        "start_time": "2024-11-16T16:21:37.824Z"
      },
      {
        "duration": 10,
        "start_time": "2024-11-16T16:36:08.005Z"
      },
      {
        "duration": 1290784,
        "start_time": "2024-11-16T16:36:19.375Z"
      },
      {
        "duration": 5674,
        "start_time": "2024-11-16T20:23:37.279Z"
      },
      {
        "duration": 4167,
        "start_time": "2024-11-16T20:23:42.956Z"
      },
      {
        "duration": 7,
        "start_time": "2024-11-16T20:23:47.125Z"
      },
      {
        "duration": 9,
        "start_time": "2024-11-16T20:23:47.134Z"
      },
      {
        "duration": 5,
        "start_time": "2024-11-16T20:23:47.146Z"
      },
      {
        "duration": 33,
        "start_time": "2024-11-16T20:23:47.154Z"
      },
      {
        "duration": 25,
        "start_time": "2024-11-16T20:23:47.190Z"
      },
      {
        "duration": 156,
        "start_time": "2024-11-16T20:23:47.218Z"
      },
      {
        "duration": 4,
        "start_time": "2024-11-16T20:23:47.377Z"
      },
      {
        "duration": 5,
        "start_time": "2024-11-16T20:23:47.387Z"
      },
      {
        "duration": 20,
        "start_time": "2024-11-16T20:23:47.394Z"
      },
      {
        "duration": 4,
        "start_time": "2024-11-16T20:23:47.417Z"
      },
      {
        "duration": 21,
        "start_time": "2024-11-16T20:23:47.423Z"
      },
      {
        "duration": 4,
        "start_time": "2024-11-16T20:23:47.446Z"
      },
      {
        "duration": 72,
        "start_time": "2024-11-16T20:23:47.451Z"
      },
      {
        "duration": 4,
        "start_time": "2024-11-16T20:23:47.524Z"
      },
      {
        "duration": 77,
        "start_time": "2024-11-16T20:23:47.530Z"
      },
      {
        "duration": 18,
        "start_time": "2024-11-16T20:23:47.609Z"
      },
      {
        "duration": 3601,
        "start_time": "2024-11-16T20:23:47.629Z"
      },
      {
        "duration": 180,
        "start_time": "2024-11-16T20:23:51.232Z"
      },
      {
        "duration": 3,
        "start_time": "2024-11-16T20:23:51.414Z"
      },
      {
        "duration": 3,
        "start_time": "2024-11-16T20:23:51.419Z"
      },
      {
        "duration": 4,
        "start_time": "2024-11-16T20:23:51.424Z"
      },
      {
        "duration": 773,
        "start_time": "2024-11-16T20:23:51.449Z"
      },
      {
        "duration": 2,
        "start_time": "2024-11-16T20:23:52.225Z"
      },
      {
        "duration": 5,
        "start_time": "2024-11-16T20:23:52.229Z"
      },
      {
        "duration": 15,
        "start_time": "2024-11-16T20:23:52.243Z"
      },
      {
        "duration": 17,
        "start_time": "2024-11-16T20:23:52.262Z"
      },
      {
        "duration": 12,
        "start_time": "2024-11-16T20:23:52.281Z"
      },
      {
        "duration": 9,
        "start_time": "2024-11-16T20:23:52.295Z"
      },
      {
        "duration": 3,
        "start_time": "2024-11-16T20:23:52.306Z"
      },
      {
        "duration": 7,
        "start_time": "2024-11-16T20:23:52.311Z"
      },
      {
        "duration": 8,
        "start_time": "2024-11-16T20:23:52.319Z"
      },
      {
        "duration": 30,
        "start_time": "2024-11-16T20:23:52.328Z"
      },
      {
        "duration": 9,
        "start_time": "2024-11-16T20:23:52.360Z"
      },
      {
        "duration": 10,
        "start_time": "2024-11-16T20:23:52.370Z"
      },
      {
        "duration": 5,
        "start_time": "2024-11-16T20:23:52.381Z"
      },
      {
        "duration": 4,
        "start_time": "2024-11-16T20:23:52.387Z"
      },
      {
        "duration": 4,
        "start_time": "2024-11-16T20:23:52.392Z"
      },
      {
        "duration": 4,
        "start_time": "2024-11-16T20:23:52.398Z"
      },
      {
        "duration": 3,
        "start_time": "2024-11-16T20:23:52.403Z"
      },
      {
        "duration": 25858,
        "start_time": "2024-11-16T20:23:52.407Z"
      },
      {
        "duration": 10,
        "start_time": "2024-11-16T20:24:18.267Z"
      },
      {
        "duration": 11,
        "start_time": "2024-11-16T20:24:18.279Z"
      },
      {
        "duration": 13,
        "start_time": "2024-11-16T20:24:18.344Z"
      },
      {
        "duration": 6,
        "start_time": "2024-11-16T20:24:18.359Z"
      },
      {
        "duration": 4,
        "start_time": "2024-11-16T20:24:18.367Z"
      },
      {
        "duration": 4,
        "start_time": "2024-11-16T20:24:18.372Z"
      },
      {
        "duration": 5,
        "start_time": "2024-11-16T20:24:18.377Z"
      },
      {
        "duration": 5,
        "start_time": "2024-11-16T20:24:18.383Z"
      },
      {
        "duration": 6,
        "start_time": "2024-11-16T20:24:18.390Z"
      },
      {
        "duration": 13,
        "start_time": "2024-11-16T20:24:18.398Z"
      },
      {
        "duration": 1720,
        "start_time": "2024-11-16T20:24:18.412Z"
      },
      {
        "duration": 23,
        "start_time": "2024-11-16T20:24:20.134Z"
      },
      {
        "duration": 4134391,
        "start_time": "2024-11-16T20:24:20.161Z"
      },
      {
        "duration": 7,
        "start_time": "2024-11-16T21:33:14.642Z"
      },
      {
        "duration": 94,
        "start_time": "2024-11-16T21:33:14.651Z"
      },
      {
        "duration": 5,
        "start_time": "2024-11-16T21:33:14.747Z"
      },
      {
        "duration": 93,
        "start_time": "2024-11-16T21:33:14.754Z"
      },
      {
        "duration": 6,
        "start_time": "2024-11-16T21:33:14.849Z"
      },
      {
        "duration": 17,
        "start_time": "2024-11-16T21:33:14.942Z"
      },
      {
        "duration": 1009,
        "start_time": "2024-11-16T21:33:15.043Z"
      },
      {
        "duration": 0,
        "start_time": "2024-11-16T21:33:16.054Z"
      },
      {
        "duration": 12001,
        "start_time": "2024-11-16T21:34:25.044Z"
      },
      {
        "duration": 4,
        "start_time": "2024-11-16T21:34:37.047Z"
      },
      {
        "duration": 97,
        "start_time": "2024-11-16T22:17:09.246Z"
      }
    ],
    "kernelspec": {
      "display_name": "Python 3 (ipykernel)",
      "language": "python",
      "name": "python3"
    },
    "language_info": {
      "codemirror_mode": {
        "name": "ipython",
        "version": 3
      },
      "file_extension": ".py",
      "mimetype": "text/x-python",
      "name": "python",
      "nbconvert_exporter": "python",
      "pygments_lexer": "ipython3",
      "version": "3.9.5"
    },
    "toc": {
      "base_numbering": 1,
      "nav_menu": {},
      "number_sections": false,
      "sideBar": true,
      "skip_h1_title": false,
      "title_cell": "Table of Contents",
      "title_sidebar": "Contents",
      "toc_cell": false,
      "toc_position": {},
      "toc_section_display": true,
      "toc_window_display": false
    },
    "varInspector": {
      "cols": {
        "lenName": 16,
        "lenType": 16,
        "lenVar": 40
      },
      "kernels_config": {
        "python": {
          "delete_cmd_postfix": "",
          "delete_cmd_prefix": "del ",
          "library": "var_list.py",
          "varRefreshCmd": "print(var_dic_list())"
        },
        "r": {
          "delete_cmd_postfix": ") ",
          "delete_cmd_prefix": "rm(",
          "library": "var_list.r",
          "varRefreshCmd": "cat(var_dic_list()) "
        }
      },
      "types_to_exclude": [
        "module",
        "function",
        "builtin_function_or_method",
        "instance",
        "_Feature"
      ],
      "window_display": false
    },
    "colab": {
      "provenance": []
    }
  },
  "nbformat": 4,
  "nbformat_minor": 5
}